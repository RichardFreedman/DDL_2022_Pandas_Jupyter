{
 "cells": [
  {
   "cell_type": "code",
   "execution_count": 117,
   "id": "e92fc251-3e8e-4727-b11b-48ffb4cace71",
   "metadata": {
    "tags": []
   },
   "outputs": [],
   "source": [
    "import pandas as pd\n",
    "import os\n",
    "import bs4 \n",
    "from bs4 import BeautifulSoup\n",
    "from lxml import etree # lxml is imported for xpath examples\n",
    "\n",
    "from pathlib import Path\n",
    "import requests\n",
    "import plotly.express as px\n",
    "import plotly.graph_objects as go\n",
    "from collections import Counter\n",
    "import math\n",
    "import numpy as np\n",
    "\n",
    "# Visualisation dependencies\n",
    "import matplotlib.pyplot as plt\n",
    "import textwrap\n",
    "import networkx as nx\n",
    "from pyvis.network import Network as net\n",
    "from copy import deepcopy\n",
    "from community import community_louvain\n",
    "\n",
    "import warnings\n",
    "warnings.filterwarnings('ignore')\n",
    "\n",
    "\n",
    "import warnings\n",
    "warnings.filterwarnings('ignore')\n",
    "\n",
    "import uuid\n",
    "import glob\n",
    "\n",
    "from datetime import datetime\n",
    "import chardet\n",
    "import random\n",
    "import re\n",
    "from itertools import combinations\n",
    "\n",
    "import subprocess"
   ]
  },
  {
   "cell_type": "code",
   "execution_count": 118,
   "id": "c524dea9-835b-4521-be4a-9fc17b79f72d",
   "metadata": {
    "tags": []
   },
   "outputs": [],
   "source": [
    "# define the url on git where the TEI is found\n",
    "url = 'https://raw.githubusercontent.com/RichardFreedman/DDL_2022_Pandas_Jupyter/refs/heads/main/Miller_DC_Texts_TEI_5_13.xml'"
   ]
  },
  {
   "cell_type": "code",
   "execution_count": 119,
   "id": "9b6a476d-fb54-48a6-b844-608ea52e7e40",
   "metadata": {
    "tags": []
   },
   "outputs": [],
   "source": [
    "# load the xml file\n",
    "response = requests.get(url)\n",
    "soup = BeautifulSoup(response.text, 'html.parser')"
   ]
  },
  {
   "cell_type": "code",
   "execution_count": 153,
   "id": "064264ac-6de0-4c32-9516-73efd05f2fcb",
   "metadata": {
    "tags": []
   },
   "outputs": [],
   "source": [
    "list_dicts = []\n",
    "\n",
    "# find each poem\n",
    "poems = soup.find_all('div', type=\"poem\")\n",
    "for poem in poems:\n",
    "    l = 0\n",
    "    s = 0\n",
    "    \n",
    "    # some poems have only one stanza, so there is no <lg> tag\n",
    "    if poem.find('lg') == False: \n",
    "        temp_dict = {}\n",
    "        lines = poem.find_all('l')\n",
    "        for line in lines:\n",
    "            l = l+1\n",
    "            temp_dict['dc_id'] = poem['xml:id']\n",
    "            temp_dict['rhyme_scheme'] = poem['rhyme']\n",
    "            temp_dict['meter'] = poem['met']\n",
    "            temp_dict['stanza_id'] = 1\n",
    "            temp_dict['line_id'] = l\n",
    "            temp_dict['verse'] = line.get_text().strip()\n",
    "            list_dicts.append(temp_dict)\n",
    "    \n",
    "    # others have two or more <lg> tags\n",
    "    else:\n",
    "        stanzas = poem.find_all('lg')\n",
    "        for stanza in stanzas:\n",
    "            s = s+1\n",
    "            lines = stanza.find_all('l')\n",
    "            for line in lines:\n",
    "                temp_dict = {}\n",
    "                l = l+1\n",
    "                temp_dict['dc_id'] = poem['xml:id']\n",
    "                temp_dict['rhyme_scheme'] = poem['rhyme']\n",
    "                temp_dict['meter'] = poem['met']\n",
    "                temp_dict['stanza_id'] = s\n",
    "                temp_dict['line_id'] = l\n",
    "                temp_dict['verse'] = line.get_text().strip()\n",
    "                list_dicts.append(temp_dict)\n",
    "\n",
    "                      \n",
    "    \n",
    "    \n",
    "    "
   ]
  },
  {
   "cell_type": "code",
   "execution_count": 165,
   "id": "573448c0-f888-4ca8-a5f9-4c999ea82f9f",
   "metadata": {
    "tags": []
   },
   "outputs": [
    {
     "data": {
      "text/plain": [
       "array(['ababbcbc', 'abbacddc', 'ababbccdcd', 'ababcdcdc', 'abab',\n",
       "       'ababccdcd', 'ababbaabba', 'abba', 'ababcdcd', 'aabaabbcbc',\n",
       "       'ababbccdccd', 'abbaba', 'abbaa', 'ababbcbcdecede', 'aabbccddee',\n",
       "       'ababa', 'abccbd', 'abbaabba', 'abcbdedefgfg', 'ababccdeed',\n",
       "       'ababcbcb', 'abcbdbefe', 'abcccdcabcccdcab', 'aabbcc',\n",
       "       'ababbccddede', 'ababbcc', 'ababbccd', 'ababbcccdc', 'ababbccb',\n",
       "       'ababcbc', 'ababbccbcb', 'ababbaab', 'ababbccddc', 'ababbbbaba',\n",
       "       'abcbbdbbd', 'ababbcccd', 'aabb', 'aaabab', 'abbabcbd', 'abaabba',\n",
       "       'aabab', 'abaaabab', 'ababab', 'aabbaa', 'aabba', 'abaabbccdcd',\n",
       "       'ababbcdc', 'aabcdcaabcdc', 'abaabbcddc', 'aababc', 'aabccb',\n",
       "       'abcdbcdcdb', 'abcdcdabededab', 'ababbaba', 'abaabbcbbc',\n",
       "       'ababccdbdbee', 'aabbccddeeffgghheejjkk', 'aabbccdd',\n",
       "       'ababbccdcdebbeeffghhg', 'abbaacca', 'ababbccdd', 'ababbcdcd',\n",
       "       'ababbccbcbd', 'aba', 'ababbcdcdc'], dtype=object)"
      ]
     },
     "execution_count": 165,
     "metadata": {},
     "output_type": "execute_result"
    }
   ],
   "source": [
    "df = pd.DataFrame(list_dicts)\n",
    "df.rhyme_scheme.unique()"
   ]
  },
  {
   "cell_type": "code",
   "execution_count": 198,
   "id": "72321ded-a87f-49a5-b7a5-a7d5e3f694b7",
   "metadata": {
    "tags": []
   },
   "outputs": [
    {
     "data": {
      "text/plain": [
       "2737"
      ]
     },
     "execution_count": 198,
     "metadata": {},
     "output_type": "execute_result"
    }
   ],
   "source": [
    "len(df)"
   ]
  },
  {
   "cell_type": "code",
   "execution_count": 195,
   "id": "fe746f53-9ab2-448b-b615-9a391917bdf6",
   "metadata": {
    "tags": []
   },
   "outputs": [],
   "source": [
    "grouped_df = df.groupby('dc_id')\n",
    "    \n",
    "# Get the first rhyme scheme for each group\n",
    "first_rhyme_schemes = grouped_df['rhyme_scheme'].first()\n",
    "\n",
    "# [list(x) for x in first_rhyme_schemes]\n",
    "    \n",
    "from itertools import chain\n",
    "\n",
    "combined_list = list(chain(*[list(x) for x in first_rhyme_schemes]))"
   ]
  },
  {
   "cell_type": "code",
   "execution_count": 203,
   "id": "3eb1ecba-eb98-4aed-add5-5d8ea00157a9",
   "metadata": {
    "tags": []
   },
   "outputs": [
    {
     "data": {
      "text/plain": [
       "2727"
      ]
     },
     "execution_count": 203,
     "metadata": {},
     "output_type": "execute_result"
    }
   ],
   "source": [
    "len(combined_list)"
   ]
  },
  {
   "cell_type": "code",
   "execution_count": 178,
   "id": "d6d88664-59c4-409d-90a8-53e207b5500d",
   "metadata": {
    "tags": []
   },
   "outputs": [
    {
     "data": {
      "text/plain": [
       "str"
      ]
     },
     "execution_count": 178,
     "metadata": {},
     "output_type": "execute_result"
    }
   ],
   "source": [
    "type(split_schemes[0][0])"
   ]
  },
  {
   "cell_type": "code",
   "execution_count": 163,
   "id": "51f7e7c2-4ca5-4890-bbd7-e63aa5ddd8ff",
   "metadata": {
    "tags": []
   },
   "outputs": [
    {
     "data": {
      "text/plain": [
       "3393"
      ]
     },
     "execution_count": 163,
     "metadata": {},
     "output_type": "execute_result"
    }
   ],
   "source": [
    "grouped_df = df.groupby('dc_id')\n",
    "    \n",
    "    # Get the first rhyme scheme for each group\n",
    "    first_rhyme_schemes = grouped_df['rhyme_scheme'].first()\n",
    "    \n",
    "    # Split the first rhyme scheme into single characters\n",
    "    split_schemes = first_rhyme_schemes.str.split('')\n",
    "    \n",
    "    # Remove empty strings from the start of each list\n",
    "    non_empty_lists = [list(filter(None, scheme)) for scheme in split_schemes]\n",
    "    \n",
    "    # Create a new 'rhyme' column with exploded values\n",
    "    result_df = pd.DataFrame(non_empty_lists).explode().reset_index(drop=True)"
   ]
  },
  {
   "cell_type": "code",
   "execution_count": 150,
   "id": "f2b4e97e-7e9a-4704-9983-b671ea321e3a",
   "metadata": {
    "tags": []
   },
   "outputs": [
    {
     "data": {
      "text/html": [
       "<div>\n",
       "<style scoped>\n",
       "    .dataframe tbody tr th:only-of-type {\n",
       "        vertical-align: middle;\n",
       "    }\n",
       "\n",
       "    .dataframe tbody tr th {\n",
       "        vertical-align: top;\n",
       "    }\n",
       "\n",
       "    .dataframe thead th {\n",
       "        text-align: right;\n",
       "    }\n",
       "</style>\n",
       "<table border=\"1\" class=\"dataframe\">\n",
       "  <thead>\n",
       "    <tr style=\"text-align: right;\">\n",
       "      <th></th>\n",
       "      <th>dc_id</th>\n",
       "      <th>rhyme_scheme</th>\n",
       "      <th>meter</th>\n",
       "      <th>stanza_id</th>\n",
       "      <th>line_id</th>\n",
       "      <th>verse</th>\n",
       "      <th>rhyme_word</th>\n",
       "      <th>rhyme</th>\n",
       "    </tr>\n",
       "  </thead>\n",
       "  <tbody>\n",
       "    <tr>\n",
       "      <th>0</th>\n",
       "      <td>DC0101</td>\n",
       "      <td>ababbcbc</td>\n",
       "      <td>10</td>\n",
       "      <td>1</td>\n",
       "      <td>1</td>\n",
       "      <td>Qui souhaitez avoir tout le plaisir</td>\n",
       "      <td>plaisir</td>\n",
       "      <td>NaN</td>\n",
       "    </tr>\n",
       "    <tr>\n",
       "      <th>1</th>\n",
       "      <td>DC0101</td>\n",
       "      <td>ababbcbc</td>\n",
       "      <td>10</td>\n",
       "      <td>1</td>\n",
       "      <td>2</td>\n",
       "      <td>Qu'un amy peult vouloir honnestement</td>\n",
       "      <td>honnestement</td>\n",
       "      <td>NaN</td>\n",
       "    </tr>\n",
       "    <tr>\n",
       "      <th>2</th>\n",
       "      <td>DC0101</td>\n",
       "      <td>ababbcbc</td>\n",
       "      <td>10</td>\n",
       "      <td>1</td>\n",
       "      <td>3</td>\n",
       "      <td>Prenez exemple à mon chaste desir</td>\n",
       "      <td>desir</td>\n",
       "      <td>NaN</td>\n",
       "    </tr>\n",
       "    <tr>\n",
       "      <th>3</th>\n",
       "      <td>DC0101</td>\n",
       "      <td>ababbcbc</td>\n",
       "      <td>10</td>\n",
       "      <td>1</td>\n",
       "      <td>4</td>\n",
       "      <td>Et vous mirez en mon contentement.</td>\n",
       "      <td>contentement</td>\n",
       "      <td>NaN</td>\n",
       "    </tr>\n",
       "    <tr>\n",
       "      <th>4</th>\n",
       "      <td>DC0101</td>\n",
       "      <td>ababbcbc</td>\n",
       "      <td>10</td>\n",
       "      <td>2</td>\n",
       "      <td>5</td>\n",
       "      <td>Mais qui vouldroit audacieusement</td>\n",
       "      <td>audacieusement</td>\n",
       "      <td>NaN</td>\n",
       "    </tr>\n",
       "    <tr>\n",
       "      <th>...</th>\n",
       "      <td>...</td>\n",
       "      <td>...</td>\n",
       "      <td>...</td>\n",
       "      <td>...</td>\n",
       "      <td>...</td>\n",
       "      <td>...</td>\n",
       "      <td>...</td>\n",
       "      <td>...</td>\n",
       "    </tr>\n",
       "    <tr>\n",
       "      <th>2732</th>\n",
       "      <td>DC1616</td>\n",
       "      <td>ababbcbc</td>\n",
       "      <td>8</td>\n",
       "      <td>2</td>\n",
       "      <td>8</td>\n",
       "      <td>A tout jamais le mien te donne.</td>\n",
       "      <td>donne</td>\n",
       "      <td>NaN</td>\n",
       "    </tr>\n",
       "    <tr>\n",
       "      <th>2733</th>\n",
       "      <td>DC1618</td>\n",
       "      <td>abab</td>\n",
       "      <td>8</td>\n",
       "      <td>1</td>\n",
       "      <td>1</td>\n",
       "      <td>C’est bien disner quant on eschappe,</td>\n",
       "      <td>eschappe</td>\n",
       "      <td>NaN</td>\n",
       "    </tr>\n",
       "    <tr>\n",
       "      <th>2734</th>\n",
       "      <td>DC1618</td>\n",
       "      <td>abab</td>\n",
       "      <td>8</td>\n",
       "      <td>1</td>\n",
       "      <td>2</td>\n",
       "      <td>Sans des-bourcer pas-un denier,</td>\n",
       "      <td>denier</td>\n",
       "      <td>NaN</td>\n",
       "    </tr>\n",
       "    <tr>\n",
       "      <th>2735</th>\n",
       "      <td>DC1618</td>\n",
       "      <td>abab</td>\n",
       "      <td>8</td>\n",
       "      <td>1</td>\n",
       "      <td>3</td>\n",
       "      <td>Puis torcher son nez à la nappe,</td>\n",
       "      <td>nappe</td>\n",
       "      <td>NaN</td>\n",
       "    </tr>\n",
       "    <tr>\n",
       "      <th>2736</th>\n",
       "      <td>DC1618</td>\n",
       "      <td>abab</td>\n",
       "      <td>8</td>\n",
       "      <td>1</td>\n",
       "      <td>4</td>\n",
       "      <td>Et dirɇ adieu au tavernier.</td>\n",
       "      <td>tavernier</td>\n",
       "      <td>NaN</td>\n",
       "    </tr>\n",
       "  </tbody>\n",
       "</table>\n",
       "<p>2737 rows × 8 columns</p>\n",
       "</div>"
      ],
      "text/plain": [
       "       dc_id rhyme_scheme meter  stanza_id  line_id  \\\n",
       "0     DC0101     ababbcbc    10          1        1   \n",
       "1     DC0101     ababbcbc    10          1        2   \n",
       "2     DC0101     ababbcbc    10          1        3   \n",
       "3     DC0101     ababbcbc    10          1        4   \n",
       "4     DC0101     ababbcbc    10          2        5   \n",
       "...      ...          ...   ...        ...      ...   \n",
       "2732  DC1616     ababbcbc     8          2        8   \n",
       "2733  DC1618         abab     8          1        1   \n",
       "2734  DC1618         abab     8          1        2   \n",
       "2735  DC1618         abab     8          1        3   \n",
       "2736  DC1618         abab     8          1        4   \n",
       "\n",
       "                                     verse      rhyme_word rhyme  \n",
       "0      Qui souhaitez avoir tout le plaisir         plaisir   NaN  \n",
       "1     Qu'un amy peult vouloir honnestement    honnestement   NaN  \n",
       "2        Prenez exemple à mon chaste desir           desir   NaN  \n",
       "3       Et vous mirez en mon contentement.    contentement   NaN  \n",
       "4        Mais qui vouldroit audacieusement  audacieusement   NaN  \n",
       "...                                    ...             ...   ...  \n",
       "2732       A tout jamais le mien te donne.           donne   NaN  \n",
       "2733  C’est bien disner quant on eschappe,        eschappe   NaN  \n",
       "2734       Sans des-bourcer pas-un denier,          denier   NaN  \n",
       "2735      Puis torcher son nez à la nappe,           nappe   NaN  \n",
       "2736           Et dirɇ adieu au tavernier.       tavernier   NaN  \n",
       "\n",
       "[2737 rows x 8 columns]"
      ]
     },
     "execution_count": 150,
     "metadata": {},
     "output_type": "execute_result"
    }
   ],
   "source": [
    "df['rhyme'] = df.groupby('dc_id').apply(lambda x: [*'rhyme_scheme'])\n",
    "\n",
    "\n",
    "df"
   ]
  },
  {
   "cell_type": "code",
   "execution_count": 205,
   "id": "e8144a3d-709c-4243-923c-7f0de234d545",
   "metadata": {
    "tags": []
   },
   "outputs": [],
   "source": [
    "# Group by dc_id and find max line_id\n",
    "grouped_df = df.groupby('dc_id').agg({'line_id': 'max'})\n",
    "grouped_df.columns = ['max_line_id']\n",
    "\n",
    "grouped_df2 = df.groupby('dc_id')['rhyme_scheme'].first().str.len()\n",
    "grouped_df2.columns = ['rs_count']\n",
    "\n",
    "# # Compare max line_id with rhyme_scheme length\n",
    "# df['length_diff'] = df['line_id'] != df['rhyme_scheme'].str.len()\n",
    "\n",
    "# # Find dc_ids where conditions are met\n",
    "# result_dc_ids = grouped_df[grouped_df['max_line_id'] != df['rhyme_scheme'].str.len()].index.tolist()\n",
    "\n",
    "# print(\"DC IDs that don't match line_id with rhyme_scheme length:\")\n",
    "# print(result_dc_ids)"
   ]
  },
  {
   "cell_type": "code",
   "execution_count": 207,
   "id": "5ff3cddc-b207-453c-8844-ed49b7ea5462",
   "metadata": {
    "tags": []
   },
   "outputs": [],
   "source": [
    "grouped_df['rs_count'] = grouped_df2"
   ]
  },
  {
   "cell_type": "code",
   "execution_count": 209,
   "id": "5d901ec8-2a75-4a97-9f3f-e6b09d565590",
   "metadata": {
    "tags": []
   },
   "outputs": [
    {
     "data": {
      "text/html": [
       "<div>\n",
       "<style scoped>\n",
       "    .dataframe tbody tr th:only-of-type {\n",
       "        vertical-align: middle;\n",
       "    }\n",
       "\n",
       "    .dataframe tbody tr th {\n",
       "        vertical-align: top;\n",
       "    }\n",
       "\n",
       "    .dataframe thead th {\n",
       "        text-align: right;\n",
       "    }\n",
       "</style>\n",
       "<table border=\"1\" class=\"dataframe\">\n",
       "  <thead>\n",
       "    <tr style=\"text-align: right;\">\n",
       "      <th></th>\n",
       "      <th>max_line_id</th>\n",
       "      <th>rs_count</th>\n",
       "    </tr>\n",
       "    <tr>\n",
       "      <th>dc_id</th>\n",
       "      <th></th>\n",
       "      <th></th>\n",
       "    </tr>\n",
       "  </thead>\n",
       "  <tbody>\n",
       "    <tr>\n",
       "      <th>DC0306</th>\n",
       "      <td>16</td>\n",
       "      <td>6</td>\n",
       "    </tr>\n",
       "    <tr>\n",
       "      <th>DC1501</th>\n",
       "      <td>5</td>\n",
       "      <td>4</td>\n",
       "    </tr>\n",
       "    <tr>\n",
       "      <th>DC1511</th>\n",
       "      <td>10</td>\n",
       "      <td>11</td>\n",
       "    </tr>\n",
       "  </tbody>\n",
       "</table>\n",
       "</div>"
      ],
      "text/plain": [
       "        max_line_id  rs_count\n",
       "dc_id                        \n",
       "DC0306           16         6\n",
       "DC1501            5         4\n",
       "DC1511           10        11"
      ]
     },
     "execution_count": 209,
     "metadata": {},
     "output_type": "execute_result"
    }
   ],
   "source": [
    "grouped_df[grouped_df['max_line_id'] != grouped_df['rs_count']]"
   ]
  },
  {
   "cell_type": "code",
   "execution_count": 202,
   "id": "2d95842f-2d4d-4b03-b85c-1c49c0fcf796",
   "metadata": {
    "tags": []
   },
   "outputs": [
    {
     "name": "stdout",
     "output_type": "stream",
     "text": [
      "DC IDs that don't match line_id with rhyme_scheme length:\n",
      "['DC0101', 'DC0102', 'DC0103', 'DC0104', 'DC0105', 'DC0106', 'DC0108', 'DC0109', 'DC0113', 'DC0114', 'DC0115', 'DC0116', 'DC0117', 'DC0118', 'DC0119', 'DC0120', 'DC0121', 'DC0123', 'DC0201', 'DC0202', 'DC0203', 'DC0204', 'DC0205', 'DC0206', 'DC0209', 'DC0210', 'DC0211', 'DC0212', 'DC0213', 'DC0214', 'DC0215', 'DC0216', 'DC0217', 'DC0219', 'DC0220', 'DC0221', 'DC0223', 'DC0225', 'DC0226', 'DC0302', 'DC0303', 'DC0304', 'DC0305', 'DC0306', 'DC0307', 'DC0308', 'DC0309', 'DC0310', 'DC0311', 'DC0312', 'DC0313', 'DC0314', 'DC0315', 'DC0316', 'DC0317', 'DC0318', 'DC0320', 'DC0321', 'DC0322', 'DC0401', 'DC0402', 'DC0403', 'DC0404', 'DC0405', 'DC0406', 'DC0407', 'DC0408', 'DC0409', 'DC0410', 'DC0411', 'DC0412', 'DC0413', 'DC0414', 'DC0415', 'DC0416', 'DC0417', 'DC0418', 'DC0419', 'DC0420', 'DC0421', 'DC0422', 'DC0423', 'DC0424', 'DC0501', 'DC0502', 'DC0503', 'DC0504', 'DC0505', 'DC0506', 'DC0507', 'DC0508', 'DC0509', 'DC0510', 'DC0511', 'DC0512', 'DC0513', 'DC0514', 'DC0515', 'DC0516', 'DC0517', 'DC0518', 'DC0519', 'DC0520', 'DC0521', 'DC0522', 'DC0523', 'DC0524', 'DC0525', 'DC0601', 'DC0602', 'DC0603', 'DC0604', 'DC0605', 'DC0606', 'DC0607', 'DC0608', 'DC0609', 'DC0610', 'DC0611', 'DC0612', 'DC0613', 'DC0614', 'DC0615', 'DC0616', 'DC0617', 'DC0618', 'DC0619', 'DC0620', 'DC0621', 'DC0622', 'DC0623', 'DC0624', 'DC0625', 'DC0701', 'DC0702', 'DC0703', 'DC0704', 'DC0705', 'DC0706', 'DC0707', 'DC0708', 'DC0710', 'DC0711', 'DC0712', 'DC0713', 'DC0714', 'DC0715', 'DC0716', 'DC0717', 'DC0718', 'DC0719', 'DC0720', 'DC0721', 'DC0722', 'DC0723', 'DC0724', 'DC0725', 'DC0726', 'DC0727', 'DC0728', 'DC0729', 'DC0801', 'DC0802', 'DC0803', 'DC0804', 'DC0805', 'DC0806', 'DC0807', 'DC0808', 'DC0809', 'DC0810', 'DC0811', 'DC0812', 'DC0813', 'DC0814', 'DC0815', 'DC0816', 'DC0817', 'DC0818', 'DC0819', 'DC0821', 'DC0823', 'DC0824', 'DC0825', 'DC0901', 'DC0902', 'DC0903', 'DC0904', 'DC0905', 'DC0906', 'DC0907', 'DC0908', 'DC0910', 'DC0911', 'DC0912', 'DC0913', 'DC0914', 'DC0915', 'DC0917', 'DC0918', 'DC0919', 'DC0920', 'DC0921', 'DC0922', 'DC0924', 'DC0925', 'DC0926', 'DC0927', 'DC1001', 'DC1002', 'DC1003', 'DC1004', 'DC1005', 'DC1007', 'DC1008', 'DC1009', 'DC1012', 'DC1013', 'DC1014', 'DC1015', 'DC1019', 'DC1020', 'DC1021', 'DC1023', 'DC1024', 'DC1025', 'DC1026', 'DC1101', 'DC1102', 'DC1104', 'DC1105', 'DC1106', 'DC1107', 'DC1108', 'DC1109', 'DC1110', 'DC1111', 'DC1112', 'DC1113', 'DC1114', 'DC1115', 'DC1116', 'DC1117', 'DC1118', 'DC1119', 'DC1120', 'DC1121', 'DC1122', 'DC1201', 'DC1202', 'DC1203', 'DC1205', 'DC1206', 'DC1207', 'DC1208', 'DC1209', 'DC1210', 'DC1211', 'DC1212', 'DC1213', 'DC1214', 'DC1215', 'DC1216', 'DC1217', 'DC1218', 'DC1219', 'DC1220', 'DC1221', 'DC1223', 'DC1224', 'DC1225', 'DC1301', 'DC1302', 'DC1303', 'DC1304', 'DC1305', 'DC1306', 'DC1307', 'DC1308', 'DC1310', 'DC1311', 'DC1313', 'DC1314', 'DC1316', 'DC1319', 'DC1320', 'DC1321', 'DC1322', 'DC1323', 'DC1324', 'DC1401', 'DC1403', 'DC1404', 'DC1405', 'DC1407', 'DC1408', 'DC1410', 'DC1412', 'DC1414', 'DC1415', 'DC1416', 'DC1417', 'DC1501', 'DC1503', 'DC1504', 'DC1505', 'DC1506', 'DC1507', 'DC1508', 'DC1509', 'DC1510', 'DC1511', 'DC1512', 'DC1513', 'DC1514', 'DC1515', 'DC1517', 'DC1518', 'DC1519', 'DC1601', 'DC1603', 'DC1604', 'DC1605', 'DC1606', 'DC1607', 'DC1608', 'DC1609', 'DC1611', 'DC1612', 'DC1614', 'DC1615', 'DC1616', 'DC1618']\n"
     ]
    }
   ],
   "source": [
    "# Group by dc_id and find max line_id\n",
    "grouped_df = df.groupby('dc_id').agg({'line_id': 'max'})\n",
    "grouped_df.columns = ['max_line_id']\n",
    "\n",
    "# Reset the index of grouped_df to make it a proper DataFrame\n",
    "grouped_df = grouped_df.reset_index()\n",
    "\n",
    "# Compare max line_id with rhyme_scheme length\n",
    "df['length_diff'] = df['line_id'] != df['rhyme_scheme'].str.len()\n",
    "\n",
    "# Find dc_ids where conditions are met\n",
    "result_dc_ids = df.loc[df['length_diff']]['dc_id'].unique().tolist()\n",
    "\n",
    "print(\"DC IDs that don't match line_id with rhyme_scheme length:\")\n",
    "print(result_dc_ids)"
   ]
  },
  {
   "cell_type": "code",
   "execution_count": 123,
   "id": "f741c0bc-ed24-4ba6-b41e-c4bcb5bb6695",
   "metadata": {
    "tags": []
   },
   "outputs": [],
   "source": [
    "rhyme_schemes = df.groupby('rhyme_scheme')['dc_id'].nunique()"
   ]
  },
  {
   "cell_type": "code",
   "execution_count": 124,
   "id": "914ec2d0-acd9-4bc3-aea2-1f7ea59d357e",
   "metadata": {
    "tags": []
   },
   "outputs": [
    {
     "data": {
      "text/plain": [
       "rhyme_scheme\n",
       "ababbcbc        153\n",
       "ababbccdcd       67\n",
       "abab             15\n",
       "abba             13\n",
       "ababcdcd          8\n",
       "ababbcc           5\n",
       "aabb              4\n",
       "aabab             3\n",
       "aabba             3\n",
       "abaabbccdcd       2\n",
       "aababc            2\n",
       "ababab            2\n",
       "ababbccdccd       2\n",
       "ababbcccdc        2\n",
       "ababbccbcb        2\n",
       "ababccdcd         1\n",
       "ababbcdcdc        1\n",
       "ababccdbdbee      1\n",
       "ababcbcb          1\n",
       "ababcbc           1\n",
       "Name: dc_id, dtype: int64"
      ]
     },
     "execution_count": 124,
     "metadata": {},
     "output_type": "execute_result"
    }
   ],
   "source": [
    "rhyme_schemes.sort_values(ascending=False).head(20)"
   ]
  },
  {
   "cell_type": "code",
   "execution_count": 125,
   "id": "2c49ef25-a1a9-4118-b9bb-6145bd38f391",
   "metadata": {
    "tags": []
   },
   "outputs": [],
   "source": [
    "rhyme_counts = px.bar(x= rhyme_schemes.index, \n",
    "                      y=rhyme_schemes)"
   ]
  },
  {
   "cell_type": "code",
   "execution_count": 126,
   "id": "1766a01d-98c0-4459-9b32-2cdbb51634c3",
   "metadata": {
    "tags": []
   },
   "outputs": [
    {
     "data": {
      "application/vnd.plotly.v1+json": {
       "config": {
        "plotlyServerURL": "https://plot.ly"
       },
       "data": [
        {
         "alignmentgroup": "True",
         "hovertemplate": "x=%{x}<br>y=%{y}<extra></extra>",
         "legendgroup": "",
         "marker": {
          "color": "#636efa",
          "pattern": {
           "shape": ""
          }
         },
         "name": "",
         "offsetgroup": "",
         "orientation": "v",
         "showlegend": false,
         "textposition": "auto",
         "type": "bar",
         "x": [
          "aaabab",
          "aabaabbcbc",
          "aabab",
          "aababc",
          "aabb",
          "aabba",
          "aabbaa",
          "aabbcc",
          "aabbccdd",
          "aabbccddee",
          "aabbccddeeffgghheejjkk",
          "aabccb",
          "aabcdcaabcdc",
          "aba",
          "abaaabab",
          "abaabba",
          "abaabbcbbc",
          "abaabbccdcd",
          "abaabbcddc",
          "abab",
          "ababa",
          "ababab",
          "ababbaab",
          "ababbaabba",
          "ababbaba",
          "ababbbbaba",
          "ababbcbc",
          "ababbcbcdecede",
          "ababbcc",
          "ababbccb",
          "ababbccbcb",
          "ababbccbcbd",
          "ababbcccd",
          "ababbcccdc",
          "ababbccd",
          "ababbccdccd",
          "ababbccdcd",
          "ababbccdcdebbeeffghhg",
          "ababbccdd",
          "ababbccddc",
          "ababbccddede",
          "ababbcdc",
          "ababbcdcd",
          "ababbcdcdc",
          "ababcbc",
          "ababcbcb",
          "ababccdbdbee",
          "ababccdcd",
          "ababccdeed",
          "ababcdcd",
          "ababcdcdc",
          "abba",
          "abbaa",
          "abbaabba",
          "abbaacca",
          "abbaba",
          "abbabcbd",
          "abbacddc",
          "abcbbdbbd",
          "abcbdbefe",
          "abcbdedefgfg",
          "abccbd",
          "abcccdcabcccdcab",
          "abcdbcdcdb",
          "abcdcdabededab"
         ],
         "xaxis": "x",
         "y": [
          1,
          1,
          3,
          2,
          4,
          3,
          1,
          1,
          1,
          1,
          1,
          1,
          1,
          1,
          1,
          1,
          1,
          2,
          1,
          15,
          1,
          2,
          1,
          1,
          1,
          1,
          153,
          1,
          5,
          1,
          2,
          1,
          1,
          2,
          1,
          2,
          67,
          1,
          1,
          1,
          1,
          1,
          1,
          1,
          1,
          1,
          1,
          1,
          1,
          8,
          1,
          13,
          1,
          1,
          1,
          1,
          1,
          1,
          1,
          1,
          1,
          1,
          1,
          1,
          1
         ],
         "yaxis": "y"
        }
       ],
       "layout": {
        "autosize": true,
        "barmode": "relative",
        "legend": {
         "tracegroupgap": 0
        },
        "margin": {
         "t": 60
        },
        "template": {
         "data": {
          "bar": [
           {
            "error_x": {
             "color": "#2a3f5f"
            },
            "error_y": {
             "color": "#2a3f5f"
            },
            "marker": {
             "line": {
              "color": "#E5ECF6",
              "width": 0.5
             },
             "pattern": {
              "fillmode": "overlay",
              "size": 10,
              "solidity": 0.2
             }
            },
            "type": "bar"
           }
          ],
          "barpolar": [
           {
            "marker": {
             "line": {
              "color": "#E5ECF6",
              "width": 0.5
             },
             "pattern": {
              "fillmode": "overlay",
              "size": 10,
              "solidity": 0.2
             }
            },
            "type": "barpolar"
           }
          ],
          "carpet": [
           {
            "aaxis": {
             "endlinecolor": "#2a3f5f",
             "gridcolor": "white",
             "linecolor": "white",
             "minorgridcolor": "white",
             "startlinecolor": "#2a3f5f"
            },
            "baxis": {
             "endlinecolor": "#2a3f5f",
             "gridcolor": "white",
             "linecolor": "white",
             "minorgridcolor": "white",
             "startlinecolor": "#2a3f5f"
            },
            "type": "carpet"
           }
          ],
          "choropleth": [
           {
            "colorbar": {
             "outlinewidth": 0,
             "ticks": ""
            },
            "type": "choropleth"
           }
          ],
          "contour": [
           {
            "colorbar": {
             "outlinewidth": 0,
             "ticks": ""
            },
            "colorscale": [
             [
              0,
              "#0d0887"
             ],
             [
              0.1111111111111111,
              "#46039f"
             ],
             [
              0.2222222222222222,
              "#7201a8"
             ],
             [
              0.3333333333333333,
              "#9c179e"
             ],
             [
              0.4444444444444444,
              "#bd3786"
             ],
             [
              0.5555555555555556,
              "#d8576b"
             ],
             [
              0.6666666666666666,
              "#ed7953"
             ],
             [
              0.7777777777777778,
              "#fb9f3a"
             ],
             [
              0.8888888888888888,
              "#fdca26"
             ],
             [
              1,
              "#f0f921"
             ]
            ],
            "type": "contour"
           }
          ],
          "contourcarpet": [
           {
            "colorbar": {
             "outlinewidth": 0,
             "ticks": ""
            },
            "type": "contourcarpet"
           }
          ],
          "heatmap": [
           {
            "colorbar": {
             "outlinewidth": 0,
             "ticks": ""
            },
            "colorscale": [
             [
              0,
              "#0d0887"
             ],
             [
              0.1111111111111111,
              "#46039f"
             ],
             [
              0.2222222222222222,
              "#7201a8"
             ],
             [
              0.3333333333333333,
              "#9c179e"
             ],
             [
              0.4444444444444444,
              "#bd3786"
             ],
             [
              0.5555555555555556,
              "#d8576b"
             ],
             [
              0.6666666666666666,
              "#ed7953"
             ],
             [
              0.7777777777777778,
              "#fb9f3a"
             ],
             [
              0.8888888888888888,
              "#fdca26"
             ],
             [
              1,
              "#f0f921"
             ]
            ],
            "type": "heatmap"
           }
          ],
          "heatmapgl": [
           {
            "colorbar": {
             "outlinewidth": 0,
             "ticks": ""
            },
            "colorscale": [
             [
              0,
              "#0d0887"
             ],
             [
              0.1111111111111111,
              "#46039f"
             ],
             [
              0.2222222222222222,
              "#7201a8"
             ],
             [
              0.3333333333333333,
              "#9c179e"
             ],
             [
              0.4444444444444444,
              "#bd3786"
             ],
             [
              0.5555555555555556,
              "#d8576b"
             ],
             [
              0.6666666666666666,
              "#ed7953"
             ],
             [
              0.7777777777777778,
              "#fb9f3a"
             ],
             [
              0.8888888888888888,
              "#fdca26"
             ],
             [
              1,
              "#f0f921"
             ]
            ],
            "type": "heatmapgl"
           }
          ],
          "histogram": [
           {
            "marker": {
             "pattern": {
              "fillmode": "overlay",
              "size": 10,
              "solidity": 0.2
             }
            },
            "type": "histogram"
           }
          ],
          "histogram2d": [
           {
            "colorbar": {
             "outlinewidth": 0,
             "ticks": ""
            },
            "colorscale": [
             [
              0,
              "#0d0887"
             ],
             [
              0.1111111111111111,
              "#46039f"
             ],
             [
              0.2222222222222222,
              "#7201a8"
             ],
             [
              0.3333333333333333,
              "#9c179e"
             ],
             [
              0.4444444444444444,
              "#bd3786"
             ],
             [
              0.5555555555555556,
              "#d8576b"
             ],
             [
              0.6666666666666666,
              "#ed7953"
             ],
             [
              0.7777777777777778,
              "#fb9f3a"
             ],
             [
              0.8888888888888888,
              "#fdca26"
             ],
             [
              1,
              "#f0f921"
             ]
            ],
            "type": "histogram2d"
           }
          ],
          "histogram2dcontour": [
           {
            "colorbar": {
             "outlinewidth": 0,
             "ticks": ""
            },
            "colorscale": [
             [
              0,
              "#0d0887"
             ],
             [
              0.1111111111111111,
              "#46039f"
             ],
             [
              0.2222222222222222,
              "#7201a8"
             ],
             [
              0.3333333333333333,
              "#9c179e"
             ],
             [
              0.4444444444444444,
              "#bd3786"
             ],
             [
              0.5555555555555556,
              "#d8576b"
             ],
             [
              0.6666666666666666,
              "#ed7953"
             ],
             [
              0.7777777777777778,
              "#fb9f3a"
             ],
             [
              0.8888888888888888,
              "#fdca26"
             ],
             [
              1,
              "#f0f921"
             ]
            ],
            "type": "histogram2dcontour"
           }
          ],
          "mesh3d": [
           {
            "colorbar": {
             "outlinewidth": 0,
             "ticks": ""
            },
            "type": "mesh3d"
           }
          ],
          "parcoords": [
           {
            "line": {
             "colorbar": {
              "outlinewidth": 0,
              "ticks": ""
             }
            },
            "type": "parcoords"
           }
          ],
          "pie": [
           {
            "automargin": true,
            "type": "pie"
           }
          ],
          "scatter": [
           {
            "fillpattern": {
             "fillmode": "overlay",
             "size": 10,
             "solidity": 0.2
            },
            "type": "scatter"
           }
          ],
          "scatter3d": [
           {
            "line": {
             "colorbar": {
              "outlinewidth": 0,
              "ticks": ""
             }
            },
            "marker": {
             "colorbar": {
              "outlinewidth": 0,
              "ticks": ""
             }
            },
            "type": "scatter3d"
           }
          ],
          "scattercarpet": [
           {
            "marker": {
             "colorbar": {
              "outlinewidth": 0,
              "ticks": ""
             }
            },
            "type": "scattercarpet"
           }
          ],
          "scattergeo": [
           {
            "marker": {
             "colorbar": {
              "outlinewidth": 0,
              "ticks": ""
             }
            },
            "type": "scattergeo"
           }
          ],
          "scattergl": [
           {
            "marker": {
             "colorbar": {
              "outlinewidth": 0,
              "ticks": ""
             }
            },
            "type": "scattergl"
           }
          ],
          "scattermapbox": [
           {
            "marker": {
             "colorbar": {
              "outlinewidth": 0,
              "ticks": ""
             }
            },
            "type": "scattermapbox"
           }
          ],
          "scatterpolar": [
           {
            "marker": {
             "colorbar": {
              "outlinewidth": 0,
              "ticks": ""
             }
            },
            "type": "scatterpolar"
           }
          ],
          "scatterpolargl": [
           {
            "marker": {
             "colorbar": {
              "outlinewidth": 0,
              "ticks": ""
             }
            },
            "type": "scatterpolargl"
           }
          ],
          "scatterternary": [
           {
            "marker": {
             "colorbar": {
              "outlinewidth": 0,
              "ticks": ""
             }
            },
            "type": "scatterternary"
           }
          ],
          "surface": [
           {
            "colorbar": {
             "outlinewidth": 0,
             "ticks": ""
            },
            "colorscale": [
             [
              0,
              "#0d0887"
             ],
             [
              0.1111111111111111,
              "#46039f"
             ],
             [
              0.2222222222222222,
              "#7201a8"
             ],
             [
              0.3333333333333333,
              "#9c179e"
             ],
             [
              0.4444444444444444,
              "#bd3786"
             ],
             [
              0.5555555555555556,
              "#d8576b"
             ],
             [
              0.6666666666666666,
              "#ed7953"
             ],
             [
              0.7777777777777778,
              "#fb9f3a"
             ],
             [
              0.8888888888888888,
              "#fdca26"
             ],
             [
              1,
              "#f0f921"
             ]
            ],
            "type": "surface"
           }
          ],
          "table": [
           {
            "cells": {
             "fill": {
              "color": "#EBF0F8"
             },
             "line": {
              "color": "white"
             }
            },
            "header": {
             "fill": {
              "color": "#C8D4E3"
             },
             "line": {
              "color": "white"
             }
            },
            "type": "table"
           }
          ]
         },
         "layout": {
          "annotationdefaults": {
           "arrowcolor": "#2a3f5f",
           "arrowhead": 0,
           "arrowwidth": 1
          },
          "autotypenumbers": "strict",
          "coloraxis": {
           "colorbar": {
            "outlinewidth": 0,
            "ticks": ""
           }
          },
          "colorscale": {
           "diverging": [
            [
             0,
             "#8e0152"
            ],
            [
             0.1,
             "#c51b7d"
            ],
            [
             0.2,
             "#de77ae"
            ],
            [
             0.3,
             "#f1b6da"
            ],
            [
             0.4,
             "#fde0ef"
            ],
            [
             0.5,
             "#f7f7f7"
            ],
            [
             0.6,
             "#e6f5d0"
            ],
            [
             0.7,
             "#b8e186"
            ],
            [
             0.8,
             "#7fbc41"
            ],
            [
             0.9,
             "#4d9221"
            ],
            [
             1,
             "#276419"
            ]
           ],
           "sequential": [
            [
             0,
             "#0d0887"
            ],
            [
             0.1111111111111111,
             "#46039f"
            ],
            [
             0.2222222222222222,
             "#7201a8"
            ],
            [
             0.3333333333333333,
             "#9c179e"
            ],
            [
             0.4444444444444444,
             "#bd3786"
            ],
            [
             0.5555555555555556,
             "#d8576b"
            ],
            [
             0.6666666666666666,
             "#ed7953"
            ],
            [
             0.7777777777777778,
             "#fb9f3a"
            ],
            [
             0.8888888888888888,
             "#fdca26"
            ],
            [
             1,
             "#f0f921"
            ]
           ],
           "sequentialminus": [
            [
             0,
             "#0d0887"
            ],
            [
             0.1111111111111111,
             "#46039f"
            ],
            [
             0.2222222222222222,
             "#7201a8"
            ],
            [
             0.3333333333333333,
             "#9c179e"
            ],
            [
             0.4444444444444444,
             "#bd3786"
            ],
            [
             0.5555555555555556,
             "#d8576b"
            ],
            [
             0.6666666666666666,
             "#ed7953"
            ],
            [
             0.7777777777777778,
             "#fb9f3a"
            ],
            [
             0.8888888888888888,
             "#fdca26"
            ],
            [
             1,
             "#f0f921"
            ]
           ]
          },
          "colorway": [
           "#636efa",
           "#EF553B",
           "#00cc96",
           "#ab63fa",
           "#FFA15A",
           "#19d3f3",
           "#FF6692",
           "#B6E880",
           "#FF97FF",
           "#FECB52"
          ],
          "font": {
           "color": "#2a3f5f"
          },
          "geo": {
           "bgcolor": "white",
           "lakecolor": "white",
           "landcolor": "#E5ECF6",
           "showlakes": true,
           "showland": true,
           "subunitcolor": "white"
          },
          "hoverlabel": {
           "align": "left"
          },
          "hovermode": "closest",
          "mapbox": {
           "style": "light"
          },
          "paper_bgcolor": "white",
          "plot_bgcolor": "#E5ECF6",
          "polar": {
           "angularaxis": {
            "gridcolor": "white",
            "linecolor": "white",
            "ticks": ""
           },
           "bgcolor": "#E5ECF6",
           "radialaxis": {
            "gridcolor": "white",
            "linecolor": "white",
            "ticks": ""
           }
          },
          "scene": {
           "xaxis": {
            "backgroundcolor": "#E5ECF6",
            "gridcolor": "white",
            "gridwidth": 2,
            "linecolor": "white",
            "showbackground": true,
            "ticks": "",
            "zerolinecolor": "white"
           },
           "yaxis": {
            "backgroundcolor": "#E5ECF6",
            "gridcolor": "white",
            "gridwidth": 2,
            "linecolor": "white",
            "showbackground": true,
            "ticks": "",
            "zerolinecolor": "white"
           },
           "zaxis": {
            "backgroundcolor": "#E5ECF6",
            "gridcolor": "white",
            "gridwidth": 2,
            "linecolor": "white",
            "showbackground": true,
            "ticks": "",
            "zerolinecolor": "white"
           }
          },
          "shapedefaults": {
           "line": {
            "color": "#2a3f5f"
           }
          },
          "ternary": {
           "aaxis": {
            "gridcolor": "white",
            "linecolor": "white",
            "ticks": ""
           },
           "baxis": {
            "gridcolor": "white",
            "linecolor": "white",
            "ticks": ""
           },
           "bgcolor": "#E5ECF6",
           "caxis": {
            "gridcolor": "white",
            "linecolor": "white",
            "ticks": ""
           }
          },
          "title": {
           "x": 0.05
          },
          "xaxis": {
           "automargin": true,
           "gridcolor": "white",
           "linecolor": "white",
           "ticks": "",
           "title": {
            "standoff": 15
           },
           "zerolinecolor": "white",
           "zerolinewidth": 2
          },
          "yaxis": {
           "automargin": true,
           "gridcolor": "white",
           "linecolor": "white",
           "ticks": "",
           "title": {
            "standoff": 15
           },
           "zerolinecolor": "white",
           "zerolinewidth": 2
          }
         }
        },
        "xaxis": {
         "anchor": "y",
         "autorange": true,
         "domain": [
          0,
          1
         ],
         "range": [
          -0.5,
          64.5
         ],
         "title": {
          "text": "x"
         },
         "type": "category"
        },
        "yaxis": {
         "anchor": "x",
         "autorange": true,
         "domain": [
          0,
          1
         ],
         "range": [
          0,
          161.05263157894737
         ],
         "title": {
          "text": "y"
         },
         "type": "linear"
        }
       }
      },
      "image/png": "[encoded data removed]",
      "text/html": [
       "<div>                            <div id=\"5693d669-bc70-4c1d-8b0d-a6367fbb64fc\" class=\"plotly-graph-div\" style=\"height:525px; width:100%;\"></div>            <script type=\"text/javascript\">                require([\"plotly\"], function(Plotly) {                    window.PLOTLYENV=window.PLOTLYENV || {};                                    if (document.getElementById(\"5693d669-bc70-4c1d-8b0d-a6367fbb64fc\")) {                    Plotly.newPlot(                        \"5693d669-bc70-4c1d-8b0d-a6367fbb64fc\",                        [{\"alignmentgroup\":\"True\",\"hovertemplate\":\"x=%{x}\\u003cbr\\u003ey=%{y}\\u003cextra\\u003e\\u003c\\u002fextra\\u003e\",\"legendgroup\":\"\",\"marker\":{\"color\":\"#636efa\",\"pattern\":{\"shape\":\"\"}},\"name\":\"\",\"offsetgroup\":\"\",\"orientation\":\"v\",\"showlegend\":false,\"textposition\":\"auto\",\"x\":[\"aaabab\",\"aabaabbcbc\",\"aabab\",\"aababc\",\"aabb\",\"aabba\",\"aabbaa\",\"aabbcc\",\"aabbccdd\",\"aabbccddee\",\"aabbccddeeffgghheejjkk\",\"aabccb\",\"aabcdcaabcdc\",\"aba\",\"abaaabab\",\"abaabba\",\"abaabbcbbc\",\"abaabbccdcd\",\"abaabbcddc\",\"abab\",\"ababa\",\"ababab\",\"ababbaab\",\"ababbaabba\",\"ababbaba\",\"ababbbbaba\",\"ababbcbc\",\"ababbcbcdecede\",\"ababbcc\",\"ababbccb\",\"ababbccbcb\",\"ababbccbcbd\",\"ababbcccd\",\"ababbcccdc\",\"ababbccd\",\"ababbccdccd\",\"ababbccdcd\",\"ababbccdcdebbeeffghhg\",\"ababbccdd\",\"ababbccddc\",\"ababbccddede\",\"ababbcdc\",\"ababbcdcd\",\"ababbcdcdc\",\"ababcbc\",\"ababcbcb\",\"ababccdbdbee\",\"ababccdcd\",\"ababccdeed\",\"ababcdcd\",\"ababcdcdc\",\"abba\",\"abbaa\",\"abbaabba\",\"abbaacca\",\"abbaba\",\"abbabcbd\",\"abbacddc\",\"abcbbdbbd\",\"abcbdbefe\",\"abcbdedefgfg\",\"abccbd\",\"abcccdcabcccdcab\",\"abcdbcdcdb\",\"abcdcdabededab\"],\"xaxis\":\"x\",\"y\":[1,1,3,2,4,3,1,1,1,1,1,1,1,1,1,1,1,2,1,15,1,2,1,1,1,1,153,1,5,1,2,1,1,2,1,2,67,1,1,1,1,1,1,1,1,1,1,1,1,8,1,13,1,1,1,1,1,1,1,1,1,1,1,1,1],\"yaxis\":\"y\",\"type\":\"bar\"}],                        {\"template\":{\"data\":{\"histogram2dcontour\":[{\"type\":\"histogram2dcontour\",\"colorbar\":{\"outlinewidth\":0,\"ticks\":\"\"},\"colorscale\":[[0.0,\"#0d0887\"],[0.1111111111111111,\"#46039f\"],[0.2222222222222222,\"#7201a8\"],[0.3333333333333333,\"#9c179e\"],[0.4444444444444444,\"#bd3786\"],[0.5555555555555556,\"#d8576b\"],[0.6666666666666666,\"#ed7953\"],[0.7777777777777778,\"#fb9f3a\"],[0.8888888888888888,\"#fdca26\"],[1.0,\"#f0f921\"]]}],\"choropleth\":[{\"type\":\"choropleth\",\"colorbar\":{\"outlinewidth\":0,\"ticks\":\"\"}}],\"histogram2d\":[{\"type\":\"histogram2d\",\"colorbar\":{\"outlinewidth\":0,\"ticks\":\"\"},\"colorscale\":[[0.0,\"#0d0887\"],[0.1111111111111111,\"#46039f\"],[0.2222222222222222,\"#7201a8\"],[0.3333333333333333,\"#9c179e\"],[0.4444444444444444,\"#bd3786\"],[0.5555555555555556,\"#d8576b\"],[0.6666666666666666,\"#ed7953\"],[0.7777777777777778,\"#fb9f3a\"],[0.8888888888888888,\"#fdca26\"],[1.0,\"#f0f921\"]]}],\"heatmap\":[{\"type\":\"heatmap\",\"colorbar\":{\"outlinewidth\":0,\"ticks\":\"\"},\"colorscale\":[[0.0,\"#0d0887\"],[0.1111111111111111,\"#46039f\"],[0.2222222222222222,\"#7201a8\"],[0.3333333333333333,\"#9c179e\"],[0.4444444444444444,\"#bd3786\"],[0.5555555555555556,\"#d8576b\"],[0.6666666666666666,\"#ed7953\"],[0.7777777777777778,\"#fb9f3a\"],[0.8888888888888888,\"#fdca26\"],[1.0,\"#f0f921\"]]}],\"heatmapgl\":[{\"type\":\"heatmapgl\",\"colorbar\":{\"outlinewidth\":0,\"ticks\":\"\"},\"colorscale\":[[0.0,\"#0d0887\"],[0.1111111111111111,\"#46039f\"],[0.2222222222222222,\"#7201a8\"],[0.3333333333333333,\"#9c179e\"],[0.4444444444444444,\"#bd3786\"],[0.5555555555555556,\"#d8576b\"],[0.6666666666666666,\"#ed7953\"],[0.7777777777777778,\"#fb9f3a\"],[0.8888888888888888,\"#fdca26\"],[1.0,\"#f0f921\"]]}],\"contourcarpet\":[{\"type\":\"contourcarpet\",\"colorbar\":{\"outlinewidth\":0,\"ticks\":\"\"}}],\"contour\":[{\"type\":\"contour\",\"colorbar\":{\"outlinewidth\":0,\"ticks\":\"\"},\"colorscale\":[[0.0,\"#0d0887\"],[0.1111111111111111,\"#46039f\"],[0.2222222222222222,\"#7201a8\"],[0.3333333333333333,\"#9c179e\"],[0.4444444444444444,\"#bd3786\"],[0.5555555555555556,\"#d8576b\"],[0.6666666666666666,\"#ed7953\"],[0.7777777777777778,\"#fb9f3a\"],[0.8888888888888888,\"#fdca26\"],[1.0,\"#f0f921\"]]}],\"surface\":[{\"type\":\"surface\",\"colorbar\":{\"outlinewidth\":0,\"ticks\":\"\"},\"colorscale\":[[0.0,\"#0d0887\"],[0.1111111111111111,\"#46039f\"],[0.2222222222222222,\"#7201a8\"],[0.3333333333333333,\"#9c179e\"],[0.4444444444444444,\"#bd3786\"],[0.5555555555555556,\"#d8576b\"],[0.6666666666666666,\"#ed7953\"],[0.7777777777777778,\"#fb9f3a\"],[0.8888888888888888,\"#fdca26\"],[1.0,\"#f0f921\"]]}],\"mesh3d\":[{\"type\":\"mesh3d\",\"colorbar\":{\"outlinewidth\":0,\"ticks\":\"\"}}],\"scatter\":[{\"fillpattern\":{\"fillmode\":\"overlay\",\"size\":10,\"solidity\":0.2},\"type\":\"scatter\"}],\"parcoords\":[{\"type\":\"parcoords\",\"line\":{\"colorbar\":{\"outlinewidth\":0,\"ticks\":\"\"}}}],\"scatterpolargl\":[{\"type\":\"scatterpolargl\",\"marker\":{\"colorbar\":{\"outlinewidth\":0,\"ticks\":\"\"}}}],\"bar\":[{\"error_x\":{\"color\":\"#2a3f5f\"},\"error_y\":{\"color\":\"#2a3f5f\"},\"marker\":{\"line\":{\"color\":\"#E5ECF6\",\"width\":0.5},\"pattern\":{\"fillmode\":\"overlay\",\"size\":10,\"solidity\":0.2}},\"type\":\"bar\"}],\"scattergeo\":[{\"type\":\"scattergeo\",\"marker\":{\"colorbar\":{\"outlinewidth\":0,\"ticks\":\"\"}}}],\"scatterpolar\":[{\"type\":\"scatterpolar\",\"marker\":{\"colorbar\":{\"outlinewidth\":0,\"ticks\":\"\"}}}],\"histogram\":[{\"marker\":{\"pattern\":{\"fillmode\":\"overlay\",\"size\":10,\"solidity\":0.2}},\"type\":\"histogram\"}],\"scattergl\":[{\"type\":\"scattergl\",\"marker\":{\"colorbar\":{\"outlinewidth\":0,\"ticks\":\"\"}}}],\"scatter3d\":[{\"type\":\"scatter3d\",\"line\":{\"colorbar\":{\"outlinewidth\":0,\"ticks\":\"\"}},\"marker\":{\"colorbar\":{\"outlinewidth\":0,\"ticks\":\"\"}}}],\"scattermapbox\":[{\"type\":\"scattermapbox\",\"marker\":{\"colorbar\":{\"outlinewidth\":0,\"ticks\":\"\"}}}],\"scatterternary\":[{\"type\":\"scatterternary\",\"marker\":{\"colorbar\":{\"outlinewidth\":0,\"ticks\":\"\"}}}],\"scattercarpet\":[{\"type\":\"scattercarpet\",\"marker\":{\"colorbar\":{\"outlinewidth\":0,\"ticks\":\"\"}}}],\"carpet\":[{\"aaxis\":{\"endlinecolor\":\"#2a3f5f\",\"gridcolor\":\"white\",\"linecolor\":\"white\",\"minorgridcolor\":\"white\",\"startlinecolor\":\"#2a3f5f\"},\"baxis\":{\"endlinecolor\":\"#2a3f5f\",\"gridcolor\":\"white\",\"linecolor\":\"white\",\"minorgridcolor\":\"white\",\"startlinecolor\":\"#2a3f5f\"},\"type\":\"carpet\"}],\"table\":[{\"cells\":{\"fill\":{\"color\":\"#EBF0F8\"},\"line\":{\"color\":\"white\"}},\"header\":{\"fill\":{\"color\":\"#C8D4E3\"},\"line\":{\"color\":\"white\"}},\"type\":\"table\"}],\"barpolar\":[{\"marker\":{\"line\":{\"color\":\"#E5ECF6\",\"width\":0.5},\"pattern\":{\"fillmode\":\"overlay\",\"size\":10,\"solidity\":0.2}},\"type\":\"barpolar\"}],\"pie\":[{\"automargin\":true,\"type\":\"pie\"}]},\"layout\":{\"autotypenumbers\":\"strict\",\"colorway\":[\"#636efa\",\"#EF553B\",\"#00cc96\",\"#ab63fa\",\"#FFA15A\",\"#19d3f3\",\"#FF6692\",\"#B6E880\",\"#FF97FF\",\"#FECB52\"],\"font\":{\"color\":\"#2a3f5f\"},\"hovermode\":\"closest\",\"hoverlabel\":{\"align\":\"left\"},\"paper_bgcolor\":\"white\",\"plot_bgcolor\":\"#E5ECF6\",\"polar\":{\"bgcolor\":\"#E5ECF6\",\"angularaxis\":{\"gridcolor\":\"white\",\"linecolor\":\"white\",\"ticks\":\"\"},\"radialaxis\":{\"gridcolor\":\"white\",\"linecolor\":\"white\",\"ticks\":\"\"}},\"ternary\":{\"bgcolor\":\"#E5ECF6\",\"aaxis\":{\"gridcolor\":\"white\",\"linecolor\":\"white\",\"ticks\":\"\"},\"baxis\":{\"gridcolor\":\"white\",\"linecolor\":\"white\",\"ticks\":\"\"},\"caxis\":{\"gridcolor\":\"white\",\"linecolor\":\"white\",\"ticks\":\"\"}},\"coloraxis\":{\"colorbar\":{\"outlinewidth\":0,\"ticks\":\"\"}},\"colorscale\":{\"sequential\":[[0.0,\"#0d0887\"],[0.1111111111111111,\"#46039f\"],[0.2222222222222222,\"#7201a8\"],[0.3333333333333333,\"#9c179e\"],[0.4444444444444444,\"#bd3786\"],[0.5555555555555556,\"#d8576b\"],[0.6666666666666666,\"#ed7953\"],[0.7777777777777778,\"#fb9f3a\"],[0.8888888888888888,\"#fdca26\"],[1.0,\"#f0f921\"]],\"sequentialminus\":[[0.0,\"#0d0887\"],[0.1111111111111111,\"#46039f\"],[0.2222222222222222,\"#7201a8\"],[0.3333333333333333,\"#9c179e\"],[0.4444444444444444,\"#bd3786\"],[0.5555555555555556,\"#d8576b\"],[0.6666666666666666,\"#ed7953\"],[0.7777777777777778,\"#fb9f3a\"],[0.8888888888888888,\"#fdca26\"],[1.0,\"#f0f921\"]],\"diverging\":[[0,\"#8e0152\"],[0.1,\"#c51b7d\"],[0.2,\"#de77ae\"],[0.3,\"#f1b6da\"],[0.4,\"#fde0ef\"],[0.5,\"#f7f7f7\"],[0.6,\"#e6f5d0\"],[0.7,\"#b8e186\"],[0.8,\"#7fbc41\"],[0.9,\"#4d9221\"],[1,\"#276419\"]]},\"xaxis\":{\"gridcolor\":\"white\",\"linecolor\":\"white\",\"ticks\":\"\",\"title\":{\"standoff\":15},\"zerolinecolor\":\"white\",\"automargin\":true,\"zerolinewidth\":2},\"yaxis\":{\"gridcolor\":\"white\",\"linecolor\":\"white\",\"ticks\":\"\",\"title\":{\"standoff\":15},\"zerolinecolor\":\"white\",\"automargin\":true,\"zerolinewidth\":2},\"scene\":{\"xaxis\":{\"backgroundcolor\":\"#E5ECF6\",\"gridcolor\":\"white\",\"linecolor\":\"white\",\"showbackground\":true,\"ticks\":\"\",\"zerolinecolor\":\"white\",\"gridwidth\":2},\"yaxis\":{\"backgroundcolor\":\"#E5ECF6\",\"gridcolor\":\"white\",\"linecolor\":\"white\",\"showbackground\":true,\"ticks\":\"\",\"zerolinecolor\":\"white\",\"gridwidth\":2},\"zaxis\":{\"backgroundcolor\":\"#E5ECF6\",\"gridcolor\":\"white\",\"linecolor\":\"white\",\"showbackground\":true,\"ticks\":\"\",\"zerolinecolor\":\"white\",\"gridwidth\":2}},\"shapedefaults\":{\"line\":{\"color\":\"#2a3f5f\"}},\"annotationdefaults\":{\"arrowcolor\":\"#2a3f5f\",\"arrowhead\":0,\"arrowwidth\":1},\"geo\":{\"bgcolor\":\"white\",\"landcolor\":\"#E5ECF6\",\"subunitcolor\":\"white\",\"showland\":true,\"showlakes\":true,\"lakecolor\":\"white\"},\"title\":{\"x\":0.05},\"mapbox\":{\"style\":\"light\"}}},\"xaxis\":{\"anchor\":\"y\",\"domain\":[0.0,1.0],\"title\":{\"text\":\"x\"}},\"yaxis\":{\"anchor\":\"x\",\"domain\":[0.0,1.0],\"title\":{\"text\":\"y\"}},\"legend\":{\"tracegroupgap\":0},\"margin\":{\"t\":60},\"barmode\":\"relative\"},                        {\"responsive\": true}                    ).then(function(){\n",
       "                            \n",
       "var gd = document.getElementById('5693d669-bc70-4c1d-8b0d-a6367fbb64fc');\n",
       "var x = new MutationObserver(function (mutations, observer) {{\n",
       "        var display = window.getComputedStyle(gd).display;\n",
       "        if (!display || display === 'none') {{\n",
       "            console.log([gd, 'removed!']);\n",
       "            Plotly.purge(gd);\n",
       "            observer.disconnect();\n",
       "        }}\n",
       "}});\n",
       "\n",
       "// Listen for the removal of the full notebook cells\n",
       "var notebookContainer = gd.closest('#notebook-container');\n",
       "if (notebookContainer) {{\n",
       "    x.observe(notebookContainer, {childList: true});\n",
       "}}\n",
       "\n",
       "// Listen for the clearing of the current output cell\n",
       "var outputEl = gd.closest('.output');\n",
       "if (outputEl) {{\n",
       "    x.observe(outputEl, {childList: true});\n",
       "}}\n",
       "\n",
       "                        })                };                });            </script>        </div>"
      ]
     },
     "metadata": {},
     "output_type": "display_data"
    }
   ],
   "source": [
    "rhyme_counts"
   ]
  },
  {
   "cell_type": "code",
   "execution_count": 127,
   "id": "d00e0c73-2863-4063-b33f-25f0dece8614",
   "metadata": {
    "tags": []
   },
   "outputs": [],
   "source": [
    "def remove_non_alpha_chars(text):\n",
    "    return re.sub(\"\\W*$\", \"\", text)"
   ]
  },
  {
   "cell_type": "code",
   "execution_count": 128,
   "id": "b85a1083-53d9-440d-a850-9bb2a87b6a3e",
   "metadata": {
    "tags": []
   },
   "outputs": [
    {
     "data": {
      "text/plain": [
       "0       [Qui, souhaitez, avoir, tout, le, plaisir]\n",
       "1       [Qu'un, amy, peult, vouloir, honnestement]\n",
       "2         [Prenez, exemple, à, mon, chaste, desir]\n",
       "3         [Et, vous, mirez, en, mon, contentement]\n",
       "4           [Mais, qui, vouldroit, audacieusement]\n",
       "                           ...                    \n",
       "2732        [A, tout, jamais, le, mien, te, donne]\n",
       "2733    [C’est, bien, disner, quant, on, eschappe]\n",
       "2734           [Sans, des-bourcer, pas-un, denier]\n",
       "2735       [Puis, torcher, son, nez, à, la, nappe]\n",
       "2736              [Et, dirɇ, adieu, au, tavernier]\n",
       "Name: verse, Length: 2737, dtype: object"
      ]
     },
     "execution_count": 128,
     "metadata": {},
     "output_type": "execute_result"
    }
   ],
   "source": [
    "df.verse.apply(remove_non_alpha_chars).str.split()"
   ]
  },
  {
   "cell_type": "code",
   "execution_count": 129,
   "id": "5bb3c5df-3178-4783-8774-8c1559be014f",
   "metadata": {
    "tags": []
   },
   "outputs": [],
   "source": [
    "df[\"rhyme_word\"] = df.verse.apply(remove_non_alpha_chars).str.split().str.get(-1)"
   ]
  },
  {
   "cell_type": "code",
   "execution_count": 130,
   "id": "8d9e7497-7ae1-469b-b167-d2d47c586940",
   "metadata": {
    "tags": []
   },
   "outputs": [
    {
     "data": {
      "text/html": [
       "<div>\n",
       "<style scoped>\n",
       "    .dataframe tbody tr th:only-of-type {\n",
       "        vertical-align: middle;\n",
       "    }\n",
       "\n",
       "    .dataframe tbody tr th {\n",
       "        vertical-align: top;\n",
       "    }\n",
       "\n",
       "    .dataframe thead th {\n",
       "        text-align: right;\n",
       "    }\n",
       "</style>\n",
       "<table border=\"1\" class=\"dataframe\">\n",
       "  <thead>\n",
       "    <tr style=\"text-align: right;\">\n",
       "      <th></th>\n",
       "      <th>dc_id</th>\n",
       "      <th>rhyme_scheme</th>\n",
       "      <th>meter</th>\n",
       "      <th>stanza_id</th>\n",
       "      <th>line_id</th>\n",
       "      <th>verse</th>\n",
       "      <th>rhyme_word</th>\n",
       "    </tr>\n",
       "  </thead>\n",
       "  <tbody>\n",
       "    <tr>\n",
       "      <th>0</th>\n",
       "      <td>DC0101</td>\n",
       "      <td>ababbcbc</td>\n",
       "      <td>10</td>\n",
       "      <td>1</td>\n",
       "      <td>1</td>\n",
       "      <td>Qui souhaitez avoir tout le plaisir</td>\n",
       "      <td>plaisir</td>\n",
       "    </tr>\n",
       "    <tr>\n",
       "      <th>1</th>\n",
       "      <td>DC0101</td>\n",
       "      <td>ababbcbc</td>\n",
       "      <td>10</td>\n",
       "      <td>1</td>\n",
       "      <td>2</td>\n",
       "      <td>Qu'un amy peult vouloir honnestement</td>\n",
       "      <td>honnestement</td>\n",
       "    </tr>\n",
       "    <tr>\n",
       "      <th>2</th>\n",
       "      <td>DC0101</td>\n",
       "      <td>ababbcbc</td>\n",
       "      <td>10</td>\n",
       "      <td>1</td>\n",
       "      <td>3</td>\n",
       "      <td>Prenez exemple à mon chaste desir</td>\n",
       "      <td>desir</td>\n",
       "    </tr>\n",
       "    <tr>\n",
       "      <th>3</th>\n",
       "      <td>DC0101</td>\n",
       "      <td>ababbcbc</td>\n",
       "      <td>10</td>\n",
       "      <td>1</td>\n",
       "      <td>4</td>\n",
       "      <td>Et vous mirez en mon contentement.</td>\n",
       "      <td>contentement</td>\n",
       "    </tr>\n",
       "    <tr>\n",
       "      <th>4</th>\n",
       "      <td>DC0101</td>\n",
       "      <td>ababbcbc</td>\n",
       "      <td>10</td>\n",
       "      <td>2</td>\n",
       "      <td>5</td>\n",
       "      <td>Mais qui vouldroit audacieusement</td>\n",
       "      <td>audacieusement</td>\n",
       "    </tr>\n",
       "    <tr>\n",
       "      <th>...</th>\n",
       "      <td>...</td>\n",
       "      <td>...</td>\n",
       "      <td>...</td>\n",
       "      <td>...</td>\n",
       "      <td>...</td>\n",
       "      <td>...</td>\n",
       "      <td>...</td>\n",
       "    </tr>\n",
       "    <tr>\n",
       "      <th>2732</th>\n",
       "      <td>DC1616</td>\n",
       "      <td>ababbcbc</td>\n",
       "      <td>8</td>\n",
       "      <td>2</td>\n",
       "      <td>8</td>\n",
       "      <td>A tout jamais le mien te donne.</td>\n",
       "      <td>donne</td>\n",
       "    </tr>\n",
       "    <tr>\n",
       "      <th>2733</th>\n",
       "      <td>DC1618</td>\n",
       "      <td>abab</td>\n",
       "      <td>8</td>\n",
       "      <td>1</td>\n",
       "      <td>1</td>\n",
       "      <td>C’est bien disner quant on eschappe,</td>\n",
       "      <td>eschappe</td>\n",
       "    </tr>\n",
       "    <tr>\n",
       "      <th>2734</th>\n",
       "      <td>DC1618</td>\n",
       "      <td>abab</td>\n",
       "      <td>8</td>\n",
       "      <td>1</td>\n",
       "      <td>2</td>\n",
       "      <td>Sans des-bourcer pas-un denier,</td>\n",
       "      <td>denier</td>\n",
       "    </tr>\n",
       "    <tr>\n",
       "      <th>2735</th>\n",
       "      <td>DC1618</td>\n",
       "      <td>abab</td>\n",
       "      <td>8</td>\n",
       "      <td>1</td>\n",
       "      <td>3</td>\n",
       "      <td>Puis torcher son nez à la nappe,</td>\n",
       "      <td>nappe</td>\n",
       "    </tr>\n",
       "    <tr>\n",
       "      <th>2736</th>\n",
       "      <td>DC1618</td>\n",
       "      <td>abab</td>\n",
       "      <td>8</td>\n",
       "      <td>1</td>\n",
       "      <td>4</td>\n",
       "      <td>Et dirɇ adieu au tavernier.</td>\n",
       "      <td>tavernier</td>\n",
       "    </tr>\n",
       "  </tbody>\n",
       "</table>\n",
       "<p>2737 rows × 7 columns</p>\n",
       "</div>"
      ],
      "text/plain": [
       "       dc_id rhyme_scheme meter  stanza_id  line_id  \\\n",
       "0     DC0101     ababbcbc    10          1        1   \n",
       "1     DC0101     ababbcbc    10          1        2   \n",
       "2     DC0101     ababbcbc    10          1        3   \n",
       "3     DC0101     ababbcbc    10          1        4   \n",
       "4     DC0101     ababbcbc    10          2        5   \n",
       "...      ...          ...   ...        ...      ...   \n",
       "2732  DC1616     ababbcbc     8          2        8   \n",
       "2733  DC1618         abab     8          1        1   \n",
       "2734  DC1618         abab     8          1        2   \n",
       "2735  DC1618         abab     8          1        3   \n",
       "2736  DC1618         abab     8          1        4   \n",
       "\n",
       "                                     verse      rhyme_word  \n",
       "0      Qui souhaitez avoir tout le plaisir         plaisir  \n",
       "1     Qu'un amy peult vouloir honnestement    honnestement  \n",
       "2        Prenez exemple à mon chaste desir           desir  \n",
       "3       Et vous mirez en mon contentement.    contentement  \n",
       "4        Mais qui vouldroit audacieusement  audacieusement  \n",
       "...                                    ...             ...  \n",
       "2732       A tout jamais le mien te donne.           donne  \n",
       "2733  C’est bien disner quant on eschappe,        eschappe  \n",
       "2734       Sans des-bourcer pas-un denier,          denier  \n",
       "2735      Puis torcher son nez à la nappe,           nappe  \n",
       "2736           Et dirɇ adieu au tavernier.       tavernier  \n",
       "\n",
       "[2737 rows x 7 columns]"
      ]
     },
     "execution_count": 130,
     "metadata": {},
     "output_type": "execute_result"
    }
   ],
   "source": [
    "df"
   ]
  },
  {
   "cell_type": "code",
   "execution_count": 131,
   "id": "8ec23e80-d751-43f6-8144-81ba56b57a53",
   "metadata": {
    "tags": []
   },
   "outputs": [
    {
     "data": {
      "text/html": [
       "<div>\n",
       "<style scoped>\n",
       "    .dataframe tbody tr th:only-of-type {\n",
       "        vertical-align: middle;\n",
       "    }\n",
       "\n",
       "    .dataframe tbody tr th {\n",
       "        vertical-align: top;\n",
       "    }\n",
       "\n",
       "    .dataframe thead th {\n",
       "        text-align: right;\n",
       "    }\n",
       "</style>\n",
       "<table border=\"1\" class=\"dataframe\">\n",
       "  <thead>\n",
       "    <tr style=\"text-align: right;\">\n",
       "      <th></th>\n",
       "      <th>dc_id</th>\n",
       "      <th>rhyme_word</th>\n",
       "    </tr>\n",
       "  </thead>\n",
       "  <tbody>\n",
       "    <tr>\n",
       "      <th>0</th>\n",
       "      <td>DC0101</td>\n",
       "      <td>[plaisir, honnestement, desir, contentement, a...</td>\n",
       "    </tr>\n",
       "    <tr>\n",
       "      <th>1</th>\n",
       "      <td>DC0102</td>\n",
       "      <td>[plaist, marchander, demander, desplait, amy, ...</td>\n",
       "    </tr>\n",
       "    <tr>\n",
       "      <th>2</th>\n",
       "      <td>DC0103</td>\n",
       "      <td>[fortuné, belle, predestiné, d'elle, rebelle, ...</td>\n",
       "    </tr>\n",
       "    <tr>\n",
       "      <th>3</th>\n",
       "      <td>DC0104</td>\n",
       "      <td>[apparoistre, chasteté, cognoistre, fermeté, a...</td>\n",
       "    </tr>\n",
       "    <tr>\n",
       "      <th>4</th>\n",
       "      <td>DC0105</td>\n",
       "      <td>[poly, grace, joly, basse, pourchasse, belle, ...</td>\n",
       "    </tr>\n",
       "    <tr>\n",
       "      <th>...</th>\n",
       "      <td>...</td>\n",
       "      <td>...</td>\n",
       "    </tr>\n",
       "    <tr>\n",
       "      <th>328</th>\n",
       "      <td>DC1612</td>\n",
       "      <td>[malheur, allegement, heur, aucunement, doucem...</td>\n",
       "    </tr>\n",
       "    <tr>\n",
       "      <th>329</th>\n",
       "      <td>DC1614</td>\n",
       "      <td>[cueur, grande, langueur, offrande, cruelle, e...</td>\n",
       "    </tr>\n",
       "    <tr>\n",
       "      <th>330</th>\n",
       "      <td>DC1615</td>\n",
       "      <td>[cueur, absence, serviteur, naissance, plaisan...</td>\n",
       "    </tr>\n",
       "    <tr>\n",
       "      <th>331</th>\n",
       "      <td>DC1616</td>\n",
       "      <td>[heureux, l’heure, yeux, demeure, t’asseure, b...</td>\n",
       "    </tr>\n",
       "    <tr>\n",
       "      <th>332</th>\n",
       "      <td>DC1618</td>\n",
       "      <td>[eschappe, denier, nappe, tavernier]</td>\n",
       "    </tr>\n",
       "  </tbody>\n",
       "</table>\n",
       "<p>333 rows × 2 columns</p>\n",
       "</div>"
      ],
      "text/plain": [
       "      dc_id                                         rhyme_word\n",
       "0    DC0101  [plaisir, honnestement, desir, contentement, a...\n",
       "1    DC0102  [plaist, marchander, demander, desplait, amy, ...\n",
       "2    DC0103  [fortuné, belle, predestiné, d'elle, rebelle, ...\n",
       "3    DC0104  [apparoistre, chasteté, cognoistre, fermeté, a...\n",
       "4    DC0105  [poly, grace, joly, basse, pourchasse, belle, ...\n",
       "..      ...                                                ...\n",
       "328  DC1612  [malheur, allegement, heur, aucunement, doucem...\n",
       "329  DC1614  [cueur, grande, langueur, offrande, cruelle, e...\n",
       "330  DC1615  [cueur, absence, serviteur, naissance, plaisan...\n",
       "331  DC1616  [heureux, l’heure, yeux, demeure, t’asseure, b...\n",
       "332  DC1618               [eschappe, denier, nappe, tavernier]\n",
       "\n",
       "[333 rows x 2 columns]"
      ]
     },
     "execution_count": 131,
     "metadata": {},
     "output_type": "execute_result"
    }
   ],
   "source": [
    "rhymes = df.groupby([\"dc_id\"]).rhyme_word.apply(list).reset_index()\n",
    "rhymes"
   ]
  },
  {
   "cell_type": "code",
   "execution_count": 132,
   "id": "f8db432c-bfbf-4cdb-bd64-de5410146097",
   "metadata": {
    "tags": []
   },
   "outputs": [
    {
     "data": {
      "text/plain": [
       "0      [(plaisir, honnestement), (plaisir, desir), (p...\n",
       "1      [(plaist, marchander), (plaist, demander), (pl...\n",
       "2      [(fortuné, belle), (fortuné, predestiné), (for...\n",
       "3      [(apparoistre, chasteté), (apparoistre, cognoi...\n",
       "4      [(poly, grace), (poly, joly), (poly, basse), (...\n",
       "                             ...                        \n",
       "328    [(malheur, allegement), (malheur, heur), (malh...\n",
       "329    [(cueur, grande), (cueur, langueur), (cueur, o...\n",
       "330    [(cueur, absence), (cueur, serviteur), (cueur,...\n",
       "331    [(heureux, l’heure), (heureux, yeux), (heureux...\n",
       "332    [(eschappe, denier), (eschappe, nappe), (escha...\n",
       "Name: rhyme_word, Length: 333, dtype: object"
      ]
     },
     "execution_count": 132,
     "metadata": {},
     "output_type": "execute_result"
    }
   ],
   "source": [
    "rhyme_pairs = rhymes.rhyme_word.apply(lambda x: list(combinations(x, 2)))\n",
    "rhyme_pairs"
   ]
  },
  {
   "cell_type": "code",
   "execution_count": 133,
   "id": "918f5d92-771f-4dd2-bdbf-fe48a8e2fab9",
   "metadata": {
    "tags": []
   },
   "outputs": [
    {
     "data": {
      "text/plain": [
       "array([('plaisir', 'honnestement'), ('plaisir', 'desir'),\n",
       "       ('plaisir', 'contentement'), ..., ('denier', 'nappe'),\n",
       "       ('denier', 'tavernier'), ('nappe', 'tavernier')], dtype=object)"
      ]
     },
     "execution_count": 133,
     "metadata": {},
     "output_type": "execute_result"
    }
   ],
   "source": [
    "unique_rhyme_pairs = rhyme_pairs.explode().dropna().unique()\n",
    "unique_rhyme_pairs"
   ]
  },
  {
   "cell_type": "code",
   "execution_count": 134,
   "id": "87386b14-4dae-4e61-a709-e29da5a26df7",
   "metadata": {
    "tags": []
   },
   "outputs": [
    {
     "data": {
      "text/plain": [
       "0"
      ]
     },
     "execution_count": 134,
     "metadata": {},
     "output_type": "execute_result"
    }
   ],
   "source": [
    "pd.Series(unique_rhyme_pairs).isna().sum()"
   ]
  },
  {
   "cell_type": "code",
   "execution_count": 135,
   "id": "8efc83d0-0a5e-42cb-a1f4-9ed3ad13c5a4",
   "metadata": {
    "tags": []
   },
   "outputs": [],
   "source": [
    "def add_communities(G):\n",
    "    G = deepcopy(G)\n",
    "    partition = community_louvain.best_partition(G)\n",
    "    nx.set_node_attributes(G, partition, \"group\")\n",
    "    return G"
   ]
  },
  {
   "cell_type": "code",
   "execution_count": 136,
   "id": "71b1f85f-c98c-4eae-b70e-57e36a2e97e6",
   "metadata": {
    "tags": []
   },
   "outputs": [],
   "source": [
    "G = nx.Graph()\n",
    "G.add_edges_from(unique_rhyme_pairs)\n",
    "G = add_communities(G)"
   ]
  },
  {
   "cell_type": "code",
   "execution_count": 138,
   "id": "69112c31-3c8e-4d45-875b-7fc6fc2669f5",
   "metadata": {
    "tags": []
   },
   "outputs": [
    {
     "data": {
      "text/html": [
       "\n",
       "        <iframe\n",
       "            width=\"1000\"\n",
       "            height=\"1000\"\n",
       "            src=\"network_graph.html\"\n",
       "            frameborder=\"0\"\n",
       "            allowfullscreen\n",
       "            \n",
       "        ></iframe>\n",
       "        "
      ],
      "text/plain": [
       "<IPython.lib.display.IFrame at 0x30593bc10>"
      ]
     },
     "execution_count": 138,
     "metadata": {},
     "output_type": "execute_result"
    }
   ],
   "source": [
    "# set display parameters\n",
    "network_graph = net(notebook=True,\n",
    "                   width=1000,\n",
    "                   height=1000,\n",
    "                   bgcolor=\"black\", \n",
    "                   font_color=\"white\")\n",
    "\n",
    "# Set the physics layout of the network\n",
    "\n",
    "\n",
    "\n",
    "network_graph.set_options(\"\"\"\n",
    "{\n",
    "\"physics\": {\n",
    "\"enabled\": true,\n",
    "\"forceAtlas2Based\": {\n",
    "    \"springLength\": 1\n",
    "},\n",
    "\"solver\": \"forceAtlas2Based\"\n",
    "}\n",
    "}\n",
    "\"\"\")\n",
    "\n",
    "network_graph.from_nx(G)\n",
    "# # return the network\n",
    "network_graph.show(\"network_graph.html\")"
   ]
  },
  {
   "cell_type": "code",
   "execution_count": 139,
   "id": "c7515652-fb66-43bf-8d74-52a6b6cfd901",
   "metadata": {
    "tags": []
   },
   "outputs": [],
   "source": [
    "pyvis_graph = Network(notebook=False, width=\"1600px\", height=\"900px\", bgcolor=\"black\", font_color=\"white\")"
   ]
  },
  {
   "cell_type": "code",
   "execution_count": null,
   "id": "c8b71854-26a6-4b25-8e4e-5d9ba39e4504",
   "metadata": {},
   "outputs": [],
   "source": []
  }
 ],
 "metadata": {
  "kernelspec": {
   "display_name": "Python 3 (ipykernel)",
   "language": "python",
   "name": "python3"
  },
  "language_info": {
   "codemirror_mode": {
    "name": "ipython",
    "version": 3
   },
   "file_extension": ".py",
   "mimetype": "text/x-python",
   "name": "python",
   "nbconvert_exporter": "python",
   "pygments_lexer": "ipython3",
   "version": "3.9.18"
  }
 },
 "nbformat": 4,
 "nbformat_minor": 5
}
