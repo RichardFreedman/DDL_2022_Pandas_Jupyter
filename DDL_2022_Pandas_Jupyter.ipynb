{
 "cells": [
  {
   "cell_type": "markdown",
   "metadata": {
    "id": "9K8MnxhaIImC"
   },
   "source": [
    "# RSA DDL 2022:  Using Jupyter Notebooks and Pandas to Work with Data\n",
    "\n",
    "Richard Freedman (Haverford College)<br>\n",
    "rfreedma@haverford.edu  <br>\n",
    "https://orcid.org/0000-0001-5550-3674 <br>\n",
    "\n",
    "Daniel Russo-Batterham (The University of Melbourne) <br>\n",
    "daniel.russo@unimelb.edu.au <br>\n",
    "https://orcid.org/0000-0001-7550-528X <br>\n"
   ]
  },
  {
   "cell_type": "markdown",
   "metadata": {
    "id": "WhdBzidHIImH"
   },
   "source": [
    "## A. Introduction\n",
    "\n",
    "\n",
    "* **Jupyter Notebooks** allow anyone to run **Python** code in any browser, without the need to use the terminal or command line\n",
    "\n",
    "* **Jupyter Notebooks** are organized as 'cells', which can be **commentary** (like this one, which is static), or **code** (those below, which produce dyanmic output in the form of charts or tabular data frames.  \n",
    "\n",
    "* To run an individual cell, use the **`arrow/run`** command at the top of the Notebook, or just press **`Shift + Enter`** on your keyboard.\n"
   ]
  },
  {
   "cell_type": "markdown",
   "metadata": {
    "id": "dZVsIj-mIImH"
   },
   "source": [
    "### A.1 Import Libraries\n",
    "\n",
    "Before we can do anything we need to import the python tools we need:\n",
    "\n",
    "* **pandas** is the main library\n",
    "* **matplot** will help us render graphs and charts\n",
    "* **folium** will help us with GIS and maps\n",
    "* there are dozens of other standard libraries; if they work with Python, they will work with Jupyter and Pandas"
   ]
  },
  {
   "cell_type": "code",
   "execution_count": 1,
   "metadata": {
    "ExecuteTime": {
     "end_time": "2022-02-10T23:28:15.994052Z",
     "start_time": "2022-02-10T23:28:14.791696Z"
    },
    "id": "3_H8IHsFIImI"
   },
   "outputs": [],
   "source": [
    "import pandas as pd\n",
    "import matplotlib.pyplot as plt\n",
    "import networkx as nx\n",
    "import folium\n",
    "import numpy as np\n",
    "from datetime import datetime"
   ]
  },
  {
   "cell_type": "markdown",
   "metadata": {
    "id": "-b7jBmh9RMPG"
   },
   "source": [
    "### A.2  URLs of our Data Sets"
   ]
  },
  {
   "cell_type": "code",
   "execution_count": 60,
   "metadata": {
    "id": "tIVBIYR-QQTr"
   },
   "outputs": [],
   "source": [
    "emblematica_books = \"data_files/bookObjects.csv\"\n",
    "emblematica_emblems = \"data_files/emblemObjects.csv\"\n",
    "decima_data = \"data_files/Decima_data.csv\"\n",
    "bartoli_letters = 'https://docs.google.com/spreadsheets/d/e/2PACX-1vRhB4rw1W7DMgO8EEn8jhvRVuIGe-NvcTVMSwCXKxZQ3_B8LUB8OmLhMKAbFap8K3VqcfEQxG8ZKYvq/pub?output=csv'\n",
    "\n",
    "du_chemin_poems = 'https://docs.google.com/spreadsheets/d/e/2PACX-1vRrNA-LgA5pyIIB-FPDuIBU5eZy6dnL5WHHIkRDJIhi-G9fZPemaa6s8h_bNKg5mSx6yi7gFYdIk64w/pub?output=csv'\n",
    "\n",
    "compagnie_data = 'https://docs.google.com/spreadsheets/d/e/2PACX-1vRSKiDNpqPfMPLcLz-W6amuDsVZabZuFWqcrpiXNVsZecxRKlFCkoFlCGYkm5YVJaKllH9HWV3FvO-V/pub?output=csv'"
   ]
  },
  {
   "cell_type": "markdown",
   "metadata": {
    "id": "KHJ2vDklIImM"
   },
   "source": [
    "### A.3  Make a DataFrame\n",
    "\n",
    "* The basic unit of work in Pandas is the DataFrame (a table representing the data as columns (with the headings from our CSV files) and rows.\n",
    "* The left-hand column is called the `index`.  Here it's simply a number, but we can change that.  **NB**:  index starts at \"0\"!\n",
    "\n",
    "**Create a DataFrame** by importing one of the CSV files.  We'll also give the frame a name (`books`):"
   ]
  },
  {
   "cell_type": "code",
   "execution_count": 2,
   "metadata": {
    "ExecuteTime": {
     "end_time": "2022-02-10T23:28:16.147645Z",
     "start_time": "2022-02-10T23:28:16.132349Z"
    },
    "id": "MVcLXEIyIImN"
   },
   "outputs": [
    {
     "ename": "NameError",
     "evalue": "name 'emblematica_books' is not defined",
     "output_type": "error",
     "traceback": [
      "\u001b[0;31m---------------------------------------------------------------------------\u001b[0m",
      "\u001b[0;31mNameError\u001b[0m                                 Traceback (most recent call last)",
      "\u001b[0;32m<ipython-input-2-c97d7af4a7e1>\u001b[0m in \u001b[0;36m<module>\u001b[0;34m\u001b[0m\n\u001b[0;32m----> 1\u001b[0;31m \u001b[0mbooks\u001b[0m \u001b[0;34m=\u001b[0m \u001b[0mpd\u001b[0m\u001b[0;34m.\u001b[0m\u001b[0mread_csv\u001b[0m\u001b[0;34m(\u001b[0m\u001b[0memblematica_books\u001b[0m\u001b[0;34m)\u001b[0m\u001b[0;34m\u001b[0m\u001b[0;34m\u001b[0m\u001b[0m\n\u001b[0m",
      "\u001b[0;31mNameError\u001b[0m: name 'emblematica_books' is not defined"
     ]
    }
   ],
   "source": [
    "books = pd.read_csv(emblematica_books)"
   ]
  },
  {
   "cell_type": "markdown",
   "metadata": {
    "id": "yIAtzsXQIImO"
   },
   "source": [
    "### A.4 Inspect the DataFrame\n",
    "\n",
    "Now we can look at the data in various ways to see what's here:\n",
    "\n",
    "* `books.head()` shows us just the first five entries (for brevity).  \n",
    "* We could also see `books.tail()`, or `books.sample(5)` to see a random sample of five.\n",
    "* `books.shape` will tell us the size of our frame:  how many rows and columns\n",
    "\n"
   ]
  },
  {
   "cell_type": "code",
   "execution_count": null,
   "metadata": {
    "ExecuteTime": {
     "end_time": "2022-02-10T23:28:16.169861Z",
     "start_time": "2022-02-10T23:28:16.150328Z"
    },
    "colab": {
     "base_uri": "https://localhost:8080/",
     "height": 583
    },
    "id": "9EZrZJFzIImO",
    "outputId": "3989d9a8-6ce1-40d8-f090-af3a03822a03"
   },
   "outputs": [],
   "source": [
    "books.tail()"
   ]
  },
  {
   "cell_type": "markdown",
   "metadata": {
    "id": "OxezLWpBIImP"
   },
   "source": [
    "Overall size of our dataframe:"
   ]
  },
  {
   "cell_type": "code",
   "execution_count": 12,
   "metadata": {
    "ExecuteTime": {
     "end_time": "2022-02-10T23:28:16.176794Z",
     "start_time": "2022-02-10T23:28:16.172052Z"
    },
    "colab": {
     "base_uri": "https://localhost:8080/"
    },
    "id": "OiCWcuEoIImQ",
    "outputId": "0dd54477-40b8-4d70-ea65-32fec03cdcf4"
   },
   "outputs": [
    {
     "data": {
      "text/plain": [
       "(48, 14)"
      ]
     },
     "execution_count": 12,
     "metadata": {},
     "output_type": "execute_result"
    }
   ],
   "source": [
    "books.shape"
   ]
  },
  {
   "cell_type": "markdown",
   "metadata": {
    "id": "Z0a9PulFY-W-"
   },
   "source": [
    "#### We found some duplicate books, so let's drop one of those"
   ]
  },
  {
   "cell_type": "code",
   "execution_count": 13,
   "metadata": {
    "id": "wY-nDPQfYBzq"
   },
   "outputs": [
    {
     "data": {
      "text/plain": [
       "(47, 14)"
      ]
     },
     "execution_count": 13,
     "metadata": {},
     "output_type": "execute_result"
    }
   ],
   "source": [
    "books = books.drop_duplicates()\n",
    "books.shape"
   ]
  },
  {
   "cell_type": "markdown",
   "metadata": {
    "id": "M0GBzE-1IImQ"
   },
   "source": [
    "## B. Working with Column Data\n",
    "\n",
    "### B.1 Get Columns and Values\n",
    "\n",
    "* We now start to look more closely the columns\n",
    "* `books.columns` will give us a list of the column names\n",
    "* `books.columns.sort_values()`\n",
    "* Select one:  `books[\"Place_of_Publication\"]`\n",
    "* Count the number of unique values: `books[\"Place_of_Publication\"].nunique()`\n",
    "* Count the number of entries for each value:  `books[\"Place_of_Publication\"].value_counts()`"
   ]
  },
  {
   "cell_type": "markdown",
   "metadata": {
    "id": "qTNTWICgIImR"
   },
   "source": [
    "#### We can list out the columns like this:"
   ]
  },
  {
   "cell_type": "code",
   "execution_count": 14,
   "metadata": {
    "ExecuteTime": {
     "end_time": "2022-02-10T23:28:16.182453Z",
     "start_time": "2022-02-10T23:28:16.178472Z"
    },
    "colab": {
     "base_uri": "https://localhost:8080/"
    },
    "id": "Xx6aHmNeIImR",
    "outputId": "d1b2954d-22b9-497b-8646-49a69de3a96f"
   },
   "outputs": [
    {
     "data": {
      "text/plain": [
       "Index(['Book_ID', 'URL_for_Book_Details', 'Book_Title', 'Publication_Date',\n",
       "       'Publisher', 'Place_of_Publication', 'Author_1', 'Author_2', 'Author_3',\n",
       "       'Author_4', 'Author_5', 'Contributor_1', 'Contributor_2',\n",
       "       'Contributor_3'],\n",
       "      dtype='object')"
      ]
     },
     "execution_count": 14,
     "metadata": {},
     "output_type": "execute_result"
    }
   ],
   "source": [
    "books.columns"
   ]
  },
  {
   "cell_type": "markdown",
   "metadata": {
    "id": "-eLbZbYnIImR"
   },
   "source": [
    "#### And put them in alphabetical order"
   ]
  },
  {
   "cell_type": "code",
   "execution_count": 15,
   "metadata": {
    "ExecuteTime": {
     "end_time": "2022-02-10T23:28:16.188822Z",
     "start_time": "2022-02-10T23:28:16.184107Z"
    },
    "colab": {
     "base_uri": "https://localhost:8080/"
    },
    "id": "wVlYx_hRIImS",
    "outputId": "9b8a0dc0-415d-426c-e67d-2941ef00bd12"
   },
   "outputs": [
    {
     "data": {
      "text/plain": [
       "Index(['Author_1', 'Author_2', 'Author_3', 'Author_4', 'Author_5', 'Book_ID',\n",
       "       'Book_Title', 'Contributor_1', 'Contributor_2', 'Contributor_3',\n",
       "       'Place_of_Publication', 'Publication_Date', 'Publisher',\n",
       "       'URL_for_Book_Details'],\n",
       "      dtype='object')"
      ]
     },
     "execution_count": 15,
     "metadata": {},
     "output_type": "execute_result"
    }
   ],
   "source": [
    "books.columns.sort_values()"
   ]
  },
  {
   "cell_type": "markdown",
   "metadata": {
    "id": "ocLkZ8C3R6Rr"
   },
   "source": [
    "#### An individual column is represented as a \"Series\""
   ]
  },
  {
   "cell_type": "code",
   "execution_count": 16,
   "metadata": {
    "ExecuteTime": {
     "end_time": "2022-02-10T23:28:16.197447Z",
     "start_time": "2022-02-10T23:28:16.192708Z"
    },
    "colab": {
     "base_uri": "https://localhost:8080/"
    },
    "id": "Fu7Db56iIImS",
    "outputId": "d7f7aed6-de6b-491d-fd3f-84f6e5bb9158"
   },
   "outputs": [
    {
     "data": {
      "text/plain": [
       "0                          Nurembergµ\n",
       "1                           Osnabrugi\n",
       "2                             Lovanii\n",
       "3                             A Paris\n",
       "4                            Augspurg\n",
       "5               Francofurti ad Moenum\n",
       "6                          Nuremberg?\n",
       "7                            Bononiae\n",
       "8                            Nürnberg\n",
       "9                         Francofurti\n",
       "10                         Heidelberg\n",
       "11                           Augspurg\n",
       "13                           Augspurg\n",
       "14                          Saltzburg\n",
       "15                        Heidelbergæ\n",
       "16                             London\n",
       "17                           Coloniae\n",
       "18                          Bruxellae\n",
       "19                             Leiden\n",
       "20                          Amsterdam\n",
       "21                            Lugduni\n",
       "22                               Lyon\n",
       "23    Impresso en la ciudad de Najera\n",
       "24                            Patauij\n",
       "25       Excvsvm Avgvstæ Vindelicorum\n",
       "26       Excvsvm Avgvstæ Vindelicorum\n",
       "27      Excvsvm Avgvstae Vindelicorum\n",
       "28                           Parisiis\n",
       "29                On les vend a Paris\n",
       "30                On les uend à Paris\n",
       "31                           Parisiis\n",
       "32                            En Lyon\n",
       "33                               Lvgd\n",
       "34                               Lvgd\n",
       "35                            Lvgdvni\n",
       "36                             A Lyon\n",
       "37     Gedruckt zu Franckfurt am Mayn\n",
       "38                  Lvgdvni Batavorvm\n",
       "39                           In Lione\n",
       "40                              Paris\n",
       "41                             A Lyon\n",
       "42                          A Cologny\n",
       "43                           Nürnberg\n",
       "44                          Augstburg\n",
       "45                           Nürnberg\n",
       "46                       Braunschweig\n",
       "47                 Franckfurt am Mayn\n",
       "Name: Place_of_Publication, dtype: object"
      ]
     },
     "execution_count": 16,
     "metadata": {},
     "output_type": "execute_result"
    }
   ],
   "source": [
    "books[\"Place_of_Publication\"]"
   ]
  },
  {
   "cell_type": "code",
   "execution_count": 17,
   "metadata": {
    "ExecuteTime": {
     "end_time": "2022-02-10T23:28:16.204254Z",
     "start_time": "2022-02-10T23:28:16.200420Z"
    },
    "colab": {
     "base_uri": "https://localhost:8080/"
    },
    "id": "LHE1ydMcIImS",
    "outputId": "efe0ff1a-1bb5-4c6b-a9dc-654b959943ae"
   },
   "outputs": [
    {
     "data": {
      "text/plain": [
       "39"
      ]
     },
     "execution_count": 17,
     "metadata": {},
     "output_type": "execute_result"
    }
   ],
   "source": [
    "books[\"Place_of_Publication\"].nunique()"
   ]
  },
  {
   "cell_type": "markdown",
   "metadata": {
    "id": "nqQC5VdVIImT"
   },
   "source": [
    "#### We get a count of the places of publication as follows. Note, however, the subtle orthographical differences:"
   ]
  },
  {
   "cell_type": "code",
   "execution_count": 18,
   "metadata": {
    "ExecuteTime": {
     "end_time": "2022-02-10T23:28:16.211530Z",
     "start_time": "2022-02-10T23:28:16.206232Z"
    },
    "colab": {
     "base_uri": "https://localhost:8080/"
    },
    "id": "7dILy_6EIImT",
    "outputId": "537c9609-4586-496f-8e2e-9951b2dbaa31"
   },
   "outputs": [
    {
     "data": {
      "text/plain": [
       "Nürnberg                           3\n",
       "Augspurg                           3\n",
       "Lvgd                               2\n",
       "A Lyon                             2\n",
       "Excvsvm Avgvstæ Vindelicorum       2\n",
       "Parisiis                           2\n",
       "In Lione                           1\n",
       "Lugduni                            1\n",
       "Lvgdvni                            1\n",
       "Impresso en la ciudad de Najera    1\n",
       "Coloniae                           1\n",
       "Bononiae                           1\n",
       "A Paris                            1\n",
       "Francofurti                        1\n",
       "En Lyon                            1\n",
       "Lyon                               1\n",
       "London                             1\n",
       "Nurembergµ                         1\n",
       "Lovanii                            1\n",
       "Lvgdvni Batavorvm                  1\n",
       "Franckfurt am Mayn                 1\n",
       "Nuremberg?                         1\n",
       "A Cologny                          1\n",
       "Saltzburg                          1\n",
       "Paris                              1\n",
       "Leiden                             1\n",
       "Heidelberg                         1\n",
       "Augstburg                          1\n",
       "Osnabrugi                          1\n",
       "Bruxellae                          1\n",
       "On les vend a Paris                1\n",
       "Patauij                            1\n",
       "Excvsvm Avgvstae Vindelicorum      1\n",
       "On les uend à Paris                1\n",
       "Braunschweig                       1\n",
       "Gedruckt zu Franckfurt am Mayn     1\n",
       "Heidelbergæ                        1\n",
       "Francofurti ad Moenum              1\n",
       "Amsterdam                          1\n",
       "Name: Place_of_Publication, dtype: int64"
      ]
     },
     "execution_count": 18,
     "metadata": {},
     "output_type": "execute_result"
    }
   ],
   "source": [
    "books[\"Place_of_Publication\"].value_counts()"
   ]
  },
  {
   "cell_type": "markdown",
   "metadata": {
    "id": "Hph_ttUMIImU"
   },
   "source": [
    "___"
   ]
  },
  {
   "cell_type": "markdown",
   "metadata": {
    "id": "Ov3ayayPIImV"
   },
   "source": [
    "### B.2  What about all those Author columns?\n",
    "\n",
    "* Notice that in the *Emblematica* data that an individual book can have more than one author.  Each is in a different column\n"
   ]
  },
  {
   "cell_type": "code",
   "execution_count": 19,
   "metadata": {
    "ExecuteTime": {
     "end_time": "2022-02-10T23:28:16.227630Z",
     "start_time": "2022-02-10T23:28:16.213455Z"
    },
    "colab": {
     "base_uri": "https://localhost:8080/",
     "height": 583
    },
    "id": "qnwd4ceEIImU",
    "outputId": "61e3108f-4b82-45f2-a2b9-641ff60622de"
   },
   "outputs": [
    {
     "data": {
      "text/html": [
       "<div>\n",
       "<style scoped>\n",
       "    .dataframe tbody tr th:only-of-type {\n",
       "        vertical-align: middle;\n",
       "    }\n",
       "\n",
       "    .dataframe tbody tr th {\n",
       "        vertical-align: top;\n",
       "    }\n",
       "\n",
       "    .dataframe thead th {\n",
       "        text-align: right;\n",
       "    }\n",
       "</style>\n",
       "<table border=\"1\" class=\"dataframe\">\n",
       "  <thead>\n",
       "    <tr style=\"text-align: right;\">\n",
       "      <th></th>\n",
       "      <th>Book_ID</th>\n",
       "      <th>URL_for_Book_Details</th>\n",
       "      <th>Book_Title</th>\n",
       "      <th>Publication_Date</th>\n",
       "      <th>Publisher</th>\n",
       "      <th>Place_of_Publication</th>\n",
       "      <th>Author_1</th>\n",
       "      <th>Author_2</th>\n",
       "      <th>Author_3</th>\n",
       "      <th>Author_4</th>\n",
       "      <th>Author_5</th>\n",
       "      <th>Contributor_1</th>\n",
       "      <th>Contributor_2</th>\n",
       "      <th>Contributor_3</th>\n",
       "    </tr>\n",
       "  </thead>\n",
       "  <tbody>\n",
       "    <tr>\n",
       "      <th>0</th>\n",
       "      <td>emblematapolitic00isel</td>\n",
       "      <td>http://emblematica.library.illinois.edu/detail...</td>\n",
       "      <td>Emblemata politica: in aula magna Curiµ Norinb...</td>\n",
       "      <td>1617</td>\n",
       "      <td>NaN</td>\n",
       "      <td>Nurembergµ</td>\n",
       "      <td>Iselberg, Peter, ca. 1568-ca. 1630</td>\n",
       "      <td>Remus, Georg, 1561-1625</td>\n",
       "      <td>NaN</td>\n",
       "      <td>NaN</td>\n",
       "      <td>NaN</td>\n",
       "      <td>NaN</td>\n",
       "      <td>NaN</td>\n",
       "      <td>NaN</td>\n",
       "    </tr>\n",
       "    <tr>\n",
       "      <th>1</th>\n",
       "      <td>645803367</td>\n",
       "      <td>http://emblematica.library.illinois.edu/detail...</td>\n",
       "      <td>Iter parallelum Phoebi Occidentis &amp; Orientis J...</td>\n",
       "      <td>1680</td>\n",
       "      <td>Schwänderus</td>\n",
       "      <td>Osnabrugi</td>\n",
       "      <td>NaN</td>\n",
       "      <td>NaN</td>\n",
       "      <td>NaN</td>\n",
       "      <td>NaN</td>\n",
       "      <td>NaN</td>\n",
       "      <td>Johann Friedrich &lt;Braunschweig-Lüneburg, Herzog&gt;</td>\n",
       "      <td>Ernst August &lt;Hannover, Kurfürst, I.&gt;</td>\n",
       "      <td>Löffler &lt;Junior&gt;</td>\n",
       "    </tr>\n",
       "    <tr>\n",
       "      <th>2</th>\n",
       "      <td>635971542</td>\n",
       "      <td>http://emblematica.library.illinois.edu/detail...</td>\n",
       "      <td>Annvs Positionvm Mathematicarvm</td>\n",
       "      <td>1641</td>\n",
       "      <td>Collegium Societatis Jesu</td>\n",
       "      <td>Lovanii</td>\n",
       "      <td>Ciermans, Joannes</td>\n",
       "      <td>Unverzagt de Ebenfurt, Wolfgangus Philippus Ja...</td>\n",
       "      <td>NaN</td>\n",
       "      <td>NaN</td>\n",
       "      <td>NaN</td>\n",
       "      <td>Ferdinandus &lt;Imperator, II&gt;</td>\n",
       "      <td>Mandekens, Mart.</td>\n",
       "      <td>Neeffs, Jacobus</td>\n",
       "    </tr>\n",
       "    <tr>\n",
       "      <th>3</th>\n",
       "      <td>devisesheroiques00parad</td>\n",
       "      <td>http://emblematica.library.illinois.edu/detail...</td>\n",
       "      <td>Devises heroiques, et emblemes</td>\n",
       "      <td>1614</td>\n",
       "      <td>Chez Jean Millot ...</td>\n",
       "      <td>A Paris</td>\n",
       "      <td>Paradin, Claude, 16th cent</td>\n",
       "      <td>Amboise, Franðcois d', 1550-1620</td>\n",
       "      <td>NaN</td>\n",
       "      <td>NaN</td>\n",
       "      <td>NaN</td>\n",
       "      <td>NaN</td>\n",
       "      <td>NaN</td>\n",
       "      <td>NaN</td>\n",
       "    </tr>\n",
       "    <tr>\n",
       "      <th>4</th>\n",
       "      <td>386577072</td>\n",
       "      <td>http://emblematica.library.illinois.edu/detail...</td>\n",
       "      <td>Kunst-Göttin Minerva Liebreiche Entdeckung/ Wi...</td>\n",
       "      <td>1704</td>\n",
       "      <td>Kröninger</td>\n",
       "      <td>Augspurg</td>\n",
       "      <td>Ripa, Cesare</td>\n",
       "      <td>NaN</td>\n",
       "      <td>NaN</td>\n",
       "      <td>NaN</td>\n",
       "      <td>NaN</td>\n",
       "      <td>Kroniger, Lorenz</td>\n",
       "      <td>Gottlieb Göbel Erben</td>\n",
       "      <td>NaN</td>\n",
       "    </tr>\n",
       "  </tbody>\n",
       "</table>\n",
       "</div>"
      ],
      "text/plain": [
       "                   Book_ID                               URL_for_Book_Details  \\\n",
       "0   emblematapolitic00isel  http://emblematica.library.illinois.edu/detail...   \n",
       "1                645803367  http://emblematica.library.illinois.edu/detail...   \n",
       "2                635971542  http://emblematica.library.illinois.edu/detail...   \n",
       "3  devisesheroiques00parad  http://emblematica.library.illinois.edu/detail...   \n",
       "4                386577072  http://emblematica.library.illinois.edu/detail...   \n",
       "\n",
       "                                          Book_Title  Publication_Date  \\\n",
       "0  Emblemata politica: in aula magna Curiµ Norinb...              1617   \n",
       "1  Iter parallelum Phoebi Occidentis & Orientis J...              1680   \n",
       "2                    Annvs Positionvm Mathematicarvm              1641   \n",
       "3                     Devises heroiques, et emblemes              1614   \n",
       "4  Kunst-Göttin Minerva Liebreiche Entdeckung/ Wi...              1704   \n",
       "\n",
       "                   Publisher Place_of_Publication  \\\n",
       "0                        NaN           Nurembergµ   \n",
       "1                Schwänderus            Osnabrugi   \n",
       "2  Collegium Societatis Jesu              Lovanii   \n",
       "3       Chez Jean Millot ...              A Paris   \n",
       "4                  Kröninger             Augspurg   \n",
       "\n",
       "                             Author_1  \\\n",
       "0  Iselberg, Peter, ca. 1568-ca. 1630   \n",
       "1                                 NaN   \n",
       "2                   Ciermans, Joannes   \n",
       "3          Paradin, Claude, 16th cent   \n",
       "4                        Ripa, Cesare   \n",
       "\n",
       "                                            Author_2 Author_3 Author_4  \\\n",
       "0                            Remus, Georg, 1561-1625      NaN      NaN   \n",
       "1                                                NaN      NaN      NaN   \n",
       "2  Unverzagt de Ebenfurt, Wolfgangus Philippus Ja...      NaN      NaN   \n",
       "3                   Amboise, Franðcois d', 1550-1620      NaN      NaN   \n",
       "4                                                NaN      NaN      NaN   \n",
       "\n",
       "  Author_5                                     Contributor_1  \\\n",
       "0      NaN                                               NaN   \n",
       "1      NaN  Johann Friedrich <Braunschweig-Lüneburg, Herzog>   \n",
       "2      NaN                       Ferdinandus <Imperator, II>   \n",
       "3      NaN                                               NaN   \n",
       "4      NaN                                  Kroniger, Lorenz   \n",
       "\n",
       "                           Contributor_2     Contributor_3  \n",
       "0                                    NaN               NaN  \n",
       "1  Ernst August <Hannover, Kurfürst, I.>  Löffler <Junior>  \n",
       "2                       Mandekens, Mart.   Neeffs, Jacobus  \n",
       "3                                    NaN               NaN  \n",
       "4                   Gottlieb Göbel Erben               NaN  "
      ]
     },
     "execution_count": 19,
     "metadata": {},
     "output_type": "execute_result"
    }
   ],
   "source": [
    "books.head()"
   ]
  },
  {
   "cell_type": "markdown",
   "metadata": {
    "id": "keaAkM15SY94"
   },
   "source": [
    "#### Using Python's capacity to understand `lists`, we can find just these columns:"
   ]
  },
  {
   "cell_type": "code",
   "execution_count": 20,
   "metadata": {
    "ExecuteTime": {
     "end_time": "2022-02-10T23:28:16.233702Z",
     "start_time": "2022-02-10T23:28:16.229311Z"
    },
    "colab": {
     "base_uri": "https://localhost:8080/"
    },
    "id": "U_EMaQW3IImV",
    "outputId": "807db769-1d6c-4cec-a661-ed5dc981762c"
   },
   "outputs": [
    {
     "data": {
      "text/plain": [
       "['Author_1', 'Author_2', 'Author_3', 'Author_4', 'Author_5']"
      ]
     },
     "execution_count": 20,
     "metadata": {},
     "output_type": "execute_result"
    }
   ],
   "source": [
    "author_columns = [c for c in books.columns if c.startswith(\"Author\")]\n",
    "author_columns"
   ]
  },
  {
   "cell_type": "code",
   "execution_count": 21,
   "metadata": {
    "ExecuteTime": {
     "end_time": "2022-02-10T23:28:16.245900Z",
     "start_time": "2022-02-10T23:28:16.235968Z"
    },
    "colab": {
     "base_uri": "https://localhost:8080/",
     "height": 206
    },
    "id": "7LvZ1sIZIImV",
    "outputId": "fe88c593-8883-4324-a01c-6ca96a630ba7"
   },
   "outputs": [
    {
     "data": {
      "text/html": [
       "<div>\n",
       "<style scoped>\n",
       "    .dataframe tbody tr th:only-of-type {\n",
       "        vertical-align: middle;\n",
       "    }\n",
       "\n",
       "    .dataframe tbody tr th {\n",
       "        vertical-align: top;\n",
       "    }\n",
       "\n",
       "    .dataframe thead th {\n",
       "        text-align: right;\n",
       "    }\n",
       "</style>\n",
       "<table border=\"1\" class=\"dataframe\">\n",
       "  <thead>\n",
       "    <tr style=\"text-align: right;\">\n",
       "      <th></th>\n",
       "      <th>Author_1</th>\n",
       "      <th>Author_2</th>\n",
       "      <th>Author_3</th>\n",
       "      <th>Author_4</th>\n",
       "      <th>Author_5</th>\n",
       "    </tr>\n",
       "  </thead>\n",
       "  <tbody>\n",
       "    <tr>\n",
       "      <th>0</th>\n",
       "      <td>Iselberg, Peter, ca. 1568-ca. 1630</td>\n",
       "      <td>Remus, Georg, 1561-1625</td>\n",
       "      <td>NaN</td>\n",
       "      <td>NaN</td>\n",
       "      <td>NaN</td>\n",
       "    </tr>\n",
       "    <tr>\n",
       "      <th>1</th>\n",
       "      <td>NaN</td>\n",
       "      <td>NaN</td>\n",
       "      <td>NaN</td>\n",
       "      <td>NaN</td>\n",
       "      <td>NaN</td>\n",
       "    </tr>\n",
       "    <tr>\n",
       "      <th>2</th>\n",
       "      <td>Ciermans, Joannes</td>\n",
       "      <td>Unverzagt de Ebenfurt, Wolfgangus Philippus Ja...</td>\n",
       "      <td>NaN</td>\n",
       "      <td>NaN</td>\n",
       "      <td>NaN</td>\n",
       "    </tr>\n",
       "    <tr>\n",
       "      <th>3</th>\n",
       "      <td>Paradin, Claude, 16th cent</td>\n",
       "      <td>Amboise, Franðcois d', 1550-1620</td>\n",
       "      <td>NaN</td>\n",
       "      <td>NaN</td>\n",
       "      <td>NaN</td>\n",
       "    </tr>\n",
       "    <tr>\n",
       "      <th>4</th>\n",
       "      <td>Ripa, Cesare</td>\n",
       "      <td>NaN</td>\n",
       "      <td>NaN</td>\n",
       "      <td>NaN</td>\n",
       "      <td>NaN</td>\n",
       "    </tr>\n",
       "  </tbody>\n",
       "</table>\n",
       "</div>"
      ],
      "text/plain": [
       "                             Author_1  \\\n",
       "0  Iselberg, Peter, ca. 1568-ca. 1630   \n",
       "1                                 NaN   \n",
       "2                   Ciermans, Joannes   \n",
       "3          Paradin, Claude, 16th cent   \n",
       "4                        Ripa, Cesare   \n",
       "\n",
       "                                            Author_2 Author_3 Author_4  \\\n",
       "0                            Remus, Georg, 1561-1625      NaN      NaN   \n",
       "1                                                NaN      NaN      NaN   \n",
       "2  Unverzagt de Ebenfurt, Wolfgangus Philippus Ja...      NaN      NaN   \n",
       "3                   Amboise, Franðcois d', 1550-1620      NaN      NaN   \n",
       "4                                                NaN      NaN      NaN   \n",
       "\n",
       "  Author_5  \n",
       "0      NaN  \n",
       "1      NaN  \n",
       "2      NaN  \n",
       "3      NaN  \n",
       "4      NaN  "
      ]
     },
     "execution_count": 21,
     "metadata": {},
     "output_type": "execute_result"
    }
   ],
   "source": [
    "books[author_columns].head()"
   ]
  },
  {
   "cell_type": "markdown",
   "metadata": {
    "id": "gKtBnMMLIImW"
   },
   "source": [
    "#### And now 'stack' the values for all these columns into one **Series**"
   ]
  },
  {
   "cell_type": "code",
   "execution_count": 22,
   "metadata": {
    "ExecuteTime": {
     "end_time": "2022-02-10T23:28:16.256792Z",
     "start_time": "2022-02-10T23:28:16.247868Z"
    },
    "colab": {
     "base_uri": "https://localhost:8080/"
    },
    "id": "4i2Zk5EEIImW",
    "outputId": "39f11bf5-90dd-4ae5-e54f-b5be99f20482"
   },
   "outputs": [
    {
     "data": {
      "text/plain": [
       "0   Author_1                   Iselberg, Peter, ca. 1568-ca. 1630\n",
       "    Author_2                              Remus, Georg, 1561-1625\n",
       "2   Author_1                                    Ciermans, Joannes\n",
       "    Author_2    Unverzagt de Ebenfurt, Wolfgangus Philippus Ja...\n",
       "3   Author_1                           Paradin, Claude, 16th cent\n",
       "                                      ...                        \n",
       "42  Author_4               Tournes, Jean de, II, active 1568-1584\n",
       "43  Author_1                           Harsdörffer, Georg Philipp\n",
       "45  Author_1                                    Ammannus, Jodocus\n",
       "46  Author_1                                         Geheime, Der\n",
       "47  Author_1                        Ludwig <Anhalt-Köthen, Fürst>\n",
       "Length: 72, dtype: object"
      ]
     },
     "execution_count": 22,
     "metadata": {},
     "output_type": "execute_result"
    }
   ],
   "source": [
    "books[author_columns].stack()"
   ]
  },
  {
   "cell_type": "markdown",
   "metadata": {
    "id": "WcWerle5IImW"
   },
   "source": [
    "#### And count the items in the stacked set"
   ]
  },
  {
   "cell_type": "code",
   "execution_count": 23,
   "metadata": {
    "ExecuteTime": {
     "end_time": "2022-02-10T23:28:16.269512Z",
     "start_time": "2022-02-10T23:28:16.260215Z"
    },
    "colab": {
     "base_uri": "https://localhost:8080/"
    },
    "id": "FY48JaxUIImW",
    "outputId": "118054d6-b163-4827-924c-00e0f843f2b0"
   },
   "outputs": [
    {
     "data": {
      "text/plain": [
       "Alciati, Andrea, 1492-1550                              21\n",
       "Aneau, Barthélemy, -1561                                 4\n",
       "Breu, Jörg, approximately 1480-1537                      3\n",
       "Lefèvre, Jean, 1493-1565                                3\n",
       "Stockhammer, Sebastian, sec. XVI                         2\n",
       "Weiditz, Hans, approximately 1495-approximately 1536     2\n",
       "Mignault, Claude, approximately 1536-1606                2\n",
       "Saavedra-Fajardo, Diego de, 1584-1648                    1\n",
       "Iselberg, Peter, ca. 1568-ca. 1630                       1\n",
       "Weigel, Johann Christoph, 1661-1726                      1\n",
       "Astry, James, Sir                                        1\n",
       "Cremcovius, Valens.                                      1\n",
       "Paradin, Claude, 16th cent                               1\n",
       "Ovidius Naso, Publius                                    1\n",
       "Maccius, Paulus                                          1\n",
       "Zincgref, Julius Wilhelm                                 1\n",
       "Meisner, Daniel                                          1\n",
       "Batillius, Dionysius Lebeus                              1\n",
       "Rollenhagen, Gabriel, 1583-1619?                         1\n",
       "Geheime, Der                                             1\n",
       "Held, Jeremias.                                          1\n",
       "Feuille, Daniel de la                                    1\n",
       "Pignoria, Lorenzo, 1571-1631                             1\n",
       "Ciermans, Joannes                                        1\n",
       "Unverzagt de Ebenfurt, Wolfgangus Philippus Jacobus      1\n",
       "López, Diego, ?-1655                                     1\n",
       "Ripa, Cesare                                             1\n",
       "Camerarius, Joachim                                      1\n",
       "Zetter, Jacob                                            1\n",
       "Tournes, Jean de, II, active 1568-1584                   1\n",
       "Veen, Otto van , 1556-1629                               1\n",
       "Daza Pinciano, Bernardino.                               1\n",
       "Harsdörffer, Georg Philipp                               1\n",
       "Thuilius, Joannes.                                       1\n",
       "Elger, Willem den                                        1\n",
       "Amboise, Franðcois d', 1550-1620                         1\n",
       "Hunger, Wolffgang, 1511-1555                             1\n",
       "Morel, Fédéric, approximately 1552-1630                1\n",
       "Remus, Georg, 1561-1625                                  1\n",
       "Ludwig <Anhalt-Köthen, Fürst>                            1\n",
       "Marquale, Giovanni.                                      1\n",
       "Ammannus, Jodocus                                        1\n",
       "dtype: int64"
      ]
     },
     "execution_count": 23,
     "metadata": {},
     "output_type": "execute_result"
    }
   ],
   "source": [
    "books[author_columns].stack().value_counts()"
   ]
  },
  {
   "cell_type": "markdown",
   "metadata": {
    "id": "HGm993AmIImX"
   },
   "source": [
    "#### All the authors, sorted alphbetically as a list"
   ]
  },
  {
   "cell_type": "code",
   "execution_count": 24,
   "metadata": {
    "ExecuteTime": {
     "end_time": "2022-02-10T23:28:16.290960Z",
     "start_time": "2022-02-10T23:28:16.282477Z"
    },
    "colab": {
     "base_uri": "https://localhost:8080/"
    },
    "id": "IlLoXMUzIImX",
    "outputId": "9e33cb4b-41b8-4c4e-f3bf-15893c020c33"
   },
   "outputs": [
    {
     "data": {
      "text/plain": [
       "['Alciati, Andrea, 1492-1550',\n",
       " \"Amboise, Franðcois d', 1550-1620\",\n",
       " 'Ammannus, Jodocus',\n",
       " 'Aneau, Barthélemy, -1561',\n",
       " 'Astry, James, Sir',\n",
       " 'Batillius, Dionysius Lebeus',\n",
       " 'Breu, Jörg, approximately 1480-1537',\n",
       " 'Camerarius, Joachim',\n",
       " 'Ciermans, Joannes',\n",
       " 'Cremcovius, Valens.',\n",
       " 'Daza Pinciano, Bernardino.',\n",
       " 'Elger, Willem den',\n",
       " 'Feuille, Daniel de la',\n",
       " 'Geheime, Der',\n",
       " 'Harsdörffer, Georg Philipp',\n",
       " 'Held, Jeremias.',\n",
       " 'Hunger, Wolffgang, 1511-1555',\n",
       " 'Iselberg, Peter, ca. 1568-ca. 1630',\n",
       " 'Lefèvre, Jean, 1493-1565',\n",
       " 'Ludwig <Anhalt-Köthen, Fürst>',\n",
       " 'López, Diego, ?-1655',\n",
       " 'Maccius, Paulus',\n",
       " 'Marquale, Giovanni.',\n",
       " 'Meisner, Daniel',\n",
       " 'Mignault, Claude, approximately 1536-1606',\n",
       " 'Morel, Fédéric, approximately 1552-1630',\n",
       " 'Ovidius Naso, Publius',\n",
       " 'Paradin, Claude, 16th cent',\n",
       " 'Pignoria, Lorenzo, 1571-1631',\n",
       " 'Remus, Georg, 1561-1625',\n",
       " 'Ripa, Cesare',\n",
       " 'Rollenhagen, Gabriel, 1583-1619?',\n",
       " 'Saavedra-Fajardo, Diego de, 1584-1648',\n",
       " 'Stockhammer, Sebastian, sec. XVI',\n",
       " 'Thuilius, Joannes.',\n",
       " 'Tournes, Jean de, II, active 1568-1584',\n",
       " 'Unverzagt de Ebenfurt, Wolfgangus Philippus Jacobus',\n",
       " 'Veen, Otto van , 1556-1629',\n",
       " 'Weiditz, Hans, approximately 1495-approximately 1536',\n",
       " 'Weigel, Johann Christoph, 1661-1726',\n",
       " 'Zetter, Jacob',\n",
       " 'Zincgref, Julius Wilhelm']"
      ]
     },
     "execution_count": 24,
     "metadata": {},
     "output_type": "execute_result"
    }
   ],
   "source": [
    "sorted(books[author_columns].stack().unique())"
   ]
  },
  {
   "cell_type": "markdown",
   "metadata": {
    "id": "2OwHfmDjIImX"
   },
   "source": [
    "### B.3 See if you can get a list of contributors \n",
    "\n",
    "It is very similar to the process above:"
   ]
  },
  {
   "cell_type": "code",
   "execution_count": 25,
   "metadata": {
    "id": "4tfk2TGJIImX",
    "outputId": "ff97f13d-7b48-47e9-8e74-cfa87c07c6ca"
   },
   "outputs": [
    {
     "data": {
      "text/plain": [
       "Index(['Book_ID', 'URL_for_Book_Details', 'Book_Title', 'Publication_Date',\n",
       "       'Publisher', 'Place_of_Publication', 'Author_1', 'Author_2', 'Author_3',\n",
       "       'Author_4', 'Author_5', 'Contributor_1', 'Contributor_2',\n",
       "       'Contributor_3'],\n",
       "      dtype='object')"
      ]
     },
     "execution_count": 25,
     "metadata": {},
     "output_type": "execute_result"
    }
   ],
   "source": [
    "books.columns"
   ]
  },
  {
   "cell_type": "code",
   "execution_count": null,
   "metadata": {
    "id": "Q3_vpYT7IImY"
   },
   "outputs": [],
   "source": []
  },
  {
   "cell_type": "code",
   "execution_count": null,
   "metadata": {
    "id": "mV8ynkIXIImY"
   },
   "outputs": [],
   "source": []
  },
  {
   "cell_type": "code",
   "execution_count": null,
   "metadata": {
    "id": "-ag_HE0OIImY"
   },
   "outputs": [],
   "source": []
  },
  {
   "cell_type": "code",
   "execution_count": null,
   "metadata": {
    "id": "D1nt5HLoIImY"
   },
   "outputs": [],
   "source": []
  },
  {
   "cell_type": "code",
   "execution_count": null,
   "metadata": {
    "id": "U-ucZZfmIImY"
   },
   "outputs": [],
   "source": []
  },
  {
   "cell_type": "code",
   "execution_count": null,
   "metadata": {
    "id": "hcpBiQ-_IImY"
   },
   "outputs": [],
   "source": []
  },
  {
   "cell_type": "code",
   "execution_count": null,
   "metadata": {
    "id": "7ZKkqYIZIImY"
   },
   "outputs": [],
   "source": []
  },
  {
   "cell_type": "markdown",
   "metadata": {
    "id": "RurS4zK-IImY"
   },
   "source": [
    "___"
   ]
  },
  {
   "cell_type": "markdown",
   "metadata": {
    "id": "PQ4tq0nXIImZ"
   },
   "source": [
    "## C.  Charts and Graphs\n",
    "\n",
    "* Through libraries like **matplot**, Pandas can quickly produce histograms, charts, and graphs of various kinds (these can even be saved as PNG files for publications)"
   ]
  },
  {
   "cell_type": "code",
   "execution_count": 26,
   "metadata": {
    "ExecuteTime": {
     "end_time": "2022-02-10T23:28:16.299958Z",
     "start_time": "2022-02-10T23:28:16.293185Z"
    },
    "colab": {
     "base_uri": "https://localhost:8080/"
    },
    "id": "z05f1NXJIImZ",
    "outputId": "16b00f51-3381-4c46-88d2-4549d2257ff6"
   },
   "outputs": [
    {
     "data": {
      "text/plain": [
       "26    1531\n",
       "25    1531\n",
       "28    1534\n",
       "27    1534\n",
       "40    1536\n",
       "29    1539\n",
       "30    1542\n",
       "31    1542\n",
       "41    1549\n",
       "32    1549\n",
       "33    1550\n",
       "39    1551\n",
       "34    1551\n",
       "22    1552\n",
       "21    1552\n",
       "35    1556\n",
       "36    1558\n",
       "37    1566\n",
       "45    1588\n",
       "38    1591\n",
       "5     1596\n",
       "10    1605\n",
       "17    1611\n",
       "9     1614\n",
       "3     1614\n",
       "23    1615\n",
       "42    1615\n",
       "0     1617\n",
       "24    1621\n",
       "18    1624\n",
       "7     1628\n",
       "2     1641\n",
       "43    1642\n",
       "46    1643\n",
       "47    1646\n",
       "15    1666\n",
       "1     1680\n",
       "14    1685\n",
       "20    1691\n",
       "44    1692\n",
       "13    1695\n",
       "11    1695\n",
       "6     1700\n",
       "16    1700\n",
       "8     1700\n",
       "19    1703\n",
       "4     1704\n",
       "Name: Publication_Date, dtype: int64"
      ]
     },
     "execution_count": 26,
     "metadata": {},
     "output_type": "execute_result"
    }
   ],
   "source": [
    "books[\"Publication_Date\"].sort_values()"
   ]
  },
  {
   "cell_type": "markdown",
   "metadata": {
    "id": "vxiNUCtJIImZ"
   },
   "source": [
    "#### Here can create histograms of the distribution of the years of publication, and sort them into however many 'bins' we like"
   ]
  },
  {
   "cell_type": "code",
   "execution_count": 27,
   "metadata": {
    "ExecuteTime": {
     "end_time": "2022-02-10T23:28:17.018496Z",
     "start_time": "2022-02-10T23:28:16.303719Z"
    },
    "colab": {
     "base_uri": "https://localhost:8080/",
     "height": 334
    },
    "id": "QJ4rWHsEIImZ",
    "outputId": "a2a797bf-62fd-498a-e45b-c2e785521453"
   },
   "outputs": [
    {
     "data": {
      "image/png": "[encoded data removed]",
      "text/plain": [
       "<Figure size 1440x720 with 1 Axes>"
      ]
     },
     "metadata": {
      "needs_background": "light"
     },
     "output_type": "display_data"
    }
   ],
   "source": [
    "books[\"Publication_Date\"].hist(figsize=(20, 10), bins=40)\n",
    "plt.xlabel(\"Year\")\n",
    "plt.ylabel(\"Book count\")\n",
    "plt.show()"
   ]
  },
  {
   "cell_type": "markdown",
   "metadata": {
    "id": "oVgYF0U3IIma"
   },
   "source": [
    "#### Various built-in math functions allow us to run basic statistics.  Libraries like `numpy` permit many more!"
   ]
  },
  {
   "cell_type": "code",
   "execution_count": 28,
   "metadata": {
    "ExecuteTime": {
     "end_time": "2022-02-10T23:28:17.024471Z",
     "start_time": "2022-02-10T23:28:17.020505Z"
    },
    "colab": {
     "base_uri": "https://localhost:8080/"
    },
    "id": "WSqz7U-ZIIma",
    "outputId": "2fc909d5-7588-4e29-98b9-c5030833a0c6"
   },
   "outputs": [
    {
     "data": {
      "text/plain": [
       "1609.468085106383"
      ]
     },
     "execution_count": 28,
     "metadata": {},
     "output_type": "execute_result"
    }
   ],
   "source": [
    "books.Publication_Date.mean()"
   ]
  },
  {
   "cell_type": "markdown",
   "metadata": {
    "id": "tKciC8SYIIma"
   },
   "source": [
    "___"
   ]
  },
  {
   "cell_type": "markdown",
   "metadata": {
    "id": "MUwzomIdIImb"
   },
   "source": [
    "## D.  More Work with Columns"
   ]
  },
  {
   "cell_type": "markdown",
   "metadata": {
    "id": "eOXY8CEHIImb"
   },
   "source": [
    "### D.1 Load the Emblem CSV"
   ]
  },
  {
   "cell_type": "code",
   "execution_count": 29,
   "metadata": {
    "ExecuteTime": {
     "end_time": "2022-02-10T23:28:17.050277Z",
     "start_time": "2022-02-10T23:28:17.041655Z"
    },
    "id": "Lozl63rSIImb"
   },
   "outputs": [],
   "source": [
    "emblems = pd.read_csv(emblematica_emblems)"
   ]
  },
  {
   "cell_type": "code",
   "execution_count": 30,
   "metadata": {
    "ExecuteTime": {
     "end_time": "2022-02-10T23:28:17.076630Z",
     "start_time": "2022-02-10T23:28:17.057297Z"
    },
    "colab": {
     "base_uri": "https://localhost:8080/",
     "height": 461
    },
    "id": "0vd73R5dIImb",
    "outputId": "1d7363d7-34bd-4897-a019-28b2d0fa8b4c"
   },
   "outputs": [
    {
     "data": {
      "text/html": [
       "<div>\n",
       "<style scoped>\n",
       "    .dataframe tbody tr th:only-of-type {\n",
       "        vertical-align: middle;\n",
       "    }\n",
       "\n",
       "    .dataframe tbody tr th {\n",
       "        vertical-align: top;\n",
       "    }\n",
       "\n",
       "    .dataframe thead th {\n",
       "        text-align: right;\n",
       "    }\n",
       "</style>\n",
       "<table border=\"1\" class=\"dataframe\">\n",
       "  <thead>\n",
       "    <tr style=\"text-align: right;\">\n",
       "      <th></th>\n",
       "      <th>Emblem_ID</th>\n",
       "      <th>URL_for_Emblem_Details</th>\n",
       "      <th>URL_for_Emblem_Thumbnail</th>\n",
       "      <th>Emblem_Motto</th>\n",
       "      <th>Publication_Date</th>\n",
       "      <th>URL_for_Pictura</th>\n",
       "      <th>Iconclass_Heading_1</th>\n",
       "      <th>Iconclass_Heading_2</th>\n",
       "      <th>Iconclass_Heading_3</th>\n",
       "      <th>Iconclass_Heading_4</th>\n",
       "      <th>Iconclass_Heading_5</th>\n",
       "      <th>Iconclass_Heading_6</th>\n",
       "      <th>Iconclass_Heading_7</th>\n",
       "      <th>From Collection</th>\n",
       "      <th>Published_In</th>\n",
       "      <th>URL_for_Book_Details</th>\n",
       "    </tr>\n",
       "  </thead>\n",
       "  <tbody>\n",
       "    <tr>\n",
       "      <th>70</th>\n",
       "      <td>E029788</td>\n",
       "      <td>http://emblematica.library.illinois.edu/detail...</td>\n",
       "      <td>http://emblemimages.library.illinois.edu/A34b/...</td>\n",
       "      <td>Ex bello pax</td>\n",
       "      <td>1534</td>\n",
       "      <td>http://emblemimages.library.illinois.edu/A34b/...</td>\n",
       "      <td>25F711(BEE)(+53) insects: bee (+ postures, pos...</td>\n",
       "      <td>31A22611 blood</td>\n",
       "      <td>45A1 war</td>\n",
       "      <td>45A10 symbols, allegories of war; 'Guerra' (Ripa)</td>\n",
       "      <td>45A2 peace</td>\n",
       "      <td>45A20 symbols, allegories of peace, 'Pax'; 'Pa...</td>\n",
       "      <td>45A231 blessings of peace</td>\n",
       "      <td>NaN</td>\n",
       "      <td>A34b</td>\n",
       "      <td>http://emblematica.library.illinois.edu/detail...</td>\n",
       "    </tr>\n",
       "    <tr>\n",
       "      <th>62</th>\n",
       "      <td>E029396</td>\n",
       "      <td>http://emblematica.library.illinois.edu/detail...</td>\n",
       "      <td>http://emblemimages.library.illinois.edu/A21a/...</td>\n",
       "      <td>Pax.</td>\n",
       "      <td>1621</td>\n",
       "      <td>http://emblemimages.library.illinois.edu/A21a/...</td>\n",
       "      <td>23S14 Rome (one of the four world empires)</td>\n",
       "      <td>25F(+5227) animals (+ animal trampling, treadi...</td>\n",
       "      <td>25F25(ELEPHANT)(+81) trunked animals: elephant...</td>\n",
       "      <td>25H114 low hill country</td>\n",
       "      <td>26A clouds</td>\n",
       "      <td>31A2513(+933) arm stretched sidewards (+ holdi...</td>\n",
       "      <td>31D14 adult man</td>\n",
       "      <td>NaN</td>\n",
       "      <td>A21a</td>\n",
       "      <td>http://emblematica.library.illinois.edu/detail...</td>\n",
       "    </tr>\n",
       "    <tr>\n",
       "      <th>78</th>\n",
       "      <td>E030330</td>\n",
       "      <td>http://emblematica.library.illinois.edu/detail...</td>\n",
       "      <td>http://emblemimages.library.illinois.edu/A49a/...</td>\n",
       "      <td>Que tras la guerra viene la paz.</td>\n",
       "      <td>1549</td>\n",
       "      <td>http://emblemimages.library.illinois.edu/A49a/...</td>\n",
       "      <td>22D1 loud sound, noise</td>\n",
       "      <td>25F711(BEE)(+53) insects: bee (+ postures, pos...</td>\n",
       "      <td>25G13 groups of plants (herbs)</td>\n",
       "      <td>25H1124 boulder, stone</td>\n",
       "      <td>25H113 (high) hill</td>\n",
       "      <td>31A22611 blood</td>\n",
       "      <td>45A1 war</td>\n",
       "      <td>NaN</td>\n",
       "      <td>A49a</td>\n",
       "      <td>http://emblematica.library.illinois.edu/detail...</td>\n",
       "    </tr>\n",
       "    <tr>\n",
       "      <th>73</th>\n",
       "      <td>E029936</td>\n",
       "      <td>http://emblematica.library.illinois.edu/detail...</td>\n",
       "      <td>http://emblemimages.library.illinois.edu/A39a/...</td>\n",
       "      <td>Pax. Paix.</td>\n",
       "      <td>1539</td>\n",
       "      <td>http://emblemimages.library.illinois.edu/A39a/...</td>\n",
       "      <td>11A Deity, God (in general) ~ Christian religion</td>\n",
       "      <td>23S14 Rome (one of the four world empires)</td>\n",
       "      <td>25F25(ELEPHANT)(+81) trunked animals: elephant...</td>\n",
       "      <td>25G3 trees</td>\n",
       "      <td>43A festivities</td>\n",
       "      <td>43A(+21) festivities (+ decorated float, wagon...</td>\n",
       "      <td>45A10 symbols, allegories of war; 'Guerra' (Ripa)</td>\n",
       "      <td>NaN</td>\n",
       "      <td>A39a</td>\n",
       "      <td>http://emblematica.library.illinois.edu/detail...</td>\n",
       "    </tr>\n",
       "    <tr>\n",
       "      <th>112</th>\n",
       "      <td>E051589</td>\n",
       "      <td>http://emblematica.library.illinois.edu/detail...</td>\n",
       "      <td>http://emblemimages.library.illinois.edu/53781...</td>\n",
       "      <td>Der Dreyen Eines., Der Bedeutende.</td>\n",
       "      <td>1646</td>\n",
       "      <td>http://emblemimages.library.illinois.edu/53781...</td>\n",
       "      <td>86(DER DREYEN EINES., DER BEDEUTENDE) proverbs...</td>\n",
       "      <td>25I22 prospect of village, silhouette of village</td>\n",
       "      <td>25G3(OAK) trees: oak</td>\n",
       "      <td>25G21(OAK APPLE) fruits (OAK APPLE)</td>\n",
       "      <td>61B2(BERCHEN, Ernst von)3 historical person (B...</td>\n",
       "      <td>25F713(+1) spiders (+ animals used symbolically)</td>\n",
       "      <td>25F711(FLY)(+1) insects: fly (+ animals used s...</td>\n",
       "      <td>NaN</td>\n",
       "      <td>537816240</td>\n",
       "      <td>http://emblematica.library.illinois.edu/detail...</td>\n",
       "    </tr>\n",
       "  </tbody>\n",
       "</table>\n",
       "</div>"
      ],
      "text/plain": [
       "    Emblem_ID                             URL_for_Emblem_Details  \\\n",
       "70    E029788  http://emblematica.library.illinois.edu/detail...   \n",
       "62    E029396  http://emblematica.library.illinois.edu/detail...   \n",
       "78    E030330  http://emblematica.library.illinois.edu/detail...   \n",
       "73    E029936  http://emblematica.library.illinois.edu/detail...   \n",
       "112   E051589  http://emblematica.library.illinois.edu/detail...   \n",
       "\n",
       "                              URL_for_Emblem_Thumbnail  \\\n",
       "70   http://emblemimages.library.illinois.edu/A34b/...   \n",
       "62   http://emblemimages.library.illinois.edu/A21a/...   \n",
       "78   http://emblemimages.library.illinois.edu/A49a/...   \n",
       "73   http://emblemimages.library.illinois.edu/A39a/...   \n",
       "112  http://emblemimages.library.illinois.edu/53781...   \n",
       "\n",
       "                           Emblem_Motto  Publication_Date  \\\n",
       "70                         Ex bello pax              1534   \n",
       "62                                 Pax.              1621   \n",
       "78     Que tras la guerra viene la paz.              1549   \n",
       "73                           Pax. Paix.              1539   \n",
       "112  Der Dreyen Eines., Der Bedeutende.              1646   \n",
       "\n",
       "                                       URL_for_Pictura  \\\n",
       "70   http://emblemimages.library.illinois.edu/A34b/...   \n",
       "62   http://emblemimages.library.illinois.edu/A21a/...   \n",
       "78   http://emblemimages.library.illinois.edu/A49a/...   \n",
       "73   http://emblemimages.library.illinois.edu/A39a/...   \n",
       "112  http://emblemimages.library.illinois.edu/53781...   \n",
       "\n",
       "                                   Iconclass_Heading_1  \\\n",
       "70   25F711(BEE)(+53) insects: bee (+ postures, pos...   \n",
       "62          23S14 Rome (one of the four world empires)   \n",
       "78                              22D1 loud sound, noise   \n",
       "73    11A Deity, God (in general) ~ Christian religion   \n",
       "112  86(DER DREYEN EINES., DER BEDEUTENDE) proverbs...   \n",
       "\n",
       "                                   Iconclass_Heading_2  \\\n",
       "70                                      31A22611 blood   \n",
       "62   25F(+5227) animals (+ animal trampling, treadi...   \n",
       "78   25F711(BEE)(+53) insects: bee (+ postures, pos...   \n",
       "73          23S14 Rome (one of the four world empires)   \n",
       "112   25I22 prospect of village, silhouette of village   \n",
       "\n",
       "                                   Iconclass_Heading_3  \\\n",
       "70                                            45A1 war   \n",
       "62   25F25(ELEPHANT)(+81) trunked animals: elephant...   \n",
       "78                      25G13 groups of plants (herbs)   \n",
       "73   25F25(ELEPHANT)(+81) trunked animals: elephant...   \n",
       "112                               25G3(OAK) trees: oak   \n",
       "\n",
       "                                   Iconclass_Heading_4  \\\n",
       "70   45A10 symbols, allegories of war; 'Guerra' (Ripa)   \n",
       "62                             25H114 low hill country   \n",
       "78                              25H1124 boulder, stone   \n",
       "73                                          25G3 trees   \n",
       "112                25G21(OAK APPLE) fruits (OAK APPLE)   \n",
       "\n",
       "                                   Iconclass_Heading_5  \\\n",
       "70                                          45A2 peace   \n",
       "62                                          26A clouds   \n",
       "78                                  25H113 (high) hill   \n",
       "73                                     43A festivities   \n",
       "112  61B2(BERCHEN, Ernst von)3 historical person (B...   \n",
       "\n",
       "                                   Iconclass_Heading_6  \\\n",
       "70   45A20 symbols, allegories of peace, 'Pax'; 'Pa...   \n",
       "62   31A2513(+933) arm stretched sidewards (+ holdi...   \n",
       "78                                      31A22611 blood   \n",
       "73   43A(+21) festivities (+ decorated float, wagon...   \n",
       "112   25F713(+1) spiders (+ animals used symbolically)   \n",
       "\n",
       "                                   Iconclass_Heading_7  From Collection  \\\n",
       "70                           45A231 blessings of peace              NaN   \n",
       "62                                     31D14 adult man              NaN   \n",
       "78                                            45A1 war              NaN   \n",
       "73   45A10 symbols, allegories of war; 'Guerra' (Ripa)              NaN   \n",
       "112  25F711(FLY)(+1) insects: fly (+ animals used s...              NaN   \n",
       "\n",
       "    Published_In                               URL_for_Book_Details  \n",
       "70          A34b  http://emblematica.library.illinois.edu/detail...  \n",
       "62          A21a  http://emblematica.library.illinois.edu/detail...  \n",
       "78          A49a  http://emblematica.library.illinois.edu/detail...  \n",
       "73          A39a  http://emblematica.library.illinois.edu/detail...  \n",
       "112    537816240  http://emblematica.library.illinois.edu/detail...  "
      ]
     },
     "execution_count": 30,
     "metadata": {},
     "output_type": "execute_result"
    }
   ],
   "source": [
    "emblems.sample(5)"
   ]
  },
  {
   "cell_type": "markdown",
   "metadata": {
    "id": "ZP7blPB6IImb"
   },
   "source": [
    "### D.2  Dropping Columns\n",
    "\n",
    "* The *From Collection* column is completely empty (see the `NaN` values), so how about we drop it from our DataFrame. \n",
    "* We will also drop the **URL** columns to reduce the size of the DataFrame.\n",
    "\n"
   ]
  },
  {
   "cell_type": "code",
   "execution_count": 31,
   "metadata": {
    "colab": {
     "base_uri": "https://localhost:8080/",
     "height": 444
    },
    "id": "B4dx0CLwIImc",
    "outputId": "7c5fd07d-aeb5-4cfa-f724-d3bb9772f330"
   },
   "outputs": [
    {
     "data": {
      "text/html": [
       "<div>\n",
       "<style scoped>\n",
       "    .dataframe tbody tr th:only-of-type {\n",
       "        vertical-align: middle;\n",
       "    }\n",
       "\n",
       "    .dataframe tbody tr th {\n",
       "        vertical-align: top;\n",
       "    }\n",
       "\n",
       "    .dataframe thead th {\n",
       "        text-align: right;\n",
       "    }\n",
       "</style>\n",
       "<table border=\"1\" class=\"dataframe\">\n",
       "  <thead>\n",
       "    <tr style=\"text-align: right;\">\n",
       "      <th></th>\n",
       "      <th>Emblem_ID</th>\n",
       "      <th>Emblem_Motto</th>\n",
       "      <th>Publication_Date</th>\n",
       "      <th>Iconclass_Heading_1</th>\n",
       "      <th>Iconclass_Heading_2</th>\n",
       "      <th>Iconclass_Heading_3</th>\n",
       "      <th>Iconclass_Heading_4</th>\n",
       "      <th>Iconclass_Heading_5</th>\n",
       "      <th>Iconclass_Heading_6</th>\n",
       "      <th>Iconclass_Heading_7</th>\n",
       "      <th>Published_In</th>\n",
       "      <th>URL_for_Book_Details</th>\n",
       "    </tr>\n",
       "  </thead>\n",
       "  <tbody>\n",
       "    <tr>\n",
       "      <th>0</th>\n",
       "      <td>E000913</td>\n",
       "      <td>In pace quae belli sunt.</td>\n",
       "      <td>1617</td>\n",
       "      <td>25F23(FOX)(+535) beasts of prey, predatory ani...</td>\n",
       "      <td>25F24(BOAR)(+5211) hoofed animals: boar (+ wal...</td>\n",
       "      <td>25G3 trees</td>\n",
       "      <td>45A10 symbols, allegories of war; 'Guerra' (Ripa)</td>\n",
       "      <td>45A20 symbols, allegories of peace, 'Pax'; 'Pa...</td>\n",
       "      <td>45A132 preparation for war</td>\n",
       "      <td>54D1(+4) Preparation (+ emblematical represent...</td>\n",
       "      <td>emblematapolitic00isel</td>\n",
       "      <td>http://emblematica.library.illinois.edu/detail...</td>\n",
       "    </tr>\n",
       "    <tr>\n",
       "      <th>1</th>\n",
       "      <td>E003060</td>\n",
       "      <td>Erigit impavidum ruina.</td>\n",
       "      <td>1680</td>\n",
       "      <td>86(ERIGIT IMPAVIDUM RUINA) proverbs, sayings, ...</td>\n",
       "      <td>54F12 Luck, Fortune, Lot; 'Fato', 'Fortuna', '...</td>\n",
       "      <td>46C1442 four-wheeled vehicle drawn by two animals</td>\n",
       "      <td>45A10 symbols, allegories of war; 'Guerra' (Ripa)</td>\n",
       "      <td>33A12 shaking hands, 'dextrarum junctio'</td>\n",
       "      <td>31D14 adult man</td>\n",
       "      <td>46C13141 horse</td>\n",
       "      <td>645803367</td>\n",
       "      <td>http://emblematica.library.illinois.edu/detail...</td>\n",
       "    </tr>\n",
       "    <tr>\n",
       "      <th>2</th>\n",
       "      <td>E003754</td>\n",
       "      <td>Maii. Hebdomas Prima.</td>\n",
       "      <td>1641</td>\n",
       "      <td>86(MAII. HEBDOMAS PRIMA) proverbs, sayings, et...</td>\n",
       "      <td>92D1916 cupids: 'amores', 'amoretti', 'putti'</td>\n",
       "      <td>41A1911 tent-camp</td>\n",
       "      <td>47D8(HAMMER) tools, aids, implements ~ crafts ...</td>\n",
       "      <td>47C41 gripping (industrial process)</td>\n",
       "      <td>45A10 symbols, allegories of war; 'Guerra' (Ripa)</td>\n",
       "      <td>23I22 May; 'Maggio' (Ripa)</td>\n",
       "      <td>635971542</td>\n",
       "      <td>http://emblematica.library.illinois.edu/detail...</td>\n",
       "    </tr>\n",
       "    <tr>\n",
       "      <th>3</th>\n",
       "      <td>E003755</td>\n",
       "      <td>Maii. Hebdomas Secunda.</td>\n",
       "      <td>1641</td>\n",
       "      <td>86(MAII. HEBDOMAS SECUNDA) proverbs, sayings, ...</td>\n",
       "      <td>92D1916 cupids: 'amores', 'amoretti', 'putti'</td>\n",
       "      <td>46C13187 leading a horse by the reins; rider b...</td>\n",
       "      <td>45C22 armour</td>\n",
       "      <td>45H3 battle</td>\n",
       "      <td>33B10 'Lite' (Ripa)</td>\n",
       "      <td>45A10 symbols, allegories of war; 'Guerra' (Ripa)</td>\n",
       "      <td>635971542</td>\n",
       "      <td>http://emblematica.library.illinois.edu/detail...</td>\n",
       "    </tr>\n",
       "    <tr>\n",
       "      <th>4</th>\n",
       "      <td>E003756</td>\n",
       "      <td>Maii. Hebdomas Tertia.</td>\n",
       "      <td>1641</td>\n",
       "      <td>86(MAII. HEBDOMAS TERTIA) proverbs, sayings, e...</td>\n",
       "      <td>92D1916 cupids: 'amores', 'amoretti', 'putti'</td>\n",
       "      <td>49D5111 compasses</td>\n",
       "      <td>49D511(RULER) drawing-instruments: ruler</td>\n",
       "      <td>45F11 plan of battle</td>\n",
       "      <td>45A10 symbols, allegories of war; 'Guerra' (Ripa)</td>\n",
       "      <td>33B10 'Lite' (Ripa)</td>\n",
       "      <td>635971542</td>\n",
       "      <td>http://emblematica.library.illinois.edu/detail...</td>\n",
       "    </tr>\n",
       "  </tbody>\n",
       "</table>\n",
       "</div>"
      ],
      "text/plain": [
       "  Emblem_ID              Emblem_Motto  Publication_Date  \\\n",
       "0   E000913  In pace quae belli sunt.              1617   \n",
       "1   E003060   Erigit impavidum ruina.              1680   \n",
       "2   E003754     Maii. Hebdomas Prima.              1641   \n",
       "3   E003755   Maii. Hebdomas Secunda.              1641   \n",
       "4   E003756    Maii. Hebdomas Tertia.              1641   \n",
       "\n",
       "                                 Iconclass_Heading_1  \\\n",
       "0  25F23(FOX)(+535) beasts of prey, predatory ani...   \n",
       "1  86(ERIGIT IMPAVIDUM RUINA) proverbs, sayings, ...   \n",
       "2  86(MAII. HEBDOMAS PRIMA) proverbs, sayings, et...   \n",
       "3  86(MAII. HEBDOMAS SECUNDA) proverbs, sayings, ...   \n",
       "4  86(MAII. HEBDOMAS TERTIA) proverbs, sayings, e...   \n",
       "\n",
       "                                 Iconclass_Heading_2  \\\n",
       "0  25F24(BOAR)(+5211) hoofed animals: boar (+ wal...   \n",
       "1  54F12 Luck, Fortune, Lot; 'Fato', 'Fortuna', '...   \n",
       "2      92D1916 cupids: 'amores', 'amoretti', 'putti'   \n",
       "3      92D1916 cupids: 'amores', 'amoretti', 'putti'   \n",
       "4      92D1916 cupids: 'amores', 'amoretti', 'putti'   \n",
       "\n",
       "                                 Iconclass_Heading_3  \\\n",
       "0                                         25G3 trees   \n",
       "1  46C1442 four-wheeled vehicle drawn by two animals   \n",
       "2                                  41A1911 tent-camp   \n",
       "3  46C13187 leading a horse by the reins; rider b...   \n",
       "4                                  49D5111 compasses   \n",
       "\n",
       "                                 Iconclass_Heading_4  \\\n",
       "0  45A10 symbols, allegories of war; 'Guerra' (Ripa)   \n",
       "1  45A10 symbols, allegories of war; 'Guerra' (Ripa)   \n",
       "2  47D8(HAMMER) tools, aids, implements ~ crafts ...   \n",
       "3                                       45C22 armour   \n",
       "4           49D511(RULER) drawing-instruments: ruler   \n",
       "\n",
       "                                 Iconclass_Heading_5  \\\n",
       "0  45A20 symbols, allegories of peace, 'Pax'; 'Pa...   \n",
       "1           33A12 shaking hands, 'dextrarum junctio'   \n",
       "2                47C41 gripping (industrial process)   \n",
       "3                                        45H3 battle   \n",
       "4                               45F11 plan of battle   \n",
       "\n",
       "                                 Iconclass_Heading_6  \\\n",
       "0                         45A132 preparation for war   \n",
       "1                                    31D14 adult man   \n",
       "2  45A10 symbols, allegories of war; 'Guerra' (Ripa)   \n",
       "3                                33B10 'Lite' (Ripa)   \n",
       "4  45A10 symbols, allegories of war; 'Guerra' (Ripa)   \n",
       "\n",
       "                                 Iconclass_Heading_7            Published_In  \\\n",
       "0  54D1(+4) Preparation (+ emblematical represent...  emblematapolitic00isel   \n",
       "1                                     46C13141 horse               645803367   \n",
       "2                         23I22 May; 'Maggio' (Ripa)               635971542   \n",
       "3  45A10 symbols, allegories of war; 'Guerra' (Ripa)               635971542   \n",
       "4                                33B10 'Lite' (Ripa)               635971542   \n",
       "\n",
       "                                URL_for_Book_Details  \n",
       "0  http://emblematica.library.illinois.edu/detail...  \n",
       "1  http://emblematica.library.illinois.edu/detail...  \n",
       "2  http://emblematica.library.illinois.edu/detail...  \n",
       "3  http://emblematica.library.illinois.edu/detail...  \n",
       "4  http://emblematica.library.illinois.edu/detail...  "
      ]
     },
     "execution_count": 31,
     "metadata": {},
     "output_type": "execute_result"
    }
   ],
   "source": [
    "emblems = emblems.drop(columns=[\"From Collection\", \"URL_for_Emblem_Details\", \"URL_for_Emblem_Thumbnail\", \"URL_for_Pictura\"])\n",
    "emblems.head()"
   ]
  },
  {
   "cell_type": "markdown",
   "metadata": {
    "id": "nLZEAtleYZpB"
   },
   "source": [
    "#### We found a duplicate book entry (1695) so let's drop it here"
   ]
  },
  {
   "cell_type": "markdown",
   "metadata": {
    "id": "87zjy87hIImc"
   },
   "source": [
    "### D.3 Exploring the IconClass Data:  Combining the Tags\n",
    "\n",
    "* Emblematica Online uses the Iconclass vocabularies to classify the images.\n",
    "* Each emblem can have more than one classification number, and these are stored in separate columns\n",
    "* Let's: \n",
    " - **find those Iconclass columns** and then \n",
    " - **remove the NaN values** in any cells and then\n",
    " - put all the values for each icon in a single cell **'iconclasses'**\n",
    "\n",
    " #### More about [Iconclass](http://www.iconclass.org/help/outline)"
   ]
  },
  {
   "cell_type": "code",
   "execution_count": 32,
   "metadata": {
    "ExecuteTime": {
     "end_time": "2022-02-10T23:28:17.087498Z",
     "start_time": "2022-02-10T23:28:17.085128Z"
    },
    "colab": {
     "base_uri": "https://localhost:8080/"
    },
    "id": "DaSI-u60IImc",
    "outputId": "999367a6-81a2-4009-ec18-0e657d1e8ed6"
   },
   "outputs": [
    {
     "data": {
      "text/plain": [
       "['Iconclass_Heading_1',\n",
       " 'Iconclass_Heading_2',\n",
       " 'Iconclass_Heading_3',\n",
       " 'Iconclass_Heading_4',\n",
       " 'Iconclass_Heading_5',\n",
       " 'Iconclass_Heading_6',\n",
       " 'Iconclass_Heading_7']"
      ]
     },
     "execution_count": 32,
     "metadata": {},
     "output_type": "execute_result"
    }
   ],
   "source": [
    "icon_columns = [c for c in emblems.columns if c.startswith(\"Iconclass\")]\n",
    "icon_columns"
   ]
  },
  {
   "cell_type": "code",
   "execution_count": 33,
   "metadata": {
    "ExecuteTime": {
     "end_time": "2022-02-10T23:28:17.095751Z",
     "start_time": "2022-02-10T23:28:17.089592Z"
    },
    "colab": {
     "base_uri": "https://localhost:8080/"
    },
    "id": "jjTEsQ4HIImc",
    "outputId": "8cdfac9c-18dc-44dd-80b5-02f4dcbcaa64"
   },
   "outputs": [
    {
     "data": {
      "text/plain": [
       "0      [25F23(FOX)(+535) beasts of prey, predatory an...\n",
       "1      [86(ERIGIT IMPAVIDUM RUINA) proverbs, sayings,...\n",
       "2      [86(MAII. HEBDOMAS PRIMA) proverbs, sayings, e...\n",
       "3      [86(MAII. HEBDOMAS SECUNDA) proverbs, sayings,...\n",
       "4      [86(MAII. HEBDOMAS TERTIA) proverbs, sayings, ...\n",
       "                             ...                        \n",
       "108    [86(WER DIESES NIMT IN ACHT) proverbs, sayings...\n",
       "109    [86(DEN MUND SCHLEUS ZU) proverbs, sayings, et...\n",
       "110    [86(FRIED UNS ERHELT) proverbs, sayings, etc. ...\n",
       "111    [86(SO RÜST' ICH MICH) proverbs, sayings, etc....\n",
       "112    [86(DER DREYEN EINES., DER BEDEUTENDE) proverb...\n",
       "Name: iconclasses, Length: 113, dtype: object"
      ]
     },
     "execution_count": 33,
     "metadata": {},
     "output_type": "execute_result"
    }
   ],
   "source": [
    "emblems[\"iconclasses\"] = (\n",
    "    emblems[icon_columns]\n",
    "        .fillna(\"\")\n",
    "        .apply(lambda x: [el for el in x if el], axis=\"columns\")\n",
    ")\n",
    "emblems[\"iconclasses\"]"
   ]
  },
  {
   "cell_type": "code",
   "execution_count": 34,
   "metadata": {
    "ExecuteTime": {
     "end_time": "2022-02-10T23:28:17.113510Z",
     "start_time": "2022-02-10T23:28:17.097799Z"
    },
    "colab": {
     "base_uri": "https://localhost:8080/",
     "height": 600
    },
    "id": "eA9ZXCKYIImf",
    "outputId": "dab101cd-7cea-4d7f-9411-460cb93f6d9a"
   },
   "outputs": [
    {
     "data": {
      "text/html": [
       "<div>\n",
       "<style scoped>\n",
       "    .dataframe tbody tr th:only-of-type {\n",
       "        vertical-align: middle;\n",
       "    }\n",
       "\n",
       "    .dataframe tbody tr th {\n",
       "        vertical-align: top;\n",
       "    }\n",
       "\n",
       "    .dataframe thead th {\n",
       "        text-align: right;\n",
       "    }\n",
       "</style>\n",
       "<table border=\"1\" class=\"dataframe\">\n",
       "  <thead>\n",
       "    <tr style=\"text-align: right;\">\n",
       "      <th></th>\n",
       "      <th>Emblem_ID</th>\n",
       "      <th>Emblem_Motto</th>\n",
       "      <th>Publication_Date</th>\n",
       "      <th>Iconclass_Heading_1</th>\n",
       "      <th>Iconclass_Heading_2</th>\n",
       "      <th>Iconclass_Heading_3</th>\n",
       "      <th>Iconclass_Heading_4</th>\n",
       "      <th>Iconclass_Heading_5</th>\n",
       "      <th>Iconclass_Heading_6</th>\n",
       "      <th>Iconclass_Heading_7</th>\n",
       "      <th>Published_In</th>\n",
       "      <th>URL_for_Book_Details</th>\n",
       "      <th>iconclasses</th>\n",
       "    </tr>\n",
       "  </thead>\n",
       "  <tbody>\n",
       "    <tr>\n",
       "      <th>0</th>\n",
       "      <td>E000913</td>\n",
       "      <td>In pace quae belli sunt.</td>\n",
       "      <td>1617</td>\n",
       "      <td>25F23(FOX)(+535) beasts of prey, predatory ani...</td>\n",
       "      <td>25F24(BOAR)(+5211) hoofed animals: boar (+ wal...</td>\n",
       "      <td>25G3 trees</td>\n",
       "      <td>45A10 symbols, allegories of war; 'Guerra' (Ripa)</td>\n",
       "      <td>45A20 symbols, allegories of peace, 'Pax'; 'Pa...</td>\n",
       "      <td>45A132 preparation for war</td>\n",
       "      <td>54D1(+4) Preparation (+ emblematical represent...</td>\n",
       "      <td>emblematapolitic00isel</td>\n",
       "      <td>http://emblematica.library.illinois.edu/detail...</td>\n",
       "      <td>[25F23(FOX)(+535) beasts of prey, predatory an...</td>\n",
       "    </tr>\n",
       "    <tr>\n",
       "      <th>1</th>\n",
       "      <td>E003060</td>\n",
       "      <td>Erigit impavidum ruina.</td>\n",
       "      <td>1680</td>\n",
       "      <td>86(ERIGIT IMPAVIDUM RUINA) proverbs, sayings, ...</td>\n",
       "      <td>54F12 Luck, Fortune, Lot; 'Fato', 'Fortuna', '...</td>\n",
       "      <td>46C1442 four-wheeled vehicle drawn by two animals</td>\n",
       "      <td>45A10 symbols, allegories of war; 'Guerra' (Ripa)</td>\n",
       "      <td>33A12 shaking hands, 'dextrarum junctio'</td>\n",
       "      <td>31D14 adult man</td>\n",
       "      <td>46C13141 horse</td>\n",
       "      <td>645803367</td>\n",
       "      <td>http://emblematica.library.illinois.edu/detail...</td>\n",
       "      <td>[86(ERIGIT IMPAVIDUM RUINA) proverbs, sayings,...</td>\n",
       "    </tr>\n",
       "    <tr>\n",
       "      <th>2</th>\n",
       "      <td>E003754</td>\n",
       "      <td>Maii. Hebdomas Prima.</td>\n",
       "      <td>1641</td>\n",
       "      <td>86(MAII. HEBDOMAS PRIMA) proverbs, sayings, et...</td>\n",
       "      <td>92D1916 cupids: 'amores', 'amoretti', 'putti'</td>\n",
       "      <td>41A1911 tent-camp</td>\n",
       "      <td>47D8(HAMMER) tools, aids, implements ~ crafts ...</td>\n",
       "      <td>47C41 gripping (industrial process)</td>\n",
       "      <td>45A10 symbols, allegories of war; 'Guerra' (Ripa)</td>\n",
       "      <td>23I22 May; 'Maggio' (Ripa)</td>\n",
       "      <td>635971542</td>\n",
       "      <td>http://emblematica.library.illinois.edu/detail...</td>\n",
       "      <td>[86(MAII. HEBDOMAS PRIMA) proverbs, sayings, e...</td>\n",
       "    </tr>\n",
       "    <tr>\n",
       "      <th>3</th>\n",
       "      <td>E003755</td>\n",
       "      <td>Maii. Hebdomas Secunda.</td>\n",
       "      <td>1641</td>\n",
       "      <td>86(MAII. HEBDOMAS SECUNDA) proverbs, sayings, ...</td>\n",
       "      <td>92D1916 cupids: 'amores', 'amoretti', 'putti'</td>\n",
       "      <td>46C13187 leading a horse by the reins; rider b...</td>\n",
       "      <td>45C22 armour</td>\n",
       "      <td>45H3 battle</td>\n",
       "      <td>33B10 'Lite' (Ripa)</td>\n",
       "      <td>45A10 symbols, allegories of war; 'Guerra' (Ripa)</td>\n",
       "      <td>635971542</td>\n",
       "      <td>http://emblematica.library.illinois.edu/detail...</td>\n",
       "      <td>[86(MAII. HEBDOMAS SECUNDA) proverbs, sayings,...</td>\n",
       "    </tr>\n",
       "    <tr>\n",
       "      <th>4</th>\n",
       "      <td>E003756</td>\n",
       "      <td>Maii. Hebdomas Tertia.</td>\n",
       "      <td>1641</td>\n",
       "      <td>86(MAII. HEBDOMAS TERTIA) proverbs, sayings, e...</td>\n",
       "      <td>92D1916 cupids: 'amores', 'amoretti', 'putti'</td>\n",
       "      <td>49D5111 compasses</td>\n",
       "      <td>49D511(RULER) drawing-instruments: ruler</td>\n",
       "      <td>45F11 plan of battle</td>\n",
       "      <td>45A10 symbols, allegories of war; 'Guerra' (Ripa)</td>\n",
       "      <td>33B10 'Lite' (Ripa)</td>\n",
       "      <td>635971542</td>\n",
       "      <td>http://emblematica.library.illinois.edu/detail...</td>\n",
       "      <td>[86(MAII. HEBDOMAS TERTIA) proverbs, sayings, ...</td>\n",
       "    </tr>\n",
       "  </tbody>\n",
       "</table>\n",
       "</div>"
      ],
      "text/plain": [
       "  Emblem_ID              Emblem_Motto  Publication_Date  \\\n",
       "0   E000913  In pace quae belli sunt.              1617   \n",
       "1   E003060   Erigit impavidum ruina.              1680   \n",
       "2   E003754     Maii. Hebdomas Prima.              1641   \n",
       "3   E003755   Maii. Hebdomas Secunda.              1641   \n",
       "4   E003756    Maii. Hebdomas Tertia.              1641   \n",
       "\n",
       "                                 Iconclass_Heading_1  \\\n",
       "0  25F23(FOX)(+535) beasts of prey, predatory ani...   \n",
       "1  86(ERIGIT IMPAVIDUM RUINA) proverbs, sayings, ...   \n",
       "2  86(MAII. HEBDOMAS PRIMA) proverbs, sayings, et...   \n",
       "3  86(MAII. HEBDOMAS SECUNDA) proverbs, sayings, ...   \n",
       "4  86(MAII. HEBDOMAS TERTIA) proverbs, sayings, e...   \n",
       "\n",
       "                                 Iconclass_Heading_2  \\\n",
       "0  25F24(BOAR)(+5211) hoofed animals: boar (+ wal...   \n",
       "1  54F12 Luck, Fortune, Lot; 'Fato', 'Fortuna', '...   \n",
       "2      92D1916 cupids: 'amores', 'amoretti', 'putti'   \n",
       "3      92D1916 cupids: 'amores', 'amoretti', 'putti'   \n",
       "4      92D1916 cupids: 'amores', 'amoretti', 'putti'   \n",
       "\n",
       "                                 Iconclass_Heading_3  \\\n",
       "0                                         25G3 trees   \n",
       "1  46C1442 four-wheeled vehicle drawn by two animals   \n",
       "2                                  41A1911 tent-camp   \n",
       "3  46C13187 leading a horse by the reins; rider b...   \n",
       "4                                  49D5111 compasses   \n",
       "\n",
       "                                 Iconclass_Heading_4  \\\n",
       "0  45A10 symbols, allegories of war; 'Guerra' (Ripa)   \n",
       "1  45A10 symbols, allegories of war; 'Guerra' (Ripa)   \n",
       "2  47D8(HAMMER) tools, aids, implements ~ crafts ...   \n",
       "3                                       45C22 armour   \n",
       "4           49D511(RULER) drawing-instruments: ruler   \n",
       "\n",
       "                                 Iconclass_Heading_5  \\\n",
       "0  45A20 symbols, allegories of peace, 'Pax'; 'Pa...   \n",
       "1           33A12 shaking hands, 'dextrarum junctio'   \n",
       "2                47C41 gripping (industrial process)   \n",
       "3                                        45H3 battle   \n",
       "4                               45F11 plan of battle   \n",
       "\n",
       "                                 Iconclass_Heading_6  \\\n",
       "0                         45A132 preparation for war   \n",
       "1                                    31D14 adult man   \n",
       "2  45A10 symbols, allegories of war; 'Guerra' (Ripa)   \n",
       "3                                33B10 'Lite' (Ripa)   \n",
       "4  45A10 symbols, allegories of war; 'Guerra' (Ripa)   \n",
       "\n",
       "                                 Iconclass_Heading_7            Published_In  \\\n",
       "0  54D1(+4) Preparation (+ emblematical represent...  emblematapolitic00isel   \n",
       "1                                     46C13141 horse               645803367   \n",
       "2                         23I22 May; 'Maggio' (Ripa)               635971542   \n",
       "3  45A10 symbols, allegories of war; 'Guerra' (Ripa)               635971542   \n",
       "4                                33B10 'Lite' (Ripa)               635971542   \n",
       "\n",
       "                                URL_for_Book_Details  \\\n",
       "0  http://emblematica.library.illinois.edu/detail...   \n",
       "1  http://emblematica.library.illinois.edu/detail...   \n",
       "2  http://emblematica.library.illinois.edu/detail...   \n",
       "3  http://emblematica.library.illinois.edu/detail...   \n",
       "4  http://emblematica.library.illinois.edu/detail...   \n",
       "\n",
       "                                         iconclasses  \n",
       "0  [25F23(FOX)(+535) beasts of prey, predatory an...  \n",
       "1  [86(ERIGIT IMPAVIDUM RUINA) proverbs, sayings,...  \n",
       "2  [86(MAII. HEBDOMAS PRIMA) proverbs, sayings, e...  \n",
       "3  [86(MAII. HEBDOMAS SECUNDA) proverbs, sayings,...  \n",
       "4  [86(MAII. HEBDOMAS TERTIA) proverbs, sayings, ...  "
      ]
     },
     "execution_count": 34,
     "metadata": {},
     "output_type": "execute_result"
    }
   ],
   "source": [
    "emblems.head()"
   ]
  },
  {
   "cell_type": "markdown",
   "metadata": {
    "id": "LwAYSh5nIImg"
   },
   "source": [
    "#### The `iloc` method lets us see a particular location, in this case the **combined cell of the first row** `[0]`"
   ]
  },
  {
   "cell_type": "code",
   "execution_count": 35,
   "metadata": {
    "ExecuteTime": {
     "end_time": "2022-02-10T23:28:17.120319Z",
     "start_time": "2022-02-10T23:28:17.115506Z"
    },
    "colab": {
     "base_uri": "https://localhost:8080/"
    },
    "id": "xhaU7iC2IImg",
    "outputId": "bbe5a20d-79cf-4e38-a88e-73dffdb96f10"
   },
   "outputs": [
    {
     "data": {
      "text/plain": [
       "['25F23(FOX)(+535) beasts of prey, predatory animals: fox (+ sitting animal)',\n",
       " '25F24(BOAR)(+5211) hoofed animals: boar (+ walking animal)',\n",
       " '25G3 trees',\n",
       " \"45A10 symbols, allegories of war; 'Guerra' (Ripa)\",\n",
       " \"45A20 symbols, allegories of peace, 'Pax'; 'Pace' (Ripa)\",\n",
       " '45A132 preparation for war',\n",
       " '54D1(+4) Preparation (+ emblematical representation of concept)']"
      ]
     },
     "execution_count": 35,
     "metadata": {},
     "output_type": "execute_result"
    }
   ],
   "source": [
    "emblems.iconclasses.iloc[0]"
   ]
  },
  {
   "cell_type": "markdown",
   "metadata": {
    "id": "J6XWi4prIImg"
   },
   "source": [
    "### D.3 Exploring the IconClass Data:  Searching within Tag Data\n",
    "\n",
    "* Iconclass data (http://www.iconclass.org/help/outline) are organized hierarchically.  The first digit represents a broad category (\"2\" = nature), and subsequent characters and letter represent sub-types.  \"24\" is the heavens; \"25\" is the earth.  \n",
    "* \"25F\" is the category 'animal'.  So we can make a new **Boolean column** (which will be either True or False) for any row in which that tag string appears. \n"
   ]
  },
  {
   "cell_type": "code",
   "execution_count": 36,
   "metadata": {
    "ExecuteTime": {
     "end_time": "2022-02-10T23:28:17.127063Z",
     "start_time": "2022-02-10T23:28:17.122335Z"
    },
    "colab": {
     "base_uri": "https://localhost:8080/"
    },
    "id": "PuAglbEMIImg",
    "outputId": "96d1b7a2-d066-4b01-ca62-f3888c170af3"
   },
   "outputs": [
    {
     "data": {
      "text/plain": [
       "0       True\n",
       "1      False\n",
       "2      False\n",
       "3      False\n",
       "4      False\n",
       "       ...  \n",
       "108    False\n",
       "109    False\n",
       "110    False\n",
       "111    False\n",
       "112     True\n",
       "Name: is_animal, Length: 113, dtype: bool"
      ]
     },
     "execution_count": 36,
     "metadata": {},
     "output_type": "execute_result"
    }
   ],
   "source": [
    "emblems[\"is_animal\"] = emblems.iconclasses.apply(lambda tag_list: any([tag.startswith(\"25F\") for tag in tag_list]))\n",
    "emblems[\"is_animal\"]"
   ]
  },
  {
   "cell_type": "markdown",
   "metadata": {
    "id": "8RSBv2oQIImh"
   },
   "source": [
    "#### The dataframe can now be 'filtered' to show only those rows where \"is_animal\" is True (or False!)\n",
    "\n",
    "* Scroll to the far right in the following dataframe to see the Boolean column"
   ]
  },
  {
   "cell_type": "code",
   "execution_count": 62,
   "metadata": {
    "ExecuteTime": {
     "end_time": "2022-02-10T23:28:17.154254Z",
     "start_time": "2022-02-10T23:28:17.129750Z"
    },
    "colab": {
     "base_uri": "https://localhost:8080/",
     "height": 1000
    },
    "id": "RaQYQHx3IImh",
    "outputId": "4e611697-6933-4a53-9d2c-f763468e4bcc"
   },
   "outputs": [
    {
     "data": {
      "text/html": [
       "<div>\n",
       "<style scoped>\n",
       "    .dataframe tbody tr th:only-of-type {\n",
       "        vertical-align: middle;\n",
       "    }\n",
       "\n",
       "    .dataframe tbody tr th {\n",
       "        vertical-align: top;\n",
       "    }\n",
       "\n",
       "    .dataframe thead th {\n",
       "        text-align: right;\n",
       "    }\n",
       "</style>\n",
       "<table border=\"1\" class=\"dataframe\">\n",
       "  <thead>\n",
       "    <tr style=\"text-align: right;\">\n",
       "      <th></th>\n",
       "      <th>Emblem_ID</th>\n",
       "      <th>Emblem_Motto</th>\n",
       "      <th>Publication_Date</th>\n",
       "      <th>Iconclass_Heading_1</th>\n",
       "      <th>Iconclass_Heading_2</th>\n",
       "      <th>Iconclass_Heading_3</th>\n",
       "      <th>Iconclass_Heading_4</th>\n",
       "      <th>Iconclass_Heading_5</th>\n",
       "      <th>Iconclass_Heading_6</th>\n",
       "      <th>Iconclass_Heading_7</th>\n",
       "      <th>Published_In</th>\n",
       "      <th>URL_for_Book_Details</th>\n",
       "      <th>iconclasses</th>\n",
       "      <th>is_animal</th>\n",
       "    </tr>\n",
       "  </thead>\n",
       "  <tbody>\n",
       "    <tr>\n",
       "      <th>0</th>\n",
       "      <td>E000913</td>\n",
       "      <td>In pace quae belli sunt.</td>\n",
       "      <td>1617</td>\n",
       "      <td>25F23(FOX)(+535) beasts of prey, predatory ani...</td>\n",
       "      <td>25F24(BOAR)(+5211) hoofed animals: boar (+ wal...</td>\n",
       "      <td>25G3 trees</td>\n",
       "      <td>45A10 symbols, allegories of war; 'Guerra' (Ripa)</td>\n",
       "      <td>45A20 symbols, allegories of peace, 'Pax'; 'Pa...</td>\n",
       "      <td>45A132 preparation for war</td>\n",
       "      <td>54D1(+4) Preparation (+ emblematical represent...</td>\n",
       "      <td>emblematapolitic00isel</td>\n",
       "      <td>http://emblematica.library.illinois.edu/detail...</td>\n",
       "      <td>[25F23(FOX)(+535) beasts of prey, predatory an...</td>\n",
       "      <td>True</td>\n",
       "    </tr>\n",
       "    <tr>\n",
       "      <th>23</th>\n",
       "      <td>E010938</td>\n",
       "      <td>In Bello Prudentia Opus.</td>\n",
       "      <td>1700</td>\n",
       "      <td>86(IN BELLO PRUDENTIA OPUS) proverbs, sayings,...</td>\n",
       "      <td>41A12 castle</td>\n",
       "      <td>61F(SCHLOSS BIRKENFELD) names of historical bu...</td>\n",
       "      <td>61E(BIRKENFELD KREIS BIRKENFELD) names of citi...</td>\n",
       "      <td>43C13(+4241) fowling, fowler (+ hunting with f...</td>\n",
       "      <td>25F33(FALCON)(+51) predatory birds: falcon (+ ...</td>\n",
       "      <td>25F37(HERON)(+51) shore-birds and wading-birds...</td>\n",
       "      <td>659008459</td>\n",
       "      <td>http://emblematica.library.illinois.edu/detail...</td>\n",
       "      <td>[86(IN BELLO PRUDENTIA OPUS) proverbs, sayings...</td>\n",
       "      <td>True</td>\n",
       "    </tr>\n",
       "    <tr>\n",
       "      <th>24</th>\n",
       "      <td>E011084</td>\n",
       "      <td>Patribus Respublica Curae Est.</td>\n",
       "      <td>1700</td>\n",
       "      <td>86(PATRIBUS RESPUBLICA CURAE EST) proverbs, sa...</td>\n",
       "      <td>25I1 city-view in general; 'veduta'</td>\n",
       "      <td>61E(ROTENBURG AN DER FULDA) names of cities an...</td>\n",
       "      <td>44B1 ruler, sovereign</td>\n",
       "      <td>25F33(EAGLE) predatory birds: eagle</td>\n",
       "      <td>44B191 crown (symbol of sovereignty)</td>\n",
       "      <td>45C13(SWORD) hacking and thrusting weapons: sword</td>\n",
       "      <td>659008459</td>\n",
       "      <td>http://emblematica.library.illinois.edu/detail...</td>\n",
       "      <td>[86(PATRIBUS RESPUBLICA CURAE EST) proverbs, s...</td>\n",
       "      <td>True</td>\n",
       "    </tr>\n",
       "    <tr>\n",
       "      <th>27</th>\n",
       "      <td>E011171</td>\n",
       "      <td>Bellum Vel Feris Perniciosum Est.</td>\n",
       "      <td>1700</td>\n",
       "      <td>86(BELLUM VEL FERIS PERNICIOSUM EST) proverbs,...</td>\n",
       "      <td>11P3151 abbey, monastery, convent ~ Roman Cath...</td>\n",
       "      <td>25F25(ELEPHANT) trunked animals: elephant</td>\n",
       "      <td>25F24(RHINOCEROS) hoofed animals: rhinoceros</td>\n",
       "      <td>54BB31 Damage, Disservice; 'Danno' (Ripa)</td>\n",
       "      <td>54BB11 Misuse, Misemployment</td>\n",
       "      <td>45C10 'Arme' (Ripa)</td>\n",
       "      <td>659008459</td>\n",
       "      <td>http://emblematica.library.illinois.edu/detail...</td>\n",
       "      <td>[86(BELLUM VEL FERIS PERNICIOSUM EST) proverbs...</td>\n",
       "      <td>True</td>\n",
       "    </tr>\n",
       "    <tr>\n",
       "      <th>30</th>\n",
       "      <td>E013761</td>\n",
       "      <td>Turbata Delectat.</td>\n",
       "      <td>1605</td>\n",
       "      <td>86(TURBATA DELECTAT) proverbs, sayings, etc. (...</td>\n",
       "      <td>25F24(CAMEL)(+5227) hoofed animals: camel (+ a...</td>\n",
       "      <td>25H212 brook</td>\n",
       "      <td>45A10 symbols, allegories of war; 'Guerra' (Ripa)</td>\n",
       "      <td>51DD1 Disorder, Confusion, Derangement, Disorg...</td>\n",
       "      <td>NaN</td>\n",
       "      <td>NaN</td>\n",
       "      <td>66453631X</td>\n",
       "      <td>http://emblematica.library.illinois.edu/detail...</td>\n",
       "      <td>[86(TURBATA DELECTAT) proverbs, sayings, etc. ...</td>\n",
       "      <td>True</td>\n",
       "    </tr>\n",
       "    <tr>\n",
       "      <th>...</th>\n",
       "      <td>...</td>\n",
       "      <td>...</td>\n",
       "      <td>...</td>\n",
       "      <td>...</td>\n",
       "      <td>...</td>\n",
       "      <td>...</td>\n",
       "      <td>...</td>\n",
       "      <td>...</td>\n",
       "      <td>...</td>\n",
       "      <td>...</td>\n",
       "      <td>...</td>\n",
       "      <td>...</td>\n",
       "      <td>...</td>\n",
       "      <td>...</td>\n",
       "    </tr>\n",
       "    <tr>\n",
       "      <th>96</th>\n",
       "      <td>E032198</td>\n",
       "      <td>Paix</td>\n",
       "      <td>1549</td>\n",
       "      <td>23S14 Rome (one of the four world empires)</td>\n",
       "      <td>25F25(ELEPHANT)(+81) trunked animals: elephant...</td>\n",
       "      <td>31A2352 sitting on an elevation</td>\n",
       "      <td>31A244 head bent forward; bowing</td>\n",
       "      <td>31A247 looking over the shoulder</td>\n",
       "      <td>31A2511(+933) arm raised upward (+ holding som...</td>\n",
       "      <td>31A2512(+933) arm stretched forward (+ holding...</td>\n",
       "      <td>FALb</td>\n",
       "      <td>http://emblematica.library.illinois.edu/detail...</td>\n",
       "      <td>[23S14 Rome (one of the four world empires), 2...</td>\n",
       "      <td>True</td>\n",
       "    </tr>\n",
       "    <tr>\n",
       "      <th>97</th>\n",
       "      <td>E032199</td>\n",
       "      <td>De guerre Paix.</td>\n",
       "      <td>1549</td>\n",
       "      <td>25F711(BEE)(+53) insects: bee (+ postures, pos...</td>\n",
       "      <td>25G13 groups of plants (herbs)</td>\n",
       "      <td>25H1124 boulder, stone</td>\n",
       "      <td>25H113 (high) hill</td>\n",
       "      <td>31A22611 blood</td>\n",
       "      <td>45A1 war</td>\n",
       "      <td>45A10 symbols, allegories of war; 'Guerra' (Ripa)</td>\n",
       "      <td>FALb</td>\n",
       "      <td>http://emblematica.library.illinois.edu/detail...</td>\n",
       "      <td>[25F711(BEE)(+53) insects: bee (+ postures, po...</td>\n",
       "      <td>True</td>\n",
       "    </tr>\n",
       "    <tr>\n",
       "      <th>98</th>\n",
       "      <td>E032489</td>\n",
       "      <td>De Guerre Paix.</td>\n",
       "      <td>1615</td>\n",
       "      <td>25F711(BEE)(+53) insects: bee (+ postures, pos...</td>\n",
       "      <td>31A22611 blood</td>\n",
       "      <td>45A1 war</td>\n",
       "      <td>45A10 symbols, allegories of war; 'Guerra' (Ripa)</td>\n",
       "      <td>45A2 peace</td>\n",
       "      <td>45A20 symbols, allegories of peace, 'Pax'; 'Pa...</td>\n",
       "      <td>45A231 blessings of peace</td>\n",
       "      <td>FALd</td>\n",
       "      <td>http://emblematica.library.illinois.edu/detail...</td>\n",
       "      <td>[25F711(BEE)(+53) insects: bee (+ postures, po...</td>\n",
       "      <td>True</td>\n",
       "    </tr>\n",
       "    <tr>\n",
       "      <th>99</th>\n",
       "      <td>E032524</td>\n",
       "      <td>Paix.</td>\n",
       "      <td>1615</td>\n",
       "      <td>11A Deity, God (in general) ~ Christian religion</td>\n",
       "      <td>25F25(ELEPHANT)(+81) trunked animals: elephant...</td>\n",
       "      <td>26A clouds</td>\n",
       "      <td>31A2511(+933) arm raised upward (+ holding som...</td>\n",
       "      <td>31A2515(+933) arm held downwards (+ holding so...</td>\n",
       "      <td>31A2746 breaking something</td>\n",
       "      <td>31D14 adult man</td>\n",
       "      <td>FALd</td>\n",
       "      <td>http://emblematica.library.illinois.edu/detail...</td>\n",
       "      <td>[11A Deity, God (in general) ~ Christian relig...</td>\n",
       "      <td>True</td>\n",
       "    </tr>\n",
       "    <tr>\n",
       "      <th>112</th>\n",
       "      <td>E051589</td>\n",
       "      <td>Der Dreyen Eines., Der Bedeutende.</td>\n",
       "      <td>1646</td>\n",
       "      <td>86(DER DREYEN EINES., DER BEDEUTENDE) proverbs...</td>\n",
       "      <td>25I22 prospect of village, silhouette of village</td>\n",
       "      <td>25G3(OAK) trees: oak</td>\n",
       "      <td>25G21(OAK APPLE) fruits (OAK APPLE)</td>\n",
       "      <td>61B2(BERCHEN, Ernst von)3 historical person (B...</td>\n",
       "      <td>25F713(+1) spiders (+ animals used symbolically)</td>\n",
       "      <td>25F711(FLY)(+1) insects: fly (+ animals used s...</td>\n",
       "      <td>537816240</td>\n",
       "      <td>http://emblematica.library.illinois.edu/detail...</td>\n",
       "      <td>[86(DER DREYEN EINES., DER BEDEUTENDE) proverb...</td>\n",
       "      <td>True</td>\n",
       "    </tr>\n",
       "  </tbody>\n",
       "</table>\n",
       "<p>64 rows × 14 columns</p>\n",
       "</div>"
      ],
      "text/plain": [
       "    Emblem_ID                        Emblem_Motto  Publication_Date  \\\n",
       "0     E000913            In pace quae belli sunt.              1617   \n",
       "23    E010938            In Bello Prudentia Opus.              1700   \n",
       "24    E011084      Patribus Respublica Curae Est.              1700   \n",
       "27    E011171   Bellum Vel Feris Perniciosum Est.              1700   \n",
       "30    E013761                   Turbata Delectat.              1605   \n",
       "..        ...                                 ...               ...   \n",
       "96    E032198                                Paix              1549   \n",
       "97    E032199                     De guerre Paix.              1549   \n",
       "98    E032489                     De Guerre Paix.              1615   \n",
       "99    E032524                               Paix.              1615   \n",
       "112   E051589  Der Dreyen Eines., Der Bedeutende.              1646   \n",
       "\n",
       "                                   Iconclass_Heading_1  \\\n",
       "0    25F23(FOX)(+535) beasts of prey, predatory ani...   \n",
       "23   86(IN BELLO PRUDENTIA OPUS) proverbs, sayings,...   \n",
       "24   86(PATRIBUS RESPUBLICA CURAE EST) proverbs, sa...   \n",
       "27   86(BELLUM VEL FERIS PERNICIOSUM EST) proverbs,...   \n",
       "30   86(TURBATA DELECTAT) proverbs, sayings, etc. (...   \n",
       "..                                                 ...   \n",
       "96          23S14 Rome (one of the four world empires)   \n",
       "97   25F711(BEE)(+53) insects: bee (+ postures, pos...   \n",
       "98   25F711(BEE)(+53) insects: bee (+ postures, pos...   \n",
       "99    11A Deity, God (in general) ~ Christian religion   \n",
       "112  86(DER DREYEN EINES., DER BEDEUTENDE) proverbs...   \n",
       "\n",
       "                                   Iconclass_Heading_2  \\\n",
       "0    25F24(BOAR)(+5211) hoofed animals: boar (+ wal...   \n",
       "23                                        41A12 castle   \n",
       "24                 25I1 city-view in general; 'veduta'   \n",
       "27   11P3151 abbey, monastery, convent ~ Roman Cath...   \n",
       "30   25F24(CAMEL)(+5227) hoofed animals: camel (+ a...   \n",
       "..                                                 ...   \n",
       "96   25F25(ELEPHANT)(+81) trunked animals: elephant...   \n",
       "97                      25G13 groups of plants (herbs)   \n",
       "98                                      31A22611 blood   \n",
       "99   25F25(ELEPHANT)(+81) trunked animals: elephant...   \n",
       "112   25I22 prospect of village, silhouette of village   \n",
       "\n",
       "                                   Iconclass_Heading_3  \\\n",
       "0                                           25G3 trees   \n",
       "23   61F(SCHLOSS BIRKENFELD) names of historical bu...   \n",
       "24   61E(ROTENBURG AN DER FULDA) names of cities an...   \n",
       "27           25F25(ELEPHANT) trunked animals: elephant   \n",
       "30                                        25H212 brook   \n",
       "..                                                 ...   \n",
       "96                     31A2352 sitting on an elevation   \n",
       "97                              25H1124 boulder, stone   \n",
       "98                                            45A1 war   \n",
       "99                                          26A clouds   \n",
       "112                               25G3(OAK) trees: oak   \n",
       "\n",
       "                                   Iconclass_Heading_4  \\\n",
       "0    45A10 symbols, allegories of war; 'Guerra' (Ripa)   \n",
       "23   61E(BIRKENFELD KREIS BIRKENFELD) names of citi...   \n",
       "24                               44B1 ruler, sovereign   \n",
       "27        25F24(RHINOCEROS) hoofed animals: rhinoceros   \n",
       "30   45A10 symbols, allegories of war; 'Guerra' (Ripa)   \n",
       "..                                                 ...   \n",
       "96                    31A244 head bent forward; bowing   \n",
       "97                                  25H113 (high) hill   \n",
       "98   45A10 symbols, allegories of war; 'Guerra' (Ripa)   \n",
       "99   31A2511(+933) arm raised upward (+ holding som...   \n",
       "112                25G21(OAK APPLE) fruits (OAK APPLE)   \n",
       "\n",
       "                                   Iconclass_Heading_5  \\\n",
       "0    45A20 symbols, allegories of peace, 'Pax'; 'Pa...   \n",
       "23   43C13(+4241) fowling, fowler (+ hunting with f...   \n",
       "24                 25F33(EAGLE) predatory birds: eagle   \n",
       "27           54BB31 Damage, Disservice; 'Danno' (Ripa)   \n",
       "30   51DD1 Disorder, Confusion, Derangement, Disorg...   \n",
       "..                                                 ...   \n",
       "96                    31A247 looking over the shoulder   \n",
       "97                                      31A22611 blood   \n",
       "98                                          45A2 peace   \n",
       "99   31A2515(+933) arm held downwards (+ holding so...   \n",
       "112  61B2(BERCHEN, Ernst von)3 historical person (B...   \n",
       "\n",
       "                                   Iconclass_Heading_6  \\\n",
       "0                           45A132 preparation for war   \n",
       "23   25F33(FALCON)(+51) predatory birds: falcon (+ ...   \n",
       "24                44B191 crown (symbol of sovereignty)   \n",
       "27                        54BB11 Misuse, Misemployment   \n",
       "30                                                 NaN   \n",
       "..                                                 ...   \n",
       "96   31A2511(+933) arm raised upward (+ holding som...   \n",
       "97                                            45A1 war   \n",
       "98   45A20 symbols, allegories of peace, 'Pax'; 'Pa...   \n",
       "99                          31A2746 breaking something   \n",
       "112   25F713(+1) spiders (+ animals used symbolically)   \n",
       "\n",
       "                                   Iconclass_Heading_7  \\\n",
       "0    54D1(+4) Preparation (+ emblematical represent...   \n",
       "23   25F37(HERON)(+51) shore-birds and wading-birds...   \n",
       "24   45C13(SWORD) hacking and thrusting weapons: sword   \n",
       "27                                 45C10 'Arme' (Ripa)   \n",
       "30                                                 NaN   \n",
       "..                                                 ...   \n",
       "96   31A2512(+933) arm stretched forward (+ holding...   \n",
       "97   45A10 symbols, allegories of war; 'Guerra' (Ripa)   \n",
       "98                           45A231 blessings of peace   \n",
       "99                                     31D14 adult man   \n",
       "112  25F711(FLY)(+1) insects: fly (+ animals used s...   \n",
       "\n",
       "               Published_In  \\\n",
       "0    emblematapolitic00isel   \n",
       "23                659008459   \n",
       "24                659008459   \n",
       "27                659008459   \n",
       "30                66453631X   \n",
       "..                      ...   \n",
       "96                     FALb   \n",
       "97                     FALb   \n",
       "98                     FALd   \n",
       "99                     FALd   \n",
       "112               537816240   \n",
       "\n",
       "                                  URL_for_Book_Details  \\\n",
       "0    http://emblematica.library.illinois.edu/detail...   \n",
       "23   http://emblematica.library.illinois.edu/detail...   \n",
       "24   http://emblematica.library.illinois.edu/detail...   \n",
       "27   http://emblematica.library.illinois.edu/detail...   \n",
       "30   http://emblematica.library.illinois.edu/detail...   \n",
       "..                                                 ...   \n",
       "96   http://emblematica.library.illinois.edu/detail...   \n",
       "97   http://emblematica.library.illinois.edu/detail...   \n",
       "98   http://emblematica.library.illinois.edu/detail...   \n",
       "99   http://emblematica.library.illinois.edu/detail...   \n",
       "112  http://emblematica.library.illinois.edu/detail...   \n",
       "\n",
       "                                           iconclasses  is_animal  \n",
       "0    [25F23(FOX)(+535) beasts of prey, predatory an...       True  \n",
       "23   [86(IN BELLO PRUDENTIA OPUS) proverbs, sayings...       True  \n",
       "24   [86(PATRIBUS RESPUBLICA CURAE EST) proverbs, s...       True  \n",
       "27   [86(BELLUM VEL FERIS PERNICIOSUM EST) proverbs...       True  \n",
       "30   [86(TURBATA DELECTAT) proverbs, sayings, etc. ...       True  \n",
       "..                                                 ...        ...  \n",
       "96   [23S14 Rome (one of the four world empires), 2...       True  \n",
       "97   [25F711(BEE)(+53) insects: bee (+ postures, po...       True  \n",
       "98   [25F711(BEE)(+53) insects: bee (+ postures, po...       True  \n",
       "99   [11A Deity, God (in general) ~ Christian relig...       True  \n",
       "112  [86(DER DREYEN EINES., DER BEDEUTENDE) proverb...       True  \n",
       "\n",
       "[64 rows x 14 columns]"
      ]
     },
     "execution_count": 62,
     "metadata": {},
     "output_type": "execute_result"
    }
   ],
   "source": [
    "results = emblems[emblems.is_animal]\n",
    "results"
   ]
  },
  {
   "cell_type": "code",
   "execution_count": 38,
   "metadata": {},
   "outputs": [],
   "source": [
    "results.to_csv(\"my_animals.csv\")"
   ]
  },
  {
   "cell_type": "markdown",
   "metadata": {
    "id": "_6LVfgjvIImh"
   },
   "source": [
    "___"
   ]
  },
  {
   "cell_type": "markdown",
   "metadata": {
    "id": "nCMWrCJqIImi"
   },
   "source": [
    "## E.  Combining, Joining, and Merging DataFrames\n",
    "\n",
    "### E.1 We can merge the emblem and book dataframes on the basis of some shared data\n",
    "\n",
    "* In this case the **Published_In** column in the emblems list corresponds to the **Book_Id**\n",
    "* In Pandas, the two frames to be joined are called \"left\" and \"right\"\n",
    "* The \"suffixes\" argument tells Pandas how to handle fields are otherwise named identically in the source files"
   ]
  },
  {
   "cell_type": "code",
   "execution_count": 113,
   "metadata": {
    "ExecuteTime": {
     "end_time": "2022-02-10T23:28:17.168374Z",
     "start_time": "2022-02-10T23:28:17.160461Z"
    },
    "colab": {
     "base_uri": "https://localhost:8080/",
     "height": 565
    },
    "id": "zyZ8DaF6IImi",
    "outputId": "32c5da50-9529-475e-d2e4-4353902ac201"
   },
   "outputs": [
    {
     "data": {
      "text/html": [
       "<div>\n",
       "<style scoped>\n",
       "    .dataframe tbody tr th:only-of-type {\n",
       "        vertical-align: middle;\n",
       "    }\n",
       "\n",
       "    .dataframe tbody tr th {\n",
       "        vertical-align: top;\n",
       "    }\n",
       "\n",
       "    .dataframe thead th {\n",
       "        text-align: right;\n",
       "    }\n",
       "</style>\n",
       "<table border=\"1\" class=\"dataframe\">\n",
       "  <thead>\n",
       "    <tr style=\"text-align: right;\">\n",
       "      <th></th>\n",
       "      <th>Emblem_ID</th>\n",
       "      <th>Emblem_Motto</th>\n",
       "      <th>Publication_Date_emblem</th>\n",
       "      <th>Iconclass_Heading_1</th>\n",
       "      <th>Iconclass_Heading_2</th>\n",
       "      <th>Iconclass_Heading_3</th>\n",
       "      <th>Iconclass_Heading_4</th>\n",
       "      <th>Iconclass_Heading_5</th>\n",
       "      <th>Iconclass_Heading_6</th>\n",
       "      <th>Iconclass_Heading_7</th>\n",
       "      <th>...</th>\n",
       "      <th>Publisher</th>\n",
       "      <th>Place_of_Publication</th>\n",
       "      <th>Author_1</th>\n",
       "      <th>Author_2</th>\n",
       "      <th>Author_3</th>\n",
       "      <th>Author_4</th>\n",
       "      <th>Author_5</th>\n",
       "      <th>Contributor_1</th>\n",
       "      <th>Contributor_2</th>\n",
       "      <th>Contributor_3</th>\n",
       "    </tr>\n",
       "  </thead>\n",
       "  <tbody>\n",
       "    <tr>\n",
       "      <th>108</th>\n",
       "      <td>E050519</td>\n",
       "      <td>Wer dieses nimt in acht.</td>\n",
       "      <td>1643</td>\n",
       "      <td>86(WER DIESES NIMT IN ACHT) proverbs, sayings,...</td>\n",
       "      <td>86(UND ALSO HELT DIE WACHT) proverbs, sayings,...</td>\n",
       "      <td>86(THUT ALLES MIT BEDACHT) proverbs, sayings, ...</td>\n",
       "      <td>41A711 table</td>\n",
       "      <td>49MM32 book - MM - book open</td>\n",
       "      <td>49M32 book</td>\n",
       "      <td>46B3311 scales</td>\n",
       "      <td>...</td>\n",
       "      <td>Buno</td>\n",
       "      <td>Braunschweig</td>\n",
       "      <td>Geheime, Der</td>\n",
       "      <td>NaN</td>\n",
       "      <td>NaN</td>\n",
       "      <td>NaN</td>\n",
       "      <td>NaN</td>\n",
       "      <td>Nährende, Der &lt;Anhalt-Köthen, Fürst&gt;</td>\n",
       "      <td>Unverdrossene, Der</td>\n",
       "      <td>Suchende, Der</td>\n",
       "    </tr>\n",
       "    <tr>\n",
       "      <th>109</th>\n",
       "      <td>E050525</td>\n",
       "      <td>Den mund schleus zu.</td>\n",
       "      <td>1643</td>\n",
       "      <td>86(DEN MUND SCHLEUS ZU) proverbs, sayings, etc...</td>\n",
       "      <td>86(DIE ZUNG BIND DU) proverbs, sayings, etc. (...</td>\n",
       "      <td>86(KOMMT FRIED UND RUH) proverbs, sayings, etc...</td>\n",
       "      <td>31D14(+53) adult man (+ sitting)</td>\n",
       "      <td>31B623591 putting a finger to the lips, 'Silen...</td>\n",
       "      <td>52DD3 Taciturnity; 'Secretezza', 'Secretezza o...</td>\n",
       "      <td>54F14 Advantage</td>\n",
       "      <td>...</td>\n",
       "      <td>Buno</td>\n",
       "      <td>Braunschweig</td>\n",
       "      <td>Geheime, Der</td>\n",
       "      <td>NaN</td>\n",
       "      <td>NaN</td>\n",
       "      <td>NaN</td>\n",
       "      <td>NaN</td>\n",
       "      <td>Nährende, Der &lt;Anhalt-Köthen, Fürst&gt;</td>\n",
       "      <td>Unverdrossene, Der</td>\n",
       "      <td>Suchende, Der</td>\n",
       "    </tr>\n",
       "    <tr>\n",
       "      <th>110</th>\n",
       "      <td>E050539</td>\n",
       "      <td>Fried uns erhelt.</td>\n",
       "      <td>1643</td>\n",
       "      <td>86(FRIED UNS ERHELT) proverbs, sayings, etc. (...</td>\n",
       "      <td>86(UNFRIED UNS STELLT) proverbs, sayings, etc....</td>\n",
       "      <td>86(BLEIB IM GEZELT) proverbs, sayings, etc. (B...</td>\n",
       "      <td>31A25431 three or more clasped hands, meaning ...</td>\n",
       "      <td>25H1121 mountain-top, peak</td>\n",
       "      <td>45A20 symbols, allegories of peace, 'Pax'; 'Pa...</td>\n",
       "      <td>57A62 Fidelity; 'Fedeltà' (Ripa)</td>\n",
       "      <td>...</td>\n",
       "      <td>Buno</td>\n",
       "      <td>Braunschweig</td>\n",
       "      <td>Geheime, Der</td>\n",
       "      <td>NaN</td>\n",
       "      <td>NaN</td>\n",
       "      <td>NaN</td>\n",
       "      <td>NaN</td>\n",
       "      <td>Nährende, Der &lt;Anhalt-Köthen, Fürst&gt;</td>\n",
       "      <td>Unverdrossene, Der</td>\n",
       "      <td>Suchende, Der</td>\n",
       "    </tr>\n",
       "    <tr>\n",
       "      <th>111</th>\n",
       "      <td>E050541</td>\n",
       "      <td>So rüst' ich mich.</td>\n",
       "      <td>1643</td>\n",
       "      <td>86(SO RÜST' ICH MICH) proverbs, sayings, etc. ...</td>\n",
       "      <td>86(MICH ALSO ICH) proverbs, sayings, etc. (MIC...</td>\n",
       "      <td>86(ICH RITTERLICH) proverbs, sayings, etc. (IC...</td>\n",
       "      <td>46A124 knight</td>\n",
       "      <td>45C11(SPEAR) casting weapons: spear</td>\n",
       "      <td>54D1 Preparation</td>\n",
       "      <td>45A10 symbols, allegories of war; 'Guerra' (Ripa)</td>\n",
       "      <td>...</td>\n",
       "      <td>Buno</td>\n",
       "      <td>Braunschweig</td>\n",
       "      <td>Geheime, Der</td>\n",
       "      <td>NaN</td>\n",
       "      <td>NaN</td>\n",
       "      <td>NaN</td>\n",
       "      <td>NaN</td>\n",
       "      <td>Nährende, Der &lt;Anhalt-Köthen, Fürst&gt;</td>\n",
       "      <td>Unverdrossene, Der</td>\n",
       "      <td>Suchende, Der</td>\n",
       "    </tr>\n",
       "    <tr>\n",
       "      <th>112</th>\n",
       "      <td>E051589</td>\n",
       "      <td>Der Dreyen Eines., Der Bedeutende.</td>\n",
       "      <td>1646</td>\n",
       "      <td>86(DER DREYEN EINES., DER BEDEUTENDE) proverbs...</td>\n",
       "      <td>25I22 prospect of village, silhouette of village</td>\n",
       "      <td>25G3(OAK) trees: oak</td>\n",
       "      <td>25G21(OAK APPLE) fruits (OAK APPLE)</td>\n",
       "      <td>61B2(BERCHEN, Ernst von)3 historical person (B...</td>\n",
       "      <td>25F713(+1) spiders (+ animals used symbolically)</td>\n",
       "      <td>25F711(FLY)(+1) insects: fly (+ animals used s...</td>\n",
       "      <td>...</td>\n",
       "      <td>Merian</td>\n",
       "      <td>Franckfurt am Mayn</td>\n",
       "      <td>Ludwig &lt;Anhalt-Köthen, Fürst&gt;</td>\n",
       "      <td>NaN</td>\n",
       "      <td>NaN</td>\n",
       "      <td>NaN</td>\n",
       "      <td>NaN</td>\n",
       "      <td>Merian, Matthäus &lt;der Ältere&gt;</td>\n",
       "      <td>Merian, Matthaeus &lt;der Ältere&gt;</td>\n",
       "      <td>NaN</td>\n",
       "    </tr>\n",
       "  </tbody>\n",
       "</table>\n",
       "<p>5 rows × 28 columns</p>\n",
       "</div>"
      ],
      "text/plain": [
       "    Emblem_ID                        Emblem_Motto  Publication_Date_emblem  \\\n",
       "108   E050519            Wer dieses nimt in acht.                     1643   \n",
       "109   E050525                Den mund schleus zu.                     1643   \n",
       "110   E050539                   Fried uns erhelt.                     1643   \n",
       "111   E050541                  So rüst' ich mich.                     1643   \n",
       "112   E051589  Der Dreyen Eines., Der Bedeutende.                     1646   \n",
       "\n",
       "                                   Iconclass_Heading_1  \\\n",
       "108  86(WER DIESES NIMT IN ACHT) proverbs, sayings,...   \n",
       "109  86(DEN MUND SCHLEUS ZU) proverbs, sayings, etc...   \n",
       "110  86(FRIED UNS ERHELT) proverbs, sayings, etc. (...   \n",
       "111  86(SO RÜST' ICH MICH) proverbs, sayings, etc. ...   \n",
       "112  86(DER DREYEN EINES., DER BEDEUTENDE) proverbs...   \n",
       "\n",
       "                                   Iconclass_Heading_2  \\\n",
       "108  86(UND ALSO HELT DIE WACHT) proverbs, sayings,...   \n",
       "109  86(DIE ZUNG BIND DU) proverbs, sayings, etc. (...   \n",
       "110  86(UNFRIED UNS STELLT) proverbs, sayings, etc....   \n",
       "111  86(MICH ALSO ICH) proverbs, sayings, etc. (MIC...   \n",
       "112   25I22 prospect of village, silhouette of village   \n",
       "\n",
       "                                   Iconclass_Heading_3  \\\n",
       "108  86(THUT ALLES MIT BEDACHT) proverbs, sayings, ...   \n",
       "109  86(KOMMT FRIED UND RUH) proverbs, sayings, etc...   \n",
       "110  86(BLEIB IM GEZELT) proverbs, sayings, etc. (B...   \n",
       "111  86(ICH RITTERLICH) proverbs, sayings, etc. (IC...   \n",
       "112                               25G3(OAK) trees: oak   \n",
       "\n",
       "                                   Iconclass_Heading_4  \\\n",
       "108                                       41A711 table   \n",
       "109                   31D14(+53) adult man (+ sitting)   \n",
       "110  31A25431 three or more clasped hands, meaning ...   \n",
       "111                                      46A124 knight   \n",
       "112                25G21(OAK APPLE) fruits (OAK APPLE)   \n",
       "\n",
       "                                   Iconclass_Heading_5  \\\n",
       "108                       49MM32 book - MM - book open   \n",
       "109  31B623591 putting a finger to the lips, 'Silen...   \n",
       "110                         25H1121 mountain-top, peak   \n",
       "111                45C11(SPEAR) casting weapons: spear   \n",
       "112  61B2(BERCHEN, Ernst von)3 historical person (B...   \n",
       "\n",
       "                                   Iconclass_Heading_6  \\\n",
       "108                                         49M32 book   \n",
       "109  52DD3 Taciturnity; 'Secretezza', 'Secretezza o...   \n",
       "110  45A20 symbols, allegories of peace, 'Pax'; 'Pa...   \n",
       "111                                   54D1 Preparation   \n",
       "112   25F713(+1) spiders (+ animals used symbolically)   \n",
       "\n",
       "                                   Iconclass_Heading_7  ... Publisher  \\\n",
       "108                                     46B3311 scales  ...      Buno   \n",
       "109                                    54F14 Advantage  ...      Buno   \n",
       "110                   57A62 Fidelity; 'Fedeltà' (Ripa)  ...      Buno   \n",
       "111  45A10 symbols, allegories of war; 'Guerra' (Ripa)  ...      Buno   \n",
       "112  25F711(FLY)(+1) insects: fly (+ animals used s...  ...    Merian   \n",
       "\n",
       "    Place_of_Publication                       Author_1  Author_2 Author_3  \\\n",
       "108         Braunschweig                   Geheime, Der       NaN      NaN   \n",
       "109         Braunschweig                   Geheime, Der       NaN      NaN   \n",
       "110         Braunschweig                   Geheime, Der       NaN      NaN   \n",
       "111         Braunschweig                   Geheime, Der       NaN      NaN   \n",
       "112   Franckfurt am Mayn  Ludwig <Anhalt-Köthen, Fürst>       NaN      NaN   \n",
       "\n",
       "    Author_4 Author_5                         Contributor_1  \\\n",
       "108      NaN      NaN  Nährende, Der <Anhalt-Köthen, Fürst>   \n",
       "109      NaN      NaN  Nährende, Der <Anhalt-Köthen, Fürst>   \n",
       "110      NaN      NaN  Nährende, Der <Anhalt-Köthen, Fürst>   \n",
       "111      NaN      NaN  Nährende, Der <Anhalt-Köthen, Fürst>   \n",
       "112      NaN      NaN         Merian, Matthäus <der Ältere>   \n",
       "\n",
       "                      Contributor_2  Contributor_3  \n",
       "108              Unverdrossene, Der  Suchende, Der  \n",
       "109              Unverdrossene, Der  Suchende, Der  \n",
       "110              Unverdrossene, Der  Suchende, Der  \n",
       "111              Unverdrossene, Der  Suchende, Der  \n",
       "112  Merian, Matthaeus <der Ältere>            NaN  \n",
       "\n",
       "[5 rows x 28 columns]"
      ]
     },
     "execution_count": 113,
     "metadata": {},
     "output_type": "execute_result"
    }
   ],
   "source": [
    "emblems_combined = pd.merge(left=emblems, \n",
    "         right=books, \n",
    "         left_on=\"Published_In\", \n",
    "         right_on=\"Book_ID\", \n",
    "         how=\"left\", \n",
    "         suffixes=[\"_emblem\", \"_book\"])\n",
    "\n",
    "emblems_combined.tail()"
   ]
  },
  {
   "cell_type": "code",
   "execution_count": 115,
   "metadata": {
    "colab": {
     "base_uri": "https://localhost:8080/"
    },
    "id": "aEUD1afQVaAL",
    "outputId": "171c169c-d075-47e1-db75-9e0a40caff58"
   },
   "outputs": [
    {
     "data": {
      "text/plain": [
       "Index(['Emblem_ID', 'Emblem_Motto', 'Publication_Date_emblem',\n",
       "       'Iconclass_Heading_1', 'Iconclass_Heading_2', 'Iconclass_Heading_3',\n",
       "       'Iconclass_Heading_4', 'Iconclass_Heading_5', 'Iconclass_Heading_6',\n",
       "       'Iconclass_Heading_7', 'Published_In', 'URL_for_Book_Details_emblem',\n",
       "       'iconclasses', 'is_animal', 'Book_ID', 'URL_for_Book_Details_book',\n",
       "       'Book_Title', 'Publication_Date_book', 'Publisher',\n",
       "       'Place_of_Publication', 'Author_1', 'Author_2', 'Author_3', 'Author_4',\n",
       "       'Author_5', 'Contributor_1', 'Contributor_2', 'Contributor_3'],\n",
       "      dtype='object')"
      ]
     },
     "execution_count": 115,
     "metadata": {},
     "output_type": "execute_result"
    }
   ],
   "source": [
    "emblems_combined.columns\n"
   ]
  },
  {
   "cell_type": "code",
   "execution_count": 41,
   "metadata": {
    "colab": {
     "base_uri": "https://localhost:8080/"
    },
    "id": "eABiVgo5Vgp4",
    "outputId": "d0bddd74-c22f-4b35-bc12-6da47948495f"
   },
   "outputs": [
    {
     "data": {
      "text/plain": [
       "(113, 28)"
      ]
     },
     "execution_count": 41,
     "metadata": {},
     "output_type": "execute_result"
    }
   ],
   "source": [
    "emblems_combined.shape"
   ]
  },
  {
   "cell_type": "code",
   "execution_count": 42,
   "metadata": {
    "ExecuteTime": {
     "end_time": "2022-02-10T23:28:17.198385Z",
     "start_time": "2022-02-10T23:28:17.189548Z"
    },
    "colab": {
     "base_uri": "https://localhost:8080/"
    },
    "id": "dNqOC9gNIImj",
    "outputId": "0c3eeb30-d131-4ef9-d5a2-79b3fa0f9423"
   },
   "outputs": [
    {
     "data": {
      "text/plain": [
       "Index(['Emblem_ID', 'Emblem_Motto', 'Publication_Date_emblem',\n",
       "       'Iconclass_Heading_1', 'Iconclass_Heading_2', 'Iconclass_Heading_3',\n",
       "       'Iconclass_Heading_4', 'Iconclass_Heading_5', 'Iconclass_Heading_6',\n",
       "       'Iconclass_Heading_7', 'Published_In', 'URL_for_Book_Details_emblem',\n",
       "       'iconclasses', 'is_animal', 'Book_ID', 'URL_for_Book_Details_book',\n",
       "       'Book_Title', 'Publication_Date_book', 'Publisher',\n",
       "       'Place_of_Publication', 'Author_1', 'Author_2', 'Author_3', 'Author_4',\n",
       "       'Author_5', 'Contributor_1', 'Contributor_2', 'Contributor_3'],\n",
       "      dtype='object')"
      ]
     },
     "execution_count": 42,
     "metadata": {},
     "output_type": "execute_result"
    }
   ],
   "source": [
    "emblems_combined.columns"
   ]
  },
  {
   "cell_type": "markdown",
   "metadata": {
    "id": "jbO4ZZ3xIImh"
   },
   "source": [
    "#### Let's see where emblems with animals were published:"
   ]
  },
  {
   "cell_type": "code",
   "execution_count": 43,
   "metadata": {
    "ExecuteTime": {
     "end_time": "2022-02-10T23:28:17.208778Z",
     "start_time": "2022-02-10T23:28:17.200786Z"
    },
    "colab": {
     "base_uri": "https://localhost:8080/"
    },
    "id": "c9CmFG-bIImh",
    "outputId": "bce4c4bb-e410-4efe-c7d0-de7f5c1961aa"
   },
   "outputs": [
    {
     "data": {
      "text/plain": [
       "array(['A Cologny', 'A Lyon', 'Amsterdam', 'Augspurg', 'Bruxellae',\n",
       "       'Coloniae', 'En Lyon', 'Excvsvm Avgvstae Vindelicorum',\n",
       "       'Excvsvm Avgvstæ Vindelicorum', 'Franckfurt am Mayn',\n",
       "       'Gedruckt zu Franckfurt am Mayn', 'Heidelberg',\n",
       "       'Impresso en la ciudad de Najera', 'In Lione', 'London', 'Lugduni',\n",
       "       'Lvgd', 'Lvgdvni', 'Lvgdvni Batavorvm', 'Lyon', 'Nurembergµ',\n",
       "       'Nürnberg', 'On les uend à Paris', 'On les vend a Paris', 'Paris',\n",
       "       'Parisiis', 'Patauij'], dtype=object)"
      ]
     },
     "execution_count": 43,
     "metadata": {},
     "output_type": "execute_result"
    }
   ],
   "source": [
    "emblems_combined[emblems_combined.is_animal][\"Place_of_Publication\"].sort_values().unique()"
   ]
  },
  {
   "cell_type": "markdown",
   "metadata": {
    "id": "li7cXHOWIImj"
   },
   "source": [
    "___"
   ]
  },
  {
   "cell_type": "markdown",
   "metadata": {
    "id": "KlsgqLZCIImj"
   },
   "source": [
    "## F.  Decima Data\n",
    "\n",
    "* Let's load the Decima data"
   ]
  },
  {
   "cell_type": "code",
   "execution_count": 63,
   "metadata": {
    "ExecuteTime": {
     "end_time": "2022-02-10T23:28:17.220681Z",
     "start_time": "2022-02-10T23:28:17.212468Z"
    },
    "id": "Su8S40fpIImj"
   },
   "outputs": [],
   "source": [
    "decima = pd.read_csv(decima_data)"
   ]
  },
  {
   "cell_type": "markdown",
   "metadata": {
    "id": "rCdPtBqcIImj"
   },
   "source": [
    "#### Should we add something about renaming columns?"
   ]
  },
  {
   "cell_type": "code",
   "execution_count": 64,
   "metadata": {
    "ExecuteTime": {
     "end_time": "2022-02-10T23:28:17.246010Z",
     "start_time": "2022-02-10T23:28:17.222500Z"
    },
    "colab": {
     "base_uri": "https://localhost:8080/",
     "height": 652
    },
    "id": "hS7SFkI4IImk",
    "outputId": "8967c1c2-0543-4d33-b50c-7ed4d5a737ca"
   },
   "outputs": [
    {
     "data": {
      "text/html": [
       "<div>\n",
       "<style scoped>\n",
       "    .dataframe tbody tr th:only-of-type {\n",
       "        vertical-align: middle;\n",
       "    }\n",
       "\n",
       "    .dataframe tbody tr th {\n",
       "        vertical-align: top;\n",
       "    }\n",
       "\n",
       "    .dataframe thead th {\n",
       "        text-align: right;\n",
       "    }\n",
       "</style>\n",
       "<table border=\"1\" class=\"dataframe\">\n",
       "  <thead>\n",
       "    <tr style=\"text-align: right;\">\n",
       "      <th></th>\n",
       "      <th>OBJECTID</th>\n",
       "      <th>Y</th>\n",
       "      <th>X</th>\n",
       "      <th>Folio</th>\n",
       "      <th>Entry Number</th>\n",
       "      <th>Entry Number.1</th>\n",
       "      <th>Owner in Source</th>\n",
       "      <th>Standardized Alternative</th>\n",
       "      <th>Source</th>\n",
       "      <th>Age of Confraternity (if estimate, *)</th>\n",
       "      <th>...</th>\n",
       "      <th>Building Description</th>\n",
       "      <th>Quartiere</th>\n",
       "      <th>Popolo</th>\n",
       "      <th>Street</th>\n",
       "      <th>Location Information</th>\n",
       "      <th>OBJECTID.1</th>\n",
       "      <th>Y.1</th>\n",
       "      <th>X.1</th>\n",
       "      <th>Folio.1</th>\n",
       "      <th>Entry Number.2</th>\n",
       "    </tr>\n",
       "  </thead>\n",
       "  <tbody>\n",
       "    <tr>\n",
       "      <th>0</th>\n",
       "      <td>2073</td>\n",
       "      <td>43.770558</td>\n",
       "      <td>11.270464</td>\n",
       "      <td>179v</td>\n",
       "      <td>2784</td>\n",
       "      <td>2784</td>\n",
       "      <td>Cappella, o vero, compagnia degl'Azzurri di S....</td>\n",
       "      <td>S. Maria della Neve</td>\n",
       "      <td>Henderson P&amp;C #114</td>\n",
       "      <td>1445*</td>\n",
       "      <td>...</td>\n",
       "      <td>casa</td>\n",
       "      <td>s. Giovanni</td>\n",
       "      <td>S. Piero</td>\n",
       "      <td>Borgo della Porta alla Croce</td>\n",
       "      <td>contigua alla suddetta et a una delle Monache ...</td>\n",
       "      <td>2073</td>\n",
       "      <td>43.770558</td>\n",
       "      <td>11.270464</td>\n",
       "      <td>179v</td>\n",
       "      <td>2784</td>\n",
       "    </tr>\n",
       "    <tr>\n",
       "      <th>1</th>\n",
       "      <td>3219</td>\n",
       "      <td>43.770336</td>\n",
       "      <td>11.264497</td>\n",
       "      <td>195r</td>\n",
       "      <td>3033</td>\n",
       "      <td>3033</td>\n",
       "      <td>Compagnia che sotto S. Piero Maggiore</td>\n",
       "      <td>S Pier Maggiore</td>\n",
       "      <td>Henderson P&amp;C #137</td>\n",
       "      <td>NaN</td>\n",
       "      <td>...</td>\n",
       "      <td>casa</td>\n",
       "      <td>s. Giovanni</td>\n",
       "      <td>S. Ambrogio</td>\n",
       "      <td>Via dell'Agnolo</td>\n",
       "      <td>contigua alla suddetta et a una di Francesco d...</td>\n",
       "      <td>3219</td>\n",
       "      <td>43.770336</td>\n",
       "      <td>11.264497</td>\n",
       "      <td>195r</td>\n",
       "      <td>3033</td>\n",
       "    </tr>\n",
       "    <tr>\n",
       "      <th>2</th>\n",
       "      <td>2203</td>\n",
       "      <td>43.771118</td>\n",
       "      <td>11.269190</td>\n",
       "      <td>157</td>\n",
       "      <td>2421</td>\n",
       "      <td>2421</td>\n",
       "      <td>Compagnia che sotto S. Piero Maggiore</td>\n",
       "      <td>S Pier Maggiore</td>\n",
       "      <td>Henderson P&amp;C #137</td>\n",
       "      <td>NaN</td>\n",
       "      <td>...</td>\n",
       "      <td>casa in cappella</td>\n",
       "      <td>s. Giovanni</td>\n",
       "      <td>S. Piero Maggiore</td>\n",
       "      <td>Borgo della Porta alla Croce</td>\n",
       "      <td>contigua alla portaccia di Borgo alla croce et...</td>\n",
       "      <td>2203</td>\n",
       "      <td>43.771118</td>\n",
       "      <td>11.269190</td>\n",
       "      <td>157</td>\n",
       "      <td>2421</td>\n",
       "    </tr>\n",
       "    <tr>\n",
       "      <th>3</th>\n",
       "      <td>147</td>\n",
       "      <td>43.775931</td>\n",
       "      <td>11.252323</td>\n",
       "      <td>44r</td>\n",
       "      <td>681</td>\n",
       "      <td>681</td>\n",
       "      <td>Compagnia de' Cieci</td>\n",
       "      <td>S Maria del Giglio detto de'ciechi [S Ma. de P...</td>\n",
       "      <td>Henderson P&amp;C 104</td>\n",
       "      <td>1324</td>\n",
       "      <td>...</td>\n",
       "      <td>Casa</td>\n",
       "      <td>s. Giovanni</td>\n",
       "      <td>S. Lorenzo</td>\n",
       "      <td>Via S. Jacopo in Campo Corbolino - Cella di Ci...</td>\n",
       "      <td>contigua a la soprascritta suoltando al lato d...</td>\n",
       "      <td>147</td>\n",
       "      <td>43.775931</td>\n",
       "      <td>11.252323</td>\n",
       "      <td>44r</td>\n",
       "      <td>681</td>\n",
       "    </tr>\n",
       "    <tr>\n",
       "      <th>4</th>\n",
       "      <td>7343</td>\n",
       "      <td>43.765810</td>\n",
       "      <td>11.247119</td>\n",
       "      <td>62v</td>\n",
       "      <td>1035</td>\n",
       "      <td>1035</td>\n",
       "      <td>Compagnia degl'Innocenti</td>\n",
       "      <td>SS Innocenti</td>\n",
       "      <td>Henderson P&amp;C #78</td>\n",
       "      <td>NaN</td>\n",
       "      <td>...</td>\n",
       "      <td>una casa</td>\n",
       "      <td>s. Spirito</td>\n",
       "      <td>S. Felice in piazza</td>\n",
       "      <td>Via Mazzetta</td>\n",
       "      <td>in via mazzetta a 1o Rede di Piero Dei a 2o An...</td>\n",
       "      <td>7343</td>\n",
       "      <td>43.765810</td>\n",
       "      <td>11.247119</td>\n",
       "      <td>62v</td>\n",
       "      <td>1035</td>\n",
       "    </tr>\n",
       "  </tbody>\n",
       "</table>\n",
       "<p>5 rows × 44 columns</p>\n",
       "</div>"
      ],
      "text/plain": [
       "   OBJECTID          Y          X Folio  Entry Number  Entry Number.1  \\\n",
       "0      2073  43.770558  11.270464  179v          2784            2784   \n",
       "1      3219  43.770336  11.264497  195r          3033            3033   \n",
       "2      2203  43.771118  11.269190   157          2421            2421   \n",
       "3       147  43.775931  11.252323   44r           681             681   \n",
       "4      7343  43.765810  11.247119   62v          1035            1035   \n",
       "\n",
       "                                     Owner in Source  \\\n",
       "0  Cappella, o vero, compagnia degl'Azzurri di S....   \n",
       "1              Compagnia che sotto S. Piero Maggiore   \n",
       "2              Compagnia che sotto S. Piero Maggiore   \n",
       "3                                Compagnia de' Cieci   \n",
       "4                           Compagnia degl'Innocenti   \n",
       "\n",
       "                            Standardized Alternative              Source  \\\n",
       "0                                S. Maria della Neve  Henderson P&C #114   \n",
       "1                                    S Pier Maggiore  Henderson P&C #137   \n",
       "2                                    S Pier Maggiore  Henderson P&C #137   \n",
       "3  S Maria del Giglio detto de'ciechi [S Ma. de P...   Henderson P&C 104   \n",
       "4                                       SS Innocenti   Henderson P&C #78   \n",
       "\n",
       "  Age of Confraternity (if estimate, *)  ... Building Description  \\\n",
       "0                                 1445*  ...                 casa   \n",
       "1                                   NaN  ...                 casa   \n",
       "2                                   NaN  ...     casa in cappella   \n",
       "3                                  1324  ...                 Casa   \n",
       "4                                   NaN  ...             una casa   \n",
       "\n",
       "     Quartiere               Popolo  \\\n",
       "0  s. Giovanni             S. Piero   \n",
       "1  s. Giovanni          S. Ambrogio   \n",
       "2  s. Giovanni    S. Piero Maggiore   \n",
       "3  s. Giovanni           S. Lorenzo   \n",
       "4   s. Spirito  S. Felice in piazza   \n",
       "\n",
       "                                              Street  \\\n",
       "0                       Borgo della Porta alla Croce   \n",
       "1                                    Via dell'Agnolo   \n",
       "2                       Borgo della Porta alla Croce   \n",
       "3  Via S. Jacopo in Campo Corbolino - Cella di Ci...   \n",
       "4                                       Via Mazzetta   \n",
       "\n",
       "                                Location Information  OBJECTID.1        Y.1  \\\n",
       "0  contigua alla suddetta et a una delle Monache ...        2073  43.770558   \n",
       "1  contigua alla suddetta et a una di Francesco d...        3219  43.770336   \n",
       "2  contigua alla portaccia di Borgo alla croce et...        2203  43.771118   \n",
       "3  contigua a la soprascritta suoltando al lato d...         147  43.775931   \n",
       "4  in via mazzetta a 1o Rede di Piero Dei a 2o An...        7343  43.765810   \n",
       "\n",
       "         X.1 Folio.1 Entry Number.2  \n",
       "0  11.270464    179v           2784  \n",
       "1  11.264497    195r           3033  \n",
       "2  11.269190     157           2421  \n",
       "3  11.252323     44r            681  \n",
       "4  11.247119     62v           1035  \n",
       "\n",
       "[5 rows x 44 columns]"
      ]
     },
     "execution_count": 64,
     "metadata": {},
     "output_type": "execute_result"
    }
   ],
   "source": [
    "decima.head()"
   ]
  },
  {
   "cell_type": "markdown",
   "metadata": {
    "id": "d3Wu5zQqIImk"
   },
   "source": [
    "### F.1 Slicing DataFrames\n",
    "\n",
    "#### Another way to slice data:  selected rows"
   ]
  },
  {
   "cell_type": "code",
   "execution_count": 65,
   "metadata": {
    "ExecuteTime": {
     "end_time": "2022-02-10T23:28:17.277382Z",
     "start_time": "2022-02-10T23:28:17.248073Z"
    },
    "colab": {
     "base_uri": "https://localhost:8080/",
     "height": 1000
    },
    "id": "iuBMs-VaIImk",
    "outputId": "5521d3a9-cf47-4ad3-9f1b-94851145061a"
   },
   "outputs": [
    {
     "data": {
      "text/html": [
       "<div>\n",
       "<style scoped>\n",
       "    .dataframe tbody tr th:only-of-type {\n",
       "        vertical-align: middle;\n",
       "    }\n",
       "\n",
       "    .dataframe tbody tr th {\n",
       "        vertical-align: top;\n",
       "    }\n",
       "\n",
       "    .dataframe thead th {\n",
       "        text-align: right;\n",
       "    }\n",
       "</style>\n",
       "<table border=\"1\" class=\"dataframe\">\n",
       "  <thead>\n",
       "    <tr style=\"text-align: right;\">\n",
       "      <th></th>\n",
       "      <th>OBJECTID</th>\n",
       "      <th>Y</th>\n",
       "      <th>X</th>\n",
       "      <th>Folio</th>\n",
       "      <th>Entry Number</th>\n",
       "      <th>Entry Number.1</th>\n",
       "      <th>Owner in Source</th>\n",
       "      <th>Standardized Alternative</th>\n",
       "      <th>Source</th>\n",
       "      <th>Age of Confraternity (if estimate, *)</th>\n",
       "      <th>...</th>\n",
       "      <th>Building Description</th>\n",
       "      <th>Quartiere</th>\n",
       "      <th>Popolo</th>\n",
       "      <th>Street</th>\n",
       "      <th>Location Information</th>\n",
       "      <th>OBJECTID.1</th>\n",
       "      <th>Y.1</th>\n",
       "      <th>X.1</th>\n",
       "      <th>Folio.1</th>\n",
       "      <th>Entry Number.2</th>\n",
       "    </tr>\n",
       "  </thead>\n",
       "  <tbody>\n",
       "    <tr>\n",
       "      <th>0</th>\n",
       "      <td>2073</td>\n",
       "      <td>43.770558</td>\n",
       "      <td>11.270464</td>\n",
       "      <td>179v</td>\n",
       "      <td>2784</td>\n",
       "      <td>2784</td>\n",
       "      <td>Cappella, o vero, compagnia degl'Azzurri di S....</td>\n",
       "      <td>S. Maria della Neve</td>\n",
       "      <td>Henderson P&amp;C #114</td>\n",
       "      <td>1445*</td>\n",
       "      <td>...</td>\n",
       "      <td>casa</td>\n",
       "      <td>s. Giovanni</td>\n",
       "      <td>S. Piero</td>\n",
       "      <td>Borgo della Porta alla Croce</td>\n",
       "      <td>contigua alla suddetta et a una delle Monache ...</td>\n",
       "      <td>2073</td>\n",
       "      <td>43.770558</td>\n",
       "      <td>11.270464</td>\n",
       "      <td>179v</td>\n",
       "      <td>2784</td>\n",
       "    </tr>\n",
       "    <tr>\n",
       "      <th>1</th>\n",
       "      <td>3219</td>\n",
       "      <td>43.770336</td>\n",
       "      <td>11.264497</td>\n",
       "      <td>195r</td>\n",
       "      <td>3033</td>\n",
       "      <td>3033</td>\n",
       "      <td>Compagnia che sotto S. Piero Maggiore</td>\n",
       "      <td>S Pier Maggiore</td>\n",
       "      <td>Henderson P&amp;C #137</td>\n",
       "      <td>NaN</td>\n",
       "      <td>...</td>\n",
       "      <td>casa</td>\n",
       "      <td>s. Giovanni</td>\n",
       "      <td>S. Ambrogio</td>\n",
       "      <td>Via dell'Agnolo</td>\n",
       "      <td>contigua alla suddetta et a una di Francesco d...</td>\n",
       "      <td>3219</td>\n",
       "      <td>43.770336</td>\n",
       "      <td>11.264497</td>\n",
       "      <td>195r</td>\n",
       "      <td>3033</td>\n",
       "    </tr>\n",
       "    <tr>\n",
       "      <th>2</th>\n",
       "      <td>2203</td>\n",
       "      <td>43.771118</td>\n",
       "      <td>11.269190</td>\n",
       "      <td>157</td>\n",
       "      <td>2421</td>\n",
       "      <td>2421</td>\n",
       "      <td>Compagnia che sotto S. Piero Maggiore</td>\n",
       "      <td>S Pier Maggiore</td>\n",
       "      <td>Henderson P&amp;C #137</td>\n",
       "      <td>NaN</td>\n",
       "      <td>...</td>\n",
       "      <td>casa in cappella</td>\n",
       "      <td>s. Giovanni</td>\n",
       "      <td>S. Piero Maggiore</td>\n",
       "      <td>Borgo della Porta alla Croce</td>\n",
       "      <td>contigua alla portaccia di Borgo alla croce et...</td>\n",
       "      <td>2203</td>\n",
       "      <td>43.771118</td>\n",
       "      <td>11.269190</td>\n",
       "      <td>157</td>\n",
       "      <td>2421</td>\n",
       "    </tr>\n",
       "    <tr>\n",
       "      <th>3</th>\n",
       "      <td>147</td>\n",
       "      <td>43.775931</td>\n",
       "      <td>11.252323</td>\n",
       "      <td>44r</td>\n",
       "      <td>681</td>\n",
       "      <td>681</td>\n",
       "      <td>Compagnia de' Cieci</td>\n",
       "      <td>S Maria del Giglio detto de'ciechi [S Ma. de P...</td>\n",
       "      <td>Henderson P&amp;C 104</td>\n",
       "      <td>1324</td>\n",
       "      <td>...</td>\n",
       "      <td>Casa</td>\n",
       "      <td>s. Giovanni</td>\n",
       "      <td>S. Lorenzo</td>\n",
       "      <td>Via S. Jacopo in Campo Corbolino - Cella di Ci...</td>\n",
       "      <td>contigua a la soprascritta suoltando al lato d...</td>\n",
       "      <td>147</td>\n",
       "      <td>43.775931</td>\n",
       "      <td>11.252323</td>\n",
       "      <td>44r</td>\n",
       "      <td>681</td>\n",
       "    </tr>\n",
       "    <tr>\n",
       "      <th>4</th>\n",
       "      <td>7343</td>\n",
       "      <td>43.765810</td>\n",
       "      <td>11.247119</td>\n",
       "      <td>62v</td>\n",
       "      <td>1035</td>\n",
       "      <td>1035</td>\n",
       "      <td>Compagnia degl'Innocenti</td>\n",
       "      <td>SS Innocenti</td>\n",
       "      <td>Henderson P&amp;C #78</td>\n",
       "      <td>NaN</td>\n",
       "      <td>...</td>\n",
       "      <td>una casa</td>\n",
       "      <td>s. Spirito</td>\n",
       "      <td>S. Felice in piazza</td>\n",
       "      <td>Via Mazzetta</td>\n",
       "      <td>in via mazzetta a 1o Rede di Piero Dei a 2o An...</td>\n",
       "      <td>7343</td>\n",
       "      <td>43.765810</td>\n",
       "      <td>11.247119</td>\n",
       "      <td>62v</td>\n",
       "      <td>1035</td>\n",
       "    </tr>\n",
       "    <tr>\n",
       "      <th>5</th>\n",
       "      <td>8476</td>\n",
       "      <td>43.767438</td>\n",
       "      <td>11.244969</td>\n",
       "      <td>120v</td>\n",
       "      <td>1874</td>\n",
       "      <td>1874</td>\n",
       "      <td>Compagnia degl'Innocenti di s. Maria Novella</td>\n",
       "      <td>SS Innocenti</td>\n",
       "      <td>Henderson P&amp;C #92</td>\n",
       "      <td>NaN</td>\n",
       "      <td>...</td>\n",
       "      <td>una casa</td>\n",
       "      <td>s. Spirito</td>\n",
       "      <td>S. Friano</td>\n",
       "      <td>Via d' Ardiglione</td>\n",
       "      <td>a primo Piero di Raffaello a secondo ser Alama...</td>\n",
       "      <td>8476</td>\n",
       "      <td>43.767438</td>\n",
       "      <td>11.244969</td>\n",
       "      <td>120v</td>\n",
       "      <td>1874</td>\n",
       "    </tr>\n",
       "    <tr>\n",
       "      <th>6</th>\n",
       "      <td>5514</td>\n",
       "      <td>43.772942</td>\n",
       "      <td>11.247446</td>\n",
       "      <td>37v</td>\n",
       "      <td>642</td>\n",
       "      <td>642</td>\n",
       "      <td>Compagnia degl'Innocenti di s. Maria Novella</td>\n",
       "      <td>SS Innocenti</td>\n",
       "      <td>Henderson P&amp;C #92</td>\n",
       "      <td>NaN</td>\n",
       "      <td>...</td>\n",
       "      <td>Casa</td>\n",
       "      <td>s. Maria Novella</td>\n",
       "      <td>s. Paolo</td>\n",
       "      <td>Via nuova da s. Paulo</td>\n",
       "      <td>contigua a la suddetta et a una del capitolo d...</td>\n",
       "      <td>5514</td>\n",
       "      <td>43.772942</td>\n",
       "      <td>11.247446</td>\n",
       "      <td>37v</td>\n",
       "      <td>642</td>\n",
       "    </tr>\n",
       "    <tr>\n",
       "      <th>7</th>\n",
       "      <td>8102</td>\n",
       "      <td>43.768004</td>\n",
       "      <td>11.240896</td>\n",
       "      <td>116v</td>\n",
       "      <td>1814</td>\n",
       "      <td>1814</td>\n",
       "      <td>Compagnia degli Genovesi nel Carmine</td>\n",
       "      <td>S Sebastiano de'Genovesi</td>\n",
       "      <td>Henderson P&amp;C #147</td>\n",
       "      <td>1474</td>\n",
       "      <td>...</td>\n",
       "      <td>una casa</td>\n",
       "      <td>s. Spirito</td>\n",
       "      <td>S. Friano</td>\n",
       "      <td>Via s. Salvadore</td>\n",
       "      <td>nella via di s. Salvatore a 1o Bartolomeo di B...</td>\n",
       "      <td>8102</td>\n",
       "      <td>43.768004</td>\n",
       "      <td>11.240896</td>\n",
       "      <td>116v</td>\n",
       "      <td>1814</td>\n",
       "    </tr>\n",
       "    <tr>\n",
       "      <th>8</th>\n",
       "      <td>2030</td>\n",
       "      <td>43.770728</td>\n",
       "      <td>11.270409</td>\n",
       "      <td>180r</td>\n",
       "      <td>2786</td>\n",
       "      <td>2786</td>\n",
       "      <td>Compagnia dei Bianchi di S. Ambrogio</td>\n",
       "      <td>S Maria delle Laude e di S Ambrogio</td>\n",
       "      <td>Henderson P&amp;C #105 [or 121]</td>\n",
       "      <td>1466</td>\n",
       "      <td>...</td>\n",
       "      <td>casa con un poco di bottega</td>\n",
       "      <td>s. Giovanni</td>\n",
       "      <td>S. Piero</td>\n",
       "      <td>Borgo della Porta alla Croce</td>\n",
       "      <td>Contigua alla suddetta et al chiasso della, os...</td>\n",
       "      <td>2030</td>\n",
       "      <td>43.770728</td>\n",
       "      <td>11.270409</td>\n",
       "      <td>180r</td>\n",
       "      <td>2786</td>\n",
       "    </tr>\n",
       "    <tr>\n",
       "      <th>9</th>\n",
       "      <td>400</td>\n",
       "      <td>43.777147</td>\n",
       "      <td>11.254293</td>\n",
       "      <td>35v</td>\n",
       "      <td>534</td>\n",
       "      <td>534</td>\n",
       "      <td>Compagnia dei Concordi</td>\n",
       "      <td>S Concordia [property on S Orsola = close to c...</td>\n",
       "      <td>Henderson P&amp;C #42</td>\n",
       "      <td>&lt;1429</td>\n",
       "      <td>...</td>\n",
       "      <td>Casa</td>\n",
       "      <td>s. Giovanni</td>\n",
       "      <td>S. Lorenzo</td>\n",
       "      <td>Via S. Orsola</td>\n",
       "      <td>contigua a la suddetta et a gioGualberto di Ra...</td>\n",
       "      <td>400</td>\n",
       "      <td>43.777147</td>\n",
       "      <td>11.254293</td>\n",
       "      <td>35v</td>\n",
       "      <td>534</td>\n",
       "    </tr>\n",
       "  </tbody>\n",
       "</table>\n",
       "<p>10 rows × 44 columns</p>\n",
       "</div>"
      ],
      "text/plain": [
       "   OBJECTID          Y          X Folio  Entry Number  Entry Number.1  \\\n",
       "0      2073  43.770558  11.270464  179v          2784            2784   \n",
       "1      3219  43.770336  11.264497  195r          3033            3033   \n",
       "2      2203  43.771118  11.269190   157          2421            2421   \n",
       "3       147  43.775931  11.252323   44r           681             681   \n",
       "4      7343  43.765810  11.247119   62v          1035            1035   \n",
       "5      8476  43.767438  11.244969  120v          1874            1874   \n",
       "6      5514  43.772942  11.247446   37v           642             642   \n",
       "7      8102  43.768004  11.240896  116v          1814            1814   \n",
       "8      2030  43.770728  11.270409  180r          2786            2786   \n",
       "9       400  43.777147  11.254293   35v           534             534   \n",
       "\n",
       "                                     Owner in Source  \\\n",
       "0  Cappella, o vero, compagnia degl'Azzurri di S....   \n",
       "1              Compagnia che sotto S. Piero Maggiore   \n",
       "2              Compagnia che sotto S. Piero Maggiore   \n",
       "3                                Compagnia de' Cieci   \n",
       "4                           Compagnia degl'Innocenti   \n",
       "5       Compagnia degl'Innocenti di s. Maria Novella   \n",
       "6       Compagnia degl'Innocenti di s. Maria Novella   \n",
       "7               Compagnia degli Genovesi nel Carmine   \n",
       "8               Compagnia dei Bianchi di S. Ambrogio   \n",
       "9                             Compagnia dei Concordi   \n",
       "\n",
       "                            Standardized Alternative  \\\n",
       "0                                S. Maria della Neve   \n",
       "1                                    S Pier Maggiore   \n",
       "2                                    S Pier Maggiore   \n",
       "3  S Maria del Giglio detto de'ciechi [S Ma. de P...   \n",
       "4                                       SS Innocenti   \n",
       "5                                       SS Innocenti   \n",
       "6                                       SS Innocenti   \n",
       "7                           S Sebastiano de'Genovesi   \n",
       "8                S Maria delle Laude e di S Ambrogio   \n",
       "9  S Concordia [property on S Orsola = close to c...   \n",
       "\n",
       "                        Source Age of Confraternity (if estimate, *)  ...  \\\n",
       "0           Henderson P&C #114                                 1445*  ...   \n",
       "1           Henderson P&C #137                                   NaN  ...   \n",
       "2           Henderson P&C #137                                   NaN  ...   \n",
       "3            Henderson P&C 104                                  1324  ...   \n",
       "4            Henderson P&C #78                                   NaN  ...   \n",
       "5            Henderson P&C #92                                   NaN  ...   \n",
       "6            Henderson P&C #92                                   NaN  ...   \n",
       "7           Henderson P&C #147                                  1474  ...   \n",
       "8  Henderson P&C #105 [or 121]                                  1466  ...   \n",
       "9            Henderson P&C #42                                 <1429  ...   \n",
       "\n",
       "          Building Description         Quartiere               Popolo  \\\n",
       "0                         casa       s. Giovanni             S. Piero   \n",
       "1                         casa       s. Giovanni          S. Ambrogio   \n",
       "2             casa in cappella       s. Giovanni    S. Piero Maggiore   \n",
       "3                         Casa       s. Giovanni           S. Lorenzo   \n",
       "4                     una casa        s. Spirito  S. Felice in piazza   \n",
       "5                     una casa        s. Spirito            S. Friano   \n",
       "6                         Casa  s. Maria Novella             s. Paolo   \n",
       "7                     una casa        s. Spirito            S. Friano   \n",
       "8  casa con un poco di bottega       s. Giovanni             S. Piero   \n",
       "9                         Casa       s. Giovanni           S. Lorenzo   \n",
       "\n",
       "                                              Street  \\\n",
       "0                       Borgo della Porta alla Croce   \n",
       "1                                    Via dell'Agnolo   \n",
       "2                       Borgo della Porta alla Croce   \n",
       "3  Via S. Jacopo in Campo Corbolino - Cella di Ci...   \n",
       "4                                       Via Mazzetta   \n",
       "5                                  Via d' Ardiglione   \n",
       "6                              Via nuova da s. Paulo   \n",
       "7                                   Via s. Salvadore   \n",
       "8                       Borgo della Porta alla Croce   \n",
       "9                                      Via S. Orsola   \n",
       "\n",
       "                                Location Information  OBJECTID.1        Y.1  \\\n",
       "0  contigua alla suddetta et a una delle Monache ...        2073  43.770558   \n",
       "1  contigua alla suddetta et a una di Francesco d...        3219  43.770336   \n",
       "2  contigua alla portaccia di Borgo alla croce et...        2203  43.771118   \n",
       "3  contigua a la soprascritta suoltando al lato d...         147  43.775931   \n",
       "4  in via mazzetta a 1o Rede di Piero Dei a 2o An...        7343  43.765810   \n",
       "5  a primo Piero di Raffaello a secondo ser Alama...        8476  43.767438   \n",
       "6  contigua a la suddetta et a una del capitolo d...        5514  43.772942   \n",
       "7  nella via di s. Salvatore a 1o Bartolomeo di B...        8102  43.768004   \n",
       "8  Contigua alla suddetta et al chiasso della, os...        2030  43.770728   \n",
       "9  contigua a la suddetta et a gioGualberto di Ra...         400  43.777147   \n",
       "\n",
       "         X.1 Folio.1 Entry Number.2  \n",
       "0  11.270464    179v           2784  \n",
       "1  11.264497    195r           3033  \n",
       "2  11.269190     157           2421  \n",
       "3  11.252323     44r            681  \n",
       "4  11.247119     62v           1035  \n",
       "5  11.244969    120v           1874  \n",
       "6  11.247446     37v            642  \n",
       "7  11.240896    116v           1814  \n",
       "8  11.270409    180r           2786  \n",
       "9  11.254293     35v            534  \n",
       "\n",
       "[10 rows x 44 columns]"
      ]
     },
     "execution_count": 65,
     "metadata": {},
     "output_type": "execute_result"
    }
   ],
   "source": [
    "decima.iloc[:10]"
   ]
  },
  {
   "cell_type": "code",
   "execution_count": 66,
   "metadata": {
    "ExecuteTime": {
     "end_time": "2022-02-10T23:28:17.299271Z",
     "start_time": "2022-02-10T23:28:17.294860Z"
    },
    "colab": {
     "base_uri": "https://localhost:8080/"
    },
    "id": "2B8VyEQ2IImk",
    "outputId": "aff4aa05-5066-49e7-ef18-b94f5e594dd6"
   },
   "outputs": [
    {
     "data": {
      "text/plain": [
       "(133, 44)"
      ]
     },
     "execution_count": 66,
     "metadata": {},
     "output_type": "execute_result"
    }
   ],
   "source": [
    "decima.shape"
   ]
  },
  {
   "cell_type": "markdown",
   "metadata": {
    "id": "erG016CAIImk"
   },
   "source": [
    "#### Check the column names"
   ]
  },
  {
   "cell_type": "code",
   "execution_count": 67,
   "metadata": {
    "ExecuteTime": {
     "end_time": "2022-02-10T23:28:17.290796Z",
     "start_time": "2022-02-10T23:28:17.285529Z"
    },
    "colab": {
     "base_uri": "https://localhost:8080/"
    },
    "id": "R8NvsK5NIIml",
    "outputId": "3566a28b-0dc6-4d8e-e3ec-4f08c148c0e8"
   },
   "outputs": [
    {
     "data": {
      "text/plain": [
       "Index(['OBJECTID', 'Y', 'X', 'Folio', 'Entry Number', 'Entry Number.1',\n",
       "       'Owner in Source', 'Standardized Alternative', 'Source',\n",
       "       'Age of Confraternity (if estimate, *)', 'Type', 'Property Type',\n",
       "       'Rent - Lire', 'Rent - Scudi', 'Value', 'Male Tenants',\n",
       "       'Female Tenants', 'Total Residents', 'Contract Description', 'Contract',\n",
       "       'Owner Type', 'Other Owner Name', 'Tenant', 'Tenant Gender',\n",
       "       'Tenant Occupation', 'Resident 1 Name', 'Resident 1 Gender',\n",
       "       'Resident 1 Occupation', 'Resident 2 Name', 'Resident 2 Gender',\n",
       "       'Resident 2 Occupation', 'Resident 3 Name', 'Resident 3 Gender',\n",
       "       'Resident 3 Occupation', 'Building Description', 'Quartiere', 'Popolo',\n",
       "       'Street', 'Location Information', 'OBJECTID.1', 'Y.1', 'X.1', 'Folio.1',\n",
       "       'Entry Number.2'],\n",
       "      dtype='object')"
      ]
     },
     "execution_count": 67,
     "metadata": {},
     "output_type": "execute_result"
    }
   ],
   "source": [
    "decima.columns"
   ]
  },
  {
   "cell_type": "markdown",
   "metadata": {
    "id": "NpOdPT8GIIml"
   },
   "source": [
    "### F.2 Groupby Functions\n",
    "\n",
    "* With **groupby** Pandas will let us find all the **neighborhoods** in members of particular **trades** lived"
   ]
  },
  {
   "cell_type": "code",
   "execution_count": 68,
   "metadata": {
    "ExecuteTime": {
     "end_time": "2022-02-10T23:28:17.316618Z",
     "start_time": "2022-02-10T23:28:17.301144Z"
    },
    "colab": {
     "base_uri": "https://localhost:8080/"
    },
    "id": "JqtHXVdxIIml",
    "outputId": "4daaa976-7ed4-4325-c792-7f6ca8d8d584"
   },
   "outputs": [
    {
     "data": {
      "text/plain": [
       "Tenant Occupation\n",
       "barbiere                                                      [s. Spirito]\n",
       "battilano                              [s. Giovanni, s. Croce, s. Spirito]\n",
       "beccaio                                            [s. Croce, s. Giovanni]\n",
       "calzolaio                                                    [s. Giovanni]\n",
       "cappellaio                                                   [s. Giovanni]\n",
       "cartolaio                                                       [s. Croce]\n",
       "ciabattino                                         [s. Giovanni, s. Croce]\n",
       "coltellinaio                                                    [s. Croce]\n",
       "contadino                                                       [s. Croce]\n",
       "curandaio                                                    [s. Giovanni]\n",
       "divettino                                                    [s. Giovanni]\n",
       "donzello                                                     [s. Giovanni]\n",
       "esattore                                                     [s. Giovanni]\n",
       "fattorino                                               [s. Maria Novella]\n",
       "fornaio                                     [s. Spirito, s. Maria Novella]\n",
       "funaiuolo                                                     [s. Spirito]\n",
       "guardia                                                      [s. Giovanni]\n",
       "legnaiuolo                                         [s. Croce, s. Giovanni]\n",
       "manouale                                                      [s. Spirito]\n",
       "merciaio                                                      [s. Spirito]\n",
       "minugiaio                                                     [s. Spirito]\n",
       "muratore                                            [s. Croce, s. Spirito]\n",
       "occhialaio                                                      [s. Croce]\n",
       "oste                                             [s. Giovanni, s. Spirito]\n",
       "pettinagnolo                                                  [s. Spirito]\n",
       "pinzocara                                               [s. Maria Novella]\n",
       "pizzicagnolo                                                 [s. Giovanni]\n",
       "pollaiuolo                                              [s. Maria Novella]\n",
       "portatore                                                       [s. Croce]\n",
       "prete e cappellano                                              [s. Croce]\n",
       "rigattiere                                                   [s. Giovanni]\n",
       "rivenditore                                      [s. Giovanni, s. Spirito]\n",
       "sarto                                                        [s. Giovanni]\n",
       "sellaio                                                      [s. Giovanni]\n",
       "servo                                                           [s. Croce]\n",
       "spedaliero                                                      [s. Croce]\n",
       "tessitore                [s. Giovanni, s. Maria Novella, s. Spirito, s....\n",
       "tessitore di broccati                                         [s. Spirito]\n",
       "tessitore di drappi                                 [s. Croce, s. Spirito]\n",
       "tintore                                                       [s. Spirito]\n",
       "torcitore                                                     [s. Spirito]\n",
       "votapozzi                                                       [s. Croce]\n",
       "Name: Quartiere, dtype: object"
      ]
     },
     "execution_count": 68,
     "metadata": {},
     "output_type": "execute_result"
    }
   ],
   "source": [
    "decima.groupby(\"Tenant Occupation\").Quartiere.unique()"
   ]
  },
  {
   "cell_type": "code",
   "execution_count": 70,
   "metadata": {},
   "outputs": [
    {
     "data": {
      "text/plain": [
       "Quartiere         Tenant Occupation    \n",
       "s. Croce          battilano                2\n",
       "                  beccaio                  1\n",
       "                  cartolaio                1\n",
       "                  ciabattino               1\n",
       "                  coltellinaio             1\n",
       "                  contadino                1\n",
       "                  legnaiuolo               1\n",
       "                  muratore                 1\n",
       "                  occhialaio               1\n",
       "                  portatore                1\n",
       "                  prete e cappellano       1\n",
       "                  servo                    1\n",
       "                  spedaliero               1\n",
       "                  tessitore                1\n",
       "                  tessitore di drappi      1\n",
       "                  votapozzi                1\n",
       "s. Giovanni       tessitore                7\n",
       "                  legnaiuolo               2\n",
       "                  rigattiere               2\n",
       "                  battilano                1\n",
       "                  beccaio                  1\n",
       "                  calzolaio                1\n",
       "                  cappellaio               1\n",
       "                  ciabattino               1\n",
       "                  curandaio                1\n",
       "                  divettino                1\n",
       "                  donzello                 1\n",
       "                  esattore                 1\n",
       "                  guardia                  1\n",
       "                  oste                     1\n",
       "                  pizzicagnolo             1\n",
       "                  rivenditore              1\n",
       "                  sarto                    1\n",
       "                  sellaio                  1\n",
       "s. Maria Novella  fattorino                1\n",
       "                  fornaio                  1\n",
       "                  pinzocara                1\n",
       "                  pollaiuolo               1\n",
       "                  tessitore                1\n",
       "s. Spirito        fornaio                  2\n",
       "                  barbiere                 1\n",
       "                  battilano                1\n",
       "                  funaiuolo                1\n",
       "                  manouale                 1\n",
       "                  merciaio                 1\n",
       "                  minugiaio                1\n",
       "                  muratore                 1\n",
       "                  oste                     1\n",
       "                  pettinagnolo             1\n",
       "                  rivenditore              1\n",
       "                  tessitore                1\n",
       "                  tessitore di broccati    1\n",
       "                  tessitore di drappi      1\n",
       "                  tintore                  1\n",
       "                  torcitore                1\n",
       "Name: Tenant Occupation, dtype: int64"
      ]
     },
     "execution_count": 70,
     "metadata": {},
     "output_type": "execute_result"
    }
   ],
   "source": [
    "decima.groupby(\"Quartiere\")[\"Tenant Occupation\"].value_counts()"
   ]
  },
  {
   "cell_type": "markdown",
   "metadata": {
    "id": "SQKu8pOpIIml"
   },
   "source": [
    "### F.3  Mapping with folium\n",
    "\n",
    "* Decima includes geographical data in the form of longitude and latitude"
   ]
  },
  {
   "cell_type": "markdown",
   "metadata": {
    "id": "d_3GQO0iIIml"
   },
   "source": [
    "#### Since the X and Y columns represent longitude and latitude, we can use the `mean` method to find the center!"
   ]
  },
  {
   "cell_type": "code",
   "execution_count": 71,
   "metadata": {
    "ExecuteTime": {
     "end_time": "2022-02-10T23:28:17.283775Z",
     "start_time": "2022-02-10T23:28:17.280056Z"
    },
    "colab": {
     "base_uri": "https://localhost:8080/"
    },
    "id": "XWqrm2qmIIml",
    "outputId": "1a244f51-ffb1-4448-8e76-0f75ab92a69a"
   },
   "outputs": [
    {
     "name": "stdout",
     "output_type": "stream",
     "text": [
      "11.255879475338345 43.77205156556393\n"
     ]
    }
   ],
   "source": [
    "X, Y = decima[\"X\"].mean(), decima[\"Y\"].mean()\n",
    "print(X, Y)"
   ]
  },
  {
   "cell_type": "markdown",
   "metadata": {
    "id": "UePVelFwIImm"
   },
   "source": [
    "#### The folium library will let us create maps directly in Jupyter NBs\n",
    "\n",
    "- Notice that the map is zoomable and interactive (linked back to the data in our frame)"
   ]
  },
  {
   "cell_type": "code",
   "execution_count": 80,
   "metadata": {
    "ExecuteTime": {
     "end_time": "2022-02-10T23:28:17.327072Z",
     "start_time": "2022-02-10T23:28:17.318722Z"
    },
    "id": "oqs6rHXVIImm"
   },
   "outputs": [],
   "source": [
    "our_map = folium.Map(location=[Y, X], zoom_start=15)"
   ]
  },
  {
   "cell_type": "code",
   "execution_count": 84,
   "metadata": {
    "ExecuteTime": {
     "end_time": "2022-02-10T23:28:17.334895Z",
     "start_time": "2022-02-10T23:28:17.328903Z"
    },
    "id": "b7Fu7DKhIImm"
   },
   "outputs": [],
   "source": [
    "decima[\"popup_column\"] = decima.apply(lambda row: f\"\"\"\n",
    "        <ul>\n",
    "            <li><strong>ID: </strong>{row[\"OBJECTID\"]}</li>\n",
    "            <li><strong>Source: </strong>{row[\"Source\"]}</li>\n",
    "            <li><strong>Name: </strong>{row[\"Tenant Occupation\"]}</li>\n",
    "        <ul>\n",
    "    \"\"\"\n",
    ", axis=\"columns\")"
   ]
  },
  {
   "cell_type": "code",
   "execution_count": 85,
   "metadata": {
    "ExecuteTime": {
     "end_time": "2022-02-10T23:28:17.355188Z",
     "start_time": "2022-02-10T23:28:17.336827Z"
    },
    "id": "TNweByPdIImm"
   },
   "outputs": [],
   "source": [
    "decima.apply(lambda row: folium.Marker(\n",
    "                                    location=(row[\"Y\"], row[\"X\"]),\n",
    "                                    popup=row[\"popup_column\"]\n",
    "                                    ).add_to(our_map), axis=1);"
   ]
  },
  {
   "cell_type": "code",
   "execution_count": 86,
   "metadata": {
    "ExecuteTime": {
     "end_time": "2022-02-10T23:28:17.532841Z",
     "start_time": "2022-02-10T23:28:17.357225Z"
    },
    "colab": {
     "base_uri": "https://localhost:8080/",
     "height": 1000
    },
    "id": "MoJ-0S9SIImn",
    "outputId": "14c7dd03-14aa-43d6-8450-383347f92399"
   },
   "outputs": [
    {
     "data": {
      "text/html": [
       "<div style=\"width:100%;\"><div style=\"position:relative;width:100%;height:0;padding-bottom:60%;\"><span style=\"color:#565656\">Make this Notebook Trusted to load map: File -> Trust Notebook</span><iframe src=\"about:blank\" style=\"position:absolute;width:100%;height:100%;left:0;top:0;border:none !important;\" data-html=%3C%21DOCTYPE%20html%3E%0A%3Chead%3E%20%20%20%20%0A%20%20%20%20%3Cmeta%20http-equiv%3D%22content-type%22%20content%3D%22text/html%3B%20charset%3DUTF-8%22%20/%3E%0A%20%20%20%20%0A%20%20%20%20%20%20%20%20%3Cscript%3E%0A%20%20%20%20%20%20%20%20%20%20%20%20L_NO_TOUCH%20%3D%20false%3B%0A%20%20%20%20%20%20%20%20%20%20%20%20L_DISABLE_3D%20%3D%20false%3B%0A%20%20%20%20%20%20%20%20%3C/script%3E%0A%20%20%20%20%0A%20%20%20%20%3Cstyle%3Ehtml%2C%20body%20%7Bwidth%3A%20100%25%3Bheight%3A%20100%25%3Bmargin%3A%200%3Bpadding%3A%200%3B%7D%3C/style%3E%0A%20%20%20%20%3Cstyle%3E%23map%20%7Bposition%3Aabsolute%3Btop%3A0%3Bbottom%3A0%3Bright%3A0%3Bleft%3A0%3B%7D%3C/style%3E%0A%20%20%20%20%3Cscript%20src%3D%22https%3A//cdn.jsdelivr.net/npm/leaflet%401.6.0/dist/leaflet.js%22%3E%3C/script%3E%0A%20%20%20%20%3Cscript%20src%3D%22https%3A//code.jquery.com/jquery-1.12.4.min.js%22%3E%3C/script%3E%0A%20%20%20%20%3Cscript%20src%3D%22https%3A//maxcdn.bootstrapcdn.com/bootstrap/3.2.0/js/bootstrap.min.js%22%3E%3C/script%3E%0A%20%20%20%20%3Cscript%20src%3D%22https%3A//cdnjs.cloudflare.com/ajax/libs/Leaflet.awesome-markers/2.0.2/leaflet.awesome-markers.js%22%3E%3C/script%3E%0A%20%20%20%20%3Clink%20rel%3D%22stylesheet%22%20href%3D%22https%3A//cdn.jsdelivr.net/npm/leaflet%401.6.0/dist/leaflet.css%22/%3E%0A%20%20%20%20%3Clink%20rel%3D%22stylesheet%22%20href%3D%22https%3A//maxcdn.bootstrapcdn.com/bootstrap/3.2.0/css/bootstrap.min.css%22/%3E%0A%20%20%20%20%3Clink%20rel%3D%22stylesheet%22%20href%3D%22https%3A//maxcdn.bootstrapcdn.com/bootstrap/3.2.0/css/bootstrap-theme.min.css%22/%3E%0A%20%20%20%20%3Clink%20rel%3D%22stylesheet%22%20href%3D%22https%3A//maxcdn.bootstrapcdn.com/font-awesome/4.6.3/css/font-awesome.min.css%22/%3E%0A%20%20%20%20%3Clink%20rel%3D%22stylesheet%22%20href%3D%22https%3A//cdnjs.cloudflare.com/ajax/libs/Leaflet.awesome-markers/2.0.2/leaflet.awesome-markers.css%22/%3E%0A%20%20%20%20%3Clink%20rel%3D%22stylesheet%22%20href%3D%22https%3A//cdn.jsdelivr.net/gh/python-visualization/folium/folium/templates/leaflet.awesome.rotate.min.css%22/%3E%0A%20%20%20%20%0A%20%20%20%20%20%20%20%20%20%20%20%20%3Cmeta%20name%3D%22viewport%22%20content%3D%22width%3Ddevice-width%2C%0A%20%20%20%20%20%20%20%20%20%20%20%20%20%20%20%20initial-scale%3D1.0%2C%20maximum-scale%3D1.0%2C%20user-scalable%3Dno%22%20/%3E%0A%20%20%20%20%20%20%20%20%20%20%20%20%3Cstyle%3E%0A%20%20%20%20%20%20%20%20%20%20%20%20%20%20%20%20%23map_cb5ddea0a149466984ccacda88dfafab%20%7B%0A%20%20%20%20%20%20%20%20%20%20%20%20%20%20%20%20%20%20%20%20position%3A%20relative%3B%0A%20%20%20%20%20%20%20%20%20%20%20%20%20%20%20%20%20%20%20%20width%3A%20100.0%25%3B%0A%20%20%20%20%20%20%20%20%20%20%20%20%20%20%20%20%20%20%20%20height%3A%20100.0%25%3B%0A%20%20%20%20%20%20%20%20%20%20%20%20%20%20%20%20%20%20%20%20left%3A%200.0%25%3B%0A%20%20%20%20%20%20%20%20%20%20%20%20%20%20%20%20%20%20%20%20top%3A%200.0%25%3B%0A%20%20%20%20%20%20%20%20%20%20%20%20%20%20%20%20%7D%0A%20%20%20%20%20%20%20%20%20%20%20%20%3C/style%3E%0A%20%20%20%20%20%20%20%20%0A%3C/head%3E%0A%3Cbody%3E%20%20%20%20%0A%20%20%20%20%0A%20%20%20%20%20%20%20%20%20%20%20%20%3Cdiv%20class%3D%22folium-map%22%20id%3D%22map_cb5ddea0a149466984ccacda88dfafab%22%20%3E%3C/div%3E%0A%20%20%20%20%20%20%20%20%0A%3C/body%3E%0A%3Cscript%3E%20%20%20%20%0A%20%20%20%20%0A%20%20%20%20%20%20%20%20%20%20%20%20var%20map_cb5ddea0a149466984ccacda88dfafab%20%3D%20L.map%28%0A%20%20%20%20%20%20%20%20%20%20%20%20%20%20%20%20%22map_cb5ddea0a149466984ccacda88dfafab%22%2C%0A%20%20%20%20%20%20%20%20%20%20%20%20%20%20%20%20%7B%0A%20%20%20%20%20%20%20%20%20%20%20%20%20%20%20%20%20%20%20%20center%3A%20%5B43.77205156556393%2C%2011.255879475338345%5D%2C%0A%20%20%20%20%20%20%20%20%20%20%20%20%20%20%20%20%20%20%20%20crs%3A%20L.CRS.EPSG3857%2C%0A%20%20%20%20%20%20%20%20%20%20%20%20%20%20%20%20%20%20%20%20zoom%3A%2015%2C%0A%20%20%20%20%20%20%20%20%20%20%20%20%20%20%20%20%20%20%20%20zoomControl%3A%20true%2C%0A%20%20%20%20%20%20%20%20%20%20%20%20%20%20%20%20%20%20%20%20preferCanvas%3A%20false%2C%0A%20%20%20%20%20%20%20%20%20%20%20%20%20%20%20%20%7D%0A%20%20%20%20%20%20%20%20%20%20%20%20%29%3B%0A%0A%20%20%20%20%20%20%20%20%20%20%20%20%0A%0A%20%20%20%20%20%20%20%20%0A%20%20%20%20%0A%20%20%20%20%20%20%20%20%20%20%20%20var%20tile_layer_64a07c189f004853b32529b090511c42%20%3D%20L.tileLayer%28%0A%20%20%20%20%20%20%20%20%20%20%20%20%20%20%20%20%22https%3A//%7Bs%7D.tile.openstreetmap.org/%7Bz%7D/%7Bx%7D/%7By%7D.png%22%2C%0A%20%20%20%20%20%20%20%20%20%20%20%20%20%20%20%20%7B%22attribution%22%3A%20%22Data%20by%20%5Cu0026copy%3B%20%5Cu003ca%20href%3D%5C%22http%3A//openstreetmap.org%5C%22%5Cu003eOpenStreetMap%5Cu003c/a%5Cu003e%2C%20under%20%5Cu003ca%20href%3D%5C%22http%3A//www.openstreetmap.org/copyright%5C%22%5Cu003eODbL%5Cu003c/a%5Cu003e.%22%2C%20%22detectRetina%22%3A%20false%2C%20%22maxNativeZoom%22%3A%2018%2C%20%22maxZoom%22%3A%2018%2C%20%22minZoom%22%3A%200%2C%20%22noWrap%22%3A%20false%2C%20%22opacity%22%3A%201%2C%20%22subdomains%22%3A%20%22abc%22%2C%20%22tms%22%3A%20false%7D%0A%20%20%20%20%20%20%20%20%20%20%20%20%29.addTo%28map_cb5ddea0a149466984ccacda88dfafab%29%3B%0A%20%20%20%20%20%20%20%20%0A%20%20%20%20%0A%20%20%20%20%20%20%20%20%20%20%20%20var%20marker_eb57f423828d4131b1db9b9f0f87821d%20%3D%20L.marker%28%0A%20%20%20%20%20%20%20%20%20%20%20%20%20%20%20%20%5B43.77055767%2C%2011.27046367%5D%2C%0A%20%20%20%20%20%20%20%20%20%20%20%20%20%20%20%20%7B%7D%0A%20%20%20%20%20%20%20%20%20%20%20%20%29.addTo%28map_cb5ddea0a149466984ccacda88dfafab%29%3B%0A%20%20%20%20%20%20%20%20%0A%20%20%20%20%0A%20%20%20%20%20%20%20%20var%20popup_fdabfcbe58d040bf9fb3dc9345dbef4e%20%3D%20L.popup%28%7B%22maxWidth%22%3A%20%22100%25%22%7D%29%3B%0A%0A%20%20%20%20%20%20%20%20%0A%20%20%20%20%20%20%20%20%20%20%20%20var%20html_44fe7eafd4c545db8ae7b12e9a3bb58c%20%3D%20%24%28%60%3Cdiv%20id%3D%22html_44fe7eafd4c545db8ae7b12e9a3bb58c%22%20style%3D%22width%3A%20100.0%25%3B%20height%3A%20100.0%25%3B%22%3E%20%20%20%20%20%20%20%20%20%3Cul%3E%20%20%20%20%20%20%20%20%20%20%20%20%20%3Cli%3E%3Cstrong%3EID%3A%20%3C/strong%3E2073%3C/li%3E%20%20%20%20%20%20%20%20%20%20%20%20%20%3Cli%3E%3Cstrong%3ESource%3A%20%3C/strong%3EHenderson%20P%26C%20%23114%3C/li%3E%20%20%20%20%20%20%20%20%20%20%20%20%20%3Cli%3E%3Cstrong%3EName%3A%20%3C/strong%3EDomenico%20di%20Francesco%20di%20Casantino%3C/li%3E%20%20%20%20%20%20%20%20%20%3Cul%3E%20%20%20%20%20%3C/div%3E%60%29%5B0%5D%3B%0A%20%20%20%20%20%20%20%20%20%20%20%20popup_fdabfcbe58d040bf9fb3dc9345dbef4e.setContent%28html_44fe7eafd4c545db8ae7b12e9a3bb58c%29%3B%0A%20%20%20%20%20%20%20%20%0A%0A%20%20%20%20%20%20%20%20marker_eb57f423828d4131b1db9b9f0f87821d.bindPopup%28popup_fdabfcbe58d040bf9fb3dc9345dbef4e%29%0A%20%20%20%20%20%20%20%20%3B%0A%0A%20%20%20%20%20%20%20%20%0A%20%20%20%20%0A%20%20%20%20%0A%20%20%20%20%20%20%20%20%20%20%20%20var%20marker_53c4637151414196970aca73766fbab5%20%3D%20L.marker%28%0A%20%20%20%20%20%20%20%20%20%20%20%20%20%20%20%20%5B43.770336%2C%2011.264497%5D%2C%0A%20%20%20%20%20%20%20%20%20%20%20%20%20%20%20%20%7B%7D%0A%20%20%20%20%20%20%20%20%20%20%20%20%29.addTo%28map_cb5ddea0a149466984ccacda88dfafab%29%3B%0A%20%20%20%20%20%20%20%20%0A%20%20%20%20%0A%20%20%20%20%20%20%20%20var%20popup_491db45a3cc645c5ab5c05eb4b136fa8%20%3D%20L.popup%28%7B%22maxWidth%22%3A%20%22100%25%22%7D%29%3B%0A%0A%20%20%20%20%20%20%20%20%0A%20%20%20%20%20%20%20%20%20%20%20%20var%20html_ed9a974c9aa34474b1cf4e45045c8185%20%3D%20%24%28%60%3Cdiv%20id%3D%22html_ed9a974c9aa34474b1cf4e45045c8185%22%20style%3D%22width%3A%20100.0%25%3B%20height%3A%20100.0%25%3B%22%3E%20%20%20%20%20%20%20%20%20%3Cul%3E%20%20%20%20%20%20%20%20%20%20%20%20%20%3Cli%3E%3Cstrong%3EID%3A%20%3C/strong%3E3219%3C/li%3E%20%20%20%20%20%20%20%20%20%20%20%20%20%3Cli%3E%3Cstrong%3ESource%3A%20%3C/strong%3EHenderson%20P%26C%20%23137%3C/li%3E%20%20%20%20%20%20%20%20%20%20%20%20%20%3Cli%3E%3Cstrong%3EName%3A%20%3C/strong%3EMarchonne%20di%20Giovannni%20Dazzi%3C/li%3E%20%20%20%20%20%20%20%20%20%3Cul%3E%20%20%20%20%20%3C/div%3E%60%29%5B0%5D%3B%0A%20%20%20%20%20%20%20%20%20%20%20%20popup_491db45a3cc645c5ab5c05eb4b136fa8.setContent%28html_ed9a974c9aa34474b1cf4e45045c8185%29%3B%0A%20%20%20%20%20%20%20%20%0A%0A%20%20%20%20%20%20%20%20marker_53c4637151414196970aca73766fbab5.bindPopup%28popup_491db45a3cc645c5ab5c05eb4b136fa8%29%0A%20%20%20%20%20%20%20%20%3B%0A%0A%20%20%20%20%20%20%20%20%0A%20%20%20%20%0A%20%20%20%20%0A%20%20%20%20%20%20%20%20%20%20%20%20var%20marker_049ffb881db148a6b1cab8682dc7bd5f%20%3D%20L.marker%28%0A%20%20%20%20%20%20%20%20%20%20%20%20%20%20%20%20%5B43.77111764%2C%2011.26918979%5D%2C%0A%20%20%20%20%20%20%20%20%20%20%20%20%20%20%20%20%7B%7D%0A%20%20%20%20%20%20%20%20%20%20%20%20%29.addTo%28map_cb5ddea0a149466984ccacda88dfafab%29%3B%0A%20%20%20%20%20%20%20%20%0A%20%20%20%20%0A%20%20%20%20%20%20%20%20var%20popup_acca857772c24b669935fcd9f8f12d47%20%3D%20L.popup%28%7B%22maxWidth%22%3A%20%22100%25%22%7D%29%3B%0A%0A%20%20%20%20%20%20%20%20%0A%20%20%20%20%20%20%20%20%20%20%20%20var%20html_74bd4ac0da8e45dca5ee2a7363695493%20%3D%20%24%28%60%3Cdiv%20id%3D%22html_74bd4ac0da8e45dca5ee2a7363695493%22%20style%3D%22width%3A%20100.0%25%3B%20height%3A%20100.0%25%3B%22%3E%20%20%20%20%20%20%20%20%20%3Cul%3E%20%20%20%20%20%20%20%20%20%20%20%20%20%3Cli%3E%3Cstrong%3EID%3A%20%3C/strong%3E2203%3C/li%3E%20%20%20%20%20%20%20%20%20%20%20%20%20%3Cli%3E%3Cstrong%3ESource%3A%20%3C/strong%3EHenderson%20P%26C%20%23137%3C/li%3E%20%20%20%20%20%20%20%20%20%20%20%20%20%3Cli%3E%3Cstrong%3EName%3A%20%3C/strong%3ELa%20Dianora%2C%20vedova%2C%20donna%20fu%20di%20Piero%20Bastachi%3C/li%3E%20%20%20%20%20%20%20%20%20%3Cul%3E%20%20%20%20%20%3C/div%3E%60%29%5B0%5D%3B%0A%20%20%20%20%20%20%20%20%20%20%20%20popup_acca857772c24b669935fcd9f8f12d47.setContent%28html_74bd4ac0da8e45dca5ee2a7363695493%29%3B%0A%20%20%20%20%20%20%20%20%0A%0A%20%20%20%20%20%20%20%20marker_049ffb881db148a6b1cab8682dc7bd5f.bindPopup%28popup_acca857772c24b669935fcd9f8f12d47%29%0A%20%20%20%20%20%20%20%20%3B%0A%0A%20%20%20%20%20%20%20%20%0A%20%20%20%20%0A%20%20%20%20%0A%20%20%20%20%20%20%20%20%20%20%20%20var%20marker_50675d705872481fb392ffe8d0f3b3ab%20%3D%20L.marker%28%0A%20%20%20%20%20%20%20%20%20%20%20%20%20%20%20%20%5B43.775931%2C%2011.252323%5D%2C%0A%20%20%20%20%20%20%20%20%20%20%20%20%20%20%20%20%7B%7D%0A%20%20%20%20%20%20%20%20%20%20%20%20%29.addTo%28map_cb5ddea0a149466984ccacda88dfafab%29%3B%0A%20%20%20%20%20%20%20%20%0A%20%20%20%20%0A%20%20%20%20%20%20%20%20var%20popup_61128653108d4f1a861e5b4d1ebc5a32%20%3D%20L.popup%28%7B%22maxWidth%22%3A%20%22100%25%22%7D%29%3B%0A%0A%20%20%20%20%20%20%20%20%0A%20%20%20%20%20%20%20%20%20%20%20%20var%20html_1304d6756d7b4b8bad1839a40c7a72df%20%3D%20%24%28%60%3Cdiv%20id%3D%22html_1304d6756d7b4b8bad1839a40c7a72df%22%20style%3D%22width%3A%20100.0%25%3B%20height%3A%20100.0%25%3B%22%3E%20%20%20%20%20%20%20%20%20%3Cul%3E%20%20%20%20%20%20%20%20%20%20%20%20%20%3Cli%3E%3Cstrong%3EID%3A%20%3C/strong%3E147%3C/li%3E%20%20%20%20%20%20%20%20%20%20%20%20%20%3Cli%3E%3Cstrong%3ESource%3A%20%3C/strong%3EHenderson%20P%26C%20104%3C/li%3E%20%20%20%20%20%20%20%20%20%20%20%20%20%3Cli%3E%3Cstrong%3EName%3A%20%3C/strong%3EBenedetto%20di%20Monsacco%3C/li%3E%20%20%20%20%20%20%20%20%20%3Cul%3E%20%20%20%20%20%3C/div%3E%60%29%5B0%5D%3B%0A%20%20%20%20%20%20%20%20%20%20%20%20popup_61128653108d4f1a861e5b4d1ebc5a32.setContent%28html_1304d6756d7b4b8bad1839a40c7a72df%29%3B%0A%20%20%20%20%20%20%20%20%0A%0A%20%20%20%20%20%20%20%20marker_50675d705872481fb392ffe8d0f3b3ab.bindPopup%28popup_61128653108d4f1a861e5b4d1ebc5a32%29%0A%20%20%20%20%20%20%20%20%3B%0A%0A%20%20%20%20%20%20%20%20%0A%20%20%20%20%0A%20%20%20%20%0A%20%20%20%20%20%20%20%20%20%20%20%20var%20marker_a4ee3678f8c040f59202fbcb18747bbc%20%3D%20L.marker%28%0A%20%20%20%20%20%20%20%20%20%20%20%20%20%20%20%20%5B43.76581%2C%2011.24711857%5D%2C%0A%20%20%20%20%20%20%20%20%20%20%20%20%20%20%20%20%7B%7D%0A%20%20%20%20%20%20%20%20%20%20%20%20%29.addTo%28map_cb5ddea0a149466984ccacda88dfafab%29%3B%0A%20%20%20%20%20%20%20%20%0A%20%20%20%20%0A%20%20%20%20%20%20%20%20var%20popup_22fcb9f06e6f4457ba98c3568465e6c2%20%3D%20L.popup%28%7B%22maxWidth%22%3A%20%22100%25%22%7D%29%3B%0A%0A%20%20%20%20%20%20%20%20%0A%20%20%20%20%20%20%20%20%20%20%20%20var%20html_353f27676d154bcfaf79b9aa7bd34a5d%20%3D%20%24%28%60%3Cdiv%20id%3D%22html_353f27676d154bcfaf79b9aa7bd34a5d%22%20style%3D%22width%3A%20100.0%25%3B%20height%3A%20100.0%25%3B%22%3E%20%20%20%20%20%20%20%20%20%3Cul%3E%20%20%20%20%20%20%20%20%20%20%20%20%20%3Cli%3E%3Cstrong%3EID%3A%20%3C/strong%3E7343%3C/li%3E%20%20%20%20%20%20%20%20%20%20%20%20%20%3Cli%3E%3Cstrong%3ESource%3A%20%3C/strong%3EHenderson%20P%26C%20%2378%3C/li%3E%20%20%20%20%20%20%20%20%20%20%20%20%20%3Cli%3E%3Cstrong%3EName%3A%20%3C/strong%3EGiovannozzo%20di%20Raffaello%20Parenti%3C/li%3E%20%20%20%20%20%20%20%20%20%3Cul%3E%20%20%20%20%20%3C/div%3E%60%29%5B0%5D%3B%0A%20%20%20%20%20%20%20%20%20%20%20%20popup_22fcb9f06e6f4457ba98c3568465e6c2.setContent%28html_353f27676d154bcfaf79b9aa7bd34a5d%29%3B%0A%20%20%20%20%20%20%20%20%0A%0A%20%20%20%20%20%20%20%20marker_a4ee3678f8c040f59202fbcb18747bbc.bindPopup%28popup_22fcb9f06e6f4457ba98c3568465e6c2%29%0A%20%20%20%20%20%20%20%20%3B%0A%0A%20%20%20%20%20%20%20%20%0A%20%20%20%20%0A%20%20%20%20%0A%20%20%20%20%20%20%20%20%20%20%20%20var%20marker_7edc99c5223543ffbee7fc4d1808d32c%20%3D%20L.marker%28%0A%20%20%20%20%20%20%20%20%20%20%20%20%20%20%20%20%5B43.7674384%2C%2011.244969%5D%2C%0A%20%20%20%20%20%20%20%20%20%20%20%20%20%20%20%20%7B%7D%0A%20%20%20%20%20%20%20%20%20%20%20%20%29.addTo%28map_cb5ddea0a149466984ccacda88dfafab%29%3B%0A%20%20%20%20%20%20%20%20%0A%20%20%20%20%0A%20%20%20%20%20%20%20%20var%20popup_75462e6550464fe59253e1b2a5f485cc%20%3D%20L.popup%28%7B%22maxWidth%22%3A%20%22100%25%22%7D%29%3B%0A%0A%20%20%20%20%20%20%20%20%0A%20%20%20%20%20%20%20%20%20%20%20%20var%20html_d47f8d0ce6664e16b113e8f4cd3cca6b%20%3D%20%24%28%60%3Cdiv%20id%3D%22html_d47f8d0ce6664e16b113e8f4cd3cca6b%22%20style%3D%22width%3A%20100.0%25%3B%20height%3A%20100.0%25%3B%22%3E%20%20%20%20%20%20%20%20%20%3Cul%3E%20%20%20%20%20%20%20%20%20%20%20%20%20%3Cli%3E%3Cstrong%3EID%3A%20%3C/strong%3E8476%3C/li%3E%20%20%20%20%20%20%20%20%20%20%20%20%20%3Cli%3E%3Cstrong%3ESource%3A%20%3C/strong%3EHenderson%20P%26C%20%2392%3C/li%3E%20%20%20%20%20%20%20%20%20%20%20%20%20%3Cli%3E%3Cstrong%3EName%3A%20%3C/strong%3Eun%20pigionale%3C/li%3E%20%20%20%20%20%20%20%20%20%3Cul%3E%20%20%20%20%20%3C/div%3E%60%29%5B0%5D%3B%0A%20%20%20%20%20%20%20%20%20%20%20%20popup_75462e6550464fe59253e1b2a5f485cc.setContent%28html_d47f8d0ce6664e16b113e8f4cd3cca6b%29%3B%0A%20%20%20%20%20%20%20%20%0A%0A%20%20%20%20%20%20%20%20marker_7edc99c5223543ffbee7fc4d1808d32c.bindPopup%28popup_75462e6550464fe59253e1b2a5f485cc%29%0A%20%20%20%20%20%20%20%20%3B%0A%0A%20%20%20%20%20%20%20%20%0A%20%20%20%20%0A%20%20%20%20%0A%20%20%20%20%20%20%20%20%20%20%20%20var%20marker_3c73ead164fe49e3b14e7eced4c46ed2%20%3D%20L.marker%28%0A%20%20%20%20%20%20%20%20%20%20%20%20%20%20%20%20%5B43.77294222%2C%2011.24744556%5D%2C%0A%20%20%20%20%20%20%20%20%20%20%20%20%20%20%20%20%7B%7D%0A%20%20%20%20%20%20%20%20%20%20%20%20%29.addTo%28map_cb5ddea0a149466984ccacda88dfafab%29%3B%0A%20%20%20%20%20%20%20%20%0A%20%20%20%20%0A%20%20%20%20%20%20%20%20var%20popup_0f0d217827964c2f8d9338c8760d8097%20%3D%20L.popup%28%7B%22maxWidth%22%3A%20%22100%25%22%7D%29%3B%0A%0A%20%20%20%20%20%20%20%20%0A%20%20%20%20%20%20%20%20%20%20%20%20var%20html_2a8c45c8e5024f24bbe2baa6bbc94151%20%3D%20%24%28%60%3Cdiv%20id%3D%22html_2a8c45c8e5024f24bbe2baa6bbc94151%22%20style%3D%22width%3A%20100.0%25%3B%20height%3A%20100.0%25%3B%22%3E%20%20%20%20%20%20%20%20%20%3Cul%3E%20%20%20%20%20%20%20%20%20%20%20%20%20%3Cli%3E%3Cstrong%3EID%3A%20%3C/strong%3E5514%3C/li%3E%20%20%20%20%20%20%20%20%20%20%20%20%20%3Cli%3E%3Cstrong%3ESource%3A%20%3C/strong%3EHenderson%20P%26C%20%2392%3C/li%3E%20%20%20%20%20%20%20%20%20%20%20%20%20%3Cli%3E%3Cstrong%3EName%3A%20%3C/strong%3ELorenzo%20di%20Niccolo%3C/li%3E%20%20%20%20%20%20%20%20%20%3Cul%3E%20%20%20%20%20%3C/div%3E%60%29%5B0%5D%3B%0A%20%20%20%20%20%20%20%20%20%20%20%20popup_0f0d217827964c2f8d9338c8760d8097.setContent%28html_2a8c45c8e5024f24bbe2baa6bbc94151%29%3B%0A%20%20%20%20%20%20%20%20%0A%0A%20%20%20%20%20%20%20%20marker_3c73ead164fe49e3b14e7eced4c46ed2.bindPopup%28popup_0f0d217827964c2f8d9338c8760d8097%29%0A%20%20%20%20%20%20%20%20%3B%0A%0A%20%20%20%20%20%20%20%20%0A%20%20%20%20%0A%20%20%20%20%0A%20%20%20%20%20%20%20%20%20%20%20%20var%20marker_50b88ed9aeb74942b547226f367aaf29%20%3D%20L.marker%28%0A%20%20%20%20%20%20%20%20%20%20%20%20%20%20%20%20%5B43.76800359%2C%2011.24089635%5D%2C%0A%20%20%20%20%20%20%20%20%20%20%20%20%20%20%20%20%7B%7D%0A%20%20%20%20%20%20%20%20%20%20%20%20%29.addTo%28map_cb5ddea0a149466984ccacda88dfafab%29%3B%0A%20%20%20%20%20%20%20%20%0A%20%20%20%20%0A%20%20%20%20%20%20%20%20var%20popup_f14ab30918c748629bfc9184f05755f4%20%3D%20L.popup%28%7B%22maxWidth%22%3A%20%22100%25%22%7D%29%3B%0A%0A%20%20%20%20%20%20%20%20%0A%20%20%20%20%20%20%20%20%20%20%20%20var%20html_73da9b1c47624b0a9282fe2be4c2b97c%20%3D%20%24%28%60%3Cdiv%20id%3D%22html_73da9b1c47624b0a9282fe2be4c2b97c%22%20style%3D%22width%3A%20100.0%25%3B%20height%3A%20100.0%25%3B%22%3E%20%20%20%20%20%20%20%20%20%3Cul%3E%20%20%20%20%20%20%20%20%20%20%20%20%20%3Cli%3E%3Cstrong%3EID%3A%20%3C/strong%3E8102%3C/li%3E%20%20%20%20%20%20%20%20%20%20%20%20%20%3Cli%3E%3Cstrong%3ESource%3A%20%3C/strong%3EHenderson%20P%26C%20%23147%3C/li%3E%20%20%20%20%20%20%20%20%20%20%20%20%20%3Cli%3E%3Cstrong%3EName%3A%20%3C/strong%3EFrancesco%20di%20Salvestro%3C/li%3E%20%20%20%20%20%20%20%20%20%3Cul%3E%20%20%20%20%20%3C/div%3E%60%29%5B0%5D%3B%0A%20%20%20%20%20%20%20%20%20%20%20%20popup_f14ab30918c748629bfc9184f05755f4.setContent%28html_73da9b1c47624b0a9282fe2be4c2b97c%29%3B%0A%20%20%20%20%20%20%20%20%0A%0A%20%20%20%20%20%20%20%20marker_50b88ed9aeb74942b547226f367aaf29.bindPopup%28popup_f14ab30918c748629bfc9184f05755f4%29%0A%20%20%20%20%20%20%20%20%3B%0A%0A%20%20%20%20%20%20%20%20%0A%20%20%20%20%0A%20%20%20%20%0A%20%20%20%20%20%20%20%20%20%20%20%20var%20marker_f93247edc9b247239a76b7bd6d943e19%20%3D%20L.marker%28%0A%20%20%20%20%20%20%20%20%20%20%20%20%20%20%20%20%5B43.770728%2C%2011.270409%5D%2C%0A%20%20%20%20%20%20%20%20%20%20%20%20%20%20%20%20%7B%7D%0A%20%20%20%20%20%20%20%20%20%20%20%20%29.addTo%28map_cb5ddea0a149466984ccacda88dfafab%29%3B%0A%20%20%20%20%20%20%20%20%0A%20%20%20%20%0A%20%20%20%20%20%20%20%20var%20popup_42996d12fcd74261a34d2e00ea2a70f6%20%3D%20L.popup%28%7B%22maxWidth%22%3A%20%22100%25%22%7D%29%3B%0A%0A%20%20%20%20%20%20%20%20%0A%20%20%20%20%20%20%20%20%20%20%20%20var%20html_e1edc052bb0443e2b4da503286c1bd52%20%3D%20%24%28%60%3Cdiv%20id%3D%22html_e1edc052bb0443e2b4da503286c1bd52%22%20style%3D%22width%3A%20100.0%25%3B%20height%3A%20100.0%25%3B%22%3E%20%20%20%20%20%20%20%20%20%3Cul%3E%20%20%20%20%20%20%20%20%20%20%20%20%20%3Cli%3E%3Cstrong%3EID%3A%20%3C/strong%3E2030%3C/li%3E%20%20%20%20%20%20%20%20%20%20%20%20%20%3Cli%3E%3Cstrong%3ESource%3A%20%3C/strong%3EHenderson%20P%26C%20%23105%20%5Bor%20121%5D%3C/li%3E%20%20%20%20%20%20%20%20%20%20%20%20%20%3Cli%3E%3Cstrong%3EName%3A%20%3C/strong%3EDomenico%20di%20Jacopo%20Santini%3C/li%3E%20%20%20%20%20%20%20%20%20%3Cul%3E%20%20%20%20%20%3C/div%3E%60%29%5B0%5D%3B%0A%20%20%20%20%20%20%20%20%20%20%20%20popup_42996d12fcd74261a34d2e00ea2a70f6.setContent%28html_e1edc052bb0443e2b4da503286c1bd52%29%3B%0A%20%20%20%20%20%20%20%20%0A%0A%20%20%20%20%20%20%20%20marker_f93247edc9b247239a76b7bd6d943e19.bindPopup%28popup_42996d12fcd74261a34d2e00ea2a70f6%29%0A%20%20%20%20%20%20%20%20%3B%0A%0A%20%20%20%20%20%20%20%20%0A%20%20%20%20%0A%20%20%20%20%0A%20%20%20%20%20%20%20%20%20%20%20%20var%20marker_2b4f9bc183474730ad07adaaafa10088%20%3D%20L.marker%28%0A%20%20%20%20%20%20%20%20%20%20%20%20%20%20%20%20%5B43.77714732%2C%2011.25429326%5D%2C%0A%20%20%20%20%20%20%20%20%20%20%20%20%20%20%20%20%7B%7D%0A%20%20%20%20%20%20%20%20%20%20%20%20%29.addTo%28map_cb5ddea0a149466984ccacda88dfafab%29%3B%0A%20%20%20%20%20%20%20%20%0A%20%20%20%20%0A%20%20%20%20%20%20%20%20var%20popup_3720769561e447d9b2ce597a80633505%20%3D%20L.popup%28%7B%22maxWidth%22%3A%20%22100%25%22%7D%29%3B%0A%0A%20%20%20%20%20%20%20%20%0A%20%20%20%20%20%20%20%20%20%20%20%20var%20html_6a154211ec4742f5ba2652e4fb6cb567%20%3D%20%24%28%60%3Cdiv%20id%3D%22html_6a154211ec4742f5ba2652e4fb6cb567%22%20style%3D%22width%3A%20100.0%25%3B%20height%3A%20100.0%25%3B%22%3E%20%20%20%20%20%20%20%20%20%3Cul%3E%20%20%20%20%20%20%20%20%20%20%20%20%20%3Cli%3E%3Cstrong%3EID%3A%20%3C/strong%3E400%3C/li%3E%20%20%20%20%20%20%20%20%20%20%20%20%20%3Cli%3E%3Cstrong%3ESource%3A%20%3C/strong%3EHenderson%20P%26C%20%2342%3C/li%3E%20%20%20%20%20%20%20%20%20%20%20%20%20%3Cli%3E%3Cstrong%3EName%3A%20%3C/strong%3EGiovanni%20di%20Raffaello%2C%20rivenditore%3C/li%3E%20%20%20%20%20%20%20%20%20%3Cul%3E%20%20%20%20%20%3C/div%3E%60%29%5B0%5D%3B%0A%20%20%20%20%20%20%20%20%20%20%20%20popup_3720769561e447d9b2ce597a80633505.setContent%28html_6a154211ec4742f5ba2652e4fb6cb567%29%3B%0A%20%20%20%20%20%20%20%20%0A%0A%20%20%20%20%20%20%20%20marker_2b4f9bc183474730ad07adaaafa10088.bindPopup%28popup_3720769561e447d9b2ce597a80633505%29%0A%20%20%20%20%20%20%20%20%3B%0A%0A%20%20%20%20%20%20%20%20%0A%20%20%20%20%0A%20%20%20%20%0A%20%20%20%20%20%20%20%20%20%20%20%20var%20marker_2aea598873984bd285cb4d45cdc4b186%20%3D%20L.marker%28%0A%20%20%20%20%20%20%20%20%20%20%20%20%20%20%20%20%5B43.78140888%2C%2011.260031%5D%2C%0A%20%20%20%20%20%20%20%20%20%20%20%20%20%20%20%20%7B%7D%0A%20%20%20%20%20%20%20%20%20%20%20%20%29.addTo%28map_cb5ddea0a149466984ccacda88dfafab%29%3B%0A%20%20%20%20%20%20%20%20%0A%20%20%20%20%0A%20%20%20%20%20%20%20%20var%20popup_a8d53c7a6ee84105a89b702cbd42b537%20%3D%20L.popup%28%7B%22maxWidth%22%3A%20%22100%25%22%7D%29%3B%0A%0A%20%20%20%20%20%20%20%20%0A%20%20%20%20%20%20%20%20%20%20%20%20var%20html_eb87dafe25bd443293a809863e4c2750%20%3D%20%24%28%60%3Cdiv%20id%3D%22html_eb87dafe25bd443293a809863e4c2750%22%20style%3D%22width%3A%20100.0%25%3B%20height%3A%20100.0%25%3B%22%3E%20%20%20%20%20%20%20%20%20%3Cul%3E%20%20%20%20%20%20%20%20%20%20%20%20%20%3Cli%3E%3Cstrong%3EID%3A%20%3C/strong%3E1098%3C/li%3E%20%20%20%20%20%20%20%20%20%20%20%20%20%3Cli%3E%3Cstrong%3ESource%3A%20%3C/strong%3EHenderson%20P%26C%20%2353%3C/li%3E%20%20%20%20%20%20%20%20%20%20%20%20%20%3Cli%3E%3Cstrong%3EName%3A%20%3C/strong%3ELorenzo%20di%20%5BBastiano%5D%2C%20battilano%3C/li%3E%20%20%20%20%20%20%20%20%20%3Cul%3E%20%20%20%20%20%3C/div%3E%60%29%5B0%5D%3B%0A%20%20%20%20%20%20%20%20%20%20%20%20popup_a8d53c7a6ee84105a89b702cbd42b537.setContent%28html_eb87dafe25bd443293a809863e4c2750%29%3B%0A%20%20%20%20%20%20%20%20%0A%0A%20%20%20%20%20%20%20%20marker_2aea598873984bd285cb4d45cdc4b186.bindPopup%28popup_a8d53c7a6ee84105a89b702cbd42b537%29%0A%20%20%20%20%20%20%20%20%3B%0A%0A%20%20%20%20%20%20%20%20%0A%20%20%20%20%0A%20%20%20%20%0A%20%20%20%20%20%20%20%20%20%20%20%20var%20marker_e2ae987aee634b87b4759b69d594e0fc%20%3D%20L.marker%28%0A%20%20%20%20%20%20%20%20%20%20%20%20%20%20%20%20%5B43.76968667%2C%2011.242858%5D%2C%0A%20%20%20%20%20%20%20%20%20%20%20%20%20%20%20%20%7B%7D%0A%20%20%20%20%20%20%20%20%20%20%20%20%29.addTo%28map_cb5ddea0a149466984ccacda88dfafab%29%3B%0A%20%20%20%20%20%20%20%20%0A%20%20%20%20%0A%20%20%20%20%20%20%20%20var%20popup_ebdd18edafb54503aebb128b0f970b3c%20%3D%20L.popup%28%7B%22maxWidth%22%3A%20%22100%25%22%7D%29%3B%0A%0A%20%20%20%20%20%20%20%20%0A%20%20%20%20%20%20%20%20%20%20%20%20var%20html_21a2b0657fb244e0bd8c277ddfc44adf%20%3D%20%24%28%60%3Cdiv%20id%3D%22html_21a2b0657fb244e0bd8c277ddfc44adf%22%20style%3D%22width%3A%20100.0%25%3B%20height%3A%20100.0%25%3B%22%3E%20%20%20%20%20%20%20%20%20%3Cul%3E%20%20%20%20%20%20%20%20%20%20%20%20%20%3Cli%3E%3Cstrong%3EID%3A%20%3C/strong%3E8063%3C/li%3E%20%20%20%20%20%20%20%20%20%20%20%20%20%3Cli%3E%3Cstrong%3ESource%3A%20%3C/strong%3Enan%3C/li%3E%20%20%20%20%20%20%20%20%20%20%20%20%20%3Cli%3E%3Cstrong%3EName%3A%20%3C/strong%3EBartolomeo%20di%20Francesco%20d%27%20Arezzo%3C/li%3E%20%20%20%20%20%20%20%20%20%3Cul%3E%20%20%20%20%20%3C/div%3E%60%29%5B0%5D%3B%0A%20%20%20%20%20%20%20%20%20%20%20%20popup_ebdd18edafb54503aebb128b0f970b3c.setContent%28html_21a2b0657fb244e0bd8c277ddfc44adf%29%3B%0A%20%20%20%20%20%20%20%20%0A%0A%20%20%20%20%20%20%20%20marker_e2ae987aee634b87b4759b69d594e0fc.bindPopup%28popup_ebdd18edafb54503aebb128b0f970b3c%29%0A%20%20%20%20%20%20%20%20%3B%0A%0A%20%20%20%20%20%20%20%20%0A%20%20%20%20%0A%20%20%20%20%0A%20%20%20%20%20%20%20%20%20%20%20%20var%20marker_77a8eb2b2386401abd13645673f0dbbd%20%3D%20L.marker%28%0A%20%20%20%20%20%20%20%20%20%20%20%20%20%20%20%20%5B43.763872%2C%2011.245746%5D%2C%0A%20%20%20%20%20%20%20%20%20%20%20%20%20%20%20%20%7B%7D%0A%20%20%20%20%20%20%20%20%20%20%20%20%29.addTo%28map_cb5ddea0a149466984ccacda88dfafab%29%3B%0A%20%20%20%20%20%20%20%20%0A%20%20%20%20%0A%20%20%20%20%20%20%20%20var%20popup_8ed3eccffdb24715a66e469a9a545f77%20%3D%20L.popup%28%7B%22maxWidth%22%3A%20%22100%25%22%7D%29%3B%0A%0A%20%20%20%20%20%20%20%20%0A%20%20%20%20%20%20%20%20%20%20%20%20var%20html_8e0d9f932a9c46bda08ccf43e320054d%20%3D%20%24%28%60%3Cdiv%20id%3D%22html_8e0d9f932a9c46bda08ccf43e320054d%22%20style%3D%22width%3A%20100.0%25%3B%20height%3A%20100.0%25%3B%22%3E%20%20%20%20%20%20%20%20%20%3Cul%3E%20%20%20%20%20%20%20%20%20%20%20%20%20%3Cli%3E%3Cstrong%3EID%3A%20%3C/strong%3E7160%3C/li%3E%20%20%20%20%20%20%20%20%20%20%20%20%20%3Cli%3E%3Cstrong%3ESource%3A%20%3C/strong%3EHenderson%20P%26C%20%2313%3C/li%3E%20%20%20%20%20%20%20%20%20%20%20%20%20%3Cli%3E%3Cstrong%3EName%3A%20%3C/strong%3EAgnolo%20d%27%20Andrea%20da%20Mantozia%3C/li%3E%20%20%20%20%20%20%20%20%20%3Cul%3E%20%20%20%20%20%3C/div%3E%60%29%5B0%5D%3B%0A%20%20%20%20%20%20%20%20%20%20%20%20popup_8ed3eccffdb24715a66e469a9a545f77.setContent%28html_8e0d9f932a9c46bda08ccf43e320054d%29%3B%0A%20%20%20%20%20%20%20%20%0A%0A%20%20%20%20%20%20%20%20marker_77a8eb2b2386401abd13645673f0dbbd.bindPopup%28popup_8ed3eccffdb24715a66e469a9a545f77%29%0A%20%20%20%20%20%20%20%20%3B%0A%0A%20%20%20%20%20%20%20%20%0A%20%20%20%20%0A%20%20%20%20%0A%20%20%20%20%20%20%20%20%20%20%20%20var%20marker_039c04394b7d499e9bca8c7f5a1c7fc0%20%3D%20L.marker%28%0A%20%20%20%20%20%20%20%20%20%20%20%20%20%20%20%20%5B43.76521889%2C%2011.24484333%5D%2C%0A%20%20%20%20%20%20%20%20%20%20%20%20%20%20%20%20%7B%7D%0A%20%20%20%20%20%20%20%20%20%20%20%20%29.addTo%28map_cb5ddea0a149466984ccacda88dfafab%29%3B%0A%20%20%20%20%20%20%20%20%0A%20%20%20%20%0A%20%20%20%20%20%20%20%20var%20popup_e2fc5402c6bc45d99ef1bcb61f521320%20%3D%20L.popup%28%7B%22maxWidth%22%3A%20%22100%25%22%7D%29%3B%0A%0A%20%20%20%20%20%20%20%20%0A%20%20%20%20%20%20%20%20%20%20%20%20var%20html_b37b1f5b2c074d6283cb788a5172d86f%20%3D%20%24%28%60%3Cdiv%20id%3D%22html_b37b1f5b2c074d6283cb788a5172d86f%22%20style%3D%22width%3A%20100.0%25%3B%20height%3A%20100.0%25%3B%22%3E%20%20%20%20%20%20%20%20%20%3Cul%3E%20%20%20%20%20%20%20%20%20%20%20%20%20%3Cli%3E%3Cstrong%3EID%3A%20%3C/strong%3E7322%3C/li%3E%20%20%20%20%20%20%20%20%20%20%20%20%20%3Cli%3E%3Cstrong%3ESource%3A%20%3C/strong%3EHenderson%20P%26C%20%2313%3C/li%3E%20%20%20%20%20%20%20%20%20%20%20%20%20%3Cli%3E%3Cstrong%3EName%3A%20%3C/strong%3EGiovanni%20Ormanni%20rividitore%3C/li%3E%20%20%20%20%20%20%20%20%20%3Cul%3E%20%20%20%20%20%3C/div%3E%60%29%5B0%5D%3B%0A%20%20%20%20%20%20%20%20%20%20%20%20popup_e2fc5402c6bc45d99ef1bcb61f521320.setContent%28html_b37b1f5b2c074d6283cb788a5172d86f%29%3B%0A%20%20%20%20%20%20%20%20%0A%0A%20%20%20%20%20%20%20%20marker_039c04394b7d499e9bca8c7f5a1c7fc0.bindPopup%28popup_e2fc5402c6bc45d99ef1bcb61f521320%29%0A%20%20%20%20%20%20%20%20%3B%0A%0A%20%20%20%20%20%20%20%20%0A%20%20%20%20%0A%20%20%20%20%0A%20%20%20%20%20%20%20%20%20%20%20%20var%20marker_543dfc3d36ab481fbd6c536529caa191%20%3D%20L.marker%28%0A%20%20%20%20%20%20%20%20%20%20%20%20%20%20%20%20%5B43.76386563%2C%2011.26206188%5D%2C%0A%20%20%20%20%20%20%20%20%20%20%20%20%20%20%20%20%7B%7D%0A%20%20%20%20%20%20%20%20%20%20%20%20%29.addTo%28map_cb5ddea0a149466984ccacda88dfafab%29%3B%0A%20%20%20%20%20%20%20%20%0A%20%20%20%20%0A%20%20%20%20%20%20%20%20var%20popup_088de632ae1d4eadaf42c4a950903698%20%3D%20L.popup%28%7B%22maxWidth%22%3A%20%22100%25%22%7D%29%3B%0A%0A%20%20%20%20%20%20%20%20%0A%20%20%20%20%20%20%20%20%20%20%20%20var%20html_8929aeb7172a42c4887235a3757ea1c5%20%3D%20%24%28%60%3Cdiv%20id%3D%22html_8929aeb7172a42c4887235a3757ea1c5%22%20style%3D%22width%3A%20100.0%25%3B%20height%3A%20100.0%25%3B%22%3E%20%20%20%20%20%20%20%20%20%3Cul%3E%20%20%20%20%20%20%20%20%20%20%20%20%20%3Cli%3E%3Cstrong%3EID%3A%20%3C/strong%3E6161%3C/li%3E%20%20%20%20%20%20%20%20%20%20%20%20%20%3Cli%3E%3Cstrong%3ESource%3A%20%3C/strong%3EHenderson%20P%26C%20%2313%3C/li%3E%20%20%20%20%20%20%20%20%20%20%20%20%20%3Cli%3E%3Cstrong%3EName%3A%20%3C/strong%3EAntonio%20di%20Domenico%20Palanti%3C/li%3E%20%20%20%20%20%20%20%20%20%3Cul%3E%20%20%20%20%20%3C/div%3E%60%29%5B0%5D%3B%0A%20%20%20%20%20%20%20%20%20%20%20%20popup_088de632ae1d4eadaf42c4a950903698.setContent%28html_8929aeb7172a42c4887235a3757ea1c5%29%3B%0A%20%20%20%20%20%20%20%20%0A%0A%20%20%20%20%20%20%20%20marker_543dfc3d36ab481fbd6c536529caa191.bindPopup%28popup_088de632ae1d4eadaf42c4a950903698%29%0A%20%20%20%20%20%20%20%20%3B%0A%0A%20%20%20%20%20%20%20%20%0A%20%20%20%20%0A%20%20%20%20%0A%20%20%20%20%20%20%20%20%20%20%20%20var%20marker_a8f302e948ae498bb32e5a9274874e68%20%3D%20L.marker%28%0A%20%20%20%20%20%20%20%20%20%20%20%20%20%20%20%20%5B43.78036243%2C%2011.25901252%5D%2C%0A%20%20%20%20%20%20%20%20%20%20%20%20%20%20%20%20%7B%7D%0A%20%20%20%20%20%20%20%20%20%20%20%20%29.addTo%28map_cb5ddea0a149466984ccacda88dfafab%29%3B%0A%20%20%20%20%20%20%20%20%0A%20%20%20%20%0A%20%20%20%20%20%20%20%20var%20popup_c46a1ab5b6a34ae688d209f6a44f7af9%20%3D%20L.popup%28%7B%22maxWidth%22%3A%20%22100%25%22%7D%29%3B%0A%0A%20%20%20%20%20%20%20%20%0A%20%20%20%20%20%20%20%20%20%20%20%20var%20html_a52dad44f673417694e4829da459af53%20%3D%20%24%28%60%3Cdiv%20id%3D%22html_a52dad44f673417694e4829da459af53%22%20style%3D%22width%3A%20100.0%25%3B%20height%3A%20100.0%25%3B%22%3E%20%20%20%20%20%20%20%20%20%3Cul%3E%20%20%20%20%20%20%20%20%20%20%20%20%20%3Cli%3E%3Cstrong%3EID%3A%20%3C/strong%3E1203%3C/li%3E%20%20%20%20%20%20%20%20%20%20%20%20%20%3Cli%3E%3Cstrong%3ESource%3A%20%3C/strong%3Enan%3C/li%3E%20%20%20%20%20%20%20%20%20%20%20%20%20%3Cli%3E%3Cstrong%3EName%3A%20%3C/strong%3ELucca%20di%20Stefano%20dal%20Borgo%20a%20S.%20Lorenzo%2C%20calzolaio%3C/li%3E%20%20%20%20%20%20%20%20%20%3Cul%3E%20%20%20%20%20%3C/div%3E%60%29%5B0%5D%3B%0A%20%20%20%20%20%20%20%20%20%20%20%20popup_c46a1ab5b6a34ae688d209f6a44f7af9.setContent%28html_a52dad44f673417694e4829da459af53%29%3B%0A%20%20%20%20%20%20%20%20%0A%0A%20%20%20%20%20%20%20%20marker_a8f302e948ae498bb32e5a9274874e68.bindPopup%28popup_c46a1ab5b6a34ae688d209f6a44f7af9%29%0A%20%20%20%20%20%20%20%20%3B%0A%0A%20%20%20%20%20%20%20%20%0A%20%20%20%20%0A%20%20%20%20%0A%20%20%20%20%20%20%20%20%20%20%20%20var%20marker_0af878c33f5243e391562660040f6a9f%20%3D%20L.marker%28%0A%20%20%20%20%20%20%20%20%20%20%20%20%20%20%20%20%5B43.77592314%2C%2011.24932725%5D%2C%0A%20%20%20%20%20%20%20%20%20%20%20%20%20%20%20%20%7B%7D%0A%20%20%20%20%20%20%20%20%20%20%20%20%29.addTo%28map_cb5ddea0a149466984ccacda88dfafab%29%3B%0A%20%20%20%20%20%20%20%20%0A%20%20%20%20%0A%20%20%20%20%20%20%20%20var%20popup_0d61aee9df26421e815ac2b5787e4d81%20%3D%20L.popup%28%7B%22maxWidth%22%3A%20%22100%25%22%7D%29%3B%0A%0A%20%20%20%20%20%20%20%20%0A%20%20%20%20%20%20%20%20%20%20%20%20var%20html_dfe108f05fed4f238d1e48560c5830c7%20%3D%20%24%28%60%3Cdiv%20id%3D%22html_dfe108f05fed4f238d1e48560c5830c7%22%20style%3D%22width%3A%20100.0%25%3B%20height%3A%20100.0%25%3B%22%3E%20%20%20%20%20%20%20%20%20%3Cul%3E%20%20%20%20%20%20%20%20%20%20%20%20%20%3Cli%3E%3Cstrong%3EID%3A%20%3C/strong%3E4441%3C/li%3E%20%20%20%20%20%20%20%20%20%20%20%20%20%3Cli%3E%3Cstrong%3ESource%3A%20%3C/strong%3Enan%3C/li%3E%20%20%20%20%20%20%20%20%20%20%20%20%20%3Cli%3E%3Cstrong%3EName%3A%20%3C/strong%3EGirolamo%20di%20Bencio%20Benci%3C/li%3E%20%20%20%20%20%20%20%20%20%3Cul%3E%20%20%20%20%20%3C/div%3E%60%29%5B0%5D%3B%0A%20%20%20%20%20%20%20%20%20%20%20%20popup_0d61aee9df26421e815ac2b5787e4d81.setContent%28html_dfe108f05fed4f238d1e48560c5830c7%29%3B%0A%20%20%20%20%20%20%20%20%0A%0A%20%20%20%20%20%20%20%20marker_0af878c33f5243e391562660040f6a9f.bindPopup%28popup_0d61aee9df26421e815ac2b5787e4d81%29%0A%20%20%20%20%20%20%20%20%3B%0A%0A%20%20%20%20%20%20%20%20%0A%20%20%20%20%0A%20%20%20%20%0A%20%20%20%20%20%20%20%20%20%20%20%20var%20marker_3271a76a2cc74b1a8ae8a4399a8bb0a0%20%3D%20L.marker%28%0A%20%20%20%20%20%20%20%20%20%20%20%20%20%20%20%20%5B43.77368155%2C%2011.26281945%5D%2C%0A%20%20%20%20%20%20%20%20%20%20%20%20%20%20%20%20%7B%7D%0A%20%20%20%20%20%20%20%20%20%20%20%20%29.addTo%28map_cb5ddea0a149466984ccacda88dfafab%29%3B%0A%20%20%20%20%20%20%20%20%0A%20%20%20%20%0A%20%20%20%20%20%20%20%20var%20popup_5e4d2f49df2446ec9d644ba5f468f1da%20%3D%20L.popup%28%7B%22maxWidth%22%3A%20%22100%25%22%7D%29%3B%0A%0A%20%20%20%20%20%20%20%20%0A%20%20%20%20%20%20%20%20%20%20%20%20var%20html_346a41f0bafb498e902d36660b01dd18%20%3D%20%24%28%60%3Cdiv%20id%3D%22html_346a41f0bafb498e902d36660b01dd18%22%20style%3D%22width%3A%20100.0%25%3B%20height%3A%20100.0%25%3B%22%3E%20%20%20%20%20%20%20%20%20%3Cul%3E%20%20%20%20%20%20%20%20%20%20%20%20%20%3Cli%3E%3Cstrong%3EID%3A%20%3C/strong%3E2088%3C/li%3E%20%20%20%20%20%20%20%20%20%20%20%20%20%3Cli%3E%3Cstrong%3ESource%3A%20%3C/strong%3Enan%3C/li%3E%20%20%20%20%20%20%20%20%20%20%20%20%20%3Cli%3E%3Cstrong%3EName%3A%20%3C/strong%3EGiovangualberto%20di%20Jacopo%2C%20tessitore%3C/li%3E%20%20%20%20%20%20%20%20%20%3Cul%3E%20%20%20%20%20%3C/div%3E%60%29%5B0%5D%3B%0A%20%20%20%20%20%20%20%20%20%20%20%20popup_5e4d2f49df2446ec9d644ba5f468f1da.setContent%28html_346a41f0bafb498e902d36660b01dd18%29%3B%0A%20%20%20%20%20%20%20%20%0A%0A%20%20%20%20%20%20%20%20marker_3271a76a2cc74b1a8ae8a4399a8bb0a0.bindPopup%28popup_5e4d2f49df2446ec9d644ba5f468f1da%29%0A%20%20%20%20%20%20%20%20%3B%0A%0A%20%20%20%20%20%20%20%20%0A%20%20%20%20%0A%20%20%20%20%0A%20%20%20%20%20%20%20%20%20%20%20%20var%20marker_83682d9fbbf9401d904c6c6dd0b75df4%20%3D%20L.marker%28%0A%20%20%20%20%20%20%20%20%20%20%20%20%20%20%20%20%5B43.76489%2C%2011.244635%5D%2C%0A%20%20%20%20%20%20%20%20%20%20%20%20%20%20%20%20%7B%7D%0A%20%20%20%20%20%20%20%20%20%20%20%20%29.addTo%28map_cb5ddea0a149466984ccacda88dfafab%29%3B%0A%20%20%20%20%20%20%20%20%0A%20%20%20%20%0A%20%20%20%20%20%20%20%20var%20popup_5df00efa7e644b31bfef990214dbb8f4%20%3D%20L.popup%28%7B%22maxWidth%22%3A%20%22100%25%22%7D%29%3B%0A%0A%20%20%20%20%20%20%20%20%0A%20%20%20%20%20%20%20%20%20%20%20%20var%20html_b125d4a7facb4dee8fd1a86fadfc316e%20%3D%20%24%28%60%3Cdiv%20id%3D%22html_b125d4a7facb4dee8fd1a86fadfc316e%22%20style%3D%22width%3A%20100.0%25%3B%20height%3A%20100.0%25%3B%22%3E%20%20%20%20%20%20%20%20%20%3Cul%3E%20%20%20%20%20%20%20%20%20%20%20%20%20%3Cli%3E%3Cstrong%3EID%3A%20%3C/strong%3E7389%3C/li%3E%20%20%20%20%20%20%20%20%20%20%20%20%20%3Cli%3E%3Cstrong%3ESource%3A%20%3C/strong%3EHenderson%20P%26C%20%23110%3C/li%3E%20%20%20%20%20%20%20%20%20%20%20%20%20%3Cli%3E%3Cstrong%3EName%3A%20%3C/strong%3EPiero%20di%20Bastiano%20pettinagnolo%3C/li%3E%20%20%20%20%20%20%20%20%20%3Cul%3E%20%20%20%20%20%3C/div%3E%60%29%5B0%5D%3B%0A%20%20%20%20%20%20%20%20%20%20%20%20popup_5df00efa7e644b31bfef990214dbb8f4.setContent%28html_b125d4a7facb4dee8fd1a86fadfc316e%29%3B%0A%20%20%20%20%20%20%20%20%0A%0A%20%20%20%20%20%20%20%20marker_83682d9fbbf9401d904c6c6dd0b75df4.bindPopup%28popup_5df00efa7e644b31bfef990214dbb8f4%29%0A%20%20%20%20%20%20%20%20%3B%0A%0A%20%20%20%20%20%20%20%20%0A%20%20%20%20%0A%20%20%20%20%0A%20%20%20%20%20%20%20%20%20%20%20%20var%20marker_acfd6e52633641cc816a5212acc2a3d1%20%3D%20L.marker%28%0A%20%20%20%20%20%20%20%20%20%20%20%20%20%20%20%20%5B43.76512667%2C%2011.24469333%5D%2C%0A%20%20%20%20%20%20%20%20%20%20%20%20%20%20%20%20%7B%7D%0A%20%20%20%20%20%20%20%20%20%20%20%20%29.addTo%28map_cb5ddea0a149466984ccacda88dfafab%29%3B%0A%20%20%20%20%20%20%20%20%0A%20%20%20%20%0A%20%20%20%20%20%20%20%20var%20popup_e506d9d7afd14ee299aa5ab3d02c6539%20%3D%20L.popup%28%7B%22maxWidth%22%3A%20%22100%25%22%7D%29%3B%0A%0A%20%20%20%20%20%20%20%20%0A%20%20%20%20%20%20%20%20%20%20%20%20var%20html_463c8e0281f34e1690191b328d84242a%20%3D%20%24%28%60%3Cdiv%20id%3D%22html_463c8e0281f34e1690191b328d84242a%22%20style%3D%22width%3A%20100.0%25%3B%20height%3A%20100.0%25%3B%22%3E%20%20%20%20%20%20%20%20%20%3Cul%3E%20%20%20%20%20%20%20%20%20%20%20%20%20%3Cli%3E%3Cstrong%3EID%3A%20%3C/strong%3E7447%3C/li%3E%20%20%20%20%20%20%20%20%20%20%20%20%20%3Cli%3E%3Cstrong%3ESource%3A%20%3C/strong%3EHenderson%20P%26C%20%23110%3C/li%3E%20%20%20%20%20%20%20%20%20%20%20%20%20%3Cli%3E%3Cstrong%3EName%3A%20%3C/strong%3E.%20.%20.%20%20tessitore%20de%20broccati%3C/li%3E%20%20%20%20%20%20%20%20%20%3Cul%3E%20%20%20%20%20%3C/div%3E%60%29%5B0%5D%3B%0A%20%20%20%20%20%20%20%20%20%20%20%20popup_e506d9d7afd14ee299aa5ab3d02c6539.setContent%28html_463c8e0281f34e1690191b328d84242a%29%3B%0A%20%20%20%20%20%20%20%20%0A%0A%20%20%20%20%20%20%20%20marker_acfd6e52633641cc816a5212acc2a3d1.bindPopup%28popup_e506d9d7afd14ee299aa5ab3d02c6539%29%0A%20%20%20%20%20%20%20%20%3B%0A%0A%20%20%20%20%20%20%20%20%0A%20%20%20%20%0A%20%20%20%20%0A%20%20%20%20%20%20%20%20%20%20%20%20var%20marker_42e9b7c16cd14116a7fa54134ba8d4ac%20%3D%20L.marker%28%0A%20%20%20%20%20%20%20%20%20%20%20%20%20%20%20%20%5B43.767224%2C%2011.2454736%5D%2C%0A%20%20%20%20%20%20%20%20%20%20%20%20%20%20%20%20%7B%7D%0A%20%20%20%20%20%20%20%20%20%20%20%20%29.addTo%28map_cb5ddea0a149466984ccacda88dfafab%29%3B%0A%20%20%20%20%20%20%20%20%0A%20%20%20%20%0A%20%20%20%20%20%20%20%20var%20popup_7808941e55724c1eb507780bd817593f%20%3D%20L.popup%28%7B%22maxWidth%22%3A%20%22100%25%22%7D%29%3B%0A%0A%20%20%20%20%20%20%20%20%0A%20%20%20%20%20%20%20%20%20%20%20%20var%20html_cccfc88fb4d14d708e41380830982682%20%3D%20%24%28%60%3Cdiv%20id%3D%22html_cccfc88fb4d14d708e41380830982682%22%20style%3D%22width%3A%20100.0%25%3B%20height%3A%20100.0%25%3B%22%3E%20%20%20%20%20%20%20%20%20%3Cul%3E%20%20%20%20%20%20%20%20%20%20%20%20%20%3Cli%3E%3Cstrong%3EID%3A%20%3C/strong%3E7555%3C/li%3E%20%20%20%20%20%20%20%20%20%20%20%20%20%3Cli%3E%3Cstrong%3ESource%3A%20%3C/strong%3EHenderson%20P%26C%20%23110%3C/li%3E%20%20%20%20%20%20%20%20%20%20%20%20%20%3Cli%3E%3Cstrong%3EName%3A%20%3C/strong%3EBernardo%20d%27%20Antonio%20Mazzochi%3C/li%3E%20%20%20%20%20%20%20%20%20%3Cul%3E%20%20%20%20%20%3C/div%3E%60%29%5B0%5D%3B%0A%20%20%20%20%20%20%20%20%20%20%20%20popup_7808941e55724c1eb507780bd817593f.setContent%28html_cccfc88fb4d14d708e41380830982682%29%3B%0A%20%20%20%20%20%20%20%20%0A%0A%20%20%20%20%20%20%20%20marker_42e9b7c16cd14116a7fa54134ba8d4ac.bindPopup%28popup_7808941e55724c1eb507780bd817593f%29%0A%20%20%20%20%20%20%20%20%3B%0A%0A%20%20%20%20%20%20%20%20%0A%20%20%20%20%0A%20%20%20%20%0A%20%20%20%20%20%20%20%20%20%20%20%20var%20marker_b77d13e7366348fcb09947e7bcca015b%20%3D%20L.marker%28%0A%20%20%20%20%20%20%20%20%20%20%20%20%20%20%20%20%5B43.76836733%2C%2011.26484133%5D%2C%0A%20%20%20%20%20%20%20%20%20%20%20%20%20%20%20%20%7B%7D%0A%20%20%20%20%20%20%20%20%20%20%20%20%29.addTo%28map_cb5ddea0a149466984ccacda88dfafab%29%3B%0A%20%20%20%20%20%20%20%20%0A%20%20%20%20%0A%20%20%20%20%20%20%20%20var%20popup_e41a046914284d4b9c95efdf044283bb%20%3D%20L.popup%28%7B%22maxWidth%22%3A%20%22100%25%22%7D%29%3B%0A%0A%20%20%20%20%20%20%20%20%0A%20%20%20%20%20%20%20%20%20%20%20%20var%20html_c838378c52a9494aaf3e29fc61b0b3db%20%3D%20%24%28%60%3Cdiv%20id%3D%22html_c838378c52a9494aaf3e29fc61b0b3db%22%20style%3D%22width%3A%20100.0%25%3B%20height%3A%20100.0%25%3B%22%3E%20%20%20%20%20%20%20%20%20%3Cul%3E%20%20%20%20%20%20%20%20%20%20%20%20%20%3Cli%3E%3Cstrong%3EID%3A%20%3C/strong%3E3069%3C/li%3E%20%20%20%20%20%20%20%20%20%20%20%20%20%3Cli%3E%3Cstrong%3ESource%3A%20%3C/strong%3EHenderson%20P%26C%20%23102%3C/li%3E%20%20%20%20%20%20%20%20%20%20%20%20%20%3Cli%3E%3Cstrong%3EName%3A%20%3C/strong%3Enan%3C/li%3E%20%20%20%20%20%20%20%20%20%3Cul%3E%20%20%20%20%20%3C/div%3E%60%29%5B0%5D%3B%0A%20%20%20%20%20%20%20%20%20%20%20%20popup_e41a046914284d4b9c95efdf044283bb.setContent%28html_c838378c52a9494aaf3e29fc61b0b3db%29%3B%0A%20%20%20%20%20%20%20%20%0A%0A%20%20%20%20%20%20%20%20marker_b77d13e7366348fcb09947e7bcca015b.bindPopup%28popup_e41a046914284d4b9c95efdf044283bb%29%0A%20%20%20%20%20%20%20%20%3B%0A%0A%20%20%20%20%20%20%20%20%0A%20%20%20%20%0A%20%20%20%20%0A%20%20%20%20%20%20%20%20%20%20%20%20var%20marker_73cded271524448cb265af37d9fe0520%20%3D%20L.marker%28%0A%20%20%20%20%20%20%20%20%20%20%20%20%20%20%20%20%5B43.76945%2C%2011.26547%5D%2C%0A%20%20%20%20%20%20%20%20%20%20%20%20%20%20%20%20%7B%7D%0A%20%20%20%20%20%20%20%20%20%20%20%20%29.addTo%28map_cb5ddea0a149466984ccacda88dfafab%29%3B%0A%20%20%20%20%20%20%20%20%0A%20%20%20%20%0A%20%20%20%20%20%20%20%20var%20popup_db7b0b59fb104c7998bb3addf26bf0a0%20%3D%20L.popup%28%7B%22maxWidth%22%3A%20%22100%25%22%7D%29%3B%0A%0A%20%20%20%20%20%20%20%20%0A%20%20%20%20%20%20%20%20%20%20%20%20var%20html_5fc27ebe59df443caeb2cd65a2b064aa%20%3D%20%24%28%60%3Cdiv%20id%3D%22html_5fc27ebe59df443caeb2cd65a2b064aa%22%20style%3D%22width%3A%20100.0%25%3B%20height%3A%20100.0%25%3B%22%3E%20%20%20%20%20%20%20%20%20%3Cul%3E%20%20%20%20%20%20%20%20%20%20%20%20%20%3Cli%3E%3Cstrong%3EID%3A%20%3C/strong%3E3071%3C/li%3E%20%20%20%20%20%20%20%20%20%20%20%20%20%3Cli%3E%3Cstrong%3ESource%3A%20%3C/strong%3EHenderson%20P%26C%20%23102%3C/li%3E%20%20%20%20%20%20%20%20%20%20%20%20%20%3Cli%3E%3Cstrong%3EName%3A%20%3C/strong%3ERomulo%20di%20Giovanni%2C%20beccaio%3C/li%3E%20%20%20%20%20%20%20%20%20%3Cul%3E%20%20%20%20%20%3C/div%3E%60%29%5B0%5D%3B%0A%20%20%20%20%20%20%20%20%20%20%20%20popup_db7b0b59fb104c7998bb3addf26bf0a0.setContent%28html_5fc27ebe59df443caeb2cd65a2b064aa%29%3B%0A%20%20%20%20%20%20%20%20%0A%0A%20%20%20%20%20%20%20%20marker_73cded271524448cb265af37d9fe0520.bindPopup%28popup_db7b0b59fb104c7998bb3addf26bf0a0%29%0A%20%20%20%20%20%20%20%20%3B%0A%0A%20%20%20%20%20%20%20%20%0A%20%20%20%20%0A%20%20%20%20%0A%20%20%20%20%20%20%20%20%20%20%20%20var%20marker_06ed7706e3ce4f0da93cf350a26cdc7f%20%3D%20L.marker%28%0A%20%20%20%20%20%20%20%20%20%20%20%20%20%20%20%20%5B43.76851667%2C%2011.26492667%5D%2C%0A%20%20%20%20%20%20%20%20%20%20%20%20%20%20%20%20%7B%7D%0A%20%20%20%20%20%20%20%20%20%20%20%20%29.addTo%28map_cb5ddea0a149466984ccacda88dfafab%29%3B%0A%20%20%20%20%20%20%20%20%0A%20%20%20%20%0A%20%20%20%20%20%20%20%20var%20popup_2e636dda18394f6ea239edc3e5a58e75%20%3D%20L.popup%28%7B%22maxWidth%22%3A%20%22100%25%22%7D%29%3B%0A%0A%20%20%20%20%20%20%20%20%0A%20%20%20%20%20%20%20%20%20%20%20%20var%20html_be59ab481546412ba86c4bf28dd9ad4c%20%3D%20%24%28%60%3Cdiv%20id%3D%22html_be59ab481546412ba86c4bf28dd9ad4c%22%20style%3D%22width%3A%20100.0%25%3B%20height%3A%20100.0%25%3B%22%3E%20%20%20%20%20%20%20%20%20%3Cul%3E%20%20%20%20%20%20%20%20%20%20%20%20%20%3Cli%3E%3Cstrong%3EID%3A%20%3C/strong%3E3155%3C/li%3E%20%20%20%20%20%20%20%20%20%20%20%20%20%3Cli%3E%3Cstrong%3ESource%3A%20%3C/strong%3EHenderson%20P%26C%20%23102%3C/li%3E%20%20%20%20%20%20%20%20%20%20%20%20%20%3Cli%3E%3Cstrong%3EName%3A%20%3C/strong%3EBartolomeo%2C%20servo%20della%20compagnia%2C%20detta%20senza%20pigione%3C/li%3E%20%20%20%20%20%20%20%20%20%3Cul%3E%20%20%20%20%20%3C/div%3E%60%29%5B0%5D%3B%0A%20%20%20%20%20%20%20%20%20%20%20%20popup_2e636dda18394f6ea239edc3e5a58e75.setContent%28html_be59ab481546412ba86c4bf28dd9ad4c%29%3B%0A%20%20%20%20%20%20%20%20%0A%0A%20%20%20%20%20%20%20%20marker_06ed7706e3ce4f0da93cf350a26cdc7f.bindPopup%28popup_2e636dda18394f6ea239edc3e5a58e75%29%0A%20%20%20%20%20%20%20%20%3B%0A%0A%20%20%20%20%20%20%20%20%0A%20%20%20%20%0A%20%20%20%20%0A%20%20%20%20%20%20%20%20%20%20%20%20var%20marker_c4e57136f2424589a1b2fa9e5f4cedab%20%3D%20L.marker%28%0A%20%20%20%20%20%20%20%20%20%20%20%20%20%20%20%20%5B43.768442%2C%2011.264884%5D%2C%0A%20%20%20%20%20%20%20%20%20%20%20%20%20%20%20%20%7B%7D%0A%20%20%20%20%20%20%20%20%20%20%20%20%29.addTo%28map_cb5ddea0a149466984ccacda88dfafab%29%3B%0A%20%20%20%20%20%20%20%20%0A%20%20%20%20%0A%20%20%20%20%20%20%20%20var%20popup_3c7dae6f70784ea79acb4a1c2b4dff6b%20%3D%20L.popup%28%7B%22maxWidth%22%3A%20%22100%25%22%7D%29%3B%0A%0A%20%20%20%20%20%20%20%20%0A%20%20%20%20%20%20%20%20%20%20%20%20var%20html_6c720d39a348432bbc30ae08abc1e9cf%20%3D%20%24%28%60%3Cdiv%20id%3D%22html_6c720d39a348432bbc30ae08abc1e9cf%22%20style%3D%22width%3A%20100.0%25%3B%20height%3A%20100.0%25%3B%22%3E%20%20%20%20%20%20%20%20%20%3Cul%3E%20%20%20%20%20%20%20%20%20%20%20%20%20%3Cli%3E%3Cstrong%3EID%3A%20%3C/strong%3E3156%3C/li%3E%20%20%20%20%20%20%20%20%20%20%20%20%20%3Cli%3E%3Cstrong%3ESource%3A%20%3C/strong%3EHenderson%20P%26C%20%23102%3C/li%3E%20%20%20%20%20%20%20%20%20%20%20%20%20%3Cli%3E%3Cstrong%3EName%3A%20%3C/strong%3Enan%3C/li%3E%20%20%20%20%20%20%20%20%20%3Cul%3E%20%20%20%20%20%3C/div%3E%60%29%5B0%5D%3B%0A%20%20%20%20%20%20%20%20%20%20%20%20popup_3c7dae6f70784ea79acb4a1c2b4dff6b.setContent%28html_6c720d39a348432bbc30ae08abc1e9cf%29%3B%0A%20%20%20%20%20%20%20%20%0A%0A%20%20%20%20%20%20%20%20marker_c4e57136f2424589a1b2fa9e5f4cedab.bindPopup%28popup_3c7dae6f70784ea79acb4a1c2b4dff6b%29%0A%20%20%20%20%20%20%20%20%3B%0A%0A%20%20%20%20%20%20%20%20%0A%20%20%20%20%0A%20%20%20%20%0A%20%20%20%20%20%20%20%20%20%20%20%20var%20marker_7a26f0bf433f4459a2226896204d9877%20%3D%20L.marker%28%0A%20%20%20%20%20%20%20%20%20%20%20%20%20%20%20%20%5B43.76833%2C%2011.26482%5D%2C%0A%20%20%20%20%20%20%20%20%20%20%20%20%20%20%20%20%7B%7D%0A%20%20%20%20%20%20%20%20%20%20%20%20%29.addTo%28map_cb5ddea0a149466984ccacda88dfafab%29%3B%0A%20%20%20%20%20%20%20%20%0A%20%20%20%20%0A%20%20%20%20%20%20%20%20var%20popup_a961c146243d41bf8ef077541525335b%20%3D%20L.popup%28%7B%22maxWidth%22%3A%20%22100%25%22%7D%29%3B%0A%0A%20%20%20%20%20%20%20%20%0A%20%20%20%20%20%20%20%20%20%20%20%20var%20html_c4673734af004e19a214f519e3c955aa%20%3D%20%24%28%60%3Cdiv%20id%3D%22html_c4673734af004e19a214f519e3c955aa%22%20style%3D%22width%3A%20100.0%25%3B%20height%3A%20100.0%25%3B%22%3E%20%20%20%20%20%20%20%20%20%3Cul%3E%20%20%20%20%20%20%20%20%20%20%20%20%20%3Cli%3E%3Cstrong%3EID%3A%20%3C/strong%3E3157%3C/li%3E%20%20%20%20%20%20%20%20%20%20%20%20%20%3Cli%3E%3Cstrong%3ESource%3A%20%3C/strong%3EHenderson%20P%26C%20%23102%3C/li%3E%20%20%20%20%20%20%20%20%20%20%20%20%20%3Cli%3E%3Cstrong%3EName%3A%20%3C/strong%3Enan%3C/li%3E%20%20%20%20%20%20%20%20%20%3Cul%3E%20%20%20%20%20%3C/div%3E%60%29%5B0%5D%3B%0A%20%20%20%20%20%20%20%20%20%20%20%20popup_a961c146243d41bf8ef077541525335b.setContent%28html_c4673734af004e19a214f519e3c955aa%29%3B%0A%20%20%20%20%20%20%20%20%0A%0A%20%20%20%20%20%20%20%20marker_7a26f0bf433f4459a2226896204d9877.bindPopup%28popup_a961c146243d41bf8ef077541525335b%29%0A%20%20%20%20%20%20%20%20%3B%0A%0A%20%20%20%20%20%20%20%20%0A%20%20%20%20%0A%20%20%20%20%0A%20%20%20%20%20%20%20%20%20%20%20%20var%20marker_bf762381b16d40d3bc433f45cb7c27f2%20%3D%20L.marker%28%0A%20%20%20%20%20%20%20%20%20%20%20%20%20%20%20%20%5B43.76821%2C%2011.26524%5D%2C%0A%20%20%20%20%20%20%20%20%20%20%20%20%20%20%20%20%7B%7D%0A%20%20%20%20%20%20%20%20%20%20%20%20%29.addTo%28map_cb5ddea0a149466984ccacda88dfafab%29%3B%0A%20%20%20%20%20%20%20%20%0A%20%20%20%20%0A%20%20%20%20%20%20%20%20var%20popup_aafe8676d55d4384acd36e8fbeb9afb2%20%3D%20L.popup%28%7B%22maxWidth%22%3A%20%22100%25%22%7D%29%3B%0A%0A%20%20%20%20%20%20%20%20%0A%20%20%20%20%20%20%20%20%20%20%20%20var%20html_fd091906eedb4c74b517d37a0229a282%20%3D%20%24%28%60%3Cdiv%20id%3D%22html_fd091906eedb4c74b517d37a0229a282%22%20style%3D%22width%3A%20100.0%25%3B%20height%3A%20100.0%25%3B%22%3E%20%20%20%20%20%20%20%20%20%3Cul%3E%20%20%20%20%20%20%20%20%20%20%20%20%20%3Cli%3E%3Cstrong%3EID%3A%20%3C/strong%3E3158%3C/li%3E%20%20%20%20%20%20%20%20%20%20%20%20%20%3Cli%3E%3Cstrong%3ESource%3A%20%3C/strong%3EHenderson%20P%26C%20%23102%3C/li%3E%20%20%20%20%20%20%20%20%20%20%20%20%20%3Cli%3E%3Cstrong%3EName%3A%20%3C/strong%3Enan%3C/li%3E%20%20%20%20%20%20%20%20%20%3Cul%3E%20%20%20%20%20%3C/div%3E%60%29%5B0%5D%3B%0A%20%20%20%20%20%20%20%20%20%20%20%20popup_aafe8676d55d4384acd36e8fbeb9afb2.setContent%28html_fd091906eedb4c74b517d37a0229a282%29%3B%0A%20%20%20%20%20%20%20%20%0A%0A%20%20%20%20%20%20%20%20marker_bf762381b16d40d3bc433f45cb7c27f2.bindPopup%28popup_aafe8676d55d4384acd36e8fbeb9afb2%29%0A%20%20%20%20%20%20%20%20%3B%0A%0A%20%20%20%20%20%20%20%20%0A%20%20%20%20%0A%20%20%20%20%0A%20%20%20%20%20%20%20%20%20%20%20%20var%20marker_e6e6f433f57d4f16838d05aef13893eb%20%3D%20L.marker%28%0A%20%20%20%20%20%20%20%20%20%20%20%20%20%20%20%20%5B43.77019%2C%2011.26441%5D%2C%0A%20%20%20%20%20%20%20%20%20%20%20%20%20%20%20%20%7B%7D%0A%20%20%20%20%20%20%20%20%20%20%20%20%29.addTo%28map_cb5ddea0a149466984ccacda88dfafab%29%3B%0A%20%20%20%20%20%20%20%20%0A%20%20%20%20%0A%20%20%20%20%20%20%20%20var%20popup_9eced5c52aef4bd280fa95f90a1c4b70%20%3D%20L.popup%28%7B%22maxWidth%22%3A%20%22100%25%22%7D%29%3B%0A%0A%20%20%20%20%20%20%20%20%0A%20%20%20%20%20%20%20%20%20%20%20%20var%20html_ad98b358ce634c349d3a5a7479f3a64b%20%3D%20%24%28%60%3Cdiv%20id%3D%22html_ad98b358ce634c349d3a5a7479f3a64b%22%20style%3D%22width%3A%20100.0%25%3B%20height%3A%20100.0%25%3B%22%3E%20%20%20%20%20%20%20%20%20%3Cul%3E%20%20%20%20%20%20%20%20%20%20%20%20%20%3Cli%3E%3Cstrong%3EID%3A%20%3C/strong%3E3177%3C/li%3E%20%20%20%20%20%20%20%20%20%20%20%20%20%3Cli%3E%3Cstrong%3ESource%3A%20%3C/strong%3EHenderson%20P%26C%20%23102%3C/li%3E%20%20%20%20%20%20%20%20%20%20%20%20%20%3Cli%3E%3Cstrong%3EName%3A%20%3C/strong%3EVincenzo%2C%20cartulaio%20Bolognese%3C/li%3E%20%20%20%20%20%20%20%20%20%3Cul%3E%20%20%20%20%20%3C/div%3E%60%29%5B0%5D%3B%0A%20%20%20%20%20%20%20%20%20%20%20%20popup_9eced5c52aef4bd280fa95f90a1c4b70.setContent%28html_ad98b358ce634c349d3a5a7479f3a64b%29%3B%0A%20%20%20%20%20%20%20%20%0A%0A%20%20%20%20%20%20%20%20marker_e6e6f433f57d4f16838d05aef13893eb.bindPopup%28popup_9eced5c52aef4bd280fa95f90a1c4b70%29%0A%20%20%20%20%20%20%20%20%3B%0A%0A%20%20%20%20%20%20%20%20%0A%20%20%20%20%0A%20%20%20%20%0A%20%20%20%20%20%20%20%20%20%20%20%20var%20marker_82e27a3ebad54a35927fd62d196d0f54%20%3D%20L.marker%28%0A%20%20%20%20%20%20%20%20%20%20%20%20%20%20%20%20%5B43.76840467%2C%2011.26486267%5D%2C%0A%20%20%20%20%20%20%20%20%20%20%20%20%20%20%20%20%7B%7D%0A%20%20%20%20%20%20%20%20%20%20%20%20%29.addTo%28map_cb5ddea0a149466984ccacda88dfafab%29%3B%0A%20%20%20%20%20%20%20%20%0A%20%20%20%20%0A%20%20%20%20%20%20%20%20var%20popup_194b10795a5f419696daeaaf6503c360%20%3D%20L.popup%28%7B%22maxWidth%22%3A%20%22100%25%22%7D%29%3B%0A%0A%20%20%20%20%20%20%20%20%0A%20%20%20%20%20%20%20%20%20%20%20%20var%20html_8d726c56e0b348318e5fb820d37b5c51%20%3D%20%24%28%60%3Cdiv%20id%3D%22html_8d726c56e0b348318e5fb820d37b5c51%22%20style%3D%22width%3A%20100.0%25%3B%20height%3A%20100.0%25%3B%22%3E%20%20%20%20%20%20%20%20%20%3Cul%3E%20%20%20%20%20%20%20%20%20%20%20%20%20%3Cli%3E%3Cstrong%3EID%3A%20%3C/strong%3E3194%3C/li%3E%20%20%20%20%20%20%20%20%20%20%20%20%20%3Cli%3E%3Cstrong%3ESource%3A%20%3C/strong%3EHenderson%20P%26C%20%23102%3C/li%3E%20%20%20%20%20%20%20%20%20%20%20%20%20%3Cli%3E%3Cstrong%3EName%3A%20%3C/strong%3EMona%20Lucia%20di%20Bastiano%20da%20%20Palazzuolo%3C/li%3E%20%20%20%20%20%20%20%20%20%3Cul%3E%20%20%20%20%20%3C/div%3E%60%29%5B0%5D%3B%0A%20%20%20%20%20%20%20%20%20%20%20%20popup_194b10795a5f419696daeaaf6503c360.setContent%28html_8d726c56e0b348318e5fb820d37b5c51%29%3B%0A%20%20%20%20%20%20%20%20%0A%0A%20%20%20%20%20%20%20%20marker_82e27a3ebad54a35927fd62d196d0f54.bindPopup%28popup_194b10795a5f419696daeaaf6503c360%29%0A%20%20%20%20%20%20%20%20%3B%0A%0A%20%20%20%20%20%20%20%20%0A%20%20%20%20%0A%20%20%20%20%0A%20%20%20%20%20%20%20%20%20%20%20%20var%20marker_936b2648cd664e4083f2f949c392113a%20%3D%20L.marker%28%0A%20%20%20%20%20%20%20%20%20%20%20%20%20%20%20%20%5B43.76829%2C%2011.26496%5D%2C%0A%20%20%20%20%20%20%20%20%20%20%20%20%20%20%20%20%7B%7D%0A%20%20%20%20%20%20%20%20%20%20%20%20%29.addTo%28map_cb5ddea0a149466984ccacda88dfafab%29%3B%0A%20%20%20%20%20%20%20%20%0A%20%20%20%20%0A%20%20%20%20%20%20%20%20var%20popup_68aff908d73c4d4f93033ce9677d2e05%20%3D%20L.popup%28%7B%22maxWidth%22%3A%20%22100%25%22%7D%29%3B%0A%0A%20%20%20%20%20%20%20%20%0A%20%20%20%20%20%20%20%20%20%20%20%20var%20html_71c72c8031384f9ea92c924bf0debb0c%20%3D%20%24%28%60%3Cdiv%20id%3D%22html_71c72c8031384f9ea92c924bf0debb0c%22%20style%3D%22width%3A%20100.0%25%3B%20height%3A%20100.0%25%3B%22%3E%20%20%20%20%20%20%20%20%20%3Cul%3E%20%20%20%20%20%20%20%20%20%20%20%20%20%3Cli%3E%3Cstrong%3EID%3A%20%3C/strong%3E3195%3C/li%3E%20%20%20%20%20%20%20%20%20%20%20%20%20%3Cli%3E%3Cstrong%3ESource%3A%20%3C/strong%3EHenderson%20P%26C%20%23102%3C/li%3E%20%20%20%20%20%20%20%20%20%20%20%20%20%3Cli%3E%3Cstrong%3EName%3A%20%3C/strong%3EAndrea%20di%20Tommaso%20d%20%20Palazzuolo%3C/li%3E%20%20%20%20%20%20%20%20%20%3Cul%3E%20%20%20%20%20%3C/div%3E%60%29%5B0%5D%3B%0A%20%20%20%20%20%20%20%20%20%20%20%20popup_68aff908d73c4d4f93033ce9677d2e05.setContent%28html_71c72c8031384f9ea92c924bf0debb0c%29%3B%0A%20%20%20%20%20%20%20%20%0A%0A%20%20%20%20%20%20%20%20marker_936b2648cd664e4083f2f949c392113a.bindPopup%28popup_68aff908d73c4d4f93033ce9677d2e05%29%0A%20%20%20%20%20%20%20%20%3B%0A%0A%20%20%20%20%20%20%20%20%0A%20%20%20%20%0A%20%20%20%20%0A%20%20%20%20%20%20%20%20%20%20%20%20var%20marker_3da12aa685da4f35ac5f1ac5624f5b63%20%3D%20L.marker%28%0A%20%20%20%20%20%20%20%20%20%20%20%20%20%20%20%20%5B43.76847933%2C%2011.26490533%5D%2C%0A%20%20%20%20%20%20%20%20%20%20%20%20%20%20%20%20%7B%7D%0A%20%20%20%20%20%20%20%20%20%20%20%20%29.addTo%28map_cb5ddea0a149466984ccacda88dfafab%29%3B%0A%20%20%20%20%20%20%20%20%0A%20%20%20%20%0A%20%20%20%20%20%20%20%20var%20popup_6b35179151cd4e719289110ffdc1d242%20%3D%20L.popup%28%7B%22maxWidth%22%3A%20%22100%25%22%7D%29%3B%0A%0A%20%20%20%20%20%20%20%20%0A%20%20%20%20%20%20%20%20%20%20%20%20var%20html_2061d0b3266f4bc493d672b3a7dda509%20%3D%20%24%28%60%3Cdiv%20id%3D%22html_2061d0b3266f4bc493d672b3a7dda509%22%20style%3D%22width%3A%20100.0%25%3B%20height%3A%20100.0%25%3B%22%3E%20%20%20%20%20%20%20%20%20%3Cul%3E%20%20%20%20%20%20%20%20%20%20%20%20%20%3Cli%3E%3Cstrong%3EID%3A%20%3C/strong%3E3274%3C/li%3E%20%20%20%20%20%20%20%20%20%20%20%20%20%3Cli%3E%3Cstrong%3ESource%3A%20%3C/strong%3EHenderson%20P%26C%20%23102%3C/li%3E%20%20%20%20%20%20%20%20%20%20%20%20%20%3Cli%3E%3Cstrong%3EName%3A%20%3C/strong%3ETonino%20di%20Domenico%2C%20battilano%3C/li%3E%20%20%20%20%20%20%20%20%20%3Cul%3E%20%20%20%20%20%3C/div%3E%60%29%5B0%5D%3B%0A%20%20%20%20%20%20%20%20%20%20%20%20popup_6b35179151cd4e719289110ffdc1d242.setContent%28html_2061d0b3266f4bc493d672b3a7dda509%29%3B%0A%20%20%20%20%20%20%20%20%0A%0A%20%20%20%20%20%20%20%20marker_3da12aa685da4f35ac5f1ac5624f5b63.bindPopup%28popup_6b35179151cd4e719289110ffdc1d242%29%0A%20%20%20%20%20%20%20%20%3B%0A%0A%20%20%20%20%20%20%20%20%0A%20%20%20%20%0A%20%20%20%20%0A%20%20%20%20%20%20%20%20%20%20%20%20var%20marker_e488e8a3da884b74a6353882bec1f366%20%3D%20L.marker%28%0A%20%20%20%20%20%20%20%20%20%20%20%20%20%20%20%20%5B43.76886%2C%2011.265%5D%2C%0A%20%20%20%20%20%20%20%20%20%20%20%20%20%20%20%20%7B%7D%0A%20%20%20%20%20%20%20%20%20%20%20%20%29.addTo%28map_cb5ddea0a149466984ccacda88dfafab%29%3B%0A%20%20%20%20%20%20%20%20%0A%20%20%20%20%0A%20%20%20%20%20%20%20%20var%20popup_0962b0867d7a4cc28aed70002ce95371%20%3D%20L.popup%28%7B%22maxWidth%22%3A%20%22100%25%22%7D%29%3B%0A%0A%20%20%20%20%20%20%20%20%0A%20%20%20%20%20%20%20%20%20%20%20%20var%20html_0cfee7a8849a47bf8d4bd1d03cf828f3%20%3D%20%24%28%60%3Cdiv%20id%3D%22html_0cfee7a8849a47bf8d4bd1d03cf828f3%22%20style%3D%22width%3A%20100.0%25%3B%20height%3A%20100.0%25%3B%22%3E%20%20%20%20%20%20%20%20%20%3Cul%3E%20%20%20%20%20%20%20%20%20%20%20%20%20%3Cli%3E%3Cstrong%3EID%3A%20%3C/strong%3E3384%3C/li%3E%20%20%20%20%20%20%20%20%20%20%20%20%20%3Cli%3E%3Cstrong%3ESource%3A%20%3C/strong%3EHenderson%20P%26C%20%23102%3C/li%3E%20%20%20%20%20%20%20%20%20%20%20%20%20%3Cli%3E%3Cstrong%3EName%3A%20%3C/strong%3EAntonio%2C%20detto%20Rigogolo%2C%20votapozzi%3C/li%3E%20%20%20%20%20%20%20%20%20%3Cul%3E%20%20%20%20%20%3C/div%3E%60%29%5B0%5D%3B%0A%20%20%20%20%20%20%20%20%20%20%20%20popup_0962b0867d7a4cc28aed70002ce95371.setContent%28html_0cfee7a8849a47bf8d4bd1d03cf828f3%29%3B%0A%20%20%20%20%20%20%20%20%0A%0A%20%20%20%20%20%20%20%20marker_e488e8a3da884b74a6353882bec1f366.bindPopup%28popup_0962b0867d7a4cc28aed70002ce95371%29%0A%20%20%20%20%20%20%20%20%3B%0A%0A%20%20%20%20%20%20%20%20%0A%20%20%20%20%0A%20%20%20%20%0A%20%20%20%20%20%20%20%20%20%20%20%20var%20marker_d5bab0b0ee474b5b904b1fc3bdbef9f1%20%3D%20L.marker%28%0A%20%20%20%20%20%20%20%20%20%20%20%20%20%20%20%20%5B43.76825%2C%2011.2651%5D%2C%0A%20%20%20%20%20%20%20%20%20%20%20%20%20%20%20%20%7B%7D%0A%20%20%20%20%20%20%20%20%20%20%20%20%29.addTo%28map_cb5ddea0a149466984ccacda88dfafab%29%3B%0A%20%20%20%20%20%20%20%20%0A%20%20%20%20%0A%20%20%20%20%20%20%20%20var%20popup_2219c93dc31b4050b7d63f8550980690%20%3D%20L.popup%28%7B%22maxWidth%22%3A%20%22100%25%22%7D%29%3B%0A%0A%20%20%20%20%20%20%20%20%0A%20%20%20%20%20%20%20%20%20%20%20%20var%20html_7508aeff67104bcfa6c6b685e3b2da94%20%3D%20%24%28%60%3Cdiv%20id%3D%22html_7508aeff67104bcfa6c6b685e3b2da94%22%20style%3D%22width%3A%20100.0%25%3B%20height%3A%20100.0%25%3B%22%3E%20%20%20%20%20%20%20%20%20%3Cul%3E%20%20%20%20%20%20%20%20%20%20%20%20%20%3Cli%3E%3Cstrong%3EID%3A%20%3C/strong%3E3385%3C/li%3E%20%20%20%20%20%20%20%20%20%20%20%20%20%3Cli%3E%3Cstrong%3ESource%3A%20%3C/strong%3EHenderson%20P%26C%20%23102%3C/li%3E%20%20%20%20%20%20%20%20%20%20%20%20%20%3Cli%3E%3Cstrong%3EName%3A%20%3C/strong%3Enan%3C/li%3E%20%20%20%20%20%20%20%20%20%3Cul%3E%20%20%20%20%20%3C/div%3E%60%29%5B0%5D%3B%0A%20%20%20%20%20%20%20%20%20%20%20%20popup_2219c93dc31b4050b7d63f8550980690.setContent%28html_7508aeff67104bcfa6c6b685e3b2da94%29%3B%0A%20%20%20%20%20%20%20%20%0A%0A%20%20%20%20%20%20%20%20marker_d5bab0b0ee474b5b904b1fc3bdbef9f1.bindPopup%28popup_2219c93dc31b4050b7d63f8550980690%29%0A%20%20%20%20%20%20%20%20%3B%0A%0A%20%20%20%20%20%20%20%20%0A%20%20%20%20%0A%20%20%20%20%0A%20%20%20%20%20%20%20%20%20%20%20%20var%20marker_d4d409bfa21247d9b547238cc23983b9%20%3D%20L.marker%28%0A%20%20%20%20%20%20%20%20%20%20%20%20%20%20%20%20%5B43.7709685%2C%2011.2698875%5D%2C%0A%20%20%20%20%20%20%20%20%20%20%20%20%20%20%20%20%7B%7D%0A%20%20%20%20%20%20%20%20%20%20%20%20%29.addTo%28map_cb5ddea0a149466984ccacda88dfafab%29%3B%0A%20%20%20%20%20%20%20%20%0A%20%20%20%20%0A%20%20%20%20%20%20%20%20var%20popup_0cb0291bc8f84c328141cf8bc4b73e2f%20%3D%20L.popup%28%7B%22maxWidth%22%3A%20%22100%25%22%7D%29%3B%0A%0A%20%20%20%20%20%20%20%20%0A%20%20%20%20%20%20%20%20%20%20%20%20var%20html_52f712d5ca6d4d4ba15659fa5d696580%20%3D%20%24%28%60%3Cdiv%20id%3D%22html_52f712d5ca6d4d4ba15659fa5d696580%22%20style%3D%22width%3A%20100.0%25%3B%20height%3A%20100.0%25%3B%22%3E%20%20%20%20%20%20%20%20%20%3Cul%3E%20%20%20%20%20%20%20%20%20%20%20%20%20%3Cli%3E%3Cstrong%3EID%3A%20%3C/strong%3E2056%3C/li%3E%20%20%20%20%20%20%20%20%20%20%20%20%20%3Cli%3E%3Cstrong%3ESource%3A%20%3C/strong%3EHenderson%20P%26C%20%23102%3C/li%3E%20%20%20%20%20%20%20%20%20%20%20%20%20%3Cli%3E%3Cstrong%3EName%3A%20%3C/strong%3EAntonio%20di%20Piero%2C%20guardia%20della%20Compagnia%20del%20Tempio%3C/li%3E%20%20%20%20%20%20%20%20%20%3Cul%3E%20%20%20%20%20%3C/div%3E%60%29%5B0%5D%3B%0A%20%20%20%20%20%20%20%20%20%20%20%20popup_0cb0291bc8f84c328141cf8bc4b73e2f.setContent%28html_52f712d5ca6d4d4ba15659fa5d696580%29%3B%0A%20%20%20%20%20%20%20%20%0A%0A%20%20%20%20%20%20%20%20marker_d4d409bfa21247d9b547238cc23983b9.bindPopup%28popup_0cb0291bc8f84c328141cf8bc4b73e2f%29%0A%20%20%20%20%20%20%20%20%3B%0A%0A%20%20%20%20%20%20%20%20%0A%20%20%20%20%0A%20%20%20%20%0A%20%20%20%20%20%20%20%20%20%20%20%20var%20marker_d39e254399fb4b569449e040faa9300c%20%3D%20L.marker%28%0A%20%20%20%20%20%20%20%20%20%20%20%20%20%20%20%20%5B43.77100579%2C%2011.26971307%5D%2C%0A%20%20%20%20%20%20%20%20%20%20%20%20%20%20%20%20%7B%7D%0A%20%20%20%20%20%20%20%20%20%20%20%20%29.addTo%28map_cb5ddea0a149466984ccacda88dfafab%29%3B%0A%20%20%20%20%20%20%20%20%0A%20%20%20%20%0A%20%20%20%20%20%20%20%20var%20popup_ce880e05ef1044869703ab3d2758fd28%20%3D%20L.popup%28%7B%22maxWidth%22%3A%20%22100%25%22%7D%29%3B%0A%0A%20%20%20%20%20%20%20%20%0A%20%20%20%20%20%20%20%20%20%20%20%20var%20html_def82fa5aee74b6ca81e2495c2422725%20%3D%20%24%28%60%3Cdiv%20id%3D%22html_def82fa5aee74b6ca81e2495c2422725%22%20style%3D%22width%3A%20100.0%25%3B%20height%3A%20100.0%25%3B%22%3E%20%20%20%20%20%20%20%20%20%3Cul%3E%20%20%20%20%20%20%20%20%20%20%20%20%20%3Cli%3E%3Cstrong%3EID%3A%20%3C/strong%3E2136%3C/li%3E%20%20%20%20%20%20%20%20%20%20%20%20%20%3Cli%3E%3Cstrong%3ESource%3A%20%3C/strong%3EHenderson%20P%26C%20%23102%3C/li%3E%20%20%20%20%20%20%20%20%20%20%20%20%20%3Cli%3E%3Cstrong%3EName%3A%20%3C/strong%3EBartolomeo%20d%27%20Antonio%20di%20Lapo%2C%20beccaio%3C/li%3E%20%20%20%20%20%20%20%20%20%3Cul%3E%20%20%20%20%20%3C/div%3E%60%29%5B0%5D%3B%0A%20%20%20%20%20%20%20%20%20%20%20%20popup_ce880e05ef1044869703ab3d2758fd28.setContent%28html_def82fa5aee74b6ca81e2495c2422725%29%3B%0A%20%20%20%20%20%20%20%20%0A%0A%20%20%20%20%20%20%20%20marker_d39e254399fb4b569449e040faa9300c.bindPopup%28popup_ce880e05ef1044869703ab3d2758fd28%29%0A%20%20%20%20%20%20%20%20%3B%0A%0A%20%20%20%20%20%20%20%20%0A%20%20%20%20%0A%20%20%20%20%0A%20%20%20%20%20%20%20%20%20%20%20%20var%20marker_1c93786db96e49ebaa04cb20132e8ad6%20%3D%20L.marker%28%0A%20%20%20%20%20%20%20%20%20%20%20%20%20%20%20%20%5B43.7740713%2C%2011.26313274%5D%2C%0A%20%20%20%20%20%20%20%20%20%20%20%20%20%20%20%20%7B%7D%0A%20%20%20%20%20%20%20%20%20%20%20%20%29.addTo%28map_cb5ddea0a149466984ccacda88dfafab%29%3B%0A%20%20%20%20%20%20%20%20%0A%20%20%20%20%0A%20%20%20%20%20%20%20%20var%20popup_8d4e8a0bf8bf4ebb8dc442a7427ba119%20%3D%20L.popup%28%7B%22maxWidth%22%3A%20%22100%25%22%7D%29%3B%0A%0A%20%20%20%20%20%20%20%20%0A%20%20%20%20%20%20%20%20%20%20%20%20var%20html_a75b7ec68d9442af980d03c97b2b02dc%20%3D%20%24%28%60%3Cdiv%20id%3D%22html_a75b7ec68d9442af980d03c97b2b02dc%22%20style%3D%22width%3A%20100.0%25%3B%20height%3A%20100.0%25%3B%22%3E%20%20%20%20%20%20%20%20%20%3Cul%3E%20%20%20%20%20%20%20%20%20%20%20%20%20%3Cli%3E%3Cstrong%3EID%3A%20%3C/strong%3E2182%3C/li%3E%20%20%20%20%20%20%20%20%20%20%20%20%20%3Cli%3E%3Cstrong%3ESource%3A%20%3C/strong%3EHenderson%20P%26C%20%23102%3C/li%3E%20%20%20%20%20%20%20%20%20%20%20%20%20%3Cli%3E%3Cstrong%3EName%3A%20%3C/strong%3EMarco%20di%20Giovanni%2C%20tessitore%3C/li%3E%20%20%20%20%20%20%20%20%20%3Cul%3E%20%20%20%20%20%3C/div%3E%60%29%5B0%5D%3B%0A%20%20%20%20%20%20%20%20%20%20%20%20popup_8d4e8a0bf8bf4ebb8dc442a7427ba119.setContent%28html_a75b7ec68d9442af980d03c97b2b02dc%29%3B%0A%20%20%20%20%20%20%20%20%0A%0A%20%20%20%20%20%20%20%20marker_1c93786db96e49ebaa04cb20132e8ad6.bindPopup%28popup_8d4e8a0bf8bf4ebb8dc442a7427ba119%29%0A%20%20%20%20%20%20%20%20%3B%0A%0A%20%20%20%20%20%20%20%20%0A%20%20%20%20%0A%20%20%20%20%0A%20%20%20%20%20%20%20%20%20%20%20%20var%20marker_0e3d42e34d3e41c285884be08dfc068d%20%3D%20L.marker%28%0A%20%20%20%20%20%20%20%20%20%20%20%20%20%20%20%20%5B43.77098714%2C%2011.26980029%5D%2C%0A%20%20%20%20%20%20%20%20%20%20%20%20%20%20%20%20%7B%7D%0A%20%20%20%20%20%20%20%20%20%20%20%20%29.addTo%28map_cb5ddea0a149466984ccacda88dfafab%29%3B%0A%20%20%20%20%20%20%20%20%0A%20%20%20%20%0A%20%20%20%20%20%20%20%20var%20popup_06a566177df849b9b3caa20a3bddfc13%20%3D%20L.popup%28%7B%22maxWidth%22%3A%20%22100%25%22%7D%29%3B%0A%0A%20%20%20%20%20%20%20%20%0A%20%20%20%20%20%20%20%20%20%20%20%20var%20html_c5181e3b681142789d94dd6bddf4ab0d%20%3D%20%24%28%60%3Cdiv%20id%3D%22html_c5181e3b681142789d94dd6bddf4ab0d%22%20style%3D%22width%3A%20100.0%25%3B%20height%3A%20100.0%25%3B%22%3E%20%20%20%20%20%20%20%20%20%3Cul%3E%20%20%20%20%20%20%20%20%20%20%20%20%20%3Cli%3E%3Cstrong%3EID%3A%20%3C/strong%3E2413%3C/li%3E%20%20%20%20%20%20%20%20%20%20%20%20%20%3Cli%3E%3Cstrong%3ESource%3A%20%3C/strong%3EHenderson%20P%26C%20%23102%3C/li%3E%20%20%20%20%20%20%20%20%20%20%20%20%20%3Cli%3E%3Cstrong%3EName%3A%20%3C/strong%3Enan%3C/li%3E%20%20%20%20%20%20%20%20%20%3Cul%3E%20%20%20%20%20%3C/div%3E%60%29%5B0%5D%3B%0A%20%20%20%20%20%20%20%20%20%20%20%20popup_06a566177df849b9b3caa20a3bddfc13.setContent%28html_c5181e3b681142789d94dd6bddf4ab0d%29%3B%0A%20%20%20%20%20%20%20%20%0A%0A%20%20%20%20%20%20%20%20marker_0e3d42e34d3e41c285884be08dfc068d.bindPopup%28popup_06a566177df849b9b3caa20a3bddfc13%29%0A%20%20%20%20%20%20%20%20%3B%0A%0A%20%20%20%20%20%20%20%20%0A%20%20%20%20%0A%20%20%20%20%0A%20%20%20%20%20%20%20%20%20%20%20%20var%20marker_744f4f7d38d64763baf32449a8aeaa10%20%3D%20L.marker%28%0A%20%20%20%20%20%20%20%20%20%20%20%20%20%20%20%20%5B43.771152%2C%2011.262448%5D%2C%0A%20%20%20%20%20%20%20%20%20%20%20%20%20%20%20%20%7B%7D%0A%20%20%20%20%20%20%20%20%20%20%20%20%29.addTo%28map_cb5ddea0a149466984ccacda88dfafab%29%3B%0A%20%20%20%20%20%20%20%20%0A%20%20%20%20%0A%20%20%20%20%20%20%20%20var%20popup_3f61c9f446f340bf9e048cd43bcffe28%20%3D%20L.popup%28%7B%22maxWidth%22%3A%20%22100%25%22%7D%29%3B%0A%0A%20%20%20%20%20%20%20%20%0A%20%20%20%20%20%20%20%20%20%20%20%20var%20html_02d15912e3a84ee9b55cc95d7de82cc9%20%3D%20%24%28%60%3Cdiv%20id%3D%22html_02d15912e3a84ee9b55cc95d7de82cc9%22%20style%3D%22width%3A%20100.0%25%3B%20height%3A%20100.0%25%3B%22%3E%20%20%20%20%20%20%20%20%20%3Cul%3E%20%20%20%20%20%20%20%20%20%20%20%20%20%3Cli%3E%3Cstrong%3EID%3A%20%3C/strong%3E3628%3C/li%3E%20%20%20%20%20%20%20%20%20%20%20%20%20%3Cli%3E%3Cstrong%3ESource%3A%20%3C/strong%3EHenderson%20P%26C%20%23102%3C/li%3E%20%20%20%20%20%20%20%20%20%20%20%20%20%3Cli%3E%3Cstrong%3EName%3A%20%3C/strong%3ERaffaello%2C%20donzello%20della%20Parte%3C/li%3E%20%20%20%20%20%20%20%20%20%3Cul%3E%20%20%20%20%20%3C/div%3E%60%29%5B0%5D%3B%0A%20%20%20%20%20%20%20%20%20%20%20%20popup_3f61c9f446f340bf9e048cd43bcffe28.setContent%28html_02d15912e3a84ee9b55cc95d7de82cc9%29%3B%0A%20%20%20%20%20%20%20%20%0A%0A%20%20%20%20%20%20%20%20marker_744f4f7d38d64763baf32449a8aeaa10.bindPopup%28popup_3f61c9f446f340bf9e048cd43bcffe28%29%0A%20%20%20%20%20%20%20%20%3B%0A%0A%20%20%20%20%20%20%20%20%0A%20%20%20%20%0A%20%20%20%20%0A%20%20%20%20%20%20%20%20%20%20%20%20var%20marker_93d7f653ae904615a9ef7417a0c3a618%20%3D%20L.marker%28%0A%20%20%20%20%20%20%20%20%20%20%20%20%20%20%20%20%5B43.76981%2C%2011.25724%5D%2C%0A%20%20%20%20%20%20%20%20%20%20%20%20%20%20%20%20%7B%7D%0A%20%20%20%20%20%20%20%20%20%20%20%20%29.addTo%28map_cb5ddea0a149466984ccacda88dfafab%29%3B%0A%20%20%20%20%20%20%20%20%0A%20%20%20%20%0A%20%20%20%20%20%20%20%20var%20popup_535d7866cba2479daf4e5bcd78dbfee7%20%3D%20L.popup%28%7B%22maxWidth%22%3A%20%22100%25%22%7D%29%3B%0A%0A%20%20%20%20%20%20%20%20%0A%20%20%20%20%20%20%20%20%20%20%20%20var%20html_7fef8cc6765341f7807d27b578b4495e%20%3D%20%24%28%60%3Cdiv%20id%3D%22html_7fef8cc6765341f7807d27b578b4495e%22%20style%3D%22width%3A%20100.0%25%3B%20height%3A%20100.0%25%3B%22%3E%20%20%20%20%20%20%20%20%20%3Cul%3E%20%20%20%20%20%20%20%20%20%20%20%20%20%3Cli%3E%3Cstrong%3EID%3A%20%3C/strong%3E4275%3C/li%3E%20%20%20%20%20%20%20%20%20%20%20%20%20%3Cli%3E%3Cstrong%3ESource%3A%20%3C/strong%3EHenderson%20P%26C%20%23102%3C/li%3E%20%20%20%20%20%20%20%20%20%20%20%20%20%3Cli%3E%3Cstrong%3EName%3A%20%3C/strong%3ELionardo%20di%20Taddeo%2C%20coltellinaio%3C/li%3E%20%20%20%20%20%20%20%20%20%3Cul%3E%20%20%20%20%20%3C/div%3E%60%29%5B0%5D%3B%0A%20%20%20%20%20%20%20%20%20%20%20%20popup_535d7866cba2479daf4e5bcd78dbfee7.setContent%28html_7fef8cc6765341f7807d27b578b4495e%29%3B%0A%20%20%20%20%20%20%20%20%0A%0A%20%20%20%20%20%20%20%20marker_93d7f653ae904615a9ef7417a0c3a618.bindPopup%28popup_535d7866cba2479daf4e5bcd78dbfee7%29%0A%20%20%20%20%20%20%20%20%3B%0A%0A%20%20%20%20%20%20%20%20%0A%20%20%20%20%0A%20%20%20%20%0A%20%20%20%20%20%20%20%20%20%20%20%20var%20marker_601a7de419d24146921801c248c83cfe%20%3D%20L.marker%28%0A%20%20%20%20%20%20%20%20%20%20%20%20%20%20%20%20%5B43.769925%2C%2011.256705%5D%2C%0A%20%20%20%20%20%20%20%20%20%20%20%20%20%20%20%20%7B%7D%0A%20%20%20%20%20%20%20%20%20%20%20%20%29.addTo%28map_cb5ddea0a149466984ccacda88dfafab%29%3B%0A%20%20%20%20%20%20%20%20%0A%20%20%20%20%0A%20%20%20%20%20%20%20%20var%20popup_69c9ec9d143c4b86adeb7d49b26126d0%20%3D%20L.popup%28%7B%22maxWidth%22%3A%20%22100%25%22%7D%29%3B%0A%0A%20%20%20%20%20%20%20%20%0A%20%20%20%20%20%20%20%20%20%20%20%20var%20html_d4eddad3130b4913bfcdfd9798e228ba%20%3D%20%24%28%60%3Cdiv%20id%3D%22html_d4eddad3130b4913bfcdfd9798e228ba%22%20style%3D%22width%3A%20100.0%25%3B%20height%3A%20100.0%25%3B%22%3E%20%20%20%20%20%20%20%20%20%3Cul%3E%20%20%20%20%20%20%20%20%20%20%20%20%20%3Cli%3E%3Cstrong%3EID%3A%20%3C/strong%3E4276%3C/li%3E%20%20%20%20%20%20%20%20%20%20%20%20%20%3Cli%3E%3Cstrong%3ESource%3A%20%3C/strong%3EHenderson%20P%26C%20%23102%3C/li%3E%20%20%20%20%20%20%20%20%20%20%20%20%20%3Cli%3E%3Cstrong%3EName%3A%20%3C/strong%3EAntonio%20di%20Benedetto%2C%20detto%20il%20Boncio%2C%20occhialaio%3C/li%3E%20%20%20%20%20%20%20%20%20%3Cul%3E%20%20%20%20%20%3C/div%3E%60%29%5B0%5D%3B%0A%20%20%20%20%20%20%20%20%20%20%20%20popup_69c9ec9d143c4b86adeb7d49b26126d0.setContent%28html_d4eddad3130b4913bfcdfd9798e228ba%29%3B%0A%20%20%20%20%20%20%20%20%0A%0A%20%20%20%20%20%20%20%20marker_601a7de419d24146921801c248c83cfe.bindPopup%28popup_69c9ec9d143c4b86adeb7d49b26126d0%29%0A%20%20%20%20%20%20%20%20%3B%0A%0A%20%20%20%20%20%20%20%20%0A%20%20%20%20%0A%20%20%20%20%0A%20%20%20%20%20%20%20%20%20%20%20%20var%20marker_da8acc3ad2be4cc28cbac4cbc3027ab3%20%3D%20L.marker%28%0A%20%20%20%20%20%20%20%20%20%20%20%20%20%20%20%20%5B43.76582667%2C%2011.24658%5D%2C%0A%20%20%20%20%20%20%20%20%20%20%20%20%20%20%20%20%7B%7D%0A%20%20%20%20%20%20%20%20%20%20%20%20%29.addTo%28map_cb5ddea0a149466984ccacda88dfafab%29%3B%0A%20%20%20%20%20%20%20%20%0A%20%20%20%20%0A%20%20%20%20%20%20%20%20var%20popup_13d003e7a1d74a259499e829ead91d2c%20%3D%20L.popup%28%7B%22maxWidth%22%3A%20%22100%25%22%7D%29%3B%0A%0A%20%20%20%20%20%20%20%20%0A%20%20%20%20%20%20%20%20%20%20%20%20var%20html_113a7fadcbac42c2a2498c42dcb210e4%20%3D%20%24%28%60%3Cdiv%20id%3D%22html_113a7fadcbac42c2a2498c42dcb210e4%22%20style%3D%22width%3A%20100.0%25%3B%20height%3A%20100.0%25%3B%22%3E%20%20%20%20%20%20%20%20%20%3Cul%3E%20%20%20%20%20%20%20%20%20%20%20%20%20%3Cli%3E%3Cstrong%3EID%3A%20%3C/strong%3E7630%3C/li%3E%20%20%20%20%20%20%20%20%20%20%20%20%20%3Cli%3E%3Cstrong%3ESource%3A%20%3C/strong%3EHenderson%20P%26C%20%23114%3C/li%3E%20%20%20%20%20%20%20%20%20%20%20%20%20%3Cli%3E%3Cstrong%3EName%3A%20%3C/strong%3EMona%20Thommasa%20di%20Giovanbatista%20da%20Verrazzano%3C/li%3E%20%20%20%20%20%20%20%20%20%3Cul%3E%20%20%20%20%20%3C/div%3E%60%29%5B0%5D%3B%0A%20%20%20%20%20%20%20%20%20%20%20%20popup_13d003e7a1d74a259499e829ead91d2c.setContent%28html_113a7fadcbac42c2a2498c42dcb210e4%29%3B%0A%20%20%20%20%20%20%20%20%0A%0A%20%20%20%20%20%20%20%20marker_da8acc3ad2be4cc28cbac4cbc3027ab3.bindPopup%28popup_13d003e7a1d74a259499e829ead91d2c%29%0A%20%20%20%20%20%20%20%20%3B%0A%0A%20%20%20%20%20%20%20%20%0A%20%20%20%20%0A%20%20%20%20%0A%20%20%20%20%20%20%20%20%20%20%20%20var%20marker_b6c53de94a39460a84daf877b67547e4%20%3D%20L.marker%28%0A%20%20%20%20%20%20%20%20%20%20%20%20%20%20%20%20%5B43.768982%2C%2011.242736%5D%2C%0A%20%20%20%20%20%20%20%20%20%20%20%20%20%20%20%20%7B%7D%0A%20%20%20%20%20%20%20%20%20%20%20%20%29.addTo%28map_cb5ddea0a149466984ccacda88dfafab%29%3B%0A%20%20%20%20%20%20%20%20%0A%20%20%20%20%0A%20%20%20%20%20%20%20%20var%20popup_0c260acd419c41ba83b641f02ef89f55%20%3D%20L.popup%28%7B%22maxWidth%22%3A%20%22100%25%22%7D%29%3B%0A%0A%20%20%20%20%20%20%20%20%0A%20%20%20%20%20%20%20%20%20%20%20%20var%20html_8f815192f8d349548894b94fa68caf77%20%3D%20%24%28%60%3Cdiv%20id%3D%22html_8f815192f8d349548894b94fa68caf77%22%20style%3D%22width%3A%20100.0%25%3B%20height%3A%20100.0%25%3B%22%3E%20%20%20%20%20%20%20%20%20%3Cul%3E%20%20%20%20%20%20%20%20%20%20%20%20%20%3Cli%3E%3Cstrong%3EID%3A%20%3C/strong%3E8289%3C/li%3E%20%20%20%20%20%20%20%20%20%20%20%20%20%3Cli%3E%3Cstrong%3ESource%3A%20%3C/strong%3EHenderson%20P%26C%20%2358%3C/li%3E%20%20%20%20%20%20%20%20%20%20%20%20%20%3Cli%3E%3Cstrong%3EName%3A%20%3C/strong%3EAntonio%20battilano%3C/li%3E%20%20%20%20%20%20%20%20%20%3Cul%3E%20%20%20%20%20%3C/div%3E%60%29%5B0%5D%3B%0A%20%20%20%20%20%20%20%20%20%20%20%20popup_0c260acd419c41ba83b641f02ef89f55.setContent%28html_8f815192f8d349548894b94fa68caf77%29%3B%0A%20%20%20%20%20%20%20%20%0A%0A%20%20%20%20%20%20%20%20marker_b6c53de94a39460a84daf877b67547e4.bindPopup%28popup_0c260acd419c41ba83b641f02ef89f55%29%0A%20%20%20%20%20%20%20%20%3B%0A%0A%20%20%20%20%20%20%20%20%0A%20%20%20%20%0A%20%20%20%20%0A%20%20%20%20%20%20%20%20%20%20%20%20var%20marker_1e39210dae6340b8a3343f17a6891fd9%20%3D%20L.marker%28%0A%20%20%20%20%20%20%20%20%20%20%20%20%20%20%20%20%5B43.769388%2C%2011.244695%5D%2C%0A%20%20%20%20%20%20%20%20%20%20%20%20%20%20%20%20%7B%7D%0A%20%20%20%20%20%20%20%20%20%20%20%20%29.addTo%28map_cb5ddea0a149466984ccacda88dfafab%29%3B%0A%20%20%20%20%20%20%20%20%0A%20%20%20%20%0A%20%20%20%20%20%20%20%20var%20popup_cc8b0a22a8ad45d1aacc69f9d32c39dd%20%3D%20L.popup%28%7B%22maxWidth%22%3A%20%22100%25%22%7D%29%3B%0A%0A%20%20%20%20%20%20%20%20%0A%20%20%20%20%20%20%20%20%20%20%20%20var%20html_4b4cea8c031c44a19f4e0761919f80b6%20%3D%20%24%28%60%3Cdiv%20id%3D%22html_4b4cea8c031c44a19f4e0761919f80b6%22%20style%3D%22width%3A%20100.0%25%3B%20height%3A%20100.0%25%3B%22%3E%20%20%20%20%20%20%20%20%20%3Cul%3E%20%20%20%20%20%20%20%20%20%20%20%20%20%3Cli%3E%3Cstrong%3EID%3A%20%3C/strong%3E8486%3C/li%3E%20%20%20%20%20%20%20%20%20%20%20%20%20%3Cli%3E%3Cstrong%3ESource%3A%20%3C/strong%3EHenderson%20P%26C%20%2358%3C/li%3E%20%20%20%20%20%20%20%20%20%20%20%20%20%3Cli%3E%3Cstrong%3EName%3A%20%3C/strong%3EMona%20Simone%20di%20Bastiano%20manouale%3C/li%3E%20%20%20%20%20%20%20%20%20%3Cul%3E%20%20%20%20%20%3C/div%3E%60%29%5B0%5D%3B%0A%20%20%20%20%20%20%20%20%20%20%20%20popup_cc8b0a22a8ad45d1aacc69f9d32c39dd.setContent%28html_4b4cea8c031c44a19f4e0761919f80b6%29%3B%0A%20%20%20%20%20%20%20%20%0A%0A%20%20%20%20%20%20%20%20marker_1e39210dae6340b8a3343f17a6891fd9.bindPopup%28popup_cc8b0a22a8ad45d1aacc69f9d32c39dd%29%0A%20%20%20%20%20%20%20%20%3B%0A%0A%20%20%20%20%20%20%20%20%0A%20%20%20%20%0A%20%20%20%20%0A%20%20%20%20%20%20%20%20%20%20%20%20var%20marker_d98217a6ad114e85bd2c10caeccdce6c%20%3D%20L.marker%28%0A%20%20%20%20%20%20%20%20%20%20%20%20%20%20%20%20%5B43.77036985%2C%2011.24205892%5D%2C%0A%20%20%20%20%20%20%20%20%20%20%20%20%20%20%20%20%7B%7D%0A%20%20%20%20%20%20%20%20%20%20%20%20%29.addTo%28map_cb5ddea0a149466984ccacda88dfafab%29%3B%0A%20%20%20%20%20%20%20%20%0A%20%20%20%20%0A%20%20%20%20%20%20%20%20var%20popup_8e19eba4dcaf4efe89125b3006e34e14%20%3D%20L.popup%28%7B%22maxWidth%22%3A%20%22100%25%22%7D%29%3B%0A%0A%20%20%20%20%20%20%20%20%0A%20%20%20%20%20%20%20%20%20%20%20%20var%20html_00c4ef62e1ef4012863b2255b6d0be93%20%3D%20%24%28%60%3Cdiv%20id%3D%22html_00c4ef62e1ef4012863b2255b6d0be93%22%20style%3D%22width%3A%20100.0%25%3B%20height%3A%20100.0%25%3B%22%3E%20%20%20%20%20%20%20%20%20%3Cul%3E%20%20%20%20%20%20%20%20%20%20%20%20%20%3Cli%3E%3Cstrong%3EID%3A%20%3C/strong%3E8315%3C/li%3E%20%20%20%20%20%20%20%20%20%20%20%20%20%3Cli%3E%3Cstrong%3ESource%3A%20%3C/strong%3EHenderson%20P%26C%20%2358%3C/li%3E%20%20%20%20%20%20%20%20%20%20%20%20%20%3Cli%3E%3Cstrong%3EName%3A%20%3C/strong%3ESalvestro%20di%20Matteo%20minugiaio%3C/li%3E%20%20%20%20%20%20%20%20%20%3Cul%3E%20%20%20%20%20%3C/div%3E%60%29%5B0%5D%3B%0A%20%20%20%20%20%20%20%20%20%20%20%20popup_8e19eba4dcaf4efe89125b3006e34e14.setContent%28html_00c4ef62e1ef4012863b2255b6d0be93%29%3B%0A%20%20%20%20%20%20%20%20%0A%0A%20%20%20%20%20%20%20%20marker_d98217a6ad114e85bd2c10caeccdce6c.bindPopup%28popup_8e19eba4dcaf4efe89125b3006e34e14%29%0A%20%20%20%20%20%20%20%20%3B%0A%0A%20%20%20%20%20%20%20%20%0A%20%20%20%20%0A%20%20%20%20%0A%20%20%20%20%20%20%20%20%20%20%20%20var%20marker_bd6537adebb54bd5b4206c040b3f28bd%20%3D%20L.marker%28%0A%20%20%20%20%20%20%20%20%20%20%20%20%20%20%20%20%5B43.769331%2C%2011.24549767%5D%2C%0A%20%20%20%20%20%20%20%20%20%20%20%20%20%20%20%20%7B%7D%0A%20%20%20%20%20%20%20%20%20%20%20%20%29.addTo%28map_cb5ddea0a149466984ccacda88dfafab%29%3B%0A%20%20%20%20%20%20%20%20%0A%20%20%20%20%0A%20%20%20%20%20%20%20%20var%20popup_fb7cacfb7e594154bae9a8427014fce1%20%3D%20L.popup%28%7B%22maxWidth%22%3A%20%22100%25%22%7D%29%3B%0A%0A%20%20%20%20%20%20%20%20%0A%20%20%20%20%20%20%20%20%20%20%20%20var%20html_cc5a33448daf4cc1984a9fb501e6442a%20%3D%20%24%28%60%3Cdiv%20id%3D%22html_cc5a33448daf4cc1984a9fb501e6442a%22%20style%3D%22width%3A%20100.0%25%3B%20height%3A%20100.0%25%3B%22%3E%20%20%20%20%20%20%20%20%20%3Cul%3E%20%20%20%20%20%20%20%20%20%20%20%20%20%3Cli%3E%3Cstrong%3EID%3A%20%3C/strong%3E8509%3C/li%3E%20%20%20%20%20%20%20%20%20%20%20%20%20%3Cli%3E%3Cstrong%3ESource%3A%20%3C/strong%3EHenderson%20P%26C%20%2358%3C/li%3E%20%20%20%20%20%20%20%20%20%20%20%20%20%3Cli%3E%3Cstrong%3EName%3A%20%3C/strong%3EFrancesco%20di%20Niccolo%20fornaio%3C/li%3E%20%20%20%20%20%20%20%20%20%3Cul%3E%20%20%20%20%20%3C/div%3E%60%29%5B0%5D%3B%0A%20%20%20%20%20%20%20%20%20%20%20%20popup_fb7cacfb7e594154bae9a8427014fce1.setContent%28html_cc5a33448daf4cc1984a9fb501e6442a%29%3B%0A%20%20%20%20%20%20%20%20%0A%0A%20%20%20%20%20%20%20%20marker_bd6537adebb54bd5b4206c040b3f28bd.bindPopup%28popup_fb7cacfb7e594154bae9a8427014fce1%29%0A%20%20%20%20%20%20%20%20%3B%0A%0A%20%20%20%20%20%20%20%20%0A%20%20%20%20%0A%20%20%20%20%0A%20%20%20%20%20%20%20%20%20%20%20%20var%20marker_b7ca82dc9f224e55a1e92e903f88c147%20%3D%20L.marker%28%0A%20%20%20%20%20%20%20%20%20%20%20%20%20%20%20%20%5B43.77837788%2C%2011.254472%5D%2C%0A%20%20%20%20%20%20%20%20%20%20%20%20%20%20%20%20%7B%7D%0A%20%20%20%20%20%20%20%20%20%20%20%20%29.addTo%28map_cb5ddea0a149466984ccacda88dfafab%29%3B%0A%20%20%20%20%20%20%20%20%0A%20%20%20%20%0A%20%20%20%20%20%20%20%20var%20popup_e09dab165280434c996e09858dbb084d%20%3D%20L.popup%28%7B%22maxWidth%22%3A%20%22100%25%22%7D%29%3B%0A%0A%20%20%20%20%20%20%20%20%0A%20%20%20%20%20%20%20%20%20%20%20%20var%20html_7791098ed8174e02b88a99ff9e2e1775%20%3D%20%24%28%60%3Cdiv%20id%3D%22html_7791098ed8174e02b88a99ff9e2e1775%22%20style%3D%22width%3A%20100.0%25%3B%20height%3A%20100.0%25%3B%22%3E%20%20%20%20%20%20%20%20%20%3Cul%3E%20%20%20%20%20%20%20%20%20%20%20%20%20%3Cli%3E%3Cstrong%3EID%3A%20%3C/strong%3E517%3C/li%3E%20%20%20%20%20%20%20%20%20%20%20%20%20%3Cli%3E%3Cstrong%3ESource%3A%20%3C/strong%3Enan%3C/li%3E%20%20%20%20%20%20%20%20%20%20%20%20%20%3Cli%3E%3Cstrong%3EName%3A%20%3C/strong%3ELorenzo%20di%20Bartolomeo%2C%20tessitore%3C/li%3E%20%20%20%20%20%20%20%20%20%3Cul%3E%20%20%20%20%20%3C/div%3E%60%29%5B0%5D%3B%0A%20%20%20%20%20%20%20%20%20%20%20%20popup_e09dab165280434c996e09858dbb084d.setContent%28html_7791098ed8174e02b88a99ff9e2e1775%29%3B%0A%20%20%20%20%20%20%20%20%0A%0A%20%20%20%20%20%20%20%20marker_b7ca82dc9f224e55a1e92e903f88c147.bindPopup%28popup_e09dab165280434c996e09858dbb084d%29%0A%20%20%20%20%20%20%20%20%3B%0A%0A%20%20%20%20%20%20%20%20%0A%20%20%20%20%0A%20%20%20%20%0A%20%20%20%20%20%20%20%20%20%20%20%20var%20marker_37f38de844664fd3943aa42136c17b61%20%3D%20L.marker%28%0A%20%20%20%20%20%20%20%20%20%20%20%20%20%20%20%20%5B43.77051125%2C%2011.262585%5D%2C%0A%20%20%20%20%20%20%20%20%20%20%20%20%20%20%20%20%7B%7D%0A%20%20%20%20%20%20%20%20%20%20%20%20%29.addTo%28map_cb5ddea0a149466984ccacda88dfafab%29%3B%0A%20%20%20%20%20%20%20%20%0A%20%20%20%20%0A%20%20%20%20%20%20%20%20var%20popup_8ddcf4e20bd44a4d8c6d7f82c7e304bb%20%3D%20L.popup%28%7B%22maxWidth%22%3A%20%22100%25%22%7D%29%3B%0A%0A%20%20%20%20%20%20%20%20%0A%20%20%20%20%20%20%20%20%20%20%20%20var%20html_0796dae39c034f32be4b2357794af370%20%3D%20%24%28%60%3Cdiv%20id%3D%22html_0796dae39c034f32be4b2357794af370%22%20style%3D%22width%3A%20100.0%25%3B%20height%3A%20100.0%25%3B%22%3E%20%20%20%20%20%20%20%20%20%3Cul%3E%20%20%20%20%20%20%20%20%20%20%20%20%20%3Cli%3E%3Cstrong%3EID%3A%20%3C/strong%3E4784%3C/li%3E%20%20%20%20%20%20%20%20%20%20%20%20%20%3Cli%3E%3Cstrong%3ESource%3A%20%3C/strong%3Enan%3C/li%3E%20%20%20%20%20%20%20%20%20%20%20%20%20%3Cli%3E%3Cstrong%3EName%3A%20%3C/strong%3Enan%3C/li%3E%20%20%20%20%20%20%20%20%20%3Cul%3E%20%20%20%20%20%3C/div%3E%60%29%5B0%5D%3B%0A%20%20%20%20%20%20%20%20%20%20%20%20popup_8ddcf4e20bd44a4d8c6d7f82c7e304bb.setContent%28html_0796dae39c034f32be4b2357794af370%29%3B%0A%20%20%20%20%20%20%20%20%0A%0A%20%20%20%20%20%20%20%20marker_37f38de844664fd3943aa42136c17b61.bindPopup%28popup_8ddcf4e20bd44a4d8c6d7f82c7e304bb%29%0A%20%20%20%20%20%20%20%20%3B%0A%0A%20%20%20%20%20%20%20%20%0A%20%20%20%20%0A%20%20%20%20%0A%20%20%20%20%20%20%20%20%20%20%20%20var%20marker_006c4d1cadd24e28aa48d9796ea31e70%20%3D%20L.marker%28%0A%20%20%20%20%20%20%20%20%20%20%20%20%20%20%20%20%5B43.772431%2C%2011.253561%5D%2C%0A%20%20%20%20%20%20%20%20%20%20%20%20%20%20%20%20%7B%7D%0A%20%20%20%20%20%20%20%20%20%20%20%20%29.addTo%28map_cb5ddea0a149466984ccacda88dfafab%29%3B%0A%20%20%20%20%20%20%20%20%0A%20%20%20%20%0A%20%20%20%20%20%20%20%20var%20popup_adf132122b914a3a82ce0e4f6c8dbd61%20%3D%20L.popup%28%7B%22maxWidth%22%3A%20%22100%25%22%7D%29%3B%0A%0A%20%20%20%20%20%20%20%20%0A%20%20%20%20%20%20%20%20%20%20%20%20var%20html_0fd918c534714e2a8e01a03506fdd2be%20%3D%20%24%28%60%3Cdiv%20id%3D%22html_0fd918c534714e2a8e01a03506fdd2be%22%20style%3D%22width%3A%20100.0%25%3B%20height%3A%20100.0%25%3B%22%3E%20%20%20%20%20%20%20%20%20%3Cul%3E%20%20%20%20%20%20%20%20%20%20%20%20%20%3Cli%3E%3Cstrong%3EID%3A%20%3C/strong%3E1004%3C/li%3E%20%20%20%20%20%20%20%20%20%20%20%20%20%3Cli%3E%3Cstrong%3ESource%3A%20%3C/strong%3Enan%3C/li%3E%20%20%20%20%20%20%20%20%20%20%20%20%20%3Cli%3E%3Cstrong%3EName%3A%20%3C/strong%3Enan%3C/li%3E%20%20%20%20%20%20%20%20%20%3Cul%3E%20%20%20%20%20%3C/div%3E%60%29%5B0%5D%3B%0A%20%20%20%20%20%20%20%20%20%20%20%20popup_adf132122b914a3a82ce0e4f6c8dbd61.setContent%28html_0fd918c534714e2a8e01a03506fdd2be%29%3B%0A%20%20%20%20%20%20%20%20%0A%0A%20%20%20%20%20%20%20%20marker_006c4d1cadd24e28aa48d9796ea31e70.bindPopup%28popup_adf132122b914a3a82ce0e4f6c8dbd61%29%0A%20%20%20%20%20%20%20%20%3B%0A%0A%20%20%20%20%20%20%20%20%0A%20%20%20%20%0A%20%20%20%20%0A%20%20%20%20%20%20%20%20%20%20%20%20var%20marker_4267b989d04f427ca43e86592d737619%20%3D%20L.marker%28%0A%20%20%20%20%20%20%20%20%20%20%20%20%20%20%20%20%5B43.77422106%2C%2011.25488759%5D%2C%0A%20%20%20%20%20%20%20%20%20%20%20%20%20%20%20%20%7B%7D%0A%20%20%20%20%20%20%20%20%20%20%20%20%29.addTo%28map_cb5ddea0a149466984ccacda88dfafab%29%3B%0A%20%20%20%20%20%20%20%20%0A%20%20%20%20%0A%20%20%20%20%20%20%20%20var%20popup_d6625bbdd3264122bc08ca0b9840d0aa%20%3D%20L.popup%28%7B%22maxWidth%22%3A%20%22100%25%22%7D%29%3B%0A%0A%20%20%20%20%20%20%20%20%0A%20%20%20%20%20%20%20%20%20%20%20%20var%20html_a1bb7a1c335b455ea7eae2a293eacb90%20%3D%20%24%28%60%3Cdiv%20id%3D%22html_a1bb7a1c335b455ea7eae2a293eacb90%22%20style%3D%22width%3A%20100.0%25%3B%20height%3A%20100.0%25%3B%22%3E%20%20%20%20%20%20%20%20%20%3Cul%3E%20%20%20%20%20%20%20%20%20%20%20%20%20%3Cli%3E%3Cstrong%3EID%3A%20%3C/strong%3E1214%3C/li%3E%20%20%20%20%20%20%20%20%20%20%20%20%20%3Cli%3E%3Cstrong%3ESource%3A%20%3C/strong%3Enan%3C/li%3E%20%20%20%20%20%20%20%20%20%20%20%20%20%3Cli%3E%3Cstrong%3EName%3A%20%3C/strong%3ELorenzo%20di%20Biagio%2C%20sarto%3C/li%3E%20%20%20%20%20%20%20%20%20%3Cul%3E%20%20%20%20%20%3C/div%3E%60%29%5B0%5D%3B%0A%20%20%20%20%20%20%20%20%20%20%20%20popup_d6625bbdd3264122bc08ca0b9840d0aa.setContent%28html_a1bb7a1c335b455ea7eae2a293eacb90%29%3B%0A%20%20%20%20%20%20%20%20%0A%0A%20%20%20%20%20%20%20%20marker_4267b989d04f427ca43e86592d737619.bindPopup%28popup_d6625bbdd3264122bc08ca0b9840d0aa%29%0A%20%20%20%20%20%20%20%20%3B%0A%0A%20%20%20%20%20%20%20%20%0A%20%20%20%20%0A%20%20%20%20%0A%20%20%20%20%20%20%20%20%20%20%20%20var%20marker_3aa2cc729b874b6d98d1b92b530d7abf%20%3D%20L.marker%28%0A%20%20%20%20%20%20%20%20%20%20%20%20%20%20%20%20%5B43.77251823%2C%2011.26522828%5D%2C%0A%20%20%20%20%20%20%20%20%20%20%20%20%20%20%20%20%7B%7D%0A%20%20%20%20%20%20%20%20%20%20%20%20%29.addTo%28map_cb5ddea0a149466984ccacda88dfafab%29%3B%0A%20%20%20%20%20%20%20%20%0A%20%20%20%20%0A%20%20%20%20%20%20%20%20var%20popup_39bf9ee8dc7e4be9b5c7665e0d14695b%20%3D%20L.popup%28%7B%22maxWidth%22%3A%20%22100%25%22%7D%29%3B%0A%0A%20%20%20%20%20%20%20%20%0A%20%20%20%20%20%20%20%20%20%20%20%20var%20html_b625583a9a604755adaeb2c40ffc5400%20%3D%20%24%28%60%3Cdiv%20id%3D%22html_b625583a9a604755adaeb2c40ffc5400%22%20style%3D%22width%3A%20100.0%25%3B%20height%3A%20100.0%25%3B%22%3E%20%20%20%20%20%20%20%20%20%3Cul%3E%20%20%20%20%20%20%20%20%20%20%20%20%20%3Cli%3E%3Cstrong%3EID%3A%20%3C/strong%3E2776%3C/li%3E%20%20%20%20%20%20%20%20%20%20%20%20%20%3Cli%3E%3Cstrong%3ESource%3A%20%3C/strong%3EHenderson%20P%26C%20%2341%3C/li%3E%20%20%20%20%20%20%20%20%20%20%20%20%20%3Cli%3E%3Cstrong%3EName%3A%20%3C/strong%3EMona%20Lexandra%2C%20donna%20fu%20di%20Ruberto%20Rinieri%3C/li%3E%20%20%20%20%20%20%20%20%20%3Cul%3E%20%20%20%20%20%3C/div%3E%60%29%5B0%5D%3B%0A%20%20%20%20%20%20%20%20%20%20%20%20popup_39bf9ee8dc7e4be9b5c7665e0d14695b.setContent%28html_b625583a9a604755adaeb2c40ffc5400%29%3B%0A%20%20%20%20%20%20%20%20%0A%0A%20%20%20%20%20%20%20%20marker_3aa2cc729b874b6d98d1b92b530d7abf.bindPopup%28popup_39bf9ee8dc7e4be9b5c7665e0d14695b%29%0A%20%20%20%20%20%20%20%20%3B%0A%0A%20%20%20%20%20%20%20%20%0A%20%20%20%20%0A%20%20%20%20%0A%20%20%20%20%20%20%20%20%20%20%20%20var%20marker_34a6b0aa323c4cf7a28fc995ce2828cb%20%3D%20L.marker%28%0A%20%20%20%20%20%20%20%20%20%20%20%20%20%20%20%20%5B43.777438%2C%2011.253398%5D%2C%0A%20%20%20%20%20%20%20%20%20%20%20%20%20%20%20%20%7B%7D%0A%20%20%20%20%20%20%20%20%20%20%20%20%29.addTo%28map_cb5ddea0a149466984ccacda88dfafab%29%3B%0A%20%20%20%20%20%20%20%20%0A%20%20%20%20%0A%20%20%20%20%20%20%20%20var%20popup_36e79fa492584071bae246cc918912d5%20%3D%20L.popup%28%7B%22maxWidth%22%3A%20%22100%25%22%7D%29%3B%0A%0A%20%20%20%20%20%20%20%20%0A%20%20%20%20%20%20%20%20%20%20%20%20var%20html_141dd96173074e768128622471f1fe25%20%3D%20%24%28%60%3Cdiv%20id%3D%22html_141dd96173074e768128622471f1fe25%22%20style%3D%22width%3A%20100.0%25%3B%20height%3A%20100.0%25%3B%22%3E%20%20%20%20%20%20%20%20%20%3Cul%3E%20%20%20%20%20%20%20%20%20%20%20%20%20%3Cli%3E%3Cstrong%3EID%3A%20%3C/strong%3E47%3C/li%3E%20%20%20%20%20%20%20%20%20%20%20%20%20%3Cli%3E%3Cstrong%3ESource%3A%20%3C/strong%3EHenderson%20P%26C%20%2361%3C/li%3E%20%20%20%20%20%20%20%20%20%20%20%20%20%3Cli%3E%3Cstrong%3EName%3A%20%3C/strong%3EAntonio%20di%20Francesco%2C%20ciabattino%3C/li%3E%20%20%20%20%20%20%20%20%20%3Cul%3E%20%20%20%20%20%3C/div%3E%60%29%5B0%5D%3B%0A%20%20%20%20%20%20%20%20%20%20%20%20popup_36e79fa492584071bae246cc918912d5.setContent%28html_141dd96173074e768128622471f1fe25%29%3B%0A%20%20%20%20%20%20%20%20%0A%0A%20%20%20%20%20%20%20%20marker_34a6b0aa323c4cf7a28fc995ce2828cb.bindPopup%28popup_36e79fa492584071bae246cc918912d5%29%0A%20%20%20%20%20%20%20%20%3B%0A%0A%20%20%20%20%20%20%20%20%0A%20%20%20%20%0A%20%20%20%20%0A%20%20%20%20%20%20%20%20%20%20%20%20var%20marker_bdd6e55e1430460b9d36c90dae7808ca%20%3D%20L.marker%28%0A%20%20%20%20%20%20%20%20%20%20%20%20%20%20%20%20%5B43.77206267%2C%2011.26117733%5D%2C%0A%20%20%20%20%20%20%20%20%20%20%20%20%20%20%20%20%7B%7D%0A%20%20%20%20%20%20%20%20%20%20%20%20%29.addTo%28map_cb5ddea0a149466984ccacda88dfafab%29%3B%0A%20%20%20%20%20%20%20%20%0A%20%20%20%20%0A%20%20%20%20%20%20%20%20var%20popup_a788fdd3dc464e3fa6da8cd17f478bde%20%3D%20L.popup%28%7B%22maxWidth%22%3A%20%22100%25%22%7D%29%3B%0A%0A%20%20%20%20%20%20%20%20%0A%20%20%20%20%20%20%20%20%20%20%20%20var%20html_29c4727fd73b438c89b14dae33f99192%20%3D%20%24%28%60%3Cdiv%20id%3D%22html_29c4727fd73b438c89b14dae33f99192%22%20style%3D%22width%3A%20100.0%25%3B%20height%3A%20100.0%25%3B%22%3E%20%20%20%20%20%20%20%20%20%3Cul%3E%20%20%20%20%20%20%20%20%20%20%20%20%20%3Cli%3E%3Cstrong%3EID%3A%20%3C/strong%3E2122%3C/li%3E%20%20%20%20%20%20%20%20%20%20%20%20%20%3Cli%3E%3Cstrong%3ESource%3A%20%3C/strong%3EHenderson%20P%26C%20%2361%3C/li%3E%20%20%20%20%20%20%20%20%20%20%20%20%20%3Cli%3E%3Cstrong%3EName%3A%20%3C/strong%3EConte%2C%20divettino%3C/li%3E%20%20%20%20%20%20%20%20%20%3Cul%3E%20%20%20%20%20%3C/div%3E%60%29%5B0%5D%3B%0A%20%20%20%20%20%20%20%20%20%20%20%20popup_a788fdd3dc464e3fa6da8cd17f478bde.setContent%28html_29c4727fd73b438c89b14dae33f99192%29%3B%0A%20%20%20%20%20%20%20%20%0A%0A%20%20%20%20%20%20%20%20marker_bdd6e55e1430460b9d36c90dae7808ca.bindPopup%28popup_a788fdd3dc464e3fa6da8cd17f478bde%29%0A%20%20%20%20%20%20%20%20%3B%0A%0A%20%20%20%20%20%20%20%20%0A%20%20%20%20%0A%20%20%20%20%0A%20%20%20%20%20%20%20%20%20%20%20%20var%20marker_35e7ccddb80e4775bcf27d1d0017df38%20%3D%20L.marker%28%0A%20%20%20%20%20%20%20%20%20%20%20%20%20%20%20%20%5B43.77092867%2C%2011.26371433%5D%2C%0A%20%20%20%20%20%20%20%20%20%20%20%20%20%20%20%20%7B%7D%0A%20%20%20%20%20%20%20%20%20%20%20%20%29.addTo%28map_cb5ddea0a149466984ccacda88dfafab%29%3B%0A%20%20%20%20%20%20%20%20%0A%20%20%20%20%0A%20%20%20%20%20%20%20%20var%20popup_c11728b6349c44bf9bbc99921d065550%20%3D%20L.popup%28%7B%22maxWidth%22%3A%20%22100%25%22%7D%29%3B%0A%0A%20%20%20%20%20%20%20%20%0A%20%20%20%20%20%20%20%20%20%20%20%20var%20html_3789a71d0584446599da8bd6d3dc9058%20%3D%20%24%28%60%3Cdiv%20id%3D%22html_3789a71d0584446599da8bd6d3dc9058%22%20style%3D%22width%3A%20100.0%25%3B%20height%3A%20100.0%25%3B%22%3E%20%20%20%20%20%20%20%20%20%3Cul%3E%20%20%20%20%20%20%20%20%20%20%20%20%20%3Cli%3E%3Cstrong%3EID%3A%20%3C/strong%3E3124%3C/li%3E%20%20%20%20%20%20%20%20%20%20%20%20%20%3Cli%3E%3Cstrong%3ESource%3A%20%3C/strong%3EHenderson%20P%26C%20%2361%3C/li%3E%20%20%20%20%20%20%20%20%20%20%20%20%20%3Cli%3E%3Cstrong%3EName%3A%20%3C/strong%3EAndrea%20di%20Jacopo%20Romagnuolo%3C/li%3E%20%20%20%20%20%20%20%20%20%3Cul%3E%20%20%20%20%20%3C/div%3E%60%29%5B0%5D%3B%0A%20%20%20%20%20%20%20%20%20%20%20%20popup_c11728b6349c44bf9bbc99921d065550.setContent%28html_3789a71d0584446599da8bd6d3dc9058%29%3B%0A%20%20%20%20%20%20%20%20%0A%0A%20%20%20%20%20%20%20%20marker_35e7ccddb80e4775bcf27d1d0017df38.bindPopup%28popup_c11728b6349c44bf9bbc99921d065550%29%0A%20%20%20%20%20%20%20%20%3B%0A%0A%20%20%20%20%20%20%20%20%0A%20%20%20%20%0A%20%20%20%20%0A%20%20%20%20%20%20%20%20%20%20%20%20var%20marker_13b7f50cdd8b4e7fb72acdd69129d67e%20%3D%20L.marker%28%0A%20%20%20%20%20%20%20%20%20%20%20%20%20%20%20%20%5B43.77706373%2C%2011.24898549%5D%2C%0A%20%20%20%20%20%20%20%20%20%20%20%20%20%20%20%20%7B%7D%0A%20%20%20%20%20%20%20%20%20%20%20%20%29.addTo%28map_cb5ddea0a149466984ccacda88dfafab%29%3B%0A%20%20%20%20%20%20%20%20%0A%20%20%20%20%0A%20%20%20%20%20%20%20%20var%20popup_07fa3cd428584d7d824405397ce791cd%20%3D%20L.popup%28%7B%22maxWidth%22%3A%20%22100%25%22%7D%29%3B%0A%0A%20%20%20%20%20%20%20%20%0A%20%20%20%20%20%20%20%20%20%20%20%20var%20html_ff0170a4bedc499d83aed310b6df8a54%20%3D%20%24%28%60%3Cdiv%20id%3D%22html_ff0170a4bedc499d83aed310b6df8a54%22%20style%3D%22width%3A%20100.0%25%3B%20height%3A%20100.0%25%3B%22%3E%20%20%20%20%20%20%20%20%20%3Cul%3E%20%20%20%20%20%20%20%20%20%20%20%20%20%3Cli%3E%3Cstrong%3EID%3A%20%3C/strong%3E4501%3C/li%3E%20%20%20%20%20%20%20%20%20%20%20%20%20%3Cli%3E%3Cstrong%3ESource%3A%20%3C/strong%3EHenderson%20P%26C%20%236%3C/li%3E%20%20%20%20%20%20%20%20%20%20%20%20%20%3Cli%3E%3Cstrong%3EName%3A%20%3C/strong%3EGuiliano%20d%27%20Antonio%2C%20fattorino%3C/li%3E%20%20%20%20%20%20%20%20%20%3Cul%3E%20%20%20%20%20%3C/div%3E%60%29%5B0%5D%3B%0A%20%20%20%20%20%20%20%20%20%20%20%20popup_07fa3cd428584d7d824405397ce791cd.setContent%28html_ff0170a4bedc499d83aed310b6df8a54%29%3B%0A%20%20%20%20%20%20%20%20%0A%0A%20%20%20%20%20%20%20%20marker_13b7f50cdd8b4e7fb72acdd69129d67e.bindPopup%28popup_07fa3cd428584d7d824405397ce791cd%29%0A%20%20%20%20%20%20%20%20%3B%0A%0A%20%20%20%20%20%20%20%20%0A%20%20%20%20%0A%20%20%20%20%0A%20%20%20%20%20%20%20%20%20%20%20%20var%20marker_971e56bdee4a4cbbaac437dfff62435b%20%3D%20L.marker%28%0A%20%20%20%20%20%20%20%20%20%20%20%20%20%20%20%20%5B43.771575%2C%2011.265926%5D%2C%0A%20%20%20%20%20%20%20%20%20%20%20%20%20%20%20%20%7B%7D%0A%20%20%20%20%20%20%20%20%20%20%20%20%29.addTo%28map_cb5ddea0a149466984ccacda88dfafab%29%3B%0A%20%20%20%20%20%20%20%20%0A%20%20%20%20%0A%20%20%20%20%20%20%20%20var%20popup_1b99bd661af440dfaefece7496a5b8f6%20%3D%20L.popup%28%7B%22maxWidth%22%3A%20%22100%25%22%7D%29%3B%0A%0A%20%20%20%20%20%20%20%20%0A%20%20%20%20%20%20%20%20%20%20%20%20var%20html_12ab7ff1c05046dd83ef6200ee398a1c%20%3D%20%24%28%60%3Cdiv%20id%3D%22html_12ab7ff1c05046dd83ef6200ee398a1c%22%20style%3D%22width%3A%20100.0%25%3B%20height%3A%20100.0%25%3B%22%3E%20%20%20%20%20%20%20%20%20%3Cul%3E%20%20%20%20%20%20%20%20%20%20%20%20%20%3Cli%3E%3Cstrong%3EID%3A%20%3C/strong%3E2873%3C/li%3E%20%20%20%20%20%20%20%20%20%20%20%20%20%3Cli%3E%3Cstrong%3ESource%3A%20%3C/strong%3Enan%3C/li%3E%20%20%20%20%20%20%20%20%20%20%20%20%20%3Cli%3E%3Cstrong%3EName%3A%20%3C/strong%3EAndrea%20di%20Lexandro%20del%20Fede%3C/li%3E%20%20%20%20%20%20%20%20%20%3Cul%3E%20%20%20%20%20%3C/div%3E%60%29%5B0%5D%3B%0A%20%20%20%20%20%20%20%20%20%20%20%20popup_1b99bd661af440dfaefece7496a5b8f6.setContent%28html_12ab7ff1c05046dd83ef6200ee398a1c%29%3B%0A%20%20%20%20%20%20%20%20%0A%0A%20%20%20%20%20%20%20%20marker_971e56bdee4a4cbbaac437dfff62435b.bindPopup%28popup_1b99bd661af440dfaefece7496a5b8f6%29%0A%20%20%20%20%20%20%20%20%3B%0A%0A%20%20%20%20%20%20%20%20%0A%20%20%20%20%0A%20%20%20%20%0A%20%20%20%20%20%20%20%20%20%20%20%20var%20marker_d22fe315b13b458baecf41113bbd0def%20%3D%20L.marker%28%0A%20%20%20%20%20%20%20%20%20%20%20%20%20%20%20%20%5B43.768454%2C%2011.257542%5D%2C%0A%20%20%20%20%20%20%20%20%20%20%20%20%20%20%20%20%7B%7D%0A%20%20%20%20%20%20%20%20%20%20%20%20%29.addTo%28map_cb5ddea0a149466984ccacda88dfafab%29%3B%0A%20%20%20%20%20%20%20%20%0A%20%20%20%20%0A%20%20%20%20%20%20%20%20var%20popup_392030ef266b421a99fac89461c3c2ce%20%3D%20L.popup%28%7B%22maxWidth%22%3A%20%22100%25%22%7D%29%3B%0A%0A%20%20%20%20%20%20%20%20%0A%20%20%20%20%20%20%20%20%20%20%20%20var%20html_89f2ca4b679a41a5adc5c4d9c72c8b68%20%3D%20%24%28%60%3Cdiv%20id%3D%22html_89f2ca4b679a41a5adc5c4d9c72c8b68%22%20style%3D%22width%3A%20100.0%25%3B%20height%3A%20100.0%25%3B%22%3E%20%20%20%20%20%20%20%20%20%3Cul%3E%20%20%20%20%20%20%20%20%20%20%20%20%20%3Cli%3E%3Cstrong%3EID%3A%20%3C/strong%3E4758%3C/li%3E%20%20%20%20%20%20%20%20%20%20%20%20%20%3Cli%3E%3Cstrong%3ESource%3A%20%3C/strong%3Enan%3C/li%3E%20%20%20%20%20%20%20%20%20%20%20%20%20%3Cli%3E%3Cstrong%3EName%3A%20%3C/strong%3EVincenzo%20di%20Tommaso%20Bandini%3C/li%3E%20%20%20%20%20%20%20%20%20%3Cul%3E%20%20%20%20%20%3C/div%3E%60%29%5B0%5D%3B%0A%20%20%20%20%20%20%20%20%20%20%20%20popup_392030ef266b421a99fac89461c3c2ce.setContent%28html_89f2ca4b679a41a5adc5c4d9c72c8b68%29%3B%0A%20%20%20%20%20%20%20%20%0A%0A%20%20%20%20%20%20%20%20marker_d22fe315b13b458baecf41113bbd0def.bindPopup%28popup_392030ef266b421a99fac89461c3c2ce%29%0A%20%20%20%20%20%20%20%20%3B%0A%0A%20%20%20%20%20%20%20%20%0A%20%20%20%20%0A%20%20%20%20%0A%20%20%20%20%20%20%20%20%20%20%20%20var%20marker_5bbdd387957c4e489aa941ce8d2cc334%20%3D%20L.marker%28%0A%20%20%20%20%20%20%20%20%20%20%20%20%20%20%20%20%5B43.77538%2C%2011.24949%5D%2C%0A%20%20%20%20%20%20%20%20%20%20%20%20%20%20%20%20%7B%7D%0A%20%20%20%20%20%20%20%20%20%20%20%20%29.addTo%28map_cb5ddea0a149466984ccacda88dfafab%29%3B%0A%20%20%20%20%20%20%20%20%0A%20%20%20%20%0A%20%20%20%20%20%20%20%20var%20popup_656c500ae8814c6897e2daaacfc6dbb7%20%3D%20L.popup%28%7B%22maxWidth%22%3A%20%22100%25%22%7D%29%3B%0A%0A%20%20%20%20%20%20%20%20%0A%20%20%20%20%20%20%20%20%20%20%20%20var%20html_de79f300cb9447ca8e71ba16141a8539%20%3D%20%24%28%60%3Cdiv%20id%3D%22html_de79f300cb9447ca8e71ba16141a8539%22%20style%3D%22width%3A%20100.0%25%3B%20height%3A%20100.0%25%3B%22%3E%20%20%20%20%20%20%20%20%20%3Cul%3E%20%20%20%20%20%20%20%20%20%20%20%20%20%3Cli%3E%3Cstrong%3EID%3A%20%3C/strong%3E4024%3C/li%3E%20%20%20%20%20%20%20%20%20%20%20%20%20%3Cli%3E%3Cstrong%3ESource%3A%20%3C/strong%3Enan%3C/li%3E%20%20%20%20%20%20%20%20%20%20%20%20%20%3Cli%3E%3Cstrong%3EName%3A%20%3C/strong%3EVincenzo%20di%20Francesco%20Becchino%3C/li%3E%20%20%20%20%20%20%20%20%20%3Cul%3E%20%20%20%20%20%3C/div%3E%60%29%5B0%5D%3B%0A%20%20%20%20%20%20%20%20%20%20%20%20popup_656c500ae8814c6897e2daaacfc6dbb7.setContent%28html_de79f300cb9447ca8e71ba16141a8539%29%3B%0A%20%20%20%20%20%20%20%20%0A%0A%20%20%20%20%20%20%20%20marker_5bbdd387957c4e489aa941ce8d2cc334.bindPopup%28popup_656c500ae8814c6897e2daaacfc6dbb7%29%0A%20%20%20%20%20%20%20%20%3B%0A%0A%20%20%20%20%20%20%20%20%0A%20%20%20%20%0A%20%20%20%20%0A%20%20%20%20%20%20%20%20%20%20%20%20var%20marker_eb264a1fde664b0d8f6bd5877e78344d%20%3D%20L.marker%28%0A%20%20%20%20%20%20%20%20%20%20%20%20%20%20%20%20%5B43.77695321%2C%2011.25422064%5D%2C%0A%20%20%20%20%20%20%20%20%20%20%20%20%20%20%20%20%7B%7D%0A%20%20%20%20%20%20%20%20%20%20%20%20%29.addTo%28map_cb5ddea0a149466984ccacda88dfafab%29%3B%0A%20%20%20%20%20%20%20%20%0A%20%20%20%20%0A%20%20%20%20%20%20%20%20var%20popup_3c27f6affca647b28233c830288dc515%20%3D%20L.popup%28%7B%22maxWidth%22%3A%20%22100%25%22%7D%29%3B%0A%0A%20%20%20%20%20%20%20%20%0A%20%20%20%20%20%20%20%20%20%20%20%20var%20html_1a0ab8b1f6e64b4a8f07da242ff48852%20%3D%20%24%28%60%3Cdiv%20id%3D%22html_1a0ab8b1f6e64b4a8f07da242ff48852%22%20style%3D%22width%3A%20100.0%25%3B%20height%3A%20100.0%25%3B%22%3E%20%20%20%20%20%20%20%20%20%3Cul%3E%20%20%20%20%20%20%20%20%20%20%20%20%20%3Cli%3E%3Cstrong%3EID%3A%20%3C/strong%3E283%3C/li%3E%20%20%20%20%20%20%20%20%20%20%20%20%20%3Cli%3E%3Cstrong%3ESource%3A%20%3C/strong%3EHenderson%20P%26C%20%23156%3C/li%3E%20%20%20%20%20%20%20%20%20%20%20%20%20%3Cli%3E%3Cstrong%3EName%3A%20%3C/strong%3EDaniello%20di%20Piero%20MAnnaii%2C%20tessitore%3C/li%3E%20%20%20%20%20%20%20%20%20%3Cul%3E%20%20%20%20%20%3C/div%3E%60%29%5B0%5D%3B%0A%20%20%20%20%20%20%20%20%20%20%20%20popup_3c27f6affca647b28233c830288dc515.setContent%28html_1a0ab8b1f6e64b4a8f07da242ff48852%29%3B%0A%20%20%20%20%20%20%20%20%0A%0A%20%20%20%20%20%20%20%20marker_eb264a1fde664b0d8f6bd5877e78344d.bindPopup%28popup_3c27f6affca647b28233c830288dc515%29%0A%20%20%20%20%20%20%20%20%3B%0A%0A%20%20%20%20%20%20%20%20%0A%20%20%20%20%0A%20%20%20%20%0A%20%20%20%20%20%20%20%20%20%20%20%20var%20marker_51c83f6572194436a54716be90079fc2%20%3D%20L.marker%28%0A%20%20%20%20%20%20%20%20%20%20%20%20%20%20%20%20%5B43.77731413%2C%2011.25176996%5D%2C%0A%20%20%20%20%20%20%20%20%20%20%20%20%20%20%20%20%7B%7D%0A%20%20%20%20%20%20%20%20%20%20%20%20%29.addTo%28map_cb5ddea0a149466984ccacda88dfafab%29%3B%0A%20%20%20%20%20%20%20%20%0A%20%20%20%20%0A%20%20%20%20%20%20%20%20var%20popup_220d0eed6e054102b0938782b2da52ce%20%3D%20L.popup%28%7B%22maxWidth%22%3A%20%22100%25%22%7D%29%3B%0A%0A%20%20%20%20%20%20%20%20%0A%20%20%20%20%20%20%20%20%20%20%20%20var%20html_c8ceddc9f45649aca145cdea75ae5aeb%20%3D%20%24%28%60%3Cdiv%20id%3D%22html_c8ceddc9f45649aca145cdea75ae5aeb%22%20style%3D%22width%3A%20100.0%25%3B%20height%3A%20100.0%25%3B%22%3E%20%20%20%20%20%20%20%20%20%3Cul%3E%20%20%20%20%20%20%20%20%20%20%20%20%20%3Cli%3E%3Cstrong%3EID%3A%20%3C/strong%3E41%3C/li%3E%20%20%20%20%20%20%20%20%20%20%20%20%20%3Cli%3E%3Cstrong%3ESource%3A%20%3C/strong%3Enan%3C/li%3E%20%20%20%20%20%20%20%20%20%20%20%20%20%3Cli%3E%3Cstrong%3EName%3A%20%3C/strong%3Eser%20Giovanni%20d%27%20Agnolo%20dalla%20Pieve%20a%20Presciano%3C/li%3E%20%20%20%20%20%20%20%20%20%3Cul%3E%20%20%20%20%20%3C/div%3E%60%29%5B0%5D%3B%0A%20%20%20%20%20%20%20%20%20%20%20%20popup_220d0eed6e054102b0938782b2da52ce.setContent%28html_c8ceddc9f45649aca145cdea75ae5aeb%29%3B%0A%20%20%20%20%20%20%20%20%0A%0A%20%20%20%20%20%20%20%20marker_51c83f6572194436a54716be90079fc2.bindPopup%28popup_220d0eed6e054102b0938782b2da52ce%29%0A%20%20%20%20%20%20%20%20%3B%0A%0A%20%20%20%20%20%20%20%20%0A%20%20%20%20%0A%20%20%20%20%0A%20%20%20%20%20%20%20%20%20%20%20%20var%20marker_530799c6f2c24d93929e6538ef97e0b2%20%3D%20L.marker%28%0A%20%20%20%20%20%20%20%20%20%20%20%20%20%20%20%20%5B43.77295667%2C%2011.25918333%5D%2C%0A%20%20%20%20%20%20%20%20%20%20%20%20%20%20%20%20%7B%7D%0A%20%20%20%20%20%20%20%20%20%20%20%20%29.addTo%28map_cb5ddea0a149466984ccacda88dfafab%29%3B%0A%20%20%20%20%20%20%20%20%0A%20%20%20%20%0A%20%20%20%20%20%20%20%20var%20popup_486954dd8e6f4d90af66d6f14b3ccbff%20%3D%20L.popup%28%7B%22maxWidth%22%3A%20%22100%25%22%7D%29%3B%0A%0A%20%20%20%20%20%20%20%20%0A%20%20%20%20%20%20%20%20%20%20%20%20var%20html_d530d3559b404641bbaee31236f3f5d3%20%3D%20%24%28%60%3Cdiv%20id%3D%22html_d530d3559b404641bbaee31236f3f5d3%22%20style%3D%22width%3A%20100.0%25%3B%20height%3A%20100.0%25%3B%22%3E%20%20%20%20%20%20%20%20%20%3Cul%3E%20%20%20%20%20%20%20%20%20%20%20%20%20%3Cli%3E%3Cstrong%3EID%3A%20%3C/strong%3E2002%3C/li%3E%20%20%20%20%20%20%20%20%20%20%20%20%20%3Cli%3E%3Cstrong%3ESource%3A%20%3C/strong%3Enan%3C/li%3E%20%20%20%20%20%20%20%20%20%20%20%20%20%3Cli%3E%3Cstrong%3EName%3A%20%3C/strong%3EBastiano%20di%20Chimenti%20Renzini%3C/li%3E%20%20%20%20%20%20%20%20%20%3Cul%3E%20%20%20%20%20%3C/div%3E%60%29%5B0%5D%3B%0A%20%20%20%20%20%20%20%20%20%20%20%20popup_486954dd8e6f4d90af66d6f14b3ccbff.setContent%28html_d530d3559b404641bbaee31236f3f5d3%29%3B%0A%20%20%20%20%20%20%20%20%0A%0A%20%20%20%20%20%20%20%20marker_530799c6f2c24d93929e6538ef97e0b2.bindPopup%28popup_486954dd8e6f4d90af66d6f14b3ccbff%29%0A%20%20%20%20%20%20%20%20%3B%0A%0A%20%20%20%20%20%20%20%20%0A%20%20%20%20%0A%20%20%20%20%0A%20%20%20%20%20%20%20%20%20%20%20%20var%20marker_c580efb462f34a6a83c6510961b187ad%20%3D%20L.marker%28%0A%20%20%20%20%20%20%20%20%20%20%20%20%20%20%20%20%5B43.772025%2C%2011.24917%5D%2C%0A%20%20%20%20%20%20%20%20%20%20%20%20%20%20%20%20%7B%7D%0A%20%20%20%20%20%20%20%20%20%20%20%20%29.addTo%28map_cb5ddea0a149466984ccacda88dfafab%29%3B%0A%20%20%20%20%20%20%20%20%0A%20%20%20%20%0A%20%20%20%20%20%20%20%20var%20popup_4addbba700fb4295872ae214be9d62a4%20%3D%20L.popup%28%7B%22maxWidth%22%3A%20%22100%25%22%7D%29%3B%0A%0A%20%20%20%20%20%20%20%20%0A%20%20%20%20%20%20%20%20%20%20%20%20var%20html_70ecfa255b04444a87221514b4719ade%20%3D%20%24%28%60%3Cdiv%20id%3D%22html_70ecfa255b04444a87221514b4719ade%22%20style%3D%22width%3A%20100.0%25%3B%20height%3A%20100.0%25%3B%22%3E%20%20%20%20%20%20%20%20%20%3Cul%3E%20%20%20%20%20%20%20%20%20%20%20%20%20%3Cli%3E%3Cstrong%3EID%3A%20%3C/strong%3E5222%3C/li%3E%20%20%20%20%20%20%20%20%20%20%20%20%20%3Cli%3E%3Cstrong%3ESource%3A%20%3C/strong%3EHenderson%20P%26C%20%232%3C/li%3E%20%20%20%20%20%20%20%20%20%20%20%20%20%3Cli%3E%3Cstrong%3EName%3A%20%3C/strong%3EMona%20Maddalena%2C%20moglie%20gia%20di%20Lorenzo%2C%20oste%3C/li%3E%20%20%20%20%20%20%20%20%20%3Cul%3E%20%20%20%20%20%3C/div%3E%60%29%5B0%5D%3B%0A%20%20%20%20%20%20%20%20%20%20%20%20popup_4addbba700fb4295872ae214be9d62a4.setContent%28html_70ecfa255b04444a87221514b4719ade%29%3B%0A%20%20%20%20%20%20%20%20%0A%0A%20%20%20%20%20%20%20%20marker_c580efb462f34a6a83c6510961b187ad.bindPopup%28popup_4addbba700fb4295872ae214be9d62a4%29%0A%20%20%20%20%20%20%20%20%3B%0A%0A%20%20%20%20%20%20%20%20%0A%20%20%20%20%0A%20%20%20%20%0A%20%20%20%20%20%20%20%20%20%20%20%20var%20marker_9656a2cd844c47c1b3099c60e3918f2f%20%3D%20L.marker%28%0A%20%20%20%20%20%20%20%20%20%20%20%20%20%20%20%20%5B43.76572779%2C%2011.24389164%5D%2C%0A%20%20%20%20%20%20%20%20%20%20%20%20%20%20%20%20%7B%7D%0A%20%20%20%20%20%20%20%20%20%20%20%20%29.addTo%28map_cb5ddea0a149466984ccacda88dfafab%29%3B%0A%20%20%20%20%20%20%20%20%0A%20%20%20%20%0A%20%20%20%20%20%20%20%20var%20popup_365f9b503cca40b9b41de4987b167942%20%3D%20L.popup%28%7B%22maxWidth%22%3A%20%22100%25%22%7D%29%3B%0A%0A%20%20%20%20%20%20%20%20%0A%20%20%20%20%20%20%20%20%20%20%20%20var%20html_bc205b5d75824dd6b5a0b50ba1d45822%20%3D%20%24%28%60%3Cdiv%20id%3D%22html_bc205b5d75824dd6b5a0b50ba1d45822%22%20style%3D%22width%3A%20100.0%25%3B%20height%3A%20100.0%25%3B%22%3E%20%20%20%20%20%20%20%20%20%3Cul%3E%20%20%20%20%20%20%20%20%20%20%20%20%20%3Cli%3E%3Cstrong%3EID%3A%20%3C/strong%3E7374%3C/li%3E%20%20%20%20%20%20%20%20%20%20%20%20%20%3Cli%3E%3Cstrong%3ESource%3A%20%3C/strong%3EHenderson%20P%26C%20%232%3C/li%3E%20%20%20%20%20%20%20%20%20%20%20%20%20%3Cli%3E%3Cstrong%3EName%3A%20%3C/strong%3EBatista%20di%20Bartolomeo%20di%20Batista%20tessitore%20di%20drappi%3C/li%3E%20%20%20%20%20%20%20%20%20%3Cul%3E%20%20%20%20%20%3C/div%3E%60%29%5B0%5D%3B%0A%20%20%20%20%20%20%20%20%20%20%20%20popup_365f9b503cca40b9b41de4987b167942.setContent%28html_bc205b5d75824dd6b5a0b50ba1d45822%29%3B%0A%20%20%20%20%20%20%20%20%0A%0A%20%20%20%20%20%20%20%20marker_9656a2cd844c47c1b3099c60e3918f2f.bindPopup%28popup_365f9b503cca40b9b41de4987b167942%29%0A%20%20%20%20%20%20%20%20%3B%0A%0A%20%20%20%20%20%20%20%20%0A%20%20%20%20%0A%20%20%20%20%0A%20%20%20%20%20%20%20%20%20%20%20%20var%20marker_e276db9c2de044dd955aa717cb629850%20%3D%20L.marker%28%0A%20%20%20%20%20%20%20%20%20%20%20%20%20%20%20%20%5B43.76868867%2C%2011.24354133%5D%2C%0A%20%20%20%20%20%20%20%20%20%20%20%20%20%20%20%20%7B%7D%0A%20%20%20%20%20%20%20%20%20%20%20%20%29.addTo%28map_cb5ddea0a149466984ccacda88dfafab%29%3B%0A%20%20%20%20%20%20%20%20%0A%20%20%20%20%0A%20%20%20%20%20%20%20%20var%20popup_863c343e40af4bb395b25d20dd0ee3f6%20%3D%20L.popup%28%7B%22maxWidth%22%3A%20%22100%25%22%7D%29%3B%0A%0A%20%20%20%20%20%20%20%20%0A%20%20%20%20%20%20%20%20%20%20%20%20var%20html_f7c19df2fae746689135d7ec6ffc99b1%20%3D%20%24%28%60%3Cdiv%20id%3D%22html_f7c19df2fae746689135d7ec6ffc99b1%22%20style%3D%22width%3A%20100.0%25%3B%20height%3A%20100.0%25%3B%22%3E%20%20%20%20%20%20%20%20%20%3Cul%3E%20%20%20%20%20%20%20%20%20%20%20%20%20%3Cli%3E%3Cstrong%3EID%3A%20%3C/strong%3E8490%3C/li%3E%20%20%20%20%20%20%20%20%20%20%20%20%20%3Cli%3E%3Cstrong%3ESource%3A%20%3C/strong%3EHenderson%20P%26C%20%232%3C/li%3E%20%20%20%20%20%20%20%20%20%20%20%20%20%3Cli%3E%3Cstrong%3EName%3A%20%3C/strong%3E6%20donne%20vedove%3C/li%3E%20%20%20%20%20%20%20%20%20%3Cul%3E%20%20%20%20%20%3C/div%3E%60%29%5B0%5D%3B%0A%20%20%20%20%20%20%20%20%20%20%20%20popup_863c343e40af4bb395b25d20dd0ee3f6.setContent%28html_f7c19df2fae746689135d7ec6ffc99b1%29%3B%0A%20%20%20%20%20%20%20%20%0A%0A%20%20%20%20%20%20%20%20marker_e276db9c2de044dd955aa717cb629850.bindPopup%28popup_863c343e40af4bb395b25d20dd0ee3f6%29%0A%20%20%20%20%20%20%20%20%3B%0A%0A%20%20%20%20%20%20%20%20%0A%20%20%20%20%0A%20%20%20%20%0A%20%20%20%20%20%20%20%20%20%20%20%20var%20marker_becbb52d57eb48bdbe2572eef5e73461%20%3D%20L.marker%28%0A%20%20%20%20%20%20%20%20%20%20%20%20%20%20%20%20%5B43.76966957%2C%2011.24372429%5D%2C%0A%20%20%20%20%20%20%20%20%20%20%20%20%20%20%20%20%7B%7D%0A%20%20%20%20%20%20%20%20%20%20%20%20%29.addTo%28map_cb5ddea0a149466984ccacda88dfafab%29%3B%0A%20%20%20%20%20%20%20%20%0A%20%20%20%20%0A%20%20%20%20%20%20%20%20var%20popup_30d3e18349b84e6ab3704432837ce84d%20%3D%20L.popup%28%7B%22maxWidth%22%3A%20%22100%25%22%7D%29%3B%0A%0A%20%20%20%20%20%20%20%20%0A%20%20%20%20%20%20%20%20%20%20%20%20var%20html_318d50f07f8f4451ad2e4a2251937273%20%3D%20%24%28%60%3Cdiv%20id%3D%22html_318d50f07f8f4451ad2e4a2251937273%22%20style%3D%22width%3A%20100.0%25%3B%20height%3A%20100.0%25%3B%22%3E%20%20%20%20%20%20%20%20%20%3Cul%3E%20%20%20%20%20%20%20%20%20%20%20%20%20%3Cli%3E%3Cstrong%3EID%3A%20%3C/strong%3E8531%3C/li%3E%20%20%20%20%20%20%20%20%20%20%20%20%20%3Cli%3E%3Cstrong%3ESource%3A%20%3C/strong%3EHenderson%20P%26C%20%232%3C/li%3E%20%20%20%20%20%20%20%20%20%20%20%20%20%3Cli%3E%3Cstrong%3EName%3A%20%3C/strong%3EPandolfo%20di%20Giuliano%20da%20Brucianese%3C/li%3E%20%20%20%20%20%20%20%20%20%3Cul%3E%20%20%20%20%20%3C/div%3E%60%29%5B0%5D%3B%0A%20%20%20%20%20%20%20%20%20%20%20%20popup_30d3e18349b84e6ab3704432837ce84d.setContent%28html_318d50f07f8f4451ad2e4a2251937273%29%3B%0A%20%20%20%20%20%20%20%20%0A%0A%20%20%20%20%20%20%20%20marker_becbb52d57eb48bdbe2572eef5e73461.bindPopup%28popup_30d3e18349b84e6ab3704432837ce84d%29%0A%20%20%20%20%20%20%20%20%3B%0A%0A%20%20%20%20%20%20%20%20%0A%20%20%20%20%0A%20%20%20%20%0A%20%20%20%20%20%20%20%20%20%20%20%20var%20marker_86e804da10024d24ad06a2e2efde9aa4%20%3D%20L.marker%28%0A%20%20%20%20%20%20%20%20%20%20%20%20%20%20%20%20%5B43.771942%2C%2011.252478%5D%2C%0A%20%20%20%20%20%20%20%20%20%20%20%20%20%20%20%20%7B%7D%0A%20%20%20%20%20%20%20%20%20%20%20%20%29.addTo%28map_cb5ddea0a149466984ccacda88dfafab%29%3B%0A%20%20%20%20%20%20%20%20%0A%20%20%20%20%0A%20%20%20%20%20%20%20%20var%20popup_3d94ee7cdad14a46a5e3fbc9a069d486%20%3D%20L.popup%28%7B%22maxWidth%22%3A%20%22100%25%22%7D%29%3B%0A%0A%20%20%20%20%20%20%20%20%0A%20%20%20%20%20%20%20%20%20%20%20%20var%20html_5c579c1b6cb54f32a52b6f0efb86633c%20%3D%20%24%28%60%3Cdiv%20id%3D%22html_5c579c1b6cb54f32a52b6f0efb86633c%22%20style%3D%22width%3A%20100.0%25%3B%20height%3A%20100.0%25%3B%22%3E%20%20%20%20%20%20%20%20%20%3Cul%3E%20%20%20%20%20%20%20%20%20%20%20%20%20%3Cli%3E%3Cstrong%3EID%3A%20%3C/strong%3E6044%3C/li%3E%20%20%20%20%20%20%20%20%20%20%20%20%20%3Cli%3E%3Cstrong%3ESource%3A%20%3C/strong%3EHenderson%20P%26C%20%2350%3C/li%3E%20%20%20%20%20%20%20%20%20%20%20%20%20%3Cli%3E%3Cstrong%3EName%3A%20%3C/strong%3EMona%20Catarina%2C%20moglie%20gia%20di%20Domenico%2C%20pollaiuolo%3C/li%3E%20%20%20%20%20%20%20%20%20%3Cul%3E%20%20%20%20%20%3C/div%3E%60%29%5B0%5D%3B%0A%20%20%20%20%20%20%20%20%20%20%20%20popup_3d94ee7cdad14a46a5e3fbc9a069d486.setContent%28html_5c579c1b6cb54f32a52b6f0efb86633c%29%3B%0A%20%20%20%20%20%20%20%20%0A%0A%20%20%20%20%20%20%20%20marker_86e804da10024d24ad06a2e2efde9aa4.bindPopup%28popup_3d94ee7cdad14a46a5e3fbc9a069d486%29%0A%20%20%20%20%20%20%20%20%3B%0A%0A%20%20%20%20%20%20%20%20%0A%20%20%20%20%0A%20%20%20%20%0A%20%20%20%20%20%20%20%20%20%20%20%20var%20marker_653ffc5f86ba4ab79354181e8f29a4aa%20%3D%20L.marker%28%0A%20%20%20%20%20%20%20%20%20%20%20%20%20%20%20%20%5B43.76976343%2C%2011.24340071%5D%2C%0A%20%20%20%20%20%20%20%20%20%20%20%20%20%20%20%20%7B%7D%0A%20%20%20%20%20%20%20%20%20%20%20%20%29.addTo%28map_cb5ddea0a149466984ccacda88dfafab%29%3B%0A%20%20%20%20%20%20%20%20%0A%20%20%20%20%0A%20%20%20%20%20%20%20%20var%20popup_0e84f8cad2af401d9b449039969e9b05%20%3D%20L.popup%28%7B%22maxWidth%22%3A%20%22100%25%22%7D%29%3B%0A%0A%20%20%20%20%20%20%20%20%0A%20%20%20%20%20%20%20%20%20%20%20%20var%20html_14522cccf1b04abea71dbe3e3e9d2de5%20%3D%20%24%28%60%3Cdiv%20id%3D%22html_14522cccf1b04abea71dbe3e3e9d2de5%22%20style%3D%22width%3A%20100.0%25%3B%20height%3A%20100.0%25%3B%22%3E%20%20%20%20%20%20%20%20%20%3Cul%3E%20%20%20%20%20%20%20%20%20%20%20%20%20%3Cli%3E%3Cstrong%3EID%3A%20%3C/strong%3E8431%3C/li%3E%20%20%20%20%20%20%20%20%20%20%20%20%20%3Cli%3E%3Cstrong%3ESource%3A%20%3C/strong%3EHenderson%20P%26C%20105%3C/li%3E%20%20%20%20%20%20%20%20%20%20%20%20%20%3Cli%3E%3Cstrong%3EName%3A%20%3C/strong%3ELionardo%20d%27%20Andrea%20oste%3C/li%3E%20%20%20%20%20%20%20%20%20%3Cul%3E%20%20%20%20%20%3C/div%3E%60%29%5B0%5D%3B%0A%20%20%20%20%20%20%20%20%20%20%20%20popup_0e84f8cad2af401d9b449039969e9b05.setContent%28html_14522cccf1b04abea71dbe3e3e9d2de5%29%3B%0A%20%20%20%20%20%20%20%20%0A%0A%20%20%20%20%20%20%20%20marker_653ffc5f86ba4ab79354181e8f29a4aa.bindPopup%28popup_0e84f8cad2af401d9b449039969e9b05%29%0A%20%20%20%20%20%20%20%20%3B%0A%0A%20%20%20%20%20%20%20%20%0A%20%20%20%20%0A%20%20%20%20%0A%20%20%20%20%20%20%20%20%20%20%20%20var%20marker_27c2b1dc22b4457cb4bc9364765beb44%20%3D%20L.marker%28%0A%20%20%20%20%20%20%20%20%20%20%20%20%20%20%20%20%5B43.76669727%2C%2011.25292636%5D%2C%0A%20%20%20%20%20%20%20%20%20%20%20%20%20%20%20%20%7B%7D%0A%20%20%20%20%20%20%20%20%20%20%20%20%29.addTo%28map_cb5ddea0a149466984ccacda88dfafab%29%3B%0A%20%20%20%20%20%20%20%20%0A%20%20%20%20%0A%20%20%20%20%20%20%20%20var%20popup_3ebd8414e74741a19766c5b1c02995b0%20%3D%20L.popup%28%7B%22maxWidth%22%3A%20%22100%25%22%7D%29%3B%0A%0A%20%20%20%20%20%20%20%20%0A%20%20%20%20%20%20%20%20%20%20%20%20var%20html_813657e7960f491492be34a2c6f9cf25%20%3D%20%24%28%60%3Cdiv%20id%3D%22html_813657e7960f491492be34a2c6f9cf25%22%20style%3D%22width%3A%20100.0%25%3B%20height%3A%20100.0%25%3B%22%3E%20%20%20%20%20%20%20%20%20%3Cul%3E%20%20%20%20%20%20%20%20%20%20%20%20%20%3Cli%3E%3Cstrong%3EID%3A%20%3C/strong%3E6016%3C/li%3E%20%20%20%20%20%20%20%20%20%20%20%20%20%3Cli%3E%3Cstrong%3ESource%3A%20%3C/strong%3EHenderson%20P%26C%20%239%3C/li%3E%20%20%20%20%20%20%20%20%20%20%20%20%20%3Cli%3E%3Cstrong%3EName%3A%20%3C/strong%3ENo%20resident%3C/li%3E%20%20%20%20%20%20%20%20%20%3Cul%3E%20%20%20%20%20%3C/div%3E%60%29%5B0%5D%3B%0A%20%20%20%20%20%20%20%20%20%20%20%20popup_3ebd8414e74741a19766c5b1c02995b0.setContent%28html_813657e7960f491492be34a2c6f9cf25%29%3B%0A%20%20%20%20%20%20%20%20%0A%0A%20%20%20%20%20%20%20%20marker_27c2b1dc22b4457cb4bc9364765beb44.bindPopup%28popup_3ebd8414e74741a19766c5b1c02995b0%29%0A%20%20%20%20%20%20%20%20%3B%0A%0A%20%20%20%20%20%20%20%20%0A%20%20%20%20%0A%20%20%20%20%0A%20%20%20%20%20%20%20%20%20%20%20%20var%20marker_278593dd61bb4484b30be7b038b64ac4%20%3D%20L.marker%28%0A%20%20%20%20%20%20%20%20%20%20%20%20%20%20%20%20%5B43.772855%2C%2011.244225%5D%2C%0A%20%20%20%20%20%20%20%20%20%20%20%20%20%20%20%20%7B%7D%0A%20%20%20%20%20%20%20%20%20%20%20%20%29.addTo%28map_cb5ddea0a149466984ccacda88dfafab%29%3B%0A%20%20%20%20%20%20%20%20%0A%20%20%20%20%0A%20%20%20%20%20%20%20%20var%20popup_d771d5bc7c224763a06a6e475d075484%20%3D%20L.popup%28%7B%22maxWidth%22%3A%20%22100%25%22%7D%29%3B%0A%0A%20%20%20%20%20%20%20%20%0A%20%20%20%20%20%20%20%20%20%20%20%20var%20html_2c448c6b9bec4273aa6969a986160ea0%20%3D%20%24%28%60%3Cdiv%20id%3D%22html_2c448c6b9bec4273aa6969a986160ea0%22%20style%3D%22width%3A%20100.0%25%3B%20height%3A%20100.0%25%3B%22%3E%20%20%20%20%20%20%20%20%20%3Cul%3E%20%20%20%20%20%20%20%20%20%20%20%20%20%3Cli%3E%3Cstrong%3EID%3A%20%3C/strong%3E5045%3C/li%3E%20%20%20%20%20%20%20%20%20%20%20%20%20%3Cli%3E%3Cstrong%3ESource%3A%20%3C/strong%3EHenderson%20P%26C%20%2322%3C/li%3E%20%20%20%20%20%20%20%20%20%20%20%20%20%3Cli%3E%3Cstrong%3EName%3A%20%3C/strong%3EDomenico%20d%27%20Antonio%2C%20tessitore%3C/li%3E%20%20%20%20%20%20%20%20%20%3Cul%3E%20%20%20%20%20%3C/div%3E%60%29%5B0%5D%3B%0A%20%20%20%20%20%20%20%20%20%20%20%20popup_d771d5bc7c224763a06a6e475d075484.setContent%28html_2c448c6b9bec4273aa6969a986160ea0%29%3B%0A%20%20%20%20%20%20%20%20%0A%0A%20%20%20%20%20%20%20%20marker_278593dd61bb4484b30be7b038b64ac4.bindPopup%28popup_d771d5bc7c224763a06a6e475d075484%29%0A%20%20%20%20%20%20%20%20%3B%0A%0A%20%20%20%20%20%20%20%20%0A%20%20%20%20%0A%20%20%20%20%0A%20%20%20%20%20%20%20%20%20%20%20%20var%20marker_fb66887be31e4035941426c72db4d05d%20%3D%20L.marker%28%0A%20%20%20%20%20%20%20%20%20%20%20%20%20%20%20%20%5B43.7727865%2C%2011.2443315%5D%2C%0A%20%20%20%20%20%20%20%20%20%20%20%20%20%20%20%20%7B%7D%0A%20%20%20%20%20%20%20%20%20%20%20%20%29.addTo%28map_cb5ddea0a149466984ccacda88dfafab%29%3B%0A%20%20%20%20%20%20%20%20%0A%20%20%20%20%0A%20%20%20%20%20%20%20%20var%20popup_9d420a16ea4b41e792fa1de2a439c562%20%3D%20L.popup%28%7B%22maxWidth%22%3A%20%22100%25%22%7D%29%3B%0A%0A%20%20%20%20%20%20%20%20%0A%20%20%20%20%20%20%20%20%20%20%20%20var%20html_c9aff9f5101c470a8b16032c01d21068%20%3D%20%24%28%60%3Cdiv%20id%3D%22html_c9aff9f5101c470a8b16032c01d21068%22%20style%3D%22width%3A%20100.0%25%3B%20height%3A%20100.0%25%3B%22%3E%20%20%20%20%20%20%20%20%20%3Cul%3E%20%20%20%20%20%20%20%20%20%20%20%20%20%3Cli%3E%3Cstrong%3EID%3A%20%3C/strong%3E5071%3C/li%3E%20%20%20%20%20%20%20%20%20%20%20%20%20%3Cli%3E%3Cstrong%3ESource%3A%20%3C/strong%3EHenderson%20P%26C%20%2322%3C/li%3E%20%20%20%20%20%20%20%20%20%20%20%20%20%3Cli%3E%3Cstrong%3EName%3A%20%3C/strong%3EVincenzo%20di%20Francesco%3C/li%3E%20%20%20%20%20%20%20%20%20%3Cul%3E%20%20%20%20%20%3C/div%3E%60%29%5B0%5D%3B%0A%20%20%20%20%20%20%20%20%20%20%20%20popup_9d420a16ea4b41e792fa1de2a439c562.setContent%28html_c9aff9f5101c470a8b16032c01d21068%29%3B%0A%20%20%20%20%20%20%20%20%0A%0A%20%20%20%20%20%20%20%20marker_fb66887be31e4035941426c72db4d05d.bindPopup%28popup_9d420a16ea4b41e792fa1de2a439c562%29%0A%20%20%20%20%20%20%20%20%3B%0A%0A%20%20%20%20%20%20%20%20%0A%20%20%20%20%0A%20%20%20%20%0A%20%20%20%20%20%20%20%20%20%20%20%20var%20marker_2b2497eb866249758be429d23a4b6998%20%3D%20L.marker%28%0A%20%20%20%20%20%20%20%20%20%20%20%20%20%20%20%20%5B43.772718%2C%2011.244438%5D%2C%0A%20%20%20%20%20%20%20%20%20%20%20%20%20%20%20%20%7B%7D%0A%20%20%20%20%20%20%20%20%20%20%20%20%29.addTo%28map_cb5ddea0a149466984ccacda88dfafab%29%3B%0A%20%20%20%20%20%20%20%20%0A%20%20%20%20%0A%20%20%20%20%20%20%20%20var%20popup_9b2af131a76445e3ac55b8c7a6767d4b%20%3D%20L.popup%28%7B%22maxWidth%22%3A%20%22100%25%22%7D%29%3B%0A%0A%20%20%20%20%20%20%20%20%0A%20%20%20%20%20%20%20%20%20%20%20%20var%20html_b30b3a57c83041fa872cf4ae92bb2823%20%3D%20%24%28%60%3Cdiv%20id%3D%22html_b30b3a57c83041fa872cf4ae92bb2823%22%20style%3D%22width%3A%20100.0%25%3B%20height%3A%20100.0%25%3B%22%3E%20%20%20%20%20%20%20%20%20%3Cul%3E%20%20%20%20%20%20%20%20%20%20%20%20%20%3Cli%3E%3Cstrong%3EID%3A%20%3C/strong%3E5264%3C/li%3E%20%20%20%20%20%20%20%20%20%20%20%20%20%3Cli%3E%3Cstrong%3ESource%3A%20%3C/strong%3EHenderson%20P%26C%20%2322%3C/li%3E%20%20%20%20%20%20%20%20%20%20%20%20%20%3Cli%3E%3Cstrong%3EName%3A%20%3C/strong%3EMona%20Maria%2C%20moglie%20gia%20di%20Piero%20Bettini%3C/li%3E%20%20%20%20%20%20%20%20%20%3Cul%3E%20%20%20%20%20%3C/div%3E%60%29%5B0%5D%3B%0A%20%20%20%20%20%20%20%20%20%20%20%20popup_9b2af131a76445e3ac55b8c7a6767d4b.setContent%28html_b30b3a57c83041fa872cf4ae92bb2823%29%3B%0A%20%20%20%20%20%20%20%20%0A%0A%20%20%20%20%20%20%20%20marker_2b2497eb866249758be429d23a4b6998.bindPopup%28popup_9b2af131a76445e3ac55b8c7a6767d4b%29%0A%20%20%20%20%20%20%20%20%3B%0A%0A%20%20%20%20%20%20%20%20%0A%20%20%20%20%0A%20%20%20%20%0A%20%20%20%20%20%20%20%20%20%20%20%20var%20marker_9b39febcb5884ea1aede8c4d85df6a32%20%3D%20L.marker%28%0A%20%20%20%20%20%20%20%20%20%20%20%20%20%20%20%20%5B43.77717333%2C%2011.26219133%5D%2C%0A%20%20%20%20%20%20%20%20%20%20%20%20%20%20%20%20%7B%7D%0A%20%20%20%20%20%20%20%20%20%20%20%20%29.addTo%28map_cb5ddea0a149466984ccacda88dfafab%29%3B%0A%20%20%20%20%20%20%20%20%0A%20%20%20%20%0A%20%20%20%20%20%20%20%20var%20popup_6e92e2d6f95443a0bb100091e0740394%20%3D%20L.popup%28%7B%22maxWidth%22%3A%20%22100%25%22%7D%29%3B%0A%0A%20%20%20%20%20%20%20%20%0A%20%20%20%20%20%20%20%20%20%20%20%20var%20html_497c0f0629bf43bebcea589c8e47f294%20%3D%20%24%28%60%3Cdiv%20id%3D%22html_497c0f0629bf43bebcea589c8e47f294%22%20style%3D%22width%3A%20100.0%25%3B%20height%3A%20100.0%25%3B%22%3E%20%20%20%20%20%20%20%20%20%3Cul%3E%20%20%20%20%20%20%20%20%20%20%20%20%20%3Cli%3E%3Cstrong%3EID%3A%20%3C/strong%3E1667%3C/li%3E%20%20%20%20%20%20%20%20%20%20%20%20%20%3Cli%3E%3Cstrong%3ESource%3A%20%3C/strong%3Enan%3C/li%3E%20%20%20%20%20%20%20%20%20%20%20%20%20%3Cli%3E%3Cstrong%3EName%3A%20%3C/strong%3ESimone%20di%20Filippo%20Rondinelli%3C/li%3E%20%20%20%20%20%20%20%20%20%3Cul%3E%20%20%20%20%20%3C/div%3E%60%29%5B0%5D%3B%0A%20%20%20%20%20%20%20%20%20%20%20%20popup_6e92e2d6f95443a0bb100091e0740394.setContent%28html_497c0f0629bf43bebcea589c8e47f294%29%3B%0A%20%20%20%20%20%20%20%20%0A%0A%20%20%20%20%20%20%20%20marker_9b39febcb5884ea1aede8c4d85df6a32.bindPopup%28popup_6e92e2d6f95443a0bb100091e0740394%29%0A%20%20%20%20%20%20%20%20%3B%0A%0A%20%20%20%20%20%20%20%20%0A%20%20%20%20%0A%20%20%20%20%0A%20%20%20%20%20%20%20%20%20%20%20%20var%20marker_e47a58f182454e188aeb0bc3a4337a8b%20%3D%20L.marker%28%0A%20%20%20%20%20%20%20%20%20%20%20%20%20%20%20%20%5B43.77779886%2C%2011.253971%5D%2C%0A%20%20%20%20%20%20%20%20%20%20%20%20%20%20%20%20%7B%7D%0A%20%20%20%20%20%20%20%20%20%20%20%20%29.addTo%28map_cb5ddea0a149466984ccacda88dfafab%29%3B%0A%20%20%20%20%20%20%20%20%0A%20%20%20%20%0A%20%20%20%20%20%20%20%20var%20popup_e90245c66b194c4dbda96e20f5cdd572%20%3D%20L.popup%28%7B%22maxWidth%22%3A%20%22100%25%22%7D%29%3B%0A%0A%20%20%20%20%20%20%20%20%0A%20%20%20%20%20%20%20%20%20%20%20%20var%20html_179b353c102b4aeb8e853578545f0a27%20%3D%20%24%28%60%3Cdiv%20id%3D%22html_179b353c102b4aeb8e853578545f0a27%22%20style%3D%22width%3A%20100.0%25%3B%20height%3A%20100.0%25%3B%22%3E%20%20%20%20%20%20%20%20%20%3Cul%3E%20%20%20%20%20%20%20%20%20%20%20%20%20%3Cli%3E%3Cstrong%3EID%3A%20%3C/strong%3E131%3C/li%3E%20%20%20%20%20%20%20%20%20%20%20%20%20%3Cli%3E%3Cstrong%3ESource%3A%20%3C/strong%3EHenderson%20P%26C%20%2342%3C/li%3E%20%20%20%20%20%20%20%20%20%20%20%20%20%3Cli%3E%3Cstrong%3EName%3A%20%3C/strong%3ELorenzo%20di%20Francesco%20Romagnolo%3C/li%3E%20%20%20%20%20%20%20%20%20%3Cul%3E%20%20%20%20%20%3C/div%3E%60%29%5B0%5D%3B%0A%20%20%20%20%20%20%20%20%20%20%20%20popup_e90245c66b194c4dbda96e20f5cdd572.setContent%28html_179b353c102b4aeb8e853578545f0a27%29%3B%0A%20%20%20%20%20%20%20%20%0A%0A%20%20%20%20%20%20%20%20marker_e47a58f182454e188aeb0bc3a4337a8b.bindPopup%28popup_e90245c66b194c4dbda96e20f5cdd572%29%0A%20%20%20%20%20%20%20%20%3B%0A%0A%20%20%20%20%20%20%20%20%0A%20%20%20%20%0A%20%20%20%20%0A%20%20%20%20%20%20%20%20%20%20%20%20var%20marker_47ad855401c04c6c8289caa6b406235f%20%3D%20L.marker%28%0A%20%20%20%20%20%20%20%20%20%20%20%20%20%20%20%20%5B43.77775557%2C%2011.2539%5D%2C%0A%20%20%20%20%20%20%20%20%20%20%20%20%20%20%20%20%7B%7D%0A%20%20%20%20%20%20%20%20%20%20%20%20%29.addTo%28map_cb5ddea0a149466984ccacda88dfafab%29%3B%0A%20%20%20%20%20%20%20%20%0A%20%20%20%20%0A%20%20%20%20%20%20%20%20var%20popup_7539dfa34f50463198705eafb76a7d67%20%3D%20L.popup%28%7B%22maxWidth%22%3A%20%22100%25%22%7D%29%3B%0A%0A%20%20%20%20%20%20%20%20%0A%20%20%20%20%20%20%20%20%20%20%20%20var%20html_d4da98ab2e3b4039b8e965ddf9167919%20%3D%20%24%28%60%3Cdiv%20id%3D%22html_d4da98ab2e3b4039b8e965ddf9167919%22%20style%3D%22width%3A%20100.0%25%3B%20height%3A%20100.0%25%3B%22%3E%20%20%20%20%20%20%20%20%20%3Cul%3E%20%20%20%20%20%20%20%20%20%20%20%20%20%3Cli%3E%3Cstrong%3EID%3A%20%3C/strong%3E554%3C/li%3E%20%20%20%20%20%20%20%20%20%20%20%20%20%3Cli%3E%3Cstrong%3ESource%3A%20%3C/strong%3EHenderson%20P%26C%20%2342%3C/li%3E%20%20%20%20%20%20%20%20%20%20%20%20%20%3Cli%3E%3Cstrong%3EName%3A%20%3C/strong%3ESanti%20di%20Giovanni%2C%20esattore%20a%20Capitani%20di%20Parte%3C/li%3E%20%20%20%20%20%20%20%20%20%3Cul%3E%20%20%20%20%20%3C/div%3E%60%29%5B0%5D%3B%0A%20%20%20%20%20%20%20%20%20%20%20%20popup_7539dfa34f50463198705eafb76a7d67.setContent%28html_d4da98ab2e3b4039b8e965ddf9167919%29%3B%0A%20%20%20%20%20%20%20%20%0A%0A%20%20%20%20%20%20%20%20marker_47ad855401c04c6c8289caa6b406235f.bindPopup%28popup_7539dfa34f50463198705eafb76a7d67%29%0A%20%20%20%20%20%20%20%20%3B%0A%0A%20%20%20%20%20%20%20%20%0A%20%20%20%20%0A%20%20%20%20%0A%20%20%20%20%20%20%20%20%20%20%20%20var%20marker_6990d8eb7eb040f081661f12048250e3%20%3D%20L.marker%28%0A%20%20%20%20%20%20%20%20%20%20%20%20%20%20%20%20%5B43.776641%2C%2011.25262992%5D%2C%0A%20%20%20%20%20%20%20%20%20%20%20%20%20%20%20%20%7B%7D%0A%20%20%20%20%20%20%20%20%20%20%20%20%29.addTo%28map_cb5ddea0a149466984ccacda88dfafab%29%3B%0A%20%20%20%20%20%20%20%20%0A%20%20%20%20%0A%20%20%20%20%20%20%20%20var%20popup_d2176235fe91420b9bbcd7abe8e85a80%20%3D%20L.popup%28%7B%22maxWidth%22%3A%20%22100%25%22%7D%29%3B%0A%0A%20%20%20%20%20%20%20%20%0A%20%20%20%20%20%20%20%20%20%20%20%20var%20html_ea1130f9bd5b4bb69c7aa808cb9dfdd4%20%3D%20%24%28%60%3Cdiv%20id%3D%22html_ea1130f9bd5b4bb69c7aa808cb9dfdd4%22%20style%3D%22width%3A%20100.0%25%3B%20height%3A%20100.0%25%3B%22%3E%20%20%20%20%20%20%20%20%20%3Cul%3E%20%20%20%20%20%20%20%20%20%20%20%20%20%3Cli%3E%3Cstrong%3EID%3A%20%3C/strong%3E582%3C/li%3E%20%20%20%20%20%20%20%20%20%20%20%20%20%3Cli%3E%3Cstrong%3ESource%3A%20%3C/strong%3EHenderson%20P%26C%20%2342%3C/li%3E%20%20%20%20%20%20%20%20%20%20%20%20%20%3Cli%3E%3Cstrong%3EName%3A%20%3C/strong%3EAntonio%20di%20Batista%20da%20Bologna%2C%20tessitore%3C/li%3E%20%20%20%20%20%20%20%20%20%3Cul%3E%20%20%20%20%20%3C/div%3E%60%29%5B0%5D%3B%0A%20%20%20%20%20%20%20%20%20%20%20%20popup_d2176235fe91420b9bbcd7abe8e85a80.setContent%28html_ea1130f9bd5b4bb69c7aa808cb9dfdd4%29%3B%0A%20%20%20%20%20%20%20%20%0A%0A%20%20%20%20%20%20%20%20marker_6990d8eb7eb040f081661f12048250e3.bindPopup%28popup_d2176235fe91420b9bbcd7abe8e85a80%29%0A%20%20%20%20%20%20%20%20%3B%0A%0A%20%20%20%20%20%20%20%20%0A%20%20%20%20%0A%20%20%20%20%0A%20%20%20%20%20%20%20%20%20%20%20%20var%20marker_da7272f06ccb46708f6a3582f667531b%20%3D%20L.marker%28%0A%20%20%20%20%20%20%20%20%20%20%20%20%20%20%20%20%5B43.76835491%2C%2011.24107655%5D%2C%0A%20%20%20%20%20%20%20%20%20%20%20%20%20%20%20%20%7B%7D%0A%20%20%20%20%20%20%20%20%20%20%20%20%29.addTo%28map_cb5ddea0a149466984ccacda88dfafab%29%3B%0A%20%20%20%20%20%20%20%20%0A%20%20%20%20%0A%20%20%20%20%20%20%20%20var%20popup_0e594d654466417a809221ec73628b34%20%3D%20L.popup%28%7B%22maxWidth%22%3A%20%22100%25%22%7D%29%3B%0A%0A%20%20%20%20%20%20%20%20%0A%20%20%20%20%20%20%20%20%20%20%20%20var%20html_7921fca19beb4abca8a5b46932a801e1%20%3D%20%24%28%60%3Cdiv%20id%3D%22html_7921fca19beb4abca8a5b46932a801e1%22%20style%3D%22width%3A%20100.0%25%3B%20height%3A%20100.0%25%3B%22%3E%20%20%20%20%20%20%20%20%20%3Cul%3E%20%20%20%20%20%20%20%20%20%20%20%20%20%3Cli%3E%3Cstrong%3EID%3A%20%3C/strong%3E8351%3C/li%3E%20%20%20%20%20%20%20%20%20%20%20%20%20%3Cli%3E%3Cstrong%3ESource%3A%20%3C/strong%3Enan%3C/li%3E%20%20%20%20%20%20%20%20%20%20%20%20%20%3Cli%3E%3Cstrong%3EName%3A%20%3C/strong%3ELuca%20di%20Batista%20Tossi%20torcitore%3C/li%3E%20%20%20%20%20%20%20%20%20%3Cul%3E%20%20%20%20%20%3C/div%3E%60%29%5B0%5D%3B%0A%20%20%20%20%20%20%20%20%20%20%20%20popup_0e594d654466417a809221ec73628b34.setContent%28html_7921fca19beb4abca8a5b46932a801e1%29%3B%0A%20%20%20%20%20%20%20%20%0A%0A%20%20%20%20%20%20%20%20marker_da7272f06ccb46708f6a3582f667531b.bindPopup%28popup_0e594d654466417a809221ec73628b34%29%0A%20%20%20%20%20%20%20%20%3B%0A%0A%20%20%20%20%20%20%20%20%0A%20%20%20%20%0A%20%20%20%20%0A%20%20%20%20%20%20%20%20%20%20%20%20var%20marker_e2484c3da9e74cfabf7cfc75efac11fc%20%3D%20L.marker%28%0A%20%20%20%20%20%20%20%20%20%20%20%20%20%20%20%20%5B43.77713761%2C%2011.26215561%5D%2C%0A%20%20%20%20%20%20%20%20%20%20%20%20%20%20%20%20%7B%7D%0A%20%20%20%20%20%20%20%20%20%20%20%20%29.addTo%28map_cb5ddea0a149466984ccacda88dfafab%29%3B%0A%20%20%20%20%20%20%20%20%0A%20%20%20%20%0A%20%20%20%20%20%20%20%20var%20popup_910e272cbdd1430eb8a94a1a02ecd4a7%20%3D%20L.popup%28%7B%22maxWidth%22%3A%20%22100%25%22%7D%29%3B%0A%0A%20%20%20%20%20%20%20%20%0A%20%20%20%20%20%20%20%20%20%20%20%20var%20html_e4f8f0b360b04aa182e01d84db698aa8%20%3D%20%24%28%60%3Cdiv%20id%3D%22html_e4f8f0b360b04aa182e01d84db698aa8%22%20style%3D%22width%3A%20100.0%25%3B%20height%3A%20100.0%25%3B%22%3E%20%20%20%20%20%20%20%20%20%3Cul%3E%20%20%20%20%20%20%20%20%20%20%20%20%20%3Cli%3E%3Cstrong%3EID%3A%20%3C/strong%3E1443%3C/li%3E%20%20%20%20%20%20%20%20%20%20%20%20%20%3Cli%3E%3Cstrong%3ESource%3A%20%3C/strong%3E2006%20AMF%20Confraternity%20Itinerary%3C/li%3E%20%20%20%20%20%20%20%20%20%20%20%20%20%3Cli%3E%3Cstrong%3EName%3A%20%3C/strong%3ERedi%20di%20Filippo%20Lasagnini%3C/li%3E%20%20%20%20%20%20%20%20%20%3Cul%3E%20%20%20%20%20%3C/div%3E%60%29%5B0%5D%3B%0A%20%20%20%20%20%20%20%20%20%20%20%20popup_910e272cbdd1430eb8a94a1a02ecd4a7.setContent%28html_e4f8f0b360b04aa182e01d84db698aa8%29%3B%0A%20%20%20%20%20%20%20%20%0A%0A%20%20%20%20%20%20%20%20marker_e2484c3da9e74cfabf7cfc75efac11fc.bindPopup%28popup_910e272cbdd1430eb8a94a1a02ecd4a7%29%0A%20%20%20%20%20%20%20%20%3B%0A%0A%20%20%20%20%20%20%20%20%0A%20%20%20%20%0A%20%20%20%20%0A%20%20%20%20%20%20%20%20%20%20%20%20var%20marker_2c08cb1d4c7044338aa847822943934a%20%3D%20L.marker%28%0A%20%20%20%20%20%20%20%20%20%20%20%20%20%20%20%20%5B43.764344%2C%2011.25503%5D%2C%0A%20%20%20%20%20%20%20%20%20%20%20%20%20%20%20%20%7B%7D%0A%20%20%20%20%20%20%20%20%20%20%20%20%29.addTo%28map_cb5ddea0a149466984ccacda88dfafab%29%3B%0A%20%20%20%20%20%20%20%20%0A%20%20%20%20%0A%20%20%20%20%20%20%20%20var%20popup_bd61022912684e6b8e0fe74f282f345b%20%3D%20L.popup%28%7B%22maxWidth%22%3A%20%22100%25%22%7D%29%3B%0A%0A%20%20%20%20%20%20%20%20%0A%20%20%20%20%20%20%20%20%20%20%20%20var%20html_5e4a2f1291e54d8db414a9a51c2391ef%20%3D%20%24%28%60%3Cdiv%20id%3D%22html_5e4a2f1291e54d8db414a9a51c2391ef%22%20style%3D%22width%3A%20100.0%25%3B%20height%3A%20100.0%25%3B%22%3E%20%20%20%20%20%20%20%20%20%3Cul%3E%20%20%20%20%20%20%20%20%20%20%20%20%20%3Cli%3E%3Cstrong%3EID%3A%20%3C/strong%3E6027%3C/li%3E%20%20%20%20%20%20%20%20%20%20%20%20%20%3Cli%3E%3Cstrong%3ESource%3A%20%3C/strong%3Enan%3C/li%3E%20%20%20%20%20%20%20%20%20%20%20%20%20%3Cli%3E%3Cstrong%3EName%3A%20%3C/strong%3EBartolomeo%20di%20.%20.%20.%20tessitore%3C/li%3E%20%20%20%20%20%20%20%20%20%3Cul%3E%20%20%20%20%20%3C/div%3E%60%29%5B0%5D%3B%0A%20%20%20%20%20%20%20%20%20%20%20%20popup_bd61022912684e6b8e0fe74f282f345b.setContent%28html_5e4a2f1291e54d8db414a9a51c2391ef%29%3B%0A%20%20%20%20%20%20%20%20%0A%0A%20%20%20%20%20%20%20%20marker_2c08cb1d4c7044338aa847822943934a.bindPopup%28popup_bd61022912684e6b8e0fe74f282f345b%29%0A%20%20%20%20%20%20%20%20%3B%0A%0A%20%20%20%20%20%20%20%20%0A%20%20%20%20%0A%20%20%20%20%0A%20%20%20%20%20%20%20%20%20%20%20%20var%20marker_4e54db58527a4250b219e917813c6b02%20%3D%20L.marker%28%0A%20%20%20%20%20%20%20%20%20%20%20%20%20%20%20%20%5B43.76656545%2C%2011.25341727%5D%2C%0A%20%20%20%20%20%20%20%20%20%20%20%20%20%20%20%20%7B%7D%0A%20%20%20%20%20%20%20%20%20%20%20%20%29.addTo%28map_cb5ddea0a149466984ccacda88dfafab%29%3B%0A%20%20%20%20%20%20%20%20%0A%20%20%20%20%0A%20%20%20%20%20%20%20%20var%20popup_6381fc58c5ce46b8af2b7cd89c8bf56d%20%3D%20L.popup%28%7B%22maxWidth%22%3A%20%22100%25%22%7D%29%3B%0A%0A%20%20%20%20%20%20%20%20%0A%20%20%20%20%20%20%20%20%20%20%20%20var%20html_a06fc107b6cf4913a9bc8ccf82f940f7%20%3D%20%24%28%60%3Cdiv%20id%3D%22html_a06fc107b6cf4913a9bc8ccf82f940f7%22%20style%3D%22width%3A%20100.0%25%3B%20height%3A%20100.0%25%3B%22%3E%20%20%20%20%20%20%20%20%20%3Cul%3E%20%20%20%20%20%20%20%20%20%20%20%20%20%3Cli%3E%3Cstrong%3EID%3A%20%3C/strong%3E6324%3C/li%3E%20%20%20%20%20%20%20%20%20%20%20%20%20%3Cli%3E%3Cstrong%3ESource%3A%20%3C/strong%3Enan%3C/li%3E%20%20%20%20%20%20%20%20%20%20%20%20%20%3Cli%3E%3Cstrong%3EName%3A%20%3C/strong%3EMona%20Lexandra%20di%20Domenico%20barbiere%3C/li%3E%20%20%20%20%20%20%20%20%20%3Cul%3E%20%20%20%20%20%3C/div%3E%60%29%5B0%5D%3B%0A%20%20%20%20%20%20%20%20%20%20%20%20popup_6381fc58c5ce46b8af2b7cd89c8bf56d.setContent%28html_a06fc107b6cf4913a9bc8ccf82f940f7%29%3B%0A%20%20%20%20%20%20%20%20%0A%0A%20%20%20%20%20%20%20%20marker_4e54db58527a4250b219e917813c6b02.bindPopup%28popup_6381fc58c5ce46b8af2b7cd89c8bf56d%29%0A%20%20%20%20%20%20%20%20%3B%0A%0A%20%20%20%20%20%20%20%20%0A%20%20%20%20%0A%20%20%20%20%0A%20%20%20%20%20%20%20%20%20%20%20%20var%20marker_a096fddd923543a6ba04d601863f6e82%20%3D%20L.marker%28%0A%20%20%20%20%20%20%20%20%20%20%20%20%20%20%20%20%5B43.76648625%2C%2011.254495%5D%2C%0A%20%20%20%20%20%20%20%20%20%20%20%20%20%20%20%20%7B%7D%0A%20%20%20%20%20%20%20%20%20%20%20%20%29.addTo%28map_cb5ddea0a149466984ccacda88dfafab%29%3B%0A%20%20%20%20%20%20%20%20%0A%20%20%20%20%0A%20%20%20%20%20%20%20%20var%20popup_d36dd597a7b34c0b915d1c31276098cd%20%3D%20L.popup%28%7B%22maxWidth%22%3A%20%22100%25%22%7D%29%3B%0A%0A%20%20%20%20%20%20%20%20%0A%20%20%20%20%20%20%20%20%20%20%20%20var%20html_39824ed438ac41229fa61855bbd14c1c%20%3D%20%24%28%60%3Cdiv%20id%3D%22html_39824ed438ac41229fa61855bbd14c1c%22%20style%3D%22width%3A%20100.0%25%3B%20height%3A%20100.0%25%3B%22%3E%20%20%20%20%20%20%20%20%20%3Cul%3E%20%20%20%20%20%20%20%20%20%20%20%20%20%3Cli%3E%3Cstrong%3EID%3A%20%3C/strong%3E6180%3C/li%3E%20%20%20%20%20%20%20%20%20%20%20%20%20%3Cli%3E%3Cstrong%3ESource%3A%20%3C/strong%3Enan%3C/li%3E%20%20%20%20%20%20%20%20%20%20%20%20%20%3Cli%3E%3Cstrong%3EName%3A%20%3C/strong%3ETre%20pigionali%3C/li%3E%20%20%20%20%20%20%20%20%20%3Cul%3E%20%20%20%20%20%3C/div%3E%60%29%5B0%5D%3B%0A%20%20%20%20%20%20%20%20%20%20%20%20popup_d36dd597a7b34c0b915d1c31276098cd.setContent%28html_39824ed438ac41229fa61855bbd14c1c%29%3B%0A%20%20%20%20%20%20%20%20%0A%0A%20%20%20%20%20%20%20%20marker_a096fddd923543a6ba04d601863f6e82.bindPopup%28popup_d36dd597a7b34c0b915d1c31276098cd%29%0A%20%20%20%20%20%20%20%20%3B%0A%0A%20%20%20%20%20%20%20%20%0A%20%20%20%20%0A%20%20%20%20%0A%20%20%20%20%20%20%20%20%20%20%20%20var%20marker_b899dfaddadd4ab5a8db701bfcae0d16%20%3D%20L.marker%28%0A%20%20%20%20%20%20%20%20%20%20%20%20%20%20%20%20%5B43.773077%2C%2011.263158%5D%2C%0A%20%20%20%20%20%20%20%20%20%20%20%20%20%20%20%20%7B%7D%0A%20%20%20%20%20%20%20%20%20%20%20%20%29.addTo%28map_cb5ddea0a149466984ccacda88dfafab%29%3B%0A%20%20%20%20%20%20%20%20%0A%20%20%20%20%0A%20%20%20%20%20%20%20%20var%20popup_bc3bfb2a9cde4597bc3da99f4a95924e%20%3D%20L.popup%28%7B%22maxWidth%22%3A%20%22100%25%22%7D%29%3B%0A%0A%20%20%20%20%20%20%20%20%0A%20%20%20%20%20%20%20%20%20%20%20%20var%20html_6b68f69aa1004b3897b2a428933935ad%20%3D%20%24%28%60%3Cdiv%20id%3D%22html_6b68f69aa1004b3897b2a428933935ad%22%20style%3D%22width%3A%20100.0%25%3B%20height%3A%20100.0%25%3B%22%3E%20%20%20%20%20%20%20%20%20%3Cul%3E%20%20%20%20%20%20%20%20%20%20%20%20%20%3Cli%3E%3Cstrong%3EID%3A%20%3C/strong%3E2300%3C/li%3E%20%20%20%20%20%20%20%20%20%20%20%20%20%3Cli%3E%3Cstrong%3ESource%3A%20%3C/strong%3EHenderson%20P%26C%20%2366%3C/li%3E%20%20%20%20%20%20%20%20%20%20%20%20%20%3Cli%3E%3Cstrong%3EName%3A%20%3C/strong%3ENo%20resident%3C/li%3E%20%20%20%20%20%20%20%20%20%3Cul%3E%20%20%20%20%20%3C/div%3E%60%29%5B0%5D%3B%0A%20%20%20%20%20%20%20%20%20%20%20%20popup_bc3bfb2a9cde4597bc3da99f4a95924e.setContent%28html_6b68f69aa1004b3897b2a428933935ad%29%3B%0A%20%20%20%20%20%20%20%20%0A%0A%20%20%20%20%20%20%20%20marker_b899dfaddadd4ab5a8db701bfcae0d16.bindPopup%28popup_bc3bfb2a9cde4597bc3da99f4a95924e%29%0A%20%20%20%20%20%20%20%20%3B%0A%0A%20%20%20%20%20%20%20%20%0A%20%20%20%20%0A%20%20%20%20%0A%20%20%20%20%20%20%20%20%20%20%20%20var%20marker_b9a5f31dc1ae4472abc2c7e74a179b74%20%3D%20L.marker%28%0A%20%20%20%20%20%20%20%20%20%20%20%20%20%20%20%20%5B43.77289553%2C%2011.26334247%5D%2C%0A%20%20%20%20%20%20%20%20%20%20%20%20%20%20%20%20%7B%7D%0A%20%20%20%20%20%20%20%20%20%20%20%20%29.addTo%28map_cb5ddea0a149466984ccacda88dfafab%29%3B%0A%20%20%20%20%20%20%20%20%0A%20%20%20%20%0A%20%20%20%20%20%20%20%20var%20popup_93eee2eae13241a2af5b2714be487e78%20%3D%20L.popup%28%7B%22maxWidth%22%3A%20%22100%25%22%7D%29%3B%0A%0A%20%20%20%20%20%20%20%20%0A%20%20%20%20%20%20%20%20%20%20%20%20var%20html_ca1bc4bf4f164aefa66ee01a2df9e603%20%3D%20%24%28%60%3Cdiv%20id%3D%22html_ca1bc4bf4f164aefa66ee01a2df9e603%22%20style%3D%22width%3A%20100.0%25%3B%20height%3A%20100.0%25%3B%22%3E%20%20%20%20%20%20%20%20%20%3Cul%3E%20%20%20%20%20%20%20%20%20%20%20%20%20%3Cli%3E%3Cstrong%3EID%3A%20%3C/strong%3E2673%3C/li%3E%20%20%20%20%20%20%20%20%20%20%20%20%20%3Cli%3E%3Cstrong%3ESource%3A%20%3C/strong%3EHenderson%20P%26C%20%2366%3C/li%3E%20%20%20%20%20%20%20%20%20%20%20%20%20%3Cli%3E%3Cstrong%3EName%3A%20%3C/strong%3Eser%20%20Lorenzo%20di%20Francesco%20Lorenzi%3C/li%3E%20%20%20%20%20%20%20%20%20%3Cul%3E%20%20%20%20%20%3C/div%3E%60%29%5B0%5D%3B%0A%20%20%20%20%20%20%20%20%20%20%20%20popup_93eee2eae13241a2af5b2714be487e78.setContent%28html_ca1bc4bf4f164aefa66ee01a2df9e603%29%3B%0A%20%20%20%20%20%20%20%20%0A%0A%20%20%20%20%20%20%20%20marker_b9a5f31dc1ae4472abc2c7e74a179b74.bindPopup%28popup_93eee2eae13241a2af5b2714be487e78%29%0A%20%20%20%20%20%20%20%20%3B%0A%0A%20%20%20%20%20%20%20%20%0A%20%20%20%20%0A%20%20%20%20%0A%20%20%20%20%20%20%20%20%20%20%20%20var%20marker_7a6108fe4c5049e39022a608d4507d88%20%3D%20L.marker%28%0A%20%20%20%20%20%20%20%20%20%20%20%20%20%20%20%20%5B43.77034154%2C%2011.24215077%5D%2C%0A%20%20%20%20%20%20%20%20%20%20%20%20%20%20%20%20%7B%7D%0A%20%20%20%20%20%20%20%20%20%20%20%20%29.addTo%28map_cb5ddea0a149466984ccacda88dfafab%29%3B%0A%20%20%20%20%20%20%20%20%0A%20%20%20%20%0A%20%20%20%20%20%20%20%20var%20popup_02392880f2954952b7fe368cd53c389d%20%3D%20L.popup%28%7B%22maxWidth%22%3A%20%22100%25%22%7D%29%3B%0A%0A%20%20%20%20%20%20%20%20%0A%20%20%20%20%20%20%20%20%20%20%20%20var%20html_2a3969a472cb45cc9a81691bbbdfcfa1%20%3D%20%24%28%60%3Cdiv%20id%3D%22html_2a3969a472cb45cc9a81691bbbdfcfa1%22%20style%3D%22width%3A%20100.0%25%3B%20height%3A%20100.0%25%3B%22%3E%20%20%20%20%20%20%20%20%20%3Cul%3E%20%20%20%20%20%20%20%20%20%20%20%20%20%3Cli%3E%3Cstrong%3EID%3A%20%3C/strong%3E8024%3C/li%3E%20%20%20%20%20%20%20%20%20%20%20%20%20%3Cli%3E%3Cstrong%3ESource%3A%20%3C/strong%3EHenderson%20P%26C%20%2366%3C/li%3E%20%20%20%20%20%20%20%20%20%20%20%20%20%3Cli%3E%3Cstrong%3EName%3A%20%3C/strong%3EBatista%20di%20Francesco%20funaiuolo%3C/li%3E%20%20%20%20%20%20%20%20%20%3Cul%3E%20%20%20%20%20%3C/div%3E%60%29%5B0%5D%3B%0A%20%20%20%20%20%20%20%20%20%20%20%20popup_02392880f2954952b7fe368cd53c389d.setContent%28html_2a3969a472cb45cc9a81691bbbdfcfa1%29%3B%0A%20%20%20%20%20%20%20%20%0A%0A%20%20%20%20%20%20%20%20marker_7a6108fe4c5049e39022a608d4507d88.bindPopup%28popup_02392880f2954952b7fe368cd53c389d%29%0A%20%20%20%20%20%20%20%20%3B%0A%0A%20%20%20%20%20%20%20%20%0A%20%20%20%20%0A%20%20%20%20%0A%20%20%20%20%20%20%20%20%20%20%20%20var%20marker_cade616e62094efe91869b5896a482b9%20%3D%20L.marker%28%0A%20%20%20%20%20%20%20%20%20%20%20%20%20%20%20%20%5B43.77198%2C%2011.252595%5D%2C%0A%20%20%20%20%20%20%20%20%20%20%20%20%20%20%20%20%7B%7D%0A%20%20%20%20%20%20%20%20%20%20%20%20%29.addTo%28map_cb5ddea0a149466984ccacda88dfafab%29%3B%0A%20%20%20%20%20%20%20%20%0A%20%20%20%20%0A%20%20%20%20%20%20%20%20var%20popup_5df166866b25489e893450a930a848dc%20%3D%20L.popup%28%7B%22maxWidth%22%3A%20%22100%25%22%7D%29%3B%0A%0A%20%20%20%20%20%20%20%20%0A%20%20%20%20%20%20%20%20%20%20%20%20var%20html_d9c5e7ae7d784d3d9f5706ac8e8cf109%20%3D%20%24%28%60%3Cdiv%20id%3D%22html_d9c5e7ae7d784d3d9f5706ac8e8cf109%22%20style%3D%22width%3A%20100.0%25%3B%20height%3A%20100.0%25%3B%22%3E%20%20%20%20%20%20%20%20%20%3Cul%3E%20%20%20%20%20%20%20%20%20%20%20%20%20%3Cli%3E%3Cstrong%3EID%3A%20%3C/strong%3E6233%3C/li%3E%20%20%20%20%20%20%20%20%20%20%20%20%20%3Cli%3E%3Cstrong%3ESource%3A%20%3C/strong%3EHenderson%20P%26C%20%2366%3C/li%3E%20%20%20%20%20%20%20%20%20%20%20%20%20%3Cli%3E%3Cstrong%3EName%3A%20%3C/strong%3EGirolamo%20di%20Bartolomeo%2C%20fornaio%3C/li%3E%20%20%20%20%20%20%20%20%20%3Cul%3E%20%20%20%20%20%3C/div%3E%60%29%5B0%5D%3B%0A%20%20%20%20%20%20%20%20%20%20%20%20popup_5df166866b25489e893450a930a848dc.setContent%28html_d9c5e7ae7d784d3d9f5706ac8e8cf109%29%3B%0A%20%20%20%20%20%20%20%20%0A%0A%20%20%20%20%20%20%20%20marker_cade616e62094efe91869b5896a482b9.bindPopup%28popup_5df166866b25489e893450a930a848dc%29%0A%20%20%20%20%20%20%20%20%3B%0A%0A%20%20%20%20%20%20%20%20%0A%20%20%20%20%0A%20%20%20%20%0A%20%20%20%20%20%20%20%20%20%20%20%20var%20marker_ab41387cf19644ff8f630cf99c632a7d%20%3D%20L.marker%28%0A%20%20%20%20%20%20%20%20%20%20%20%20%20%20%20%20%5B43.77497133%2C%2011.26411667%5D%2C%0A%20%20%20%20%20%20%20%20%20%20%20%20%20%20%20%20%7B%7D%0A%20%20%20%20%20%20%20%20%20%20%20%20%29.addTo%28map_cb5ddea0a149466984ccacda88dfafab%29%3B%0A%20%20%20%20%20%20%20%20%0A%20%20%20%20%0A%20%20%20%20%20%20%20%20var%20popup_43a08cb280dd49548387b769fdf1c8ca%20%3D%20L.popup%28%7B%22maxWidth%22%3A%20%22100%25%22%7D%29%3B%0A%0A%20%20%20%20%20%20%20%20%0A%20%20%20%20%20%20%20%20%20%20%20%20var%20html_ed3a60b30c254ce9b5361deca29c06f7%20%3D%20%24%28%60%3Cdiv%20id%3D%22html_ed3a60b30c254ce9b5361deca29c06f7%22%20style%3D%22width%3A%20100.0%25%3B%20height%3A%20100.0%25%3B%22%3E%20%20%20%20%20%20%20%20%20%3Cul%3E%20%20%20%20%20%20%20%20%20%20%20%20%20%3Cli%3E%3Cstrong%3EID%3A%20%3C/strong%3E1588%3C/li%3E%20%20%20%20%20%20%20%20%20%20%20%20%20%3Cli%3E%3Cstrong%3ESource%3A%20%3C/strong%3EHenderson%20P%26C%20%2366%3C/li%3E%20%20%20%20%20%20%20%20%20%20%20%20%20%3Cli%3E%3Cstrong%3EName%3A%20%3C/strong%3EMona%20Piera%2C%20donna%20fu%20di%20Frosino%20Faciulli%3C/li%3E%20%20%20%20%20%20%20%20%20%3Cul%3E%20%20%20%20%20%3C/div%3E%60%29%5B0%5D%3B%0A%20%20%20%20%20%20%20%20%20%20%20%20popup_43a08cb280dd49548387b769fdf1c8ca.setContent%28html_ed3a60b30c254ce9b5361deca29c06f7%29%3B%0A%20%20%20%20%20%20%20%20%0A%0A%20%20%20%20%20%20%20%20marker_ab41387cf19644ff8f630cf99c632a7d.bindPopup%28popup_43a08cb280dd49548387b769fdf1c8ca%29%0A%20%20%20%20%20%20%20%20%3B%0A%0A%20%20%20%20%20%20%20%20%0A%20%20%20%20%0A%20%20%20%20%0A%20%20%20%20%20%20%20%20%20%20%20%20var%20marker_f83bc96f40004c04b0c43deabae473c7%20%3D%20L.marker%28%0A%20%20%20%20%20%20%20%20%20%20%20%20%20%20%20%20%5B43.767332%2C%2011.24068%5D%2C%0A%20%20%20%20%20%20%20%20%20%20%20%20%20%20%20%20%7B%7D%0A%20%20%20%20%20%20%20%20%20%20%20%20%29.addTo%28map_cb5ddea0a149466984ccacda88dfafab%29%3B%0A%20%20%20%20%20%20%20%20%0A%20%20%20%20%0A%20%20%20%20%20%20%20%20var%20popup_77850955bb3e49e2b8ecc60cc121ab59%20%3D%20L.popup%28%7B%22maxWidth%22%3A%20%22100%25%22%7D%29%3B%0A%0A%20%20%20%20%20%20%20%20%0A%20%20%20%20%20%20%20%20%20%20%20%20var%20html_8870ab0b9d9b426bb30c672654391492%20%3D%20%24%28%60%3Cdiv%20id%3D%22html_8870ab0b9d9b426bb30c672654391492%22%20style%3D%22width%3A%20100.0%25%3B%20height%3A%20100.0%25%3B%22%3E%20%20%20%20%20%20%20%20%20%3Cul%3E%20%20%20%20%20%20%20%20%20%20%20%20%20%3Cli%3E%3Cstrong%3EID%3A%20%3C/strong%3E8038%3C/li%3E%20%20%20%20%20%20%20%20%20%20%20%20%20%3Cli%3E%3Cstrong%3ESource%3A%20%3C/strong%3EHenderson%20P%26C%20%23103%3C/li%3E%20%20%20%20%20%20%20%20%20%20%20%20%20%3Cli%3E%3Cstrong%3EName%3A%20%3C/strong%3EAndrea%20di%20Francesco%20dalla%20Mirandola%3C/li%3E%20%20%20%20%20%20%20%20%20%3Cul%3E%20%20%20%20%20%3C/div%3E%60%29%5B0%5D%3B%0A%20%20%20%20%20%20%20%20%20%20%20%20popup_77850955bb3e49e2b8ecc60cc121ab59.setContent%28html_8870ab0b9d9b426bb30c672654391492%29%3B%0A%20%20%20%20%20%20%20%20%0A%0A%20%20%20%20%20%20%20%20marker_f83bc96f40004c04b0c43deabae473c7.bindPopup%28popup_77850955bb3e49e2b8ecc60cc121ab59%29%0A%20%20%20%20%20%20%20%20%3B%0A%0A%20%20%20%20%20%20%20%20%0A%20%20%20%20%0A%20%20%20%20%0A%20%20%20%20%20%20%20%20%20%20%20%20var%20marker_21155c2660974b73aff2a15458212e3e%20%3D%20L.marker%28%0A%20%20%20%20%20%20%20%20%20%20%20%20%20%20%20%20%5B43.76856%2C%2011.26649%5D%2C%0A%20%20%20%20%20%20%20%20%20%20%20%20%20%20%20%20%7B%7D%0A%20%20%20%20%20%20%20%20%20%20%20%20%29.addTo%28map_cb5ddea0a149466984ccacda88dfafab%29%3B%0A%20%20%20%20%20%20%20%20%0A%20%20%20%20%0A%20%20%20%20%20%20%20%20var%20popup_ef7830c9035248a28623a3ac9e0f4bbb%20%3D%20L.popup%28%7B%22maxWidth%22%3A%20%22100%25%22%7D%29%3B%0A%0A%20%20%20%20%20%20%20%20%0A%20%20%20%20%20%20%20%20%20%20%20%20var%20html_bf56b05f4a174d1faa4124e509bf4c87%20%3D%20%24%28%60%3Cdiv%20id%3D%22html_bf56b05f4a174d1faa4124e509bf4c87%22%20style%3D%22width%3A%20100.0%25%3B%20height%3A%20100.0%25%3B%22%3E%20%20%20%20%20%20%20%20%20%3Cul%3E%20%20%20%20%20%20%20%20%20%20%20%20%20%3Cli%3E%3Cstrong%3EID%3A%20%3C/strong%3E3072%3C/li%3E%20%20%20%20%20%20%20%20%20%20%20%20%20%3Cli%3E%3Cstrong%3ESource%3A%20%3C/strong%3EHenderson%20P%26C%20%23103%3C/li%3E%20%20%20%20%20%20%20%20%20%20%20%20%20%3Cli%3E%3Cstrong%3EName%3A%20%3C/strong%3Enan%3C/li%3E%20%20%20%20%20%20%20%20%20%3Cul%3E%20%20%20%20%20%3C/div%3E%60%29%5B0%5D%3B%0A%20%20%20%20%20%20%20%20%20%20%20%20popup_ef7830c9035248a28623a3ac9e0f4bbb.setContent%28html_bf56b05f4a174d1faa4124e509bf4c87%29%3B%0A%20%20%20%20%20%20%20%20%0A%0A%20%20%20%20%20%20%20%20marker_21155c2660974b73aff2a15458212e3e.bindPopup%28popup_ef7830c9035248a28623a3ac9e0f4bbb%29%0A%20%20%20%20%20%20%20%20%3B%0A%0A%20%20%20%20%20%20%20%20%0A%20%20%20%20%0A%20%20%20%20%0A%20%20%20%20%20%20%20%20%20%20%20%20var%20marker_2636e246884d407980510f318faf773f%20%3D%20L.marker%28%0A%20%20%20%20%20%20%20%20%20%20%20%20%20%20%20%20%5B43.76807%2C%2011.2658%5D%2C%0A%20%20%20%20%20%20%20%20%20%20%20%20%20%20%20%20%7B%7D%0A%20%20%20%20%20%20%20%20%20%20%20%20%29.addTo%28map_cb5ddea0a149466984ccacda88dfafab%29%3B%0A%20%20%20%20%20%20%20%20%0A%20%20%20%20%0A%20%20%20%20%20%20%20%20var%20popup_cb5d30746f0d457fb5091d8d4c056fe3%20%3D%20L.popup%28%7B%22maxWidth%22%3A%20%22100%25%22%7D%29%3B%0A%0A%20%20%20%20%20%20%20%20%0A%20%20%20%20%20%20%20%20%20%20%20%20var%20html_3e47655ace42495e85c04f8cc4534b5b%20%3D%20%24%28%60%3Cdiv%20id%3D%22html_3e47655ace42495e85c04f8cc4534b5b%22%20style%3D%22width%3A%20100.0%25%3B%20height%3A%20100.0%25%3B%22%3E%20%20%20%20%20%20%20%20%20%3Cul%3E%20%20%20%20%20%20%20%20%20%20%20%20%20%3Cli%3E%3Cstrong%3EID%3A%20%3C/strong%3E3203%3C/li%3E%20%20%20%20%20%20%20%20%20%20%20%20%20%3Cli%3E%3Cstrong%3ESource%3A%20%3C/strong%3EHenderson%20P%26C%20%23103%3C/li%3E%20%20%20%20%20%20%20%20%20%20%20%20%20%3Cli%3E%3Cstrong%3EName%3A%20%3C/strong%3Enan%3C/li%3E%20%20%20%20%20%20%20%20%20%3Cul%3E%20%20%20%20%20%3C/div%3E%60%29%5B0%5D%3B%0A%20%20%20%20%20%20%20%20%20%20%20%20popup_cb5d30746f0d457fb5091d8d4c056fe3.setContent%28html_3e47655ace42495e85c04f8cc4534b5b%29%3B%0A%20%20%20%20%20%20%20%20%0A%0A%20%20%20%20%20%20%20%20marker_2636e246884d407980510f318faf773f.bindPopup%28popup_cb5d30746f0d457fb5091d8d4c056fe3%29%0A%20%20%20%20%20%20%20%20%3B%0A%0A%20%20%20%20%20%20%20%20%0A%20%20%20%20%0A%20%20%20%20%0A%20%20%20%20%20%20%20%20%20%20%20%20var%20marker_e882fbc81a7743ccac4a6cd966eb7569%20%3D%20L.marker%28%0A%20%20%20%20%20%20%20%20%20%20%20%20%20%20%20%20%5B43.772771%2C%2011.253926%5D%2C%0A%20%20%20%20%20%20%20%20%20%20%20%20%20%20%20%20%7B%7D%0A%20%20%20%20%20%20%20%20%20%20%20%20%29.addTo%28map_cb5ddea0a149466984ccacda88dfafab%29%3B%0A%20%20%20%20%20%20%20%20%0A%20%20%20%20%0A%20%20%20%20%20%20%20%20var%20popup_546a9189796b4402b8d9cc9b1847b1c2%20%3D%20L.popup%28%7B%22maxWidth%22%3A%20%22100%25%22%7D%29%3B%0A%0A%20%20%20%20%20%20%20%20%0A%20%20%20%20%20%20%20%20%20%20%20%20var%20html_f80ad98559fd4104bca6d200d436aab1%20%3D%20%24%28%60%3Cdiv%20id%3D%22html_f80ad98559fd4104bca6d200d436aab1%22%20style%3D%22width%3A%20100.0%25%3B%20height%3A%20100.0%25%3B%22%3E%20%20%20%20%20%20%20%20%20%3Cul%3E%20%20%20%20%20%20%20%20%20%20%20%20%20%3Cli%3E%3Cstrong%3EID%3A%20%3C/strong%3E1612%3C/li%3E%20%20%20%20%20%20%20%20%20%20%20%20%20%3Cli%3E%3Cstrong%3ESource%3A%20%3C/strong%3EHenderson%20P%26C%20%23103%3C/li%3E%20%20%20%20%20%20%20%20%20%20%20%20%20%3Cli%3E%3Cstrong%3EName%3A%20%3C/strong%3EBernardo%20di%20Salvestro%2C%20rigattiere%3C/li%3E%20%20%20%20%20%20%20%20%20%3Cul%3E%20%20%20%20%20%3C/div%3E%60%29%5B0%5D%3B%0A%20%20%20%20%20%20%20%20%20%20%20%20popup_546a9189796b4402b8d9cc9b1847b1c2.setContent%28html_f80ad98559fd4104bca6d200d436aab1%29%3B%0A%20%20%20%20%20%20%20%20%0A%0A%20%20%20%20%20%20%20%20marker_e882fbc81a7743ccac4a6cd966eb7569.bindPopup%28popup_546a9189796b4402b8d9cc9b1847b1c2%29%0A%20%20%20%20%20%20%20%20%3B%0A%0A%20%20%20%20%20%20%20%20%0A%20%20%20%20%0A%20%20%20%20%0A%20%20%20%20%20%20%20%20%20%20%20%20var%20marker_e2dcad3a8bbc49b882cdf5a8666c5432%20%3D%20L.marker%28%0A%20%20%20%20%20%20%20%20%20%20%20%20%20%20%20%20%5B43.76871188%2C%2011.24295313%5D%2C%0A%20%20%20%20%20%20%20%20%20%20%20%20%20%20%20%20%7B%7D%0A%20%20%20%20%20%20%20%20%20%20%20%20%29.addTo%28map_cb5ddea0a149466984ccacda88dfafab%29%3B%0A%20%20%20%20%20%20%20%20%0A%20%20%20%20%0A%20%20%20%20%20%20%20%20var%20popup_b965c913f499448588d2a59670621b63%20%3D%20L.popup%28%7B%22maxWidth%22%3A%20%22100%25%22%7D%29%3B%0A%0A%20%20%20%20%20%20%20%20%0A%20%20%20%20%20%20%20%20%20%20%20%20var%20html_c898ef193d364cf8a6082e58da9dc512%20%3D%20%24%28%60%3Cdiv%20id%3D%22html_c898ef193d364cf8a6082e58da9dc512%22%20style%3D%22width%3A%20100.0%25%3B%20height%3A%20100.0%25%3B%22%3E%20%20%20%20%20%20%20%20%20%3Cul%3E%20%20%20%20%20%20%20%20%20%20%20%20%20%3Cli%3E%3Cstrong%3EID%3A%20%3C/strong%3E8432%3C/li%3E%20%20%20%20%20%20%20%20%20%20%20%20%20%3Cli%3E%3Cstrong%3ESource%3A%20%3C/strong%3EHenderson%20P%26C%20%23103%3C/li%3E%20%20%20%20%20%20%20%20%20%20%20%20%20%3Cli%3E%3Cstrong%3EName%3A%20%3C/strong%3EGuglielmo%20di%20Gherardo%20merciaio%3C/li%3E%20%20%20%20%20%20%20%20%20%3Cul%3E%20%20%20%20%20%3C/div%3E%60%29%5B0%5D%3B%0A%20%20%20%20%20%20%20%20%20%20%20%20popup_b965c913f499448588d2a59670621b63.setContent%28html_c898ef193d364cf8a6082e58da9dc512%29%3B%0A%20%20%20%20%20%20%20%20%0A%0A%20%20%20%20%20%20%20%20marker_e2dcad3a8bbc49b882cdf5a8666c5432.bindPopup%28popup_b965c913f499448588d2a59670621b63%29%0A%20%20%20%20%20%20%20%20%3B%0A%0A%20%20%20%20%20%20%20%20%0A%20%20%20%20%0A%20%20%20%20%0A%20%20%20%20%20%20%20%20%20%20%20%20var%20marker_f2f240799f924a0c81134ea6e78a60e5%20%3D%20L.marker%28%0A%20%20%20%20%20%20%20%20%20%20%20%20%20%20%20%20%5B43.780074%2C%2011.258457%5D%2C%0A%20%20%20%20%20%20%20%20%20%20%20%20%20%20%20%20%7B%7D%0A%20%20%20%20%20%20%20%20%20%20%20%20%29.addTo%28map_cb5ddea0a149466984ccacda88dfafab%29%3B%0A%20%20%20%20%20%20%20%20%0A%20%20%20%20%0A%20%20%20%20%20%20%20%20var%20popup_a41e5f8d9bd44ed89b74583619f10353%20%3D%20L.popup%28%7B%22maxWidth%22%3A%20%22100%25%22%7D%29%3B%0A%0A%20%20%20%20%20%20%20%20%0A%20%20%20%20%20%20%20%20%20%20%20%20var%20html_2f3c2e9f5b1f458cb44f8fcc51ef7a28%20%3D%20%24%28%60%3Cdiv%20id%3D%22html_2f3c2e9f5b1f458cb44f8fcc51ef7a28%22%20style%3D%22width%3A%20100.0%25%3B%20height%3A%20100.0%25%3B%22%3E%20%20%20%20%20%20%20%20%20%3Cul%3E%20%20%20%20%20%20%20%20%20%20%20%20%20%3Cli%3E%3Cstrong%3EID%3A%20%3C/strong%3E68%3C/li%3E%20%20%20%20%20%20%20%20%20%20%20%20%20%3Cli%3E%3Cstrong%3ESource%3A%20%3C/strong%3EHenderson%20P%26C%20%2387%20%5Bfemale%20tenants%3B%20see%20location%5D%3C/li%3E%20%20%20%20%20%20%20%20%20%20%20%20%20%3Cli%3E%3Cstrong%3EName%3A%20%3C/strong%3EMona%20Lisabetta%2C%20moglie%20gia%20di%20Benedetto%2C%20detto%20il%20Pecchia%3C/li%3E%20%20%20%20%20%20%20%20%20%3Cul%3E%20%20%20%20%20%3C/div%3E%60%29%5B0%5D%3B%0A%20%20%20%20%20%20%20%20%20%20%20%20popup_a41e5f8d9bd44ed89b74583619f10353.setContent%28html_2f3c2e9f5b1f458cb44f8fcc51ef7a28%29%3B%0A%20%20%20%20%20%20%20%20%0A%0A%20%20%20%20%20%20%20%20marker_f2f240799f924a0c81134ea6e78a60e5.bindPopup%28popup_a41e5f8d9bd44ed89b74583619f10353%29%0A%20%20%20%20%20%20%20%20%3B%0A%0A%20%20%20%20%20%20%20%20%0A%20%20%20%20%0A%20%20%20%20%0A%20%20%20%20%20%20%20%20%20%20%20%20var%20marker_66dc82e45b5e4a04b38faeaa31d3c105%20%3D%20L.marker%28%0A%20%20%20%20%20%20%20%20%20%20%20%20%20%20%20%20%5B43.78001%2C%2011.258343%5D%2C%0A%20%20%20%20%20%20%20%20%20%20%20%20%20%20%20%20%7B%7D%0A%20%20%20%20%20%20%20%20%20%20%20%20%29.addTo%28map_cb5ddea0a149466984ccacda88dfafab%29%3B%0A%20%20%20%20%20%20%20%20%0A%20%20%20%20%0A%20%20%20%20%20%20%20%20var%20popup_a7e5118aecd74f03947ef252bb3e29d0%20%3D%20L.popup%28%7B%22maxWidth%22%3A%20%22100%25%22%7D%29%3B%0A%0A%20%20%20%20%20%20%20%20%0A%20%20%20%20%20%20%20%20%20%20%20%20var%20html_ad5ff7e48ead4596a2b0a2abc2a80917%20%3D%20%24%28%60%3Cdiv%20id%3D%22html_ad5ff7e48ead4596a2b0a2abc2a80917%22%20style%3D%22width%3A%20100.0%25%3B%20height%3A%20100.0%25%3B%22%3E%20%20%20%20%20%20%20%20%20%3Cul%3E%20%20%20%20%20%20%20%20%20%20%20%20%20%3Cli%3E%3Cstrong%3EID%3A%20%3C/strong%3E248%3C/li%3E%20%20%20%20%20%20%20%20%20%20%20%20%20%3Cli%3E%3Cstrong%3ESource%3A%20%3C/strong%3EHenderson%20P%26C%20%2387%3C/li%3E%20%20%20%20%20%20%20%20%20%20%20%20%20%3Cli%3E%3Cstrong%3EName%3A%20%3C/strong%3EMona%20Agnoletta%20di%20Fede%3C/li%3E%20%20%20%20%20%20%20%20%20%3Cul%3E%20%20%20%20%20%3C/div%3E%60%29%5B0%5D%3B%0A%20%20%20%20%20%20%20%20%20%20%20%20popup_a7e5118aecd74f03947ef252bb3e29d0.setContent%28html_ad5ff7e48ead4596a2b0a2abc2a80917%29%3B%0A%20%20%20%20%20%20%20%20%0A%0A%20%20%20%20%20%20%20%20marker_66dc82e45b5e4a04b38faeaa31d3c105.bindPopup%28popup_a7e5118aecd74f03947ef252bb3e29d0%29%0A%20%20%20%20%20%20%20%20%3B%0A%0A%20%20%20%20%20%20%20%20%0A%20%20%20%20%0A%20%20%20%20%0A%20%20%20%20%20%20%20%20%20%20%20%20var%20marker_fff612f75b32432f924e88d137c2a2e3%20%3D%20L.marker%28%0A%20%20%20%20%20%20%20%20%20%20%20%20%20%20%20%20%5B43.78006019%2C%2011.25829352%5D%2C%0A%20%20%20%20%20%20%20%20%20%20%20%20%20%20%20%20%7B%7D%0A%20%20%20%20%20%20%20%20%20%20%20%20%29.addTo%28map_cb5ddea0a149466984ccacda88dfafab%29%3B%0A%20%20%20%20%20%20%20%20%0A%20%20%20%20%0A%20%20%20%20%20%20%20%20var%20popup_514aec18eea6485580e09cc39c332800%20%3D%20L.popup%28%7B%22maxWidth%22%3A%20%22100%25%22%7D%29%3B%0A%0A%20%20%20%20%20%20%20%20%0A%20%20%20%20%20%20%20%20%20%20%20%20var%20html_8f56f9cf53ed4d82935a7d092d2a15a1%20%3D%20%24%28%60%3Cdiv%20id%3D%22html_8f56f9cf53ed4d82935a7d092d2a15a1%22%20style%3D%22width%3A%20100.0%25%3B%20height%3A%20100.0%25%3B%22%3E%20%20%20%20%20%20%20%20%20%3Cul%3E%20%20%20%20%20%20%20%20%20%20%20%20%20%3Cli%3E%3Cstrong%3EID%3A%20%3C/strong%3E717%3C/li%3E%20%20%20%20%20%20%20%20%20%20%20%20%20%3Cli%3E%3Cstrong%3ESource%3A%20%3C/strong%3EHenderson%20P%26C%20%2387%3C/li%3E%20%20%20%20%20%20%20%20%20%20%20%20%20%3Cli%3E%3Cstrong%3EName%3A%20%3C/strong%3EMona%20Catarina%2C%20moglie%20gia%20di%20ser%20Giovanni%20Simoni%3C/li%3E%20%20%20%20%20%20%20%20%20%3Cul%3E%20%20%20%20%20%3C/div%3E%60%29%5B0%5D%3B%0A%20%20%20%20%20%20%20%20%20%20%20%20popup_514aec18eea6485580e09cc39c332800.setContent%28html_8f56f9cf53ed4d82935a7d092d2a15a1%29%3B%0A%20%20%20%20%20%20%20%20%0A%0A%20%20%20%20%20%20%20%20marker_fff612f75b32432f924e88d137c2a2e3.bindPopup%28popup_514aec18eea6485580e09cc39c332800%29%0A%20%20%20%20%20%20%20%20%3B%0A%0A%20%20%20%20%20%20%20%20%0A%20%20%20%20%0A%20%20%20%20%0A%20%20%20%20%20%20%20%20%20%20%20%20var%20marker_d69ca4f4820b4b4d9d6b48f0731bdd66%20%3D%20L.marker%28%0A%20%20%20%20%20%20%20%20%20%20%20%20%20%20%20%20%5B43.775658%2C%2011.25233071%5D%2C%0A%20%20%20%20%20%20%20%20%20%20%20%20%20%20%20%20%7B%7D%0A%20%20%20%20%20%20%20%20%20%20%20%20%29.addTo%28map_cb5ddea0a149466984ccacda88dfafab%29%3B%0A%20%20%20%20%20%20%20%20%0A%20%20%20%20%0A%20%20%20%20%20%20%20%20var%20popup_ad5a085088d44dec94f3045e422d308d%20%3D%20L.popup%28%7B%22maxWidth%22%3A%20%22100%25%22%7D%29%3B%0A%0A%20%20%20%20%20%20%20%20%0A%20%20%20%20%20%20%20%20%20%20%20%20var%20html_6c6cfc1f35e94ad0bbf147ef69b6a00f%20%3D%20%24%28%60%3Cdiv%20id%3D%22html_6c6cfc1f35e94ad0bbf147ef69b6a00f%22%20style%3D%22width%3A%20100.0%25%3B%20height%3A%20100.0%25%3B%22%3E%20%20%20%20%20%20%20%20%20%3Cul%3E%20%20%20%20%20%20%20%20%20%20%20%20%20%3Cli%3E%3Cstrong%3EID%3A%20%3C/strong%3E245%3C/li%3E%20%20%20%20%20%20%20%20%20%20%20%20%20%3Cli%3E%3Cstrong%3ESource%3A%20%3C/strong%3EHenderson%20P%26C%20104%20%5Bvia%20S%20Jacopo%20in%20Campo%20Corbelino%5D%3C/li%3E%20%20%20%20%20%20%20%20%20%20%20%20%20%3Cli%3E%3Cstrong%3EName%3A%20%3C/strong%3EGirolamo%20di%20Domenico%20da%20Mantova%3C/li%3E%20%20%20%20%20%20%20%20%20%3Cul%3E%20%20%20%20%20%3C/div%3E%60%29%5B0%5D%3B%0A%20%20%20%20%20%20%20%20%20%20%20%20popup_ad5a085088d44dec94f3045e422d308d.setContent%28html_6c6cfc1f35e94ad0bbf147ef69b6a00f%29%3B%0A%20%20%20%20%20%20%20%20%0A%0A%20%20%20%20%20%20%20%20marker_d69ca4f4820b4b4d9d6b48f0731bdd66.bindPopup%28popup_ad5a085088d44dec94f3045e422d308d%29%0A%20%20%20%20%20%20%20%20%3B%0A%0A%20%20%20%20%20%20%20%20%0A%20%20%20%20%0A%20%20%20%20%0A%20%20%20%20%20%20%20%20%20%20%20%20var%20marker_dd50280a031f4f19a3ac73b78db13b11%20%3D%20L.marker%28%0A%20%20%20%20%20%20%20%20%20%20%20%20%20%20%20%20%5B43.76999571%2C%2011.26450286%5D%2C%0A%20%20%20%20%20%20%20%20%20%20%20%20%20%20%20%20%7B%7D%0A%20%20%20%20%20%20%20%20%20%20%20%20%29.addTo%28map_cb5ddea0a149466984ccacda88dfafab%29%3B%0A%20%20%20%20%20%20%20%20%0A%20%20%20%20%0A%20%20%20%20%20%20%20%20var%20popup_58f842836401403f8fd12e909f84b250%20%3D%20L.popup%28%7B%22maxWidth%22%3A%20%22100%25%22%7D%29%3B%0A%0A%20%20%20%20%20%20%20%20%0A%20%20%20%20%20%20%20%20%20%20%20%20var%20html_07c3175e228c4a589ea2a151bfd0ba1e%20%3D%20%24%28%60%3Cdiv%20id%3D%22html_07c3175e228c4a589ea2a151bfd0ba1e%22%20style%3D%22width%3A%20100.0%25%3B%20height%3A%20100.0%25%3B%22%3E%20%20%20%20%20%20%20%20%20%3Cul%3E%20%20%20%20%20%20%20%20%20%20%20%20%20%3Cli%3E%3Cstrong%3EID%3A%20%3C/strong%3E3291%3C/li%3E%20%20%20%20%20%20%20%20%20%20%20%20%20%3Cli%3E%3Cstrong%3ESource%3A%20%3C/strong%3EHenderson%20P%26C%20%23113%20%5Baddress%5D%3C/li%3E%20%20%20%20%20%20%20%20%20%20%20%20%20%3Cli%3E%3Cstrong%3EName%3A%20%3C/strong%3EMona%20Gentile%2C%20donna%20gia%20di%20Francesco%20da%20Gobbio%3C/li%3E%20%20%20%20%20%20%20%20%20%3Cul%3E%20%20%20%20%20%3C/div%3E%60%29%5B0%5D%3B%0A%20%20%20%20%20%20%20%20%20%20%20%20popup_58f842836401403f8fd12e909f84b250.setContent%28html_07c3175e228c4a589ea2a151bfd0ba1e%29%3B%0A%20%20%20%20%20%20%20%20%0A%0A%20%20%20%20%20%20%20%20marker_dd50280a031f4f19a3ac73b78db13b11.bindPopup%28popup_58f842836401403f8fd12e909f84b250%29%0A%20%20%20%20%20%20%20%20%3B%0A%0A%20%20%20%20%20%20%20%20%0A%20%20%20%20%0A%20%20%20%20%0A%20%20%20%20%20%20%20%20%20%20%20%20var%20marker_e9aed39c2d7a402aaaccbf0a63dbd7eb%20%3D%20L.marker%28%0A%20%20%20%20%20%20%20%20%20%20%20%20%20%20%20%20%5B43.777678%2C%2011.25840717%5D%2C%0A%20%20%20%20%20%20%20%20%20%20%20%20%20%20%20%20%7B%7D%0A%20%20%20%20%20%20%20%20%20%20%20%20%29.addTo%28map_cb5ddea0a149466984ccacda88dfafab%29%3B%0A%20%20%20%20%20%20%20%20%0A%20%20%20%20%0A%20%20%20%20%20%20%20%20var%20popup_50db4df5106f4fb8ac446319713d48e4%20%3D%20L.popup%28%7B%22maxWidth%22%3A%20%22100%25%22%7D%29%3B%0A%0A%20%20%20%20%20%20%20%20%0A%20%20%20%20%20%20%20%20%20%20%20%20var%20html_88c0d88883ea4ba58852b9355d8c5a44%20%3D%20%24%28%60%3Cdiv%20id%3D%22html_88c0d88883ea4ba58852b9355d8c5a44%22%20style%3D%22width%3A%20100.0%25%3B%20height%3A%20100.0%25%3B%22%3E%20%20%20%20%20%20%20%20%20%3Cul%3E%20%20%20%20%20%20%20%20%20%20%20%20%20%3Cli%3E%3Cstrong%3EID%3A%20%3C/strong%3E1429%3C/li%3E%20%20%20%20%20%20%20%20%20%20%20%20%20%3Cli%3E%3Cstrong%3ESource%3A%20%3C/strong%3EHenderson%20P%26C%20%23113%20%5Baddress%5D%3C/li%3E%20%20%20%20%20%20%20%20%20%20%20%20%20%3Cli%3E%3Cstrong%3EName%3A%20%3C/strong%3ERaffaello%20di%20Pellegrino%20Bartoli%3C/li%3E%20%20%20%20%20%20%20%20%20%3Cul%3E%20%20%20%20%20%3C/div%3E%60%29%5B0%5D%3B%0A%20%20%20%20%20%20%20%20%20%20%20%20popup_50db4df5106f4fb8ac446319713d48e4.setContent%28html_88c0d88883ea4ba58852b9355d8c5a44%29%3B%0A%20%20%20%20%20%20%20%20%0A%0A%20%20%20%20%20%20%20%20marker_e9aed39c2d7a402aaaccbf0a63dbd7eb.bindPopup%28popup_50db4df5106f4fb8ac446319713d48e4%29%0A%20%20%20%20%20%20%20%20%3B%0A%0A%20%20%20%20%20%20%20%20%0A%20%20%20%20%0A%20%20%20%20%0A%20%20%20%20%20%20%20%20%20%20%20%20var%20marker_4535580195c54b41ac6459845ca17dfc%20%3D%20L.marker%28%0A%20%20%20%20%20%20%20%20%20%20%20%20%20%20%20%20%5B43.76985%2C%2011.2661425%5D%2C%0A%20%20%20%20%20%20%20%20%20%20%20%20%20%20%20%20%7B%7D%0A%20%20%20%20%20%20%20%20%20%20%20%20%29.addTo%28map_cb5ddea0a149466984ccacda88dfafab%29%3B%0A%20%20%20%20%20%20%20%20%0A%20%20%20%20%0A%20%20%20%20%20%20%20%20var%20popup_446787c16bb74107938ecfb5759fba0d%20%3D%20L.popup%28%7B%22maxWidth%22%3A%20%22100%25%22%7D%29%3B%0A%0A%20%20%20%20%20%20%20%20%0A%20%20%20%20%20%20%20%20%20%20%20%20var%20html_7305806ac023429cbc7ac41f5fbe0a12%20%3D%20%24%28%60%3Cdiv%20id%3D%22html_7305806ac023429cbc7ac41f5fbe0a12%22%20style%3D%22width%3A%20100.0%25%3B%20height%3A%20100.0%25%3B%22%3E%20%20%20%20%20%20%20%20%20%3Cul%3E%20%20%20%20%20%20%20%20%20%20%20%20%20%3Cli%3E%3Cstrong%3EID%3A%20%3C/strong%3E3025%3C/li%3E%20%20%20%20%20%20%20%20%20%20%20%20%20%3Cli%3E%3Cstrong%3ESource%3A%20%3C/strong%3EHenderson%20P%26C%20%23121%3F%20%20All%205%20these%20contiguous%20-%20by%20modern%20S.%20Ambrogio%20market%20on%20Via%20Visdomini%20where%20there%20was%20a%20ruined%20casolare%3C/li%3E%20%20%20%20%20%20%20%20%20%20%20%20%20%3Cli%3E%3Cstrong%3EName%3A%20%3C/strong%3EMona%20Maria%20Francesca%20di%20Batista%3C/li%3E%20%20%20%20%20%20%20%20%20%3Cul%3E%20%20%20%20%20%3C/div%3E%60%29%5B0%5D%3B%0A%20%20%20%20%20%20%20%20%20%20%20%20popup_446787c16bb74107938ecfb5759fba0d.setContent%28html_7305806ac023429cbc7ac41f5fbe0a12%29%3B%0A%20%20%20%20%20%20%20%20%0A%0A%20%20%20%20%20%20%20%20marker_4535580195c54b41ac6459845ca17dfc.bindPopup%28popup_446787c16bb74107938ecfb5759fba0d%29%0A%20%20%20%20%20%20%20%20%3B%0A%0A%20%20%20%20%20%20%20%20%0A%20%20%20%20%0A%20%20%20%20%0A%20%20%20%20%20%20%20%20%20%20%20%20var%20marker_612a9779b9d54c79abaa83ed8fc0b2ef%20%3D%20L.marker%28%0A%20%20%20%20%20%20%20%20%20%20%20%20%20%20%20%20%5B43.76976%2C%2011.266095%5D%2C%0A%20%20%20%20%20%20%20%20%20%20%20%20%20%20%20%20%7B%7D%0A%20%20%20%20%20%20%20%20%20%20%20%20%29.addTo%28map_cb5ddea0a149466984ccacda88dfafab%29%3B%0A%20%20%20%20%20%20%20%20%0A%20%20%20%20%0A%20%20%20%20%20%20%20%20var%20popup_0977b4121fed4fdcab9a497987a28dcc%20%3D%20L.popup%28%7B%22maxWidth%22%3A%20%22100%25%22%7D%29%3B%0A%0A%20%20%20%20%20%20%20%20%0A%20%20%20%20%20%20%20%20%20%20%20%20var%20html_9514fbc9df8e4166924378875b794a27%20%3D%20%24%28%60%3Cdiv%20id%3D%22html_9514fbc9df8e4166924378875b794a27%22%20style%3D%22width%3A%20100.0%25%3B%20height%3A%20100.0%25%3B%22%3E%20%20%20%20%20%20%20%20%20%3Cul%3E%20%20%20%20%20%20%20%20%20%20%20%20%20%3Cli%3E%3Cstrong%3EID%3A%20%3C/strong%3E3044%3C/li%3E%20%20%20%20%20%20%20%20%20%20%20%20%20%3Cli%3E%3Cstrong%3ESource%3A%20%3C/strong%3EHenderson%20P%26C%20%23121%3F%20-%20All%205%20these%20contiguous%20-%20by%20modern%20S.%20Ambrogio%20market%20on%20Via%20Visdomini%20where%20there%20was%20a%20ruined%20casolare%3C/li%3E%20%20%20%20%20%20%20%20%20%20%20%20%20%3Cli%3E%3Cstrong%3EName%3A%20%3C/strong%3EMona%20Lucretia%20di%20Bolognese%3C/li%3E%20%20%20%20%20%20%20%20%20%3Cul%3E%20%20%20%20%20%3C/div%3E%60%29%5B0%5D%3B%0A%20%20%20%20%20%20%20%20%20%20%20%20popup_0977b4121fed4fdcab9a497987a28dcc.setContent%28html_9514fbc9df8e4166924378875b794a27%29%3B%0A%20%20%20%20%20%20%20%20%0A%0A%20%20%20%20%20%20%20%20marker_612a9779b9d54c79abaa83ed8fc0b2ef.bindPopup%28popup_0977b4121fed4fdcab9a497987a28dcc%29%0A%20%20%20%20%20%20%20%20%3B%0A%0A%20%20%20%20%20%20%20%20%0A%20%20%20%20%0A%20%20%20%20%0A%20%20%20%20%20%20%20%20%20%20%20%20var%20marker_b989ec5429c0468db7b11c2f91da8d70%20%3D%20L.marker%28%0A%20%20%20%20%20%20%20%20%20%20%20%20%20%20%20%20%5B43.76967%2C%2011.2660475%5D%2C%0A%20%20%20%20%20%20%20%20%20%20%20%20%20%20%20%20%7B%7D%0A%20%20%20%20%20%20%20%20%20%20%20%20%29.addTo%28map_cb5ddea0a149466984ccacda88dfafab%29%3B%0A%20%20%20%20%20%20%20%20%0A%20%20%20%20%0A%20%20%20%20%20%20%20%20var%20popup_fe230eddd62e4212a9ee03112775a89e%20%3D%20L.popup%28%7B%22maxWidth%22%3A%20%22100%25%22%7D%29%3B%0A%0A%20%20%20%20%20%20%20%20%0A%20%20%20%20%20%20%20%20%20%20%20%20var%20html_b83f26f8ee7d4bef83f5903e71ce4199%20%3D%20%24%28%60%3Cdiv%20id%3D%22html_b83f26f8ee7d4bef83f5903e71ce4199%22%20style%3D%22width%3A%20100.0%25%3B%20height%3A%20100.0%25%3B%22%3E%20%20%20%20%20%20%20%20%20%3Cul%3E%20%20%20%20%20%20%20%20%20%20%20%20%20%3Cli%3E%3Cstrong%3EID%3A%20%3C/strong%3E3082%3C/li%3E%20%20%20%20%20%20%20%20%20%20%20%20%20%3Cli%3E%3Cstrong%3ESource%3A%20%3C/strong%3EHenderson%20P%26C%20%23121%3F%20-%20All%205%20these%20contiguous%20-%20by%20modern%20S.%20Ambrogio%20market%20on%20Via%20Visdomini%20where%20there%20was%20a%20ruined%20casolare%3C/li%3E%20%20%20%20%20%20%20%20%20%20%20%20%20%3Cli%3E%3Cstrong%3EName%3A%20%3C/strong%3EMona%20Bridia%20di%20Fiorentino%3C/li%3E%20%20%20%20%20%20%20%20%20%3Cul%3E%20%20%20%20%20%3C/div%3E%60%29%5B0%5D%3B%0A%20%20%20%20%20%20%20%20%20%20%20%20popup_fe230eddd62e4212a9ee03112775a89e.setContent%28html_b83f26f8ee7d4bef83f5903e71ce4199%29%3B%0A%20%20%20%20%20%20%20%20%0A%0A%20%20%20%20%20%20%20%20marker_b989ec5429c0468db7b11c2f91da8d70.bindPopup%28popup_fe230eddd62e4212a9ee03112775a89e%29%0A%20%20%20%20%20%20%20%20%3B%0A%0A%20%20%20%20%20%20%20%20%0A%20%20%20%20%0A%20%20%20%20%0A%20%20%20%20%20%20%20%20%20%20%20%20var%20marker_aee9bddba3864accac5615618714d9c7%20%3D%20L.marker%28%0A%20%20%20%20%20%20%20%20%20%20%20%20%20%20%20%20%5B43.76958%2C%2011.266%5D%2C%0A%20%20%20%20%20%20%20%20%20%20%20%20%20%20%20%20%7B%7D%0A%20%20%20%20%20%20%20%20%20%20%20%20%29.addTo%28map_cb5ddea0a149466984ccacda88dfafab%29%3B%0A%20%20%20%20%20%20%20%20%0A%20%20%20%20%0A%20%20%20%20%20%20%20%20var%20popup_93574bc9ae5341b7a63e0528cbf6550e%20%3D%20L.popup%28%7B%22maxWidth%22%3A%20%22100%25%22%7D%29%3B%0A%0A%20%20%20%20%20%20%20%20%0A%20%20%20%20%20%20%20%20%20%20%20%20var%20html_2758f6de234d48c299557a8fcf55c0d9%20%3D%20%24%28%60%3Cdiv%20id%3D%22html_2758f6de234d48c299557a8fcf55c0d9%22%20style%3D%22width%3A%20100.0%25%3B%20height%3A%20100.0%25%3B%22%3E%20%20%20%20%20%20%20%20%20%3Cul%3E%20%20%20%20%20%20%20%20%20%20%20%20%20%3Cli%3E%3Cstrong%3EID%3A%20%3C/strong%3E3083%3C/li%3E%20%20%20%20%20%20%20%20%20%20%20%20%20%3Cli%3E%3Cstrong%3ESource%3A%20%3C/strong%3EHenderson%20P%26C%20%23121%3F%20-%20All%205%20these%20contiguous%20-%20by%20modern%20S.%20Ambrogio%20market%20on%20Via%20Visdomini%20where%20there%20was%20a%20ruined%20casolare%3C/li%3E%20%20%20%20%20%20%20%20%20%20%20%20%20%3Cli%3E%3Cstrong%3EName%3A%20%3C/strong%3EBaccino%20di%20messer%20Jacopo%2C%20muratore%3C/li%3E%20%20%20%20%20%20%20%20%20%3Cul%3E%20%20%20%20%20%3C/div%3E%60%29%5B0%5D%3B%0A%20%20%20%20%20%20%20%20%20%20%20%20popup_93574bc9ae5341b7a63e0528cbf6550e.setContent%28html_2758f6de234d48c299557a8fcf55c0d9%29%3B%0A%20%20%20%20%20%20%20%20%0A%0A%20%20%20%20%20%20%20%20marker_aee9bddba3864accac5615618714d9c7.bindPopup%28popup_93574bc9ae5341b7a63e0528cbf6550e%29%0A%20%20%20%20%20%20%20%20%3B%0A%0A%20%20%20%20%20%20%20%20%0A%20%20%20%20%0A%20%20%20%20%0A%20%20%20%20%20%20%20%20%20%20%20%20var%20marker_fec9c6aa75954363be4a721af0d0443e%20%3D%20L.marker%28%0A%20%20%20%20%20%20%20%20%20%20%20%20%20%20%20%20%5B43.76994%2C%2011.26619%5D%2C%0A%20%20%20%20%20%20%20%20%20%20%20%20%20%20%20%20%7B%7D%0A%20%20%20%20%20%20%20%20%20%20%20%20%29.addTo%28map_cb5ddea0a149466984ccacda88dfafab%29%3B%0A%20%20%20%20%20%20%20%20%0A%20%20%20%20%0A%20%20%20%20%20%20%20%20var%20popup_a85321f8db2c49d38733037346d4b215%20%3D%20L.popup%28%7B%22maxWidth%22%3A%20%22100%25%22%7D%29%3B%0A%0A%20%20%20%20%20%20%20%20%0A%20%20%20%20%20%20%20%20%20%20%20%20var%20html_832bb47c3f074908b562aa06a10b50c4%20%3D%20%24%28%60%3Cdiv%20id%3D%22html_832bb47c3f074908b562aa06a10b50c4%22%20style%3D%22width%3A%20100.0%25%3B%20height%3A%20100.0%25%3B%22%3E%20%20%20%20%20%20%20%20%20%3Cul%3E%20%20%20%20%20%20%20%20%20%20%20%20%20%3Cli%3E%3Cstrong%3EID%3A%20%3C/strong%3E3116%3C/li%3E%20%20%20%20%20%20%20%20%20%20%20%20%20%3Cli%3E%3Cstrong%3ESource%3A%20%3C/strong%3EHenderson%20P%26C%20%23121%3F%20-%20All%205%20these%20contiguous%20-%20by%20modern%20S.%20Ambrogio%20market%20on%20Via%20Visdomini%20where%20there%20was%20a%20ruined%20casolare%3C/li%3E%20%20%20%20%20%20%20%20%20%20%20%20%20%3Cli%3E%3Cstrong%3EName%3A%20%3C/strong%3Enan%3C/li%3E%20%20%20%20%20%20%20%20%20%3Cul%3E%20%20%20%20%20%3C/div%3E%60%29%5B0%5D%3B%0A%20%20%20%20%20%20%20%20%20%20%20%20popup_a85321f8db2c49d38733037346d4b215.setContent%28html_832bb47c3f074908b562aa06a10b50c4%29%3B%0A%20%20%20%20%20%20%20%20%0A%0A%20%20%20%20%20%20%20%20marker_fec9c6aa75954363be4a721af0d0443e.bindPopup%28popup_a85321f8db2c49d38733037346d4b215%29%0A%20%20%20%20%20%20%20%20%3B%0A%0A%20%20%20%20%20%20%20%20%0A%20%20%20%20%0A%20%20%20%20%0A%20%20%20%20%20%20%20%20%20%20%20%20var%20marker_1563288fb50745ee9a81c6b0a838750b%20%3D%20L.marker%28%0A%20%20%20%20%20%20%20%20%20%20%20%20%20%20%20%20%5B43.7731525%2C%2011.24989%5D%2C%0A%20%20%20%20%20%20%20%20%20%20%20%20%20%20%20%20%7B%7D%0A%20%20%20%20%20%20%20%20%20%20%20%20%29.addTo%28map_cb5ddea0a149466984ccacda88dfafab%29%3B%0A%20%20%20%20%20%20%20%20%0A%20%20%20%20%0A%20%20%20%20%20%20%20%20var%20popup_59c1dba363c448e2837c3ba408ea3b64%20%3D%20L.popup%28%7B%22maxWidth%22%3A%20%22100%25%22%7D%29%3B%0A%0A%20%20%20%20%20%20%20%20%0A%20%20%20%20%20%20%20%20%20%20%20%20var%20html_babe6b57c01a44d5ac94bdfd2dccacde%20%3D%20%24%28%60%3Cdiv%20id%3D%22html_babe6b57c01a44d5ac94bdfd2dccacde%22%20style%3D%22width%3A%20100.0%25%3B%20height%3A%20100.0%25%3B%22%3E%20%20%20%20%20%20%20%20%20%3Cul%3E%20%20%20%20%20%20%20%20%20%20%20%20%20%3Cli%3E%3Cstrong%3EID%3A%20%3C/strong%3E5751%3C/li%3E%20%20%20%20%20%20%20%20%20%20%20%20%20%3Cli%3E%3Cstrong%3ESource%3A%20%3C/strong%3EIn%20Piazza%20S%20Maria%20Novella%3B%20near%20one%20of%20S.%20Paolo%20Martire%3C/li%3E%20%20%20%20%20%20%20%20%20%20%20%20%20%3Cli%3E%3Cstrong%3EName%3A%20%3C/strong%3Enan%3C/li%3E%20%20%20%20%20%20%20%20%20%3Cul%3E%20%20%20%20%20%3C/div%3E%60%29%5B0%5D%3B%0A%20%20%20%20%20%20%20%20%20%20%20%20popup_59c1dba363c448e2837c3ba408ea3b64.setContent%28html_babe6b57c01a44d5ac94bdfd2dccacde%29%3B%0A%20%20%20%20%20%20%20%20%0A%0A%20%20%20%20%20%20%20%20marker_1563288fb50745ee9a81c6b0a838750b.bindPopup%28popup_59c1dba363c448e2837c3ba408ea3b64%29%0A%20%20%20%20%20%20%20%20%3B%0A%0A%20%20%20%20%20%20%20%20%0A%20%20%20%20%0A%20%20%20%20%0A%20%20%20%20%20%20%20%20%20%20%20%20var%20marker_86876d25a4e842c48a532b30c3b39457%20%3D%20L.marker%28%0A%20%20%20%20%20%20%20%20%20%20%20%20%20%20%20%20%5B43.777146%2C%2011.253746%5D%2C%0A%20%20%20%20%20%20%20%20%20%20%20%20%20%20%20%20%7B%7D%0A%20%20%20%20%20%20%20%20%20%20%20%20%29.addTo%28map_cb5ddea0a149466984ccacda88dfafab%29%3B%0A%20%20%20%20%20%20%20%20%0A%20%20%20%20%0A%20%20%20%20%20%20%20%20var%20popup_ab1712d1edbb47deb4ccfb5dfe5ad4ab%20%3D%20L.popup%28%7B%22maxWidth%22%3A%20%22100%25%22%7D%29%3B%0A%0A%20%20%20%20%20%20%20%20%0A%20%20%20%20%20%20%20%20%20%20%20%20var%20html_52801f85e7b847789b248620bc1fd689%20%3D%20%24%28%60%3Cdiv%20id%3D%22html_52801f85e7b847789b248620bc1fd689%22%20style%3D%22width%3A%20100.0%25%3B%20height%3A%20100.0%25%3B%22%3E%20%20%20%20%20%20%20%20%20%3Cul%3E%20%20%20%20%20%20%20%20%20%20%20%20%20%3Cli%3E%3Cstrong%3EID%3A%20%3C/strong%3E437%3C/li%3E%20%20%20%20%20%20%20%20%20%20%20%20%20%3Cli%3E%3Cstrong%3ESource%3A%20%3C/strong%3EHenderson%20P%26C%20%23138%3C/li%3E%20%20%20%20%20%20%20%20%20%20%20%20%20%3Cli%3E%3Cstrong%3EName%3A%20%3C/strong%3EAntonio%20di%20Lazzero%20di%20d%27%20Antonio%3C/li%3E%20%20%20%20%20%20%20%20%20%3Cul%3E%20%20%20%20%20%3C/div%3E%60%29%5B0%5D%3B%0A%20%20%20%20%20%20%20%20%20%20%20%20popup_ab1712d1edbb47deb4ccfb5dfe5ad4ab.setContent%28html_52801f85e7b847789b248620bc1fd689%29%3B%0A%20%20%20%20%20%20%20%20%0A%0A%20%20%20%20%20%20%20%20marker_86876d25a4e842c48a532b30c3b39457.bindPopup%28popup_ab1712d1edbb47deb4ccfb5dfe5ad4ab%29%0A%20%20%20%20%20%20%20%20%3B%0A%0A%20%20%20%20%20%20%20%20%0A%20%20%20%20%0A%20%20%20%20%0A%20%20%20%20%20%20%20%20%20%20%20%20var%20marker_334ead1cb689447fb8687d0f9446712d%20%3D%20L.marker%28%0A%20%20%20%20%20%20%20%20%20%20%20%20%20%20%20%20%5B43.775512%2C%2011.2525135%5D%2C%0A%20%20%20%20%20%20%20%20%20%20%20%20%20%20%20%20%7B%7D%0A%20%20%20%20%20%20%20%20%20%20%20%20%29.addTo%28map_cb5ddea0a149466984ccacda88dfafab%29%3B%0A%20%20%20%20%20%20%20%20%0A%20%20%20%20%0A%20%20%20%20%20%20%20%20var%20popup_62246221535441cd8f4c5e4cfd6ec77d%20%3D%20L.popup%28%7B%22maxWidth%22%3A%20%22100%25%22%7D%29%3B%0A%0A%20%20%20%20%20%20%20%20%0A%20%20%20%20%20%20%20%20%20%20%20%20var%20html_b47f1ecc65bc4513892cd2d99a55e936%20%3D%20%24%28%60%3Cdiv%20id%3D%22html_b47f1ecc65bc4513892cd2d99a55e936%22%20style%3D%22width%3A%20100.0%25%3B%20height%3A%20100.0%25%3B%22%3E%20%20%20%20%20%20%20%20%20%3Cul%3E%20%20%20%20%20%20%20%20%20%20%20%20%20%3Cli%3E%3Cstrong%3EID%3A%20%3C/strong%3E753%3C/li%3E%20%20%20%20%20%20%20%20%20%20%20%20%20%3Cli%3E%3Cstrong%3ESource%3A%20%3C/strong%3EHenderson%20P%26C%20%23138%3C/li%3E%20%20%20%20%20%20%20%20%20%20%20%20%20%3Cli%3E%3Cstrong%3EName%3A%20%3C/strong%3EUlivieri%20de%20Guarana%2C%20cappellaio%3C/li%3E%20%20%20%20%20%20%20%20%20%3Cul%3E%20%20%20%20%20%3C/div%3E%60%29%5B0%5D%3B%0A%20%20%20%20%20%20%20%20%20%20%20%20popup_62246221535441cd8f4c5e4cfd6ec77d.setContent%28html_b47f1ecc65bc4513892cd2d99a55e936%29%3B%0A%20%20%20%20%20%20%20%20%0A%0A%20%20%20%20%20%20%20%20marker_334ead1cb689447fb8687d0f9446712d.bindPopup%28popup_62246221535441cd8f4c5e4cfd6ec77d%29%0A%20%20%20%20%20%20%20%20%3B%0A%0A%20%20%20%20%20%20%20%20%0A%20%20%20%20%0A%20%20%20%20%0A%20%20%20%20%20%20%20%20%20%20%20%20var%20marker_14c74254bbe84136830b8d108430dd72%20%3D%20L.marker%28%0A%20%20%20%20%20%20%20%20%20%20%20%20%20%20%20%20%5B43.77555867%2C%2011.25144467%5D%2C%0A%20%20%20%20%20%20%20%20%20%20%20%20%20%20%20%20%7B%7D%0A%20%20%20%20%20%20%20%20%20%20%20%20%29.addTo%28map_cb5ddea0a149466984ccacda88dfafab%29%3B%0A%20%20%20%20%20%20%20%20%0A%20%20%20%20%0A%20%20%20%20%20%20%20%20var%20popup_64911ed05adb4f5ebc48e3e32ae11133%20%3D%20L.popup%28%7B%22maxWidth%22%3A%20%22100%25%22%7D%29%3B%0A%0A%20%20%20%20%20%20%20%20%0A%20%20%20%20%20%20%20%20%20%20%20%20var%20html_0129168fb10a421db0d8ac458d1e8d14%20%3D%20%24%28%60%3Cdiv%20id%3D%22html_0129168fb10a421db0d8ac458d1e8d14%22%20style%3D%22width%3A%20100.0%25%3B%20height%3A%20100.0%25%3B%22%3E%20%20%20%20%20%20%20%20%20%3Cul%3E%20%20%20%20%20%20%20%20%20%20%20%20%20%3Cli%3E%3Cstrong%3EID%3A%20%3C/strong%3E5701%3C/li%3E%20%20%20%20%20%20%20%20%20%20%20%20%20%3Cli%3E%3Cstrong%3ESource%3A%20%3C/strong%3EHenderson%20P%26C%20%23138%3C/li%3E%20%20%20%20%20%20%20%20%20%20%20%20%20%3Cli%3E%3Cstrong%3EName%3A%20%3C/strong%3ERaffaello%20di%20Niccolo%20Ben%27intendi%3C/li%3E%20%20%20%20%20%20%20%20%20%3Cul%3E%20%20%20%20%20%3C/div%3E%60%29%5B0%5D%3B%0A%20%20%20%20%20%20%20%20%20%20%20%20popup_64911ed05adb4f5ebc48e3e32ae11133.setContent%28html_0129168fb10a421db0d8ac458d1e8d14%29%3B%0A%20%20%20%20%20%20%20%20%0A%0A%20%20%20%20%20%20%20%20marker_14c74254bbe84136830b8d108430dd72.bindPopup%28popup_64911ed05adb4f5ebc48e3e32ae11133%29%0A%20%20%20%20%20%20%20%20%3B%0A%0A%20%20%20%20%20%20%20%20%0A%20%20%20%20%0A%20%20%20%20%0A%20%20%20%20%20%20%20%20%20%20%20%20var%20marker_76c81056bbdf401388095f30ee19ee27%20%3D%20L.marker%28%0A%20%20%20%20%20%20%20%20%20%20%20%20%20%20%20%20%5B43.77542875%2C%2011.2513375%5D%2C%0A%20%20%20%20%20%20%20%20%20%20%20%20%20%20%20%20%7B%7D%0A%20%20%20%20%20%20%20%20%20%20%20%20%29.addTo%28map_cb5ddea0a149466984ccacda88dfafab%29%3B%0A%20%20%20%20%20%20%20%20%0A%20%20%20%20%0A%20%20%20%20%20%20%20%20var%20popup_16121c6eb8e04488863ed8feed4980bb%20%3D%20L.popup%28%7B%22maxWidth%22%3A%20%22100%25%22%7D%29%3B%0A%0A%20%20%20%20%20%20%20%20%0A%20%20%20%20%20%20%20%20%20%20%20%20var%20html_7d78ed151a0d48ca8ccfd0d2763bf39a%20%3D%20%24%28%60%3Cdiv%20id%3D%22html_7d78ed151a0d48ca8ccfd0d2763bf39a%22%20style%3D%22width%3A%20100.0%25%3B%20height%3A%20100.0%25%3B%22%3E%20%20%20%20%20%20%20%20%20%3Cul%3E%20%20%20%20%20%20%20%20%20%20%20%20%20%3Cli%3E%3Cstrong%3EID%3A%20%3C/strong%3E5817%3C/li%3E%20%20%20%20%20%20%20%20%20%20%20%20%20%3Cli%3E%3Cstrong%3ESource%3A%20%3C/strong%3EHenderson%20P%26C%20%23138%3C/li%3E%20%20%20%20%20%20%20%20%20%20%20%20%20%3Cli%3E%3Cstrong%3EName%3A%20%3C/strong%3EBernardo%20Gualberti%3C/li%3E%20%20%20%20%20%20%20%20%20%3Cul%3E%20%20%20%20%20%3C/div%3E%60%29%5B0%5D%3B%0A%20%20%20%20%20%20%20%20%20%20%20%20popup_16121c6eb8e04488863ed8feed4980bb.setContent%28html_7d78ed151a0d48ca8ccfd0d2763bf39a%29%3B%0A%20%20%20%20%20%20%20%20%0A%0A%20%20%20%20%20%20%20%20marker_76c81056bbdf401388095f30ee19ee27.bindPopup%28popup_16121c6eb8e04488863ed8feed4980bb%29%0A%20%20%20%20%20%20%20%20%3B%0A%0A%20%20%20%20%20%20%20%20%0A%20%20%20%20%0A%20%20%20%20%0A%20%20%20%20%20%20%20%20%20%20%20%20var%20marker_0fdc3b8f0af74d61a71256150a20c67e%20%3D%20L.marker%28%0A%20%20%20%20%20%20%20%20%20%20%20%20%20%20%20%20%5B43.77470667%2C%2011.25044667%5D%2C%0A%20%20%20%20%20%20%20%20%20%20%20%20%20%20%20%20%7B%7D%0A%20%20%20%20%20%20%20%20%20%20%20%20%29.addTo%28map_cb5ddea0a149466984ccacda88dfafab%29%3B%0A%20%20%20%20%20%20%20%20%0A%20%20%20%20%0A%20%20%20%20%20%20%20%20var%20popup_1bec62d148c44fbb9ccf36591bbc247a%20%3D%20L.popup%28%7B%22maxWidth%22%3A%20%22100%25%22%7D%29%3B%0A%0A%20%20%20%20%20%20%20%20%0A%20%20%20%20%20%20%20%20%20%20%20%20var%20html_c33af8dec76a4c9dbaaa2d23ce6d6c8b%20%3D%20%24%28%60%3Cdiv%20id%3D%22html_c33af8dec76a4c9dbaaa2d23ce6d6c8b%22%20style%3D%22width%3A%20100.0%25%3B%20height%3A%20100.0%25%3B%22%3E%20%20%20%20%20%20%20%20%20%3Cul%3E%20%20%20%20%20%20%20%20%20%20%20%20%20%3Cli%3E%3Cstrong%3EID%3A%20%3C/strong%3E5150%3C/li%3E%20%20%20%20%20%20%20%20%20%20%20%20%20%3Cli%3E%3Cstrong%3ESource%3A%20%3C/strong%3EHenderson%20P%26C%20%23138%3C/li%3E%20%20%20%20%20%20%20%20%20%20%20%20%20%3Cli%3E%3Cstrong%3EName%3A%20%3C/strong%3EVettorio%20di%20Carlo%2C%20detto%20il%20capitano%20Becchino%3C/li%3E%20%20%20%20%20%20%20%20%20%3Cul%3E%20%20%20%20%20%3C/div%3E%60%29%5B0%5D%3B%0A%20%20%20%20%20%20%20%20%20%20%20%20popup_1bec62d148c44fbb9ccf36591bbc247a.setContent%28html_c33af8dec76a4c9dbaaa2d23ce6d6c8b%29%3B%0A%20%20%20%20%20%20%20%20%0A%0A%20%20%20%20%20%20%20%20marker_0fdc3b8f0af74d61a71256150a20c67e.bindPopup%28popup_1bec62d148c44fbb9ccf36591bbc247a%29%0A%20%20%20%20%20%20%20%20%3B%0A%0A%20%20%20%20%20%20%20%20%0A%20%20%20%20%0A%20%20%20%20%0A%20%20%20%20%20%20%20%20%20%20%20%20var%20marker_25c952fa6c8047168711c2bfd2b3afd5%20%3D%20L.marker%28%0A%20%20%20%20%20%20%20%20%20%20%20%20%20%20%20%20%5B43.77730956%2C%2011.24912756%5D%2C%0A%20%20%20%20%20%20%20%20%20%20%20%20%20%20%20%20%7B%7D%0A%20%20%20%20%20%20%20%20%20%20%20%20%29.addTo%28map_cb5ddea0a149466984ccacda88dfafab%29%3B%0A%20%20%20%20%20%20%20%20%0A%20%20%20%20%0A%20%20%20%20%20%20%20%20var%20popup_174093c3774a45679903edc0ed069522%20%3D%20L.popup%28%7B%22maxWidth%22%3A%20%22100%25%22%7D%29%3B%0A%0A%20%20%20%20%20%20%20%20%0A%20%20%20%20%20%20%20%20%20%20%20%20var%20html_3620e90e627f4e798317f31f54a8a9fa%20%3D%20%24%28%60%3Cdiv%20id%3D%22html_3620e90e627f4e798317f31f54a8a9fa%22%20style%3D%22width%3A%20100.0%25%3B%20height%3A%20100.0%25%3B%22%3E%20%20%20%20%20%20%20%20%20%3Cul%3E%20%20%20%20%20%20%20%20%20%20%20%20%20%3Cli%3E%3Cstrong%3EID%3A%20%3C/strong%3E5287%3C/li%3E%20%20%20%20%20%20%20%20%20%20%20%20%20%3Cli%3E%3Cstrong%3ESource%3A%20%3C/strong%3EHenderson%20P%26C%20%23138%3C/li%3E%20%20%20%20%20%20%20%20%20%20%20%20%20%3Cli%3E%3Cstrong%3EName%3A%20%3C/strong%3EMona%20Maddalena%2C%20pinzocara%20di%20Paulo%20Corso%3C/li%3E%20%20%20%20%20%20%20%20%20%3Cul%3E%20%20%20%20%20%3C/div%3E%60%29%5B0%5D%3B%0A%20%20%20%20%20%20%20%20%20%20%20%20popup_174093c3774a45679903edc0ed069522.setContent%28html_3620e90e627f4e798317f31f54a8a9fa%29%3B%0A%20%20%20%20%20%20%20%20%0A%0A%20%20%20%20%20%20%20%20marker_25c952fa6c8047168711c2bfd2b3afd5.bindPopup%28popup_174093c3774a45679903edc0ed069522%29%0A%20%20%20%20%20%20%20%20%3B%0A%0A%20%20%20%20%20%20%20%20%0A%20%20%20%20%0A%20%20%20%20%0A%20%20%20%20%20%20%20%20%20%20%20%20var%20marker_5523282c851b4e3aa9f901cf102450a4%20%3D%20L.marker%28%0A%20%20%20%20%20%20%20%20%20%20%20%20%20%20%20%20%5B43.76874225%2C%2011.24285775%5D%2C%0A%20%20%20%20%20%20%20%20%20%20%20%20%20%20%20%20%7B%7D%0A%20%20%20%20%20%20%20%20%20%20%20%20%29.addTo%28map_cb5ddea0a149466984ccacda88dfafab%29%3B%0A%20%20%20%20%20%20%20%20%0A%20%20%20%20%0A%20%20%20%20%20%20%20%20var%20popup_1c9739d92bf34dafb995ceb3440b5579%20%3D%20L.popup%28%7B%22maxWidth%22%3A%20%22100%25%22%7D%29%3B%0A%0A%20%20%20%20%20%20%20%20%0A%20%20%20%20%20%20%20%20%20%20%20%20var%20html_4f9b8a24716b4c4d8f847e7bc7922d1e%20%3D%20%24%28%60%3Cdiv%20id%3D%22html_4f9b8a24716b4c4d8f847e7bc7922d1e%22%20style%3D%22width%3A%20100.0%25%3B%20height%3A%20100.0%25%3B%22%3E%20%20%20%20%20%20%20%20%20%3Cul%3E%20%20%20%20%20%20%20%20%20%20%20%20%20%3Cli%3E%3Cstrong%3EID%3A%20%3C/strong%3E8290%3C/li%3E%20%20%20%20%20%20%20%20%20%20%20%20%20%3Cli%3E%3Cstrong%3ESource%3A%20%3C/strong%3Enan%3C/li%3E%20%20%20%20%20%20%20%20%20%20%20%20%20%3Cli%3E%3Cstrong%3EName%3A%20%3C/strong%3ESimone%20di%20Lorenzo%20tintore%3C/li%3E%20%20%20%20%20%20%20%20%20%3Cul%3E%20%20%20%20%20%3C/div%3E%60%29%5B0%5D%3B%0A%20%20%20%20%20%20%20%20%20%20%20%20popup_1c9739d92bf34dafb995ceb3440b5579.setContent%28html_4f9b8a24716b4c4d8f847e7bc7922d1e%29%3B%0A%20%20%20%20%20%20%20%20%0A%0A%20%20%20%20%20%20%20%20marker_5523282c851b4e3aa9f901cf102450a4.bindPopup%28popup_1c9739d92bf34dafb995ceb3440b5579%29%0A%20%20%20%20%20%20%20%20%3B%0A%0A%20%20%20%20%20%20%20%20%0A%20%20%20%20%0A%20%20%20%20%0A%20%20%20%20%20%20%20%20%20%20%20%20var%20marker_408ffc234504481882e3301e259897a3%20%3D%20L.marker%28%0A%20%20%20%20%20%20%20%20%20%20%20%20%20%20%20%20%5B43.7699925%2C%2011.26581375%5D%2C%0A%20%20%20%20%20%20%20%20%20%20%20%20%20%20%20%20%7B%7D%0A%20%20%20%20%20%20%20%20%20%20%20%20%29.addTo%28map_cb5ddea0a149466984ccacda88dfafab%29%3B%0A%20%20%20%20%20%20%20%20%0A%20%20%20%20%0A%20%20%20%20%20%20%20%20var%20popup_6f2fc58caab34d25a8bacabb7f8cd775%20%3D%20L.popup%28%7B%22maxWidth%22%3A%20%22100%25%22%7D%29%3B%0A%0A%20%20%20%20%20%20%20%20%0A%20%20%20%20%20%20%20%20%20%20%20%20var%20html_baaa033c717f47ecaad4960a5d00f7c4%20%3D%20%24%28%60%3Cdiv%20id%3D%22html_baaa033c717f47ecaad4960a5d00f7c4%22%20style%3D%22width%3A%20100.0%25%3B%20height%3A%20100.0%25%3B%22%3E%20%20%20%20%20%20%20%20%20%3Cul%3E%20%20%20%20%20%20%20%20%20%20%20%20%20%3Cli%3E%3Cstrong%3EID%3A%20%3C/strong%3E3314%3C/li%3E%20%20%20%20%20%20%20%20%20%20%20%20%20%3Cli%3E%3Cstrong%3ESource%3A%20%3C/strong%3Enan%3C/li%3E%20%20%20%20%20%20%20%20%20%20%20%20%20%3Cli%3E%3Cstrong%3EName%3A%20%3C/strong%3Enan%3C/li%3E%20%20%20%20%20%20%20%20%20%3Cul%3E%20%20%20%20%20%3C/div%3E%60%29%5B0%5D%3B%0A%20%20%20%20%20%20%20%20%20%20%20%20popup_6f2fc58caab34d25a8bacabb7f8cd775.setContent%28html_baaa033c717f47ecaad4960a5d00f7c4%29%3B%0A%20%20%20%20%20%20%20%20%0A%0A%20%20%20%20%20%20%20%20marker_408ffc234504481882e3301e259897a3.bindPopup%28popup_6f2fc58caab34d25a8bacabb7f8cd775%29%0A%20%20%20%20%20%20%20%20%3B%0A%0A%20%20%20%20%20%20%20%20%0A%20%20%20%20%0A%20%20%20%20%0A%20%20%20%20%20%20%20%20%20%20%20%20var%20marker_757a61a4dab0487c9561e56f2a1a1b39%20%3D%20L.marker%28%0A%20%20%20%20%20%20%20%20%20%20%20%20%20%20%20%20%5B43.77437253%2C%2011.25571973%5D%2C%0A%20%20%20%20%20%20%20%20%20%20%20%20%20%20%20%20%7B%7D%0A%20%20%20%20%20%20%20%20%20%20%20%20%29.addTo%28map_cb5ddea0a149466984ccacda88dfafab%29%3B%0A%20%20%20%20%20%20%20%20%0A%20%20%20%20%0A%20%20%20%20%20%20%20%20var%20popup_64706a4b63084afa973678ada5d400a9%20%3D%20L.popup%28%7B%22maxWidth%22%3A%20%22100%25%22%7D%29%3B%0A%0A%20%20%20%20%20%20%20%20%0A%20%20%20%20%20%20%20%20%20%20%20%20var%20html_3703f68fc8434b13b840fcf06b14ffff%20%3D%20%24%28%60%3Cdiv%20id%3D%22html_3703f68fc8434b13b840fcf06b14ffff%22%20style%3D%22width%3A%20100.0%25%3B%20height%3A%20100.0%25%3B%22%3E%20%20%20%20%20%20%20%20%20%3Cul%3E%20%20%20%20%20%20%20%20%20%20%20%20%20%3Cli%3E%3Cstrong%3EID%3A%20%3C/strong%3E1379%3C/li%3E%20%20%20%20%20%20%20%20%20%20%20%20%20%3Cli%3E%3Cstrong%3ESource%3A%20%3C/strong%3EHenderson%20P%26C%20%23162%3C/li%3E%20%20%20%20%20%20%20%20%20%20%20%20%20%3Cli%3E%3Cstrong%3EName%3A%20%3C/strong%3EMona%20Lisabetta%2C%20donna%20fu%20di%20Amadore%20di%20Guelfo%3C/li%3E%20%20%20%20%20%20%20%20%20%3Cul%3E%20%20%20%20%20%3C/div%3E%60%29%5B0%5D%3B%0A%20%20%20%20%20%20%20%20%20%20%20%20popup_64706a4b63084afa973678ada5d400a9.setContent%28html_3703f68fc8434b13b840fcf06b14ffff%29%3B%0A%20%20%20%20%20%20%20%20%0A%0A%20%20%20%20%20%20%20%20marker_757a61a4dab0487c9561e56f2a1a1b39.bindPopup%28popup_64706a4b63084afa973678ada5d400a9%29%0A%20%20%20%20%20%20%20%20%3B%0A%0A%20%20%20%20%20%20%20%20%0A%20%20%20%20%0A%20%20%20%20%0A%20%20%20%20%20%20%20%20%20%20%20%20var%20marker_d02058445caf4302bd773d48916b3a6a%20%3D%20L.marker%28%0A%20%20%20%20%20%20%20%20%20%20%20%20%20%20%20%20%5B43.772334%2C%2011.254363%5D%2C%0A%20%20%20%20%20%20%20%20%20%20%20%20%20%20%20%20%7B%7D%0A%20%20%20%20%20%20%20%20%20%20%20%20%29.addTo%28map_cb5ddea0a149466984ccacda88dfafab%29%3B%0A%20%20%20%20%20%20%20%20%0A%20%20%20%20%0A%20%20%20%20%20%20%20%20var%20popup_2f5257e4b70b40f38971b50cf5de1174%20%3D%20L.popup%28%7B%22maxWidth%22%3A%20%22100%25%22%7D%29%3B%0A%0A%20%20%20%20%20%20%20%20%0A%20%20%20%20%20%20%20%20%20%20%20%20var%20html_dd9dbef923f240929038af6d07c8d12b%20%3D%20%24%28%60%3Cdiv%20id%3D%22html_dd9dbef923f240929038af6d07c8d12b%22%20style%3D%22width%3A%20100.0%25%3B%20height%3A%20100.0%25%3B%22%3E%20%20%20%20%20%20%20%20%20%3Cul%3E%20%20%20%20%20%20%20%20%20%20%20%20%20%3Cli%3E%3Cstrong%3EID%3A%20%3C/strong%3E1123%3C/li%3E%20%20%20%20%20%20%20%20%20%20%20%20%20%3Cli%3E%3Cstrong%3ESource%3A%20%3C/strong%3Enan%3C/li%3E%20%20%20%20%20%20%20%20%20%20%20%20%20%3Cli%3E%3Cstrong%3EName%3A%20%3C/strong%3Enan%3C/li%3E%20%20%20%20%20%20%20%20%20%3Cul%3E%20%20%20%20%20%3C/div%3E%60%29%5B0%5D%3B%0A%20%20%20%20%20%20%20%20%20%20%20%20popup_2f5257e4b70b40f38971b50cf5de1174.setContent%28html_dd9dbef923f240929038af6d07c8d12b%29%3B%0A%20%20%20%20%20%20%20%20%0A%0A%20%20%20%20%20%20%20%20marker_d02058445caf4302bd773d48916b3a6a.bindPopup%28popup_2f5257e4b70b40f38971b50cf5de1174%29%0A%20%20%20%20%20%20%20%20%3B%0A%0A%20%20%20%20%20%20%20%20%0A%20%20%20%20%0A%20%20%20%20%0A%20%20%20%20%20%20%20%20%20%20%20%20var%20marker_119d439e280342278926ea887ba2024f%20%3D%20L.marker%28%0A%20%20%20%20%20%20%20%20%20%20%20%20%20%20%20%20%5B43.76938971%2C%2011.24530752%5D%2C%0A%20%20%20%20%20%20%20%20%20%20%20%20%20%20%20%20%7B%7D%0A%20%20%20%20%20%20%20%20%20%20%20%20%29.addTo%28map_cb5ddea0a149466984ccacda88dfafab%29%3B%0A%20%20%20%20%20%20%20%20%0A%20%20%20%20%0A%20%20%20%20%20%20%20%20var%20popup_465ec0239f184be291d25ada3d3558c4%20%3D%20L.popup%28%7B%22maxWidth%22%3A%20%22100%25%22%7D%29%3B%0A%0A%20%20%20%20%20%20%20%20%0A%20%20%20%20%20%20%20%20%20%20%20%20var%20html_5e910d038f5c4c80ad0b67a4f7a6c99b%20%3D%20%24%28%60%3Cdiv%20id%3D%22html_5e910d038f5c4c80ad0b67a4f7a6c99b%22%20style%3D%22width%3A%20100.0%25%3B%20height%3A%20100.0%25%3B%22%3E%20%20%20%20%20%20%20%20%20%3Cul%3E%20%20%20%20%20%20%20%20%20%20%20%20%20%3Cli%3E%3Cstrong%3EID%3A%20%3C/strong%3E8155%3C/li%3E%20%20%20%20%20%20%20%20%20%20%20%20%20%3Cli%3E%3Cstrong%3ESource%3A%20%3C/strong%3EHenderson%20P%26C%20%232%3C/li%3E%20%20%20%20%20%20%20%20%20%20%20%20%20%3Cli%3E%3Cstrong%3EName%3A%20%3C/strong%3EBartolomeo%20di%20Biagio%20muratore%3C/li%3E%20%20%20%20%20%20%20%20%20%3Cul%3E%20%20%20%20%20%3C/div%3E%60%29%5B0%5D%3B%0A%20%20%20%20%20%20%20%20%20%20%20%20popup_465ec0239f184be291d25ada3d3558c4.setContent%28html_5e910d038f5c4c80ad0b67a4f7a6c99b%29%3B%0A%20%20%20%20%20%20%20%20%0A%0A%20%20%20%20%20%20%20%20marker_119d439e280342278926ea887ba2024f.bindPopup%28popup_465ec0239f184be291d25ada3d3558c4%29%0A%20%20%20%20%20%20%20%20%3B%0A%0A%20%20%20%20%20%20%20%20%0A%20%20%20%20%0A%20%20%20%20%0A%20%20%20%20%20%20%20%20%20%20%20%20var%20marker_3994876d752e4977a43e2b76f7a3c1c4%20%3D%20L.marker%28%0A%20%20%20%20%20%20%20%20%20%20%20%20%20%20%20%20%5B43.7712402%2C%2011.26521564%5D%2C%0A%20%20%20%20%20%20%20%20%20%20%20%20%20%20%20%20%7B%7D%0A%20%20%20%20%20%20%20%20%20%20%20%20%29.addTo%28map_cb5ddea0a149466984ccacda88dfafab%29%3B%0A%20%20%20%20%20%20%20%20%0A%20%20%20%20%0A%20%20%20%20%20%20%20%20var%20popup_a997a381153b462dab74af6df80370ae%20%3D%20L.popup%28%7B%22maxWidth%22%3A%20%22100%25%22%7D%29%3B%0A%0A%20%20%20%20%20%20%20%20%0A%20%20%20%20%20%20%20%20%20%20%20%20var%20html_911158e06ff64f8c9476f318a3e2655b%20%3D%20%24%28%60%3Cdiv%20id%3D%22html_911158e06ff64f8c9476f318a3e2655b%22%20style%3D%22width%3A%20100.0%25%3B%20height%3A%20100.0%25%3B%22%3E%20%20%20%20%20%20%20%20%20%3Cul%3E%20%20%20%20%20%20%20%20%20%20%20%20%20%3Cli%3E%3Cstrong%3EID%3A%20%3C/strong%3E2085%3C/li%3E%20%20%20%20%20%20%20%20%20%20%20%20%20%3Cli%3E%3Cstrong%3ESource%3A%20%3C/strong%3EHenderson%20P%26C%20%23124%3C/li%3E%20%20%20%20%20%20%20%20%20%20%20%20%20%3Cli%3E%3Cstrong%3EName%3A%20%3C/strong%3EMona%20Gineuva%2C%20donna%20fu%20di%20Lorenzo%20di%20Deno%2C%20legnaiuolo%3C/li%3E%20%20%20%20%20%20%20%20%20%3Cul%3E%20%20%20%20%20%3C/div%3E%60%29%5B0%5D%3B%0A%20%20%20%20%20%20%20%20%20%20%20%20popup_a997a381153b462dab74af6df80370ae.setContent%28html_911158e06ff64f8c9476f318a3e2655b%29%3B%0A%20%20%20%20%20%20%20%20%0A%0A%20%20%20%20%20%20%20%20marker_3994876d752e4977a43e2b76f7a3c1c4.bindPopup%28popup_a997a381153b462dab74af6df80370ae%29%0A%20%20%20%20%20%20%20%20%3B%0A%0A%20%20%20%20%20%20%20%20%0A%20%20%20%20%0A%20%20%20%20%0A%20%20%20%20%20%20%20%20%20%20%20%20var%20marker_8b86203d8a294e239fd04e84050cea6f%20%3D%20L.marker%28%0A%20%20%20%20%20%20%20%20%20%20%20%20%20%20%20%20%5B43.776473%2C%2011.25275408%5D%2C%0A%20%20%20%20%20%20%20%20%20%20%20%20%20%20%20%20%7B%7D%0A%20%20%20%20%20%20%20%20%20%20%20%20%29.addTo%28map_cb5ddea0a149466984ccacda88dfafab%29%3B%0A%20%20%20%20%20%20%20%20%0A%20%20%20%20%0A%20%20%20%20%20%20%20%20var%20popup_4c98b93d933f435ea5c2efdebc58c346%20%3D%20L.popup%28%7B%22maxWidth%22%3A%20%22100%25%22%7D%29%3B%0A%0A%20%20%20%20%20%20%20%20%0A%20%20%20%20%20%20%20%20%20%20%20%20var%20html_012aff16b78d467e808e77c8104a1d2f%20%3D%20%24%28%60%3Cdiv%20id%3D%22html_012aff16b78d467e808e77c8104a1d2f%22%20style%3D%22width%3A%20100.0%25%3B%20height%3A%20100.0%25%3B%22%3E%20%20%20%20%20%20%20%20%20%3Cul%3E%20%20%20%20%20%20%20%20%20%20%20%20%20%3Cli%3E%3Cstrong%3EID%3A%20%3C/strong%3E493%3C/li%3E%20%20%20%20%20%20%20%20%20%20%20%20%20%3Cli%3E%3Cstrong%3ESource%3A%20%3C/strong%3EHenderson%20P%26C%20%23124%3C/li%3E%20%20%20%20%20%20%20%20%20%20%20%20%20%3Cli%3E%3Cstrong%3EName%3A%20%3C/strong%3EBatista%20di%20Niccolaio%20da%20Montopoli%2C%20tessitore%3C/li%3E%20%20%20%20%20%20%20%20%20%3Cul%3E%20%20%20%20%20%3C/div%3E%60%29%5B0%5D%3B%0A%20%20%20%20%20%20%20%20%20%20%20%20popup_4c98b93d933f435ea5c2efdebc58c346.setContent%28html_012aff16b78d467e808e77c8104a1d2f%29%3B%0A%20%20%20%20%20%20%20%20%0A%0A%20%20%20%20%20%20%20%20marker_8b86203d8a294e239fd04e84050cea6f.bindPopup%28popup_4c98b93d933f435ea5c2efdebc58c346%29%0A%20%20%20%20%20%20%20%20%3B%0A%0A%20%20%20%20%20%20%20%20%0A%20%20%20%20%0A%20%20%20%20%0A%20%20%20%20%20%20%20%20%20%20%20%20var%20marker_a44def73a4ed4fb083a8f5c78f833d16%20%3D%20L.marker%28%0A%20%20%20%20%20%20%20%20%20%20%20%20%20%20%20%20%5B43.76977667%2C%2011.26017667%5D%2C%0A%20%20%20%20%20%20%20%20%20%20%20%20%20%20%20%20%7B%7D%0A%20%20%20%20%20%20%20%20%20%20%20%20%29.addTo%28map_cb5ddea0a149466984ccacda88dfafab%29%3B%0A%20%20%20%20%20%20%20%20%0A%20%20%20%20%0A%20%20%20%20%20%20%20%20var%20popup_4a5da382d6a243a1a47a43f58fa8eb36%20%3D%20L.popup%28%7B%22maxWidth%22%3A%20%22100%25%22%7D%29%3B%0A%0A%20%20%20%20%20%20%20%20%0A%20%20%20%20%20%20%20%20%20%20%20%20var%20html_eabbc0cf69b94c5fb662a18d405d8f25%20%3D%20%24%28%60%3Cdiv%20id%3D%22html_eabbc0cf69b94c5fb662a18d405d8f25%22%20style%3D%22width%3A%20100.0%25%3B%20height%3A%20100.0%25%3B%22%3E%20%20%20%20%20%20%20%20%20%3Cul%3E%20%20%20%20%20%20%20%20%20%20%20%20%20%3Cli%3E%3Cstrong%3EID%3A%20%3C/strong%3E4186%3C/li%3E%20%20%20%20%20%20%20%20%20%20%20%20%20%3Cli%3E%3Cstrong%3ESource%3A%20%3C/strong%3EHenderson%20P%26C%20%23124%3C/li%3E%20%20%20%20%20%20%20%20%20%20%20%20%20%3Cli%3E%3Cstrong%3EName%3A%20%3C/strong%3EMona%20Piera%20di%20Girolamo%20Orlandi%3C/li%3E%20%20%20%20%20%20%20%20%20%3Cul%3E%20%20%20%20%20%3C/div%3E%60%29%5B0%5D%3B%0A%20%20%20%20%20%20%20%20%20%20%20%20popup_4a5da382d6a243a1a47a43f58fa8eb36.setContent%28html_eabbc0cf69b94c5fb662a18d405d8f25%29%3B%0A%20%20%20%20%20%20%20%20%0A%0A%20%20%20%20%20%20%20%20marker_a44def73a4ed4fb083a8f5c78f833d16.bindPopup%28popup_4a5da382d6a243a1a47a43f58fa8eb36%29%0A%20%20%20%20%20%20%20%20%3B%0A%0A%20%20%20%20%20%20%20%20%0A%20%20%20%20%0A%20%20%20%20%0A%20%20%20%20%20%20%20%20%20%20%20%20var%20marker_afe7a28809d745aa9a6978fb60775061%20%3D%20L.marker%28%0A%20%20%20%20%20%20%20%20%20%20%20%20%20%20%20%20%5B43.7701726%2C%2011.24204413%5D%2C%0A%20%20%20%20%20%20%20%20%20%20%20%20%20%20%20%20%7B%7D%0A%20%20%20%20%20%20%20%20%20%20%20%20%29.addTo%28map_cb5ddea0a149466984ccacda88dfafab%29%3B%0A%20%20%20%20%20%20%20%20%0A%20%20%20%20%0A%20%20%20%20%20%20%20%20var%20popup_37c9951f4c1843dfa551d5556d9deace%20%3D%20L.popup%28%7B%22maxWidth%22%3A%20%22100%25%22%7D%29%3B%0A%0A%20%20%20%20%20%20%20%20%0A%20%20%20%20%20%20%20%20%20%20%20%20var%20html_d249e802651a486386993f417a75a87c%20%3D%20%24%28%60%3Cdiv%20id%3D%22html_d249e802651a486386993f417a75a87c%22%20style%3D%22width%3A%20100.0%25%3B%20height%3A%20100.0%25%3B%22%3E%20%20%20%20%20%20%20%20%20%3Cul%3E%20%20%20%20%20%20%20%20%20%20%20%20%20%3Cli%3E%3Cstrong%3EID%3A%20%3C/strong%3E8122%3C/li%3E%20%20%20%20%20%20%20%20%20%20%20%20%20%3Cli%3E%3Cstrong%3ESource%3A%20%3C/strong%3Enan%3C/li%3E%20%20%20%20%20%20%20%20%20%20%20%20%20%3Cli%3E%3Cstrong%3EName%3A%20%3C/strong%3EMona%20Catarina%20la%20sua%20meta%3C/li%3E%20%20%20%20%20%20%20%20%20%3Cul%3E%20%20%20%20%20%3C/div%3E%60%29%5B0%5D%3B%0A%20%20%20%20%20%20%20%20%20%20%20%20popup_37c9951f4c1843dfa551d5556d9deace.setContent%28html_d249e802651a486386993f417a75a87c%29%3B%0A%20%20%20%20%20%20%20%20%0A%0A%20%20%20%20%20%20%20%20marker_afe7a28809d745aa9a6978fb60775061.bindPopup%28popup_37c9951f4c1843dfa551d5556d9deace%29%0A%20%20%20%20%20%20%20%20%3B%0A%0A%20%20%20%20%20%20%20%20%0A%20%20%20%20%0A%20%20%20%20%0A%20%20%20%20%20%20%20%20%20%20%20%20var%20marker_63af0214f3f649329eb8f196e9181693%20%3D%20L.marker%28%0A%20%20%20%20%20%20%20%20%20%20%20%20%20%20%20%20%5B43.77084%2C%2011.254306%5D%2C%0A%20%20%20%20%20%20%20%20%20%20%20%20%20%20%20%20%7B%7D%0A%20%20%20%20%20%20%20%20%20%20%20%20%29.addTo%28map_cb5ddea0a149466984ccacda88dfafab%29%3B%0A%20%20%20%20%20%20%20%20%0A%20%20%20%20%0A%20%20%20%20%20%20%20%20var%20popup_fc2b835d6cf940ac817ff24424cefa6a%20%3D%20L.popup%28%7B%22maxWidth%22%3A%20%22100%25%22%7D%29%3B%0A%0A%20%20%20%20%20%20%20%20%0A%20%20%20%20%20%20%20%20%20%20%20%20var%20html_0e51a1c47dd945298d2bb8d6641650bd%20%3D%20%24%28%60%3Cdiv%20id%3D%22html_0e51a1c47dd945298d2bb8d6641650bd%22%20style%3D%22width%3A%20100.0%25%3B%20height%3A%20100.0%25%3B%22%3E%20%20%20%20%20%20%20%20%20%3Cul%3E%20%20%20%20%20%20%20%20%20%20%20%20%20%3Cli%3E%3Cstrong%3EID%3A%20%3C/strong%3E6721%3C/li%3E%20%20%20%20%20%20%20%20%20%20%20%20%20%3Cli%3E%3Cstrong%3ESource%3A%20%3C/strong%3EHenderson%20P%26C%20%2392%3C/li%3E%20%20%20%20%20%20%20%20%20%20%20%20%20%3Cli%3E%3Cstrong%3EName%3A%20%3C/strong%3ESancti%20di%20Luca%20di%20Mazzeranga%3C/li%3E%20%20%20%20%20%20%20%20%20%3Cul%3E%20%20%20%20%20%3C/div%3E%60%29%5B0%5D%3B%0A%20%20%20%20%20%20%20%20%20%20%20%20popup_fc2b835d6cf940ac817ff24424cefa6a.setContent%28html_0e51a1c47dd945298d2bb8d6641650bd%29%3B%0A%20%20%20%20%20%20%20%20%0A%0A%20%20%20%20%20%20%20%20marker_63af0214f3f649329eb8f196e9181693.bindPopup%28popup_fc2b835d6cf940ac817ff24424cefa6a%29%0A%20%20%20%20%20%20%20%20%3B%0A%0A%20%20%20%20%20%20%20%20%0A%20%20%20%20%0A%20%20%20%20%0A%20%20%20%20%20%20%20%20%20%20%20%20var%20marker_a01e2d7840064d0d8ab1f47c8b6d7f5f%20%3D%20L.marker%28%0A%20%20%20%20%20%20%20%20%20%20%20%20%20%20%20%20%5B43.7757045%2C%2011.25230736%5D%2C%0A%20%20%20%20%20%20%20%20%20%20%20%20%20%20%20%20%7B%7D%0A%20%20%20%20%20%20%20%20%20%20%20%20%29.addTo%28map_cb5ddea0a149466984ccacda88dfafab%29%3B%0A%20%20%20%20%20%20%20%20%0A%20%20%20%20%0A%20%20%20%20%20%20%20%20var%20popup_595270565e0b4c38b8524b11581fec1d%20%3D%20L.popup%28%7B%22maxWidth%22%3A%20%22100%25%22%7D%29%3B%0A%0A%20%20%20%20%20%20%20%20%0A%20%20%20%20%20%20%20%20%20%20%20%20var%20html_d00cf2675ceb472d81ddba7b52488431%20%3D%20%24%28%60%3Cdiv%20id%3D%22html_d00cf2675ceb472d81ddba7b52488431%22%20style%3D%22width%3A%20100.0%25%3B%20height%3A%20100.0%25%3B%22%3E%20%20%20%20%20%20%20%20%20%3Cul%3E%20%20%20%20%20%20%20%20%20%20%20%20%20%3Cli%3E%3Cstrong%3EID%3A%20%3C/strong%3E452%3C/li%3E%20%20%20%20%20%20%20%20%20%20%20%20%20%3Cli%3E%3Cstrong%3ESource%3A%20%3C/strong%3EHenderson%20P%26C%20%2392%3C/li%3E%20%20%20%20%20%20%20%20%20%20%20%20%20%3Cli%3E%3Cstrong%3EName%3A%20%3C/strong%3EMona%20Magdalena%2C%20vedova%2C%20donna%20gia%20di%20Domenico%20di%20Piero%2C%20pizzicagnolo%3C/li%3E%20%20%20%20%20%20%20%20%20%3Cul%3E%20%20%20%20%20%3C/div%3E%60%29%5B0%5D%3B%0A%20%20%20%20%20%20%20%20%20%20%20%20popup_595270565e0b4c38b8524b11581fec1d.setContent%28html_d00cf2675ceb472d81ddba7b52488431%29%3B%0A%20%20%20%20%20%20%20%20%0A%0A%20%20%20%20%20%20%20%20marker_a01e2d7840064d0d8ab1f47c8b6d7f5f.bindPopup%28popup_595270565e0b4c38b8524b11581fec1d%29%0A%20%20%20%20%20%20%20%20%3B%0A%0A%20%20%20%20%20%20%20%20%0A%20%20%20%20%0A%20%20%20%20%0A%20%20%20%20%20%20%20%20%20%20%20%20var%20marker_a1db77f5129b43c1b5bf2672bc222a3c%20%3D%20L.marker%28%0A%20%20%20%20%20%20%20%20%20%20%20%20%20%20%20%20%5B43.78056204%2C%2011.2577987%5D%2C%0A%20%20%20%20%20%20%20%20%20%20%20%20%20%20%20%20%7B%7D%0A%20%20%20%20%20%20%20%20%20%20%20%20%29.addTo%28map_cb5ddea0a149466984ccacda88dfafab%29%3B%0A%20%20%20%20%20%20%20%20%0A%20%20%20%20%0A%20%20%20%20%20%20%20%20var%20popup_86585e6694b840d594a4d542ea3a8c48%20%3D%20L.popup%28%7B%22maxWidth%22%3A%20%22100%25%22%7D%29%3B%0A%0A%20%20%20%20%20%20%20%20%0A%20%20%20%20%20%20%20%20%20%20%20%20var%20html_9a8455783d924942b319998086a3241b%20%3D%20%24%28%60%3Cdiv%20id%3D%22html_9a8455783d924942b319998086a3241b%22%20style%3D%22width%3A%20100.0%25%3B%20height%3A%20100.0%25%3B%22%3E%20%20%20%20%20%20%20%20%20%3Cul%3E%20%20%20%20%20%20%20%20%20%20%20%20%20%3Cli%3E%3Cstrong%3EID%3A%20%3C/strong%3E623%3C/li%3E%20%20%20%20%20%20%20%20%20%20%20%20%20%3Cli%3E%3Cstrong%3ESource%3A%20%3C/strong%3EHenderson%20P%26C%20%2392%3C/li%3E%20%20%20%20%20%20%20%20%20%20%20%20%20%3Cli%3E%3Cstrong%3EName%3A%20%3C/strong%3EGiovanbatista%20d%27%20Andrea%20Laurentini%3C/li%3E%20%20%20%20%20%20%20%20%20%3Cul%3E%20%20%20%20%20%3C/div%3E%60%29%5B0%5D%3B%0A%20%20%20%20%20%20%20%20%20%20%20%20popup_86585e6694b840d594a4d542ea3a8c48.setContent%28html_9a8455783d924942b319998086a3241b%29%3B%0A%20%20%20%20%20%20%20%20%0A%0A%20%20%20%20%20%20%20%20marker_a1db77f5129b43c1b5bf2672bc222a3c.bindPopup%28popup_86585e6694b840d594a4d542ea3a8c48%29%0A%20%20%20%20%20%20%20%20%3B%0A%0A%20%20%20%20%20%20%20%20%0A%20%20%20%20%0A%20%20%20%20%0A%20%20%20%20%20%20%20%20%20%20%20%20var%20marker_315f67635ffa4c4f9dcc39ef6d5d459e%20%3D%20L.marker%28%0A%20%20%20%20%20%20%20%20%20%20%20%20%20%20%20%20%5B43.78061222%2C%2011.25774922%5D%2C%0A%20%20%20%20%20%20%20%20%20%20%20%20%20%20%20%20%7B%7D%0A%20%20%20%20%20%20%20%20%20%20%20%20%29.addTo%28map_cb5ddea0a149466984ccacda88dfafab%29%3B%0A%20%20%20%20%20%20%20%20%0A%20%20%20%20%0A%20%20%20%20%20%20%20%20var%20popup_da6dac8cc6b7408989e6581d74f45079%20%3D%20L.popup%28%7B%22maxWidth%22%3A%20%22100%25%22%7D%29%3B%0A%0A%20%20%20%20%20%20%20%20%0A%20%20%20%20%20%20%20%20%20%20%20%20var%20html_a284c7be936b45e38b2142738fea0931%20%3D%20%24%28%60%3Cdiv%20id%3D%22html_a284c7be936b45e38b2142738fea0931%22%20style%3D%22width%3A%20100.0%25%3B%20height%3A%20100.0%25%3B%22%3E%20%20%20%20%20%20%20%20%20%3Cul%3E%20%20%20%20%20%20%20%20%20%20%20%20%20%3Cli%3E%3Cstrong%3EID%3A%20%3C/strong%3E624%3C/li%3E%20%20%20%20%20%20%20%20%20%20%20%20%20%3Cli%3E%3Cstrong%3ESource%3A%20%3C/strong%3EHenderson%20P%26C%20%2392%3C/li%3E%20%20%20%20%20%20%20%20%20%20%20%20%20%3Cli%3E%3Cstrong%3EName%3A%20%3C/strong%3Eser%20Domenico%20Sannini%2C%20prete%3C/li%3E%20%20%20%20%20%20%20%20%20%3Cul%3E%20%20%20%20%20%3C/div%3E%60%29%5B0%5D%3B%0A%20%20%20%20%20%20%20%20%20%20%20%20popup_da6dac8cc6b7408989e6581d74f45079.setContent%28html_a284c7be936b45e38b2142738fea0931%29%3B%0A%20%20%20%20%20%20%20%20%0A%0A%20%20%20%20%20%20%20%20marker_315f67635ffa4c4f9dcc39ef6d5d459e.bindPopup%28popup_da6dac8cc6b7408989e6581d74f45079%29%0A%20%20%20%20%20%20%20%20%3B%0A%0A%20%20%20%20%20%20%20%20%0A%20%20%20%20%0A%20%20%20%20%0A%20%20%20%20%20%20%20%20%20%20%20%20var%20marker_c6b9d6846e2b414e93f5a711175c2df5%20%3D%20L.marker%28%0A%20%20%20%20%20%20%20%20%20%20%20%20%20%20%20%20%5B43.78066241%2C%2011.25769974%5D%2C%0A%20%20%20%20%20%20%20%20%20%20%20%20%20%20%20%20%7B%7D%0A%20%20%20%20%20%20%20%20%20%20%20%20%29.addTo%28map_cb5ddea0a149466984ccacda88dfafab%29%3B%0A%20%20%20%20%20%20%20%20%0A%20%20%20%20%0A%20%20%20%20%20%20%20%20var%20popup_ade594c057f54b428ef56f811ecf321f%20%3D%20L.popup%28%7B%22maxWidth%22%3A%20%22100%25%22%7D%29%3B%0A%0A%20%20%20%20%20%20%20%20%0A%20%20%20%20%20%20%20%20%20%20%20%20var%20html_500f721ee0fb4164b01ef3d4fc8e2cf9%20%3D%20%24%28%60%3Cdiv%20id%3D%22html_500f721ee0fb4164b01ef3d4fc8e2cf9%22%20style%3D%22width%3A%20100.0%25%3B%20height%3A%20100.0%25%3B%22%3E%20%20%20%20%20%20%20%20%20%3Cul%3E%20%20%20%20%20%20%20%20%20%20%20%20%20%3Cli%3E%3Cstrong%3EID%3A%20%3C/strong%3E625%3C/li%3E%20%20%20%20%20%20%20%20%20%20%20%20%20%3Cli%3E%3Cstrong%3ESource%3A%20%3C/strong%3EHenderson%20P%26C%20%2392%3C/li%3E%20%20%20%20%20%20%20%20%20%20%20%20%20%3Cli%3E%3Cstrong%3EName%3A%20%3C/strong%3EGiuliano%20da%20le%20Pozze%3C/li%3E%20%20%20%20%20%20%20%20%20%3Cul%3E%20%20%20%20%20%3C/div%3E%60%29%5B0%5D%3B%0A%20%20%20%20%20%20%20%20%20%20%20%20popup_ade594c057f54b428ef56f811ecf321f.setContent%28html_500f721ee0fb4164b01ef3d4fc8e2cf9%29%3B%0A%20%20%20%20%20%20%20%20%0A%0A%20%20%20%20%20%20%20%20marker_c6b9d6846e2b414e93f5a711175c2df5.bindPopup%28popup_ade594c057f54b428ef56f811ecf321f%29%0A%20%20%20%20%20%20%20%20%3B%0A%0A%20%20%20%20%20%20%20%20%0A%20%20%20%20%0A%20%20%20%20%0A%20%20%20%20%20%20%20%20%20%20%20%20var%20marker_374fd1c5169a4d8d81098f690f15ff1f%20%3D%20L.marker%28%0A%20%20%20%20%20%20%20%20%20%20%20%20%20%20%20%20%5B43.78051185%2C%2011.25784819%5D%2C%0A%20%20%20%20%20%20%20%20%20%20%20%20%20%20%20%20%7B%7D%0A%20%20%20%20%20%20%20%20%20%20%20%20%29.addTo%28map_cb5ddea0a149466984ccacda88dfafab%29%3B%0A%20%20%20%20%20%20%20%20%0A%20%20%20%20%0A%20%20%20%20%20%20%20%20var%20popup_12e875b8a0fe4332a4ef18754d7a4145%20%3D%20L.popup%28%7B%22maxWidth%22%3A%20%22100%25%22%7D%29%3B%0A%0A%20%20%20%20%20%20%20%20%0A%20%20%20%20%20%20%20%20%20%20%20%20var%20html_d18ed0bb33c14b5d87c97dd89d35af94%20%3D%20%24%28%60%3Cdiv%20id%3D%22html_d18ed0bb33c14b5d87c97dd89d35af94%22%20style%3D%22width%3A%20100.0%25%3B%20height%3A%20100.0%25%3B%22%3E%20%20%20%20%20%20%20%20%20%3Cul%3E%20%20%20%20%20%20%20%20%20%20%20%20%20%3Cli%3E%3Cstrong%3EID%3A%20%3C/strong%3E767%3C/li%3E%20%20%20%20%20%20%20%20%20%20%20%20%20%3Cli%3E%3Cstrong%3ESource%3A%20%3C/strong%3EHenderson%20P%26C%20%2392%3C/li%3E%20%20%20%20%20%20%20%20%20%20%20%20%20%3Cli%3E%3Cstrong%3EName%3A%20%3C/strong%3EAlessandro%20di%20Raffaello%2C%20calderaio%3C/li%3E%20%20%20%20%20%20%20%20%20%3Cul%3E%20%20%20%20%20%3C/div%3E%60%29%5B0%5D%3B%0A%20%20%20%20%20%20%20%20%20%20%20%20popup_12e875b8a0fe4332a4ef18754d7a4145.setContent%28html_d18ed0bb33c14b5d87c97dd89d35af94%29%3B%0A%20%20%20%20%20%20%20%20%0A%0A%20%20%20%20%20%20%20%20marker_374fd1c5169a4d8d81098f690f15ff1f.bindPopup%28popup_12e875b8a0fe4332a4ef18754d7a4145%29%0A%20%20%20%20%20%20%20%20%3B%0A%0A%20%20%20%20%20%20%20%20%0A%20%20%20%20%0A%20%20%20%20%0A%20%20%20%20%20%20%20%20%20%20%20%20var%20marker_faa93afbe6c1456ca6a5a285e55b6e58%20%3D%20L.marker%28%0A%20%20%20%20%20%20%20%20%20%20%20%20%20%20%20%20%5B43.775751%2C%2011.252284%5D%2C%0A%20%20%20%20%20%20%20%20%20%20%20%20%20%20%20%20%7B%7D%0A%20%20%20%20%20%20%20%20%20%20%20%20%29.addTo%28map_cb5ddea0a149466984ccacda88dfafab%29%3B%0A%20%20%20%20%20%20%20%20%0A%20%20%20%20%0A%20%20%20%20%20%20%20%20var%20popup_9fcebafb2d5b4502a6783c3895c48f9c%20%3D%20L.popup%28%7B%22maxWidth%22%3A%20%22100%25%22%7D%29%3B%0A%0A%20%20%20%20%20%20%20%20%0A%20%20%20%20%20%20%20%20%20%20%20%20var%20html_b69c9fd91771415583746e0f8f75831b%20%3D%20%24%28%60%3Cdiv%20id%3D%22html_b69c9fd91771415583746e0f8f75831b%22%20style%3D%22width%3A%20100.0%25%3B%20height%3A%20100.0%25%3B%22%3E%20%20%20%20%20%20%20%20%20%3Cul%3E%20%20%20%20%20%20%20%20%20%20%20%20%20%3Cli%3E%3Cstrong%3EID%3A%20%3C/strong%3E834%3C/li%3E%20%20%20%20%20%20%20%20%20%20%20%20%20%3Cli%3E%3Cstrong%3ESource%3A%20%3C/strong%3EHenderson%20P%26C%20%2392%3C/li%3E%20%20%20%20%20%20%20%20%20%20%20%20%20%3Cli%3E%3Cstrong%3EName%3A%20%3C/strong%3Ele%20Margarita%20di%20Guasparre%20di%20castro%3C/li%3E%20%20%20%20%20%20%20%20%20%3Cul%3E%20%20%20%20%20%3C/div%3E%60%29%5B0%5D%3B%0A%20%20%20%20%20%20%20%20%20%20%20%20popup_9fcebafb2d5b4502a6783c3895c48f9c.setContent%28html_b69c9fd91771415583746e0f8f75831b%29%3B%0A%20%20%20%20%20%20%20%20%0A%0A%20%20%20%20%20%20%20%20marker_faa93afbe6c1456ca6a5a285e55b6e58.bindPopup%28popup_9fcebafb2d5b4502a6783c3895c48f9c%29%0A%20%20%20%20%20%20%20%20%3B%0A%0A%20%20%20%20%20%20%20%20%0A%20%20%20%20%0A%20%20%20%20%0A%20%20%20%20%20%20%20%20%20%20%20%20var%20marker_70e7d2abcc4d4b4da128555451a00680%20%3D%20L.marker%28%0A%20%20%20%20%20%20%20%20%20%20%20%20%20%20%20%20%5B43.775553%2C%2011.251728%5D%2C%0A%20%20%20%20%20%20%20%20%20%20%20%20%20%20%20%20%7B%7D%0A%20%20%20%20%20%20%20%20%20%20%20%20%29.addTo%28map_cb5ddea0a149466984ccacda88dfafab%29%3B%0A%20%20%20%20%20%20%20%20%0A%20%20%20%20%0A%20%20%20%20%20%20%20%20var%20popup_98c25f4426534a83838a23b9a791dbde%20%3D%20L.popup%28%7B%22maxWidth%22%3A%20%22100%25%22%7D%29%3B%0A%0A%20%20%20%20%20%20%20%20%0A%20%20%20%20%20%20%20%20%20%20%20%20var%20html_bacc108ed1704fa49c2065fbff0e4dd0%20%3D%20%24%28%60%3Cdiv%20id%3D%22html_bacc108ed1704fa49c2065fbff0e4dd0%22%20style%3D%22width%3A%20100.0%25%3B%20height%3A%20100.0%25%3B%22%3E%20%20%20%20%20%20%20%20%20%3Cul%3E%20%20%20%20%20%20%20%20%20%20%20%20%20%3Cli%3E%3Cstrong%3EID%3A%20%3C/strong%3E908%3C/li%3E%20%20%20%20%20%20%20%20%20%20%20%20%20%3Cli%3E%3Cstrong%3ESource%3A%20%3C/strong%3EHenderson%20P%26C%20%2392%3C/li%3E%20%20%20%20%20%20%20%20%20%20%20%20%20%3Cli%3E%3Cstrong%3EName%3A%20%3C/strong%3EPiero%20di%20Jacopo%20Trenetti%3C/li%3E%20%20%20%20%20%20%20%20%20%3Cul%3E%20%20%20%20%20%3C/div%3E%60%29%5B0%5D%3B%0A%20%20%20%20%20%20%20%20%20%20%20%20popup_98c25f4426534a83838a23b9a791dbde.setContent%28html_bacc108ed1704fa49c2065fbff0e4dd0%29%3B%0A%20%20%20%20%20%20%20%20%0A%0A%20%20%20%20%20%20%20%20marker_70e7d2abcc4d4b4da128555451a00680.bindPopup%28popup_98c25f4426534a83838a23b9a791dbde%29%0A%20%20%20%20%20%20%20%20%3B%0A%0A%20%20%20%20%20%20%20%20%0A%20%20%20%20%0A%20%20%20%20%0A%20%20%20%20%20%20%20%20%20%20%20%20var%20marker_783aa35047894ab2b82e72d42a83811b%20%3D%20L.marker%28%0A%20%20%20%20%20%20%20%20%20%20%20%20%20%20%20%20%5B43.77719444%2C%2011.24916444%5D%2C%0A%20%20%20%20%20%20%20%20%20%20%20%20%20%20%20%20%7B%7D%0A%20%20%20%20%20%20%20%20%20%20%20%20%29.addTo%28map_cb5ddea0a149466984ccacda88dfafab%29%3B%0A%20%20%20%20%20%20%20%20%0A%20%20%20%20%0A%20%20%20%20%20%20%20%20var%20popup_26fe1c6ee1cd4c5e8738341fcfd22e4d%20%3D%20L.popup%28%7B%22maxWidth%22%3A%20%22100%25%22%7D%29%3B%0A%0A%20%20%20%20%20%20%20%20%0A%20%20%20%20%20%20%20%20%20%20%20%20var%20html_22fa4ea25dae4ce4b0b8ac333b60808d%20%3D%20%24%28%60%3Cdiv%20id%3D%22html_22fa4ea25dae4ce4b0b8ac333b60808d%22%20style%3D%22width%3A%20100.0%25%3B%20height%3A%20100.0%25%3B%22%3E%20%20%20%20%20%20%20%20%20%3Cul%3E%20%20%20%20%20%20%20%20%20%20%20%20%20%3Cli%3E%3Cstrong%3EID%3A%20%3C/strong%3E5357%3C/li%3E%20%20%20%20%20%20%20%20%20%20%20%20%20%3Cli%3E%3Cstrong%3ESource%3A%20%3C/strong%3EHenderson%20P%26C%20%2392%3C/li%3E%20%20%20%20%20%20%20%20%20%20%20%20%20%3Cli%3E%3Cstrong%3EName%3A%20%3C/strong%3ELodovico%20di%20Giovanni%20Guiducci%3C/li%3E%20%20%20%20%20%20%20%20%20%3Cul%3E%20%20%20%20%20%3C/div%3E%60%29%5B0%5D%3B%0A%20%20%20%20%20%20%20%20%20%20%20%20popup_26fe1c6ee1cd4c5e8738341fcfd22e4d.setContent%28html_22fa4ea25dae4ce4b0b8ac333b60808d%29%3B%0A%20%20%20%20%20%20%20%20%0A%0A%20%20%20%20%20%20%20%20marker_783aa35047894ab2b82e72d42a83811b.bindPopup%28popup_26fe1c6ee1cd4c5e8738341fcfd22e4d%29%0A%20%20%20%20%20%20%20%20%3B%0A%0A%20%20%20%20%20%20%20%20%0A%20%20%20%20%0A%20%20%20%20%0A%20%20%20%20%20%20%20%20%20%20%20%20var%20marker_2101f7a1db914746a58a98900d9e2f99%20%3D%20L.marker%28%0A%20%20%20%20%20%20%20%20%20%20%20%20%20%20%20%20%5B43.77600143%2C%2011.26026457%5D%2C%0A%20%20%20%20%20%20%20%20%20%20%20%20%20%20%20%20%7B%7D%0A%20%20%20%20%20%20%20%20%20%20%20%20%29.addTo%28map_cb5ddea0a149466984ccacda88dfafab%29%3B%0A%20%20%20%20%20%20%20%20%0A%20%20%20%20%0A%20%20%20%20%20%20%20%20var%20popup_5619682eb2d44236a62a95212c683f23%20%3D%20L.popup%28%7B%22maxWidth%22%3A%20%22100%25%22%7D%29%3B%0A%0A%20%20%20%20%20%20%20%20%0A%20%20%20%20%20%20%20%20%20%20%20%20var%20html_7cbe1362b3814473b4f3d73511e08fd3%20%3D%20%24%28%60%3Cdiv%20id%3D%22html_7cbe1362b3814473b4f3d73511e08fd3%22%20style%3D%22width%3A%20100.0%25%3B%20height%3A%20100.0%25%3B%22%3E%20%20%20%20%20%20%20%20%20%3Cul%3E%20%20%20%20%20%20%20%20%20%20%20%20%20%3Cli%3E%3Cstrong%3EID%3A%20%3C/strong%3E2945%3C/li%3E%20%20%20%20%20%20%20%20%20%20%20%20%20%3Cli%3E%3Cstrong%3ESource%3A%20%3C/strong%3EHenderson%20P%26C%20%2392%3C/li%3E%20%20%20%20%20%20%20%20%20%20%20%20%20%3Cli%3E%3Cstrong%3EName%3A%20%3C/strong%3Emesser%20Vincenzo%20di%20Jacopo%20Cancellieri%3C/li%3E%20%20%20%20%20%20%20%20%20%3Cul%3E%20%20%20%20%20%3C/div%3E%60%29%5B0%5D%3B%0A%20%20%20%20%20%20%20%20%20%20%20%20popup_5619682eb2d44236a62a95212c683f23.setContent%28html_7cbe1362b3814473b4f3d73511e08fd3%29%3B%0A%20%20%20%20%20%20%20%20%0A%0A%20%20%20%20%20%20%20%20marker_2101f7a1db914746a58a98900d9e2f99.bindPopup%28popup_5619682eb2d44236a62a95212c683f23%29%0A%20%20%20%20%20%20%20%20%3B%0A%0A%20%20%20%20%20%20%20%20%0A%20%20%20%20%0A%20%20%20%20%0A%20%20%20%20%20%20%20%20%20%20%20%20var%20marker_1f2ee966629c4b65b48e626e45affdfe%20%3D%20L.marker%28%0A%20%20%20%20%20%20%20%20%20%20%20%20%20%20%20%20%5B43.77594286%2C%2011.26019514%5D%2C%0A%20%20%20%20%20%20%20%20%20%20%20%20%20%20%20%20%7B%7D%0A%20%20%20%20%20%20%20%20%20%20%20%20%29.addTo%28map_cb5ddea0a149466984ccacda88dfafab%29%3B%0A%20%20%20%20%20%20%20%20%0A%20%20%20%20%0A%20%20%20%20%20%20%20%20var%20popup_6e79f0fb4b22488690edd302d9382da8%20%3D%20L.popup%28%7B%22maxWidth%22%3A%20%22100%25%22%7D%29%3B%0A%0A%20%20%20%20%20%20%20%20%0A%20%20%20%20%20%20%20%20%20%20%20%20var%20html_1634d2fa96424984801d941a54568a1d%20%3D%20%24%28%60%3Cdiv%20id%3D%22html_1634d2fa96424984801d941a54568a1d%22%20style%3D%22width%3A%20100.0%25%3B%20height%3A%20100.0%25%3B%22%3E%20%20%20%20%20%20%20%20%20%3Cul%3E%20%20%20%20%20%20%20%20%20%20%20%20%20%3Cli%3E%3Cstrong%3EID%3A%20%3C/strong%3E2946%3C/li%3E%20%20%20%20%20%20%20%20%20%20%20%20%20%3Cli%3E%3Cstrong%3ESource%3A%20%3C/strong%3EHenderson%20P%26C%20%2392%3C/li%3E%20%20%20%20%20%20%20%20%20%20%20%20%20%3Cli%3E%3Cstrong%3EName%3A%20%3C/strong%3EGiovanfrancesco%20Filippo%3C/li%3E%20%20%20%20%20%20%20%20%20%3Cul%3E%20%20%20%20%20%3C/div%3E%60%29%5B0%5D%3B%0A%20%20%20%20%20%20%20%20%20%20%20%20popup_6e79f0fb4b22488690edd302d9382da8.setContent%28html_1634d2fa96424984801d941a54568a1d%29%3B%0A%20%20%20%20%20%20%20%20%0A%0A%20%20%20%20%20%20%20%20marker_1f2ee966629c4b65b48e626e45affdfe.bindPopup%28popup_6e79f0fb4b22488690edd302d9382da8%29%0A%20%20%20%20%20%20%20%20%3B%0A%0A%20%20%20%20%20%20%20%20%0A%20%20%20%20%0A%20%20%20%20%0A%20%20%20%20%20%20%20%20%20%20%20%20var%20marker_bc15373ab84c41da9d3046823ee76ee6%20%3D%20L.marker%28%0A%20%20%20%20%20%20%20%20%20%20%20%20%20%20%20%20%5B43.77588429%2C%2011.26012571%5D%2C%0A%20%20%20%20%20%20%20%20%20%20%20%20%20%20%20%20%7B%7D%0A%20%20%20%20%20%20%20%20%20%20%20%20%29.addTo%28map_cb5ddea0a149466984ccacda88dfafab%29%3B%0A%20%20%20%20%20%20%20%20%0A%20%20%20%20%0A%20%20%20%20%20%20%20%20var%20popup_27eb9fc9ca2646718a51cf8de3f46ee7%20%3D%20L.popup%28%7B%22maxWidth%22%3A%20%22100%25%22%7D%29%3B%0A%0A%20%20%20%20%20%20%20%20%0A%20%20%20%20%20%20%20%20%20%20%20%20var%20html_fb3633acb5ad4094a33ecea387a94c73%20%3D%20%24%28%60%3Cdiv%20id%3D%22html_fb3633acb5ad4094a33ecea387a94c73%22%20style%3D%22width%3A%20100.0%25%3B%20height%3A%20100.0%25%3B%22%3E%20%20%20%20%20%20%20%20%20%3Cul%3E%20%20%20%20%20%20%20%20%20%20%20%20%20%3Cli%3E%3Cstrong%3EID%3A%20%3C/strong%3E2947%3C/li%3E%20%20%20%20%20%20%20%20%20%20%20%20%20%3Cli%3E%3Cstrong%3ESource%3A%20%3C/strong%3EHenderson%20P%26C%20%2392%3C/li%3E%20%20%20%20%20%20%20%20%20%20%20%20%20%3Cli%3E%3Cstrong%3EName%3A%20%3C/strong%3Eser%20Lorenzo%20di%20Francesco%20Carboli%3C/li%3E%20%20%20%20%20%20%20%20%20%3Cul%3E%20%20%20%20%20%3C/div%3E%60%29%5B0%5D%3B%0A%20%20%20%20%20%20%20%20%20%20%20%20popup_27eb9fc9ca2646718a51cf8de3f46ee7.setContent%28html_fb3633acb5ad4094a33ecea387a94c73%29%3B%0A%20%20%20%20%20%20%20%20%0A%0A%20%20%20%20%20%20%20%20marker_bc15373ab84c41da9d3046823ee76ee6.bindPopup%28popup_27eb9fc9ca2646718a51cf8de3f46ee7%29%0A%20%20%20%20%20%20%20%20%3B%0A%0A%20%20%20%20%20%20%20%20%0A%20%20%20%20%0A%20%20%20%20%0A%20%20%20%20%20%20%20%20%20%20%20%20var%20marker_2e9d39f0abf248a6a25872cf6bd6233c%20%3D%20L.marker%28%0A%20%20%20%20%20%20%20%20%20%20%20%20%20%20%20%20%5B43.77606%2C%2011.260334%5D%2C%0A%20%20%20%20%20%20%20%20%20%20%20%20%20%20%20%20%7B%7D%0A%20%20%20%20%20%20%20%20%20%20%20%20%29.addTo%28map_cb5ddea0a149466984ccacda88dfafab%29%3B%0A%20%20%20%20%20%20%20%20%0A%20%20%20%20%0A%20%20%20%20%20%20%20%20var%20popup_782d153be24b4432957250ca11e20381%20%3D%20L.popup%28%7B%22maxWidth%22%3A%20%22100%25%22%7D%29%3B%0A%0A%20%20%20%20%20%20%20%20%0A%20%20%20%20%20%20%20%20%20%20%20%20var%20html_83f06e89c07344abb40c90f554faf88d%20%3D%20%24%28%60%3Cdiv%20id%3D%22html_83f06e89c07344abb40c90f554faf88d%22%20style%3D%22width%3A%20100.0%25%3B%20height%3A%20100.0%25%3B%22%3E%20%20%20%20%20%20%20%20%20%3Cul%3E%20%20%20%20%20%20%20%20%20%20%20%20%20%3Cli%3E%3Cstrong%3EID%3A%20%3C/strong%3E2963%3C/li%3E%20%20%20%20%20%20%20%20%20%20%20%20%20%3Cli%3E%3Cstrong%3ESource%3A%20%3C/strong%3EHenderson%20P%26C%20%2392%3C/li%3E%20%20%20%20%20%20%20%20%20%20%20%20%20%3Cli%3E%3Cstrong%3EName%3A%20%3C/strong%3EPierfilippo%20di%20Gramiozzo%20Pandolfini%3C/li%3E%20%20%20%20%20%20%20%20%20%3Cul%3E%20%20%20%20%20%3C/div%3E%60%29%5B0%5D%3B%0A%20%20%20%20%20%20%20%20%20%20%20%20popup_782d153be24b4432957250ca11e20381.setContent%28html_83f06e89c07344abb40c90f554faf88d%29%3B%0A%20%20%20%20%20%20%20%20%0A%0A%20%20%20%20%20%20%20%20marker_2e9d39f0abf248a6a25872cf6bd6233c.bindPopup%28popup_782d153be24b4432957250ca11e20381%29%0A%20%20%20%20%20%20%20%20%3B%0A%0A%20%20%20%20%20%20%20%20%0A%20%20%20%20%0A%20%20%20%20%0A%20%20%20%20%20%20%20%20%20%20%20%20var%20marker_1df17412ae054896acaaa2d4861c7c9a%20%3D%20L.marker%28%0A%20%20%20%20%20%20%20%20%20%20%20%20%20%20%20%20%5B43.7713504%2C%2011.2626168%5D%2C%0A%20%20%20%20%20%20%20%20%20%20%20%20%20%20%20%20%7B%7D%0A%20%20%20%20%20%20%20%20%20%20%20%20%29.addTo%28map_cb5ddea0a149466984ccacda88dfafab%29%3B%0A%20%20%20%20%20%20%20%20%0A%20%20%20%20%0A%20%20%20%20%20%20%20%20var%20popup_1492a0634bed429d94f6bdda5197946b%20%3D%20L.popup%28%7B%22maxWidth%22%3A%20%22100%25%22%7D%29%3B%0A%0A%20%20%20%20%20%20%20%20%0A%20%20%20%20%20%20%20%20%20%20%20%20var%20html_049151fbc2054f56bca132aef9dc3ca3%20%3D%20%24%28%60%3Cdiv%20id%3D%22html_049151fbc2054f56bca132aef9dc3ca3%22%20style%3D%22width%3A%20100.0%25%3B%20height%3A%20100.0%25%3B%22%3E%20%20%20%20%20%20%20%20%20%3Cul%3E%20%20%20%20%20%20%20%20%20%20%20%20%20%3Cli%3E%3Cstrong%3EID%3A%20%3C/strong%3E3296%3C/li%3E%20%20%20%20%20%20%20%20%20%20%20%20%20%3Cli%3E%3Cstrong%3ESource%3A%20%3C/strong%3EHenderson%20P%26C%20%2392%3C/li%3E%20%20%20%20%20%20%20%20%20%20%20%20%20%3Cli%3E%3Cstrong%3EName%3A%20%3C/strong%3EPiero%20di%20Simone%20Querei%20da%20Sesto%2C%20cieco%3C/li%3E%20%20%20%20%20%20%20%20%20%3Cul%3E%20%20%20%20%20%3C/div%3E%60%29%5B0%5D%3B%0A%20%20%20%20%20%20%20%20%20%20%20%20popup_1492a0634bed429d94f6bdda5197946b.setContent%28html_049151fbc2054f56bca132aef9dc3ca3%29%3B%0A%20%20%20%20%20%20%20%20%0A%0A%20%20%20%20%20%20%20%20marker_1df17412ae054896acaaa2d4861c7c9a.bindPopup%28popup_1492a0634bed429d94f6bdda5197946b%29%0A%20%20%20%20%20%20%20%20%3B%0A%0A%20%20%20%20%20%20%20%20%0A%20%20%20%20%0A%20%20%20%20%0A%20%20%20%20%20%20%20%20%20%20%20%20var%20marker_fb3ca8288e0e4dd49af971df6217a2d0%20%3D%20L.marker%28%0A%20%20%20%20%20%20%20%20%20%20%20%20%20%20%20%20%5B43.77074933%2C%2011.26244367%5D%2C%0A%20%20%20%20%20%20%20%20%20%20%20%20%20%20%20%20%7B%7D%0A%20%20%20%20%20%20%20%20%20%20%20%20%29.addTo%28map_cb5ddea0a149466984ccacda88dfafab%29%3B%0A%20%20%20%20%20%20%20%20%0A%20%20%20%20%0A%20%20%20%20%20%20%20%20var%20popup_9cd7670bc2e848689daee6b18810b6c7%20%3D%20L.popup%28%7B%22maxWidth%22%3A%20%22100%25%22%7D%29%3B%0A%0A%20%20%20%20%20%20%20%20%0A%20%20%20%20%20%20%20%20%20%20%20%20var%20html_8298ce58be224c73914aaf0d5f9e943c%20%3D%20%24%28%60%3Cdiv%20id%3D%22html_8298ce58be224c73914aaf0d5f9e943c%22%20style%3D%22width%3A%20100.0%25%3B%20height%3A%20100.0%25%3B%22%3E%20%20%20%20%20%20%20%20%20%3Cul%3E%20%20%20%20%20%20%20%20%20%20%20%20%20%3Cli%3E%3Cstrong%3EID%3A%20%3C/strong%3E3455%3C/li%3E%20%20%20%20%20%20%20%20%20%20%20%20%20%3Cli%3E%3Cstrong%3ESource%3A%20%3C/strong%3EHenderson%20P%26C%20%2392%3C/li%3E%20%20%20%20%20%20%20%20%20%20%20%20%20%3Cli%3E%3Cstrong%3EName%3A%20%3C/strong%3EDomenico%20di%20Benedetto%20da%20Castello%2C%20tessitore%3C/li%3E%20%20%20%20%20%20%20%20%20%3Cul%3E%20%20%20%20%20%3C/div%3E%60%29%5B0%5D%3B%0A%20%20%20%20%20%20%20%20%20%20%20%20popup_9cd7670bc2e848689daee6b18810b6c7.setContent%28html_8298ce58be224c73914aaf0d5f9e943c%29%3B%0A%20%20%20%20%20%20%20%20%0A%0A%20%20%20%20%20%20%20%20marker_fb3ca8288e0e4dd49af971df6217a2d0.bindPopup%28popup_9cd7670bc2e848689daee6b18810b6c7%29%0A%20%20%20%20%20%20%20%20%3B%0A%0A%20%20%20%20%20%20%20%20%0A%20%20%20%20%0A%20%20%20%20%0A%20%20%20%20%20%20%20%20%20%20%20%20var%20marker_3a55299ba3dc4b3592e07756acaf99d2%20%3D%20L.marker%28%0A%20%20%20%20%20%20%20%20%20%20%20%20%20%20%20%20%5B43.76905%2C%2011.26039%5D%2C%0A%20%20%20%20%20%20%20%20%20%20%20%20%20%20%20%20%7B%7D%0A%20%20%20%20%20%20%20%20%20%20%20%20%29.addTo%28map_cb5ddea0a149466984ccacda88dfafab%29%3B%0A%20%20%20%20%20%20%20%20%0A%20%20%20%20%0A%20%20%20%20%20%20%20%20var%20popup_c8eedec8dcc44386b68cd276ee456c5e%20%3D%20L.popup%28%7B%22maxWidth%22%3A%20%22100%25%22%7D%29%3B%0A%0A%20%20%20%20%20%20%20%20%0A%20%20%20%20%20%20%20%20%20%20%20%20var%20html_56590f38998e4434a16ec8841fb0a165%20%3D%20%24%28%60%3Cdiv%20id%3D%22html_56590f38998e4434a16ec8841fb0a165%22%20style%3D%22width%3A%20100.0%25%3B%20height%3A%20100.0%25%3B%22%3E%20%20%20%20%20%20%20%20%20%3Cul%3E%20%20%20%20%20%20%20%20%20%20%20%20%20%3Cli%3E%3Cstrong%3EID%3A%20%3C/strong%3E4120%3C/li%3E%20%20%20%20%20%20%20%20%20%20%20%20%20%3Cli%3E%3Cstrong%3ESource%3A%20%3C/strong%3EHenderson%20P%26C%20%2392%3C/li%3E%20%20%20%20%20%20%20%20%20%20%20%20%20%3Cli%3E%3Cstrong%3EName%3A%20%3C/strong%3EMagistro%20Giovanni%20di%20Bartolomeo%20di%20Giovanni%2C%20ciabattino%3C/li%3E%20%20%20%20%20%20%20%20%20%3Cul%3E%20%20%20%20%20%3C/div%3E%60%29%5B0%5D%3B%0A%20%20%20%20%20%20%20%20%20%20%20%20popup_c8eedec8dcc44386b68cd276ee456c5e.setContent%28html_56590f38998e4434a16ec8841fb0a165%29%3B%0A%20%20%20%20%20%20%20%20%0A%0A%20%20%20%20%20%20%20%20marker_3a55299ba3dc4b3592e07756acaf99d2.bindPopup%28popup_c8eedec8dcc44386b68cd276ee456c5e%29%0A%20%20%20%20%20%20%20%20%3B%0A%0A%20%20%20%20%20%20%20%20%0A%20%20%20%20%0A%20%20%20%20%0A%20%20%20%20%20%20%20%20%20%20%20%20var%20marker_a6b1ea014574442b9c3630e61998e14f%20%3D%20L.marker%28%0A%20%20%20%20%20%20%20%20%20%20%20%20%20%20%20%20%5B43.76794%2C%2011.25578%5D%2C%0A%20%20%20%20%20%20%20%20%20%20%20%20%20%20%20%20%7B%7D%0A%20%20%20%20%20%20%20%20%20%20%20%20%29.addTo%28map_cb5ddea0a149466984ccacda88dfafab%29%3B%0A%20%20%20%20%20%20%20%20%0A%20%20%20%20%0A%20%20%20%20%20%20%20%20var%20popup_586abb53ef44480cbdf02cc3a62091b9%20%3D%20L.popup%28%7B%22maxWidth%22%3A%20%22100%25%22%7D%29%3B%0A%0A%20%20%20%20%20%20%20%20%0A%20%20%20%20%20%20%20%20%20%20%20%20var%20html_4238f37b74134388916769ac842163bd%20%3D%20%24%28%60%3Cdiv%20id%3D%22html_4238f37b74134388916769ac842163bd%22%20style%3D%22width%3A%20100.0%25%3B%20height%3A%20100.0%25%3B%22%3E%20%20%20%20%20%20%20%20%20%3Cul%3E%20%20%20%20%20%20%20%20%20%20%20%20%20%3Cli%3E%3Cstrong%3EID%3A%20%3C/strong%3E4651%3C/li%3E%20%20%20%20%20%20%20%20%20%20%20%20%20%3Cli%3E%3Cstrong%3ESource%3A%20%3C/strong%3EHenderson%20P%26C%20%2392%3C/li%3E%20%20%20%20%20%20%20%20%20%20%20%20%20%3Cli%3E%3Cstrong%3EName%3A%20%3C/strong%3ETaddeo%2C%20sarto%3C/li%3E%20%20%20%20%20%20%20%20%20%3Cul%3E%20%20%20%20%20%3C/div%3E%60%29%5B0%5D%3B%0A%20%20%20%20%20%20%20%20%20%20%20%20popup_586abb53ef44480cbdf02cc3a62091b9.setContent%28html_4238f37b74134388916769ac842163bd%29%3B%0A%20%20%20%20%20%20%20%20%0A%0A%20%20%20%20%20%20%20%20marker_a6b1ea014574442b9c3630e61998e14f.bindPopup%28popup_586abb53ef44480cbdf02cc3a62091b9%29%0A%20%20%20%20%20%20%20%20%3B%0A%0A%20%20%20%20%20%20%20%20%0A%20%20%20%20%0A%20%20%20%20%0A%20%20%20%20%20%20%20%20%20%20%20%20var%20marker_b37073437e124400a4e4f89bf722dd97%20%3D%20L.marker%28%0A%20%20%20%20%20%20%20%20%20%20%20%20%20%20%20%20%5B43.77055767%2C%2011.27046367%5D%2C%0A%20%20%20%20%20%20%20%20%20%20%20%20%20%20%20%20%7B%7D%0A%20%20%20%20%20%20%20%20%20%20%20%20%29.addTo%28map_cb5ddea0a149466984ccacda88dfafab%29%3B%0A%20%20%20%20%20%20%20%20%0A%20%20%20%20%0A%20%20%20%20%20%20%20%20var%20popup_eca77339a08b4b0c9b430141900165e9%20%3D%20L.popup%28%7B%22maxWidth%22%3A%20%22100%25%22%7D%29%3B%0A%0A%20%20%20%20%20%20%20%20%0A%20%20%20%20%20%20%20%20%20%20%20%20var%20html_55b4f01e895649d3b1f990ffe9fb3371%20%3D%20%24%28%60%3Cdiv%20id%3D%22html_55b4f01e895649d3b1f990ffe9fb3371%22%20style%3D%22width%3A%20100.0%25%3B%20height%3A%20100.0%25%3B%22%3E%20%20%20%20%20%20%20%20%20%3Cul%3E%20%20%20%20%20%20%20%20%20%20%20%20%20%3Cli%3E%3Cstrong%3EID%3A%20%3C/strong%3E2073%3C/li%3E%20%20%20%20%20%20%20%20%20%20%20%20%20%3Cli%3E%3Cstrong%3ESource%3A%20%3C/strong%3EHenderson%20P%26C%20%23114%3C/li%3E%20%20%20%20%20%20%20%20%20%20%20%20%20%3Cli%3E%3Cstrong%3EName%3A%20%3C/strong%3Enan%3C/li%3E%20%20%20%20%20%20%20%20%20%3Cul%3E%20%20%20%20%20%3C/div%3E%60%29%5B0%5D%3B%0A%20%20%20%20%20%20%20%20%20%20%20%20popup_eca77339a08b4b0c9b430141900165e9.setContent%28html_55b4f01e895649d3b1f990ffe9fb3371%29%3B%0A%20%20%20%20%20%20%20%20%0A%0A%20%20%20%20%20%20%20%20marker_b37073437e124400a4e4f89bf722dd97.bindPopup%28popup_eca77339a08b4b0c9b430141900165e9%29%0A%20%20%20%20%20%20%20%20%3B%0A%0A%20%20%20%20%20%20%20%20%0A%20%20%20%20%0A%20%20%20%20%0A%20%20%20%20%20%20%20%20%20%20%20%20var%20marker_e5f6c447715d4c6d8c419275e87c2e4f%20%3D%20L.marker%28%0A%20%20%20%20%20%20%20%20%20%20%20%20%20%20%20%20%5B43.770336%2C%2011.264497%5D%2C%0A%20%20%20%20%20%20%20%20%20%20%20%20%20%20%20%20%7B%7D%0A%20%20%20%20%20%20%20%20%20%20%20%20%29.addTo%28map_cb5ddea0a149466984ccacda88dfafab%29%3B%0A%20%20%20%20%20%20%20%20%0A%20%20%20%20%0A%20%20%20%20%20%20%20%20var%20popup_44364ff03ad445a0969ab048033c6d2f%20%3D%20L.popup%28%7B%22maxWidth%22%3A%20%22100%25%22%7D%29%3B%0A%0A%20%20%20%20%20%20%20%20%0A%20%20%20%20%20%20%20%20%20%20%20%20var%20html_e37a50c5cb0747298850ef5ac71ffab2%20%3D%20%24%28%60%3Cdiv%20id%3D%22html_e37a50c5cb0747298850ef5ac71ffab2%22%20style%3D%22width%3A%20100.0%25%3B%20height%3A%20100.0%25%3B%22%3E%20%20%20%20%20%20%20%20%20%3Cul%3E%20%20%20%20%20%20%20%20%20%20%20%20%20%3Cli%3E%3Cstrong%3EID%3A%20%3C/strong%3E3219%3C/li%3E%20%20%20%20%20%20%20%20%20%20%20%20%20%3Cli%3E%3Cstrong%3ESource%3A%20%3C/strong%3EHenderson%20P%26C%20%23137%3C/li%3E%20%20%20%20%20%20%20%20%20%20%20%20%20%3Cli%3E%3Cstrong%3EName%3A%20%3C/strong%3Enan%3C/li%3E%20%20%20%20%20%20%20%20%20%3Cul%3E%20%20%20%20%20%3C/div%3E%60%29%5B0%5D%3B%0A%20%20%20%20%20%20%20%20%20%20%20%20popup_44364ff03ad445a0969ab048033c6d2f.setContent%28html_e37a50c5cb0747298850ef5ac71ffab2%29%3B%0A%20%20%20%20%20%20%20%20%0A%0A%20%20%20%20%20%20%20%20marker_e5f6c447715d4c6d8c419275e87c2e4f.bindPopup%28popup_44364ff03ad445a0969ab048033c6d2f%29%0A%20%20%20%20%20%20%20%20%3B%0A%0A%20%20%20%20%20%20%20%20%0A%20%20%20%20%0A%20%20%20%20%0A%20%20%20%20%20%20%20%20%20%20%20%20var%20marker_bc6357cbf36c49a5a6be6e3594a94fd6%20%3D%20L.marker%28%0A%20%20%20%20%20%20%20%20%20%20%20%20%20%20%20%20%5B43.77111764%2C%2011.26918979%5D%2C%0A%20%20%20%20%20%20%20%20%20%20%20%20%20%20%20%20%7B%7D%0A%20%20%20%20%20%20%20%20%20%20%20%20%29.addTo%28map_cb5ddea0a149466984ccacda88dfafab%29%3B%0A%20%20%20%20%20%20%20%20%0A%20%20%20%20%0A%20%20%20%20%20%20%20%20var%20popup_3f7520a8846948b894b7847a6983011a%20%3D%20L.popup%28%7B%22maxWidth%22%3A%20%22100%25%22%7D%29%3B%0A%0A%20%20%20%20%20%20%20%20%0A%20%20%20%20%20%20%20%20%20%20%20%20var%20html_27d950931dcf4c90b6cf5a08625b05ca%20%3D%20%24%28%60%3Cdiv%20id%3D%22html_27d950931dcf4c90b6cf5a08625b05ca%22%20style%3D%22width%3A%20100.0%25%3B%20height%3A%20100.0%25%3B%22%3E%20%20%20%20%20%20%20%20%20%3Cul%3E%20%20%20%20%20%20%20%20%20%20%20%20%20%3Cli%3E%3Cstrong%3EID%3A%20%3C/strong%3E2203%3C/li%3E%20%20%20%20%20%20%20%20%20%20%20%20%20%3Cli%3E%3Cstrong%3ESource%3A%20%3C/strong%3EHenderson%20P%26C%20%23137%3C/li%3E%20%20%20%20%20%20%20%20%20%20%20%20%20%3Cli%3E%3Cstrong%3EName%3A%20%3C/strong%3Enan%3C/li%3E%20%20%20%20%20%20%20%20%20%3Cul%3E%20%20%20%20%20%3C/div%3E%60%29%5B0%5D%3B%0A%20%20%20%20%20%20%20%20%20%20%20%20popup_3f7520a8846948b894b7847a6983011a.setContent%28html_27d950931dcf4c90b6cf5a08625b05ca%29%3B%0A%20%20%20%20%20%20%20%20%0A%0A%20%20%20%20%20%20%20%20marker_bc6357cbf36c49a5a6be6e3594a94fd6.bindPopup%28popup_3f7520a8846948b894b7847a6983011a%29%0A%20%20%20%20%20%20%20%20%3B%0A%0A%20%20%20%20%20%20%20%20%0A%20%20%20%20%0A%20%20%20%20%0A%20%20%20%20%20%20%20%20%20%20%20%20var%20marker_1d89f835b9ee461cb0c8d1936887e50d%20%3D%20L.marker%28%0A%20%20%20%20%20%20%20%20%20%20%20%20%20%20%20%20%5B43.775931%2C%2011.252323%5D%2C%0A%20%20%20%20%20%20%20%20%20%20%20%20%20%20%20%20%7B%7D%0A%20%20%20%20%20%20%20%20%20%20%20%20%29.addTo%28map_cb5ddea0a149466984ccacda88dfafab%29%3B%0A%20%20%20%20%20%20%20%20%0A%20%20%20%20%0A%20%20%20%20%20%20%20%20var%20popup_f51ae988388b4cc8afce5875cf515c49%20%3D%20L.popup%28%7B%22maxWidth%22%3A%20%22100%25%22%7D%29%3B%0A%0A%20%20%20%20%20%20%20%20%0A%20%20%20%20%20%20%20%20%20%20%20%20var%20html_cd2cf26a8d1240e4bfa37eae61c0b207%20%3D%20%24%28%60%3Cdiv%20id%3D%22html_cd2cf26a8d1240e4bfa37eae61c0b207%22%20style%3D%22width%3A%20100.0%25%3B%20height%3A%20100.0%25%3B%22%3E%20%20%20%20%20%20%20%20%20%3Cul%3E%20%20%20%20%20%20%20%20%20%20%20%20%20%3Cli%3E%3Cstrong%3EID%3A%20%3C/strong%3E147%3C/li%3E%20%20%20%20%20%20%20%20%20%20%20%20%20%3Cli%3E%3Cstrong%3ESource%3A%20%3C/strong%3EHenderson%20P%26C%20104%3C/li%3E%20%20%20%20%20%20%20%20%20%20%20%20%20%3Cli%3E%3Cstrong%3EName%3A%20%3C/strong%3Enan%3C/li%3E%20%20%20%20%20%20%20%20%20%3Cul%3E%20%20%20%20%20%3C/div%3E%60%29%5B0%5D%3B%0A%20%20%20%20%20%20%20%20%20%20%20%20popup_f51ae988388b4cc8afce5875cf515c49.setContent%28html_cd2cf26a8d1240e4bfa37eae61c0b207%29%3B%0A%20%20%20%20%20%20%20%20%0A%0A%20%20%20%20%20%20%20%20marker_1d89f835b9ee461cb0c8d1936887e50d.bindPopup%28popup_f51ae988388b4cc8afce5875cf515c49%29%0A%20%20%20%20%20%20%20%20%3B%0A%0A%20%20%20%20%20%20%20%20%0A%20%20%20%20%0A%20%20%20%20%0A%20%20%20%20%20%20%20%20%20%20%20%20var%20marker_e28ad47193954c3b8dca71be4c9dad61%20%3D%20L.marker%28%0A%20%20%20%20%20%20%20%20%20%20%20%20%20%20%20%20%5B43.76581%2C%2011.24711857%5D%2C%0A%20%20%20%20%20%20%20%20%20%20%20%20%20%20%20%20%7B%7D%0A%20%20%20%20%20%20%20%20%20%20%20%20%29.addTo%28map_cb5ddea0a149466984ccacda88dfafab%29%3B%0A%20%20%20%20%20%20%20%20%0A%20%20%20%20%0A%20%20%20%20%20%20%20%20var%20popup_a54e44cd8a2549b2841ab5559452ee1a%20%3D%20L.popup%28%7B%22maxWidth%22%3A%20%22100%25%22%7D%29%3B%0A%0A%20%20%20%20%20%20%20%20%0A%20%20%20%20%20%20%20%20%20%20%20%20var%20html_762c6aa5b96348e8a309c1db2904026d%20%3D%20%24%28%60%3Cdiv%20id%3D%22html_762c6aa5b96348e8a309c1db2904026d%22%20style%3D%22width%3A%20100.0%25%3B%20height%3A%20100.0%25%3B%22%3E%20%20%20%20%20%20%20%20%20%3Cul%3E%20%20%20%20%20%20%20%20%20%20%20%20%20%3Cli%3E%3Cstrong%3EID%3A%20%3C/strong%3E7343%3C/li%3E%20%20%20%20%20%20%20%20%20%20%20%20%20%3Cli%3E%3Cstrong%3ESource%3A%20%3C/strong%3EHenderson%20P%26C%20%2378%3C/li%3E%20%20%20%20%20%20%20%20%20%20%20%20%20%3Cli%3E%3Cstrong%3EName%3A%20%3C/strong%3Enan%3C/li%3E%20%20%20%20%20%20%20%20%20%3Cul%3E%20%20%20%20%20%3C/div%3E%60%29%5B0%5D%3B%0A%20%20%20%20%20%20%20%20%20%20%20%20popup_a54e44cd8a2549b2841ab5559452ee1a.setContent%28html_762c6aa5b96348e8a309c1db2904026d%29%3B%0A%20%20%20%20%20%20%20%20%0A%0A%20%20%20%20%20%20%20%20marker_e28ad47193954c3b8dca71be4c9dad61.bindPopup%28popup_a54e44cd8a2549b2841ab5559452ee1a%29%0A%20%20%20%20%20%20%20%20%3B%0A%0A%20%20%20%20%20%20%20%20%0A%20%20%20%20%0A%20%20%20%20%0A%20%20%20%20%20%20%20%20%20%20%20%20var%20marker_64bfb9b4a5b54ac4bc54fb8324b34e75%20%3D%20L.marker%28%0A%20%20%20%20%20%20%20%20%20%20%20%20%20%20%20%20%5B43.7674384%2C%2011.244969%5D%2C%0A%20%20%20%20%20%20%20%20%20%20%20%20%20%20%20%20%7B%7D%0A%20%20%20%20%20%20%20%20%20%20%20%20%29.addTo%28map_cb5ddea0a149466984ccacda88dfafab%29%3B%0A%20%20%20%20%20%20%20%20%0A%20%20%20%20%0A%20%20%20%20%20%20%20%20var%20popup_c451cdea303d4cb183673bafb3b0db75%20%3D%20L.popup%28%7B%22maxWidth%22%3A%20%22100%25%22%7D%29%3B%0A%0A%20%20%20%20%20%20%20%20%0A%20%20%20%20%20%20%20%20%20%20%20%20var%20html_2bd140b0c56a4286bef002ba36793fca%20%3D%20%24%28%60%3Cdiv%20id%3D%22html_2bd140b0c56a4286bef002ba36793fca%22%20style%3D%22width%3A%20100.0%25%3B%20height%3A%20100.0%25%3B%22%3E%20%20%20%20%20%20%20%20%20%3Cul%3E%20%20%20%20%20%20%20%20%20%20%20%20%20%3Cli%3E%3Cstrong%3EID%3A%20%3C/strong%3E8476%3C/li%3E%20%20%20%20%20%20%20%20%20%20%20%20%20%3Cli%3E%3Cstrong%3ESource%3A%20%3C/strong%3EHenderson%20P%26C%20%2392%3C/li%3E%20%20%20%20%20%20%20%20%20%20%20%20%20%3Cli%3E%3Cstrong%3EName%3A%20%3C/strong%3Enan%3C/li%3E%20%20%20%20%20%20%20%20%20%3Cul%3E%20%20%20%20%20%3C/div%3E%60%29%5B0%5D%3B%0A%20%20%20%20%20%20%20%20%20%20%20%20popup_c451cdea303d4cb183673bafb3b0db75.setContent%28html_2bd140b0c56a4286bef002ba36793fca%29%3B%0A%20%20%20%20%20%20%20%20%0A%0A%20%20%20%20%20%20%20%20marker_64bfb9b4a5b54ac4bc54fb8324b34e75.bindPopup%28popup_c451cdea303d4cb183673bafb3b0db75%29%0A%20%20%20%20%20%20%20%20%3B%0A%0A%20%20%20%20%20%20%20%20%0A%20%20%20%20%0A%20%20%20%20%0A%20%20%20%20%20%20%20%20%20%20%20%20var%20marker_690d5bfe4aa74f3bbdae4ca67a5c801a%20%3D%20L.marker%28%0A%20%20%20%20%20%20%20%20%20%20%20%20%20%20%20%20%5B43.77294222%2C%2011.24744556%5D%2C%0A%20%20%20%20%20%20%20%20%20%20%20%20%20%20%20%20%7B%7D%0A%20%20%20%20%20%20%20%20%20%20%20%20%29.addTo%28map_cb5ddea0a149466984ccacda88dfafab%29%3B%0A%20%20%20%20%20%20%20%20%0A%20%20%20%20%0A%20%20%20%20%20%20%20%20var%20popup_d7c00bb7b974412eac06fd8a264e92df%20%3D%20L.popup%28%7B%22maxWidth%22%3A%20%22100%25%22%7D%29%3B%0A%0A%20%20%20%20%20%20%20%20%0A%20%20%20%20%20%20%20%20%20%20%20%20var%20html_eeda484a3449479c998bdaeff772029b%20%3D%20%24%28%60%3Cdiv%20id%3D%22html_eeda484a3449479c998bdaeff772029b%22%20style%3D%22width%3A%20100.0%25%3B%20height%3A%20100.0%25%3B%22%3E%20%20%20%20%20%20%20%20%20%3Cul%3E%20%20%20%20%20%20%20%20%20%20%20%20%20%3Cli%3E%3Cstrong%3EID%3A%20%3C/strong%3E5514%3C/li%3E%20%20%20%20%20%20%20%20%20%20%20%20%20%3Cli%3E%3Cstrong%3ESource%3A%20%3C/strong%3EHenderson%20P%26C%20%2392%3C/li%3E%20%20%20%20%20%20%20%20%20%20%20%20%20%3Cli%3E%3Cstrong%3EName%3A%20%3C/strong%3Enan%3C/li%3E%20%20%20%20%20%20%20%20%20%3Cul%3E%20%20%20%20%20%3C/div%3E%60%29%5B0%5D%3B%0A%20%20%20%20%20%20%20%20%20%20%20%20popup_d7c00bb7b974412eac06fd8a264e92df.setContent%28html_eeda484a3449479c998bdaeff772029b%29%3B%0A%20%20%20%20%20%20%20%20%0A%0A%20%20%20%20%20%20%20%20marker_690d5bfe4aa74f3bbdae4ca67a5c801a.bindPopup%28popup_d7c00bb7b974412eac06fd8a264e92df%29%0A%20%20%20%20%20%20%20%20%3B%0A%0A%20%20%20%20%20%20%20%20%0A%20%20%20%20%0A%20%20%20%20%0A%20%20%20%20%20%20%20%20%20%20%20%20var%20marker_142b41a8a1d44c8c84954a735d70235e%20%3D%20L.marker%28%0A%20%20%20%20%20%20%20%20%20%20%20%20%20%20%20%20%5B43.76800359%2C%2011.24089635%5D%2C%0A%20%20%20%20%20%20%20%20%20%20%20%20%20%20%20%20%7B%7D%0A%20%20%20%20%20%20%20%20%20%20%20%20%29.addTo%28map_cb5ddea0a149466984ccacda88dfafab%29%3B%0A%20%20%20%20%20%20%20%20%0A%20%20%20%20%0A%20%20%20%20%20%20%20%20var%20popup_e3807c87cbd6422eb275d08ef732a258%20%3D%20L.popup%28%7B%22maxWidth%22%3A%20%22100%25%22%7D%29%3B%0A%0A%20%20%20%20%20%20%20%20%0A%20%20%20%20%20%20%20%20%20%20%20%20var%20html_ca02998daf75486a853e54334881d93d%20%3D%20%24%28%60%3Cdiv%20id%3D%22html_ca02998daf75486a853e54334881d93d%22%20style%3D%22width%3A%20100.0%25%3B%20height%3A%20100.0%25%3B%22%3E%20%20%20%20%20%20%20%20%20%3Cul%3E%20%20%20%20%20%20%20%20%20%20%20%20%20%3Cli%3E%3Cstrong%3EID%3A%20%3C/strong%3E8102%3C/li%3E%20%20%20%20%20%20%20%20%20%20%20%20%20%3Cli%3E%3Cstrong%3ESource%3A%20%3C/strong%3EHenderson%20P%26C%20%23147%3C/li%3E%20%20%20%20%20%20%20%20%20%20%20%20%20%3Cli%3E%3Cstrong%3EName%3A%20%3C/strong%3Enan%3C/li%3E%20%20%20%20%20%20%20%20%20%3Cul%3E%20%20%20%20%20%3C/div%3E%60%29%5B0%5D%3B%0A%20%20%20%20%20%20%20%20%20%20%20%20popup_e3807c87cbd6422eb275d08ef732a258.setContent%28html_ca02998daf75486a853e54334881d93d%29%3B%0A%20%20%20%20%20%20%20%20%0A%0A%20%20%20%20%20%20%20%20marker_142b41a8a1d44c8c84954a735d70235e.bindPopup%28popup_e3807c87cbd6422eb275d08ef732a258%29%0A%20%20%20%20%20%20%20%20%3B%0A%0A%20%20%20%20%20%20%20%20%0A%20%20%20%20%0A%20%20%20%20%0A%20%20%20%20%20%20%20%20%20%20%20%20var%20marker_2b5f96cbe94149249f0c8de85a62fbce%20%3D%20L.marker%28%0A%20%20%20%20%20%20%20%20%20%20%20%20%20%20%20%20%5B43.770728%2C%2011.270409%5D%2C%0A%20%20%20%20%20%20%20%20%20%20%20%20%20%20%20%20%7B%7D%0A%20%20%20%20%20%20%20%20%20%20%20%20%29.addTo%28map_cb5ddea0a149466984ccacda88dfafab%29%3B%0A%20%20%20%20%20%20%20%20%0A%20%20%20%20%0A%20%20%20%20%20%20%20%20var%20popup_ef813881c1694012b9a0a4231642f75c%20%3D%20L.popup%28%7B%22maxWidth%22%3A%20%22100%25%22%7D%29%3B%0A%0A%20%20%20%20%20%20%20%20%0A%20%20%20%20%20%20%20%20%20%20%20%20var%20html_b0d4b9d24d8141fe828e3067a681a9ee%20%3D%20%24%28%60%3Cdiv%20id%3D%22html_b0d4b9d24d8141fe828e3067a681a9ee%22%20style%3D%22width%3A%20100.0%25%3B%20height%3A%20100.0%25%3B%22%3E%20%20%20%20%20%20%20%20%20%3Cul%3E%20%20%20%20%20%20%20%20%20%20%20%20%20%3Cli%3E%3Cstrong%3EID%3A%20%3C/strong%3E2030%3C/li%3E%20%20%20%20%20%20%20%20%20%20%20%20%20%3Cli%3E%3Cstrong%3ESource%3A%20%3C/strong%3EHenderson%20P%26C%20%23105%20%5Bor%20121%5D%3C/li%3E%20%20%20%20%20%20%20%20%20%20%20%20%20%3Cli%3E%3Cstrong%3EName%3A%20%3C/strong%3Enan%3C/li%3E%20%20%20%20%20%20%20%20%20%3Cul%3E%20%20%20%20%20%3C/div%3E%60%29%5B0%5D%3B%0A%20%20%20%20%20%20%20%20%20%20%20%20popup_ef813881c1694012b9a0a4231642f75c.setContent%28html_b0d4b9d24d8141fe828e3067a681a9ee%29%3B%0A%20%20%20%20%20%20%20%20%0A%0A%20%20%20%20%20%20%20%20marker_2b5f96cbe94149249f0c8de85a62fbce.bindPopup%28popup_ef813881c1694012b9a0a4231642f75c%29%0A%20%20%20%20%20%20%20%20%3B%0A%0A%20%20%20%20%20%20%20%20%0A%20%20%20%20%0A%20%20%20%20%0A%20%20%20%20%20%20%20%20%20%20%20%20var%20marker_a879bee19cb443f9b46542d994c6b15d%20%3D%20L.marker%28%0A%20%20%20%20%20%20%20%20%20%20%20%20%20%20%20%20%5B43.77714732%2C%2011.25429326%5D%2C%0A%20%20%20%20%20%20%20%20%20%20%20%20%20%20%20%20%7B%7D%0A%20%20%20%20%20%20%20%20%20%20%20%20%29.addTo%28map_cb5ddea0a149466984ccacda88dfafab%29%3B%0A%20%20%20%20%20%20%20%20%0A%20%20%20%20%0A%20%20%20%20%20%20%20%20var%20popup_4409417f3ed641058c135adfa6f84add%20%3D%20L.popup%28%7B%22maxWidth%22%3A%20%22100%25%22%7D%29%3B%0A%0A%20%20%20%20%20%20%20%20%0A%20%20%20%20%20%20%20%20%20%20%20%20var%20html_814d850f9fd345cdb597c2a6ec8fd45b%20%3D%20%24%28%60%3Cdiv%20id%3D%22html_814d850f9fd345cdb597c2a6ec8fd45b%22%20style%3D%22width%3A%20100.0%25%3B%20height%3A%20100.0%25%3B%22%3E%20%20%20%20%20%20%20%20%20%3Cul%3E%20%20%20%20%20%20%20%20%20%20%20%20%20%3Cli%3E%3Cstrong%3EID%3A%20%3C/strong%3E400%3C/li%3E%20%20%20%20%20%20%20%20%20%20%20%20%20%3Cli%3E%3Cstrong%3ESource%3A%20%3C/strong%3EHenderson%20P%26C%20%2342%3C/li%3E%20%20%20%20%20%20%20%20%20%20%20%20%20%3Cli%3E%3Cstrong%3EName%3A%20%3C/strong%3Erivenditore%3C/li%3E%20%20%20%20%20%20%20%20%20%3Cul%3E%20%20%20%20%20%3C/div%3E%60%29%5B0%5D%3B%0A%20%20%20%20%20%20%20%20%20%20%20%20popup_4409417f3ed641058c135adfa6f84add.setContent%28html_814d850f9fd345cdb597c2a6ec8fd45b%29%3B%0A%20%20%20%20%20%20%20%20%0A%0A%20%20%20%20%20%20%20%20marker_a879bee19cb443f9b46542d994c6b15d.bindPopup%28popup_4409417f3ed641058c135adfa6f84add%29%0A%20%20%20%20%20%20%20%20%3B%0A%0A%20%20%20%20%20%20%20%20%0A%20%20%20%20%0A%20%20%20%20%0A%20%20%20%20%20%20%20%20%20%20%20%20var%20marker_86ed5bb83fbc49ada6a46617525066d8%20%3D%20L.marker%28%0A%20%20%20%20%20%20%20%20%20%20%20%20%20%20%20%20%5B43.78140888%2C%2011.260031%5D%2C%0A%20%20%20%20%20%20%20%20%20%20%20%20%20%20%20%20%7B%7D%0A%20%20%20%20%20%20%20%20%20%20%20%20%29.addTo%28map_cb5ddea0a149466984ccacda88dfafab%29%3B%0A%20%20%20%20%20%20%20%20%0A%20%20%20%20%0A%20%20%20%20%20%20%20%20var%20popup_27313f6b86cc4142a3d2e7344792436c%20%3D%20L.popup%28%7B%22maxWidth%22%3A%20%22100%25%22%7D%29%3B%0A%0A%20%20%20%20%20%20%20%20%0A%20%20%20%20%20%20%20%20%20%20%20%20var%20html_2efe56c43bc04ffa9e4e39ee41756101%20%3D%20%24%28%60%3Cdiv%20id%3D%22html_2efe56c43bc04ffa9e4e39ee41756101%22%20style%3D%22width%3A%20100.0%25%3B%20height%3A%20100.0%25%3B%22%3E%20%20%20%20%20%20%20%20%20%3Cul%3E%20%20%20%20%20%20%20%20%20%20%20%20%20%3Cli%3E%3Cstrong%3EID%3A%20%3C/strong%3E1098%3C/li%3E%20%20%20%20%20%20%20%20%20%20%20%20%20%3Cli%3E%3Cstrong%3ESource%3A%20%3C/strong%3EHenderson%20P%26C%20%2353%3C/li%3E%20%20%20%20%20%20%20%20%20%20%20%20%20%3Cli%3E%3Cstrong%3EName%3A%20%3C/strong%3Ebattilano%3C/li%3E%20%20%20%20%20%20%20%20%20%3Cul%3E%20%20%20%20%20%3C/div%3E%60%29%5B0%5D%3B%0A%20%20%20%20%20%20%20%20%20%20%20%20popup_27313f6b86cc4142a3d2e7344792436c.setContent%28html_2efe56c43bc04ffa9e4e39ee41756101%29%3B%0A%20%20%20%20%20%20%20%20%0A%0A%20%20%20%20%20%20%20%20marker_86ed5bb83fbc49ada6a46617525066d8.bindPopup%28popup_27313f6b86cc4142a3d2e7344792436c%29%0A%20%20%20%20%20%20%20%20%3B%0A%0A%20%20%20%20%20%20%20%20%0A%20%20%20%20%0A%20%20%20%20%0A%20%20%20%20%20%20%20%20%20%20%20%20var%20marker_a66b6091c275410586134f2aac663d4a%20%3D%20L.marker%28%0A%20%20%20%20%20%20%20%20%20%20%20%20%20%20%20%20%5B43.76968667%2C%2011.242858%5D%2C%0A%20%20%20%20%20%20%20%20%20%20%20%20%20%20%20%20%7B%7D%0A%20%20%20%20%20%20%20%20%20%20%20%20%29.addTo%28map_cb5ddea0a149466984ccacda88dfafab%29%3B%0A%20%20%20%20%20%20%20%20%0A%20%20%20%20%0A%20%20%20%20%20%20%20%20var%20popup_30ae40480f334293b1d0667482bbed10%20%3D%20L.popup%28%7B%22maxWidth%22%3A%20%22100%25%22%7D%29%3B%0A%0A%20%20%20%20%20%20%20%20%0A%20%20%20%20%20%20%20%20%20%20%20%20var%20html_fdb2a084ec5640e0bf736bcd60037d05%20%3D%20%24%28%60%3Cdiv%20id%3D%22html_fdb2a084ec5640e0bf736bcd60037d05%22%20style%3D%22width%3A%20100.0%25%3B%20height%3A%20100.0%25%3B%22%3E%20%20%20%20%20%20%20%20%20%3Cul%3E%20%20%20%20%20%20%20%20%20%20%20%20%20%3Cli%3E%3Cstrong%3EID%3A%20%3C/strong%3E8063%3C/li%3E%20%20%20%20%20%20%20%20%20%20%20%20%20%3Cli%3E%3Cstrong%3ESource%3A%20%3C/strong%3Enan%3C/li%3E%20%20%20%20%20%20%20%20%20%20%20%20%20%3Cli%3E%3Cstrong%3EName%3A%20%3C/strong%3Enan%3C/li%3E%20%20%20%20%20%20%20%20%20%3Cul%3E%20%20%20%20%20%3C/div%3E%60%29%5B0%5D%3B%0A%20%20%20%20%20%20%20%20%20%20%20%20popup_30ae40480f334293b1d0667482bbed10.setContent%28html_fdb2a084ec5640e0bf736bcd60037d05%29%3B%0A%20%20%20%20%20%20%20%20%0A%0A%20%20%20%20%20%20%20%20marker_a66b6091c275410586134f2aac663d4a.bindPopup%28popup_30ae40480f334293b1d0667482bbed10%29%0A%20%20%20%20%20%20%20%20%3B%0A%0A%20%20%20%20%20%20%20%20%0A%20%20%20%20%0A%20%20%20%20%0A%20%20%20%20%20%20%20%20%20%20%20%20var%20marker_f53bf5a2427041b8bc50609fd3413185%20%3D%20L.marker%28%0A%20%20%20%20%20%20%20%20%20%20%20%20%20%20%20%20%5B43.763872%2C%2011.245746%5D%2C%0A%20%20%20%20%20%20%20%20%20%20%20%20%20%20%20%20%7B%7D%0A%20%20%20%20%20%20%20%20%20%20%20%20%29.addTo%28map_cb5ddea0a149466984ccacda88dfafab%29%3B%0A%20%20%20%20%20%20%20%20%0A%20%20%20%20%0A%20%20%20%20%20%20%20%20var%20popup_8e61f3b8ff8446c5a430fe1eb5eefbbf%20%3D%20L.popup%28%7B%22maxWidth%22%3A%20%22100%25%22%7D%29%3B%0A%0A%20%20%20%20%20%20%20%20%0A%20%20%20%20%20%20%20%20%20%20%20%20var%20html_d2e28ef25b2c4c20aa92232dc51fa467%20%3D%20%24%28%60%3Cdiv%20id%3D%22html_d2e28ef25b2c4c20aa92232dc51fa467%22%20style%3D%22width%3A%20100.0%25%3B%20height%3A%20100.0%25%3B%22%3E%20%20%20%20%20%20%20%20%20%3Cul%3E%20%20%20%20%20%20%20%20%20%20%20%20%20%3Cli%3E%3Cstrong%3EID%3A%20%3C/strong%3E7160%3C/li%3E%20%20%20%20%20%20%20%20%20%20%20%20%20%3Cli%3E%3Cstrong%3ESource%3A%20%3C/strong%3EHenderson%20P%26C%20%2313%3C/li%3E%20%20%20%20%20%20%20%20%20%20%20%20%20%3Cli%3E%3Cstrong%3EName%3A%20%3C/strong%3Enan%3C/li%3E%20%20%20%20%20%20%20%20%20%3Cul%3E%20%20%20%20%20%3C/div%3E%60%29%5B0%5D%3B%0A%20%20%20%20%20%20%20%20%20%20%20%20popup_8e61f3b8ff8446c5a430fe1eb5eefbbf.setContent%28html_d2e28ef25b2c4c20aa92232dc51fa467%29%3B%0A%20%20%20%20%20%20%20%20%0A%0A%20%20%20%20%20%20%20%20marker_f53bf5a2427041b8bc50609fd3413185.bindPopup%28popup_8e61f3b8ff8446c5a430fe1eb5eefbbf%29%0A%20%20%20%20%20%20%20%20%3B%0A%0A%20%20%20%20%20%20%20%20%0A%20%20%20%20%0A%20%20%20%20%0A%20%20%20%20%20%20%20%20%20%20%20%20var%20marker_7ec07e8d91d7441a907428bd9c0d5004%20%3D%20L.marker%28%0A%20%20%20%20%20%20%20%20%20%20%20%20%20%20%20%20%5B43.76521889%2C%2011.24484333%5D%2C%0A%20%20%20%20%20%20%20%20%20%20%20%20%20%20%20%20%7B%7D%0A%20%20%20%20%20%20%20%20%20%20%20%20%29.addTo%28map_cb5ddea0a149466984ccacda88dfafab%29%3B%0A%20%20%20%20%20%20%20%20%0A%20%20%20%20%0A%20%20%20%20%20%20%20%20var%20popup_517dff81831a403fb24b2bb2cdb0e1c4%20%3D%20L.popup%28%7B%22maxWidth%22%3A%20%22100%25%22%7D%29%3B%0A%0A%20%20%20%20%20%20%20%20%0A%20%20%20%20%20%20%20%20%20%20%20%20var%20html_d18c3cb3d57d4988a4f0a9935996717a%20%3D%20%24%28%60%3Cdiv%20id%3D%22html_d18c3cb3d57d4988a4f0a9935996717a%22%20style%3D%22width%3A%20100.0%25%3B%20height%3A%20100.0%25%3B%22%3E%20%20%20%20%20%20%20%20%20%3Cul%3E%20%20%20%20%20%20%20%20%20%20%20%20%20%3Cli%3E%3Cstrong%3EID%3A%20%3C/strong%3E7322%3C/li%3E%20%20%20%20%20%20%20%20%20%20%20%20%20%3Cli%3E%3Cstrong%3ESource%3A%20%3C/strong%3EHenderson%20P%26C%20%2313%3C/li%3E%20%20%20%20%20%20%20%20%20%20%20%20%20%3Cli%3E%3Cstrong%3EName%3A%20%3C/strong%3Erivenditore%3C/li%3E%20%20%20%20%20%20%20%20%20%3Cul%3E%20%20%20%20%20%3C/div%3E%60%29%5B0%5D%3B%0A%20%20%20%20%20%20%20%20%20%20%20%20popup_517dff81831a403fb24b2bb2cdb0e1c4.setContent%28html_d18c3cb3d57d4988a4f0a9935996717a%29%3B%0A%20%20%20%20%20%20%20%20%0A%0A%20%20%20%20%20%20%20%20marker_7ec07e8d91d7441a907428bd9c0d5004.bindPopup%28popup_517dff81831a403fb24b2bb2cdb0e1c4%29%0A%20%20%20%20%20%20%20%20%3B%0A%0A%20%20%20%20%20%20%20%20%0A%20%20%20%20%0A%20%20%20%20%0A%20%20%20%20%20%20%20%20%20%20%20%20var%20marker_b1a2c84c4a3f4e5983563eb0387e2d9f%20%3D%20L.marker%28%0A%20%20%20%20%20%20%20%20%20%20%20%20%20%20%20%20%5B43.76386563%2C%2011.26206188%5D%2C%0A%20%20%20%20%20%20%20%20%20%20%20%20%20%20%20%20%7B%7D%0A%20%20%20%20%20%20%20%20%20%20%20%20%29.addTo%28map_cb5ddea0a149466984ccacda88dfafab%29%3B%0A%20%20%20%20%20%20%20%20%0A%20%20%20%20%0A%20%20%20%20%20%20%20%20var%20popup_e2e7f793d4c84039be87769210668109%20%3D%20L.popup%28%7B%22maxWidth%22%3A%20%22100%25%22%7D%29%3B%0A%0A%20%20%20%20%20%20%20%20%0A%20%20%20%20%20%20%20%20%20%20%20%20var%20html_bc9a4d05df7940f3bf96632f0a45f2f7%20%3D%20%24%28%60%3Cdiv%20id%3D%22html_bc9a4d05df7940f3bf96632f0a45f2f7%22%20style%3D%22width%3A%20100.0%25%3B%20height%3A%20100.0%25%3B%22%3E%20%20%20%20%20%20%20%20%20%3Cul%3E%20%20%20%20%20%20%20%20%20%20%20%20%20%3Cli%3E%3Cstrong%3EID%3A%20%3C/strong%3E6161%3C/li%3E%20%20%20%20%20%20%20%20%20%20%20%20%20%3Cli%3E%3Cstrong%3ESource%3A%20%3C/strong%3EHenderson%20P%26C%20%2313%3C/li%3E%20%20%20%20%20%20%20%20%20%20%20%20%20%3Cli%3E%3Cstrong%3EName%3A%20%3C/strong%3Enan%3C/li%3E%20%20%20%20%20%20%20%20%20%3Cul%3E%20%20%20%20%20%3C/div%3E%60%29%5B0%5D%3B%0A%20%20%20%20%20%20%20%20%20%20%20%20popup_e2e7f793d4c84039be87769210668109.setContent%28html_bc9a4d05df7940f3bf96632f0a45f2f7%29%3B%0A%20%20%20%20%20%20%20%20%0A%0A%20%20%20%20%20%20%20%20marker_b1a2c84c4a3f4e5983563eb0387e2d9f.bindPopup%28popup_e2e7f793d4c84039be87769210668109%29%0A%20%20%20%20%20%20%20%20%3B%0A%0A%20%20%20%20%20%20%20%20%0A%20%20%20%20%0A%20%20%20%20%0A%20%20%20%20%20%20%20%20%20%20%20%20var%20marker_4a3d8bfb3fcc41389a8770c93d253b64%20%3D%20L.marker%28%0A%20%20%20%20%20%20%20%20%20%20%20%20%20%20%20%20%5B43.78036243%2C%2011.25901252%5D%2C%0A%20%20%20%20%20%20%20%20%20%20%20%20%20%20%20%20%7B%7D%0A%20%20%20%20%20%20%20%20%20%20%20%20%29.addTo%28map_cb5ddea0a149466984ccacda88dfafab%29%3B%0A%20%20%20%20%20%20%20%20%0A%20%20%20%20%0A%20%20%20%20%20%20%20%20var%20popup_8be974a447e5407195745db2eb8c7250%20%3D%20L.popup%28%7B%22maxWidth%22%3A%20%22100%25%22%7D%29%3B%0A%0A%20%20%20%20%20%20%20%20%0A%20%20%20%20%20%20%20%20%20%20%20%20var%20html_990be365319d4d6e821bfe1951a39071%20%3D%20%24%28%60%3Cdiv%20id%3D%22html_990be365319d4d6e821bfe1951a39071%22%20style%3D%22width%3A%20100.0%25%3B%20height%3A%20100.0%25%3B%22%3E%20%20%20%20%20%20%20%20%20%3Cul%3E%20%20%20%20%20%20%20%20%20%20%20%20%20%3Cli%3E%3Cstrong%3EID%3A%20%3C/strong%3E1203%3C/li%3E%20%20%20%20%20%20%20%20%20%20%20%20%20%3Cli%3E%3Cstrong%3ESource%3A%20%3C/strong%3Enan%3C/li%3E%20%20%20%20%20%20%20%20%20%20%20%20%20%3Cli%3E%3Cstrong%3EName%3A%20%3C/strong%3Ecalzolaio%3C/li%3E%20%20%20%20%20%20%20%20%20%3Cul%3E%20%20%20%20%20%3C/div%3E%60%29%5B0%5D%3B%0A%20%20%20%20%20%20%20%20%20%20%20%20popup_8be974a447e5407195745db2eb8c7250.setContent%28html_990be365319d4d6e821bfe1951a39071%29%3B%0A%20%20%20%20%20%20%20%20%0A%0A%20%20%20%20%20%20%20%20marker_4a3d8bfb3fcc41389a8770c93d253b64.bindPopup%28popup_8be974a447e5407195745db2eb8c7250%29%0A%20%20%20%20%20%20%20%20%3B%0A%0A%20%20%20%20%20%20%20%20%0A%20%20%20%20%0A%20%20%20%20%0A%20%20%20%20%20%20%20%20%20%20%20%20var%20marker_5e185f5408c64ad698dc08cccb24585c%20%3D%20L.marker%28%0A%20%20%20%20%20%20%20%20%20%20%20%20%20%20%20%20%5B43.77592314%2C%2011.24932725%5D%2C%0A%20%20%20%20%20%20%20%20%20%20%20%20%20%20%20%20%7B%7D%0A%20%20%20%20%20%20%20%20%20%20%20%20%29.addTo%28map_cb5ddea0a149466984ccacda88dfafab%29%3B%0A%20%20%20%20%20%20%20%20%0A%20%20%20%20%0A%20%20%20%20%20%20%20%20var%20popup_139254e2e87c4e17a9e1ce5daf15bc5d%20%3D%20L.popup%28%7B%22maxWidth%22%3A%20%22100%25%22%7D%29%3B%0A%0A%20%20%20%20%20%20%20%20%0A%20%20%20%20%20%20%20%20%20%20%20%20var%20html_41e38f40dfa04d9883494cca998114d4%20%3D%20%24%28%60%3Cdiv%20id%3D%22html_41e38f40dfa04d9883494cca998114d4%22%20style%3D%22width%3A%20100.0%25%3B%20height%3A%20100.0%25%3B%22%3E%20%20%20%20%20%20%20%20%20%3Cul%3E%20%20%20%20%20%20%20%20%20%20%20%20%20%3Cli%3E%3Cstrong%3EID%3A%20%3C/strong%3E4441%3C/li%3E%20%20%20%20%20%20%20%20%20%20%20%20%20%3Cli%3E%3Cstrong%3ESource%3A%20%3C/strong%3Enan%3C/li%3E%20%20%20%20%20%20%20%20%20%20%20%20%20%3Cli%3E%3Cstrong%3EName%3A%20%3C/strong%3Enan%3C/li%3E%20%20%20%20%20%20%20%20%20%3Cul%3E%20%20%20%20%20%3C/div%3E%60%29%5B0%5D%3B%0A%20%20%20%20%20%20%20%20%20%20%20%20popup_139254e2e87c4e17a9e1ce5daf15bc5d.setContent%28html_41e38f40dfa04d9883494cca998114d4%29%3B%0A%20%20%20%20%20%20%20%20%0A%0A%20%20%20%20%20%20%20%20marker_5e185f5408c64ad698dc08cccb24585c.bindPopup%28popup_139254e2e87c4e17a9e1ce5daf15bc5d%29%0A%20%20%20%20%20%20%20%20%3B%0A%0A%20%20%20%20%20%20%20%20%0A%20%20%20%20%0A%20%20%20%20%0A%20%20%20%20%20%20%20%20%20%20%20%20var%20marker_19442b34eb884117866c2fbcabbbfab7%20%3D%20L.marker%28%0A%20%20%20%20%20%20%20%20%20%20%20%20%20%20%20%20%5B43.77368155%2C%2011.26281945%5D%2C%0A%20%20%20%20%20%20%20%20%20%20%20%20%20%20%20%20%7B%7D%0A%20%20%20%20%20%20%20%20%20%20%20%20%29.addTo%28map_cb5ddea0a149466984ccacda88dfafab%29%3B%0A%20%20%20%20%20%20%20%20%0A%20%20%20%20%0A%20%20%20%20%20%20%20%20var%20popup_e944d3bfd4cb4a6e9e2c4c9cfeb39388%20%3D%20L.popup%28%7B%22maxWidth%22%3A%20%22100%25%22%7D%29%3B%0A%0A%20%20%20%20%20%20%20%20%0A%20%20%20%20%20%20%20%20%20%20%20%20var%20html_b58be2829cd0442cba66e4a281b7b54a%20%3D%20%24%28%60%3Cdiv%20id%3D%22html_b58be2829cd0442cba66e4a281b7b54a%22%20style%3D%22width%3A%20100.0%25%3B%20height%3A%20100.0%25%3B%22%3E%20%20%20%20%20%20%20%20%20%3Cul%3E%20%20%20%20%20%20%20%20%20%20%20%20%20%3Cli%3E%3Cstrong%3EID%3A%20%3C/strong%3E2088%3C/li%3E%20%20%20%20%20%20%20%20%20%20%20%20%20%3Cli%3E%3Cstrong%3ESource%3A%20%3C/strong%3Enan%3C/li%3E%20%20%20%20%20%20%20%20%20%20%20%20%20%3Cli%3E%3Cstrong%3EName%3A%20%3C/strong%3Etessitore%3C/li%3E%20%20%20%20%20%20%20%20%20%3Cul%3E%20%20%20%20%20%3C/div%3E%60%29%5B0%5D%3B%0A%20%20%20%20%20%20%20%20%20%20%20%20popup_e944d3bfd4cb4a6e9e2c4c9cfeb39388.setContent%28html_b58be2829cd0442cba66e4a281b7b54a%29%3B%0A%20%20%20%20%20%20%20%20%0A%0A%20%20%20%20%20%20%20%20marker_19442b34eb884117866c2fbcabbbfab7.bindPopup%28popup_e944d3bfd4cb4a6e9e2c4c9cfeb39388%29%0A%20%20%20%20%20%20%20%20%3B%0A%0A%20%20%20%20%20%20%20%20%0A%20%20%20%20%0A%20%20%20%20%0A%20%20%20%20%20%20%20%20%20%20%20%20var%20marker_e113f2eaca8749458020bf046f1cbe2e%20%3D%20L.marker%28%0A%20%20%20%20%20%20%20%20%20%20%20%20%20%20%20%20%5B43.76489%2C%2011.244635%5D%2C%0A%20%20%20%20%20%20%20%20%20%20%20%20%20%20%20%20%7B%7D%0A%20%20%20%20%20%20%20%20%20%20%20%20%29.addTo%28map_cb5ddea0a149466984ccacda88dfafab%29%3B%0A%20%20%20%20%20%20%20%20%0A%20%20%20%20%0A%20%20%20%20%20%20%20%20var%20popup_ab3aab9fb5664ac1ad3596c4681ca8af%20%3D%20L.popup%28%7B%22maxWidth%22%3A%20%22100%25%22%7D%29%3B%0A%0A%20%20%20%20%20%20%20%20%0A%20%20%20%20%20%20%20%20%20%20%20%20var%20html_f8303218051a4fac95c0c8570146d17f%20%3D%20%24%28%60%3Cdiv%20id%3D%22html_f8303218051a4fac95c0c8570146d17f%22%20style%3D%22width%3A%20100.0%25%3B%20height%3A%20100.0%25%3B%22%3E%20%20%20%20%20%20%20%20%20%3Cul%3E%20%20%20%20%20%20%20%20%20%20%20%20%20%3Cli%3E%3Cstrong%3EID%3A%20%3C/strong%3E7389%3C/li%3E%20%20%20%20%20%20%20%20%20%20%20%20%20%3Cli%3E%3Cstrong%3ESource%3A%20%3C/strong%3EHenderson%20P%26C%20%23110%3C/li%3E%20%20%20%20%20%20%20%20%20%20%20%20%20%3Cli%3E%3Cstrong%3EName%3A%20%3C/strong%3Epettinagnolo%3C/li%3E%20%20%20%20%20%20%20%20%20%3Cul%3E%20%20%20%20%20%3C/div%3E%60%29%5B0%5D%3B%0A%20%20%20%20%20%20%20%20%20%20%20%20popup_ab3aab9fb5664ac1ad3596c4681ca8af.setContent%28html_f8303218051a4fac95c0c8570146d17f%29%3B%0A%20%20%20%20%20%20%20%20%0A%0A%20%20%20%20%20%20%20%20marker_e113f2eaca8749458020bf046f1cbe2e.bindPopup%28popup_ab3aab9fb5664ac1ad3596c4681ca8af%29%0A%20%20%20%20%20%20%20%20%3B%0A%0A%20%20%20%20%20%20%20%20%0A%20%20%20%20%0A%20%20%20%20%0A%20%20%20%20%20%20%20%20%20%20%20%20var%20marker_353d269d41f646689d714adba88f5038%20%3D%20L.marker%28%0A%20%20%20%20%20%20%20%20%20%20%20%20%20%20%20%20%5B43.76512667%2C%2011.24469333%5D%2C%0A%20%20%20%20%20%20%20%20%20%20%20%20%20%20%20%20%7B%7D%0A%20%20%20%20%20%20%20%20%20%20%20%20%29.addTo%28map_cb5ddea0a149466984ccacda88dfafab%29%3B%0A%20%20%20%20%20%20%20%20%0A%20%20%20%20%0A%20%20%20%20%20%20%20%20var%20popup_5953b5138c71413f8dc3a2df497cdbc7%20%3D%20L.popup%28%7B%22maxWidth%22%3A%20%22100%25%22%7D%29%3B%0A%0A%20%20%20%20%20%20%20%20%0A%20%20%20%20%20%20%20%20%20%20%20%20var%20html_b10839d6f6494917851506d8935a7e72%20%3D%20%24%28%60%3Cdiv%20id%3D%22html_b10839d6f6494917851506d8935a7e72%22%20style%3D%22width%3A%20100.0%25%3B%20height%3A%20100.0%25%3B%22%3E%20%20%20%20%20%20%20%20%20%3Cul%3E%20%20%20%20%20%20%20%20%20%20%20%20%20%3Cli%3E%3Cstrong%3EID%3A%20%3C/strong%3E7447%3C/li%3E%20%20%20%20%20%20%20%20%20%20%20%20%20%3Cli%3E%3Cstrong%3ESource%3A%20%3C/strong%3EHenderson%20P%26C%20%23110%3C/li%3E%20%20%20%20%20%20%20%20%20%20%20%20%20%3Cli%3E%3Cstrong%3EName%3A%20%3C/strong%3Etessitore%20di%20broccati%3C/li%3E%20%20%20%20%20%20%20%20%20%3Cul%3E%20%20%20%20%20%3C/div%3E%60%29%5B0%5D%3B%0A%20%20%20%20%20%20%20%20%20%20%20%20popup_5953b5138c71413f8dc3a2df497cdbc7.setContent%28html_b10839d6f6494917851506d8935a7e72%29%3B%0A%20%20%20%20%20%20%20%20%0A%0A%20%20%20%20%20%20%20%20marker_353d269d41f646689d714adba88f5038.bindPopup%28popup_5953b5138c71413f8dc3a2df497cdbc7%29%0A%20%20%20%20%20%20%20%20%3B%0A%0A%20%20%20%20%20%20%20%20%0A%20%20%20%20%0A%20%20%20%20%0A%20%20%20%20%20%20%20%20%20%20%20%20var%20marker_2ed4dbf219d442c99dd355b12d9646b8%20%3D%20L.marker%28%0A%20%20%20%20%20%20%20%20%20%20%20%20%20%20%20%20%5B43.767224%2C%2011.2454736%5D%2C%0A%20%20%20%20%20%20%20%20%20%20%20%20%20%20%20%20%7B%7D%0A%20%20%20%20%20%20%20%20%20%20%20%20%29.addTo%28map_cb5ddea0a149466984ccacda88dfafab%29%3B%0A%20%20%20%20%20%20%20%20%0A%20%20%20%20%0A%20%20%20%20%20%20%20%20var%20popup_2789047649d540a382bf9832095568a0%20%3D%20L.popup%28%7B%22maxWidth%22%3A%20%22100%25%22%7D%29%3B%0A%0A%20%20%20%20%20%20%20%20%0A%20%20%20%20%20%20%20%20%20%20%20%20var%20html_f080e34f04f2464fa60c30b7e783044b%20%3D%20%24%28%60%3Cdiv%20id%3D%22html_f080e34f04f2464fa60c30b7e783044b%22%20style%3D%22width%3A%20100.0%25%3B%20height%3A%20100.0%25%3B%22%3E%20%20%20%20%20%20%20%20%20%3Cul%3E%20%20%20%20%20%20%20%20%20%20%20%20%20%3Cli%3E%3Cstrong%3EID%3A%20%3C/strong%3E7555%3C/li%3E%20%20%20%20%20%20%20%20%20%20%20%20%20%3Cli%3E%3Cstrong%3ESource%3A%20%3C/strong%3EHenderson%20P%26C%20%23110%3C/li%3E%20%20%20%20%20%20%20%20%20%20%20%20%20%3Cli%3E%3Cstrong%3EName%3A%20%3C/strong%3Enan%3C/li%3E%20%20%20%20%20%20%20%20%20%3Cul%3E%20%20%20%20%20%3C/div%3E%60%29%5B0%5D%3B%0A%20%20%20%20%20%20%20%20%20%20%20%20popup_2789047649d540a382bf9832095568a0.setContent%28html_f080e34f04f2464fa60c30b7e783044b%29%3B%0A%20%20%20%20%20%20%20%20%0A%0A%20%20%20%20%20%20%20%20marker_2ed4dbf219d442c99dd355b12d9646b8.bindPopup%28popup_2789047649d540a382bf9832095568a0%29%0A%20%20%20%20%20%20%20%20%3B%0A%0A%20%20%20%20%20%20%20%20%0A%20%20%20%20%0A%20%20%20%20%0A%20%20%20%20%20%20%20%20%20%20%20%20var%20marker_5923e76586064e53b656c4678d23b279%20%3D%20L.marker%28%0A%20%20%20%20%20%20%20%20%20%20%20%20%20%20%20%20%5B43.76836733%2C%2011.26484133%5D%2C%0A%20%20%20%20%20%20%20%20%20%20%20%20%20%20%20%20%7B%7D%0A%20%20%20%20%20%20%20%20%20%20%20%20%29.addTo%28map_cb5ddea0a149466984ccacda88dfafab%29%3B%0A%20%20%20%20%20%20%20%20%0A%20%20%20%20%0A%20%20%20%20%20%20%20%20var%20popup_ab6003d83dc54b57b5b8fb9ee548fd38%20%3D%20L.popup%28%7B%22maxWidth%22%3A%20%22100%25%22%7D%29%3B%0A%0A%20%20%20%20%20%20%20%20%0A%20%20%20%20%20%20%20%20%20%20%20%20var%20html_352dced94d5b4321a24c38a92ae947d7%20%3D%20%24%28%60%3Cdiv%20id%3D%22html_352dced94d5b4321a24c38a92ae947d7%22%20style%3D%22width%3A%20100.0%25%3B%20height%3A%20100.0%25%3B%22%3E%20%20%20%20%20%20%20%20%20%3Cul%3E%20%20%20%20%20%20%20%20%20%20%20%20%20%3Cli%3E%3Cstrong%3EID%3A%20%3C/strong%3E3069%3C/li%3E%20%20%20%20%20%20%20%20%20%20%20%20%20%3Cli%3E%3Cstrong%3ESource%3A%20%3C/strong%3EHenderson%20P%26C%20%23102%3C/li%3E%20%20%20%20%20%20%20%20%20%20%20%20%20%3Cli%3E%3Cstrong%3EName%3A%20%3C/strong%3Eportatore%3C/li%3E%20%20%20%20%20%20%20%20%20%3Cul%3E%20%20%20%20%20%3C/div%3E%60%29%5B0%5D%3B%0A%20%20%20%20%20%20%20%20%20%20%20%20popup_ab6003d83dc54b57b5b8fb9ee548fd38.setContent%28html_352dced94d5b4321a24c38a92ae947d7%29%3B%0A%20%20%20%20%20%20%20%20%0A%0A%20%20%20%20%20%20%20%20marker_5923e76586064e53b656c4678d23b279.bindPopup%28popup_ab6003d83dc54b57b5b8fb9ee548fd38%29%0A%20%20%20%20%20%20%20%20%3B%0A%0A%20%20%20%20%20%20%20%20%0A%20%20%20%20%0A%20%20%20%20%0A%20%20%20%20%20%20%20%20%20%20%20%20var%20marker_9bf7c3f202084771998e1013f16c12f0%20%3D%20L.marker%28%0A%20%20%20%20%20%20%20%20%20%20%20%20%20%20%20%20%5B43.76945%2C%2011.26547%5D%2C%0A%20%20%20%20%20%20%20%20%20%20%20%20%20%20%20%20%7B%7D%0A%20%20%20%20%20%20%20%20%20%20%20%20%29.addTo%28map_cb5ddea0a149466984ccacda88dfafab%29%3B%0A%20%20%20%20%20%20%20%20%0A%20%20%20%20%0A%20%20%20%20%20%20%20%20var%20popup_87bdec1a35c44e2381d903e0e1c9de9c%20%3D%20L.popup%28%7B%22maxWidth%22%3A%20%22100%25%22%7D%29%3B%0A%0A%20%20%20%20%20%20%20%20%0A%20%20%20%20%20%20%20%20%20%20%20%20var%20html_57bbf8187bab42ee91ac7db61ab355b1%20%3D%20%24%28%60%3Cdiv%20id%3D%22html_57bbf8187bab42ee91ac7db61ab355b1%22%20style%3D%22width%3A%20100.0%25%3B%20height%3A%20100.0%25%3B%22%3E%20%20%20%20%20%20%20%20%20%3Cul%3E%20%20%20%20%20%20%20%20%20%20%20%20%20%3Cli%3E%3Cstrong%3EID%3A%20%3C/strong%3E3071%3C/li%3E%20%20%20%20%20%20%20%20%20%20%20%20%20%3Cli%3E%3Cstrong%3ESource%3A%20%3C/strong%3EHenderson%20P%26C%20%23102%3C/li%3E%20%20%20%20%20%20%20%20%20%20%20%20%20%3Cli%3E%3Cstrong%3EName%3A%20%3C/strong%3Ebeccaio%3C/li%3E%20%20%20%20%20%20%20%20%20%3Cul%3E%20%20%20%20%20%3C/div%3E%60%29%5B0%5D%3B%0A%20%20%20%20%20%20%20%20%20%20%20%20popup_87bdec1a35c44e2381d903e0e1c9de9c.setContent%28html_57bbf8187bab42ee91ac7db61ab355b1%29%3B%0A%20%20%20%20%20%20%20%20%0A%0A%20%20%20%20%20%20%20%20marker_9bf7c3f202084771998e1013f16c12f0.bindPopup%28popup_87bdec1a35c44e2381d903e0e1c9de9c%29%0A%20%20%20%20%20%20%20%20%3B%0A%0A%20%20%20%20%20%20%20%20%0A%20%20%20%20%0A%20%20%20%20%0A%20%20%20%20%20%20%20%20%20%20%20%20var%20marker_1cc9c952f8094bb79e69e0591d4533c7%20%3D%20L.marker%28%0A%20%20%20%20%20%20%20%20%20%20%20%20%20%20%20%20%5B43.76851667%2C%2011.26492667%5D%2C%0A%20%20%20%20%20%20%20%20%20%20%20%20%20%20%20%20%7B%7D%0A%20%20%20%20%20%20%20%20%20%20%20%20%29.addTo%28map_cb5ddea0a149466984ccacda88dfafab%29%3B%0A%20%20%20%20%20%20%20%20%0A%20%20%20%20%0A%20%20%20%20%20%20%20%20var%20popup_dcbb009e4b4f4485869f6d8eb21bc59c%20%3D%20L.popup%28%7B%22maxWidth%22%3A%20%22100%25%22%7D%29%3B%0A%0A%20%20%20%20%20%20%20%20%0A%20%20%20%20%20%20%20%20%20%20%20%20var%20html_a355a982b9c743c8bbf641f024ff0d67%20%3D%20%24%28%60%3Cdiv%20id%3D%22html_a355a982b9c743c8bbf641f024ff0d67%22%20style%3D%22width%3A%20100.0%25%3B%20height%3A%20100.0%25%3B%22%3E%20%20%20%20%20%20%20%20%20%3Cul%3E%20%20%20%20%20%20%20%20%20%20%20%20%20%3Cli%3E%3Cstrong%3EID%3A%20%3C/strong%3E3155%3C/li%3E%20%20%20%20%20%20%20%20%20%20%20%20%20%3Cli%3E%3Cstrong%3ESource%3A%20%3C/strong%3EHenderson%20P%26C%20%23102%3C/li%3E%20%20%20%20%20%20%20%20%20%20%20%20%20%3Cli%3E%3Cstrong%3EName%3A%20%3C/strong%3Eservo%3C/li%3E%20%20%20%20%20%20%20%20%20%3Cul%3E%20%20%20%20%20%3C/div%3E%60%29%5B0%5D%3B%0A%20%20%20%20%20%20%20%20%20%20%20%20popup_dcbb009e4b4f4485869f6d8eb21bc59c.setContent%28html_a355a982b9c743c8bbf641f024ff0d67%29%3B%0A%20%20%20%20%20%20%20%20%0A%0A%20%20%20%20%20%20%20%20marker_1cc9c952f8094bb79e69e0591d4533c7.bindPopup%28popup_dcbb009e4b4f4485869f6d8eb21bc59c%29%0A%20%20%20%20%20%20%20%20%3B%0A%0A%20%20%20%20%20%20%20%20%0A%20%20%20%20%0A%20%20%20%20%0A%20%20%20%20%20%20%20%20%20%20%20%20var%20marker_95e05955c11843c59f86750f320ea088%20%3D%20L.marker%28%0A%20%20%20%20%20%20%20%20%20%20%20%20%20%20%20%20%5B43.768442%2C%2011.264884%5D%2C%0A%20%20%20%20%20%20%20%20%20%20%20%20%20%20%20%20%7B%7D%0A%20%20%20%20%20%20%20%20%20%20%20%20%29.addTo%28map_cb5ddea0a149466984ccacda88dfafab%29%3B%0A%20%20%20%20%20%20%20%20%0A%20%20%20%20%0A%20%20%20%20%20%20%20%20var%20popup_5f3682e5293a42deb939c821109153d7%20%3D%20L.popup%28%7B%22maxWidth%22%3A%20%22100%25%22%7D%29%3B%0A%0A%20%20%20%20%20%20%20%20%0A%20%20%20%20%20%20%20%20%20%20%20%20var%20html_86ad51d92e644e26adf84811b0511273%20%3D%20%24%28%60%3Cdiv%20id%3D%22html_86ad51d92e644e26adf84811b0511273%22%20style%3D%22width%3A%20100.0%25%3B%20height%3A%20100.0%25%3B%22%3E%20%20%20%20%20%20%20%20%20%3Cul%3E%20%20%20%20%20%20%20%20%20%20%20%20%20%3Cli%3E%3Cstrong%3EID%3A%20%3C/strong%3E3156%3C/li%3E%20%20%20%20%20%20%20%20%20%20%20%20%20%3Cli%3E%3Cstrong%3ESource%3A%20%3C/strong%3EHenderson%20P%26C%20%23102%3C/li%3E%20%20%20%20%20%20%20%20%20%20%20%20%20%3Cli%3E%3Cstrong%3EName%3A%20%3C/strong%3Etessitore%20di%20drappi%3C/li%3E%20%20%20%20%20%20%20%20%20%3Cul%3E%20%20%20%20%20%3C/div%3E%60%29%5B0%5D%3B%0A%20%20%20%20%20%20%20%20%20%20%20%20popup_5f3682e5293a42deb939c821109153d7.setContent%28html_86ad51d92e644e26adf84811b0511273%29%3B%0A%20%20%20%20%20%20%20%20%0A%0A%20%20%20%20%20%20%20%20marker_95e05955c11843c59f86750f320ea088.bindPopup%28popup_5f3682e5293a42deb939c821109153d7%29%0A%20%20%20%20%20%20%20%20%3B%0A%0A%20%20%20%20%20%20%20%20%0A%20%20%20%20%0A%20%20%20%20%0A%20%20%20%20%20%20%20%20%20%20%20%20var%20marker_4a19db2416314a609a6286192d5caa8b%20%3D%20L.marker%28%0A%20%20%20%20%20%20%20%20%20%20%20%20%20%20%20%20%5B43.76833%2C%2011.26482%5D%2C%0A%20%20%20%20%20%20%20%20%20%20%20%20%20%20%20%20%7B%7D%0A%20%20%20%20%20%20%20%20%20%20%20%20%29.addTo%28map_cb5ddea0a149466984ccacda88dfafab%29%3B%0A%20%20%20%20%20%20%20%20%0A%20%20%20%20%0A%20%20%20%20%20%20%20%20var%20popup_eed71fe12afb406f971fefea5f955797%20%3D%20L.popup%28%7B%22maxWidth%22%3A%20%22100%25%22%7D%29%3B%0A%0A%20%20%20%20%20%20%20%20%0A%20%20%20%20%20%20%20%20%20%20%20%20var%20html_1f918df1f6b440bdb16e73992bfda005%20%3D%20%24%28%60%3Cdiv%20id%3D%22html_1f918df1f6b440bdb16e73992bfda005%22%20style%3D%22width%3A%20100.0%25%3B%20height%3A%20100.0%25%3B%22%3E%20%20%20%20%20%20%20%20%20%3Cul%3E%20%20%20%20%20%20%20%20%20%20%20%20%20%3Cli%3E%3Cstrong%3EID%3A%20%3C/strong%3E3157%3C/li%3E%20%20%20%20%20%20%20%20%20%20%20%20%20%3Cli%3E%3Cstrong%3ESource%3A%20%3C/strong%3EHenderson%20P%26C%20%23102%3C/li%3E%20%20%20%20%20%20%20%20%20%20%20%20%20%3Cli%3E%3Cstrong%3EName%3A%20%3C/strong%3Elegnaiuolo%3C/li%3E%20%20%20%20%20%20%20%20%20%3Cul%3E%20%20%20%20%20%3C/div%3E%60%29%5B0%5D%3B%0A%20%20%20%20%20%20%20%20%20%20%20%20popup_eed71fe12afb406f971fefea5f955797.setContent%28html_1f918df1f6b440bdb16e73992bfda005%29%3B%0A%20%20%20%20%20%20%20%20%0A%0A%20%20%20%20%20%20%20%20marker_4a19db2416314a609a6286192d5caa8b.bindPopup%28popup_eed71fe12afb406f971fefea5f955797%29%0A%20%20%20%20%20%20%20%20%3B%0A%0A%20%20%20%20%20%20%20%20%0A%20%20%20%20%0A%20%20%20%20%0A%20%20%20%20%20%20%20%20%20%20%20%20var%20marker_0d7a2195de2a4d34891f48a88344b313%20%3D%20L.marker%28%0A%20%20%20%20%20%20%20%20%20%20%20%20%20%20%20%20%5B43.76821%2C%2011.26524%5D%2C%0A%20%20%20%20%20%20%20%20%20%20%20%20%20%20%20%20%7B%7D%0A%20%20%20%20%20%20%20%20%20%20%20%20%29.addTo%28map_cb5ddea0a149466984ccacda88dfafab%29%3B%0A%20%20%20%20%20%20%20%20%0A%20%20%20%20%0A%20%20%20%20%20%20%20%20var%20popup_40f064b2bdab4c7aa6264df892d7ccff%20%3D%20L.popup%28%7B%22maxWidth%22%3A%20%22100%25%22%7D%29%3B%0A%0A%20%20%20%20%20%20%20%20%0A%20%20%20%20%20%20%20%20%20%20%20%20var%20html_74e1f2c983534ff892f57fe6ff02da76%20%3D%20%24%28%60%3Cdiv%20id%3D%22html_74e1f2c983534ff892f57fe6ff02da76%22%20style%3D%22width%3A%20100.0%25%3B%20height%3A%20100.0%25%3B%22%3E%20%20%20%20%20%20%20%20%20%3Cul%3E%20%20%20%20%20%20%20%20%20%20%20%20%20%3Cli%3E%3Cstrong%3EID%3A%20%3C/strong%3E3158%3C/li%3E%20%20%20%20%20%20%20%20%20%20%20%20%20%3Cli%3E%3Cstrong%3ESource%3A%20%3C/strong%3EHenderson%20P%26C%20%23102%3C/li%3E%20%20%20%20%20%20%20%20%20%20%20%20%20%3Cli%3E%3Cstrong%3EName%3A%20%3C/strong%3Enan%3C/li%3E%20%20%20%20%20%20%20%20%20%3Cul%3E%20%20%20%20%20%3C/div%3E%60%29%5B0%5D%3B%0A%20%20%20%20%20%20%20%20%20%20%20%20popup_40f064b2bdab4c7aa6264df892d7ccff.setContent%28html_74e1f2c983534ff892f57fe6ff02da76%29%3B%0A%20%20%20%20%20%20%20%20%0A%0A%20%20%20%20%20%20%20%20marker_0d7a2195de2a4d34891f48a88344b313.bindPopup%28popup_40f064b2bdab4c7aa6264df892d7ccff%29%0A%20%20%20%20%20%20%20%20%3B%0A%0A%20%20%20%20%20%20%20%20%0A%20%20%20%20%0A%20%20%20%20%0A%20%20%20%20%20%20%20%20%20%20%20%20var%20marker_c971303cfd5f465dbd0cf2234edfcb24%20%3D%20L.marker%28%0A%20%20%20%20%20%20%20%20%20%20%20%20%20%20%20%20%5B43.77019%2C%2011.26441%5D%2C%0A%20%20%20%20%20%20%20%20%20%20%20%20%20%20%20%20%7B%7D%0A%20%20%20%20%20%20%20%20%20%20%20%20%29.addTo%28map_cb5ddea0a149466984ccacda88dfafab%29%3B%0A%20%20%20%20%20%20%20%20%0A%20%20%20%20%0A%20%20%20%20%20%20%20%20var%20popup_87fd9d21dda240789cbd39e922cf562e%20%3D%20L.popup%28%7B%22maxWidth%22%3A%20%22100%25%22%7D%29%3B%0A%0A%20%20%20%20%20%20%20%20%0A%20%20%20%20%20%20%20%20%20%20%20%20var%20html_a8dfc64eea514e51b46d71be65b6ebcf%20%3D%20%24%28%60%3Cdiv%20id%3D%22html_a8dfc64eea514e51b46d71be65b6ebcf%22%20style%3D%22width%3A%20100.0%25%3B%20height%3A%20100.0%25%3B%22%3E%20%20%20%20%20%20%20%20%20%3Cul%3E%20%20%20%20%20%20%20%20%20%20%20%20%20%3Cli%3E%3Cstrong%3EID%3A%20%3C/strong%3E3177%3C/li%3E%20%20%20%20%20%20%20%20%20%20%20%20%20%3Cli%3E%3Cstrong%3ESource%3A%20%3C/strong%3EHenderson%20P%26C%20%23102%3C/li%3E%20%20%20%20%20%20%20%20%20%20%20%20%20%3Cli%3E%3Cstrong%3EName%3A%20%3C/strong%3Ecartolaio%3C/li%3E%20%20%20%20%20%20%20%20%20%3Cul%3E%20%20%20%20%20%3C/div%3E%60%29%5B0%5D%3B%0A%20%20%20%20%20%20%20%20%20%20%20%20popup_87fd9d21dda240789cbd39e922cf562e.setContent%28html_a8dfc64eea514e51b46d71be65b6ebcf%29%3B%0A%20%20%20%20%20%20%20%20%0A%0A%20%20%20%20%20%20%20%20marker_c971303cfd5f465dbd0cf2234edfcb24.bindPopup%28popup_87fd9d21dda240789cbd39e922cf562e%29%0A%20%20%20%20%20%20%20%20%3B%0A%0A%20%20%20%20%20%20%20%20%0A%20%20%20%20%0A%20%20%20%20%0A%20%20%20%20%20%20%20%20%20%20%20%20var%20marker_9491c1636dce462282cf566cb09ba657%20%3D%20L.marker%28%0A%20%20%20%20%20%20%20%20%20%20%20%20%20%20%20%20%5B43.76840467%2C%2011.26486267%5D%2C%0A%20%20%20%20%20%20%20%20%20%20%20%20%20%20%20%20%7B%7D%0A%20%20%20%20%20%20%20%20%20%20%20%20%29.addTo%28map_cb5ddea0a149466984ccacda88dfafab%29%3B%0A%20%20%20%20%20%20%20%20%0A%20%20%20%20%0A%20%20%20%20%20%20%20%20var%20popup_ed5c31b3eecd4b269c1f0b27bf02ca3d%20%3D%20L.popup%28%7B%22maxWidth%22%3A%20%22100%25%22%7D%29%3B%0A%0A%20%20%20%20%20%20%20%20%0A%20%20%20%20%20%20%20%20%20%20%20%20var%20html_b8c5abb9966543fc8aa2d08fe6f99fe5%20%3D%20%24%28%60%3Cdiv%20id%3D%22html_b8c5abb9966543fc8aa2d08fe6f99fe5%22%20style%3D%22width%3A%20100.0%25%3B%20height%3A%20100.0%25%3B%22%3E%20%20%20%20%20%20%20%20%20%3Cul%3E%20%20%20%20%20%20%20%20%20%20%20%20%20%3Cli%3E%3Cstrong%3EID%3A%20%3C/strong%3E3194%3C/li%3E%20%20%20%20%20%20%20%20%20%20%20%20%20%3Cli%3E%3Cstrong%3ESource%3A%20%3C/strong%3EHenderson%20P%26C%20%23102%3C/li%3E%20%20%20%20%20%20%20%20%20%20%20%20%20%3Cli%3E%3Cstrong%3EName%3A%20%3C/strong%3Enan%3C/li%3E%20%20%20%20%20%20%20%20%20%3Cul%3E%20%20%20%20%20%3C/div%3E%60%29%5B0%5D%3B%0A%20%20%20%20%20%20%20%20%20%20%20%20popup_ed5c31b3eecd4b269c1f0b27bf02ca3d.setContent%28html_b8c5abb9966543fc8aa2d08fe6f99fe5%29%3B%0A%20%20%20%20%20%20%20%20%0A%0A%20%20%20%20%20%20%20%20marker_9491c1636dce462282cf566cb09ba657.bindPopup%28popup_ed5c31b3eecd4b269c1f0b27bf02ca3d%29%0A%20%20%20%20%20%20%20%20%3B%0A%0A%20%20%20%20%20%20%20%20%0A%20%20%20%20%0A%20%20%20%20%0A%20%20%20%20%20%20%20%20%20%20%20%20var%20marker_abcd6128ea2c497b95b8a9d63bf50247%20%3D%20L.marker%28%0A%20%20%20%20%20%20%20%20%20%20%20%20%20%20%20%20%5B43.76829%2C%2011.26496%5D%2C%0A%20%20%20%20%20%20%20%20%20%20%20%20%20%20%20%20%7B%7D%0A%20%20%20%20%20%20%20%20%20%20%20%20%29.addTo%28map_cb5ddea0a149466984ccacda88dfafab%29%3B%0A%20%20%20%20%20%20%20%20%0A%20%20%20%20%0A%20%20%20%20%20%20%20%20var%20popup_d836cd8c6fec4c2f87971f69ba3a6db5%20%3D%20L.popup%28%7B%22maxWidth%22%3A%20%22100%25%22%7D%29%3B%0A%0A%20%20%20%20%20%20%20%20%0A%20%20%20%20%20%20%20%20%20%20%20%20var%20html_83aa5ced4031411cbb3f7690710bdf12%20%3D%20%24%28%60%3Cdiv%20id%3D%22html_83aa5ced4031411cbb3f7690710bdf12%22%20style%3D%22width%3A%20100.0%25%3B%20height%3A%20100.0%25%3B%22%3E%20%20%20%20%20%20%20%20%20%3Cul%3E%20%20%20%20%20%20%20%20%20%20%20%20%20%3Cli%3E%3Cstrong%3EID%3A%20%3C/strong%3E3195%3C/li%3E%20%20%20%20%20%20%20%20%20%20%20%20%20%3Cli%3E%3Cstrong%3ESource%3A%20%3C/strong%3EHenderson%20P%26C%20%23102%3C/li%3E%20%20%20%20%20%20%20%20%20%20%20%20%20%3Cli%3E%3Cstrong%3EName%3A%20%3C/strong%3Enan%3C/li%3E%20%20%20%20%20%20%20%20%20%3Cul%3E%20%20%20%20%20%3C/div%3E%60%29%5B0%5D%3B%0A%20%20%20%20%20%20%20%20%20%20%20%20popup_d836cd8c6fec4c2f87971f69ba3a6db5.setContent%28html_83aa5ced4031411cbb3f7690710bdf12%29%3B%0A%20%20%20%20%20%20%20%20%0A%0A%20%20%20%20%20%20%20%20marker_abcd6128ea2c497b95b8a9d63bf50247.bindPopup%28popup_d836cd8c6fec4c2f87971f69ba3a6db5%29%0A%20%20%20%20%20%20%20%20%3B%0A%0A%20%20%20%20%20%20%20%20%0A%20%20%20%20%0A%20%20%20%20%0A%20%20%20%20%20%20%20%20%20%20%20%20var%20marker_bd3d7fed7d46490fbda6d5fcca4c30b8%20%3D%20L.marker%28%0A%20%20%20%20%20%20%20%20%20%20%20%20%20%20%20%20%5B43.76847933%2C%2011.26490533%5D%2C%0A%20%20%20%20%20%20%20%20%20%20%20%20%20%20%20%20%7B%7D%0A%20%20%20%20%20%20%20%20%20%20%20%20%29.addTo%28map_cb5ddea0a149466984ccacda88dfafab%29%3B%0A%20%20%20%20%20%20%20%20%0A%20%20%20%20%0A%20%20%20%20%20%20%20%20var%20popup_6b77c39dd3ea4beb9512500d13255dce%20%3D%20L.popup%28%7B%22maxWidth%22%3A%20%22100%25%22%7D%29%3B%0A%0A%20%20%20%20%20%20%20%20%0A%20%20%20%20%20%20%20%20%20%20%20%20var%20html_23d70c13346b49e9917dca6f79c83bfe%20%3D%20%24%28%60%3Cdiv%20id%3D%22html_23d70c13346b49e9917dca6f79c83bfe%22%20style%3D%22width%3A%20100.0%25%3B%20height%3A%20100.0%25%3B%22%3E%20%20%20%20%20%20%20%20%20%3Cul%3E%20%20%20%20%20%20%20%20%20%20%20%20%20%3Cli%3E%3Cstrong%3EID%3A%20%3C/strong%3E3274%3C/li%3E%20%20%20%20%20%20%20%20%20%20%20%20%20%3Cli%3E%3Cstrong%3ESource%3A%20%3C/strong%3EHenderson%20P%26C%20%23102%3C/li%3E%20%20%20%20%20%20%20%20%20%20%20%20%20%3Cli%3E%3Cstrong%3EName%3A%20%3C/strong%3Ebattilano%3C/li%3E%20%20%20%20%20%20%20%20%20%3Cul%3E%20%20%20%20%20%3C/div%3E%60%29%5B0%5D%3B%0A%20%20%20%20%20%20%20%20%20%20%20%20popup_6b77c39dd3ea4beb9512500d13255dce.setContent%28html_23d70c13346b49e9917dca6f79c83bfe%29%3B%0A%20%20%20%20%20%20%20%20%0A%0A%20%20%20%20%20%20%20%20marker_bd3d7fed7d46490fbda6d5fcca4c30b8.bindPopup%28popup_6b77c39dd3ea4beb9512500d13255dce%29%0A%20%20%20%20%20%20%20%20%3B%0A%0A%20%20%20%20%20%20%20%20%0A%20%20%20%20%0A%20%20%20%20%0A%20%20%20%20%20%20%20%20%20%20%20%20var%20marker_0267f2678c9547acba25ebe977209f6c%20%3D%20L.marker%28%0A%20%20%20%20%20%20%20%20%20%20%20%20%20%20%20%20%5B43.76886%2C%2011.265%5D%2C%0A%20%20%20%20%20%20%20%20%20%20%20%20%20%20%20%20%7B%7D%0A%20%20%20%20%20%20%20%20%20%20%20%20%29.addTo%28map_cb5ddea0a149466984ccacda88dfafab%29%3B%0A%20%20%20%20%20%20%20%20%0A%20%20%20%20%0A%20%20%20%20%20%20%20%20var%20popup_bcf73acbb4074d3980edd9957eac5fd8%20%3D%20L.popup%28%7B%22maxWidth%22%3A%20%22100%25%22%7D%29%3B%0A%0A%20%20%20%20%20%20%20%20%0A%20%20%20%20%20%20%20%20%20%20%20%20var%20html_3ab0c914ed3e4785ad2e28295920be37%20%3D%20%24%28%60%3Cdiv%20id%3D%22html_3ab0c914ed3e4785ad2e28295920be37%22%20style%3D%22width%3A%20100.0%25%3B%20height%3A%20100.0%25%3B%22%3E%20%20%20%20%20%20%20%20%20%3Cul%3E%20%20%20%20%20%20%20%20%20%20%20%20%20%3Cli%3E%3Cstrong%3EID%3A%20%3C/strong%3E3384%3C/li%3E%20%20%20%20%20%20%20%20%20%20%20%20%20%3Cli%3E%3Cstrong%3ESource%3A%20%3C/strong%3EHenderson%20P%26C%20%23102%3C/li%3E%20%20%20%20%20%20%20%20%20%20%20%20%20%3Cli%3E%3Cstrong%3EName%3A%20%3C/strong%3Evotapozzi%3C/li%3E%20%20%20%20%20%20%20%20%20%3Cul%3E%20%20%20%20%20%3C/div%3E%60%29%5B0%5D%3B%0A%20%20%20%20%20%20%20%20%20%20%20%20popup_bcf73acbb4074d3980edd9957eac5fd8.setContent%28html_3ab0c914ed3e4785ad2e28295920be37%29%3B%0A%20%20%20%20%20%20%20%20%0A%0A%20%20%20%20%20%20%20%20marker_0267f2678c9547acba25ebe977209f6c.bindPopup%28popup_bcf73acbb4074d3980edd9957eac5fd8%29%0A%20%20%20%20%20%20%20%20%3B%0A%0A%20%20%20%20%20%20%20%20%0A%20%20%20%20%0A%20%20%20%20%0A%20%20%20%20%20%20%20%20%20%20%20%20var%20marker_d8b902989ed54a5b88ef91ae63cfbf9d%20%3D%20L.marker%28%0A%20%20%20%20%20%20%20%20%20%20%20%20%20%20%20%20%5B43.76825%2C%2011.2651%5D%2C%0A%20%20%20%20%20%20%20%20%20%20%20%20%20%20%20%20%7B%7D%0A%20%20%20%20%20%20%20%20%20%20%20%20%29.addTo%28map_cb5ddea0a149466984ccacda88dfafab%29%3B%0A%20%20%20%20%20%20%20%20%0A%20%20%20%20%0A%20%20%20%20%20%20%20%20var%20popup_e4206ec1b1f4497897c7f167bede180f%20%3D%20L.popup%28%7B%22maxWidth%22%3A%20%22100%25%22%7D%29%3B%0A%0A%20%20%20%20%20%20%20%20%0A%20%20%20%20%20%20%20%20%20%20%20%20var%20html_7199f06daa08414488672095a130e8bf%20%3D%20%24%28%60%3Cdiv%20id%3D%22html_7199f06daa08414488672095a130e8bf%22%20style%3D%22width%3A%20100.0%25%3B%20height%3A%20100.0%25%3B%22%3E%20%20%20%20%20%20%20%20%20%3Cul%3E%20%20%20%20%20%20%20%20%20%20%20%20%20%3Cli%3E%3Cstrong%3EID%3A%20%3C/strong%3E3385%3C/li%3E%20%20%20%20%20%20%20%20%20%20%20%20%20%3Cli%3E%3Cstrong%3ESource%3A%20%3C/strong%3EHenderson%20P%26C%20%23102%3C/li%3E%20%20%20%20%20%20%20%20%20%20%20%20%20%3Cli%3E%3Cstrong%3EName%3A%20%3C/strong%3Espedaliero%3C/li%3E%20%20%20%20%20%20%20%20%20%3Cul%3E%20%20%20%20%20%3C/div%3E%60%29%5B0%5D%3B%0A%20%20%20%20%20%20%20%20%20%20%20%20popup_e4206ec1b1f4497897c7f167bede180f.setContent%28html_7199f06daa08414488672095a130e8bf%29%3B%0A%20%20%20%20%20%20%20%20%0A%0A%20%20%20%20%20%20%20%20marker_d8b902989ed54a5b88ef91ae63cfbf9d.bindPopup%28popup_e4206ec1b1f4497897c7f167bede180f%29%0A%20%20%20%20%20%20%20%20%3B%0A%0A%20%20%20%20%20%20%20%20%0A%20%20%20%20%0A%20%20%20%20%0A%20%20%20%20%20%20%20%20%20%20%20%20var%20marker_0c5f7426ccb5468680a27c3e57b3b73a%20%3D%20L.marker%28%0A%20%20%20%20%20%20%20%20%20%20%20%20%20%20%20%20%5B43.7709685%2C%2011.2698875%5D%2C%0A%20%20%20%20%20%20%20%20%20%20%20%20%20%20%20%20%7B%7D%0A%20%20%20%20%20%20%20%20%20%20%20%20%29.addTo%28map_cb5ddea0a149466984ccacda88dfafab%29%3B%0A%20%20%20%20%20%20%20%20%0A%20%20%20%20%0A%20%20%20%20%20%20%20%20var%20popup_8e6c539cca854577a71f5d16696165f7%20%3D%20L.popup%28%7B%22maxWidth%22%3A%20%22100%25%22%7D%29%3B%0A%0A%20%20%20%20%20%20%20%20%0A%20%20%20%20%20%20%20%20%20%20%20%20var%20html_822a65f8bac04cf6bad7ad2505678544%20%3D%20%24%28%60%3Cdiv%20id%3D%22html_822a65f8bac04cf6bad7ad2505678544%22%20style%3D%22width%3A%20100.0%25%3B%20height%3A%20100.0%25%3B%22%3E%20%20%20%20%20%20%20%20%20%3Cul%3E%20%20%20%20%20%20%20%20%20%20%20%20%20%3Cli%3E%3Cstrong%3EID%3A%20%3C/strong%3E2056%3C/li%3E%20%20%20%20%20%20%20%20%20%20%20%20%20%3Cli%3E%3Cstrong%3ESource%3A%20%3C/strong%3EHenderson%20P%26C%20%23102%3C/li%3E%20%20%20%20%20%20%20%20%20%20%20%20%20%3Cli%3E%3Cstrong%3EName%3A%20%3C/strong%3Eguardia%3C/li%3E%20%20%20%20%20%20%20%20%20%3Cul%3E%20%20%20%20%20%3C/div%3E%60%29%5B0%5D%3B%0A%20%20%20%20%20%20%20%20%20%20%20%20popup_8e6c539cca854577a71f5d16696165f7.setContent%28html_822a65f8bac04cf6bad7ad2505678544%29%3B%0A%20%20%20%20%20%20%20%20%0A%0A%20%20%20%20%20%20%20%20marker_0c5f7426ccb5468680a27c3e57b3b73a.bindPopup%28popup_8e6c539cca854577a71f5d16696165f7%29%0A%20%20%20%20%20%20%20%20%3B%0A%0A%20%20%20%20%20%20%20%20%0A%20%20%20%20%0A%20%20%20%20%0A%20%20%20%20%20%20%20%20%20%20%20%20var%20marker_d1578a22feb04f2f962b77984a277291%20%3D%20L.marker%28%0A%20%20%20%20%20%20%20%20%20%20%20%20%20%20%20%20%5B43.77100579%2C%2011.26971307%5D%2C%0A%20%20%20%20%20%20%20%20%20%20%20%20%20%20%20%20%7B%7D%0A%20%20%20%20%20%20%20%20%20%20%20%20%29.addTo%28map_cb5ddea0a149466984ccacda88dfafab%29%3B%0A%20%20%20%20%20%20%20%20%0A%20%20%20%20%0A%20%20%20%20%20%20%20%20var%20popup_c340ec89253b467da860b6ed9b64558b%20%3D%20L.popup%28%7B%22maxWidth%22%3A%20%22100%25%22%7D%29%3B%0A%0A%20%20%20%20%20%20%20%20%0A%20%20%20%20%20%20%20%20%20%20%20%20var%20html_7cd85eabacdf4047b5d1c5c89ee6627b%20%3D%20%24%28%60%3Cdiv%20id%3D%22html_7cd85eabacdf4047b5d1c5c89ee6627b%22%20style%3D%22width%3A%20100.0%25%3B%20height%3A%20100.0%25%3B%22%3E%20%20%20%20%20%20%20%20%20%3Cul%3E%20%20%20%20%20%20%20%20%20%20%20%20%20%3Cli%3E%3Cstrong%3EID%3A%20%3C/strong%3E2136%3C/li%3E%20%20%20%20%20%20%20%20%20%20%20%20%20%3Cli%3E%3Cstrong%3ESource%3A%20%3C/strong%3EHenderson%20P%26C%20%23102%3C/li%3E%20%20%20%20%20%20%20%20%20%20%20%20%20%3Cli%3E%3Cstrong%3EName%3A%20%3C/strong%3Ebeccaio%3C/li%3E%20%20%20%20%20%20%20%20%20%3Cul%3E%20%20%20%20%20%3C/div%3E%60%29%5B0%5D%3B%0A%20%20%20%20%20%20%20%20%20%20%20%20popup_c340ec89253b467da860b6ed9b64558b.setContent%28html_7cd85eabacdf4047b5d1c5c89ee6627b%29%3B%0A%20%20%20%20%20%20%20%20%0A%0A%20%20%20%20%20%20%20%20marker_d1578a22feb04f2f962b77984a277291.bindPopup%28popup_c340ec89253b467da860b6ed9b64558b%29%0A%20%20%20%20%20%20%20%20%3B%0A%0A%20%20%20%20%20%20%20%20%0A%20%20%20%20%0A%20%20%20%20%0A%20%20%20%20%20%20%20%20%20%20%20%20var%20marker_c96ead6d8adf4e5594031f9d0aa49414%20%3D%20L.marker%28%0A%20%20%20%20%20%20%20%20%20%20%20%20%20%20%20%20%5B43.7740713%2C%2011.26313274%5D%2C%0A%20%20%20%20%20%20%20%20%20%20%20%20%20%20%20%20%7B%7D%0A%20%20%20%20%20%20%20%20%20%20%20%20%29.addTo%28map_cb5ddea0a149466984ccacda88dfafab%29%3B%0A%20%20%20%20%20%20%20%20%0A%20%20%20%20%0A%20%20%20%20%20%20%20%20var%20popup_e660c94a97364d8dab92131d155acb97%20%3D%20L.popup%28%7B%22maxWidth%22%3A%20%22100%25%22%7D%29%3B%0A%0A%20%20%20%20%20%20%20%20%0A%20%20%20%20%20%20%20%20%20%20%20%20var%20html_c650409c4e1d48939b5920b4dc49fb2d%20%3D%20%24%28%60%3Cdiv%20id%3D%22html_c650409c4e1d48939b5920b4dc49fb2d%22%20style%3D%22width%3A%20100.0%25%3B%20height%3A%20100.0%25%3B%22%3E%20%20%20%20%20%20%20%20%20%3Cul%3E%20%20%20%20%20%20%20%20%20%20%20%20%20%3Cli%3E%3Cstrong%3EID%3A%20%3C/strong%3E2182%3C/li%3E%20%20%20%20%20%20%20%20%20%20%20%20%20%3Cli%3E%3Cstrong%3ESource%3A%20%3C/strong%3EHenderson%20P%26C%20%23102%3C/li%3E%20%20%20%20%20%20%20%20%20%20%20%20%20%3Cli%3E%3Cstrong%3EName%3A%20%3C/strong%3Etessitore%3C/li%3E%20%20%20%20%20%20%20%20%20%3Cul%3E%20%20%20%20%20%3C/div%3E%60%29%5B0%5D%3B%0A%20%20%20%20%20%20%20%20%20%20%20%20popup_e660c94a97364d8dab92131d155acb97.setContent%28html_c650409c4e1d48939b5920b4dc49fb2d%29%3B%0A%20%20%20%20%20%20%20%20%0A%0A%20%20%20%20%20%20%20%20marker_c96ead6d8adf4e5594031f9d0aa49414.bindPopup%28popup_e660c94a97364d8dab92131d155acb97%29%0A%20%20%20%20%20%20%20%20%3B%0A%0A%20%20%20%20%20%20%20%20%0A%20%20%20%20%0A%20%20%20%20%0A%20%20%20%20%20%20%20%20%20%20%20%20var%20marker_81e93cb001d741cfbecf3321d7228ffd%20%3D%20L.marker%28%0A%20%20%20%20%20%20%20%20%20%20%20%20%20%20%20%20%5B43.77098714%2C%2011.26980029%5D%2C%0A%20%20%20%20%20%20%20%20%20%20%20%20%20%20%20%20%7B%7D%0A%20%20%20%20%20%20%20%20%20%20%20%20%29.addTo%28map_cb5ddea0a149466984ccacda88dfafab%29%3B%0A%20%20%20%20%20%20%20%20%0A%20%20%20%20%0A%20%20%20%20%20%20%20%20var%20popup_329aeb62505d40b4b3c40acf3b6f78be%20%3D%20L.popup%28%7B%22maxWidth%22%3A%20%22100%25%22%7D%29%3B%0A%0A%20%20%20%20%20%20%20%20%0A%20%20%20%20%20%20%20%20%20%20%20%20var%20html_7d9bd8fdec6e4ad1b783853c132e8fe6%20%3D%20%24%28%60%3Cdiv%20id%3D%22html_7d9bd8fdec6e4ad1b783853c132e8fe6%22%20style%3D%22width%3A%20100.0%25%3B%20height%3A%20100.0%25%3B%22%3E%20%20%20%20%20%20%20%20%20%3Cul%3E%20%20%20%20%20%20%20%20%20%20%20%20%20%3Cli%3E%3Cstrong%3EID%3A%20%3C/strong%3E2413%3C/li%3E%20%20%20%20%20%20%20%20%20%20%20%20%20%3Cli%3E%3Cstrong%3ESource%3A%20%3C/strong%3EHenderson%20P%26C%20%23102%3C/li%3E%20%20%20%20%20%20%20%20%20%20%20%20%20%3Cli%3E%3Cstrong%3EName%3A%20%3C/strong%3Ecurandaio%3C/li%3E%20%20%20%20%20%20%20%20%20%3Cul%3E%20%20%20%20%20%3C/div%3E%60%29%5B0%5D%3B%0A%20%20%20%20%20%20%20%20%20%20%20%20popup_329aeb62505d40b4b3c40acf3b6f78be.setContent%28html_7d9bd8fdec6e4ad1b783853c132e8fe6%29%3B%0A%20%20%20%20%20%20%20%20%0A%0A%20%20%20%20%20%20%20%20marker_81e93cb001d741cfbecf3321d7228ffd.bindPopup%28popup_329aeb62505d40b4b3c40acf3b6f78be%29%0A%20%20%20%20%20%20%20%20%3B%0A%0A%20%20%20%20%20%20%20%20%0A%20%20%20%20%0A%20%20%20%20%0A%20%20%20%20%20%20%20%20%20%20%20%20var%20marker_4697156e90914525afd2bb6b3dfcf4b5%20%3D%20L.marker%28%0A%20%20%20%20%20%20%20%20%20%20%20%20%20%20%20%20%5B43.771152%2C%2011.262448%5D%2C%0A%20%20%20%20%20%20%20%20%20%20%20%20%20%20%20%20%7B%7D%0A%20%20%20%20%20%20%20%20%20%20%20%20%29.addTo%28map_cb5ddea0a149466984ccacda88dfafab%29%3B%0A%20%20%20%20%20%20%20%20%0A%20%20%20%20%0A%20%20%20%20%20%20%20%20var%20popup_d5efb12411684a7dada930eb5e59883e%20%3D%20L.popup%28%7B%22maxWidth%22%3A%20%22100%25%22%7D%29%3B%0A%0A%20%20%20%20%20%20%20%20%0A%20%20%20%20%20%20%20%20%20%20%20%20var%20html_c9903330264a40d9a0f6aaa1317673d1%20%3D%20%24%28%60%3Cdiv%20id%3D%22html_c9903330264a40d9a0f6aaa1317673d1%22%20style%3D%22width%3A%20100.0%25%3B%20height%3A%20100.0%25%3B%22%3E%20%20%20%20%20%20%20%20%20%3Cul%3E%20%20%20%20%20%20%20%20%20%20%20%20%20%3Cli%3E%3Cstrong%3EID%3A%20%3C/strong%3E3628%3C/li%3E%20%20%20%20%20%20%20%20%20%20%20%20%20%3Cli%3E%3Cstrong%3ESource%3A%20%3C/strong%3EHenderson%20P%26C%20%23102%3C/li%3E%20%20%20%20%20%20%20%20%20%20%20%20%20%3Cli%3E%3Cstrong%3EName%3A%20%3C/strong%3Edonzello%3C/li%3E%20%20%20%20%20%20%20%20%20%3Cul%3E%20%20%20%20%20%3C/div%3E%60%29%5B0%5D%3B%0A%20%20%20%20%20%20%20%20%20%20%20%20popup_d5efb12411684a7dada930eb5e59883e.setContent%28html_c9903330264a40d9a0f6aaa1317673d1%29%3B%0A%20%20%20%20%20%20%20%20%0A%0A%20%20%20%20%20%20%20%20marker_4697156e90914525afd2bb6b3dfcf4b5.bindPopup%28popup_d5efb12411684a7dada930eb5e59883e%29%0A%20%20%20%20%20%20%20%20%3B%0A%0A%20%20%20%20%20%20%20%20%0A%20%20%20%20%0A%20%20%20%20%0A%20%20%20%20%20%20%20%20%20%20%20%20var%20marker_8f9bae2004f144bb8ec4d2fd370208ec%20%3D%20L.marker%28%0A%20%20%20%20%20%20%20%20%20%20%20%20%20%20%20%20%5B43.76981%2C%2011.25724%5D%2C%0A%20%20%20%20%20%20%20%20%20%20%20%20%20%20%20%20%7B%7D%0A%20%20%20%20%20%20%20%20%20%20%20%20%29.addTo%28map_cb5ddea0a149466984ccacda88dfafab%29%3B%0A%20%20%20%20%20%20%20%20%0A%20%20%20%20%0A%20%20%20%20%20%20%20%20var%20popup_012ab3122fee4a5aaa5441c378bd3e06%20%3D%20L.popup%28%7B%22maxWidth%22%3A%20%22100%25%22%7D%29%3B%0A%0A%20%20%20%20%20%20%20%20%0A%20%20%20%20%20%20%20%20%20%20%20%20var%20html_f2ccab41b2464e66919b995c5d9620f0%20%3D%20%24%28%60%3Cdiv%20id%3D%22html_f2ccab41b2464e66919b995c5d9620f0%22%20style%3D%22width%3A%20100.0%25%3B%20height%3A%20100.0%25%3B%22%3E%20%20%20%20%20%20%20%20%20%3Cul%3E%20%20%20%20%20%20%20%20%20%20%20%20%20%3Cli%3E%3Cstrong%3EID%3A%20%3C/strong%3E4275%3C/li%3E%20%20%20%20%20%20%20%20%20%20%20%20%20%3Cli%3E%3Cstrong%3ESource%3A%20%3C/strong%3EHenderson%20P%26C%20%23102%3C/li%3E%20%20%20%20%20%20%20%20%20%20%20%20%20%3Cli%3E%3Cstrong%3EName%3A%20%3C/strong%3Ecoltellinaio%3C/li%3E%20%20%20%20%20%20%20%20%20%3Cul%3E%20%20%20%20%20%3C/div%3E%60%29%5B0%5D%3B%0A%20%20%20%20%20%20%20%20%20%20%20%20popup_012ab3122fee4a5aaa5441c378bd3e06.setContent%28html_f2ccab41b2464e66919b995c5d9620f0%29%3B%0A%20%20%20%20%20%20%20%20%0A%0A%20%20%20%20%20%20%20%20marker_8f9bae2004f144bb8ec4d2fd370208ec.bindPopup%28popup_012ab3122fee4a5aaa5441c378bd3e06%29%0A%20%20%20%20%20%20%20%20%3B%0A%0A%20%20%20%20%20%20%20%20%0A%20%20%20%20%0A%20%20%20%20%0A%20%20%20%20%20%20%20%20%20%20%20%20var%20marker_5a3dc656580e4c28aaaed10cc76c32b6%20%3D%20L.marker%28%0A%20%20%20%20%20%20%20%20%20%20%20%20%20%20%20%20%5B43.769925%2C%2011.256705%5D%2C%0A%20%20%20%20%20%20%20%20%20%20%20%20%20%20%20%20%7B%7D%0A%20%20%20%20%20%20%20%20%20%20%20%20%29.addTo%28map_cb5ddea0a149466984ccacda88dfafab%29%3B%0A%20%20%20%20%20%20%20%20%0A%20%20%20%20%0A%20%20%20%20%20%20%20%20var%20popup_fd89324a52674c9fac9702184041be29%20%3D%20L.popup%28%7B%22maxWidth%22%3A%20%22100%25%22%7D%29%3B%0A%0A%20%20%20%20%20%20%20%20%0A%20%20%20%20%20%20%20%20%20%20%20%20var%20html_c5e207b895164888b0d6818a9e5b1bf6%20%3D%20%24%28%60%3Cdiv%20id%3D%22html_c5e207b895164888b0d6818a9e5b1bf6%22%20style%3D%22width%3A%20100.0%25%3B%20height%3A%20100.0%25%3B%22%3E%20%20%20%20%20%20%20%20%20%3Cul%3E%20%20%20%20%20%20%20%20%20%20%20%20%20%3Cli%3E%3Cstrong%3EID%3A%20%3C/strong%3E4276%3C/li%3E%20%20%20%20%20%20%20%20%20%20%20%20%20%3Cli%3E%3Cstrong%3ESource%3A%20%3C/strong%3EHenderson%20P%26C%20%23102%3C/li%3E%20%20%20%20%20%20%20%20%20%20%20%20%20%3Cli%3E%3Cstrong%3EName%3A%20%3C/strong%3Eocchialaio%3C/li%3E%20%20%20%20%20%20%20%20%20%3Cul%3E%20%20%20%20%20%3C/div%3E%60%29%5B0%5D%3B%0A%20%20%20%20%20%20%20%20%20%20%20%20popup_fd89324a52674c9fac9702184041be29.setContent%28html_c5e207b895164888b0d6818a9e5b1bf6%29%3B%0A%20%20%20%20%20%20%20%20%0A%0A%20%20%20%20%20%20%20%20marker_5a3dc656580e4c28aaaed10cc76c32b6.bindPopup%28popup_fd89324a52674c9fac9702184041be29%29%0A%20%20%20%20%20%20%20%20%3B%0A%0A%20%20%20%20%20%20%20%20%0A%20%20%20%20%0A%20%20%20%20%0A%20%20%20%20%20%20%20%20%20%20%20%20var%20marker_1b24db0cda5d4d51ba591518b94ec3f3%20%3D%20L.marker%28%0A%20%20%20%20%20%20%20%20%20%20%20%20%20%20%20%20%5B43.76582667%2C%2011.24658%5D%2C%0A%20%20%20%20%20%20%20%20%20%20%20%20%20%20%20%20%7B%7D%0A%20%20%20%20%20%20%20%20%20%20%20%20%29.addTo%28map_cb5ddea0a149466984ccacda88dfafab%29%3B%0A%20%20%20%20%20%20%20%20%0A%20%20%20%20%0A%20%20%20%20%20%20%20%20var%20popup_0cc4f04dbe164b8aad9f5d9f3cdcc5e9%20%3D%20L.popup%28%7B%22maxWidth%22%3A%20%22100%25%22%7D%29%3B%0A%0A%20%20%20%20%20%20%20%20%0A%20%20%20%20%20%20%20%20%20%20%20%20var%20html_0fb46946928b4bb5ac90d48992040793%20%3D%20%24%28%60%3Cdiv%20id%3D%22html_0fb46946928b4bb5ac90d48992040793%22%20style%3D%22width%3A%20100.0%25%3B%20height%3A%20100.0%25%3B%22%3E%20%20%20%20%20%20%20%20%20%3Cul%3E%20%20%20%20%20%20%20%20%20%20%20%20%20%3Cli%3E%3Cstrong%3EID%3A%20%3C/strong%3E7630%3C/li%3E%20%20%20%20%20%20%20%20%20%20%20%20%20%3Cli%3E%3Cstrong%3ESource%3A%20%3C/strong%3EHenderson%20P%26C%20%23114%3C/li%3E%20%20%20%20%20%20%20%20%20%20%20%20%20%3Cli%3E%3Cstrong%3EName%3A%20%3C/strong%3Enan%3C/li%3E%20%20%20%20%20%20%20%20%20%3Cul%3E%20%20%20%20%20%3C/div%3E%60%29%5B0%5D%3B%0A%20%20%20%20%20%20%20%20%20%20%20%20popup_0cc4f04dbe164b8aad9f5d9f3cdcc5e9.setContent%28html_0fb46946928b4bb5ac90d48992040793%29%3B%0A%20%20%20%20%20%20%20%20%0A%0A%20%20%20%20%20%20%20%20marker_1b24db0cda5d4d51ba591518b94ec3f3.bindPopup%28popup_0cc4f04dbe164b8aad9f5d9f3cdcc5e9%29%0A%20%20%20%20%20%20%20%20%3B%0A%0A%20%20%20%20%20%20%20%20%0A%20%20%20%20%0A%20%20%20%20%0A%20%20%20%20%20%20%20%20%20%20%20%20var%20marker_4a508fb222c1482494b528e9024ad7ef%20%3D%20L.marker%28%0A%20%20%20%20%20%20%20%20%20%20%20%20%20%20%20%20%5B43.768982%2C%2011.242736%5D%2C%0A%20%20%20%20%20%20%20%20%20%20%20%20%20%20%20%20%7B%7D%0A%20%20%20%20%20%20%20%20%20%20%20%20%29.addTo%28map_cb5ddea0a149466984ccacda88dfafab%29%3B%0A%20%20%20%20%20%20%20%20%0A%20%20%20%20%0A%20%20%20%20%20%20%20%20var%20popup_774c253207c64d918eda09eba919a61f%20%3D%20L.popup%28%7B%22maxWidth%22%3A%20%22100%25%22%7D%29%3B%0A%0A%20%20%20%20%20%20%20%20%0A%20%20%20%20%20%20%20%20%20%20%20%20var%20html_3df60a8470cd4e65a58052b9cd214e8d%20%3D%20%24%28%60%3Cdiv%20id%3D%22html_3df60a8470cd4e65a58052b9cd214e8d%22%20style%3D%22width%3A%20100.0%25%3B%20height%3A%20100.0%25%3B%22%3E%20%20%20%20%20%20%20%20%20%3Cul%3E%20%20%20%20%20%20%20%20%20%20%20%20%20%3Cli%3E%3Cstrong%3EID%3A%20%3C/strong%3E8289%3C/li%3E%20%20%20%20%20%20%20%20%20%20%20%20%20%3Cli%3E%3Cstrong%3ESource%3A%20%3C/strong%3EHenderson%20P%26C%20%2358%3C/li%3E%20%20%20%20%20%20%20%20%20%20%20%20%20%3Cli%3E%3Cstrong%3EName%3A%20%3C/strong%3Ebattilano%3C/li%3E%20%20%20%20%20%20%20%20%20%3Cul%3E%20%20%20%20%20%3C/div%3E%60%29%5B0%5D%3B%0A%20%20%20%20%20%20%20%20%20%20%20%20popup_774c253207c64d918eda09eba919a61f.setContent%28html_3df60a8470cd4e65a58052b9cd214e8d%29%3B%0A%20%20%20%20%20%20%20%20%0A%0A%20%20%20%20%20%20%20%20marker_4a508fb222c1482494b528e9024ad7ef.bindPopup%28popup_774c253207c64d918eda09eba919a61f%29%0A%20%20%20%20%20%20%20%20%3B%0A%0A%20%20%20%20%20%20%20%20%0A%20%20%20%20%0A%20%20%20%20%0A%20%20%20%20%20%20%20%20%20%20%20%20var%20marker_ec6b82838e314f4a90e02be24232e191%20%3D%20L.marker%28%0A%20%20%20%20%20%20%20%20%20%20%20%20%20%20%20%20%5B43.769388%2C%2011.244695%5D%2C%0A%20%20%20%20%20%20%20%20%20%20%20%20%20%20%20%20%7B%7D%0A%20%20%20%20%20%20%20%20%20%20%20%20%29.addTo%28map_cb5ddea0a149466984ccacda88dfafab%29%3B%0A%20%20%20%20%20%20%20%20%0A%20%20%20%20%0A%20%20%20%20%20%20%20%20var%20popup_e4fc68ffc6e242408c8006842b7de228%20%3D%20L.popup%28%7B%22maxWidth%22%3A%20%22100%25%22%7D%29%3B%0A%0A%20%20%20%20%20%20%20%20%0A%20%20%20%20%20%20%20%20%20%20%20%20var%20html_72305d1f9b904599b152c9eb450dda84%20%3D%20%24%28%60%3Cdiv%20id%3D%22html_72305d1f9b904599b152c9eb450dda84%22%20style%3D%22width%3A%20100.0%25%3B%20height%3A%20100.0%25%3B%22%3E%20%20%20%20%20%20%20%20%20%3Cul%3E%20%20%20%20%20%20%20%20%20%20%20%20%20%3Cli%3E%3Cstrong%3EID%3A%20%3C/strong%3E8486%3C/li%3E%20%20%20%20%20%20%20%20%20%20%20%20%20%3Cli%3E%3Cstrong%3ESource%3A%20%3C/strong%3EHenderson%20P%26C%20%2358%3C/li%3E%20%20%20%20%20%20%20%20%20%20%20%20%20%3Cli%3E%3Cstrong%3EName%3A%20%3C/strong%3Emanouale%3C/li%3E%20%20%20%20%20%20%20%20%20%3Cul%3E%20%20%20%20%20%3C/div%3E%60%29%5B0%5D%3B%0A%20%20%20%20%20%20%20%20%20%20%20%20popup_e4fc68ffc6e242408c8006842b7de228.setContent%28html_72305d1f9b904599b152c9eb450dda84%29%3B%0A%20%20%20%20%20%20%20%20%0A%0A%20%20%20%20%20%20%20%20marker_ec6b82838e314f4a90e02be24232e191.bindPopup%28popup_e4fc68ffc6e242408c8006842b7de228%29%0A%20%20%20%20%20%20%20%20%3B%0A%0A%20%20%20%20%20%20%20%20%0A%20%20%20%20%0A%20%20%20%20%0A%20%20%20%20%20%20%20%20%20%20%20%20var%20marker_7d815f37d7ca46b089b9984ceadd866d%20%3D%20L.marker%28%0A%20%20%20%20%20%20%20%20%20%20%20%20%20%20%20%20%5B43.77036985%2C%2011.24205892%5D%2C%0A%20%20%20%20%20%20%20%20%20%20%20%20%20%20%20%20%7B%7D%0A%20%20%20%20%20%20%20%20%20%20%20%20%29.addTo%28map_cb5ddea0a149466984ccacda88dfafab%29%3B%0A%20%20%20%20%20%20%20%20%0A%20%20%20%20%0A%20%20%20%20%20%20%20%20var%20popup_1df04ff9b6984e51a98f1ec6df90aefc%20%3D%20L.popup%28%7B%22maxWidth%22%3A%20%22100%25%22%7D%29%3B%0A%0A%20%20%20%20%20%20%20%20%0A%20%20%20%20%20%20%20%20%20%20%20%20var%20html_8084d0b6aeca4c9fa5382c57fb8975d0%20%3D%20%24%28%60%3Cdiv%20id%3D%22html_8084d0b6aeca4c9fa5382c57fb8975d0%22%20style%3D%22width%3A%20100.0%25%3B%20height%3A%20100.0%25%3B%22%3E%20%20%20%20%20%20%20%20%20%3Cul%3E%20%20%20%20%20%20%20%20%20%20%20%20%20%3Cli%3E%3Cstrong%3EID%3A%20%3C/strong%3E8315%3C/li%3E%20%20%20%20%20%20%20%20%20%20%20%20%20%3Cli%3E%3Cstrong%3ESource%3A%20%3C/strong%3EHenderson%20P%26C%20%2358%3C/li%3E%20%20%20%20%20%20%20%20%20%20%20%20%20%3Cli%3E%3Cstrong%3EName%3A%20%3C/strong%3Eminugiaio%3C/li%3E%20%20%20%20%20%20%20%20%20%3Cul%3E%20%20%20%20%20%3C/div%3E%60%29%5B0%5D%3B%0A%20%20%20%20%20%20%20%20%20%20%20%20popup_1df04ff9b6984e51a98f1ec6df90aefc.setContent%28html_8084d0b6aeca4c9fa5382c57fb8975d0%29%3B%0A%20%20%20%20%20%20%20%20%0A%0A%20%20%20%20%20%20%20%20marker_7d815f37d7ca46b089b9984ceadd866d.bindPopup%28popup_1df04ff9b6984e51a98f1ec6df90aefc%29%0A%20%20%20%20%20%20%20%20%3B%0A%0A%20%20%20%20%20%20%20%20%0A%20%20%20%20%0A%20%20%20%20%0A%20%20%20%20%20%20%20%20%20%20%20%20var%20marker_c524aa0fd92742639abf5abd6a7107fb%20%3D%20L.marker%28%0A%20%20%20%20%20%20%20%20%20%20%20%20%20%20%20%20%5B43.769331%2C%2011.24549767%5D%2C%0A%20%20%20%20%20%20%20%20%20%20%20%20%20%20%20%20%7B%7D%0A%20%20%20%20%20%20%20%20%20%20%20%20%29.addTo%28map_cb5ddea0a149466984ccacda88dfafab%29%3B%0A%20%20%20%20%20%20%20%20%0A%20%20%20%20%0A%20%20%20%20%20%20%20%20var%20popup_642cefeab80e4127a97166f99f8af4eb%20%3D%20L.popup%28%7B%22maxWidth%22%3A%20%22100%25%22%7D%29%3B%0A%0A%20%20%20%20%20%20%20%20%0A%20%20%20%20%20%20%20%20%20%20%20%20var%20html_9c322cf179274ee8a2750da949e7d71e%20%3D%20%24%28%60%3Cdiv%20id%3D%22html_9c322cf179274ee8a2750da949e7d71e%22%20style%3D%22width%3A%20100.0%25%3B%20height%3A%20100.0%25%3B%22%3E%20%20%20%20%20%20%20%20%20%3Cul%3E%20%20%20%20%20%20%20%20%20%20%20%20%20%3Cli%3E%3Cstrong%3EID%3A%20%3C/strong%3E8509%3C/li%3E%20%20%20%20%20%20%20%20%20%20%20%20%20%3Cli%3E%3Cstrong%3ESource%3A%20%3C/strong%3EHenderson%20P%26C%20%2358%3C/li%3E%20%20%20%20%20%20%20%20%20%20%20%20%20%3Cli%3E%3Cstrong%3EName%3A%20%3C/strong%3Efornaio%3C/li%3E%20%20%20%20%20%20%20%20%20%3Cul%3E%20%20%20%20%20%3C/div%3E%60%29%5B0%5D%3B%0A%20%20%20%20%20%20%20%20%20%20%20%20popup_642cefeab80e4127a97166f99f8af4eb.setContent%28html_9c322cf179274ee8a2750da949e7d71e%29%3B%0A%20%20%20%20%20%20%20%20%0A%0A%20%20%20%20%20%20%20%20marker_c524aa0fd92742639abf5abd6a7107fb.bindPopup%28popup_642cefeab80e4127a97166f99f8af4eb%29%0A%20%20%20%20%20%20%20%20%3B%0A%0A%20%20%20%20%20%20%20%20%0A%20%20%20%20%0A%20%20%20%20%0A%20%20%20%20%20%20%20%20%20%20%20%20var%20marker_81c7790c31e94cd3a58b8c061d41874c%20%3D%20L.marker%28%0A%20%20%20%20%20%20%20%20%20%20%20%20%20%20%20%20%5B43.77837788%2C%2011.254472%5D%2C%0A%20%20%20%20%20%20%20%20%20%20%20%20%20%20%20%20%7B%7D%0A%20%20%20%20%20%20%20%20%20%20%20%20%29.addTo%28map_cb5ddea0a149466984ccacda88dfafab%29%3B%0A%20%20%20%20%20%20%20%20%0A%20%20%20%20%0A%20%20%20%20%20%20%20%20var%20popup_aed9ab0d2aae4e8a89ac714cfb634614%20%3D%20L.popup%28%7B%22maxWidth%22%3A%20%22100%25%22%7D%29%3B%0A%0A%20%20%20%20%20%20%20%20%0A%20%20%20%20%20%20%20%20%20%20%20%20var%20html_4a9432d41d9347b687ff0755b70af4b4%20%3D%20%24%28%60%3Cdiv%20id%3D%22html_4a9432d41d9347b687ff0755b70af4b4%22%20style%3D%22width%3A%20100.0%25%3B%20height%3A%20100.0%25%3B%22%3E%20%20%20%20%20%20%20%20%20%3Cul%3E%20%20%20%20%20%20%20%20%20%20%20%20%20%3Cli%3E%3Cstrong%3EID%3A%20%3C/strong%3E517%3C/li%3E%20%20%20%20%20%20%20%20%20%20%20%20%20%3Cli%3E%3Cstrong%3ESource%3A%20%3C/strong%3Enan%3C/li%3E%20%20%20%20%20%20%20%20%20%20%20%20%20%3Cli%3E%3Cstrong%3EName%3A%20%3C/strong%3Etessitore%3C/li%3E%20%20%20%20%20%20%20%20%20%3Cul%3E%20%20%20%20%20%3C/div%3E%60%29%5B0%5D%3B%0A%20%20%20%20%20%20%20%20%20%20%20%20popup_aed9ab0d2aae4e8a89ac714cfb634614.setContent%28html_4a9432d41d9347b687ff0755b70af4b4%29%3B%0A%20%20%20%20%20%20%20%20%0A%0A%20%20%20%20%20%20%20%20marker_81c7790c31e94cd3a58b8c061d41874c.bindPopup%28popup_aed9ab0d2aae4e8a89ac714cfb634614%29%0A%20%20%20%20%20%20%20%20%3B%0A%0A%20%20%20%20%20%20%20%20%0A%20%20%20%20%0A%20%20%20%20%0A%20%20%20%20%20%20%20%20%20%20%20%20var%20marker_ff64f1f2af8d48ec950d6bee50f73b8d%20%3D%20L.marker%28%0A%20%20%20%20%20%20%20%20%20%20%20%20%20%20%20%20%5B43.77051125%2C%2011.262585%5D%2C%0A%20%20%20%20%20%20%20%20%20%20%20%20%20%20%20%20%7B%7D%0A%20%20%20%20%20%20%20%20%20%20%20%20%29.addTo%28map_cb5ddea0a149466984ccacda88dfafab%29%3B%0A%20%20%20%20%20%20%20%20%0A%20%20%20%20%0A%20%20%20%20%20%20%20%20var%20popup_04d2c547b54b43e69bca794ef20dfa1d%20%3D%20L.popup%28%7B%22maxWidth%22%3A%20%22100%25%22%7D%29%3B%0A%0A%20%20%20%20%20%20%20%20%0A%20%20%20%20%20%20%20%20%20%20%20%20var%20html_f2d2af6c186f4d668de6f4e937954a2c%20%3D%20%24%28%60%3Cdiv%20id%3D%22html_f2d2af6c186f4d668de6f4e937954a2c%22%20style%3D%22width%3A%20100.0%25%3B%20height%3A%20100.0%25%3B%22%3E%20%20%20%20%20%20%20%20%20%3Cul%3E%20%20%20%20%20%20%20%20%20%20%20%20%20%3Cli%3E%3Cstrong%3EID%3A%20%3C/strong%3E4784%3C/li%3E%20%20%20%20%20%20%20%20%20%20%20%20%20%3Cli%3E%3Cstrong%3ESource%3A%20%3C/strong%3Enan%3C/li%3E%20%20%20%20%20%20%20%20%20%20%20%20%20%3Cli%3E%3Cstrong%3EName%3A%20%3C/strong%3Enan%3C/li%3E%20%20%20%20%20%20%20%20%20%3Cul%3E%20%20%20%20%20%3C/div%3E%60%29%5B0%5D%3B%0A%20%20%20%20%20%20%20%20%20%20%20%20popup_04d2c547b54b43e69bca794ef20dfa1d.setContent%28html_f2d2af6c186f4d668de6f4e937954a2c%29%3B%0A%20%20%20%20%20%20%20%20%0A%0A%20%20%20%20%20%20%20%20marker_ff64f1f2af8d48ec950d6bee50f73b8d.bindPopup%28popup_04d2c547b54b43e69bca794ef20dfa1d%29%0A%20%20%20%20%20%20%20%20%3B%0A%0A%20%20%20%20%20%20%20%20%0A%20%20%20%20%0A%20%20%20%20%0A%20%20%20%20%20%20%20%20%20%20%20%20var%20marker_d69135d7c73a4151af07d993ee72ebaf%20%3D%20L.marker%28%0A%20%20%20%20%20%20%20%20%20%20%20%20%20%20%20%20%5B43.772431%2C%2011.253561%5D%2C%0A%20%20%20%20%20%20%20%20%20%20%20%20%20%20%20%20%7B%7D%0A%20%20%20%20%20%20%20%20%20%20%20%20%29.addTo%28map_cb5ddea0a149466984ccacda88dfafab%29%3B%0A%20%20%20%20%20%20%20%20%0A%20%20%20%20%0A%20%20%20%20%20%20%20%20var%20popup_7e5bba942073405a9ba1e1eea8a10dfd%20%3D%20L.popup%28%7B%22maxWidth%22%3A%20%22100%25%22%7D%29%3B%0A%0A%20%20%20%20%20%20%20%20%0A%20%20%20%20%20%20%20%20%20%20%20%20var%20html_7096b03f8dcd43839b12b8bc9868d47d%20%3D%20%24%28%60%3Cdiv%20id%3D%22html_7096b03f8dcd43839b12b8bc9868d47d%22%20style%3D%22width%3A%20100.0%25%3B%20height%3A%20100.0%25%3B%22%3E%20%20%20%20%20%20%20%20%20%3Cul%3E%20%20%20%20%20%20%20%20%20%20%20%20%20%3Cli%3E%3Cstrong%3EID%3A%20%3C/strong%3E1004%3C/li%3E%20%20%20%20%20%20%20%20%20%20%20%20%20%3Cli%3E%3Cstrong%3ESource%3A%20%3C/strong%3Enan%3C/li%3E%20%20%20%20%20%20%20%20%20%20%20%20%20%3Cli%3E%3Cstrong%3EName%3A%20%3C/strong%3Eoste%3C/li%3E%20%20%20%20%20%20%20%20%20%3Cul%3E%20%20%20%20%20%3C/div%3E%60%29%5B0%5D%3B%0A%20%20%20%20%20%20%20%20%20%20%20%20popup_7e5bba942073405a9ba1e1eea8a10dfd.setContent%28html_7096b03f8dcd43839b12b8bc9868d47d%29%3B%0A%20%20%20%20%20%20%20%20%0A%0A%20%20%20%20%20%20%20%20marker_d69135d7c73a4151af07d993ee72ebaf.bindPopup%28popup_7e5bba942073405a9ba1e1eea8a10dfd%29%0A%20%20%20%20%20%20%20%20%3B%0A%0A%20%20%20%20%20%20%20%20%0A%20%20%20%20%0A%20%20%20%20%0A%20%20%20%20%20%20%20%20%20%20%20%20var%20marker_a9cd088a2d6446e1873942269a20f2ae%20%3D%20L.marker%28%0A%20%20%20%20%20%20%20%20%20%20%20%20%20%20%20%20%5B43.77422106%2C%2011.25488759%5D%2C%0A%20%20%20%20%20%20%20%20%20%20%20%20%20%20%20%20%7B%7D%0A%20%20%20%20%20%20%20%20%20%20%20%20%29.addTo%28map_cb5ddea0a149466984ccacda88dfafab%29%3B%0A%20%20%20%20%20%20%20%20%0A%20%20%20%20%0A%20%20%20%20%20%20%20%20var%20popup_62b769996ba948cd8da4f905e1fb0451%20%3D%20L.popup%28%7B%22maxWidth%22%3A%20%22100%25%22%7D%29%3B%0A%0A%20%20%20%20%20%20%20%20%0A%20%20%20%20%20%20%20%20%20%20%20%20var%20html_d853c611d8c54b258ac59279a0435a3d%20%3D%20%24%28%60%3Cdiv%20id%3D%22html_d853c611d8c54b258ac59279a0435a3d%22%20style%3D%22width%3A%20100.0%25%3B%20height%3A%20100.0%25%3B%22%3E%20%20%20%20%20%20%20%20%20%3Cul%3E%20%20%20%20%20%20%20%20%20%20%20%20%20%3Cli%3E%3Cstrong%3EID%3A%20%3C/strong%3E1214%3C/li%3E%20%20%20%20%20%20%20%20%20%20%20%20%20%3Cli%3E%3Cstrong%3ESource%3A%20%3C/strong%3Enan%3C/li%3E%20%20%20%20%20%20%20%20%20%20%20%20%20%3Cli%3E%3Cstrong%3EName%3A%20%3C/strong%3Esarto%3C/li%3E%20%20%20%20%20%20%20%20%20%3Cul%3E%20%20%20%20%20%3C/div%3E%60%29%5B0%5D%3B%0A%20%20%20%20%20%20%20%20%20%20%20%20popup_62b769996ba948cd8da4f905e1fb0451.setContent%28html_d853c611d8c54b258ac59279a0435a3d%29%3B%0A%20%20%20%20%20%20%20%20%0A%0A%20%20%20%20%20%20%20%20marker_a9cd088a2d6446e1873942269a20f2ae.bindPopup%28popup_62b769996ba948cd8da4f905e1fb0451%29%0A%20%20%20%20%20%20%20%20%3B%0A%0A%20%20%20%20%20%20%20%20%0A%20%20%20%20%0A%20%20%20%20%0A%20%20%20%20%20%20%20%20%20%20%20%20var%20marker_c15f7a37405949249a3665bf64dcac23%20%3D%20L.marker%28%0A%20%20%20%20%20%20%20%20%20%20%20%20%20%20%20%20%5B43.77251823%2C%2011.26522828%5D%2C%0A%20%20%20%20%20%20%20%20%20%20%20%20%20%20%20%20%7B%7D%0A%20%20%20%20%20%20%20%20%20%20%20%20%29.addTo%28map_cb5ddea0a149466984ccacda88dfafab%29%3B%0A%20%20%20%20%20%20%20%20%0A%20%20%20%20%0A%20%20%20%20%20%20%20%20var%20popup_771e60eb11cf426c9dbfe723e530af6c%20%3D%20L.popup%28%7B%22maxWidth%22%3A%20%22100%25%22%7D%29%3B%0A%0A%20%20%20%20%20%20%20%20%0A%20%20%20%20%20%20%20%20%20%20%20%20var%20html_aa5bc8f746bd4da998c560a499e17c65%20%3D%20%24%28%60%3Cdiv%20id%3D%22html_aa5bc8f746bd4da998c560a499e17c65%22%20style%3D%22width%3A%20100.0%25%3B%20height%3A%20100.0%25%3B%22%3E%20%20%20%20%20%20%20%20%20%3Cul%3E%20%20%20%20%20%20%20%20%20%20%20%20%20%3Cli%3E%3Cstrong%3EID%3A%20%3C/strong%3E2776%3C/li%3E%20%20%20%20%20%20%20%20%20%20%20%20%20%3Cli%3E%3Cstrong%3ESource%3A%20%3C/strong%3EHenderson%20P%26C%20%2341%3C/li%3E%20%20%20%20%20%20%20%20%20%20%20%20%20%3Cli%3E%3Cstrong%3EName%3A%20%3C/strong%3Enan%3C/li%3E%20%20%20%20%20%20%20%20%20%3Cul%3E%20%20%20%20%20%3C/div%3E%60%29%5B0%5D%3B%0A%20%20%20%20%20%20%20%20%20%20%20%20popup_771e60eb11cf426c9dbfe723e530af6c.setContent%28html_aa5bc8f746bd4da998c560a499e17c65%29%3B%0A%20%20%20%20%20%20%20%20%0A%0A%20%20%20%20%20%20%20%20marker_c15f7a37405949249a3665bf64dcac23.bindPopup%28popup_771e60eb11cf426c9dbfe723e530af6c%29%0A%20%20%20%20%20%20%20%20%3B%0A%0A%20%20%20%20%20%20%20%20%0A%20%20%20%20%0A%20%20%20%20%0A%20%20%20%20%20%20%20%20%20%20%20%20var%20marker_b3154b6610344929901afeea328821b6%20%3D%20L.marker%28%0A%20%20%20%20%20%20%20%20%20%20%20%20%20%20%20%20%5B43.777438%2C%2011.253398%5D%2C%0A%20%20%20%20%20%20%20%20%20%20%20%20%20%20%20%20%7B%7D%0A%20%20%20%20%20%20%20%20%20%20%20%20%29.addTo%28map_cb5ddea0a149466984ccacda88dfafab%29%3B%0A%20%20%20%20%20%20%20%20%0A%20%20%20%20%0A%20%20%20%20%20%20%20%20var%20popup_42813b12e8bc4293a45d44756c8d847b%20%3D%20L.popup%28%7B%22maxWidth%22%3A%20%22100%25%22%7D%29%3B%0A%0A%20%20%20%20%20%20%20%20%0A%20%20%20%20%20%20%20%20%20%20%20%20var%20html_9e80076f8119406aab5e1c911023f0a6%20%3D%20%24%28%60%3Cdiv%20id%3D%22html_9e80076f8119406aab5e1c911023f0a6%22%20style%3D%22width%3A%20100.0%25%3B%20height%3A%20100.0%25%3B%22%3E%20%20%20%20%20%20%20%20%20%3Cul%3E%20%20%20%20%20%20%20%20%20%20%20%20%20%3Cli%3E%3Cstrong%3EID%3A%20%3C/strong%3E47%3C/li%3E%20%20%20%20%20%20%20%20%20%20%20%20%20%3Cli%3E%3Cstrong%3ESource%3A%20%3C/strong%3EHenderson%20P%26C%20%2361%3C/li%3E%20%20%20%20%20%20%20%20%20%20%20%20%20%3Cli%3E%3Cstrong%3EName%3A%20%3C/strong%3Eciabattino%3C/li%3E%20%20%20%20%20%20%20%20%20%3Cul%3E%20%20%20%20%20%3C/div%3E%60%29%5B0%5D%3B%0A%20%20%20%20%20%20%20%20%20%20%20%20popup_42813b12e8bc4293a45d44756c8d847b.setContent%28html_9e80076f8119406aab5e1c911023f0a6%29%3B%0A%20%20%20%20%20%20%20%20%0A%0A%20%20%20%20%20%20%20%20marker_b3154b6610344929901afeea328821b6.bindPopup%28popup_42813b12e8bc4293a45d44756c8d847b%29%0A%20%20%20%20%20%20%20%20%3B%0A%0A%20%20%20%20%20%20%20%20%0A%20%20%20%20%0A%20%20%20%20%0A%20%20%20%20%20%20%20%20%20%20%20%20var%20marker_a7821a7f43db40029a34672a6e550a93%20%3D%20L.marker%28%0A%20%20%20%20%20%20%20%20%20%20%20%20%20%20%20%20%5B43.77206267%2C%2011.26117733%5D%2C%0A%20%20%20%20%20%20%20%20%20%20%20%20%20%20%20%20%7B%7D%0A%20%20%20%20%20%20%20%20%20%20%20%20%29.addTo%28map_cb5ddea0a149466984ccacda88dfafab%29%3B%0A%20%20%20%20%20%20%20%20%0A%20%20%20%20%0A%20%20%20%20%20%20%20%20var%20popup_f37b36ed5cef4b569290cedcf3795af2%20%3D%20L.popup%28%7B%22maxWidth%22%3A%20%22100%25%22%7D%29%3B%0A%0A%20%20%20%20%20%20%20%20%0A%20%20%20%20%20%20%20%20%20%20%20%20var%20html_c5ec7a80951b4d0184cce4bb0705fbb5%20%3D%20%24%28%60%3Cdiv%20id%3D%22html_c5ec7a80951b4d0184cce4bb0705fbb5%22%20style%3D%22width%3A%20100.0%25%3B%20height%3A%20100.0%25%3B%22%3E%20%20%20%20%20%20%20%20%20%3Cul%3E%20%20%20%20%20%20%20%20%20%20%20%20%20%3Cli%3E%3Cstrong%3EID%3A%20%3C/strong%3E2122%3C/li%3E%20%20%20%20%20%20%20%20%20%20%20%20%20%3Cli%3E%3Cstrong%3ESource%3A%20%3C/strong%3EHenderson%20P%26C%20%2361%3C/li%3E%20%20%20%20%20%20%20%20%20%20%20%20%20%3Cli%3E%3Cstrong%3EName%3A%20%3C/strong%3Edivettino%3C/li%3E%20%20%20%20%20%20%20%20%20%3Cul%3E%20%20%20%20%20%3C/div%3E%60%29%5B0%5D%3B%0A%20%20%20%20%20%20%20%20%20%20%20%20popup_f37b36ed5cef4b569290cedcf3795af2.setContent%28html_c5ec7a80951b4d0184cce4bb0705fbb5%29%3B%0A%20%20%20%20%20%20%20%20%0A%0A%20%20%20%20%20%20%20%20marker_a7821a7f43db40029a34672a6e550a93.bindPopup%28popup_f37b36ed5cef4b569290cedcf3795af2%29%0A%20%20%20%20%20%20%20%20%3B%0A%0A%20%20%20%20%20%20%20%20%0A%20%20%20%20%0A%20%20%20%20%0A%20%20%20%20%20%20%20%20%20%20%20%20var%20marker_6bf05f6a780147adb1c9332e7fc2cebe%20%3D%20L.marker%28%0A%20%20%20%20%20%20%20%20%20%20%20%20%20%20%20%20%5B43.77092867%2C%2011.26371433%5D%2C%0A%20%20%20%20%20%20%20%20%20%20%20%20%20%20%20%20%7B%7D%0A%20%20%20%20%20%20%20%20%20%20%20%20%29.addTo%28map_cb5ddea0a149466984ccacda88dfafab%29%3B%0A%20%20%20%20%20%20%20%20%0A%20%20%20%20%0A%20%20%20%20%20%20%20%20var%20popup_e6bce642b2624426a306ad62399f58df%20%3D%20L.popup%28%7B%22maxWidth%22%3A%20%22100%25%22%7D%29%3B%0A%0A%20%20%20%20%20%20%20%20%0A%20%20%20%20%20%20%20%20%20%20%20%20var%20html_5c5fc6ae0384413aa964e2b0ac247791%20%3D%20%24%28%60%3Cdiv%20id%3D%22html_5c5fc6ae0384413aa964e2b0ac247791%22%20style%3D%22width%3A%20100.0%25%3B%20height%3A%20100.0%25%3B%22%3E%20%20%20%20%20%20%20%20%20%3Cul%3E%20%20%20%20%20%20%20%20%20%20%20%20%20%3Cli%3E%3Cstrong%3EID%3A%20%3C/strong%3E3124%3C/li%3E%20%20%20%20%20%20%20%20%20%20%20%20%20%3Cli%3E%3Cstrong%3ESource%3A%20%3C/strong%3EHenderson%20P%26C%20%2361%3C/li%3E%20%20%20%20%20%20%20%20%20%20%20%20%20%3Cli%3E%3Cstrong%3EName%3A%20%3C/strong%3Elegnaiuolo%3C/li%3E%20%20%20%20%20%20%20%20%20%3Cul%3E%20%20%20%20%20%3C/div%3E%60%29%5B0%5D%3B%0A%20%20%20%20%20%20%20%20%20%20%20%20popup_e6bce642b2624426a306ad62399f58df.setContent%28html_5c5fc6ae0384413aa964e2b0ac247791%29%3B%0A%20%20%20%20%20%20%20%20%0A%0A%20%20%20%20%20%20%20%20marker_6bf05f6a780147adb1c9332e7fc2cebe.bindPopup%28popup_e6bce642b2624426a306ad62399f58df%29%0A%20%20%20%20%20%20%20%20%3B%0A%0A%20%20%20%20%20%20%20%20%0A%20%20%20%20%0A%20%20%20%20%0A%20%20%20%20%20%20%20%20%20%20%20%20var%20marker_6aa12788d24e48e0bb919877e497dfb4%20%3D%20L.marker%28%0A%20%20%20%20%20%20%20%20%20%20%20%20%20%20%20%20%5B43.77706373%2C%2011.24898549%5D%2C%0A%20%20%20%20%20%20%20%20%20%20%20%20%20%20%20%20%7B%7D%0A%20%20%20%20%20%20%20%20%20%20%20%20%29.addTo%28map_cb5ddea0a149466984ccacda88dfafab%29%3B%0A%20%20%20%20%20%20%20%20%0A%20%20%20%20%0A%20%20%20%20%20%20%20%20var%20popup_03377496d94441228ca8bca6b86c7da2%20%3D%20L.popup%28%7B%22maxWidth%22%3A%20%22100%25%22%7D%29%3B%0A%0A%20%20%20%20%20%20%20%20%0A%20%20%20%20%20%20%20%20%20%20%20%20var%20html_7e752a8bbf104cac8ec4305bb3f6b7d7%20%3D%20%24%28%60%3Cdiv%20id%3D%22html_7e752a8bbf104cac8ec4305bb3f6b7d7%22%20style%3D%22width%3A%20100.0%25%3B%20height%3A%20100.0%25%3B%22%3E%20%20%20%20%20%20%20%20%20%3Cul%3E%20%20%20%20%20%20%20%20%20%20%20%20%20%3Cli%3E%3Cstrong%3EID%3A%20%3C/strong%3E4501%3C/li%3E%20%20%20%20%20%20%20%20%20%20%20%20%20%3Cli%3E%3Cstrong%3ESource%3A%20%3C/strong%3EHenderson%20P%26C%20%236%3C/li%3E%20%20%20%20%20%20%20%20%20%20%20%20%20%3Cli%3E%3Cstrong%3EName%3A%20%3C/strong%3Efattorino%3C/li%3E%20%20%20%20%20%20%20%20%20%3Cul%3E%20%20%20%20%20%3C/div%3E%60%29%5B0%5D%3B%0A%20%20%20%20%20%20%20%20%20%20%20%20popup_03377496d94441228ca8bca6b86c7da2.setContent%28html_7e752a8bbf104cac8ec4305bb3f6b7d7%29%3B%0A%20%20%20%20%20%20%20%20%0A%0A%20%20%20%20%20%20%20%20marker_6aa12788d24e48e0bb919877e497dfb4.bindPopup%28popup_03377496d94441228ca8bca6b86c7da2%29%0A%20%20%20%20%20%20%20%20%3B%0A%0A%20%20%20%20%20%20%20%20%0A%20%20%20%20%0A%20%20%20%20%0A%20%20%20%20%20%20%20%20%20%20%20%20var%20marker_100e04d2a1694019b241ca4bf2d12a8d%20%3D%20L.marker%28%0A%20%20%20%20%20%20%20%20%20%20%20%20%20%20%20%20%5B43.771575%2C%2011.265926%5D%2C%0A%20%20%20%20%20%20%20%20%20%20%20%20%20%20%20%20%7B%7D%0A%20%20%20%20%20%20%20%20%20%20%20%20%29.addTo%28map_cb5ddea0a149466984ccacda88dfafab%29%3B%0A%20%20%20%20%20%20%20%20%0A%20%20%20%20%0A%20%20%20%20%20%20%20%20var%20popup_a5587159ef8b46f1afb498104316ebd8%20%3D%20L.popup%28%7B%22maxWidth%22%3A%20%22100%25%22%7D%29%3B%0A%0A%20%20%20%20%20%20%20%20%0A%20%20%20%20%20%20%20%20%20%20%20%20var%20html_e7397b654d3b4752b9ba1b9a9f14a162%20%3D%20%24%28%60%3Cdiv%20id%3D%22html_e7397b654d3b4752b9ba1b9a9f14a162%22%20style%3D%22width%3A%20100.0%25%3B%20height%3A%20100.0%25%3B%22%3E%20%20%20%20%20%20%20%20%20%3Cul%3E%20%20%20%20%20%20%20%20%20%20%20%20%20%3Cli%3E%3Cstrong%3EID%3A%20%3C/strong%3E2873%3C/li%3E%20%20%20%20%20%20%20%20%20%20%20%20%20%3Cli%3E%3Cstrong%3ESource%3A%20%3C/strong%3Enan%3C/li%3E%20%20%20%20%20%20%20%20%20%20%20%20%20%3Cli%3E%3Cstrong%3EName%3A%20%3C/strong%3Enan%3C/li%3E%20%20%20%20%20%20%20%20%20%3Cul%3E%20%20%20%20%20%3C/div%3E%60%29%5B0%5D%3B%0A%20%20%20%20%20%20%20%20%20%20%20%20popup_a5587159ef8b46f1afb498104316ebd8.setContent%28html_e7397b654d3b4752b9ba1b9a9f14a162%29%3B%0A%20%20%20%20%20%20%20%20%0A%0A%20%20%20%20%20%20%20%20marker_100e04d2a1694019b241ca4bf2d12a8d.bindPopup%28popup_a5587159ef8b46f1afb498104316ebd8%29%0A%20%20%20%20%20%20%20%20%3B%0A%0A%20%20%20%20%20%20%20%20%0A%20%20%20%20%0A%20%20%20%20%0A%20%20%20%20%20%20%20%20%20%20%20%20var%20marker_5aa4b60cc1d047e087bf61957e29c174%20%3D%20L.marker%28%0A%20%20%20%20%20%20%20%20%20%20%20%20%20%20%20%20%5B43.768454%2C%2011.257542%5D%2C%0A%20%20%20%20%20%20%20%20%20%20%20%20%20%20%20%20%7B%7D%0A%20%20%20%20%20%20%20%20%20%20%20%20%29.addTo%28map_cb5ddea0a149466984ccacda88dfafab%29%3B%0A%20%20%20%20%20%20%20%20%0A%20%20%20%20%0A%20%20%20%20%20%20%20%20var%20popup_70f799349866421ba734cf6023d2e7d1%20%3D%20L.popup%28%7B%22maxWidth%22%3A%20%22100%25%22%7D%29%3B%0A%0A%20%20%20%20%20%20%20%20%0A%20%20%20%20%20%20%20%20%20%20%20%20var%20html_5a58881c74e849428ce2b8ff0a8d9432%20%3D%20%24%28%60%3Cdiv%20id%3D%22html_5a58881c74e849428ce2b8ff0a8d9432%22%20style%3D%22width%3A%20100.0%25%3B%20height%3A%20100.0%25%3B%22%3E%20%20%20%20%20%20%20%20%20%3Cul%3E%20%20%20%20%20%20%20%20%20%20%20%20%20%3Cli%3E%3Cstrong%3EID%3A%20%3C/strong%3E4758%3C/li%3E%20%20%20%20%20%20%20%20%20%20%20%20%20%3Cli%3E%3Cstrong%3ESource%3A%20%3C/strong%3Enan%3C/li%3E%20%20%20%20%20%20%20%20%20%20%20%20%20%3Cli%3E%3Cstrong%3EName%3A%20%3C/strong%3Enan%3C/li%3E%20%20%20%20%20%20%20%20%20%3Cul%3E%20%20%20%20%20%3C/div%3E%60%29%5B0%5D%3B%0A%20%20%20%20%20%20%20%20%20%20%20%20popup_70f799349866421ba734cf6023d2e7d1.setContent%28html_5a58881c74e849428ce2b8ff0a8d9432%29%3B%0A%20%20%20%20%20%20%20%20%0A%0A%20%20%20%20%20%20%20%20marker_5aa4b60cc1d047e087bf61957e29c174.bindPopup%28popup_70f799349866421ba734cf6023d2e7d1%29%0A%20%20%20%20%20%20%20%20%3B%0A%0A%20%20%20%20%20%20%20%20%0A%20%20%20%20%0A%20%20%20%20%0A%20%20%20%20%20%20%20%20%20%20%20%20var%20marker_e8996a9b96c347018eb3a3d8258dfaab%20%3D%20L.marker%28%0A%20%20%20%20%20%20%20%20%20%20%20%20%20%20%20%20%5B43.77538%2C%2011.24949%5D%2C%0A%20%20%20%20%20%20%20%20%20%20%20%20%20%20%20%20%7B%7D%0A%20%20%20%20%20%20%20%20%20%20%20%20%29.addTo%28map_cb5ddea0a149466984ccacda88dfafab%29%3B%0A%20%20%20%20%20%20%20%20%0A%20%20%20%20%0A%20%20%20%20%20%20%20%20var%20popup_8dd4ddb310d242c2bb3ac99e7c2cef1a%20%3D%20L.popup%28%7B%22maxWidth%22%3A%20%22100%25%22%7D%29%3B%0A%0A%20%20%20%20%20%20%20%20%0A%20%20%20%20%20%20%20%20%20%20%20%20var%20html_6a1f1b8e87c942efbaacef4d5852ecbc%20%3D%20%24%28%60%3Cdiv%20id%3D%22html_6a1f1b8e87c942efbaacef4d5852ecbc%22%20style%3D%22width%3A%20100.0%25%3B%20height%3A%20100.0%25%3B%22%3E%20%20%20%20%20%20%20%20%20%3Cul%3E%20%20%20%20%20%20%20%20%20%20%20%20%20%3Cli%3E%3Cstrong%3EID%3A%20%3C/strong%3E4024%3C/li%3E%20%20%20%20%20%20%20%20%20%20%20%20%20%3Cli%3E%3Cstrong%3ESource%3A%20%3C/strong%3Enan%3C/li%3E%20%20%20%20%20%20%20%20%20%20%20%20%20%3Cli%3E%3Cstrong%3EName%3A%20%3C/strong%3Enan%3C/li%3E%20%20%20%20%20%20%20%20%20%3Cul%3E%20%20%20%20%20%3C/div%3E%60%29%5B0%5D%3B%0A%20%20%20%20%20%20%20%20%20%20%20%20popup_8dd4ddb310d242c2bb3ac99e7c2cef1a.setContent%28html_6a1f1b8e87c942efbaacef4d5852ecbc%29%3B%0A%20%20%20%20%20%20%20%20%0A%0A%20%20%20%20%20%20%20%20marker_e8996a9b96c347018eb3a3d8258dfaab.bindPopup%28popup_8dd4ddb310d242c2bb3ac99e7c2cef1a%29%0A%20%20%20%20%20%20%20%20%3B%0A%0A%20%20%20%20%20%20%20%20%0A%20%20%20%20%0A%20%20%20%20%0A%20%20%20%20%20%20%20%20%20%20%20%20var%20marker_8a4fd99fb9ad480ab56153cb9f3747ec%20%3D%20L.marker%28%0A%20%20%20%20%20%20%20%20%20%20%20%20%20%20%20%20%5B43.77695321%2C%2011.25422064%5D%2C%0A%20%20%20%20%20%20%20%20%20%20%20%20%20%20%20%20%7B%7D%0A%20%20%20%20%20%20%20%20%20%20%20%20%29.addTo%28map_cb5ddea0a149466984ccacda88dfafab%29%3B%0A%20%20%20%20%20%20%20%20%0A%20%20%20%20%0A%20%20%20%20%20%20%20%20var%20popup_aae96c9a3b554931aa0b601a442901f0%20%3D%20L.popup%28%7B%22maxWidth%22%3A%20%22100%25%22%7D%29%3B%0A%0A%20%20%20%20%20%20%20%20%0A%20%20%20%20%20%20%20%20%20%20%20%20var%20html_e8bd4467d77c481e883f37a1d205f75b%20%3D%20%24%28%60%3Cdiv%20id%3D%22html_e8bd4467d77c481e883f37a1d205f75b%22%20style%3D%22width%3A%20100.0%25%3B%20height%3A%20100.0%25%3B%22%3E%20%20%20%20%20%20%20%20%20%3Cul%3E%20%20%20%20%20%20%20%20%20%20%20%20%20%3Cli%3E%3Cstrong%3EID%3A%20%3C/strong%3E283%3C/li%3E%20%20%20%20%20%20%20%20%20%20%20%20%20%3Cli%3E%3Cstrong%3ESource%3A%20%3C/strong%3EHenderson%20P%26C%20%23156%3C/li%3E%20%20%20%20%20%20%20%20%20%20%20%20%20%3Cli%3E%3Cstrong%3EName%3A%20%3C/strong%3Etessitore%3C/li%3E%20%20%20%20%20%20%20%20%20%3Cul%3E%20%20%20%20%20%3C/div%3E%60%29%5B0%5D%3B%0A%20%20%20%20%20%20%20%20%20%20%20%20popup_aae96c9a3b554931aa0b601a442901f0.setContent%28html_e8bd4467d77c481e883f37a1d205f75b%29%3B%0A%20%20%20%20%20%20%20%20%0A%0A%20%20%20%20%20%20%20%20marker_8a4fd99fb9ad480ab56153cb9f3747ec.bindPopup%28popup_aae96c9a3b554931aa0b601a442901f0%29%0A%20%20%20%20%20%20%20%20%3B%0A%0A%20%20%20%20%20%20%20%20%0A%20%20%20%20%0A%20%20%20%20%0A%20%20%20%20%20%20%20%20%20%20%20%20var%20marker_65c5561a0c434cc49c4953a706ac2d46%20%3D%20L.marker%28%0A%20%20%20%20%20%20%20%20%20%20%20%20%20%20%20%20%5B43.77731413%2C%2011.25176996%5D%2C%0A%20%20%20%20%20%20%20%20%20%20%20%20%20%20%20%20%7B%7D%0A%20%20%20%20%20%20%20%20%20%20%20%20%29.addTo%28map_cb5ddea0a149466984ccacda88dfafab%29%3B%0A%20%20%20%20%20%20%20%20%0A%20%20%20%20%0A%20%20%20%20%20%20%20%20var%20popup_b095feb0c68f44448309e2fc79fe08ac%20%3D%20L.popup%28%7B%22maxWidth%22%3A%20%22100%25%22%7D%29%3B%0A%0A%20%20%20%20%20%20%20%20%0A%20%20%20%20%20%20%20%20%20%20%20%20var%20html_5a511761d7984287bde54932a8001cdd%20%3D%20%24%28%60%3Cdiv%20id%3D%22html_5a511761d7984287bde54932a8001cdd%22%20style%3D%22width%3A%20100.0%25%3B%20height%3A%20100.0%25%3B%22%3E%20%20%20%20%20%20%20%20%20%3Cul%3E%20%20%20%20%20%20%20%20%20%20%20%20%20%3Cli%3E%3Cstrong%3EID%3A%20%3C/strong%3E41%3C/li%3E%20%20%20%20%20%20%20%20%20%20%20%20%20%3Cli%3E%3Cstrong%3ESource%3A%20%3C/strong%3Enan%3C/li%3E%20%20%20%20%20%20%20%20%20%20%20%20%20%3Cli%3E%3Cstrong%3EName%3A%20%3C/strong%3Enan%3C/li%3E%20%20%20%20%20%20%20%20%20%3Cul%3E%20%20%20%20%20%3C/div%3E%60%29%5B0%5D%3B%0A%20%20%20%20%20%20%20%20%20%20%20%20popup_b095feb0c68f44448309e2fc79fe08ac.setContent%28html_5a511761d7984287bde54932a8001cdd%29%3B%0A%20%20%20%20%20%20%20%20%0A%0A%20%20%20%20%20%20%20%20marker_65c5561a0c434cc49c4953a706ac2d46.bindPopup%28popup_b095feb0c68f44448309e2fc79fe08ac%29%0A%20%20%20%20%20%20%20%20%3B%0A%0A%20%20%20%20%20%20%20%20%0A%20%20%20%20%0A%20%20%20%20%0A%20%20%20%20%20%20%20%20%20%20%20%20var%20marker_ae23e4a56323485b91d86b340a717cd2%20%3D%20L.marker%28%0A%20%20%20%20%20%20%20%20%20%20%20%20%20%20%20%20%5B43.77295667%2C%2011.25918333%5D%2C%0A%20%20%20%20%20%20%20%20%20%20%20%20%20%20%20%20%7B%7D%0A%20%20%20%20%20%20%20%20%20%20%20%20%29.addTo%28map_cb5ddea0a149466984ccacda88dfafab%29%3B%0A%20%20%20%20%20%20%20%20%0A%20%20%20%20%0A%20%20%20%20%20%20%20%20var%20popup_4494909b77ab4c52933a389d9712da15%20%3D%20L.popup%28%7B%22maxWidth%22%3A%20%22100%25%22%7D%29%3B%0A%0A%20%20%20%20%20%20%20%20%0A%20%20%20%20%20%20%20%20%20%20%20%20var%20html_9974ba249a894a48ba84159ede507b2a%20%3D%20%24%28%60%3Cdiv%20id%3D%22html_9974ba249a894a48ba84159ede507b2a%22%20style%3D%22width%3A%20100.0%25%3B%20height%3A%20100.0%25%3B%22%3E%20%20%20%20%20%20%20%20%20%3Cul%3E%20%20%20%20%20%20%20%20%20%20%20%20%20%3Cli%3E%3Cstrong%3EID%3A%20%3C/strong%3E2002%3C/li%3E%20%20%20%20%20%20%20%20%20%20%20%20%20%3Cli%3E%3Cstrong%3ESource%3A%20%3C/strong%3Enan%3C/li%3E%20%20%20%20%20%20%20%20%20%20%20%20%20%3Cli%3E%3Cstrong%3EName%3A%20%3C/strong%3Enan%3C/li%3E%20%20%20%20%20%20%20%20%20%3Cul%3E%20%20%20%20%20%3C/div%3E%60%29%5B0%5D%3B%0A%20%20%20%20%20%20%20%20%20%20%20%20popup_4494909b77ab4c52933a389d9712da15.setContent%28html_9974ba249a894a48ba84159ede507b2a%29%3B%0A%20%20%20%20%20%20%20%20%0A%0A%20%20%20%20%20%20%20%20marker_ae23e4a56323485b91d86b340a717cd2.bindPopup%28popup_4494909b77ab4c52933a389d9712da15%29%0A%20%20%20%20%20%20%20%20%3B%0A%0A%20%20%20%20%20%20%20%20%0A%20%20%20%20%0A%20%20%20%20%0A%20%20%20%20%20%20%20%20%20%20%20%20var%20marker_587e0a81a0a84e66912fe36d1d7227d3%20%3D%20L.marker%28%0A%20%20%20%20%20%20%20%20%20%20%20%20%20%20%20%20%5B43.772025%2C%2011.24917%5D%2C%0A%20%20%20%20%20%20%20%20%20%20%20%20%20%20%20%20%7B%7D%0A%20%20%20%20%20%20%20%20%20%20%20%20%29.addTo%28map_cb5ddea0a149466984ccacda88dfafab%29%3B%0A%20%20%20%20%20%20%20%20%0A%20%20%20%20%0A%20%20%20%20%20%20%20%20var%20popup_e0f6f56743dd4633b326ac42a2ad2d1a%20%3D%20L.popup%28%7B%22maxWidth%22%3A%20%22100%25%22%7D%29%3B%0A%0A%20%20%20%20%20%20%20%20%0A%20%20%20%20%20%20%20%20%20%20%20%20var%20html_ef4a2d2f8394441f94e40fd8f4fab531%20%3D%20%24%28%60%3Cdiv%20id%3D%22html_ef4a2d2f8394441f94e40fd8f4fab531%22%20style%3D%22width%3A%20100.0%25%3B%20height%3A%20100.0%25%3B%22%3E%20%20%20%20%20%20%20%20%20%3Cul%3E%20%20%20%20%20%20%20%20%20%20%20%20%20%3Cli%3E%3Cstrong%3EID%3A%20%3C/strong%3E5222%3C/li%3E%20%20%20%20%20%20%20%20%20%20%20%20%20%3Cli%3E%3Cstrong%3ESource%3A%20%3C/strong%3EHenderson%20P%26C%20%232%3C/li%3E%20%20%20%20%20%20%20%20%20%20%20%20%20%3Cli%3E%3Cstrong%3EName%3A%20%3C/strong%3Enan%3C/li%3E%20%20%20%20%20%20%20%20%20%3Cul%3E%20%20%20%20%20%3C/div%3E%60%29%5B0%5D%3B%0A%20%20%20%20%20%20%20%20%20%20%20%20popup_e0f6f56743dd4633b326ac42a2ad2d1a.setContent%28html_ef4a2d2f8394441f94e40fd8f4fab531%29%3B%0A%20%20%20%20%20%20%20%20%0A%0A%20%20%20%20%20%20%20%20marker_587e0a81a0a84e66912fe36d1d7227d3.bindPopup%28popup_e0f6f56743dd4633b326ac42a2ad2d1a%29%0A%20%20%20%20%20%20%20%20%3B%0A%0A%20%20%20%20%20%20%20%20%0A%20%20%20%20%0A%20%20%20%20%0A%20%20%20%20%20%20%20%20%20%20%20%20var%20marker_f7f5ac119fc9470b9b918624d4900f7c%20%3D%20L.marker%28%0A%20%20%20%20%20%20%20%20%20%20%20%20%20%20%20%20%5B43.76572779%2C%2011.24389164%5D%2C%0A%20%20%20%20%20%20%20%20%20%20%20%20%20%20%20%20%7B%7D%0A%20%20%20%20%20%20%20%20%20%20%20%20%29.addTo%28map_cb5ddea0a149466984ccacda88dfafab%29%3B%0A%20%20%20%20%20%20%20%20%0A%20%20%20%20%0A%20%20%20%20%20%20%20%20var%20popup_0914bad0ebd245cbb915a4624c66d2f2%20%3D%20L.popup%28%7B%22maxWidth%22%3A%20%22100%25%22%7D%29%3B%0A%0A%20%20%20%20%20%20%20%20%0A%20%20%20%20%20%20%20%20%20%20%20%20var%20html_081c900b3cf7409691f4d3fe458381f9%20%3D%20%24%28%60%3Cdiv%20id%3D%22html_081c900b3cf7409691f4d3fe458381f9%22%20style%3D%22width%3A%20100.0%25%3B%20height%3A%20100.0%25%3B%22%3E%20%20%20%20%20%20%20%20%20%3Cul%3E%20%20%20%20%20%20%20%20%20%20%20%20%20%3Cli%3E%3Cstrong%3EID%3A%20%3C/strong%3E7374%3C/li%3E%20%20%20%20%20%20%20%20%20%20%20%20%20%3Cli%3E%3Cstrong%3ESource%3A%20%3C/strong%3EHenderson%20P%26C%20%232%3C/li%3E%20%20%20%20%20%20%20%20%20%20%20%20%20%3Cli%3E%3Cstrong%3EName%3A%20%3C/strong%3Etessitore%20di%20drappi%3C/li%3E%20%20%20%20%20%20%20%20%20%3Cul%3E%20%20%20%20%20%3C/div%3E%60%29%5B0%5D%3B%0A%20%20%20%20%20%20%20%20%20%20%20%20popup_0914bad0ebd245cbb915a4624c66d2f2.setContent%28html_081c900b3cf7409691f4d3fe458381f9%29%3B%0A%20%20%20%20%20%20%20%20%0A%0A%20%20%20%20%20%20%20%20marker_f7f5ac119fc9470b9b918624d4900f7c.bindPopup%28popup_0914bad0ebd245cbb915a4624c66d2f2%29%0A%20%20%20%20%20%20%20%20%3B%0A%0A%20%20%20%20%20%20%20%20%0A%20%20%20%20%0A%20%20%20%20%0A%20%20%20%20%20%20%20%20%20%20%20%20var%20marker_3b0daab95a7e422ab7649f326eee2510%20%3D%20L.marker%28%0A%20%20%20%20%20%20%20%20%20%20%20%20%20%20%20%20%5B43.76868867%2C%2011.24354133%5D%2C%0A%20%20%20%20%20%20%20%20%20%20%20%20%20%20%20%20%7B%7D%0A%20%20%20%20%20%20%20%20%20%20%20%20%29.addTo%28map_cb5ddea0a149466984ccacda88dfafab%29%3B%0A%20%20%20%20%20%20%20%20%0A%20%20%20%20%0A%20%20%20%20%20%20%20%20var%20popup_8ad7bb35326143f1b8a69274efb211fa%20%3D%20L.popup%28%7B%22maxWidth%22%3A%20%22100%25%22%7D%29%3B%0A%0A%20%20%20%20%20%20%20%20%0A%20%20%20%20%20%20%20%20%20%20%20%20var%20html_7c6d1643d0094304af753b5de91bdbc7%20%3D%20%24%28%60%3Cdiv%20id%3D%22html_7c6d1643d0094304af753b5de91bdbc7%22%20style%3D%22width%3A%20100.0%25%3B%20height%3A%20100.0%25%3B%22%3E%20%20%20%20%20%20%20%20%20%3Cul%3E%20%20%20%20%20%20%20%20%20%20%20%20%20%3Cli%3E%3Cstrong%3EID%3A%20%3C/strong%3E8490%3C/li%3E%20%20%20%20%20%20%20%20%20%20%20%20%20%3Cli%3E%3Cstrong%3ESource%3A%20%3C/strong%3EHenderson%20P%26C%20%232%3C/li%3E%20%20%20%20%20%20%20%20%20%20%20%20%20%3Cli%3E%3Cstrong%3EName%3A%20%3C/strong%3Enan%3C/li%3E%20%20%20%20%20%20%20%20%20%3Cul%3E%20%20%20%20%20%3C/div%3E%60%29%5B0%5D%3B%0A%20%20%20%20%20%20%20%20%20%20%20%20popup_8ad7bb35326143f1b8a69274efb211fa.setContent%28html_7c6d1643d0094304af753b5de91bdbc7%29%3B%0A%20%20%20%20%20%20%20%20%0A%0A%20%20%20%20%20%20%20%20marker_3b0daab95a7e422ab7649f326eee2510.bindPopup%28popup_8ad7bb35326143f1b8a69274efb211fa%29%0A%20%20%20%20%20%20%20%20%3B%0A%0A%20%20%20%20%20%20%20%20%0A%20%20%20%20%0A%20%20%20%20%0A%20%20%20%20%20%20%20%20%20%20%20%20var%20marker_dfff0ff4c3f54074abbe7918117eca7d%20%3D%20L.marker%28%0A%20%20%20%20%20%20%20%20%20%20%20%20%20%20%20%20%5B43.76966957%2C%2011.24372429%5D%2C%0A%20%20%20%20%20%20%20%20%20%20%20%20%20%20%20%20%7B%7D%0A%20%20%20%20%20%20%20%20%20%20%20%20%29.addTo%28map_cb5ddea0a149466984ccacda88dfafab%29%3B%0A%20%20%20%20%20%20%20%20%0A%20%20%20%20%0A%20%20%20%20%20%20%20%20var%20popup_935f00697e424a9d9b4a7a7e0f51ebb1%20%3D%20L.popup%28%7B%22maxWidth%22%3A%20%22100%25%22%7D%29%3B%0A%0A%20%20%20%20%20%20%20%20%0A%20%20%20%20%20%20%20%20%20%20%20%20var%20html_b533fd7eb57b4a8f9453a2a16ab13e0d%20%3D%20%24%28%60%3Cdiv%20id%3D%22html_b533fd7eb57b4a8f9453a2a16ab13e0d%22%20style%3D%22width%3A%20100.0%25%3B%20height%3A%20100.0%25%3B%22%3E%20%20%20%20%20%20%20%20%20%3Cul%3E%20%20%20%20%20%20%20%20%20%20%20%20%20%3Cli%3E%3Cstrong%3EID%3A%20%3C/strong%3E8531%3C/li%3E%20%20%20%20%20%20%20%20%20%20%20%20%20%3Cli%3E%3Cstrong%3ESource%3A%20%3C/strong%3EHenderson%20P%26C%20%232%3C/li%3E%20%20%20%20%20%20%20%20%20%20%20%20%20%3Cli%3E%3Cstrong%3EName%3A%20%3C/strong%3Enan%3C/li%3E%20%20%20%20%20%20%20%20%20%3Cul%3E%20%20%20%20%20%3C/div%3E%60%29%5B0%5D%3B%0A%20%20%20%20%20%20%20%20%20%20%20%20popup_935f00697e424a9d9b4a7a7e0f51ebb1.setContent%28html_b533fd7eb57b4a8f9453a2a16ab13e0d%29%3B%0A%20%20%20%20%20%20%20%20%0A%0A%20%20%20%20%20%20%20%20marker_dfff0ff4c3f54074abbe7918117eca7d.bindPopup%28popup_935f00697e424a9d9b4a7a7e0f51ebb1%29%0A%20%20%20%20%20%20%20%20%3B%0A%0A%20%20%20%20%20%20%20%20%0A%20%20%20%20%0A%20%20%20%20%0A%20%20%20%20%20%20%20%20%20%20%20%20var%20marker_1ed5a15bf9574d569cc7fae7014eb477%20%3D%20L.marker%28%0A%20%20%20%20%20%20%20%20%20%20%20%20%20%20%20%20%5B43.771942%2C%2011.252478%5D%2C%0A%20%20%20%20%20%20%20%20%20%20%20%20%20%20%20%20%7B%7D%0A%20%20%20%20%20%20%20%20%20%20%20%20%29.addTo%28map_cb5ddea0a149466984ccacda88dfafab%29%3B%0A%20%20%20%20%20%20%20%20%0A%20%20%20%20%0A%20%20%20%20%20%20%20%20var%20popup_d4da107043f94ddf9445d02cc4614c1d%20%3D%20L.popup%28%7B%22maxWidth%22%3A%20%22100%25%22%7D%29%3B%0A%0A%20%20%20%20%20%20%20%20%0A%20%20%20%20%20%20%20%20%20%20%20%20var%20html_629971f7bbda473798997dd401f889ba%20%3D%20%24%28%60%3Cdiv%20id%3D%22html_629971f7bbda473798997dd401f889ba%22%20style%3D%22width%3A%20100.0%25%3B%20height%3A%20100.0%25%3B%22%3E%20%20%20%20%20%20%20%20%20%3Cul%3E%20%20%20%20%20%20%20%20%20%20%20%20%20%3Cli%3E%3Cstrong%3EID%3A%20%3C/strong%3E6044%3C/li%3E%20%20%20%20%20%20%20%20%20%20%20%20%20%3Cli%3E%3Cstrong%3ESource%3A%20%3C/strong%3EHenderson%20P%26C%20%2350%3C/li%3E%20%20%20%20%20%20%20%20%20%20%20%20%20%3Cli%3E%3Cstrong%3EName%3A%20%3C/strong%3Epollaiuolo%3C/li%3E%20%20%20%20%20%20%20%20%20%3Cul%3E%20%20%20%20%20%3C/div%3E%60%29%5B0%5D%3B%0A%20%20%20%20%20%20%20%20%20%20%20%20popup_d4da107043f94ddf9445d02cc4614c1d.setContent%28html_629971f7bbda473798997dd401f889ba%29%3B%0A%20%20%20%20%20%20%20%20%0A%0A%20%20%20%20%20%20%20%20marker_1ed5a15bf9574d569cc7fae7014eb477.bindPopup%28popup_d4da107043f94ddf9445d02cc4614c1d%29%0A%20%20%20%20%20%20%20%20%3B%0A%0A%20%20%20%20%20%20%20%20%0A%20%20%20%20%0A%20%20%20%20%0A%20%20%20%20%20%20%20%20%20%20%20%20var%20marker_b1f0aac153ba4df28cffe563b6071da9%20%3D%20L.marker%28%0A%20%20%20%20%20%20%20%20%20%20%20%20%20%20%20%20%5B43.76976343%2C%2011.24340071%5D%2C%0A%20%20%20%20%20%20%20%20%20%20%20%20%20%20%20%20%7B%7D%0A%20%20%20%20%20%20%20%20%20%20%20%20%29.addTo%28map_cb5ddea0a149466984ccacda88dfafab%29%3B%0A%20%20%20%20%20%20%20%20%0A%20%20%20%20%0A%20%20%20%20%20%20%20%20var%20popup_90241fd7c6174bb4a1163eefe1a385d0%20%3D%20L.popup%28%7B%22maxWidth%22%3A%20%22100%25%22%7D%29%3B%0A%0A%20%20%20%20%20%20%20%20%0A%20%20%20%20%20%20%20%20%20%20%20%20var%20html_3cd75382c83c478181c54aed30dc76a3%20%3D%20%24%28%60%3Cdiv%20id%3D%22html_3cd75382c83c478181c54aed30dc76a3%22%20style%3D%22width%3A%20100.0%25%3B%20height%3A%20100.0%25%3B%22%3E%20%20%20%20%20%20%20%20%20%3Cul%3E%20%20%20%20%20%20%20%20%20%20%20%20%20%3Cli%3E%3Cstrong%3EID%3A%20%3C/strong%3E8431%3C/li%3E%20%20%20%20%20%20%20%20%20%20%20%20%20%3Cli%3E%3Cstrong%3ESource%3A%20%3C/strong%3EHenderson%20P%26C%20105%3C/li%3E%20%20%20%20%20%20%20%20%20%20%20%20%20%3Cli%3E%3Cstrong%3EName%3A%20%3C/strong%3Eoste%3C/li%3E%20%20%20%20%20%20%20%20%20%3Cul%3E%20%20%20%20%20%3C/div%3E%60%29%5B0%5D%3B%0A%20%20%20%20%20%20%20%20%20%20%20%20popup_90241fd7c6174bb4a1163eefe1a385d0.setContent%28html_3cd75382c83c478181c54aed30dc76a3%29%3B%0A%20%20%20%20%20%20%20%20%0A%0A%20%20%20%20%20%20%20%20marker_b1f0aac153ba4df28cffe563b6071da9.bindPopup%28popup_90241fd7c6174bb4a1163eefe1a385d0%29%0A%20%20%20%20%20%20%20%20%3B%0A%0A%20%20%20%20%20%20%20%20%0A%20%20%20%20%0A%20%20%20%20%0A%20%20%20%20%20%20%20%20%20%20%20%20var%20marker_9370451463794e25931cd5d9bc454093%20%3D%20L.marker%28%0A%20%20%20%20%20%20%20%20%20%20%20%20%20%20%20%20%5B43.76669727%2C%2011.25292636%5D%2C%0A%20%20%20%20%20%20%20%20%20%20%20%20%20%20%20%20%7B%7D%0A%20%20%20%20%20%20%20%20%20%20%20%20%29.addTo%28map_cb5ddea0a149466984ccacda88dfafab%29%3B%0A%20%20%20%20%20%20%20%20%0A%20%20%20%20%0A%20%20%20%20%20%20%20%20var%20popup_63dea08919d8424b8d3ae0ce904fd19b%20%3D%20L.popup%28%7B%22maxWidth%22%3A%20%22100%25%22%7D%29%3B%0A%0A%20%20%20%20%20%20%20%20%0A%20%20%20%20%20%20%20%20%20%20%20%20var%20html_7c22b3c6bfa040a390dbaf1680b0473c%20%3D%20%24%28%60%3Cdiv%20id%3D%22html_7c22b3c6bfa040a390dbaf1680b0473c%22%20style%3D%22width%3A%20100.0%25%3B%20height%3A%20100.0%25%3B%22%3E%20%20%20%20%20%20%20%20%20%3Cul%3E%20%20%20%20%20%20%20%20%20%20%20%20%20%3Cli%3E%3Cstrong%3EID%3A%20%3C/strong%3E6016%3C/li%3E%20%20%20%20%20%20%20%20%20%20%20%20%20%3Cli%3E%3Cstrong%3ESource%3A%20%3C/strong%3EHenderson%20P%26C%20%239%3C/li%3E%20%20%20%20%20%20%20%20%20%20%20%20%20%3Cli%3E%3Cstrong%3EName%3A%20%3C/strong%3Efornaio%3C/li%3E%20%20%20%20%20%20%20%20%20%3Cul%3E%20%20%20%20%20%3C/div%3E%60%29%5B0%5D%3B%0A%20%20%20%20%20%20%20%20%20%20%20%20popup_63dea08919d8424b8d3ae0ce904fd19b.setContent%28html_7c22b3c6bfa040a390dbaf1680b0473c%29%3B%0A%20%20%20%20%20%20%20%20%0A%0A%20%20%20%20%20%20%20%20marker_9370451463794e25931cd5d9bc454093.bindPopup%28popup_63dea08919d8424b8d3ae0ce904fd19b%29%0A%20%20%20%20%20%20%20%20%3B%0A%0A%20%20%20%20%20%20%20%20%0A%20%20%20%20%0A%20%20%20%20%0A%20%20%20%20%20%20%20%20%20%20%20%20var%20marker_3bafc6a44f1044928e36ec19d729a4ee%20%3D%20L.marker%28%0A%20%20%20%20%20%20%20%20%20%20%20%20%20%20%20%20%5B43.772855%2C%2011.244225%5D%2C%0A%20%20%20%20%20%20%20%20%20%20%20%20%20%20%20%20%7B%7D%0A%20%20%20%20%20%20%20%20%20%20%20%20%29.addTo%28map_cb5ddea0a149466984ccacda88dfafab%29%3B%0A%20%20%20%20%20%20%20%20%0A%20%20%20%20%0A%20%20%20%20%20%20%20%20var%20popup_8abb734a655742aa95e6dc8c7618ea65%20%3D%20L.popup%28%7B%22maxWidth%22%3A%20%22100%25%22%7D%29%3B%0A%0A%20%20%20%20%20%20%20%20%0A%20%20%20%20%20%20%20%20%20%20%20%20var%20html_eef47560b6d5426895bcc66a931315c9%20%3D%20%24%28%60%3Cdiv%20id%3D%22html_eef47560b6d5426895bcc66a931315c9%22%20style%3D%22width%3A%20100.0%25%3B%20height%3A%20100.0%25%3B%22%3E%20%20%20%20%20%20%20%20%20%3Cul%3E%20%20%20%20%20%20%20%20%20%20%20%20%20%3Cli%3E%3Cstrong%3EID%3A%20%3C/strong%3E5045%3C/li%3E%20%20%20%20%20%20%20%20%20%20%20%20%20%3Cli%3E%3Cstrong%3ESource%3A%20%3C/strong%3EHenderson%20P%26C%20%2322%3C/li%3E%20%20%20%20%20%20%20%20%20%20%20%20%20%3Cli%3E%3Cstrong%3EName%3A%20%3C/strong%3Etessitore%3C/li%3E%20%20%20%20%20%20%20%20%20%3Cul%3E%20%20%20%20%20%3C/div%3E%60%29%5B0%5D%3B%0A%20%20%20%20%20%20%20%20%20%20%20%20popup_8abb734a655742aa95e6dc8c7618ea65.setContent%28html_eef47560b6d5426895bcc66a931315c9%29%3B%0A%20%20%20%20%20%20%20%20%0A%0A%20%20%20%20%20%20%20%20marker_3bafc6a44f1044928e36ec19d729a4ee.bindPopup%28popup_8abb734a655742aa95e6dc8c7618ea65%29%0A%20%20%20%20%20%20%20%20%3B%0A%0A%20%20%20%20%20%20%20%20%0A%20%20%20%20%0A%20%20%20%20%0A%20%20%20%20%20%20%20%20%20%20%20%20var%20marker_e6eb3dabbf2b4356a2d3938f792dd3ae%20%3D%20L.marker%28%0A%20%20%20%20%20%20%20%20%20%20%20%20%20%20%20%20%5B43.7727865%2C%2011.2443315%5D%2C%0A%20%20%20%20%20%20%20%20%20%20%20%20%20%20%20%20%7B%7D%0A%20%20%20%20%20%20%20%20%20%20%20%20%29.addTo%28map_cb5ddea0a149466984ccacda88dfafab%29%3B%0A%20%20%20%20%20%20%20%20%0A%20%20%20%20%0A%20%20%20%20%20%20%20%20var%20popup_48f135a76d1f4540a4400a012331ae17%20%3D%20L.popup%28%7B%22maxWidth%22%3A%20%22100%25%22%7D%29%3B%0A%0A%20%20%20%20%20%20%20%20%0A%20%20%20%20%20%20%20%20%20%20%20%20var%20html_9f257e4fd9ef4b1996ac93e52737e57e%20%3D%20%24%28%60%3Cdiv%20id%3D%22html_9f257e4fd9ef4b1996ac93e52737e57e%22%20style%3D%22width%3A%20100.0%25%3B%20height%3A%20100.0%25%3B%22%3E%20%20%20%20%20%20%20%20%20%3Cul%3E%20%20%20%20%20%20%20%20%20%20%20%20%20%3Cli%3E%3Cstrong%3EID%3A%20%3C/strong%3E5071%3C/li%3E%20%20%20%20%20%20%20%20%20%20%20%20%20%3Cli%3E%3Cstrong%3ESource%3A%20%3C/strong%3EHenderson%20P%26C%20%2322%3C/li%3E%20%20%20%20%20%20%20%20%20%20%20%20%20%3Cli%3E%3Cstrong%3EName%3A%20%3C/strong%3Enan%3C/li%3E%20%20%20%20%20%20%20%20%20%3Cul%3E%20%20%20%20%20%3C/div%3E%60%29%5B0%5D%3B%0A%20%20%20%20%20%20%20%20%20%20%20%20popup_48f135a76d1f4540a4400a012331ae17.setContent%28html_9f257e4fd9ef4b1996ac93e52737e57e%29%3B%0A%20%20%20%20%20%20%20%20%0A%0A%20%20%20%20%20%20%20%20marker_e6eb3dabbf2b4356a2d3938f792dd3ae.bindPopup%28popup_48f135a76d1f4540a4400a012331ae17%29%0A%20%20%20%20%20%20%20%20%3B%0A%0A%20%20%20%20%20%20%20%20%0A%20%20%20%20%0A%20%20%20%20%0A%20%20%20%20%20%20%20%20%20%20%20%20var%20marker_5a5ea5e52d8248f0989a40cef7494e91%20%3D%20L.marker%28%0A%20%20%20%20%20%20%20%20%20%20%20%20%20%20%20%20%5B43.772718%2C%2011.244438%5D%2C%0A%20%20%20%20%20%20%20%20%20%20%20%20%20%20%20%20%7B%7D%0A%20%20%20%20%20%20%20%20%20%20%20%20%29.addTo%28map_cb5ddea0a149466984ccacda88dfafab%29%3B%0A%20%20%20%20%20%20%20%20%0A%20%20%20%20%0A%20%20%20%20%20%20%20%20var%20popup_9257729ad9ef47629336923bad24fab2%20%3D%20L.popup%28%7B%22maxWidth%22%3A%20%22100%25%22%7D%29%3B%0A%0A%20%20%20%20%20%20%20%20%0A%20%20%20%20%20%20%20%20%20%20%20%20var%20html_1848b6f20cfe45228317e139013cc30e%20%3D%20%24%28%60%3Cdiv%20id%3D%22html_1848b6f20cfe45228317e139013cc30e%22%20style%3D%22width%3A%20100.0%25%3B%20height%3A%20100.0%25%3B%22%3E%20%20%20%20%20%20%20%20%20%3Cul%3E%20%20%20%20%20%20%20%20%20%20%20%20%20%3Cli%3E%3Cstrong%3EID%3A%20%3C/strong%3E5264%3C/li%3E%20%20%20%20%20%20%20%20%20%20%20%20%20%3Cli%3E%3Cstrong%3ESource%3A%20%3C/strong%3EHenderson%20P%26C%20%2322%3C/li%3E%20%20%20%20%20%20%20%20%20%20%20%20%20%3Cli%3E%3Cstrong%3EName%3A%20%3C/strong%3Enan%3C/li%3E%20%20%20%20%20%20%20%20%20%3Cul%3E%20%20%20%20%20%3C/div%3E%60%29%5B0%5D%3B%0A%20%20%20%20%20%20%20%20%20%20%20%20popup_9257729ad9ef47629336923bad24fab2.setContent%28html_1848b6f20cfe45228317e139013cc30e%29%3B%0A%20%20%20%20%20%20%20%20%0A%0A%20%20%20%20%20%20%20%20marker_5a5ea5e52d8248f0989a40cef7494e91.bindPopup%28popup_9257729ad9ef47629336923bad24fab2%29%0A%20%20%20%20%20%20%20%20%3B%0A%0A%20%20%20%20%20%20%20%20%0A%20%20%20%20%0A%20%20%20%20%0A%20%20%20%20%20%20%20%20%20%20%20%20var%20marker_3c639f90dbe9423ca82a07da0c27135b%20%3D%20L.marker%28%0A%20%20%20%20%20%20%20%20%20%20%20%20%20%20%20%20%5B43.77717333%2C%2011.26219133%5D%2C%0A%20%20%20%20%20%20%20%20%20%20%20%20%20%20%20%20%7B%7D%0A%20%20%20%20%20%20%20%20%20%20%20%20%29.addTo%28map_cb5ddea0a149466984ccacda88dfafab%29%3B%0A%20%20%20%20%20%20%20%20%0A%20%20%20%20%0A%20%20%20%20%20%20%20%20var%20popup_9b37617640ec4c669f05d359362dd7a8%20%3D%20L.popup%28%7B%22maxWidth%22%3A%20%22100%25%22%7D%29%3B%0A%0A%20%20%20%20%20%20%20%20%0A%20%20%20%20%20%20%20%20%20%20%20%20var%20html_03040fa35f0d49488873e26392cb4c5c%20%3D%20%24%28%60%3Cdiv%20id%3D%22html_03040fa35f0d49488873e26392cb4c5c%22%20style%3D%22width%3A%20100.0%25%3B%20height%3A%20100.0%25%3B%22%3E%20%20%20%20%20%20%20%20%20%3Cul%3E%20%20%20%20%20%20%20%20%20%20%20%20%20%3Cli%3E%3Cstrong%3EID%3A%20%3C/strong%3E1667%3C/li%3E%20%20%20%20%20%20%20%20%20%20%20%20%20%3Cli%3E%3Cstrong%3ESource%3A%20%3C/strong%3Enan%3C/li%3E%20%20%20%20%20%20%20%20%20%20%20%20%20%3Cli%3E%3Cstrong%3EName%3A%20%3C/strong%3Enan%3C/li%3E%20%20%20%20%20%20%20%20%20%3Cul%3E%20%20%20%20%20%3C/div%3E%60%29%5B0%5D%3B%0A%20%20%20%20%20%20%20%20%20%20%20%20popup_9b37617640ec4c669f05d359362dd7a8.setContent%28html_03040fa35f0d49488873e26392cb4c5c%29%3B%0A%20%20%20%20%20%20%20%20%0A%0A%20%20%20%20%20%20%20%20marker_3c639f90dbe9423ca82a07da0c27135b.bindPopup%28popup_9b37617640ec4c669f05d359362dd7a8%29%0A%20%20%20%20%20%20%20%20%3B%0A%0A%20%20%20%20%20%20%20%20%0A%20%20%20%20%0A%20%20%20%20%0A%20%20%20%20%20%20%20%20%20%20%20%20var%20marker_079903e2340144e1b49618badd9f7620%20%3D%20L.marker%28%0A%20%20%20%20%20%20%20%20%20%20%20%20%20%20%20%20%5B43.77779886%2C%2011.253971%5D%2C%0A%20%20%20%20%20%20%20%20%20%20%20%20%20%20%20%20%7B%7D%0A%20%20%20%20%20%20%20%20%20%20%20%20%29.addTo%28map_cb5ddea0a149466984ccacda88dfafab%29%3B%0A%20%20%20%20%20%20%20%20%0A%20%20%20%20%0A%20%20%20%20%20%20%20%20var%20popup_e73a03397b674f4da9d5721dec071d18%20%3D%20L.popup%28%7B%22maxWidth%22%3A%20%22100%25%22%7D%29%3B%0A%0A%20%20%20%20%20%20%20%20%0A%20%20%20%20%20%20%20%20%20%20%20%20var%20html_1827e1a8652848dfaf211b94b972458e%20%3D%20%24%28%60%3Cdiv%20id%3D%22html_1827e1a8652848dfaf211b94b972458e%22%20style%3D%22width%3A%20100.0%25%3B%20height%3A%20100.0%25%3B%22%3E%20%20%20%20%20%20%20%20%20%3Cul%3E%20%20%20%20%20%20%20%20%20%20%20%20%20%3Cli%3E%3Cstrong%3EID%3A%20%3C/strong%3E131%3C/li%3E%20%20%20%20%20%20%20%20%20%20%20%20%20%3Cli%3E%3Cstrong%3ESource%3A%20%3C/strong%3EHenderson%20P%26C%20%2342%3C/li%3E%20%20%20%20%20%20%20%20%20%20%20%20%20%3Cli%3E%3Cstrong%3EName%3A%20%3C/strong%3Enan%3C/li%3E%20%20%20%20%20%20%20%20%20%3Cul%3E%20%20%20%20%20%3C/div%3E%60%29%5B0%5D%3B%0A%20%20%20%20%20%20%20%20%20%20%20%20popup_e73a03397b674f4da9d5721dec071d18.setContent%28html_1827e1a8652848dfaf211b94b972458e%29%3B%0A%20%20%20%20%20%20%20%20%0A%0A%20%20%20%20%20%20%20%20marker_079903e2340144e1b49618badd9f7620.bindPopup%28popup_e73a03397b674f4da9d5721dec071d18%29%0A%20%20%20%20%20%20%20%20%3B%0A%0A%20%20%20%20%20%20%20%20%0A%20%20%20%20%0A%20%20%20%20%0A%20%20%20%20%20%20%20%20%20%20%20%20var%20marker_76c3fddb0fdb4c75a1e97fe2266677b0%20%3D%20L.marker%28%0A%20%20%20%20%20%20%20%20%20%20%20%20%20%20%20%20%5B43.77775557%2C%2011.2539%5D%2C%0A%20%20%20%20%20%20%20%20%20%20%20%20%20%20%20%20%7B%7D%0A%20%20%20%20%20%20%20%20%20%20%20%20%29.addTo%28map_cb5ddea0a149466984ccacda88dfafab%29%3B%0A%20%20%20%20%20%20%20%20%0A%20%20%20%20%0A%20%20%20%20%20%20%20%20var%20popup_109148c090df4a42b1d0bc48c31a028c%20%3D%20L.popup%28%7B%22maxWidth%22%3A%20%22100%25%22%7D%29%3B%0A%0A%20%20%20%20%20%20%20%20%0A%20%20%20%20%20%20%20%20%20%20%20%20var%20html_bfdee5bd62ed4d8193ec4702a8d5ea85%20%3D%20%24%28%60%3Cdiv%20id%3D%22html_bfdee5bd62ed4d8193ec4702a8d5ea85%22%20style%3D%22width%3A%20100.0%25%3B%20height%3A%20100.0%25%3B%22%3E%20%20%20%20%20%20%20%20%20%3Cul%3E%20%20%20%20%20%20%20%20%20%20%20%20%20%3Cli%3E%3Cstrong%3EID%3A%20%3C/strong%3E554%3C/li%3E%20%20%20%20%20%20%20%20%20%20%20%20%20%3Cli%3E%3Cstrong%3ESource%3A%20%3C/strong%3EHenderson%20P%26C%20%2342%3C/li%3E%20%20%20%20%20%20%20%20%20%20%20%20%20%3Cli%3E%3Cstrong%3EName%3A%20%3C/strong%3Eesattore%3C/li%3E%20%20%20%20%20%20%20%20%20%3Cul%3E%20%20%20%20%20%3C/div%3E%60%29%5B0%5D%3B%0A%20%20%20%20%20%20%20%20%20%20%20%20popup_109148c090df4a42b1d0bc48c31a028c.setContent%28html_bfdee5bd62ed4d8193ec4702a8d5ea85%29%3B%0A%20%20%20%20%20%20%20%20%0A%0A%20%20%20%20%20%20%20%20marker_76c3fddb0fdb4c75a1e97fe2266677b0.bindPopup%28popup_109148c090df4a42b1d0bc48c31a028c%29%0A%20%20%20%20%20%20%20%20%3B%0A%0A%20%20%20%20%20%20%20%20%0A%20%20%20%20%0A%20%20%20%20%0A%20%20%20%20%20%20%20%20%20%20%20%20var%20marker_585cd47495014b5db7c969a41f620f9f%20%3D%20L.marker%28%0A%20%20%20%20%20%20%20%20%20%20%20%20%20%20%20%20%5B43.776641%2C%2011.25262992%5D%2C%0A%20%20%20%20%20%20%20%20%20%20%20%20%20%20%20%20%7B%7D%0A%20%20%20%20%20%20%20%20%20%20%20%20%29.addTo%28map_cb5ddea0a149466984ccacda88dfafab%29%3B%0A%20%20%20%20%20%20%20%20%0A%20%20%20%20%0A%20%20%20%20%20%20%20%20var%20popup_78cb986827be4a73944dc253333ecc8f%20%3D%20L.popup%28%7B%22maxWidth%22%3A%20%22100%25%22%7D%29%3B%0A%0A%20%20%20%20%20%20%20%20%0A%20%20%20%20%20%20%20%20%20%20%20%20var%20html_57ec5521ff6742809ef036b03a0aa2d9%20%3D%20%24%28%60%3Cdiv%20id%3D%22html_57ec5521ff6742809ef036b03a0aa2d9%22%20style%3D%22width%3A%20100.0%25%3B%20height%3A%20100.0%25%3B%22%3E%20%20%20%20%20%20%20%20%20%3Cul%3E%20%20%20%20%20%20%20%20%20%20%20%20%20%3Cli%3E%3Cstrong%3EID%3A%20%3C/strong%3E582%3C/li%3E%20%20%20%20%20%20%20%20%20%20%20%20%20%3Cli%3E%3Cstrong%3ESource%3A%20%3C/strong%3EHenderson%20P%26C%20%2342%3C/li%3E%20%20%20%20%20%20%20%20%20%20%20%20%20%3Cli%3E%3Cstrong%3EName%3A%20%3C/strong%3Etessitore%3C/li%3E%20%20%20%20%20%20%20%20%20%3Cul%3E%20%20%20%20%20%3C/div%3E%60%29%5B0%5D%3B%0A%20%20%20%20%20%20%20%20%20%20%20%20popup_78cb986827be4a73944dc253333ecc8f.setContent%28html_57ec5521ff6742809ef036b03a0aa2d9%29%3B%0A%20%20%20%20%20%20%20%20%0A%0A%20%20%20%20%20%20%20%20marker_585cd47495014b5db7c969a41f620f9f.bindPopup%28popup_78cb986827be4a73944dc253333ecc8f%29%0A%20%20%20%20%20%20%20%20%3B%0A%0A%20%20%20%20%20%20%20%20%0A%20%20%20%20%0A%20%20%20%20%0A%20%20%20%20%20%20%20%20%20%20%20%20var%20marker_f4a4e8b582ee490782c79ccd8ecf6617%20%3D%20L.marker%28%0A%20%20%20%20%20%20%20%20%20%20%20%20%20%20%20%20%5B43.76835491%2C%2011.24107655%5D%2C%0A%20%20%20%20%20%20%20%20%20%20%20%20%20%20%20%20%7B%7D%0A%20%20%20%20%20%20%20%20%20%20%20%20%29.addTo%28map_cb5ddea0a149466984ccacda88dfafab%29%3B%0A%20%20%20%20%20%20%20%20%0A%20%20%20%20%0A%20%20%20%20%20%20%20%20var%20popup_de78ab5170204d22ab6c398ea93d1ae1%20%3D%20L.popup%28%7B%22maxWidth%22%3A%20%22100%25%22%7D%29%3B%0A%0A%20%20%20%20%20%20%20%20%0A%20%20%20%20%20%20%20%20%20%20%20%20var%20html_ff3efd0e3b484dff824508deed1f2e9b%20%3D%20%24%28%60%3Cdiv%20id%3D%22html_ff3efd0e3b484dff824508deed1f2e9b%22%20style%3D%22width%3A%20100.0%25%3B%20height%3A%20100.0%25%3B%22%3E%20%20%20%20%20%20%20%20%20%3Cul%3E%20%20%20%20%20%20%20%20%20%20%20%20%20%3Cli%3E%3Cstrong%3EID%3A%20%3C/strong%3E8351%3C/li%3E%20%20%20%20%20%20%20%20%20%20%20%20%20%3Cli%3E%3Cstrong%3ESource%3A%20%3C/strong%3Enan%3C/li%3E%20%20%20%20%20%20%20%20%20%20%20%20%20%3Cli%3E%3Cstrong%3EName%3A%20%3C/strong%3Etorcitore%3C/li%3E%20%20%20%20%20%20%20%20%20%3Cul%3E%20%20%20%20%20%3C/div%3E%60%29%5B0%5D%3B%0A%20%20%20%20%20%20%20%20%20%20%20%20popup_de78ab5170204d22ab6c398ea93d1ae1.setContent%28html_ff3efd0e3b484dff824508deed1f2e9b%29%3B%0A%20%20%20%20%20%20%20%20%0A%0A%20%20%20%20%20%20%20%20marker_f4a4e8b582ee490782c79ccd8ecf6617.bindPopup%28popup_de78ab5170204d22ab6c398ea93d1ae1%29%0A%20%20%20%20%20%20%20%20%3B%0A%0A%20%20%20%20%20%20%20%20%0A%20%20%20%20%0A%20%20%20%20%0A%20%20%20%20%20%20%20%20%20%20%20%20var%20marker_3be090e77cf74a61912b19e9a9b18c7e%20%3D%20L.marker%28%0A%20%20%20%20%20%20%20%20%20%20%20%20%20%20%20%20%5B43.77713761%2C%2011.26215561%5D%2C%0A%20%20%20%20%20%20%20%20%20%20%20%20%20%20%20%20%7B%7D%0A%20%20%20%20%20%20%20%20%20%20%20%20%29.addTo%28map_cb5ddea0a149466984ccacda88dfafab%29%3B%0A%20%20%20%20%20%20%20%20%0A%20%20%20%20%0A%20%20%20%20%20%20%20%20var%20popup_61d8ce800713489ba77247544c2cc2c7%20%3D%20L.popup%28%7B%22maxWidth%22%3A%20%22100%25%22%7D%29%3B%0A%0A%20%20%20%20%20%20%20%20%0A%20%20%20%20%20%20%20%20%20%20%20%20var%20html_de82adc0ba504a8ba06be8e22be5a3b0%20%3D%20%24%28%60%3Cdiv%20id%3D%22html_de82adc0ba504a8ba06be8e22be5a3b0%22%20style%3D%22width%3A%20100.0%25%3B%20height%3A%20100.0%25%3B%22%3E%20%20%20%20%20%20%20%20%20%3Cul%3E%20%20%20%20%20%20%20%20%20%20%20%20%20%3Cli%3E%3Cstrong%3EID%3A%20%3C/strong%3E1443%3C/li%3E%20%20%20%20%20%20%20%20%20%20%20%20%20%3Cli%3E%3Cstrong%3ESource%3A%20%3C/strong%3E2006%20AMF%20Confraternity%20Itinerary%3C/li%3E%20%20%20%20%20%20%20%20%20%20%20%20%20%3Cli%3E%3Cstrong%3EName%3A%20%3C/strong%3Enan%3C/li%3E%20%20%20%20%20%20%20%20%20%3Cul%3E%20%20%20%20%20%3C/div%3E%60%29%5B0%5D%3B%0A%20%20%20%20%20%20%20%20%20%20%20%20popup_61d8ce800713489ba77247544c2cc2c7.setContent%28html_de82adc0ba504a8ba06be8e22be5a3b0%29%3B%0A%20%20%20%20%20%20%20%20%0A%0A%20%20%20%20%20%20%20%20marker_3be090e77cf74a61912b19e9a9b18c7e.bindPopup%28popup_61d8ce800713489ba77247544c2cc2c7%29%0A%20%20%20%20%20%20%20%20%3B%0A%0A%20%20%20%20%20%20%20%20%0A%20%20%20%20%0A%20%20%20%20%0A%20%20%20%20%20%20%20%20%20%20%20%20var%20marker_060cea334170453ca4db4f2d2028a232%20%3D%20L.marker%28%0A%20%20%20%20%20%20%20%20%20%20%20%20%20%20%20%20%5B43.764344%2C%2011.25503%5D%2C%0A%20%20%20%20%20%20%20%20%20%20%20%20%20%20%20%20%7B%7D%0A%20%20%20%20%20%20%20%20%20%20%20%20%29.addTo%28map_cb5ddea0a149466984ccacda88dfafab%29%3B%0A%20%20%20%20%20%20%20%20%0A%20%20%20%20%0A%20%20%20%20%20%20%20%20var%20popup_4d002fd7c9924425a6e690f15bb072df%20%3D%20L.popup%28%7B%22maxWidth%22%3A%20%22100%25%22%7D%29%3B%0A%0A%20%20%20%20%20%20%20%20%0A%20%20%20%20%20%20%20%20%20%20%20%20var%20html_42bc9c36061c488581eb6728b3096390%20%3D%20%24%28%60%3Cdiv%20id%3D%22html_42bc9c36061c488581eb6728b3096390%22%20style%3D%22width%3A%20100.0%25%3B%20height%3A%20100.0%25%3B%22%3E%20%20%20%20%20%20%20%20%20%3Cul%3E%20%20%20%20%20%20%20%20%20%20%20%20%20%3Cli%3E%3Cstrong%3EID%3A%20%3C/strong%3E6027%3C/li%3E%20%20%20%20%20%20%20%20%20%20%20%20%20%3Cli%3E%3Cstrong%3ESource%3A%20%3C/strong%3Enan%3C/li%3E%20%20%20%20%20%20%20%20%20%20%20%20%20%3Cli%3E%3Cstrong%3EName%3A%20%3C/strong%3Etessitore%3C/li%3E%20%20%20%20%20%20%20%20%20%3Cul%3E%20%20%20%20%20%3C/div%3E%60%29%5B0%5D%3B%0A%20%20%20%20%20%20%20%20%20%20%20%20popup_4d002fd7c9924425a6e690f15bb072df.setContent%28html_42bc9c36061c488581eb6728b3096390%29%3B%0A%20%20%20%20%20%20%20%20%0A%0A%20%20%20%20%20%20%20%20marker_060cea334170453ca4db4f2d2028a232.bindPopup%28popup_4d002fd7c9924425a6e690f15bb072df%29%0A%20%20%20%20%20%20%20%20%3B%0A%0A%20%20%20%20%20%20%20%20%0A%20%20%20%20%0A%20%20%20%20%0A%20%20%20%20%20%20%20%20%20%20%20%20var%20marker_1cb851d5d96e4463a4314a2a4cb304cc%20%3D%20L.marker%28%0A%20%20%20%20%20%20%20%20%20%20%20%20%20%20%20%20%5B43.76656545%2C%2011.25341727%5D%2C%0A%20%20%20%20%20%20%20%20%20%20%20%20%20%20%20%20%7B%7D%0A%20%20%20%20%20%20%20%20%20%20%20%20%29.addTo%28map_cb5ddea0a149466984ccacda88dfafab%29%3B%0A%20%20%20%20%20%20%20%20%0A%20%20%20%20%0A%20%20%20%20%20%20%20%20var%20popup_cc3d616622214bda888f9a51a2321eb0%20%3D%20L.popup%28%7B%22maxWidth%22%3A%20%22100%25%22%7D%29%3B%0A%0A%20%20%20%20%20%20%20%20%0A%20%20%20%20%20%20%20%20%20%20%20%20var%20html_f0a9ce14dfc041d58751b0bd6d414858%20%3D%20%24%28%60%3Cdiv%20id%3D%22html_f0a9ce14dfc041d58751b0bd6d414858%22%20style%3D%22width%3A%20100.0%25%3B%20height%3A%20100.0%25%3B%22%3E%20%20%20%20%20%20%20%20%20%3Cul%3E%20%20%20%20%20%20%20%20%20%20%20%20%20%3Cli%3E%3Cstrong%3EID%3A%20%3C/strong%3E6324%3C/li%3E%20%20%20%20%20%20%20%20%20%20%20%20%20%3Cli%3E%3Cstrong%3ESource%3A%20%3C/strong%3Enan%3C/li%3E%20%20%20%20%20%20%20%20%20%20%20%20%20%3Cli%3E%3Cstrong%3EName%3A%20%3C/strong%3Ebarbiere%3C/li%3E%20%20%20%20%20%20%20%20%20%3Cul%3E%20%20%20%20%20%3C/div%3E%60%29%5B0%5D%3B%0A%20%20%20%20%20%20%20%20%20%20%20%20popup_cc3d616622214bda888f9a51a2321eb0.setContent%28html_f0a9ce14dfc041d58751b0bd6d414858%29%3B%0A%20%20%20%20%20%20%20%20%0A%0A%20%20%20%20%20%20%20%20marker_1cb851d5d96e4463a4314a2a4cb304cc.bindPopup%28popup_cc3d616622214bda888f9a51a2321eb0%29%0A%20%20%20%20%20%20%20%20%3B%0A%0A%20%20%20%20%20%20%20%20%0A%20%20%20%20%0A%20%20%20%20%0A%20%20%20%20%20%20%20%20%20%20%20%20var%20marker_ff8b3c9f320b412a980ff502528d2049%20%3D%20L.marker%28%0A%20%20%20%20%20%20%20%20%20%20%20%20%20%20%20%20%5B43.76648625%2C%2011.254495%5D%2C%0A%20%20%20%20%20%20%20%20%20%20%20%20%20%20%20%20%7B%7D%0A%20%20%20%20%20%20%20%20%20%20%20%20%29.addTo%28map_cb5ddea0a149466984ccacda88dfafab%29%3B%0A%20%20%20%20%20%20%20%20%0A%20%20%20%20%0A%20%20%20%20%20%20%20%20var%20popup_eb726fd0bde940339f8ee6e63a7ea546%20%3D%20L.popup%28%7B%22maxWidth%22%3A%20%22100%25%22%7D%29%3B%0A%0A%20%20%20%20%20%20%20%20%0A%20%20%20%20%20%20%20%20%20%20%20%20var%20html_ff8e575e287643bb9c0fc7bc1d918a08%20%3D%20%24%28%60%3Cdiv%20id%3D%22html_ff8e575e287643bb9c0fc7bc1d918a08%22%20style%3D%22width%3A%20100.0%25%3B%20height%3A%20100.0%25%3B%22%3E%20%20%20%20%20%20%20%20%20%3Cul%3E%20%20%20%20%20%20%20%20%20%20%20%20%20%3Cli%3E%3Cstrong%3EID%3A%20%3C/strong%3E6180%3C/li%3E%20%20%20%20%20%20%20%20%20%20%20%20%20%3Cli%3E%3Cstrong%3ESource%3A%20%3C/strong%3Enan%3C/li%3E%20%20%20%20%20%20%20%20%20%20%20%20%20%3Cli%3E%3Cstrong%3EName%3A%20%3C/strong%3Enan%3C/li%3E%20%20%20%20%20%20%20%20%20%3Cul%3E%20%20%20%20%20%3C/div%3E%60%29%5B0%5D%3B%0A%20%20%20%20%20%20%20%20%20%20%20%20popup_eb726fd0bde940339f8ee6e63a7ea546.setContent%28html_ff8e575e287643bb9c0fc7bc1d918a08%29%3B%0A%20%20%20%20%20%20%20%20%0A%0A%20%20%20%20%20%20%20%20marker_ff8b3c9f320b412a980ff502528d2049.bindPopup%28popup_eb726fd0bde940339f8ee6e63a7ea546%29%0A%20%20%20%20%20%20%20%20%3B%0A%0A%20%20%20%20%20%20%20%20%0A%20%20%20%20%0A%20%20%20%20%0A%20%20%20%20%20%20%20%20%20%20%20%20var%20marker_cfe19e2a40414619b63e2a58fccd7c6b%20%3D%20L.marker%28%0A%20%20%20%20%20%20%20%20%20%20%20%20%20%20%20%20%5B43.773077%2C%2011.263158%5D%2C%0A%20%20%20%20%20%20%20%20%20%20%20%20%20%20%20%20%7B%7D%0A%20%20%20%20%20%20%20%20%20%20%20%20%29.addTo%28map_cb5ddea0a149466984ccacda88dfafab%29%3B%0A%20%20%20%20%20%20%20%20%0A%20%20%20%20%0A%20%20%20%20%20%20%20%20var%20popup_2537c3ff760b43c7812b09ee4e14ee8c%20%3D%20L.popup%28%7B%22maxWidth%22%3A%20%22100%25%22%7D%29%3B%0A%0A%20%20%20%20%20%20%20%20%0A%20%20%20%20%20%20%20%20%20%20%20%20var%20html_18563f1671a14ddf81ed2e7fa7c213f7%20%3D%20%24%28%60%3Cdiv%20id%3D%22html_18563f1671a14ddf81ed2e7fa7c213f7%22%20style%3D%22width%3A%20100.0%25%3B%20height%3A%20100.0%25%3B%22%3E%20%20%20%20%20%20%20%20%20%3Cul%3E%20%20%20%20%20%20%20%20%20%20%20%20%20%3Cli%3E%3Cstrong%3EID%3A%20%3C/strong%3E2300%3C/li%3E%20%20%20%20%20%20%20%20%20%20%20%20%20%3Cli%3E%3Cstrong%3ESource%3A%20%3C/strong%3EHenderson%20P%26C%20%2366%3C/li%3E%20%20%20%20%20%20%20%20%20%20%20%20%20%3Cli%3E%3Cstrong%3EName%3A%20%3C/strong%3Enan%3C/li%3E%20%20%20%20%20%20%20%20%20%3Cul%3E%20%20%20%20%20%3C/div%3E%60%29%5B0%5D%3B%0A%20%20%20%20%20%20%20%20%20%20%20%20popup_2537c3ff760b43c7812b09ee4e14ee8c.setContent%28html_18563f1671a14ddf81ed2e7fa7c213f7%29%3B%0A%20%20%20%20%20%20%20%20%0A%0A%20%20%20%20%20%20%20%20marker_cfe19e2a40414619b63e2a58fccd7c6b.bindPopup%28popup_2537c3ff760b43c7812b09ee4e14ee8c%29%0A%20%20%20%20%20%20%20%20%3B%0A%0A%20%20%20%20%20%20%20%20%0A%20%20%20%20%0A%20%20%20%20%0A%20%20%20%20%20%20%20%20%20%20%20%20var%20marker_75c941e6509f4d2f90a2926ede27ff33%20%3D%20L.marker%28%0A%20%20%20%20%20%20%20%20%20%20%20%20%20%20%20%20%5B43.77289553%2C%2011.26334247%5D%2C%0A%20%20%20%20%20%20%20%20%20%20%20%20%20%20%20%20%7B%7D%0A%20%20%20%20%20%20%20%20%20%20%20%20%29.addTo%28map_cb5ddea0a149466984ccacda88dfafab%29%3B%0A%20%20%20%20%20%20%20%20%0A%20%20%20%20%0A%20%20%20%20%20%20%20%20var%20popup_e074f9263674494aa39e938e4aefcb51%20%3D%20L.popup%28%7B%22maxWidth%22%3A%20%22100%25%22%7D%29%3B%0A%0A%20%20%20%20%20%20%20%20%0A%20%20%20%20%20%20%20%20%20%20%20%20var%20html_c1cc6fefbc714ae0b9b585e63c17b6e2%20%3D%20%24%28%60%3Cdiv%20id%3D%22html_c1cc6fefbc714ae0b9b585e63c17b6e2%22%20style%3D%22width%3A%20100.0%25%3B%20height%3A%20100.0%25%3B%22%3E%20%20%20%20%20%20%20%20%20%3Cul%3E%20%20%20%20%20%20%20%20%20%20%20%20%20%3Cli%3E%3Cstrong%3EID%3A%20%3C/strong%3E2673%3C/li%3E%20%20%20%20%20%20%20%20%20%20%20%20%20%3Cli%3E%3Cstrong%3ESource%3A%20%3C/strong%3EHenderson%20P%26C%20%2366%3C/li%3E%20%20%20%20%20%20%20%20%20%20%20%20%20%3Cli%3E%3Cstrong%3EName%3A%20%3C/strong%3Enan%3C/li%3E%20%20%20%20%20%20%20%20%20%3Cul%3E%20%20%20%20%20%3C/div%3E%60%29%5B0%5D%3B%0A%20%20%20%20%20%20%20%20%20%20%20%20popup_e074f9263674494aa39e938e4aefcb51.setContent%28html_c1cc6fefbc714ae0b9b585e63c17b6e2%29%3B%0A%20%20%20%20%20%20%20%20%0A%0A%20%20%20%20%20%20%20%20marker_75c941e6509f4d2f90a2926ede27ff33.bindPopup%28popup_e074f9263674494aa39e938e4aefcb51%29%0A%20%20%20%20%20%20%20%20%3B%0A%0A%20%20%20%20%20%20%20%20%0A%20%20%20%20%0A%20%20%20%20%0A%20%20%20%20%20%20%20%20%20%20%20%20var%20marker_02141261d3404877b0eedc2845b4af99%20%3D%20L.marker%28%0A%20%20%20%20%20%20%20%20%20%20%20%20%20%20%20%20%5B43.77034154%2C%2011.24215077%5D%2C%0A%20%20%20%20%20%20%20%20%20%20%20%20%20%20%20%20%7B%7D%0A%20%20%20%20%20%20%20%20%20%20%20%20%29.addTo%28map_cb5ddea0a149466984ccacda88dfafab%29%3B%0A%20%20%20%20%20%20%20%20%0A%20%20%20%20%0A%20%20%20%20%20%20%20%20var%20popup_3823952603d64b24824454dbda4d73fc%20%3D%20L.popup%28%7B%22maxWidth%22%3A%20%22100%25%22%7D%29%3B%0A%0A%20%20%20%20%20%20%20%20%0A%20%20%20%20%20%20%20%20%20%20%20%20var%20html_5ad4f0241a104d2ebed06e1a80d5695f%20%3D%20%24%28%60%3Cdiv%20id%3D%22html_5ad4f0241a104d2ebed06e1a80d5695f%22%20style%3D%22width%3A%20100.0%25%3B%20height%3A%20100.0%25%3B%22%3E%20%20%20%20%20%20%20%20%20%3Cul%3E%20%20%20%20%20%20%20%20%20%20%20%20%20%3Cli%3E%3Cstrong%3EID%3A%20%3C/strong%3E8024%3C/li%3E%20%20%20%20%20%20%20%20%20%20%20%20%20%3Cli%3E%3Cstrong%3ESource%3A%20%3C/strong%3EHenderson%20P%26C%20%2366%3C/li%3E%20%20%20%20%20%20%20%20%20%20%20%20%20%3Cli%3E%3Cstrong%3EName%3A%20%3C/strong%3Efunaiuolo%3C/li%3E%20%20%20%20%20%20%20%20%20%3Cul%3E%20%20%20%20%20%3C/div%3E%60%29%5B0%5D%3B%0A%20%20%20%20%20%20%20%20%20%20%20%20popup_3823952603d64b24824454dbda4d73fc.setContent%28html_5ad4f0241a104d2ebed06e1a80d5695f%29%3B%0A%20%20%20%20%20%20%20%20%0A%0A%20%20%20%20%20%20%20%20marker_02141261d3404877b0eedc2845b4af99.bindPopup%28popup_3823952603d64b24824454dbda4d73fc%29%0A%20%20%20%20%20%20%20%20%3B%0A%0A%20%20%20%20%20%20%20%20%0A%20%20%20%20%0A%20%20%20%20%0A%20%20%20%20%20%20%20%20%20%20%20%20var%20marker_8fa406782aff47349a3d32c3defa0382%20%3D%20L.marker%28%0A%20%20%20%20%20%20%20%20%20%20%20%20%20%20%20%20%5B43.77198%2C%2011.252595%5D%2C%0A%20%20%20%20%20%20%20%20%20%20%20%20%20%20%20%20%7B%7D%0A%20%20%20%20%20%20%20%20%20%20%20%20%29.addTo%28map_cb5ddea0a149466984ccacda88dfafab%29%3B%0A%20%20%20%20%20%20%20%20%0A%20%20%20%20%0A%20%20%20%20%20%20%20%20var%20popup_9e44782d85f74575b4269cbce62a69dd%20%3D%20L.popup%28%7B%22maxWidth%22%3A%20%22100%25%22%7D%29%3B%0A%0A%20%20%20%20%20%20%20%20%0A%20%20%20%20%20%20%20%20%20%20%20%20var%20html_6eb71ba9c9df4b47ae8d83e20f292f03%20%3D%20%24%28%60%3Cdiv%20id%3D%22html_6eb71ba9c9df4b47ae8d83e20f292f03%22%20style%3D%22width%3A%20100.0%25%3B%20height%3A%20100.0%25%3B%22%3E%20%20%20%20%20%20%20%20%20%3Cul%3E%20%20%20%20%20%20%20%20%20%20%20%20%20%3Cli%3E%3Cstrong%3EID%3A%20%3C/strong%3E6233%3C/li%3E%20%20%20%20%20%20%20%20%20%20%20%20%20%3Cli%3E%3Cstrong%3ESource%3A%20%3C/strong%3EHenderson%20P%26C%20%2366%3C/li%3E%20%20%20%20%20%20%20%20%20%20%20%20%20%3Cli%3E%3Cstrong%3EName%3A%20%3C/strong%3Efornaio%3C/li%3E%20%20%20%20%20%20%20%20%20%3Cul%3E%20%20%20%20%20%3C/div%3E%60%29%5B0%5D%3B%0A%20%20%20%20%20%20%20%20%20%20%20%20popup_9e44782d85f74575b4269cbce62a69dd.setContent%28html_6eb71ba9c9df4b47ae8d83e20f292f03%29%3B%0A%20%20%20%20%20%20%20%20%0A%0A%20%20%20%20%20%20%20%20marker_8fa406782aff47349a3d32c3defa0382.bindPopup%28popup_9e44782d85f74575b4269cbce62a69dd%29%0A%20%20%20%20%20%20%20%20%3B%0A%0A%20%20%20%20%20%20%20%20%0A%20%20%20%20%0A%20%20%20%20%0A%20%20%20%20%20%20%20%20%20%20%20%20var%20marker_ea366d769baf4dc3aac82f1817cc0ebc%20%3D%20L.marker%28%0A%20%20%20%20%20%20%20%20%20%20%20%20%20%20%20%20%5B43.77497133%2C%2011.26411667%5D%2C%0A%20%20%20%20%20%20%20%20%20%20%20%20%20%20%20%20%7B%7D%0A%20%20%20%20%20%20%20%20%20%20%20%20%29.addTo%28map_cb5ddea0a149466984ccacda88dfafab%29%3B%0A%20%20%20%20%20%20%20%20%0A%20%20%20%20%0A%20%20%20%20%20%20%20%20var%20popup_3d67798ceef04dc9addd85204d35e671%20%3D%20L.popup%28%7B%22maxWidth%22%3A%20%22100%25%22%7D%29%3B%0A%0A%20%20%20%20%20%20%20%20%0A%20%20%20%20%20%20%20%20%20%20%20%20var%20html_91dc9c9374ed46b8b1576f6a7df0fb16%20%3D%20%24%28%60%3Cdiv%20id%3D%22html_91dc9c9374ed46b8b1576f6a7df0fb16%22%20style%3D%22width%3A%20100.0%25%3B%20height%3A%20100.0%25%3B%22%3E%20%20%20%20%20%20%20%20%20%3Cul%3E%20%20%20%20%20%20%20%20%20%20%20%20%20%3Cli%3E%3Cstrong%3EID%3A%20%3C/strong%3E1588%3C/li%3E%20%20%20%20%20%20%20%20%20%20%20%20%20%3Cli%3E%3Cstrong%3ESource%3A%20%3C/strong%3EHenderson%20P%26C%20%2366%3C/li%3E%20%20%20%20%20%20%20%20%20%20%20%20%20%3Cli%3E%3Cstrong%3EName%3A%20%3C/strong%3Enan%3C/li%3E%20%20%20%20%20%20%20%20%20%3Cul%3E%20%20%20%20%20%3C/div%3E%60%29%5B0%5D%3B%0A%20%20%20%20%20%20%20%20%20%20%20%20popup_3d67798ceef04dc9addd85204d35e671.setContent%28html_91dc9c9374ed46b8b1576f6a7df0fb16%29%3B%0A%20%20%20%20%20%20%20%20%0A%0A%20%20%20%20%20%20%20%20marker_ea366d769baf4dc3aac82f1817cc0ebc.bindPopup%28popup_3d67798ceef04dc9addd85204d35e671%29%0A%20%20%20%20%20%20%20%20%3B%0A%0A%20%20%20%20%20%20%20%20%0A%20%20%20%20%0A%20%20%20%20%0A%20%20%20%20%20%20%20%20%20%20%20%20var%20marker_1b322299df184620835bf4566290dee7%20%3D%20L.marker%28%0A%20%20%20%20%20%20%20%20%20%20%20%20%20%20%20%20%5B43.767332%2C%2011.24068%5D%2C%0A%20%20%20%20%20%20%20%20%20%20%20%20%20%20%20%20%7B%7D%0A%20%20%20%20%20%20%20%20%20%20%20%20%29.addTo%28map_cb5ddea0a149466984ccacda88dfafab%29%3B%0A%20%20%20%20%20%20%20%20%0A%20%20%20%20%0A%20%20%20%20%20%20%20%20var%20popup_42a49fd8162342889e04511d34a7154f%20%3D%20L.popup%28%7B%22maxWidth%22%3A%20%22100%25%22%7D%29%3B%0A%0A%20%20%20%20%20%20%20%20%0A%20%20%20%20%20%20%20%20%20%20%20%20var%20html_bfd88a2934b6452fa8b06415d1ea1544%20%3D%20%24%28%60%3Cdiv%20id%3D%22html_bfd88a2934b6452fa8b06415d1ea1544%22%20style%3D%22width%3A%20100.0%25%3B%20height%3A%20100.0%25%3B%22%3E%20%20%20%20%20%20%20%20%20%3Cul%3E%20%20%20%20%20%20%20%20%20%20%20%20%20%3Cli%3E%3Cstrong%3EID%3A%20%3C/strong%3E8038%3C/li%3E%20%20%20%20%20%20%20%20%20%20%20%20%20%3Cli%3E%3Cstrong%3ESource%3A%20%3C/strong%3EHenderson%20P%26C%20%23103%3C/li%3E%20%20%20%20%20%20%20%20%20%20%20%20%20%3Cli%3E%3Cstrong%3EName%3A%20%3C/strong%3Enan%3C/li%3E%20%20%20%20%20%20%20%20%20%3Cul%3E%20%20%20%20%20%3C/div%3E%60%29%5B0%5D%3B%0A%20%20%20%20%20%20%20%20%20%20%20%20popup_42a49fd8162342889e04511d34a7154f.setContent%28html_bfd88a2934b6452fa8b06415d1ea1544%29%3B%0A%20%20%20%20%20%20%20%20%0A%0A%20%20%20%20%20%20%20%20marker_1b322299df184620835bf4566290dee7.bindPopup%28popup_42a49fd8162342889e04511d34a7154f%29%0A%20%20%20%20%20%20%20%20%3B%0A%0A%20%20%20%20%20%20%20%20%0A%20%20%20%20%0A%20%20%20%20%0A%20%20%20%20%20%20%20%20%20%20%20%20var%20marker_45f72fef87b040d68210bbc605e49e47%20%3D%20L.marker%28%0A%20%20%20%20%20%20%20%20%20%20%20%20%20%20%20%20%5B43.76856%2C%2011.26649%5D%2C%0A%20%20%20%20%20%20%20%20%20%20%20%20%20%20%20%20%7B%7D%0A%20%20%20%20%20%20%20%20%20%20%20%20%29.addTo%28map_cb5ddea0a149466984ccacda88dfafab%29%3B%0A%20%20%20%20%20%20%20%20%0A%20%20%20%20%0A%20%20%20%20%20%20%20%20var%20popup_227c4c22528848d7b15c5c912f4c6820%20%3D%20L.popup%28%7B%22maxWidth%22%3A%20%22100%25%22%7D%29%3B%0A%0A%20%20%20%20%20%20%20%20%0A%20%20%20%20%20%20%20%20%20%20%20%20var%20html_34a3c572afc941a8a05d643e2faf63b8%20%3D%20%24%28%60%3Cdiv%20id%3D%22html_34a3c572afc941a8a05d643e2faf63b8%22%20style%3D%22width%3A%20100.0%25%3B%20height%3A%20100.0%25%3B%22%3E%20%20%20%20%20%20%20%20%20%3Cul%3E%20%20%20%20%20%20%20%20%20%20%20%20%20%3Cli%3E%3Cstrong%3EID%3A%20%3C/strong%3E3072%3C/li%3E%20%20%20%20%20%20%20%20%20%20%20%20%20%3Cli%3E%3Cstrong%3ESource%3A%20%3C/strong%3EHenderson%20P%26C%20%23103%3C/li%3E%20%20%20%20%20%20%20%20%20%20%20%20%20%3Cli%3E%3Cstrong%3EName%3A%20%3C/strong%3Econtadino%3C/li%3E%20%20%20%20%20%20%20%20%20%3Cul%3E%20%20%20%20%20%3C/div%3E%60%29%5B0%5D%3B%0A%20%20%20%20%20%20%20%20%20%20%20%20popup_227c4c22528848d7b15c5c912f4c6820.setContent%28html_34a3c572afc941a8a05d643e2faf63b8%29%3B%0A%20%20%20%20%20%20%20%20%0A%0A%20%20%20%20%20%20%20%20marker_45f72fef87b040d68210bbc605e49e47.bindPopup%28popup_227c4c22528848d7b15c5c912f4c6820%29%0A%20%20%20%20%20%20%20%20%3B%0A%0A%20%20%20%20%20%20%20%20%0A%20%20%20%20%0A%20%20%20%20%0A%20%20%20%20%20%20%20%20%20%20%20%20var%20marker_83846f3b9d564becb46611aa1437f966%20%3D%20L.marker%28%0A%20%20%20%20%20%20%20%20%20%20%20%20%20%20%20%20%5B43.76807%2C%2011.2658%5D%2C%0A%20%20%20%20%20%20%20%20%20%20%20%20%20%20%20%20%7B%7D%0A%20%20%20%20%20%20%20%20%20%20%20%20%29.addTo%28map_cb5ddea0a149466984ccacda88dfafab%29%3B%0A%20%20%20%20%20%20%20%20%0A%20%20%20%20%0A%20%20%20%20%20%20%20%20var%20popup_a2ccda35097c41e6856469939605b3cd%20%3D%20L.popup%28%7B%22maxWidth%22%3A%20%22100%25%22%7D%29%3B%0A%0A%20%20%20%20%20%20%20%20%0A%20%20%20%20%20%20%20%20%20%20%20%20var%20html_92f526e8eee6449388ea05aa1b7ae549%20%3D%20%24%28%60%3Cdiv%20id%3D%22html_92f526e8eee6449388ea05aa1b7ae549%22%20style%3D%22width%3A%20100.0%25%3B%20height%3A%20100.0%25%3B%22%3E%20%20%20%20%20%20%20%20%20%3Cul%3E%20%20%20%20%20%20%20%20%20%20%20%20%20%3Cli%3E%3Cstrong%3EID%3A%20%3C/strong%3E3203%3C/li%3E%20%20%20%20%20%20%20%20%20%20%20%20%20%3Cli%3E%3Cstrong%3ESource%3A%20%3C/strong%3EHenderson%20P%26C%20%23103%3C/li%3E%20%20%20%20%20%20%20%20%20%20%20%20%20%3Cli%3E%3Cstrong%3EName%3A%20%3C/strong%3Eprete%20e%20cappellano%3C/li%3E%20%20%20%20%20%20%20%20%20%3Cul%3E%20%20%20%20%20%3C/div%3E%60%29%5B0%5D%3B%0A%20%20%20%20%20%20%20%20%20%20%20%20popup_a2ccda35097c41e6856469939605b3cd.setContent%28html_92f526e8eee6449388ea05aa1b7ae549%29%3B%0A%20%20%20%20%20%20%20%20%0A%0A%20%20%20%20%20%20%20%20marker_83846f3b9d564becb46611aa1437f966.bindPopup%28popup_a2ccda35097c41e6856469939605b3cd%29%0A%20%20%20%20%20%20%20%20%3B%0A%0A%20%20%20%20%20%20%20%20%0A%20%20%20%20%0A%20%20%20%20%0A%20%20%20%20%20%20%20%20%20%20%20%20var%20marker_64fd0e88c2ca4853b9497d9752c5bcb0%20%3D%20L.marker%28%0A%20%20%20%20%20%20%20%20%20%20%20%20%20%20%20%20%5B43.772771%2C%2011.253926%5D%2C%0A%20%20%20%20%20%20%20%20%20%20%20%20%20%20%20%20%7B%7D%0A%20%20%20%20%20%20%20%20%20%20%20%20%29.addTo%28map_cb5ddea0a149466984ccacda88dfafab%29%3B%0A%20%20%20%20%20%20%20%20%0A%20%20%20%20%0A%20%20%20%20%20%20%20%20var%20popup_1d2ccd08b81d412d9a5b254f37579351%20%3D%20L.popup%28%7B%22maxWidth%22%3A%20%22100%25%22%7D%29%3B%0A%0A%20%20%20%20%20%20%20%20%0A%20%20%20%20%20%20%20%20%20%20%20%20var%20html_1360fbba5c9c4f46af8fbdbe19c042c9%20%3D%20%24%28%60%3Cdiv%20id%3D%22html_1360fbba5c9c4f46af8fbdbe19c042c9%22%20style%3D%22width%3A%20100.0%25%3B%20height%3A%20100.0%25%3B%22%3E%20%20%20%20%20%20%20%20%20%3Cul%3E%20%20%20%20%20%20%20%20%20%20%20%20%20%3Cli%3E%3Cstrong%3EID%3A%20%3C/strong%3E1612%3C/li%3E%20%20%20%20%20%20%20%20%20%20%20%20%20%3Cli%3E%3Cstrong%3ESource%3A%20%3C/strong%3EHenderson%20P%26C%20%23103%3C/li%3E%20%20%20%20%20%20%20%20%20%20%20%20%20%3Cli%3E%3Cstrong%3EName%3A%20%3C/strong%3Erigattiere%3C/li%3E%20%20%20%20%20%20%20%20%20%3Cul%3E%20%20%20%20%20%3C/div%3E%60%29%5B0%5D%3B%0A%20%20%20%20%20%20%20%20%20%20%20%20popup_1d2ccd08b81d412d9a5b254f37579351.setContent%28html_1360fbba5c9c4f46af8fbdbe19c042c9%29%3B%0A%20%20%20%20%20%20%20%20%0A%0A%20%20%20%20%20%20%20%20marker_64fd0e88c2ca4853b9497d9752c5bcb0.bindPopup%28popup_1d2ccd08b81d412d9a5b254f37579351%29%0A%20%20%20%20%20%20%20%20%3B%0A%0A%20%20%20%20%20%20%20%20%0A%20%20%20%20%0A%20%20%20%20%0A%20%20%20%20%20%20%20%20%20%20%20%20var%20marker_6b968549a61d46e8ba545fc7f77b3a78%20%3D%20L.marker%28%0A%20%20%20%20%20%20%20%20%20%20%20%20%20%20%20%20%5B43.76871188%2C%2011.24295313%5D%2C%0A%20%20%20%20%20%20%20%20%20%20%20%20%20%20%20%20%7B%7D%0A%20%20%20%20%20%20%20%20%20%20%20%20%29.addTo%28map_cb5ddea0a149466984ccacda88dfafab%29%3B%0A%20%20%20%20%20%20%20%20%0A%20%20%20%20%0A%20%20%20%20%20%20%20%20var%20popup_9ac5cabbf42e4ceb8c9d90f9d11cf2da%20%3D%20L.popup%28%7B%22maxWidth%22%3A%20%22100%25%22%7D%29%3B%0A%0A%20%20%20%20%20%20%20%20%0A%20%20%20%20%20%20%20%20%20%20%20%20var%20html_eba36b1389194c9e958b3a2475c8dc32%20%3D%20%24%28%60%3Cdiv%20id%3D%22html_eba36b1389194c9e958b3a2475c8dc32%22%20style%3D%22width%3A%20100.0%25%3B%20height%3A%20100.0%25%3B%22%3E%20%20%20%20%20%20%20%20%20%3Cul%3E%20%20%20%20%20%20%20%20%20%20%20%20%20%3Cli%3E%3Cstrong%3EID%3A%20%3C/strong%3E8432%3C/li%3E%20%20%20%20%20%20%20%20%20%20%20%20%20%3Cli%3E%3Cstrong%3ESource%3A%20%3C/strong%3EHenderson%20P%26C%20%23103%3C/li%3E%20%20%20%20%20%20%20%20%20%20%20%20%20%3Cli%3E%3Cstrong%3EName%3A%20%3C/strong%3Emerciaio%3C/li%3E%20%20%20%20%20%20%20%20%20%3Cul%3E%20%20%20%20%20%3C/div%3E%60%29%5B0%5D%3B%0A%20%20%20%20%20%20%20%20%20%20%20%20popup_9ac5cabbf42e4ceb8c9d90f9d11cf2da.setContent%28html_eba36b1389194c9e958b3a2475c8dc32%29%3B%0A%20%20%20%20%20%20%20%20%0A%0A%20%20%20%20%20%20%20%20marker_6b968549a61d46e8ba545fc7f77b3a78.bindPopup%28popup_9ac5cabbf42e4ceb8c9d90f9d11cf2da%29%0A%20%20%20%20%20%20%20%20%3B%0A%0A%20%20%20%20%20%20%20%20%0A%20%20%20%20%0A%20%20%20%20%0A%20%20%20%20%20%20%20%20%20%20%20%20var%20marker_985aefe968c3498ea7ca0435a1baef1e%20%3D%20L.marker%28%0A%20%20%20%20%20%20%20%20%20%20%20%20%20%20%20%20%5B43.780074%2C%2011.258457%5D%2C%0A%20%20%20%20%20%20%20%20%20%20%20%20%20%20%20%20%7B%7D%0A%20%20%20%20%20%20%20%20%20%20%20%20%29.addTo%28map_cb5ddea0a149466984ccacda88dfafab%29%3B%0A%20%20%20%20%20%20%20%20%0A%20%20%20%20%0A%20%20%20%20%20%20%20%20var%20popup_021678e438f44b219a741ddd678dd819%20%3D%20L.popup%28%7B%22maxWidth%22%3A%20%22100%25%22%7D%29%3B%0A%0A%20%20%20%20%20%20%20%20%0A%20%20%20%20%20%20%20%20%20%20%20%20var%20html_8d87242f06dc4f9c83a6d9b9409feb40%20%3D%20%24%28%60%3Cdiv%20id%3D%22html_8d87242f06dc4f9c83a6d9b9409feb40%22%20style%3D%22width%3A%20100.0%25%3B%20height%3A%20100.0%25%3B%22%3E%20%20%20%20%20%20%20%20%20%3Cul%3E%20%20%20%20%20%20%20%20%20%20%20%20%20%3Cli%3E%3Cstrong%3EID%3A%20%3C/strong%3E68%3C/li%3E%20%20%20%20%20%20%20%20%20%20%20%20%20%3Cli%3E%3Cstrong%3ESource%3A%20%3C/strong%3EHenderson%20P%26C%20%2387%20%5Bfemale%20tenants%3B%20see%20location%5D%3C/li%3E%20%20%20%20%20%20%20%20%20%20%20%20%20%3Cli%3E%3Cstrong%3EName%3A%20%3C/strong%3Enan%3C/li%3E%20%20%20%20%20%20%20%20%20%3Cul%3E%20%20%20%20%20%3C/div%3E%60%29%5B0%5D%3B%0A%20%20%20%20%20%20%20%20%20%20%20%20popup_021678e438f44b219a741ddd678dd819.setContent%28html_8d87242f06dc4f9c83a6d9b9409feb40%29%3B%0A%20%20%20%20%20%20%20%20%0A%0A%20%20%20%20%20%20%20%20marker_985aefe968c3498ea7ca0435a1baef1e.bindPopup%28popup_021678e438f44b219a741ddd678dd819%29%0A%20%20%20%20%20%20%20%20%3B%0A%0A%20%20%20%20%20%20%20%20%0A%20%20%20%20%0A%20%20%20%20%0A%20%20%20%20%20%20%20%20%20%20%20%20var%20marker_75e22623391849c5960e7b32aa9e2031%20%3D%20L.marker%28%0A%20%20%20%20%20%20%20%20%20%20%20%20%20%20%20%20%5B43.78001%2C%2011.258343%5D%2C%0A%20%20%20%20%20%20%20%20%20%20%20%20%20%20%20%20%7B%7D%0A%20%20%20%20%20%20%20%20%20%20%20%20%29.addTo%28map_cb5ddea0a149466984ccacda88dfafab%29%3B%0A%20%20%20%20%20%20%20%20%0A%20%20%20%20%0A%20%20%20%20%20%20%20%20var%20popup_5f2187280aa247e2ad09cbe5c4f0a092%20%3D%20L.popup%28%7B%22maxWidth%22%3A%20%22100%25%22%7D%29%3B%0A%0A%20%20%20%20%20%20%20%20%0A%20%20%20%20%20%20%20%20%20%20%20%20var%20html_53c19a916d6c4278ace5f4f466e781a2%20%3D%20%24%28%60%3Cdiv%20id%3D%22html_53c19a916d6c4278ace5f4f466e781a2%22%20style%3D%22width%3A%20100.0%25%3B%20height%3A%20100.0%25%3B%22%3E%20%20%20%20%20%20%20%20%20%3Cul%3E%20%20%20%20%20%20%20%20%20%20%20%20%20%3Cli%3E%3Cstrong%3EID%3A%20%3C/strong%3E248%3C/li%3E%20%20%20%20%20%20%20%20%20%20%20%20%20%3Cli%3E%3Cstrong%3ESource%3A%20%3C/strong%3EHenderson%20P%26C%20%2387%3C/li%3E%20%20%20%20%20%20%20%20%20%20%20%20%20%3Cli%3E%3Cstrong%3EName%3A%20%3C/strong%3Enan%3C/li%3E%20%20%20%20%20%20%20%20%20%3Cul%3E%20%20%20%20%20%3C/div%3E%60%29%5B0%5D%3B%0A%20%20%20%20%20%20%20%20%20%20%20%20popup_5f2187280aa247e2ad09cbe5c4f0a092.setContent%28html_53c19a916d6c4278ace5f4f466e781a2%29%3B%0A%20%20%20%20%20%20%20%20%0A%0A%20%20%20%20%20%20%20%20marker_75e22623391849c5960e7b32aa9e2031.bindPopup%28popup_5f2187280aa247e2ad09cbe5c4f0a092%29%0A%20%20%20%20%20%20%20%20%3B%0A%0A%20%20%20%20%20%20%20%20%0A%20%20%20%20%0A%20%20%20%20%0A%20%20%20%20%20%20%20%20%20%20%20%20var%20marker_4138d226d75a497d9583bd07223ff35b%20%3D%20L.marker%28%0A%20%20%20%20%20%20%20%20%20%20%20%20%20%20%20%20%5B43.78006019%2C%2011.25829352%5D%2C%0A%20%20%20%20%20%20%20%20%20%20%20%20%20%20%20%20%7B%7D%0A%20%20%20%20%20%20%20%20%20%20%20%20%29.addTo%28map_cb5ddea0a149466984ccacda88dfafab%29%3B%0A%20%20%20%20%20%20%20%20%0A%20%20%20%20%0A%20%20%20%20%20%20%20%20var%20popup_a9abf9aa3b8943d1990f19f7eb358047%20%3D%20L.popup%28%7B%22maxWidth%22%3A%20%22100%25%22%7D%29%3B%0A%0A%20%20%20%20%20%20%20%20%0A%20%20%20%20%20%20%20%20%20%20%20%20var%20html_2e796618fa11402389350516aa4d7d9d%20%3D%20%24%28%60%3Cdiv%20id%3D%22html_2e796618fa11402389350516aa4d7d9d%22%20style%3D%22width%3A%20100.0%25%3B%20height%3A%20100.0%25%3B%22%3E%20%20%20%20%20%20%20%20%20%3Cul%3E%20%20%20%20%20%20%20%20%20%20%20%20%20%3Cli%3E%3Cstrong%3EID%3A%20%3C/strong%3E717%3C/li%3E%20%20%20%20%20%20%20%20%20%20%20%20%20%3Cli%3E%3Cstrong%3ESource%3A%20%3C/strong%3EHenderson%20P%26C%20%2387%3C/li%3E%20%20%20%20%20%20%20%20%20%20%20%20%20%3Cli%3E%3Cstrong%3EName%3A%20%3C/strong%3Enan%3C/li%3E%20%20%20%20%20%20%20%20%20%3Cul%3E%20%20%20%20%20%3C/div%3E%60%29%5B0%5D%3B%0A%20%20%20%20%20%20%20%20%20%20%20%20popup_a9abf9aa3b8943d1990f19f7eb358047.setContent%28html_2e796618fa11402389350516aa4d7d9d%29%3B%0A%20%20%20%20%20%20%20%20%0A%0A%20%20%20%20%20%20%20%20marker_4138d226d75a497d9583bd07223ff35b.bindPopup%28popup_a9abf9aa3b8943d1990f19f7eb358047%29%0A%20%20%20%20%20%20%20%20%3B%0A%0A%20%20%20%20%20%20%20%20%0A%20%20%20%20%0A%20%20%20%20%0A%20%20%20%20%20%20%20%20%20%20%20%20var%20marker_c48d295418d74cd6baf82da55eaf6d64%20%3D%20L.marker%28%0A%20%20%20%20%20%20%20%20%20%20%20%20%20%20%20%20%5B43.775658%2C%2011.25233071%5D%2C%0A%20%20%20%20%20%20%20%20%20%20%20%20%20%20%20%20%7B%7D%0A%20%20%20%20%20%20%20%20%20%20%20%20%29.addTo%28map_cb5ddea0a149466984ccacda88dfafab%29%3B%0A%20%20%20%20%20%20%20%20%0A%20%20%20%20%0A%20%20%20%20%20%20%20%20var%20popup_7fa6964df76d4610af12a7eccef154f0%20%3D%20L.popup%28%7B%22maxWidth%22%3A%20%22100%25%22%7D%29%3B%0A%0A%20%20%20%20%20%20%20%20%0A%20%20%20%20%20%20%20%20%20%20%20%20var%20html_f2fc93cb2fd74c09ae00baab120bf10a%20%3D%20%24%28%60%3Cdiv%20id%3D%22html_f2fc93cb2fd74c09ae00baab120bf10a%22%20style%3D%22width%3A%20100.0%25%3B%20height%3A%20100.0%25%3B%22%3E%20%20%20%20%20%20%20%20%20%3Cul%3E%20%20%20%20%20%20%20%20%20%20%20%20%20%3Cli%3E%3Cstrong%3EID%3A%20%3C/strong%3E245%3C/li%3E%20%20%20%20%20%20%20%20%20%20%20%20%20%3Cli%3E%3Cstrong%3ESource%3A%20%3C/strong%3EHenderson%20P%26C%20104%20%5Bvia%20S%20Jacopo%20in%20Campo%20Corbelino%5D%3C/li%3E%20%20%20%20%20%20%20%20%20%20%20%20%20%3Cli%3E%3Cstrong%3EName%3A%20%3C/strong%3Enan%3C/li%3E%20%20%20%20%20%20%20%20%20%3Cul%3E%20%20%20%20%20%3C/div%3E%60%29%5B0%5D%3B%0A%20%20%20%20%20%20%20%20%20%20%20%20popup_7fa6964df76d4610af12a7eccef154f0.setContent%28html_f2fc93cb2fd74c09ae00baab120bf10a%29%3B%0A%20%20%20%20%20%20%20%20%0A%0A%20%20%20%20%20%20%20%20marker_c48d295418d74cd6baf82da55eaf6d64.bindPopup%28popup_7fa6964df76d4610af12a7eccef154f0%29%0A%20%20%20%20%20%20%20%20%3B%0A%0A%20%20%20%20%20%20%20%20%0A%20%20%20%20%0A%20%20%20%20%0A%20%20%20%20%20%20%20%20%20%20%20%20var%20marker_3853c0b9d94941fa9ca024b73ec72846%20%3D%20L.marker%28%0A%20%20%20%20%20%20%20%20%20%20%20%20%20%20%20%20%5B43.76999571%2C%2011.26450286%5D%2C%0A%20%20%20%20%20%20%20%20%20%20%20%20%20%20%20%20%7B%7D%0A%20%20%20%20%20%20%20%20%20%20%20%20%29.addTo%28map_cb5ddea0a149466984ccacda88dfafab%29%3B%0A%20%20%20%20%20%20%20%20%0A%20%20%20%20%0A%20%20%20%20%20%20%20%20var%20popup_5c1df79799a74966b219c7d064c76102%20%3D%20L.popup%28%7B%22maxWidth%22%3A%20%22100%25%22%7D%29%3B%0A%0A%20%20%20%20%20%20%20%20%0A%20%20%20%20%20%20%20%20%20%20%20%20var%20html_b1cfb6cf72fd4e59a7ae06e0ef7cdae3%20%3D%20%24%28%60%3Cdiv%20id%3D%22html_b1cfb6cf72fd4e59a7ae06e0ef7cdae3%22%20style%3D%22width%3A%20100.0%25%3B%20height%3A%20100.0%25%3B%22%3E%20%20%20%20%20%20%20%20%20%3Cul%3E%20%20%20%20%20%20%20%20%20%20%20%20%20%3Cli%3E%3Cstrong%3EID%3A%20%3C/strong%3E3291%3C/li%3E%20%20%20%20%20%20%20%20%20%20%20%20%20%3Cli%3E%3Cstrong%3ESource%3A%20%3C/strong%3EHenderson%20P%26C%20%23113%20%5Baddress%5D%3C/li%3E%20%20%20%20%20%20%20%20%20%20%20%20%20%3Cli%3E%3Cstrong%3EName%3A%20%3C/strong%3Enan%3C/li%3E%20%20%20%20%20%20%20%20%20%3Cul%3E%20%20%20%20%20%3C/div%3E%60%29%5B0%5D%3B%0A%20%20%20%20%20%20%20%20%20%20%20%20popup_5c1df79799a74966b219c7d064c76102.setContent%28html_b1cfb6cf72fd4e59a7ae06e0ef7cdae3%29%3B%0A%20%20%20%20%20%20%20%20%0A%0A%20%20%20%20%20%20%20%20marker_3853c0b9d94941fa9ca024b73ec72846.bindPopup%28popup_5c1df79799a74966b219c7d064c76102%29%0A%20%20%20%20%20%20%20%20%3B%0A%0A%20%20%20%20%20%20%20%20%0A%20%20%20%20%0A%20%20%20%20%0A%20%20%20%20%20%20%20%20%20%20%20%20var%20marker_43f58fab66af4d1dad0473efc7e3f227%20%3D%20L.marker%28%0A%20%20%20%20%20%20%20%20%20%20%20%20%20%20%20%20%5B43.777678%2C%2011.25840717%5D%2C%0A%20%20%20%20%20%20%20%20%20%20%20%20%20%20%20%20%7B%7D%0A%20%20%20%20%20%20%20%20%20%20%20%20%29.addTo%28map_cb5ddea0a149466984ccacda88dfafab%29%3B%0A%20%20%20%20%20%20%20%20%0A%20%20%20%20%0A%20%20%20%20%20%20%20%20var%20popup_cf08a4e88e3c4610b5c9fb888515391f%20%3D%20L.popup%28%7B%22maxWidth%22%3A%20%22100%25%22%7D%29%3B%0A%0A%20%20%20%20%20%20%20%20%0A%20%20%20%20%20%20%20%20%20%20%20%20var%20html_5ed337b08cd84c4898e3099ede879b93%20%3D%20%24%28%60%3Cdiv%20id%3D%22html_5ed337b08cd84c4898e3099ede879b93%22%20style%3D%22width%3A%20100.0%25%3B%20height%3A%20100.0%25%3B%22%3E%20%20%20%20%20%20%20%20%20%3Cul%3E%20%20%20%20%20%20%20%20%20%20%20%20%20%3Cli%3E%3Cstrong%3EID%3A%20%3C/strong%3E1429%3C/li%3E%20%20%20%20%20%20%20%20%20%20%20%20%20%3Cli%3E%3Cstrong%3ESource%3A%20%3C/strong%3EHenderson%20P%26C%20%23113%20%5Baddress%5D%3C/li%3E%20%20%20%20%20%20%20%20%20%20%20%20%20%3Cli%3E%3Cstrong%3EName%3A%20%3C/strong%3Enan%3C/li%3E%20%20%20%20%20%20%20%20%20%3Cul%3E%20%20%20%20%20%3C/div%3E%60%29%5B0%5D%3B%0A%20%20%20%20%20%20%20%20%20%20%20%20popup_cf08a4e88e3c4610b5c9fb888515391f.setContent%28html_5ed337b08cd84c4898e3099ede879b93%29%3B%0A%20%20%20%20%20%20%20%20%0A%0A%20%20%20%20%20%20%20%20marker_43f58fab66af4d1dad0473efc7e3f227.bindPopup%28popup_cf08a4e88e3c4610b5c9fb888515391f%29%0A%20%20%20%20%20%20%20%20%3B%0A%0A%20%20%20%20%20%20%20%20%0A%20%20%20%20%0A%20%20%20%20%0A%20%20%20%20%20%20%20%20%20%20%20%20var%20marker_1cbc6f0cafd4429e92d65be8d69397c2%20%3D%20L.marker%28%0A%20%20%20%20%20%20%20%20%20%20%20%20%20%20%20%20%5B43.76985%2C%2011.2661425%5D%2C%0A%20%20%20%20%20%20%20%20%20%20%20%20%20%20%20%20%7B%7D%0A%20%20%20%20%20%20%20%20%20%20%20%20%29.addTo%28map_cb5ddea0a149466984ccacda88dfafab%29%3B%0A%20%20%20%20%20%20%20%20%0A%20%20%20%20%0A%20%20%20%20%20%20%20%20var%20popup_799fc66d522141dbbef8a68f95bacf57%20%3D%20L.popup%28%7B%22maxWidth%22%3A%20%22100%25%22%7D%29%3B%0A%0A%20%20%20%20%20%20%20%20%0A%20%20%20%20%20%20%20%20%20%20%20%20var%20html_97283f9151e84eaeba841c2d99828e08%20%3D%20%24%28%60%3Cdiv%20id%3D%22html_97283f9151e84eaeba841c2d99828e08%22%20style%3D%22width%3A%20100.0%25%3B%20height%3A%20100.0%25%3B%22%3E%20%20%20%20%20%20%20%20%20%3Cul%3E%20%20%20%20%20%20%20%20%20%20%20%20%20%3Cli%3E%3Cstrong%3EID%3A%20%3C/strong%3E3025%3C/li%3E%20%20%20%20%20%20%20%20%20%20%20%20%20%3Cli%3E%3Cstrong%3ESource%3A%20%3C/strong%3EHenderson%20P%26C%20%23121%3F%20%20All%205%20these%20contiguous%20-%20by%20modern%20S.%20Ambrogio%20market%20on%20Via%20Visdomini%20where%20there%20was%20a%20ruined%20casolare%3C/li%3E%20%20%20%20%20%20%20%20%20%20%20%20%20%3Cli%3E%3Cstrong%3EName%3A%20%3C/strong%3Enan%3C/li%3E%20%20%20%20%20%20%20%20%20%3Cul%3E%20%20%20%20%20%3C/div%3E%60%29%5B0%5D%3B%0A%20%20%20%20%20%20%20%20%20%20%20%20popup_799fc66d522141dbbef8a68f95bacf57.setContent%28html_97283f9151e84eaeba841c2d99828e08%29%3B%0A%20%20%20%20%20%20%20%20%0A%0A%20%20%20%20%20%20%20%20marker_1cbc6f0cafd4429e92d65be8d69397c2.bindPopup%28popup_799fc66d522141dbbef8a68f95bacf57%29%0A%20%20%20%20%20%20%20%20%3B%0A%0A%20%20%20%20%20%20%20%20%0A%20%20%20%20%0A%20%20%20%20%0A%20%20%20%20%20%20%20%20%20%20%20%20var%20marker_f55934617f5d47a1bce8091fb56f2c98%20%3D%20L.marker%28%0A%20%20%20%20%20%20%20%20%20%20%20%20%20%20%20%20%5B43.76976%2C%2011.266095%5D%2C%0A%20%20%20%20%20%20%20%20%20%20%20%20%20%20%20%20%7B%7D%0A%20%20%20%20%20%20%20%20%20%20%20%20%29.addTo%28map_cb5ddea0a149466984ccacda88dfafab%29%3B%0A%20%20%20%20%20%20%20%20%0A%20%20%20%20%0A%20%20%20%20%20%20%20%20var%20popup_a68b2017fb6a4c20a225833b52991562%20%3D%20L.popup%28%7B%22maxWidth%22%3A%20%22100%25%22%7D%29%3B%0A%0A%20%20%20%20%20%20%20%20%0A%20%20%20%20%20%20%20%20%20%20%20%20var%20html_8cd0afd1f46e4cd6a0f3443c72275042%20%3D%20%24%28%60%3Cdiv%20id%3D%22html_8cd0afd1f46e4cd6a0f3443c72275042%22%20style%3D%22width%3A%20100.0%25%3B%20height%3A%20100.0%25%3B%22%3E%20%20%20%20%20%20%20%20%20%3Cul%3E%20%20%20%20%20%20%20%20%20%20%20%20%20%3Cli%3E%3Cstrong%3EID%3A%20%3C/strong%3E3044%3C/li%3E%20%20%20%20%20%20%20%20%20%20%20%20%20%3Cli%3E%3Cstrong%3ESource%3A%20%3C/strong%3EHenderson%20P%26C%20%23121%3F%20-%20All%205%20these%20contiguous%20-%20by%20modern%20S.%20Ambrogio%20market%20on%20Via%20Visdomini%20where%20there%20was%20a%20ruined%20casolare%3C/li%3E%20%20%20%20%20%20%20%20%20%20%20%20%20%3Cli%3E%3Cstrong%3EName%3A%20%3C/strong%3Enan%3C/li%3E%20%20%20%20%20%20%20%20%20%3Cul%3E%20%20%20%20%20%3C/div%3E%60%29%5B0%5D%3B%0A%20%20%20%20%20%20%20%20%20%20%20%20popup_a68b2017fb6a4c20a225833b52991562.setContent%28html_8cd0afd1f46e4cd6a0f3443c72275042%29%3B%0A%20%20%20%20%20%20%20%20%0A%0A%20%20%20%20%20%20%20%20marker_f55934617f5d47a1bce8091fb56f2c98.bindPopup%28popup_a68b2017fb6a4c20a225833b52991562%29%0A%20%20%20%20%20%20%20%20%3B%0A%0A%20%20%20%20%20%20%20%20%0A%20%20%20%20%0A%20%20%20%20%0A%20%20%20%20%20%20%20%20%20%20%20%20var%20marker_a010fdc0c42f4aa390237ec5ea4bde8f%20%3D%20L.marker%28%0A%20%20%20%20%20%20%20%20%20%20%20%20%20%20%20%20%5B43.76967%2C%2011.2660475%5D%2C%0A%20%20%20%20%20%20%20%20%20%20%20%20%20%20%20%20%7B%7D%0A%20%20%20%20%20%20%20%20%20%20%20%20%29.addTo%28map_cb5ddea0a149466984ccacda88dfafab%29%3B%0A%20%20%20%20%20%20%20%20%0A%20%20%20%20%0A%20%20%20%20%20%20%20%20var%20popup_ad6b65fe63c54cb8addf56e089b1e4b7%20%3D%20L.popup%28%7B%22maxWidth%22%3A%20%22100%25%22%7D%29%3B%0A%0A%20%20%20%20%20%20%20%20%0A%20%20%20%20%20%20%20%20%20%20%20%20var%20html_971f0a458f7e4312a9fb1ef55d5f622c%20%3D%20%24%28%60%3Cdiv%20id%3D%22html_971f0a458f7e4312a9fb1ef55d5f622c%22%20style%3D%22width%3A%20100.0%25%3B%20height%3A%20100.0%25%3B%22%3E%20%20%20%20%20%20%20%20%20%3Cul%3E%20%20%20%20%20%20%20%20%20%20%20%20%20%3Cli%3E%3Cstrong%3EID%3A%20%3C/strong%3E3082%3C/li%3E%20%20%20%20%20%20%20%20%20%20%20%20%20%3Cli%3E%3Cstrong%3ESource%3A%20%3C/strong%3EHenderson%20P%26C%20%23121%3F%20-%20All%205%20these%20contiguous%20-%20by%20modern%20S.%20Ambrogio%20market%20on%20Via%20Visdomini%20where%20there%20was%20a%20ruined%20casolare%3C/li%3E%20%20%20%20%20%20%20%20%20%20%20%20%20%3Cli%3E%3Cstrong%3EName%3A%20%3C/strong%3Enan%3C/li%3E%20%20%20%20%20%20%20%20%20%3Cul%3E%20%20%20%20%20%3C/div%3E%60%29%5B0%5D%3B%0A%20%20%20%20%20%20%20%20%20%20%20%20popup_ad6b65fe63c54cb8addf56e089b1e4b7.setContent%28html_971f0a458f7e4312a9fb1ef55d5f622c%29%3B%0A%20%20%20%20%20%20%20%20%0A%0A%20%20%20%20%20%20%20%20marker_a010fdc0c42f4aa390237ec5ea4bde8f.bindPopup%28popup_ad6b65fe63c54cb8addf56e089b1e4b7%29%0A%20%20%20%20%20%20%20%20%3B%0A%0A%20%20%20%20%20%20%20%20%0A%20%20%20%20%0A%20%20%20%20%0A%20%20%20%20%20%20%20%20%20%20%20%20var%20marker_cd4b71da284642a4aad1b1b877d7e0c1%20%3D%20L.marker%28%0A%20%20%20%20%20%20%20%20%20%20%20%20%20%20%20%20%5B43.76958%2C%2011.266%5D%2C%0A%20%20%20%20%20%20%20%20%20%20%20%20%20%20%20%20%7B%7D%0A%20%20%20%20%20%20%20%20%20%20%20%20%29.addTo%28map_cb5ddea0a149466984ccacda88dfafab%29%3B%0A%20%20%20%20%20%20%20%20%0A%20%20%20%20%0A%20%20%20%20%20%20%20%20var%20popup_3b1d028b9d5645b982885811457b02cb%20%3D%20L.popup%28%7B%22maxWidth%22%3A%20%22100%25%22%7D%29%3B%0A%0A%20%20%20%20%20%20%20%20%0A%20%20%20%20%20%20%20%20%20%20%20%20var%20html_8e84959eea0747a6bb2630ddc8212428%20%3D%20%24%28%60%3Cdiv%20id%3D%22html_8e84959eea0747a6bb2630ddc8212428%22%20style%3D%22width%3A%20100.0%25%3B%20height%3A%20100.0%25%3B%22%3E%20%20%20%20%20%20%20%20%20%3Cul%3E%20%20%20%20%20%20%20%20%20%20%20%20%20%3Cli%3E%3Cstrong%3EID%3A%20%3C/strong%3E3083%3C/li%3E%20%20%20%20%20%20%20%20%20%20%20%20%20%3Cli%3E%3Cstrong%3ESource%3A%20%3C/strong%3EHenderson%20P%26C%20%23121%3F%20-%20All%205%20these%20contiguous%20-%20by%20modern%20S.%20Ambrogio%20market%20on%20Via%20Visdomini%20where%20there%20was%20a%20ruined%20casolare%3C/li%3E%20%20%20%20%20%20%20%20%20%20%20%20%20%3Cli%3E%3Cstrong%3EName%3A%20%3C/strong%3Emuratore%3C/li%3E%20%20%20%20%20%20%20%20%20%3Cul%3E%20%20%20%20%20%3C/div%3E%60%29%5B0%5D%3B%0A%20%20%20%20%20%20%20%20%20%20%20%20popup_3b1d028b9d5645b982885811457b02cb.setContent%28html_8e84959eea0747a6bb2630ddc8212428%29%3B%0A%20%20%20%20%20%20%20%20%0A%0A%20%20%20%20%20%20%20%20marker_cd4b71da284642a4aad1b1b877d7e0c1.bindPopup%28popup_3b1d028b9d5645b982885811457b02cb%29%0A%20%20%20%20%20%20%20%20%3B%0A%0A%20%20%20%20%20%20%20%20%0A%20%20%20%20%0A%20%20%20%20%0A%20%20%20%20%20%20%20%20%20%20%20%20var%20marker_93ad83ddd99e4d20b2eaea151ea9b3c7%20%3D%20L.marker%28%0A%20%20%20%20%20%20%20%20%20%20%20%20%20%20%20%20%5B43.76994%2C%2011.26619%5D%2C%0A%20%20%20%20%20%20%20%20%20%20%20%20%20%20%20%20%7B%7D%0A%20%20%20%20%20%20%20%20%20%20%20%20%29.addTo%28map_cb5ddea0a149466984ccacda88dfafab%29%3B%0A%20%20%20%20%20%20%20%20%0A%20%20%20%20%0A%20%20%20%20%20%20%20%20var%20popup_6ac8dbfde49c4563b4df3fca4452bba5%20%3D%20L.popup%28%7B%22maxWidth%22%3A%20%22100%25%22%7D%29%3B%0A%0A%20%20%20%20%20%20%20%20%0A%20%20%20%20%20%20%20%20%20%20%20%20var%20html_54f930dad56b4be5a3df9988ad1fcd3b%20%3D%20%24%28%60%3Cdiv%20id%3D%22html_54f930dad56b4be5a3df9988ad1fcd3b%22%20style%3D%22width%3A%20100.0%25%3B%20height%3A%20100.0%25%3B%22%3E%20%20%20%20%20%20%20%20%20%3Cul%3E%20%20%20%20%20%20%20%20%20%20%20%20%20%3Cli%3E%3Cstrong%3EID%3A%20%3C/strong%3E3116%3C/li%3E%20%20%20%20%20%20%20%20%20%20%20%20%20%3Cli%3E%3Cstrong%3ESource%3A%20%3C/strong%3EHenderson%20P%26C%20%23121%3F%20-%20All%205%20these%20contiguous%20-%20by%20modern%20S.%20Ambrogio%20market%20on%20Via%20Visdomini%20where%20there%20was%20a%20ruined%20casolare%3C/li%3E%20%20%20%20%20%20%20%20%20%20%20%20%20%3Cli%3E%3Cstrong%3EName%3A%20%3C/strong%3Etessitore%3C/li%3E%20%20%20%20%20%20%20%20%20%3Cul%3E%20%20%20%20%20%3C/div%3E%60%29%5B0%5D%3B%0A%20%20%20%20%20%20%20%20%20%20%20%20popup_6ac8dbfde49c4563b4df3fca4452bba5.setContent%28html_54f930dad56b4be5a3df9988ad1fcd3b%29%3B%0A%20%20%20%20%20%20%20%20%0A%0A%20%20%20%20%20%20%20%20marker_93ad83ddd99e4d20b2eaea151ea9b3c7.bindPopup%28popup_6ac8dbfde49c4563b4df3fca4452bba5%29%0A%20%20%20%20%20%20%20%20%3B%0A%0A%20%20%20%20%20%20%20%20%0A%20%20%20%20%0A%20%20%20%20%0A%20%20%20%20%20%20%20%20%20%20%20%20var%20marker_e9635a48d5c541eca8e87759b0e2dd82%20%3D%20L.marker%28%0A%20%20%20%20%20%20%20%20%20%20%20%20%20%20%20%20%5B43.7731525%2C%2011.24989%5D%2C%0A%20%20%20%20%20%20%20%20%20%20%20%20%20%20%20%20%7B%7D%0A%20%20%20%20%20%20%20%20%20%20%20%20%29.addTo%28map_cb5ddea0a149466984ccacda88dfafab%29%3B%0A%20%20%20%20%20%20%20%20%0A%20%20%20%20%0A%20%20%20%20%20%20%20%20var%20popup_5af5fc45f48a4e46b4f022938bdf7be9%20%3D%20L.popup%28%7B%22maxWidth%22%3A%20%22100%25%22%7D%29%3B%0A%0A%20%20%20%20%20%20%20%20%0A%20%20%20%20%20%20%20%20%20%20%20%20var%20html_7be42df238ce45c2b8944d6cb401901e%20%3D%20%24%28%60%3Cdiv%20id%3D%22html_7be42df238ce45c2b8944d6cb401901e%22%20style%3D%22width%3A%20100.0%25%3B%20height%3A%20100.0%25%3B%22%3E%20%20%20%20%20%20%20%20%20%3Cul%3E%20%20%20%20%20%20%20%20%20%20%20%20%20%3Cli%3E%3Cstrong%3EID%3A%20%3C/strong%3E5751%3C/li%3E%20%20%20%20%20%20%20%20%20%20%20%20%20%3Cli%3E%3Cstrong%3ESource%3A%20%3C/strong%3EIn%20Piazza%20S%20Maria%20Novella%3B%20near%20one%20of%20S.%20Paolo%20Martire%3C/li%3E%20%20%20%20%20%20%20%20%20%20%20%20%20%3Cli%3E%3Cstrong%3EName%3A%20%3C/strong%3Enan%3C/li%3E%20%20%20%20%20%20%20%20%20%3Cul%3E%20%20%20%20%20%3C/div%3E%60%29%5B0%5D%3B%0A%20%20%20%20%20%20%20%20%20%20%20%20popup_5af5fc45f48a4e46b4f022938bdf7be9.setContent%28html_7be42df238ce45c2b8944d6cb401901e%29%3B%0A%20%20%20%20%20%20%20%20%0A%0A%20%20%20%20%20%20%20%20marker_e9635a48d5c541eca8e87759b0e2dd82.bindPopup%28popup_5af5fc45f48a4e46b4f022938bdf7be9%29%0A%20%20%20%20%20%20%20%20%3B%0A%0A%20%20%20%20%20%20%20%20%0A%20%20%20%20%0A%20%20%20%20%0A%20%20%20%20%20%20%20%20%20%20%20%20var%20marker_0e83f87bb98743d69f9ad1b207f47e53%20%3D%20L.marker%28%0A%20%20%20%20%20%20%20%20%20%20%20%20%20%20%20%20%5B43.777146%2C%2011.253746%5D%2C%0A%20%20%20%20%20%20%20%20%20%20%20%20%20%20%20%20%7B%7D%0A%20%20%20%20%20%20%20%20%20%20%20%20%29.addTo%28map_cb5ddea0a149466984ccacda88dfafab%29%3B%0A%20%20%20%20%20%20%20%20%0A%20%20%20%20%0A%20%20%20%20%20%20%20%20var%20popup_7b39140e8f654b1c86da2cbaae528896%20%3D%20L.popup%28%7B%22maxWidth%22%3A%20%22100%25%22%7D%29%3B%0A%0A%20%20%20%20%20%20%20%20%0A%20%20%20%20%20%20%20%20%20%20%20%20var%20html_2b2af8915f7b47438f621ad270d98dac%20%3D%20%24%28%60%3Cdiv%20id%3D%22html_2b2af8915f7b47438f621ad270d98dac%22%20style%3D%22width%3A%20100.0%25%3B%20height%3A%20100.0%25%3B%22%3E%20%20%20%20%20%20%20%20%20%3Cul%3E%20%20%20%20%20%20%20%20%20%20%20%20%20%3Cli%3E%3Cstrong%3EID%3A%20%3C/strong%3E437%3C/li%3E%20%20%20%20%20%20%20%20%20%20%20%20%20%3Cli%3E%3Cstrong%3ESource%3A%20%3C/strong%3EHenderson%20P%26C%20%23138%3C/li%3E%20%20%20%20%20%20%20%20%20%20%20%20%20%3Cli%3E%3Cstrong%3EName%3A%20%3C/strong%3Enan%3C/li%3E%20%20%20%20%20%20%20%20%20%3Cul%3E%20%20%20%20%20%3C/div%3E%60%29%5B0%5D%3B%0A%20%20%20%20%20%20%20%20%20%20%20%20popup_7b39140e8f654b1c86da2cbaae528896.setContent%28html_2b2af8915f7b47438f621ad270d98dac%29%3B%0A%20%20%20%20%20%20%20%20%0A%0A%20%20%20%20%20%20%20%20marker_0e83f87bb98743d69f9ad1b207f47e53.bindPopup%28popup_7b39140e8f654b1c86da2cbaae528896%29%0A%20%20%20%20%20%20%20%20%3B%0A%0A%20%20%20%20%20%20%20%20%0A%20%20%20%20%0A%20%20%20%20%0A%20%20%20%20%20%20%20%20%20%20%20%20var%20marker_856a876ed077433bb8d6cfb5c9dbc7a8%20%3D%20L.marker%28%0A%20%20%20%20%20%20%20%20%20%20%20%20%20%20%20%20%5B43.775512%2C%2011.2525135%5D%2C%0A%20%20%20%20%20%20%20%20%20%20%20%20%20%20%20%20%7B%7D%0A%20%20%20%20%20%20%20%20%20%20%20%20%29.addTo%28map_cb5ddea0a149466984ccacda88dfafab%29%3B%0A%20%20%20%20%20%20%20%20%0A%20%20%20%20%0A%20%20%20%20%20%20%20%20var%20popup_55000e061e07428087fc006fa91ae6d6%20%3D%20L.popup%28%7B%22maxWidth%22%3A%20%22100%25%22%7D%29%3B%0A%0A%20%20%20%20%20%20%20%20%0A%20%20%20%20%20%20%20%20%20%20%20%20var%20html_f1ba6d22a0af464090b18d7952dafb7c%20%3D%20%24%28%60%3Cdiv%20id%3D%22html_f1ba6d22a0af464090b18d7952dafb7c%22%20style%3D%22width%3A%20100.0%25%3B%20height%3A%20100.0%25%3B%22%3E%20%20%20%20%20%20%20%20%20%3Cul%3E%20%20%20%20%20%20%20%20%20%20%20%20%20%3Cli%3E%3Cstrong%3EID%3A%20%3C/strong%3E753%3C/li%3E%20%20%20%20%20%20%20%20%20%20%20%20%20%3Cli%3E%3Cstrong%3ESource%3A%20%3C/strong%3EHenderson%20P%26C%20%23138%3C/li%3E%20%20%20%20%20%20%20%20%20%20%20%20%20%3Cli%3E%3Cstrong%3EName%3A%20%3C/strong%3Ecappellaio%3C/li%3E%20%20%20%20%20%20%20%20%20%3Cul%3E%20%20%20%20%20%3C/div%3E%60%29%5B0%5D%3B%0A%20%20%20%20%20%20%20%20%20%20%20%20popup_55000e061e07428087fc006fa91ae6d6.setContent%28html_f1ba6d22a0af464090b18d7952dafb7c%29%3B%0A%20%20%20%20%20%20%20%20%0A%0A%20%20%20%20%20%20%20%20marker_856a876ed077433bb8d6cfb5c9dbc7a8.bindPopup%28popup_55000e061e07428087fc006fa91ae6d6%29%0A%20%20%20%20%20%20%20%20%3B%0A%0A%20%20%20%20%20%20%20%20%0A%20%20%20%20%0A%20%20%20%20%0A%20%20%20%20%20%20%20%20%20%20%20%20var%20marker_3357592338af486ba2e8f8a8da07cc15%20%3D%20L.marker%28%0A%20%20%20%20%20%20%20%20%20%20%20%20%20%20%20%20%5B43.77555867%2C%2011.25144467%5D%2C%0A%20%20%20%20%20%20%20%20%20%20%20%20%20%20%20%20%7B%7D%0A%20%20%20%20%20%20%20%20%20%20%20%20%29.addTo%28map_cb5ddea0a149466984ccacda88dfafab%29%3B%0A%20%20%20%20%20%20%20%20%0A%20%20%20%20%0A%20%20%20%20%20%20%20%20var%20popup_5e6a1923c7fe4f86b12caa4496c0c3fb%20%3D%20L.popup%28%7B%22maxWidth%22%3A%20%22100%25%22%7D%29%3B%0A%0A%20%20%20%20%20%20%20%20%0A%20%20%20%20%20%20%20%20%20%20%20%20var%20html_85b9c0e816134eaa911e9bdac6e93de1%20%3D%20%24%28%60%3Cdiv%20id%3D%22html_85b9c0e816134eaa911e9bdac6e93de1%22%20style%3D%22width%3A%20100.0%25%3B%20height%3A%20100.0%25%3B%22%3E%20%20%20%20%20%20%20%20%20%3Cul%3E%20%20%20%20%20%20%20%20%20%20%20%20%20%3Cli%3E%3Cstrong%3EID%3A%20%3C/strong%3E5701%3C/li%3E%20%20%20%20%20%20%20%20%20%20%20%20%20%3Cli%3E%3Cstrong%3ESource%3A%20%3C/strong%3EHenderson%20P%26C%20%23138%3C/li%3E%20%20%20%20%20%20%20%20%20%20%20%20%20%3Cli%3E%3Cstrong%3EName%3A%20%3C/strong%3Enan%3C/li%3E%20%20%20%20%20%20%20%20%20%3Cul%3E%20%20%20%20%20%3C/div%3E%60%29%5B0%5D%3B%0A%20%20%20%20%20%20%20%20%20%20%20%20popup_5e6a1923c7fe4f86b12caa4496c0c3fb.setContent%28html_85b9c0e816134eaa911e9bdac6e93de1%29%3B%0A%20%20%20%20%20%20%20%20%0A%0A%20%20%20%20%20%20%20%20marker_3357592338af486ba2e8f8a8da07cc15.bindPopup%28popup_5e6a1923c7fe4f86b12caa4496c0c3fb%29%0A%20%20%20%20%20%20%20%20%3B%0A%0A%20%20%20%20%20%20%20%20%0A%20%20%20%20%0A%20%20%20%20%0A%20%20%20%20%20%20%20%20%20%20%20%20var%20marker_75684d3eb9e1454e8f73c44b66b3ff4c%20%3D%20L.marker%28%0A%20%20%20%20%20%20%20%20%20%20%20%20%20%20%20%20%5B43.77542875%2C%2011.2513375%5D%2C%0A%20%20%20%20%20%20%20%20%20%20%20%20%20%20%20%20%7B%7D%0A%20%20%20%20%20%20%20%20%20%20%20%20%29.addTo%28map_cb5ddea0a149466984ccacda88dfafab%29%3B%0A%20%20%20%20%20%20%20%20%0A%20%20%20%20%0A%20%20%20%20%20%20%20%20var%20popup_d36b6ea677cd480d8ec8c69a7c5a81ca%20%3D%20L.popup%28%7B%22maxWidth%22%3A%20%22100%25%22%7D%29%3B%0A%0A%20%20%20%20%20%20%20%20%0A%20%20%20%20%20%20%20%20%20%20%20%20var%20html_cd597f28b9e54a8eba08d473296e9cab%20%3D%20%24%28%60%3Cdiv%20id%3D%22html_cd597f28b9e54a8eba08d473296e9cab%22%20style%3D%22width%3A%20100.0%25%3B%20height%3A%20100.0%25%3B%22%3E%20%20%20%20%20%20%20%20%20%3Cul%3E%20%20%20%20%20%20%20%20%20%20%20%20%20%3Cli%3E%3Cstrong%3EID%3A%20%3C/strong%3E5817%3C/li%3E%20%20%20%20%20%20%20%20%20%20%20%20%20%3Cli%3E%3Cstrong%3ESource%3A%20%3C/strong%3EHenderson%20P%26C%20%23138%3C/li%3E%20%20%20%20%20%20%20%20%20%20%20%20%20%3Cli%3E%3Cstrong%3EName%3A%20%3C/strong%3Enan%3C/li%3E%20%20%20%20%20%20%20%20%20%3Cul%3E%20%20%20%20%20%3C/div%3E%60%29%5B0%5D%3B%0A%20%20%20%20%20%20%20%20%20%20%20%20popup_d36b6ea677cd480d8ec8c69a7c5a81ca.setContent%28html_cd597f28b9e54a8eba08d473296e9cab%29%3B%0A%20%20%20%20%20%20%20%20%0A%0A%20%20%20%20%20%20%20%20marker_75684d3eb9e1454e8f73c44b66b3ff4c.bindPopup%28popup_d36b6ea677cd480d8ec8c69a7c5a81ca%29%0A%20%20%20%20%20%20%20%20%3B%0A%0A%20%20%20%20%20%20%20%20%0A%20%20%20%20%0A%20%20%20%20%0A%20%20%20%20%20%20%20%20%20%20%20%20var%20marker_b7f4d44677474211a1db8e3f56a470d7%20%3D%20L.marker%28%0A%20%20%20%20%20%20%20%20%20%20%20%20%20%20%20%20%5B43.77470667%2C%2011.25044667%5D%2C%0A%20%20%20%20%20%20%20%20%20%20%20%20%20%20%20%20%7B%7D%0A%20%20%20%20%20%20%20%20%20%20%20%20%29.addTo%28map_cb5ddea0a149466984ccacda88dfafab%29%3B%0A%20%20%20%20%20%20%20%20%0A%20%20%20%20%0A%20%20%20%20%20%20%20%20var%20popup_ed9d915213154c1aaf754750a382247d%20%3D%20L.popup%28%7B%22maxWidth%22%3A%20%22100%25%22%7D%29%3B%0A%0A%20%20%20%20%20%20%20%20%0A%20%20%20%20%20%20%20%20%20%20%20%20var%20html_8c5fb669fb3e49a7b99c255889a50502%20%3D%20%24%28%60%3Cdiv%20id%3D%22html_8c5fb669fb3e49a7b99c255889a50502%22%20style%3D%22width%3A%20100.0%25%3B%20height%3A%20100.0%25%3B%22%3E%20%20%20%20%20%20%20%20%20%3Cul%3E%20%20%20%20%20%20%20%20%20%20%20%20%20%3Cli%3E%3Cstrong%3EID%3A%20%3C/strong%3E5150%3C/li%3E%20%20%20%20%20%20%20%20%20%20%20%20%20%3Cli%3E%3Cstrong%3ESource%3A%20%3C/strong%3EHenderson%20P%26C%20%23138%3C/li%3E%20%20%20%20%20%20%20%20%20%20%20%20%20%3Cli%3E%3Cstrong%3EName%3A%20%3C/strong%3Enan%3C/li%3E%20%20%20%20%20%20%20%20%20%3Cul%3E%20%20%20%20%20%3C/div%3E%60%29%5B0%5D%3B%0A%20%20%20%20%20%20%20%20%20%20%20%20popup_ed9d915213154c1aaf754750a382247d.setContent%28html_8c5fb669fb3e49a7b99c255889a50502%29%3B%0A%20%20%20%20%20%20%20%20%0A%0A%20%20%20%20%20%20%20%20marker_b7f4d44677474211a1db8e3f56a470d7.bindPopup%28popup_ed9d915213154c1aaf754750a382247d%29%0A%20%20%20%20%20%20%20%20%3B%0A%0A%20%20%20%20%20%20%20%20%0A%20%20%20%20%0A%20%20%20%20%0A%20%20%20%20%20%20%20%20%20%20%20%20var%20marker_5a66f3a834104fcfb8095c949f2353d6%20%3D%20L.marker%28%0A%20%20%20%20%20%20%20%20%20%20%20%20%20%20%20%20%5B43.77730956%2C%2011.24912756%5D%2C%0A%20%20%20%20%20%20%20%20%20%20%20%20%20%20%20%20%7B%7D%0A%20%20%20%20%20%20%20%20%20%20%20%20%29.addTo%28map_cb5ddea0a149466984ccacda88dfafab%29%3B%0A%20%20%20%20%20%20%20%20%0A%20%20%20%20%0A%20%20%20%20%20%20%20%20var%20popup_7393d80fe09c462fbe8aedb7335b67a7%20%3D%20L.popup%28%7B%22maxWidth%22%3A%20%22100%25%22%7D%29%3B%0A%0A%20%20%20%20%20%20%20%20%0A%20%20%20%20%20%20%20%20%20%20%20%20var%20html_7ac01cdf97c844cca956e813f1d78d7e%20%3D%20%24%28%60%3Cdiv%20id%3D%22html_7ac01cdf97c844cca956e813f1d78d7e%22%20style%3D%22width%3A%20100.0%25%3B%20height%3A%20100.0%25%3B%22%3E%20%20%20%20%20%20%20%20%20%3Cul%3E%20%20%20%20%20%20%20%20%20%20%20%20%20%3Cli%3E%3Cstrong%3EID%3A%20%3C/strong%3E5287%3C/li%3E%20%20%20%20%20%20%20%20%20%20%20%20%20%3Cli%3E%3Cstrong%3ESource%3A%20%3C/strong%3EHenderson%20P%26C%20%23138%3C/li%3E%20%20%20%20%20%20%20%20%20%20%20%20%20%3Cli%3E%3Cstrong%3EName%3A%20%3C/strong%3Epinzocara%3C/li%3E%20%20%20%20%20%20%20%20%20%3Cul%3E%20%20%20%20%20%3C/div%3E%60%29%5B0%5D%3B%0A%20%20%20%20%20%20%20%20%20%20%20%20popup_7393d80fe09c462fbe8aedb7335b67a7.setContent%28html_7ac01cdf97c844cca956e813f1d78d7e%29%3B%0A%20%20%20%20%20%20%20%20%0A%0A%20%20%20%20%20%20%20%20marker_5a66f3a834104fcfb8095c949f2353d6.bindPopup%28popup_7393d80fe09c462fbe8aedb7335b67a7%29%0A%20%20%20%20%20%20%20%20%3B%0A%0A%20%20%20%20%20%20%20%20%0A%20%20%20%20%0A%20%20%20%20%0A%20%20%20%20%20%20%20%20%20%20%20%20var%20marker_6e29f05b6dda43499f1fd2b8a8e4d3fb%20%3D%20L.marker%28%0A%20%20%20%20%20%20%20%20%20%20%20%20%20%20%20%20%5B43.76874225%2C%2011.24285775%5D%2C%0A%20%20%20%20%20%20%20%20%20%20%20%20%20%20%20%20%7B%7D%0A%20%20%20%20%20%20%20%20%20%20%20%20%29.addTo%28map_cb5ddea0a149466984ccacda88dfafab%29%3B%0A%20%20%20%20%20%20%20%20%0A%20%20%20%20%0A%20%20%20%20%20%20%20%20var%20popup_8f84db29bc5c493689cfb64882a76d99%20%3D%20L.popup%28%7B%22maxWidth%22%3A%20%22100%25%22%7D%29%3B%0A%0A%20%20%20%20%20%20%20%20%0A%20%20%20%20%20%20%20%20%20%20%20%20var%20html_f5d7af0567ce4aab82ae54f57efb97ea%20%3D%20%24%28%60%3Cdiv%20id%3D%22html_f5d7af0567ce4aab82ae54f57efb97ea%22%20style%3D%22width%3A%20100.0%25%3B%20height%3A%20100.0%25%3B%22%3E%20%20%20%20%20%20%20%20%20%3Cul%3E%20%20%20%20%20%20%20%20%20%20%20%20%20%3Cli%3E%3Cstrong%3EID%3A%20%3C/strong%3E8290%3C/li%3E%20%20%20%20%20%20%20%20%20%20%20%20%20%3Cli%3E%3Cstrong%3ESource%3A%20%3C/strong%3Enan%3C/li%3E%20%20%20%20%20%20%20%20%20%20%20%20%20%3Cli%3E%3Cstrong%3EName%3A%20%3C/strong%3Etintore%3C/li%3E%20%20%20%20%20%20%20%20%20%3Cul%3E%20%20%20%20%20%3C/div%3E%60%29%5B0%5D%3B%0A%20%20%20%20%20%20%20%20%20%20%20%20popup_8f84db29bc5c493689cfb64882a76d99.setContent%28html_f5d7af0567ce4aab82ae54f57efb97ea%29%3B%0A%20%20%20%20%20%20%20%20%0A%0A%20%20%20%20%20%20%20%20marker_6e29f05b6dda43499f1fd2b8a8e4d3fb.bindPopup%28popup_8f84db29bc5c493689cfb64882a76d99%29%0A%20%20%20%20%20%20%20%20%3B%0A%0A%20%20%20%20%20%20%20%20%0A%20%20%20%20%0A%20%20%20%20%0A%20%20%20%20%20%20%20%20%20%20%20%20var%20marker_ff8428ad9f4e4778841a23a4ef5a31d0%20%3D%20L.marker%28%0A%20%20%20%20%20%20%20%20%20%20%20%20%20%20%20%20%5B43.7699925%2C%2011.26581375%5D%2C%0A%20%20%20%20%20%20%20%20%20%20%20%20%20%20%20%20%7B%7D%0A%20%20%20%20%20%20%20%20%20%20%20%20%29.addTo%28map_cb5ddea0a149466984ccacda88dfafab%29%3B%0A%20%20%20%20%20%20%20%20%0A%20%20%20%20%0A%20%20%20%20%20%20%20%20var%20popup_9b80d25d6ea44fe79ff7e7fd1349620b%20%3D%20L.popup%28%7B%22maxWidth%22%3A%20%22100%25%22%7D%29%3B%0A%0A%20%20%20%20%20%20%20%20%0A%20%20%20%20%20%20%20%20%20%20%20%20var%20html_37d78cf49a1f49759b293a1da8f2aeec%20%3D%20%24%28%60%3Cdiv%20id%3D%22html_37d78cf49a1f49759b293a1da8f2aeec%22%20style%3D%22width%3A%20100.0%25%3B%20height%3A%20100.0%25%3B%22%3E%20%20%20%20%20%20%20%20%20%3Cul%3E%20%20%20%20%20%20%20%20%20%20%20%20%20%3Cli%3E%3Cstrong%3EID%3A%20%3C/strong%3E3314%3C/li%3E%20%20%20%20%20%20%20%20%20%20%20%20%20%3Cli%3E%3Cstrong%3ESource%3A%20%3C/strong%3Enan%3C/li%3E%20%20%20%20%20%20%20%20%20%20%20%20%20%3Cli%3E%3Cstrong%3EName%3A%20%3C/strong%3Ebattilano%3C/li%3E%20%20%20%20%20%20%20%20%20%3Cul%3E%20%20%20%20%20%3C/div%3E%60%29%5B0%5D%3B%0A%20%20%20%20%20%20%20%20%20%20%20%20popup_9b80d25d6ea44fe79ff7e7fd1349620b.setContent%28html_37d78cf49a1f49759b293a1da8f2aeec%29%3B%0A%20%20%20%20%20%20%20%20%0A%0A%20%20%20%20%20%20%20%20marker_ff8428ad9f4e4778841a23a4ef5a31d0.bindPopup%28popup_9b80d25d6ea44fe79ff7e7fd1349620b%29%0A%20%20%20%20%20%20%20%20%3B%0A%0A%20%20%20%20%20%20%20%20%0A%20%20%20%20%0A%20%20%20%20%0A%20%20%20%20%20%20%20%20%20%20%20%20var%20marker_cd7e820c5b134089852fa0b3923bc320%20%3D%20L.marker%28%0A%20%20%20%20%20%20%20%20%20%20%20%20%20%20%20%20%5B43.77437253%2C%2011.25571973%5D%2C%0A%20%20%20%20%20%20%20%20%20%20%20%20%20%20%20%20%7B%7D%0A%20%20%20%20%20%20%20%20%20%20%20%20%29.addTo%28map_cb5ddea0a149466984ccacda88dfafab%29%3B%0A%20%20%20%20%20%20%20%20%0A%20%20%20%20%0A%20%20%20%20%20%20%20%20var%20popup_ed11fab502524d6f8f84c86ebab63d77%20%3D%20L.popup%28%7B%22maxWidth%22%3A%20%22100%25%22%7D%29%3B%0A%0A%20%20%20%20%20%20%20%20%0A%20%20%20%20%20%20%20%20%20%20%20%20var%20html_6492e97497f949ccaea81161efa97f84%20%3D%20%24%28%60%3Cdiv%20id%3D%22html_6492e97497f949ccaea81161efa97f84%22%20style%3D%22width%3A%20100.0%25%3B%20height%3A%20100.0%25%3B%22%3E%20%20%20%20%20%20%20%20%20%3Cul%3E%20%20%20%20%20%20%20%20%20%20%20%20%20%3Cli%3E%3Cstrong%3EID%3A%20%3C/strong%3E1379%3C/li%3E%20%20%20%20%20%20%20%20%20%20%20%20%20%3Cli%3E%3Cstrong%3ESource%3A%20%3C/strong%3EHenderson%20P%26C%20%23162%3C/li%3E%20%20%20%20%20%20%20%20%20%20%20%20%20%3Cli%3E%3Cstrong%3EName%3A%20%3C/strong%3Enan%3C/li%3E%20%20%20%20%20%20%20%20%20%3Cul%3E%20%20%20%20%20%3C/div%3E%60%29%5B0%5D%3B%0A%20%20%20%20%20%20%20%20%20%20%20%20popup_ed11fab502524d6f8f84c86ebab63d77.setContent%28html_6492e97497f949ccaea81161efa97f84%29%3B%0A%20%20%20%20%20%20%20%20%0A%0A%20%20%20%20%20%20%20%20marker_cd7e820c5b134089852fa0b3923bc320.bindPopup%28popup_ed11fab502524d6f8f84c86ebab63d77%29%0A%20%20%20%20%20%20%20%20%3B%0A%0A%20%20%20%20%20%20%20%20%0A%20%20%20%20%0A%20%20%20%20%0A%20%20%20%20%20%20%20%20%20%20%20%20var%20marker_77a8fd1af536419d88ef310a2c02ad9a%20%3D%20L.marker%28%0A%20%20%20%20%20%20%20%20%20%20%20%20%20%20%20%20%5B43.772334%2C%2011.254363%5D%2C%0A%20%20%20%20%20%20%20%20%20%20%20%20%20%20%20%20%7B%7D%0A%20%20%20%20%20%20%20%20%20%20%20%20%29.addTo%28map_cb5ddea0a149466984ccacda88dfafab%29%3B%0A%20%20%20%20%20%20%20%20%0A%20%20%20%20%0A%20%20%20%20%20%20%20%20var%20popup_36a7be04a1be401789bf2e92595cb501%20%3D%20L.popup%28%7B%22maxWidth%22%3A%20%22100%25%22%7D%29%3B%0A%0A%20%20%20%20%20%20%20%20%0A%20%20%20%20%20%20%20%20%20%20%20%20var%20html_92e4eb2f11a841109091c2a1adbfefab%20%3D%20%24%28%60%3Cdiv%20id%3D%22html_92e4eb2f11a841109091c2a1adbfefab%22%20style%3D%22width%3A%20100.0%25%3B%20height%3A%20100.0%25%3B%22%3E%20%20%20%20%20%20%20%20%20%3Cul%3E%20%20%20%20%20%20%20%20%20%20%20%20%20%3Cli%3E%3Cstrong%3EID%3A%20%3C/strong%3E1123%3C/li%3E%20%20%20%20%20%20%20%20%20%20%20%20%20%3Cli%3E%3Cstrong%3ESource%3A%20%3C/strong%3Enan%3C/li%3E%20%20%20%20%20%20%20%20%20%20%20%20%20%3Cli%3E%3Cstrong%3EName%3A%20%3C/strong%3Erigattiere%3C/li%3E%20%20%20%20%20%20%20%20%20%3Cul%3E%20%20%20%20%20%3C/div%3E%60%29%5B0%5D%3B%0A%20%20%20%20%20%20%20%20%20%20%20%20popup_36a7be04a1be401789bf2e92595cb501.setContent%28html_92e4eb2f11a841109091c2a1adbfefab%29%3B%0A%20%20%20%20%20%20%20%20%0A%0A%20%20%20%20%20%20%20%20marker_77a8fd1af536419d88ef310a2c02ad9a.bindPopup%28popup_36a7be04a1be401789bf2e92595cb501%29%0A%20%20%20%20%20%20%20%20%3B%0A%0A%20%20%20%20%20%20%20%20%0A%20%20%20%20%0A%20%20%20%20%0A%20%20%20%20%20%20%20%20%20%20%20%20var%20marker_09f0c3fbdcc34833848f379df589365b%20%3D%20L.marker%28%0A%20%20%20%20%20%20%20%20%20%20%20%20%20%20%20%20%5B43.76938971%2C%2011.24530752%5D%2C%0A%20%20%20%20%20%20%20%20%20%20%20%20%20%20%20%20%7B%7D%0A%20%20%20%20%20%20%20%20%20%20%20%20%29.addTo%28map_cb5ddea0a149466984ccacda88dfafab%29%3B%0A%20%20%20%20%20%20%20%20%0A%20%20%20%20%0A%20%20%20%20%20%20%20%20var%20popup_3ed52a0577cf4f8cae5ae0f11b1bbec7%20%3D%20L.popup%28%7B%22maxWidth%22%3A%20%22100%25%22%7D%29%3B%0A%0A%20%20%20%20%20%20%20%20%0A%20%20%20%20%20%20%20%20%20%20%20%20var%20html_c421060f3f814f7fbdd01938574708be%20%3D%20%24%28%60%3Cdiv%20id%3D%22html_c421060f3f814f7fbdd01938574708be%22%20style%3D%22width%3A%20100.0%25%3B%20height%3A%20100.0%25%3B%22%3E%20%20%20%20%20%20%20%20%20%3Cul%3E%20%20%20%20%20%20%20%20%20%20%20%20%20%3Cli%3E%3Cstrong%3EID%3A%20%3C/strong%3E8155%3C/li%3E%20%20%20%20%20%20%20%20%20%20%20%20%20%3Cli%3E%3Cstrong%3ESource%3A%20%3C/strong%3EHenderson%20P%26C%20%232%3C/li%3E%20%20%20%20%20%20%20%20%20%20%20%20%20%3Cli%3E%3Cstrong%3EName%3A%20%3C/strong%3Emuratore%3C/li%3E%20%20%20%20%20%20%20%20%20%3Cul%3E%20%20%20%20%20%3C/div%3E%60%29%5B0%5D%3B%0A%20%20%20%20%20%20%20%20%20%20%20%20popup_3ed52a0577cf4f8cae5ae0f11b1bbec7.setContent%28html_c421060f3f814f7fbdd01938574708be%29%3B%0A%20%20%20%20%20%20%20%20%0A%0A%20%20%20%20%20%20%20%20marker_09f0c3fbdcc34833848f379df589365b.bindPopup%28popup_3ed52a0577cf4f8cae5ae0f11b1bbec7%29%0A%20%20%20%20%20%20%20%20%3B%0A%0A%20%20%20%20%20%20%20%20%0A%20%20%20%20%0A%20%20%20%20%0A%20%20%20%20%20%20%20%20%20%20%20%20var%20marker_2c30ce2d4e874e3e8a21900b30095a3e%20%3D%20L.marker%28%0A%20%20%20%20%20%20%20%20%20%20%20%20%20%20%20%20%5B43.7712402%2C%2011.26521564%5D%2C%0A%20%20%20%20%20%20%20%20%20%20%20%20%20%20%20%20%7B%7D%0A%20%20%20%20%20%20%20%20%20%20%20%20%29.addTo%28map_cb5ddea0a149466984ccacda88dfafab%29%3B%0A%20%20%20%20%20%20%20%20%0A%20%20%20%20%0A%20%20%20%20%20%20%20%20var%20popup_40509d0e2fbb4907b99b19ea1891f71c%20%3D%20L.popup%28%7B%22maxWidth%22%3A%20%22100%25%22%7D%29%3B%0A%0A%20%20%20%20%20%20%20%20%0A%20%20%20%20%20%20%20%20%20%20%20%20var%20html_8de17c5e636c4236a1b2afb216283ce7%20%3D%20%24%28%60%3Cdiv%20id%3D%22html_8de17c5e636c4236a1b2afb216283ce7%22%20style%3D%22width%3A%20100.0%25%3B%20height%3A%20100.0%25%3B%22%3E%20%20%20%20%20%20%20%20%20%3Cul%3E%20%20%20%20%20%20%20%20%20%20%20%20%20%3Cli%3E%3Cstrong%3EID%3A%20%3C/strong%3E2085%3C/li%3E%20%20%20%20%20%20%20%20%20%20%20%20%20%3Cli%3E%3Cstrong%3ESource%3A%20%3C/strong%3EHenderson%20P%26C%20%23124%3C/li%3E%20%20%20%20%20%20%20%20%20%20%20%20%20%3Cli%3E%3Cstrong%3EName%3A%20%3C/strong%3Elegnaiuolo%3C/li%3E%20%20%20%20%20%20%20%20%20%3Cul%3E%20%20%20%20%20%3C/div%3E%60%29%5B0%5D%3B%0A%20%20%20%20%20%20%20%20%20%20%20%20popup_40509d0e2fbb4907b99b19ea1891f71c.setContent%28html_8de17c5e636c4236a1b2afb216283ce7%29%3B%0A%20%20%20%20%20%20%20%20%0A%0A%20%20%20%20%20%20%20%20marker_2c30ce2d4e874e3e8a21900b30095a3e.bindPopup%28popup_40509d0e2fbb4907b99b19ea1891f71c%29%0A%20%20%20%20%20%20%20%20%3B%0A%0A%20%20%20%20%20%20%20%20%0A%20%20%20%20%0A%20%20%20%20%0A%20%20%20%20%20%20%20%20%20%20%20%20var%20marker_36eeddea8afe46c2b9210254225d12d2%20%3D%20L.marker%28%0A%20%20%20%20%20%20%20%20%20%20%20%20%20%20%20%20%5B43.776473%2C%2011.25275408%5D%2C%0A%20%20%20%20%20%20%20%20%20%20%20%20%20%20%20%20%7B%7D%0A%20%20%20%20%20%20%20%20%20%20%20%20%29.addTo%28map_cb5ddea0a149466984ccacda88dfafab%29%3B%0A%20%20%20%20%20%20%20%20%0A%20%20%20%20%0A%20%20%20%20%20%20%20%20var%20popup_e8fa760069074c868bb49de351ae2815%20%3D%20L.popup%28%7B%22maxWidth%22%3A%20%22100%25%22%7D%29%3B%0A%0A%20%20%20%20%20%20%20%20%0A%20%20%20%20%20%20%20%20%20%20%20%20var%20html_2f4baf565d874947bc556d4cd84b1ff4%20%3D%20%24%28%60%3Cdiv%20id%3D%22html_2f4baf565d874947bc556d4cd84b1ff4%22%20style%3D%22width%3A%20100.0%25%3B%20height%3A%20100.0%25%3B%22%3E%20%20%20%20%20%20%20%20%20%3Cul%3E%20%20%20%20%20%20%20%20%20%20%20%20%20%3Cli%3E%3Cstrong%3EID%3A%20%3C/strong%3E493%3C/li%3E%20%20%20%20%20%20%20%20%20%20%20%20%20%3Cli%3E%3Cstrong%3ESource%3A%20%3C/strong%3EHenderson%20P%26C%20%23124%3C/li%3E%20%20%20%20%20%20%20%20%20%20%20%20%20%3Cli%3E%3Cstrong%3EName%3A%20%3C/strong%3Etessitore%3C/li%3E%20%20%20%20%20%20%20%20%20%3Cul%3E%20%20%20%20%20%3C/div%3E%60%29%5B0%5D%3B%0A%20%20%20%20%20%20%20%20%20%20%20%20popup_e8fa760069074c868bb49de351ae2815.setContent%28html_2f4baf565d874947bc556d4cd84b1ff4%29%3B%0A%20%20%20%20%20%20%20%20%0A%0A%20%20%20%20%20%20%20%20marker_36eeddea8afe46c2b9210254225d12d2.bindPopup%28popup_e8fa760069074c868bb49de351ae2815%29%0A%20%20%20%20%20%20%20%20%3B%0A%0A%20%20%20%20%20%20%20%20%0A%20%20%20%20%0A%20%20%20%20%0A%20%20%20%20%20%20%20%20%20%20%20%20var%20marker_adc21be9cdee465da8b3043fd72c4f3a%20%3D%20L.marker%28%0A%20%20%20%20%20%20%20%20%20%20%20%20%20%20%20%20%5B43.76977667%2C%2011.26017667%5D%2C%0A%20%20%20%20%20%20%20%20%20%20%20%20%20%20%20%20%7B%7D%0A%20%20%20%20%20%20%20%20%20%20%20%20%29.addTo%28map_cb5ddea0a149466984ccacda88dfafab%29%3B%0A%20%20%20%20%20%20%20%20%0A%20%20%20%20%0A%20%20%20%20%20%20%20%20var%20popup_5f29feb29c4e44e2af7d1bbfcbda7301%20%3D%20L.popup%28%7B%22maxWidth%22%3A%20%22100%25%22%7D%29%3B%0A%0A%20%20%20%20%20%20%20%20%0A%20%20%20%20%20%20%20%20%20%20%20%20var%20html_c14fb6e493114f04b6c6041545de3852%20%3D%20%24%28%60%3Cdiv%20id%3D%22html_c14fb6e493114f04b6c6041545de3852%22%20style%3D%22width%3A%20100.0%25%3B%20height%3A%20100.0%25%3B%22%3E%20%20%20%20%20%20%20%20%20%3Cul%3E%20%20%20%20%20%20%20%20%20%20%20%20%20%3Cli%3E%3Cstrong%3EID%3A%20%3C/strong%3E4186%3C/li%3E%20%20%20%20%20%20%20%20%20%20%20%20%20%3Cli%3E%3Cstrong%3ESource%3A%20%3C/strong%3EHenderson%20P%26C%20%23124%3C/li%3E%20%20%20%20%20%20%20%20%20%20%20%20%20%3Cli%3E%3Cstrong%3EName%3A%20%3C/strong%3Enan%3C/li%3E%20%20%20%20%20%20%20%20%20%3Cul%3E%20%20%20%20%20%3C/div%3E%60%29%5B0%5D%3B%0A%20%20%20%20%20%20%20%20%20%20%20%20popup_5f29feb29c4e44e2af7d1bbfcbda7301.setContent%28html_c14fb6e493114f04b6c6041545de3852%29%3B%0A%20%20%20%20%20%20%20%20%0A%0A%20%20%20%20%20%20%20%20marker_adc21be9cdee465da8b3043fd72c4f3a.bindPopup%28popup_5f29feb29c4e44e2af7d1bbfcbda7301%29%0A%20%20%20%20%20%20%20%20%3B%0A%0A%20%20%20%20%20%20%20%20%0A%20%20%20%20%0A%20%20%20%20%0A%20%20%20%20%20%20%20%20%20%20%20%20var%20marker_bec8a5c3616d499f9f03ddb4d65dd3e3%20%3D%20L.marker%28%0A%20%20%20%20%20%20%20%20%20%20%20%20%20%20%20%20%5B43.7701726%2C%2011.24204413%5D%2C%0A%20%20%20%20%20%20%20%20%20%20%20%20%20%20%20%20%7B%7D%0A%20%20%20%20%20%20%20%20%20%20%20%20%29.addTo%28map_cb5ddea0a149466984ccacda88dfafab%29%3B%0A%20%20%20%20%20%20%20%20%0A%20%20%20%20%0A%20%20%20%20%20%20%20%20var%20popup_04b2621d085b49168577c6bd8eef75c4%20%3D%20L.popup%28%7B%22maxWidth%22%3A%20%22100%25%22%7D%29%3B%0A%0A%20%20%20%20%20%20%20%20%0A%20%20%20%20%20%20%20%20%20%20%20%20var%20html_eda0b665f68348e1a7037d05556c762b%20%3D%20%24%28%60%3Cdiv%20id%3D%22html_eda0b665f68348e1a7037d05556c762b%22%20style%3D%22width%3A%20100.0%25%3B%20height%3A%20100.0%25%3B%22%3E%20%20%20%20%20%20%20%20%20%3Cul%3E%20%20%20%20%20%20%20%20%20%20%20%20%20%3Cli%3E%3Cstrong%3EID%3A%20%3C/strong%3E8122%3C/li%3E%20%20%20%20%20%20%20%20%20%20%20%20%20%3Cli%3E%3Cstrong%3ESource%3A%20%3C/strong%3Enan%3C/li%3E%20%20%20%20%20%20%20%20%20%20%20%20%20%3Cli%3E%3Cstrong%3EName%3A%20%3C/strong%3Enan%3C/li%3E%20%20%20%20%20%20%20%20%20%3Cul%3E%20%20%20%20%20%3C/div%3E%60%29%5B0%5D%3B%0A%20%20%20%20%20%20%20%20%20%20%20%20popup_04b2621d085b49168577c6bd8eef75c4.setContent%28html_eda0b665f68348e1a7037d05556c762b%29%3B%0A%20%20%20%20%20%20%20%20%0A%0A%20%20%20%20%20%20%20%20marker_bec8a5c3616d499f9f03ddb4d65dd3e3.bindPopup%28popup_04b2621d085b49168577c6bd8eef75c4%29%0A%20%20%20%20%20%20%20%20%3B%0A%0A%20%20%20%20%20%20%20%20%0A%20%20%20%20%0A%20%20%20%20%0A%20%20%20%20%20%20%20%20%20%20%20%20var%20marker_d04c564b479c473fa7fe82b87995240d%20%3D%20L.marker%28%0A%20%20%20%20%20%20%20%20%20%20%20%20%20%20%20%20%5B43.77084%2C%2011.254306%5D%2C%0A%20%20%20%20%20%20%20%20%20%20%20%20%20%20%20%20%7B%7D%0A%20%20%20%20%20%20%20%20%20%20%20%20%29.addTo%28map_cb5ddea0a149466984ccacda88dfafab%29%3B%0A%20%20%20%20%20%20%20%20%0A%20%20%20%20%0A%20%20%20%20%20%20%20%20var%20popup_5cfa25ed1249498f872f6bdc75403023%20%3D%20L.popup%28%7B%22maxWidth%22%3A%20%22100%25%22%7D%29%3B%0A%0A%20%20%20%20%20%20%20%20%0A%20%20%20%20%20%20%20%20%20%20%20%20var%20html_f0462f26c1c641bb994f7ce34cfb9939%20%3D%20%24%28%60%3Cdiv%20id%3D%22html_f0462f26c1c641bb994f7ce34cfb9939%22%20style%3D%22width%3A%20100.0%25%3B%20height%3A%20100.0%25%3B%22%3E%20%20%20%20%20%20%20%20%20%3Cul%3E%20%20%20%20%20%20%20%20%20%20%20%20%20%3Cli%3E%3Cstrong%3EID%3A%20%3C/strong%3E6721%3C/li%3E%20%20%20%20%20%20%20%20%20%20%20%20%20%3Cli%3E%3Cstrong%3ESource%3A%20%3C/strong%3EHenderson%20P%26C%20%2392%3C/li%3E%20%20%20%20%20%20%20%20%20%20%20%20%20%3Cli%3E%3Cstrong%3EName%3A%20%3C/strong%3Enan%3C/li%3E%20%20%20%20%20%20%20%20%20%3Cul%3E%20%20%20%20%20%3C/div%3E%60%29%5B0%5D%3B%0A%20%20%20%20%20%20%20%20%20%20%20%20popup_5cfa25ed1249498f872f6bdc75403023.setContent%28html_f0462f26c1c641bb994f7ce34cfb9939%29%3B%0A%20%20%20%20%20%20%20%20%0A%0A%20%20%20%20%20%20%20%20marker_d04c564b479c473fa7fe82b87995240d.bindPopup%28popup_5cfa25ed1249498f872f6bdc75403023%29%0A%20%20%20%20%20%20%20%20%3B%0A%0A%20%20%20%20%20%20%20%20%0A%20%20%20%20%0A%20%20%20%20%0A%20%20%20%20%20%20%20%20%20%20%20%20var%20marker_fff64163a11b43e0aeb374b7d2eb753c%20%3D%20L.marker%28%0A%20%20%20%20%20%20%20%20%20%20%20%20%20%20%20%20%5B43.7757045%2C%2011.25230736%5D%2C%0A%20%20%20%20%20%20%20%20%20%20%20%20%20%20%20%20%7B%7D%0A%20%20%20%20%20%20%20%20%20%20%20%20%29.addTo%28map_cb5ddea0a149466984ccacda88dfafab%29%3B%0A%20%20%20%20%20%20%20%20%0A%20%20%20%20%0A%20%20%20%20%20%20%20%20var%20popup_beb5e804bb17467d9583e14a0436ed24%20%3D%20L.popup%28%7B%22maxWidth%22%3A%20%22100%25%22%7D%29%3B%0A%0A%20%20%20%20%20%20%20%20%0A%20%20%20%20%20%20%20%20%20%20%20%20var%20html_c072d45b196e4b23880cce8912aa39b8%20%3D%20%24%28%60%3Cdiv%20id%3D%22html_c072d45b196e4b23880cce8912aa39b8%22%20style%3D%22width%3A%20100.0%25%3B%20height%3A%20100.0%25%3B%22%3E%20%20%20%20%20%20%20%20%20%3Cul%3E%20%20%20%20%20%20%20%20%20%20%20%20%20%3Cli%3E%3Cstrong%3EID%3A%20%3C/strong%3E452%3C/li%3E%20%20%20%20%20%20%20%20%20%20%20%20%20%3Cli%3E%3Cstrong%3ESource%3A%20%3C/strong%3EHenderson%20P%26C%20%2392%3C/li%3E%20%20%20%20%20%20%20%20%20%20%20%20%20%3Cli%3E%3Cstrong%3EName%3A%20%3C/strong%3Epizzicagnolo%3C/li%3E%20%20%20%20%20%20%20%20%20%3Cul%3E%20%20%20%20%20%3C/div%3E%60%29%5B0%5D%3B%0A%20%20%20%20%20%20%20%20%20%20%20%20popup_beb5e804bb17467d9583e14a0436ed24.setContent%28html_c072d45b196e4b23880cce8912aa39b8%29%3B%0A%20%20%20%20%20%20%20%20%0A%0A%20%20%20%20%20%20%20%20marker_fff64163a11b43e0aeb374b7d2eb753c.bindPopup%28popup_beb5e804bb17467d9583e14a0436ed24%29%0A%20%20%20%20%20%20%20%20%3B%0A%0A%20%20%20%20%20%20%20%20%0A%20%20%20%20%0A%20%20%20%20%0A%20%20%20%20%20%20%20%20%20%20%20%20var%20marker_0e0464af5270415ca2e80add9db0be9c%20%3D%20L.marker%28%0A%20%20%20%20%20%20%20%20%20%20%20%20%20%20%20%20%5B43.78056204%2C%2011.2577987%5D%2C%0A%20%20%20%20%20%20%20%20%20%20%20%20%20%20%20%20%7B%7D%0A%20%20%20%20%20%20%20%20%20%20%20%20%29.addTo%28map_cb5ddea0a149466984ccacda88dfafab%29%3B%0A%20%20%20%20%20%20%20%20%0A%20%20%20%20%0A%20%20%20%20%20%20%20%20var%20popup_65e2e659c0a9499dbb56a4c946a06dc5%20%3D%20L.popup%28%7B%22maxWidth%22%3A%20%22100%25%22%7D%29%3B%0A%0A%20%20%20%20%20%20%20%20%0A%20%20%20%20%20%20%20%20%20%20%20%20var%20html_ca7807fc333440e983d22cb04b045e5c%20%3D%20%24%28%60%3Cdiv%20id%3D%22html_ca7807fc333440e983d22cb04b045e5c%22%20style%3D%22width%3A%20100.0%25%3B%20height%3A%20100.0%25%3B%22%3E%20%20%20%20%20%20%20%20%20%3Cul%3E%20%20%20%20%20%20%20%20%20%20%20%20%20%3Cli%3E%3Cstrong%3EID%3A%20%3C/strong%3E623%3C/li%3E%20%20%20%20%20%20%20%20%20%20%20%20%20%3Cli%3E%3Cstrong%3ESource%3A%20%3C/strong%3EHenderson%20P%26C%20%2392%3C/li%3E%20%20%20%20%20%20%20%20%20%20%20%20%20%3Cli%3E%3Cstrong%3EName%3A%20%3C/strong%3Enan%3C/li%3E%20%20%20%20%20%20%20%20%20%3Cul%3E%20%20%20%20%20%3C/div%3E%60%29%5B0%5D%3B%0A%20%20%20%20%20%20%20%20%20%20%20%20popup_65e2e659c0a9499dbb56a4c946a06dc5.setContent%28html_ca7807fc333440e983d22cb04b045e5c%29%3B%0A%20%20%20%20%20%20%20%20%0A%0A%20%20%20%20%20%20%20%20marker_0e0464af5270415ca2e80add9db0be9c.bindPopup%28popup_65e2e659c0a9499dbb56a4c946a06dc5%29%0A%20%20%20%20%20%20%20%20%3B%0A%0A%20%20%20%20%20%20%20%20%0A%20%20%20%20%0A%20%20%20%20%0A%20%20%20%20%20%20%20%20%20%20%20%20var%20marker_52fe7b52cc894ebea19f28fab87a8c52%20%3D%20L.marker%28%0A%20%20%20%20%20%20%20%20%20%20%20%20%20%20%20%20%5B43.78061222%2C%2011.25774922%5D%2C%0A%20%20%20%20%20%20%20%20%20%20%20%20%20%20%20%20%7B%7D%0A%20%20%20%20%20%20%20%20%20%20%20%20%29.addTo%28map_cb5ddea0a149466984ccacda88dfafab%29%3B%0A%20%20%20%20%20%20%20%20%0A%20%20%20%20%0A%20%20%20%20%20%20%20%20var%20popup_c86de844dde84c7cb0f0c75dce581f26%20%3D%20L.popup%28%7B%22maxWidth%22%3A%20%22100%25%22%7D%29%3B%0A%0A%20%20%20%20%20%20%20%20%0A%20%20%20%20%20%20%20%20%20%20%20%20var%20html_4bf9622c785845b0b5c3c64193a0e8a2%20%3D%20%24%28%60%3Cdiv%20id%3D%22html_4bf9622c785845b0b5c3c64193a0e8a2%22%20style%3D%22width%3A%20100.0%25%3B%20height%3A%20100.0%25%3B%22%3E%20%20%20%20%20%20%20%20%20%3Cul%3E%20%20%20%20%20%20%20%20%20%20%20%20%20%3Cli%3E%3Cstrong%3EID%3A%20%3C/strong%3E624%3C/li%3E%20%20%20%20%20%20%20%20%20%20%20%20%20%3Cli%3E%3Cstrong%3ESource%3A%20%3C/strong%3EHenderson%20P%26C%20%2392%3C/li%3E%20%20%20%20%20%20%20%20%20%20%20%20%20%3Cli%3E%3Cstrong%3EName%3A%20%3C/strong%3Enan%3C/li%3E%20%20%20%20%20%20%20%20%20%3Cul%3E%20%20%20%20%20%3C/div%3E%60%29%5B0%5D%3B%0A%20%20%20%20%20%20%20%20%20%20%20%20popup_c86de844dde84c7cb0f0c75dce581f26.setContent%28html_4bf9622c785845b0b5c3c64193a0e8a2%29%3B%0A%20%20%20%20%20%20%20%20%0A%0A%20%20%20%20%20%20%20%20marker_52fe7b52cc894ebea19f28fab87a8c52.bindPopup%28popup_c86de844dde84c7cb0f0c75dce581f26%29%0A%20%20%20%20%20%20%20%20%3B%0A%0A%20%20%20%20%20%20%20%20%0A%20%20%20%20%0A%20%20%20%20%0A%20%20%20%20%20%20%20%20%20%20%20%20var%20marker_2147cf4b2c504c9289cde9de7c651907%20%3D%20L.marker%28%0A%20%20%20%20%20%20%20%20%20%20%20%20%20%20%20%20%5B43.78066241%2C%2011.25769974%5D%2C%0A%20%20%20%20%20%20%20%20%20%20%20%20%20%20%20%20%7B%7D%0A%20%20%20%20%20%20%20%20%20%20%20%20%29.addTo%28map_cb5ddea0a149466984ccacda88dfafab%29%3B%0A%20%20%20%20%20%20%20%20%0A%20%20%20%20%0A%20%20%20%20%20%20%20%20var%20popup_28ae1076878e4a2f86abe3e4f53914d7%20%3D%20L.popup%28%7B%22maxWidth%22%3A%20%22100%25%22%7D%29%3B%0A%0A%20%20%20%20%20%20%20%20%0A%20%20%20%20%20%20%20%20%20%20%20%20var%20html_685107701e5c4030984c3af16d554968%20%3D%20%24%28%60%3Cdiv%20id%3D%22html_685107701e5c4030984c3af16d554968%22%20style%3D%22width%3A%20100.0%25%3B%20height%3A%20100.0%25%3B%22%3E%20%20%20%20%20%20%20%20%20%3Cul%3E%20%20%20%20%20%20%20%20%20%20%20%20%20%3Cli%3E%3Cstrong%3EID%3A%20%3C/strong%3E625%3C/li%3E%20%20%20%20%20%20%20%20%20%20%20%20%20%3Cli%3E%3Cstrong%3ESource%3A%20%3C/strong%3EHenderson%20P%26C%20%2392%3C/li%3E%20%20%20%20%20%20%20%20%20%20%20%20%20%3Cli%3E%3Cstrong%3EName%3A%20%3C/strong%3Enan%3C/li%3E%20%20%20%20%20%20%20%20%20%3Cul%3E%20%20%20%20%20%3C/div%3E%60%29%5B0%5D%3B%0A%20%20%20%20%20%20%20%20%20%20%20%20popup_28ae1076878e4a2f86abe3e4f53914d7.setContent%28html_685107701e5c4030984c3af16d554968%29%3B%0A%20%20%20%20%20%20%20%20%0A%0A%20%20%20%20%20%20%20%20marker_2147cf4b2c504c9289cde9de7c651907.bindPopup%28popup_28ae1076878e4a2f86abe3e4f53914d7%29%0A%20%20%20%20%20%20%20%20%3B%0A%0A%20%20%20%20%20%20%20%20%0A%20%20%20%20%0A%20%20%20%20%0A%20%20%20%20%20%20%20%20%20%20%20%20var%20marker_256f21ca8f0a4ed0bbaed7ce501fc2a2%20%3D%20L.marker%28%0A%20%20%20%20%20%20%20%20%20%20%20%20%20%20%20%20%5B43.78051185%2C%2011.25784819%5D%2C%0A%20%20%20%20%20%20%20%20%20%20%20%20%20%20%20%20%7B%7D%0A%20%20%20%20%20%20%20%20%20%20%20%20%29.addTo%28map_cb5ddea0a149466984ccacda88dfafab%29%3B%0A%20%20%20%20%20%20%20%20%0A%20%20%20%20%0A%20%20%20%20%20%20%20%20var%20popup_c5214f1d19a848bbbdbce050a3d2a673%20%3D%20L.popup%28%7B%22maxWidth%22%3A%20%22100%25%22%7D%29%3B%0A%0A%20%20%20%20%20%20%20%20%0A%20%20%20%20%20%20%20%20%20%20%20%20var%20html_9ddb4f6506ab4190ac9216f22ec56c6c%20%3D%20%24%28%60%3Cdiv%20id%3D%22html_9ddb4f6506ab4190ac9216f22ec56c6c%22%20style%3D%22width%3A%20100.0%25%3B%20height%3A%20100.0%25%3B%22%3E%20%20%20%20%20%20%20%20%20%3Cul%3E%20%20%20%20%20%20%20%20%20%20%20%20%20%3Cli%3E%3Cstrong%3EID%3A%20%3C/strong%3E767%3C/li%3E%20%20%20%20%20%20%20%20%20%20%20%20%20%3Cli%3E%3Cstrong%3ESource%3A%20%3C/strong%3EHenderson%20P%26C%20%2392%3C/li%3E%20%20%20%20%20%20%20%20%20%20%20%20%20%3Cli%3E%3Cstrong%3EName%3A%20%3C/strong%3Enan%3C/li%3E%20%20%20%20%20%20%20%20%20%3Cul%3E%20%20%20%20%20%3C/div%3E%60%29%5B0%5D%3B%0A%20%20%20%20%20%20%20%20%20%20%20%20popup_c5214f1d19a848bbbdbce050a3d2a673.setContent%28html_9ddb4f6506ab4190ac9216f22ec56c6c%29%3B%0A%20%20%20%20%20%20%20%20%0A%0A%20%20%20%20%20%20%20%20marker_256f21ca8f0a4ed0bbaed7ce501fc2a2.bindPopup%28popup_c5214f1d19a848bbbdbce050a3d2a673%29%0A%20%20%20%20%20%20%20%20%3B%0A%0A%20%20%20%20%20%20%20%20%0A%20%20%20%20%0A%20%20%20%20%0A%20%20%20%20%20%20%20%20%20%20%20%20var%20marker_ffe0aabf75e8484a9f5fde026676110c%20%3D%20L.marker%28%0A%20%20%20%20%20%20%20%20%20%20%20%20%20%20%20%20%5B43.775751%2C%2011.252284%5D%2C%0A%20%20%20%20%20%20%20%20%20%20%20%20%20%20%20%20%7B%7D%0A%20%20%20%20%20%20%20%20%20%20%20%20%29.addTo%28map_cb5ddea0a149466984ccacda88dfafab%29%3B%0A%20%20%20%20%20%20%20%20%0A%20%20%20%20%0A%20%20%20%20%20%20%20%20var%20popup_9717887a2dbc44bb87a8bb97e046696c%20%3D%20L.popup%28%7B%22maxWidth%22%3A%20%22100%25%22%7D%29%3B%0A%0A%20%20%20%20%20%20%20%20%0A%20%20%20%20%20%20%20%20%20%20%20%20var%20html_456f7feef26040cd91088c08fd65c176%20%3D%20%24%28%60%3Cdiv%20id%3D%22html_456f7feef26040cd91088c08fd65c176%22%20style%3D%22width%3A%20100.0%25%3B%20height%3A%20100.0%25%3B%22%3E%20%20%20%20%20%20%20%20%20%3Cul%3E%20%20%20%20%20%20%20%20%20%20%20%20%20%3Cli%3E%3Cstrong%3EID%3A%20%3C/strong%3E834%3C/li%3E%20%20%20%20%20%20%20%20%20%20%20%20%20%3Cli%3E%3Cstrong%3ESource%3A%20%3C/strong%3EHenderson%20P%26C%20%2392%3C/li%3E%20%20%20%20%20%20%20%20%20%20%20%20%20%3Cli%3E%3Cstrong%3EName%3A%20%3C/strong%3Enan%3C/li%3E%20%20%20%20%20%20%20%20%20%3Cul%3E%20%20%20%20%20%3C/div%3E%60%29%5B0%5D%3B%0A%20%20%20%20%20%20%20%20%20%20%20%20popup_9717887a2dbc44bb87a8bb97e046696c.setContent%28html_456f7feef26040cd91088c08fd65c176%29%3B%0A%20%20%20%20%20%20%20%20%0A%0A%20%20%20%20%20%20%20%20marker_ffe0aabf75e8484a9f5fde026676110c.bindPopup%28popup_9717887a2dbc44bb87a8bb97e046696c%29%0A%20%20%20%20%20%20%20%20%3B%0A%0A%20%20%20%20%20%20%20%20%0A%20%20%20%20%0A%20%20%20%20%0A%20%20%20%20%20%20%20%20%20%20%20%20var%20marker_7040b4140ca442e1b96b74f3bf416365%20%3D%20L.marker%28%0A%20%20%20%20%20%20%20%20%20%20%20%20%20%20%20%20%5B43.775553%2C%2011.251728%5D%2C%0A%20%20%20%20%20%20%20%20%20%20%20%20%20%20%20%20%7B%7D%0A%20%20%20%20%20%20%20%20%20%20%20%20%29.addTo%28map_cb5ddea0a149466984ccacda88dfafab%29%3B%0A%20%20%20%20%20%20%20%20%0A%20%20%20%20%0A%20%20%20%20%20%20%20%20var%20popup_0d89d5f8fafd4a6887fab91be140293c%20%3D%20L.popup%28%7B%22maxWidth%22%3A%20%22100%25%22%7D%29%3B%0A%0A%20%20%20%20%20%20%20%20%0A%20%20%20%20%20%20%20%20%20%20%20%20var%20html_a173fd7a9ce94d8183af8c7fb4445a87%20%3D%20%24%28%60%3Cdiv%20id%3D%22html_a173fd7a9ce94d8183af8c7fb4445a87%22%20style%3D%22width%3A%20100.0%25%3B%20height%3A%20100.0%25%3B%22%3E%20%20%20%20%20%20%20%20%20%3Cul%3E%20%20%20%20%20%20%20%20%20%20%20%20%20%3Cli%3E%3Cstrong%3EID%3A%20%3C/strong%3E908%3C/li%3E%20%20%20%20%20%20%20%20%20%20%20%20%20%3Cli%3E%3Cstrong%3ESource%3A%20%3C/strong%3EHenderson%20P%26C%20%2392%3C/li%3E%20%20%20%20%20%20%20%20%20%20%20%20%20%3Cli%3E%3Cstrong%3EName%3A%20%3C/strong%3Enan%3C/li%3E%20%20%20%20%20%20%20%20%20%3Cul%3E%20%20%20%20%20%3C/div%3E%60%29%5B0%5D%3B%0A%20%20%20%20%20%20%20%20%20%20%20%20popup_0d89d5f8fafd4a6887fab91be140293c.setContent%28html_a173fd7a9ce94d8183af8c7fb4445a87%29%3B%0A%20%20%20%20%20%20%20%20%0A%0A%20%20%20%20%20%20%20%20marker_7040b4140ca442e1b96b74f3bf416365.bindPopup%28popup_0d89d5f8fafd4a6887fab91be140293c%29%0A%20%20%20%20%20%20%20%20%3B%0A%0A%20%20%20%20%20%20%20%20%0A%20%20%20%20%0A%20%20%20%20%0A%20%20%20%20%20%20%20%20%20%20%20%20var%20marker_0c0466f286d84bff8be26639e3457bcd%20%3D%20L.marker%28%0A%20%20%20%20%20%20%20%20%20%20%20%20%20%20%20%20%5B43.77719444%2C%2011.24916444%5D%2C%0A%20%20%20%20%20%20%20%20%20%20%20%20%20%20%20%20%7B%7D%0A%20%20%20%20%20%20%20%20%20%20%20%20%29.addTo%28map_cb5ddea0a149466984ccacda88dfafab%29%3B%0A%20%20%20%20%20%20%20%20%0A%20%20%20%20%0A%20%20%20%20%20%20%20%20var%20popup_645a236f7d7b453db9546b3a82fbb7d4%20%3D%20L.popup%28%7B%22maxWidth%22%3A%20%22100%25%22%7D%29%3B%0A%0A%20%20%20%20%20%20%20%20%0A%20%20%20%20%20%20%20%20%20%20%20%20var%20html_ec66e0d7be02447eb0aefd8eb9f0d929%20%3D%20%24%28%60%3Cdiv%20id%3D%22html_ec66e0d7be02447eb0aefd8eb9f0d929%22%20style%3D%22width%3A%20100.0%25%3B%20height%3A%20100.0%25%3B%22%3E%20%20%20%20%20%20%20%20%20%3Cul%3E%20%20%20%20%20%20%20%20%20%20%20%20%20%3Cli%3E%3Cstrong%3EID%3A%20%3C/strong%3E5357%3C/li%3E%20%20%20%20%20%20%20%20%20%20%20%20%20%3Cli%3E%3Cstrong%3ESource%3A%20%3C/strong%3EHenderson%20P%26C%20%2392%3C/li%3E%20%20%20%20%20%20%20%20%20%20%20%20%20%3Cli%3E%3Cstrong%3EName%3A%20%3C/strong%3Enan%3C/li%3E%20%20%20%20%20%20%20%20%20%3Cul%3E%20%20%20%20%20%3C/div%3E%60%29%5B0%5D%3B%0A%20%20%20%20%20%20%20%20%20%20%20%20popup_645a236f7d7b453db9546b3a82fbb7d4.setContent%28html_ec66e0d7be02447eb0aefd8eb9f0d929%29%3B%0A%20%20%20%20%20%20%20%20%0A%0A%20%20%20%20%20%20%20%20marker_0c0466f286d84bff8be26639e3457bcd.bindPopup%28popup_645a236f7d7b453db9546b3a82fbb7d4%29%0A%20%20%20%20%20%20%20%20%3B%0A%0A%20%20%20%20%20%20%20%20%0A%20%20%20%20%0A%20%20%20%20%0A%20%20%20%20%20%20%20%20%20%20%20%20var%20marker_e3cfc96dc08d426e967e18d05a658708%20%3D%20L.marker%28%0A%20%20%20%20%20%20%20%20%20%20%20%20%20%20%20%20%5B43.77600143%2C%2011.26026457%5D%2C%0A%20%20%20%20%20%20%20%20%20%20%20%20%20%20%20%20%7B%7D%0A%20%20%20%20%20%20%20%20%20%20%20%20%29.addTo%28map_cb5ddea0a149466984ccacda88dfafab%29%3B%0A%20%20%20%20%20%20%20%20%0A%20%20%20%20%0A%20%20%20%20%20%20%20%20var%20popup_28f162ff015f4b8a91dbb918eed91f75%20%3D%20L.popup%28%7B%22maxWidth%22%3A%20%22100%25%22%7D%29%3B%0A%0A%20%20%20%20%20%20%20%20%0A%20%20%20%20%20%20%20%20%20%20%20%20var%20html_58e036bd784241d6a77bf40ac6e195fc%20%3D%20%24%28%60%3Cdiv%20id%3D%22html_58e036bd784241d6a77bf40ac6e195fc%22%20style%3D%22width%3A%20100.0%25%3B%20height%3A%20100.0%25%3B%22%3E%20%20%20%20%20%20%20%20%20%3Cul%3E%20%20%20%20%20%20%20%20%20%20%20%20%20%3Cli%3E%3Cstrong%3EID%3A%20%3C/strong%3E2945%3C/li%3E%20%20%20%20%20%20%20%20%20%20%20%20%20%3Cli%3E%3Cstrong%3ESource%3A%20%3C/strong%3EHenderson%20P%26C%20%2392%3C/li%3E%20%20%20%20%20%20%20%20%20%20%20%20%20%3Cli%3E%3Cstrong%3EName%3A%20%3C/strong%3Enan%3C/li%3E%20%20%20%20%20%20%20%20%20%3Cul%3E%20%20%20%20%20%3C/div%3E%60%29%5B0%5D%3B%0A%20%20%20%20%20%20%20%20%20%20%20%20popup_28f162ff015f4b8a91dbb918eed91f75.setContent%28html_58e036bd784241d6a77bf40ac6e195fc%29%3B%0A%20%20%20%20%20%20%20%20%0A%0A%20%20%20%20%20%20%20%20marker_e3cfc96dc08d426e967e18d05a658708.bindPopup%28popup_28f162ff015f4b8a91dbb918eed91f75%29%0A%20%20%20%20%20%20%20%20%3B%0A%0A%20%20%20%20%20%20%20%20%0A%20%20%20%20%0A%20%20%20%20%0A%20%20%20%20%20%20%20%20%20%20%20%20var%20marker_f6962a6cc6e243179a258f546ff9ae8e%20%3D%20L.marker%28%0A%20%20%20%20%20%20%20%20%20%20%20%20%20%20%20%20%5B43.77594286%2C%2011.26019514%5D%2C%0A%20%20%20%20%20%20%20%20%20%20%20%20%20%20%20%20%7B%7D%0A%20%20%20%20%20%20%20%20%20%20%20%20%29.addTo%28map_cb5ddea0a149466984ccacda88dfafab%29%3B%0A%20%20%20%20%20%20%20%20%0A%20%20%20%20%0A%20%20%20%20%20%20%20%20var%20popup_e4b612420a9f4b949df6c9a54eb1f39a%20%3D%20L.popup%28%7B%22maxWidth%22%3A%20%22100%25%22%7D%29%3B%0A%0A%20%20%20%20%20%20%20%20%0A%20%20%20%20%20%20%20%20%20%20%20%20var%20html_1829287b7f7c431289f0ee627e84fd42%20%3D%20%24%28%60%3Cdiv%20id%3D%22html_1829287b7f7c431289f0ee627e84fd42%22%20style%3D%22width%3A%20100.0%25%3B%20height%3A%20100.0%25%3B%22%3E%20%20%20%20%20%20%20%20%20%3Cul%3E%20%20%20%20%20%20%20%20%20%20%20%20%20%3Cli%3E%3Cstrong%3EID%3A%20%3C/strong%3E2946%3C/li%3E%20%20%20%20%20%20%20%20%20%20%20%20%20%3Cli%3E%3Cstrong%3ESource%3A%20%3C/strong%3EHenderson%20P%26C%20%2392%3C/li%3E%20%20%20%20%20%20%20%20%20%20%20%20%20%3Cli%3E%3Cstrong%3EName%3A%20%3C/strong%3Enan%3C/li%3E%20%20%20%20%20%20%20%20%20%3Cul%3E%20%20%20%20%20%3C/div%3E%60%29%5B0%5D%3B%0A%20%20%20%20%20%20%20%20%20%20%20%20popup_e4b612420a9f4b949df6c9a54eb1f39a.setContent%28html_1829287b7f7c431289f0ee627e84fd42%29%3B%0A%20%20%20%20%20%20%20%20%0A%0A%20%20%20%20%20%20%20%20marker_f6962a6cc6e243179a258f546ff9ae8e.bindPopup%28popup_e4b612420a9f4b949df6c9a54eb1f39a%29%0A%20%20%20%20%20%20%20%20%3B%0A%0A%20%20%20%20%20%20%20%20%0A%20%20%20%20%0A%20%20%20%20%0A%20%20%20%20%20%20%20%20%20%20%20%20var%20marker_bcb670e907464eb0b4c3a2cb71693126%20%3D%20L.marker%28%0A%20%20%20%20%20%20%20%20%20%20%20%20%20%20%20%20%5B43.77588429%2C%2011.26012571%5D%2C%0A%20%20%20%20%20%20%20%20%20%20%20%20%20%20%20%20%7B%7D%0A%20%20%20%20%20%20%20%20%20%20%20%20%29.addTo%28map_cb5ddea0a149466984ccacda88dfafab%29%3B%0A%20%20%20%20%20%20%20%20%0A%20%20%20%20%0A%20%20%20%20%20%20%20%20var%20popup_10c1ac03d50e4fcfbda1f1879f653f1b%20%3D%20L.popup%28%7B%22maxWidth%22%3A%20%22100%25%22%7D%29%3B%0A%0A%20%20%20%20%20%20%20%20%0A%20%20%20%20%20%20%20%20%20%20%20%20var%20html_764b3a2d871547979d5ed81237e046d2%20%3D%20%24%28%60%3Cdiv%20id%3D%22html_764b3a2d871547979d5ed81237e046d2%22%20style%3D%22width%3A%20100.0%25%3B%20height%3A%20100.0%25%3B%22%3E%20%20%20%20%20%20%20%20%20%3Cul%3E%20%20%20%20%20%20%20%20%20%20%20%20%20%3Cli%3E%3Cstrong%3EID%3A%20%3C/strong%3E2947%3C/li%3E%20%20%20%20%20%20%20%20%20%20%20%20%20%3Cli%3E%3Cstrong%3ESource%3A%20%3C/strong%3EHenderson%20P%26C%20%2392%3C/li%3E%20%20%20%20%20%20%20%20%20%20%20%20%20%3Cli%3E%3Cstrong%3EName%3A%20%3C/strong%3Enan%3C/li%3E%20%20%20%20%20%20%20%20%20%3Cul%3E%20%20%20%20%20%3C/div%3E%60%29%5B0%5D%3B%0A%20%20%20%20%20%20%20%20%20%20%20%20popup_10c1ac03d50e4fcfbda1f1879f653f1b.setContent%28html_764b3a2d871547979d5ed81237e046d2%29%3B%0A%20%20%20%20%20%20%20%20%0A%0A%20%20%20%20%20%20%20%20marker_bcb670e907464eb0b4c3a2cb71693126.bindPopup%28popup_10c1ac03d50e4fcfbda1f1879f653f1b%29%0A%20%20%20%20%20%20%20%20%3B%0A%0A%20%20%20%20%20%20%20%20%0A%20%20%20%20%0A%20%20%20%20%0A%20%20%20%20%20%20%20%20%20%20%20%20var%20marker_1dbeb587f6cd4a38a796dc45dfea9e96%20%3D%20L.marker%28%0A%20%20%20%20%20%20%20%20%20%20%20%20%20%20%20%20%5B43.77606%2C%2011.260334%5D%2C%0A%20%20%20%20%20%20%20%20%20%20%20%20%20%20%20%20%7B%7D%0A%20%20%20%20%20%20%20%20%20%20%20%20%29.addTo%28map_cb5ddea0a149466984ccacda88dfafab%29%3B%0A%20%20%20%20%20%20%20%20%0A%20%20%20%20%0A%20%20%20%20%20%20%20%20var%20popup_e952794803824ceb82685b6435fe8dce%20%3D%20L.popup%28%7B%22maxWidth%22%3A%20%22100%25%22%7D%29%3B%0A%0A%20%20%20%20%20%20%20%20%0A%20%20%20%20%20%20%20%20%20%20%20%20var%20html_0c317ab03d9b48e28cb6992f6b501b7f%20%3D%20%24%28%60%3Cdiv%20id%3D%22html_0c317ab03d9b48e28cb6992f6b501b7f%22%20style%3D%22width%3A%20100.0%25%3B%20height%3A%20100.0%25%3B%22%3E%20%20%20%20%20%20%20%20%20%3Cul%3E%20%20%20%20%20%20%20%20%20%20%20%20%20%3Cli%3E%3Cstrong%3EID%3A%20%3C/strong%3E2963%3C/li%3E%20%20%20%20%20%20%20%20%20%20%20%20%20%3Cli%3E%3Cstrong%3ESource%3A%20%3C/strong%3EHenderson%20P%26C%20%2392%3C/li%3E%20%20%20%20%20%20%20%20%20%20%20%20%20%3Cli%3E%3Cstrong%3EName%3A%20%3C/strong%3Enan%3C/li%3E%20%20%20%20%20%20%20%20%20%3Cul%3E%20%20%20%20%20%3C/div%3E%60%29%5B0%5D%3B%0A%20%20%20%20%20%20%20%20%20%20%20%20popup_e952794803824ceb82685b6435fe8dce.setContent%28html_0c317ab03d9b48e28cb6992f6b501b7f%29%3B%0A%20%20%20%20%20%20%20%20%0A%0A%20%20%20%20%20%20%20%20marker_1dbeb587f6cd4a38a796dc45dfea9e96.bindPopup%28popup_e952794803824ceb82685b6435fe8dce%29%0A%20%20%20%20%20%20%20%20%3B%0A%0A%20%20%20%20%20%20%20%20%0A%20%20%20%20%0A%20%20%20%20%0A%20%20%20%20%20%20%20%20%20%20%20%20var%20marker_27b0d654969142869f4bf25e6100ce0c%20%3D%20L.marker%28%0A%20%20%20%20%20%20%20%20%20%20%20%20%20%20%20%20%5B43.7713504%2C%2011.2626168%5D%2C%0A%20%20%20%20%20%20%20%20%20%20%20%20%20%20%20%20%7B%7D%0A%20%20%20%20%20%20%20%20%20%20%20%20%29.addTo%28map_cb5ddea0a149466984ccacda88dfafab%29%3B%0A%20%20%20%20%20%20%20%20%0A%20%20%20%20%0A%20%20%20%20%20%20%20%20var%20popup_c881c9bc5b1c48fdafc9e88083bec657%20%3D%20L.popup%28%7B%22maxWidth%22%3A%20%22100%25%22%7D%29%3B%0A%0A%20%20%20%20%20%20%20%20%0A%20%20%20%20%20%20%20%20%20%20%20%20var%20html_aef9ab0540044f0bb68c9c3f7fa126f5%20%3D%20%24%28%60%3Cdiv%20id%3D%22html_aef9ab0540044f0bb68c9c3f7fa126f5%22%20style%3D%22width%3A%20100.0%25%3B%20height%3A%20100.0%25%3B%22%3E%20%20%20%20%20%20%20%20%20%3Cul%3E%20%20%20%20%20%20%20%20%20%20%20%20%20%3Cli%3E%3Cstrong%3EID%3A%20%3C/strong%3E3296%3C/li%3E%20%20%20%20%20%20%20%20%20%20%20%20%20%3Cli%3E%3Cstrong%3ESource%3A%20%3C/strong%3EHenderson%20P%26C%20%2392%3C/li%3E%20%20%20%20%20%20%20%20%20%20%20%20%20%3Cli%3E%3Cstrong%3EName%3A%20%3C/strong%3Esellaio%3C/li%3E%20%20%20%20%20%20%20%20%20%3Cul%3E%20%20%20%20%20%3C/div%3E%60%29%5B0%5D%3B%0A%20%20%20%20%20%20%20%20%20%20%20%20popup_c881c9bc5b1c48fdafc9e88083bec657.setContent%28html_aef9ab0540044f0bb68c9c3f7fa126f5%29%3B%0A%20%20%20%20%20%20%20%20%0A%0A%20%20%20%20%20%20%20%20marker_27b0d654969142869f4bf25e6100ce0c.bindPopup%28popup_c881c9bc5b1c48fdafc9e88083bec657%29%0A%20%20%20%20%20%20%20%20%3B%0A%0A%20%20%20%20%20%20%20%20%0A%20%20%20%20%0A%20%20%20%20%0A%20%20%20%20%20%20%20%20%20%20%20%20var%20marker_67b4e78a6a5343799d8cfe0c8331dad0%20%3D%20L.marker%28%0A%20%20%20%20%20%20%20%20%20%20%20%20%20%20%20%20%5B43.77074933%2C%2011.26244367%5D%2C%0A%20%20%20%20%20%20%20%20%20%20%20%20%20%20%20%20%7B%7D%0A%20%20%20%20%20%20%20%20%20%20%20%20%29.addTo%28map_cb5ddea0a149466984ccacda88dfafab%29%3B%0A%20%20%20%20%20%20%20%20%0A%20%20%20%20%0A%20%20%20%20%20%20%20%20var%20popup_ecae71a5fdb942d6aa78ec9e9f4f7e9b%20%3D%20L.popup%28%7B%22maxWidth%22%3A%20%22100%25%22%7D%29%3B%0A%0A%20%20%20%20%20%20%20%20%0A%20%20%20%20%20%20%20%20%20%20%20%20var%20html_c53f0a2e3e634fb7a3716520df194c40%20%3D%20%24%28%60%3Cdiv%20id%3D%22html_c53f0a2e3e634fb7a3716520df194c40%22%20style%3D%22width%3A%20100.0%25%3B%20height%3A%20100.0%25%3B%22%3E%20%20%20%20%20%20%20%20%20%3Cul%3E%20%20%20%20%20%20%20%20%20%20%20%20%20%3Cli%3E%3Cstrong%3EID%3A%20%3C/strong%3E3455%3C/li%3E%20%20%20%20%20%20%20%20%20%20%20%20%20%3Cli%3E%3Cstrong%3ESource%3A%20%3C/strong%3EHenderson%20P%26C%20%2392%3C/li%3E%20%20%20%20%20%20%20%20%20%20%20%20%20%3Cli%3E%3Cstrong%3EName%3A%20%3C/strong%3Etessitore%3C/li%3E%20%20%20%20%20%20%20%20%20%3Cul%3E%20%20%20%20%20%3C/div%3E%60%29%5B0%5D%3B%0A%20%20%20%20%20%20%20%20%20%20%20%20popup_ecae71a5fdb942d6aa78ec9e9f4f7e9b.setContent%28html_c53f0a2e3e634fb7a3716520df194c40%29%3B%0A%20%20%20%20%20%20%20%20%0A%0A%20%20%20%20%20%20%20%20marker_67b4e78a6a5343799d8cfe0c8331dad0.bindPopup%28popup_ecae71a5fdb942d6aa78ec9e9f4f7e9b%29%0A%20%20%20%20%20%20%20%20%3B%0A%0A%20%20%20%20%20%20%20%20%0A%20%20%20%20%0A%20%20%20%20%0A%20%20%20%20%20%20%20%20%20%20%20%20var%20marker_54e8b27b79f6476ba416ff10876bb506%20%3D%20L.marker%28%0A%20%20%20%20%20%20%20%20%20%20%20%20%20%20%20%20%5B43.76905%2C%2011.26039%5D%2C%0A%20%20%20%20%20%20%20%20%20%20%20%20%20%20%20%20%7B%7D%0A%20%20%20%20%20%20%20%20%20%20%20%20%29.addTo%28map_cb5ddea0a149466984ccacda88dfafab%29%3B%0A%20%20%20%20%20%20%20%20%0A%20%20%20%20%0A%20%20%20%20%20%20%20%20var%20popup_73d84c81a31a496a824d3cca15976459%20%3D%20L.popup%28%7B%22maxWidth%22%3A%20%22100%25%22%7D%29%3B%0A%0A%20%20%20%20%20%20%20%20%0A%20%20%20%20%20%20%20%20%20%20%20%20var%20html_63cd40cbe7d54ef3922bc0a3126f9210%20%3D%20%24%28%60%3Cdiv%20id%3D%22html_63cd40cbe7d54ef3922bc0a3126f9210%22%20style%3D%22width%3A%20100.0%25%3B%20height%3A%20100.0%25%3B%22%3E%20%20%20%20%20%20%20%20%20%3Cul%3E%20%20%20%20%20%20%20%20%20%20%20%20%20%3Cli%3E%3Cstrong%3EID%3A%20%3C/strong%3E4120%3C/li%3E%20%20%20%20%20%20%20%20%20%20%20%20%20%3Cli%3E%3Cstrong%3ESource%3A%20%3C/strong%3EHenderson%20P%26C%20%2392%3C/li%3E%20%20%20%20%20%20%20%20%20%20%20%20%20%3Cli%3E%3Cstrong%3EName%3A%20%3C/strong%3Eciabattino%3C/li%3E%20%20%20%20%20%20%20%20%20%3Cul%3E%20%20%20%20%20%3C/div%3E%60%29%5B0%5D%3B%0A%20%20%20%20%20%20%20%20%20%20%20%20popup_73d84c81a31a496a824d3cca15976459.setContent%28html_63cd40cbe7d54ef3922bc0a3126f9210%29%3B%0A%20%20%20%20%20%20%20%20%0A%0A%20%20%20%20%20%20%20%20marker_54e8b27b79f6476ba416ff10876bb506.bindPopup%28popup_73d84c81a31a496a824d3cca15976459%29%0A%20%20%20%20%20%20%20%20%3B%0A%0A%20%20%20%20%20%20%20%20%0A%20%20%20%20%0A%20%20%20%20%0A%20%20%20%20%20%20%20%20%20%20%20%20var%20marker_eb0f8c56acd84b61a361ff1c9d7b0946%20%3D%20L.marker%28%0A%20%20%20%20%20%20%20%20%20%20%20%20%20%20%20%20%5B43.76794%2C%2011.25578%5D%2C%0A%20%20%20%20%20%20%20%20%20%20%20%20%20%20%20%20%7B%7D%0A%20%20%20%20%20%20%20%20%20%20%20%20%29.addTo%28map_cb5ddea0a149466984ccacda88dfafab%29%3B%0A%20%20%20%20%20%20%20%20%0A%20%20%20%20%0A%20%20%20%20%20%20%20%20var%20popup_61bd95b079704e64a7f4e3ad9527182b%20%3D%20L.popup%28%7B%22maxWidth%22%3A%20%22100%25%22%7D%29%3B%0A%0A%20%20%20%20%20%20%20%20%0A%20%20%20%20%20%20%20%20%20%20%20%20var%20html_b6eaf76c32c34ffe8a6cf83834e7e14c%20%3D%20%24%28%60%3Cdiv%20id%3D%22html_b6eaf76c32c34ffe8a6cf83834e7e14c%22%20style%3D%22width%3A%20100.0%25%3B%20height%3A%20100.0%25%3B%22%3E%20%20%20%20%20%20%20%20%20%3Cul%3E%20%20%20%20%20%20%20%20%20%20%20%20%20%3Cli%3E%3Cstrong%3EID%3A%20%3C/strong%3E4651%3C/li%3E%20%20%20%20%20%20%20%20%20%20%20%20%20%3Cli%3E%3Cstrong%3ESource%3A%20%3C/strong%3EHenderson%20P%26C%20%2392%3C/li%3E%20%20%20%20%20%20%20%20%20%20%20%20%20%3Cli%3E%3Cstrong%3EName%3A%20%3C/strong%3Enan%3C/li%3E%20%20%20%20%20%20%20%20%20%3Cul%3E%20%20%20%20%20%3C/div%3E%60%29%5B0%5D%3B%0A%20%20%20%20%20%20%20%20%20%20%20%20popup_61bd95b079704e64a7f4e3ad9527182b.setContent%28html_b6eaf76c32c34ffe8a6cf83834e7e14c%29%3B%0A%20%20%20%20%20%20%20%20%0A%0A%20%20%20%20%20%20%20%20marker_eb0f8c56acd84b61a361ff1c9d7b0946.bindPopup%28popup_61bd95b079704e64a7f4e3ad9527182b%29%0A%20%20%20%20%20%20%20%20%3B%0A%0A%20%20%20%20%20%20%20%20%0A%20%20%20%20%0A%3C/script%3E onload=\"this.contentDocument.open();this.contentDocument.write(    decodeURIComponent(this.getAttribute('data-html')));this.contentDocument.close();\" allowfullscreen webkitallowfullscreen mozallowfullscreen></iframe></div></div>"
      ],
      "text/plain": [
       "<folium.folium.Map at 0x7f9726115d60>"
      ]
     },
     "execution_count": 86,
     "metadata": {},
     "output_type": "execute_result"
    }
   ],
   "source": [
    "our_map"
   ]
  },
  {
   "cell_type": "markdown",
   "metadata": {
    "id": "2Y3RLqLSIImn"
   },
   "source": [
    "## G. Bartoli Letters"
   ]
  },
  {
   "cell_type": "code",
   "execution_count": 87,
   "metadata": {},
   "outputs": [],
   "source": [
    "bartoli = pd.read_csv(bartoli_letters)"
   ]
  },
  {
   "cell_type": "code",
   "execution_count": 88,
   "metadata": {},
   "outputs": [
    {
     "data": {
      "text/html": [
       "<div>\n",
       "<style scoped>\n",
       "    .dataframe tbody tr th:only-of-type {\n",
       "        vertical-align: middle;\n",
       "    }\n",
       "\n",
       "    .dataframe tbody tr th {\n",
       "        vertical-align: top;\n",
       "    }\n",
       "\n",
       "    .dataframe thead th {\n",
       "        text-align: right;\n",
       "    }\n",
       "</style>\n",
       "<table border=\"1\" class=\"dataframe\">\n",
       "  <thead>\n",
       "    <tr style=\"text-align: right;\">\n",
       "      <th></th>\n",
       "      <th>Volume</th>\n",
       "      <th>Folios</th>\n",
       "      <th>Order</th>\n",
       "      <th>Date written on the document</th>\n",
       "      <th>Modern Date</th>\n",
       "      <th>Sender</th>\n",
       "      <th>Sender Place</th>\n",
       "      <th>Recipient</th>\n",
       "      <th>Notes</th>\n",
       "    </tr>\n",
       "  </thead>\n",
       "  <tbody>\n",
       "    <tr>\n",
       "      <th>0</th>\n",
       "      <td>2976</td>\n",
       "      <td>1.2</td>\n",
       "      <td>NaN</td>\n",
       "      <td>07/01/1562</td>\n",
       "      <td>07/01/1563</td>\n",
       "      <td>Bartoli Cosimo</td>\n",
       "      <td>Venezia</td>\n",
       "      <td>Cosimo I de' Medici</td>\n",
       "      <td>NaN</td>\n",
       "    </tr>\n",
       "    <tr>\n",
       "      <th>1</th>\n",
       "      <td>2976</td>\n",
       "      <td>3.4</td>\n",
       "      <td>NaN</td>\n",
       "      <td>13/01/1562</td>\n",
       "      <td>13/01/1563</td>\n",
       "      <td>Bartoli Cosimo</td>\n",
       "      <td>Venezia</td>\n",
       "      <td>Cosimo I de' Medici</td>\n",
       "      <td>NaN</td>\n",
       "    </tr>\n",
       "    <tr>\n",
       "      <th>2</th>\n",
       "      <td>2976</td>\n",
       "      <td>5.14 6.13 7.12</td>\n",
       "      <td>5,7,12,14,6,13</td>\n",
       "      <td>19/01/1563</td>\n",
       "      <td>19/01/1564</td>\n",
       "      <td>Bartoli Cosimo</td>\n",
       "      <td>Venezia</td>\n",
       "      <td>Cosimo I de' Medici</td>\n",
       "      <td>NaN</td>\n",
       "    </tr>\n",
       "    <tr>\n",
       "      <th>3</th>\n",
       "      <td>2976</td>\n",
       "      <td>8.11</td>\n",
       "      <td>NaN</td>\n",
       "      <td>20/01/1562</td>\n",
       "      <td>20/01/1563</td>\n",
       "      <td>Bartoli Cosimo</td>\n",
       "      <td>Venezia</td>\n",
       "      <td>Concino Bartolomeo</td>\n",
       "      <td>NaN</td>\n",
       "    </tr>\n",
       "    <tr>\n",
       "      <th>4</th>\n",
       "      <td>2976</td>\n",
       "      <td>9.10</td>\n",
       "      <td>NaN</td>\n",
       "      <td>21/01/1562</td>\n",
       "      <td>21/01/1563</td>\n",
       "      <td>Bartoli Cosimo</td>\n",
       "      <td>Venezia</td>\n",
       "      <td>[Cosimo I de' Medici]</td>\n",
       "      <td>Manca la carta più esterna con scritto il dest...</td>\n",
       "    </tr>\n",
       "  </tbody>\n",
       "</table>\n",
       "</div>"
      ],
      "text/plain": [
       "   Volume           Folios           Order Date written on the document  \\\n",
       "0    2976              1.2             NaN                   07/01/1562   \n",
       "1    2976              3.4             NaN                   13/01/1562   \n",
       "2    2976  5.14 6.13 7.12   5,7,12,14,6,13                   19/01/1563   \n",
       "3    2976             8.11             NaN                   20/01/1562   \n",
       "4    2976             9.10             NaN                   21/01/1562   \n",
       "\n",
       "  Modern Date          Sender Sender Place              Recipient  \\\n",
       "0  07/01/1563  Bartoli Cosimo      Venezia    Cosimo I de' Medici   \n",
       "1  13/01/1563  Bartoli Cosimo      Venezia    Cosimo I de' Medici   \n",
       "2  19/01/1564  Bartoli Cosimo      Venezia    Cosimo I de' Medici   \n",
       "3  20/01/1563  Bartoli Cosimo      Venezia     Concino Bartolomeo   \n",
       "4  21/01/1563  Bartoli Cosimo      Venezia  [Cosimo I de' Medici]   \n",
       "\n",
       "                                               Notes  \n",
       "0                                                NaN  \n",
       "1                                                NaN  \n",
       "2                                                NaN  \n",
       "3                                                NaN  \n",
       "4  Manca la carta più esterna con scritto il dest...  "
      ]
     },
     "execution_count": 88,
     "metadata": {},
     "output_type": "execute_result"
    }
   ],
   "source": [
    "bartoli.head()"
   ]
  },
  {
   "cell_type": "code",
   "execution_count": 89,
   "metadata": {},
   "outputs": [],
   "source": [
    "def parse_date(date_string):\n",
    "    try:\n",
    "        return datetime.strptime(date_string, \"%d/%m/%Y\").date()\n",
    "    except ValueError as e:\n",
    "        print(e)\n",
    "        return np.nan"
   ]
  },
  {
   "cell_type": "code",
   "execution_count": 93,
   "metadata": {},
   "outputs": [
    {
     "name": "stdout",
     "output_type": "stream",
     "text": [
      "time data '11/' does not match format '%d/%m/%Y'\n",
      "day is out of range for month\n",
      "time data '18/' does not match format '%d/%m/%Y'\n"
     ]
    }
   ],
   "source": [
    "bartoli[\"parsed_date\"] = bartoli[\"Modern Date\"].dropna().apply(parse_date)\n"
   ]
  },
  {
   "cell_type": "code",
   "execution_count": 94,
   "metadata": {},
   "outputs": [
    {
     "data": {
      "text/html": [
       "<div>\n",
       "<style scoped>\n",
       "    .dataframe tbody tr th:only-of-type {\n",
       "        vertical-align: middle;\n",
       "    }\n",
       "\n",
       "    .dataframe tbody tr th {\n",
       "        vertical-align: top;\n",
       "    }\n",
       "\n",
       "    .dataframe thead th {\n",
       "        text-align: right;\n",
       "    }\n",
       "</style>\n",
       "<table border=\"1\" class=\"dataframe\">\n",
       "  <thead>\n",
       "    <tr style=\"text-align: right;\">\n",
       "      <th></th>\n",
       "      <th>Volume</th>\n",
       "      <th>Folios</th>\n",
       "      <th>Order</th>\n",
       "      <th>Date written on the document</th>\n",
       "      <th>Modern Date</th>\n",
       "      <th>Sender</th>\n",
       "      <th>Sender Place</th>\n",
       "      <th>Recipient</th>\n",
       "      <th>Notes</th>\n",
       "      <th>parsed_date</th>\n",
       "    </tr>\n",
       "  </thead>\n",
       "  <tbody>\n",
       "    <tr>\n",
       "      <th>18</th>\n",
       "      <td>2976</td>\n",
       "      <td>42.45</td>\n",
       "      <td>NaN</td>\n",
       "      <td>27/06/1562</td>\n",
       "      <td>27/06/1562</td>\n",
       "      <td>Bartoli Cosimo</td>\n",
       "      <td>Venezia</td>\n",
       "      <td>Orlandi Francesco</td>\n",
       "      <td>NaN</td>\n",
       "      <td>1562-06-27</td>\n",
       "    </tr>\n",
       "    <tr>\n",
       "      <th>19</th>\n",
       "      <td>2976</td>\n",
       "      <td>43.44</td>\n",
       "      <td>NaN</td>\n",
       "      <td>27/06/1562</td>\n",
       "      <td>27/06/1562</td>\n",
       "      <td>Bartoli Cosimo</td>\n",
       "      <td>Venezia</td>\n",
       "      <td>[Cosimo I de' Medici]</td>\n",
       "      <td>Forse inviata con la lettera di Orlandi France...</td>\n",
       "      <td>1562-06-27</td>\n",
       "    </tr>\n",
       "    <tr>\n",
       "      <th>20</th>\n",
       "      <td>2976</td>\n",
       "      <td>49.62</td>\n",
       "      <td>NaN</td>\n",
       "      <td>30/07/1562</td>\n",
       "      <td>30/07/1562</td>\n",
       "      <td>Bartoli Cosimo</td>\n",
       "      <td>Venezia</td>\n",
       "      <td>Concino Bartolomeo</td>\n",
       "      <td>NaN</td>\n",
       "      <td>1562-07-30</td>\n",
       "    </tr>\n",
       "    <tr>\n",
       "      <th>21</th>\n",
       "      <td>2976</td>\n",
       "      <td>50.61</td>\n",
       "      <td>NaN</td>\n",
       "      <td>15/08/1562</td>\n",
       "      <td>15/08/1562</td>\n",
       "      <td>Bartoli Cosimo</td>\n",
       "      <td>Venezia</td>\n",
       "      <td>Concino Bartolomeo</td>\n",
       "      <td>NaN</td>\n",
       "      <td>1562-08-15</td>\n",
       "    </tr>\n",
       "    <tr>\n",
       "      <th>22</th>\n",
       "      <td>2976</td>\n",
       "      <td>51.60</td>\n",
       "      <td>NaN</td>\n",
       "      <td>03/10/1562</td>\n",
       "      <td>03/10/1562</td>\n",
       "      <td>Bartoli Cosimo</td>\n",
       "      <td>Venezia</td>\n",
       "      <td>Concino Bartolomeo</td>\n",
       "      <td>NaN</td>\n",
       "      <td>1562-10-03</td>\n",
       "    </tr>\n",
       "    <tr>\n",
       "      <th>24</th>\n",
       "      <td>2976</td>\n",
       "      <td>53.58 54.57</td>\n",
       "      <td>53,54,57,58</td>\n",
       "      <td>11/10/1562</td>\n",
       "      <td>11/10/1562</td>\n",
       "      <td>Bartoli Cosimo</td>\n",
       "      <td>Venezia</td>\n",
       "      <td>Cosimo I de' Medici</td>\n",
       "      <td>NaN</td>\n",
       "      <td>1562-10-11</td>\n",
       "    </tr>\n",
       "    <tr>\n",
       "      <th>25</th>\n",
       "      <td>2976</td>\n",
       "      <td>55.56</td>\n",
       "      <td>NaN</td>\n",
       "      <td>24/10/1562</td>\n",
       "      <td>24/10/1562</td>\n",
       "      <td>Bartoli Cosimo</td>\n",
       "      <td>Venezia</td>\n",
       "      <td>[Cosimo I de' Medici]</td>\n",
       "      <td>Manca la carta più esterna con scritto il dest...</td>\n",
       "      <td>1562-10-24</td>\n",
       "    </tr>\n",
       "    <tr>\n",
       "      <th>26</th>\n",
       "      <td>2976</td>\n",
       "      <td>63.82</td>\n",
       "      <td>NaN</td>\n",
       "      <td>27/10/1562</td>\n",
       "      <td>27/10/1562</td>\n",
       "      <td>Bartoli Cosimo</td>\n",
       "      <td>Venezia</td>\n",
       "      <td>Cosimo I de' Medici</td>\n",
       "      <td>NaN</td>\n",
       "      <td>1562-10-27</td>\n",
       "    </tr>\n",
       "    <tr>\n",
       "      <th>27</th>\n",
       "      <td>2976</td>\n",
       "      <td>64.81</td>\n",
       "      <td>NaN</td>\n",
       "      <td>31/10/1562</td>\n",
       "      <td>31/10/1562</td>\n",
       "      <td>Bartoli Cosimo</td>\n",
       "      <td>Venezia</td>\n",
       "      <td>Cosimo I de' Medici</td>\n",
       "      <td>NaN</td>\n",
       "      <td>1562-10-31</td>\n",
       "    </tr>\n",
       "    <tr>\n",
       "      <th>28</th>\n",
       "      <td>2976</td>\n",
       "      <td>65.80</td>\n",
       "      <td>NaN</td>\n",
       "      <td>01/11/1562</td>\n",
       "      <td>01/11/1562</td>\n",
       "      <td>Bartoli Cosimo</td>\n",
       "      <td>Venezia</td>\n",
       "      <td>Cosimo I de' Medici</td>\n",
       "      <td>NaN</td>\n",
       "      <td>1562-11-01</td>\n",
       "    </tr>\n",
       "    <tr>\n",
       "      <th>30</th>\n",
       "      <td>2976</td>\n",
       "      <td>68.77</td>\n",
       "      <td>NaN</td>\n",
       "      <td>11/11/1562</td>\n",
       "      <td>11/11/1562</td>\n",
       "      <td>Bartoli Cosimo</td>\n",
       "      <td>Venezia</td>\n",
       "      <td>Cosimo I de' Medici</td>\n",
       "      <td>NaN</td>\n",
       "      <td>1562-11-11</td>\n",
       "    </tr>\n",
       "    <tr>\n",
       "      <th>31</th>\n",
       "      <td>2976</td>\n",
       "      <td>69.70</td>\n",
       "      <td>NaN</td>\n",
       "      <td>18/11/1562</td>\n",
       "      <td>18/11/1562</td>\n",
       "      <td>Bartoli Cosimo</td>\n",
       "      <td>Venezia</td>\n",
       "      <td>[Cosimo I de' Medici]</td>\n",
       "      <td>Manca la carta più esterna con scritto il dest...</td>\n",
       "      <td>1562-11-18</td>\n",
       "    </tr>\n",
       "    <tr>\n",
       "      <th>32</th>\n",
       "      <td>2976</td>\n",
       "      <td>71.76</td>\n",
       "      <td>NaN</td>\n",
       "      <td>25/11/1562</td>\n",
       "      <td>25/11/1562</td>\n",
       "      <td>Bartoli Cosimo</td>\n",
       "      <td>Venezia</td>\n",
       "      <td>Cosimo I de' Medici</td>\n",
       "      <td>NaN</td>\n",
       "      <td>1562-11-25</td>\n",
       "    </tr>\n",
       "    <tr>\n",
       "      <th>33</th>\n",
       "      <td>2976</td>\n",
       "      <td>72.75</td>\n",
       "      <td>NaN</td>\n",
       "      <td>02/12/1562</td>\n",
       "      <td>02/12/1562</td>\n",
       "      <td>Bartoli Cosimo</td>\n",
       "      <td>Venezia</td>\n",
       "      <td>Cosimo I de' Medici</td>\n",
       "      <td>NaN</td>\n",
       "      <td>1562-12-02</td>\n",
       "    </tr>\n",
       "    <tr>\n",
       "      <th>34</th>\n",
       "      <td>2976</td>\n",
       "      <td>73.74</td>\n",
       "      <td>NaN</td>\n",
       "      <td>09/12/1562</td>\n",
       "      <td>09/12/1562</td>\n",
       "      <td>Bartoli Cosimo</td>\n",
       "      <td>Venezia</td>\n",
       "      <td>[Cosimo I de' Medici]</td>\n",
       "      <td>Manca la carta più esterna con scritto il dest...</td>\n",
       "      <td>1562-12-09</td>\n",
       "    </tr>\n",
       "    <tr>\n",
       "      <th>36</th>\n",
       "      <td>2976</td>\n",
       "      <td>84.85</td>\n",
       "      <td>NaN</td>\n",
       "      <td>16/12/1562</td>\n",
       "      <td>16/12/1562</td>\n",
       "      <td>Bartoli Cosimo</td>\n",
       "      <td>Venezia</td>\n",
       "      <td>[Cosimo I de' Medici]</td>\n",
       "      <td>Manca la carta più esterna con scritto il dest...</td>\n",
       "      <td>1562-12-16</td>\n",
       "    </tr>\n",
       "    <tr>\n",
       "      <th>37</th>\n",
       "      <td>2976</td>\n",
       "      <td>86.93</td>\n",
       "      <td>NaN</td>\n",
       "      <td>23/12/1562</td>\n",
       "      <td>23/12/1562</td>\n",
       "      <td>Bartoli Cosimo</td>\n",
       "      <td>Venezia</td>\n",
       "      <td>Cosimo I de' Medici</td>\n",
       "      <td>NaN</td>\n",
       "      <td>1562-12-23</td>\n",
       "    </tr>\n",
       "    <tr>\n",
       "      <th>0</th>\n",
       "      <td>2976</td>\n",
       "      <td>1.2</td>\n",
       "      <td>NaN</td>\n",
       "      <td>07/01/1562</td>\n",
       "      <td>07/01/1563</td>\n",
       "      <td>Bartoli Cosimo</td>\n",
       "      <td>Venezia</td>\n",
       "      <td>Cosimo I de' Medici</td>\n",
       "      <td>NaN</td>\n",
       "      <td>1563-01-07</td>\n",
       "    </tr>\n",
       "    <tr>\n",
       "      <th>1</th>\n",
       "      <td>2976</td>\n",
       "      <td>3.4</td>\n",
       "      <td>NaN</td>\n",
       "      <td>13/01/1562</td>\n",
       "      <td>13/01/1563</td>\n",
       "      <td>Bartoli Cosimo</td>\n",
       "      <td>Venezia</td>\n",
       "      <td>Cosimo I de' Medici</td>\n",
       "      <td>NaN</td>\n",
       "      <td>1563-01-13</td>\n",
       "    </tr>\n",
       "    <tr>\n",
       "      <th>3</th>\n",
       "      <td>2976</td>\n",
       "      <td>8.11</td>\n",
       "      <td>NaN</td>\n",
       "      <td>20/01/1562</td>\n",
       "      <td>20/01/1563</td>\n",
       "      <td>Bartoli Cosimo</td>\n",
       "      <td>Venezia</td>\n",
       "      <td>Concino Bartolomeo</td>\n",
       "      <td>NaN</td>\n",
       "      <td>1563-01-20</td>\n",
       "    </tr>\n",
       "  </tbody>\n",
       "</table>\n",
       "</div>"
      ],
      "text/plain": [
       "    Volume       Folios        Order Date written on the document Modern Date  \\\n",
       "18    2976        42.45          NaN                   27/06/1562  27/06/1562   \n",
       "19    2976        43.44          NaN                   27/06/1562  27/06/1562   \n",
       "20    2976        49.62          NaN                   30/07/1562  30/07/1562   \n",
       "21    2976        50.61          NaN                   15/08/1562  15/08/1562   \n",
       "22    2976        51.60          NaN                   03/10/1562  03/10/1562   \n",
       "24    2976  53.58 54.57  53,54,57,58                   11/10/1562  11/10/1562   \n",
       "25    2976        55.56          NaN                   24/10/1562  24/10/1562   \n",
       "26    2976        63.82          NaN                   27/10/1562  27/10/1562   \n",
       "27    2976        64.81          NaN                   31/10/1562  31/10/1562   \n",
       "28    2976        65.80          NaN                   01/11/1562  01/11/1562   \n",
       "30    2976        68.77          NaN                   11/11/1562  11/11/1562   \n",
       "31    2976        69.70          NaN                   18/11/1562  18/11/1562   \n",
       "32    2976        71.76          NaN                   25/11/1562  25/11/1562   \n",
       "33    2976        72.75          NaN                   02/12/1562  02/12/1562   \n",
       "34    2976        73.74          NaN                   09/12/1562  09/12/1562   \n",
       "36    2976        84.85          NaN                   16/12/1562  16/12/1562   \n",
       "37    2976        86.93          NaN                   23/12/1562  23/12/1562   \n",
       "0     2976          1.2          NaN                   07/01/1562  07/01/1563   \n",
       "1     2976          3.4          NaN                   13/01/1562  13/01/1563   \n",
       "3     2976         8.11          NaN                   20/01/1562  20/01/1563   \n",
       "\n",
       "            Sender Sender Place              Recipient  \\\n",
       "18  Bartoli Cosimo      Venezia      Orlandi Francesco   \n",
       "19  Bartoli Cosimo      Venezia  [Cosimo I de' Medici]   \n",
       "20  Bartoli Cosimo      Venezia     Concino Bartolomeo   \n",
       "21  Bartoli Cosimo      Venezia     Concino Bartolomeo   \n",
       "22  Bartoli Cosimo      Venezia     Concino Bartolomeo   \n",
       "24  Bartoli Cosimo      Venezia    Cosimo I de' Medici   \n",
       "25  Bartoli Cosimo      Venezia  [Cosimo I de' Medici]   \n",
       "26  Bartoli Cosimo      Venezia    Cosimo I de' Medici   \n",
       "27  Bartoli Cosimo      Venezia    Cosimo I de' Medici   \n",
       "28  Bartoli Cosimo      Venezia    Cosimo I de' Medici   \n",
       "30  Bartoli Cosimo      Venezia    Cosimo I de' Medici   \n",
       "31  Bartoli Cosimo      Venezia  [Cosimo I de' Medici]   \n",
       "32  Bartoli Cosimo      Venezia    Cosimo I de' Medici   \n",
       "33  Bartoli Cosimo      Venezia    Cosimo I de' Medici   \n",
       "34  Bartoli Cosimo      Venezia  [Cosimo I de' Medici]   \n",
       "36  Bartoli Cosimo      Venezia  [Cosimo I de' Medici]   \n",
       "37  Bartoli Cosimo      Venezia    Cosimo I de' Medici   \n",
       "0   Bartoli Cosimo      Venezia    Cosimo I de' Medici   \n",
       "1   Bartoli Cosimo      Venezia    Cosimo I de' Medici   \n",
       "3   Bartoli Cosimo      Venezia     Concino Bartolomeo   \n",
       "\n",
       "                                                Notes parsed_date  \n",
       "18                                                NaN  1562-06-27  \n",
       "19  Forse inviata con la lettera di Orlandi France...  1562-06-27  \n",
       "20                                                NaN  1562-07-30  \n",
       "21                                                NaN  1562-08-15  \n",
       "22                                                NaN  1562-10-03  \n",
       "24                                                NaN  1562-10-11  \n",
       "25  Manca la carta più esterna con scritto il dest...  1562-10-24  \n",
       "26                                                NaN  1562-10-27  \n",
       "27                                                NaN  1562-10-31  \n",
       "28                                                NaN  1562-11-01  \n",
       "30                                                NaN  1562-11-11  \n",
       "31  Manca la carta più esterna con scritto il dest...  1562-11-18  \n",
       "32                                                NaN  1562-11-25  \n",
       "33                                                NaN  1562-12-02  \n",
       "34  Manca la carta più esterna con scritto il dest...  1562-12-09  \n",
       "36  Manca la carta più esterna con scritto il dest...  1562-12-16  \n",
       "37                                                NaN  1562-12-23  \n",
       "0                                                 NaN  1563-01-07  \n",
       "1                                                 NaN  1563-01-13  \n",
       "3                                                 NaN  1563-01-20  "
      ]
     },
     "execution_count": 94,
     "metadata": {},
     "output_type": "execute_result"
    }
   ],
   "source": [
    "bartoli.sort_values(\"parsed_date\").head(20)"
   ]
  },
  {
   "cell_type": "code",
   "execution_count": null,
   "metadata": {},
   "outputs": [],
   "source": [
    "_filter_Bartoli = bartoli[\"Sender\"].str.contains(\"Bartoli\")\n"
   ]
  },
  {
   "cell_type": "code",
   "execution_count": 95,
   "metadata": {},
   "outputs": [
    {
     "data": {
      "text/plain": [
       "0      1563\n",
       "1      1563\n",
       "2      1564\n",
       "3      1563\n",
       "4      1563\n",
       "       ... \n",
       "135    1565\n",
       "136    1565\n",
       "137    1565\n",
       "138    1565\n",
       "141    1565\n",
       "Name: parsed_date, Length: 112, dtype: int64"
      ]
     },
     "execution_count": 95,
     "metadata": {},
     "output_type": "execute_result"
    }
   ],
   "source": [
    "bartoli.parsed_date.dropna().apply(lambda x: x.year)"
   ]
  },
  {
   "cell_type": "code",
   "execution_count": 96,
   "metadata": {},
   "outputs": [
    {
     "data": {
      "text/plain": [
       "1563    55\n",
       "1564    30\n",
       "1562    17\n",
       "1565    10\n",
       "Name: parsed_date, dtype: int64"
      ]
     },
     "execution_count": 96,
     "metadata": {},
     "output_type": "execute_result"
    }
   ],
   "source": [
    "bartoli.parsed_date.dropna().apply(lambda x: x.year).value_counts()"
   ]
  },
  {
   "cell_type": "markdown",
   "metadata": {},
   "source": [
    "#### Find Documents of Type 'Avviso'"
   ]
  },
  {
   "cell_type": "code",
   "execution_count": null,
   "metadata": {},
   "outputs": [],
   "source": []
  },
  {
   "cell_type": "code",
   "execution_count": 97,
   "metadata": {},
   "outputs": [
    {
     "data": {
      "text/plain": [
       "0      False\n",
       "1      False\n",
       "2      False\n",
       "3      False\n",
       "4      False\n",
       "       ...  \n",
       "138    False\n",
       "139     True\n",
       "140     True\n",
       "141    False\n",
       "142     True\n",
       "Name: Sender, Length: 143, dtype: bool"
      ]
     },
     "execution_count": 97,
     "metadata": {},
     "output_type": "execute_result"
    }
   ],
   "source": [
    "bartoli[\"Sender\"].str.contains(\"Avviso\")"
   ]
  },
  {
   "cell_type": "code",
   "execution_count": 104,
   "metadata": {},
   "outputs": [
    {
     "data": {
      "text/plain": [
       "0      False\n",
       "1      False\n",
       "2      False\n",
       "3      False\n",
       "4      False\n",
       "       ...  \n",
       "138    False\n",
       "139     True\n",
       "140     True\n",
       "141    False\n",
       "142     True\n",
       "Name: Sender, Length: 143, dtype: bool"
      ]
     },
     "execution_count": 104,
     "metadata": {},
     "output_type": "execute_result"
    }
   ],
   "source": [
    "_is_Avviso = bartoli[\"Sender\"].str.contains(\"Avviso\")\n",
    "_is_Avviso"
   ]
  },
  {
   "cell_type": "markdown",
   "metadata": {},
   "source": [
    "####  Now reverse the Boolean series (so that Avviso documents are false)"
   ]
  },
  {
   "cell_type": "code",
   "execution_count": 105,
   "metadata": {},
   "outputs": [
    {
     "data": {
      "text/plain": [
       "0       True\n",
       "1       True\n",
       "2       True\n",
       "3       True\n",
       "4       True\n",
       "       ...  \n",
       "138     True\n",
       "139    False\n",
       "140    False\n",
       "141     True\n",
       "142    False\n",
       "Name: Sender, Length: 143, dtype: bool"
      ]
     },
     "execution_count": 105,
     "metadata": {},
     "output_type": "execute_result"
    }
   ],
   "source": [
    "~_is_Avviso"
   ]
  },
  {
   "cell_type": "code",
   "execution_count": 106,
   "metadata": {},
   "outputs": [
    {
     "data": {
      "text/html": [
       "<div>\n",
       "<style scoped>\n",
       "    .dataframe tbody tr th:only-of-type {\n",
       "        vertical-align: middle;\n",
       "    }\n",
       "\n",
       "    .dataframe tbody tr th {\n",
       "        vertical-align: top;\n",
       "    }\n",
       "\n",
       "    .dataframe thead th {\n",
       "        text-align: right;\n",
       "    }\n",
       "</style>\n",
       "<table border=\"1\" class=\"dataframe\">\n",
       "  <thead>\n",
       "    <tr style=\"text-align: right;\">\n",
       "      <th></th>\n",
       "      <th>Volume</th>\n",
       "      <th>Folios</th>\n",
       "      <th>Order</th>\n",
       "      <th>Date written on the document</th>\n",
       "      <th>Modern Date</th>\n",
       "      <th>Sender</th>\n",
       "      <th>Sender Place</th>\n",
       "      <th>Recipient</th>\n",
       "      <th>Notes</th>\n",
       "      <th>parsed_date</th>\n",
       "    </tr>\n",
       "  </thead>\n",
       "  <tbody>\n",
       "    <tr>\n",
       "      <th>0</th>\n",
       "      <td>2976</td>\n",
       "      <td>1.2</td>\n",
       "      <td>NaN</td>\n",
       "      <td>07/01/1562</td>\n",
       "      <td>07/01/1563</td>\n",
       "      <td>Bartoli Cosimo</td>\n",
       "      <td>Venezia</td>\n",
       "      <td>Cosimo I de' Medici</td>\n",
       "      <td>NaN</td>\n",
       "      <td>1563-01-07</td>\n",
       "    </tr>\n",
       "    <tr>\n",
       "      <th>1</th>\n",
       "      <td>2976</td>\n",
       "      <td>3.4</td>\n",
       "      <td>NaN</td>\n",
       "      <td>13/01/1562</td>\n",
       "      <td>13/01/1563</td>\n",
       "      <td>Bartoli Cosimo</td>\n",
       "      <td>Venezia</td>\n",
       "      <td>Cosimo I de' Medici</td>\n",
       "      <td>NaN</td>\n",
       "      <td>1563-01-13</td>\n",
       "    </tr>\n",
       "    <tr>\n",
       "      <th>2</th>\n",
       "      <td>2976</td>\n",
       "      <td>5.14 6.13 7.12</td>\n",
       "      <td>5,7,12,14,6,13</td>\n",
       "      <td>19/01/1563</td>\n",
       "      <td>19/01/1564</td>\n",
       "      <td>Bartoli Cosimo</td>\n",
       "      <td>Venezia</td>\n",
       "      <td>Cosimo I de' Medici</td>\n",
       "      <td>NaN</td>\n",
       "      <td>1564-01-19</td>\n",
       "    </tr>\n",
       "    <tr>\n",
       "      <th>3</th>\n",
       "      <td>2976</td>\n",
       "      <td>8.11</td>\n",
       "      <td>NaN</td>\n",
       "      <td>20/01/1562</td>\n",
       "      <td>20/01/1563</td>\n",
       "      <td>Bartoli Cosimo</td>\n",
       "      <td>Venezia</td>\n",
       "      <td>Concino Bartolomeo</td>\n",
       "      <td>NaN</td>\n",
       "      <td>1563-01-20</td>\n",
       "    </tr>\n",
       "    <tr>\n",
       "      <th>4</th>\n",
       "      <td>2976</td>\n",
       "      <td>9.10</td>\n",
       "      <td>NaN</td>\n",
       "      <td>21/01/1562</td>\n",
       "      <td>21/01/1563</td>\n",
       "      <td>Bartoli Cosimo</td>\n",
       "      <td>Venezia</td>\n",
       "      <td>[Cosimo I de' Medici]</td>\n",
       "      <td>Manca la carta più esterna con scritto il dest...</td>\n",
       "      <td>1563-01-21</td>\n",
       "    </tr>\n",
       "    <tr>\n",
       "      <th>...</th>\n",
       "      <td>...</td>\n",
       "      <td>...</td>\n",
       "      <td>...</td>\n",
       "      <td>...</td>\n",
       "      <td>...</td>\n",
       "      <td>...</td>\n",
       "      <td>...</td>\n",
       "      <td>...</td>\n",
       "      <td>...</td>\n",
       "      <td>...</td>\n",
       "    </tr>\n",
       "    <tr>\n",
       "      <th>135</th>\n",
       "      <td>2976</td>\n",
       "      <td>340,341</td>\n",
       "      <td>NaN</td>\n",
       "      <td>27/10/1565</td>\n",
       "      <td>27/10/1565</td>\n",
       "      <td>Bartoli Cosimo</td>\n",
       "      <td>Venezia</td>\n",
       "      <td>NaN</td>\n",
       "      <td>Manca la carta più esterna con scritto il dest...</td>\n",
       "      <td>1565-10-27</td>\n",
       "    </tr>\n",
       "    <tr>\n",
       "      <th>136</th>\n",
       "      <td>2976</td>\n",
       "      <td>342,355</td>\n",
       "      <td>NaN</td>\n",
       "      <td>03/11/1565</td>\n",
       "      <td>03/11/1565</td>\n",
       "      <td>Bartoli Cosimo</td>\n",
       "      <td>Venezia</td>\n",
       "      <td>Cosimo I de' Medici</td>\n",
       "      <td>NaN</td>\n",
       "      <td>1565-11-03</td>\n",
       "    </tr>\n",
       "    <tr>\n",
       "      <th>137</th>\n",
       "      <td>2976</td>\n",
       "      <td>343,350</td>\n",
       "      <td>NaN</td>\n",
       "      <td>10/11/1565</td>\n",
       "      <td>10/11/1565</td>\n",
       "      <td>Bartoli Cosimo</td>\n",
       "      <td>Venezia</td>\n",
       "      <td>Cosimo I de' Medici</td>\n",
       "      <td>NaN</td>\n",
       "      <td>1565-11-10</td>\n",
       "    </tr>\n",
       "    <tr>\n",
       "      <th>138</th>\n",
       "      <td>2976</td>\n",
       "      <td>344,349</td>\n",
       "      <td>NaN</td>\n",
       "      <td>24/11/1565</td>\n",
       "      <td>24/11/1565</td>\n",
       "      <td>Bartoli Cosimo</td>\n",
       "      <td>Venezia</td>\n",
       "      <td>Cosimo I de' Medici</td>\n",
       "      <td>NaN</td>\n",
       "      <td>1565-11-24</td>\n",
       "    </tr>\n",
       "    <tr>\n",
       "      <th>141</th>\n",
       "      <td>2976</td>\n",
       "      <td>351,354</td>\n",
       "      <td>NaN</td>\n",
       "      <td>07/12/1565</td>\n",
       "      <td>07/12/1565</td>\n",
       "      <td>Bartoli Cosimo</td>\n",
       "      <td>Venezia</td>\n",
       "      <td>Francesco I de' Medici</td>\n",
       "      <td>NaN</td>\n",
       "      <td>1565-12-07</td>\n",
       "    </tr>\n",
       "  </tbody>\n",
       "</table>\n",
       "<p>122 rows × 10 columns</p>\n",
       "</div>"
      ],
      "text/plain": [
       "     Volume           Folios           Order Date written on the document  \\\n",
       "0      2976              1.2             NaN                   07/01/1562   \n",
       "1      2976              3.4             NaN                   13/01/1562   \n",
       "2      2976  5.14 6.13 7.12   5,7,12,14,6,13                   19/01/1563   \n",
       "3      2976             8.11             NaN                   20/01/1562   \n",
       "4      2976             9.10             NaN                   21/01/1562   \n",
       "..      ...              ...             ...                          ...   \n",
       "135    2976          340,341             NaN                   27/10/1565   \n",
       "136    2976          342,355             NaN                   03/11/1565   \n",
       "137    2976          343,350             NaN                   10/11/1565   \n",
       "138    2976          344,349             NaN                   24/11/1565   \n",
       "141    2976          351,354             NaN                   07/12/1565   \n",
       "\n",
       "    Modern Date          Sender Sender Place               Recipient  \\\n",
       "0    07/01/1563  Bartoli Cosimo      Venezia     Cosimo I de' Medici   \n",
       "1    13/01/1563  Bartoli Cosimo      Venezia     Cosimo I de' Medici   \n",
       "2    19/01/1564  Bartoli Cosimo      Venezia     Cosimo I de' Medici   \n",
       "3    20/01/1563  Bartoli Cosimo      Venezia      Concino Bartolomeo   \n",
       "4    21/01/1563  Bartoli Cosimo      Venezia   [Cosimo I de' Medici]   \n",
       "..          ...             ...          ...                     ...   \n",
       "135  27/10/1565  Bartoli Cosimo      Venezia                     NaN   \n",
       "136  03/11/1565  Bartoli Cosimo      Venezia     Cosimo I de' Medici   \n",
       "137  10/11/1565  Bartoli Cosimo      Venezia     Cosimo I de' Medici   \n",
       "138  24/11/1565  Bartoli Cosimo      Venezia     Cosimo I de' Medici   \n",
       "141  07/12/1565  Bartoli Cosimo      Venezia  Francesco I de' Medici   \n",
       "\n",
       "                                                 Notes parsed_date  \n",
       "0                                                  NaN  1563-01-07  \n",
       "1                                                  NaN  1563-01-13  \n",
       "2                                                  NaN  1564-01-19  \n",
       "3                                                  NaN  1563-01-20  \n",
       "4    Manca la carta più esterna con scritto il dest...  1563-01-21  \n",
       "..                                                 ...         ...  \n",
       "135  Manca la carta più esterna con scritto il dest...  1565-10-27  \n",
       "136                                                NaN  1565-11-03  \n",
       "137                                                NaN  1565-11-10  \n",
       "138                                                NaN  1565-11-24  \n",
       "141                                                NaN  1565-12-07  \n",
       "\n",
       "[122 rows x 10 columns]"
      ]
     },
     "execution_count": 106,
     "metadata": {},
     "output_type": "execute_result"
    }
   ],
   "source": [
    "bartoli[~_is_Avviso]"
   ]
  },
  {
   "cell_type": "code",
   "execution_count": null,
   "metadata": {},
   "outputs": [],
   "source": [
    "bartoli[_filter_Bartoli].tail(20)\n"
   ]
  },
  {
   "cell_type": "code",
   "execution_count": null,
   "metadata": {},
   "outputs": [],
   "source": [
    "pd.to_datetime(bartoli['Modern Date'], format='%d/%m/%Y')"
   ]
  },
  {
   "cell_type": "code",
   "execution_count": 107,
   "metadata": {},
   "outputs": [
    {
     "data": {
      "text/plain": [
       "array([\"Cosimo I de' Medici\", 'Concino Bartolomeo',\n",
       "       \"[Cosimo I de' Medici]\", 'Orlandi Francesco',\n",
       "       \"Francesco I de' Medici\", nan], dtype=object)"
      ]
     },
     "execution_count": 107,
     "metadata": {},
     "output_type": "execute_result"
    }
   ],
   "source": [
    "bartoli['Recipient'].unique()"
   ]
  },
  {
   "cell_type": "code",
   "execution_count": 108,
   "metadata": {},
   "outputs": [
    {
     "data": {
      "text/plain": [
       "Cosimo I de' Medici       68\n",
       "[Cosimo I de' Medici]     29\n",
       "Francesco I de' Medici    14\n",
       "Concino Bartolomeo         8\n",
       "Orlandi Francesco          1\n",
       "Name: Recipient, dtype: int64"
      ]
     },
     "execution_count": 108,
     "metadata": {},
     "output_type": "execute_result"
    }
   ],
   "source": [
    "bartoli['Recipient'].value_counts()"
   ]
  },
  {
   "cell_type": "code",
   "execution_count": 109,
   "metadata": {},
   "outputs": [],
   "source": [
    "bartoli['clean_recipients'] = bartoli['Recipient'].str.strip('[]')"
   ]
  },
  {
   "cell_type": "code",
   "execution_count": 110,
   "metadata": {},
   "outputs": [
    {
     "data": {
      "text/plain": [
       "Cosimo I de' Medici       97\n",
       "Francesco I de' Medici    14\n",
       "Concino Bartolomeo         8\n",
       "Orlandi Francesco          1\n",
       "Name: clean_recipients, dtype: int64"
      ]
     },
     "execution_count": 110,
     "metadata": {},
     "output_type": "execute_result"
    }
   ],
   "source": [
    "bartoli['clean_recipients'].value_counts()"
   ]
  },
  {
   "cell_type": "markdown",
   "metadata": {},
   "source": [
    "## H.  Itineraries Data and Network"
   ]
  },
  {
   "cell_type": "code",
   "execution_count": null,
   "metadata": {},
   "outputs": [],
   "source": [
    "itineraries = pd.read_csv('https://raw.githubusercontent.com/rmidura/emdigit/main/Edge_Table.tsv', sep='\\t')"
   ]
  },
  {
   "cell_type": "code",
   "execution_count": null,
   "metadata": {},
   "outputs": [],
   "source": [
    "itineraries.head['Edge_Type_Last_Date']"
   ]
  },
  {
   "cell_type": "markdown",
   "metadata": {},
   "source": [
    "### use tab for autocomplete"
   ]
  },
  {
   "cell_type": "code",
   "execution_count": null,
   "metadata": {},
   "outputs": [],
   "source": [
    "edges = list(zip(itineraries['Source'],itineraries['Target']))"
   ]
  },
  {
   "cell_type": "code",
   "execution_count": null,
   "metadata": {},
   "outputs": [],
   "source": [
    "G = nx.Graph()"
   ]
  },
  {
   "cell_type": "code",
   "execution_count": null,
   "metadata": {},
   "outputs": [],
   "source": [
    "G.add_edges_from(edges)"
   ]
  },
  {
   "cell_type": "code",
   "execution_count": null,
   "metadata": {},
   "outputs": [],
   "source": [
    "import pyvis"
   ]
  },
  {
   "cell_type": "code",
   "execution_count": null,
   "metadata": {},
   "outputs": [],
   "source": [
    "pyvis_graph = pyvis.network.Network(notebook=True, height='900px', width='900px')"
   ]
  },
  {
   "cell_type": "code",
   "execution_count": null,
   "metadata": {},
   "outputs": [],
   "source": [
    "pyvis_graph.from_nx(G)"
   ]
  },
  {
   "cell_type": "code",
   "execution_count": null,
   "metadata": {},
   "outputs": [],
   "source": [
    "pyvis_graph.show('our_graph.html')"
   ]
  },
  {
   "cell_type": "markdown",
   "metadata": {},
   "source": [
    "## I. Compagnie Data From Laura Blom"
   ]
  },
  {
   "cell_type": "code",
   "execution_count": 111,
   "metadata": {},
   "outputs": [],
   "source": [
    "compagnie = pd.read_csv(compagnie_data)\n"
   ]
  },
  {
   "cell_type": "code",
   "execution_count": 112,
   "metadata": {},
   "outputs": [
    {
     "data": {
      "text/plain": [
       "(24, 7)"
      ]
     },
     "execution_count": 112,
     "metadata": {},
     "output_type": "execute_result"
    }
   ],
   "source": [
    "compagnie.shape"
   ]
  },
  {
   "cell_type": "code",
   "execution_count": null,
   "metadata": {},
   "outputs": [],
   "source": []
  }
 ],
 "metadata": {
  "colab": {
   "name": "DDL_2022_Pandas_Jupyter.ipynb",
   "provenance": []
  },
  "kernelspec": {
   "display_name": "Python 3 (ipykernel)",
   "language": "python",
   "name": "python3"
  },
  "language_info": {
   "codemirror_mode": {
    "name": "ipython",
    "version": 3
   },
   "file_extension": ".py",
   "mimetype": "text/x-python",
   "name": "python",
   "nbconvert_exporter": "python",
   "pygments_lexer": "ipython3",
   "version": "3.8.12"
  },
  "toc": {
   "base_numbering": 1,
   "nav_menu": {},
   "number_sections": true,
   "sideBar": true,
   "skip_h1_title": false,
   "title_cell": "Table of Contents",
   "title_sidebar": "Contents",
   "toc_cell": false,
   "toc_position": {},
   "toc_section_display": true,
   "toc_window_display": false
  }
 },
 "nbformat": 4,
 "nbformat_minor": 4
}
