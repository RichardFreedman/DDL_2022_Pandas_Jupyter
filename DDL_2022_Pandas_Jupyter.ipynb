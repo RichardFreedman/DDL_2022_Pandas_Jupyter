{
 "cells": [
  {
   "cell_type": "markdown",
   "metadata": {
    "id": "9K8MnxhaIImC"
   },
   "source": [
    "# RSA DDL 2022:  Using Jupyter Notebooks and Pandas to Work with Data\n",
    "\n",
    "Richard Freedman (Haverford College)<br>\n",
    "rfreedma@haverford.edu  <br>\n",
    "https://orcid.org/0000-0001-5550-3674 <br>\n",
    "\n",
    "Daniel Russo-Batterham (The University of Melbourne) <br>\n",
    "daniel.russo@unimelb.edu.au <br>\n",
    "https://orcid.org/0000-0001-7550-528X <br>\n"
   ]
  },
  {
   "cell_type": "markdown",
   "metadata": {
    "id": "WhdBzidHIImH"
   },
   "source": [
    "## A. Introduction\n",
    "\n",
    "\n",
    "* **Jupyter Notebooks** allow anyone to run **Python** code in any browser, without the need to use the terminal or command line\n",
    "\n",
    "* **Jupyter Notebooks** are organized as 'cells', which can be **commentary** (like this one, which is static), or **code** (those below, which produce dyanmic output in the form of charts or tabular data frames.  \n",
    "\n",
    "* To run an individual cell, use the **`arrow/run`** command at the top of the Notebook, or just press **`Shift + Enter`** on your keyboard.\n"
   ]
  },
  {
   "cell_type": "markdown",
   "metadata": {
    "id": "dZVsIj-mIImH"
   },
   "source": [
    "### A.1 Import Libraries\n",
    "\n",
    "Before we can do anything we need to import the python tools we need:\n",
    "\n",
    "* **pandas** is the main library\n",
    "* **matplot** will help us render graphs and charts\n",
    "* **folium** will help us with GIS and maps\n",
    "* there are dozens of other standard libraries; if they work with Python, they will work with Jupyter and Pandas"
   ]
  },
  {
   "cell_type": "code",
   "execution_count": 35,
   "metadata": {
    "ExecuteTime": {
     "end_time": "2022-02-10T23:28:15.994052Z",
     "start_time": "2022-02-10T23:28:14.791696Z"
    },
    "id": "3_H8IHsFIImI"
   },
   "outputs": [],
   "source": [
    "import pandas as pd\n",
    "import matplotlib.pyplot as plt\n",
    "import folium"
   ]
  },
  {
   "cell_type": "markdown",
   "metadata": {
    "id": "-b7jBmh9RMPG"
   },
   "source": [
    "### A.2  URLs of our Data Sets"
   ]
  },
  {
   "cell_type": "code",
   "execution_count": 36,
   "metadata": {
    "id": "tIVBIYR-QQTr"
   },
   "outputs": [],
   "source": [
    "emblematica_books = \"data_files/bookObjects.csv\"\n",
    "emblematica_emblems = \"data_files/emblemObjects.csv\"\n",
    "decima_data = \"data_files/Decima_data.csv\""
   ]
  },
  {
   "cell_type": "markdown",
   "metadata": {
    "id": "KHJ2vDklIImM"
   },
   "source": [
    "### A.3  Make a DataFrame\n",
    "\n",
    "* The basic unit of work in Pandas is the DataFrame (a table representing the data as columns (with the headings from our CSV files) and rows.\n",
    "* The left-hand column is called the `index`.  Here it's simply a number, but we can change that.  **NB**:  index starts at \"0\"!\n",
    "\n",
    "**Create a DataFrame** by importing one of the CSV files.  We'll also give the frame a name (`books`):"
   ]
  },
  {
   "cell_type": "code",
   "execution_count": 106,
   "metadata": {
    "ExecuteTime": {
     "end_time": "2022-02-10T23:28:16.147645Z",
     "start_time": "2022-02-10T23:28:16.132349Z"
    },
    "id": "MVcLXEIyIImN"
   },
   "outputs": [],
   "source": [
    "books = pd.read_csv(emblematica_books)"
   ]
  },
  {
   "cell_type": "markdown",
   "metadata": {
    "id": "yIAtzsXQIImO"
   },
   "source": [
    "### A.4 Inspect the DataFrame\n",
    "\n",
    "Now we can look at the data in various ways to see what's here:\n",
    "\n",
    "* `books.head()` shows us just the first five entries (for brevity).  \n",
    "* We could also see `books.tail()`, or `books.sample(5)` to see a random sample of five.\n",
    "* `books.shape` will tell us the size of our frame:  how many rows and columns\n",
    "\n"
   ]
  },
  {
   "cell_type": "code",
   "execution_count": 41,
   "metadata": {
    "ExecuteTime": {
     "end_time": "2022-02-10T23:28:16.169861Z",
     "start_time": "2022-02-10T23:28:16.150328Z"
    },
    "colab": {
     "base_uri": "https://localhost:8080/",
     "height": 583
    },
    "id": "9EZrZJFzIImO",
    "outputId": "3989d9a8-6ce1-40d8-f090-af3a03822a03"
   },
   "outputs": [
    {
     "data": {
      "text/html": [
       "\n",
       "  <div id=\"df-d817bb40-9427-4d54-a4e5-008bbfb971d5\">\n",
       "    <div class=\"colab-df-container\">\n",
       "      <div>\n",
       "<style scoped>\n",
       "    .dataframe tbody tr th:only-of-type {\n",
       "        vertical-align: middle;\n",
       "    }\n",
       "\n",
       "    .dataframe tbody tr th {\n",
       "        vertical-align: top;\n",
       "    }\n",
       "\n",
       "    .dataframe thead th {\n",
       "        text-align: right;\n",
       "    }\n",
       "</style>\n",
       "<table border=\"1\" class=\"dataframe\">\n",
       "  <thead>\n",
       "    <tr style=\"text-align: right;\">\n",
       "      <th></th>\n",
       "      <th>Book_ID</th>\n",
       "      <th>URL_for_Book_Details</th>\n",
       "      <th>Book_Title</th>\n",
       "      <th>Publication_Date</th>\n",
       "      <th>Publisher</th>\n",
       "      <th>Place_of_Publication</th>\n",
       "      <th>Author_1</th>\n",
       "      <th>Author_2</th>\n",
       "      <th>Author_3</th>\n",
       "      <th>Author_4</th>\n",
       "      <th>Author_5</th>\n",
       "      <th>Contributor_1</th>\n",
       "      <th>Contributor_2</th>\n",
       "      <th>Contributor_3</th>\n",
       "    </tr>\n",
       "  </thead>\n",
       "  <tbody>\n",
       "    <tr>\n",
       "      <th>0</th>\n",
       "      <td>emblematapolitic00isel</td>\n",
       "      <td>http://emblematica.library.illinois.edu/detail...</td>\n",
       "      <td>Emblemata politica: in aula magna Curiµ Norinb...</td>\n",
       "      <td>1617</td>\n",
       "      <td>NaN</td>\n",
       "      <td>Nurembergµ</td>\n",
       "      <td>Iselberg, Peter, ca. 1568-ca. 1630</td>\n",
       "      <td>Remus, Georg, 1561-1625</td>\n",
       "      <td>NaN</td>\n",
       "      <td>NaN</td>\n",
       "      <td>NaN</td>\n",
       "      <td>NaN</td>\n",
       "      <td>NaN</td>\n",
       "      <td>NaN</td>\n",
       "    </tr>\n",
       "    <tr>\n",
       "      <th>1</th>\n",
       "      <td>645803367</td>\n",
       "      <td>http://emblematica.library.illinois.edu/detail...</td>\n",
       "      <td>Iter parallelum Phoebi Occidentis &amp; Orientis J...</td>\n",
       "      <td>1680</td>\n",
       "      <td>Schwänderus</td>\n",
       "      <td>Osnabrugi</td>\n",
       "      <td>NaN</td>\n",
       "      <td>NaN</td>\n",
       "      <td>NaN</td>\n",
       "      <td>NaN</td>\n",
       "      <td>NaN</td>\n",
       "      <td>Johann Friedrich &lt;Braunschweig-Lüneburg, Herzog&gt;</td>\n",
       "      <td>Ernst August &lt;Hannover, Kurfürst, I.&gt;</td>\n",
       "      <td>Löffler &lt;Junior&gt;</td>\n",
       "    </tr>\n",
       "    <tr>\n",
       "      <th>2</th>\n",
       "      <td>635971542</td>\n",
       "      <td>http://emblematica.library.illinois.edu/detail...</td>\n",
       "      <td>Annvs Positionvm Mathematicarvm</td>\n",
       "      <td>1641</td>\n",
       "      <td>Collegium Societatis Jesu</td>\n",
       "      <td>Lovanii</td>\n",
       "      <td>Ciermans, Joannes</td>\n",
       "      <td>Unverzagt de Ebenfurt, Wolfgangus Philippus Ja...</td>\n",
       "      <td>NaN</td>\n",
       "      <td>NaN</td>\n",
       "      <td>NaN</td>\n",
       "      <td>Ferdinandus &lt;Imperator, II&gt;</td>\n",
       "      <td>Mandekens, Mart.</td>\n",
       "      <td>Neeffs, Jacobus</td>\n",
       "    </tr>\n",
       "    <tr>\n",
       "      <th>3</th>\n",
       "      <td>devisesheroiques00parad</td>\n",
       "      <td>http://emblematica.library.illinois.edu/detail...</td>\n",
       "      <td>Devises heroiques, et emblemes</td>\n",
       "      <td>1614</td>\n",
       "      <td>Chez Jean Millot ...</td>\n",
       "      <td>A Paris</td>\n",
       "      <td>Paradin, Claude, 16th cent</td>\n",
       "      <td>Amboise, Franðcois d', 1550-1620</td>\n",
       "      <td>NaN</td>\n",
       "      <td>NaN</td>\n",
       "      <td>NaN</td>\n",
       "      <td>NaN</td>\n",
       "      <td>NaN</td>\n",
       "      <td>NaN</td>\n",
       "    </tr>\n",
       "    <tr>\n",
       "      <th>4</th>\n",
       "      <td>386577072</td>\n",
       "      <td>http://emblematica.library.illinois.edu/detail...</td>\n",
       "      <td>Kunst-Göttin Minerva Liebreiche Entdeckung/ Wi...</td>\n",
       "      <td>1704</td>\n",
       "      <td>Kröninger</td>\n",
       "      <td>Augspurg</td>\n",
       "      <td>Ripa, Cesare</td>\n",
       "      <td>NaN</td>\n",
       "      <td>NaN</td>\n",
       "      <td>NaN</td>\n",
       "      <td>NaN</td>\n",
       "      <td>Kroniger, Lorenz</td>\n",
       "      <td>Gottlieb Göbel Erben</td>\n",
       "      <td>NaN</td>\n",
       "    </tr>\n",
       "  </tbody>\n",
       "</table>\n",
       "</div>\n",
       "      <button class=\"colab-df-convert\" onclick=\"convertToInteractive('df-d817bb40-9427-4d54-a4e5-008bbfb971d5')\"\n",
       "              title=\"Convert this dataframe to an interactive table.\"\n",
       "              style=\"display:none;\">\n",
       "        \n",
       "  <svg xmlns=\"http://www.w3.org/2000/svg\" height=\"24px\"viewBox=\"0 0 24 24\"\n",
       "       width=\"24px\">\n",
       "    <path d=\"M0 0h24v24H0V0z\" fill=\"none\"/>\n",
       "    <path d=\"M18.56 5.44l.94 2.06.94-2.06 2.06-.94-2.06-.94-.94-2.06-.94 2.06-2.06.94zm-11 1L8.5 8.5l.94-2.06 2.06-.94-2.06-.94L8.5 2.5l-.94 2.06-2.06.94zm10 10l.94 2.06.94-2.06 2.06-.94-2.06-.94-.94-2.06-.94 2.06-2.06.94z\"/><path d=\"M17.41 7.96l-1.37-1.37c-.4-.4-.92-.59-1.43-.59-.52 0-1.04.2-1.43.59L10.3 9.45l-7.72 7.72c-.78.78-.78 2.05 0 2.83L4 21.41c.39.39.9.59 1.41.59.51 0 1.02-.2 1.41-.59l7.78-7.78 2.81-2.81c.8-.78.8-2.07 0-2.86zM5.41 20L4 18.59l7.72-7.72 1.47 1.35L5.41 20z\"/>\n",
       "  </svg>\n",
       "      </button>\n",
       "      \n",
       "  <style>\n",
       "    .colab-df-container {\n",
       "      display:flex;\n",
       "      flex-wrap:wrap;\n",
       "      gap: 12px;\n",
       "    }\n",
       "\n",
       "    .colab-df-convert {\n",
       "      background-color: #E8F0FE;\n",
       "      border: none;\n",
       "      border-radius: 50%;\n",
       "      cursor: pointer;\n",
       "      display: none;\n",
       "      fill: #1967D2;\n",
       "      height: 32px;\n",
       "      padding: 0 0 0 0;\n",
       "      width: 32px;\n",
       "    }\n",
       "\n",
       "    .colab-df-convert:hover {\n",
       "      background-color: #E2EBFA;\n",
       "      box-shadow: 0px 1px 2px rgba(60, 64, 67, 0.3), 0px 1px 3px 1px rgba(60, 64, 67, 0.15);\n",
       "      fill: #174EA6;\n",
       "    }\n",
       "\n",
       "    [theme=dark] .colab-df-convert {\n",
       "      background-color: #3B4455;\n",
       "      fill: #D2E3FC;\n",
       "    }\n",
       "\n",
       "    [theme=dark] .colab-df-convert:hover {\n",
       "      background-color: #434B5C;\n",
       "      box-shadow: 0px 1px 3px 1px rgba(0, 0, 0, 0.15);\n",
       "      filter: drop-shadow(0px 1px 2px rgba(0, 0, 0, 0.3));\n",
       "      fill: #FFFFFF;\n",
       "    }\n",
       "  </style>\n",
       "\n",
       "      <script>\n",
       "        const buttonEl =\n",
       "          document.querySelector('#df-d817bb40-9427-4d54-a4e5-008bbfb971d5 button.colab-df-convert');\n",
       "        buttonEl.style.display =\n",
       "          google.colab.kernel.accessAllowed ? 'block' : 'none';\n",
       "\n",
       "        async function convertToInteractive(key) {\n",
       "          const element = document.querySelector('#df-d817bb40-9427-4d54-a4e5-008bbfb971d5');\n",
       "          const dataTable =\n",
       "            await google.colab.kernel.invokeFunction('convertToInteractive',\n",
       "                                                     [key], {});\n",
       "          if (!dataTable) return;\n",
       "\n",
       "          const docLinkHtml = 'Like what you see? Visit the ' +\n",
       "            '<a target=\"_blank\" href=https://colab.research.google.com/notebooks/data_table.ipynb>data table notebook</a>'\n",
       "            + ' to learn more about interactive tables.';\n",
       "          element.innerHTML = '';\n",
       "          dataTable['output_type'] = 'display_data';\n",
       "          await google.colab.output.renderOutput(dataTable, element);\n",
       "          const docLink = document.createElement('div');\n",
       "          docLink.innerHTML = docLinkHtml;\n",
       "          element.appendChild(docLink);\n",
       "        }\n",
       "      </script>\n",
       "    </div>\n",
       "  </div>\n",
       "  "
      ],
      "text/plain": [
       "                   Book_ID  ...     Contributor_3\n",
       "0   emblematapolitic00isel  ...               NaN\n",
       "1                645803367  ...  Löffler <Junior>\n",
       "2                635971542  ...   Neeffs, Jacobus\n",
       "3  devisesheroiques00parad  ...               NaN\n",
       "4                386577072  ...               NaN\n",
       "\n",
       "[5 rows x 14 columns]"
      ]
     },
     "execution_count": 41,
     "metadata": {},
     "output_type": "execute_result"
    }
   ],
   "source": [
    "books.head()"
   ]
  },
  {
   "cell_type": "markdown",
   "metadata": {
    "id": "OxezLWpBIImP"
   },
   "source": [
    "Overall size of our dataframe:"
   ]
  },
  {
   "cell_type": "code",
   "execution_count": 109,
   "metadata": {
    "ExecuteTime": {
     "end_time": "2022-02-10T23:28:16.176794Z",
     "start_time": "2022-02-10T23:28:16.172052Z"
    },
    "colab": {
     "base_uri": "https://localhost:8080/"
    },
    "id": "OiCWcuEoIImQ",
    "outputId": "0dd54477-40b8-4d70-ea65-32fec03cdcf4"
   },
   "outputs": [
    {
     "data": {
      "text/plain": [
       "(47, 14)"
      ]
     },
     "execution_count": 109,
     "metadata": {},
     "output_type": "execute_result"
    }
   ],
   "source": [
    "books.shape"
   ]
  },
  {
   "cell_type": "markdown",
   "metadata": {
    "id": "Z0a9PulFY-W-"
   },
   "source": [
    "#### We found some duplicate books, so let's drop one of those"
   ]
  },
  {
   "cell_type": "code",
   "execution_count": 108,
   "metadata": {
    "id": "wY-nDPQfYBzq"
   },
   "outputs": [],
   "source": [
    "books = books.drop_duplicates()"
   ]
  },
  {
   "cell_type": "markdown",
   "metadata": {
    "id": "M0GBzE-1IImQ"
   },
   "source": [
    "## B. Working with Column Data\n",
    "\n",
    "### B.1 Get Columns and Values\n",
    "\n",
    "* We now start to look more closely the columns\n",
    "* `books.columns` will give us a list of the column names\n",
    "* `books.columns.sort_values()`\n",
    "* Select one:  `books[\"Place_of_Publication\"]`\n",
    "* Count the number of unique values: `books[\"Place_of_Publication\"].nunique()`\n",
    "* Count the number of entries for each value:  `books[\"Place_of_Publication\"].value_counts()`"
   ]
  },
  {
   "cell_type": "markdown",
   "metadata": {
    "id": "qTNTWICgIImR"
   },
   "source": [
    "#### We can list out the columns like this:"
   ]
  },
  {
   "cell_type": "code",
   "execution_count": 42,
   "metadata": {
    "ExecuteTime": {
     "end_time": "2022-02-10T23:28:16.182453Z",
     "start_time": "2022-02-10T23:28:16.178472Z"
    },
    "colab": {
     "base_uri": "https://localhost:8080/"
    },
    "id": "Xx6aHmNeIImR",
    "outputId": "d1b2954d-22b9-497b-8646-49a69de3a96f"
   },
   "outputs": [
    {
     "data": {
      "text/plain": [
       "Index(['Book_ID', 'URL_for_Book_Details', 'Book_Title', 'Publication_Date',\n",
       "       'Publisher', 'Place_of_Publication', 'Author_1', 'Author_2', 'Author_3',\n",
       "       'Author_4', 'Author_5', 'Contributor_1', 'Contributor_2',\n",
       "       'Contributor_3'],\n",
       "      dtype='object')"
      ]
     },
     "execution_count": 42,
     "metadata": {},
     "output_type": "execute_result"
    }
   ],
   "source": [
    "books.columns"
   ]
  },
  {
   "cell_type": "markdown",
   "metadata": {
    "id": "-eLbZbYnIImR"
   },
   "source": [
    "#### And put them in alphabetical order"
   ]
  },
  {
   "cell_type": "code",
   "execution_count": 43,
   "metadata": {
    "ExecuteTime": {
     "end_time": "2022-02-10T23:28:16.188822Z",
     "start_time": "2022-02-10T23:28:16.184107Z"
    },
    "colab": {
     "base_uri": "https://localhost:8080/"
    },
    "id": "wVlYx_hRIImS",
    "outputId": "9b8a0dc0-415d-426c-e67d-2941ef00bd12"
   },
   "outputs": [
    {
     "data": {
      "text/plain": [
       "Index(['Author_1', 'Author_2', 'Author_3', 'Author_4', 'Author_5', 'Book_ID',\n",
       "       'Book_Title', 'Contributor_1', 'Contributor_2', 'Contributor_3',\n",
       "       'Place_of_Publication', 'Publication_Date', 'Publisher',\n",
       "       'URL_for_Book_Details'],\n",
       "      dtype='object')"
      ]
     },
     "execution_count": 43,
     "metadata": {},
     "output_type": "execute_result"
    }
   ],
   "source": [
    "books.columns.sort_values()"
   ]
  },
  {
   "cell_type": "markdown",
   "metadata": {
    "id": "ocLkZ8C3R6Rr"
   },
   "source": [
    "#### An individual column is represented as a \"Series\""
   ]
  },
  {
   "cell_type": "code",
   "execution_count": 46,
   "metadata": {
    "ExecuteTime": {
     "end_time": "2022-02-10T23:28:16.197447Z",
     "start_time": "2022-02-10T23:28:16.192708Z"
    },
    "colab": {
     "base_uri": "https://localhost:8080/"
    },
    "id": "Fu7Db56iIImS",
    "outputId": "d7f7aed6-de6b-491d-fd3f-84f6e5bb9158"
   },
   "outputs": [
    {
     "data": {
      "text/plain": [
       "0                          Nurembergµ\n",
       "1                           Osnabrugi\n",
       "2                             Lovanii\n",
       "3                             A Paris\n",
       "4                            Augspurg\n",
       "5               Francofurti ad Moenum\n",
       "6                          Nuremberg?\n",
       "7                            Bononiae\n",
       "8                            Nürnberg\n",
       "9                         Francofurti\n",
       "10                         Heidelberg\n",
       "11                           Augspurg\n",
       "12                           Augspurg\n",
       "13                           Augspurg\n",
       "14                          Saltzburg\n",
       "15                        Heidelbergæ\n",
       "16                             London\n",
       "17                           Coloniae\n",
       "18                          Bruxellae\n",
       "19                             Leiden\n",
       "20                          Amsterdam\n",
       "21                            Lugduni\n",
       "22                               Lyon\n",
       "23    Impresso en la ciudad de Najera\n",
       "24                            Patauij\n",
       "25       Excvsvm Avgvstæ Vindelicorum\n",
       "26       Excvsvm Avgvstæ Vindelicorum\n",
       "27      Excvsvm Avgvstae Vindelicorum\n",
       "28                           Parisiis\n",
       "29                On les vend a Paris\n",
       "30                On les uend à Paris\n",
       "31                           Parisiis\n",
       "32                            En Lyon\n",
       "33                               Lvgd\n",
       "34                               Lvgd\n",
       "35                            Lvgdvni\n",
       "36                             A Lyon\n",
       "37     Gedruckt zu Franckfurt am Mayn\n",
       "38                  Lvgdvni Batavorvm\n",
       "39                           In Lione\n",
       "40                              Paris\n",
       "41                             A Lyon\n",
       "42                          A Cologny\n",
       "43                           Nürnberg\n",
       "44                          Augstburg\n",
       "45                           Nürnberg\n",
       "46                       Braunschweig\n",
       "47                 Franckfurt am Mayn\n",
       "Name: Place_of_Publication, dtype: object"
      ]
     },
     "execution_count": 46,
     "metadata": {},
     "output_type": "execute_result"
    }
   ],
   "source": [
    "books[\"Place_of_Publication\"]"
   ]
  },
  {
   "cell_type": "code",
   "execution_count": 45,
   "metadata": {
    "ExecuteTime": {
     "end_time": "2022-02-10T23:28:16.204254Z",
     "start_time": "2022-02-10T23:28:16.200420Z"
    },
    "colab": {
     "base_uri": "https://localhost:8080/"
    },
    "id": "LHE1ydMcIImS",
    "outputId": "efe0ff1a-1bb5-4c6b-a9dc-654b959943ae"
   },
   "outputs": [
    {
     "data": {
      "text/plain": [
       "39"
      ]
     },
     "execution_count": 45,
     "metadata": {},
     "output_type": "execute_result"
    }
   ],
   "source": [
    "books[\"Place_of_Publication\"].nunique()"
   ]
  },
  {
   "cell_type": "markdown",
   "metadata": {
    "id": "nqQC5VdVIImT"
   },
   "source": [
    "#### We get a count of the places of publication as follows. Note, however, the subtle orthographical differences:"
   ]
  },
  {
   "cell_type": "code",
   "execution_count": 47,
   "metadata": {
    "ExecuteTime": {
     "end_time": "2022-02-10T23:28:16.211530Z",
     "start_time": "2022-02-10T23:28:16.206232Z"
    },
    "colab": {
     "base_uri": "https://localhost:8080/"
    },
    "id": "7dILy_6EIImT",
    "outputId": "537c9609-4586-496f-8e2e-9951b2dbaa31"
   },
   "outputs": [
    {
     "data": {
      "text/plain": [
       "Augspurg                           4\n",
       "Nürnberg                           3\n",
       "Excvsvm Avgvstæ Vindelicorum       2\n",
       "A Lyon                             2\n",
       "Parisiis                           2\n",
       "Lvgd                               2\n",
       "Excvsvm Avgvstae Vindelicorum      1\n",
       "On les vend a Paris                1\n",
       "On les uend à Paris                1\n",
       "En Lyon                            1\n",
       "Lvgdvni                            1\n",
       "Nurembergµ                         1\n",
       "Patauij                            1\n",
       "Lvgdvni Batavorvm                  1\n",
       "In Lione                           1\n",
       "Paris                              1\n",
       "A Cologny                          1\n",
       "Augstburg                          1\n",
       "Braunschweig                       1\n",
       "Gedruckt zu Franckfurt am Mayn     1\n",
       "Lyon                               1\n",
       "Impresso en la ciudad de Najera    1\n",
       "Osnabrugi                          1\n",
       "Lovanii                            1\n",
       "A Paris                            1\n",
       "Francofurti ad Moenum              1\n",
       "Nuremberg?                         1\n",
       "Bononiae                           1\n",
       "Francofurti                        1\n",
       "Heidelberg                         1\n",
       "Saltzburg                          1\n",
       "Heidelbergæ                        1\n",
       "London                             1\n",
       "Coloniae                           1\n",
       "Bruxellae                          1\n",
       "Leiden                             1\n",
       "Amsterdam                          1\n",
       "Lugduni                            1\n",
       "Franckfurt am Mayn                 1\n",
       "Name: Place_of_Publication, dtype: int64"
      ]
     },
     "execution_count": 47,
     "metadata": {},
     "output_type": "execute_result"
    }
   ],
   "source": [
    "books[\"Place_of_Publication\"].value_counts()"
   ]
  },
  {
   "cell_type": "markdown",
   "metadata": {
    "id": "Hph_ttUMIImU"
   },
   "source": [
    "___"
   ]
  },
  {
   "cell_type": "markdown",
   "metadata": {
    "id": "Ov3ayayPIImV"
   },
   "source": [
    "### B.2  What about all those Author columns?\n",
    "\n",
    "* Notice that in the *Emblematica* data that an individual book can have more than one author.  Each is in a different column\n"
   ]
  },
  {
   "cell_type": "code",
   "execution_count": 14,
   "metadata": {
    "ExecuteTime": {
     "end_time": "2022-02-10T23:28:16.227630Z",
     "start_time": "2022-02-10T23:28:16.213455Z"
    },
    "colab": {
     "base_uri": "https://localhost:8080/",
     "height": 583
    },
    "id": "qnwd4ceEIImU",
    "outputId": "61e3108f-4b82-45f2-a2b9-641ff60622de"
   },
   "outputs": [
    {
     "data": {
      "text/html": [
       "\n",
       "  <div id=\"df-a908377f-4f36-42cd-b44b-efc6d142b69e\">\n",
       "    <div class=\"colab-df-container\">\n",
       "      <div>\n",
       "<style scoped>\n",
       "    .dataframe tbody tr th:only-of-type {\n",
       "        vertical-align: middle;\n",
       "    }\n",
       "\n",
       "    .dataframe tbody tr th {\n",
       "        vertical-align: top;\n",
       "    }\n",
       "\n",
       "    .dataframe thead th {\n",
       "        text-align: right;\n",
       "    }\n",
       "</style>\n",
       "<table border=\"1\" class=\"dataframe\">\n",
       "  <thead>\n",
       "    <tr style=\"text-align: right;\">\n",
       "      <th></th>\n",
       "      <th>Book_ID</th>\n",
       "      <th>URL_for_Book_Details</th>\n",
       "      <th>Book_Title</th>\n",
       "      <th>Publication_Date</th>\n",
       "      <th>Publisher</th>\n",
       "      <th>Place_of_Publication</th>\n",
       "      <th>Author_1</th>\n",
       "      <th>Author_2</th>\n",
       "      <th>Author_3</th>\n",
       "      <th>Author_4</th>\n",
       "      <th>Author_5</th>\n",
       "      <th>Contributor_1</th>\n",
       "      <th>Contributor_2</th>\n",
       "      <th>Contributor_3</th>\n",
       "    </tr>\n",
       "  </thead>\n",
       "  <tbody>\n",
       "    <tr>\n",
       "      <th>0</th>\n",
       "      <td>emblematapolitic00isel</td>\n",
       "      <td>http://emblematica.library.illinois.edu/detail...</td>\n",
       "      <td>Emblemata politica: in aula magna Curiµ Norinb...</td>\n",
       "      <td>1617</td>\n",
       "      <td>NaN</td>\n",
       "      <td>Nurembergµ</td>\n",
       "      <td>Iselberg, Peter, ca. 1568-ca. 1630</td>\n",
       "      <td>Remus, Georg, 1561-1625</td>\n",
       "      <td>NaN</td>\n",
       "      <td>NaN</td>\n",
       "      <td>NaN</td>\n",
       "      <td>NaN</td>\n",
       "      <td>NaN</td>\n",
       "      <td>NaN</td>\n",
       "    </tr>\n",
       "    <tr>\n",
       "      <th>1</th>\n",
       "      <td>645803367</td>\n",
       "      <td>http://emblematica.library.illinois.edu/detail...</td>\n",
       "      <td>Iter parallelum Phoebi Occidentis &amp; Orientis J...</td>\n",
       "      <td>1680</td>\n",
       "      <td>Schwänderus</td>\n",
       "      <td>Osnabrugi</td>\n",
       "      <td>NaN</td>\n",
       "      <td>NaN</td>\n",
       "      <td>NaN</td>\n",
       "      <td>NaN</td>\n",
       "      <td>NaN</td>\n",
       "      <td>Johann Friedrich &lt;Braunschweig-Lüneburg, Herzog&gt;</td>\n",
       "      <td>Ernst August &lt;Hannover, Kurfürst, I.&gt;</td>\n",
       "      <td>Löffler &lt;Junior&gt;</td>\n",
       "    </tr>\n",
       "    <tr>\n",
       "      <th>2</th>\n",
       "      <td>635971542</td>\n",
       "      <td>http://emblematica.library.illinois.edu/detail...</td>\n",
       "      <td>Annvs Positionvm Mathematicarvm</td>\n",
       "      <td>1641</td>\n",
       "      <td>Collegium Societatis Jesu</td>\n",
       "      <td>Lovanii</td>\n",
       "      <td>Ciermans, Joannes</td>\n",
       "      <td>Unverzagt de Ebenfurt, Wolfgangus Philippus Ja...</td>\n",
       "      <td>NaN</td>\n",
       "      <td>NaN</td>\n",
       "      <td>NaN</td>\n",
       "      <td>Ferdinandus &lt;Imperator, II&gt;</td>\n",
       "      <td>Mandekens, Mart.</td>\n",
       "      <td>Neeffs, Jacobus</td>\n",
       "    </tr>\n",
       "    <tr>\n",
       "      <th>3</th>\n",
       "      <td>devisesheroiques00parad</td>\n",
       "      <td>http://emblematica.library.illinois.edu/detail...</td>\n",
       "      <td>Devises heroiques, et emblemes</td>\n",
       "      <td>1614</td>\n",
       "      <td>Chez Jean Millot ...</td>\n",
       "      <td>A Paris</td>\n",
       "      <td>Paradin, Claude, 16th cent</td>\n",
       "      <td>Amboise, Franðcois d', 1550-1620</td>\n",
       "      <td>NaN</td>\n",
       "      <td>NaN</td>\n",
       "      <td>NaN</td>\n",
       "      <td>NaN</td>\n",
       "      <td>NaN</td>\n",
       "      <td>NaN</td>\n",
       "    </tr>\n",
       "    <tr>\n",
       "      <th>4</th>\n",
       "      <td>386577072</td>\n",
       "      <td>http://emblematica.library.illinois.edu/detail...</td>\n",
       "      <td>Kunst-Göttin Minerva Liebreiche Entdeckung/ Wi...</td>\n",
       "      <td>1704</td>\n",
       "      <td>Kröninger</td>\n",
       "      <td>Augspurg</td>\n",
       "      <td>Ripa, Cesare</td>\n",
       "      <td>NaN</td>\n",
       "      <td>NaN</td>\n",
       "      <td>NaN</td>\n",
       "      <td>NaN</td>\n",
       "      <td>Kroniger, Lorenz</td>\n",
       "      <td>Gottlieb Göbel Erben</td>\n",
       "      <td>NaN</td>\n",
       "    </tr>\n",
       "  </tbody>\n",
       "</table>\n",
       "</div>\n",
       "      <button class=\"colab-df-convert\" onclick=\"convertToInteractive('df-a908377f-4f36-42cd-b44b-efc6d142b69e')\"\n",
       "              title=\"Convert this dataframe to an interactive table.\"\n",
       "              style=\"display:none;\">\n",
       "        \n",
       "  <svg xmlns=\"http://www.w3.org/2000/svg\" height=\"24px\"viewBox=\"0 0 24 24\"\n",
       "       width=\"24px\">\n",
       "    <path d=\"M0 0h24v24H0V0z\" fill=\"none\"/>\n",
       "    <path d=\"M18.56 5.44l.94 2.06.94-2.06 2.06-.94-2.06-.94-.94-2.06-.94 2.06-2.06.94zm-11 1L8.5 8.5l.94-2.06 2.06-.94-2.06-.94L8.5 2.5l-.94 2.06-2.06.94zm10 10l.94 2.06.94-2.06 2.06-.94-2.06-.94-.94-2.06-.94 2.06-2.06.94z\"/><path d=\"M17.41 7.96l-1.37-1.37c-.4-.4-.92-.59-1.43-.59-.52 0-1.04.2-1.43.59L10.3 9.45l-7.72 7.72c-.78.78-.78 2.05 0 2.83L4 21.41c.39.39.9.59 1.41.59.51 0 1.02-.2 1.41-.59l7.78-7.78 2.81-2.81c.8-.78.8-2.07 0-2.86zM5.41 20L4 18.59l7.72-7.72 1.47 1.35L5.41 20z\"/>\n",
       "  </svg>\n",
       "      </button>\n",
       "      \n",
       "  <style>\n",
       "    .colab-df-container {\n",
       "      display:flex;\n",
       "      flex-wrap:wrap;\n",
       "      gap: 12px;\n",
       "    }\n",
       "\n",
       "    .colab-df-convert {\n",
       "      background-color: #E8F0FE;\n",
       "      border: none;\n",
       "      border-radius: 50%;\n",
       "      cursor: pointer;\n",
       "      display: none;\n",
       "      fill: #1967D2;\n",
       "      height: 32px;\n",
       "      padding: 0 0 0 0;\n",
       "      width: 32px;\n",
       "    }\n",
       "\n",
       "    .colab-df-convert:hover {\n",
       "      background-color: #E2EBFA;\n",
       "      box-shadow: 0px 1px 2px rgba(60, 64, 67, 0.3), 0px 1px 3px 1px rgba(60, 64, 67, 0.15);\n",
       "      fill: #174EA6;\n",
       "    }\n",
       "\n",
       "    [theme=dark] .colab-df-convert {\n",
       "      background-color: #3B4455;\n",
       "      fill: #D2E3FC;\n",
       "    }\n",
       "\n",
       "    [theme=dark] .colab-df-convert:hover {\n",
       "      background-color: #434B5C;\n",
       "      box-shadow: 0px 1px 3px 1px rgba(0, 0, 0, 0.15);\n",
       "      filter: drop-shadow(0px 1px 2px rgba(0, 0, 0, 0.3));\n",
       "      fill: #FFFFFF;\n",
       "    }\n",
       "  </style>\n",
       "\n",
       "      <script>\n",
       "        const buttonEl =\n",
       "          document.querySelector('#df-a908377f-4f36-42cd-b44b-efc6d142b69e button.colab-df-convert');\n",
       "        buttonEl.style.display =\n",
       "          google.colab.kernel.accessAllowed ? 'block' : 'none';\n",
       "\n",
       "        async function convertToInteractive(key) {\n",
       "          const element = document.querySelector('#df-a908377f-4f36-42cd-b44b-efc6d142b69e');\n",
       "          const dataTable =\n",
       "            await google.colab.kernel.invokeFunction('convertToInteractive',\n",
       "                                                     [key], {});\n",
       "          if (!dataTable) return;\n",
       "\n",
       "          const docLinkHtml = 'Like what you see? Visit the ' +\n",
       "            '<a target=\"_blank\" href=https://colab.research.google.com/notebooks/data_table.ipynb>data table notebook</a>'\n",
       "            + ' to learn more about interactive tables.';\n",
       "          element.innerHTML = '';\n",
       "          dataTable['output_type'] = 'display_data';\n",
       "          await google.colab.output.renderOutput(dataTable, element);\n",
       "          const docLink = document.createElement('div');\n",
       "          docLink.innerHTML = docLinkHtml;\n",
       "          element.appendChild(docLink);\n",
       "        }\n",
       "      </script>\n",
       "    </div>\n",
       "  </div>\n",
       "  "
      ],
      "text/plain": [
       "                   Book_ID  ...     Contributor_3\n",
       "0   emblematapolitic00isel  ...               NaN\n",
       "1                645803367  ...  Löffler <Junior>\n",
       "2                635971542  ...   Neeffs, Jacobus\n",
       "3  devisesheroiques00parad  ...               NaN\n",
       "4                386577072  ...               NaN\n",
       "\n",
       "[5 rows x 14 columns]"
      ]
     },
     "execution_count": 14,
     "metadata": {},
     "output_type": "execute_result"
    }
   ],
   "source": [
    "books.head()"
   ]
  },
  {
   "cell_type": "markdown",
   "metadata": {
    "id": "keaAkM15SY94"
   },
   "source": [
    "#### Using Python's capacity to understand `lists`, we can find just these columns:"
   ]
  },
  {
   "cell_type": "code",
   "execution_count": 48,
   "metadata": {
    "ExecuteTime": {
     "end_time": "2022-02-10T23:28:16.233702Z",
     "start_time": "2022-02-10T23:28:16.229311Z"
    },
    "colab": {
     "base_uri": "https://localhost:8080/"
    },
    "id": "U_EMaQW3IImV",
    "outputId": "807db769-1d6c-4cec-a661-ed5dc981762c"
   },
   "outputs": [
    {
     "data": {
      "text/plain": [
       "['Author_1', 'Author_2', 'Author_3', 'Author_4', 'Author_5']"
      ]
     },
     "execution_count": 48,
     "metadata": {},
     "output_type": "execute_result"
    }
   ],
   "source": [
    "author_columns = [c for c in books.columns if c.startswith(\"Author\")]\n",
    "author_columns"
   ]
  },
  {
   "cell_type": "code",
   "execution_count": 49,
   "metadata": {
    "ExecuteTime": {
     "end_time": "2022-02-10T23:28:16.245900Z",
     "start_time": "2022-02-10T23:28:16.235968Z"
    },
    "colab": {
     "base_uri": "https://localhost:8080/",
     "height": 206
    },
    "id": "7LvZ1sIZIImV",
    "outputId": "fe88c593-8883-4324-a01c-6ca96a630ba7"
   },
   "outputs": [
    {
     "data": {
      "text/html": [
       "\n",
       "  <div id=\"df-1c95818f-90da-4da8-8183-41daccc28670\">\n",
       "    <div class=\"colab-df-container\">\n",
       "      <div>\n",
       "<style scoped>\n",
       "    .dataframe tbody tr th:only-of-type {\n",
       "        vertical-align: middle;\n",
       "    }\n",
       "\n",
       "    .dataframe tbody tr th {\n",
       "        vertical-align: top;\n",
       "    }\n",
       "\n",
       "    .dataframe thead th {\n",
       "        text-align: right;\n",
       "    }\n",
       "</style>\n",
       "<table border=\"1\" class=\"dataframe\">\n",
       "  <thead>\n",
       "    <tr style=\"text-align: right;\">\n",
       "      <th></th>\n",
       "      <th>Author_1</th>\n",
       "      <th>Author_2</th>\n",
       "      <th>Author_3</th>\n",
       "      <th>Author_4</th>\n",
       "      <th>Author_5</th>\n",
       "    </tr>\n",
       "  </thead>\n",
       "  <tbody>\n",
       "    <tr>\n",
       "      <th>0</th>\n",
       "      <td>Iselberg, Peter, ca. 1568-ca. 1630</td>\n",
       "      <td>Remus, Georg, 1561-1625</td>\n",
       "      <td>NaN</td>\n",
       "      <td>NaN</td>\n",
       "      <td>NaN</td>\n",
       "    </tr>\n",
       "    <tr>\n",
       "      <th>1</th>\n",
       "      <td>NaN</td>\n",
       "      <td>NaN</td>\n",
       "      <td>NaN</td>\n",
       "      <td>NaN</td>\n",
       "      <td>NaN</td>\n",
       "    </tr>\n",
       "    <tr>\n",
       "      <th>2</th>\n",
       "      <td>Ciermans, Joannes</td>\n",
       "      <td>Unverzagt de Ebenfurt, Wolfgangus Philippus Ja...</td>\n",
       "      <td>NaN</td>\n",
       "      <td>NaN</td>\n",
       "      <td>NaN</td>\n",
       "    </tr>\n",
       "    <tr>\n",
       "      <th>3</th>\n",
       "      <td>Paradin, Claude, 16th cent</td>\n",
       "      <td>Amboise, Franðcois d', 1550-1620</td>\n",
       "      <td>NaN</td>\n",
       "      <td>NaN</td>\n",
       "      <td>NaN</td>\n",
       "    </tr>\n",
       "    <tr>\n",
       "      <th>4</th>\n",
       "      <td>Ripa, Cesare</td>\n",
       "      <td>NaN</td>\n",
       "      <td>NaN</td>\n",
       "      <td>NaN</td>\n",
       "      <td>NaN</td>\n",
       "    </tr>\n",
       "  </tbody>\n",
       "</table>\n",
       "</div>\n",
       "      <button class=\"colab-df-convert\" onclick=\"convertToInteractive('df-1c95818f-90da-4da8-8183-41daccc28670')\"\n",
       "              title=\"Convert this dataframe to an interactive table.\"\n",
       "              style=\"display:none;\">\n",
       "        \n",
       "  <svg xmlns=\"http://www.w3.org/2000/svg\" height=\"24px\"viewBox=\"0 0 24 24\"\n",
       "       width=\"24px\">\n",
       "    <path d=\"M0 0h24v24H0V0z\" fill=\"none\"/>\n",
       "    <path d=\"M18.56 5.44l.94 2.06.94-2.06 2.06-.94-2.06-.94-.94-2.06-.94 2.06-2.06.94zm-11 1L8.5 8.5l.94-2.06 2.06-.94-2.06-.94L8.5 2.5l-.94 2.06-2.06.94zm10 10l.94 2.06.94-2.06 2.06-.94-2.06-.94-.94-2.06-.94 2.06-2.06.94z\"/><path d=\"M17.41 7.96l-1.37-1.37c-.4-.4-.92-.59-1.43-.59-.52 0-1.04.2-1.43.59L10.3 9.45l-7.72 7.72c-.78.78-.78 2.05 0 2.83L4 21.41c.39.39.9.59 1.41.59.51 0 1.02-.2 1.41-.59l7.78-7.78 2.81-2.81c.8-.78.8-2.07 0-2.86zM5.41 20L4 18.59l7.72-7.72 1.47 1.35L5.41 20z\"/>\n",
       "  </svg>\n",
       "      </button>\n",
       "      \n",
       "  <style>\n",
       "    .colab-df-container {\n",
       "      display:flex;\n",
       "      flex-wrap:wrap;\n",
       "      gap: 12px;\n",
       "    }\n",
       "\n",
       "    .colab-df-convert {\n",
       "      background-color: #E8F0FE;\n",
       "      border: none;\n",
       "      border-radius: 50%;\n",
       "      cursor: pointer;\n",
       "      display: none;\n",
       "      fill: #1967D2;\n",
       "      height: 32px;\n",
       "      padding: 0 0 0 0;\n",
       "      width: 32px;\n",
       "    }\n",
       "\n",
       "    .colab-df-convert:hover {\n",
       "      background-color: #E2EBFA;\n",
       "      box-shadow: 0px 1px 2px rgba(60, 64, 67, 0.3), 0px 1px 3px 1px rgba(60, 64, 67, 0.15);\n",
       "      fill: #174EA6;\n",
       "    }\n",
       "\n",
       "    [theme=dark] .colab-df-convert {\n",
       "      background-color: #3B4455;\n",
       "      fill: #D2E3FC;\n",
       "    }\n",
       "\n",
       "    [theme=dark] .colab-df-convert:hover {\n",
       "      background-color: #434B5C;\n",
       "      box-shadow: 0px 1px 3px 1px rgba(0, 0, 0, 0.15);\n",
       "      filter: drop-shadow(0px 1px 2px rgba(0, 0, 0, 0.3));\n",
       "      fill: #FFFFFF;\n",
       "    }\n",
       "  </style>\n",
       "\n",
       "      <script>\n",
       "        const buttonEl =\n",
       "          document.querySelector('#df-1c95818f-90da-4da8-8183-41daccc28670 button.colab-df-convert');\n",
       "        buttonEl.style.display =\n",
       "          google.colab.kernel.accessAllowed ? 'block' : 'none';\n",
       "\n",
       "        async function convertToInteractive(key) {\n",
       "          const element = document.querySelector('#df-1c95818f-90da-4da8-8183-41daccc28670');\n",
       "          const dataTable =\n",
       "            await google.colab.kernel.invokeFunction('convertToInteractive',\n",
       "                                                     [key], {});\n",
       "          if (!dataTable) return;\n",
       "\n",
       "          const docLinkHtml = 'Like what you see? Visit the ' +\n",
       "            '<a target=\"_blank\" href=https://colab.research.google.com/notebooks/data_table.ipynb>data table notebook</a>'\n",
       "            + ' to learn more about interactive tables.';\n",
       "          element.innerHTML = '';\n",
       "          dataTable['output_type'] = 'display_data';\n",
       "          await google.colab.output.renderOutput(dataTable, element);\n",
       "          const docLink = document.createElement('div');\n",
       "          docLink.innerHTML = docLinkHtml;\n",
       "          element.appendChild(docLink);\n",
       "        }\n",
       "      </script>\n",
       "    </div>\n",
       "  </div>\n",
       "  "
      ],
      "text/plain": [
       "                             Author_1  ... Author_5\n",
       "0  Iselberg, Peter, ca. 1568-ca. 1630  ...      NaN\n",
       "1                                 NaN  ...      NaN\n",
       "2                   Ciermans, Joannes  ...      NaN\n",
       "3          Paradin, Claude, 16th cent  ...      NaN\n",
       "4                        Ripa, Cesare  ...      NaN\n",
       "\n",
       "[5 rows x 5 columns]"
      ]
     },
     "execution_count": 49,
     "metadata": {},
     "output_type": "execute_result"
    }
   ],
   "source": [
    "books[author_columns].head()"
   ]
  },
  {
   "cell_type": "markdown",
   "metadata": {
    "id": "gKtBnMMLIImW"
   },
   "source": [
    "#### And now 'stack' the values for all these columns into one **Series**"
   ]
  },
  {
   "cell_type": "code",
   "execution_count": 50,
   "metadata": {
    "ExecuteTime": {
     "end_time": "2022-02-10T23:28:16.256792Z",
     "start_time": "2022-02-10T23:28:16.247868Z"
    },
    "colab": {
     "base_uri": "https://localhost:8080/"
    },
    "id": "4i2Zk5EEIImW",
    "outputId": "39f11bf5-90dd-4ae5-e54f-b5be99f20482"
   },
   "outputs": [
    {
     "data": {
      "text/plain": [
       "0   Author_1                   Iselberg, Peter, ca. 1568-ca. 1630\n",
       "    Author_2                              Remus, Georg, 1561-1625\n",
       "2   Author_1                                    Ciermans, Joannes\n",
       "    Author_2    Unverzagt de Ebenfurt, Wolfgangus Philippus Ja...\n",
       "3   Author_1                           Paradin, Claude, 16th cent\n",
       "                                      ...                        \n",
       "42  Author_4               Tournes, Jean de, II, active 1568-1584\n",
       "43  Author_1                           Harsdörffer, Georg Philipp\n",
       "45  Author_1                                    Ammannus, Jodocus\n",
       "46  Author_1                                         Geheime, Der\n",
       "47  Author_1                        Ludwig <Anhalt-Köthen, Fürst>\n",
       "Length: 72, dtype: object"
      ]
     },
     "execution_count": 50,
     "metadata": {},
     "output_type": "execute_result"
    }
   ],
   "source": [
    "books[author_columns].stack()"
   ]
  },
  {
   "cell_type": "markdown",
   "metadata": {
    "id": "WcWerle5IImW"
   },
   "source": [
    "#### And count the items in the stacked set"
   ]
  },
  {
   "cell_type": "code",
   "execution_count": 51,
   "metadata": {
    "ExecuteTime": {
     "end_time": "2022-02-10T23:28:16.269512Z",
     "start_time": "2022-02-10T23:28:16.260215Z"
    },
    "colab": {
     "base_uri": "https://localhost:8080/"
    },
    "id": "FY48JaxUIImW",
    "outputId": "118054d6-b163-4827-924c-00e0f843f2b0"
   },
   "outputs": [
    {
     "data": {
      "text/plain": [
       "Alciati, Andrea, 1492-1550                              21\n",
       "Aneau, Barthélemy, -1561                                 4\n",
       "Lefèvre, Jean, 1493-1565                                3\n",
       "Breu, Jörg, approximately 1480-1537                      3\n",
       "Mignault, Claude, approximately 1536-1606                2\n",
       "Stockhammer, Sebastian, sec. XVI                         2\n",
       "Weiditz, Hans, approximately 1495-approximately 1536     2\n",
       "López, Diego, ?-1655                                     1\n",
       "Thuilius, Joannes.                                       1\n",
       "Pignoria, Lorenzo, 1571-1631                             1\n",
       "Morel, Fédéric, approximately 1552-1630                1\n",
       "Iselberg, Peter, ca. 1568-ca. 1630                       1\n",
       "Remus, Georg, 1561-1625                                  1\n",
       "Daza Pinciano, Bernardino.                               1\n",
       "Held, Jeremias.                                          1\n",
       "Marquale, Giovanni.                                      1\n",
       "Tournes, Jean de, II, active 1568-1584                   1\n",
       "Harsdörffer, Georg Philipp                               1\n",
       "Ammannus, Jodocus                                        1\n",
       "Geheime, Der                                             1\n",
       "Hunger, Wolffgang, 1511-1555                             1\n",
       "Feuille, Daniel de la                                    1\n",
       "Elger, Willem den                                        1\n",
       "Veen, Otto van , 1556-1629                               1\n",
       "Ciermans, Joannes                                        1\n",
       "Unverzagt de Ebenfurt, Wolfgangus Philippus Jacobus      1\n",
       "Paradin, Claude, 16th cent                               1\n",
       "Amboise, Franðcois d', 1550-1620                         1\n",
       "Ripa, Cesare                                             1\n",
       "Batillius, Dionysius Lebeus                              1\n",
       "Weigel, Johann Christoph, 1661-1726                      1\n",
       "Maccius, Paulus                                          1\n",
       "Meisner, Daniel                                          1\n",
       "Zetter, Jacob                                            1\n",
       "Camerarius, Joachim                                      1\n",
       "Ovidius Naso, Publius                                    1\n",
       "Zincgref, Julius Wilhelm                                 1\n",
       "Saavedra-Fajardo, Diego de, 1584-1648                    1\n",
       "Astry, James, Sir                                        1\n",
       "Rollenhagen, Gabriel, 1583-1619?                         1\n",
       "Cremcovius, Valens.                                      1\n",
       "Ludwig <Anhalt-Köthen, Fürst>                            1\n",
       "dtype: int64"
      ]
     },
     "execution_count": 51,
     "metadata": {},
     "output_type": "execute_result"
    }
   ],
   "source": [
    "books[author_columns].stack().value_counts()"
   ]
  },
  {
   "cell_type": "markdown",
   "metadata": {
    "id": "HGm993AmIImX"
   },
   "source": [
    "#### All the authors, sorted alphbetically as a list"
   ]
  },
  {
   "cell_type": "code",
   "execution_count": 52,
   "metadata": {
    "ExecuteTime": {
     "end_time": "2022-02-10T23:28:16.290960Z",
     "start_time": "2022-02-10T23:28:16.282477Z"
    },
    "colab": {
     "base_uri": "https://localhost:8080/"
    },
    "id": "IlLoXMUzIImX",
    "outputId": "9e33cb4b-41b8-4c4e-f3bf-15893c020c33"
   },
   "outputs": [
    {
     "data": {
      "text/plain": [
       "['Alciati, Andrea, 1492-1550',\n",
       " \"Amboise, Franðcois d', 1550-1620\",\n",
       " 'Ammannus, Jodocus',\n",
       " 'Aneau, Barthélemy, -1561',\n",
       " 'Astry, James, Sir',\n",
       " 'Batillius, Dionysius Lebeus',\n",
       " 'Breu, Jörg, approximately 1480-1537',\n",
       " 'Camerarius, Joachim',\n",
       " 'Ciermans, Joannes',\n",
       " 'Cremcovius, Valens.',\n",
       " 'Daza Pinciano, Bernardino.',\n",
       " 'Elger, Willem den',\n",
       " 'Feuille, Daniel de la',\n",
       " 'Geheime, Der',\n",
       " 'Harsdörffer, Georg Philipp',\n",
       " 'Held, Jeremias.',\n",
       " 'Hunger, Wolffgang, 1511-1555',\n",
       " 'Iselberg, Peter, ca. 1568-ca. 1630',\n",
       " 'Lefèvre, Jean, 1493-1565',\n",
       " 'Ludwig <Anhalt-Köthen, Fürst>',\n",
       " 'López, Diego, ?-1655',\n",
       " 'Maccius, Paulus',\n",
       " 'Marquale, Giovanni.',\n",
       " 'Meisner, Daniel',\n",
       " 'Mignault, Claude, approximately 1536-1606',\n",
       " 'Morel, Fédéric, approximately 1552-1630',\n",
       " 'Ovidius Naso, Publius',\n",
       " 'Paradin, Claude, 16th cent',\n",
       " 'Pignoria, Lorenzo, 1571-1631',\n",
       " 'Remus, Georg, 1561-1625',\n",
       " 'Ripa, Cesare',\n",
       " 'Rollenhagen, Gabriel, 1583-1619?',\n",
       " 'Saavedra-Fajardo, Diego de, 1584-1648',\n",
       " 'Stockhammer, Sebastian, sec. XVI',\n",
       " 'Thuilius, Joannes.',\n",
       " 'Tournes, Jean de, II, active 1568-1584',\n",
       " 'Unverzagt de Ebenfurt, Wolfgangus Philippus Jacobus',\n",
       " 'Veen, Otto van , 1556-1629',\n",
       " 'Weiditz, Hans, approximately 1495-approximately 1536',\n",
       " 'Weigel, Johann Christoph, 1661-1726',\n",
       " 'Zetter, Jacob',\n",
       " 'Zincgref, Julius Wilhelm']"
      ]
     },
     "execution_count": 52,
     "metadata": {},
     "output_type": "execute_result"
    }
   ],
   "source": [
    "sorted(books[author_columns].stack().unique())"
   ]
  },
  {
   "cell_type": "markdown",
   "metadata": {
    "id": "2OwHfmDjIImX"
   },
   "source": [
    "### B.3 See if you can get a list of contributors \n",
    "\n",
    "It is very similar to the process above:"
   ]
  },
  {
   "cell_type": "code",
   "execution_count": null,
   "metadata": {
    "id": "4tfk2TGJIImX",
    "outputId": "ff97f13d-7b48-47e9-8e74-cfa87c07c6ca"
   },
   "outputs": [
    {
     "data": {
      "text/plain": [
       "Index(['Book_ID', 'URL_for_Book_Details', 'Book_Title', 'Publication_Date',\n",
       "       'Publisher', 'Place_of_Publication', 'Author_1', 'Author_2', 'Author_3',\n",
       "       'Author_4', 'Author_5', 'Contributor_1', 'Contributor_2',\n",
       "       'Contributor_3'],\n",
       "      dtype='object')"
      ]
     },
     "execution_count": 19,
     "metadata": {},
     "output_type": "execute_result"
    }
   ],
   "source": [
    "books.columns"
   ]
  },
  {
   "cell_type": "code",
   "execution_count": null,
   "metadata": {
    "id": "Q3_vpYT7IImY"
   },
   "outputs": [],
   "source": []
  },
  {
   "cell_type": "code",
   "execution_count": null,
   "metadata": {
    "id": "mV8ynkIXIImY"
   },
   "outputs": [],
   "source": []
  },
  {
   "cell_type": "code",
   "execution_count": null,
   "metadata": {
    "id": "-ag_HE0OIImY"
   },
   "outputs": [],
   "source": []
  },
  {
   "cell_type": "code",
   "execution_count": null,
   "metadata": {
    "id": "D1nt5HLoIImY"
   },
   "outputs": [],
   "source": []
  },
  {
   "cell_type": "code",
   "execution_count": null,
   "metadata": {
    "id": "U-ucZZfmIImY"
   },
   "outputs": [],
   "source": []
  },
  {
   "cell_type": "code",
   "execution_count": null,
   "metadata": {
    "id": "hcpBiQ-_IImY"
   },
   "outputs": [],
   "source": []
  },
  {
   "cell_type": "code",
   "execution_count": null,
   "metadata": {
    "id": "7ZKkqYIZIImY"
   },
   "outputs": [],
   "source": []
  },
  {
   "cell_type": "markdown",
   "metadata": {
    "id": "RurS4zK-IImY"
   },
   "source": [
    "___"
   ]
  },
  {
   "cell_type": "markdown",
   "metadata": {
    "id": "PQ4tq0nXIImZ"
   },
   "source": [
    "## C.  Charts and Graphs\n",
    "\n",
    "* Through libraries like **matplot**, Pandas can quickly produce histograms, charts, and graphs of various kinds (these can even be saved as PNG files for publications)"
   ]
  },
  {
   "cell_type": "code",
   "execution_count": 53,
   "metadata": {
    "ExecuteTime": {
     "end_time": "2022-02-10T23:28:16.299958Z",
     "start_time": "2022-02-10T23:28:16.293185Z"
    },
    "colab": {
     "base_uri": "https://localhost:8080/"
    },
    "id": "z05f1NXJIImZ",
    "outputId": "16b00f51-3381-4c46-88d2-4549d2257ff6"
   },
   "outputs": [
    {
     "data": {
      "text/plain": [
       "26    1531\n",
       "25    1531\n",
       "27    1534\n",
       "28    1534\n",
       "40    1536\n",
       "29    1539\n",
       "30    1542\n",
       "31    1542\n",
       "41    1549\n",
       "32    1549\n",
       "33    1550\n",
       "39    1551\n",
       "34    1551\n",
       "22    1552\n",
       "21    1552\n",
       "35    1556\n",
       "36    1558\n",
       "37    1566\n",
       "45    1588\n",
       "38    1591\n",
       "5     1596\n",
       "10    1605\n",
       "17    1611\n",
       "9     1614\n",
       "3     1614\n",
       "42    1615\n",
       "23    1615\n",
       "0     1617\n",
       "24    1621\n",
       "18    1624\n",
       "7     1628\n",
       "2     1641\n",
       "43    1642\n",
       "46    1643\n",
       "47    1646\n",
       "15    1666\n",
       "1     1680\n",
       "14    1685\n",
       "20    1691\n",
       "44    1692\n",
       "13    1695\n",
       "12    1695\n",
       "11    1695\n",
       "8     1700\n",
       "16    1700\n",
       "6     1700\n",
       "19    1703\n",
       "4     1704\n",
       "Name: Publication_Date, dtype: int64"
      ]
     },
     "execution_count": 53,
     "metadata": {},
     "output_type": "execute_result"
    }
   ],
   "source": [
    "books[\"Publication_Date\"].sort_values()"
   ]
  },
  {
   "cell_type": "markdown",
   "metadata": {
    "id": "vxiNUCtJIImZ"
   },
   "source": [
    "#### Here can create histograms of the distribution of the years of publication, and sort them into however many 'bins' we like"
   ]
  },
  {
   "cell_type": "code",
   "execution_count": 54,
   "metadata": {
    "ExecuteTime": {
     "end_time": "2022-02-10T23:28:17.018496Z",
     "start_time": "2022-02-10T23:28:16.303719Z"
    },
    "colab": {
     "base_uri": "https://localhost:8080/",
     "height": 334
    },
    "id": "QJ4rWHsEIImZ",
    "outputId": "a2a797bf-62fd-498a-e45b-c2e785521453"
   },
   "outputs": [
    {
     "data": {
      "image/png": "[encoded data removed]",
      "text/plain": [
       "<Figure size 720x360 with 1 Axes>"
      ]
     },
     "metadata": {
      "needs_background": "light"
     },
     "output_type": "display_data"
    }
   ],
   "source": [
    "books[\"Publication_Date\"].hist(figsize=(10, 5), bins=20)\n",
    "plt.xlabel(\"Year\")\n",
    "plt.ylabel(\"Book count\")\n",
    "plt.show()"
   ]
  },
  {
   "cell_type": "markdown",
   "metadata": {
    "id": "oVgYF0U3IIma"
   },
   "source": [
    "#### Various built-in math functions allow us to run basic statistics.  Libraries like `numpy` permit many more!"
   ]
  },
  {
   "cell_type": "code",
   "execution_count": 57,
   "metadata": {
    "ExecuteTime": {
     "end_time": "2022-02-10T23:28:17.024471Z",
     "start_time": "2022-02-10T23:28:17.020505Z"
    },
    "colab": {
     "base_uri": "https://localhost:8080/"
    },
    "id": "WSqz7U-ZIIma",
    "outputId": "2fc909d5-7588-4e29-98b9-c5030833a0c6"
   },
   "outputs": [
    {
     "data": {
      "text/plain": [
       "1611.25"
      ]
     },
     "execution_count": 57,
     "metadata": {},
     "output_type": "execute_result"
    }
   ],
   "source": [
    "books.Publication_Date.mean()"
   ]
  },
  {
   "cell_type": "markdown",
   "metadata": {
    "id": "tKciC8SYIIma"
   },
   "source": [
    "___"
   ]
  },
  {
   "cell_type": "markdown",
   "metadata": {
    "id": "MUwzomIdIImb"
   },
   "source": [
    "## D.  More Work with Columns"
   ]
  },
  {
   "cell_type": "markdown",
   "metadata": {
    "id": "eOXY8CEHIImb"
   },
   "source": [
    "### D.1 Load the Emblem CSV"
   ]
  },
  {
   "cell_type": "code",
   "execution_count": 66,
   "metadata": {
    "ExecuteTime": {
     "end_time": "2022-02-10T23:28:17.050277Z",
     "start_time": "2022-02-10T23:28:17.041655Z"
    },
    "id": "Lozl63rSIImb"
   },
   "outputs": [],
   "source": [
    "emblems = pd.read_csv(emblematica_emblems)"
   ]
  },
  {
   "cell_type": "code",
   "execution_count": 60,
   "metadata": {
    "ExecuteTime": {
     "end_time": "2022-02-10T23:28:17.076630Z",
     "start_time": "2022-02-10T23:28:17.057297Z"
    },
    "colab": {
     "base_uri": "https://localhost:8080/",
     "height": 461
    },
    "id": "0vd73R5dIImb",
    "outputId": "1d7363d7-34bd-4897-a019-28b2d0fa8b4c"
   },
   "outputs": [
    {
     "data": {
      "text/html": [
       "\n",
       "  <div id=\"df-4c72a4e4-2f43-4276-9da9-b411e8c3fcce\">\n",
       "    <div class=\"colab-df-container\">\n",
       "      <div>\n",
       "<style scoped>\n",
       "    .dataframe tbody tr th:only-of-type {\n",
       "        vertical-align: middle;\n",
       "    }\n",
       "\n",
       "    .dataframe tbody tr th {\n",
       "        vertical-align: top;\n",
       "    }\n",
       "\n",
       "    .dataframe thead th {\n",
       "        text-align: right;\n",
       "    }\n",
       "</style>\n",
       "<table border=\"1\" class=\"dataframe\">\n",
       "  <thead>\n",
       "    <tr style=\"text-align: right;\">\n",
       "      <th></th>\n",
       "      <th>Emblem_ID</th>\n",
       "      <th>URL_for_Emblem_Details</th>\n",
       "      <th>URL_for_Emblem_Thumbnail</th>\n",
       "      <th>Emblem_Motto</th>\n",
       "      <th>Publication_Date</th>\n",
       "      <th>URL_for_Pictura</th>\n",
       "      <th>Iconclass_Heading_1</th>\n",
       "      <th>Iconclass_Heading_2</th>\n",
       "      <th>Iconclass_Heading_3</th>\n",
       "      <th>Iconclass_Heading_4</th>\n",
       "      <th>Iconclass_Heading_5</th>\n",
       "      <th>Iconclass_Heading_6</th>\n",
       "      <th>Iconclass_Heading_7</th>\n",
       "      <th>From Collection</th>\n",
       "      <th>Published_In</th>\n",
       "      <th>URL_for_Book_Details</th>\n",
       "    </tr>\n",
       "  </thead>\n",
       "  <tbody>\n",
       "    <tr>\n",
       "      <th>10</th>\n",
       "      <td>E004357</td>\n",
       "      <td>http://emblematica.library.illinois.edu/detail...</td>\n",
       "      <td>http://emblemimages.library.illinois.edu/devis...</td>\n",
       "      <td>Improbitas subigit rectum.</td>\n",
       "      <td>1614</td>\n",
       "      <td>http://emblemimages.library.illinois.edu/devis...</td>\n",
       "      <td>NaN</td>\n",
       "      <td>34B232(+51) fowl (cock, hen, chicken, etc.) (+...</td>\n",
       "      <td>31AA2511 arm raised upward - AA - both arms or...</td>\n",
       "      <td>31A2726 trampling, treading, stamping on someo...</td>\n",
       "      <td>34B232(+949) fowl (cock, hen, chicken, etc.) (...</td>\n",
       "      <td>34B232(+95) fowl (cock, hen, chicken, etc.) (+...</td>\n",
       "      <td>45A10 symbols, allegories of war; 'Guerra' (Ripa)</td>\n",
       "      <td>NaN</td>\n",
       "      <td>devisesheroiques00parad</td>\n",
       "      <td>http://emblematica.library.illinois.edu/detail...</td>\n",
       "    </tr>\n",
       "    <tr>\n",
       "      <th>76</th>\n",
       "      <td>E030129</td>\n",
       "      <td>http://emblematica.library.illinois.edu/detail...</td>\n",
       "      <td>http://emblemimages.library.illinois.edu/A42b/...</td>\n",
       "      <td>Ex bello pax. Frid auß krieg.</td>\n",
       "      <td>1542</td>\n",
       "      <td>http://emblemimages.library.illinois.edu/A42b/...</td>\n",
       "      <td>25F711(BEE)(+53) insects: bee (+ postures, pos...</td>\n",
       "      <td>31A22611 blood</td>\n",
       "      <td>45A1 war</td>\n",
       "      <td>45A10 symbols, allegories of war; 'Guerra' (Ripa)</td>\n",
       "      <td>45A2 peace</td>\n",
       "      <td>45A20 symbols, allegories of peace, 'Pax'; 'Pa...</td>\n",
       "      <td>45A231 blessings of peace</td>\n",
       "      <td>NaN</td>\n",
       "      <td>A42b</td>\n",
       "      <td>http://emblematica.library.illinois.edu/detail...</td>\n",
       "    </tr>\n",
       "    <tr>\n",
       "      <th>53</th>\n",
       "      <td>E025498</td>\n",
       "      <td>http://emblematica.library.illinois.edu/detail...</td>\n",
       "      <td>http://emblemimages.library.illinois.edu/huyge...</td>\n",
       "      <td>NaN</td>\n",
       "      <td>1691</td>\n",
       "      <td>http://emblemimages.library.illinois.edu/huyge...</td>\n",
       "      <td>25F23(LION) beasts of prey, predatory animals:...</td>\n",
       "      <td>25F23(WOLF) beasts of prey, predatory animals:...</td>\n",
       "      <td>31D15 adult woman</td>\n",
       "      <td>44A51(ETRURIA) personifications of countries, ...</td>\n",
       "      <td>45A10 symbols, allegories of war; 'Guerra' (Ripa)</td>\n",
       "      <td>45A20 symbols, allegories of peace, 'Pax'; 'Pa...</td>\n",
       "      <td>45A232 peace and prosperity, 'Pax et Abundantia'</td>\n",
       "      <td>NaN</td>\n",
       "      <td>huygens.knaw.nl_3Aemitx_3Af1691</td>\n",
       "      <td>http://emblematica.library.illinois.edu/detail...</td>\n",
       "    </tr>\n",
       "    <tr>\n",
       "      <th>1</th>\n",
       "      <td>E003060</td>\n",
       "      <td>http://emblematica.library.illinois.edu/detail...</td>\n",
       "      <td>http://emblemimages.library.illinois.edu/64580...</td>\n",
       "      <td>Erigit impavidum ruina.</td>\n",
       "      <td>1680</td>\n",
       "      <td>http://emblemimages.library.illinois.edu/64580...</td>\n",
       "      <td>86(ERIGIT IMPAVIDUM RUINA) proverbs, sayings, ...</td>\n",
       "      <td>54F12 Luck, Fortune, Lot; 'Fato', 'Fortuna', '...</td>\n",
       "      <td>46C1442 four-wheeled vehicle drawn by two animals</td>\n",
       "      <td>45A10 symbols, allegories of war; 'Guerra' (Ripa)</td>\n",
       "      <td>33A12 shaking hands, 'dextrarum junctio'</td>\n",
       "      <td>31D14 adult man</td>\n",
       "      <td>46C13141 horse</td>\n",
       "      <td>NaN</td>\n",
       "      <td>645803367</td>\n",
       "      <td>http://emblematica.library.illinois.edu/detail...</td>\n",
       "    </tr>\n",
       "    <tr>\n",
       "      <th>2</th>\n",
       "      <td>E003754</td>\n",
       "      <td>http://emblematica.library.illinois.edu/detail...</td>\n",
       "      <td>http://emblemimages.library.illinois.edu/63597...</td>\n",
       "      <td>Maii. Hebdomas Prima.</td>\n",
       "      <td>1641</td>\n",
       "      <td>http://emblemimages.library.illinois.edu/63597...</td>\n",
       "      <td>86(MAII. HEBDOMAS PRIMA) proverbs, sayings, et...</td>\n",
       "      <td>92D1916 cupids: 'amores', 'amoretti', 'putti'</td>\n",
       "      <td>41A1911 tent-camp</td>\n",
       "      <td>47D8(HAMMER) tools, aids, implements ~ crafts ...</td>\n",
       "      <td>47C41 gripping (industrial process)</td>\n",
       "      <td>45A10 symbols, allegories of war; 'Guerra' (Ripa)</td>\n",
       "      <td>23I22 May; 'Maggio' (Ripa)</td>\n",
       "      <td>NaN</td>\n",
       "      <td>635971542</td>\n",
       "      <td>http://emblematica.library.illinois.edu/detail...</td>\n",
       "    </tr>\n",
       "  </tbody>\n",
       "</table>\n",
       "</div>\n",
       "      <button class=\"colab-df-convert\" onclick=\"convertToInteractive('df-4c72a4e4-2f43-4276-9da9-b411e8c3fcce')\"\n",
       "              title=\"Convert this dataframe to an interactive table.\"\n",
       "              style=\"display:none;\">\n",
       "        \n",
       "  <svg xmlns=\"http://www.w3.org/2000/svg\" height=\"24px\"viewBox=\"0 0 24 24\"\n",
       "       width=\"24px\">\n",
       "    <path d=\"M0 0h24v24H0V0z\" fill=\"none\"/>\n",
       "    <path d=\"M18.56 5.44l.94 2.06.94-2.06 2.06-.94-2.06-.94-.94-2.06-.94 2.06-2.06.94zm-11 1L8.5 8.5l.94-2.06 2.06-.94-2.06-.94L8.5 2.5l-.94 2.06-2.06.94zm10 10l.94 2.06.94-2.06 2.06-.94-2.06-.94-.94-2.06-.94 2.06-2.06.94z\"/><path d=\"M17.41 7.96l-1.37-1.37c-.4-.4-.92-.59-1.43-.59-.52 0-1.04.2-1.43.59L10.3 9.45l-7.72 7.72c-.78.78-.78 2.05 0 2.83L4 21.41c.39.39.9.59 1.41.59.51 0 1.02-.2 1.41-.59l7.78-7.78 2.81-2.81c.8-.78.8-2.07 0-2.86zM5.41 20L4 18.59l7.72-7.72 1.47 1.35L5.41 20z\"/>\n",
       "  </svg>\n",
       "      </button>\n",
       "      \n",
       "  <style>\n",
       "    .colab-df-container {\n",
       "      display:flex;\n",
       "      flex-wrap:wrap;\n",
       "      gap: 12px;\n",
       "    }\n",
       "\n",
       "    .colab-df-convert {\n",
       "      background-color: #E8F0FE;\n",
       "      border: none;\n",
       "      border-radius: 50%;\n",
       "      cursor: pointer;\n",
       "      display: none;\n",
       "      fill: #1967D2;\n",
       "      height: 32px;\n",
       "      padding: 0 0 0 0;\n",
       "      width: 32px;\n",
       "    }\n",
       "\n",
       "    .colab-df-convert:hover {\n",
       "      background-color: #E2EBFA;\n",
       "      box-shadow: 0px 1px 2px rgba(60, 64, 67, 0.3), 0px 1px 3px 1px rgba(60, 64, 67, 0.15);\n",
       "      fill: #174EA6;\n",
       "    }\n",
       "\n",
       "    [theme=dark] .colab-df-convert {\n",
       "      background-color: #3B4455;\n",
       "      fill: #D2E3FC;\n",
       "    }\n",
       "\n",
       "    [theme=dark] .colab-df-convert:hover {\n",
       "      background-color: #434B5C;\n",
       "      box-shadow: 0px 1px 3px 1px rgba(0, 0, 0, 0.15);\n",
       "      filter: drop-shadow(0px 1px 2px rgba(0, 0, 0, 0.3));\n",
       "      fill: #FFFFFF;\n",
       "    }\n",
       "  </style>\n",
       "\n",
       "      <script>\n",
       "        const buttonEl =\n",
       "          document.querySelector('#df-4c72a4e4-2f43-4276-9da9-b411e8c3fcce button.colab-df-convert');\n",
       "        buttonEl.style.display =\n",
       "          google.colab.kernel.accessAllowed ? 'block' : 'none';\n",
       "\n",
       "        async function convertToInteractive(key) {\n",
       "          const element = document.querySelector('#df-4c72a4e4-2f43-4276-9da9-b411e8c3fcce');\n",
       "          const dataTable =\n",
       "            await google.colab.kernel.invokeFunction('convertToInteractive',\n",
       "                                                     [key], {});\n",
       "          if (!dataTable) return;\n",
       "\n",
       "          const docLinkHtml = 'Like what you see? Visit the ' +\n",
       "            '<a target=\"_blank\" href=https://colab.research.google.com/notebooks/data_table.ipynb>data table notebook</a>'\n",
       "            + ' to learn more about interactive tables.';\n",
       "          element.innerHTML = '';\n",
       "          dataTable['output_type'] = 'display_data';\n",
       "          await google.colab.output.renderOutput(dataTable, element);\n",
       "          const docLink = document.createElement('div');\n",
       "          docLink.innerHTML = docLinkHtml;\n",
       "          element.appendChild(docLink);\n",
       "        }\n",
       "      </script>\n",
       "    </div>\n",
       "  </div>\n",
       "  "
      ],
      "text/plain": [
       "   Emblem_ID  ...                               URL_for_Book_Details\n",
       "10   E004357  ...  http://emblematica.library.illinois.edu/detail...\n",
       "76   E030129  ...  http://emblematica.library.illinois.edu/detail...\n",
       "53   E025498  ...  http://emblematica.library.illinois.edu/detail...\n",
       "1    E003060  ...  http://emblematica.library.illinois.edu/detail...\n",
       "2    E003754  ...  http://emblematica.library.illinois.edu/detail...\n",
       "\n",
       "[5 rows x 16 columns]"
      ]
     },
     "execution_count": 60,
     "metadata": {},
     "output_type": "execute_result"
    }
   ],
   "source": [
    "emblems.sample(5)"
   ]
  },
  {
   "cell_type": "markdown",
   "metadata": {
    "id": "ZP7blPB6IImb"
   },
   "source": [
    "### D.2  Dropping Columns\n",
    "\n",
    "* The *From Collection* column is completely empty (see the `NaN` values), so how about we drop it from our DataFrame. \n",
    "* We will also drop the **URL** columns to reduce the size of the DataFrame.\n",
    "\n"
   ]
  },
  {
   "cell_type": "code",
   "execution_count": 67,
   "metadata": {
    "colab": {
     "base_uri": "https://localhost:8080/",
     "height": 444
    },
    "id": "B4dx0CLwIImc",
    "outputId": "7c5fd07d-aeb5-4cfa-f724-d3bb9772f330"
   },
   "outputs": [
    {
     "data": {
      "text/html": [
       "\n",
       "  <div id=\"df-de86cd74-1e06-4954-b5c6-dc59ac1075c1\">\n",
       "    <div class=\"colab-df-container\">\n",
       "      <div>\n",
       "<style scoped>\n",
       "    .dataframe tbody tr th:only-of-type {\n",
       "        vertical-align: middle;\n",
       "    }\n",
       "\n",
       "    .dataframe tbody tr th {\n",
       "        vertical-align: top;\n",
       "    }\n",
       "\n",
       "    .dataframe thead th {\n",
       "        text-align: right;\n",
       "    }\n",
       "</style>\n",
       "<table border=\"1\" class=\"dataframe\">\n",
       "  <thead>\n",
       "    <tr style=\"text-align: right;\">\n",
       "      <th></th>\n",
       "      <th>Emblem_ID</th>\n",
       "      <th>Emblem_Motto</th>\n",
       "      <th>Publication_Date</th>\n",
       "      <th>URL_for_Pictura</th>\n",
       "      <th>Iconclass_Heading_1</th>\n",
       "      <th>Iconclass_Heading_2</th>\n",
       "      <th>Iconclass_Heading_3</th>\n",
       "      <th>Iconclass_Heading_4</th>\n",
       "      <th>Iconclass_Heading_5</th>\n",
       "      <th>Iconclass_Heading_6</th>\n",
       "      <th>Iconclass_Heading_7</th>\n",
       "      <th>Published_In</th>\n",
       "      <th>URL_for_Book_Details</th>\n",
       "    </tr>\n",
       "  </thead>\n",
       "  <tbody>\n",
       "    <tr>\n",
       "      <th>0</th>\n",
       "      <td>E000913</td>\n",
       "      <td>In pace quae belli sunt.</td>\n",
       "      <td>1617</td>\n",
       "      <td>http://emblemimages.library.illinois.edu/emble...</td>\n",
       "      <td>25F23(FOX)(+535) beasts of prey, predatory ani...</td>\n",
       "      <td>25F24(BOAR)(+5211) hoofed animals: boar (+ wal...</td>\n",
       "      <td>25G3 trees</td>\n",
       "      <td>45A10 symbols, allegories of war; 'Guerra' (Ripa)</td>\n",
       "      <td>45A20 symbols, allegories of peace, 'Pax'; 'Pa...</td>\n",
       "      <td>45A132 preparation for war</td>\n",
       "      <td>54D1(+4) Preparation (+ emblematical represent...</td>\n",
       "      <td>emblematapolitic00isel</td>\n",
       "      <td>http://emblematica.library.illinois.edu/detail...</td>\n",
       "    </tr>\n",
       "    <tr>\n",
       "      <th>1</th>\n",
       "      <td>E003060</td>\n",
       "      <td>Erigit impavidum ruina.</td>\n",
       "      <td>1680</td>\n",
       "      <td>http://emblemimages.library.illinois.edu/64580...</td>\n",
       "      <td>86(ERIGIT IMPAVIDUM RUINA) proverbs, sayings, ...</td>\n",
       "      <td>54F12 Luck, Fortune, Lot; 'Fato', 'Fortuna', '...</td>\n",
       "      <td>46C1442 four-wheeled vehicle drawn by two animals</td>\n",
       "      <td>45A10 symbols, allegories of war; 'Guerra' (Ripa)</td>\n",
       "      <td>33A12 shaking hands, 'dextrarum junctio'</td>\n",
       "      <td>31D14 adult man</td>\n",
       "      <td>46C13141 horse</td>\n",
       "      <td>645803367</td>\n",
       "      <td>http://emblematica.library.illinois.edu/detail...</td>\n",
       "    </tr>\n",
       "    <tr>\n",
       "      <th>2</th>\n",
       "      <td>E003754</td>\n",
       "      <td>Maii. Hebdomas Prima.</td>\n",
       "      <td>1641</td>\n",
       "      <td>http://emblemimages.library.illinois.edu/63597...</td>\n",
       "      <td>86(MAII. HEBDOMAS PRIMA) proverbs, sayings, et...</td>\n",
       "      <td>92D1916 cupids: 'amores', 'amoretti', 'putti'</td>\n",
       "      <td>41A1911 tent-camp</td>\n",
       "      <td>47D8(HAMMER) tools, aids, implements ~ crafts ...</td>\n",
       "      <td>47C41 gripping (industrial process)</td>\n",
       "      <td>45A10 symbols, allegories of war; 'Guerra' (Ripa)</td>\n",
       "      <td>23I22 May; 'Maggio' (Ripa)</td>\n",
       "      <td>635971542</td>\n",
       "      <td>http://emblematica.library.illinois.edu/detail...</td>\n",
       "    </tr>\n",
       "    <tr>\n",
       "      <th>3</th>\n",
       "      <td>E003755</td>\n",
       "      <td>Maii. Hebdomas Secunda.</td>\n",
       "      <td>1641</td>\n",
       "      <td>http://emblemimages.library.illinois.edu/63597...</td>\n",
       "      <td>86(MAII. HEBDOMAS SECUNDA) proverbs, sayings, ...</td>\n",
       "      <td>92D1916 cupids: 'amores', 'amoretti', 'putti'</td>\n",
       "      <td>46C13187 leading a horse by the reins; rider b...</td>\n",
       "      <td>45C22 armour</td>\n",
       "      <td>45H3 battle</td>\n",
       "      <td>33B10 'Lite' (Ripa)</td>\n",
       "      <td>45A10 symbols, allegories of war; 'Guerra' (Ripa)</td>\n",
       "      <td>635971542</td>\n",
       "      <td>http://emblematica.library.illinois.edu/detail...</td>\n",
       "    </tr>\n",
       "    <tr>\n",
       "      <th>4</th>\n",
       "      <td>E003756</td>\n",
       "      <td>Maii. Hebdomas Tertia.</td>\n",
       "      <td>1641</td>\n",
       "      <td>http://emblemimages.library.illinois.edu/63597...</td>\n",
       "      <td>86(MAII. HEBDOMAS TERTIA) proverbs, sayings, e...</td>\n",
       "      <td>92D1916 cupids: 'amores', 'amoretti', 'putti'</td>\n",
       "      <td>49D5111 compasses</td>\n",
       "      <td>49D511(RULER) drawing-instruments: ruler</td>\n",
       "      <td>45F11 plan of battle</td>\n",
       "      <td>45A10 symbols, allegories of war; 'Guerra' (Ripa)</td>\n",
       "      <td>33B10 'Lite' (Ripa)</td>\n",
       "      <td>635971542</td>\n",
       "      <td>http://emblematica.library.illinois.edu/detail...</td>\n",
       "    </tr>\n",
       "  </tbody>\n",
       "</table>\n",
       "</div>\n",
       "      <button class=\"colab-df-convert\" onclick=\"convertToInteractive('df-de86cd74-1e06-4954-b5c6-dc59ac1075c1')\"\n",
       "              title=\"Convert this dataframe to an interactive table.\"\n",
       "              style=\"display:none;\">\n",
       "        \n",
       "  <svg xmlns=\"http://www.w3.org/2000/svg\" height=\"24px\"viewBox=\"0 0 24 24\"\n",
       "       width=\"24px\">\n",
       "    <path d=\"M0 0h24v24H0V0z\" fill=\"none\"/>\n",
       "    <path d=\"M18.56 5.44l.94 2.06.94-2.06 2.06-.94-2.06-.94-.94-2.06-.94 2.06-2.06.94zm-11 1L8.5 8.5l.94-2.06 2.06-.94-2.06-.94L8.5 2.5l-.94 2.06-2.06.94zm10 10l.94 2.06.94-2.06 2.06-.94-2.06-.94-.94-2.06-.94 2.06-2.06.94z\"/><path d=\"M17.41 7.96l-1.37-1.37c-.4-.4-.92-.59-1.43-.59-.52 0-1.04.2-1.43.59L10.3 9.45l-7.72 7.72c-.78.78-.78 2.05 0 2.83L4 21.41c.39.39.9.59 1.41.59.51 0 1.02-.2 1.41-.59l7.78-7.78 2.81-2.81c.8-.78.8-2.07 0-2.86zM5.41 20L4 18.59l7.72-7.72 1.47 1.35L5.41 20z\"/>\n",
       "  </svg>\n",
       "      </button>\n",
       "      \n",
       "  <style>\n",
       "    .colab-df-container {\n",
       "      display:flex;\n",
       "      flex-wrap:wrap;\n",
       "      gap: 12px;\n",
       "    }\n",
       "\n",
       "    .colab-df-convert {\n",
       "      background-color: #E8F0FE;\n",
       "      border: none;\n",
       "      border-radius: 50%;\n",
       "      cursor: pointer;\n",
       "      display: none;\n",
       "      fill: #1967D2;\n",
       "      height: 32px;\n",
       "      padding: 0 0 0 0;\n",
       "      width: 32px;\n",
       "    }\n",
       "\n",
       "    .colab-df-convert:hover {\n",
       "      background-color: #E2EBFA;\n",
       "      box-shadow: 0px 1px 2px rgba(60, 64, 67, 0.3), 0px 1px 3px 1px rgba(60, 64, 67, 0.15);\n",
       "      fill: #174EA6;\n",
       "    }\n",
       "\n",
       "    [theme=dark] .colab-df-convert {\n",
       "      background-color: #3B4455;\n",
       "      fill: #D2E3FC;\n",
       "    }\n",
       "\n",
       "    [theme=dark] .colab-df-convert:hover {\n",
       "      background-color: #434B5C;\n",
       "      box-shadow: 0px 1px 3px 1px rgba(0, 0, 0, 0.15);\n",
       "      filter: drop-shadow(0px 1px 2px rgba(0, 0, 0, 0.3));\n",
       "      fill: #FFFFFF;\n",
       "    }\n",
       "  </style>\n",
       "\n",
       "      <script>\n",
       "        const buttonEl =\n",
       "          document.querySelector('#df-de86cd74-1e06-4954-b5c6-dc59ac1075c1 button.colab-df-convert');\n",
       "        buttonEl.style.display =\n",
       "          google.colab.kernel.accessAllowed ? 'block' : 'none';\n",
       "\n",
       "        async function convertToInteractive(key) {\n",
       "          const element = document.querySelector('#df-de86cd74-1e06-4954-b5c6-dc59ac1075c1');\n",
       "          const dataTable =\n",
       "            await google.colab.kernel.invokeFunction('convertToInteractive',\n",
       "                                                     [key], {});\n",
       "          if (!dataTable) return;\n",
       "\n",
       "          const docLinkHtml = 'Like what you see? Visit the ' +\n",
       "            '<a target=\"_blank\" href=https://colab.research.google.com/notebooks/data_table.ipynb>data table notebook</a>'\n",
       "            + ' to learn more about interactive tables.';\n",
       "          element.innerHTML = '';\n",
       "          dataTable['output_type'] = 'display_data';\n",
       "          await google.colab.output.renderOutput(dataTable, element);\n",
       "          const docLink = document.createElement('div');\n",
       "          docLink.innerHTML = docLinkHtml;\n",
       "          element.appendChild(docLink);\n",
       "        }\n",
       "      </script>\n",
       "    </div>\n",
       "  </div>\n",
       "  "
      ],
      "text/plain": [
       "  Emblem_ID  ...                               URL_for_Book_Details\n",
       "0   E000913  ...  http://emblematica.library.illinois.edu/detail...\n",
       "1   E003060  ...  http://emblematica.library.illinois.edu/detail...\n",
       "2   E003754  ...  http://emblematica.library.illinois.edu/detail...\n",
       "3   E003755  ...  http://emblematica.library.illinois.edu/detail...\n",
       "4   E003756  ...  http://emblematica.library.illinois.edu/detail...\n",
       "\n",
       "[5 rows x 13 columns]"
      ]
     },
     "execution_count": 67,
     "metadata": {},
     "output_type": "execute_result"
    }
   ],
   "source": [
    "emblems = emblems.drop(columns=[\"From Collection\", \"URL_for_Emblem_Details\", \"URL_for_Emblem_Thumbnail\"])\n",
    "emblems.head()"
   ]
  },
  {
   "cell_type": "markdown",
   "metadata": {
    "id": "nLZEAtleYZpB"
   },
   "source": [
    "#### We found a duplicate book entry (1695) so let's drop it here"
   ]
  },
  {
   "cell_type": "markdown",
   "metadata": {
    "id": "87zjy87hIImc"
   },
   "source": [
    "### D.3 Exploring the IconClass Data:  Combining the Tags\n",
    "\n",
    "* Emblematica Online uses the Iconclass vocabularies to classify the images.\n",
    "* Each emblem can have more than one classification number, and these are stored in separate columns\n",
    "* Let's: \n",
    " - **find those Iconclass columns** and then \n",
    " - **remove the NaN values** in any cells and then\n",
    " - put all the values for each icon in a single cell **'iconclasses'**\n",
    "\n",
    " #### More about [Iconclass](http://www.iconclass.org/help/outline)"
   ]
  },
  {
   "cell_type": "code",
   "execution_count": 69,
   "metadata": {
    "ExecuteTime": {
     "end_time": "2022-02-10T23:28:17.087498Z",
     "start_time": "2022-02-10T23:28:17.085128Z"
    },
    "colab": {
     "base_uri": "https://localhost:8080/"
    },
    "id": "DaSI-u60IImc",
    "outputId": "999367a6-81a2-4009-ec18-0e657d1e8ed6"
   },
   "outputs": [
    {
     "data": {
      "text/plain": [
       "['Iconclass_Heading_1',\n",
       " 'Iconclass_Heading_2',\n",
       " 'Iconclass_Heading_3',\n",
       " 'Iconclass_Heading_4',\n",
       " 'Iconclass_Heading_5',\n",
       " 'Iconclass_Heading_6',\n",
       " 'Iconclass_Heading_7']"
      ]
     },
     "execution_count": 69,
     "metadata": {},
     "output_type": "execute_result"
    }
   ],
   "source": [
    "icon_columns = [c for c in emblems.columns if c.startswith(\"Iconclass\")]\n",
    "icon_columns"
   ]
  },
  {
   "cell_type": "code",
   "execution_count": 72,
   "metadata": {
    "ExecuteTime": {
     "end_time": "2022-02-10T23:28:17.095751Z",
     "start_time": "2022-02-10T23:28:17.089592Z"
    },
    "colab": {
     "base_uri": "https://localhost:8080/"
    },
    "id": "jjTEsQ4HIImc",
    "outputId": "8cdfac9c-18dc-44dd-80b5-02f4dcbcaa64"
   },
   "outputs": [
    {
     "data": {
      "text/plain": [
       "0      [25F23(FOX)(+535) beasts of prey, predatory an...\n",
       "1      [86(ERIGIT IMPAVIDUM RUINA) proverbs, sayings,...\n",
       "2      [86(MAII. HEBDOMAS PRIMA) proverbs, sayings, e...\n",
       "3      [86(MAII. HEBDOMAS SECUNDA) proverbs, sayings,...\n",
       "4      [86(MAII. HEBDOMAS TERTIA) proverbs, sayings, ...\n",
       "                             ...                        \n",
       "108    [86(WER DIESES NIMT IN ACHT) proverbs, sayings...\n",
       "109    [86(DEN MUND SCHLEUS ZU) proverbs, sayings, et...\n",
       "110    [86(FRIED UNS ERHELT) proverbs, sayings, etc. ...\n",
       "111    [86(SO RÜST' ICH MICH) proverbs, sayings, etc....\n",
       "112    [86(DER DREYEN EINES., DER BEDEUTENDE) proverb...\n",
       "Name: iconclasses, Length: 113, dtype: object"
      ]
     },
     "execution_count": 72,
     "metadata": {},
     "output_type": "execute_result"
    }
   ],
   "source": [
    "emblems[\"iconclasses\"] = (\n",
    "    emblems[icon_columns]\n",
    "        .fillna(\"\")\n",
    "        .apply(lambda x: [el for el in x if el], axis=\"columns\")\n",
    ")\n",
    "emblems[\"iconclasses\"]"
   ]
  },
  {
   "cell_type": "code",
   "execution_count": 71,
   "metadata": {
    "ExecuteTime": {
     "end_time": "2022-02-10T23:28:17.113510Z",
     "start_time": "2022-02-10T23:28:17.097799Z"
    },
    "colab": {
     "base_uri": "https://localhost:8080/",
     "height": 600
    },
    "id": "eA9ZXCKYIImf",
    "outputId": "dab101cd-7cea-4d7f-9411-460cb93f6d9a"
   },
   "outputs": [
    {
     "data": {
      "text/html": [
       "\n",
       "  <div id=\"df-ecf069a3-8cf3-4fff-bee0-b5e1f53190b3\">\n",
       "    <div class=\"colab-df-container\">\n",
       "      <div>\n",
       "<style scoped>\n",
       "    .dataframe tbody tr th:only-of-type {\n",
       "        vertical-align: middle;\n",
       "    }\n",
       "\n",
       "    .dataframe tbody tr th {\n",
       "        vertical-align: top;\n",
       "    }\n",
       "\n",
       "    .dataframe thead th {\n",
       "        text-align: right;\n",
       "    }\n",
       "</style>\n",
       "<table border=\"1\" class=\"dataframe\">\n",
       "  <thead>\n",
       "    <tr style=\"text-align: right;\">\n",
       "      <th></th>\n",
       "      <th>Emblem_ID</th>\n",
       "      <th>Emblem_Motto</th>\n",
       "      <th>Publication_Date</th>\n",
       "      <th>URL_for_Pictura</th>\n",
       "      <th>Iconclass_Heading_1</th>\n",
       "      <th>Iconclass_Heading_2</th>\n",
       "      <th>Iconclass_Heading_3</th>\n",
       "      <th>Iconclass_Heading_4</th>\n",
       "      <th>Iconclass_Heading_5</th>\n",
       "      <th>Iconclass_Heading_6</th>\n",
       "      <th>Iconclass_Heading_7</th>\n",
       "      <th>Published_In</th>\n",
       "      <th>URL_for_Book_Details</th>\n",
       "      <th>iconclasses</th>\n",
       "    </tr>\n",
       "  </thead>\n",
       "  <tbody>\n",
       "    <tr>\n",
       "      <th>0</th>\n",
       "      <td>E000913</td>\n",
       "      <td>In pace quae belli sunt.</td>\n",
       "      <td>1617</td>\n",
       "      <td>http://emblemimages.library.illinois.edu/emble...</td>\n",
       "      <td>25F23(FOX)(+535) beasts of prey, predatory ani...</td>\n",
       "      <td>25F24(BOAR)(+5211) hoofed animals: boar (+ wal...</td>\n",
       "      <td>25G3 trees</td>\n",
       "      <td>45A10 symbols, allegories of war; 'Guerra' (Ripa)</td>\n",
       "      <td>45A20 symbols, allegories of peace, 'Pax'; 'Pa...</td>\n",
       "      <td>45A132 preparation for war</td>\n",
       "      <td>54D1(+4) Preparation (+ emblematical represent...</td>\n",
       "      <td>emblematapolitic00isel</td>\n",
       "      <td>http://emblematica.library.illinois.edu/detail...</td>\n",
       "      <td>[25F23(FOX)(+535) beasts of prey, predatory an...</td>\n",
       "    </tr>\n",
       "    <tr>\n",
       "      <th>1</th>\n",
       "      <td>E003060</td>\n",
       "      <td>Erigit impavidum ruina.</td>\n",
       "      <td>1680</td>\n",
       "      <td>http://emblemimages.library.illinois.edu/64580...</td>\n",
       "      <td>86(ERIGIT IMPAVIDUM RUINA) proverbs, sayings, ...</td>\n",
       "      <td>54F12 Luck, Fortune, Lot; 'Fato', 'Fortuna', '...</td>\n",
       "      <td>46C1442 four-wheeled vehicle drawn by two animals</td>\n",
       "      <td>45A10 symbols, allegories of war; 'Guerra' (Ripa)</td>\n",
       "      <td>33A12 shaking hands, 'dextrarum junctio'</td>\n",
       "      <td>31D14 adult man</td>\n",
       "      <td>46C13141 horse</td>\n",
       "      <td>645803367</td>\n",
       "      <td>http://emblematica.library.illinois.edu/detail...</td>\n",
       "      <td>[86(ERIGIT IMPAVIDUM RUINA) proverbs, sayings,...</td>\n",
       "    </tr>\n",
       "    <tr>\n",
       "      <th>2</th>\n",
       "      <td>E003754</td>\n",
       "      <td>Maii. Hebdomas Prima.</td>\n",
       "      <td>1641</td>\n",
       "      <td>http://emblemimages.library.illinois.edu/63597...</td>\n",
       "      <td>86(MAII. HEBDOMAS PRIMA) proverbs, sayings, et...</td>\n",
       "      <td>92D1916 cupids: 'amores', 'amoretti', 'putti'</td>\n",
       "      <td>41A1911 tent-camp</td>\n",
       "      <td>47D8(HAMMER) tools, aids, implements ~ crafts ...</td>\n",
       "      <td>47C41 gripping (industrial process)</td>\n",
       "      <td>45A10 symbols, allegories of war; 'Guerra' (Ripa)</td>\n",
       "      <td>23I22 May; 'Maggio' (Ripa)</td>\n",
       "      <td>635971542</td>\n",
       "      <td>http://emblematica.library.illinois.edu/detail...</td>\n",
       "      <td>[86(MAII. HEBDOMAS PRIMA) proverbs, sayings, e...</td>\n",
       "    </tr>\n",
       "    <tr>\n",
       "      <th>3</th>\n",
       "      <td>E003755</td>\n",
       "      <td>Maii. Hebdomas Secunda.</td>\n",
       "      <td>1641</td>\n",
       "      <td>http://emblemimages.library.illinois.edu/63597...</td>\n",
       "      <td>86(MAII. HEBDOMAS SECUNDA) proverbs, sayings, ...</td>\n",
       "      <td>92D1916 cupids: 'amores', 'amoretti', 'putti'</td>\n",
       "      <td>46C13187 leading a horse by the reins; rider b...</td>\n",
       "      <td>45C22 armour</td>\n",
       "      <td>45H3 battle</td>\n",
       "      <td>33B10 'Lite' (Ripa)</td>\n",
       "      <td>45A10 symbols, allegories of war; 'Guerra' (Ripa)</td>\n",
       "      <td>635971542</td>\n",
       "      <td>http://emblematica.library.illinois.edu/detail...</td>\n",
       "      <td>[86(MAII. HEBDOMAS SECUNDA) proverbs, sayings,...</td>\n",
       "    </tr>\n",
       "    <tr>\n",
       "      <th>4</th>\n",
       "      <td>E003756</td>\n",
       "      <td>Maii. Hebdomas Tertia.</td>\n",
       "      <td>1641</td>\n",
       "      <td>http://emblemimages.library.illinois.edu/63597...</td>\n",
       "      <td>86(MAII. HEBDOMAS TERTIA) proverbs, sayings, e...</td>\n",
       "      <td>92D1916 cupids: 'amores', 'amoretti', 'putti'</td>\n",
       "      <td>49D5111 compasses</td>\n",
       "      <td>49D511(RULER) drawing-instruments: ruler</td>\n",
       "      <td>45F11 plan of battle</td>\n",
       "      <td>45A10 symbols, allegories of war; 'Guerra' (Ripa)</td>\n",
       "      <td>33B10 'Lite' (Ripa)</td>\n",
       "      <td>635971542</td>\n",
       "      <td>http://emblematica.library.illinois.edu/detail...</td>\n",
       "      <td>[86(MAII. HEBDOMAS TERTIA) proverbs, sayings, ...</td>\n",
       "    </tr>\n",
       "  </tbody>\n",
       "</table>\n",
       "</div>\n",
       "      <button class=\"colab-df-convert\" onclick=\"convertToInteractive('df-ecf069a3-8cf3-4fff-bee0-b5e1f53190b3')\"\n",
       "              title=\"Convert this dataframe to an interactive table.\"\n",
       "              style=\"display:none;\">\n",
       "        \n",
       "  <svg xmlns=\"http://www.w3.org/2000/svg\" height=\"24px\"viewBox=\"0 0 24 24\"\n",
       "       width=\"24px\">\n",
       "    <path d=\"M0 0h24v24H0V0z\" fill=\"none\"/>\n",
       "    <path d=\"M18.56 5.44l.94 2.06.94-2.06 2.06-.94-2.06-.94-.94-2.06-.94 2.06-2.06.94zm-11 1L8.5 8.5l.94-2.06 2.06-.94-2.06-.94L8.5 2.5l-.94 2.06-2.06.94zm10 10l.94 2.06.94-2.06 2.06-.94-2.06-.94-.94-2.06-.94 2.06-2.06.94z\"/><path d=\"M17.41 7.96l-1.37-1.37c-.4-.4-.92-.59-1.43-.59-.52 0-1.04.2-1.43.59L10.3 9.45l-7.72 7.72c-.78.78-.78 2.05 0 2.83L4 21.41c.39.39.9.59 1.41.59.51 0 1.02-.2 1.41-.59l7.78-7.78 2.81-2.81c.8-.78.8-2.07 0-2.86zM5.41 20L4 18.59l7.72-7.72 1.47 1.35L5.41 20z\"/>\n",
       "  </svg>\n",
       "      </button>\n",
       "      \n",
       "  <style>\n",
       "    .colab-df-container {\n",
       "      display:flex;\n",
       "      flex-wrap:wrap;\n",
       "      gap: 12px;\n",
       "    }\n",
       "\n",
       "    .colab-df-convert {\n",
       "      background-color: #E8F0FE;\n",
       "      border: none;\n",
       "      border-radius: 50%;\n",
       "      cursor: pointer;\n",
       "      display: none;\n",
       "      fill: #1967D2;\n",
       "      height: 32px;\n",
       "      padding: 0 0 0 0;\n",
       "      width: 32px;\n",
       "    }\n",
       "\n",
       "    .colab-df-convert:hover {\n",
       "      background-color: #E2EBFA;\n",
       "      box-shadow: 0px 1px 2px rgba(60, 64, 67, 0.3), 0px 1px 3px 1px rgba(60, 64, 67, 0.15);\n",
       "      fill: #174EA6;\n",
       "    }\n",
       "\n",
       "    [theme=dark] .colab-df-convert {\n",
       "      background-color: #3B4455;\n",
       "      fill: #D2E3FC;\n",
       "    }\n",
       "\n",
       "    [theme=dark] .colab-df-convert:hover {\n",
       "      background-color: #434B5C;\n",
       "      box-shadow: 0px 1px 3px 1px rgba(0, 0, 0, 0.15);\n",
       "      filter: drop-shadow(0px 1px 2px rgba(0, 0, 0, 0.3));\n",
       "      fill: #FFFFFF;\n",
       "    }\n",
       "  </style>\n",
       "\n",
       "      <script>\n",
       "        const buttonEl =\n",
       "          document.querySelector('#df-ecf069a3-8cf3-4fff-bee0-b5e1f53190b3 button.colab-df-convert');\n",
       "        buttonEl.style.display =\n",
       "          google.colab.kernel.accessAllowed ? 'block' : 'none';\n",
       "\n",
       "        async function convertToInteractive(key) {\n",
       "          const element = document.querySelector('#df-ecf069a3-8cf3-4fff-bee0-b5e1f53190b3');\n",
       "          const dataTable =\n",
       "            await google.colab.kernel.invokeFunction('convertToInteractive',\n",
       "                                                     [key], {});\n",
       "          if (!dataTable) return;\n",
       "\n",
       "          const docLinkHtml = 'Like what you see? Visit the ' +\n",
       "            '<a target=\"_blank\" href=https://colab.research.google.com/notebooks/data_table.ipynb>data table notebook</a>'\n",
       "            + ' to learn more about interactive tables.';\n",
       "          element.innerHTML = '';\n",
       "          dataTable['output_type'] = 'display_data';\n",
       "          await google.colab.output.renderOutput(dataTable, element);\n",
       "          const docLink = document.createElement('div');\n",
       "          docLink.innerHTML = docLinkHtml;\n",
       "          element.appendChild(docLink);\n",
       "        }\n",
       "      </script>\n",
       "    </div>\n",
       "  </div>\n",
       "  "
      ],
      "text/plain": [
       "  Emblem_ID  ...                                        iconclasses\n",
       "0   E000913  ...  [25F23(FOX)(+535) beasts of prey, predatory an...\n",
       "1   E003060  ...  [86(ERIGIT IMPAVIDUM RUINA) proverbs, sayings,...\n",
       "2   E003754  ...  [86(MAII. HEBDOMAS PRIMA) proverbs, sayings, e...\n",
       "3   E003755  ...  [86(MAII. HEBDOMAS SECUNDA) proverbs, sayings,...\n",
       "4   E003756  ...  [86(MAII. HEBDOMAS TERTIA) proverbs, sayings, ...\n",
       "\n",
       "[5 rows x 14 columns]"
      ]
     },
     "execution_count": 71,
     "metadata": {},
     "output_type": "execute_result"
    }
   ],
   "source": [
    "emblems.head()"
   ]
  },
  {
   "cell_type": "markdown",
   "metadata": {
    "id": "LwAYSh5nIImg"
   },
   "source": [
    "#### The `iloc` method lets us see a particular location, in this case the **combined cell of the first row** `[0]`"
   ]
  },
  {
   "cell_type": "code",
   "execution_count": 74,
   "metadata": {
    "ExecuteTime": {
     "end_time": "2022-02-10T23:28:17.120319Z",
     "start_time": "2022-02-10T23:28:17.115506Z"
    },
    "colab": {
     "base_uri": "https://localhost:8080/"
    },
    "id": "xhaU7iC2IImg",
    "outputId": "bbe5a20d-79cf-4e38-a88e-73dffdb96f10"
   },
   "outputs": [
    {
     "data": {
      "text/plain": [
       "['25F23(FOX)(+535) beasts of prey, predatory animals: fox (+ sitting animal)',\n",
       " '25F24(BOAR)(+5211) hoofed animals: boar (+ walking animal)',\n",
       " '25G3 trees',\n",
       " \"45A10 symbols, allegories of war; 'Guerra' (Ripa)\",\n",
       " \"45A20 symbols, allegories of peace, 'Pax'; 'Pace' (Ripa)\",\n",
       " '45A132 preparation for war',\n",
       " '54D1(+4) Preparation (+ emblematical representation of concept)']"
      ]
     },
     "execution_count": 74,
     "metadata": {},
     "output_type": "execute_result"
    }
   ],
   "source": [
    "emblems.iconclasses.iloc[0]"
   ]
  },
  {
   "cell_type": "markdown",
   "metadata": {
    "id": "J6XWi4prIImg"
   },
   "source": [
    "### D.3 Exploring the IconClass Data:  Searching within Tag Data\n",
    "\n",
    "* Iconclass data (http://www.iconclass.org/help/outline) are organized hierarchically.  The first digit represents a broad category (\"2\" = nature), and subsequent characters and letter represent sub-types.  \"24\" is the heavens; \"25\" is the earth.  \n",
    "* \"25F\" is the category 'animal'.  So we can make a new **Boolean column** (which will be either True or False) for any row in which that tag string appears. \n"
   ]
  },
  {
   "cell_type": "code",
   "execution_count": 78,
   "metadata": {
    "ExecuteTime": {
     "end_time": "2022-02-10T23:28:17.127063Z",
     "start_time": "2022-02-10T23:28:17.122335Z"
    },
    "colab": {
     "base_uri": "https://localhost:8080/"
    },
    "id": "PuAglbEMIImg",
    "outputId": "96d1b7a2-d066-4b01-ca62-f3888c170af3"
   },
   "outputs": [
    {
     "data": {
      "text/plain": [
       "0       True\n",
       "1      False\n",
       "2      False\n",
       "3      False\n",
       "4      False\n",
       "       ...  \n",
       "108    False\n",
       "109    False\n",
       "110    False\n",
       "111    False\n",
       "112     True\n",
       "Name: is_animal, Length: 113, dtype: bool"
      ]
     },
     "execution_count": 78,
     "metadata": {},
     "output_type": "execute_result"
    }
   ],
   "source": [
    "emblems[\"is_animal\"] = emblems.iconclasses.apply(lambda tag_list: any([tag.startswith(\"25F\") for tag in tag_list]))\n",
    "emblems[\"is_animal\"]"
   ]
  },
  {
   "cell_type": "markdown",
   "metadata": {
    "id": "8RSBv2oQIImh"
   },
   "source": [
    "#### The dataframe can now be 'filtered' to show only those rows where \"is_animal\" is True (or False!)\n",
    "\n",
    "* Scroll to the far right in the following dataframe to see the Boolean column"
   ]
  },
  {
   "cell_type": "code",
   "execution_count": 79,
   "metadata": {
    "ExecuteTime": {
     "end_time": "2022-02-10T23:28:17.154254Z",
     "start_time": "2022-02-10T23:28:17.129750Z"
    },
    "colab": {
     "base_uri": "https://localhost:8080/",
     "height": 1000
    },
    "id": "RaQYQHx3IImh",
    "outputId": "4e611697-6933-4a53-9d2c-f763468e4bcc"
   },
   "outputs": [
    {
     "data": {
      "text/html": [
       "\n",
       "  <div id=\"df-c1a4f5c3-9308-4389-879b-04c3950d0c30\">\n",
       "    <div class=\"colab-df-container\">\n",
       "      <div>\n",
       "<style scoped>\n",
       "    .dataframe tbody tr th:only-of-type {\n",
       "        vertical-align: middle;\n",
       "    }\n",
       "\n",
       "    .dataframe tbody tr th {\n",
       "        vertical-align: top;\n",
       "    }\n",
       "\n",
       "    .dataframe thead th {\n",
       "        text-align: right;\n",
       "    }\n",
       "</style>\n",
       "<table border=\"1\" class=\"dataframe\">\n",
       "  <thead>\n",
       "    <tr style=\"text-align: right;\">\n",
       "      <th></th>\n",
       "      <th>Emblem_ID</th>\n",
       "      <th>Emblem_Motto</th>\n",
       "      <th>Publication_Date</th>\n",
       "      <th>URL_for_Pictura</th>\n",
       "      <th>Iconclass_Heading_1</th>\n",
       "      <th>Iconclass_Heading_2</th>\n",
       "      <th>Iconclass_Heading_3</th>\n",
       "      <th>Iconclass_Heading_4</th>\n",
       "      <th>Iconclass_Heading_5</th>\n",
       "      <th>Iconclass_Heading_6</th>\n",
       "      <th>Iconclass_Heading_7</th>\n",
       "      <th>Published_In</th>\n",
       "      <th>URL_for_Book_Details</th>\n",
       "      <th>iconclasses</th>\n",
       "      <th>is_animal</th>\n",
       "    </tr>\n",
       "  </thead>\n",
       "  <tbody>\n",
       "    <tr>\n",
       "      <th>0</th>\n",
       "      <td>E000913</td>\n",
       "      <td>In pace quae belli sunt.</td>\n",
       "      <td>1617</td>\n",
       "      <td>http://emblemimages.library.illinois.edu/emble...</td>\n",
       "      <td>25F23(FOX)(+535) beasts of prey, predatory ani...</td>\n",
       "      <td>25F24(BOAR)(+5211) hoofed animals: boar (+ wal...</td>\n",
       "      <td>25G3 trees</td>\n",
       "      <td>45A10 symbols, allegories of war; 'Guerra' (Ripa)</td>\n",
       "      <td>45A20 symbols, allegories of peace, 'Pax'; 'Pa...</td>\n",
       "      <td>45A132 preparation for war</td>\n",
       "      <td>54D1(+4) Preparation (+ emblematical represent...</td>\n",
       "      <td>emblematapolitic00isel</td>\n",
       "      <td>http://emblematica.library.illinois.edu/detail...</td>\n",
       "      <td>[25F23(FOX)(+535) beasts of prey, predatory an...</td>\n",
       "      <td>True</td>\n",
       "    </tr>\n",
       "    <tr>\n",
       "      <th>23</th>\n",
       "      <td>E010938</td>\n",
       "      <td>In Bello Prudentia Opus.</td>\n",
       "      <td>1700</td>\n",
       "      <td>http://emblemimages.library.illinois.edu/65900...</td>\n",
       "      <td>86(IN BELLO PRUDENTIA OPUS) proverbs, sayings,...</td>\n",
       "      <td>41A12 castle</td>\n",
       "      <td>61F(SCHLOSS BIRKENFELD) names of historical bu...</td>\n",
       "      <td>61E(BIRKENFELD KREIS BIRKENFELD) names of citi...</td>\n",
       "      <td>43C13(+4241) fowling, fowler (+ hunting with f...</td>\n",
       "      <td>25F33(FALCON)(+51) predatory birds: falcon (+ ...</td>\n",
       "      <td>25F37(HERON)(+51) shore-birds and wading-birds...</td>\n",
       "      <td>659008459</td>\n",
       "      <td>http://emblematica.library.illinois.edu/detail...</td>\n",
       "      <td>[86(IN BELLO PRUDENTIA OPUS) proverbs, sayings...</td>\n",
       "      <td>True</td>\n",
       "    </tr>\n",
       "    <tr>\n",
       "      <th>24</th>\n",
       "      <td>E011084</td>\n",
       "      <td>Patribus Respublica Curae Est.</td>\n",
       "      <td>1700</td>\n",
       "      <td>http://emblemimages.library.illinois.edu/65900...</td>\n",
       "      <td>86(PATRIBUS RESPUBLICA CURAE EST) proverbs, sa...</td>\n",
       "      <td>25I1 city-view in general; 'veduta'</td>\n",
       "      <td>61E(ROTENBURG AN DER FULDA) names of cities an...</td>\n",
       "      <td>44B1 ruler, sovereign</td>\n",
       "      <td>25F33(EAGLE) predatory birds: eagle</td>\n",
       "      <td>44B191 crown (symbol of sovereignty)</td>\n",
       "      <td>45C13(SWORD) hacking and thrusting weapons: sword</td>\n",
       "      <td>659008459</td>\n",
       "      <td>http://emblematica.library.illinois.edu/detail...</td>\n",
       "      <td>[86(PATRIBUS RESPUBLICA CURAE EST) proverbs, s...</td>\n",
       "      <td>True</td>\n",
       "    </tr>\n",
       "    <tr>\n",
       "      <th>27</th>\n",
       "      <td>E011171</td>\n",
       "      <td>Bellum Vel Feris Perniciosum Est.</td>\n",
       "      <td>1700</td>\n",
       "      <td>http://emblemimages.library.illinois.edu/65900...</td>\n",
       "      <td>86(BELLUM VEL FERIS PERNICIOSUM EST) proverbs,...</td>\n",
       "      <td>11P3151 abbey, monastery, convent ~ Roman Cath...</td>\n",
       "      <td>25F25(ELEPHANT) trunked animals: elephant</td>\n",
       "      <td>25F24(RHINOCEROS) hoofed animals: rhinoceros</td>\n",
       "      <td>54BB31 Damage, Disservice; 'Danno' (Ripa)</td>\n",
       "      <td>54BB11 Misuse, Misemployment</td>\n",
       "      <td>45C10 'Arme' (Ripa)</td>\n",
       "      <td>659008459</td>\n",
       "      <td>http://emblematica.library.illinois.edu/detail...</td>\n",
       "      <td>[86(BELLUM VEL FERIS PERNICIOSUM EST) proverbs...</td>\n",
       "      <td>True</td>\n",
       "    </tr>\n",
       "    <tr>\n",
       "      <th>30</th>\n",
       "      <td>E013761</td>\n",
       "      <td>Turbata Delectat.</td>\n",
       "      <td>1605</td>\n",
       "      <td>http://emblemimages.library.illinois.edu/66453...</td>\n",
       "      <td>86(TURBATA DELECTAT) proverbs, sayings, etc. (...</td>\n",
       "      <td>25F24(CAMEL)(+5227) hoofed animals: camel (+ a...</td>\n",
       "      <td>25H212 brook</td>\n",
       "      <td>45A10 symbols, allegories of war; 'Guerra' (Ripa)</td>\n",
       "      <td>51DD1 Disorder, Confusion, Derangement, Disorg...</td>\n",
       "      <td>NaN</td>\n",
       "      <td>NaN</td>\n",
       "      <td>66453631X</td>\n",
       "      <td>http://emblematica.library.illinois.edu/detail...</td>\n",
       "      <td>[86(TURBATA DELECTAT) proverbs, sayings, etc. ...</td>\n",
       "      <td>True</td>\n",
       "    </tr>\n",
       "    <tr>\n",
       "      <th>...</th>\n",
       "      <td>...</td>\n",
       "      <td>...</td>\n",
       "      <td>...</td>\n",
       "      <td>...</td>\n",
       "      <td>...</td>\n",
       "      <td>...</td>\n",
       "      <td>...</td>\n",
       "      <td>...</td>\n",
       "      <td>...</td>\n",
       "      <td>...</td>\n",
       "      <td>...</td>\n",
       "      <td>...</td>\n",
       "      <td>...</td>\n",
       "      <td>...</td>\n",
       "      <td>...</td>\n",
       "    </tr>\n",
       "    <tr>\n",
       "      <th>96</th>\n",
       "      <td>E032198</td>\n",
       "      <td>Paix</td>\n",
       "      <td>1549</td>\n",
       "      <td>http://emblemimages.library.illinois.edu/FALb/...</td>\n",
       "      <td>23S14 Rome (one of the four world empires)</td>\n",
       "      <td>25F25(ELEPHANT)(+81) trunked animals: elephant...</td>\n",
       "      <td>31A2352 sitting on an elevation</td>\n",
       "      <td>31A244 head bent forward; bowing</td>\n",
       "      <td>31A247 looking over the shoulder</td>\n",
       "      <td>31A2511(+933) arm raised upward (+ holding som...</td>\n",
       "      <td>31A2512(+933) arm stretched forward (+ holding...</td>\n",
       "      <td>FALb</td>\n",
       "      <td>http://emblematica.library.illinois.edu/detail...</td>\n",
       "      <td>[23S14 Rome (one of the four world empires), 2...</td>\n",
       "      <td>True</td>\n",
       "    </tr>\n",
       "    <tr>\n",
       "      <th>97</th>\n",
       "      <td>E032199</td>\n",
       "      <td>De guerre Paix.</td>\n",
       "      <td>1549</td>\n",
       "      <td>http://emblemimages.library.illinois.edu/FALb/...</td>\n",
       "      <td>25F711(BEE)(+53) insects: bee (+ postures, pos...</td>\n",
       "      <td>25G13 groups of plants (herbs)</td>\n",
       "      <td>25H1124 boulder, stone</td>\n",
       "      <td>25H113 (high) hill</td>\n",
       "      <td>31A22611 blood</td>\n",
       "      <td>45A1 war</td>\n",
       "      <td>45A10 symbols, allegories of war; 'Guerra' (Ripa)</td>\n",
       "      <td>FALb</td>\n",
       "      <td>http://emblematica.library.illinois.edu/detail...</td>\n",
       "      <td>[25F711(BEE)(+53) insects: bee (+ postures, po...</td>\n",
       "      <td>True</td>\n",
       "    </tr>\n",
       "    <tr>\n",
       "      <th>98</th>\n",
       "      <td>E032489</td>\n",
       "      <td>De Guerre Paix.</td>\n",
       "      <td>1615</td>\n",
       "      <td>http://emblemimages.library.illinois.edu/FALd/...</td>\n",
       "      <td>25F711(BEE)(+53) insects: bee (+ postures, pos...</td>\n",
       "      <td>31A22611 blood</td>\n",
       "      <td>45A1 war</td>\n",
       "      <td>45A10 symbols, allegories of war; 'Guerra' (Ripa)</td>\n",
       "      <td>45A2 peace</td>\n",
       "      <td>45A20 symbols, allegories of peace, 'Pax'; 'Pa...</td>\n",
       "      <td>45A231 blessings of peace</td>\n",
       "      <td>FALd</td>\n",
       "      <td>http://emblematica.library.illinois.edu/detail...</td>\n",
       "      <td>[25F711(BEE)(+53) insects: bee (+ postures, po...</td>\n",
       "      <td>True</td>\n",
       "    </tr>\n",
       "    <tr>\n",
       "      <th>99</th>\n",
       "      <td>E032524</td>\n",
       "      <td>Paix.</td>\n",
       "      <td>1615</td>\n",
       "      <td>http://emblemimages.library.illinois.edu/FALd/...</td>\n",
       "      <td>11A Deity, God (in general) ~ Christian religion</td>\n",
       "      <td>25F25(ELEPHANT)(+81) trunked animals: elephant...</td>\n",
       "      <td>26A clouds</td>\n",
       "      <td>31A2511(+933) arm raised upward (+ holding som...</td>\n",
       "      <td>31A2515(+933) arm held downwards (+ holding so...</td>\n",
       "      <td>31A2746 breaking something</td>\n",
       "      <td>31D14 adult man</td>\n",
       "      <td>FALd</td>\n",
       "      <td>http://emblematica.library.illinois.edu/detail...</td>\n",
       "      <td>[11A Deity, God (in general) ~ Christian relig...</td>\n",
       "      <td>True</td>\n",
       "    </tr>\n",
       "    <tr>\n",
       "      <th>112</th>\n",
       "      <td>E051589</td>\n",
       "      <td>Der Dreyen Eines., Der Bedeutende.</td>\n",
       "      <td>1646</td>\n",
       "      <td>http://emblemimages.library.illinois.edu/53781...</td>\n",
       "      <td>86(DER DREYEN EINES., DER BEDEUTENDE) proverbs...</td>\n",
       "      <td>25I22 prospect of village, silhouette of village</td>\n",
       "      <td>25G3(OAK) trees: oak</td>\n",
       "      <td>25G21(OAK APPLE) fruits (OAK APPLE)</td>\n",
       "      <td>61B2(BERCHEN, Ernst von)3 historical person (B...</td>\n",
       "      <td>25F713(+1) spiders (+ animals used symbolically)</td>\n",
       "      <td>25F711(FLY)(+1) insects: fly (+ animals used s...</td>\n",
       "      <td>537816240</td>\n",
       "      <td>http://emblematica.library.illinois.edu/detail...</td>\n",
       "      <td>[86(DER DREYEN EINES., DER BEDEUTENDE) proverb...</td>\n",
       "      <td>True</td>\n",
       "    </tr>\n",
       "  </tbody>\n",
       "</table>\n",
       "<p>64 rows × 15 columns</p>\n",
       "</div>\n",
       "      <button class=\"colab-df-convert\" onclick=\"convertToInteractive('df-c1a4f5c3-9308-4389-879b-04c3950d0c30')\"\n",
       "              title=\"Convert this dataframe to an interactive table.\"\n",
       "              style=\"display:none;\">\n",
       "        \n",
       "  <svg xmlns=\"http://www.w3.org/2000/svg\" height=\"24px\"viewBox=\"0 0 24 24\"\n",
       "       width=\"24px\">\n",
       "    <path d=\"M0 0h24v24H0V0z\" fill=\"none\"/>\n",
       "    <path d=\"M18.56 5.44l.94 2.06.94-2.06 2.06-.94-2.06-.94-.94-2.06-.94 2.06-2.06.94zm-11 1L8.5 8.5l.94-2.06 2.06-.94-2.06-.94L8.5 2.5l-.94 2.06-2.06.94zm10 10l.94 2.06.94-2.06 2.06-.94-2.06-.94-.94-2.06-.94 2.06-2.06.94z\"/><path d=\"M17.41 7.96l-1.37-1.37c-.4-.4-.92-.59-1.43-.59-.52 0-1.04.2-1.43.59L10.3 9.45l-7.72 7.72c-.78.78-.78 2.05 0 2.83L4 21.41c.39.39.9.59 1.41.59.51 0 1.02-.2 1.41-.59l7.78-7.78 2.81-2.81c.8-.78.8-2.07 0-2.86zM5.41 20L4 18.59l7.72-7.72 1.47 1.35L5.41 20z\"/>\n",
       "  </svg>\n",
       "      </button>\n",
       "      \n",
       "  <style>\n",
       "    .colab-df-container {\n",
       "      display:flex;\n",
       "      flex-wrap:wrap;\n",
       "      gap: 12px;\n",
       "    }\n",
       "\n",
       "    .colab-df-convert {\n",
       "      background-color: #E8F0FE;\n",
       "      border: none;\n",
       "      border-radius: 50%;\n",
       "      cursor: pointer;\n",
       "      display: none;\n",
       "      fill: #1967D2;\n",
       "      height: 32px;\n",
       "      padding: 0 0 0 0;\n",
       "      width: 32px;\n",
       "    }\n",
       "\n",
       "    .colab-df-convert:hover {\n",
       "      background-color: #E2EBFA;\n",
       "      box-shadow: 0px 1px 2px rgba(60, 64, 67, 0.3), 0px 1px 3px 1px rgba(60, 64, 67, 0.15);\n",
       "      fill: #174EA6;\n",
       "    }\n",
       "\n",
       "    [theme=dark] .colab-df-convert {\n",
       "      background-color: #3B4455;\n",
       "      fill: #D2E3FC;\n",
       "    }\n",
       "\n",
       "    [theme=dark] .colab-df-convert:hover {\n",
       "      background-color: #434B5C;\n",
       "      box-shadow: 0px 1px 3px 1px rgba(0, 0, 0, 0.15);\n",
       "      filter: drop-shadow(0px 1px 2px rgba(0, 0, 0, 0.3));\n",
       "      fill: #FFFFFF;\n",
       "    }\n",
       "  </style>\n",
       "\n",
       "      <script>\n",
       "        const buttonEl =\n",
       "          document.querySelector('#df-c1a4f5c3-9308-4389-879b-04c3950d0c30 button.colab-df-convert');\n",
       "        buttonEl.style.display =\n",
       "          google.colab.kernel.accessAllowed ? 'block' : 'none';\n",
       "\n",
       "        async function convertToInteractive(key) {\n",
       "          const element = document.querySelector('#df-c1a4f5c3-9308-4389-879b-04c3950d0c30');\n",
       "          const dataTable =\n",
       "            await google.colab.kernel.invokeFunction('convertToInteractive',\n",
       "                                                     [key], {});\n",
       "          if (!dataTable) return;\n",
       "\n",
       "          const docLinkHtml = 'Like what you see? Visit the ' +\n",
       "            '<a target=\"_blank\" href=https://colab.research.google.com/notebooks/data_table.ipynb>data table notebook</a>'\n",
       "            + ' to learn more about interactive tables.';\n",
       "          element.innerHTML = '';\n",
       "          dataTable['output_type'] = 'display_data';\n",
       "          await google.colab.output.renderOutput(dataTable, element);\n",
       "          const docLink = document.createElement('div');\n",
       "          docLink.innerHTML = docLinkHtml;\n",
       "          element.appendChild(docLink);\n",
       "        }\n",
       "      </script>\n",
       "    </div>\n",
       "  </div>\n",
       "  "
      ],
      "text/plain": [
       "    Emblem_ID  ... is_animal\n",
       "0     E000913  ...      True\n",
       "23    E010938  ...      True\n",
       "24    E011084  ...      True\n",
       "27    E011171  ...      True\n",
       "30    E013761  ...      True\n",
       "..        ...  ...       ...\n",
       "96    E032198  ...      True\n",
       "97    E032199  ...      True\n",
       "98    E032489  ...      True\n",
       "99    E032524  ...      True\n",
       "112   E051589  ...      True\n",
       "\n",
       "[64 rows x 15 columns]"
      ]
     },
     "execution_count": 79,
     "metadata": {},
     "output_type": "execute_result"
    }
   ],
   "source": [
    "emblems[emblems.is_animal]"
   ]
  },
  {
   "cell_type": "markdown",
   "metadata": {
    "id": "_6LVfgjvIImh"
   },
   "source": [
    "___"
   ]
  },
  {
   "cell_type": "markdown",
   "metadata": {
    "id": "nCMWrCJqIImi"
   },
   "source": [
    "## E.  Combining, Joining, and Merging DataFrames\n",
    "\n",
    "### E.1 We can merge the emblem and book dataframes on the basis of some shared data\n",
    "\n",
    "* In this case the **Published_In** column in the emblems list corresponds to the **Book_Id**\n",
    "* In Pandas, the two frames to be joined are called \"left\" and \"right\"\n",
    "* The \"suffixes\" argument tells Pandas how to handle fields are otherwise named identically in the source files"
   ]
  },
  {
   "cell_type": "code",
   "execution_count": 110,
   "metadata": {
    "ExecuteTime": {
     "end_time": "2022-02-10T23:28:17.168374Z",
     "start_time": "2022-02-10T23:28:17.160461Z"
    },
    "colab": {
     "base_uri": "https://localhost:8080/",
     "height": 565
    },
    "id": "zyZ8DaF6IImi",
    "outputId": "32c5da50-9529-475e-d2e4-4353902ac201"
   },
   "outputs": [
    {
     "data": {
      "text/html": [
       "\n",
       "  <div id=\"df-b42a88f4-78d6-4064-8e1e-d7fc86f4a25f\">\n",
       "    <div class=\"colab-df-container\">\n",
       "      <div>\n",
       "<style scoped>\n",
       "    .dataframe tbody tr th:only-of-type {\n",
       "        vertical-align: middle;\n",
       "    }\n",
       "\n",
       "    .dataframe tbody tr th {\n",
       "        vertical-align: top;\n",
       "    }\n",
       "\n",
       "    .dataframe thead th {\n",
       "        text-align: right;\n",
       "    }\n",
       "</style>\n",
       "<table border=\"1\" class=\"dataframe\">\n",
       "  <thead>\n",
       "    <tr style=\"text-align: right;\">\n",
       "      <th></th>\n",
       "      <th>Emblem_ID</th>\n",
       "      <th>Emblem_Motto</th>\n",
       "      <th>Publication_Date_emblem</th>\n",
       "      <th>URL_for_Pictura</th>\n",
       "      <th>Iconclass_Heading_1</th>\n",
       "      <th>Iconclass_Heading_2</th>\n",
       "      <th>Iconclass_Heading_3</th>\n",
       "      <th>Iconclass_Heading_4</th>\n",
       "      <th>Iconclass_Heading_5</th>\n",
       "      <th>Iconclass_Heading_6</th>\n",
       "      <th>Iconclass_Heading_7</th>\n",
       "      <th>Published_In</th>\n",
       "      <th>URL_for_Book_Details_emblem</th>\n",
       "      <th>iconclasses</th>\n",
       "      <th>is_animal</th>\n",
       "      <th>Book_ID</th>\n",
       "      <th>URL_for_Book_Details_book</th>\n",
       "      <th>Book_Title</th>\n",
       "      <th>Publication_Date_book</th>\n",
       "      <th>Publisher</th>\n",
       "      <th>Place_of_Publication</th>\n",
       "      <th>Author_1</th>\n",
       "      <th>Author_2</th>\n",
       "      <th>Author_3</th>\n",
       "      <th>Author_4</th>\n",
       "      <th>Author_5</th>\n",
       "      <th>Contributor_1</th>\n",
       "      <th>Contributor_2</th>\n",
       "      <th>Contributor_3</th>\n",
       "    </tr>\n",
       "  </thead>\n",
       "  <tbody>\n",
       "    <tr>\n",
       "      <th>108</th>\n",
       "      <td>E050519</td>\n",
       "      <td>Wer dieses nimt in acht.</td>\n",
       "      <td>1643</td>\n",
       "      <td>http://emblemimages.library.illinois.edu/87251...</td>\n",
       "      <td>86(WER DIESES NIMT IN ACHT) proverbs, sayings,...</td>\n",
       "      <td>86(UND ALSO HELT DIE WACHT) proverbs, sayings,...</td>\n",
       "      <td>86(THUT ALLES MIT BEDACHT) proverbs, sayings, ...</td>\n",
       "      <td>41A711 table</td>\n",
       "      <td>49MM32 book - MM - book open</td>\n",
       "      <td>49M32 book</td>\n",
       "      <td>46B3311 scales</td>\n",
       "      <td>872516830</td>\n",
       "      <td>http://emblematica.library.illinois.edu/detail...</td>\n",
       "      <td>[86(WER DIESES NIMT IN ACHT) proverbs, sayings...</td>\n",
       "      <td>False</td>\n",
       "      <td>872516830</td>\n",
       "      <td>http://emblematica.library.illinois.edu/detail...</td>\n",
       "      <td>Dreiständige Sinnbilder: Zu Fruchtbringendem N...</td>\n",
       "      <td>1643</td>\n",
       "      <td>Buno</td>\n",
       "      <td>Braunschweig</td>\n",
       "      <td>Geheime, Der</td>\n",
       "      <td>NaN</td>\n",
       "      <td>NaN</td>\n",
       "      <td>NaN</td>\n",
       "      <td>NaN</td>\n",
       "      <td>Nährende, Der &lt;Anhalt-Köthen, Fürst&gt;</td>\n",
       "      <td>Unverdrossene, Der</td>\n",
       "      <td>Suchende, Der</td>\n",
       "    </tr>\n",
       "    <tr>\n",
       "      <th>109</th>\n",
       "      <td>E050525</td>\n",
       "      <td>Den mund schleus zu.</td>\n",
       "      <td>1643</td>\n",
       "      <td>http://emblemimages.library.illinois.edu/87251...</td>\n",
       "      <td>86(DEN MUND SCHLEUS ZU) proverbs, sayings, etc...</td>\n",
       "      <td>86(DIE ZUNG BIND DU) proverbs, sayings, etc. (...</td>\n",
       "      <td>86(KOMMT FRIED UND RUH) proverbs, sayings, etc...</td>\n",
       "      <td>31D14(+53) adult man (+ sitting)</td>\n",
       "      <td>31B623591 putting a finger to the lips, 'Silen...</td>\n",
       "      <td>52DD3 Taciturnity; 'Secretezza', 'Secretezza o...</td>\n",
       "      <td>54F14 Advantage</td>\n",
       "      <td>872516830</td>\n",
       "      <td>http://emblematica.library.illinois.edu/detail...</td>\n",
       "      <td>[86(DEN MUND SCHLEUS ZU) proverbs, sayings, et...</td>\n",
       "      <td>False</td>\n",
       "      <td>872516830</td>\n",
       "      <td>http://emblematica.library.illinois.edu/detail...</td>\n",
       "      <td>Dreiständige Sinnbilder: Zu Fruchtbringendem N...</td>\n",
       "      <td>1643</td>\n",
       "      <td>Buno</td>\n",
       "      <td>Braunschweig</td>\n",
       "      <td>Geheime, Der</td>\n",
       "      <td>NaN</td>\n",
       "      <td>NaN</td>\n",
       "      <td>NaN</td>\n",
       "      <td>NaN</td>\n",
       "      <td>Nährende, Der &lt;Anhalt-Köthen, Fürst&gt;</td>\n",
       "      <td>Unverdrossene, Der</td>\n",
       "      <td>Suchende, Der</td>\n",
       "    </tr>\n",
       "    <tr>\n",
       "      <th>110</th>\n",
       "      <td>E050539</td>\n",
       "      <td>Fried uns erhelt.</td>\n",
       "      <td>1643</td>\n",
       "      <td>http://emblemimages.library.illinois.edu/87251...</td>\n",
       "      <td>86(FRIED UNS ERHELT) proverbs, sayings, etc. (...</td>\n",
       "      <td>86(UNFRIED UNS STELLT) proverbs, sayings, etc....</td>\n",
       "      <td>86(BLEIB IM GEZELT) proverbs, sayings, etc. (B...</td>\n",
       "      <td>31A25431 three or more clasped hands, meaning ...</td>\n",
       "      <td>25H1121 mountain-top, peak</td>\n",
       "      <td>45A20 symbols, allegories of peace, 'Pax'; 'Pa...</td>\n",
       "      <td>57A62 Fidelity; 'Fedeltà' (Ripa)</td>\n",
       "      <td>872516830</td>\n",
       "      <td>http://emblematica.library.illinois.edu/detail...</td>\n",
       "      <td>[86(FRIED UNS ERHELT) proverbs, sayings, etc. ...</td>\n",
       "      <td>False</td>\n",
       "      <td>872516830</td>\n",
       "      <td>http://emblematica.library.illinois.edu/detail...</td>\n",
       "      <td>Dreiständige Sinnbilder: Zu Fruchtbringendem N...</td>\n",
       "      <td>1643</td>\n",
       "      <td>Buno</td>\n",
       "      <td>Braunschweig</td>\n",
       "      <td>Geheime, Der</td>\n",
       "      <td>NaN</td>\n",
       "      <td>NaN</td>\n",
       "      <td>NaN</td>\n",
       "      <td>NaN</td>\n",
       "      <td>Nährende, Der &lt;Anhalt-Köthen, Fürst&gt;</td>\n",
       "      <td>Unverdrossene, Der</td>\n",
       "      <td>Suchende, Der</td>\n",
       "    </tr>\n",
       "    <tr>\n",
       "      <th>111</th>\n",
       "      <td>E050541</td>\n",
       "      <td>So rüst' ich mich.</td>\n",
       "      <td>1643</td>\n",
       "      <td>http://emblemimages.library.illinois.edu/87251...</td>\n",
       "      <td>86(SO RÜST' ICH MICH) proverbs, sayings, etc. ...</td>\n",
       "      <td>86(MICH ALSO ICH) proverbs, sayings, etc. (MIC...</td>\n",
       "      <td>86(ICH RITTERLICH) proverbs, sayings, etc. (IC...</td>\n",
       "      <td>46A124 knight</td>\n",
       "      <td>45C11(SPEAR) casting weapons: spear</td>\n",
       "      <td>54D1 Preparation</td>\n",
       "      <td>45A10 symbols, allegories of war; 'Guerra' (Ripa)</td>\n",
       "      <td>872516830</td>\n",
       "      <td>http://emblematica.library.illinois.edu/detail...</td>\n",
       "      <td>[86(SO RÜST' ICH MICH) proverbs, sayings, etc....</td>\n",
       "      <td>False</td>\n",
       "      <td>872516830</td>\n",
       "      <td>http://emblematica.library.illinois.edu/detail...</td>\n",
       "      <td>Dreiständige Sinnbilder: Zu Fruchtbringendem N...</td>\n",
       "      <td>1643</td>\n",
       "      <td>Buno</td>\n",
       "      <td>Braunschweig</td>\n",
       "      <td>Geheime, Der</td>\n",
       "      <td>NaN</td>\n",
       "      <td>NaN</td>\n",
       "      <td>NaN</td>\n",
       "      <td>NaN</td>\n",
       "      <td>Nährende, Der &lt;Anhalt-Köthen, Fürst&gt;</td>\n",
       "      <td>Unverdrossene, Der</td>\n",
       "      <td>Suchende, Der</td>\n",
       "    </tr>\n",
       "    <tr>\n",
       "      <th>112</th>\n",
       "      <td>E051589</td>\n",
       "      <td>Der Dreyen Eines., Der Bedeutende.</td>\n",
       "      <td>1646</td>\n",
       "      <td>http://emblemimages.library.illinois.edu/53781...</td>\n",
       "      <td>86(DER DREYEN EINES., DER BEDEUTENDE) proverbs...</td>\n",
       "      <td>25I22 prospect of village, silhouette of village</td>\n",
       "      <td>25G3(OAK) trees: oak</td>\n",
       "      <td>25G21(OAK APPLE) fruits (OAK APPLE)</td>\n",
       "      <td>61B2(BERCHEN, Ernst von)3 historical person (B...</td>\n",
       "      <td>25F713(+1) spiders (+ animals used symbolically)</td>\n",
       "      <td>25F711(FLY)(+1) insects: fly (+ animals used s...</td>\n",
       "      <td>537816240</td>\n",
       "      <td>http://emblematica.library.illinois.edu/detail...</td>\n",
       "      <td>[86(DER DREYEN EINES., DER BEDEUTENDE) proverb...</td>\n",
       "      <td>True</td>\n",
       "      <td>537816240</td>\n",
       "      <td>http://emblematica.library.illinois.edu/detail...</td>\n",
       "      <td>Fruchtbringenden Geselschaft Nahmen/ Vorhaben/...</td>\n",
       "      <td>1646</td>\n",
       "      <td>Merian</td>\n",
       "      <td>Franckfurt am Mayn</td>\n",
       "      <td>Ludwig &lt;Anhalt-Köthen, Fürst&gt;</td>\n",
       "      <td>NaN</td>\n",
       "      <td>NaN</td>\n",
       "      <td>NaN</td>\n",
       "      <td>NaN</td>\n",
       "      <td>Merian, Matthäus &lt;der Ältere&gt;</td>\n",
       "      <td>Merian, Matthaeus &lt;der Ältere&gt;</td>\n",
       "      <td>NaN</td>\n",
       "    </tr>\n",
       "  </tbody>\n",
       "</table>\n",
       "</div>\n",
       "      <button class=\"colab-df-convert\" onclick=\"convertToInteractive('df-b42a88f4-78d6-4064-8e1e-d7fc86f4a25f')\"\n",
       "              title=\"Convert this dataframe to an interactive table.\"\n",
       "              style=\"display:none;\">\n",
       "        \n",
       "  <svg xmlns=\"http://www.w3.org/2000/svg\" height=\"24px\"viewBox=\"0 0 24 24\"\n",
       "       width=\"24px\">\n",
       "    <path d=\"M0 0h24v24H0V0z\" fill=\"none\"/>\n",
       "    <path d=\"M18.56 5.44l.94 2.06.94-2.06 2.06-.94-2.06-.94-.94-2.06-.94 2.06-2.06.94zm-11 1L8.5 8.5l.94-2.06 2.06-.94-2.06-.94L8.5 2.5l-.94 2.06-2.06.94zm10 10l.94 2.06.94-2.06 2.06-.94-2.06-.94-.94-2.06-.94 2.06-2.06.94z\"/><path d=\"M17.41 7.96l-1.37-1.37c-.4-.4-.92-.59-1.43-.59-.52 0-1.04.2-1.43.59L10.3 9.45l-7.72 7.72c-.78.78-.78 2.05 0 2.83L4 21.41c.39.39.9.59 1.41.59.51 0 1.02-.2 1.41-.59l7.78-7.78 2.81-2.81c.8-.78.8-2.07 0-2.86zM5.41 20L4 18.59l7.72-7.72 1.47 1.35L5.41 20z\"/>\n",
       "  </svg>\n",
       "      </button>\n",
       "      \n",
       "  <style>\n",
       "    .colab-df-container {\n",
       "      display:flex;\n",
       "      flex-wrap:wrap;\n",
       "      gap: 12px;\n",
       "    }\n",
       "\n",
       "    .colab-df-convert {\n",
       "      background-color: #E8F0FE;\n",
       "      border: none;\n",
       "      border-radius: 50%;\n",
       "      cursor: pointer;\n",
       "      display: none;\n",
       "      fill: #1967D2;\n",
       "      height: 32px;\n",
       "      padding: 0 0 0 0;\n",
       "      width: 32px;\n",
       "    }\n",
       "\n",
       "    .colab-df-convert:hover {\n",
       "      background-color: #E2EBFA;\n",
       "      box-shadow: 0px 1px 2px rgba(60, 64, 67, 0.3), 0px 1px 3px 1px rgba(60, 64, 67, 0.15);\n",
       "      fill: #174EA6;\n",
       "    }\n",
       "\n",
       "    [theme=dark] .colab-df-convert {\n",
       "      background-color: #3B4455;\n",
       "      fill: #D2E3FC;\n",
       "    }\n",
       "\n",
       "    [theme=dark] .colab-df-convert:hover {\n",
       "      background-color: #434B5C;\n",
       "      box-shadow: 0px 1px 3px 1px rgba(0, 0, 0, 0.15);\n",
       "      filter: drop-shadow(0px 1px 2px rgba(0, 0, 0, 0.3));\n",
       "      fill: #FFFFFF;\n",
       "    }\n",
       "  </style>\n",
       "\n",
       "      <script>\n",
       "        const buttonEl =\n",
       "          document.querySelector('#df-b42a88f4-78d6-4064-8e1e-d7fc86f4a25f button.colab-df-convert');\n",
       "        buttonEl.style.display =\n",
       "          google.colab.kernel.accessAllowed ? 'block' : 'none';\n",
       "\n",
       "        async function convertToInteractive(key) {\n",
       "          const element = document.querySelector('#df-b42a88f4-78d6-4064-8e1e-d7fc86f4a25f');\n",
       "          const dataTable =\n",
       "            await google.colab.kernel.invokeFunction('convertToInteractive',\n",
       "                                                     [key], {});\n",
       "          if (!dataTable) return;\n",
       "\n",
       "          const docLinkHtml = 'Like what you see? Visit the ' +\n",
       "            '<a target=\"_blank\" href=https://colab.research.google.com/notebooks/data_table.ipynb>data table notebook</a>'\n",
       "            + ' to learn more about interactive tables.';\n",
       "          element.innerHTML = '';\n",
       "          dataTable['output_type'] = 'display_data';\n",
       "          await google.colab.output.renderOutput(dataTable, element);\n",
       "          const docLink = document.createElement('div');\n",
       "          docLink.innerHTML = docLinkHtml;\n",
       "          element.appendChild(docLink);\n",
       "        }\n",
       "      </script>\n",
       "    </div>\n",
       "  </div>\n",
       "  "
      ],
      "text/plain": [
       "    Emblem_ID  ...  Contributor_3\n",
       "108   E050519  ...  Suchende, Der\n",
       "109   E050525  ...  Suchende, Der\n",
       "110   E050539  ...  Suchende, Der\n",
       "111   E050541  ...  Suchende, Der\n",
       "112   E051589  ...            NaN\n",
       "\n",
       "[5 rows x 29 columns]"
      ]
     },
     "execution_count": 110,
     "metadata": {},
     "output_type": "execute_result"
    }
   ],
   "source": [
    "emblems_combined = pd.merge(left=emblems, \n",
    "         right=books, \n",
    "         left_on=\"Published_In\", \n",
    "         right_on=\"Book_ID\", \n",
    "         how=\"left\", \n",
    "         suffixes=[\"_emblem\", \"_book\"])\n",
    "\n",
    "emblems_combined.tail()"
   ]
  },
  {
   "cell_type": "code",
   "execution_count": 111,
   "metadata": {
    "colab": {
     "base_uri": "https://localhost:8080/"
    },
    "id": "aEUD1afQVaAL",
    "outputId": "171c169c-d075-47e1-db75-9e0a40caff58"
   },
   "outputs": [
    {
     "data": {
      "text/plain": [
       "(113, 15)"
      ]
     },
     "execution_count": 111,
     "metadata": {},
     "output_type": "execute_result"
    }
   ],
   "source": [
    "emblems.shape\n"
   ]
  },
  {
   "cell_type": "code",
   "execution_count": 112,
   "metadata": {
    "colab": {
     "base_uri": "https://localhost:8080/"
    },
    "id": "eABiVgo5Vgp4",
    "outputId": "d0bddd74-c22f-4b35-bc12-6da47948495f"
   },
   "outputs": [
    {
     "data": {
      "text/plain": [
       "(113, 29)"
      ]
     },
     "execution_count": 112,
     "metadata": {},
     "output_type": "execute_result"
    }
   ],
   "source": [
    "emblems_combined.shape"
   ]
  },
  {
   "cell_type": "code",
   "execution_count": 113,
   "metadata": {
    "ExecuteTime": {
     "end_time": "2022-02-10T23:28:17.198385Z",
     "start_time": "2022-02-10T23:28:17.189548Z"
    },
    "colab": {
     "base_uri": "https://localhost:8080/"
    },
    "id": "dNqOC9gNIImj",
    "outputId": "0c3eeb30-d131-4ef9-d5a2-79b3fa0f9423"
   },
   "outputs": [
    {
     "data": {
      "text/plain": [
       "Index(['Emblem_ID', 'Emblem_Motto', 'Publication_Date_emblem',\n",
       "       'URL_for_Pictura', 'Iconclass_Heading_1', 'Iconclass_Heading_2',\n",
       "       'Iconclass_Heading_3', 'Iconclass_Heading_4', 'Iconclass_Heading_5',\n",
       "       'Iconclass_Heading_6', 'Iconclass_Heading_7', 'Published_In',\n",
       "       'URL_for_Book_Details_emblem', 'iconclasses', 'is_animal', 'Book_ID',\n",
       "       'URL_for_Book_Details_book', 'Book_Title', 'Publication_Date_book',\n",
       "       'Publisher', 'Place_of_Publication', 'Author_1', 'Author_2', 'Author_3',\n",
       "       'Author_4', 'Author_5', 'Contributor_1', 'Contributor_2',\n",
       "       'Contributor_3'],\n",
       "      dtype='object')"
      ]
     },
     "execution_count": 113,
     "metadata": {},
     "output_type": "execute_result"
    }
   ],
   "source": [
    "emblems_combined.columns"
   ]
  },
  {
   "cell_type": "markdown",
   "metadata": {
    "id": "jbO4ZZ3xIImh"
   },
   "source": [
    "#### Let's see where emblems with animals were published:"
   ]
  },
  {
   "cell_type": "code",
   "execution_count": 114,
   "metadata": {
    "ExecuteTime": {
     "end_time": "2022-02-10T23:28:17.208778Z",
     "start_time": "2022-02-10T23:28:17.200786Z"
    },
    "colab": {
     "base_uri": "https://localhost:8080/"
    },
    "id": "c9CmFG-bIImh",
    "outputId": "bce4c4bb-e410-4efe-c7d0-de7f5c1961aa"
   },
   "outputs": [
    {
     "data": {
      "text/plain": [
       "array(['A Cologny', 'A Lyon', 'Amsterdam', 'Augspurg', 'Bruxellae',\n",
       "       'Coloniae', 'En Lyon', 'Excvsvm Avgvstae Vindelicorum',\n",
       "       'Excvsvm Avgvstæ Vindelicorum', 'Franckfurt am Mayn',\n",
       "       'Gedruckt zu Franckfurt am Mayn', 'Heidelberg',\n",
       "       'Impresso en la ciudad de Najera', 'In Lione', 'London', 'Lugduni',\n",
       "       'Lvgd', 'Lvgdvni', 'Lvgdvni Batavorvm', 'Lyon', 'Nurembergµ',\n",
       "       'Nürnberg', 'On les uend à Paris', 'On les vend a Paris', 'Paris',\n",
       "       'Parisiis', 'Patauij'], dtype=object)"
      ]
     },
     "execution_count": 114,
     "metadata": {},
     "output_type": "execute_result"
    }
   ],
   "source": [
    "emblems_combined[emblems_combined.is_animal][\"Place_of_Publication\"].sort_values().unique()"
   ]
  },
  {
   "cell_type": "markdown",
   "metadata": {
    "id": "li7cXHOWIImj"
   },
   "source": [
    "___"
   ]
  },
  {
   "cell_type": "markdown",
   "metadata": {
    "id": "KlsgqLZCIImj"
   },
   "source": [
    "## F.  Decima Data\n",
    "\n",
    "* Let's load the Decima data"
   ]
  },
  {
   "cell_type": "code",
   "execution_count": 115,
   "metadata": {
    "ExecuteTime": {
     "end_time": "2022-02-10T23:28:17.220681Z",
     "start_time": "2022-02-10T23:28:17.212468Z"
    },
    "id": "Su8S40fpIImj"
   },
   "outputs": [],
   "source": [
    "decima = pd.read_csv(decima_data)"
   ]
  },
  {
   "cell_type": "markdown",
   "metadata": {
    "id": "rCdPtBqcIImj"
   },
   "source": [
    "#### Should we add something about renaming columns?"
   ]
  },
  {
   "cell_type": "code",
   "execution_count": 116,
   "metadata": {
    "ExecuteTime": {
     "end_time": "2022-02-10T23:28:17.246010Z",
     "start_time": "2022-02-10T23:28:17.222500Z"
    },
    "colab": {
     "base_uri": "https://localhost:8080/",
     "height": 652
    },
    "id": "hS7SFkI4IImk",
    "outputId": "8967c1c2-0543-4d33-b50c-7ed4d5a737ca"
   },
   "outputs": [
    {
     "data": {
      "text/html": [
       "\n",
       "  <div id=\"df-34c60f19-1b5e-45a6-84f2-b91d1685992e\">\n",
       "    <div class=\"colab-df-container\">\n",
       "      <div>\n",
       "<style scoped>\n",
       "    .dataframe tbody tr th:only-of-type {\n",
       "        vertical-align: middle;\n",
       "    }\n",
       "\n",
       "    .dataframe tbody tr th {\n",
       "        vertical-align: top;\n",
       "    }\n",
       "\n",
       "    .dataframe thead th {\n",
       "        text-align: right;\n",
       "    }\n",
       "</style>\n",
       "<table border=\"1\" class=\"dataframe\">\n",
       "  <thead>\n",
       "    <tr style=\"text-align: right;\">\n",
       "      <th></th>\n",
       "      <th>OBJECTID</th>\n",
       "      <th>Y</th>\n",
       "      <th>X</th>\n",
       "      <th>Folio</th>\n",
       "      <th>Entry Number</th>\n",
       "      <th>Entry Number.1</th>\n",
       "      <th>Owner in Source</th>\n",
       "      <th>Standardized Alternative</th>\n",
       "      <th>Source</th>\n",
       "      <th>Age of Confraternity (if estimate, *)</th>\n",
       "      <th>Type</th>\n",
       "      <th>Property Type</th>\n",
       "      <th>Rent - Lire</th>\n",
       "      <th>Rent - Scudi</th>\n",
       "      <th>Value</th>\n",
       "      <th>Male Tenants</th>\n",
       "      <th>Female Tenants</th>\n",
       "      <th>Total Residents</th>\n",
       "      <th>Contract Description</th>\n",
       "      <th>Contract</th>\n",
       "      <th>Owner Type</th>\n",
       "      <th>Other Owner Name</th>\n",
       "      <th>Tenant</th>\n",
       "      <th>Tenant Gender</th>\n",
       "      <th>Tenant Occupation</th>\n",
       "      <th>Resident 1 Name</th>\n",
       "      <th>Resident 1 Gender</th>\n",
       "      <th>Resident 1 Occupation</th>\n",
       "      <th>Resident 2 Name</th>\n",
       "      <th>Resident 2 Gender</th>\n",
       "      <th>Resident 2 Occupation</th>\n",
       "      <th>Resident 3 Name</th>\n",
       "      <th>Resident 3 Gender</th>\n",
       "      <th>Resident 3 Occupation</th>\n",
       "      <th>Building Description</th>\n",
       "      <th>Quartiere</th>\n",
       "      <th>Popolo</th>\n",
       "      <th>Street</th>\n",
       "      <th>Location Information</th>\n",
       "      <th>OBJECTID.1</th>\n",
       "      <th>Y.1</th>\n",
       "      <th>X.1</th>\n",
       "      <th>Folio.1</th>\n",
       "      <th>Entry Number.2</th>\n",
       "    </tr>\n",
       "  </thead>\n",
       "  <tbody>\n",
       "    <tr>\n",
       "      <th>0</th>\n",
       "      <td>2073</td>\n",
       "      <td>43.770558</td>\n",
       "      <td>11.270464</td>\n",
       "      <td>179v</td>\n",
       "      <td>2784</td>\n",
       "      <td>2784</td>\n",
       "      <td>Cappella, o vero, compagnia degl'Azzurri di S....</td>\n",
       "      <td>S. Maria della Neve</td>\n",
       "      <td>Henderson P&amp;C #114</td>\n",
       "      <td>1445*</td>\n",
       "      <td>Flagellant</td>\n",
       "      <td>Residential</td>\n",
       "      <td>NaN</td>\n",
       "      <td>4.0</td>\n",
       "      <td>4</td>\n",
       "      <td>3</td>\n",
       "      <td>3</td>\n",
       "      <td>6</td>\n",
       "      <td>a pigione</td>\n",
       "      <td>Rent</td>\n",
       "      <td>Institutional</td>\n",
       "      <td>NaN</td>\n",
       "      <td>Domenico di Francesco di Casantino</td>\n",
       "      <td>Male</td>\n",
       "      <td>NaN</td>\n",
       "      <td>Domenico di Francesco di Casantino</td>\n",
       "      <td>Male</td>\n",
       "      <td>NaN</td>\n",
       "      <td>Piero di Bartolomeo da Settignato</td>\n",
       "      <td>Male</td>\n",
       "      <td>NaN</td>\n",
       "      <td>NaN</td>\n",
       "      <td>NaN</td>\n",
       "      <td>NaN</td>\n",
       "      <td>casa</td>\n",
       "      <td>s. Giovanni</td>\n",
       "      <td>S. Piero</td>\n",
       "      <td>Borgo della Porta alla Croce</td>\n",
       "      <td>contigua alla suddetta et a una delle Monache ...</td>\n",
       "      <td>2073</td>\n",
       "      <td>43.770558</td>\n",
       "      <td>11.270464</td>\n",
       "      <td>179v</td>\n",
       "      <td>2784</td>\n",
       "    </tr>\n",
       "    <tr>\n",
       "      <th>1</th>\n",
       "      <td>3219</td>\n",
       "      <td>43.770336</td>\n",
       "      <td>11.264497</td>\n",
       "      <td>195r</td>\n",
       "      <td>3033</td>\n",
       "      <td>3033</td>\n",
       "      <td>Compagnia che sotto S. Piero Maggiore</td>\n",
       "      <td>S Pier Maggiore</td>\n",
       "      <td>Henderson P&amp;C #137</td>\n",
       "      <td>NaN</td>\n",
       "      <td>NaN</td>\n",
       "      <td>Residential</td>\n",
       "      <td>NaN</td>\n",
       "      <td>7.0</td>\n",
       "      <td>8</td>\n",
       "      <td>1</td>\n",
       "      <td>2</td>\n",
       "      <td>3</td>\n",
       "      <td>a pigione</td>\n",
       "      <td>Rent</td>\n",
       "      <td>Institutional</td>\n",
       "      <td>NaN</td>\n",
       "      <td>Marchonne di Giovannni Dazzi</td>\n",
       "      <td>Male</td>\n",
       "      <td>NaN</td>\n",
       "      <td>Marchonne di Giovannni Dazzi</td>\n",
       "      <td>Male</td>\n",
       "      <td>NaN</td>\n",
       "      <td>NaN</td>\n",
       "      <td>NaN</td>\n",
       "      <td>NaN</td>\n",
       "      <td>NaN</td>\n",
       "      <td>NaN</td>\n",
       "      <td>NaN</td>\n",
       "      <td>casa</td>\n",
       "      <td>s. Giovanni</td>\n",
       "      <td>S. Ambrogio</td>\n",
       "      <td>Via dell'Agnolo</td>\n",
       "      <td>contigua alla suddetta et a una di Francesco d...</td>\n",
       "      <td>3219</td>\n",
       "      <td>43.770336</td>\n",
       "      <td>11.264497</td>\n",
       "      <td>195r</td>\n",
       "      <td>3033</td>\n",
       "    </tr>\n",
       "    <tr>\n",
       "      <th>2</th>\n",
       "      <td>2203</td>\n",
       "      <td>43.771118</td>\n",
       "      <td>11.269190</td>\n",
       "      <td>157</td>\n",
       "      <td>2421</td>\n",
       "      <td>2421</td>\n",
       "      <td>Compagnia che sotto S. Piero Maggiore</td>\n",
       "      <td>S Pier Maggiore</td>\n",
       "      <td>Henderson P&amp;C #137</td>\n",
       "      <td>NaN</td>\n",
       "      <td>NaN</td>\n",
       "      <td>Residential</td>\n",
       "      <td>NaN</td>\n",
       "      <td>7.0</td>\n",
       "      <td>7</td>\n",
       "      <td>0</td>\n",
       "      <td>6</td>\n",
       "      <td>6</td>\n",
       "      <td>a pigione</td>\n",
       "      <td>Rent</td>\n",
       "      <td>Institutional</td>\n",
       "      <td>NaN</td>\n",
       "      <td>La Dianora, vedova, donna fu di Piero Bastachi</td>\n",
       "      <td>Male</td>\n",
       "      <td>NaN</td>\n",
       "      <td>La Dianora, vedova, donna fu di Piero Bastachi</td>\n",
       "      <td>Female</td>\n",
       "      <td>NaN</td>\n",
       "      <td>NaN</td>\n",
       "      <td>NaN</td>\n",
       "      <td>NaN</td>\n",
       "      <td>NaN</td>\n",
       "      <td>NaN</td>\n",
       "      <td>NaN</td>\n",
       "      <td>casa in cappella</td>\n",
       "      <td>s. Giovanni</td>\n",
       "      <td>S. Piero Maggiore</td>\n",
       "      <td>Borgo della Porta alla Croce</td>\n",
       "      <td>contigua alla portaccia di Borgo alla croce et...</td>\n",
       "      <td>2203</td>\n",
       "      <td>43.771118</td>\n",
       "      <td>11.269190</td>\n",
       "      <td>157</td>\n",
       "      <td>2421</td>\n",
       "    </tr>\n",
       "    <tr>\n",
       "      <th>3</th>\n",
       "      <td>147</td>\n",
       "      <td>43.775931</td>\n",
       "      <td>11.252323</td>\n",
       "      <td>44r</td>\n",
       "      <td>681</td>\n",
       "      <td>681</td>\n",
       "      <td>Compagnia de' Cieci</td>\n",
       "      <td>S Maria del Giglio detto de'ciechi [S Ma. de P...</td>\n",
       "      <td>Henderson P&amp;C 104</td>\n",
       "      <td>1324</td>\n",
       "      <td>Charitable</td>\n",
       "      <td>Residential</td>\n",
       "      <td>NaN</td>\n",
       "      <td>5.0</td>\n",
       "      <td>5</td>\n",
       "      <td>2</td>\n",
       "      <td>3</td>\n",
       "      <td>5</td>\n",
       "      <td>a pigione</td>\n",
       "      <td>Rent</td>\n",
       "      <td>Institutional</td>\n",
       "      <td>NaN</td>\n",
       "      <td>Benedetto di Monsacco</td>\n",
       "      <td>Male</td>\n",
       "      <td>NaN</td>\n",
       "      <td>Benedetto di Monsacco</td>\n",
       "      <td>Male</td>\n",
       "      <td>NaN</td>\n",
       "      <td>NaN</td>\n",
       "      <td>NaN</td>\n",
       "      <td>NaN</td>\n",
       "      <td>NaN</td>\n",
       "      <td>NaN</td>\n",
       "      <td>NaN</td>\n",
       "      <td>Casa</td>\n",
       "      <td>s. Giovanni</td>\n",
       "      <td>S. Lorenzo</td>\n",
       "      <td>Via S. Jacopo in Campo Corbolino - Cella di Ci...</td>\n",
       "      <td>contigua a la soprascritta suoltando al lato d...</td>\n",
       "      <td>147</td>\n",
       "      <td>43.775931</td>\n",
       "      <td>11.252323</td>\n",
       "      <td>44r</td>\n",
       "      <td>681</td>\n",
       "    </tr>\n",
       "    <tr>\n",
       "      <th>4</th>\n",
       "      <td>7343</td>\n",
       "      <td>43.765810</td>\n",
       "      <td>11.247119</td>\n",
       "      <td>62v</td>\n",
       "      <td>1035</td>\n",
       "      <td>1035</td>\n",
       "      <td>Compagnia degl'Innocenti</td>\n",
       "      <td>SS Innocenti</td>\n",
       "      <td>Henderson P&amp;C #78</td>\n",
       "      <td>NaN</td>\n",
       "      <td>Flagellant</td>\n",
       "      <td>Residential</td>\n",
       "      <td>NaN</td>\n",
       "      <td>6.0</td>\n",
       "      <td>8</td>\n",
       "      <td>2</td>\n",
       "      <td>2</td>\n",
       "      <td>4</td>\n",
       "      <td>a sua vita</td>\n",
       "      <td>Life Lease</td>\n",
       "      <td>Institutional</td>\n",
       "      <td>NaN</td>\n",
       "      <td>Giovannozzo di Raffaello Parenti</td>\n",
       "      <td>Male</td>\n",
       "      <td>NaN</td>\n",
       "      <td>Giovannozzo di Raffaello Parenti</td>\n",
       "      <td>Male</td>\n",
       "      <td>NaN</td>\n",
       "      <td>NaN</td>\n",
       "      <td>NaN</td>\n",
       "      <td>NaN</td>\n",
       "      <td>NaN</td>\n",
       "      <td>NaN</td>\n",
       "      <td>NaN</td>\n",
       "      <td>una casa</td>\n",
       "      <td>s. Spirito</td>\n",
       "      <td>S. Felice in piazza</td>\n",
       "      <td>Via Mazzetta</td>\n",
       "      <td>in via mazzetta a 1o Rede di Piero Dei a 2o An...</td>\n",
       "      <td>7343</td>\n",
       "      <td>43.765810</td>\n",
       "      <td>11.247119</td>\n",
       "      <td>62v</td>\n",
       "      <td>1035</td>\n",
       "    </tr>\n",
       "  </tbody>\n",
       "</table>\n",
       "</div>\n",
       "      <button class=\"colab-df-convert\" onclick=\"convertToInteractive('df-34c60f19-1b5e-45a6-84f2-b91d1685992e')\"\n",
       "              title=\"Convert this dataframe to an interactive table.\"\n",
       "              style=\"display:none;\">\n",
       "        \n",
       "  <svg xmlns=\"http://www.w3.org/2000/svg\" height=\"24px\"viewBox=\"0 0 24 24\"\n",
       "       width=\"24px\">\n",
       "    <path d=\"M0 0h24v24H0V0z\" fill=\"none\"/>\n",
       "    <path d=\"M18.56 5.44l.94 2.06.94-2.06 2.06-.94-2.06-.94-.94-2.06-.94 2.06-2.06.94zm-11 1L8.5 8.5l.94-2.06 2.06-.94-2.06-.94L8.5 2.5l-.94 2.06-2.06.94zm10 10l.94 2.06.94-2.06 2.06-.94-2.06-.94-.94-2.06-.94 2.06-2.06.94z\"/><path d=\"M17.41 7.96l-1.37-1.37c-.4-.4-.92-.59-1.43-.59-.52 0-1.04.2-1.43.59L10.3 9.45l-7.72 7.72c-.78.78-.78 2.05 0 2.83L4 21.41c.39.39.9.59 1.41.59.51 0 1.02-.2 1.41-.59l7.78-7.78 2.81-2.81c.8-.78.8-2.07 0-2.86zM5.41 20L4 18.59l7.72-7.72 1.47 1.35L5.41 20z\"/>\n",
       "  </svg>\n",
       "      </button>\n",
       "      \n",
       "  <style>\n",
       "    .colab-df-container {\n",
       "      display:flex;\n",
       "      flex-wrap:wrap;\n",
       "      gap: 12px;\n",
       "    }\n",
       "\n",
       "    .colab-df-convert {\n",
       "      background-color: #E8F0FE;\n",
       "      border: none;\n",
       "      border-radius: 50%;\n",
       "      cursor: pointer;\n",
       "      display: none;\n",
       "      fill: #1967D2;\n",
       "      height: 32px;\n",
       "      padding: 0 0 0 0;\n",
       "      width: 32px;\n",
       "    }\n",
       "\n",
       "    .colab-df-convert:hover {\n",
       "      background-color: #E2EBFA;\n",
       "      box-shadow: 0px 1px 2px rgba(60, 64, 67, 0.3), 0px 1px 3px 1px rgba(60, 64, 67, 0.15);\n",
       "      fill: #174EA6;\n",
       "    }\n",
       "\n",
       "    [theme=dark] .colab-df-convert {\n",
       "      background-color: #3B4455;\n",
       "      fill: #D2E3FC;\n",
       "    }\n",
       "\n",
       "    [theme=dark] .colab-df-convert:hover {\n",
       "      background-color: #434B5C;\n",
       "      box-shadow: 0px 1px 3px 1px rgba(0, 0, 0, 0.15);\n",
       "      filter: drop-shadow(0px 1px 2px rgba(0, 0, 0, 0.3));\n",
       "      fill: #FFFFFF;\n",
       "    }\n",
       "  </style>\n",
       "\n",
       "      <script>\n",
       "        const buttonEl =\n",
       "          document.querySelector('#df-34c60f19-1b5e-45a6-84f2-b91d1685992e button.colab-df-convert');\n",
       "        buttonEl.style.display =\n",
       "          google.colab.kernel.accessAllowed ? 'block' : 'none';\n",
       "\n",
       "        async function convertToInteractive(key) {\n",
       "          const element = document.querySelector('#df-34c60f19-1b5e-45a6-84f2-b91d1685992e');\n",
       "          const dataTable =\n",
       "            await google.colab.kernel.invokeFunction('convertToInteractive',\n",
       "                                                     [key], {});\n",
       "          if (!dataTable) return;\n",
       "\n",
       "          const docLinkHtml = 'Like what you see? Visit the ' +\n",
       "            '<a target=\"_blank\" href=https://colab.research.google.com/notebooks/data_table.ipynb>data table notebook</a>'\n",
       "            + ' to learn more about interactive tables.';\n",
       "          element.innerHTML = '';\n",
       "          dataTable['output_type'] = 'display_data';\n",
       "          await google.colab.output.renderOutput(dataTable, element);\n",
       "          const docLink = document.createElement('div');\n",
       "          docLink.innerHTML = docLinkHtml;\n",
       "          element.appendChild(docLink);\n",
       "        }\n",
       "      </script>\n",
       "    </div>\n",
       "  </div>\n",
       "  "
      ],
      "text/plain": [
       "   OBJECTID          Y          X  ...        X.1  Folio.1  Entry Number.2\n",
       "0      2073  43.770558  11.270464  ...  11.270464     179v            2784\n",
       "1      3219  43.770336  11.264497  ...  11.264497     195r            3033\n",
       "2      2203  43.771118  11.269190  ...  11.269190      157            2421\n",
       "3       147  43.775931  11.252323  ...  11.252323      44r             681\n",
       "4      7343  43.765810  11.247119  ...  11.247119      62v            1035\n",
       "\n",
       "[5 rows x 44 columns]"
      ]
     },
     "execution_count": 116,
     "metadata": {},
     "output_type": "execute_result"
    }
   ],
   "source": [
    "decima.head()"
   ]
  },
  {
   "cell_type": "markdown",
   "metadata": {
    "id": "d3Wu5zQqIImk"
   },
   "source": [
    "### F.1 Slicing DataFrames\n",
    "\n",
    "#### Another way to slice data:  selected rows"
   ]
  },
  {
   "cell_type": "code",
   "execution_count": 131,
   "metadata": {
    "ExecuteTime": {
     "end_time": "2022-02-10T23:28:17.277382Z",
     "start_time": "2022-02-10T23:28:17.248073Z"
    },
    "colab": {
     "base_uri": "https://localhost:8080/",
     "height": 1000
    },
    "id": "iuBMs-VaIImk",
    "outputId": "5521d3a9-cf47-4ad3-9f1b-94851145061a"
   },
   "outputs": [
    {
     "data": {
      "text/html": [
       "\n",
       "  <div id=\"df-b43a31ae-810f-4c8b-ac50-4ec89c278956\">\n",
       "    <div class=\"colab-df-container\">\n",
       "      <div>\n",
       "<style scoped>\n",
       "    .dataframe tbody tr th:only-of-type {\n",
       "        vertical-align: middle;\n",
       "    }\n",
       "\n",
       "    .dataframe tbody tr th {\n",
       "        vertical-align: top;\n",
       "    }\n",
       "\n",
       "    .dataframe thead th {\n",
       "        text-align: right;\n",
       "    }\n",
       "</style>\n",
       "<table border=\"1\" class=\"dataframe\">\n",
       "  <thead>\n",
       "    <tr style=\"text-align: right;\">\n",
       "      <th></th>\n",
       "      <th>OBJECTID</th>\n",
       "      <th>Y</th>\n",
       "      <th>X</th>\n",
       "      <th>Folio</th>\n",
       "      <th>Entry Number</th>\n",
       "      <th>Entry Number.1</th>\n",
       "      <th>Owner in Source</th>\n",
       "      <th>Standardized Alternative</th>\n",
       "      <th>Source</th>\n",
       "      <th>Age of Confraternity (if estimate, *)</th>\n",
       "      <th>Type</th>\n",
       "      <th>Property Type</th>\n",
       "      <th>Rent - Lire</th>\n",
       "      <th>Rent - Scudi</th>\n",
       "      <th>Value</th>\n",
       "      <th>Male Tenants</th>\n",
       "      <th>Female Tenants</th>\n",
       "      <th>Total Residents</th>\n",
       "      <th>Contract Description</th>\n",
       "      <th>Contract</th>\n",
       "      <th>Owner Type</th>\n",
       "      <th>Other Owner Name</th>\n",
       "      <th>Tenant</th>\n",
       "      <th>Tenant Gender</th>\n",
       "      <th>Tenant Occupation</th>\n",
       "      <th>Resident 1 Name</th>\n",
       "      <th>Resident 1 Gender</th>\n",
       "      <th>Resident 1 Occupation</th>\n",
       "      <th>Resident 2 Name</th>\n",
       "      <th>Resident 2 Gender</th>\n",
       "      <th>Resident 2 Occupation</th>\n",
       "      <th>Resident 3 Name</th>\n",
       "      <th>Resident 3 Gender</th>\n",
       "      <th>Resident 3 Occupation</th>\n",
       "      <th>Building Description</th>\n",
       "      <th>Quartiere</th>\n",
       "      <th>Popolo</th>\n",
       "      <th>Street</th>\n",
       "      <th>Location Information</th>\n",
       "      <th>OBJECTID.1</th>\n",
       "      <th>Y.1</th>\n",
       "      <th>X.1</th>\n",
       "      <th>Folio.1</th>\n",
       "      <th>Entry Number.2</th>\n",
       "      <th>popup_column</th>\n",
       "    </tr>\n",
       "  </thead>\n",
       "  <tbody>\n",
       "    <tr>\n",
       "      <th>0</th>\n",
       "      <td>2073</td>\n",
       "      <td>43.770558</td>\n",
       "      <td>11.270464</td>\n",
       "      <td>179v</td>\n",
       "      <td>2784</td>\n",
       "      <td>2784</td>\n",
       "      <td>Cappella, o vero, compagnia degl'Azzurri di S....</td>\n",
       "      <td>S. Maria della Neve</td>\n",
       "      <td>Henderson P&amp;C #114</td>\n",
       "      <td>1445*</td>\n",
       "      <td>Flagellant</td>\n",
       "      <td>Residential</td>\n",
       "      <td>NaN</td>\n",
       "      <td>4.0</td>\n",
       "      <td>4</td>\n",
       "      <td>3</td>\n",
       "      <td>3</td>\n",
       "      <td>6</td>\n",
       "      <td>a pigione</td>\n",
       "      <td>Rent</td>\n",
       "      <td>Institutional</td>\n",
       "      <td>NaN</td>\n",
       "      <td>Domenico di Francesco di Casantino</td>\n",
       "      <td>Male</td>\n",
       "      <td>NaN</td>\n",
       "      <td>Domenico di Francesco di Casantino</td>\n",
       "      <td>Male</td>\n",
       "      <td>NaN</td>\n",
       "      <td>Piero di Bartolomeo da Settignato</td>\n",
       "      <td>Male</td>\n",
       "      <td>NaN</td>\n",
       "      <td>NaN</td>\n",
       "      <td>NaN</td>\n",
       "      <td>NaN</td>\n",
       "      <td>casa</td>\n",
       "      <td>s. Giovanni</td>\n",
       "      <td>S. Piero</td>\n",
       "      <td>Borgo della Porta alla Croce</td>\n",
       "      <td>contigua alla suddetta et a una delle Monache ...</td>\n",
       "      <td>2073</td>\n",
       "      <td>43.770558</td>\n",
       "      <td>11.270464</td>\n",
       "      <td>179v</td>\n",
       "      <td>2784</td>\n",
       "      <td>\\n        &lt;ul&gt;\\n            &lt;li&gt;&lt;strong&gt;ID: &lt;/...</td>\n",
       "    </tr>\n",
       "    <tr>\n",
       "      <th>1</th>\n",
       "      <td>3219</td>\n",
       "      <td>43.770336</td>\n",
       "      <td>11.264497</td>\n",
       "      <td>195r</td>\n",
       "      <td>3033</td>\n",
       "      <td>3033</td>\n",
       "      <td>Compagnia che sotto S. Piero Maggiore</td>\n",
       "      <td>S Pier Maggiore</td>\n",
       "      <td>Henderson P&amp;C #137</td>\n",
       "      <td>NaN</td>\n",
       "      <td>NaN</td>\n",
       "      <td>Residential</td>\n",
       "      <td>NaN</td>\n",
       "      <td>7.0</td>\n",
       "      <td>8</td>\n",
       "      <td>1</td>\n",
       "      <td>2</td>\n",
       "      <td>3</td>\n",
       "      <td>a pigione</td>\n",
       "      <td>Rent</td>\n",
       "      <td>Institutional</td>\n",
       "      <td>NaN</td>\n",
       "      <td>Marchonne di Giovannni Dazzi</td>\n",
       "      <td>Male</td>\n",
       "      <td>NaN</td>\n",
       "      <td>Marchonne di Giovannni Dazzi</td>\n",
       "      <td>Male</td>\n",
       "      <td>NaN</td>\n",
       "      <td>NaN</td>\n",
       "      <td>NaN</td>\n",
       "      <td>NaN</td>\n",
       "      <td>NaN</td>\n",
       "      <td>NaN</td>\n",
       "      <td>NaN</td>\n",
       "      <td>casa</td>\n",
       "      <td>s. Giovanni</td>\n",
       "      <td>S. Ambrogio</td>\n",
       "      <td>Via dell'Agnolo</td>\n",
       "      <td>contigua alla suddetta et a una di Francesco d...</td>\n",
       "      <td>3219</td>\n",
       "      <td>43.770336</td>\n",
       "      <td>11.264497</td>\n",
       "      <td>195r</td>\n",
       "      <td>3033</td>\n",
       "      <td>\\n        &lt;ul&gt;\\n            &lt;li&gt;&lt;strong&gt;ID: &lt;/...</td>\n",
       "    </tr>\n",
       "    <tr>\n",
       "      <th>2</th>\n",
       "      <td>2203</td>\n",
       "      <td>43.771118</td>\n",
       "      <td>11.269190</td>\n",
       "      <td>157</td>\n",
       "      <td>2421</td>\n",
       "      <td>2421</td>\n",
       "      <td>Compagnia che sotto S. Piero Maggiore</td>\n",
       "      <td>S Pier Maggiore</td>\n",
       "      <td>Henderson P&amp;C #137</td>\n",
       "      <td>NaN</td>\n",
       "      <td>NaN</td>\n",
       "      <td>Residential</td>\n",
       "      <td>NaN</td>\n",
       "      <td>7.0</td>\n",
       "      <td>7</td>\n",
       "      <td>0</td>\n",
       "      <td>6</td>\n",
       "      <td>6</td>\n",
       "      <td>a pigione</td>\n",
       "      <td>Rent</td>\n",
       "      <td>Institutional</td>\n",
       "      <td>NaN</td>\n",
       "      <td>La Dianora, vedova, donna fu di Piero Bastachi</td>\n",
       "      <td>Male</td>\n",
       "      <td>NaN</td>\n",
       "      <td>La Dianora, vedova, donna fu di Piero Bastachi</td>\n",
       "      <td>Female</td>\n",
       "      <td>NaN</td>\n",
       "      <td>NaN</td>\n",
       "      <td>NaN</td>\n",
       "      <td>NaN</td>\n",
       "      <td>NaN</td>\n",
       "      <td>NaN</td>\n",
       "      <td>NaN</td>\n",
       "      <td>casa in cappella</td>\n",
       "      <td>s. Giovanni</td>\n",
       "      <td>S. Piero Maggiore</td>\n",
       "      <td>Borgo della Porta alla Croce</td>\n",
       "      <td>contigua alla portaccia di Borgo alla croce et...</td>\n",
       "      <td>2203</td>\n",
       "      <td>43.771118</td>\n",
       "      <td>11.269190</td>\n",
       "      <td>157</td>\n",
       "      <td>2421</td>\n",
       "      <td>\\n        &lt;ul&gt;\\n            &lt;li&gt;&lt;strong&gt;ID: &lt;/...</td>\n",
       "    </tr>\n",
       "    <tr>\n",
       "      <th>3</th>\n",
       "      <td>147</td>\n",
       "      <td>43.775931</td>\n",
       "      <td>11.252323</td>\n",
       "      <td>44r</td>\n",
       "      <td>681</td>\n",
       "      <td>681</td>\n",
       "      <td>Compagnia de' Cieci</td>\n",
       "      <td>S Maria del Giglio detto de'ciechi [S Ma. de P...</td>\n",
       "      <td>Henderson P&amp;C 104</td>\n",
       "      <td>1324</td>\n",
       "      <td>Charitable</td>\n",
       "      <td>Residential</td>\n",
       "      <td>NaN</td>\n",
       "      <td>5.0</td>\n",
       "      <td>5</td>\n",
       "      <td>2</td>\n",
       "      <td>3</td>\n",
       "      <td>5</td>\n",
       "      <td>a pigione</td>\n",
       "      <td>Rent</td>\n",
       "      <td>Institutional</td>\n",
       "      <td>NaN</td>\n",
       "      <td>Benedetto di Monsacco</td>\n",
       "      <td>Male</td>\n",
       "      <td>NaN</td>\n",
       "      <td>Benedetto di Monsacco</td>\n",
       "      <td>Male</td>\n",
       "      <td>NaN</td>\n",
       "      <td>NaN</td>\n",
       "      <td>NaN</td>\n",
       "      <td>NaN</td>\n",
       "      <td>NaN</td>\n",
       "      <td>NaN</td>\n",
       "      <td>NaN</td>\n",
       "      <td>Casa</td>\n",
       "      <td>s. Giovanni</td>\n",
       "      <td>S. Lorenzo</td>\n",
       "      <td>Via S. Jacopo in Campo Corbolino - Cella di Ci...</td>\n",
       "      <td>contigua a la soprascritta suoltando al lato d...</td>\n",
       "      <td>147</td>\n",
       "      <td>43.775931</td>\n",
       "      <td>11.252323</td>\n",
       "      <td>44r</td>\n",
       "      <td>681</td>\n",
       "      <td>\\n        &lt;ul&gt;\\n            &lt;li&gt;&lt;strong&gt;ID: &lt;/...</td>\n",
       "    </tr>\n",
       "    <tr>\n",
       "      <th>4</th>\n",
       "      <td>7343</td>\n",
       "      <td>43.765810</td>\n",
       "      <td>11.247119</td>\n",
       "      <td>62v</td>\n",
       "      <td>1035</td>\n",
       "      <td>1035</td>\n",
       "      <td>Compagnia degl'Innocenti</td>\n",
       "      <td>SS Innocenti</td>\n",
       "      <td>Henderson P&amp;C #78</td>\n",
       "      <td>NaN</td>\n",
       "      <td>Flagellant</td>\n",
       "      <td>Residential</td>\n",
       "      <td>NaN</td>\n",
       "      <td>6.0</td>\n",
       "      <td>8</td>\n",
       "      <td>2</td>\n",
       "      <td>2</td>\n",
       "      <td>4</td>\n",
       "      <td>a sua vita</td>\n",
       "      <td>Life Lease</td>\n",
       "      <td>Institutional</td>\n",
       "      <td>NaN</td>\n",
       "      <td>Giovannozzo di Raffaello Parenti</td>\n",
       "      <td>Male</td>\n",
       "      <td>NaN</td>\n",
       "      <td>Giovannozzo di Raffaello Parenti</td>\n",
       "      <td>Male</td>\n",
       "      <td>NaN</td>\n",
       "      <td>NaN</td>\n",
       "      <td>NaN</td>\n",
       "      <td>NaN</td>\n",
       "      <td>NaN</td>\n",
       "      <td>NaN</td>\n",
       "      <td>NaN</td>\n",
       "      <td>una casa</td>\n",
       "      <td>s. Spirito</td>\n",
       "      <td>S. Felice in piazza</td>\n",
       "      <td>Via Mazzetta</td>\n",
       "      <td>in via mazzetta a 1o Rede di Piero Dei a 2o An...</td>\n",
       "      <td>7343</td>\n",
       "      <td>43.765810</td>\n",
       "      <td>11.247119</td>\n",
       "      <td>62v</td>\n",
       "      <td>1035</td>\n",
       "      <td>\\n        &lt;ul&gt;\\n            &lt;li&gt;&lt;strong&gt;ID: &lt;/...</td>\n",
       "    </tr>\n",
       "    <tr>\n",
       "      <th>5</th>\n",
       "      <td>8476</td>\n",
       "      <td>43.767438</td>\n",
       "      <td>11.244969</td>\n",
       "      <td>120v</td>\n",
       "      <td>1874</td>\n",
       "      <td>1874</td>\n",
       "      <td>Compagnia degl'Innocenti di s. Maria Novella</td>\n",
       "      <td>SS Innocenti</td>\n",
       "      <td>Henderson P&amp;C #92</td>\n",
       "      <td>NaN</td>\n",
       "      <td>Flagellant</td>\n",
       "      <td>Residential</td>\n",
       "      <td>NaN</td>\n",
       "      <td>7.0</td>\n",
       "      <td>10</td>\n",
       "      <td>3</td>\n",
       "      <td>3</td>\n",
       "      <td>6</td>\n",
       "      <td>tenant a vita, resident a pigione</td>\n",
       "      <td>Life Lease</td>\n",
       "      <td>Institutional</td>\n",
       "      <td>NaN</td>\n",
       "      <td>Antonio di Pasquino d' Antonio</td>\n",
       "      <td>Male</td>\n",
       "      <td>NaN</td>\n",
       "      <td>un pigionale</td>\n",
       "      <td>Male</td>\n",
       "      <td>NaN</td>\n",
       "      <td>NaN</td>\n",
       "      <td>NaN</td>\n",
       "      <td>NaN</td>\n",
       "      <td>NaN</td>\n",
       "      <td>NaN</td>\n",
       "      <td>NaN</td>\n",
       "      <td>una casa</td>\n",
       "      <td>s. Spirito</td>\n",
       "      <td>S. Friano</td>\n",
       "      <td>Via d' Ardiglione</td>\n",
       "      <td>a primo Piero di Raffaello a secondo ser Alama...</td>\n",
       "      <td>8476</td>\n",
       "      <td>43.767438</td>\n",
       "      <td>11.244969</td>\n",
       "      <td>120v</td>\n",
       "      <td>1874</td>\n",
       "      <td>\\n        &lt;ul&gt;\\n            &lt;li&gt;&lt;strong&gt;ID: &lt;/...</td>\n",
       "    </tr>\n",
       "    <tr>\n",
       "      <th>6</th>\n",
       "      <td>5514</td>\n",
       "      <td>43.772942</td>\n",
       "      <td>11.247446</td>\n",
       "      <td>37v</td>\n",
       "      <td>642</td>\n",
       "      <td>642</td>\n",
       "      <td>Compagnia degl'Innocenti di s. Maria Novella</td>\n",
       "      <td>SS Innocenti</td>\n",
       "      <td>Henderson P&amp;C #92</td>\n",
       "      <td>NaN</td>\n",
       "      <td>Flagellant</td>\n",
       "      <td>Residential</td>\n",
       "      <td>NaN</td>\n",
       "      <td>NaN</td>\n",
       "      <td>12</td>\n",
       "      <td>4</td>\n",
       "      <td>4</td>\n",
       "      <td>8</td>\n",
       "      <td>a pigione</td>\n",
       "      <td>Rent</td>\n",
       "      <td>Institutional</td>\n",
       "      <td>NaN</td>\n",
       "      <td>Lorenzo di Niccolo</td>\n",
       "      <td>Male</td>\n",
       "      <td>NaN</td>\n",
       "      <td>Lorenzo di Niccolo</td>\n",
       "      <td>Male</td>\n",
       "      <td>NaN</td>\n",
       "      <td>Benedetto di Michelle</td>\n",
       "      <td>Male</td>\n",
       "      <td>NaN</td>\n",
       "      <td>NaN</td>\n",
       "      <td>NaN</td>\n",
       "      <td>NaN</td>\n",
       "      <td>Casa</td>\n",
       "      <td>s. Maria Novella</td>\n",
       "      <td>s. Paolo</td>\n",
       "      <td>Via nuova da s. Paulo</td>\n",
       "      <td>contigua a la suddetta et a una del capitolo d...</td>\n",
       "      <td>5514</td>\n",
       "      <td>43.772942</td>\n",
       "      <td>11.247446</td>\n",
       "      <td>37v</td>\n",
       "      <td>642</td>\n",
       "      <td>\\n        &lt;ul&gt;\\n            &lt;li&gt;&lt;strong&gt;ID: &lt;/...</td>\n",
       "    </tr>\n",
       "    <tr>\n",
       "      <th>7</th>\n",
       "      <td>8102</td>\n",
       "      <td>43.768004</td>\n",
       "      <td>11.240896</td>\n",
       "      <td>116v</td>\n",
       "      <td>1814</td>\n",
       "      <td>1814</td>\n",
       "      <td>Compagnia degli Genovesi nel Carmine</td>\n",
       "      <td>S Sebastiano de'Genovesi</td>\n",
       "      <td>Henderson P&amp;C #147</td>\n",
       "      <td>1474</td>\n",
       "      <td>Artisan</td>\n",
       "      <td>Residential</td>\n",
       "      <td>31.0</td>\n",
       "      <td>NaN</td>\n",
       "      <td>5</td>\n",
       "      <td>2</td>\n",
       "      <td>2</td>\n",
       "      <td>4</td>\n",
       "      <td>a pigione</td>\n",
       "      <td>Rent</td>\n",
       "      <td>Institutional</td>\n",
       "      <td>NaN</td>\n",
       "      <td>Francesco di Salvestro</td>\n",
       "      <td>Male</td>\n",
       "      <td>NaN</td>\n",
       "      <td>Francesco di Salvestro</td>\n",
       "      <td>Male</td>\n",
       "      <td>NaN</td>\n",
       "      <td>NaN</td>\n",
       "      <td>NaN</td>\n",
       "      <td>NaN</td>\n",
       "      <td>NaN</td>\n",
       "      <td>NaN</td>\n",
       "      <td>NaN</td>\n",
       "      <td>una casa</td>\n",
       "      <td>s. Spirito</td>\n",
       "      <td>S. Friano</td>\n",
       "      <td>Via s. Salvadore</td>\n",
       "      <td>nella via di s. Salvatore a 1o Bartolomeo di B...</td>\n",
       "      <td>8102</td>\n",
       "      <td>43.768004</td>\n",
       "      <td>11.240896</td>\n",
       "      <td>116v</td>\n",
       "      <td>1814</td>\n",
       "      <td>\\n        &lt;ul&gt;\\n            &lt;li&gt;&lt;strong&gt;ID: &lt;/...</td>\n",
       "    </tr>\n",
       "    <tr>\n",
       "      <th>8</th>\n",
       "      <td>2030</td>\n",
       "      <td>43.770728</td>\n",
       "      <td>11.270409</td>\n",
       "      <td>180r</td>\n",
       "      <td>2786</td>\n",
       "      <td>2786</td>\n",
       "      <td>Compagnia dei Bianchi di S. Ambrogio</td>\n",
       "      <td>S Maria delle Laude e di S Ambrogio</td>\n",
       "      <td>Henderson P&amp;C #105 [or 121]</td>\n",
       "      <td>1466</td>\n",
       "      <td>Laudesi</td>\n",
       "      <td>Residential</td>\n",
       "      <td>NaN</td>\n",
       "      <td>3.0</td>\n",
       "      <td>3</td>\n",
       "      <td>4</td>\n",
       "      <td>4</td>\n",
       "      <td>8</td>\n",
       "      <td>a linea</td>\n",
       "      <td>Lineal Lease</td>\n",
       "      <td>Institutional</td>\n",
       "      <td>NaN</td>\n",
       "      <td>Domenico di Jacopo Santini</td>\n",
       "      <td>Male</td>\n",
       "      <td>NaN</td>\n",
       "      <td>Domenico di Jacopo Santini</td>\n",
       "      <td>Male</td>\n",
       "      <td>NaN</td>\n",
       "      <td>NaN</td>\n",
       "      <td>NaN</td>\n",
       "      <td>NaN</td>\n",
       "      <td>NaN</td>\n",
       "      <td>NaN</td>\n",
       "      <td>NaN</td>\n",
       "      <td>casa con un poco di bottega</td>\n",
       "      <td>s. Giovanni</td>\n",
       "      <td>S. Piero</td>\n",
       "      <td>Borgo della Porta alla Croce</td>\n",
       "      <td>Contigua alla suddetta et al chiasso della, os...</td>\n",
       "      <td>2030</td>\n",
       "      <td>43.770728</td>\n",
       "      <td>11.270409</td>\n",
       "      <td>180r</td>\n",
       "      <td>2786</td>\n",
       "      <td>\\n        &lt;ul&gt;\\n            &lt;li&gt;&lt;strong&gt;ID: &lt;/...</td>\n",
       "    </tr>\n",
       "    <tr>\n",
       "      <th>9</th>\n",
       "      <td>400</td>\n",
       "      <td>43.777147</td>\n",
       "      <td>11.254293</td>\n",
       "      <td>35v</td>\n",
       "      <td>534</td>\n",
       "      <td>534</td>\n",
       "      <td>Compagnia dei Concordi</td>\n",
       "      <td>S Concordia [property on S Orsola = close to c...</td>\n",
       "      <td>Henderson P&amp;C #42</td>\n",
       "      <td>&lt;1429</td>\n",
       "      <td>Unknown</td>\n",
       "      <td>Residential</td>\n",
       "      <td>NaN</td>\n",
       "      <td>8.0</td>\n",
       "      <td>8</td>\n",
       "      <td>4</td>\n",
       "      <td>3</td>\n",
       "      <td>7</td>\n",
       "      <td>a pigione</td>\n",
       "      <td>Rent</td>\n",
       "      <td>Institutional</td>\n",
       "      <td>NaN</td>\n",
       "      <td>Giovanni di Raffaello, rivenditore</td>\n",
       "      <td>Male</td>\n",
       "      <td>rivenditore</td>\n",
       "      <td>Giovanni di Raffaello, rivenditore</td>\n",
       "      <td>Male</td>\n",
       "      <td>rivenditore</td>\n",
       "      <td>Domenico di Bandira, tessitore</td>\n",
       "      <td>Male</td>\n",
       "      <td>tessitore</td>\n",
       "      <td>Mona Maddalena del Modena, ciabattino</td>\n",
       "      <td>Female</td>\n",
       "      <td>ciabattino</td>\n",
       "      <td>Casa</td>\n",
       "      <td>s. Giovanni</td>\n",
       "      <td>S. Lorenzo</td>\n",
       "      <td>Via S. Orsola</td>\n",
       "      <td>contigua a la suddetta et a gioGualberto di Ra...</td>\n",
       "      <td>400</td>\n",
       "      <td>43.777147</td>\n",
       "      <td>11.254293</td>\n",
       "      <td>35v</td>\n",
       "      <td>534</td>\n",
       "      <td>\\n        &lt;ul&gt;\\n            &lt;li&gt;&lt;strong&gt;ID: &lt;/...</td>\n",
       "    </tr>\n",
       "  </tbody>\n",
       "</table>\n",
       "</div>\n",
       "      <button class=\"colab-df-convert\" onclick=\"convertToInteractive('df-b43a31ae-810f-4c8b-ac50-4ec89c278956')\"\n",
       "              title=\"Convert this dataframe to an interactive table.\"\n",
       "              style=\"display:none;\">\n",
       "        \n",
       "  <svg xmlns=\"http://www.w3.org/2000/svg\" height=\"24px\"viewBox=\"0 0 24 24\"\n",
       "       width=\"24px\">\n",
       "    <path d=\"M0 0h24v24H0V0z\" fill=\"none\"/>\n",
       "    <path d=\"M18.56 5.44l.94 2.06.94-2.06 2.06-.94-2.06-.94-.94-2.06-.94 2.06-2.06.94zm-11 1L8.5 8.5l.94-2.06 2.06-.94-2.06-.94L8.5 2.5l-.94 2.06-2.06.94zm10 10l.94 2.06.94-2.06 2.06-.94-2.06-.94-.94-2.06-.94 2.06-2.06.94z\"/><path d=\"M17.41 7.96l-1.37-1.37c-.4-.4-.92-.59-1.43-.59-.52 0-1.04.2-1.43.59L10.3 9.45l-7.72 7.72c-.78.78-.78 2.05 0 2.83L4 21.41c.39.39.9.59 1.41.59.51 0 1.02-.2 1.41-.59l7.78-7.78 2.81-2.81c.8-.78.8-2.07 0-2.86zM5.41 20L4 18.59l7.72-7.72 1.47 1.35L5.41 20z\"/>\n",
       "  </svg>\n",
       "      </button>\n",
       "      \n",
       "  <style>\n",
       "    .colab-df-container {\n",
       "      display:flex;\n",
       "      flex-wrap:wrap;\n",
       "      gap: 12px;\n",
       "    }\n",
       "\n",
       "    .colab-df-convert {\n",
       "      background-color: #E8F0FE;\n",
       "      border: none;\n",
       "      border-radius: 50%;\n",
       "      cursor: pointer;\n",
       "      display: none;\n",
       "      fill: #1967D2;\n",
       "      height: 32px;\n",
       "      padding: 0 0 0 0;\n",
       "      width: 32px;\n",
       "    }\n",
       "\n",
       "    .colab-df-convert:hover {\n",
       "      background-color: #E2EBFA;\n",
       "      box-shadow: 0px 1px 2px rgba(60, 64, 67, 0.3), 0px 1px 3px 1px rgba(60, 64, 67, 0.15);\n",
       "      fill: #174EA6;\n",
       "    }\n",
       "\n",
       "    [theme=dark] .colab-df-convert {\n",
       "      background-color: #3B4455;\n",
       "      fill: #D2E3FC;\n",
       "    }\n",
       "\n",
       "    [theme=dark] .colab-df-convert:hover {\n",
       "      background-color: #434B5C;\n",
       "      box-shadow: 0px 1px 3px 1px rgba(0, 0, 0, 0.15);\n",
       "      filter: drop-shadow(0px 1px 2px rgba(0, 0, 0, 0.3));\n",
       "      fill: #FFFFFF;\n",
       "    }\n",
       "  </style>\n",
       "\n",
       "      <script>\n",
       "        const buttonEl =\n",
       "          document.querySelector('#df-b43a31ae-810f-4c8b-ac50-4ec89c278956 button.colab-df-convert');\n",
       "        buttonEl.style.display =\n",
       "          google.colab.kernel.accessAllowed ? 'block' : 'none';\n",
       "\n",
       "        async function convertToInteractive(key) {\n",
       "          const element = document.querySelector('#df-b43a31ae-810f-4c8b-ac50-4ec89c278956');\n",
       "          const dataTable =\n",
       "            await google.colab.kernel.invokeFunction('convertToInteractive',\n",
       "                                                     [key], {});\n",
       "          if (!dataTable) return;\n",
       "\n",
       "          const docLinkHtml = 'Like what you see? Visit the ' +\n",
       "            '<a target=\"_blank\" href=https://colab.research.google.com/notebooks/data_table.ipynb>data table notebook</a>'\n",
       "            + ' to learn more about interactive tables.';\n",
       "          element.innerHTML = '';\n",
       "          dataTable['output_type'] = 'display_data';\n",
       "          await google.colab.output.renderOutput(dataTable, element);\n",
       "          const docLink = document.createElement('div');\n",
       "          docLink.innerHTML = docLinkHtml;\n",
       "          element.appendChild(docLink);\n",
       "        }\n",
       "      </script>\n",
       "    </div>\n",
       "  </div>\n",
       "  "
      ],
      "text/plain": [
       "   OBJECTID  ...                                       popup_column\n",
       "0      2073  ...  \\n        <ul>\\n            <li><strong>ID: </...\n",
       "1      3219  ...  \\n        <ul>\\n            <li><strong>ID: </...\n",
       "2      2203  ...  \\n        <ul>\\n            <li><strong>ID: </...\n",
       "3       147  ...  \\n        <ul>\\n            <li><strong>ID: </...\n",
       "4      7343  ...  \\n        <ul>\\n            <li><strong>ID: </...\n",
       "5      8476  ...  \\n        <ul>\\n            <li><strong>ID: </...\n",
       "6      5514  ...  \\n        <ul>\\n            <li><strong>ID: </...\n",
       "7      8102  ...  \\n        <ul>\\n            <li><strong>ID: </...\n",
       "8      2030  ...  \\n        <ul>\\n            <li><strong>ID: </...\n",
       "9       400  ...  \\n        <ul>\\n            <li><strong>ID: </...\n",
       "\n",
       "[10 rows x 45 columns]"
      ]
     },
     "execution_count": 131,
     "metadata": {},
     "output_type": "execute_result"
    }
   ],
   "source": [
    "decima.iloc[:10]"
   ]
  },
  {
   "cell_type": "code",
   "execution_count": 118,
   "metadata": {
    "ExecuteTime": {
     "end_time": "2022-02-10T23:28:17.299271Z",
     "start_time": "2022-02-10T23:28:17.294860Z"
    },
    "colab": {
     "base_uri": "https://localhost:8080/"
    },
    "id": "2B8VyEQ2IImk",
    "outputId": "aff4aa05-5066-49e7-ef18-b94f5e594dd6"
   },
   "outputs": [
    {
     "data": {
      "text/plain": [
       "(133, 44)"
      ]
     },
     "execution_count": 118,
     "metadata": {},
     "output_type": "execute_result"
    }
   ],
   "source": [
    "decima.shape"
   ]
  },
  {
   "cell_type": "markdown",
   "metadata": {
    "id": "erG016CAIImk"
   },
   "source": [
    "#### Check the column names"
   ]
  },
  {
   "cell_type": "code",
   "execution_count": 119,
   "metadata": {
    "ExecuteTime": {
     "end_time": "2022-02-10T23:28:17.290796Z",
     "start_time": "2022-02-10T23:28:17.285529Z"
    },
    "colab": {
     "base_uri": "https://localhost:8080/"
    },
    "id": "R8NvsK5NIIml",
    "outputId": "3566a28b-0dc6-4d8e-e3ec-4f08c148c0e8"
   },
   "outputs": [
    {
     "data": {
      "text/plain": [
       "Index(['OBJECTID', 'Y', 'X', 'Folio', 'Entry Number', 'Entry Number.1',\n",
       "       'Owner in Source', 'Standardized Alternative', 'Source',\n",
       "       'Age of Confraternity (if estimate, *)', 'Type', 'Property Type',\n",
       "       'Rent - Lire', 'Rent - Scudi', 'Value', 'Male Tenants',\n",
       "       'Female Tenants', 'Total Residents', 'Contract Description', 'Contract',\n",
       "       'Owner Type', 'Other Owner Name', 'Tenant', 'Tenant Gender',\n",
       "       'Tenant Occupation', 'Resident 1 Name', 'Resident 1 Gender',\n",
       "       'Resident 1 Occupation', 'Resident 2 Name', 'Resident 2 Gender',\n",
       "       'Resident 2 Occupation', 'Resident 3 Name', 'Resident 3 Gender',\n",
       "       'Resident 3 Occupation', 'Building Description', 'Quartiere', 'Popolo',\n",
       "       'Street', 'Location Information', 'OBJECTID.1', 'Y.1', 'X.1', 'Folio.1',\n",
       "       'Entry Number.2'],\n",
       "      dtype='object')"
      ]
     },
     "execution_count": 119,
     "metadata": {},
     "output_type": "execute_result"
    }
   ],
   "source": [
    "decima.columns"
   ]
  },
  {
   "cell_type": "markdown",
   "metadata": {
    "id": "NpOdPT8GIIml"
   },
   "source": [
    "### F.2 Groupby Functions\n",
    "\n",
    "* With **groupby** Pandas will let us find all the **neighborhoods** in members of particular **trades** lived"
   ]
  },
  {
   "cell_type": "code",
   "execution_count": 120,
   "metadata": {
    "ExecuteTime": {
     "end_time": "2022-02-10T23:28:17.316618Z",
     "start_time": "2022-02-10T23:28:17.301144Z"
    },
    "colab": {
     "base_uri": "https://localhost:8080/"
    },
    "id": "JqtHXVdxIIml",
    "outputId": "4daaa976-7ed4-4325-c792-7f6ca8d8d584"
   },
   "outputs": [
    {
     "data": {
      "text/plain": [
       "Tenant Occupation\n",
       "barbiere                                                      [s. Spirito]\n",
       "battilano                              [s. Giovanni, s. Croce, s. Spirito]\n",
       "beccaio                                            [s. Croce, s. Giovanni]\n",
       "calzolaio                                                    [s. Giovanni]\n",
       "cappellaio                                                   [s. Giovanni]\n",
       "cartolaio                                                       [s. Croce]\n",
       "ciabattino                                         [s. Giovanni, s. Croce]\n",
       "coltellinaio                                                    [s. Croce]\n",
       "contadino                                                       [s. Croce]\n",
       "curandaio                                                    [s. Giovanni]\n",
       "divettino                                                    [s. Giovanni]\n",
       "donzello                                                     [s. Giovanni]\n",
       "esattore                                                     [s. Giovanni]\n",
       "fattorino                                               [s. Maria Novella]\n",
       "fornaio                                     [s. Spirito, s. Maria Novella]\n",
       "funaiuolo                                                     [s. Spirito]\n",
       "guardia                                                      [s. Giovanni]\n",
       "legnaiuolo                                         [s. Croce, s. Giovanni]\n",
       "manouale                                                      [s. Spirito]\n",
       "merciaio                                                      [s. Spirito]\n",
       "minugiaio                                                     [s. Spirito]\n",
       "muratore                                            [s. Croce, s. Spirito]\n",
       "occhialaio                                                      [s. Croce]\n",
       "oste                                             [s. Giovanni, s. Spirito]\n",
       "pettinagnolo                                                  [s. Spirito]\n",
       "pinzocara                                               [s. Maria Novella]\n",
       "pizzicagnolo                                                 [s. Giovanni]\n",
       "pollaiuolo                                              [s. Maria Novella]\n",
       "portatore                                                       [s. Croce]\n",
       "prete e cappellano                                              [s. Croce]\n",
       "rigattiere                                                   [s. Giovanni]\n",
       "rivenditore                                      [s. Giovanni, s. Spirito]\n",
       "sarto                                                        [s. Giovanni]\n",
       "sellaio                                                      [s. Giovanni]\n",
       "servo                                                           [s. Croce]\n",
       "spedaliero                                                      [s. Croce]\n",
       "tessitore                [s. Giovanni, s. Maria Novella, s. Spirito, s....\n",
       "tessitore di broccati                                         [s. Spirito]\n",
       "tessitore di drappi                                 [s. Croce, s. Spirito]\n",
       "tintore                                                       [s. Spirito]\n",
       "torcitore                                                     [s. Spirito]\n",
       "votapozzi                                                       [s. Croce]\n",
       "Name: Quartiere, dtype: object"
      ]
     },
     "execution_count": 120,
     "metadata": {},
     "output_type": "execute_result"
    }
   ],
   "source": [
    "decima.groupby(\"Tenant Occupation\").Quartiere.unique()"
   ]
  },
  {
   "cell_type": "markdown",
   "metadata": {
    "id": "SQKu8pOpIIml"
   },
   "source": [
    "### F.3  Mapping with folium\n",
    "\n",
    "* Decima includes geographical data in the form of longitude and latitude"
   ]
  },
  {
   "cell_type": "markdown",
   "metadata": {
    "id": "d_3GQO0iIIml"
   },
   "source": [
    "#### Since the X and Y columns represent longitude and latitude, we can use the `mean` method to find the center!"
   ]
  },
  {
   "cell_type": "code",
   "execution_count": 121,
   "metadata": {
    "ExecuteTime": {
     "end_time": "2022-02-10T23:28:17.283775Z",
     "start_time": "2022-02-10T23:28:17.280056Z"
    },
    "colab": {
     "base_uri": "https://localhost:8080/"
    },
    "id": "XWqrm2qmIIml",
    "outputId": "1a244f51-ffb1-4448-8e76-0f75ab92a69a"
   },
   "outputs": [
    {
     "name": "stdout",
     "output_type": "stream",
     "text": [
      "11.255879475338345 43.77205156556393\n"
     ]
    }
   ],
   "source": [
    "X, Y = decima[\"X\"].mean(), decima[\"Y\"].mean()\n",
    "print(X, Y)"
   ]
  },
  {
   "cell_type": "markdown",
   "metadata": {
    "id": "UePVelFwIImm"
   },
   "source": [
    "#### The folium library will let us create maps directly in Jupyter NBs\n",
    "\n",
    "- Notice that the map is zoomable and interactive (linked back to the data in our frame)"
   ]
  },
  {
   "cell_type": "code",
   "execution_count": 122,
   "metadata": {
    "ExecuteTime": {
     "end_time": "2022-02-10T23:28:17.327072Z",
     "start_time": "2022-02-10T23:28:17.318722Z"
    },
    "id": "oqs6rHXVIImm"
   },
   "outputs": [],
   "source": [
    "our_map = folium.Map(location=[Y, X], zoom_start=15)"
   ]
  },
  {
   "cell_type": "code",
   "execution_count": 128,
   "metadata": {
    "ExecuteTime": {
     "end_time": "2022-02-10T23:28:17.334895Z",
     "start_time": "2022-02-10T23:28:17.328903Z"
    },
    "id": "b7Fu7DKhIImm"
   },
   "outputs": [],
   "source": [
    "decima[\"popup_column\"] = decima.apply(lambda row: f\"\"\"\n",
    "        <ul>\n",
    "            <li><strong>ID: </strong>{row[\"OBJECTID\"]}</li>\n",
    "            <li><strong>Source: </strong>{row[\"Source\"]}</li>\n",
    "            <li><strong>Name: </strong>{row[\"Resident 1 Name\"]}</li>\n",
    "        <ul>\n",
    "    \"\"\"\n",
    ", axis=\"columns\")"
   ]
  },
  {
   "cell_type": "code",
   "execution_count": 129,
   "metadata": {
    "ExecuteTime": {
     "end_time": "2022-02-10T23:28:17.355188Z",
     "start_time": "2022-02-10T23:28:17.336827Z"
    },
    "id": "TNweByPdIImm"
   },
   "outputs": [],
   "source": [
    "decima.apply(lambda row: folium.Marker(\n",
    "                                    location=(row[\"Y\"], row[\"X\"]),\n",
    "                                    popup=row[\"popup_column\"]\n",
    "                                    ).add_to(our_map), axis=1);"
   ]
  },
  {
   "cell_type": "code",
   "execution_count": 130,
   "metadata": {
    "ExecuteTime": {
     "end_time": "2022-02-10T23:28:17.532841Z",
     "start_time": "2022-02-10T23:28:17.357225Z"
    },
    "colab": {
     "base_uri": "https://localhost:8080/",
     "height": 1000
    },
    "id": "MoJ-0S9SIImn",
    "outputId": "14c7dd03-14aa-43d6-8450-383347f92399"
   },
   "outputs": [
    {
     "data": {
      "text/html": [
       "<div style=\"width:100%;\"><div style=\"position:relative;width:100%;height:0;padding-bottom:60%;\"><span style=\"color:#565656\">Make this Notebook Trusted to load map: File -> Trust Notebook</span><iframe src=\"about:blank\" style=\"position:absolute;width:100%;height:100%;left:0;top:0;border:none !important;\" data-html=%3C%21DOCTYPE%20html%3E%0A%3Chead%3E%20%20%20%20%0A%20%20%20%20%3Cmeta%20http-equiv%3D%22content-type%22%20content%3D%22text/html%3B%20charset%3DUTF-8%22%20/%3E%0A%20%20%20%20%3Cscript%3EL_PREFER_CANVAS%3Dfalse%3B%20L_NO_TOUCH%3Dfalse%3B%20L_DISABLE_3D%3Dfalse%3B%3C/script%3E%0A%20%20%20%20%3Cscript%20src%3D%22https%3A//cdn.jsdelivr.net/npm/leaflet%401.4.0/dist/leaflet.js%22%3E%3C/script%3E%0A%20%20%20%20%3Cscript%20src%3D%22https%3A//code.jquery.com/jquery-1.12.4.min.js%22%3E%3C/script%3E%0A%20%20%20%20%3Cscript%20src%3D%22https%3A//maxcdn.bootstrapcdn.com/bootstrap/3.2.0/js/bootstrap.min.js%22%3E%3C/script%3E%0A%20%20%20%20%3Cscript%20src%3D%22https%3A//cdnjs.cloudflare.com/ajax/libs/Leaflet.awesome-markers/2.0.2/leaflet.awesome-markers.js%22%3E%3C/script%3E%0A%20%20%20%20%3Clink%20rel%3D%22stylesheet%22%20href%3D%22https%3A//cdn.jsdelivr.net/npm/leaflet%401.4.0/dist/leaflet.css%22/%3E%0A%20%20%20%20%3Clink%20rel%3D%22stylesheet%22%20href%3D%22https%3A//maxcdn.bootstrapcdn.com/bootstrap/3.2.0/css/bootstrap.min.css%22/%3E%0A%20%20%20%20%3Clink%20rel%3D%22stylesheet%22%20href%3D%22https%3A//maxcdn.bootstrapcdn.com/bootstrap/3.2.0/css/bootstrap-theme.min.css%22/%3E%0A%20%20%20%20%3Clink%20rel%3D%22stylesheet%22%20href%3D%22https%3A//maxcdn.bootstrapcdn.com/font-awesome/4.6.3/css/font-awesome.min.css%22/%3E%0A%20%20%20%20%3Clink%20rel%3D%22stylesheet%22%20href%3D%22https%3A//cdnjs.cloudflare.com/ajax/libs/Leaflet.awesome-markers/2.0.2/leaflet.awesome-markers.css%22/%3E%0A%20%20%20%20%3Clink%20rel%3D%22stylesheet%22%20href%3D%22https%3A//rawcdn.githack.com/python-visualization/folium/master/folium/templates/leaflet.awesome.rotate.css%22/%3E%0A%20%20%20%20%3Cstyle%3Ehtml%2C%20body%20%7Bwidth%3A%20100%25%3Bheight%3A%20100%25%3Bmargin%3A%200%3Bpadding%3A%200%3B%7D%3C/style%3E%0A%20%20%20%20%3Cstyle%3E%23map%20%7Bposition%3Aabsolute%3Btop%3A0%3Bbottom%3A0%3Bright%3A0%3Bleft%3A0%3B%7D%3C/style%3E%0A%20%20%20%20%0A%20%20%20%20%3Cmeta%20name%3D%22viewport%22%20content%3D%22width%3Ddevice-width%2C%0A%20%20%20%20%20%20%20%20initial-scale%3D1.0%2C%20maximum-scale%3D1.0%2C%20user-scalable%3Dno%22%20/%3E%0A%20%20%20%20%3Cstyle%3E%23map_146cd8147123498484976a07e362f27f%20%7B%0A%20%20%20%20%20%20%20%20position%3A%20relative%3B%0A%20%20%20%20%20%20%20%20width%3A%20100.0%25%3B%0A%20%20%20%20%20%20%20%20height%3A%20100.0%25%3B%0A%20%20%20%20%20%20%20%20left%3A%200.0%25%3B%0A%20%20%20%20%20%20%20%20top%3A%200.0%25%3B%0A%20%20%20%20%20%20%20%20%7D%0A%20%20%20%20%3C/style%3E%0A%3C/head%3E%0A%3Cbody%3E%20%20%20%20%0A%20%20%20%20%0A%20%20%20%20%3Cdiv%20class%3D%22folium-map%22%20id%3D%22map_146cd8147123498484976a07e362f27f%22%20%3E%3C/div%3E%0A%3C/body%3E%0A%3Cscript%3E%20%20%20%20%0A%20%20%20%20%0A%20%20%20%20%0A%20%20%20%20%20%20%20%20var%20bounds%20%3D%20null%3B%0A%20%20%20%20%0A%0A%20%20%20%20var%20map_146cd8147123498484976a07e362f27f%20%3D%20L.map%28%0A%20%20%20%20%20%20%20%20%27map_146cd8147123498484976a07e362f27f%27%2C%20%7B%0A%20%20%20%20%20%20%20%20center%3A%20%5B43.77205156556393%2C%2011.255879475338345%5D%2C%0A%20%20%20%20%20%20%20%20zoom%3A%2015%2C%0A%20%20%20%20%20%20%20%20maxBounds%3A%20bounds%2C%0A%20%20%20%20%20%20%20%20layers%3A%20%5B%5D%2C%0A%20%20%20%20%20%20%20%20worldCopyJump%3A%20false%2C%0A%20%20%20%20%20%20%20%20crs%3A%20L.CRS.EPSG3857%2C%0A%20%20%20%20%20%20%20%20zoomControl%3A%20true%2C%0A%20%20%20%20%20%20%20%20%7D%29%3B%0A%0A%0A%20%20%20%20%0A%20%20%20%20var%20tile_layer_003f44526cb44cbab505dcb3cc4c8288%20%3D%20L.tileLayer%28%0A%20%20%20%20%20%20%20%20%27https%3A//%7Bs%7D.tile.openstreetmap.org/%7Bz%7D/%7Bx%7D/%7By%7D.png%27%2C%0A%20%20%20%20%20%20%20%20%7B%0A%20%20%20%20%20%20%20%20%22attribution%22%3A%20null%2C%0A%20%20%20%20%20%20%20%20%22detectRetina%22%3A%20false%2C%0A%20%20%20%20%20%20%20%20%22maxNativeZoom%22%3A%2018%2C%0A%20%20%20%20%20%20%20%20%22maxZoom%22%3A%2018%2C%0A%20%20%20%20%20%20%20%20%22minZoom%22%3A%200%2C%0A%20%20%20%20%20%20%20%20%22noWrap%22%3A%20false%2C%0A%20%20%20%20%20%20%20%20%22opacity%22%3A%201%2C%0A%20%20%20%20%20%20%20%20%22subdomains%22%3A%20%22abc%22%2C%0A%20%20%20%20%20%20%20%20%22tms%22%3A%20false%0A%7D%29.addTo%28map_146cd8147123498484976a07e362f27f%29%3B%0A%20%20%20%20%0A%20%20%20%20%20%20%20%20var%20marker_f59085f77211455db99fa6ee2750c740%20%3D%20L.marker%28%0A%20%20%20%20%20%20%20%20%20%20%20%20%5B43.77055767%2C%2011.27046367%5D%2C%0A%20%20%20%20%20%20%20%20%20%20%20%20%7B%0A%20%20%20%20%20%20%20%20%20%20%20%20%20%20%20%20icon%3A%20new%20L.Icon.Default%28%29%2C%0A%20%20%20%20%20%20%20%20%20%20%20%20%20%20%20%20%7D%0A%20%20%20%20%20%20%20%20%20%20%20%20%29.addTo%28map_146cd8147123498484976a07e362f27f%29%3B%0A%20%20%20%20%20%20%20%20%0A%20%20%20%20%0A%20%20%20%20%20%20%20%20%20%20%20%20var%20popup_1ebbce31b11949fbb4bb7570a3b9c840%20%3D%20L.popup%28%7BmaxWidth%3A%20%27100%25%27%0A%20%20%20%20%20%20%20%20%20%20%20%20%0A%20%20%20%20%20%20%20%20%20%20%20%20%7D%29%3B%0A%0A%20%20%20%20%20%20%20%20%20%20%20%20%0A%20%20%20%20%20%20%20%20%20%20%20%20%20%20%20%20var%20html_32bcfcb3a1e44d5eab5b263880a5e689%20%3D%20%24%28%60%3Cdiv%20id%3D%22html_32bcfcb3a1e44d5eab5b263880a5e689%22%20style%3D%22width%3A%20100.0%25%3B%20height%3A%20100.0%25%3B%22%3E%20%20%20%20%20%20%20%20%20%3Cul%3E%20%20%20%20%20%20%20%20%20%20%20%20%20%3Cli%3E%3Cstrong%3EID%3A%20%3C/strong%3E2073%3C/li%3E%20%20%20%20%20%20%20%20%20%20%20%20%20%3Cli%3E%3Cstrong%3ESource%3A%20%3C/strong%3EHenderson%20P%26C%20%23114%3C/li%3E%20%20%20%20%20%20%20%20%20%20%20%20%20%3Cli%3E%3Cstrong%3EOccupation%3A%20%3C/strong%3Enan%3C/li%3E%20%20%20%20%20%20%20%20%20%3Cul%3E%20%20%20%20%20%3C/div%3E%60%29%5B0%5D%3B%0A%20%20%20%20%20%20%20%20%20%20%20%20%20%20%20%20popup_1ebbce31b11949fbb4bb7570a3b9c840.setContent%28html_32bcfcb3a1e44d5eab5b263880a5e689%29%3B%0A%20%20%20%20%20%20%20%20%20%20%20%20%0A%0A%20%20%20%20%20%20%20%20%20%20%20%20marker_f59085f77211455db99fa6ee2750c740.bindPopup%28popup_1ebbce31b11949fbb4bb7570a3b9c840%29%0A%20%20%20%20%20%20%20%20%20%20%20%20%3B%0A%0A%20%20%20%20%20%20%20%20%20%20%20%20%0A%20%20%20%20%20%20%20%20%0A%20%20%20%20%0A%20%20%20%20%20%20%20%20var%20marker_cc851b7a08d14cf988604c8ce848428a%20%3D%20L.marker%28%0A%20%20%20%20%20%20%20%20%20%20%20%20%5B43.770336%2C%2011.264497%5D%2C%0A%20%20%20%20%20%20%20%20%20%20%20%20%7B%0A%20%20%20%20%20%20%20%20%20%20%20%20%20%20%20%20icon%3A%20new%20L.Icon.Default%28%29%2C%0A%20%20%20%20%20%20%20%20%20%20%20%20%20%20%20%20%7D%0A%20%20%20%20%20%20%20%20%20%20%20%20%29.addTo%28map_146cd8147123498484976a07e362f27f%29%3B%0A%20%20%20%20%20%20%20%20%0A%20%20%20%20%0A%20%20%20%20%20%20%20%20%20%20%20%20var%20popup_75af8ff81a814b3295e7993f21861808%20%3D%20L.popup%28%7BmaxWidth%3A%20%27100%25%27%0A%20%20%20%20%20%20%20%20%20%20%20%20%0A%20%20%20%20%20%20%20%20%20%20%20%20%7D%29%3B%0A%0A%20%20%20%20%20%20%20%20%20%20%20%20%0A%20%20%20%20%20%20%20%20%20%20%20%20%20%20%20%20var%20html_2979996cc70b4ac69fa8e22503aec6d7%20%3D%20%24%28%60%3Cdiv%20id%3D%22html_2979996cc70b4ac69fa8e22503aec6d7%22%20style%3D%22width%3A%20100.0%25%3B%20height%3A%20100.0%25%3B%22%3E%20%20%20%20%20%20%20%20%20%3Cul%3E%20%20%20%20%20%20%20%20%20%20%20%20%20%3Cli%3E%3Cstrong%3EID%3A%20%3C/strong%3E3219%3C/li%3E%20%20%20%20%20%20%20%20%20%20%20%20%20%3Cli%3E%3Cstrong%3ESource%3A%20%3C/strong%3EHenderson%20P%26C%20%23137%3C/li%3E%20%20%20%20%20%20%20%20%20%20%20%20%20%3Cli%3E%3Cstrong%3EOccupation%3A%20%3C/strong%3Enan%3C/li%3E%20%20%20%20%20%20%20%20%20%3Cul%3E%20%20%20%20%20%3C/div%3E%60%29%5B0%5D%3B%0A%20%20%20%20%20%20%20%20%20%20%20%20%20%20%20%20popup_75af8ff81a814b3295e7993f21861808.setContent%28html_2979996cc70b4ac69fa8e22503aec6d7%29%3B%0A%20%20%20%20%20%20%20%20%20%20%20%20%0A%0A%20%20%20%20%20%20%20%20%20%20%20%20marker_cc851b7a08d14cf988604c8ce848428a.bindPopup%28popup_75af8ff81a814b3295e7993f21861808%29%0A%20%20%20%20%20%20%20%20%20%20%20%20%3B%0A%0A%20%20%20%20%20%20%20%20%20%20%20%20%0A%20%20%20%20%20%20%20%20%0A%20%20%20%20%0A%20%20%20%20%20%20%20%20var%20marker_f353a4d90dad4a91899bdac8b77354cf%20%3D%20L.marker%28%0A%20%20%20%20%20%20%20%20%20%20%20%20%5B43.77111764%2C%2011.26918979%5D%2C%0A%20%20%20%20%20%20%20%20%20%20%20%20%7B%0A%20%20%20%20%20%20%20%20%20%20%20%20%20%20%20%20icon%3A%20new%20L.Icon.Default%28%29%2C%0A%20%20%20%20%20%20%20%20%20%20%20%20%20%20%20%20%7D%0A%20%20%20%20%20%20%20%20%20%20%20%20%29.addTo%28map_146cd8147123498484976a07e362f27f%29%3B%0A%20%20%20%20%20%20%20%20%0A%20%20%20%20%0A%20%20%20%20%20%20%20%20%20%20%20%20var%20popup_76cb788a3bc54742a1451cb2bca4cd9b%20%3D%20L.popup%28%7BmaxWidth%3A%20%27100%25%27%0A%20%20%20%20%20%20%20%20%20%20%20%20%0A%20%20%20%20%20%20%20%20%20%20%20%20%7D%29%3B%0A%0A%20%20%20%20%20%20%20%20%20%20%20%20%0A%20%20%20%20%20%20%20%20%20%20%20%20%20%20%20%20var%20html_2a56c168a528414eb052083c950328ae%20%3D%20%24%28%60%3Cdiv%20id%3D%22html_2a56c168a528414eb052083c950328ae%22%20style%3D%22width%3A%20100.0%25%3B%20height%3A%20100.0%25%3B%22%3E%20%20%20%20%20%20%20%20%20%3Cul%3E%20%20%20%20%20%20%20%20%20%20%20%20%20%3Cli%3E%3Cstrong%3EID%3A%20%3C/strong%3E2203%3C/li%3E%20%20%20%20%20%20%20%20%20%20%20%20%20%3Cli%3E%3Cstrong%3ESource%3A%20%3C/strong%3EHenderson%20P%26C%20%23137%3C/li%3E%20%20%20%20%20%20%20%20%20%20%20%20%20%3Cli%3E%3Cstrong%3EOccupation%3A%20%3C/strong%3Enan%3C/li%3E%20%20%20%20%20%20%20%20%20%3Cul%3E%20%20%20%20%20%3C/div%3E%60%29%5B0%5D%3B%0A%20%20%20%20%20%20%20%20%20%20%20%20%20%20%20%20popup_76cb788a3bc54742a1451cb2bca4cd9b.setContent%28html_2a56c168a528414eb052083c950328ae%29%3B%0A%20%20%20%20%20%20%20%20%20%20%20%20%0A%0A%20%20%20%20%20%20%20%20%20%20%20%20marker_f353a4d90dad4a91899bdac8b77354cf.bindPopup%28popup_76cb788a3bc54742a1451cb2bca4cd9b%29%0A%20%20%20%20%20%20%20%20%20%20%20%20%3B%0A%0A%20%20%20%20%20%20%20%20%20%20%20%20%0A%20%20%20%20%20%20%20%20%0A%20%20%20%20%0A%20%20%20%20%20%20%20%20var%20marker_8c1ecf6b8c5043329a2afaef6099b60d%20%3D%20L.marker%28%0A%20%20%20%20%20%20%20%20%20%20%20%20%5B43.775931%2C%2011.252323%5D%2C%0A%20%20%20%20%20%20%20%20%20%20%20%20%7B%0A%20%20%20%20%20%20%20%20%20%20%20%20%20%20%20%20icon%3A%20new%20L.Icon.Default%28%29%2C%0A%20%20%20%20%20%20%20%20%20%20%20%20%20%20%20%20%7D%0A%20%20%20%20%20%20%20%20%20%20%20%20%29.addTo%28map_146cd8147123498484976a07e362f27f%29%3B%0A%20%20%20%20%20%20%20%20%0A%20%20%20%20%0A%20%20%20%20%20%20%20%20%20%20%20%20var%20popup_75fdb2fb99b9445daf698160b45503f8%20%3D%20L.popup%28%7BmaxWidth%3A%20%27100%25%27%0A%20%20%20%20%20%20%20%20%20%20%20%20%0A%20%20%20%20%20%20%20%20%20%20%20%20%7D%29%3B%0A%0A%20%20%20%20%20%20%20%20%20%20%20%20%0A%20%20%20%20%20%20%20%20%20%20%20%20%20%20%20%20var%20html_ede71a3c387742f9b5f9c63b8486f5ea%20%3D%20%24%28%60%3Cdiv%20id%3D%22html_ede71a3c387742f9b5f9c63b8486f5ea%22%20style%3D%22width%3A%20100.0%25%3B%20height%3A%20100.0%25%3B%22%3E%20%20%20%20%20%20%20%20%20%3Cul%3E%20%20%20%20%20%20%20%20%20%20%20%20%20%3Cli%3E%3Cstrong%3EID%3A%20%3C/strong%3E147%3C/li%3E%20%20%20%20%20%20%20%20%20%20%20%20%20%3Cli%3E%3Cstrong%3ESource%3A%20%3C/strong%3EHenderson%20P%26C%20104%3C/li%3E%20%20%20%20%20%20%20%20%20%20%20%20%20%3Cli%3E%3Cstrong%3EOccupation%3A%20%3C/strong%3Enan%3C/li%3E%20%20%20%20%20%20%20%20%20%3Cul%3E%20%20%20%20%20%3C/div%3E%60%29%5B0%5D%3B%0A%20%20%20%20%20%20%20%20%20%20%20%20%20%20%20%20popup_75fdb2fb99b9445daf698160b45503f8.setContent%28html_ede71a3c387742f9b5f9c63b8486f5ea%29%3B%0A%20%20%20%20%20%20%20%20%20%20%20%20%0A%0A%20%20%20%20%20%20%20%20%20%20%20%20marker_8c1ecf6b8c5043329a2afaef6099b60d.bindPopup%28popup_75fdb2fb99b9445daf698160b45503f8%29%0A%20%20%20%20%20%20%20%20%20%20%20%20%3B%0A%0A%20%20%20%20%20%20%20%20%20%20%20%20%0A%20%20%20%20%20%20%20%20%0A%20%20%20%20%0A%20%20%20%20%20%20%20%20var%20marker_3ad59a968177444d8bddc760b9e3a39f%20%3D%20L.marker%28%0A%20%20%20%20%20%20%20%20%20%20%20%20%5B43.76581%2C%2011.24711857%5D%2C%0A%20%20%20%20%20%20%20%20%20%20%20%20%7B%0A%20%20%20%20%20%20%20%20%20%20%20%20%20%20%20%20icon%3A%20new%20L.Icon.Default%28%29%2C%0A%20%20%20%20%20%20%20%20%20%20%20%20%20%20%20%20%7D%0A%20%20%20%20%20%20%20%20%20%20%20%20%29.addTo%28map_146cd8147123498484976a07e362f27f%29%3B%0A%20%20%20%20%20%20%20%20%0A%20%20%20%20%0A%20%20%20%20%20%20%20%20%20%20%20%20var%20popup_574d4f78b980439bb3f43468792cc93e%20%3D%20L.popup%28%7BmaxWidth%3A%20%27100%25%27%0A%20%20%20%20%20%20%20%20%20%20%20%20%0A%20%20%20%20%20%20%20%20%20%20%20%20%7D%29%3B%0A%0A%20%20%20%20%20%20%20%20%20%20%20%20%0A%20%20%20%20%20%20%20%20%20%20%20%20%20%20%20%20var%20html_ffe279c4c7884c01989e4ddca0d89157%20%3D%20%24%28%60%3Cdiv%20id%3D%22html_ffe279c4c7884c01989e4ddca0d89157%22%20style%3D%22width%3A%20100.0%25%3B%20height%3A%20100.0%25%3B%22%3E%20%20%20%20%20%20%20%20%20%3Cul%3E%20%20%20%20%20%20%20%20%20%20%20%20%20%3Cli%3E%3Cstrong%3EID%3A%20%3C/strong%3E7343%3C/li%3E%20%20%20%20%20%20%20%20%20%20%20%20%20%3Cli%3E%3Cstrong%3ESource%3A%20%3C/strong%3EHenderson%20P%26C%20%2378%3C/li%3E%20%20%20%20%20%20%20%20%20%20%20%20%20%3Cli%3E%3Cstrong%3EOccupation%3A%20%3C/strong%3Enan%3C/li%3E%20%20%20%20%20%20%20%20%20%3Cul%3E%20%20%20%20%20%3C/div%3E%60%29%5B0%5D%3B%0A%20%20%20%20%20%20%20%20%20%20%20%20%20%20%20%20popup_574d4f78b980439bb3f43468792cc93e.setContent%28html_ffe279c4c7884c01989e4ddca0d89157%29%3B%0A%20%20%20%20%20%20%20%20%20%20%20%20%0A%0A%20%20%20%20%20%20%20%20%20%20%20%20marker_3ad59a968177444d8bddc760b9e3a39f.bindPopup%28popup_574d4f78b980439bb3f43468792cc93e%29%0A%20%20%20%20%20%20%20%20%20%20%20%20%3B%0A%0A%20%20%20%20%20%20%20%20%20%20%20%20%0A%20%20%20%20%20%20%20%20%0A%20%20%20%20%0A%20%20%20%20%20%20%20%20var%20marker_a37d1acdb7914043a5e60ae5a65aeab7%20%3D%20L.marker%28%0A%20%20%20%20%20%20%20%20%20%20%20%20%5B43.7674384%2C%2011.244969%5D%2C%0A%20%20%20%20%20%20%20%20%20%20%20%20%7B%0A%20%20%20%20%20%20%20%20%20%20%20%20%20%20%20%20icon%3A%20new%20L.Icon.Default%28%29%2C%0A%20%20%20%20%20%20%20%20%20%20%20%20%20%20%20%20%7D%0A%20%20%20%20%20%20%20%20%20%20%20%20%29.addTo%28map_146cd8147123498484976a07e362f27f%29%3B%0A%20%20%20%20%20%20%20%20%0A%20%20%20%20%0A%20%20%20%20%20%20%20%20%20%20%20%20var%20popup_e027a43e56934d9285cb6524a0229a32%20%3D%20L.popup%28%7BmaxWidth%3A%20%27100%25%27%0A%20%20%20%20%20%20%20%20%20%20%20%20%0A%20%20%20%20%20%20%20%20%20%20%20%20%7D%29%3B%0A%0A%20%20%20%20%20%20%20%20%20%20%20%20%0A%20%20%20%20%20%20%20%20%20%20%20%20%20%20%20%20var%20html_d5a629ef9979402ab8e123601f34cc67%20%3D%20%24%28%60%3Cdiv%20id%3D%22html_d5a629ef9979402ab8e123601f34cc67%22%20style%3D%22width%3A%20100.0%25%3B%20height%3A%20100.0%25%3B%22%3E%20%20%20%20%20%20%20%20%20%3Cul%3E%20%20%20%20%20%20%20%20%20%20%20%20%20%3Cli%3E%3Cstrong%3EID%3A%20%3C/strong%3E8476%3C/li%3E%20%20%20%20%20%20%20%20%20%20%20%20%20%3Cli%3E%3Cstrong%3ESource%3A%20%3C/strong%3EHenderson%20P%26C%20%2392%3C/li%3E%20%20%20%20%20%20%20%20%20%20%20%20%20%3Cli%3E%3Cstrong%3EOccupation%3A%20%3C/strong%3Enan%3C/li%3E%20%20%20%20%20%20%20%20%20%3Cul%3E%20%20%20%20%20%3C/div%3E%60%29%5B0%5D%3B%0A%20%20%20%20%20%20%20%20%20%20%20%20%20%20%20%20popup_e027a43e56934d9285cb6524a0229a32.setContent%28html_d5a629ef9979402ab8e123601f34cc67%29%3B%0A%20%20%20%20%20%20%20%20%20%20%20%20%0A%0A%20%20%20%20%20%20%20%20%20%20%20%20marker_a37d1acdb7914043a5e60ae5a65aeab7.bindPopup%28popup_e027a43e56934d9285cb6524a0229a32%29%0A%20%20%20%20%20%20%20%20%20%20%20%20%3B%0A%0A%20%20%20%20%20%20%20%20%20%20%20%20%0A%20%20%20%20%20%20%20%20%0A%20%20%20%20%0A%20%20%20%20%20%20%20%20var%20marker_de54435bc11841c0b538738a43befd3f%20%3D%20L.marker%28%0A%20%20%20%20%20%20%20%20%20%20%20%20%5B43.77294222%2C%2011.24744556%5D%2C%0A%20%20%20%20%20%20%20%20%20%20%20%20%7B%0A%20%20%20%20%20%20%20%20%20%20%20%20%20%20%20%20icon%3A%20new%20L.Icon.Default%28%29%2C%0A%20%20%20%20%20%20%20%20%20%20%20%20%20%20%20%20%7D%0A%20%20%20%20%20%20%20%20%20%20%20%20%29.addTo%28map_146cd8147123498484976a07e362f27f%29%3B%0A%20%20%20%20%20%20%20%20%0A%20%20%20%20%0A%20%20%20%20%20%20%20%20%20%20%20%20var%20popup_7c2010350c3d4aea8c71af51808c1e4e%20%3D%20L.popup%28%7BmaxWidth%3A%20%27100%25%27%0A%20%20%20%20%20%20%20%20%20%20%20%20%0A%20%20%20%20%20%20%20%20%20%20%20%20%7D%29%3B%0A%0A%20%20%20%20%20%20%20%20%20%20%20%20%0A%20%20%20%20%20%20%20%20%20%20%20%20%20%20%20%20var%20html_6220fe0ace6b425698b33a6cd9a1dd1d%20%3D%20%24%28%60%3Cdiv%20id%3D%22html_6220fe0ace6b425698b33a6cd9a1dd1d%22%20style%3D%22width%3A%20100.0%25%3B%20height%3A%20100.0%25%3B%22%3E%20%20%20%20%20%20%20%20%20%3Cul%3E%20%20%20%20%20%20%20%20%20%20%20%20%20%3Cli%3E%3Cstrong%3EID%3A%20%3C/strong%3E5514%3C/li%3E%20%20%20%20%20%20%20%20%20%20%20%20%20%3Cli%3E%3Cstrong%3ESource%3A%20%3C/strong%3EHenderson%20P%26C%20%2392%3C/li%3E%20%20%20%20%20%20%20%20%20%20%20%20%20%3Cli%3E%3Cstrong%3EOccupation%3A%20%3C/strong%3Enan%3C/li%3E%20%20%20%20%20%20%20%20%20%3Cul%3E%20%20%20%20%20%3C/div%3E%60%29%5B0%5D%3B%0A%20%20%20%20%20%20%20%20%20%20%20%20%20%20%20%20popup_7c2010350c3d4aea8c71af51808c1e4e.setContent%28html_6220fe0ace6b425698b33a6cd9a1dd1d%29%3B%0A%20%20%20%20%20%20%20%20%20%20%20%20%0A%0A%20%20%20%20%20%20%20%20%20%20%20%20marker_de54435bc11841c0b538738a43befd3f.bindPopup%28popup_7c2010350c3d4aea8c71af51808c1e4e%29%0A%20%20%20%20%20%20%20%20%20%20%20%20%3B%0A%0A%20%20%20%20%20%20%20%20%20%20%20%20%0A%20%20%20%20%20%20%20%20%0A%20%20%20%20%0A%20%20%20%20%20%20%20%20var%20marker_12bb326ec533405b826f1152a7f00305%20%3D%20L.marker%28%0A%20%20%20%20%20%20%20%20%20%20%20%20%5B43.76800359%2C%2011.24089635%5D%2C%0A%20%20%20%20%20%20%20%20%20%20%20%20%7B%0A%20%20%20%20%20%20%20%20%20%20%20%20%20%20%20%20icon%3A%20new%20L.Icon.Default%28%29%2C%0A%20%20%20%20%20%20%20%20%20%20%20%20%20%20%20%20%7D%0A%20%20%20%20%20%20%20%20%20%20%20%20%29.addTo%28map_146cd8147123498484976a07e362f27f%29%3B%0A%20%20%20%20%20%20%20%20%0A%20%20%20%20%0A%20%20%20%20%20%20%20%20%20%20%20%20var%20popup_57fa49425b474557adf658e926371575%20%3D%20L.popup%28%7BmaxWidth%3A%20%27100%25%27%0A%20%20%20%20%20%20%20%20%20%20%20%20%0A%20%20%20%20%20%20%20%20%20%20%20%20%7D%29%3B%0A%0A%20%20%20%20%20%20%20%20%20%20%20%20%0A%20%20%20%20%20%20%20%20%20%20%20%20%20%20%20%20var%20html_a6aaaaac599d402d89200348e4917991%20%3D%20%24%28%60%3Cdiv%20id%3D%22html_a6aaaaac599d402d89200348e4917991%22%20style%3D%22width%3A%20100.0%25%3B%20height%3A%20100.0%25%3B%22%3E%20%20%20%20%20%20%20%20%20%3Cul%3E%20%20%20%20%20%20%20%20%20%20%20%20%20%3Cli%3E%3Cstrong%3EID%3A%20%3C/strong%3E8102%3C/li%3E%20%20%20%20%20%20%20%20%20%20%20%20%20%3Cli%3E%3Cstrong%3ESource%3A%20%3C/strong%3EHenderson%20P%26C%20%23147%3C/li%3E%20%20%20%20%20%20%20%20%20%20%20%20%20%3Cli%3E%3Cstrong%3EOccupation%3A%20%3C/strong%3Enan%3C/li%3E%20%20%20%20%20%20%20%20%20%3Cul%3E%20%20%20%20%20%3C/div%3E%60%29%5B0%5D%3B%0A%20%20%20%20%20%20%20%20%20%20%20%20%20%20%20%20popup_57fa49425b474557adf658e926371575.setContent%28html_a6aaaaac599d402d89200348e4917991%29%3B%0A%20%20%20%20%20%20%20%20%20%20%20%20%0A%0A%20%20%20%20%20%20%20%20%20%20%20%20marker_12bb326ec533405b826f1152a7f00305.bindPopup%28popup_57fa49425b474557adf658e926371575%29%0A%20%20%20%20%20%20%20%20%20%20%20%20%3B%0A%0A%20%20%20%20%20%20%20%20%20%20%20%20%0A%20%20%20%20%20%20%20%20%0A%20%20%20%20%0A%20%20%20%20%20%20%20%20var%20marker_ed0da80387ed475d9b0cec199892af79%20%3D%20L.marker%28%0A%20%20%20%20%20%20%20%20%20%20%20%20%5B43.770728%2C%2011.270409%5D%2C%0A%20%20%20%20%20%20%20%20%20%20%20%20%7B%0A%20%20%20%20%20%20%20%20%20%20%20%20%20%20%20%20icon%3A%20new%20L.Icon.Default%28%29%2C%0A%20%20%20%20%20%20%20%20%20%20%20%20%20%20%20%20%7D%0A%20%20%20%20%20%20%20%20%20%20%20%20%29.addTo%28map_146cd8147123498484976a07e362f27f%29%3B%0A%20%20%20%20%20%20%20%20%0A%20%20%20%20%0A%20%20%20%20%20%20%20%20%20%20%20%20var%20popup_1eab2a2aa0ff41a782aee43d36e8046a%20%3D%20L.popup%28%7BmaxWidth%3A%20%27100%25%27%0A%20%20%20%20%20%20%20%20%20%20%20%20%0A%20%20%20%20%20%20%20%20%20%20%20%20%7D%29%3B%0A%0A%20%20%20%20%20%20%20%20%20%20%20%20%0A%20%20%20%20%20%20%20%20%20%20%20%20%20%20%20%20var%20html_f5221f82eb9149b7813653415f4548b4%20%3D%20%24%28%60%3Cdiv%20id%3D%22html_f5221f82eb9149b7813653415f4548b4%22%20style%3D%22width%3A%20100.0%25%3B%20height%3A%20100.0%25%3B%22%3E%20%20%20%20%20%20%20%20%20%3Cul%3E%20%20%20%20%20%20%20%20%20%20%20%20%20%3Cli%3E%3Cstrong%3EID%3A%20%3C/strong%3E2030%3C/li%3E%20%20%20%20%20%20%20%20%20%20%20%20%20%3Cli%3E%3Cstrong%3ESource%3A%20%3C/strong%3EHenderson%20P%26C%20%23105%20%5Bor%20121%5D%3C/li%3E%20%20%20%20%20%20%20%20%20%20%20%20%20%3Cli%3E%3Cstrong%3EOccupation%3A%20%3C/strong%3Enan%3C/li%3E%20%20%20%20%20%20%20%20%20%3Cul%3E%20%20%20%20%20%3C/div%3E%60%29%5B0%5D%3B%0A%20%20%20%20%20%20%20%20%20%20%20%20%20%20%20%20popup_1eab2a2aa0ff41a782aee43d36e8046a.setContent%28html_f5221f82eb9149b7813653415f4548b4%29%3B%0A%20%20%20%20%20%20%20%20%20%20%20%20%0A%0A%20%20%20%20%20%20%20%20%20%20%20%20marker_ed0da80387ed475d9b0cec199892af79.bindPopup%28popup_1eab2a2aa0ff41a782aee43d36e8046a%29%0A%20%20%20%20%20%20%20%20%20%20%20%20%3B%0A%0A%20%20%20%20%20%20%20%20%20%20%20%20%0A%20%20%20%20%20%20%20%20%0A%20%20%20%20%0A%20%20%20%20%20%20%20%20var%20marker_8460f8c13ffe4c5484c8138460d17cd8%20%3D%20L.marker%28%0A%20%20%20%20%20%20%20%20%20%20%20%20%5B43.77714732%2C%2011.25429326%5D%2C%0A%20%20%20%20%20%20%20%20%20%20%20%20%7B%0A%20%20%20%20%20%20%20%20%20%20%20%20%20%20%20%20icon%3A%20new%20L.Icon.Default%28%29%2C%0A%20%20%20%20%20%20%20%20%20%20%20%20%20%20%20%20%7D%0A%20%20%20%20%20%20%20%20%20%20%20%20%29.addTo%28map_146cd8147123498484976a07e362f27f%29%3B%0A%20%20%20%20%20%20%20%20%0A%20%20%20%20%0A%20%20%20%20%20%20%20%20%20%20%20%20var%20popup_1062531407a247d18a225ca095d0090a%20%3D%20L.popup%28%7BmaxWidth%3A%20%27100%25%27%0A%20%20%20%20%20%20%20%20%20%20%20%20%0A%20%20%20%20%20%20%20%20%20%20%20%20%7D%29%3B%0A%0A%20%20%20%20%20%20%20%20%20%20%20%20%0A%20%20%20%20%20%20%20%20%20%20%20%20%20%20%20%20var%20html_b4dfa3e54c89485ba1b4e17a2a2b865c%20%3D%20%24%28%60%3Cdiv%20id%3D%22html_b4dfa3e54c89485ba1b4e17a2a2b865c%22%20style%3D%22width%3A%20100.0%25%3B%20height%3A%20100.0%25%3B%22%3E%20%20%20%20%20%20%20%20%20%3Cul%3E%20%20%20%20%20%20%20%20%20%20%20%20%20%3Cli%3E%3Cstrong%3EID%3A%20%3C/strong%3E400%3C/li%3E%20%20%20%20%20%20%20%20%20%20%20%20%20%3Cli%3E%3Cstrong%3ESource%3A%20%3C/strong%3EHenderson%20P%26C%20%2342%3C/li%3E%20%20%20%20%20%20%20%20%20%20%20%20%20%3Cli%3E%3Cstrong%3EOccupation%3A%20%3C/strong%3Erivenditore%3C/li%3E%20%20%20%20%20%20%20%20%20%3Cul%3E%20%20%20%20%20%3C/div%3E%60%29%5B0%5D%3B%0A%20%20%20%20%20%20%20%20%20%20%20%20%20%20%20%20popup_1062531407a247d18a225ca095d0090a.setContent%28html_b4dfa3e54c89485ba1b4e17a2a2b865c%29%3B%0A%20%20%20%20%20%20%20%20%20%20%20%20%0A%0A%20%20%20%20%20%20%20%20%20%20%20%20marker_8460f8c13ffe4c5484c8138460d17cd8.bindPopup%28popup_1062531407a247d18a225ca095d0090a%29%0A%20%20%20%20%20%20%20%20%20%20%20%20%3B%0A%0A%20%20%20%20%20%20%20%20%20%20%20%20%0A%20%20%20%20%20%20%20%20%0A%20%20%20%20%0A%20%20%20%20%20%20%20%20var%20marker_5a6d93d59b624f7e9a0c992778020cd5%20%3D%20L.marker%28%0A%20%20%20%20%20%20%20%20%20%20%20%20%5B43.78140888%2C%2011.260031%5D%2C%0A%20%20%20%20%20%20%20%20%20%20%20%20%7B%0A%20%20%20%20%20%20%20%20%20%20%20%20%20%20%20%20icon%3A%20new%20L.Icon.Default%28%29%2C%0A%20%20%20%20%20%20%20%20%20%20%20%20%20%20%20%20%7D%0A%20%20%20%20%20%20%20%20%20%20%20%20%29.addTo%28map_146cd8147123498484976a07e362f27f%29%3B%0A%20%20%20%20%20%20%20%20%0A%20%20%20%20%0A%20%20%20%20%20%20%20%20%20%20%20%20var%20popup_1252f91f101d4ca7843981c019c0eeb6%20%3D%20L.popup%28%7BmaxWidth%3A%20%27100%25%27%0A%20%20%20%20%20%20%20%20%20%20%20%20%0A%20%20%20%20%20%20%20%20%20%20%20%20%7D%29%3B%0A%0A%20%20%20%20%20%20%20%20%20%20%20%20%0A%20%20%20%20%20%20%20%20%20%20%20%20%20%20%20%20var%20html_b77e7fd0b8d74e8c8351eaee3f919796%20%3D%20%24%28%60%3Cdiv%20id%3D%22html_b77e7fd0b8d74e8c8351eaee3f919796%22%20style%3D%22width%3A%20100.0%25%3B%20height%3A%20100.0%25%3B%22%3E%20%20%20%20%20%20%20%20%20%3Cul%3E%20%20%20%20%20%20%20%20%20%20%20%20%20%3Cli%3E%3Cstrong%3EID%3A%20%3C/strong%3E1098%3C/li%3E%20%20%20%20%20%20%20%20%20%20%20%20%20%3Cli%3E%3Cstrong%3ESource%3A%20%3C/strong%3EHenderson%20P%26C%20%2353%3C/li%3E%20%20%20%20%20%20%20%20%20%20%20%20%20%3Cli%3E%3Cstrong%3EOccupation%3A%20%3C/strong%3Ebattilano%3C/li%3E%20%20%20%20%20%20%20%20%20%3Cul%3E%20%20%20%20%20%3C/div%3E%60%29%5B0%5D%3B%0A%20%20%20%20%20%20%20%20%20%20%20%20%20%20%20%20popup_1252f91f101d4ca7843981c019c0eeb6.setContent%28html_b77e7fd0b8d74e8c8351eaee3f919796%29%3B%0A%20%20%20%20%20%20%20%20%20%20%20%20%0A%0A%20%20%20%20%20%20%20%20%20%20%20%20marker_5a6d93d59b624f7e9a0c992778020cd5.bindPopup%28popup_1252f91f101d4ca7843981c019c0eeb6%29%0A%20%20%20%20%20%20%20%20%20%20%20%20%3B%0A%0A%20%20%20%20%20%20%20%20%20%20%20%20%0A%20%20%20%20%20%20%20%20%0A%20%20%20%20%0A%20%20%20%20%20%20%20%20var%20marker_3f9d0059870f4578a7fb106170c456d6%20%3D%20L.marker%28%0A%20%20%20%20%20%20%20%20%20%20%20%20%5B43.76968667%2C%2011.242858%5D%2C%0A%20%20%20%20%20%20%20%20%20%20%20%20%7B%0A%20%20%20%20%20%20%20%20%20%20%20%20%20%20%20%20icon%3A%20new%20L.Icon.Default%28%29%2C%0A%20%20%20%20%20%20%20%20%20%20%20%20%20%20%20%20%7D%0A%20%20%20%20%20%20%20%20%20%20%20%20%29.addTo%28map_146cd8147123498484976a07e362f27f%29%3B%0A%20%20%20%20%20%20%20%20%0A%20%20%20%20%0A%20%20%20%20%20%20%20%20%20%20%20%20var%20popup_d605405848c34681a95a84ecea55598c%20%3D%20L.popup%28%7BmaxWidth%3A%20%27100%25%27%0A%20%20%20%20%20%20%20%20%20%20%20%20%0A%20%20%20%20%20%20%20%20%20%20%20%20%7D%29%3B%0A%0A%20%20%20%20%20%20%20%20%20%20%20%20%0A%20%20%20%20%20%20%20%20%20%20%20%20%20%20%20%20var%20html_63dfeea55e33480499c6eeb270a5c679%20%3D%20%24%28%60%3Cdiv%20id%3D%22html_63dfeea55e33480499c6eeb270a5c679%22%20style%3D%22width%3A%20100.0%25%3B%20height%3A%20100.0%25%3B%22%3E%20%20%20%20%20%20%20%20%20%3Cul%3E%20%20%20%20%20%20%20%20%20%20%20%20%20%3Cli%3E%3Cstrong%3EID%3A%20%3C/strong%3E8063%3C/li%3E%20%20%20%20%20%20%20%20%20%20%20%20%20%3Cli%3E%3Cstrong%3ESource%3A%20%3C/strong%3Enan%3C/li%3E%20%20%20%20%20%20%20%20%20%20%20%20%20%3Cli%3E%3Cstrong%3EOccupation%3A%20%3C/strong%3Enan%3C/li%3E%20%20%20%20%20%20%20%20%20%3Cul%3E%20%20%20%20%20%3C/div%3E%60%29%5B0%5D%3B%0A%20%20%20%20%20%20%20%20%20%20%20%20%20%20%20%20popup_d605405848c34681a95a84ecea55598c.setContent%28html_63dfeea55e33480499c6eeb270a5c679%29%3B%0A%20%20%20%20%20%20%20%20%20%20%20%20%0A%0A%20%20%20%20%20%20%20%20%20%20%20%20marker_3f9d0059870f4578a7fb106170c456d6.bindPopup%28popup_d605405848c34681a95a84ecea55598c%29%0A%20%20%20%20%20%20%20%20%20%20%20%20%3B%0A%0A%20%20%20%20%20%20%20%20%20%20%20%20%0A%20%20%20%20%20%20%20%20%0A%20%20%20%20%0A%20%20%20%20%20%20%20%20var%20marker_27216f3ec616466cb4df63a1d77b2bfd%20%3D%20L.marker%28%0A%20%20%20%20%20%20%20%20%20%20%20%20%5B43.763872%2C%2011.245746%5D%2C%0A%20%20%20%20%20%20%20%20%20%20%20%20%7B%0A%20%20%20%20%20%20%20%20%20%20%20%20%20%20%20%20icon%3A%20new%20L.Icon.Default%28%29%2C%0A%20%20%20%20%20%20%20%20%20%20%20%20%20%20%20%20%7D%0A%20%20%20%20%20%20%20%20%20%20%20%20%29.addTo%28map_146cd8147123498484976a07e362f27f%29%3B%0A%20%20%20%20%20%20%20%20%0A%20%20%20%20%0A%20%20%20%20%20%20%20%20%20%20%20%20var%20popup_d57ab3b1b99740c18be511f07cce1d5d%20%3D%20L.popup%28%7BmaxWidth%3A%20%27100%25%27%0A%20%20%20%20%20%20%20%20%20%20%20%20%0A%20%20%20%20%20%20%20%20%20%20%20%20%7D%29%3B%0A%0A%20%20%20%20%20%20%20%20%20%20%20%20%0A%20%20%20%20%20%20%20%20%20%20%20%20%20%20%20%20var%20html_52af9397e54841d0abf12310a65fbde5%20%3D%20%24%28%60%3Cdiv%20id%3D%22html_52af9397e54841d0abf12310a65fbde5%22%20style%3D%22width%3A%20100.0%25%3B%20height%3A%20100.0%25%3B%22%3E%20%20%20%20%20%20%20%20%20%3Cul%3E%20%20%20%20%20%20%20%20%20%20%20%20%20%3Cli%3E%3Cstrong%3EID%3A%20%3C/strong%3E7160%3C/li%3E%20%20%20%20%20%20%20%20%20%20%20%20%20%3Cli%3E%3Cstrong%3ESource%3A%20%3C/strong%3EHenderson%20P%26C%20%2313%3C/li%3E%20%20%20%20%20%20%20%20%20%20%20%20%20%3Cli%3E%3Cstrong%3EOccupation%3A%20%3C/strong%3Enan%3C/li%3E%20%20%20%20%20%20%20%20%20%3Cul%3E%20%20%20%20%20%3C/div%3E%60%29%5B0%5D%3B%0A%20%20%20%20%20%20%20%20%20%20%20%20%20%20%20%20popup_d57ab3b1b99740c18be511f07cce1d5d.setContent%28html_52af9397e54841d0abf12310a65fbde5%29%3B%0A%20%20%20%20%20%20%20%20%20%20%20%20%0A%0A%20%20%20%20%20%20%20%20%20%20%20%20marker_27216f3ec616466cb4df63a1d77b2bfd.bindPopup%28popup_d57ab3b1b99740c18be511f07cce1d5d%29%0A%20%20%20%20%20%20%20%20%20%20%20%20%3B%0A%0A%20%20%20%20%20%20%20%20%20%20%20%20%0A%20%20%20%20%20%20%20%20%0A%20%20%20%20%0A%20%20%20%20%20%20%20%20var%20marker_9df564e24eea4b9ab12e6b6f26ed92aa%20%3D%20L.marker%28%0A%20%20%20%20%20%20%20%20%20%20%20%20%5B43.76521889%2C%2011.24484333%5D%2C%0A%20%20%20%20%20%20%20%20%20%20%20%20%7B%0A%20%20%20%20%20%20%20%20%20%20%20%20%20%20%20%20icon%3A%20new%20L.Icon.Default%28%29%2C%0A%20%20%20%20%20%20%20%20%20%20%20%20%20%20%20%20%7D%0A%20%20%20%20%20%20%20%20%20%20%20%20%29.addTo%28map_146cd8147123498484976a07e362f27f%29%3B%0A%20%20%20%20%20%20%20%20%0A%20%20%20%20%0A%20%20%20%20%20%20%20%20%20%20%20%20var%20popup_12ab97732071434e921416ec2073c0d8%20%3D%20L.popup%28%7BmaxWidth%3A%20%27100%25%27%0A%20%20%20%20%20%20%20%20%20%20%20%20%0A%20%20%20%20%20%20%20%20%20%20%20%20%7D%29%3B%0A%0A%20%20%20%20%20%20%20%20%20%20%20%20%0A%20%20%20%20%20%20%20%20%20%20%20%20%20%20%20%20var%20html_5e57558dc7ef42bfa3cc930cc67306ad%20%3D%20%24%28%60%3Cdiv%20id%3D%22html_5e57558dc7ef42bfa3cc930cc67306ad%22%20style%3D%22width%3A%20100.0%25%3B%20height%3A%20100.0%25%3B%22%3E%20%20%20%20%20%20%20%20%20%3Cul%3E%20%20%20%20%20%20%20%20%20%20%20%20%20%3Cli%3E%3Cstrong%3EID%3A%20%3C/strong%3E7322%3C/li%3E%20%20%20%20%20%20%20%20%20%20%20%20%20%3Cli%3E%3Cstrong%3ESource%3A%20%3C/strong%3EHenderson%20P%26C%20%2313%3C/li%3E%20%20%20%20%20%20%20%20%20%20%20%20%20%3Cli%3E%3Cstrong%3EOccupation%3A%20%3C/strong%3Erivenditore%3C/li%3E%20%20%20%20%20%20%20%20%20%3Cul%3E%20%20%20%20%20%3C/div%3E%60%29%5B0%5D%3B%0A%20%20%20%20%20%20%20%20%20%20%20%20%20%20%20%20popup_12ab97732071434e921416ec2073c0d8.setContent%28html_5e57558dc7ef42bfa3cc930cc67306ad%29%3B%0A%20%20%20%20%20%20%20%20%20%20%20%20%0A%0A%20%20%20%20%20%20%20%20%20%20%20%20marker_9df564e24eea4b9ab12e6b6f26ed92aa.bindPopup%28popup_12ab97732071434e921416ec2073c0d8%29%0A%20%20%20%20%20%20%20%20%20%20%20%20%3B%0A%0A%20%20%20%20%20%20%20%20%20%20%20%20%0A%20%20%20%20%20%20%20%20%0A%20%20%20%20%0A%20%20%20%20%20%20%20%20var%20marker_44a63d26d81546c2b66e54e1162f2e1d%20%3D%20L.marker%28%0A%20%20%20%20%20%20%20%20%20%20%20%20%5B43.76386563%2C%2011.26206188%5D%2C%0A%20%20%20%20%20%20%20%20%20%20%20%20%7B%0A%20%20%20%20%20%20%20%20%20%20%20%20%20%20%20%20icon%3A%20new%20L.Icon.Default%28%29%2C%0A%20%20%20%20%20%20%20%20%20%20%20%20%20%20%20%20%7D%0A%20%20%20%20%20%20%20%20%20%20%20%20%29.addTo%28map_146cd8147123498484976a07e362f27f%29%3B%0A%20%20%20%20%20%20%20%20%0A%20%20%20%20%0A%20%20%20%20%20%20%20%20%20%20%20%20var%20popup_639ff53f3aff4f9c8449f54016fb0084%20%3D%20L.popup%28%7BmaxWidth%3A%20%27100%25%27%0A%20%20%20%20%20%20%20%20%20%20%20%20%0A%20%20%20%20%20%20%20%20%20%20%20%20%7D%29%3B%0A%0A%20%20%20%20%20%20%20%20%20%20%20%20%0A%20%20%20%20%20%20%20%20%20%20%20%20%20%20%20%20var%20html_2eeb1653c6ef400693915b4b589e7049%20%3D%20%24%28%60%3Cdiv%20id%3D%22html_2eeb1653c6ef400693915b4b589e7049%22%20style%3D%22width%3A%20100.0%25%3B%20height%3A%20100.0%25%3B%22%3E%20%20%20%20%20%20%20%20%20%3Cul%3E%20%20%20%20%20%20%20%20%20%20%20%20%20%3Cli%3E%3Cstrong%3EID%3A%20%3C/strong%3E6161%3C/li%3E%20%20%20%20%20%20%20%20%20%20%20%20%20%3Cli%3E%3Cstrong%3ESource%3A%20%3C/strong%3EHenderson%20P%26C%20%2313%3C/li%3E%20%20%20%20%20%20%20%20%20%20%20%20%20%3Cli%3E%3Cstrong%3EOccupation%3A%20%3C/strong%3Enan%3C/li%3E%20%20%20%20%20%20%20%20%20%3Cul%3E%20%20%20%20%20%3C/div%3E%60%29%5B0%5D%3B%0A%20%20%20%20%20%20%20%20%20%20%20%20%20%20%20%20popup_639ff53f3aff4f9c8449f54016fb0084.setContent%28html_2eeb1653c6ef400693915b4b589e7049%29%3B%0A%20%20%20%20%20%20%20%20%20%20%20%20%0A%0A%20%20%20%20%20%20%20%20%20%20%20%20marker_44a63d26d81546c2b66e54e1162f2e1d.bindPopup%28popup_639ff53f3aff4f9c8449f54016fb0084%29%0A%20%20%20%20%20%20%20%20%20%20%20%20%3B%0A%0A%20%20%20%20%20%20%20%20%20%20%20%20%0A%20%20%20%20%20%20%20%20%0A%20%20%20%20%0A%20%20%20%20%20%20%20%20var%20marker_8f176d8e787749619d4f9fda57f0cb6a%20%3D%20L.marker%28%0A%20%20%20%20%20%20%20%20%20%20%20%20%5B43.78036243%2C%2011.25901252%5D%2C%0A%20%20%20%20%20%20%20%20%20%20%20%20%7B%0A%20%20%20%20%20%20%20%20%20%20%20%20%20%20%20%20icon%3A%20new%20L.Icon.Default%28%29%2C%0A%20%20%20%20%20%20%20%20%20%20%20%20%20%20%20%20%7D%0A%20%20%20%20%20%20%20%20%20%20%20%20%29.addTo%28map_146cd8147123498484976a07e362f27f%29%3B%0A%20%20%20%20%20%20%20%20%0A%20%20%20%20%0A%20%20%20%20%20%20%20%20%20%20%20%20var%20popup_32cd1188dddc4d7fb440fa99291fab9d%20%3D%20L.popup%28%7BmaxWidth%3A%20%27100%25%27%0A%20%20%20%20%20%20%20%20%20%20%20%20%0A%20%20%20%20%20%20%20%20%20%20%20%20%7D%29%3B%0A%0A%20%20%20%20%20%20%20%20%20%20%20%20%0A%20%20%20%20%20%20%20%20%20%20%20%20%20%20%20%20var%20html_3c57d61b73224e87ac549c331fa30c7d%20%3D%20%24%28%60%3Cdiv%20id%3D%22html_3c57d61b73224e87ac549c331fa30c7d%22%20style%3D%22width%3A%20100.0%25%3B%20height%3A%20100.0%25%3B%22%3E%20%20%20%20%20%20%20%20%20%3Cul%3E%20%20%20%20%20%20%20%20%20%20%20%20%20%3Cli%3E%3Cstrong%3EID%3A%20%3C/strong%3E1203%3C/li%3E%20%20%20%20%20%20%20%20%20%20%20%20%20%3Cli%3E%3Cstrong%3ESource%3A%20%3C/strong%3Enan%3C/li%3E%20%20%20%20%20%20%20%20%20%20%20%20%20%3Cli%3E%3Cstrong%3EOccupation%3A%20%3C/strong%3Ecalzolaio%3C/li%3E%20%20%20%20%20%20%20%20%20%3Cul%3E%20%20%20%20%20%3C/div%3E%60%29%5B0%5D%3B%0A%20%20%20%20%20%20%20%20%20%20%20%20%20%20%20%20popup_32cd1188dddc4d7fb440fa99291fab9d.setContent%28html_3c57d61b73224e87ac549c331fa30c7d%29%3B%0A%20%20%20%20%20%20%20%20%20%20%20%20%0A%0A%20%20%20%20%20%20%20%20%20%20%20%20marker_8f176d8e787749619d4f9fda57f0cb6a.bindPopup%28popup_32cd1188dddc4d7fb440fa99291fab9d%29%0A%20%20%20%20%20%20%20%20%20%20%20%20%3B%0A%0A%20%20%20%20%20%20%20%20%20%20%20%20%0A%20%20%20%20%20%20%20%20%0A%20%20%20%20%0A%20%20%20%20%20%20%20%20var%20marker_143660a841bc4586a8d69700d606c822%20%3D%20L.marker%28%0A%20%20%20%20%20%20%20%20%20%20%20%20%5B43.77592314%2C%2011.24932725%5D%2C%0A%20%20%20%20%20%20%20%20%20%20%20%20%7B%0A%20%20%20%20%20%20%20%20%20%20%20%20%20%20%20%20icon%3A%20new%20L.Icon.Default%28%29%2C%0A%20%20%20%20%20%20%20%20%20%20%20%20%20%20%20%20%7D%0A%20%20%20%20%20%20%20%20%20%20%20%20%29.addTo%28map_146cd8147123498484976a07e362f27f%29%3B%0A%20%20%20%20%20%20%20%20%0A%20%20%20%20%0A%20%20%20%20%20%20%20%20%20%20%20%20var%20popup_ce2e0eb76265460eb4fb900cea29307d%20%3D%20L.popup%28%7BmaxWidth%3A%20%27100%25%27%0A%20%20%20%20%20%20%20%20%20%20%20%20%0A%20%20%20%20%20%20%20%20%20%20%20%20%7D%29%3B%0A%0A%20%20%20%20%20%20%20%20%20%20%20%20%0A%20%20%20%20%20%20%20%20%20%20%20%20%20%20%20%20var%20html_ed83dc634ae84336980e4c3bbeec3997%20%3D%20%24%28%60%3Cdiv%20id%3D%22html_ed83dc634ae84336980e4c3bbeec3997%22%20style%3D%22width%3A%20100.0%25%3B%20height%3A%20100.0%25%3B%22%3E%20%20%20%20%20%20%20%20%20%3Cul%3E%20%20%20%20%20%20%20%20%20%20%20%20%20%3Cli%3E%3Cstrong%3EID%3A%20%3C/strong%3E4441%3C/li%3E%20%20%20%20%20%20%20%20%20%20%20%20%20%3Cli%3E%3Cstrong%3ESource%3A%20%3C/strong%3Enan%3C/li%3E%20%20%20%20%20%20%20%20%20%20%20%20%20%3Cli%3E%3Cstrong%3EOccupation%3A%20%3C/strong%3Enan%3C/li%3E%20%20%20%20%20%20%20%20%20%3Cul%3E%20%20%20%20%20%3C/div%3E%60%29%5B0%5D%3B%0A%20%20%20%20%20%20%20%20%20%20%20%20%20%20%20%20popup_ce2e0eb76265460eb4fb900cea29307d.setContent%28html_ed83dc634ae84336980e4c3bbeec3997%29%3B%0A%20%20%20%20%20%20%20%20%20%20%20%20%0A%0A%20%20%20%20%20%20%20%20%20%20%20%20marker_143660a841bc4586a8d69700d606c822.bindPopup%28popup_ce2e0eb76265460eb4fb900cea29307d%29%0A%20%20%20%20%20%20%20%20%20%20%20%20%3B%0A%0A%20%20%20%20%20%20%20%20%20%20%20%20%0A%20%20%20%20%20%20%20%20%0A%20%20%20%20%0A%20%20%20%20%20%20%20%20var%20marker_dc5e3e03753c408cacfaa75c5dc98c60%20%3D%20L.marker%28%0A%20%20%20%20%20%20%20%20%20%20%20%20%5B43.77368155%2C%2011.26281945%5D%2C%0A%20%20%20%20%20%20%20%20%20%20%20%20%7B%0A%20%20%20%20%20%20%20%20%20%20%20%20%20%20%20%20icon%3A%20new%20L.Icon.Default%28%29%2C%0A%20%20%20%20%20%20%20%20%20%20%20%20%20%20%20%20%7D%0A%20%20%20%20%20%20%20%20%20%20%20%20%29.addTo%28map_146cd8147123498484976a07e362f27f%29%3B%0A%20%20%20%20%20%20%20%20%0A%20%20%20%20%0A%20%20%20%20%20%20%20%20%20%20%20%20var%20popup_6ff8af1a23f746c6b367aa3f82e45f83%20%3D%20L.popup%28%7BmaxWidth%3A%20%27100%25%27%0A%20%20%20%20%20%20%20%20%20%20%20%20%0A%20%20%20%20%20%20%20%20%20%20%20%20%7D%29%3B%0A%0A%20%20%20%20%20%20%20%20%20%20%20%20%0A%20%20%20%20%20%20%20%20%20%20%20%20%20%20%20%20var%20html_fecb82a4e0aa46f0a2fdfed0dec1cd97%20%3D%20%24%28%60%3Cdiv%20id%3D%22html_fecb82a4e0aa46f0a2fdfed0dec1cd97%22%20style%3D%22width%3A%20100.0%25%3B%20height%3A%20100.0%25%3B%22%3E%20%20%20%20%20%20%20%20%20%3Cul%3E%20%20%20%20%20%20%20%20%20%20%20%20%20%3Cli%3E%3Cstrong%3EID%3A%20%3C/strong%3E2088%3C/li%3E%20%20%20%20%20%20%20%20%20%20%20%20%20%3Cli%3E%3Cstrong%3ESource%3A%20%3C/strong%3Enan%3C/li%3E%20%20%20%20%20%20%20%20%20%20%20%20%20%3Cli%3E%3Cstrong%3EOccupation%3A%20%3C/strong%3Etessitore%3C/li%3E%20%20%20%20%20%20%20%20%20%3Cul%3E%20%20%20%20%20%3C/div%3E%60%29%5B0%5D%3B%0A%20%20%20%20%20%20%20%20%20%20%20%20%20%20%20%20popup_6ff8af1a23f746c6b367aa3f82e45f83.setContent%28html_fecb82a4e0aa46f0a2fdfed0dec1cd97%29%3B%0A%20%20%20%20%20%20%20%20%20%20%20%20%0A%0A%20%20%20%20%20%20%20%20%20%20%20%20marker_dc5e3e03753c408cacfaa75c5dc98c60.bindPopup%28popup_6ff8af1a23f746c6b367aa3f82e45f83%29%0A%20%20%20%20%20%20%20%20%20%20%20%20%3B%0A%0A%20%20%20%20%20%20%20%20%20%20%20%20%0A%20%20%20%20%20%20%20%20%0A%20%20%20%20%0A%20%20%20%20%20%20%20%20var%20marker_6fa5a01acc254a2c8bcf65eddbb4de7d%20%3D%20L.marker%28%0A%20%20%20%20%20%20%20%20%20%20%20%20%5B43.76489%2C%2011.244635%5D%2C%0A%20%20%20%20%20%20%20%20%20%20%20%20%7B%0A%20%20%20%20%20%20%20%20%20%20%20%20%20%20%20%20icon%3A%20new%20L.Icon.Default%28%29%2C%0A%20%20%20%20%20%20%20%20%20%20%20%20%20%20%20%20%7D%0A%20%20%20%20%20%20%20%20%20%20%20%20%29.addTo%28map_146cd8147123498484976a07e362f27f%29%3B%0A%20%20%20%20%20%20%20%20%0A%20%20%20%20%0A%20%20%20%20%20%20%20%20%20%20%20%20var%20popup_745bb89ab62a4ed09d1836d6868f5217%20%3D%20L.popup%28%7BmaxWidth%3A%20%27100%25%27%0A%20%20%20%20%20%20%20%20%20%20%20%20%0A%20%20%20%20%20%20%20%20%20%20%20%20%7D%29%3B%0A%0A%20%20%20%20%20%20%20%20%20%20%20%20%0A%20%20%20%20%20%20%20%20%20%20%20%20%20%20%20%20var%20html_edd3b09d599f451ab9149e2221a28711%20%3D%20%24%28%60%3Cdiv%20id%3D%22html_edd3b09d599f451ab9149e2221a28711%22%20style%3D%22width%3A%20100.0%25%3B%20height%3A%20100.0%25%3B%22%3E%20%20%20%20%20%20%20%20%20%3Cul%3E%20%20%20%20%20%20%20%20%20%20%20%20%20%3Cli%3E%3Cstrong%3EID%3A%20%3C/strong%3E7389%3C/li%3E%20%20%20%20%20%20%20%20%20%20%20%20%20%3Cli%3E%3Cstrong%3ESource%3A%20%3C/strong%3EHenderson%20P%26C%20%23110%3C/li%3E%20%20%20%20%20%20%20%20%20%20%20%20%20%3Cli%3E%3Cstrong%3EOccupation%3A%20%3C/strong%3Epettinagnolo%3C/li%3E%20%20%20%20%20%20%20%20%20%3Cul%3E%20%20%20%20%20%3C/div%3E%60%29%5B0%5D%3B%0A%20%20%20%20%20%20%20%20%20%20%20%20%20%20%20%20popup_745bb89ab62a4ed09d1836d6868f5217.setContent%28html_edd3b09d599f451ab9149e2221a28711%29%3B%0A%20%20%20%20%20%20%20%20%20%20%20%20%0A%0A%20%20%20%20%20%20%20%20%20%20%20%20marker_6fa5a01acc254a2c8bcf65eddbb4de7d.bindPopup%28popup_745bb89ab62a4ed09d1836d6868f5217%29%0A%20%20%20%20%20%20%20%20%20%20%20%20%3B%0A%0A%20%20%20%20%20%20%20%20%20%20%20%20%0A%20%20%20%20%20%20%20%20%0A%20%20%20%20%0A%20%20%20%20%20%20%20%20var%20marker_1f5ac43786904ed8a94cdaa03c016885%20%3D%20L.marker%28%0A%20%20%20%20%20%20%20%20%20%20%20%20%5B43.76512667%2C%2011.24469333%5D%2C%0A%20%20%20%20%20%20%20%20%20%20%20%20%7B%0A%20%20%20%20%20%20%20%20%20%20%20%20%20%20%20%20icon%3A%20new%20L.Icon.Default%28%29%2C%0A%20%20%20%20%20%20%20%20%20%20%20%20%20%20%20%20%7D%0A%20%20%20%20%20%20%20%20%20%20%20%20%29.addTo%28map_146cd8147123498484976a07e362f27f%29%3B%0A%20%20%20%20%20%20%20%20%0A%20%20%20%20%0A%20%20%20%20%20%20%20%20%20%20%20%20var%20popup_a925c574caa8491f83b45ead9c0c1871%20%3D%20L.popup%28%7BmaxWidth%3A%20%27100%25%27%0A%20%20%20%20%20%20%20%20%20%20%20%20%0A%20%20%20%20%20%20%20%20%20%20%20%20%7D%29%3B%0A%0A%20%20%20%20%20%20%20%20%20%20%20%20%0A%20%20%20%20%20%20%20%20%20%20%20%20%20%20%20%20var%20html_9be957974922449196d9b35275237876%20%3D%20%24%28%60%3Cdiv%20id%3D%22html_9be957974922449196d9b35275237876%22%20style%3D%22width%3A%20100.0%25%3B%20height%3A%20100.0%25%3B%22%3E%20%20%20%20%20%20%20%20%20%3Cul%3E%20%20%20%20%20%20%20%20%20%20%20%20%20%3Cli%3E%3Cstrong%3EID%3A%20%3C/strong%3E7447%3C/li%3E%20%20%20%20%20%20%20%20%20%20%20%20%20%3Cli%3E%3Cstrong%3ESource%3A%20%3C/strong%3EHenderson%20P%26C%20%23110%3C/li%3E%20%20%20%20%20%20%20%20%20%20%20%20%20%3Cli%3E%3Cstrong%3EOccupation%3A%20%3C/strong%3Etessitore%20di%20broccati%3C/li%3E%20%20%20%20%20%20%20%20%20%3Cul%3E%20%20%20%20%20%3C/div%3E%60%29%5B0%5D%3B%0A%20%20%20%20%20%20%20%20%20%20%20%20%20%20%20%20popup_a925c574caa8491f83b45ead9c0c1871.setContent%28html_9be957974922449196d9b35275237876%29%3B%0A%20%20%20%20%20%20%20%20%20%20%20%20%0A%0A%20%20%20%20%20%20%20%20%20%20%20%20marker_1f5ac43786904ed8a94cdaa03c016885.bindPopup%28popup_a925c574caa8491f83b45ead9c0c1871%29%0A%20%20%20%20%20%20%20%20%20%20%20%20%3B%0A%0A%20%20%20%20%20%20%20%20%20%20%20%20%0A%20%20%20%20%20%20%20%20%0A%20%20%20%20%0A%20%20%20%20%20%20%20%20var%20marker_e6116a10f52f49e2b6f15c78a1a05503%20%3D%20L.marker%28%0A%20%20%20%20%20%20%20%20%20%20%20%20%5B43.767224%2C%2011.2454736%5D%2C%0A%20%20%20%20%20%20%20%20%20%20%20%20%7B%0A%20%20%20%20%20%20%20%20%20%20%20%20%20%20%20%20icon%3A%20new%20L.Icon.Default%28%29%2C%0A%20%20%20%20%20%20%20%20%20%20%20%20%20%20%20%20%7D%0A%20%20%20%20%20%20%20%20%20%20%20%20%29.addTo%28map_146cd8147123498484976a07e362f27f%29%3B%0A%20%20%20%20%20%20%20%20%0A%20%20%20%20%0A%20%20%20%20%20%20%20%20%20%20%20%20var%20popup_c30fdf63e901466097f688be2ae8bd64%20%3D%20L.popup%28%7BmaxWidth%3A%20%27100%25%27%0A%20%20%20%20%20%20%20%20%20%20%20%20%0A%20%20%20%20%20%20%20%20%20%20%20%20%7D%29%3B%0A%0A%20%20%20%20%20%20%20%20%20%20%20%20%0A%20%20%20%20%20%20%20%20%20%20%20%20%20%20%20%20var%20html_b40564f676e74b438ebdc079af1daf7e%20%3D%20%24%28%60%3Cdiv%20id%3D%22html_b40564f676e74b438ebdc079af1daf7e%22%20style%3D%22width%3A%20100.0%25%3B%20height%3A%20100.0%25%3B%22%3E%20%20%20%20%20%20%20%20%20%3Cul%3E%20%20%20%20%20%20%20%20%20%20%20%20%20%3Cli%3E%3Cstrong%3EID%3A%20%3C/strong%3E7555%3C/li%3E%20%20%20%20%20%20%20%20%20%20%20%20%20%3Cli%3E%3Cstrong%3ESource%3A%20%3C/strong%3EHenderson%20P%26C%20%23110%3C/li%3E%20%20%20%20%20%20%20%20%20%20%20%20%20%3Cli%3E%3Cstrong%3EOccupation%3A%20%3C/strong%3Enan%3C/li%3E%20%20%20%20%20%20%20%20%20%3Cul%3E%20%20%20%20%20%3C/div%3E%60%29%5B0%5D%3B%0A%20%20%20%20%20%20%20%20%20%20%20%20%20%20%20%20popup_c30fdf63e901466097f688be2ae8bd64.setContent%28html_b40564f676e74b438ebdc079af1daf7e%29%3B%0A%20%20%20%20%20%20%20%20%20%20%20%20%0A%0A%20%20%20%20%20%20%20%20%20%20%20%20marker_e6116a10f52f49e2b6f15c78a1a05503.bindPopup%28popup_c30fdf63e901466097f688be2ae8bd64%29%0A%20%20%20%20%20%20%20%20%20%20%20%20%3B%0A%0A%20%20%20%20%20%20%20%20%20%20%20%20%0A%20%20%20%20%20%20%20%20%0A%20%20%20%20%0A%20%20%20%20%20%20%20%20var%20marker_9939d3debc614b9fac1468989db7af76%20%3D%20L.marker%28%0A%20%20%20%20%20%20%20%20%20%20%20%20%5B43.76836733%2C%2011.26484133%5D%2C%0A%20%20%20%20%20%20%20%20%20%20%20%20%7B%0A%20%20%20%20%20%20%20%20%20%20%20%20%20%20%20%20icon%3A%20new%20L.Icon.Default%28%29%2C%0A%20%20%20%20%20%20%20%20%20%20%20%20%20%20%20%20%7D%0A%20%20%20%20%20%20%20%20%20%20%20%20%29.addTo%28map_146cd8147123498484976a07e362f27f%29%3B%0A%20%20%20%20%20%20%20%20%0A%20%20%20%20%0A%20%20%20%20%20%20%20%20%20%20%20%20var%20popup_83ac13e9aa214afc9ed35a7048a0a700%20%3D%20L.popup%28%7BmaxWidth%3A%20%27100%25%27%0A%20%20%20%20%20%20%20%20%20%20%20%20%0A%20%20%20%20%20%20%20%20%20%20%20%20%7D%29%3B%0A%0A%20%20%20%20%20%20%20%20%20%20%20%20%0A%20%20%20%20%20%20%20%20%20%20%20%20%20%20%20%20var%20html_238fd027637543dbb77a145e19e8688a%20%3D%20%24%28%60%3Cdiv%20id%3D%22html_238fd027637543dbb77a145e19e8688a%22%20style%3D%22width%3A%20100.0%25%3B%20height%3A%20100.0%25%3B%22%3E%20%20%20%20%20%20%20%20%20%3Cul%3E%20%20%20%20%20%20%20%20%20%20%20%20%20%3Cli%3E%3Cstrong%3EID%3A%20%3C/strong%3E3069%3C/li%3E%20%20%20%20%20%20%20%20%20%20%20%20%20%3Cli%3E%3Cstrong%3ESource%3A%20%3C/strong%3EHenderson%20P%26C%20%23102%3C/li%3E%20%20%20%20%20%20%20%20%20%20%20%20%20%3Cli%3E%3Cstrong%3EOccupation%3A%20%3C/strong%3Eportatore%3C/li%3E%20%20%20%20%20%20%20%20%20%3Cul%3E%20%20%20%20%20%3C/div%3E%60%29%5B0%5D%3B%0A%20%20%20%20%20%20%20%20%20%20%20%20%20%20%20%20popup_83ac13e9aa214afc9ed35a7048a0a700.setContent%28html_238fd027637543dbb77a145e19e8688a%29%3B%0A%20%20%20%20%20%20%20%20%20%20%20%20%0A%0A%20%20%20%20%20%20%20%20%20%20%20%20marker_9939d3debc614b9fac1468989db7af76.bindPopup%28popup_83ac13e9aa214afc9ed35a7048a0a700%29%0A%20%20%20%20%20%20%20%20%20%20%20%20%3B%0A%0A%20%20%20%20%20%20%20%20%20%20%20%20%0A%20%20%20%20%20%20%20%20%0A%20%20%20%20%0A%20%20%20%20%20%20%20%20var%20marker_1d81bf0dbda84c31b967b9482785e3c4%20%3D%20L.marker%28%0A%20%20%20%20%20%20%20%20%20%20%20%20%5B43.76945%2C%2011.26547%5D%2C%0A%20%20%20%20%20%20%20%20%20%20%20%20%7B%0A%20%20%20%20%20%20%20%20%20%20%20%20%20%20%20%20icon%3A%20new%20L.Icon.Default%28%29%2C%0A%20%20%20%20%20%20%20%20%20%20%20%20%20%20%20%20%7D%0A%20%20%20%20%20%20%20%20%20%20%20%20%29.addTo%28map_146cd8147123498484976a07e362f27f%29%3B%0A%20%20%20%20%20%20%20%20%0A%20%20%20%20%0A%20%20%20%20%20%20%20%20%20%20%20%20var%20popup_3c5278043eac480e96a0888919a17293%20%3D%20L.popup%28%7BmaxWidth%3A%20%27100%25%27%0A%20%20%20%20%20%20%20%20%20%20%20%20%0A%20%20%20%20%20%20%20%20%20%20%20%20%7D%29%3B%0A%0A%20%20%20%20%20%20%20%20%20%20%20%20%0A%20%20%20%20%20%20%20%20%20%20%20%20%20%20%20%20var%20html_9be6f45fc3334da9ba0c12b89637cf63%20%3D%20%24%28%60%3Cdiv%20id%3D%22html_9be6f45fc3334da9ba0c12b89637cf63%22%20style%3D%22width%3A%20100.0%25%3B%20height%3A%20100.0%25%3B%22%3E%20%20%20%20%20%20%20%20%20%3Cul%3E%20%20%20%20%20%20%20%20%20%20%20%20%20%3Cli%3E%3Cstrong%3EID%3A%20%3C/strong%3E3071%3C/li%3E%20%20%20%20%20%20%20%20%20%20%20%20%20%3Cli%3E%3Cstrong%3ESource%3A%20%3C/strong%3EHenderson%20P%26C%20%23102%3C/li%3E%20%20%20%20%20%20%20%20%20%20%20%20%20%3Cli%3E%3Cstrong%3EOccupation%3A%20%3C/strong%3Ebeccaio%3C/li%3E%20%20%20%20%20%20%20%20%20%3Cul%3E%20%20%20%20%20%3C/div%3E%60%29%5B0%5D%3B%0A%20%20%20%20%20%20%20%20%20%20%20%20%20%20%20%20popup_3c5278043eac480e96a0888919a17293.setContent%28html_9be6f45fc3334da9ba0c12b89637cf63%29%3B%0A%20%20%20%20%20%20%20%20%20%20%20%20%0A%0A%20%20%20%20%20%20%20%20%20%20%20%20marker_1d81bf0dbda84c31b967b9482785e3c4.bindPopup%28popup_3c5278043eac480e96a0888919a17293%29%0A%20%20%20%20%20%20%20%20%20%20%20%20%3B%0A%0A%20%20%20%20%20%20%20%20%20%20%20%20%0A%20%20%20%20%20%20%20%20%0A%20%20%20%20%0A%20%20%20%20%20%20%20%20var%20marker_4f857062d7544c6ba0be777c295cbddd%20%3D%20L.marker%28%0A%20%20%20%20%20%20%20%20%20%20%20%20%5B43.76851667%2C%2011.26492667%5D%2C%0A%20%20%20%20%20%20%20%20%20%20%20%20%7B%0A%20%20%20%20%20%20%20%20%20%20%20%20%20%20%20%20icon%3A%20new%20L.Icon.Default%28%29%2C%0A%20%20%20%20%20%20%20%20%20%20%20%20%20%20%20%20%7D%0A%20%20%20%20%20%20%20%20%20%20%20%20%29.addTo%28map_146cd8147123498484976a07e362f27f%29%3B%0A%20%20%20%20%20%20%20%20%0A%20%20%20%20%0A%20%20%20%20%20%20%20%20%20%20%20%20var%20popup_8b6e6bd52acf488ba3ea48155ead5b51%20%3D%20L.popup%28%7BmaxWidth%3A%20%27100%25%27%0A%20%20%20%20%20%20%20%20%20%20%20%20%0A%20%20%20%20%20%20%20%20%20%20%20%20%7D%29%3B%0A%0A%20%20%20%20%20%20%20%20%20%20%20%20%0A%20%20%20%20%20%20%20%20%20%20%20%20%20%20%20%20var%20html_39031d24327c4b75981367e37a81d93a%20%3D%20%24%28%60%3Cdiv%20id%3D%22html_39031d24327c4b75981367e37a81d93a%22%20style%3D%22width%3A%20100.0%25%3B%20height%3A%20100.0%25%3B%22%3E%20%20%20%20%20%20%20%20%20%3Cul%3E%20%20%20%20%20%20%20%20%20%20%20%20%20%3Cli%3E%3Cstrong%3EID%3A%20%3C/strong%3E3155%3C/li%3E%20%20%20%20%20%20%20%20%20%20%20%20%20%3Cli%3E%3Cstrong%3ESource%3A%20%3C/strong%3EHenderson%20P%26C%20%23102%3C/li%3E%20%20%20%20%20%20%20%20%20%20%20%20%20%3Cli%3E%3Cstrong%3EOccupation%3A%20%3C/strong%3Eservo%3C/li%3E%20%20%20%20%20%20%20%20%20%3Cul%3E%20%20%20%20%20%3C/div%3E%60%29%5B0%5D%3B%0A%20%20%20%20%20%20%20%20%20%20%20%20%20%20%20%20popup_8b6e6bd52acf488ba3ea48155ead5b51.setContent%28html_39031d24327c4b75981367e37a81d93a%29%3B%0A%20%20%20%20%20%20%20%20%20%20%20%20%0A%0A%20%20%20%20%20%20%20%20%20%20%20%20marker_4f857062d7544c6ba0be777c295cbddd.bindPopup%28popup_8b6e6bd52acf488ba3ea48155ead5b51%29%0A%20%20%20%20%20%20%20%20%20%20%20%20%3B%0A%0A%20%20%20%20%20%20%20%20%20%20%20%20%0A%20%20%20%20%20%20%20%20%0A%20%20%20%20%0A%20%20%20%20%20%20%20%20var%20marker_a490b57edc9742a09f5c49716debf426%20%3D%20L.marker%28%0A%20%20%20%20%20%20%20%20%20%20%20%20%5B43.768442%2C%2011.264884%5D%2C%0A%20%20%20%20%20%20%20%20%20%20%20%20%7B%0A%20%20%20%20%20%20%20%20%20%20%20%20%20%20%20%20icon%3A%20new%20L.Icon.Default%28%29%2C%0A%20%20%20%20%20%20%20%20%20%20%20%20%20%20%20%20%7D%0A%20%20%20%20%20%20%20%20%20%20%20%20%29.addTo%28map_146cd8147123498484976a07e362f27f%29%3B%0A%20%20%20%20%20%20%20%20%0A%20%20%20%20%0A%20%20%20%20%20%20%20%20%20%20%20%20var%20popup_4e1471e430ff401299be956dc033f004%20%3D%20L.popup%28%7BmaxWidth%3A%20%27100%25%27%0A%20%20%20%20%20%20%20%20%20%20%20%20%0A%20%20%20%20%20%20%20%20%20%20%20%20%7D%29%3B%0A%0A%20%20%20%20%20%20%20%20%20%20%20%20%0A%20%20%20%20%20%20%20%20%20%20%20%20%20%20%20%20var%20html_7010f12737e9403a848882fcfb51caec%20%3D%20%24%28%60%3Cdiv%20id%3D%22html_7010f12737e9403a848882fcfb51caec%22%20style%3D%22width%3A%20100.0%25%3B%20height%3A%20100.0%25%3B%22%3E%20%20%20%20%20%20%20%20%20%3Cul%3E%20%20%20%20%20%20%20%20%20%20%20%20%20%3Cli%3E%3Cstrong%3EID%3A%20%3C/strong%3E3156%3C/li%3E%20%20%20%20%20%20%20%20%20%20%20%20%20%3Cli%3E%3Cstrong%3ESource%3A%20%3C/strong%3EHenderson%20P%26C%20%23102%3C/li%3E%20%20%20%20%20%20%20%20%20%20%20%20%20%3Cli%3E%3Cstrong%3EOccupation%3A%20%3C/strong%3Etessitore%20di%20drappi%3C/li%3E%20%20%20%20%20%20%20%20%20%3Cul%3E%20%20%20%20%20%3C/div%3E%60%29%5B0%5D%3B%0A%20%20%20%20%20%20%20%20%20%20%20%20%20%20%20%20popup_4e1471e430ff401299be956dc033f004.setContent%28html_7010f12737e9403a848882fcfb51caec%29%3B%0A%20%20%20%20%20%20%20%20%20%20%20%20%0A%0A%20%20%20%20%20%20%20%20%20%20%20%20marker_a490b57edc9742a09f5c49716debf426.bindPopup%28popup_4e1471e430ff401299be956dc033f004%29%0A%20%20%20%20%20%20%20%20%20%20%20%20%3B%0A%0A%20%20%20%20%20%20%20%20%20%20%20%20%0A%20%20%20%20%20%20%20%20%0A%20%20%20%20%0A%20%20%20%20%20%20%20%20var%20marker_6f11f6952e974de5b19245426539c3a7%20%3D%20L.marker%28%0A%20%20%20%20%20%20%20%20%20%20%20%20%5B43.76833%2C%2011.26482%5D%2C%0A%20%20%20%20%20%20%20%20%20%20%20%20%7B%0A%20%20%20%20%20%20%20%20%20%20%20%20%20%20%20%20icon%3A%20new%20L.Icon.Default%28%29%2C%0A%20%20%20%20%20%20%20%20%20%20%20%20%20%20%20%20%7D%0A%20%20%20%20%20%20%20%20%20%20%20%20%29.addTo%28map_146cd8147123498484976a07e362f27f%29%3B%0A%20%20%20%20%20%20%20%20%0A%20%20%20%20%0A%20%20%20%20%20%20%20%20%20%20%20%20var%20popup_bf6ce521ee55432e93d76066cf62094e%20%3D%20L.popup%28%7BmaxWidth%3A%20%27100%25%27%0A%20%20%20%20%20%20%20%20%20%20%20%20%0A%20%20%20%20%20%20%20%20%20%20%20%20%7D%29%3B%0A%0A%20%20%20%20%20%20%20%20%20%20%20%20%0A%20%20%20%20%20%20%20%20%20%20%20%20%20%20%20%20var%20html_6041e7a755424a91a4a9b1a8fc6a62be%20%3D%20%24%28%60%3Cdiv%20id%3D%22html_6041e7a755424a91a4a9b1a8fc6a62be%22%20style%3D%22width%3A%20100.0%25%3B%20height%3A%20100.0%25%3B%22%3E%20%20%20%20%20%20%20%20%20%3Cul%3E%20%20%20%20%20%20%20%20%20%20%20%20%20%3Cli%3E%3Cstrong%3EID%3A%20%3C/strong%3E3157%3C/li%3E%20%20%20%20%20%20%20%20%20%20%20%20%20%3Cli%3E%3Cstrong%3ESource%3A%20%3C/strong%3EHenderson%20P%26C%20%23102%3C/li%3E%20%20%20%20%20%20%20%20%20%20%20%20%20%3Cli%3E%3Cstrong%3EOccupation%3A%20%3C/strong%3Elegnaiuolo%3C/li%3E%20%20%20%20%20%20%20%20%20%3Cul%3E%20%20%20%20%20%3C/div%3E%60%29%5B0%5D%3B%0A%20%20%20%20%20%20%20%20%20%20%20%20%20%20%20%20popup_bf6ce521ee55432e93d76066cf62094e.setContent%28html_6041e7a755424a91a4a9b1a8fc6a62be%29%3B%0A%20%20%20%20%20%20%20%20%20%20%20%20%0A%0A%20%20%20%20%20%20%20%20%20%20%20%20marker_6f11f6952e974de5b19245426539c3a7.bindPopup%28popup_bf6ce521ee55432e93d76066cf62094e%29%0A%20%20%20%20%20%20%20%20%20%20%20%20%3B%0A%0A%20%20%20%20%20%20%20%20%20%20%20%20%0A%20%20%20%20%20%20%20%20%0A%20%20%20%20%0A%20%20%20%20%20%20%20%20var%20marker_4367b7bcedc3419f8968a4a00e8efe0e%20%3D%20L.marker%28%0A%20%20%20%20%20%20%20%20%20%20%20%20%5B43.76821%2C%2011.26524%5D%2C%0A%20%20%20%20%20%20%20%20%20%20%20%20%7B%0A%20%20%20%20%20%20%20%20%20%20%20%20%20%20%20%20icon%3A%20new%20L.Icon.Default%28%29%2C%0A%20%20%20%20%20%20%20%20%20%20%20%20%20%20%20%20%7D%0A%20%20%20%20%20%20%20%20%20%20%20%20%29.addTo%28map_146cd8147123498484976a07e362f27f%29%3B%0A%20%20%20%20%20%20%20%20%0A%20%20%20%20%0A%20%20%20%20%20%20%20%20%20%20%20%20var%20popup_41e0f4fa09cb487d8790678a0e280e38%20%3D%20L.popup%28%7BmaxWidth%3A%20%27100%25%27%0A%20%20%20%20%20%20%20%20%20%20%20%20%0A%20%20%20%20%20%20%20%20%20%20%20%20%7D%29%3B%0A%0A%20%20%20%20%20%20%20%20%20%20%20%20%0A%20%20%20%20%20%20%20%20%20%20%20%20%20%20%20%20var%20html_8cc601a8688a4c328a79770c4e1b5dd8%20%3D%20%24%28%60%3Cdiv%20id%3D%22html_8cc601a8688a4c328a79770c4e1b5dd8%22%20style%3D%22width%3A%20100.0%25%3B%20height%3A%20100.0%25%3B%22%3E%20%20%20%20%20%20%20%20%20%3Cul%3E%20%20%20%20%20%20%20%20%20%20%20%20%20%3Cli%3E%3Cstrong%3EID%3A%20%3C/strong%3E3158%3C/li%3E%20%20%20%20%20%20%20%20%20%20%20%20%20%3Cli%3E%3Cstrong%3ESource%3A%20%3C/strong%3EHenderson%20P%26C%20%23102%3C/li%3E%20%20%20%20%20%20%20%20%20%20%20%20%20%3Cli%3E%3Cstrong%3EOccupation%3A%20%3C/strong%3Enan%3C/li%3E%20%20%20%20%20%20%20%20%20%3Cul%3E%20%20%20%20%20%3C/div%3E%60%29%5B0%5D%3B%0A%20%20%20%20%20%20%20%20%20%20%20%20%20%20%20%20popup_41e0f4fa09cb487d8790678a0e280e38.setContent%28html_8cc601a8688a4c328a79770c4e1b5dd8%29%3B%0A%20%20%20%20%20%20%20%20%20%20%20%20%0A%0A%20%20%20%20%20%20%20%20%20%20%20%20marker_4367b7bcedc3419f8968a4a00e8efe0e.bindPopup%28popup_41e0f4fa09cb487d8790678a0e280e38%29%0A%20%20%20%20%20%20%20%20%20%20%20%20%3B%0A%0A%20%20%20%20%20%20%20%20%20%20%20%20%0A%20%20%20%20%20%20%20%20%0A%20%20%20%20%0A%20%20%20%20%20%20%20%20var%20marker_1a30a751ce884c65b3e181421ce84ac9%20%3D%20L.marker%28%0A%20%20%20%20%20%20%20%20%20%20%20%20%5B43.77019%2C%2011.26441%5D%2C%0A%20%20%20%20%20%20%20%20%20%20%20%20%7B%0A%20%20%20%20%20%20%20%20%20%20%20%20%20%20%20%20icon%3A%20new%20L.Icon.Default%28%29%2C%0A%20%20%20%20%20%20%20%20%20%20%20%20%20%20%20%20%7D%0A%20%20%20%20%20%20%20%20%20%20%20%20%29.addTo%28map_146cd8147123498484976a07e362f27f%29%3B%0A%20%20%20%20%20%20%20%20%0A%20%20%20%20%0A%20%20%20%20%20%20%20%20%20%20%20%20var%20popup_8836bad71a954a908f4f1742c58f49e6%20%3D%20L.popup%28%7BmaxWidth%3A%20%27100%25%27%0A%20%20%20%20%20%20%20%20%20%20%20%20%0A%20%20%20%20%20%20%20%20%20%20%20%20%7D%29%3B%0A%0A%20%20%20%20%20%20%20%20%20%20%20%20%0A%20%20%20%20%20%20%20%20%20%20%20%20%20%20%20%20var%20html_a46bf09ea94044bfa6cba52d2ce57b0d%20%3D%20%24%28%60%3Cdiv%20id%3D%22html_a46bf09ea94044bfa6cba52d2ce57b0d%22%20style%3D%22width%3A%20100.0%25%3B%20height%3A%20100.0%25%3B%22%3E%20%20%20%20%20%20%20%20%20%3Cul%3E%20%20%20%20%20%20%20%20%20%20%20%20%20%3Cli%3E%3Cstrong%3EID%3A%20%3C/strong%3E3177%3C/li%3E%20%20%20%20%20%20%20%20%20%20%20%20%20%3Cli%3E%3Cstrong%3ESource%3A%20%3C/strong%3EHenderson%20P%26C%20%23102%3C/li%3E%20%20%20%20%20%20%20%20%20%20%20%20%20%3Cli%3E%3Cstrong%3EOccupation%3A%20%3C/strong%3Ecartolaio%3C/li%3E%20%20%20%20%20%20%20%20%20%3Cul%3E%20%20%20%20%20%3C/div%3E%60%29%5B0%5D%3B%0A%20%20%20%20%20%20%20%20%20%20%20%20%20%20%20%20popup_8836bad71a954a908f4f1742c58f49e6.setContent%28html_a46bf09ea94044bfa6cba52d2ce57b0d%29%3B%0A%20%20%20%20%20%20%20%20%20%20%20%20%0A%0A%20%20%20%20%20%20%20%20%20%20%20%20marker_1a30a751ce884c65b3e181421ce84ac9.bindPopup%28popup_8836bad71a954a908f4f1742c58f49e6%29%0A%20%20%20%20%20%20%20%20%20%20%20%20%3B%0A%0A%20%20%20%20%20%20%20%20%20%20%20%20%0A%20%20%20%20%20%20%20%20%0A%20%20%20%20%0A%20%20%20%20%20%20%20%20var%20marker_11ab04e4c08641c5b43c6f078a464e2e%20%3D%20L.marker%28%0A%20%20%20%20%20%20%20%20%20%20%20%20%5B43.76840467%2C%2011.26486267%5D%2C%0A%20%20%20%20%20%20%20%20%20%20%20%20%7B%0A%20%20%20%20%20%20%20%20%20%20%20%20%20%20%20%20icon%3A%20new%20L.Icon.Default%28%29%2C%0A%20%20%20%20%20%20%20%20%20%20%20%20%20%20%20%20%7D%0A%20%20%20%20%20%20%20%20%20%20%20%20%29.addTo%28map_146cd8147123498484976a07e362f27f%29%3B%0A%20%20%20%20%20%20%20%20%0A%20%20%20%20%0A%20%20%20%20%20%20%20%20%20%20%20%20var%20popup_20682f91dcfa40c6bb62de5f1301ad3c%20%3D%20L.popup%28%7BmaxWidth%3A%20%27100%25%27%0A%20%20%20%20%20%20%20%20%20%20%20%20%0A%20%20%20%20%20%20%20%20%20%20%20%20%7D%29%3B%0A%0A%20%20%20%20%20%20%20%20%20%20%20%20%0A%20%20%20%20%20%20%20%20%20%20%20%20%20%20%20%20var%20html_3d0050417a114ae5967800ccd886beaa%20%3D%20%24%28%60%3Cdiv%20id%3D%22html_3d0050417a114ae5967800ccd886beaa%22%20style%3D%22width%3A%20100.0%25%3B%20height%3A%20100.0%25%3B%22%3E%20%20%20%20%20%20%20%20%20%3Cul%3E%20%20%20%20%20%20%20%20%20%20%20%20%20%3Cli%3E%3Cstrong%3EID%3A%20%3C/strong%3E3194%3C/li%3E%20%20%20%20%20%20%20%20%20%20%20%20%20%3Cli%3E%3Cstrong%3ESource%3A%20%3C/strong%3EHenderson%20P%26C%20%23102%3C/li%3E%20%20%20%20%20%20%20%20%20%20%20%20%20%3Cli%3E%3Cstrong%3EOccupation%3A%20%3C/strong%3Enan%3C/li%3E%20%20%20%20%20%20%20%20%20%3Cul%3E%20%20%20%20%20%3C/div%3E%60%29%5B0%5D%3B%0A%20%20%20%20%20%20%20%20%20%20%20%20%20%20%20%20popup_20682f91dcfa40c6bb62de5f1301ad3c.setContent%28html_3d0050417a114ae5967800ccd886beaa%29%3B%0A%20%20%20%20%20%20%20%20%20%20%20%20%0A%0A%20%20%20%20%20%20%20%20%20%20%20%20marker_11ab04e4c08641c5b43c6f078a464e2e.bindPopup%28popup_20682f91dcfa40c6bb62de5f1301ad3c%29%0A%20%20%20%20%20%20%20%20%20%20%20%20%3B%0A%0A%20%20%20%20%20%20%20%20%20%20%20%20%0A%20%20%20%20%20%20%20%20%0A%20%20%20%20%0A%20%20%20%20%20%20%20%20var%20marker_f45989a8cb244a08a8fcd14223e0fdf5%20%3D%20L.marker%28%0A%20%20%20%20%20%20%20%20%20%20%20%20%5B43.76829%2C%2011.26496%5D%2C%0A%20%20%20%20%20%20%20%20%20%20%20%20%7B%0A%20%20%20%20%20%20%20%20%20%20%20%20%20%20%20%20icon%3A%20new%20L.Icon.Default%28%29%2C%0A%20%20%20%20%20%20%20%20%20%20%20%20%20%20%20%20%7D%0A%20%20%20%20%20%20%20%20%20%20%20%20%29.addTo%28map_146cd8147123498484976a07e362f27f%29%3B%0A%20%20%20%20%20%20%20%20%0A%20%20%20%20%0A%20%20%20%20%20%20%20%20%20%20%20%20var%20popup_be6afa3484d24d9bb7bacae4c0f15e61%20%3D%20L.popup%28%7BmaxWidth%3A%20%27100%25%27%0A%20%20%20%20%20%20%20%20%20%20%20%20%0A%20%20%20%20%20%20%20%20%20%20%20%20%7D%29%3B%0A%0A%20%20%20%20%20%20%20%20%20%20%20%20%0A%20%20%20%20%20%20%20%20%20%20%20%20%20%20%20%20var%20html_178af678093842818a860e5ba8e10c56%20%3D%20%24%28%60%3Cdiv%20id%3D%22html_178af678093842818a860e5ba8e10c56%22%20style%3D%22width%3A%20100.0%25%3B%20height%3A%20100.0%25%3B%22%3E%20%20%20%20%20%20%20%20%20%3Cul%3E%20%20%20%20%20%20%20%20%20%20%20%20%20%3Cli%3E%3Cstrong%3EID%3A%20%3C/strong%3E3195%3C/li%3E%20%20%20%20%20%20%20%20%20%20%20%20%20%3Cli%3E%3Cstrong%3ESource%3A%20%3C/strong%3EHenderson%20P%26C%20%23102%3C/li%3E%20%20%20%20%20%20%20%20%20%20%20%20%20%3Cli%3E%3Cstrong%3EOccupation%3A%20%3C/strong%3Enan%3C/li%3E%20%20%20%20%20%20%20%20%20%3Cul%3E%20%20%20%20%20%3C/div%3E%60%29%5B0%5D%3B%0A%20%20%20%20%20%20%20%20%20%20%20%20%20%20%20%20popup_be6afa3484d24d9bb7bacae4c0f15e61.setContent%28html_178af678093842818a860e5ba8e10c56%29%3B%0A%20%20%20%20%20%20%20%20%20%20%20%20%0A%0A%20%20%20%20%20%20%20%20%20%20%20%20marker_f45989a8cb244a08a8fcd14223e0fdf5.bindPopup%28popup_be6afa3484d24d9bb7bacae4c0f15e61%29%0A%20%20%20%20%20%20%20%20%20%20%20%20%3B%0A%0A%20%20%20%20%20%20%20%20%20%20%20%20%0A%20%20%20%20%20%20%20%20%0A%20%20%20%20%0A%20%20%20%20%20%20%20%20var%20marker_d9ab0fda1a674920888a4c2eade89d5b%20%3D%20L.marker%28%0A%20%20%20%20%20%20%20%20%20%20%20%20%5B43.76847933%2C%2011.26490533%5D%2C%0A%20%20%20%20%20%20%20%20%20%20%20%20%7B%0A%20%20%20%20%20%20%20%20%20%20%20%20%20%20%20%20icon%3A%20new%20L.Icon.Default%28%29%2C%0A%20%20%20%20%20%20%20%20%20%20%20%20%20%20%20%20%7D%0A%20%20%20%20%20%20%20%20%20%20%20%20%29.addTo%28map_146cd8147123498484976a07e362f27f%29%3B%0A%20%20%20%20%20%20%20%20%0A%20%20%20%20%0A%20%20%20%20%20%20%20%20%20%20%20%20var%20popup_c3219f794db141749e55b822aa8ff928%20%3D%20L.popup%28%7BmaxWidth%3A%20%27100%25%27%0A%20%20%20%20%20%20%20%20%20%20%20%20%0A%20%20%20%20%20%20%20%20%20%20%20%20%7D%29%3B%0A%0A%20%20%20%20%20%20%20%20%20%20%20%20%0A%20%20%20%20%20%20%20%20%20%20%20%20%20%20%20%20var%20html_20977fc2d042400bbda9fa323d7b3f43%20%3D%20%24%28%60%3Cdiv%20id%3D%22html_20977fc2d042400bbda9fa323d7b3f43%22%20style%3D%22width%3A%20100.0%25%3B%20height%3A%20100.0%25%3B%22%3E%20%20%20%20%20%20%20%20%20%3Cul%3E%20%20%20%20%20%20%20%20%20%20%20%20%20%3Cli%3E%3Cstrong%3EID%3A%20%3C/strong%3E3274%3C/li%3E%20%20%20%20%20%20%20%20%20%20%20%20%20%3Cli%3E%3Cstrong%3ESource%3A%20%3C/strong%3EHenderson%20P%26C%20%23102%3C/li%3E%20%20%20%20%20%20%20%20%20%20%20%20%20%3Cli%3E%3Cstrong%3EOccupation%3A%20%3C/strong%3Ebattilano%3C/li%3E%20%20%20%20%20%20%20%20%20%3Cul%3E%20%20%20%20%20%3C/div%3E%60%29%5B0%5D%3B%0A%20%20%20%20%20%20%20%20%20%20%20%20%20%20%20%20popup_c3219f794db141749e55b822aa8ff928.setContent%28html_20977fc2d042400bbda9fa323d7b3f43%29%3B%0A%20%20%20%20%20%20%20%20%20%20%20%20%0A%0A%20%20%20%20%20%20%20%20%20%20%20%20marker_d9ab0fda1a674920888a4c2eade89d5b.bindPopup%28popup_c3219f794db141749e55b822aa8ff928%29%0A%20%20%20%20%20%20%20%20%20%20%20%20%3B%0A%0A%20%20%20%20%20%20%20%20%20%20%20%20%0A%20%20%20%20%20%20%20%20%0A%20%20%20%20%0A%20%20%20%20%20%20%20%20var%20marker_e017f31821b44b70b7767f9ec5d1ec70%20%3D%20L.marker%28%0A%20%20%20%20%20%20%20%20%20%20%20%20%5B43.76886%2C%2011.265%5D%2C%0A%20%20%20%20%20%20%20%20%20%20%20%20%7B%0A%20%20%20%20%20%20%20%20%20%20%20%20%20%20%20%20icon%3A%20new%20L.Icon.Default%28%29%2C%0A%20%20%20%20%20%20%20%20%20%20%20%20%20%20%20%20%7D%0A%20%20%20%20%20%20%20%20%20%20%20%20%29.addTo%28map_146cd8147123498484976a07e362f27f%29%3B%0A%20%20%20%20%20%20%20%20%0A%20%20%20%20%0A%20%20%20%20%20%20%20%20%20%20%20%20var%20popup_f2a2f785ed4d4e35a6f896150e0dc7a2%20%3D%20L.popup%28%7BmaxWidth%3A%20%27100%25%27%0A%20%20%20%20%20%20%20%20%20%20%20%20%0A%20%20%20%20%20%20%20%20%20%20%20%20%7D%29%3B%0A%0A%20%20%20%20%20%20%20%20%20%20%20%20%0A%20%20%20%20%20%20%20%20%20%20%20%20%20%20%20%20var%20html_35bd9090e70d4edaab56166c15c596b7%20%3D%20%24%28%60%3Cdiv%20id%3D%22html_35bd9090e70d4edaab56166c15c596b7%22%20style%3D%22width%3A%20100.0%25%3B%20height%3A%20100.0%25%3B%22%3E%20%20%20%20%20%20%20%20%20%3Cul%3E%20%20%20%20%20%20%20%20%20%20%20%20%20%3Cli%3E%3Cstrong%3EID%3A%20%3C/strong%3E3384%3C/li%3E%20%20%20%20%20%20%20%20%20%20%20%20%20%3Cli%3E%3Cstrong%3ESource%3A%20%3C/strong%3EHenderson%20P%26C%20%23102%3C/li%3E%20%20%20%20%20%20%20%20%20%20%20%20%20%3Cli%3E%3Cstrong%3EOccupation%3A%20%3C/strong%3Evotapozzi%3C/li%3E%20%20%20%20%20%20%20%20%20%3Cul%3E%20%20%20%20%20%3C/div%3E%60%29%5B0%5D%3B%0A%20%20%20%20%20%20%20%20%20%20%20%20%20%20%20%20popup_f2a2f785ed4d4e35a6f896150e0dc7a2.setContent%28html_35bd9090e70d4edaab56166c15c596b7%29%3B%0A%20%20%20%20%20%20%20%20%20%20%20%20%0A%0A%20%20%20%20%20%20%20%20%20%20%20%20marker_e017f31821b44b70b7767f9ec5d1ec70.bindPopup%28popup_f2a2f785ed4d4e35a6f896150e0dc7a2%29%0A%20%20%20%20%20%20%20%20%20%20%20%20%3B%0A%0A%20%20%20%20%20%20%20%20%20%20%20%20%0A%20%20%20%20%20%20%20%20%0A%20%20%20%20%0A%20%20%20%20%20%20%20%20var%20marker_38514102690848b0b8d4ed1d827a9064%20%3D%20L.marker%28%0A%20%20%20%20%20%20%20%20%20%20%20%20%5B43.76825%2C%2011.2651%5D%2C%0A%20%20%20%20%20%20%20%20%20%20%20%20%7B%0A%20%20%20%20%20%20%20%20%20%20%20%20%20%20%20%20icon%3A%20new%20L.Icon.Default%28%29%2C%0A%20%20%20%20%20%20%20%20%20%20%20%20%20%20%20%20%7D%0A%20%20%20%20%20%20%20%20%20%20%20%20%29.addTo%28map_146cd8147123498484976a07e362f27f%29%3B%0A%20%20%20%20%20%20%20%20%0A%20%20%20%20%0A%20%20%20%20%20%20%20%20%20%20%20%20var%20popup_af0d15a6827a48d08f703b431e9d51af%20%3D%20L.popup%28%7BmaxWidth%3A%20%27100%25%27%0A%20%20%20%20%20%20%20%20%20%20%20%20%0A%20%20%20%20%20%20%20%20%20%20%20%20%7D%29%3B%0A%0A%20%20%20%20%20%20%20%20%20%20%20%20%0A%20%20%20%20%20%20%20%20%20%20%20%20%20%20%20%20var%20html_73f808510fa748e4851f87982b83101f%20%3D%20%24%28%60%3Cdiv%20id%3D%22html_73f808510fa748e4851f87982b83101f%22%20style%3D%22width%3A%20100.0%25%3B%20height%3A%20100.0%25%3B%22%3E%20%20%20%20%20%20%20%20%20%3Cul%3E%20%20%20%20%20%20%20%20%20%20%20%20%20%3Cli%3E%3Cstrong%3EID%3A%20%3C/strong%3E3385%3C/li%3E%20%20%20%20%20%20%20%20%20%20%20%20%20%3Cli%3E%3Cstrong%3ESource%3A%20%3C/strong%3EHenderson%20P%26C%20%23102%3C/li%3E%20%20%20%20%20%20%20%20%20%20%20%20%20%3Cli%3E%3Cstrong%3EOccupation%3A%20%3C/strong%3Espedaliero%3C/li%3E%20%20%20%20%20%20%20%20%20%3Cul%3E%20%20%20%20%20%3C/div%3E%60%29%5B0%5D%3B%0A%20%20%20%20%20%20%20%20%20%20%20%20%20%20%20%20popup_af0d15a6827a48d08f703b431e9d51af.setContent%28html_73f808510fa748e4851f87982b83101f%29%3B%0A%20%20%20%20%20%20%20%20%20%20%20%20%0A%0A%20%20%20%20%20%20%20%20%20%20%20%20marker_38514102690848b0b8d4ed1d827a9064.bindPopup%28popup_af0d15a6827a48d08f703b431e9d51af%29%0A%20%20%20%20%20%20%20%20%20%20%20%20%3B%0A%0A%20%20%20%20%20%20%20%20%20%20%20%20%0A%20%20%20%20%20%20%20%20%0A%20%20%20%20%0A%20%20%20%20%20%20%20%20var%20marker_f221168def404ae984aba40ebc5d0c3e%20%3D%20L.marker%28%0A%20%20%20%20%20%20%20%20%20%20%20%20%5B43.7709685%2C%2011.2698875%5D%2C%0A%20%20%20%20%20%20%20%20%20%20%20%20%7B%0A%20%20%20%20%20%20%20%20%20%20%20%20%20%20%20%20icon%3A%20new%20L.Icon.Default%28%29%2C%0A%20%20%20%20%20%20%20%20%20%20%20%20%20%20%20%20%7D%0A%20%20%20%20%20%20%20%20%20%20%20%20%29.addTo%28map_146cd8147123498484976a07e362f27f%29%3B%0A%20%20%20%20%20%20%20%20%0A%20%20%20%20%0A%20%20%20%20%20%20%20%20%20%20%20%20var%20popup_5c7e45732ea04bdebfd8ddb86df58fc5%20%3D%20L.popup%28%7BmaxWidth%3A%20%27100%25%27%0A%20%20%20%20%20%20%20%20%20%20%20%20%0A%20%20%20%20%20%20%20%20%20%20%20%20%7D%29%3B%0A%0A%20%20%20%20%20%20%20%20%20%20%20%20%0A%20%20%20%20%20%20%20%20%20%20%20%20%20%20%20%20var%20html_cc2eadc9a36043939b90ee3eaab29f4b%20%3D%20%24%28%60%3Cdiv%20id%3D%22html_cc2eadc9a36043939b90ee3eaab29f4b%22%20style%3D%22width%3A%20100.0%25%3B%20height%3A%20100.0%25%3B%22%3E%20%20%20%20%20%20%20%20%20%3Cul%3E%20%20%20%20%20%20%20%20%20%20%20%20%20%3Cli%3E%3Cstrong%3EID%3A%20%3C/strong%3E2056%3C/li%3E%20%20%20%20%20%20%20%20%20%20%20%20%20%3Cli%3E%3Cstrong%3ESource%3A%20%3C/strong%3EHenderson%20P%26C%20%23102%3C/li%3E%20%20%20%20%20%20%20%20%20%20%20%20%20%3Cli%3E%3Cstrong%3EOccupation%3A%20%3C/strong%3Eguardia%3C/li%3E%20%20%20%20%20%20%20%20%20%3Cul%3E%20%20%20%20%20%3C/div%3E%60%29%5B0%5D%3B%0A%20%20%20%20%20%20%20%20%20%20%20%20%20%20%20%20popup_5c7e45732ea04bdebfd8ddb86df58fc5.setContent%28html_cc2eadc9a36043939b90ee3eaab29f4b%29%3B%0A%20%20%20%20%20%20%20%20%20%20%20%20%0A%0A%20%20%20%20%20%20%20%20%20%20%20%20marker_f221168def404ae984aba40ebc5d0c3e.bindPopup%28popup_5c7e45732ea04bdebfd8ddb86df58fc5%29%0A%20%20%20%20%20%20%20%20%20%20%20%20%3B%0A%0A%20%20%20%20%20%20%20%20%20%20%20%20%0A%20%20%20%20%20%20%20%20%0A%20%20%20%20%0A%20%20%20%20%20%20%20%20var%20marker_68f9cd83cfbc44dda198644720ad8863%20%3D%20L.marker%28%0A%20%20%20%20%20%20%20%20%20%20%20%20%5B43.77100579%2C%2011.26971307%5D%2C%0A%20%20%20%20%20%20%20%20%20%20%20%20%7B%0A%20%20%20%20%20%20%20%20%20%20%20%20%20%20%20%20icon%3A%20new%20L.Icon.Default%28%29%2C%0A%20%20%20%20%20%20%20%20%20%20%20%20%20%20%20%20%7D%0A%20%20%20%20%20%20%20%20%20%20%20%20%29.addTo%28map_146cd8147123498484976a07e362f27f%29%3B%0A%20%20%20%20%20%20%20%20%0A%20%20%20%20%0A%20%20%20%20%20%20%20%20%20%20%20%20var%20popup_f2a939d03bb24a3c81fd46d334fbde6f%20%3D%20L.popup%28%7BmaxWidth%3A%20%27100%25%27%0A%20%20%20%20%20%20%20%20%20%20%20%20%0A%20%20%20%20%20%20%20%20%20%20%20%20%7D%29%3B%0A%0A%20%20%20%20%20%20%20%20%20%20%20%20%0A%20%20%20%20%20%20%20%20%20%20%20%20%20%20%20%20var%20html_6f999e82635247bfb96354ee6649c6cf%20%3D%20%24%28%60%3Cdiv%20id%3D%22html_6f999e82635247bfb96354ee6649c6cf%22%20style%3D%22width%3A%20100.0%25%3B%20height%3A%20100.0%25%3B%22%3E%20%20%20%20%20%20%20%20%20%3Cul%3E%20%20%20%20%20%20%20%20%20%20%20%20%20%3Cli%3E%3Cstrong%3EID%3A%20%3C/strong%3E2136%3C/li%3E%20%20%20%20%20%20%20%20%20%20%20%20%20%3Cli%3E%3Cstrong%3ESource%3A%20%3C/strong%3EHenderson%20P%26C%20%23102%3C/li%3E%20%20%20%20%20%20%20%20%20%20%20%20%20%3Cli%3E%3Cstrong%3EOccupation%3A%20%3C/strong%3Ebeccaio%3C/li%3E%20%20%20%20%20%20%20%20%20%3Cul%3E%20%20%20%20%20%3C/div%3E%60%29%5B0%5D%3B%0A%20%20%20%20%20%20%20%20%20%20%20%20%20%20%20%20popup_f2a939d03bb24a3c81fd46d334fbde6f.setContent%28html_6f999e82635247bfb96354ee6649c6cf%29%3B%0A%20%20%20%20%20%20%20%20%20%20%20%20%0A%0A%20%20%20%20%20%20%20%20%20%20%20%20marker_68f9cd83cfbc44dda198644720ad8863.bindPopup%28popup_f2a939d03bb24a3c81fd46d334fbde6f%29%0A%20%20%20%20%20%20%20%20%20%20%20%20%3B%0A%0A%20%20%20%20%20%20%20%20%20%20%20%20%0A%20%20%20%20%20%20%20%20%0A%20%20%20%20%0A%20%20%20%20%20%20%20%20var%20marker_949215243f754991abbf721145f0254b%20%3D%20L.marker%28%0A%20%20%20%20%20%20%20%20%20%20%20%20%5B43.7740713%2C%2011.26313274%5D%2C%0A%20%20%20%20%20%20%20%20%20%20%20%20%7B%0A%20%20%20%20%20%20%20%20%20%20%20%20%20%20%20%20icon%3A%20new%20L.Icon.Default%28%29%2C%0A%20%20%20%20%20%20%20%20%20%20%20%20%20%20%20%20%7D%0A%20%20%20%20%20%20%20%20%20%20%20%20%29.addTo%28map_146cd8147123498484976a07e362f27f%29%3B%0A%20%20%20%20%20%20%20%20%0A%20%20%20%20%0A%20%20%20%20%20%20%20%20%20%20%20%20var%20popup_89ceb51e86824bf799dfcde022b55f6a%20%3D%20L.popup%28%7BmaxWidth%3A%20%27100%25%27%0A%20%20%20%20%20%20%20%20%20%20%20%20%0A%20%20%20%20%20%20%20%20%20%20%20%20%7D%29%3B%0A%0A%20%20%20%20%20%20%20%20%20%20%20%20%0A%20%20%20%20%20%20%20%20%20%20%20%20%20%20%20%20var%20html_2b0ad4cdae634a5686a85a966eb7208f%20%3D%20%24%28%60%3Cdiv%20id%3D%22html_2b0ad4cdae634a5686a85a966eb7208f%22%20style%3D%22width%3A%20100.0%25%3B%20height%3A%20100.0%25%3B%22%3E%20%20%20%20%20%20%20%20%20%3Cul%3E%20%20%20%20%20%20%20%20%20%20%20%20%20%3Cli%3E%3Cstrong%3EID%3A%20%3C/strong%3E2182%3C/li%3E%20%20%20%20%20%20%20%20%20%20%20%20%20%3Cli%3E%3Cstrong%3ESource%3A%20%3C/strong%3EHenderson%20P%26C%20%23102%3C/li%3E%20%20%20%20%20%20%20%20%20%20%20%20%20%3Cli%3E%3Cstrong%3EOccupation%3A%20%3C/strong%3Etessitore%3C/li%3E%20%20%20%20%20%20%20%20%20%3Cul%3E%20%20%20%20%20%3C/div%3E%60%29%5B0%5D%3B%0A%20%20%20%20%20%20%20%20%20%20%20%20%20%20%20%20popup_89ceb51e86824bf799dfcde022b55f6a.setContent%28html_2b0ad4cdae634a5686a85a966eb7208f%29%3B%0A%20%20%20%20%20%20%20%20%20%20%20%20%0A%0A%20%20%20%20%20%20%20%20%20%20%20%20marker_949215243f754991abbf721145f0254b.bindPopup%28popup_89ceb51e86824bf799dfcde022b55f6a%29%0A%20%20%20%20%20%20%20%20%20%20%20%20%3B%0A%0A%20%20%20%20%20%20%20%20%20%20%20%20%0A%20%20%20%20%20%20%20%20%0A%20%20%20%20%0A%20%20%20%20%20%20%20%20var%20marker_0af7cc0d7139489389655b3f3a6a5de6%20%3D%20L.marker%28%0A%20%20%20%20%20%20%20%20%20%20%20%20%5B43.77098714%2C%2011.26980029%5D%2C%0A%20%20%20%20%20%20%20%20%20%20%20%20%7B%0A%20%20%20%20%20%20%20%20%20%20%20%20%20%20%20%20icon%3A%20new%20L.Icon.Default%28%29%2C%0A%20%20%20%20%20%20%20%20%20%20%20%20%20%20%20%20%7D%0A%20%20%20%20%20%20%20%20%20%20%20%20%29.addTo%28map_146cd8147123498484976a07e362f27f%29%3B%0A%20%20%20%20%20%20%20%20%0A%20%20%20%20%0A%20%20%20%20%20%20%20%20%20%20%20%20var%20popup_97a35f32743b45859465f2f6b8775168%20%3D%20L.popup%28%7BmaxWidth%3A%20%27100%25%27%0A%20%20%20%20%20%20%20%20%20%20%20%20%0A%20%20%20%20%20%20%20%20%20%20%20%20%7D%29%3B%0A%0A%20%20%20%20%20%20%20%20%20%20%20%20%0A%20%20%20%20%20%20%20%20%20%20%20%20%20%20%20%20var%20html_34fdb250c54f47cea596135244012dd7%20%3D%20%24%28%60%3Cdiv%20id%3D%22html_34fdb250c54f47cea596135244012dd7%22%20style%3D%22width%3A%20100.0%25%3B%20height%3A%20100.0%25%3B%22%3E%20%20%20%20%20%20%20%20%20%3Cul%3E%20%20%20%20%20%20%20%20%20%20%20%20%20%3Cli%3E%3Cstrong%3EID%3A%20%3C/strong%3E2413%3C/li%3E%20%20%20%20%20%20%20%20%20%20%20%20%20%3Cli%3E%3Cstrong%3ESource%3A%20%3C/strong%3EHenderson%20P%26C%20%23102%3C/li%3E%20%20%20%20%20%20%20%20%20%20%20%20%20%3Cli%3E%3Cstrong%3EOccupation%3A%20%3C/strong%3Ecurandaio%3C/li%3E%20%20%20%20%20%20%20%20%20%3Cul%3E%20%20%20%20%20%3C/div%3E%60%29%5B0%5D%3B%0A%20%20%20%20%20%20%20%20%20%20%20%20%20%20%20%20popup_97a35f32743b45859465f2f6b8775168.setContent%28html_34fdb250c54f47cea596135244012dd7%29%3B%0A%20%20%20%20%20%20%20%20%20%20%20%20%0A%0A%20%20%20%20%20%20%20%20%20%20%20%20marker_0af7cc0d7139489389655b3f3a6a5de6.bindPopup%28popup_97a35f32743b45859465f2f6b8775168%29%0A%20%20%20%20%20%20%20%20%20%20%20%20%3B%0A%0A%20%20%20%20%20%20%20%20%20%20%20%20%0A%20%20%20%20%20%20%20%20%0A%20%20%20%20%0A%20%20%20%20%20%20%20%20var%20marker_3cc00f5d3b8d499ca624742ff27dabe9%20%3D%20L.marker%28%0A%20%20%20%20%20%20%20%20%20%20%20%20%5B43.771152%2C%2011.262448%5D%2C%0A%20%20%20%20%20%20%20%20%20%20%20%20%7B%0A%20%20%20%20%20%20%20%20%20%20%20%20%20%20%20%20icon%3A%20new%20L.Icon.Default%28%29%2C%0A%20%20%20%20%20%20%20%20%20%20%20%20%20%20%20%20%7D%0A%20%20%20%20%20%20%20%20%20%20%20%20%29.addTo%28map_146cd8147123498484976a07e362f27f%29%3B%0A%20%20%20%20%20%20%20%20%0A%20%20%20%20%0A%20%20%20%20%20%20%20%20%20%20%20%20var%20popup_0191757c61924740adf39cf55558c09c%20%3D%20L.popup%28%7BmaxWidth%3A%20%27100%25%27%0A%20%20%20%20%20%20%20%20%20%20%20%20%0A%20%20%20%20%20%20%20%20%20%20%20%20%7D%29%3B%0A%0A%20%20%20%20%20%20%20%20%20%20%20%20%0A%20%20%20%20%20%20%20%20%20%20%20%20%20%20%20%20var%20html_7ee9df0d89444ec9b530a60fb3dc0e58%20%3D%20%24%28%60%3Cdiv%20id%3D%22html_7ee9df0d89444ec9b530a60fb3dc0e58%22%20style%3D%22width%3A%20100.0%25%3B%20height%3A%20100.0%25%3B%22%3E%20%20%20%20%20%20%20%20%20%3Cul%3E%20%20%20%20%20%20%20%20%20%20%20%20%20%3Cli%3E%3Cstrong%3EID%3A%20%3C/strong%3E3628%3C/li%3E%20%20%20%20%20%20%20%20%20%20%20%20%20%3Cli%3E%3Cstrong%3ESource%3A%20%3C/strong%3EHenderson%20P%26C%20%23102%3C/li%3E%20%20%20%20%20%20%20%20%20%20%20%20%20%3Cli%3E%3Cstrong%3EOccupation%3A%20%3C/strong%3Edonzello%3C/li%3E%20%20%20%20%20%20%20%20%20%3Cul%3E%20%20%20%20%20%3C/div%3E%60%29%5B0%5D%3B%0A%20%20%20%20%20%20%20%20%20%20%20%20%20%20%20%20popup_0191757c61924740adf39cf55558c09c.setContent%28html_7ee9df0d89444ec9b530a60fb3dc0e58%29%3B%0A%20%20%20%20%20%20%20%20%20%20%20%20%0A%0A%20%20%20%20%20%20%20%20%20%20%20%20marker_3cc00f5d3b8d499ca624742ff27dabe9.bindPopup%28popup_0191757c61924740adf39cf55558c09c%29%0A%20%20%20%20%20%20%20%20%20%20%20%20%3B%0A%0A%20%20%20%20%20%20%20%20%20%20%20%20%0A%20%20%20%20%20%20%20%20%0A%20%20%20%20%0A%20%20%20%20%20%20%20%20var%20marker_8f447fd2db2340818c9fadd16e439e53%20%3D%20L.marker%28%0A%20%20%20%20%20%20%20%20%20%20%20%20%5B43.76981%2C%2011.25724%5D%2C%0A%20%20%20%20%20%20%20%20%20%20%20%20%7B%0A%20%20%20%20%20%20%20%20%20%20%20%20%20%20%20%20icon%3A%20new%20L.Icon.Default%28%29%2C%0A%20%20%20%20%20%20%20%20%20%20%20%20%20%20%20%20%7D%0A%20%20%20%20%20%20%20%20%20%20%20%20%29.addTo%28map_146cd8147123498484976a07e362f27f%29%3B%0A%20%20%20%20%20%20%20%20%0A%20%20%20%20%0A%20%20%20%20%20%20%20%20%20%20%20%20var%20popup_0bddad881b6d470fa15704319dc662c7%20%3D%20L.popup%28%7BmaxWidth%3A%20%27100%25%27%0A%20%20%20%20%20%20%20%20%20%20%20%20%0A%20%20%20%20%20%20%20%20%20%20%20%20%7D%29%3B%0A%0A%20%20%20%20%20%20%20%20%20%20%20%20%0A%20%20%20%20%20%20%20%20%20%20%20%20%20%20%20%20var%20html_0bdfdd89af9c47739a6558541d0ec590%20%3D%20%24%28%60%3Cdiv%20id%3D%22html_0bdfdd89af9c47739a6558541d0ec590%22%20style%3D%22width%3A%20100.0%25%3B%20height%3A%20100.0%25%3B%22%3E%20%20%20%20%20%20%20%20%20%3Cul%3E%20%20%20%20%20%20%20%20%20%20%20%20%20%3Cli%3E%3Cstrong%3EID%3A%20%3C/strong%3E4275%3C/li%3E%20%20%20%20%20%20%20%20%20%20%20%20%20%3Cli%3E%3Cstrong%3ESource%3A%20%3C/strong%3EHenderson%20P%26C%20%23102%3C/li%3E%20%20%20%20%20%20%20%20%20%20%20%20%20%3Cli%3E%3Cstrong%3EOccupation%3A%20%3C/strong%3Ecoltellinaio%3C/li%3E%20%20%20%20%20%20%20%20%20%3Cul%3E%20%20%20%20%20%3C/div%3E%60%29%5B0%5D%3B%0A%20%20%20%20%20%20%20%20%20%20%20%20%20%20%20%20popup_0bddad881b6d470fa15704319dc662c7.setContent%28html_0bdfdd89af9c47739a6558541d0ec590%29%3B%0A%20%20%20%20%20%20%20%20%20%20%20%20%0A%0A%20%20%20%20%20%20%20%20%20%20%20%20marker_8f447fd2db2340818c9fadd16e439e53.bindPopup%28popup_0bddad881b6d470fa15704319dc662c7%29%0A%20%20%20%20%20%20%20%20%20%20%20%20%3B%0A%0A%20%20%20%20%20%20%20%20%20%20%20%20%0A%20%20%20%20%20%20%20%20%0A%20%20%20%20%0A%20%20%20%20%20%20%20%20var%20marker_3d96ed266d39450b8b3405959d7e2778%20%3D%20L.marker%28%0A%20%20%20%20%20%20%20%20%20%20%20%20%5B43.769925%2C%2011.256705%5D%2C%0A%20%20%20%20%20%20%20%20%20%20%20%20%7B%0A%20%20%20%20%20%20%20%20%20%20%20%20%20%20%20%20icon%3A%20new%20L.Icon.Default%28%29%2C%0A%20%20%20%20%20%20%20%20%20%20%20%20%20%20%20%20%7D%0A%20%20%20%20%20%20%20%20%20%20%20%20%29.addTo%28map_146cd8147123498484976a07e362f27f%29%3B%0A%20%20%20%20%20%20%20%20%0A%20%20%20%20%0A%20%20%20%20%20%20%20%20%20%20%20%20var%20popup_61b3182e996c4bb38d8100c77e25d71f%20%3D%20L.popup%28%7BmaxWidth%3A%20%27100%25%27%0A%20%20%20%20%20%20%20%20%20%20%20%20%0A%20%20%20%20%20%20%20%20%20%20%20%20%7D%29%3B%0A%0A%20%20%20%20%20%20%20%20%20%20%20%20%0A%20%20%20%20%20%20%20%20%20%20%20%20%20%20%20%20var%20html_fa6dad02f1eb413f91616251769ba0bd%20%3D%20%24%28%60%3Cdiv%20id%3D%22html_fa6dad02f1eb413f91616251769ba0bd%22%20style%3D%22width%3A%20100.0%25%3B%20height%3A%20100.0%25%3B%22%3E%20%20%20%20%20%20%20%20%20%3Cul%3E%20%20%20%20%20%20%20%20%20%20%20%20%20%3Cli%3E%3Cstrong%3EID%3A%20%3C/strong%3E4276%3C/li%3E%20%20%20%20%20%20%20%20%20%20%20%20%20%3Cli%3E%3Cstrong%3ESource%3A%20%3C/strong%3EHenderson%20P%26C%20%23102%3C/li%3E%20%20%20%20%20%20%20%20%20%20%20%20%20%3Cli%3E%3Cstrong%3EOccupation%3A%20%3C/strong%3Eocchialaio%3C/li%3E%20%20%20%20%20%20%20%20%20%3Cul%3E%20%20%20%20%20%3C/div%3E%60%29%5B0%5D%3B%0A%20%20%20%20%20%20%20%20%20%20%20%20%20%20%20%20popup_61b3182e996c4bb38d8100c77e25d71f.setContent%28html_fa6dad02f1eb413f91616251769ba0bd%29%3B%0A%20%20%20%20%20%20%20%20%20%20%20%20%0A%0A%20%20%20%20%20%20%20%20%20%20%20%20marker_3d96ed266d39450b8b3405959d7e2778.bindPopup%28popup_61b3182e996c4bb38d8100c77e25d71f%29%0A%20%20%20%20%20%20%20%20%20%20%20%20%3B%0A%0A%20%20%20%20%20%20%20%20%20%20%20%20%0A%20%20%20%20%20%20%20%20%0A%20%20%20%20%0A%20%20%20%20%20%20%20%20var%20marker_66905c63950c4abdbea0168e890e7e9f%20%3D%20L.marker%28%0A%20%20%20%20%20%20%20%20%20%20%20%20%5B43.76582667%2C%2011.24658%5D%2C%0A%20%20%20%20%20%20%20%20%20%20%20%20%7B%0A%20%20%20%20%20%20%20%20%20%20%20%20%20%20%20%20icon%3A%20new%20L.Icon.Default%28%29%2C%0A%20%20%20%20%20%20%20%20%20%20%20%20%20%20%20%20%7D%0A%20%20%20%20%20%20%20%20%20%20%20%20%29.addTo%28map_146cd8147123498484976a07e362f27f%29%3B%0A%20%20%20%20%20%20%20%20%0A%20%20%20%20%0A%20%20%20%20%20%20%20%20%20%20%20%20var%20popup_8fefb4dc1b844b6c8358e795ed83281c%20%3D%20L.popup%28%7BmaxWidth%3A%20%27100%25%27%0A%20%20%20%20%20%20%20%20%20%20%20%20%0A%20%20%20%20%20%20%20%20%20%20%20%20%7D%29%3B%0A%0A%20%20%20%20%20%20%20%20%20%20%20%20%0A%20%20%20%20%20%20%20%20%20%20%20%20%20%20%20%20var%20html_7b926f3ef42c47659e2c6e9fd3f25bab%20%3D%20%24%28%60%3Cdiv%20id%3D%22html_7b926f3ef42c47659e2c6e9fd3f25bab%22%20style%3D%22width%3A%20100.0%25%3B%20height%3A%20100.0%25%3B%22%3E%20%20%20%20%20%20%20%20%20%3Cul%3E%20%20%20%20%20%20%20%20%20%20%20%20%20%3Cli%3E%3Cstrong%3EID%3A%20%3C/strong%3E7630%3C/li%3E%20%20%20%20%20%20%20%20%20%20%20%20%20%3Cli%3E%3Cstrong%3ESource%3A%20%3C/strong%3EHenderson%20P%26C%20%23114%3C/li%3E%20%20%20%20%20%20%20%20%20%20%20%20%20%3Cli%3E%3Cstrong%3EOccupation%3A%20%3C/strong%3Enan%3C/li%3E%20%20%20%20%20%20%20%20%20%3Cul%3E%20%20%20%20%20%3C/div%3E%60%29%5B0%5D%3B%0A%20%20%20%20%20%20%20%20%20%20%20%20%20%20%20%20popup_8fefb4dc1b844b6c8358e795ed83281c.setContent%28html_7b926f3ef42c47659e2c6e9fd3f25bab%29%3B%0A%20%20%20%20%20%20%20%20%20%20%20%20%0A%0A%20%20%20%20%20%20%20%20%20%20%20%20marker_66905c63950c4abdbea0168e890e7e9f.bindPopup%28popup_8fefb4dc1b844b6c8358e795ed83281c%29%0A%20%20%20%20%20%20%20%20%20%20%20%20%3B%0A%0A%20%20%20%20%20%20%20%20%20%20%20%20%0A%20%20%20%20%20%20%20%20%0A%20%20%20%20%0A%20%20%20%20%20%20%20%20var%20marker_4c4eea29a0344b90a94c6ab2b6abcce4%20%3D%20L.marker%28%0A%20%20%20%20%20%20%20%20%20%20%20%20%5B43.768982%2C%2011.242736%5D%2C%0A%20%20%20%20%20%20%20%20%20%20%20%20%7B%0A%20%20%20%20%20%20%20%20%20%20%20%20%20%20%20%20icon%3A%20new%20L.Icon.Default%28%29%2C%0A%20%20%20%20%20%20%20%20%20%20%20%20%20%20%20%20%7D%0A%20%20%20%20%20%20%20%20%20%20%20%20%29.addTo%28map_146cd8147123498484976a07e362f27f%29%3B%0A%20%20%20%20%20%20%20%20%0A%20%20%20%20%0A%20%20%20%20%20%20%20%20%20%20%20%20var%20popup_e15f8ba6b0884cd49bf8577f14cf2d47%20%3D%20L.popup%28%7BmaxWidth%3A%20%27100%25%27%0A%20%20%20%20%20%20%20%20%20%20%20%20%0A%20%20%20%20%20%20%20%20%20%20%20%20%7D%29%3B%0A%0A%20%20%20%20%20%20%20%20%20%20%20%20%0A%20%20%20%20%20%20%20%20%20%20%20%20%20%20%20%20var%20html_c496e44f86bd450f88d705df248a366c%20%3D%20%24%28%60%3Cdiv%20id%3D%22html_c496e44f86bd450f88d705df248a366c%22%20style%3D%22width%3A%20100.0%25%3B%20height%3A%20100.0%25%3B%22%3E%20%20%20%20%20%20%20%20%20%3Cul%3E%20%20%20%20%20%20%20%20%20%20%20%20%20%3Cli%3E%3Cstrong%3EID%3A%20%3C/strong%3E8289%3C/li%3E%20%20%20%20%20%20%20%20%20%20%20%20%20%3Cli%3E%3Cstrong%3ESource%3A%20%3C/strong%3EHenderson%20P%26C%20%2358%3C/li%3E%20%20%20%20%20%20%20%20%20%20%20%20%20%3Cli%3E%3Cstrong%3EOccupation%3A%20%3C/strong%3Ebattilano%3C/li%3E%20%20%20%20%20%20%20%20%20%3Cul%3E%20%20%20%20%20%3C/div%3E%60%29%5B0%5D%3B%0A%20%20%20%20%20%20%20%20%20%20%20%20%20%20%20%20popup_e15f8ba6b0884cd49bf8577f14cf2d47.setContent%28html_c496e44f86bd450f88d705df248a366c%29%3B%0A%20%20%20%20%20%20%20%20%20%20%20%20%0A%0A%20%20%20%20%20%20%20%20%20%20%20%20marker_4c4eea29a0344b90a94c6ab2b6abcce4.bindPopup%28popup_e15f8ba6b0884cd49bf8577f14cf2d47%29%0A%20%20%20%20%20%20%20%20%20%20%20%20%3B%0A%0A%20%20%20%20%20%20%20%20%20%20%20%20%0A%20%20%20%20%20%20%20%20%0A%20%20%20%20%0A%20%20%20%20%20%20%20%20var%20marker_54ef5cde3db0493399f21ab9834e8df0%20%3D%20L.marker%28%0A%20%20%20%20%20%20%20%20%20%20%20%20%5B43.769388%2C%2011.244695%5D%2C%0A%20%20%20%20%20%20%20%20%20%20%20%20%7B%0A%20%20%20%20%20%20%20%20%20%20%20%20%20%20%20%20icon%3A%20new%20L.Icon.Default%28%29%2C%0A%20%20%20%20%20%20%20%20%20%20%20%20%20%20%20%20%7D%0A%20%20%20%20%20%20%20%20%20%20%20%20%29.addTo%28map_146cd8147123498484976a07e362f27f%29%3B%0A%20%20%20%20%20%20%20%20%0A%20%20%20%20%0A%20%20%20%20%20%20%20%20%20%20%20%20var%20popup_885fc771fe3f43ecb500ad2dc8b76f32%20%3D%20L.popup%28%7BmaxWidth%3A%20%27100%25%27%0A%20%20%20%20%20%20%20%20%20%20%20%20%0A%20%20%20%20%20%20%20%20%20%20%20%20%7D%29%3B%0A%0A%20%20%20%20%20%20%20%20%20%20%20%20%0A%20%20%20%20%20%20%20%20%20%20%20%20%20%20%20%20var%20html_32731f72ccfc4b3381b5c7e74ebdb0d2%20%3D%20%24%28%60%3Cdiv%20id%3D%22html_32731f72ccfc4b3381b5c7e74ebdb0d2%22%20style%3D%22width%3A%20100.0%25%3B%20height%3A%20100.0%25%3B%22%3E%20%20%20%20%20%20%20%20%20%3Cul%3E%20%20%20%20%20%20%20%20%20%20%20%20%20%3Cli%3E%3Cstrong%3EID%3A%20%3C/strong%3E8486%3C/li%3E%20%20%20%20%20%20%20%20%20%20%20%20%20%3Cli%3E%3Cstrong%3ESource%3A%20%3C/strong%3EHenderson%20P%26C%20%2358%3C/li%3E%20%20%20%20%20%20%20%20%20%20%20%20%20%3Cli%3E%3Cstrong%3EOccupation%3A%20%3C/strong%3Emanouale%3C/li%3E%20%20%20%20%20%20%20%20%20%3Cul%3E%20%20%20%20%20%3C/div%3E%60%29%5B0%5D%3B%0A%20%20%20%20%20%20%20%20%20%20%20%20%20%20%20%20popup_885fc771fe3f43ecb500ad2dc8b76f32.setContent%28html_32731f72ccfc4b3381b5c7e74ebdb0d2%29%3B%0A%20%20%20%20%20%20%20%20%20%20%20%20%0A%0A%20%20%20%20%20%20%20%20%20%20%20%20marker_54ef5cde3db0493399f21ab9834e8df0.bindPopup%28popup_885fc771fe3f43ecb500ad2dc8b76f32%29%0A%20%20%20%20%20%20%20%20%20%20%20%20%3B%0A%0A%20%20%20%20%20%20%20%20%20%20%20%20%0A%20%20%20%20%20%20%20%20%0A%20%20%20%20%0A%20%20%20%20%20%20%20%20var%20marker_94de223d195c4159976a15c0079a9f4c%20%3D%20L.marker%28%0A%20%20%20%20%20%20%20%20%20%20%20%20%5B43.77036985%2C%2011.24205892%5D%2C%0A%20%20%20%20%20%20%20%20%20%20%20%20%7B%0A%20%20%20%20%20%20%20%20%20%20%20%20%20%20%20%20icon%3A%20new%20L.Icon.Default%28%29%2C%0A%20%20%20%20%20%20%20%20%20%20%20%20%20%20%20%20%7D%0A%20%20%20%20%20%20%20%20%20%20%20%20%29.addTo%28map_146cd8147123498484976a07e362f27f%29%3B%0A%20%20%20%20%20%20%20%20%0A%20%20%20%20%0A%20%20%20%20%20%20%20%20%20%20%20%20var%20popup_aec6dd483ff746c3ab1008e8667a37dd%20%3D%20L.popup%28%7BmaxWidth%3A%20%27100%25%27%0A%20%20%20%20%20%20%20%20%20%20%20%20%0A%20%20%20%20%20%20%20%20%20%20%20%20%7D%29%3B%0A%0A%20%20%20%20%20%20%20%20%20%20%20%20%0A%20%20%20%20%20%20%20%20%20%20%20%20%20%20%20%20var%20html_573af1ea52324770ba1c66949fb0a936%20%3D%20%24%28%60%3Cdiv%20id%3D%22html_573af1ea52324770ba1c66949fb0a936%22%20style%3D%22width%3A%20100.0%25%3B%20height%3A%20100.0%25%3B%22%3E%20%20%20%20%20%20%20%20%20%3Cul%3E%20%20%20%20%20%20%20%20%20%20%20%20%20%3Cli%3E%3Cstrong%3EID%3A%20%3C/strong%3E8315%3C/li%3E%20%20%20%20%20%20%20%20%20%20%20%20%20%3Cli%3E%3Cstrong%3ESource%3A%20%3C/strong%3EHenderson%20P%26C%20%2358%3C/li%3E%20%20%20%20%20%20%20%20%20%20%20%20%20%3Cli%3E%3Cstrong%3EOccupation%3A%20%3C/strong%3Eminugiaio%3C/li%3E%20%20%20%20%20%20%20%20%20%3Cul%3E%20%20%20%20%20%3C/div%3E%60%29%5B0%5D%3B%0A%20%20%20%20%20%20%20%20%20%20%20%20%20%20%20%20popup_aec6dd483ff746c3ab1008e8667a37dd.setContent%28html_573af1ea52324770ba1c66949fb0a936%29%3B%0A%20%20%20%20%20%20%20%20%20%20%20%20%0A%0A%20%20%20%20%20%20%20%20%20%20%20%20marker_94de223d195c4159976a15c0079a9f4c.bindPopup%28popup_aec6dd483ff746c3ab1008e8667a37dd%29%0A%20%20%20%20%20%20%20%20%20%20%20%20%3B%0A%0A%20%20%20%20%20%20%20%20%20%20%20%20%0A%20%20%20%20%20%20%20%20%0A%20%20%20%20%0A%20%20%20%20%20%20%20%20var%20marker_b07da78a816b453991fef7376e439d49%20%3D%20L.marker%28%0A%20%20%20%20%20%20%20%20%20%20%20%20%5B43.769331%2C%2011.24549767%5D%2C%0A%20%20%20%20%20%20%20%20%20%20%20%20%7B%0A%20%20%20%20%20%20%20%20%20%20%20%20%20%20%20%20icon%3A%20new%20L.Icon.Default%28%29%2C%0A%20%20%20%20%20%20%20%20%20%20%20%20%20%20%20%20%7D%0A%20%20%20%20%20%20%20%20%20%20%20%20%29.addTo%28map_146cd8147123498484976a07e362f27f%29%3B%0A%20%20%20%20%20%20%20%20%0A%20%20%20%20%0A%20%20%20%20%20%20%20%20%20%20%20%20var%20popup_cb60ef21b72143a3b58b147ca7a33e9e%20%3D%20L.popup%28%7BmaxWidth%3A%20%27100%25%27%0A%20%20%20%20%20%20%20%20%20%20%20%20%0A%20%20%20%20%20%20%20%20%20%20%20%20%7D%29%3B%0A%0A%20%20%20%20%20%20%20%20%20%20%20%20%0A%20%20%20%20%20%20%20%20%20%20%20%20%20%20%20%20var%20html_09e69e1192fe411cb7c30554cc96f197%20%3D%20%24%28%60%3Cdiv%20id%3D%22html_09e69e1192fe411cb7c30554cc96f197%22%20style%3D%22width%3A%20100.0%25%3B%20height%3A%20100.0%25%3B%22%3E%20%20%20%20%20%20%20%20%20%3Cul%3E%20%20%20%20%20%20%20%20%20%20%20%20%20%3Cli%3E%3Cstrong%3EID%3A%20%3C/strong%3E8509%3C/li%3E%20%20%20%20%20%20%20%20%20%20%20%20%20%3Cli%3E%3Cstrong%3ESource%3A%20%3C/strong%3EHenderson%20P%26C%20%2358%3C/li%3E%20%20%20%20%20%20%20%20%20%20%20%20%20%3Cli%3E%3Cstrong%3EOccupation%3A%20%3C/strong%3Efornaio%3C/li%3E%20%20%20%20%20%20%20%20%20%3Cul%3E%20%20%20%20%20%3C/div%3E%60%29%5B0%5D%3B%0A%20%20%20%20%20%20%20%20%20%20%20%20%20%20%20%20popup_cb60ef21b72143a3b58b147ca7a33e9e.setContent%28html_09e69e1192fe411cb7c30554cc96f197%29%3B%0A%20%20%20%20%20%20%20%20%20%20%20%20%0A%0A%20%20%20%20%20%20%20%20%20%20%20%20marker_b07da78a816b453991fef7376e439d49.bindPopup%28popup_cb60ef21b72143a3b58b147ca7a33e9e%29%0A%20%20%20%20%20%20%20%20%20%20%20%20%3B%0A%0A%20%20%20%20%20%20%20%20%20%20%20%20%0A%20%20%20%20%20%20%20%20%0A%20%20%20%20%0A%20%20%20%20%20%20%20%20var%20marker_7c6d92b9996e4a3a990f5d000c6c846a%20%3D%20L.marker%28%0A%20%20%20%20%20%20%20%20%20%20%20%20%5B43.77837788%2C%2011.254472%5D%2C%0A%20%20%20%20%20%20%20%20%20%20%20%20%7B%0A%20%20%20%20%20%20%20%20%20%20%20%20%20%20%20%20icon%3A%20new%20L.Icon.Default%28%29%2C%0A%20%20%20%20%20%20%20%20%20%20%20%20%20%20%20%20%7D%0A%20%20%20%20%20%20%20%20%20%20%20%20%29.addTo%28map_146cd8147123498484976a07e362f27f%29%3B%0A%20%20%20%20%20%20%20%20%0A%20%20%20%20%0A%20%20%20%20%20%20%20%20%20%20%20%20var%20popup_867c73dd3bae4396b491e8ac4a78743e%20%3D%20L.popup%28%7BmaxWidth%3A%20%27100%25%27%0A%20%20%20%20%20%20%20%20%20%20%20%20%0A%20%20%20%20%20%20%20%20%20%20%20%20%7D%29%3B%0A%0A%20%20%20%20%20%20%20%20%20%20%20%20%0A%20%20%20%20%20%20%20%20%20%20%20%20%20%20%20%20var%20html_51d21c41849a42478de872d2db5f05b7%20%3D%20%24%28%60%3Cdiv%20id%3D%22html_51d21c41849a42478de872d2db5f05b7%22%20style%3D%22width%3A%20100.0%25%3B%20height%3A%20100.0%25%3B%22%3E%20%20%20%20%20%20%20%20%20%3Cul%3E%20%20%20%20%20%20%20%20%20%20%20%20%20%3Cli%3E%3Cstrong%3EID%3A%20%3C/strong%3E517%3C/li%3E%20%20%20%20%20%20%20%20%20%20%20%20%20%3Cli%3E%3Cstrong%3ESource%3A%20%3C/strong%3Enan%3C/li%3E%20%20%20%20%20%20%20%20%20%20%20%20%20%3Cli%3E%3Cstrong%3EOccupation%3A%20%3C/strong%3Etessitore%3C/li%3E%20%20%20%20%20%20%20%20%20%3Cul%3E%20%20%20%20%20%3C/div%3E%60%29%5B0%5D%3B%0A%20%20%20%20%20%20%20%20%20%20%20%20%20%20%20%20popup_867c73dd3bae4396b491e8ac4a78743e.setContent%28html_51d21c41849a42478de872d2db5f05b7%29%3B%0A%20%20%20%20%20%20%20%20%20%20%20%20%0A%0A%20%20%20%20%20%20%20%20%20%20%20%20marker_7c6d92b9996e4a3a990f5d000c6c846a.bindPopup%28popup_867c73dd3bae4396b491e8ac4a78743e%29%0A%20%20%20%20%20%20%20%20%20%20%20%20%3B%0A%0A%20%20%20%20%20%20%20%20%20%20%20%20%0A%20%20%20%20%20%20%20%20%0A%20%20%20%20%0A%20%20%20%20%20%20%20%20var%20marker_33f2e95801fa4182b6baa932720e8386%20%3D%20L.marker%28%0A%20%20%20%20%20%20%20%20%20%20%20%20%5B43.77051125%2C%2011.262585%5D%2C%0A%20%20%20%20%20%20%20%20%20%20%20%20%7B%0A%20%20%20%20%20%20%20%20%20%20%20%20%20%20%20%20icon%3A%20new%20L.Icon.Default%28%29%2C%0A%20%20%20%20%20%20%20%20%20%20%20%20%20%20%20%20%7D%0A%20%20%20%20%20%20%20%20%20%20%20%20%29.addTo%28map_146cd8147123498484976a07e362f27f%29%3B%0A%20%20%20%20%20%20%20%20%0A%20%20%20%20%0A%20%20%20%20%20%20%20%20%20%20%20%20var%20popup_2992acf8200748ff8dc2e14f3a9c9b6d%20%3D%20L.popup%28%7BmaxWidth%3A%20%27100%25%27%0A%20%20%20%20%20%20%20%20%20%20%20%20%0A%20%20%20%20%20%20%20%20%20%20%20%20%7D%29%3B%0A%0A%20%20%20%20%20%20%20%20%20%20%20%20%0A%20%20%20%20%20%20%20%20%20%20%20%20%20%20%20%20var%20html_b399ec86d379415395f5fcf08017857d%20%3D%20%24%28%60%3Cdiv%20id%3D%22html_b399ec86d379415395f5fcf08017857d%22%20style%3D%22width%3A%20100.0%25%3B%20height%3A%20100.0%25%3B%22%3E%20%20%20%20%20%20%20%20%20%3Cul%3E%20%20%20%20%20%20%20%20%20%20%20%20%20%3Cli%3E%3Cstrong%3EID%3A%20%3C/strong%3E4784%3C/li%3E%20%20%20%20%20%20%20%20%20%20%20%20%20%3Cli%3E%3Cstrong%3ESource%3A%20%3C/strong%3Enan%3C/li%3E%20%20%20%20%20%20%20%20%20%20%20%20%20%3Cli%3E%3Cstrong%3EOccupation%3A%20%3C/strong%3Enan%3C/li%3E%20%20%20%20%20%20%20%20%20%3Cul%3E%20%20%20%20%20%3C/div%3E%60%29%5B0%5D%3B%0A%20%20%20%20%20%20%20%20%20%20%20%20%20%20%20%20popup_2992acf8200748ff8dc2e14f3a9c9b6d.setContent%28html_b399ec86d379415395f5fcf08017857d%29%3B%0A%20%20%20%20%20%20%20%20%20%20%20%20%0A%0A%20%20%20%20%20%20%20%20%20%20%20%20marker_33f2e95801fa4182b6baa932720e8386.bindPopup%28popup_2992acf8200748ff8dc2e14f3a9c9b6d%29%0A%20%20%20%20%20%20%20%20%20%20%20%20%3B%0A%0A%20%20%20%20%20%20%20%20%20%20%20%20%0A%20%20%20%20%20%20%20%20%0A%20%20%20%20%0A%20%20%20%20%20%20%20%20var%20marker_b46198b964ec4979b374fe5a6fb2fbee%20%3D%20L.marker%28%0A%20%20%20%20%20%20%20%20%20%20%20%20%5B43.772431%2C%2011.253561%5D%2C%0A%20%20%20%20%20%20%20%20%20%20%20%20%7B%0A%20%20%20%20%20%20%20%20%20%20%20%20%20%20%20%20icon%3A%20new%20L.Icon.Default%28%29%2C%0A%20%20%20%20%20%20%20%20%20%20%20%20%20%20%20%20%7D%0A%20%20%20%20%20%20%20%20%20%20%20%20%29.addTo%28map_146cd8147123498484976a07e362f27f%29%3B%0A%20%20%20%20%20%20%20%20%0A%20%20%20%20%0A%20%20%20%20%20%20%20%20%20%20%20%20var%20popup_75cd85335a384ffd9dfba73999e06dd6%20%3D%20L.popup%28%7BmaxWidth%3A%20%27100%25%27%0A%20%20%20%20%20%20%20%20%20%20%20%20%0A%20%20%20%20%20%20%20%20%20%20%20%20%7D%29%3B%0A%0A%20%20%20%20%20%20%20%20%20%20%20%20%0A%20%20%20%20%20%20%20%20%20%20%20%20%20%20%20%20var%20html_d061142dacb3436596e760f1223deb4e%20%3D%20%24%28%60%3Cdiv%20id%3D%22html_d061142dacb3436596e760f1223deb4e%22%20style%3D%22width%3A%20100.0%25%3B%20height%3A%20100.0%25%3B%22%3E%20%20%20%20%20%20%20%20%20%3Cul%3E%20%20%20%20%20%20%20%20%20%20%20%20%20%3Cli%3E%3Cstrong%3EID%3A%20%3C/strong%3E1004%3C/li%3E%20%20%20%20%20%20%20%20%20%20%20%20%20%3Cli%3E%3Cstrong%3ESource%3A%20%3C/strong%3Enan%3C/li%3E%20%20%20%20%20%20%20%20%20%20%20%20%20%3Cli%3E%3Cstrong%3EOccupation%3A%20%3C/strong%3Eoste%3C/li%3E%20%20%20%20%20%20%20%20%20%3Cul%3E%20%20%20%20%20%3C/div%3E%60%29%5B0%5D%3B%0A%20%20%20%20%20%20%20%20%20%20%20%20%20%20%20%20popup_75cd85335a384ffd9dfba73999e06dd6.setContent%28html_d061142dacb3436596e760f1223deb4e%29%3B%0A%20%20%20%20%20%20%20%20%20%20%20%20%0A%0A%20%20%20%20%20%20%20%20%20%20%20%20marker_b46198b964ec4979b374fe5a6fb2fbee.bindPopup%28popup_75cd85335a384ffd9dfba73999e06dd6%29%0A%20%20%20%20%20%20%20%20%20%20%20%20%3B%0A%0A%20%20%20%20%20%20%20%20%20%20%20%20%0A%20%20%20%20%20%20%20%20%0A%20%20%20%20%0A%20%20%20%20%20%20%20%20var%20marker_13a968fba9db47a7ba0ac4d44677d695%20%3D%20L.marker%28%0A%20%20%20%20%20%20%20%20%20%20%20%20%5B43.77422106%2C%2011.25488759%5D%2C%0A%20%20%20%20%20%20%20%20%20%20%20%20%7B%0A%20%20%20%20%20%20%20%20%20%20%20%20%20%20%20%20icon%3A%20new%20L.Icon.Default%28%29%2C%0A%20%20%20%20%20%20%20%20%20%20%20%20%20%20%20%20%7D%0A%20%20%20%20%20%20%20%20%20%20%20%20%29.addTo%28map_146cd8147123498484976a07e362f27f%29%3B%0A%20%20%20%20%20%20%20%20%0A%20%20%20%20%0A%20%20%20%20%20%20%20%20%20%20%20%20var%20popup_ad8c8b74a17943eab330c60d4838e651%20%3D%20L.popup%28%7BmaxWidth%3A%20%27100%25%27%0A%20%20%20%20%20%20%20%20%20%20%20%20%0A%20%20%20%20%20%20%20%20%20%20%20%20%7D%29%3B%0A%0A%20%20%20%20%20%20%20%20%20%20%20%20%0A%20%20%20%20%20%20%20%20%20%20%20%20%20%20%20%20var%20html_d66ebf35a96442a1b0ca1017ee957cd4%20%3D%20%24%28%60%3Cdiv%20id%3D%22html_d66ebf35a96442a1b0ca1017ee957cd4%22%20style%3D%22width%3A%20100.0%25%3B%20height%3A%20100.0%25%3B%22%3E%20%20%20%20%20%20%20%20%20%3Cul%3E%20%20%20%20%20%20%20%20%20%20%20%20%20%3Cli%3E%3Cstrong%3EID%3A%20%3C/strong%3E1214%3C/li%3E%20%20%20%20%20%20%20%20%20%20%20%20%20%3Cli%3E%3Cstrong%3ESource%3A%20%3C/strong%3Enan%3C/li%3E%20%20%20%20%20%20%20%20%20%20%20%20%20%3Cli%3E%3Cstrong%3EOccupation%3A%20%3C/strong%3Esarto%3C/li%3E%20%20%20%20%20%20%20%20%20%3Cul%3E%20%20%20%20%20%3C/div%3E%60%29%5B0%5D%3B%0A%20%20%20%20%20%20%20%20%20%20%20%20%20%20%20%20popup_ad8c8b74a17943eab330c60d4838e651.setContent%28html_d66ebf35a96442a1b0ca1017ee957cd4%29%3B%0A%20%20%20%20%20%20%20%20%20%20%20%20%0A%0A%20%20%20%20%20%20%20%20%20%20%20%20marker_13a968fba9db47a7ba0ac4d44677d695.bindPopup%28popup_ad8c8b74a17943eab330c60d4838e651%29%0A%20%20%20%20%20%20%20%20%20%20%20%20%3B%0A%0A%20%20%20%20%20%20%20%20%20%20%20%20%0A%20%20%20%20%20%20%20%20%0A%20%20%20%20%0A%20%20%20%20%20%20%20%20var%20marker_fb76d251bec54391a86832bce24768d1%20%3D%20L.marker%28%0A%20%20%20%20%20%20%20%20%20%20%20%20%5B43.77251823%2C%2011.26522828%5D%2C%0A%20%20%20%20%20%20%20%20%20%20%20%20%7B%0A%20%20%20%20%20%20%20%20%20%20%20%20%20%20%20%20icon%3A%20new%20L.Icon.Default%28%29%2C%0A%20%20%20%20%20%20%20%20%20%20%20%20%20%20%20%20%7D%0A%20%20%20%20%20%20%20%20%20%20%20%20%29.addTo%28map_146cd8147123498484976a07e362f27f%29%3B%0A%20%20%20%20%20%20%20%20%0A%20%20%20%20%0A%20%20%20%20%20%20%20%20%20%20%20%20var%20popup_4657cd201ecc4e64b3d44ba7029e1dd0%20%3D%20L.popup%28%7BmaxWidth%3A%20%27100%25%27%0A%20%20%20%20%20%20%20%20%20%20%20%20%0A%20%20%20%20%20%20%20%20%20%20%20%20%7D%29%3B%0A%0A%20%20%20%20%20%20%20%20%20%20%20%20%0A%20%20%20%20%20%20%20%20%20%20%20%20%20%20%20%20var%20html_e46c71983e1640208282eb45f40442b6%20%3D%20%24%28%60%3Cdiv%20id%3D%22html_e46c71983e1640208282eb45f40442b6%22%20style%3D%22width%3A%20100.0%25%3B%20height%3A%20100.0%25%3B%22%3E%20%20%20%20%20%20%20%20%20%3Cul%3E%20%20%20%20%20%20%20%20%20%20%20%20%20%3Cli%3E%3Cstrong%3EID%3A%20%3C/strong%3E2776%3C/li%3E%20%20%20%20%20%20%20%20%20%20%20%20%20%3Cli%3E%3Cstrong%3ESource%3A%20%3C/strong%3EHenderson%20P%26C%20%2341%3C/li%3E%20%20%20%20%20%20%20%20%20%20%20%20%20%3Cli%3E%3Cstrong%3EOccupation%3A%20%3C/strong%3Enan%3C/li%3E%20%20%20%20%20%20%20%20%20%3Cul%3E%20%20%20%20%20%3C/div%3E%60%29%5B0%5D%3B%0A%20%20%20%20%20%20%20%20%20%20%20%20%20%20%20%20popup_4657cd201ecc4e64b3d44ba7029e1dd0.setContent%28html_e46c71983e1640208282eb45f40442b6%29%3B%0A%20%20%20%20%20%20%20%20%20%20%20%20%0A%0A%20%20%20%20%20%20%20%20%20%20%20%20marker_fb76d251bec54391a86832bce24768d1.bindPopup%28popup_4657cd201ecc4e64b3d44ba7029e1dd0%29%0A%20%20%20%20%20%20%20%20%20%20%20%20%3B%0A%0A%20%20%20%20%20%20%20%20%20%20%20%20%0A%20%20%20%20%20%20%20%20%0A%20%20%20%20%0A%20%20%20%20%20%20%20%20var%20marker_c5e55a0a68f145899106e6198c41bc25%20%3D%20L.marker%28%0A%20%20%20%20%20%20%20%20%20%20%20%20%5B43.777438%2C%2011.253398%5D%2C%0A%20%20%20%20%20%20%20%20%20%20%20%20%7B%0A%20%20%20%20%20%20%20%20%20%20%20%20%20%20%20%20icon%3A%20new%20L.Icon.Default%28%29%2C%0A%20%20%20%20%20%20%20%20%20%20%20%20%20%20%20%20%7D%0A%20%20%20%20%20%20%20%20%20%20%20%20%29.addTo%28map_146cd8147123498484976a07e362f27f%29%3B%0A%20%20%20%20%20%20%20%20%0A%20%20%20%20%0A%20%20%20%20%20%20%20%20%20%20%20%20var%20popup_62404a9d18204c0fbda0a2b767235010%20%3D%20L.popup%28%7BmaxWidth%3A%20%27100%25%27%0A%20%20%20%20%20%20%20%20%20%20%20%20%0A%20%20%20%20%20%20%20%20%20%20%20%20%7D%29%3B%0A%0A%20%20%20%20%20%20%20%20%20%20%20%20%0A%20%20%20%20%20%20%20%20%20%20%20%20%20%20%20%20var%20html_16187433f87e4000891370556d983b59%20%3D%20%24%28%60%3Cdiv%20id%3D%22html_16187433f87e4000891370556d983b59%22%20style%3D%22width%3A%20100.0%25%3B%20height%3A%20100.0%25%3B%22%3E%20%20%20%20%20%20%20%20%20%3Cul%3E%20%20%20%20%20%20%20%20%20%20%20%20%20%3Cli%3E%3Cstrong%3EID%3A%20%3C/strong%3E47%3C/li%3E%20%20%20%20%20%20%20%20%20%20%20%20%20%3Cli%3E%3Cstrong%3ESource%3A%20%3C/strong%3EHenderson%20P%26C%20%2361%3C/li%3E%20%20%20%20%20%20%20%20%20%20%20%20%20%3Cli%3E%3Cstrong%3EOccupation%3A%20%3C/strong%3Eciabattino%3C/li%3E%20%20%20%20%20%20%20%20%20%3Cul%3E%20%20%20%20%20%3C/div%3E%60%29%5B0%5D%3B%0A%20%20%20%20%20%20%20%20%20%20%20%20%20%20%20%20popup_62404a9d18204c0fbda0a2b767235010.setContent%28html_16187433f87e4000891370556d983b59%29%3B%0A%20%20%20%20%20%20%20%20%20%20%20%20%0A%0A%20%20%20%20%20%20%20%20%20%20%20%20marker_c5e55a0a68f145899106e6198c41bc25.bindPopup%28popup_62404a9d18204c0fbda0a2b767235010%29%0A%20%20%20%20%20%20%20%20%20%20%20%20%3B%0A%0A%20%20%20%20%20%20%20%20%20%20%20%20%0A%20%20%20%20%20%20%20%20%0A%20%20%20%20%0A%20%20%20%20%20%20%20%20var%20marker_e7260d9a70a24d8491024256f8315b65%20%3D%20L.marker%28%0A%20%20%20%20%20%20%20%20%20%20%20%20%5B43.77206267%2C%2011.26117733%5D%2C%0A%20%20%20%20%20%20%20%20%20%20%20%20%7B%0A%20%20%20%20%20%20%20%20%20%20%20%20%20%20%20%20icon%3A%20new%20L.Icon.Default%28%29%2C%0A%20%20%20%20%20%20%20%20%20%20%20%20%20%20%20%20%7D%0A%20%20%20%20%20%20%20%20%20%20%20%20%29.addTo%28map_146cd8147123498484976a07e362f27f%29%3B%0A%20%20%20%20%20%20%20%20%0A%20%20%20%20%0A%20%20%20%20%20%20%20%20%20%20%20%20var%20popup_175618cc14eb4d3c883e416daa13751a%20%3D%20L.popup%28%7BmaxWidth%3A%20%27100%25%27%0A%20%20%20%20%20%20%20%20%20%20%20%20%0A%20%20%20%20%20%20%20%20%20%20%20%20%7D%29%3B%0A%0A%20%20%20%20%20%20%20%20%20%20%20%20%0A%20%20%20%20%20%20%20%20%20%20%20%20%20%20%20%20var%20html_cfe57e05d194432091eae720484cf783%20%3D%20%24%28%60%3Cdiv%20id%3D%22html_cfe57e05d194432091eae720484cf783%22%20style%3D%22width%3A%20100.0%25%3B%20height%3A%20100.0%25%3B%22%3E%20%20%20%20%20%20%20%20%20%3Cul%3E%20%20%20%20%20%20%20%20%20%20%20%20%20%3Cli%3E%3Cstrong%3EID%3A%20%3C/strong%3E2122%3C/li%3E%20%20%20%20%20%20%20%20%20%20%20%20%20%3Cli%3E%3Cstrong%3ESource%3A%20%3C/strong%3EHenderson%20P%26C%20%2361%3C/li%3E%20%20%20%20%20%20%20%20%20%20%20%20%20%3Cli%3E%3Cstrong%3EOccupation%3A%20%3C/strong%3Edivettino%3C/li%3E%20%20%20%20%20%20%20%20%20%3Cul%3E%20%20%20%20%20%3C/div%3E%60%29%5B0%5D%3B%0A%20%20%20%20%20%20%20%20%20%20%20%20%20%20%20%20popup_175618cc14eb4d3c883e416daa13751a.setContent%28html_cfe57e05d194432091eae720484cf783%29%3B%0A%20%20%20%20%20%20%20%20%20%20%20%20%0A%0A%20%20%20%20%20%20%20%20%20%20%20%20marker_e7260d9a70a24d8491024256f8315b65.bindPopup%28popup_175618cc14eb4d3c883e416daa13751a%29%0A%20%20%20%20%20%20%20%20%20%20%20%20%3B%0A%0A%20%20%20%20%20%20%20%20%20%20%20%20%0A%20%20%20%20%20%20%20%20%0A%20%20%20%20%0A%20%20%20%20%20%20%20%20var%20marker_3e9d677704d840bcae1c84790cc950a0%20%3D%20L.marker%28%0A%20%20%20%20%20%20%20%20%20%20%20%20%5B43.77092867%2C%2011.26371433%5D%2C%0A%20%20%20%20%20%20%20%20%20%20%20%20%7B%0A%20%20%20%20%20%20%20%20%20%20%20%20%20%20%20%20icon%3A%20new%20L.Icon.Default%28%29%2C%0A%20%20%20%20%20%20%20%20%20%20%20%20%20%20%20%20%7D%0A%20%20%20%20%20%20%20%20%20%20%20%20%29.addTo%28map_146cd8147123498484976a07e362f27f%29%3B%0A%20%20%20%20%20%20%20%20%0A%20%20%20%20%0A%20%20%20%20%20%20%20%20%20%20%20%20var%20popup_63de2b5d9e494d1980317ac095c17d09%20%3D%20L.popup%28%7BmaxWidth%3A%20%27100%25%27%0A%20%20%20%20%20%20%20%20%20%20%20%20%0A%20%20%20%20%20%20%20%20%20%20%20%20%7D%29%3B%0A%0A%20%20%20%20%20%20%20%20%20%20%20%20%0A%20%20%20%20%20%20%20%20%20%20%20%20%20%20%20%20var%20html_b8a7b99e872a4583b054de7ab0327e72%20%3D%20%24%28%60%3Cdiv%20id%3D%22html_b8a7b99e872a4583b054de7ab0327e72%22%20style%3D%22width%3A%20100.0%25%3B%20height%3A%20100.0%25%3B%22%3E%20%20%20%20%20%20%20%20%20%3Cul%3E%20%20%20%20%20%20%20%20%20%20%20%20%20%3Cli%3E%3Cstrong%3EID%3A%20%3C/strong%3E3124%3C/li%3E%20%20%20%20%20%20%20%20%20%20%20%20%20%3Cli%3E%3Cstrong%3ESource%3A%20%3C/strong%3EHenderson%20P%26C%20%2361%3C/li%3E%20%20%20%20%20%20%20%20%20%20%20%20%20%3Cli%3E%3Cstrong%3EOccupation%3A%20%3C/strong%3Elegnaiuolo%3C/li%3E%20%20%20%20%20%20%20%20%20%3Cul%3E%20%20%20%20%20%3C/div%3E%60%29%5B0%5D%3B%0A%20%20%20%20%20%20%20%20%20%20%20%20%20%20%20%20popup_63de2b5d9e494d1980317ac095c17d09.setContent%28html_b8a7b99e872a4583b054de7ab0327e72%29%3B%0A%20%20%20%20%20%20%20%20%20%20%20%20%0A%0A%20%20%20%20%20%20%20%20%20%20%20%20marker_3e9d677704d840bcae1c84790cc950a0.bindPopup%28popup_63de2b5d9e494d1980317ac095c17d09%29%0A%20%20%20%20%20%20%20%20%20%20%20%20%3B%0A%0A%20%20%20%20%20%20%20%20%20%20%20%20%0A%20%20%20%20%20%20%20%20%0A%20%20%20%20%0A%20%20%20%20%20%20%20%20var%20marker_d0fcd053f27e45b595a0d15991044cc1%20%3D%20L.marker%28%0A%20%20%20%20%20%20%20%20%20%20%20%20%5B43.77706373%2C%2011.24898549%5D%2C%0A%20%20%20%20%20%20%20%20%20%20%20%20%7B%0A%20%20%20%20%20%20%20%20%20%20%20%20%20%20%20%20icon%3A%20new%20L.Icon.Default%28%29%2C%0A%20%20%20%20%20%20%20%20%20%20%20%20%20%20%20%20%7D%0A%20%20%20%20%20%20%20%20%20%20%20%20%29.addTo%28map_146cd8147123498484976a07e362f27f%29%3B%0A%20%20%20%20%20%20%20%20%0A%20%20%20%20%0A%20%20%20%20%20%20%20%20%20%20%20%20var%20popup_002fe81bdc154f23bc83c029c593d2dd%20%3D%20L.popup%28%7BmaxWidth%3A%20%27100%25%27%0A%20%20%20%20%20%20%20%20%20%20%20%20%0A%20%20%20%20%20%20%20%20%20%20%20%20%7D%29%3B%0A%0A%20%20%20%20%20%20%20%20%20%20%20%20%0A%20%20%20%20%20%20%20%20%20%20%20%20%20%20%20%20var%20html_017f293946154e5dbb7ecc0695ac0b2f%20%3D%20%24%28%60%3Cdiv%20id%3D%22html_017f293946154e5dbb7ecc0695ac0b2f%22%20style%3D%22width%3A%20100.0%25%3B%20height%3A%20100.0%25%3B%22%3E%20%20%20%20%20%20%20%20%20%3Cul%3E%20%20%20%20%20%20%20%20%20%20%20%20%20%3Cli%3E%3Cstrong%3EID%3A%20%3C/strong%3E4501%3C/li%3E%20%20%20%20%20%20%20%20%20%20%20%20%20%3Cli%3E%3Cstrong%3ESource%3A%20%3C/strong%3EHenderson%20P%26C%20%236%3C/li%3E%20%20%20%20%20%20%20%20%20%20%20%20%20%3Cli%3E%3Cstrong%3EOccupation%3A%20%3C/strong%3Efattorino%3C/li%3E%20%20%20%20%20%20%20%20%20%3Cul%3E%20%20%20%20%20%3C/div%3E%60%29%5B0%5D%3B%0A%20%20%20%20%20%20%20%20%20%20%20%20%20%20%20%20popup_002fe81bdc154f23bc83c029c593d2dd.setContent%28html_017f293946154e5dbb7ecc0695ac0b2f%29%3B%0A%20%20%20%20%20%20%20%20%20%20%20%20%0A%0A%20%20%20%20%20%20%20%20%20%20%20%20marker_d0fcd053f27e45b595a0d15991044cc1.bindPopup%28popup_002fe81bdc154f23bc83c029c593d2dd%29%0A%20%20%20%20%20%20%20%20%20%20%20%20%3B%0A%0A%20%20%20%20%20%20%20%20%20%20%20%20%0A%20%20%20%20%20%20%20%20%0A%20%20%20%20%0A%20%20%20%20%20%20%20%20var%20marker_82788c9c632a4b979db15e88f48de7b4%20%3D%20L.marker%28%0A%20%20%20%20%20%20%20%20%20%20%20%20%5B43.771575%2C%2011.265926%5D%2C%0A%20%20%20%20%20%20%20%20%20%20%20%20%7B%0A%20%20%20%20%20%20%20%20%20%20%20%20%20%20%20%20icon%3A%20new%20L.Icon.Default%28%29%2C%0A%20%20%20%20%20%20%20%20%20%20%20%20%20%20%20%20%7D%0A%20%20%20%20%20%20%20%20%20%20%20%20%29.addTo%28map_146cd8147123498484976a07e362f27f%29%3B%0A%20%20%20%20%20%20%20%20%0A%20%20%20%20%0A%20%20%20%20%20%20%20%20%20%20%20%20var%20popup_6b7664056fc7495eb93d33f445ddfca6%20%3D%20L.popup%28%7BmaxWidth%3A%20%27100%25%27%0A%20%20%20%20%20%20%20%20%20%20%20%20%0A%20%20%20%20%20%20%20%20%20%20%20%20%7D%29%3B%0A%0A%20%20%20%20%20%20%20%20%20%20%20%20%0A%20%20%20%20%20%20%20%20%20%20%20%20%20%20%20%20var%20html_6503860d3c2e40ab9cdcc1246f24c68b%20%3D%20%24%28%60%3Cdiv%20id%3D%22html_6503860d3c2e40ab9cdcc1246f24c68b%22%20style%3D%22width%3A%20100.0%25%3B%20height%3A%20100.0%25%3B%22%3E%20%20%20%20%20%20%20%20%20%3Cul%3E%20%20%20%20%20%20%20%20%20%20%20%20%20%3Cli%3E%3Cstrong%3EID%3A%20%3C/strong%3E2873%3C/li%3E%20%20%20%20%20%20%20%20%20%20%20%20%20%3Cli%3E%3Cstrong%3ESource%3A%20%3C/strong%3Enan%3C/li%3E%20%20%20%20%20%20%20%20%20%20%20%20%20%3Cli%3E%3Cstrong%3EOccupation%3A%20%3C/strong%3Enan%3C/li%3E%20%20%20%20%20%20%20%20%20%3Cul%3E%20%20%20%20%20%3C/div%3E%60%29%5B0%5D%3B%0A%20%20%20%20%20%20%20%20%20%20%20%20%20%20%20%20popup_6b7664056fc7495eb93d33f445ddfca6.setContent%28html_6503860d3c2e40ab9cdcc1246f24c68b%29%3B%0A%20%20%20%20%20%20%20%20%20%20%20%20%0A%0A%20%20%20%20%20%20%20%20%20%20%20%20marker_82788c9c632a4b979db15e88f48de7b4.bindPopup%28popup_6b7664056fc7495eb93d33f445ddfca6%29%0A%20%20%20%20%20%20%20%20%20%20%20%20%3B%0A%0A%20%20%20%20%20%20%20%20%20%20%20%20%0A%20%20%20%20%20%20%20%20%0A%20%20%20%20%0A%20%20%20%20%20%20%20%20var%20marker_882d95d93d04408e90c4f3b42f885b4b%20%3D%20L.marker%28%0A%20%20%20%20%20%20%20%20%20%20%20%20%5B43.768454%2C%2011.257542%5D%2C%0A%20%20%20%20%20%20%20%20%20%20%20%20%7B%0A%20%20%20%20%20%20%20%20%20%20%20%20%20%20%20%20icon%3A%20new%20L.Icon.Default%28%29%2C%0A%20%20%20%20%20%20%20%20%20%20%20%20%20%20%20%20%7D%0A%20%20%20%20%20%20%20%20%20%20%20%20%29.addTo%28map_146cd8147123498484976a07e362f27f%29%3B%0A%20%20%20%20%20%20%20%20%0A%20%20%20%20%0A%20%20%20%20%20%20%20%20%20%20%20%20var%20popup_020cfc6d43c8449cbcb42af3a0b53021%20%3D%20L.popup%28%7BmaxWidth%3A%20%27100%25%27%0A%20%20%20%20%20%20%20%20%20%20%20%20%0A%20%20%20%20%20%20%20%20%20%20%20%20%7D%29%3B%0A%0A%20%20%20%20%20%20%20%20%20%20%20%20%0A%20%20%20%20%20%20%20%20%20%20%20%20%20%20%20%20var%20html_cd40e3f74a3d403f854891bbd2b93c99%20%3D%20%24%28%60%3Cdiv%20id%3D%22html_cd40e3f74a3d403f854891bbd2b93c99%22%20style%3D%22width%3A%20100.0%25%3B%20height%3A%20100.0%25%3B%22%3E%20%20%20%20%20%20%20%20%20%3Cul%3E%20%20%20%20%20%20%20%20%20%20%20%20%20%3Cli%3E%3Cstrong%3EID%3A%20%3C/strong%3E4758%3C/li%3E%20%20%20%20%20%20%20%20%20%20%20%20%20%3Cli%3E%3Cstrong%3ESource%3A%20%3C/strong%3Enan%3C/li%3E%20%20%20%20%20%20%20%20%20%20%20%20%20%3Cli%3E%3Cstrong%3EOccupation%3A%20%3C/strong%3Enan%3C/li%3E%20%20%20%20%20%20%20%20%20%3Cul%3E%20%20%20%20%20%3C/div%3E%60%29%5B0%5D%3B%0A%20%20%20%20%20%20%20%20%20%20%20%20%20%20%20%20popup_020cfc6d43c8449cbcb42af3a0b53021.setContent%28html_cd40e3f74a3d403f854891bbd2b93c99%29%3B%0A%20%20%20%20%20%20%20%20%20%20%20%20%0A%0A%20%20%20%20%20%20%20%20%20%20%20%20marker_882d95d93d04408e90c4f3b42f885b4b.bindPopup%28popup_020cfc6d43c8449cbcb42af3a0b53021%29%0A%20%20%20%20%20%20%20%20%20%20%20%20%3B%0A%0A%20%20%20%20%20%20%20%20%20%20%20%20%0A%20%20%20%20%20%20%20%20%0A%20%20%20%20%0A%20%20%20%20%20%20%20%20var%20marker_0693fff8646c40118c73ac59ff086fa1%20%3D%20L.marker%28%0A%20%20%20%20%20%20%20%20%20%20%20%20%5B43.77538%2C%2011.24949%5D%2C%0A%20%20%20%20%20%20%20%20%20%20%20%20%7B%0A%20%20%20%20%20%20%20%20%20%20%20%20%20%20%20%20icon%3A%20new%20L.Icon.Default%28%29%2C%0A%20%20%20%20%20%20%20%20%20%20%20%20%20%20%20%20%7D%0A%20%20%20%20%20%20%20%20%20%20%20%20%29.addTo%28map_146cd8147123498484976a07e362f27f%29%3B%0A%20%20%20%20%20%20%20%20%0A%20%20%20%20%0A%20%20%20%20%20%20%20%20%20%20%20%20var%20popup_b7187de35d334b9286615295e20bbcba%20%3D%20L.popup%28%7BmaxWidth%3A%20%27100%25%27%0A%20%20%20%20%20%20%20%20%20%20%20%20%0A%20%20%20%20%20%20%20%20%20%20%20%20%7D%29%3B%0A%0A%20%20%20%20%20%20%20%20%20%20%20%20%0A%20%20%20%20%20%20%20%20%20%20%20%20%20%20%20%20var%20html_f0638f1713c34783863a2080b5d8c274%20%3D%20%24%28%60%3Cdiv%20id%3D%22html_f0638f1713c34783863a2080b5d8c274%22%20style%3D%22width%3A%20100.0%25%3B%20height%3A%20100.0%25%3B%22%3E%20%20%20%20%20%20%20%20%20%3Cul%3E%20%20%20%20%20%20%20%20%20%20%20%20%20%3Cli%3E%3Cstrong%3EID%3A%20%3C/strong%3E4024%3C/li%3E%20%20%20%20%20%20%20%20%20%20%20%20%20%3Cli%3E%3Cstrong%3ESource%3A%20%3C/strong%3Enan%3C/li%3E%20%20%20%20%20%20%20%20%20%20%20%20%20%3Cli%3E%3Cstrong%3EOccupation%3A%20%3C/strong%3Enan%3C/li%3E%20%20%20%20%20%20%20%20%20%3Cul%3E%20%20%20%20%20%3C/div%3E%60%29%5B0%5D%3B%0A%20%20%20%20%20%20%20%20%20%20%20%20%20%20%20%20popup_b7187de35d334b9286615295e20bbcba.setContent%28html_f0638f1713c34783863a2080b5d8c274%29%3B%0A%20%20%20%20%20%20%20%20%20%20%20%20%0A%0A%20%20%20%20%20%20%20%20%20%20%20%20marker_0693fff8646c40118c73ac59ff086fa1.bindPopup%28popup_b7187de35d334b9286615295e20bbcba%29%0A%20%20%20%20%20%20%20%20%20%20%20%20%3B%0A%0A%20%20%20%20%20%20%20%20%20%20%20%20%0A%20%20%20%20%20%20%20%20%0A%20%20%20%20%0A%20%20%20%20%20%20%20%20var%20marker_41f4449471ab4afeb1caf3954a11e5a7%20%3D%20L.marker%28%0A%20%20%20%20%20%20%20%20%20%20%20%20%5B43.77695321%2C%2011.25422064%5D%2C%0A%20%20%20%20%20%20%20%20%20%20%20%20%7B%0A%20%20%20%20%20%20%20%20%20%20%20%20%20%20%20%20icon%3A%20new%20L.Icon.Default%28%29%2C%0A%20%20%20%20%20%20%20%20%20%20%20%20%20%20%20%20%7D%0A%20%20%20%20%20%20%20%20%20%20%20%20%29.addTo%28map_146cd8147123498484976a07e362f27f%29%3B%0A%20%20%20%20%20%20%20%20%0A%20%20%20%20%0A%20%20%20%20%20%20%20%20%20%20%20%20var%20popup_7d86555f0cd64e59b7b5f98ca905f1c8%20%3D%20L.popup%28%7BmaxWidth%3A%20%27100%25%27%0A%20%20%20%20%20%20%20%20%20%20%20%20%0A%20%20%20%20%20%20%20%20%20%20%20%20%7D%29%3B%0A%0A%20%20%20%20%20%20%20%20%20%20%20%20%0A%20%20%20%20%20%20%20%20%20%20%20%20%20%20%20%20var%20html_b3915b73db8044afb7f11a4b833e1e8f%20%3D%20%24%28%60%3Cdiv%20id%3D%22html_b3915b73db8044afb7f11a4b833e1e8f%22%20style%3D%22width%3A%20100.0%25%3B%20height%3A%20100.0%25%3B%22%3E%20%20%20%20%20%20%20%20%20%3Cul%3E%20%20%20%20%20%20%20%20%20%20%20%20%20%3Cli%3E%3Cstrong%3EID%3A%20%3C/strong%3E283%3C/li%3E%20%20%20%20%20%20%20%20%20%20%20%20%20%3Cli%3E%3Cstrong%3ESource%3A%20%3C/strong%3EHenderson%20P%26C%20%23156%3C/li%3E%20%20%20%20%20%20%20%20%20%20%20%20%20%3Cli%3E%3Cstrong%3EOccupation%3A%20%3C/strong%3Etessitore%3C/li%3E%20%20%20%20%20%20%20%20%20%3Cul%3E%20%20%20%20%20%3C/div%3E%60%29%5B0%5D%3B%0A%20%20%20%20%20%20%20%20%20%20%20%20%20%20%20%20popup_7d86555f0cd64e59b7b5f98ca905f1c8.setContent%28html_b3915b73db8044afb7f11a4b833e1e8f%29%3B%0A%20%20%20%20%20%20%20%20%20%20%20%20%0A%0A%20%20%20%20%20%20%20%20%20%20%20%20marker_41f4449471ab4afeb1caf3954a11e5a7.bindPopup%28popup_7d86555f0cd64e59b7b5f98ca905f1c8%29%0A%20%20%20%20%20%20%20%20%20%20%20%20%3B%0A%0A%20%20%20%20%20%20%20%20%20%20%20%20%0A%20%20%20%20%20%20%20%20%0A%20%20%20%20%0A%20%20%20%20%20%20%20%20var%20marker_6d0bbb4204b74a549a190feaccb7eaa1%20%3D%20L.marker%28%0A%20%20%20%20%20%20%20%20%20%20%20%20%5B43.77731413%2C%2011.25176996%5D%2C%0A%20%20%20%20%20%20%20%20%20%20%20%20%7B%0A%20%20%20%20%20%20%20%20%20%20%20%20%20%20%20%20icon%3A%20new%20L.Icon.Default%28%29%2C%0A%20%20%20%20%20%20%20%20%20%20%20%20%20%20%20%20%7D%0A%20%20%20%20%20%20%20%20%20%20%20%20%29.addTo%28map_146cd8147123498484976a07e362f27f%29%3B%0A%20%20%20%20%20%20%20%20%0A%20%20%20%20%0A%20%20%20%20%20%20%20%20%20%20%20%20var%20popup_a177f5b770574eda8032af7c8f5b02c4%20%3D%20L.popup%28%7BmaxWidth%3A%20%27100%25%27%0A%20%20%20%20%20%20%20%20%20%20%20%20%0A%20%20%20%20%20%20%20%20%20%20%20%20%7D%29%3B%0A%0A%20%20%20%20%20%20%20%20%20%20%20%20%0A%20%20%20%20%20%20%20%20%20%20%20%20%20%20%20%20var%20html_e09ba70ff5f5427f9b2c772ac719373f%20%3D%20%24%28%60%3Cdiv%20id%3D%22html_e09ba70ff5f5427f9b2c772ac719373f%22%20style%3D%22width%3A%20100.0%25%3B%20height%3A%20100.0%25%3B%22%3E%20%20%20%20%20%20%20%20%20%3Cul%3E%20%20%20%20%20%20%20%20%20%20%20%20%20%3Cli%3E%3Cstrong%3EID%3A%20%3C/strong%3E41%3C/li%3E%20%20%20%20%20%20%20%20%20%20%20%20%20%3Cli%3E%3Cstrong%3ESource%3A%20%3C/strong%3Enan%3C/li%3E%20%20%20%20%20%20%20%20%20%20%20%20%20%3Cli%3E%3Cstrong%3EOccupation%3A%20%3C/strong%3Enan%3C/li%3E%20%20%20%20%20%20%20%20%20%3Cul%3E%20%20%20%20%20%3C/div%3E%60%29%5B0%5D%3B%0A%20%20%20%20%20%20%20%20%20%20%20%20%20%20%20%20popup_a177f5b770574eda8032af7c8f5b02c4.setContent%28html_e09ba70ff5f5427f9b2c772ac719373f%29%3B%0A%20%20%20%20%20%20%20%20%20%20%20%20%0A%0A%20%20%20%20%20%20%20%20%20%20%20%20marker_6d0bbb4204b74a549a190feaccb7eaa1.bindPopup%28popup_a177f5b770574eda8032af7c8f5b02c4%29%0A%20%20%20%20%20%20%20%20%20%20%20%20%3B%0A%0A%20%20%20%20%20%20%20%20%20%20%20%20%0A%20%20%20%20%20%20%20%20%0A%20%20%20%20%0A%20%20%20%20%20%20%20%20var%20marker_5bacd6e8f84040a49498d766bdac95d6%20%3D%20L.marker%28%0A%20%20%20%20%20%20%20%20%20%20%20%20%5B43.77295667%2C%2011.25918333%5D%2C%0A%20%20%20%20%20%20%20%20%20%20%20%20%7B%0A%20%20%20%20%20%20%20%20%20%20%20%20%20%20%20%20icon%3A%20new%20L.Icon.Default%28%29%2C%0A%20%20%20%20%20%20%20%20%20%20%20%20%20%20%20%20%7D%0A%20%20%20%20%20%20%20%20%20%20%20%20%29.addTo%28map_146cd8147123498484976a07e362f27f%29%3B%0A%20%20%20%20%20%20%20%20%0A%20%20%20%20%0A%20%20%20%20%20%20%20%20%20%20%20%20var%20popup_19f7ad5a4869490c915f5dde4f2f82c0%20%3D%20L.popup%28%7BmaxWidth%3A%20%27100%25%27%0A%20%20%20%20%20%20%20%20%20%20%20%20%0A%20%20%20%20%20%20%20%20%20%20%20%20%7D%29%3B%0A%0A%20%20%20%20%20%20%20%20%20%20%20%20%0A%20%20%20%20%20%20%20%20%20%20%20%20%20%20%20%20var%20html_bf5a1243d55d4acea822eab682ebfdb1%20%3D%20%24%28%60%3Cdiv%20id%3D%22html_bf5a1243d55d4acea822eab682ebfdb1%22%20style%3D%22width%3A%20100.0%25%3B%20height%3A%20100.0%25%3B%22%3E%20%20%20%20%20%20%20%20%20%3Cul%3E%20%20%20%20%20%20%20%20%20%20%20%20%20%3Cli%3E%3Cstrong%3EID%3A%20%3C/strong%3E2002%3C/li%3E%20%20%20%20%20%20%20%20%20%20%20%20%20%3Cli%3E%3Cstrong%3ESource%3A%20%3C/strong%3Enan%3C/li%3E%20%20%20%20%20%20%20%20%20%20%20%20%20%3Cli%3E%3Cstrong%3EOccupation%3A%20%3C/strong%3Enan%3C/li%3E%20%20%20%20%20%20%20%20%20%3Cul%3E%20%20%20%20%20%3C/div%3E%60%29%5B0%5D%3B%0A%20%20%20%20%20%20%20%20%20%20%20%20%20%20%20%20popup_19f7ad5a4869490c915f5dde4f2f82c0.setContent%28html_bf5a1243d55d4acea822eab682ebfdb1%29%3B%0A%20%20%20%20%20%20%20%20%20%20%20%20%0A%0A%20%20%20%20%20%20%20%20%20%20%20%20marker_5bacd6e8f84040a49498d766bdac95d6.bindPopup%28popup_19f7ad5a4869490c915f5dde4f2f82c0%29%0A%20%20%20%20%20%20%20%20%20%20%20%20%3B%0A%0A%20%20%20%20%20%20%20%20%20%20%20%20%0A%20%20%20%20%20%20%20%20%0A%20%20%20%20%0A%20%20%20%20%20%20%20%20var%20marker_6469dbd863a64c499a74eb992c294b8a%20%3D%20L.marker%28%0A%20%20%20%20%20%20%20%20%20%20%20%20%5B43.772025%2C%2011.24917%5D%2C%0A%20%20%20%20%20%20%20%20%20%20%20%20%7B%0A%20%20%20%20%20%20%20%20%20%20%20%20%20%20%20%20icon%3A%20new%20L.Icon.Default%28%29%2C%0A%20%20%20%20%20%20%20%20%20%20%20%20%20%20%20%20%7D%0A%20%20%20%20%20%20%20%20%20%20%20%20%29.addTo%28map_146cd8147123498484976a07e362f27f%29%3B%0A%20%20%20%20%20%20%20%20%0A%20%20%20%20%0A%20%20%20%20%20%20%20%20%20%20%20%20var%20popup_a17b4fd50e0847a1825b7d82c06a9da6%20%3D%20L.popup%28%7BmaxWidth%3A%20%27100%25%27%0A%20%20%20%20%20%20%20%20%20%20%20%20%0A%20%20%20%20%20%20%20%20%20%20%20%20%7D%29%3B%0A%0A%20%20%20%20%20%20%20%20%20%20%20%20%0A%20%20%20%20%20%20%20%20%20%20%20%20%20%20%20%20var%20html_056ab3db5d7840e28741160b6dd74bc5%20%3D%20%24%28%60%3Cdiv%20id%3D%22html_056ab3db5d7840e28741160b6dd74bc5%22%20style%3D%22width%3A%20100.0%25%3B%20height%3A%20100.0%25%3B%22%3E%20%20%20%20%20%20%20%20%20%3Cul%3E%20%20%20%20%20%20%20%20%20%20%20%20%20%3Cli%3E%3Cstrong%3EID%3A%20%3C/strong%3E5222%3C/li%3E%20%20%20%20%20%20%20%20%20%20%20%20%20%3Cli%3E%3Cstrong%3ESource%3A%20%3C/strong%3EHenderson%20P%26C%20%232%3C/li%3E%20%20%20%20%20%20%20%20%20%20%20%20%20%3Cli%3E%3Cstrong%3EOccupation%3A%20%3C/strong%3Enan%3C/li%3E%20%20%20%20%20%20%20%20%20%3Cul%3E%20%20%20%20%20%3C/div%3E%60%29%5B0%5D%3B%0A%20%20%20%20%20%20%20%20%20%20%20%20%20%20%20%20popup_a17b4fd50e0847a1825b7d82c06a9da6.setContent%28html_056ab3db5d7840e28741160b6dd74bc5%29%3B%0A%20%20%20%20%20%20%20%20%20%20%20%20%0A%0A%20%20%20%20%20%20%20%20%20%20%20%20marker_6469dbd863a64c499a74eb992c294b8a.bindPopup%28popup_a17b4fd50e0847a1825b7d82c06a9da6%29%0A%20%20%20%20%20%20%20%20%20%20%20%20%3B%0A%0A%20%20%20%20%20%20%20%20%20%20%20%20%0A%20%20%20%20%20%20%20%20%0A%20%20%20%20%0A%20%20%20%20%20%20%20%20var%20marker_674824874aa949588b07f81a641774e4%20%3D%20L.marker%28%0A%20%20%20%20%20%20%20%20%20%20%20%20%5B43.76572779%2C%2011.24389164%5D%2C%0A%20%20%20%20%20%20%20%20%20%20%20%20%7B%0A%20%20%20%20%20%20%20%20%20%20%20%20%20%20%20%20icon%3A%20new%20L.Icon.Default%28%29%2C%0A%20%20%20%20%20%20%20%20%20%20%20%20%20%20%20%20%7D%0A%20%20%20%20%20%20%20%20%20%20%20%20%29.addTo%28map_146cd8147123498484976a07e362f27f%29%3B%0A%20%20%20%20%20%20%20%20%0A%20%20%20%20%0A%20%20%20%20%20%20%20%20%20%20%20%20var%20popup_59dfce5186fb46cd94a9a858fb7ae353%20%3D%20L.popup%28%7BmaxWidth%3A%20%27100%25%27%0A%20%20%20%20%20%20%20%20%20%20%20%20%0A%20%20%20%20%20%20%20%20%20%20%20%20%7D%29%3B%0A%0A%20%20%20%20%20%20%20%20%20%20%20%20%0A%20%20%20%20%20%20%20%20%20%20%20%20%20%20%20%20var%20html_a0a54954fc86495d8a1f3e01bf68cbd2%20%3D%20%24%28%60%3Cdiv%20id%3D%22html_a0a54954fc86495d8a1f3e01bf68cbd2%22%20style%3D%22width%3A%20100.0%25%3B%20height%3A%20100.0%25%3B%22%3E%20%20%20%20%20%20%20%20%20%3Cul%3E%20%20%20%20%20%20%20%20%20%20%20%20%20%3Cli%3E%3Cstrong%3EID%3A%20%3C/strong%3E7374%3C/li%3E%20%20%20%20%20%20%20%20%20%20%20%20%20%3Cli%3E%3Cstrong%3ESource%3A%20%3C/strong%3EHenderson%20P%26C%20%232%3C/li%3E%20%20%20%20%20%20%20%20%20%20%20%20%20%3Cli%3E%3Cstrong%3EOccupation%3A%20%3C/strong%3Etessitore%20di%20drappi%3C/li%3E%20%20%20%20%20%20%20%20%20%3Cul%3E%20%20%20%20%20%3C/div%3E%60%29%5B0%5D%3B%0A%20%20%20%20%20%20%20%20%20%20%20%20%20%20%20%20popup_59dfce5186fb46cd94a9a858fb7ae353.setContent%28html_a0a54954fc86495d8a1f3e01bf68cbd2%29%3B%0A%20%20%20%20%20%20%20%20%20%20%20%20%0A%0A%20%20%20%20%20%20%20%20%20%20%20%20marker_674824874aa949588b07f81a641774e4.bindPopup%28popup_59dfce5186fb46cd94a9a858fb7ae353%29%0A%20%20%20%20%20%20%20%20%20%20%20%20%3B%0A%0A%20%20%20%20%20%20%20%20%20%20%20%20%0A%20%20%20%20%20%20%20%20%0A%20%20%20%20%0A%20%20%20%20%20%20%20%20var%20marker_3c8237fb70734364ba7a87016c48d6af%20%3D%20L.marker%28%0A%20%20%20%20%20%20%20%20%20%20%20%20%5B43.76868867%2C%2011.24354133%5D%2C%0A%20%20%20%20%20%20%20%20%20%20%20%20%7B%0A%20%20%20%20%20%20%20%20%20%20%20%20%20%20%20%20icon%3A%20new%20L.Icon.Default%28%29%2C%0A%20%20%20%20%20%20%20%20%20%20%20%20%20%20%20%20%7D%0A%20%20%20%20%20%20%20%20%20%20%20%20%29.addTo%28map_146cd8147123498484976a07e362f27f%29%3B%0A%20%20%20%20%20%20%20%20%0A%20%20%20%20%0A%20%20%20%20%20%20%20%20%20%20%20%20var%20popup_cedbe15b0f8f4ffbb351ff500415418d%20%3D%20L.popup%28%7BmaxWidth%3A%20%27100%25%27%0A%20%20%20%20%20%20%20%20%20%20%20%20%0A%20%20%20%20%20%20%20%20%20%20%20%20%7D%29%3B%0A%0A%20%20%20%20%20%20%20%20%20%20%20%20%0A%20%20%20%20%20%20%20%20%20%20%20%20%20%20%20%20var%20html_002a8d67d6bb4f539c52284bea6df164%20%3D%20%24%28%60%3Cdiv%20id%3D%22html_002a8d67d6bb4f539c52284bea6df164%22%20style%3D%22width%3A%20100.0%25%3B%20height%3A%20100.0%25%3B%22%3E%20%20%20%20%20%20%20%20%20%3Cul%3E%20%20%20%20%20%20%20%20%20%20%20%20%20%3Cli%3E%3Cstrong%3EID%3A%20%3C/strong%3E8490%3C/li%3E%20%20%20%20%20%20%20%20%20%20%20%20%20%3Cli%3E%3Cstrong%3ESource%3A%20%3C/strong%3EHenderson%20P%26C%20%232%3C/li%3E%20%20%20%20%20%20%20%20%20%20%20%20%20%3Cli%3E%3Cstrong%3EOccupation%3A%20%3C/strong%3Enan%3C/li%3E%20%20%20%20%20%20%20%20%20%3Cul%3E%20%20%20%20%20%3C/div%3E%60%29%5B0%5D%3B%0A%20%20%20%20%20%20%20%20%20%20%20%20%20%20%20%20popup_cedbe15b0f8f4ffbb351ff500415418d.setContent%28html_002a8d67d6bb4f539c52284bea6df164%29%3B%0A%20%20%20%20%20%20%20%20%20%20%20%20%0A%0A%20%20%20%20%20%20%20%20%20%20%20%20marker_3c8237fb70734364ba7a87016c48d6af.bindPopup%28popup_cedbe15b0f8f4ffbb351ff500415418d%29%0A%20%20%20%20%20%20%20%20%20%20%20%20%3B%0A%0A%20%20%20%20%20%20%20%20%20%20%20%20%0A%20%20%20%20%20%20%20%20%0A%20%20%20%20%0A%20%20%20%20%20%20%20%20var%20marker_3dbb38ccb7f14ae8ac5efe36c0992441%20%3D%20L.marker%28%0A%20%20%20%20%20%20%20%20%20%20%20%20%5B43.76966957%2C%2011.24372429%5D%2C%0A%20%20%20%20%20%20%20%20%20%20%20%20%7B%0A%20%20%20%20%20%20%20%20%20%20%20%20%20%20%20%20icon%3A%20new%20L.Icon.Default%28%29%2C%0A%20%20%20%20%20%20%20%20%20%20%20%20%20%20%20%20%7D%0A%20%20%20%20%20%20%20%20%20%20%20%20%29.addTo%28map_146cd8147123498484976a07e362f27f%29%3B%0A%20%20%20%20%20%20%20%20%0A%20%20%20%20%0A%20%20%20%20%20%20%20%20%20%20%20%20var%20popup_98aee5200ce94d919e8278bce44e6396%20%3D%20L.popup%28%7BmaxWidth%3A%20%27100%25%27%0A%20%20%20%20%20%20%20%20%20%20%20%20%0A%20%20%20%20%20%20%20%20%20%20%20%20%7D%29%3B%0A%0A%20%20%20%20%20%20%20%20%20%20%20%20%0A%20%20%20%20%20%20%20%20%20%20%20%20%20%20%20%20var%20html_8977428a6e7042a7a479de2a758021bc%20%3D%20%24%28%60%3Cdiv%20id%3D%22html_8977428a6e7042a7a479de2a758021bc%22%20style%3D%22width%3A%20100.0%25%3B%20height%3A%20100.0%25%3B%22%3E%20%20%20%20%20%20%20%20%20%3Cul%3E%20%20%20%20%20%20%20%20%20%20%20%20%20%3Cli%3E%3Cstrong%3EID%3A%20%3C/strong%3E8531%3C/li%3E%20%20%20%20%20%20%20%20%20%20%20%20%20%3Cli%3E%3Cstrong%3ESource%3A%20%3C/strong%3EHenderson%20P%26C%20%232%3C/li%3E%20%20%20%20%20%20%20%20%20%20%20%20%20%3Cli%3E%3Cstrong%3EOccupation%3A%20%3C/strong%3Enan%3C/li%3E%20%20%20%20%20%20%20%20%20%3Cul%3E%20%20%20%20%20%3C/div%3E%60%29%5B0%5D%3B%0A%20%20%20%20%20%20%20%20%20%20%20%20%20%20%20%20popup_98aee5200ce94d919e8278bce44e6396.setContent%28html_8977428a6e7042a7a479de2a758021bc%29%3B%0A%20%20%20%20%20%20%20%20%20%20%20%20%0A%0A%20%20%20%20%20%20%20%20%20%20%20%20marker_3dbb38ccb7f14ae8ac5efe36c0992441.bindPopup%28popup_98aee5200ce94d919e8278bce44e6396%29%0A%20%20%20%20%20%20%20%20%20%20%20%20%3B%0A%0A%20%20%20%20%20%20%20%20%20%20%20%20%0A%20%20%20%20%20%20%20%20%0A%20%20%20%20%0A%20%20%20%20%20%20%20%20var%20marker_c20f00ae660646b69017ccaf2971c792%20%3D%20L.marker%28%0A%20%20%20%20%20%20%20%20%20%20%20%20%5B43.771942%2C%2011.252478%5D%2C%0A%20%20%20%20%20%20%20%20%20%20%20%20%7B%0A%20%20%20%20%20%20%20%20%20%20%20%20%20%20%20%20icon%3A%20new%20L.Icon.Default%28%29%2C%0A%20%20%20%20%20%20%20%20%20%20%20%20%20%20%20%20%7D%0A%20%20%20%20%20%20%20%20%20%20%20%20%29.addTo%28map_146cd8147123498484976a07e362f27f%29%3B%0A%20%20%20%20%20%20%20%20%0A%20%20%20%20%0A%20%20%20%20%20%20%20%20%20%20%20%20var%20popup_aff5d8849fd1487ebe95159dbde55445%20%3D%20L.popup%28%7BmaxWidth%3A%20%27100%25%27%0A%20%20%20%20%20%20%20%20%20%20%20%20%0A%20%20%20%20%20%20%20%20%20%20%20%20%7D%29%3B%0A%0A%20%20%20%20%20%20%20%20%20%20%20%20%0A%20%20%20%20%20%20%20%20%20%20%20%20%20%20%20%20var%20html_156514c3fa3a409e89d60574a86f44f8%20%3D%20%24%28%60%3Cdiv%20id%3D%22html_156514c3fa3a409e89d60574a86f44f8%22%20style%3D%22width%3A%20100.0%25%3B%20height%3A%20100.0%25%3B%22%3E%20%20%20%20%20%20%20%20%20%3Cul%3E%20%20%20%20%20%20%20%20%20%20%20%20%20%3Cli%3E%3Cstrong%3EID%3A%20%3C/strong%3E6044%3C/li%3E%20%20%20%20%20%20%20%20%20%20%20%20%20%3Cli%3E%3Cstrong%3ESource%3A%20%3C/strong%3EHenderson%20P%26C%20%2350%3C/li%3E%20%20%20%20%20%20%20%20%20%20%20%20%20%3Cli%3E%3Cstrong%3EOccupation%3A%20%3C/strong%3Epollaiuolo%3C/li%3E%20%20%20%20%20%20%20%20%20%3Cul%3E%20%20%20%20%20%3C/div%3E%60%29%5B0%5D%3B%0A%20%20%20%20%20%20%20%20%20%20%20%20%20%20%20%20popup_aff5d8849fd1487ebe95159dbde55445.setContent%28html_156514c3fa3a409e89d60574a86f44f8%29%3B%0A%20%20%20%20%20%20%20%20%20%20%20%20%0A%0A%20%20%20%20%20%20%20%20%20%20%20%20marker_c20f00ae660646b69017ccaf2971c792.bindPopup%28popup_aff5d8849fd1487ebe95159dbde55445%29%0A%20%20%20%20%20%20%20%20%20%20%20%20%3B%0A%0A%20%20%20%20%20%20%20%20%20%20%20%20%0A%20%20%20%20%20%20%20%20%0A%20%20%20%20%0A%20%20%20%20%20%20%20%20var%20marker_b1653567138d4d32967679f14e01fa14%20%3D%20L.marker%28%0A%20%20%20%20%20%20%20%20%20%20%20%20%5B43.76976343%2C%2011.24340071%5D%2C%0A%20%20%20%20%20%20%20%20%20%20%20%20%7B%0A%20%20%20%20%20%20%20%20%20%20%20%20%20%20%20%20icon%3A%20new%20L.Icon.Default%28%29%2C%0A%20%20%20%20%20%20%20%20%20%20%20%20%20%20%20%20%7D%0A%20%20%20%20%20%20%20%20%20%20%20%20%29.addTo%28map_146cd8147123498484976a07e362f27f%29%3B%0A%20%20%20%20%20%20%20%20%0A%20%20%20%20%0A%20%20%20%20%20%20%20%20%20%20%20%20var%20popup_d5cdbd38c0984ea7bb4584d281bba543%20%3D%20L.popup%28%7BmaxWidth%3A%20%27100%25%27%0A%20%20%20%20%20%20%20%20%20%20%20%20%0A%20%20%20%20%20%20%20%20%20%20%20%20%7D%29%3B%0A%0A%20%20%20%20%20%20%20%20%20%20%20%20%0A%20%20%20%20%20%20%20%20%20%20%20%20%20%20%20%20var%20html_f30f568a0ed443f6865c2ae04f05ec96%20%3D%20%24%28%60%3Cdiv%20id%3D%22html_f30f568a0ed443f6865c2ae04f05ec96%22%20style%3D%22width%3A%20100.0%25%3B%20height%3A%20100.0%25%3B%22%3E%20%20%20%20%20%20%20%20%20%3Cul%3E%20%20%20%20%20%20%20%20%20%20%20%20%20%3Cli%3E%3Cstrong%3EID%3A%20%3C/strong%3E8431%3C/li%3E%20%20%20%20%20%20%20%20%20%20%20%20%20%3Cli%3E%3Cstrong%3ESource%3A%20%3C/strong%3EHenderson%20P%26C%20105%3C/li%3E%20%20%20%20%20%20%20%20%20%20%20%20%20%3Cli%3E%3Cstrong%3EOccupation%3A%20%3C/strong%3Eoste%3C/li%3E%20%20%20%20%20%20%20%20%20%3Cul%3E%20%20%20%20%20%3C/div%3E%60%29%5B0%5D%3B%0A%20%20%20%20%20%20%20%20%20%20%20%20%20%20%20%20popup_d5cdbd38c0984ea7bb4584d281bba543.setContent%28html_f30f568a0ed443f6865c2ae04f05ec96%29%3B%0A%20%20%20%20%20%20%20%20%20%20%20%20%0A%0A%20%20%20%20%20%20%20%20%20%20%20%20marker_b1653567138d4d32967679f14e01fa14.bindPopup%28popup_d5cdbd38c0984ea7bb4584d281bba543%29%0A%20%20%20%20%20%20%20%20%20%20%20%20%3B%0A%0A%20%20%20%20%20%20%20%20%20%20%20%20%0A%20%20%20%20%20%20%20%20%0A%20%20%20%20%0A%20%20%20%20%20%20%20%20var%20marker_13a10bbd1a66425c85b4fbe22f0daff8%20%3D%20L.marker%28%0A%20%20%20%20%20%20%20%20%20%20%20%20%5B43.76669727%2C%2011.25292636%5D%2C%0A%20%20%20%20%20%20%20%20%20%20%20%20%7B%0A%20%20%20%20%20%20%20%20%20%20%20%20%20%20%20%20icon%3A%20new%20L.Icon.Default%28%29%2C%0A%20%20%20%20%20%20%20%20%20%20%20%20%20%20%20%20%7D%0A%20%20%20%20%20%20%20%20%20%20%20%20%29.addTo%28map_146cd8147123498484976a07e362f27f%29%3B%0A%20%20%20%20%20%20%20%20%0A%20%20%20%20%0A%20%20%20%20%20%20%20%20%20%20%20%20var%20popup_400f9a9cccd442a0b85977568619df4b%20%3D%20L.popup%28%7BmaxWidth%3A%20%27100%25%27%0A%20%20%20%20%20%20%20%20%20%20%20%20%0A%20%20%20%20%20%20%20%20%20%20%20%20%7D%29%3B%0A%0A%20%20%20%20%20%20%20%20%20%20%20%20%0A%20%20%20%20%20%20%20%20%20%20%20%20%20%20%20%20var%20html_3c54da76a402424dbc652b991c7caa47%20%3D%20%24%28%60%3Cdiv%20id%3D%22html_3c54da76a402424dbc652b991c7caa47%22%20style%3D%22width%3A%20100.0%25%3B%20height%3A%20100.0%25%3B%22%3E%20%20%20%20%20%20%20%20%20%3Cul%3E%20%20%20%20%20%20%20%20%20%20%20%20%20%3Cli%3E%3Cstrong%3EID%3A%20%3C/strong%3E6016%3C/li%3E%20%20%20%20%20%20%20%20%20%20%20%20%20%3Cli%3E%3Cstrong%3ESource%3A%20%3C/strong%3EHenderson%20P%26C%20%239%3C/li%3E%20%20%20%20%20%20%20%20%20%20%20%20%20%3Cli%3E%3Cstrong%3EOccupation%3A%20%3C/strong%3Efornaio%3C/li%3E%20%20%20%20%20%20%20%20%20%3Cul%3E%20%20%20%20%20%3C/div%3E%60%29%5B0%5D%3B%0A%20%20%20%20%20%20%20%20%20%20%20%20%20%20%20%20popup_400f9a9cccd442a0b85977568619df4b.setContent%28html_3c54da76a402424dbc652b991c7caa47%29%3B%0A%20%20%20%20%20%20%20%20%20%20%20%20%0A%0A%20%20%20%20%20%20%20%20%20%20%20%20marker_13a10bbd1a66425c85b4fbe22f0daff8.bindPopup%28popup_400f9a9cccd442a0b85977568619df4b%29%0A%20%20%20%20%20%20%20%20%20%20%20%20%3B%0A%0A%20%20%20%20%20%20%20%20%20%20%20%20%0A%20%20%20%20%20%20%20%20%0A%20%20%20%20%0A%20%20%20%20%20%20%20%20var%20marker_63407fb16d2749cba6a0aef3d662f27c%20%3D%20L.marker%28%0A%20%20%20%20%20%20%20%20%20%20%20%20%5B43.772855%2C%2011.244225%5D%2C%0A%20%20%20%20%20%20%20%20%20%20%20%20%7B%0A%20%20%20%20%20%20%20%20%20%20%20%20%20%20%20%20icon%3A%20new%20L.Icon.Default%28%29%2C%0A%20%20%20%20%20%20%20%20%20%20%20%20%20%20%20%20%7D%0A%20%20%20%20%20%20%20%20%20%20%20%20%29.addTo%28map_146cd8147123498484976a07e362f27f%29%3B%0A%20%20%20%20%20%20%20%20%0A%20%20%20%20%0A%20%20%20%20%20%20%20%20%20%20%20%20var%20popup_d31e692ec07647f7a08bab5438f0f47b%20%3D%20L.popup%28%7BmaxWidth%3A%20%27100%25%27%0A%20%20%20%20%20%20%20%20%20%20%20%20%0A%20%20%20%20%20%20%20%20%20%20%20%20%7D%29%3B%0A%0A%20%20%20%20%20%20%20%20%20%20%20%20%0A%20%20%20%20%20%20%20%20%20%20%20%20%20%20%20%20var%20html_572f19b3f6db4a2dbf3f4712f4af8e15%20%3D%20%24%28%60%3Cdiv%20id%3D%22html_572f19b3f6db4a2dbf3f4712f4af8e15%22%20style%3D%22width%3A%20100.0%25%3B%20height%3A%20100.0%25%3B%22%3E%20%20%20%20%20%20%20%20%20%3Cul%3E%20%20%20%20%20%20%20%20%20%20%20%20%20%3Cli%3E%3Cstrong%3EID%3A%20%3C/strong%3E5045%3C/li%3E%20%20%20%20%20%20%20%20%20%20%20%20%20%3Cli%3E%3Cstrong%3ESource%3A%20%3C/strong%3EHenderson%20P%26C%20%2322%3C/li%3E%20%20%20%20%20%20%20%20%20%20%20%20%20%3Cli%3E%3Cstrong%3EOccupation%3A%20%3C/strong%3Etessitore%3C/li%3E%20%20%20%20%20%20%20%20%20%3Cul%3E%20%20%20%20%20%3C/div%3E%60%29%5B0%5D%3B%0A%20%20%20%20%20%20%20%20%20%20%20%20%20%20%20%20popup_d31e692ec07647f7a08bab5438f0f47b.setContent%28html_572f19b3f6db4a2dbf3f4712f4af8e15%29%3B%0A%20%20%20%20%20%20%20%20%20%20%20%20%0A%0A%20%20%20%20%20%20%20%20%20%20%20%20marker_63407fb16d2749cba6a0aef3d662f27c.bindPopup%28popup_d31e692ec07647f7a08bab5438f0f47b%29%0A%20%20%20%20%20%20%20%20%20%20%20%20%3B%0A%0A%20%20%20%20%20%20%20%20%20%20%20%20%0A%20%20%20%20%20%20%20%20%0A%20%20%20%20%0A%20%20%20%20%20%20%20%20var%20marker_48b7c35c63174c48b2efe83ef1f0238b%20%3D%20L.marker%28%0A%20%20%20%20%20%20%20%20%20%20%20%20%5B43.7727865%2C%2011.2443315%5D%2C%0A%20%20%20%20%20%20%20%20%20%20%20%20%7B%0A%20%20%20%20%20%20%20%20%20%20%20%20%20%20%20%20icon%3A%20new%20L.Icon.Default%28%29%2C%0A%20%20%20%20%20%20%20%20%20%20%20%20%20%20%20%20%7D%0A%20%20%20%20%20%20%20%20%20%20%20%20%29.addTo%28map_146cd8147123498484976a07e362f27f%29%3B%0A%20%20%20%20%20%20%20%20%0A%20%20%20%20%0A%20%20%20%20%20%20%20%20%20%20%20%20var%20popup_7a9a09e00cfe4de3961f118cef092dbf%20%3D%20L.popup%28%7BmaxWidth%3A%20%27100%25%27%0A%20%20%20%20%20%20%20%20%20%20%20%20%0A%20%20%20%20%20%20%20%20%20%20%20%20%7D%29%3B%0A%0A%20%20%20%20%20%20%20%20%20%20%20%20%0A%20%20%20%20%20%20%20%20%20%20%20%20%20%20%20%20var%20html_1fc88473c5234f8eb1fdec0d9f6317a5%20%3D%20%24%28%60%3Cdiv%20id%3D%22html_1fc88473c5234f8eb1fdec0d9f6317a5%22%20style%3D%22width%3A%20100.0%25%3B%20height%3A%20100.0%25%3B%22%3E%20%20%20%20%20%20%20%20%20%3Cul%3E%20%20%20%20%20%20%20%20%20%20%20%20%20%3Cli%3E%3Cstrong%3EID%3A%20%3C/strong%3E5071%3C/li%3E%20%20%20%20%20%20%20%20%20%20%20%20%20%3Cli%3E%3Cstrong%3ESource%3A%20%3C/strong%3EHenderson%20P%26C%20%2322%3C/li%3E%20%20%20%20%20%20%20%20%20%20%20%20%20%3Cli%3E%3Cstrong%3EOccupation%3A%20%3C/strong%3Enan%3C/li%3E%20%20%20%20%20%20%20%20%20%3Cul%3E%20%20%20%20%20%3C/div%3E%60%29%5B0%5D%3B%0A%20%20%20%20%20%20%20%20%20%20%20%20%20%20%20%20popup_7a9a09e00cfe4de3961f118cef092dbf.setContent%28html_1fc88473c5234f8eb1fdec0d9f6317a5%29%3B%0A%20%20%20%20%20%20%20%20%20%20%20%20%0A%0A%20%20%20%20%20%20%20%20%20%20%20%20marker_48b7c35c63174c48b2efe83ef1f0238b.bindPopup%28popup_7a9a09e00cfe4de3961f118cef092dbf%29%0A%20%20%20%20%20%20%20%20%20%20%20%20%3B%0A%0A%20%20%20%20%20%20%20%20%20%20%20%20%0A%20%20%20%20%20%20%20%20%0A%20%20%20%20%0A%20%20%20%20%20%20%20%20var%20marker_7c7350b007884368a7bf043ed2cbdd8b%20%3D%20L.marker%28%0A%20%20%20%20%20%20%20%20%20%20%20%20%5B43.772718%2C%2011.244438%5D%2C%0A%20%20%20%20%20%20%20%20%20%20%20%20%7B%0A%20%20%20%20%20%20%20%20%20%20%20%20%20%20%20%20icon%3A%20new%20L.Icon.Default%28%29%2C%0A%20%20%20%20%20%20%20%20%20%20%20%20%20%20%20%20%7D%0A%20%20%20%20%20%20%20%20%20%20%20%20%29.addTo%28map_146cd8147123498484976a07e362f27f%29%3B%0A%20%20%20%20%20%20%20%20%0A%20%20%20%20%0A%20%20%20%20%20%20%20%20%20%20%20%20var%20popup_7b1d94d001fc4b73ba8f9dcca548f905%20%3D%20L.popup%28%7BmaxWidth%3A%20%27100%25%27%0A%20%20%20%20%20%20%20%20%20%20%20%20%0A%20%20%20%20%20%20%20%20%20%20%20%20%7D%29%3B%0A%0A%20%20%20%20%20%20%20%20%20%20%20%20%0A%20%20%20%20%20%20%20%20%20%20%20%20%20%20%20%20var%20html_07fb80b70dbd473f8baaf1245ff58608%20%3D%20%24%28%60%3Cdiv%20id%3D%22html_07fb80b70dbd473f8baaf1245ff58608%22%20style%3D%22width%3A%20100.0%25%3B%20height%3A%20100.0%25%3B%22%3E%20%20%20%20%20%20%20%20%20%3Cul%3E%20%20%20%20%20%20%20%20%20%20%20%20%20%3Cli%3E%3Cstrong%3EID%3A%20%3C/strong%3E5264%3C/li%3E%20%20%20%20%20%20%20%20%20%20%20%20%20%3Cli%3E%3Cstrong%3ESource%3A%20%3C/strong%3EHenderson%20P%26C%20%2322%3C/li%3E%20%20%20%20%20%20%20%20%20%20%20%20%20%3Cli%3E%3Cstrong%3EOccupation%3A%20%3C/strong%3Enan%3C/li%3E%20%20%20%20%20%20%20%20%20%3Cul%3E%20%20%20%20%20%3C/div%3E%60%29%5B0%5D%3B%0A%20%20%20%20%20%20%20%20%20%20%20%20%20%20%20%20popup_7b1d94d001fc4b73ba8f9dcca548f905.setContent%28html_07fb80b70dbd473f8baaf1245ff58608%29%3B%0A%20%20%20%20%20%20%20%20%20%20%20%20%0A%0A%20%20%20%20%20%20%20%20%20%20%20%20marker_7c7350b007884368a7bf043ed2cbdd8b.bindPopup%28popup_7b1d94d001fc4b73ba8f9dcca548f905%29%0A%20%20%20%20%20%20%20%20%20%20%20%20%3B%0A%0A%20%20%20%20%20%20%20%20%20%20%20%20%0A%20%20%20%20%20%20%20%20%0A%20%20%20%20%0A%20%20%20%20%20%20%20%20var%20marker_9c5a4bcbc0b14e279b113270bd07e433%20%3D%20L.marker%28%0A%20%20%20%20%20%20%20%20%20%20%20%20%5B43.77717333%2C%2011.26219133%5D%2C%0A%20%20%20%20%20%20%20%20%20%20%20%20%7B%0A%20%20%20%20%20%20%20%20%20%20%20%20%20%20%20%20icon%3A%20new%20L.Icon.Default%28%29%2C%0A%20%20%20%20%20%20%20%20%20%20%20%20%20%20%20%20%7D%0A%20%20%20%20%20%20%20%20%20%20%20%20%29.addTo%28map_146cd8147123498484976a07e362f27f%29%3B%0A%20%20%20%20%20%20%20%20%0A%20%20%20%20%0A%20%20%20%20%20%20%20%20%20%20%20%20var%20popup_2bf28e1afe064f41896c8555912bdfb3%20%3D%20L.popup%28%7BmaxWidth%3A%20%27100%25%27%0A%20%20%20%20%20%20%20%20%20%20%20%20%0A%20%20%20%20%20%20%20%20%20%20%20%20%7D%29%3B%0A%0A%20%20%20%20%20%20%20%20%20%20%20%20%0A%20%20%20%20%20%20%20%20%20%20%20%20%20%20%20%20var%20html_401888bcb00143c6959921922b40b045%20%3D%20%24%28%60%3Cdiv%20id%3D%22html_401888bcb00143c6959921922b40b045%22%20style%3D%22width%3A%20100.0%25%3B%20height%3A%20100.0%25%3B%22%3E%20%20%20%20%20%20%20%20%20%3Cul%3E%20%20%20%20%20%20%20%20%20%20%20%20%20%3Cli%3E%3Cstrong%3EID%3A%20%3C/strong%3E1667%3C/li%3E%20%20%20%20%20%20%20%20%20%20%20%20%20%3Cli%3E%3Cstrong%3ESource%3A%20%3C/strong%3Enan%3C/li%3E%20%20%20%20%20%20%20%20%20%20%20%20%20%3Cli%3E%3Cstrong%3EOccupation%3A%20%3C/strong%3Enan%3C/li%3E%20%20%20%20%20%20%20%20%20%3Cul%3E%20%20%20%20%20%3C/div%3E%60%29%5B0%5D%3B%0A%20%20%20%20%20%20%20%20%20%20%20%20%20%20%20%20popup_2bf28e1afe064f41896c8555912bdfb3.setContent%28html_401888bcb00143c6959921922b40b045%29%3B%0A%20%20%20%20%20%20%20%20%20%20%20%20%0A%0A%20%20%20%20%20%20%20%20%20%20%20%20marker_9c5a4bcbc0b14e279b113270bd07e433.bindPopup%28popup_2bf28e1afe064f41896c8555912bdfb3%29%0A%20%20%20%20%20%20%20%20%20%20%20%20%3B%0A%0A%20%20%20%20%20%20%20%20%20%20%20%20%0A%20%20%20%20%20%20%20%20%0A%20%20%20%20%0A%20%20%20%20%20%20%20%20var%20marker_5b2599e0b6514154b4e3379115c6120d%20%3D%20L.marker%28%0A%20%20%20%20%20%20%20%20%20%20%20%20%5B43.77779886%2C%2011.253971%5D%2C%0A%20%20%20%20%20%20%20%20%20%20%20%20%7B%0A%20%20%20%20%20%20%20%20%20%20%20%20%20%20%20%20icon%3A%20new%20L.Icon.Default%28%29%2C%0A%20%20%20%20%20%20%20%20%20%20%20%20%20%20%20%20%7D%0A%20%20%20%20%20%20%20%20%20%20%20%20%29.addTo%28map_146cd8147123498484976a07e362f27f%29%3B%0A%20%20%20%20%20%20%20%20%0A%20%20%20%20%0A%20%20%20%20%20%20%20%20%20%20%20%20var%20popup_27e3249ee3e443eba6d0df5aafbf0da2%20%3D%20L.popup%28%7BmaxWidth%3A%20%27100%25%27%0A%20%20%20%20%20%20%20%20%20%20%20%20%0A%20%20%20%20%20%20%20%20%20%20%20%20%7D%29%3B%0A%0A%20%20%20%20%20%20%20%20%20%20%20%20%0A%20%20%20%20%20%20%20%20%20%20%20%20%20%20%20%20var%20html_7c1c7b2ea66945eca76a0a11601c9d56%20%3D%20%24%28%60%3Cdiv%20id%3D%22html_7c1c7b2ea66945eca76a0a11601c9d56%22%20style%3D%22width%3A%20100.0%25%3B%20height%3A%20100.0%25%3B%22%3E%20%20%20%20%20%20%20%20%20%3Cul%3E%20%20%20%20%20%20%20%20%20%20%20%20%20%3Cli%3E%3Cstrong%3EID%3A%20%3C/strong%3E131%3C/li%3E%20%20%20%20%20%20%20%20%20%20%20%20%20%3Cli%3E%3Cstrong%3ESource%3A%20%3C/strong%3EHenderson%20P%26C%20%2342%3C/li%3E%20%20%20%20%20%20%20%20%20%20%20%20%20%3Cli%3E%3Cstrong%3EOccupation%3A%20%3C/strong%3Enan%3C/li%3E%20%20%20%20%20%20%20%20%20%3Cul%3E%20%20%20%20%20%3C/div%3E%60%29%5B0%5D%3B%0A%20%20%20%20%20%20%20%20%20%20%20%20%20%20%20%20popup_27e3249ee3e443eba6d0df5aafbf0da2.setContent%28html_7c1c7b2ea66945eca76a0a11601c9d56%29%3B%0A%20%20%20%20%20%20%20%20%20%20%20%20%0A%0A%20%20%20%20%20%20%20%20%20%20%20%20marker_5b2599e0b6514154b4e3379115c6120d.bindPopup%28popup_27e3249ee3e443eba6d0df5aafbf0da2%29%0A%20%20%20%20%20%20%20%20%20%20%20%20%3B%0A%0A%20%20%20%20%20%20%20%20%20%20%20%20%0A%20%20%20%20%20%20%20%20%0A%20%20%20%20%0A%20%20%20%20%20%20%20%20var%20marker_29c276b1f5814b9eaf3ee1cd1dd0dea8%20%3D%20L.marker%28%0A%20%20%20%20%20%20%20%20%20%20%20%20%5B43.77775557%2C%2011.2539%5D%2C%0A%20%20%20%20%20%20%20%20%20%20%20%20%7B%0A%20%20%20%20%20%20%20%20%20%20%20%20%20%20%20%20icon%3A%20new%20L.Icon.Default%28%29%2C%0A%20%20%20%20%20%20%20%20%20%20%20%20%20%20%20%20%7D%0A%20%20%20%20%20%20%20%20%20%20%20%20%29.addTo%28map_146cd8147123498484976a07e362f27f%29%3B%0A%20%20%20%20%20%20%20%20%0A%20%20%20%20%0A%20%20%20%20%20%20%20%20%20%20%20%20var%20popup_af877eca64114fb1a9312b9e66da533e%20%3D%20L.popup%28%7BmaxWidth%3A%20%27100%25%27%0A%20%20%20%20%20%20%20%20%20%20%20%20%0A%20%20%20%20%20%20%20%20%20%20%20%20%7D%29%3B%0A%0A%20%20%20%20%20%20%20%20%20%20%20%20%0A%20%20%20%20%20%20%20%20%20%20%20%20%20%20%20%20var%20html_a0f28f0e3fae4fb99ae69e64a67f3014%20%3D%20%24%28%60%3Cdiv%20id%3D%22html_a0f28f0e3fae4fb99ae69e64a67f3014%22%20style%3D%22width%3A%20100.0%25%3B%20height%3A%20100.0%25%3B%22%3E%20%20%20%20%20%20%20%20%20%3Cul%3E%20%20%20%20%20%20%20%20%20%20%20%20%20%3Cli%3E%3Cstrong%3EID%3A%20%3C/strong%3E554%3C/li%3E%20%20%20%20%20%20%20%20%20%20%20%20%20%3Cli%3E%3Cstrong%3ESource%3A%20%3C/strong%3EHenderson%20P%26C%20%2342%3C/li%3E%20%20%20%20%20%20%20%20%20%20%20%20%20%3Cli%3E%3Cstrong%3EOccupation%3A%20%3C/strong%3Eesattore%3C/li%3E%20%20%20%20%20%20%20%20%20%3Cul%3E%20%20%20%20%20%3C/div%3E%60%29%5B0%5D%3B%0A%20%20%20%20%20%20%20%20%20%20%20%20%20%20%20%20popup_af877eca64114fb1a9312b9e66da533e.setContent%28html_a0f28f0e3fae4fb99ae69e64a67f3014%29%3B%0A%20%20%20%20%20%20%20%20%20%20%20%20%0A%0A%20%20%20%20%20%20%20%20%20%20%20%20marker_29c276b1f5814b9eaf3ee1cd1dd0dea8.bindPopup%28popup_af877eca64114fb1a9312b9e66da533e%29%0A%20%20%20%20%20%20%20%20%20%20%20%20%3B%0A%0A%20%20%20%20%20%20%20%20%20%20%20%20%0A%20%20%20%20%20%20%20%20%0A%20%20%20%20%0A%20%20%20%20%20%20%20%20var%20marker_8ae8746399d0429b91f3e84800ad6aa1%20%3D%20L.marker%28%0A%20%20%20%20%20%20%20%20%20%20%20%20%5B43.776641%2C%2011.25262992%5D%2C%0A%20%20%20%20%20%20%20%20%20%20%20%20%7B%0A%20%20%20%20%20%20%20%20%20%20%20%20%20%20%20%20icon%3A%20new%20L.Icon.Default%28%29%2C%0A%20%20%20%20%20%20%20%20%20%20%20%20%20%20%20%20%7D%0A%20%20%20%20%20%20%20%20%20%20%20%20%29.addTo%28map_146cd8147123498484976a07e362f27f%29%3B%0A%20%20%20%20%20%20%20%20%0A%20%20%20%20%0A%20%20%20%20%20%20%20%20%20%20%20%20var%20popup_a221bce2bc784d0fb759ca224671f805%20%3D%20L.popup%28%7BmaxWidth%3A%20%27100%25%27%0A%20%20%20%20%20%20%20%20%20%20%20%20%0A%20%20%20%20%20%20%20%20%20%20%20%20%7D%29%3B%0A%0A%20%20%20%20%20%20%20%20%20%20%20%20%0A%20%20%20%20%20%20%20%20%20%20%20%20%20%20%20%20var%20html_4e8411f208e045ac846c1219f36ecbef%20%3D%20%24%28%60%3Cdiv%20id%3D%22html_4e8411f208e045ac846c1219f36ecbef%22%20style%3D%22width%3A%20100.0%25%3B%20height%3A%20100.0%25%3B%22%3E%20%20%20%20%20%20%20%20%20%3Cul%3E%20%20%20%20%20%20%20%20%20%20%20%20%20%3Cli%3E%3Cstrong%3EID%3A%20%3C/strong%3E582%3C/li%3E%20%20%20%20%20%20%20%20%20%20%20%20%20%3Cli%3E%3Cstrong%3ESource%3A%20%3C/strong%3EHenderson%20P%26C%20%2342%3C/li%3E%20%20%20%20%20%20%20%20%20%20%20%20%20%3Cli%3E%3Cstrong%3EOccupation%3A%20%3C/strong%3Etessitore%3C/li%3E%20%20%20%20%20%20%20%20%20%3Cul%3E%20%20%20%20%20%3C/div%3E%60%29%5B0%5D%3B%0A%20%20%20%20%20%20%20%20%20%20%20%20%20%20%20%20popup_a221bce2bc784d0fb759ca224671f805.setContent%28html_4e8411f208e045ac846c1219f36ecbef%29%3B%0A%20%20%20%20%20%20%20%20%20%20%20%20%0A%0A%20%20%20%20%20%20%20%20%20%20%20%20marker_8ae8746399d0429b91f3e84800ad6aa1.bindPopup%28popup_a221bce2bc784d0fb759ca224671f805%29%0A%20%20%20%20%20%20%20%20%20%20%20%20%3B%0A%0A%20%20%20%20%20%20%20%20%20%20%20%20%0A%20%20%20%20%20%20%20%20%0A%20%20%20%20%0A%20%20%20%20%20%20%20%20var%20marker_aefebcedcb854f11aecc72566437fdfa%20%3D%20L.marker%28%0A%20%20%20%20%20%20%20%20%20%20%20%20%5B43.76835491%2C%2011.24107655%5D%2C%0A%20%20%20%20%20%20%20%20%20%20%20%20%7B%0A%20%20%20%20%20%20%20%20%20%20%20%20%20%20%20%20icon%3A%20new%20L.Icon.Default%28%29%2C%0A%20%20%20%20%20%20%20%20%20%20%20%20%20%20%20%20%7D%0A%20%20%20%20%20%20%20%20%20%20%20%20%29.addTo%28map_146cd8147123498484976a07e362f27f%29%3B%0A%20%20%20%20%20%20%20%20%0A%20%20%20%20%0A%20%20%20%20%20%20%20%20%20%20%20%20var%20popup_f79c73c2d0a6480699312070b01c56a9%20%3D%20L.popup%28%7BmaxWidth%3A%20%27100%25%27%0A%20%20%20%20%20%20%20%20%20%20%20%20%0A%20%20%20%20%20%20%20%20%20%20%20%20%7D%29%3B%0A%0A%20%20%20%20%20%20%20%20%20%20%20%20%0A%20%20%20%20%20%20%20%20%20%20%20%20%20%20%20%20var%20html_cdf4adf99549437da9d3525fd0f65964%20%3D%20%24%28%60%3Cdiv%20id%3D%22html_cdf4adf99549437da9d3525fd0f65964%22%20style%3D%22width%3A%20100.0%25%3B%20height%3A%20100.0%25%3B%22%3E%20%20%20%20%20%20%20%20%20%3Cul%3E%20%20%20%20%20%20%20%20%20%20%20%20%20%3Cli%3E%3Cstrong%3EID%3A%20%3C/strong%3E8351%3C/li%3E%20%20%20%20%20%20%20%20%20%20%20%20%20%3Cli%3E%3Cstrong%3ESource%3A%20%3C/strong%3Enan%3C/li%3E%20%20%20%20%20%20%20%20%20%20%20%20%20%3Cli%3E%3Cstrong%3EOccupation%3A%20%3C/strong%3Etorcitore%3C/li%3E%20%20%20%20%20%20%20%20%20%3Cul%3E%20%20%20%20%20%3C/div%3E%60%29%5B0%5D%3B%0A%20%20%20%20%20%20%20%20%20%20%20%20%20%20%20%20popup_f79c73c2d0a6480699312070b01c56a9.setContent%28html_cdf4adf99549437da9d3525fd0f65964%29%3B%0A%20%20%20%20%20%20%20%20%20%20%20%20%0A%0A%20%20%20%20%20%20%20%20%20%20%20%20marker_aefebcedcb854f11aecc72566437fdfa.bindPopup%28popup_f79c73c2d0a6480699312070b01c56a9%29%0A%20%20%20%20%20%20%20%20%20%20%20%20%3B%0A%0A%20%20%20%20%20%20%20%20%20%20%20%20%0A%20%20%20%20%20%20%20%20%0A%20%20%20%20%0A%20%20%20%20%20%20%20%20var%20marker_4bd994a5f1b94d70af53daa5b280e024%20%3D%20L.marker%28%0A%20%20%20%20%20%20%20%20%20%20%20%20%5B43.77713761%2C%2011.26215561%5D%2C%0A%20%20%20%20%20%20%20%20%20%20%20%20%7B%0A%20%20%20%20%20%20%20%20%20%20%20%20%20%20%20%20icon%3A%20new%20L.Icon.Default%28%29%2C%0A%20%20%20%20%20%20%20%20%20%20%20%20%20%20%20%20%7D%0A%20%20%20%20%20%20%20%20%20%20%20%20%29.addTo%28map_146cd8147123498484976a07e362f27f%29%3B%0A%20%20%20%20%20%20%20%20%0A%20%20%20%20%0A%20%20%20%20%20%20%20%20%20%20%20%20var%20popup_67530cd892f443a6ace73b800577129c%20%3D%20L.popup%28%7BmaxWidth%3A%20%27100%25%27%0A%20%20%20%20%20%20%20%20%20%20%20%20%0A%20%20%20%20%20%20%20%20%20%20%20%20%7D%29%3B%0A%0A%20%20%20%20%20%20%20%20%20%20%20%20%0A%20%20%20%20%20%20%20%20%20%20%20%20%20%20%20%20var%20html_327b8f9c73f24206af00c7f68209bd37%20%3D%20%24%28%60%3Cdiv%20id%3D%22html_327b8f9c73f24206af00c7f68209bd37%22%20style%3D%22width%3A%20100.0%25%3B%20height%3A%20100.0%25%3B%22%3E%20%20%20%20%20%20%20%20%20%3Cul%3E%20%20%20%20%20%20%20%20%20%20%20%20%20%3Cli%3E%3Cstrong%3EID%3A%20%3C/strong%3E1443%3C/li%3E%20%20%20%20%20%20%20%20%20%20%20%20%20%3Cli%3E%3Cstrong%3ESource%3A%20%3C/strong%3E2006%20AMF%20Confraternity%20Itinerary%3C/li%3E%20%20%20%20%20%20%20%20%20%20%20%20%20%3Cli%3E%3Cstrong%3EOccupation%3A%20%3C/strong%3Enan%3C/li%3E%20%20%20%20%20%20%20%20%20%3Cul%3E%20%20%20%20%20%3C/div%3E%60%29%5B0%5D%3B%0A%20%20%20%20%20%20%20%20%20%20%20%20%20%20%20%20popup_67530cd892f443a6ace73b800577129c.setContent%28html_327b8f9c73f24206af00c7f68209bd37%29%3B%0A%20%20%20%20%20%20%20%20%20%20%20%20%0A%0A%20%20%20%20%20%20%20%20%20%20%20%20marker_4bd994a5f1b94d70af53daa5b280e024.bindPopup%28popup_67530cd892f443a6ace73b800577129c%29%0A%20%20%20%20%20%20%20%20%20%20%20%20%3B%0A%0A%20%20%20%20%20%20%20%20%20%20%20%20%0A%20%20%20%20%20%20%20%20%0A%20%20%20%20%0A%20%20%20%20%20%20%20%20var%20marker_c4d88cd17015408eb72153adab2e86e6%20%3D%20L.marker%28%0A%20%20%20%20%20%20%20%20%20%20%20%20%5B43.764344%2C%2011.25503%5D%2C%0A%20%20%20%20%20%20%20%20%20%20%20%20%7B%0A%20%20%20%20%20%20%20%20%20%20%20%20%20%20%20%20icon%3A%20new%20L.Icon.Default%28%29%2C%0A%20%20%20%20%20%20%20%20%20%20%20%20%20%20%20%20%7D%0A%20%20%20%20%20%20%20%20%20%20%20%20%29.addTo%28map_146cd8147123498484976a07e362f27f%29%3B%0A%20%20%20%20%20%20%20%20%0A%20%20%20%20%0A%20%20%20%20%20%20%20%20%20%20%20%20var%20popup_883e9fd6256a464584e72d10a910e907%20%3D%20L.popup%28%7BmaxWidth%3A%20%27100%25%27%0A%20%20%20%20%20%20%20%20%20%20%20%20%0A%20%20%20%20%20%20%20%20%20%20%20%20%7D%29%3B%0A%0A%20%20%20%20%20%20%20%20%20%20%20%20%0A%20%20%20%20%20%20%20%20%20%20%20%20%20%20%20%20var%20html_e19081b035f84c4dad7c8ed88210e174%20%3D%20%24%28%60%3Cdiv%20id%3D%22html_e19081b035f84c4dad7c8ed88210e174%22%20style%3D%22width%3A%20100.0%25%3B%20height%3A%20100.0%25%3B%22%3E%20%20%20%20%20%20%20%20%20%3Cul%3E%20%20%20%20%20%20%20%20%20%20%20%20%20%3Cli%3E%3Cstrong%3EID%3A%20%3C/strong%3E6027%3C/li%3E%20%20%20%20%20%20%20%20%20%20%20%20%20%3Cli%3E%3Cstrong%3ESource%3A%20%3C/strong%3Enan%3C/li%3E%20%20%20%20%20%20%20%20%20%20%20%20%20%3Cli%3E%3Cstrong%3EOccupation%3A%20%3C/strong%3Etessitore%3C/li%3E%20%20%20%20%20%20%20%20%20%3Cul%3E%20%20%20%20%20%3C/div%3E%60%29%5B0%5D%3B%0A%20%20%20%20%20%20%20%20%20%20%20%20%20%20%20%20popup_883e9fd6256a464584e72d10a910e907.setContent%28html_e19081b035f84c4dad7c8ed88210e174%29%3B%0A%20%20%20%20%20%20%20%20%20%20%20%20%0A%0A%20%20%20%20%20%20%20%20%20%20%20%20marker_c4d88cd17015408eb72153adab2e86e6.bindPopup%28popup_883e9fd6256a464584e72d10a910e907%29%0A%20%20%20%20%20%20%20%20%20%20%20%20%3B%0A%0A%20%20%20%20%20%20%20%20%20%20%20%20%0A%20%20%20%20%20%20%20%20%0A%20%20%20%20%0A%20%20%20%20%20%20%20%20var%20marker_74cd5acd0f484736b02230f5de68585e%20%3D%20L.marker%28%0A%20%20%20%20%20%20%20%20%20%20%20%20%5B43.76656545%2C%2011.25341727%5D%2C%0A%20%20%20%20%20%20%20%20%20%20%20%20%7B%0A%20%20%20%20%20%20%20%20%20%20%20%20%20%20%20%20icon%3A%20new%20L.Icon.Default%28%29%2C%0A%20%20%20%20%20%20%20%20%20%20%20%20%20%20%20%20%7D%0A%20%20%20%20%20%20%20%20%20%20%20%20%29.addTo%28map_146cd8147123498484976a07e362f27f%29%3B%0A%20%20%20%20%20%20%20%20%0A%20%20%20%20%0A%20%20%20%20%20%20%20%20%20%20%20%20var%20popup_222f4255f43f449f90bd284c071b53b8%20%3D%20L.popup%28%7BmaxWidth%3A%20%27100%25%27%0A%20%20%20%20%20%20%20%20%20%20%20%20%0A%20%20%20%20%20%20%20%20%20%20%20%20%7D%29%3B%0A%0A%20%20%20%20%20%20%20%20%20%20%20%20%0A%20%20%20%20%20%20%20%20%20%20%20%20%20%20%20%20var%20html_3764ad1df5cf4a9bad11cabc75a14b70%20%3D%20%24%28%60%3Cdiv%20id%3D%22html_3764ad1df5cf4a9bad11cabc75a14b70%22%20style%3D%22width%3A%20100.0%25%3B%20height%3A%20100.0%25%3B%22%3E%20%20%20%20%20%20%20%20%20%3Cul%3E%20%20%20%20%20%20%20%20%20%20%20%20%20%3Cli%3E%3Cstrong%3EID%3A%20%3C/strong%3E6324%3C/li%3E%20%20%20%20%20%20%20%20%20%20%20%20%20%3Cli%3E%3Cstrong%3ESource%3A%20%3C/strong%3Enan%3C/li%3E%20%20%20%20%20%20%20%20%20%20%20%20%20%3Cli%3E%3Cstrong%3EOccupation%3A%20%3C/strong%3Ebarbiere%3C/li%3E%20%20%20%20%20%20%20%20%20%3Cul%3E%20%20%20%20%20%3C/div%3E%60%29%5B0%5D%3B%0A%20%20%20%20%20%20%20%20%20%20%20%20%20%20%20%20popup_222f4255f43f449f90bd284c071b53b8.setContent%28html_3764ad1df5cf4a9bad11cabc75a14b70%29%3B%0A%20%20%20%20%20%20%20%20%20%20%20%20%0A%0A%20%20%20%20%20%20%20%20%20%20%20%20marker_74cd5acd0f484736b02230f5de68585e.bindPopup%28popup_222f4255f43f449f90bd284c071b53b8%29%0A%20%20%20%20%20%20%20%20%20%20%20%20%3B%0A%0A%20%20%20%20%20%20%20%20%20%20%20%20%0A%20%20%20%20%20%20%20%20%0A%20%20%20%20%0A%20%20%20%20%20%20%20%20var%20marker_ba50de484c57464aafd0d7f2d8140fcc%20%3D%20L.marker%28%0A%20%20%20%20%20%20%20%20%20%20%20%20%5B43.76648625%2C%2011.254495%5D%2C%0A%20%20%20%20%20%20%20%20%20%20%20%20%7B%0A%20%20%20%20%20%20%20%20%20%20%20%20%20%20%20%20icon%3A%20new%20L.Icon.Default%28%29%2C%0A%20%20%20%20%20%20%20%20%20%20%20%20%20%20%20%20%7D%0A%20%20%20%20%20%20%20%20%20%20%20%20%29.addTo%28map_146cd8147123498484976a07e362f27f%29%3B%0A%20%20%20%20%20%20%20%20%0A%20%20%20%20%0A%20%20%20%20%20%20%20%20%20%20%20%20var%20popup_f20fe684bd3547469063b904bbb86dd4%20%3D%20L.popup%28%7BmaxWidth%3A%20%27100%25%27%0A%20%20%20%20%20%20%20%20%20%20%20%20%0A%20%20%20%20%20%20%20%20%20%20%20%20%7D%29%3B%0A%0A%20%20%20%20%20%20%20%20%20%20%20%20%0A%20%20%20%20%20%20%20%20%20%20%20%20%20%20%20%20var%20html_3e9d82ccaf204c32a60bf14d8b238db7%20%3D%20%24%28%60%3Cdiv%20id%3D%22html_3e9d82ccaf204c32a60bf14d8b238db7%22%20style%3D%22width%3A%20100.0%25%3B%20height%3A%20100.0%25%3B%22%3E%20%20%20%20%20%20%20%20%20%3Cul%3E%20%20%20%20%20%20%20%20%20%20%20%20%20%3Cli%3E%3Cstrong%3EID%3A%20%3C/strong%3E6180%3C/li%3E%20%20%20%20%20%20%20%20%20%20%20%20%20%3Cli%3E%3Cstrong%3ESource%3A%20%3C/strong%3Enan%3C/li%3E%20%20%20%20%20%20%20%20%20%20%20%20%20%3Cli%3E%3Cstrong%3EOccupation%3A%20%3C/strong%3Enan%3C/li%3E%20%20%20%20%20%20%20%20%20%3Cul%3E%20%20%20%20%20%3C/div%3E%60%29%5B0%5D%3B%0A%20%20%20%20%20%20%20%20%20%20%20%20%20%20%20%20popup_f20fe684bd3547469063b904bbb86dd4.setContent%28html_3e9d82ccaf204c32a60bf14d8b238db7%29%3B%0A%20%20%20%20%20%20%20%20%20%20%20%20%0A%0A%20%20%20%20%20%20%20%20%20%20%20%20marker_ba50de484c57464aafd0d7f2d8140fcc.bindPopup%28popup_f20fe684bd3547469063b904bbb86dd4%29%0A%20%20%20%20%20%20%20%20%20%20%20%20%3B%0A%0A%20%20%20%20%20%20%20%20%20%20%20%20%0A%20%20%20%20%20%20%20%20%0A%20%20%20%20%0A%20%20%20%20%20%20%20%20var%20marker_6353ad50fd804cc2a3f949108ec08aca%20%3D%20L.marker%28%0A%20%20%20%20%20%20%20%20%20%20%20%20%5B43.773077%2C%2011.263158%5D%2C%0A%20%20%20%20%20%20%20%20%20%20%20%20%7B%0A%20%20%20%20%20%20%20%20%20%20%20%20%20%20%20%20icon%3A%20new%20L.Icon.Default%28%29%2C%0A%20%20%20%20%20%20%20%20%20%20%20%20%20%20%20%20%7D%0A%20%20%20%20%20%20%20%20%20%20%20%20%29.addTo%28map_146cd8147123498484976a07e362f27f%29%3B%0A%20%20%20%20%20%20%20%20%0A%20%20%20%20%0A%20%20%20%20%20%20%20%20%20%20%20%20var%20popup_550f226b4af543d8935e5f8a201bea56%20%3D%20L.popup%28%7BmaxWidth%3A%20%27100%25%27%0A%20%20%20%20%20%20%20%20%20%20%20%20%0A%20%20%20%20%20%20%20%20%20%20%20%20%7D%29%3B%0A%0A%20%20%20%20%20%20%20%20%20%20%20%20%0A%20%20%20%20%20%20%20%20%20%20%20%20%20%20%20%20var%20html_de1617e8622a452eb2170ee21aba0385%20%3D%20%24%28%60%3Cdiv%20id%3D%22html_de1617e8622a452eb2170ee21aba0385%22%20style%3D%22width%3A%20100.0%25%3B%20height%3A%20100.0%25%3B%22%3E%20%20%20%20%20%20%20%20%20%3Cul%3E%20%20%20%20%20%20%20%20%20%20%20%20%20%3Cli%3E%3Cstrong%3EID%3A%20%3C/strong%3E2300%3C/li%3E%20%20%20%20%20%20%20%20%20%20%20%20%20%3Cli%3E%3Cstrong%3ESource%3A%20%3C/strong%3EHenderson%20P%26C%20%2366%3C/li%3E%20%20%20%20%20%20%20%20%20%20%20%20%20%3Cli%3E%3Cstrong%3EOccupation%3A%20%3C/strong%3Enan%3C/li%3E%20%20%20%20%20%20%20%20%20%3Cul%3E%20%20%20%20%20%3C/div%3E%60%29%5B0%5D%3B%0A%20%20%20%20%20%20%20%20%20%20%20%20%20%20%20%20popup_550f226b4af543d8935e5f8a201bea56.setContent%28html_de1617e8622a452eb2170ee21aba0385%29%3B%0A%20%20%20%20%20%20%20%20%20%20%20%20%0A%0A%20%20%20%20%20%20%20%20%20%20%20%20marker_6353ad50fd804cc2a3f949108ec08aca.bindPopup%28popup_550f226b4af543d8935e5f8a201bea56%29%0A%20%20%20%20%20%20%20%20%20%20%20%20%3B%0A%0A%20%20%20%20%20%20%20%20%20%20%20%20%0A%20%20%20%20%20%20%20%20%0A%20%20%20%20%0A%20%20%20%20%20%20%20%20var%20marker_ab993f00f4f44c769f00a5618bd12e9a%20%3D%20L.marker%28%0A%20%20%20%20%20%20%20%20%20%20%20%20%5B43.77289553%2C%2011.26334247%5D%2C%0A%20%20%20%20%20%20%20%20%20%20%20%20%7B%0A%20%20%20%20%20%20%20%20%20%20%20%20%20%20%20%20icon%3A%20new%20L.Icon.Default%28%29%2C%0A%20%20%20%20%20%20%20%20%20%20%20%20%20%20%20%20%7D%0A%20%20%20%20%20%20%20%20%20%20%20%20%29.addTo%28map_146cd8147123498484976a07e362f27f%29%3B%0A%20%20%20%20%20%20%20%20%0A%20%20%20%20%0A%20%20%20%20%20%20%20%20%20%20%20%20var%20popup_99d900cc2e5140ee9359532555a3f7b8%20%3D%20L.popup%28%7BmaxWidth%3A%20%27100%25%27%0A%20%20%20%20%20%20%20%20%20%20%20%20%0A%20%20%20%20%20%20%20%20%20%20%20%20%7D%29%3B%0A%0A%20%20%20%20%20%20%20%20%20%20%20%20%0A%20%20%20%20%20%20%20%20%20%20%20%20%20%20%20%20var%20html_b8c500e0ff52498ba47a0c4399e94cf3%20%3D%20%24%28%60%3Cdiv%20id%3D%22html_b8c500e0ff52498ba47a0c4399e94cf3%22%20style%3D%22width%3A%20100.0%25%3B%20height%3A%20100.0%25%3B%22%3E%20%20%20%20%20%20%20%20%20%3Cul%3E%20%20%20%20%20%20%20%20%20%20%20%20%20%3Cli%3E%3Cstrong%3EID%3A%20%3C/strong%3E2673%3C/li%3E%20%20%20%20%20%20%20%20%20%20%20%20%20%3Cli%3E%3Cstrong%3ESource%3A%20%3C/strong%3EHenderson%20P%26C%20%2366%3C/li%3E%20%20%20%20%20%20%20%20%20%20%20%20%20%3Cli%3E%3Cstrong%3EOccupation%3A%20%3C/strong%3Enan%3C/li%3E%20%20%20%20%20%20%20%20%20%3Cul%3E%20%20%20%20%20%3C/div%3E%60%29%5B0%5D%3B%0A%20%20%20%20%20%20%20%20%20%20%20%20%20%20%20%20popup_99d900cc2e5140ee9359532555a3f7b8.setContent%28html_b8c500e0ff52498ba47a0c4399e94cf3%29%3B%0A%20%20%20%20%20%20%20%20%20%20%20%20%0A%0A%20%20%20%20%20%20%20%20%20%20%20%20marker_ab993f00f4f44c769f00a5618bd12e9a.bindPopup%28popup_99d900cc2e5140ee9359532555a3f7b8%29%0A%20%20%20%20%20%20%20%20%20%20%20%20%3B%0A%0A%20%20%20%20%20%20%20%20%20%20%20%20%0A%20%20%20%20%20%20%20%20%0A%20%20%20%20%0A%20%20%20%20%20%20%20%20var%20marker_58189c33f14f42e1a4cca24e7bbd3321%20%3D%20L.marker%28%0A%20%20%20%20%20%20%20%20%20%20%20%20%5B43.77034154%2C%2011.24215077%5D%2C%0A%20%20%20%20%20%20%20%20%20%20%20%20%7B%0A%20%20%20%20%20%20%20%20%20%20%20%20%20%20%20%20icon%3A%20new%20L.Icon.Default%28%29%2C%0A%20%20%20%20%20%20%20%20%20%20%20%20%20%20%20%20%7D%0A%20%20%20%20%20%20%20%20%20%20%20%20%29.addTo%28map_146cd8147123498484976a07e362f27f%29%3B%0A%20%20%20%20%20%20%20%20%0A%20%20%20%20%0A%20%20%20%20%20%20%20%20%20%20%20%20var%20popup_f24eb877d6184d6ba85fb23b4e038c39%20%3D%20L.popup%28%7BmaxWidth%3A%20%27100%25%27%0A%20%20%20%20%20%20%20%20%20%20%20%20%0A%20%20%20%20%20%20%20%20%20%20%20%20%7D%29%3B%0A%0A%20%20%20%20%20%20%20%20%20%20%20%20%0A%20%20%20%20%20%20%20%20%20%20%20%20%20%20%20%20var%20html_9b75bb73b8cc4780aa36cead1782b1c6%20%3D%20%24%28%60%3Cdiv%20id%3D%22html_9b75bb73b8cc4780aa36cead1782b1c6%22%20style%3D%22width%3A%20100.0%25%3B%20height%3A%20100.0%25%3B%22%3E%20%20%20%20%20%20%20%20%20%3Cul%3E%20%20%20%20%20%20%20%20%20%20%20%20%20%3Cli%3E%3Cstrong%3EID%3A%20%3C/strong%3E8024%3C/li%3E%20%20%20%20%20%20%20%20%20%20%20%20%20%3Cli%3E%3Cstrong%3ESource%3A%20%3C/strong%3EHenderson%20P%26C%20%2366%3C/li%3E%20%20%20%20%20%20%20%20%20%20%20%20%20%3Cli%3E%3Cstrong%3EOccupation%3A%20%3C/strong%3Efunaiuolo%3C/li%3E%20%20%20%20%20%20%20%20%20%3Cul%3E%20%20%20%20%20%3C/div%3E%60%29%5B0%5D%3B%0A%20%20%20%20%20%20%20%20%20%20%20%20%20%20%20%20popup_f24eb877d6184d6ba85fb23b4e038c39.setContent%28html_9b75bb73b8cc4780aa36cead1782b1c6%29%3B%0A%20%20%20%20%20%20%20%20%20%20%20%20%0A%0A%20%20%20%20%20%20%20%20%20%20%20%20marker_58189c33f14f42e1a4cca24e7bbd3321.bindPopup%28popup_f24eb877d6184d6ba85fb23b4e038c39%29%0A%20%20%20%20%20%20%20%20%20%20%20%20%3B%0A%0A%20%20%20%20%20%20%20%20%20%20%20%20%0A%20%20%20%20%20%20%20%20%0A%20%20%20%20%0A%20%20%20%20%20%20%20%20var%20marker_5d6502d535ed4ca9a35edbe12680f2fb%20%3D%20L.marker%28%0A%20%20%20%20%20%20%20%20%20%20%20%20%5B43.77198%2C%2011.252595%5D%2C%0A%20%20%20%20%20%20%20%20%20%20%20%20%7B%0A%20%20%20%20%20%20%20%20%20%20%20%20%20%20%20%20icon%3A%20new%20L.Icon.Default%28%29%2C%0A%20%20%20%20%20%20%20%20%20%20%20%20%20%20%20%20%7D%0A%20%20%20%20%20%20%20%20%20%20%20%20%29.addTo%28map_146cd8147123498484976a07e362f27f%29%3B%0A%20%20%20%20%20%20%20%20%0A%20%20%20%20%0A%20%20%20%20%20%20%20%20%20%20%20%20var%20popup_188090ac616141e9bf5ed9bb64e144a0%20%3D%20L.popup%28%7BmaxWidth%3A%20%27100%25%27%0A%20%20%20%20%20%20%20%20%20%20%20%20%0A%20%20%20%20%20%20%20%20%20%20%20%20%7D%29%3B%0A%0A%20%20%20%20%20%20%20%20%20%20%20%20%0A%20%20%20%20%20%20%20%20%20%20%20%20%20%20%20%20var%20html_c827299a463a4668a615649466ba6ead%20%3D%20%24%28%60%3Cdiv%20id%3D%22html_c827299a463a4668a615649466ba6ead%22%20style%3D%22width%3A%20100.0%25%3B%20height%3A%20100.0%25%3B%22%3E%20%20%20%20%20%20%20%20%20%3Cul%3E%20%20%20%20%20%20%20%20%20%20%20%20%20%3Cli%3E%3Cstrong%3EID%3A%20%3C/strong%3E6233%3C/li%3E%20%20%20%20%20%20%20%20%20%20%20%20%20%3Cli%3E%3Cstrong%3ESource%3A%20%3C/strong%3EHenderson%20P%26C%20%2366%3C/li%3E%20%20%20%20%20%20%20%20%20%20%20%20%20%3Cli%3E%3Cstrong%3EOccupation%3A%20%3C/strong%3Efornaio%3C/li%3E%20%20%20%20%20%20%20%20%20%3Cul%3E%20%20%20%20%20%3C/div%3E%60%29%5B0%5D%3B%0A%20%20%20%20%20%20%20%20%20%20%20%20%20%20%20%20popup_188090ac616141e9bf5ed9bb64e144a0.setContent%28html_c827299a463a4668a615649466ba6ead%29%3B%0A%20%20%20%20%20%20%20%20%20%20%20%20%0A%0A%20%20%20%20%20%20%20%20%20%20%20%20marker_5d6502d535ed4ca9a35edbe12680f2fb.bindPopup%28popup_188090ac616141e9bf5ed9bb64e144a0%29%0A%20%20%20%20%20%20%20%20%20%20%20%20%3B%0A%0A%20%20%20%20%20%20%20%20%20%20%20%20%0A%20%20%20%20%20%20%20%20%0A%20%20%20%20%0A%20%20%20%20%20%20%20%20var%20marker_43fa106b2d5641eb83deaf794d69ab72%20%3D%20L.marker%28%0A%20%20%20%20%20%20%20%20%20%20%20%20%5B43.77497133%2C%2011.26411667%5D%2C%0A%20%20%20%20%20%20%20%20%20%20%20%20%7B%0A%20%20%20%20%20%20%20%20%20%20%20%20%20%20%20%20icon%3A%20new%20L.Icon.Default%28%29%2C%0A%20%20%20%20%20%20%20%20%20%20%20%20%20%20%20%20%7D%0A%20%20%20%20%20%20%20%20%20%20%20%20%29.addTo%28map_146cd8147123498484976a07e362f27f%29%3B%0A%20%20%20%20%20%20%20%20%0A%20%20%20%20%0A%20%20%20%20%20%20%20%20%20%20%20%20var%20popup_45f9d7c1b9bb4f3887bff854f0f4c59c%20%3D%20L.popup%28%7BmaxWidth%3A%20%27100%25%27%0A%20%20%20%20%20%20%20%20%20%20%20%20%0A%20%20%20%20%20%20%20%20%20%20%20%20%7D%29%3B%0A%0A%20%20%20%20%20%20%20%20%20%20%20%20%0A%20%20%20%20%20%20%20%20%20%20%20%20%20%20%20%20var%20html_62713b29b9a6473eb44a55d457d72e45%20%3D%20%24%28%60%3Cdiv%20id%3D%22html_62713b29b9a6473eb44a55d457d72e45%22%20style%3D%22width%3A%20100.0%25%3B%20height%3A%20100.0%25%3B%22%3E%20%20%20%20%20%20%20%20%20%3Cul%3E%20%20%20%20%20%20%20%20%20%20%20%20%20%3Cli%3E%3Cstrong%3EID%3A%20%3C/strong%3E1588%3C/li%3E%20%20%20%20%20%20%20%20%20%20%20%20%20%3Cli%3E%3Cstrong%3ESource%3A%20%3C/strong%3EHenderson%20P%26C%20%2366%3C/li%3E%20%20%20%20%20%20%20%20%20%20%20%20%20%3Cli%3E%3Cstrong%3EOccupation%3A%20%3C/strong%3Enan%3C/li%3E%20%20%20%20%20%20%20%20%20%3Cul%3E%20%20%20%20%20%3C/div%3E%60%29%5B0%5D%3B%0A%20%20%20%20%20%20%20%20%20%20%20%20%20%20%20%20popup_45f9d7c1b9bb4f3887bff854f0f4c59c.setContent%28html_62713b29b9a6473eb44a55d457d72e45%29%3B%0A%20%20%20%20%20%20%20%20%20%20%20%20%0A%0A%20%20%20%20%20%20%20%20%20%20%20%20marker_43fa106b2d5641eb83deaf794d69ab72.bindPopup%28popup_45f9d7c1b9bb4f3887bff854f0f4c59c%29%0A%20%20%20%20%20%20%20%20%20%20%20%20%3B%0A%0A%20%20%20%20%20%20%20%20%20%20%20%20%0A%20%20%20%20%20%20%20%20%0A%20%20%20%20%0A%20%20%20%20%20%20%20%20var%20marker_ff8baa525ff242dfba7bc617b52c50d8%20%3D%20L.marker%28%0A%20%20%20%20%20%20%20%20%20%20%20%20%5B43.767332%2C%2011.24068%5D%2C%0A%20%20%20%20%20%20%20%20%20%20%20%20%7B%0A%20%20%20%20%20%20%20%20%20%20%20%20%20%20%20%20icon%3A%20new%20L.Icon.Default%28%29%2C%0A%20%20%20%20%20%20%20%20%20%20%20%20%20%20%20%20%7D%0A%20%20%20%20%20%20%20%20%20%20%20%20%29.addTo%28map_146cd8147123498484976a07e362f27f%29%3B%0A%20%20%20%20%20%20%20%20%0A%20%20%20%20%0A%20%20%20%20%20%20%20%20%20%20%20%20var%20popup_0bacc6051f6d430a80c1170916af6fcc%20%3D%20L.popup%28%7BmaxWidth%3A%20%27100%25%27%0A%20%20%20%20%20%20%20%20%20%20%20%20%0A%20%20%20%20%20%20%20%20%20%20%20%20%7D%29%3B%0A%0A%20%20%20%20%20%20%20%20%20%20%20%20%0A%20%20%20%20%20%20%20%20%20%20%20%20%20%20%20%20var%20html_b9f9f26d1d1e4844a5d3b76e8c15bfce%20%3D%20%24%28%60%3Cdiv%20id%3D%22html_b9f9f26d1d1e4844a5d3b76e8c15bfce%22%20style%3D%22width%3A%20100.0%25%3B%20height%3A%20100.0%25%3B%22%3E%20%20%20%20%20%20%20%20%20%3Cul%3E%20%20%20%20%20%20%20%20%20%20%20%20%20%3Cli%3E%3Cstrong%3EID%3A%20%3C/strong%3E8038%3C/li%3E%20%20%20%20%20%20%20%20%20%20%20%20%20%3Cli%3E%3Cstrong%3ESource%3A%20%3C/strong%3EHenderson%20P%26C%20%23103%3C/li%3E%20%20%20%20%20%20%20%20%20%20%20%20%20%3Cli%3E%3Cstrong%3EOccupation%3A%20%3C/strong%3Enan%3C/li%3E%20%20%20%20%20%20%20%20%20%3Cul%3E%20%20%20%20%20%3C/div%3E%60%29%5B0%5D%3B%0A%20%20%20%20%20%20%20%20%20%20%20%20%20%20%20%20popup_0bacc6051f6d430a80c1170916af6fcc.setContent%28html_b9f9f26d1d1e4844a5d3b76e8c15bfce%29%3B%0A%20%20%20%20%20%20%20%20%20%20%20%20%0A%0A%20%20%20%20%20%20%20%20%20%20%20%20marker_ff8baa525ff242dfba7bc617b52c50d8.bindPopup%28popup_0bacc6051f6d430a80c1170916af6fcc%29%0A%20%20%20%20%20%20%20%20%20%20%20%20%3B%0A%0A%20%20%20%20%20%20%20%20%20%20%20%20%0A%20%20%20%20%20%20%20%20%0A%20%20%20%20%0A%20%20%20%20%20%20%20%20var%20marker_926a30d6ff1f4ff299d4483f0bc5c0a6%20%3D%20L.marker%28%0A%20%20%20%20%20%20%20%20%20%20%20%20%5B43.76856%2C%2011.26649%5D%2C%0A%20%20%20%20%20%20%20%20%20%20%20%20%7B%0A%20%20%20%20%20%20%20%20%20%20%20%20%20%20%20%20icon%3A%20new%20L.Icon.Default%28%29%2C%0A%20%20%20%20%20%20%20%20%20%20%20%20%20%20%20%20%7D%0A%20%20%20%20%20%20%20%20%20%20%20%20%29.addTo%28map_146cd8147123498484976a07e362f27f%29%3B%0A%20%20%20%20%20%20%20%20%0A%20%20%20%20%0A%20%20%20%20%20%20%20%20%20%20%20%20var%20popup_f654cd65233e4a179294dd826097eb3c%20%3D%20L.popup%28%7BmaxWidth%3A%20%27100%25%27%0A%20%20%20%20%20%20%20%20%20%20%20%20%0A%20%20%20%20%20%20%20%20%20%20%20%20%7D%29%3B%0A%0A%20%20%20%20%20%20%20%20%20%20%20%20%0A%20%20%20%20%20%20%20%20%20%20%20%20%20%20%20%20var%20html_536843e2cb49473191a0a41886bc67c3%20%3D%20%24%28%60%3Cdiv%20id%3D%22html_536843e2cb49473191a0a41886bc67c3%22%20style%3D%22width%3A%20100.0%25%3B%20height%3A%20100.0%25%3B%22%3E%20%20%20%20%20%20%20%20%20%3Cul%3E%20%20%20%20%20%20%20%20%20%20%20%20%20%3Cli%3E%3Cstrong%3EID%3A%20%3C/strong%3E3072%3C/li%3E%20%20%20%20%20%20%20%20%20%20%20%20%20%3Cli%3E%3Cstrong%3ESource%3A%20%3C/strong%3EHenderson%20P%26C%20%23103%3C/li%3E%20%20%20%20%20%20%20%20%20%20%20%20%20%3Cli%3E%3Cstrong%3EOccupation%3A%20%3C/strong%3Econtadino%3C/li%3E%20%20%20%20%20%20%20%20%20%3Cul%3E%20%20%20%20%20%3C/div%3E%60%29%5B0%5D%3B%0A%20%20%20%20%20%20%20%20%20%20%20%20%20%20%20%20popup_f654cd65233e4a179294dd826097eb3c.setContent%28html_536843e2cb49473191a0a41886bc67c3%29%3B%0A%20%20%20%20%20%20%20%20%20%20%20%20%0A%0A%20%20%20%20%20%20%20%20%20%20%20%20marker_926a30d6ff1f4ff299d4483f0bc5c0a6.bindPopup%28popup_f654cd65233e4a179294dd826097eb3c%29%0A%20%20%20%20%20%20%20%20%20%20%20%20%3B%0A%0A%20%20%20%20%20%20%20%20%20%20%20%20%0A%20%20%20%20%20%20%20%20%0A%20%20%20%20%0A%20%20%20%20%20%20%20%20var%20marker_e6eef890c0eb4e918187a51282b441f9%20%3D%20L.marker%28%0A%20%20%20%20%20%20%20%20%20%20%20%20%5B43.76807%2C%2011.2658%5D%2C%0A%20%20%20%20%20%20%20%20%20%20%20%20%7B%0A%20%20%20%20%20%20%20%20%20%20%20%20%20%20%20%20icon%3A%20new%20L.Icon.Default%28%29%2C%0A%20%20%20%20%20%20%20%20%20%20%20%20%20%20%20%20%7D%0A%20%20%20%20%20%20%20%20%20%20%20%20%29.addTo%28map_146cd8147123498484976a07e362f27f%29%3B%0A%20%20%20%20%20%20%20%20%0A%20%20%20%20%0A%20%20%20%20%20%20%20%20%20%20%20%20var%20popup_92226f49f54046908963c04bea40b48e%20%3D%20L.popup%28%7BmaxWidth%3A%20%27100%25%27%0A%20%20%20%20%20%20%20%20%20%20%20%20%0A%20%20%20%20%20%20%20%20%20%20%20%20%7D%29%3B%0A%0A%20%20%20%20%20%20%20%20%20%20%20%20%0A%20%20%20%20%20%20%20%20%20%20%20%20%20%20%20%20var%20html_a1f9ab85de2f4fa9bc5d367c0d7372d3%20%3D%20%24%28%60%3Cdiv%20id%3D%22html_a1f9ab85de2f4fa9bc5d367c0d7372d3%22%20style%3D%22width%3A%20100.0%25%3B%20height%3A%20100.0%25%3B%22%3E%20%20%20%20%20%20%20%20%20%3Cul%3E%20%20%20%20%20%20%20%20%20%20%20%20%20%3Cli%3E%3Cstrong%3EID%3A%20%3C/strong%3E3203%3C/li%3E%20%20%20%20%20%20%20%20%20%20%20%20%20%3Cli%3E%3Cstrong%3ESource%3A%20%3C/strong%3EHenderson%20P%26C%20%23103%3C/li%3E%20%20%20%20%20%20%20%20%20%20%20%20%20%3Cli%3E%3Cstrong%3EOccupation%3A%20%3C/strong%3Eprete%20e%20cappellano%3C/li%3E%20%20%20%20%20%20%20%20%20%3Cul%3E%20%20%20%20%20%3C/div%3E%60%29%5B0%5D%3B%0A%20%20%20%20%20%20%20%20%20%20%20%20%20%20%20%20popup_92226f49f54046908963c04bea40b48e.setContent%28html_a1f9ab85de2f4fa9bc5d367c0d7372d3%29%3B%0A%20%20%20%20%20%20%20%20%20%20%20%20%0A%0A%20%20%20%20%20%20%20%20%20%20%20%20marker_e6eef890c0eb4e918187a51282b441f9.bindPopup%28popup_92226f49f54046908963c04bea40b48e%29%0A%20%20%20%20%20%20%20%20%20%20%20%20%3B%0A%0A%20%20%20%20%20%20%20%20%20%20%20%20%0A%20%20%20%20%20%20%20%20%0A%20%20%20%20%0A%20%20%20%20%20%20%20%20var%20marker_cb4d8cc628654e32b146e22d95a2d5bb%20%3D%20L.marker%28%0A%20%20%20%20%20%20%20%20%20%20%20%20%5B43.772771%2C%2011.253926%5D%2C%0A%20%20%20%20%20%20%20%20%20%20%20%20%7B%0A%20%20%20%20%20%20%20%20%20%20%20%20%20%20%20%20icon%3A%20new%20L.Icon.Default%28%29%2C%0A%20%20%20%20%20%20%20%20%20%20%20%20%20%20%20%20%7D%0A%20%20%20%20%20%20%20%20%20%20%20%20%29.addTo%28map_146cd8147123498484976a07e362f27f%29%3B%0A%20%20%20%20%20%20%20%20%0A%20%20%20%20%0A%20%20%20%20%20%20%20%20%20%20%20%20var%20popup_b9020b04e69b4f10bcacbcfa06aef38f%20%3D%20L.popup%28%7BmaxWidth%3A%20%27100%25%27%0A%20%20%20%20%20%20%20%20%20%20%20%20%0A%20%20%20%20%20%20%20%20%20%20%20%20%7D%29%3B%0A%0A%20%20%20%20%20%20%20%20%20%20%20%20%0A%20%20%20%20%20%20%20%20%20%20%20%20%20%20%20%20var%20html_ddc4cd2637e0485f9318b67633ad0455%20%3D%20%24%28%60%3Cdiv%20id%3D%22html_ddc4cd2637e0485f9318b67633ad0455%22%20style%3D%22width%3A%20100.0%25%3B%20height%3A%20100.0%25%3B%22%3E%20%20%20%20%20%20%20%20%20%3Cul%3E%20%20%20%20%20%20%20%20%20%20%20%20%20%3Cli%3E%3Cstrong%3EID%3A%20%3C/strong%3E1612%3C/li%3E%20%20%20%20%20%20%20%20%20%20%20%20%20%3Cli%3E%3Cstrong%3ESource%3A%20%3C/strong%3EHenderson%20P%26C%20%23103%3C/li%3E%20%20%20%20%20%20%20%20%20%20%20%20%20%3Cli%3E%3Cstrong%3EOccupation%3A%20%3C/strong%3Erigattiere%3C/li%3E%20%20%20%20%20%20%20%20%20%3Cul%3E%20%20%20%20%20%3C/div%3E%60%29%5B0%5D%3B%0A%20%20%20%20%20%20%20%20%20%20%20%20%20%20%20%20popup_b9020b04e69b4f10bcacbcfa06aef38f.setContent%28html_ddc4cd2637e0485f9318b67633ad0455%29%3B%0A%20%20%20%20%20%20%20%20%20%20%20%20%0A%0A%20%20%20%20%20%20%20%20%20%20%20%20marker_cb4d8cc628654e32b146e22d95a2d5bb.bindPopup%28popup_b9020b04e69b4f10bcacbcfa06aef38f%29%0A%20%20%20%20%20%20%20%20%20%20%20%20%3B%0A%0A%20%20%20%20%20%20%20%20%20%20%20%20%0A%20%20%20%20%20%20%20%20%0A%20%20%20%20%0A%20%20%20%20%20%20%20%20var%20marker_14f568023aaa480ab1e805aecad617a6%20%3D%20L.marker%28%0A%20%20%20%20%20%20%20%20%20%20%20%20%5B43.76871188%2C%2011.24295313%5D%2C%0A%20%20%20%20%20%20%20%20%20%20%20%20%7B%0A%20%20%20%20%20%20%20%20%20%20%20%20%20%20%20%20icon%3A%20new%20L.Icon.Default%28%29%2C%0A%20%20%20%20%20%20%20%20%20%20%20%20%20%20%20%20%7D%0A%20%20%20%20%20%20%20%20%20%20%20%20%29.addTo%28map_146cd8147123498484976a07e362f27f%29%3B%0A%20%20%20%20%20%20%20%20%0A%20%20%20%20%0A%20%20%20%20%20%20%20%20%20%20%20%20var%20popup_201d3d75c37646c792a7f3925c8d4100%20%3D%20L.popup%28%7BmaxWidth%3A%20%27100%25%27%0A%20%20%20%20%20%20%20%20%20%20%20%20%0A%20%20%20%20%20%20%20%20%20%20%20%20%7D%29%3B%0A%0A%20%20%20%20%20%20%20%20%20%20%20%20%0A%20%20%20%20%20%20%20%20%20%20%20%20%20%20%20%20var%20html_1c854f58b805464c9a5a94c8a0248b43%20%3D%20%24%28%60%3Cdiv%20id%3D%22html_1c854f58b805464c9a5a94c8a0248b43%22%20style%3D%22width%3A%20100.0%25%3B%20height%3A%20100.0%25%3B%22%3E%20%20%20%20%20%20%20%20%20%3Cul%3E%20%20%20%20%20%20%20%20%20%20%20%20%20%3Cli%3E%3Cstrong%3EID%3A%20%3C/strong%3E8432%3C/li%3E%20%20%20%20%20%20%20%20%20%20%20%20%20%3Cli%3E%3Cstrong%3ESource%3A%20%3C/strong%3EHenderson%20P%26C%20%23103%3C/li%3E%20%20%20%20%20%20%20%20%20%20%20%20%20%3Cli%3E%3Cstrong%3EOccupation%3A%20%3C/strong%3Emerciaio%3C/li%3E%20%20%20%20%20%20%20%20%20%3Cul%3E%20%20%20%20%20%3C/div%3E%60%29%5B0%5D%3B%0A%20%20%20%20%20%20%20%20%20%20%20%20%20%20%20%20popup_201d3d75c37646c792a7f3925c8d4100.setContent%28html_1c854f58b805464c9a5a94c8a0248b43%29%3B%0A%20%20%20%20%20%20%20%20%20%20%20%20%0A%0A%20%20%20%20%20%20%20%20%20%20%20%20marker_14f568023aaa480ab1e805aecad617a6.bindPopup%28popup_201d3d75c37646c792a7f3925c8d4100%29%0A%20%20%20%20%20%20%20%20%20%20%20%20%3B%0A%0A%20%20%20%20%20%20%20%20%20%20%20%20%0A%20%20%20%20%20%20%20%20%0A%20%20%20%20%0A%20%20%20%20%20%20%20%20var%20marker_ec5829ced84449a6bdafa4c161443c21%20%3D%20L.marker%28%0A%20%20%20%20%20%20%20%20%20%20%20%20%5B43.780074%2C%2011.258457%5D%2C%0A%20%20%20%20%20%20%20%20%20%20%20%20%7B%0A%20%20%20%20%20%20%20%20%20%20%20%20%20%20%20%20icon%3A%20new%20L.Icon.Default%28%29%2C%0A%20%20%20%20%20%20%20%20%20%20%20%20%20%20%20%20%7D%0A%20%20%20%20%20%20%20%20%20%20%20%20%29.addTo%28map_146cd8147123498484976a07e362f27f%29%3B%0A%20%20%20%20%20%20%20%20%0A%20%20%20%20%0A%20%20%20%20%20%20%20%20%20%20%20%20var%20popup_029e6c41fa5a4311b93b966720cdccf7%20%3D%20L.popup%28%7BmaxWidth%3A%20%27100%25%27%0A%20%20%20%20%20%20%20%20%20%20%20%20%0A%20%20%20%20%20%20%20%20%20%20%20%20%7D%29%3B%0A%0A%20%20%20%20%20%20%20%20%20%20%20%20%0A%20%20%20%20%20%20%20%20%20%20%20%20%20%20%20%20var%20html_202d2b79cd4c4a30bb698699a9733cbd%20%3D%20%24%28%60%3Cdiv%20id%3D%22html_202d2b79cd4c4a30bb698699a9733cbd%22%20style%3D%22width%3A%20100.0%25%3B%20height%3A%20100.0%25%3B%22%3E%20%20%20%20%20%20%20%20%20%3Cul%3E%20%20%20%20%20%20%20%20%20%20%20%20%20%3Cli%3E%3Cstrong%3EID%3A%20%3C/strong%3E68%3C/li%3E%20%20%20%20%20%20%20%20%20%20%20%20%20%3Cli%3E%3Cstrong%3ESource%3A%20%3C/strong%3EHenderson%20P%26C%20%2387%20%5Bfemale%20tenants%3B%20see%20location%5D%3C/li%3E%20%20%20%20%20%20%20%20%20%20%20%20%20%3Cli%3E%3Cstrong%3EOccupation%3A%20%3C/strong%3Enan%3C/li%3E%20%20%20%20%20%20%20%20%20%3Cul%3E%20%20%20%20%20%3C/div%3E%60%29%5B0%5D%3B%0A%20%20%20%20%20%20%20%20%20%20%20%20%20%20%20%20popup_029e6c41fa5a4311b93b966720cdccf7.setContent%28html_202d2b79cd4c4a30bb698699a9733cbd%29%3B%0A%20%20%20%20%20%20%20%20%20%20%20%20%0A%0A%20%20%20%20%20%20%20%20%20%20%20%20marker_ec5829ced84449a6bdafa4c161443c21.bindPopup%28popup_029e6c41fa5a4311b93b966720cdccf7%29%0A%20%20%20%20%20%20%20%20%20%20%20%20%3B%0A%0A%20%20%20%20%20%20%20%20%20%20%20%20%0A%20%20%20%20%20%20%20%20%0A%20%20%20%20%0A%20%20%20%20%20%20%20%20var%20marker_ef7249470b504367abfb5b89a6161f63%20%3D%20L.marker%28%0A%20%20%20%20%20%20%20%20%20%20%20%20%5B43.78001%2C%2011.258343%5D%2C%0A%20%20%20%20%20%20%20%20%20%20%20%20%7B%0A%20%20%20%20%20%20%20%20%20%20%20%20%20%20%20%20icon%3A%20new%20L.Icon.Default%28%29%2C%0A%20%20%20%20%20%20%20%20%20%20%20%20%20%20%20%20%7D%0A%20%20%20%20%20%20%20%20%20%20%20%20%29.addTo%28map_146cd8147123498484976a07e362f27f%29%3B%0A%20%20%20%20%20%20%20%20%0A%20%20%20%20%0A%20%20%20%20%20%20%20%20%20%20%20%20var%20popup_4a77b8f120384be884dde8a88d604a4c%20%3D%20L.popup%28%7BmaxWidth%3A%20%27100%25%27%0A%20%20%20%20%20%20%20%20%20%20%20%20%0A%20%20%20%20%20%20%20%20%20%20%20%20%7D%29%3B%0A%0A%20%20%20%20%20%20%20%20%20%20%20%20%0A%20%20%20%20%20%20%20%20%20%20%20%20%20%20%20%20var%20html_a86a6bf735fb4689923a2b62ad606a4b%20%3D%20%24%28%60%3Cdiv%20id%3D%22html_a86a6bf735fb4689923a2b62ad606a4b%22%20style%3D%22width%3A%20100.0%25%3B%20height%3A%20100.0%25%3B%22%3E%20%20%20%20%20%20%20%20%20%3Cul%3E%20%20%20%20%20%20%20%20%20%20%20%20%20%3Cli%3E%3Cstrong%3EID%3A%20%3C/strong%3E248%3C/li%3E%20%20%20%20%20%20%20%20%20%20%20%20%20%3Cli%3E%3Cstrong%3ESource%3A%20%3C/strong%3EHenderson%20P%26C%20%2387%3C/li%3E%20%20%20%20%20%20%20%20%20%20%20%20%20%3Cli%3E%3Cstrong%3EOccupation%3A%20%3C/strong%3Enan%3C/li%3E%20%20%20%20%20%20%20%20%20%3Cul%3E%20%20%20%20%20%3C/div%3E%60%29%5B0%5D%3B%0A%20%20%20%20%20%20%20%20%20%20%20%20%20%20%20%20popup_4a77b8f120384be884dde8a88d604a4c.setContent%28html_a86a6bf735fb4689923a2b62ad606a4b%29%3B%0A%20%20%20%20%20%20%20%20%20%20%20%20%0A%0A%20%20%20%20%20%20%20%20%20%20%20%20marker_ef7249470b504367abfb5b89a6161f63.bindPopup%28popup_4a77b8f120384be884dde8a88d604a4c%29%0A%20%20%20%20%20%20%20%20%20%20%20%20%3B%0A%0A%20%20%20%20%20%20%20%20%20%20%20%20%0A%20%20%20%20%20%20%20%20%0A%20%20%20%20%0A%20%20%20%20%20%20%20%20var%20marker_d74a0affabaa46b9910f9e56e24a0419%20%3D%20L.marker%28%0A%20%20%20%20%20%20%20%20%20%20%20%20%5B43.78006019%2C%2011.25829352%5D%2C%0A%20%20%20%20%20%20%20%20%20%20%20%20%7B%0A%20%20%20%20%20%20%20%20%20%20%20%20%20%20%20%20icon%3A%20new%20L.Icon.Default%28%29%2C%0A%20%20%20%20%20%20%20%20%20%20%20%20%20%20%20%20%7D%0A%20%20%20%20%20%20%20%20%20%20%20%20%29.addTo%28map_146cd8147123498484976a07e362f27f%29%3B%0A%20%20%20%20%20%20%20%20%0A%20%20%20%20%0A%20%20%20%20%20%20%20%20%20%20%20%20var%20popup_b33c8d24f54c4d5da20665e944a95cd9%20%3D%20L.popup%28%7BmaxWidth%3A%20%27100%25%27%0A%20%20%20%20%20%20%20%20%20%20%20%20%0A%20%20%20%20%20%20%20%20%20%20%20%20%7D%29%3B%0A%0A%20%20%20%20%20%20%20%20%20%20%20%20%0A%20%20%20%20%20%20%20%20%20%20%20%20%20%20%20%20var%20html_cb5830bd888e4ae2aba1b4a0885d9757%20%3D%20%24%28%60%3Cdiv%20id%3D%22html_cb5830bd888e4ae2aba1b4a0885d9757%22%20style%3D%22width%3A%20100.0%25%3B%20height%3A%20100.0%25%3B%22%3E%20%20%20%20%20%20%20%20%20%3Cul%3E%20%20%20%20%20%20%20%20%20%20%20%20%20%3Cli%3E%3Cstrong%3EID%3A%20%3C/strong%3E717%3C/li%3E%20%20%20%20%20%20%20%20%20%20%20%20%20%3Cli%3E%3Cstrong%3ESource%3A%20%3C/strong%3EHenderson%20P%26C%20%2387%3C/li%3E%20%20%20%20%20%20%20%20%20%20%20%20%20%3Cli%3E%3Cstrong%3EOccupation%3A%20%3C/strong%3Enan%3C/li%3E%20%20%20%20%20%20%20%20%20%3Cul%3E%20%20%20%20%20%3C/div%3E%60%29%5B0%5D%3B%0A%20%20%20%20%20%20%20%20%20%20%20%20%20%20%20%20popup_b33c8d24f54c4d5da20665e944a95cd9.setContent%28html_cb5830bd888e4ae2aba1b4a0885d9757%29%3B%0A%20%20%20%20%20%20%20%20%20%20%20%20%0A%0A%20%20%20%20%20%20%20%20%20%20%20%20marker_d74a0affabaa46b9910f9e56e24a0419.bindPopup%28popup_b33c8d24f54c4d5da20665e944a95cd9%29%0A%20%20%20%20%20%20%20%20%20%20%20%20%3B%0A%0A%20%20%20%20%20%20%20%20%20%20%20%20%0A%20%20%20%20%20%20%20%20%0A%20%20%20%20%0A%20%20%20%20%20%20%20%20var%20marker_85170a72f3524bd5bc6cb0a883aaba08%20%3D%20L.marker%28%0A%20%20%20%20%20%20%20%20%20%20%20%20%5B43.775658%2C%2011.25233071%5D%2C%0A%20%20%20%20%20%20%20%20%20%20%20%20%7B%0A%20%20%20%20%20%20%20%20%20%20%20%20%20%20%20%20icon%3A%20new%20L.Icon.Default%28%29%2C%0A%20%20%20%20%20%20%20%20%20%20%20%20%20%20%20%20%7D%0A%20%20%20%20%20%20%20%20%20%20%20%20%29.addTo%28map_146cd8147123498484976a07e362f27f%29%3B%0A%20%20%20%20%20%20%20%20%0A%20%20%20%20%0A%20%20%20%20%20%20%20%20%20%20%20%20var%20popup_c8308d2a682d496aba624d282a51a7b6%20%3D%20L.popup%28%7BmaxWidth%3A%20%27100%25%27%0A%20%20%20%20%20%20%20%20%20%20%20%20%0A%20%20%20%20%20%20%20%20%20%20%20%20%7D%29%3B%0A%0A%20%20%20%20%20%20%20%20%20%20%20%20%0A%20%20%20%20%20%20%20%20%20%20%20%20%20%20%20%20var%20html_b90745a4da89426289bc2518e0541d6a%20%3D%20%24%28%60%3Cdiv%20id%3D%22html_b90745a4da89426289bc2518e0541d6a%22%20style%3D%22width%3A%20100.0%25%3B%20height%3A%20100.0%25%3B%22%3E%20%20%20%20%20%20%20%20%20%3Cul%3E%20%20%20%20%20%20%20%20%20%20%20%20%20%3Cli%3E%3Cstrong%3EID%3A%20%3C/strong%3E245%3C/li%3E%20%20%20%20%20%20%20%20%20%20%20%20%20%3Cli%3E%3Cstrong%3ESource%3A%20%3C/strong%3EHenderson%20P%26C%20104%20%5Bvia%20S%20Jacopo%20in%20Campo%20Corbelino%5D%3C/li%3E%20%20%20%20%20%20%20%20%20%20%20%20%20%3Cli%3E%3Cstrong%3EOccupation%3A%20%3C/strong%3Enan%3C/li%3E%20%20%20%20%20%20%20%20%20%3Cul%3E%20%20%20%20%20%3C/div%3E%60%29%5B0%5D%3B%0A%20%20%20%20%20%20%20%20%20%20%20%20%20%20%20%20popup_c8308d2a682d496aba624d282a51a7b6.setContent%28html_b90745a4da89426289bc2518e0541d6a%29%3B%0A%20%20%20%20%20%20%20%20%20%20%20%20%0A%0A%20%20%20%20%20%20%20%20%20%20%20%20marker_85170a72f3524bd5bc6cb0a883aaba08.bindPopup%28popup_c8308d2a682d496aba624d282a51a7b6%29%0A%20%20%20%20%20%20%20%20%20%20%20%20%3B%0A%0A%20%20%20%20%20%20%20%20%20%20%20%20%0A%20%20%20%20%20%20%20%20%0A%20%20%20%20%0A%20%20%20%20%20%20%20%20var%20marker_aed56db9eea54d97b6c440762426bdb9%20%3D%20L.marker%28%0A%20%20%20%20%20%20%20%20%20%20%20%20%5B43.76999571%2C%2011.26450286%5D%2C%0A%20%20%20%20%20%20%20%20%20%20%20%20%7B%0A%20%20%20%20%20%20%20%20%20%20%20%20%20%20%20%20icon%3A%20new%20L.Icon.Default%28%29%2C%0A%20%20%20%20%20%20%20%20%20%20%20%20%20%20%20%20%7D%0A%20%20%20%20%20%20%20%20%20%20%20%20%29.addTo%28map_146cd8147123498484976a07e362f27f%29%3B%0A%20%20%20%20%20%20%20%20%0A%20%20%20%20%0A%20%20%20%20%20%20%20%20%20%20%20%20var%20popup_652bddadd0a945f9a211f51c18adbf8a%20%3D%20L.popup%28%7BmaxWidth%3A%20%27100%25%27%0A%20%20%20%20%20%20%20%20%20%20%20%20%0A%20%20%20%20%20%20%20%20%20%20%20%20%7D%29%3B%0A%0A%20%20%20%20%20%20%20%20%20%20%20%20%0A%20%20%20%20%20%20%20%20%20%20%20%20%20%20%20%20var%20html_e649cbb1e7aa4f899ed3c2bb0089dd19%20%3D%20%24%28%60%3Cdiv%20id%3D%22html_e649cbb1e7aa4f899ed3c2bb0089dd19%22%20style%3D%22width%3A%20100.0%25%3B%20height%3A%20100.0%25%3B%22%3E%20%20%20%20%20%20%20%20%20%3Cul%3E%20%20%20%20%20%20%20%20%20%20%20%20%20%3Cli%3E%3Cstrong%3EID%3A%20%3C/strong%3E3291%3C/li%3E%20%20%20%20%20%20%20%20%20%20%20%20%20%3Cli%3E%3Cstrong%3ESource%3A%20%3C/strong%3EHenderson%20P%26C%20%23113%20%5Baddress%5D%3C/li%3E%20%20%20%20%20%20%20%20%20%20%20%20%20%3Cli%3E%3Cstrong%3EOccupation%3A%20%3C/strong%3Enan%3C/li%3E%20%20%20%20%20%20%20%20%20%3Cul%3E%20%20%20%20%20%3C/div%3E%60%29%5B0%5D%3B%0A%20%20%20%20%20%20%20%20%20%20%20%20%20%20%20%20popup_652bddadd0a945f9a211f51c18adbf8a.setContent%28html_e649cbb1e7aa4f899ed3c2bb0089dd19%29%3B%0A%20%20%20%20%20%20%20%20%20%20%20%20%0A%0A%20%20%20%20%20%20%20%20%20%20%20%20marker_aed56db9eea54d97b6c440762426bdb9.bindPopup%28popup_652bddadd0a945f9a211f51c18adbf8a%29%0A%20%20%20%20%20%20%20%20%20%20%20%20%3B%0A%0A%20%20%20%20%20%20%20%20%20%20%20%20%0A%20%20%20%20%20%20%20%20%0A%20%20%20%20%0A%20%20%20%20%20%20%20%20var%20marker_0f40770d7e9348f1a5f98a23ce49272f%20%3D%20L.marker%28%0A%20%20%20%20%20%20%20%20%20%20%20%20%5B43.777678%2C%2011.25840717%5D%2C%0A%20%20%20%20%20%20%20%20%20%20%20%20%7B%0A%20%20%20%20%20%20%20%20%20%20%20%20%20%20%20%20icon%3A%20new%20L.Icon.Default%28%29%2C%0A%20%20%20%20%20%20%20%20%20%20%20%20%20%20%20%20%7D%0A%20%20%20%20%20%20%20%20%20%20%20%20%29.addTo%28map_146cd8147123498484976a07e362f27f%29%3B%0A%20%20%20%20%20%20%20%20%0A%20%20%20%20%0A%20%20%20%20%20%20%20%20%20%20%20%20var%20popup_5c2df376a7e145f980fe0a9b5c7869c1%20%3D%20L.popup%28%7BmaxWidth%3A%20%27100%25%27%0A%20%20%20%20%20%20%20%20%20%20%20%20%0A%20%20%20%20%20%20%20%20%20%20%20%20%7D%29%3B%0A%0A%20%20%20%20%20%20%20%20%20%20%20%20%0A%20%20%20%20%20%20%20%20%20%20%20%20%20%20%20%20var%20html_5668a1ea0e344f1c8dbcd9a39fb16dd8%20%3D%20%24%28%60%3Cdiv%20id%3D%22html_5668a1ea0e344f1c8dbcd9a39fb16dd8%22%20style%3D%22width%3A%20100.0%25%3B%20height%3A%20100.0%25%3B%22%3E%20%20%20%20%20%20%20%20%20%3Cul%3E%20%20%20%20%20%20%20%20%20%20%20%20%20%3Cli%3E%3Cstrong%3EID%3A%20%3C/strong%3E1429%3C/li%3E%20%20%20%20%20%20%20%20%20%20%20%20%20%3Cli%3E%3Cstrong%3ESource%3A%20%3C/strong%3EHenderson%20P%26C%20%23113%20%5Baddress%5D%3C/li%3E%20%20%20%20%20%20%20%20%20%20%20%20%20%3Cli%3E%3Cstrong%3EOccupation%3A%20%3C/strong%3Enan%3C/li%3E%20%20%20%20%20%20%20%20%20%3Cul%3E%20%20%20%20%20%3C/div%3E%60%29%5B0%5D%3B%0A%20%20%20%20%20%20%20%20%20%20%20%20%20%20%20%20popup_5c2df376a7e145f980fe0a9b5c7869c1.setContent%28html_5668a1ea0e344f1c8dbcd9a39fb16dd8%29%3B%0A%20%20%20%20%20%20%20%20%20%20%20%20%0A%0A%20%20%20%20%20%20%20%20%20%20%20%20marker_0f40770d7e9348f1a5f98a23ce49272f.bindPopup%28popup_5c2df376a7e145f980fe0a9b5c7869c1%29%0A%20%20%20%20%20%20%20%20%20%20%20%20%3B%0A%0A%20%20%20%20%20%20%20%20%20%20%20%20%0A%20%20%20%20%20%20%20%20%0A%20%20%20%20%0A%20%20%20%20%20%20%20%20var%20marker_5ea6e6cbfd4e4504952eeb6d611aef60%20%3D%20L.marker%28%0A%20%20%20%20%20%20%20%20%20%20%20%20%5B43.76985%2C%2011.2661425%5D%2C%0A%20%20%20%20%20%20%20%20%20%20%20%20%7B%0A%20%20%20%20%20%20%20%20%20%20%20%20%20%20%20%20icon%3A%20new%20L.Icon.Default%28%29%2C%0A%20%20%20%20%20%20%20%20%20%20%20%20%20%20%20%20%7D%0A%20%20%20%20%20%20%20%20%20%20%20%20%29.addTo%28map_146cd8147123498484976a07e362f27f%29%3B%0A%20%20%20%20%20%20%20%20%0A%20%20%20%20%0A%20%20%20%20%20%20%20%20%20%20%20%20var%20popup_e9b46b1e406e44308f3a051ca7420f2c%20%3D%20L.popup%28%7BmaxWidth%3A%20%27100%25%27%0A%20%20%20%20%20%20%20%20%20%20%20%20%0A%20%20%20%20%20%20%20%20%20%20%20%20%7D%29%3B%0A%0A%20%20%20%20%20%20%20%20%20%20%20%20%0A%20%20%20%20%20%20%20%20%20%20%20%20%20%20%20%20var%20html_7637b9786bdf479eb35f6a1586cb4b5e%20%3D%20%24%28%60%3Cdiv%20id%3D%22html_7637b9786bdf479eb35f6a1586cb4b5e%22%20style%3D%22width%3A%20100.0%25%3B%20height%3A%20100.0%25%3B%22%3E%20%20%20%20%20%20%20%20%20%3Cul%3E%20%20%20%20%20%20%20%20%20%20%20%20%20%3Cli%3E%3Cstrong%3EID%3A%20%3C/strong%3E3025%3C/li%3E%20%20%20%20%20%20%20%20%20%20%20%20%20%3Cli%3E%3Cstrong%3ESource%3A%20%3C/strong%3EHenderson%20P%26C%20%23121%3F%20%20All%205%20these%20contiguous%20-%20by%20modern%20S.%20Ambrogio%20market%20on%20Via%20Visdomini%20where%20there%20was%20a%20ruined%20casolare%3C/li%3E%20%20%20%20%20%20%20%20%20%20%20%20%20%3Cli%3E%3Cstrong%3EOccupation%3A%20%3C/strong%3Enan%3C/li%3E%20%20%20%20%20%20%20%20%20%3Cul%3E%20%20%20%20%20%3C/div%3E%60%29%5B0%5D%3B%0A%20%20%20%20%20%20%20%20%20%20%20%20%20%20%20%20popup_e9b46b1e406e44308f3a051ca7420f2c.setContent%28html_7637b9786bdf479eb35f6a1586cb4b5e%29%3B%0A%20%20%20%20%20%20%20%20%20%20%20%20%0A%0A%20%20%20%20%20%20%20%20%20%20%20%20marker_5ea6e6cbfd4e4504952eeb6d611aef60.bindPopup%28popup_e9b46b1e406e44308f3a051ca7420f2c%29%0A%20%20%20%20%20%20%20%20%20%20%20%20%3B%0A%0A%20%20%20%20%20%20%20%20%20%20%20%20%0A%20%20%20%20%20%20%20%20%0A%20%20%20%20%0A%20%20%20%20%20%20%20%20var%20marker_2baa03694acc4ea7a20ea2ff40c737ae%20%3D%20L.marker%28%0A%20%20%20%20%20%20%20%20%20%20%20%20%5B43.76976%2C%2011.266095%5D%2C%0A%20%20%20%20%20%20%20%20%20%20%20%20%7B%0A%20%20%20%20%20%20%20%20%20%20%20%20%20%20%20%20icon%3A%20new%20L.Icon.Default%28%29%2C%0A%20%20%20%20%20%20%20%20%20%20%20%20%20%20%20%20%7D%0A%20%20%20%20%20%20%20%20%20%20%20%20%29.addTo%28map_146cd8147123498484976a07e362f27f%29%3B%0A%20%20%20%20%20%20%20%20%0A%20%20%20%20%0A%20%20%20%20%20%20%20%20%20%20%20%20var%20popup_b795f6ee0997495eafbba4a1186cc375%20%3D%20L.popup%28%7BmaxWidth%3A%20%27100%25%27%0A%20%20%20%20%20%20%20%20%20%20%20%20%0A%20%20%20%20%20%20%20%20%20%20%20%20%7D%29%3B%0A%0A%20%20%20%20%20%20%20%20%20%20%20%20%0A%20%20%20%20%20%20%20%20%20%20%20%20%20%20%20%20var%20html_40a5c2f1c62744098cf75385c13fbfa4%20%3D%20%24%28%60%3Cdiv%20id%3D%22html_40a5c2f1c62744098cf75385c13fbfa4%22%20style%3D%22width%3A%20100.0%25%3B%20height%3A%20100.0%25%3B%22%3E%20%20%20%20%20%20%20%20%20%3Cul%3E%20%20%20%20%20%20%20%20%20%20%20%20%20%3Cli%3E%3Cstrong%3EID%3A%20%3C/strong%3E3044%3C/li%3E%20%20%20%20%20%20%20%20%20%20%20%20%20%3Cli%3E%3Cstrong%3ESource%3A%20%3C/strong%3EHenderson%20P%26C%20%23121%3F%20-%20All%205%20these%20contiguous%20-%20by%20modern%20S.%20Ambrogio%20market%20on%20Via%20Visdomini%20where%20there%20was%20a%20ruined%20casolare%3C/li%3E%20%20%20%20%20%20%20%20%20%20%20%20%20%3Cli%3E%3Cstrong%3EOccupation%3A%20%3C/strong%3Enan%3C/li%3E%20%20%20%20%20%20%20%20%20%3Cul%3E%20%20%20%20%20%3C/div%3E%60%29%5B0%5D%3B%0A%20%20%20%20%20%20%20%20%20%20%20%20%20%20%20%20popup_b795f6ee0997495eafbba4a1186cc375.setContent%28html_40a5c2f1c62744098cf75385c13fbfa4%29%3B%0A%20%20%20%20%20%20%20%20%20%20%20%20%0A%0A%20%20%20%20%20%20%20%20%20%20%20%20marker_2baa03694acc4ea7a20ea2ff40c737ae.bindPopup%28popup_b795f6ee0997495eafbba4a1186cc375%29%0A%20%20%20%20%20%20%20%20%20%20%20%20%3B%0A%0A%20%20%20%20%20%20%20%20%20%20%20%20%0A%20%20%20%20%20%20%20%20%0A%20%20%20%20%0A%20%20%20%20%20%20%20%20var%20marker_e0624853047f43a9afafe96bd672eebd%20%3D%20L.marker%28%0A%20%20%20%20%20%20%20%20%20%20%20%20%5B43.76967%2C%2011.2660475%5D%2C%0A%20%20%20%20%20%20%20%20%20%20%20%20%7B%0A%20%20%20%20%20%20%20%20%20%20%20%20%20%20%20%20icon%3A%20new%20L.Icon.Default%28%29%2C%0A%20%20%20%20%20%20%20%20%20%20%20%20%20%20%20%20%7D%0A%20%20%20%20%20%20%20%20%20%20%20%20%29.addTo%28map_146cd8147123498484976a07e362f27f%29%3B%0A%20%20%20%20%20%20%20%20%0A%20%20%20%20%0A%20%20%20%20%20%20%20%20%20%20%20%20var%20popup_f1f2d82bbe014dd8b86b03b8aa80cb19%20%3D%20L.popup%28%7BmaxWidth%3A%20%27100%25%27%0A%20%20%20%20%20%20%20%20%20%20%20%20%0A%20%20%20%20%20%20%20%20%20%20%20%20%7D%29%3B%0A%0A%20%20%20%20%20%20%20%20%20%20%20%20%0A%20%20%20%20%20%20%20%20%20%20%20%20%20%20%20%20var%20html_40a54128945c4f30abf2339a6105d512%20%3D%20%24%28%60%3Cdiv%20id%3D%22html_40a54128945c4f30abf2339a6105d512%22%20style%3D%22width%3A%20100.0%25%3B%20height%3A%20100.0%25%3B%22%3E%20%20%20%20%20%20%20%20%20%3Cul%3E%20%20%20%20%20%20%20%20%20%20%20%20%20%3Cli%3E%3Cstrong%3EID%3A%20%3C/strong%3E3082%3C/li%3E%20%20%20%20%20%20%20%20%20%20%20%20%20%3Cli%3E%3Cstrong%3ESource%3A%20%3C/strong%3EHenderson%20P%26C%20%23121%3F%20-%20All%205%20these%20contiguous%20-%20by%20modern%20S.%20Ambrogio%20market%20on%20Via%20Visdomini%20where%20there%20was%20a%20ruined%20casolare%3C/li%3E%20%20%20%20%20%20%20%20%20%20%20%20%20%3Cli%3E%3Cstrong%3EOccupation%3A%20%3C/strong%3Enan%3C/li%3E%20%20%20%20%20%20%20%20%20%3Cul%3E%20%20%20%20%20%3C/div%3E%60%29%5B0%5D%3B%0A%20%20%20%20%20%20%20%20%20%20%20%20%20%20%20%20popup_f1f2d82bbe014dd8b86b03b8aa80cb19.setContent%28html_40a54128945c4f30abf2339a6105d512%29%3B%0A%20%20%20%20%20%20%20%20%20%20%20%20%0A%0A%20%20%20%20%20%20%20%20%20%20%20%20marker_e0624853047f43a9afafe96bd672eebd.bindPopup%28popup_f1f2d82bbe014dd8b86b03b8aa80cb19%29%0A%20%20%20%20%20%20%20%20%20%20%20%20%3B%0A%0A%20%20%20%20%20%20%20%20%20%20%20%20%0A%20%20%20%20%20%20%20%20%0A%20%20%20%20%0A%20%20%20%20%20%20%20%20var%20marker_92f4ffdef37e4a6c83f9266aad1d8abf%20%3D%20L.marker%28%0A%20%20%20%20%20%20%20%20%20%20%20%20%5B43.76958%2C%2011.266%5D%2C%0A%20%20%20%20%20%20%20%20%20%20%20%20%7B%0A%20%20%20%20%20%20%20%20%20%20%20%20%20%20%20%20icon%3A%20new%20L.Icon.Default%28%29%2C%0A%20%20%20%20%20%20%20%20%20%20%20%20%20%20%20%20%7D%0A%20%20%20%20%20%20%20%20%20%20%20%20%29.addTo%28map_146cd8147123498484976a07e362f27f%29%3B%0A%20%20%20%20%20%20%20%20%0A%20%20%20%20%0A%20%20%20%20%20%20%20%20%20%20%20%20var%20popup_41bb8a0640b6469ca07c400842d9c24b%20%3D%20L.popup%28%7BmaxWidth%3A%20%27100%25%27%0A%20%20%20%20%20%20%20%20%20%20%20%20%0A%20%20%20%20%20%20%20%20%20%20%20%20%7D%29%3B%0A%0A%20%20%20%20%20%20%20%20%20%20%20%20%0A%20%20%20%20%20%20%20%20%20%20%20%20%20%20%20%20var%20html_7892420c8332452dafb4b472dc866685%20%3D%20%24%28%60%3Cdiv%20id%3D%22html_7892420c8332452dafb4b472dc866685%22%20style%3D%22width%3A%20100.0%25%3B%20height%3A%20100.0%25%3B%22%3E%20%20%20%20%20%20%20%20%20%3Cul%3E%20%20%20%20%20%20%20%20%20%20%20%20%20%3Cli%3E%3Cstrong%3EID%3A%20%3C/strong%3E3083%3C/li%3E%20%20%20%20%20%20%20%20%20%20%20%20%20%3Cli%3E%3Cstrong%3ESource%3A%20%3C/strong%3EHenderson%20P%26C%20%23121%3F%20-%20All%205%20these%20contiguous%20-%20by%20modern%20S.%20Ambrogio%20market%20on%20Via%20Visdomini%20where%20there%20was%20a%20ruined%20casolare%3C/li%3E%20%20%20%20%20%20%20%20%20%20%20%20%20%3Cli%3E%3Cstrong%3EOccupation%3A%20%3C/strong%3Emuratore%3C/li%3E%20%20%20%20%20%20%20%20%20%3Cul%3E%20%20%20%20%20%3C/div%3E%60%29%5B0%5D%3B%0A%20%20%20%20%20%20%20%20%20%20%20%20%20%20%20%20popup_41bb8a0640b6469ca07c400842d9c24b.setContent%28html_7892420c8332452dafb4b472dc866685%29%3B%0A%20%20%20%20%20%20%20%20%20%20%20%20%0A%0A%20%20%20%20%20%20%20%20%20%20%20%20marker_92f4ffdef37e4a6c83f9266aad1d8abf.bindPopup%28popup_41bb8a0640b6469ca07c400842d9c24b%29%0A%20%20%20%20%20%20%20%20%20%20%20%20%3B%0A%0A%20%20%20%20%20%20%20%20%20%20%20%20%0A%20%20%20%20%20%20%20%20%0A%20%20%20%20%0A%20%20%20%20%20%20%20%20var%20marker_1261bb7736da44418c1ca22af02fd675%20%3D%20L.marker%28%0A%20%20%20%20%20%20%20%20%20%20%20%20%5B43.76994%2C%2011.26619%5D%2C%0A%20%20%20%20%20%20%20%20%20%20%20%20%7B%0A%20%20%20%20%20%20%20%20%20%20%20%20%20%20%20%20icon%3A%20new%20L.Icon.Default%28%29%2C%0A%20%20%20%20%20%20%20%20%20%20%20%20%20%20%20%20%7D%0A%20%20%20%20%20%20%20%20%20%20%20%20%29.addTo%28map_146cd8147123498484976a07e362f27f%29%3B%0A%20%20%20%20%20%20%20%20%0A%20%20%20%20%0A%20%20%20%20%20%20%20%20%20%20%20%20var%20popup_d3552bb3ff6748d5a96997cd51429eb0%20%3D%20L.popup%28%7BmaxWidth%3A%20%27100%25%27%0A%20%20%20%20%20%20%20%20%20%20%20%20%0A%20%20%20%20%20%20%20%20%20%20%20%20%7D%29%3B%0A%0A%20%20%20%20%20%20%20%20%20%20%20%20%0A%20%20%20%20%20%20%20%20%20%20%20%20%20%20%20%20var%20html_d45fa5ddfab241da9309cc52e73dd954%20%3D%20%24%28%60%3Cdiv%20id%3D%22html_d45fa5ddfab241da9309cc52e73dd954%22%20style%3D%22width%3A%20100.0%25%3B%20height%3A%20100.0%25%3B%22%3E%20%20%20%20%20%20%20%20%20%3Cul%3E%20%20%20%20%20%20%20%20%20%20%20%20%20%3Cli%3E%3Cstrong%3EID%3A%20%3C/strong%3E3116%3C/li%3E%20%20%20%20%20%20%20%20%20%20%20%20%20%3Cli%3E%3Cstrong%3ESource%3A%20%3C/strong%3EHenderson%20P%26C%20%23121%3F%20-%20All%205%20these%20contiguous%20-%20by%20modern%20S.%20Ambrogio%20market%20on%20Via%20Visdomini%20where%20there%20was%20a%20ruined%20casolare%3C/li%3E%20%20%20%20%20%20%20%20%20%20%20%20%20%3Cli%3E%3Cstrong%3EOccupation%3A%20%3C/strong%3Etessitore%3C/li%3E%20%20%20%20%20%20%20%20%20%3Cul%3E%20%20%20%20%20%3C/div%3E%60%29%5B0%5D%3B%0A%20%20%20%20%20%20%20%20%20%20%20%20%20%20%20%20popup_d3552bb3ff6748d5a96997cd51429eb0.setContent%28html_d45fa5ddfab241da9309cc52e73dd954%29%3B%0A%20%20%20%20%20%20%20%20%20%20%20%20%0A%0A%20%20%20%20%20%20%20%20%20%20%20%20marker_1261bb7736da44418c1ca22af02fd675.bindPopup%28popup_d3552bb3ff6748d5a96997cd51429eb0%29%0A%20%20%20%20%20%20%20%20%20%20%20%20%3B%0A%0A%20%20%20%20%20%20%20%20%20%20%20%20%0A%20%20%20%20%20%20%20%20%0A%20%20%20%20%0A%20%20%20%20%20%20%20%20var%20marker_186e154b98214a75a07d920d590c93de%20%3D%20L.marker%28%0A%20%20%20%20%20%20%20%20%20%20%20%20%5B43.7731525%2C%2011.24989%5D%2C%0A%20%20%20%20%20%20%20%20%20%20%20%20%7B%0A%20%20%20%20%20%20%20%20%20%20%20%20%20%20%20%20icon%3A%20new%20L.Icon.Default%28%29%2C%0A%20%20%20%20%20%20%20%20%20%20%20%20%20%20%20%20%7D%0A%20%20%20%20%20%20%20%20%20%20%20%20%29.addTo%28map_146cd8147123498484976a07e362f27f%29%3B%0A%20%20%20%20%20%20%20%20%0A%20%20%20%20%0A%20%20%20%20%20%20%20%20%20%20%20%20var%20popup_b5a40438edcf4a569614c30e825ed4dc%20%3D%20L.popup%28%7BmaxWidth%3A%20%27100%25%27%0A%20%20%20%20%20%20%20%20%20%20%20%20%0A%20%20%20%20%20%20%20%20%20%20%20%20%7D%29%3B%0A%0A%20%20%20%20%20%20%20%20%20%20%20%20%0A%20%20%20%20%20%20%20%20%20%20%20%20%20%20%20%20var%20html_bfc0ef44993042dc9052d3dcf3bb14eb%20%3D%20%24%28%60%3Cdiv%20id%3D%22html_bfc0ef44993042dc9052d3dcf3bb14eb%22%20style%3D%22width%3A%20100.0%25%3B%20height%3A%20100.0%25%3B%22%3E%20%20%20%20%20%20%20%20%20%3Cul%3E%20%20%20%20%20%20%20%20%20%20%20%20%20%3Cli%3E%3Cstrong%3EID%3A%20%3C/strong%3E5751%3C/li%3E%20%20%20%20%20%20%20%20%20%20%20%20%20%3Cli%3E%3Cstrong%3ESource%3A%20%3C/strong%3EIn%20Piazza%20S%20Maria%20Novella%3B%20near%20one%20of%20S.%20Paolo%20Martire%3C/li%3E%20%20%20%20%20%20%20%20%20%20%20%20%20%3Cli%3E%3Cstrong%3EOccupation%3A%20%3C/strong%3Enan%3C/li%3E%20%20%20%20%20%20%20%20%20%3Cul%3E%20%20%20%20%20%3C/div%3E%60%29%5B0%5D%3B%0A%20%20%20%20%20%20%20%20%20%20%20%20%20%20%20%20popup_b5a40438edcf4a569614c30e825ed4dc.setContent%28html_bfc0ef44993042dc9052d3dcf3bb14eb%29%3B%0A%20%20%20%20%20%20%20%20%20%20%20%20%0A%0A%20%20%20%20%20%20%20%20%20%20%20%20marker_186e154b98214a75a07d920d590c93de.bindPopup%28popup_b5a40438edcf4a569614c30e825ed4dc%29%0A%20%20%20%20%20%20%20%20%20%20%20%20%3B%0A%0A%20%20%20%20%20%20%20%20%20%20%20%20%0A%20%20%20%20%20%20%20%20%0A%20%20%20%20%0A%20%20%20%20%20%20%20%20var%20marker_f18e76694a6a452dade51daf63f71088%20%3D%20L.marker%28%0A%20%20%20%20%20%20%20%20%20%20%20%20%5B43.777146%2C%2011.253746%5D%2C%0A%20%20%20%20%20%20%20%20%20%20%20%20%7B%0A%20%20%20%20%20%20%20%20%20%20%20%20%20%20%20%20icon%3A%20new%20L.Icon.Default%28%29%2C%0A%20%20%20%20%20%20%20%20%20%20%20%20%20%20%20%20%7D%0A%20%20%20%20%20%20%20%20%20%20%20%20%29.addTo%28map_146cd8147123498484976a07e362f27f%29%3B%0A%20%20%20%20%20%20%20%20%0A%20%20%20%20%0A%20%20%20%20%20%20%20%20%20%20%20%20var%20popup_4bf6df3855bd47b7bda5c130a6e866e1%20%3D%20L.popup%28%7BmaxWidth%3A%20%27100%25%27%0A%20%20%20%20%20%20%20%20%20%20%20%20%0A%20%20%20%20%20%20%20%20%20%20%20%20%7D%29%3B%0A%0A%20%20%20%20%20%20%20%20%20%20%20%20%0A%20%20%20%20%20%20%20%20%20%20%20%20%20%20%20%20var%20html_9ba6139332124273a808fa09efeabefe%20%3D%20%24%28%60%3Cdiv%20id%3D%22html_9ba6139332124273a808fa09efeabefe%22%20style%3D%22width%3A%20100.0%25%3B%20height%3A%20100.0%25%3B%22%3E%20%20%20%20%20%20%20%20%20%3Cul%3E%20%20%20%20%20%20%20%20%20%20%20%20%20%3Cli%3E%3Cstrong%3EID%3A%20%3C/strong%3E437%3C/li%3E%20%20%20%20%20%20%20%20%20%20%20%20%20%3Cli%3E%3Cstrong%3ESource%3A%20%3C/strong%3EHenderson%20P%26C%20%23138%3C/li%3E%20%20%20%20%20%20%20%20%20%20%20%20%20%3Cli%3E%3Cstrong%3EOccupation%3A%20%3C/strong%3Enan%3C/li%3E%20%20%20%20%20%20%20%20%20%3Cul%3E%20%20%20%20%20%3C/div%3E%60%29%5B0%5D%3B%0A%20%20%20%20%20%20%20%20%20%20%20%20%20%20%20%20popup_4bf6df3855bd47b7bda5c130a6e866e1.setContent%28html_9ba6139332124273a808fa09efeabefe%29%3B%0A%20%20%20%20%20%20%20%20%20%20%20%20%0A%0A%20%20%20%20%20%20%20%20%20%20%20%20marker_f18e76694a6a452dade51daf63f71088.bindPopup%28popup_4bf6df3855bd47b7bda5c130a6e866e1%29%0A%20%20%20%20%20%20%20%20%20%20%20%20%3B%0A%0A%20%20%20%20%20%20%20%20%20%20%20%20%0A%20%20%20%20%20%20%20%20%0A%20%20%20%20%0A%20%20%20%20%20%20%20%20var%20marker_f45b3475a7744186bfe2357150fc1b6a%20%3D%20L.marker%28%0A%20%20%20%20%20%20%20%20%20%20%20%20%5B43.775512%2C%2011.2525135%5D%2C%0A%20%20%20%20%20%20%20%20%20%20%20%20%7B%0A%20%20%20%20%20%20%20%20%20%20%20%20%20%20%20%20icon%3A%20new%20L.Icon.Default%28%29%2C%0A%20%20%20%20%20%20%20%20%20%20%20%20%20%20%20%20%7D%0A%20%20%20%20%20%20%20%20%20%20%20%20%29.addTo%28map_146cd8147123498484976a07e362f27f%29%3B%0A%20%20%20%20%20%20%20%20%0A%20%20%20%20%0A%20%20%20%20%20%20%20%20%20%20%20%20var%20popup_6af0de8e909442ba9a32b07081e20936%20%3D%20L.popup%28%7BmaxWidth%3A%20%27100%25%27%0A%20%20%20%20%20%20%20%20%20%20%20%20%0A%20%20%20%20%20%20%20%20%20%20%20%20%7D%29%3B%0A%0A%20%20%20%20%20%20%20%20%20%20%20%20%0A%20%20%20%20%20%20%20%20%20%20%20%20%20%20%20%20var%20html_fa9c81ef0d5c468c853a0ef91e213422%20%3D%20%24%28%60%3Cdiv%20id%3D%22html_fa9c81ef0d5c468c853a0ef91e213422%22%20style%3D%22width%3A%20100.0%25%3B%20height%3A%20100.0%25%3B%22%3E%20%20%20%20%20%20%20%20%20%3Cul%3E%20%20%20%20%20%20%20%20%20%20%20%20%20%3Cli%3E%3Cstrong%3EID%3A%20%3C/strong%3E753%3C/li%3E%20%20%20%20%20%20%20%20%20%20%20%20%20%3Cli%3E%3Cstrong%3ESource%3A%20%3C/strong%3EHenderson%20P%26C%20%23138%3C/li%3E%20%20%20%20%20%20%20%20%20%20%20%20%20%3Cli%3E%3Cstrong%3EOccupation%3A%20%3C/strong%3Ecappellaio%3C/li%3E%20%20%20%20%20%20%20%20%20%3Cul%3E%20%20%20%20%20%3C/div%3E%60%29%5B0%5D%3B%0A%20%20%20%20%20%20%20%20%20%20%20%20%20%20%20%20popup_6af0de8e909442ba9a32b07081e20936.setContent%28html_fa9c81ef0d5c468c853a0ef91e213422%29%3B%0A%20%20%20%20%20%20%20%20%20%20%20%20%0A%0A%20%20%20%20%20%20%20%20%20%20%20%20marker_f45b3475a7744186bfe2357150fc1b6a.bindPopup%28popup_6af0de8e909442ba9a32b07081e20936%29%0A%20%20%20%20%20%20%20%20%20%20%20%20%3B%0A%0A%20%20%20%20%20%20%20%20%20%20%20%20%0A%20%20%20%20%20%20%20%20%0A%20%20%20%20%0A%20%20%20%20%20%20%20%20var%20marker_b52f620ccd8d444d8cd7ebf66960180b%20%3D%20L.marker%28%0A%20%20%20%20%20%20%20%20%20%20%20%20%5B43.77555867%2C%2011.25144467%5D%2C%0A%20%20%20%20%20%20%20%20%20%20%20%20%7B%0A%20%20%20%20%20%20%20%20%20%20%20%20%20%20%20%20icon%3A%20new%20L.Icon.Default%28%29%2C%0A%20%20%20%20%20%20%20%20%20%20%20%20%20%20%20%20%7D%0A%20%20%20%20%20%20%20%20%20%20%20%20%29.addTo%28map_146cd8147123498484976a07e362f27f%29%3B%0A%20%20%20%20%20%20%20%20%0A%20%20%20%20%0A%20%20%20%20%20%20%20%20%20%20%20%20var%20popup_b1139b869eaf4665b48758690abb4f9c%20%3D%20L.popup%28%7BmaxWidth%3A%20%27100%25%27%0A%20%20%20%20%20%20%20%20%20%20%20%20%0A%20%20%20%20%20%20%20%20%20%20%20%20%7D%29%3B%0A%0A%20%20%20%20%20%20%20%20%20%20%20%20%0A%20%20%20%20%20%20%20%20%20%20%20%20%20%20%20%20var%20html_b448a22f2d0247fea7c34dec974a42ff%20%3D%20%24%28%60%3Cdiv%20id%3D%22html_b448a22f2d0247fea7c34dec974a42ff%22%20style%3D%22width%3A%20100.0%25%3B%20height%3A%20100.0%25%3B%22%3E%20%20%20%20%20%20%20%20%20%3Cul%3E%20%20%20%20%20%20%20%20%20%20%20%20%20%3Cli%3E%3Cstrong%3EID%3A%20%3C/strong%3E5701%3C/li%3E%20%20%20%20%20%20%20%20%20%20%20%20%20%3Cli%3E%3Cstrong%3ESource%3A%20%3C/strong%3EHenderson%20P%26C%20%23138%3C/li%3E%20%20%20%20%20%20%20%20%20%20%20%20%20%3Cli%3E%3Cstrong%3EOccupation%3A%20%3C/strong%3Enan%3C/li%3E%20%20%20%20%20%20%20%20%20%3Cul%3E%20%20%20%20%20%3C/div%3E%60%29%5B0%5D%3B%0A%20%20%20%20%20%20%20%20%20%20%20%20%20%20%20%20popup_b1139b869eaf4665b48758690abb4f9c.setContent%28html_b448a22f2d0247fea7c34dec974a42ff%29%3B%0A%20%20%20%20%20%20%20%20%20%20%20%20%0A%0A%20%20%20%20%20%20%20%20%20%20%20%20marker_b52f620ccd8d444d8cd7ebf66960180b.bindPopup%28popup_b1139b869eaf4665b48758690abb4f9c%29%0A%20%20%20%20%20%20%20%20%20%20%20%20%3B%0A%0A%20%20%20%20%20%20%20%20%20%20%20%20%0A%20%20%20%20%20%20%20%20%0A%20%20%20%20%0A%20%20%20%20%20%20%20%20var%20marker_f7b5eb3a779d48a78ab1aab6b56b7889%20%3D%20L.marker%28%0A%20%20%20%20%20%20%20%20%20%20%20%20%5B43.77542875%2C%2011.2513375%5D%2C%0A%20%20%20%20%20%20%20%20%20%20%20%20%7B%0A%20%20%20%20%20%20%20%20%20%20%20%20%20%20%20%20icon%3A%20new%20L.Icon.Default%28%29%2C%0A%20%20%20%20%20%20%20%20%20%20%20%20%20%20%20%20%7D%0A%20%20%20%20%20%20%20%20%20%20%20%20%29.addTo%28map_146cd8147123498484976a07e362f27f%29%3B%0A%20%20%20%20%20%20%20%20%0A%20%20%20%20%0A%20%20%20%20%20%20%20%20%20%20%20%20var%20popup_18e2ef09cf0d426fb412ec04dbb1dc09%20%3D%20L.popup%28%7BmaxWidth%3A%20%27100%25%27%0A%20%20%20%20%20%20%20%20%20%20%20%20%0A%20%20%20%20%20%20%20%20%20%20%20%20%7D%29%3B%0A%0A%20%20%20%20%20%20%20%20%20%20%20%20%0A%20%20%20%20%20%20%20%20%20%20%20%20%20%20%20%20var%20html_4b643ee8d6d24fd0b0d930f4ac2976fe%20%3D%20%24%28%60%3Cdiv%20id%3D%22html_4b643ee8d6d24fd0b0d930f4ac2976fe%22%20style%3D%22width%3A%20100.0%25%3B%20height%3A%20100.0%25%3B%22%3E%20%20%20%20%20%20%20%20%20%3Cul%3E%20%20%20%20%20%20%20%20%20%20%20%20%20%3Cli%3E%3Cstrong%3EID%3A%20%3C/strong%3E5817%3C/li%3E%20%20%20%20%20%20%20%20%20%20%20%20%20%3Cli%3E%3Cstrong%3ESource%3A%20%3C/strong%3EHenderson%20P%26C%20%23138%3C/li%3E%20%20%20%20%20%20%20%20%20%20%20%20%20%3Cli%3E%3Cstrong%3EOccupation%3A%20%3C/strong%3Enan%3C/li%3E%20%20%20%20%20%20%20%20%20%3Cul%3E%20%20%20%20%20%3C/div%3E%60%29%5B0%5D%3B%0A%20%20%20%20%20%20%20%20%20%20%20%20%20%20%20%20popup_18e2ef09cf0d426fb412ec04dbb1dc09.setContent%28html_4b643ee8d6d24fd0b0d930f4ac2976fe%29%3B%0A%20%20%20%20%20%20%20%20%20%20%20%20%0A%0A%20%20%20%20%20%20%20%20%20%20%20%20marker_f7b5eb3a779d48a78ab1aab6b56b7889.bindPopup%28popup_18e2ef09cf0d426fb412ec04dbb1dc09%29%0A%20%20%20%20%20%20%20%20%20%20%20%20%3B%0A%0A%20%20%20%20%20%20%20%20%20%20%20%20%0A%20%20%20%20%20%20%20%20%0A%20%20%20%20%0A%20%20%20%20%20%20%20%20var%20marker_992c398f1091417db690d9643d652233%20%3D%20L.marker%28%0A%20%20%20%20%20%20%20%20%20%20%20%20%5B43.77470667%2C%2011.25044667%5D%2C%0A%20%20%20%20%20%20%20%20%20%20%20%20%7B%0A%20%20%20%20%20%20%20%20%20%20%20%20%20%20%20%20icon%3A%20new%20L.Icon.Default%28%29%2C%0A%20%20%20%20%20%20%20%20%20%20%20%20%20%20%20%20%7D%0A%20%20%20%20%20%20%20%20%20%20%20%20%29.addTo%28map_146cd8147123498484976a07e362f27f%29%3B%0A%20%20%20%20%20%20%20%20%0A%20%20%20%20%0A%20%20%20%20%20%20%20%20%20%20%20%20var%20popup_00f85c77c132458a850215f4a07495e4%20%3D%20L.popup%28%7BmaxWidth%3A%20%27100%25%27%0A%20%20%20%20%20%20%20%20%20%20%20%20%0A%20%20%20%20%20%20%20%20%20%20%20%20%7D%29%3B%0A%0A%20%20%20%20%20%20%20%20%20%20%20%20%0A%20%20%20%20%20%20%20%20%20%20%20%20%20%20%20%20var%20html_99ace90e805d405baeeb9f0d03bcac0c%20%3D%20%24%28%60%3Cdiv%20id%3D%22html_99ace90e805d405baeeb9f0d03bcac0c%22%20style%3D%22width%3A%20100.0%25%3B%20height%3A%20100.0%25%3B%22%3E%20%20%20%20%20%20%20%20%20%3Cul%3E%20%20%20%20%20%20%20%20%20%20%20%20%20%3Cli%3E%3Cstrong%3EID%3A%20%3C/strong%3E5150%3C/li%3E%20%20%20%20%20%20%20%20%20%20%20%20%20%3Cli%3E%3Cstrong%3ESource%3A%20%3C/strong%3EHenderson%20P%26C%20%23138%3C/li%3E%20%20%20%20%20%20%20%20%20%20%20%20%20%3Cli%3E%3Cstrong%3EOccupation%3A%20%3C/strong%3Enan%3C/li%3E%20%20%20%20%20%20%20%20%20%3Cul%3E%20%20%20%20%20%3C/div%3E%60%29%5B0%5D%3B%0A%20%20%20%20%20%20%20%20%20%20%20%20%20%20%20%20popup_00f85c77c132458a850215f4a07495e4.setContent%28html_99ace90e805d405baeeb9f0d03bcac0c%29%3B%0A%20%20%20%20%20%20%20%20%20%20%20%20%0A%0A%20%20%20%20%20%20%20%20%20%20%20%20marker_992c398f1091417db690d9643d652233.bindPopup%28popup_00f85c77c132458a850215f4a07495e4%29%0A%20%20%20%20%20%20%20%20%20%20%20%20%3B%0A%0A%20%20%20%20%20%20%20%20%20%20%20%20%0A%20%20%20%20%20%20%20%20%0A%20%20%20%20%0A%20%20%20%20%20%20%20%20var%20marker_0ecde62812de459faacb6e9ad36c14e1%20%3D%20L.marker%28%0A%20%20%20%20%20%20%20%20%20%20%20%20%5B43.77730956%2C%2011.24912756%5D%2C%0A%20%20%20%20%20%20%20%20%20%20%20%20%7B%0A%20%20%20%20%20%20%20%20%20%20%20%20%20%20%20%20icon%3A%20new%20L.Icon.Default%28%29%2C%0A%20%20%20%20%20%20%20%20%20%20%20%20%20%20%20%20%7D%0A%20%20%20%20%20%20%20%20%20%20%20%20%29.addTo%28map_146cd8147123498484976a07e362f27f%29%3B%0A%20%20%20%20%20%20%20%20%0A%20%20%20%20%0A%20%20%20%20%20%20%20%20%20%20%20%20var%20popup_b89ef72a943e41a994a110e78119eb5c%20%3D%20L.popup%28%7BmaxWidth%3A%20%27100%25%27%0A%20%20%20%20%20%20%20%20%20%20%20%20%0A%20%20%20%20%20%20%20%20%20%20%20%20%7D%29%3B%0A%0A%20%20%20%20%20%20%20%20%20%20%20%20%0A%20%20%20%20%20%20%20%20%20%20%20%20%20%20%20%20var%20html_2dde6b3ea8044325af306da27bb0703f%20%3D%20%24%28%60%3Cdiv%20id%3D%22html_2dde6b3ea8044325af306da27bb0703f%22%20style%3D%22width%3A%20100.0%25%3B%20height%3A%20100.0%25%3B%22%3E%20%20%20%20%20%20%20%20%20%3Cul%3E%20%20%20%20%20%20%20%20%20%20%20%20%20%3Cli%3E%3Cstrong%3EID%3A%20%3C/strong%3E5287%3C/li%3E%20%20%20%20%20%20%20%20%20%20%20%20%20%3Cli%3E%3Cstrong%3ESource%3A%20%3C/strong%3EHenderson%20P%26C%20%23138%3C/li%3E%20%20%20%20%20%20%20%20%20%20%20%20%20%3Cli%3E%3Cstrong%3EOccupation%3A%20%3C/strong%3Epinzocara%3C/li%3E%20%20%20%20%20%20%20%20%20%3Cul%3E%20%20%20%20%20%3C/div%3E%60%29%5B0%5D%3B%0A%20%20%20%20%20%20%20%20%20%20%20%20%20%20%20%20popup_b89ef72a943e41a994a110e78119eb5c.setContent%28html_2dde6b3ea8044325af306da27bb0703f%29%3B%0A%20%20%20%20%20%20%20%20%20%20%20%20%0A%0A%20%20%20%20%20%20%20%20%20%20%20%20marker_0ecde62812de459faacb6e9ad36c14e1.bindPopup%28popup_b89ef72a943e41a994a110e78119eb5c%29%0A%20%20%20%20%20%20%20%20%20%20%20%20%3B%0A%0A%20%20%20%20%20%20%20%20%20%20%20%20%0A%20%20%20%20%20%20%20%20%0A%20%20%20%20%0A%20%20%20%20%20%20%20%20var%20marker_f14869e0a5994bd19138e0fef88be49b%20%3D%20L.marker%28%0A%20%20%20%20%20%20%20%20%20%20%20%20%5B43.76874225%2C%2011.24285775%5D%2C%0A%20%20%20%20%20%20%20%20%20%20%20%20%7B%0A%20%20%20%20%20%20%20%20%20%20%20%20%20%20%20%20icon%3A%20new%20L.Icon.Default%28%29%2C%0A%20%20%20%20%20%20%20%20%20%20%20%20%20%20%20%20%7D%0A%20%20%20%20%20%20%20%20%20%20%20%20%29.addTo%28map_146cd8147123498484976a07e362f27f%29%3B%0A%20%20%20%20%20%20%20%20%0A%20%20%20%20%0A%20%20%20%20%20%20%20%20%20%20%20%20var%20popup_84b3b9384f56480f99779d076766d6d1%20%3D%20L.popup%28%7BmaxWidth%3A%20%27100%25%27%0A%20%20%20%20%20%20%20%20%20%20%20%20%0A%20%20%20%20%20%20%20%20%20%20%20%20%7D%29%3B%0A%0A%20%20%20%20%20%20%20%20%20%20%20%20%0A%20%20%20%20%20%20%20%20%20%20%20%20%20%20%20%20var%20html_46623f6726884a708e11f8344328636a%20%3D%20%24%28%60%3Cdiv%20id%3D%22html_46623f6726884a708e11f8344328636a%22%20style%3D%22width%3A%20100.0%25%3B%20height%3A%20100.0%25%3B%22%3E%20%20%20%20%20%20%20%20%20%3Cul%3E%20%20%20%20%20%20%20%20%20%20%20%20%20%3Cli%3E%3Cstrong%3EID%3A%20%3C/strong%3E8290%3C/li%3E%20%20%20%20%20%20%20%20%20%20%20%20%20%3Cli%3E%3Cstrong%3ESource%3A%20%3C/strong%3Enan%3C/li%3E%20%20%20%20%20%20%20%20%20%20%20%20%20%3Cli%3E%3Cstrong%3EOccupation%3A%20%3C/strong%3Etintore%3C/li%3E%20%20%20%20%20%20%20%20%20%3Cul%3E%20%20%20%20%20%3C/div%3E%60%29%5B0%5D%3B%0A%20%20%20%20%20%20%20%20%20%20%20%20%20%20%20%20popup_84b3b9384f56480f99779d076766d6d1.setContent%28html_46623f6726884a708e11f8344328636a%29%3B%0A%20%20%20%20%20%20%20%20%20%20%20%20%0A%0A%20%20%20%20%20%20%20%20%20%20%20%20marker_f14869e0a5994bd19138e0fef88be49b.bindPopup%28popup_84b3b9384f56480f99779d076766d6d1%29%0A%20%20%20%20%20%20%20%20%20%20%20%20%3B%0A%0A%20%20%20%20%20%20%20%20%20%20%20%20%0A%20%20%20%20%20%20%20%20%0A%20%20%20%20%0A%20%20%20%20%20%20%20%20var%20marker_49212abeaff14ee59d67c2f04ad4f5a7%20%3D%20L.marker%28%0A%20%20%20%20%20%20%20%20%20%20%20%20%5B43.7699925%2C%2011.26581375%5D%2C%0A%20%20%20%20%20%20%20%20%20%20%20%20%7B%0A%20%20%20%20%20%20%20%20%20%20%20%20%20%20%20%20icon%3A%20new%20L.Icon.Default%28%29%2C%0A%20%20%20%20%20%20%20%20%20%20%20%20%20%20%20%20%7D%0A%20%20%20%20%20%20%20%20%20%20%20%20%29.addTo%28map_146cd8147123498484976a07e362f27f%29%3B%0A%20%20%20%20%20%20%20%20%0A%20%20%20%20%0A%20%20%20%20%20%20%20%20%20%20%20%20var%20popup_7cbd0fc02ec54af3aeec3931829814fe%20%3D%20L.popup%28%7BmaxWidth%3A%20%27100%25%27%0A%20%20%20%20%20%20%20%20%20%20%20%20%0A%20%20%20%20%20%20%20%20%20%20%20%20%7D%29%3B%0A%0A%20%20%20%20%20%20%20%20%20%20%20%20%0A%20%20%20%20%20%20%20%20%20%20%20%20%20%20%20%20var%20html_4154bc1a0bb64695a71c3031dcc13b77%20%3D%20%24%28%60%3Cdiv%20id%3D%22html_4154bc1a0bb64695a71c3031dcc13b77%22%20style%3D%22width%3A%20100.0%25%3B%20height%3A%20100.0%25%3B%22%3E%20%20%20%20%20%20%20%20%20%3Cul%3E%20%20%20%20%20%20%20%20%20%20%20%20%20%3Cli%3E%3Cstrong%3EID%3A%20%3C/strong%3E3314%3C/li%3E%20%20%20%20%20%20%20%20%20%20%20%20%20%3Cli%3E%3Cstrong%3ESource%3A%20%3C/strong%3Enan%3C/li%3E%20%20%20%20%20%20%20%20%20%20%20%20%20%3Cli%3E%3Cstrong%3EOccupation%3A%20%3C/strong%3Ebattilano%3C/li%3E%20%20%20%20%20%20%20%20%20%3Cul%3E%20%20%20%20%20%3C/div%3E%60%29%5B0%5D%3B%0A%20%20%20%20%20%20%20%20%20%20%20%20%20%20%20%20popup_7cbd0fc02ec54af3aeec3931829814fe.setContent%28html_4154bc1a0bb64695a71c3031dcc13b77%29%3B%0A%20%20%20%20%20%20%20%20%20%20%20%20%0A%0A%20%20%20%20%20%20%20%20%20%20%20%20marker_49212abeaff14ee59d67c2f04ad4f5a7.bindPopup%28popup_7cbd0fc02ec54af3aeec3931829814fe%29%0A%20%20%20%20%20%20%20%20%20%20%20%20%3B%0A%0A%20%20%20%20%20%20%20%20%20%20%20%20%0A%20%20%20%20%20%20%20%20%0A%20%20%20%20%0A%20%20%20%20%20%20%20%20var%20marker_ca3aa9aacfbb42cbb2ce157d18333840%20%3D%20L.marker%28%0A%20%20%20%20%20%20%20%20%20%20%20%20%5B43.77437253%2C%2011.25571973%5D%2C%0A%20%20%20%20%20%20%20%20%20%20%20%20%7B%0A%20%20%20%20%20%20%20%20%20%20%20%20%20%20%20%20icon%3A%20new%20L.Icon.Default%28%29%2C%0A%20%20%20%20%20%20%20%20%20%20%20%20%20%20%20%20%7D%0A%20%20%20%20%20%20%20%20%20%20%20%20%29.addTo%28map_146cd8147123498484976a07e362f27f%29%3B%0A%20%20%20%20%20%20%20%20%0A%20%20%20%20%0A%20%20%20%20%20%20%20%20%20%20%20%20var%20popup_64230efd2116481abfdc3362c55e4b09%20%3D%20L.popup%28%7BmaxWidth%3A%20%27100%25%27%0A%20%20%20%20%20%20%20%20%20%20%20%20%0A%20%20%20%20%20%20%20%20%20%20%20%20%7D%29%3B%0A%0A%20%20%20%20%20%20%20%20%20%20%20%20%0A%20%20%20%20%20%20%20%20%20%20%20%20%20%20%20%20var%20html_47d2fbe1c405422e84b8595c90ad0425%20%3D%20%24%28%60%3Cdiv%20id%3D%22html_47d2fbe1c405422e84b8595c90ad0425%22%20style%3D%22width%3A%20100.0%25%3B%20height%3A%20100.0%25%3B%22%3E%20%20%20%20%20%20%20%20%20%3Cul%3E%20%20%20%20%20%20%20%20%20%20%20%20%20%3Cli%3E%3Cstrong%3EID%3A%20%3C/strong%3E1379%3C/li%3E%20%20%20%20%20%20%20%20%20%20%20%20%20%3Cli%3E%3Cstrong%3ESource%3A%20%3C/strong%3EHenderson%20P%26C%20%23162%3C/li%3E%20%20%20%20%20%20%20%20%20%20%20%20%20%3Cli%3E%3Cstrong%3EOccupation%3A%20%3C/strong%3Enan%3C/li%3E%20%20%20%20%20%20%20%20%20%3Cul%3E%20%20%20%20%20%3C/div%3E%60%29%5B0%5D%3B%0A%20%20%20%20%20%20%20%20%20%20%20%20%20%20%20%20popup_64230efd2116481abfdc3362c55e4b09.setContent%28html_47d2fbe1c405422e84b8595c90ad0425%29%3B%0A%20%20%20%20%20%20%20%20%20%20%20%20%0A%0A%20%20%20%20%20%20%20%20%20%20%20%20marker_ca3aa9aacfbb42cbb2ce157d18333840.bindPopup%28popup_64230efd2116481abfdc3362c55e4b09%29%0A%20%20%20%20%20%20%20%20%20%20%20%20%3B%0A%0A%20%20%20%20%20%20%20%20%20%20%20%20%0A%20%20%20%20%20%20%20%20%0A%20%20%20%20%0A%20%20%20%20%20%20%20%20var%20marker_4eb4e6afb42c4efcb81c9d990c6cdf08%20%3D%20L.marker%28%0A%20%20%20%20%20%20%20%20%20%20%20%20%5B43.772334%2C%2011.254363%5D%2C%0A%20%20%20%20%20%20%20%20%20%20%20%20%7B%0A%20%20%20%20%20%20%20%20%20%20%20%20%20%20%20%20icon%3A%20new%20L.Icon.Default%28%29%2C%0A%20%20%20%20%20%20%20%20%20%20%20%20%20%20%20%20%7D%0A%20%20%20%20%20%20%20%20%20%20%20%20%29.addTo%28map_146cd8147123498484976a07e362f27f%29%3B%0A%20%20%20%20%20%20%20%20%0A%20%20%20%20%0A%20%20%20%20%20%20%20%20%20%20%20%20var%20popup_82d43eedc4004f55a8b72cd297559fe0%20%3D%20L.popup%28%7BmaxWidth%3A%20%27100%25%27%0A%20%20%20%20%20%20%20%20%20%20%20%20%0A%20%20%20%20%20%20%20%20%20%20%20%20%7D%29%3B%0A%0A%20%20%20%20%20%20%20%20%20%20%20%20%0A%20%20%20%20%20%20%20%20%20%20%20%20%20%20%20%20var%20html_a089dd800c6246e08a28d9ab8b6713db%20%3D%20%24%28%60%3Cdiv%20id%3D%22html_a089dd800c6246e08a28d9ab8b6713db%22%20style%3D%22width%3A%20100.0%25%3B%20height%3A%20100.0%25%3B%22%3E%20%20%20%20%20%20%20%20%20%3Cul%3E%20%20%20%20%20%20%20%20%20%20%20%20%20%3Cli%3E%3Cstrong%3EID%3A%20%3C/strong%3E1123%3C/li%3E%20%20%20%20%20%20%20%20%20%20%20%20%20%3Cli%3E%3Cstrong%3ESource%3A%20%3C/strong%3Enan%3C/li%3E%20%20%20%20%20%20%20%20%20%20%20%20%20%3Cli%3E%3Cstrong%3EOccupation%3A%20%3C/strong%3Erigattiere%3C/li%3E%20%20%20%20%20%20%20%20%20%3Cul%3E%20%20%20%20%20%3C/div%3E%60%29%5B0%5D%3B%0A%20%20%20%20%20%20%20%20%20%20%20%20%20%20%20%20popup_82d43eedc4004f55a8b72cd297559fe0.setContent%28html_a089dd800c6246e08a28d9ab8b6713db%29%3B%0A%20%20%20%20%20%20%20%20%20%20%20%20%0A%0A%20%20%20%20%20%20%20%20%20%20%20%20marker_4eb4e6afb42c4efcb81c9d990c6cdf08.bindPopup%28popup_82d43eedc4004f55a8b72cd297559fe0%29%0A%20%20%20%20%20%20%20%20%20%20%20%20%3B%0A%0A%20%20%20%20%20%20%20%20%20%20%20%20%0A%20%20%20%20%20%20%20%20%0A%20%20%20%20%0A%20%20%20%20%20%20%20%20var%20marker_7bfcb70c34ff48a7a1c213e18613d09a%20%3D%20L.marker%28%0A%20%20%20%20%20%20%20%20%20%20%20%20%5B43.76938971%2C%2011.24530752%5D%2C%0A%20%20%20%20%20%20%20%20%20%20%20%20%7B%0A%20%20%20%20%20%20%20%20%20%20%20%20%20%20%20%20icon%3A%20new%20L.Icon.Default%28%29%2C%0A%20%20%20%20%20%20%20%20%20%20%20%20%20%20%20%20%7D%0A%20%20%20%20%20%20%20%20%20%20%20%20%29.addTo%28map_146cd8147123498484976a07e362f27f%29%3B%0A%20%20%20%20%20%20%20%20%0A%20%20%20%20%0A%20%20%20%20%20%20%20%20%20%20%20%20var%20popup_c5f9c40aa38c4b0fb05f663c644c1ff4%20%3D%20L.popup%28%7BmaxWidth%3A%20%27100%25%27%0A%20%20%20%20%20%20%20%20%20%20%20%20%0A%20%20%20%20%20%20%20%20%20%20%20%20%7D%29%3B%0A%0A%20%20%20%20%20%20%20%20%20%20%20%20%0A%20%20%20%20%20%20%20%20%20%20%20%20%20%20%20%20var%20html_bd32f6df5e0447caa6cfe14caa9f46ee%20%3D%20%24%28%60%3Cdiv%20id%3D%22html_bd32f6df5e0447caa6cfe14caa9f46ee%22%20style%3D%22width%3A%20100.0%25%3B%20height%3A%20100.0%25%3B%22%3E%20%20%20%20%20%20%20%20%20%3Cul%3E%20%20%20%20%20%20%20%20%20%20%20%20%20%3Cli%3E%3Cstrong%3EID%3A%20%3C/strong%3E8155%3C/li%3E%20%20%20%20%20%20%20%20%20%20%20%20%20%3Cli%3E%3Cstrong%3ESource%3A%20%3C/strong%3EHenderson%20P%26C%20%232%3C/li%3E%20%20%20%20%20%20%20%20%20%20%20%20%20%3Cli%3E%3Cstrong%3EOccupation%3A%20%3C/strong%3Emuratore%3C/li%3E%20%20%20%20%20%20%20%20%20%3Cul%3E%20%20%20%20%20%3C/div%3E%60%29%5B0%5D%3B%0A%20%20%20%20%20%20%20%20%20%20%20%20%20%20%20%20popup_c5f9c40aa38c4b0fb05f663c644c1ff4.setContent%28html_bd32f6df5e0447caa6cfe14caa9f46ee%29%3B%0A%20%20%20%20%20%20%20%20%20%20%20%20%0A%0A%20%20%20%20%20%20%20%20%20%20%20%20marker_7bfcb70c34ff48a7a1c213e18613d09a.bindPopup%28popup_c5f9c40aa38c4b0fb05f663c644c1ff4%29%0A%20%20%20%20%20%20%20%20%20%20%20%20%3B%0A%0A%20%20%20%20%20%20%20%20%20%20%20%20%0A%20%20%20%20%20%20%20%20%0A%20%20%20%20%0A%20%20%20%20%20%20%20%20var%20marker_8f7139772cd24e5c8c93ea809d5ec37d%20%3D%20L.marker%28%0A%20%20%20%20%20%20%20%20%20%20%20%20%5B43.7712402%2C%2011.26521564%5D%2C%0A%20%20%20%20%20%20%20%20%20%20%20%20%7B%0A%20%20%20%20%20%20%20%20%20%20%20%20%20%20%20%20icon%3A%20new%20L.Icon.Default%28%29%2C%0A%20%20%20%20%20%20%20%20%20%20%20%20%20%20%20%20%7D%0A%20%20%20%20%20%20%20%20%20%20%20%20%29.addTo%28map_146cd8147123498484976a07e362f27f%29%3B%0A%20%20%20%20%20%20%20%20%0A%20%20%20%20%0A%20%20%20%20%20%20%20%20%20%20%20%20var%20popup_9a41ee9e41c941488334d52178ea452e%20%3D%20L.popup%28%7BmaxWidth%3A%20%27100%25%27%0A%20%20%20%20%20%20%20%20%20%20%20%20%0A%20%20%20%20%20%20%20%20%20%20%20%20%7D%29%3B%0A%0A%20%20%20%20%20%20%20%20%20%20%20%20%0A%20%20%20%20%20%20%20%20%20%20%20%20%20%20%20%20var%20html_2f5a506646d54b92b1ad029c744c7aa3%20%3D%20%24%28%60%3Cdiv%20id%3D%22html_2f5a506646d54b92b1ad029c744c7aa3%22%20style%3D%22width%3A%20100.0%25%3B%20height%3A%20100.0%25%3B%22%3E%20%20%20%20%20%20%20%20%20%3Cul%3E%20%20%20%20%20%20%20%20%20%20%20%20%20%3Cli%3E%3Cstrong%3EID%3A%20%3C/strong%3E2085%3C/li%3E%20%20%20%20%20%20%20%20%20%20%20%20%20%3Cli%3E%3Cstrong%3ESource%3A%20%3C/strong%3EHenderson%20P%26C%20%23124%3C/li%3E%20%20%20%20%20%20%20%20%20%20%20%20%20%3Cli%3E%3Cstrong%3EOccupation%3A%20%3C/strong%3Elegnaiuolo%3C/li%3E%20%20%20%20%20%20%20%20%20%3Cul%3E%20%20%20%20%20%3C/div%3E%60%29%5B0%5D%3B%0A%20%20%20%20%20%20%20%20%20%20%20%20%20%20%20%20popup_9a41ee9e41c941488334d52178ea452e.setContent%28html_2f5a506646d54b92b1ad029c744c7aa3%29%3B%0A%20%20%20%20%20%20%20%20%20%20%20%20%0A%0A%20%20%20%20%20%20%20%20%20%20%20%20marker_8f7139772cd24e5c8c93ea809d5ec37d.bindPopup%28popup_9a41ee9e41c941488334d52178ea452e%29%0A%20%20%20%20%20%20%20%20%20%20%20%20%3B%0A%0A%20%20%20%20%20%20%20%20%20%20%20%20%0A%20%20%20%20%20%20%20%20%0A%20%20%20%20%0A%20%20%20%20%20%20%20%20var%20marker_4ff792b9c48d446cb9a301067b5702b5%20%3D%20L.marker%28%0A%20%20%20%20%20%20%20%20%20%20%20%20%5B43.776473%2C%2011.25275408%5D%2C%0A%20%20%20%20%20%20%20%20%20%20%20%20%7B%0A%20%20%20%20%20%20%20%20%20%20%20%20%20%20%20%20icon%3A%20new%20L.Icon.Default%28%29%2C%0A%20%20%20%20%20%20%20%20%20%20%20%20%20%20%20%20%7D%0A%20%20%20%20%20%20%20%20%20%20%20%20%29.addTo%28map_146cd8147123498484976a07e362f27f%29%3B%0A%20%20%20%20%20%20%20%20%0A%20%20%20%20%0A%20%20%20%20%20%20%20%20%20%20%20%20var%20popup_3e3363829068408e807c8932e5db5e3f%20%3D%20L.popup%28%7BmaxWidth%3A%20%27100%25%27%0A%20%20%20%20%20%20%20%20%20%20%20%20%0A%20%20%20%20%20%20%20%20%20%20%20%20%7D%29%3B%0A%0A%20%20%20%20%20%20%20%20%20%20%20%20%0A%20%20%20%20%20%20%20%20%20%20%20%20%20%20%20%20var%20html_878a17e8694b4cfe88d9a3cc59eabd82%20%3D%20%24%28%60%3Cdiv%20id%3D%22html_878a17e8694b4cfe88d9a3cc59eabd82%22%20style%3D%22width%3A%20100.0%25%3B%20height%3A%20100.0%25%3B%22%3E%20%20%20%20%20%20%20%20%20%3Cul%3E%20%20%20%20%20%20%20%20%20%20%20%20%20%3Cli%3E%3Cstrong%3EID%3A%20%3C/strong%3E493%3C/li%3E%20%20%20%20%20%20%20%20%20%20%20%20%20%3Cli%3E%3Cstrong%3ESource%3A%20%3C/strong%3EHenderson%20P%26C%20%23124%3C/li%3E%20%20%20%20%20%20%20%20%20%20%20%20%20%3Cli%3E%3Cstrong%3EOccupation%3A%20%3C/strong%3Etessitore%3C/li%3E%20%20%20%20%20%20%20%20%20%3Cul%3E%20%20%20%20%20%3C/div%3E%60%29%5B0%5D%3B%0A%20%20%20%20%20%20%20%20%20%20%20%20%20%20%20%20popup_3e3363829068408e807c8932e5db5e3f.setContent%28html_878a17e8694b4cfe88d9a3cc59eabd82%29%3B%0A%20%20%20%20%20%20%20%20%20%20%20%20%0A%0A%20%20%20%20%20%20%20%20%20%20%20%20marker_4ff792b9c48d446cb9a301067b5702b5.bindPopup%28popup_3e3363829068408e807c8932e5db5e3f%29%0A%20%20%20%20%20%20%20%20%20%20%20%20%3B%0A%0A%20%20%20%20%20%20%20%20%20%20%20%20%0A%20%20%20%20%20%20%20%20%0A%20%20%20%20%0A%20%20%20%20%20%20%20%20var%20marker_21a2a06f2f2246a4b67613cec9fad071%20%3D%20L.marker%28%0A%20%20%20%20%20%20%20%20%20%20%20%20%5B43.76977667%2C%2011.26017667%5D%2C%0A%20%20%20%20%20%20%20%20%20%20%20%20%7B%0A%20%20%20%20%20%20%20%20%20%20%20%20%20%20%20%20icon%3A%20new%20L.Icon.Default%28%29%2C%0A%20%20%20%20%20%20%20%20%20%20%20%20%20%20%20%20%7D%0A%20%20%20%20%20%20%20%20%20%20%20%20%29.addTo%28map_146cd8147123498484976a07e362f27f%29%3B%0A%20%20%20%20%20%20%20%20%0A%20%20%20%20%0A%20%20%20%20%20%20%20%20%20%20%20%20var%20popup_d55cc8c5a8624b4b81b50733782f556a%20%3D%20L.popup%28%7BmaxWidth%3A%20%27100%25%27%0A%20%20%20%20%20%20%20%20%20%20%20%20%0A%20%20%20%20%20%20%20%20%20%20%20%20%7D%29%3B%0A%0A%20%20%20%20%20%20%20%20%20%20%20%20%0A%20%20%20%20%20%20%20%20%20%20%20%20%20%20%20%20var%20html_51ef3f837166484384e25a90ff7847ff%20%3D%20%24%28%60%3Cdiv%20id%3D%22html_51ef3f837166484384e25a90ff7847ff%22%20style%3D%22width%3A%20100.0%25%3B%20height%3A%20100.0%25%3B%22%3E%20%20%20%20%20%20%20%20%20%3Cul%3E%20%20%20%20%20%20%20%20%20%20%20%20%20%3Cli%3E%3Cstrong%3EID%3A%20%3C/strong%3E4186%3C/li%3E%20%20%20%20%20%20%20%20%20%20%20%20%20%3Cli%3E%3Cstrong%3ESource%3A%20%3C/strong%3EHenderson%20P%26C%20%23124%3C/li%3E%20%20%20%20%20%20%20%20%20%20%20%20%20%3Cli%3E%3Cstrong%3EOccupation%3A%20%3C/strong%3Enan%3C/li%3E%20%20%20%20%20%20%20%20%20%3Cul%3E%20%20%20%20%20%3C/div%3E%60%29%5B0%5D%3B%0A%20%20%20%20%20%20%20%20%20%20%20%20%20%20%20%20popup_d55cc8c5a8624b4b81b50733782f556a.setContent%28html_51ef3f837166484384e25a90ff7847ff%29%3B%0A%20%20%20%20%20%20%20%20%20%20%20%20%0A%0A%20%20%20%20%20%20%20%20%20%20%20%20marker_21a2a06f2f2246a4b67613cec9fad071.bindPopup%28popup_d55cc8c5a8624b4b81b50733782f556a%29%0A%20%20%20%20%20%20%20%20%20%20%20%20%3B%0A%0A%20%20%20%20%20%20%20%20%20%20%20%20%0A%20%20%20%20%20%20%20%20%0A%20%20%20%20%0A%20%20%20%20%20%20%20%20var%20marker_960abf37631843e3b3715ad9d333a3e8%20%3D%20L.marker%28%0A%20%20%20%20%20%20%20%20%20%20%20%20%5B43.7701726%2C%2011.24204413%5D%2C%0A%20%20%20%20%20%20%20%20%20%20%20%20%7B%0A%20%20%20%20%20%20%20%20%20%20%20%20%20%20%20%20icon%3A%20new%20L.Icon.Default%28%29%2C%0A%20%20%20%20%20%20%20%20%20%20%20%20%20%20%20%20%7D%0A%20%20%20%20%20%20%20%20%20%20%20%20%29.addTo%28map_146cd8147123498484976a07e362f27f%29%3B%0A%20%20%20%20%20%20%20%20%0A%20%20%20%20%0A%20%20%20%20%20%20%20%20%20%20%20%20var%20popup_217880b72e51412f9e5a34b6ff3c7c86%20%3D%20L.popup%28%7BmaxWidth%3A%20%27100%25%27%0A%20%20%20%20%20%20%20%20%20%20%20%20%0A%20%20%20%20%20%20%20%20%20%20%20%20%7D%29%3B%0A%0A%20%20%20%20%20%20%20%20%20%20%20%20%0A%20%20%20%20%20%20%20%20%20%20%20%20%20%20%20%20var%20html_963268c3fedb42a3aa2d8d4bac032a71%20%3D%20%24%28%60%3Cdiv%20id%3D%22html_963268c3fedb42a3aa2d8d4bac032a71%22%20style%3D%22width%3A%20100.0%25%3B%20height%3A%20100.0%25%3B%22%3E%20%20%20%20%20%20%20%20%20%3Cul%3E%20%20%20%20%20%20%20%20%20%20%20%20%20%3Cli%3E%3Cstrong%3EID%3A%20%3C/strong%3E8122%3C/li%3E%20%20%20%20%20%20%20%20%20%20%20%20%20%3Cli%3E%3Cstrong%3ESource%3A%20%3C/strong%3Enan%3C/li%3E%20%20%20%20%20%20%20%20%20%20%20%20%20%3Cli%3E%3Cstrong%3EOccupation%3A%20%3C/strong%3Enan%3C/li%3E%20%20%20%20%20%20%20%20%20%3Cul%3E%20%20%20%20%20%3C/div%3E%60%29%5B0%5D%3B%0A%20%20%20%20%20%20%20%20%20%20%20%20%20%20%20%20popup_217880b72e51412f9e5a34b6ff3c7c86.setContent%28html_963268c3fedb42a3aa2d8d4bac032a71%29%3B%0A%20%20%20%20%20%20%20%20%20%20%20%20%0A%0A%20%20%20%20%20%20%20%20%20%20%20%20marker_960abf37631843e3b3715ad9d333a3e8.bindPopup%28popup_217880b72e51412f9e5a34b6ff3c7c86%29%0A%20%20%20%20%20%20%20%20%20%20%20%20%3B%0A%0A%20%20%20%20%20%20%20%20%20%20%20%20%0A%20%20%20%20%20%20%20%20%0A%20%20%20%20%0A%20%20%20%20%20%20%20%20var%20marker_76ca7f867c554cafa82ba3063ea70e4f%20%3D%20L.marker%28%0A%20%20%20%20%20%20%20%20%20%20%20%20%5B43.77084%2C%2011.254306%5D%2C%0A%20%20%20%20%20%20%20%20%20%20%20%20%7B%0A%20%20%20%20%20%20%20%20%20%20%20%20%20%20%20%20icon%3A%20new%20L.Icon.Default%28%29%2C%0A%20%20%20%20%20%20%20%20%20%20%20%20%20%20%20%20%7D%0A%20%20%20%20%20%20%20%20%20%20%20%20%29.addTo%28map_146cd8147123498484976a07e362f27f%29%3B%0A%20%20%20%20%20%20%20%20%0A%20%20%20%20%0A%20%20%20%20%20%20%20%20%20%20%20%20var%20popup_4bbf8ec760a04f3b9d428e1635f59b80%20%3D%20L.popup%28%7BmaxWidth%3A%20%27100%25%27%0A%20%20%20%20%20%20%20%20%20%20%20%20%0A%20%20%20%20%20%20%20%20%20%20%20%20%7D%29%3B%0A%0A%20%20%20%20%20%20%20%20%20%20%20%20%0A%20%20%20%20%20%20%20%20%20%20%20%20%20%20%20%20var%20html_39c65ab09fca44e096210eccb64b9029%20%3D%20%24%28%60%3Cdiv%20id%3D%22html_39c65ab09fca44e096210eccb64b9029%22%20style%3D%22width%3A%20100.0%25%3B%20height%3A%20100.0%25%3B%22%3E%20%20%20%20%20%20%20%20%20%3Cul%3E%20%20%20%20%20%20%20%20%20%20%20%20%20%3Cli%3E%3Cstrong%3EID%3A%20%3C/strong%3E6721%3C/li%3E%20%20%20%20%20%20%20%20%20%20%20%20%20%3Cli%3E%3Cstrong%3ESource%3A%20%3C/strong%3EHenderson%20P%26C%20%2392%3C/li%3E%20%20%20%20%20%20%20%20%20%20%20%20%20%3Cli%3E%3Cstrong%3EOccupation%3A%20%3C/strong%3Enan%3C/li%3E%20%20%20%20%20%20%20%20%20%3Cul%3E%20%20%20%20%20%3C/div%3E%60%29%5B0%5D%3B%0A%20%20%20%20%20%20%20%20%20%20%20%20%20%20%20%20popup_4bbf8ec760a04f3b9d428e1635f59b80.setContent%28html_39c65ab09fca44e096210eccb64b9029%29%3B%0A%20%20%20%20%20%20%20%20%20%20%20%20%0A%0A%20%20%20%20%20%20%20%20%20%20%20%20marker_76ca7f867c554cafa82ba3063ea70e4f.bindPopup%28popup_4bbf8ec760a04f3b9d428e1635f59b80%29%0A%20%20%20%20%20%20%20%20%20%20%20%20%3B%0A%0A%20%20%20%20%20%20%20%20%20%20%20%20%0A%20%20%20%20%20%20%20%20%0A%20%20%20%20%0A%20%20%20%20%20%20%20%20var%20marker_33b9e51ede204cd480931d1e7ee3a493%20%3D%20L.marker%28%0A%20%20%20%20%20%20%20%20%20%20%20%20%5B43.7757045%2C%2011.25230736%5D%2C%0A%20%20%20%20%20%20%20%20%20%20%20%20%7B%0A%20%20%20%20%20%20%20%20%20%20%20%20%20%20%20%20icon%3A%20new%20L.Icon.Default%28%29%2C%0A%20%20%20%20%20%20%20%20%20%20%20%20%20%20%20%20%7D%0A%20%20%20%20%20%20%20%20%20%20%20%20%29.addTo%28map_146cd8147123498484976a07e362f27f%29%3B%0A%20%20%20%20%20%20%20%20%0A%20%20%20%20%0A%20%20%20%20%20%20%20%20%20%20%20%20var%20popup_b822b973dbfe40f6a0bcd94b8544a832%20%3D%20L.popup%28%7BmaxWidth%3A%20%27100%25%27%0A%20%20%20%20%20%20%20%20%20%20%20%20%0A%20%20%20%20%20%20%20%20%20%20%20%20%7D%29%3B%0A%0A%20%20%20%20%20%20%20%20%20%20%20%20%0A%20%20%20%20%20%20%20%20%20%20%20%20%20%20%20%20var%20html_cb87943f178b498e8b0c544f664d01b5%20%3D%20%24%28%60%3Cdiv%20id%3D%22html_cb87943f178b498e8b0c544f664d01b5%22%20style%3D%22width%3A%20100.0%25%3B%20height%3A%20100.0%25%3B%22%3E%20%20%20%20%20%20%20%20%20%3Cul%3E%20%20%20%20%20%20%20%20%20%20%20%20%20%3Cli%3E%3Cstrong%3EID%3A%20%3C/strong%3E452%3C/li%3E%20%20%20%20%20%20%20%20%20%20%20%20%20%3Cli%3E%3Cstrong%3ESource%3A%20%3C/strong%3EHenderson%20P%26C%20%2392%3C/li%3E%20%20%20%20%20%20%20%20%20%20%20%20%20%3Cli%3E%3Cstrong%3EOccupation%3A%20%3C/strong%3Epizzicagnolo%3C/li%3E%20%20%20%20%20%20%20%20%20%3Cul%3E%20%20%20%20%20%3C/div%3E%60%29%5B0%5D%3B%0A%20%20%20%20%20%20%20%20%20%20%20%20%20%20%20%20popup_b822b973dbfe40f6a0bcd94b8544a832.setContent%28html_cb87943f178b498e8b0c544f664d01b5%29%3B%0A%20%20%20%20%20%20%20%20%20%20%20%20%0A%0A%20%20%20%20%20%20%20%20%20%20%20%20marker_33b9e51ede204cd480931d1e7ee3a493.bindPopup%28popup_b822b973dbfe40f6a0bcd94b8544a832%29%0A%20%20%20%20%20%20%20%20%20%20%20%20%3B%0A%0A%20%20%20%20%20%20%20%20%20%20%20%20%0A%20%20%20%20%20%20%20%20%0A%20%20%20%20%0A%20%20%20%20%20%20%20%20var%20marker_8869b998a89446f1803b305f7e44a5c5%20%3D%20L.marker%28%0A%20%20%20%20%20%20%20%20%20%20%20%20%5B43.78056204%2C%2011.2577987%5D%2C%0A%20%20%20%20%20%20%20%20%20%20%20%20%7B%0A%20%20%20%20%20%20%20%20%20%20%20%20%20%20%20%20icon%3A%20new%20L.Icon.Default%28%29%2C%0A%20%20%20%20%20%20%20%20%20%20%20%20%20%20%20%20%7D%0A%20%20%20%20%20%20%20%20%20%20%20%20%29.addTo%28map_146cd8147123498484976a07e362f27f%29%3B%0A%20%20%20%20%20%20%20%20%0A%20%20%20%20%0A%20%20%20%20%20%20%20%20%20%20%20%20var%20popup_4bdc19a76fa74dfe86b9cf18ba88e4d0%20%3D%20L.popup%28%7BmaxWidth%3A%20%27100%25%27%0A%20%20%20%20%20%20%20%20%20%20%20%20%0A%20%20%20%20%20%20%20%20%20%20%20%20%7D%29%3B%0A%0A%20%20%20%20%20%20%20%20%20%20%20%20%0A%20%20%20%20%20%20%20%20%20%20%20%20%20%20%20%20var%20html_455fd01b341743c88907aa3cafde3624%20%3D%20%24%28%60%3Cdiv%20id%3D%22html_455fd01b341743c88907aa3cafde3624%22%20style%3D%22width%3A%20100.0%25%3B%20height%3A%20100.0%25%3B%22%3E%20%20%20%20%20%20%20%20%20%3Cul%3E%20%20%20%20%20%20%20%20%20%20%20%20%20%3Cli%3E%3Cstrong%3EID%3A%20%3C/strong%3E623%3C/li%3E%20%20%20%20%20%20%20%20%20%20%20%20%20%3Cli%3E%3Cstrong%3ESource%3A%20%3C/strong%3EHenderson%20P%26C%20%2392%3C/li%3E%20%20%20%20%20%20%20%20%20%20%20%20%20%3Cli%3E%3Cstrong%3EOccupation%3A%20%3C/strong%3Enan%3C/li%3E%20%20%20%20%20%20%20%20%20%3Cul%3E%20%20%20%20%20%3C/div%3E%60%29%5B0%5D%3B%0A%20%20%20%20%20%20%20%20%20%20%20%20%20%20%20%20popup_4bdc19a76fa74dfe86b9cf18ba88e4d0.setContent%28html_455fd01b341743c88907aa3cafde3624%29%3B%0A%20%20%20%20%20%20%20%20%20%20%20%20%0A%0A%20%20%20%20%20%20%20%20%20%20%20%20marker_8869b998a89446f1803b305f7e44a5c5.bindPopup%28popup_4bdc19a76fa74dfe86b9cf18ba88e4d0%29%0A%20%20%20%20%20%20%20%20%20%20%20%20%3B%0A%0A%20%20%20%20%20%20%20%20%20%20%20%20%0A%20%20%20%20%20%20%20%20%0A%20%20%20%20%0A%20%20%20%20%20%20%20%20var%20marker_11b9000122744342bf0de0683f596e27%20%3D%20L.marker%28%0A%20%20%20%20%20%20%20%20%20%20%20%20%5B43.78061222%2C%2011.25774922%5D%2C%0A%20%20%20%20%20%20%20%20%20%20%20%20%7B%0A%20%20%20%20%20%20%20%20%20%20%20%20%20%20%20%20icon%3A%20new%20L.Icon.Default%28%29%2C%0A%20%20%20%20%20%20%20%20%20%20%20%20%20%20%20%20%7D%0A%20%20%20%20%20%20%20%20%20%20%20%20%29.addTo%28map_146cd8147123498484976a07e362f27f%29%3B%0A%20%20%20%20%20%20%20%20%0A%20%20%20%20%0A%20%20%20%20%20%20%20%20%20%20%20%20var%20popup_fe850c5ab6744313934f6b5e57549745%20%3D%20L.popup%28%7BmaxWidth%3A%20%27100%25%27%0A%20%20%20%20%20%20%20%20%20%20%20%20%0A%20%20%20%20%20%20%20%20%20%20%20%20%7D%29%3B%0A%0A%20%20%20%20%20%20%20%20%20%20%20%20%0A%20%20%20%20%20%20%20%20%20%20%20%20%20%20%20%20var%20html_e841842b23724000a8b9efabd01e7446%20%3D%20%24%28%60%3Cdiv%20id%3D%22html_e841842b23724000a8b9efabd01e7446%22%20style%3D%22width%3A%20100.0%25%3B%20height%3A%20100.0%25%3B%22%3E%20%20%20%20%20%20%20%20%20%3Cul%3E%20%20%20%20%20%20%20%20%20%20%20%20%20%3Cli%3E%3Cstrong%3EID%3A%20%3C/strong%3E624%3C/li%3E%20%20%20%20%20%20%20%20%20%20%20%20%20%3Cli%3E%3Cstrong%3ESource%3A%20%3C/strong%3EHenderson%20P%26C%20%2392%3C/li%3E%20%20%20%20%20%20%20%20%20%20%20%20%20%3Cli%3E%3Cstrong%3EOccupation%3A%20%3C/strong%3Enan%3C/li%3E%20%20%20%20%20%20%20%20%20%3Cul%3E%20%20%20%20%20%3C/div%3E%60%29%5B0%5D%3B%0A%20%20%20%20%20%20%20%20%20%20%20%20%20%20%20%20popup_fe850c5ab6744313934f6b5e57549745.setContent%28html_e841842b23724000a8b9efabd01e7446%29%3B%0A%20%20%20%20%20%20%20%20%20%20%20%20%0A%0A%20%20%20%20%20%20%20%20%20%20%20%20marker_11b9000122744342bf0de0683f596e27.bindPopup%28popup_fe850c5ab6744313934f6b5e57549745%29%0A%20%20%20%20%20%20%20%20%20%20%20%20%3B%0A%0A%20%20%20%20%20%20%20%20%20%20%20%20%0A%20%20%20%20%20%20%20%20%0A%20%20%20%20%0A%20%20%20%20%20%20%20%20var%20marker_ad4ad56e67b5488993b1b0eb8d374578%20%3D%20L.marker%28%0A%20%20%20%20%20%20%20%20%20%20%20%20%5B43.78066241%2C%2011.25769974%5D%2C%0A%20%20%20%20%20%20%20%20%20%20%20%20%7B%0A%20%20%20%20%20%20%20%20%20%20%20%20%20%20%20%20icon%3A%20new%20L.Icon.Default%28%29%2C%0A%20%20%20%20%20%20%20%20%20%20%20%20%20%20%20%20%7D%0A%20%20%20%20%20%20%20%20%20%20%20%20%29.addTo%28map_146cd8147123498484976a07e362f27f%29%3B%0A%20%20%20%20%20%20%20%20%0A%20%20%20%20%0A%20%20%20%20%20%20%20%20%20%20%20%20var%20popup_33bc284cbfed47cd9430cd76fc621d87%20%3D%20L.popup%28%7BmaxWidth%3A%20%27100%25%27%0A%20%20%20%20%20%20%20%20%20%20%20%20%0A%20%20%20%20%20%20%20%20%20%20%20%20%7D%29%3B%0A%0A%20%20%20%20%20%20%20%20%20%20%20%20%0A%20%20%20%20%20%20%20%20%20%20%20%20%20%20%20%20var%20html_69b937667bd642038a2970fe9e7994a9%20%3D%20%24%28%60%3Cdiv%20id%3D%22html_69b937667bd642038a2970fe9e7994a9%22%20style%3D%22width%3A%20100.0%25%3B%20height%3A%20100.0%25%3B%22%3E%20%20%20%20%20%20%20%20%20%3Cul%3E%20%20%20%20%20%20%20%20%20%20%20%20%20%3Cli%3E%3Cstrong%3EID%3A%20%3C/strong%3E625%3C/li%3E%20%20%20%20%20%20%20%20%20%20%20%20%20%3Cli%3E%3Cstrong%3ESource%3A%20%3C/strong%3EHenderson%20P%26C%20%2392%3C/li%3E%20%20%20%20%20%20%20%20%20%20%20%20%20%3Cli%3E%3Cstrong%3EOccupation%3A%20%3C/strong%3Enan%3C/li%3E%20%20%20%20%20%20%20%20%20%3Cul%3E%20%20%20%20%20%3C/div%3E%60%29%5B0%5D%3B%0A%20%20%20%20%20%20%20%20%20%20%20%20%20%20%20%20popup_33bc284cbfed47cd9430cd76fc621d87.setContent%28html_69b937667bd642038a2970fe9e7994a9%29%3B%0A%20%20%20%20%20%20%20%20%20%20%20%20%0A%0A%20%20%20%20%20%20%20%20%20%20%20%20marker_ad4ad56e67b5488993b1b0eb8d374578.bindPopup%28popup_33bc284cbfed47cd9430cd76fc621d87%29%0A%20%20%20%20%20%20%20%20%20%20%20%20%3B%0A%0A%20%20%20%20%20%20%20%20%20%20%20%20%0A%20%20%20%20%20%20%20%20%0A%20%20%20%20%0A%20%20%20%20%20%20%20%20var%20marker_4a0ee98b030d40a2baa6b6c098d15ef2%20%3D%20L.marker%28%0A%20%20%20%20%20%20%20%20%20%20%20%20%5B43.78051185%2C%2011.25784819%5D%2C%0A%20%20%20%20%20%20%20%20%20%20%20%20%7B%0A%20%20%20%20%20%20%20%20%20%20%20%20%20%20%20%20icon%3A%20new%20L.Icon.Default%28%29%2C%0A%20%20%20%20%20%20%20%20%20%20%20%20%20%20%20%20%7D%0A%20%20%20%20%20%20%20%20%20%20%20%20%29.addTo%28map_146cd8147123498484976a07e362f27f%29%3B%0A%20%20%20%20%20%20%20%20%0A%20%20%20%20%0A%20%20%20%20%20%20%20%20%20%20%20%20var%20popup_2d8b6ef4c5904e478d8bc5ccedff9839%20%3D%20L.popup%28%7BmaxWidth%3A%20%27100%25%27%0A%20%20%20%20%20%20%20%20%20%20%20%20%0A%20%20%20%20%20%20%20%20%20%20%20%20%7D%29%3B%0A%0A%20%20%20%20%20%20%20%20%20%20%20%20%0A%20%20%20%20%20%20%20%20%20%20%20%20%20%20%20%20var%20html_f85b8d612573499f98df5b1cfd7e8354%20%3D%20%24%28%60%3Cdiv%20id%3D%22html_f85b8d612573499f98df5b1cfd7e8354%22%20style%3D%22width%3A%20100.0%25%3B%20height%3A%20100.0%25%3B%22%3E%20%20%20%20%20%20%20%20%20%3Cul%3E%20%20%20%20%20%20%20%20%20%20%20%20%20%3Cli%3E%3Cstrong%3EID%3A%20%3C/strong%3E767%3C/li%3E%20%20%20%20%20%20%20%20%20%20%20%20%20%3Cli%3E%3Cstrong%3ESource%3A%20%3C/strong%3EHenderson%20P%26C%20%2392%3C/li%3E%20%20%20%20%20%20%20%20%20%20%20%20%20%3Cli%3E%3Cstrong%3EOccupation%3A%20%3C/strong%3Enan%3C/li%3E%20%20%20%20%20%20%20%20%20%3Cul%3E%20%20%20%20%20%3C/div%3E%60%29%5B0%5D%3B%0A%20%20%20%20%20%20%20%20%20%20%20%20%20%20%20%20popup_2d8b6ef4c5904e478d8bc5ccedff9839.setContent%28html_f85b8d612573499f98df5b1cfd7e8354%29%3B%0A%20%20%20%20%20%20%20%20%20%20%20%20%0A%0A%20%20%20%20%20%20%20%20%20%20%20%20marker_4a0ee98b030d40a2baa6b6c098d15ef2.bindPopup%28popup_2d8b6ef4c5904e478d8bc5ccedff9839%29%0A%20%20%20%20%20%20%20%20%20%20%20%20%3B%0A%0A%20%20%20%20%20%20%20%20%20%20%20%20%0A%20%20%20%20%20%20%20%20%0A%20%20%20%20%0A%20%20%20%20%20%20%20%20var%20marker_aaa108906f6142ce8b84c8e8292503b3%20%3D%20L.marker%28%0A%20%20%20%20%20%20%20%20%20%20%20%20%5B43.775751%2C%2011.252284%5D%2C%0A%20%20%20%20%20%20%20%20%20%20%20%20%7B%0A%20%20%20%20%20%20%20%20%20%20%20%20%20%20%20%20icon%3A%20new%20L.Icon.Default%28%29%2C%0A%20%20%20%20%20%20%20%20%20%20%20%20%20%20%20%20%7D%0A%20%20%20%20%20%20%20%20%20%20%20%20%29.addTo%28map_146cd8147123498484976a07e362f27f%29%3B%0A%20%20%20%20%20%20%20%20%0A%20%20%20%20%0A%20%20%20%20%20%20%20%20%20%20%20%20var%20popup_2e89f5031b6547338d7016c674cbc329%20%3D%20L.popup%28%7BmaxWidth%3A%20%27100%25%27%0A%20%20%20%20%20%20%20%20%20%20%20%20%0A%20%20%20%20%20%20%20%20%20%20%20%20%7D%29%3B%0A%0A%20%20%20%20%20%20%20%20%20%20%20%20%0A%20%20%20%20%20%20%20%20%20%20%20%20%20%20%20%20var%20html_1aea78e528584077ae50c34d3f743a0f%20%3D%20%24%28%60%3Cdiv%20id%3D%22html_1aea78e528584077ae50c34d3f743a0f%22%20style%3D%22width%3A%20100.0%25%3B%20height%3A%20100.0%25%3B%22%3E%20%20%20%20%20%20%20%20%20%3Cul%3E%20%20%20%20%20%20%20%20%20%20%20%20%20%3Cli%3E%3Cstrong%3EID%3A%20%3C/strong%3E834%3C/li%3E%20%20%20%20%20%20%20%20%20%20%20%20%20%3Cli%3E%3Cstrong%3ESource%3A%20%3C/strong%3EHenderson%20P%26C%20%2392%3C/li%3E%20%20%20%20%20%20%20%20%20%20%20%20%20%3Cli%3E%3Cstrong%3EOccupation%3A%20%3C/strong%3Enan%3C/li%3E%20%20%20%20%20%20%20%20%20%3Cul%3E%20%20%20%20%20%3C/div%3E%60%29%5B0%5D%3B%0A%20%20%20%20%20%20%20%20%20%20%20%20%20%20%20%20popup_2e89f5031b6547338d7016c674cbc329.setContent%28html_1aea78e528584077ae50c34d3f743a0f%29%3B%0A%20%20%20%20%20%20%20%20%20%20%20%20%0A%0A%20%20%20%20%20%20%20%20%20%20%20%20marker_aaa108906f6142ce8b84c8e8292503b3.bindPopup%28popup_2e89f5031b6547338d7016c674cbc329%29%0A%20%20%20%20%20%20%20%20%20%20%20%20%3B%0A%0A%20%20%20%20%20%20%20%20%20%20%20%20%0A%20%20%20%20%20%20%20%20%0A%20%20%20%20%0A%20%20%20%20%20%20%20%20var%20marker_542d58b221c1461484bb6e31795750e0%20%3D%20L.marker%28%0A%20%20%20%20%20%20%20%20%20%20%20%20%5B43.775553%2C%2011.251728%5D%2C%0A%20%20%20%20%20%20%20%20%20%20%20%20%7B%0A%20%20%20%20%20%20%20%20%20%20%20%20%20%20%20%20icon%3A%20new%20L.Icon.Default%28%29%2C%0A%20%20%20%20%20%20%20%20%20%20%20%20%20%20%20%20%7D%0A%20%20%20%20%20%20%20%20%20%20%20%20%29.addTo%28map_146cd8147123498484976a07e362f27f%29%3B%0A%20%20%20%20%20%20%20%20%0A%20%20%20%20%0A%20%20%20%20%20%20%20%20%20%20%20%20var%20popup_be3d2b9a33504327beb1175c8fbe0437%20%3D%20L.popup%28%7BmaxWidth%3A%20%27100%25%27%0A%20%20%20%20%20%20%20%20%20%20%20%20%0A%20%20%20%20%20%20%20%20%20%20%20%20%7D%29%3B%0A%0A%20%20%20%20%20%20%20%20%20%20%20%20%0A%20%20%20%20%20%20%20%20%20%20%20%20%20%20%20%20var%20html_dd9a10e4ff544bf3ac649da9aa09981a%20%3D%20%24%28%60%3Cdiv%20id%3D%22html_dd9a10e4ff544bf3ac649da9aa09981a%22%20style%3D%22width%3A%20100.0%25%3B%20height%3A%20100.0%25%3B%22%3E%20%20%20%20%20%20%20%20%20%3Cul%3E%20%20%20%20%20%20%20%20%20%20%20%20%20%3Cli%3E%3Cstrong%3EID%3A%20%3C/strong%3E908%3C/li%3E%20%20%20%20%20%20%20%20%20%20%20%20%20%3Cli%3E%3Cstrong%3ESource%3A%20%3C/strong%3EHenderson%20P%26C%20%2392%3C/li%3E%20%20%20%20%20%20%20%20%20%20%20%20%20%3Cli%3E%3Cstrong%3EOccupation%3A%20%3C/strong%3Enan%3C/li%3E%20%20%20%20%20%20%20%20%20%3Cul%3E%20%20%20%20%20%3C/div%3E%60%29%5B0%5D%3B%0A%20%20%20%20%20%20%20%20%20%20%20%20%20%20%20%20popup_be3d2b9a33504327beb1175c8fbe0437.setContent%28html_dd9a10e4ff544bf3ac649da9aa09981a%29%3B%0A%20%20%20%20%20%20%20%20%20%20%20%20%0A%0A%20%20%20%20%20%20%20%20%20%20%20%20marker_542d58b221c1461484bb6e31795750e0.bindPopup%28popup_be3d2b9a33504327beb1175c8fbe0437%29%0A%20%20%20%20%20%20%20%20%20%20%20%20%3B%0A%0A%20%20%20%20%20%20%20%20%20%20%20%20%0A%20%20%20%20%20%20%20%20%0A%20%20%20%20%0A%20%20%20%20%20%20%20%20var%20marker_3315ec934a734937bde0b6d2947dcbe2%20%3D%20L.marker%28%0A%20%20%20%20%20%20%20%20%20%20%20%20%5B43.77719444%2C%2011.24916444%5D%2C%0A%20%20%20%20%20%20%20%20%20%20%20%20%7B%0A%20%20%20%20%20%20%20%20%20%20%20%20%20%20%20%20icon%3A%20new%20L.Icon.Default%28%29%2C%0A%20%20%20%20%20%20%20%20%20%20%20%20%20%20%20%20%7D%0A%20%20%20%20%20%20%20%20%20%20%20%20%29.addTo%28map_146cd8147123498484976a07e362f27f%29%3B%0A%20%20%20%20%20%20%20%20%0A%20%20%20%20%0A%20%20%20%20%20%20%20%20%20%20%20%20var%20popup_af92917dfb9a46f4a69c5af7b1185250%20%3D%20L.popup%28%7BmaxWidth%3A%20%27100%25%27%0A%20%20%20%20%20%20%20%20%20%20%20%20%0A%20%20%20%20%20%20%20%20%20%20%20%20%7D%29%3B%0A%0A%20%20%20%20%20%20%20%20%20%20%20%20%0A%20%20%20%20%20%20%20%20%20%20%20%20%20%20%20%20var%20html_5c35f2811c844b069ac9bef685ba6f10%20%3D%20%24%28%60%3Cdiv%20id%3D%22html_5c35f2811c844b069ac9bef685ba6f10%22%20style%3D%22width%3A%20100.0%25%3B%20height%3A%20100.0%25%3B%22%3E%20%20%20%20%20%20%20%20%20%3Cul%3E%20%20%20%20%20%20%20%20%20%20%20%20%20%3Cli%3E%3Cstrong%3EID%3A%20%3C/strong%3E5357%3C/li%3E%20%20%20%20%20%20%20%20%20%20%20%20%20%3Cli%3E%3Cstrong%3ESource%3A%20%3C/strong%3EHenderson%20P%26C%20%2392%3C/li%3E%20%20%20%20%20%20%20%20%20%20%20%20%20%3Cli%3E%3Cstrong%3EOccupation%3A%20%3C/strong%3Enan%3C/li%3E%20%20%20%20%20%20%20%20%20%3Cul%3E%20%20%20%20%20%3C/div%3E%60%29%5B0%5D%3B%0A%20%20%20%20%20%20%20%20%20%20%20%20%20%20%20%20popup_af92917dfb9a46f4a69c5af7b1185250.setContent%28html_5c35f2811c844b069ac9bef685ba6f10%29%3B%0A%20%20%20%20%20%20%20%20%20%20%20%20%0A%0A%20%20%20%20%20%20%20%20%20%20%20%20marker_3315ec934a734937bde0b6d2947dcbe2.bindPopup%28popup_af92917dfb9a46f4a69c5af7b1185250%29%0A%20%20%20%20%20%20%20%20%20%20%20%20%3B%0A%0A%20%20%20%20%20%20%20%20%20%20%20%20%0A%20%20%20%20%20%20%20%20%0A%20%20%20%20%0A%20%20%20%20%20%20%20%20var%20marker_ac572fe2ad8e4f7dad6c649299367996%20%3D%20L.marker%28%0A%20%20%20%20%20%20%20%20%20%20%20%20%5B43.77600143%2C%2011.26026457%5D%2C%0A%20%20%20%20%20%20%20%20%20%20%20%20%7B%0A%20%20%20%20%20%20%20%20%20%20%20%20%20%20%20%20icon%3A%20new%20L.Icon.Default%28%29%2C%0A%20%20%20%20%20%20%20%20%20%20%20%20%20%20%20%20%7D%0A%20%20%20%20%20%20%20%20%20%20%20%20%29.addTo%28map_146cd8147123498484976a07e362f27f%29%3B%0A%20%20%20%20%20%20%20%20%0A%20%20%20%20%0A%20%20%20%20%20%20%20%20%20%20%20%20var%20popup_0df1448095054a2ba9802f9eeb44f055%20%3D%20L.popup%28%7BmaxWidth%3A%20%27100%25%27%0A%20%20%20%20%20%20%20%20%20%20%20%20%0A%20%20%20%20%20%20%20%20%20%20%20%20%7D%29%3B%0A%0A%20%20%20%20%20%20%20%20%20%20%20%20%0A%20%20%20%20%20%20%20%20%20%20%20%20%20%20%20%20var%20html_4143fa4fe6f141e382b63f7fa503f3d9%20%3D%20%24%28%60%3Cdiv%20id%3D%22html_4143fa4fe6f141e382b63f7fa503f3d9%22%20style%3D%22width%3A%20100.0%25%3B%20height%3A%20100.0%25%3B%22%3E%20%20%20%20%20%20%20%20%20%3Cul%3E%20%20%20%20%20%20%20%20%20%20%20%20%20%3Cli%3E%3Cstrong%3EID%3A%20%3C/strong%3E2945%3C/li%3E%20%20%20%20%20%20%20%20%20%20%20%20%20%3Cli%3E%3Cstrong%3ESource%3A%20%3C/strong%3EHenderson%20P%26C%20%2392%3C/li%3E%20%20%20%20%20%20%20%20%20%20%20%20%20%3Cli%3E%3Cstrong%3EOccupation%3A%20%3C/strong%3Enan%3C/li%3E%20%20%20%20%20%20%20%20%20%3Cul%3E%20%20%20%20%20%3C/div%3E%60%29%5B0%5D%3B%0A%20%20%20%20%20%20%20%20%20%20%20%20%20%20%20%20popup_0df1448095054a2ba9802f9eeb44f055.setContent%28html_4143fa4fe6f141e382b63f7fa503f3d9%29%3B%0A%20%20%20%20%20%20%20%20%20%20%20%20%0A%0A%20%20%20%20%20%20%20%20%20%20%20%20marker_ac572fe2ad8e4f7dad6c649299367996.bindPopup%28popup_0df1448095054a2ba9802f9eeb44f055%29%0A%20%20%20%20%20%20%20%20%20%20%20%20%3B%0A%0A%20%20%20%20%20%20%20%20%20%20%20%20%0A%20%20%20%20%20%20%20%20%0A%20%20%20%20%0A%20%20%20%20%20%20%20%20var%20marker_3e9f747cfdc74dc0938f3b071eca8b8b%20%3D%20L.marker%28%0A%20%20%20%20%20%20%20%20%20%20%20%20%5B43.77594286%2C%2011.26019514%5D%2C%0A%20%20%20%20%20%20%20%20%20%20%20%20%7B%0A%20%20%20%20%20%20%20%20%20%20%20%20%20%20%20%20icon%3A%20new%20L.Icon.Default%28%29%2C%0A%20%20%20%20%20%20%20%20%20%20%20%20%20%20%20%20%7D%0A%20%20%20%20%20%20%20%20%20%20%20%20%29.addTo%28map_146cd8147123498484976a07e362f27f%29%3B%0A%20%20%20%20%20%20%20%20%0A%20%20%20%20%0A%20%20%20%20%20%20%20%20%20%20%20%20var%20popup_f71ca239ee30417f87755f273066e82f%20%3D%20L.popup%28%7BmaxWidth%3A%20%27100%25%27%0A%20%20%20%20%20%20%20%20%20%20%20%20%0A%20%20%20%20%20%20%20%20%20%20%20%20%7D%29%3B%0A%0A%20%20%20%20%20%20%20%20%20%20%20%20%0A%20%20%20%20%20%20%20%20%20%20%20%20%20%20%20%20var%20html_9f00093e1edd4b7aac8d765033bc2a4a%20%3D%20%24%28%60%3Cdiv%20id%3D%22html_9f00093e1edd4b7aac8d765033bc2a4a%22%20style%3D%22width%3A%20100.0%25%3B%20height%3A%20100.0%25%3B%22%3E%20%20%20%20%20%20%20%20%20%3Cul%3E%20%20%20%20%20%20%20%20%20%20%20%20%20%3Cli%3E%3Cstrong%3EID%3A%20%3C/strong%3E2946%3C/li%3E%20%20%20%20%20%20%20%20%20%20%20%20%20%3Cli%3E%3Cstrong%3ESource%3A%20%3C/strong%3EHenderson%20P%26C%20%2392%3C/li%3E%20%20%20%20%20%20%20%20%20%20%20%20%20%3Cli%3E%3Cstrong%3EOccupation%3A%20%3C/strong%3Enan%3C/li%3E%20%20%20%20%20%20%20%20%20%3Cul%3E%20%20%20%20%20%3C/div%3E%60%29%5B0%5D%3B%0A%20%20%20%20%20%20%20%20%20%20%20%20%20%20%20%20popup_f71ca239ee30417f87755f273066e82f.setContent%28html_9f00093e1edd4b7aac8d765033bc2a4a%29%3B%0A%20%20%20%20%20%20%20%20%20%20%20%20%0A%0A%20%20%20%20%20%20%20%20%20%20%20%20marker_3e9f747cfdc74dc0938f3b071eca8b8b.bindPopup%28popup_f71ca239ee30417f87755f273066e82f%29%0A%20%20%20%20%20%20%20%20%20%20%20%20%3B%0A%0A%20%20%20%20%20%20%20%20%20%20%20%20%0A%20%20%20%20%20%20%20%20%0A%20%20%20%20%0A%20%20%20%20%20%20%20%20var%20marker_db75cedb5c1f41c28cdf23d3be2b6634%20%3D%20L.marker%28%0A%20%20%20%20%20%20%20%20%20%20%20%20%5B43.77588429%2C%2011.26012571%5D%2C%0A%20%20%20%20%20%20%20%20%20%20%20%20%7B%0A%20%20%20%20%20%20%20%20%20%20%20%20%20%20%20%20icon%3A%20new%20L.Icon.Default%28%29%2C%0A%20%20%20%20%20%20%20%20%20%20%20%20%20%20%20%20%7D%0A%20%20%20%20%20%20%20%20%20%20%20%20%29.addTo%28map_146cd8147123498484976a07e362f27f%29%3B%0A%20%20%20%20%20%20%20%20%0A%20%20%20%20%0A%20%20%20%20%20%20%20%20%20%20%20%20var%20popup_38f6949caf8d432499de77262e0a7621%20%3D%20L.popup%28%7BmaxWidth%3A%20%27100%25%27%0A%20%20%20%20%20%20%20%20%20%20%20%20%0A%20%20%20%20%20%20%20%20%20%20%20%20%7D%29%3B%0A%0A%20%20%20%20%20%20%20%20%20%20%20%20%0A%20%20%20%20%20%20%20%20%20%20%20%20%20%20%20%20var%20html_ae1c4558a18d480aaf9dead25e83bc40%20%3D%20%24%28%60%3Cdiv%20id%3D%22html_ae1c4558a18d480aaf9dead25e83bc40%22%20style%3D%22width%3A%20100.0%25%3B%20height%3A%20100.0%25%3B%22%3E%20%20%20%20%20%20%20%20%20%3Cul%3E%20%20%20%20%20%20%20%20%20%20%20%20%20%3Cli%3E%3Cstrong%3EID%3A%20%3C/strong%3E2947%3C/li%3E%20%20%20%20%20%20%20%20%20%20%20%20%20%3Cli%3E%3Cstrong%3ESource%3A%20%3C/strong%3EHenderson%20P%26C%20%2392%3C/li%3E%20%20%20%20%20%20%20%20%20%20%20%20%20%3Cli%3E%3Cstrong%3EOccupation%3A%20%3C/strong%3Enan%3C/li%3E%20%20%20%20%20%20%20%20%20%3Cul%3E%20%20%20%20%20%3C/div%3E%60%29%5B0%5D%3B%0A%20%20%20%20%20%20%20%20%20%20%20%20%20%20%20%20popup_38f6949caf8d432499de77262e0a7621.setContent%28html_ae1c4558a18d480aaf9dead25e83bc40%29%3B%0A%20%20%20%20%20%20%20%20%20%20%20%20%0A%0A%20%20%20%20%20%20%20%20%20%20%20%20marker_db75cedb5c1f41c28cdf23d3be2b6634.bindPopup%28popup_38f6949caf8d432499de77262e0a7621%29%0A%20%20%20%20%20%20%20%20%20%20%20%20%3B%0A%0A%20%20%20%20%20%20%20%20%20%20%20%20%0A%20%20%20%20%20%20%20%20%0A%20%20%20%20%0A%20%20%20%20%20%20%20%20var%20marker_8e79d0d22ced4990b2f2deb9202083bb%20%3D%20L.marker%28%0A%20%20%20%20%20%20%20%20%20%20%20%20%5B43.77606%2C%2011.260334%5D%2C%0A%20%20%20%20%20%20%20%20%20%20%20%20%7B%0A%20%20%20%20%20%20%20%20%20%20%20%20%20%20%20%20icon%3A%20new%20L.Icon.Default%28%29%2C%0A%20%20%20%20%20%20%20%20%20%20%20%20%20%20%20%20%7D%0A%20%20%20%20%20%20%20%20%20%20%20%20%29.addTo%28map_146cd8147123498484976a07e362f27f%29%3B%0A%20%20%20%20%20%20%20%20%0A%20%20%20%20%0A%20%20%20%20%20%20%20%20%20%20%20%20var%20popup_d62c877e1e5c40c6a2c44efe7dec387c%20%3D%20L.popup%28%7BmaxWidth%3A%20%27100%25%27%0A%20%20%20%20%20%20%20%20%20%20%20%20%0A%20%20%20%20%20%20%20%20%20%20%20%20%7D%29%3B%0A%0A%20%20%20%20%20%20%20%20%20%20%20%20%0A%20%20%20%20%20%20%20%20%20%20%20%20%20%20%20%20var%20html_83ec2d78cad74efe82d9567967bd1c6d%20%3D%20%24%28%60%3Cdiv%20id%3D%22html_83ec2d78cad74efe82d9567967bd1c6d%22%20style%3D%22width%3A%20100.0%25%3B%20height%3A%20100.0%25%3B%22%3E%20%20%20%20%20%20%20%20%20%3Cul%3E%20%20%20%20%20%20%20%20%20%20%20%20%20%3Cli%3E%3Cstrong%3EID%3A%20%3C/strong%3E2963%3C/li%3E%20%20%20%20%20%20%20%20%20%20%20%20%20%3Cli%3E%3Cstrong%3ESource%3A%20%3C/strong%3EHenderson%20P%26C%20%2392%3C/li%3E%20%20%20%20%20%20%20%20%20%20%20%20%20%3Cli%3E%3Cstrong%3EOccupation%3A%20%3C/strong%3Enan%3C/li%3E%20%20%20%20%20%20%20%20%20%3Cul%3E%20%20%20%20%20%3C/div%3E%60%29%5B0%5D%3B%0A%20%20%20%20%20%20%20%20%20%20%20%20%20%20%20%20popup_d62c877e1e5c40c6a2c44efe7dec387c.setContent%28html_83ec2d78cad74efe82d9567967bd1c6d%29%3B%0A%20%20%20%20%20%20%20%20%20%20%20%20%0A%0A%20%20%20%20%20%20%20%20%20%20%20%20marker_8e79d0d22ced4990b2f2deb9202083bb.bindPopup%28popup_d62c877e1e5c40c6a2c44efe7dec387c%29%0A%20%20%20%20%20%20%20%20%20%20%20%20%3B%0A%0A%20%20%20%20%20%20%20%20%20%20%20%20%0A%20%20%20%20%20%20%20%20%0A%20%20%20%20%0A%20%20%20%20%20%20%20%20var%20marker_08156a1d63b04baca6d1f1366fa5d420%20%3D%20L.marker%28%0A%20%20%20%20%20%20%20%20%20%20%20%20%5B43.7713504%2C%2011.2626168%5D%2C%0A%20%20%20%20%20%20%20%20%20%20%20%20%7B%0A%20%20%20%20%20%20%20%20%20%20%20%20%20%20%20%20icon%3A%20new%20L.Icon.Default%28%29%2C%0A%20%20%20%20%20%20%20%20%20%20%20%20%20%20%20%20%7D%0A%20%20%20%20%20%20%20%20%20%20%20%20%29.addTo%28map_146cd8147123498484976a07e362f27f%29%3B%0A%20%20%20%20%20%20%20%20%0A%20%20%20%20%0A%20%20%20%20%20%20%20%20%20%20%20%20var%20popup_ca908a0b2b604127b5ef863ad62316b0%20%3D%20L.popup%28%7BmaxWidth%3A%20%27100%25%27%0A%20%20%20%20%20%20%20%20%20%20%20%20%0A%20%20%20%20%20%20%20%20%20%20%20%20%7D%29%3B%0A%0A%20%20%20%20%20%20%20%20%20%20%20%20%0A%20%20%20%20%20%20%20%20%20%20%20%20%20%20%20%20var%20html_151d4130ead84f94aef958e92d5a1321%20%3D%20%24%28%60%3Cdiv%20id%3D%22html_151d4130ead84f94aef958e92d5a1321%22%20style%3D%22width%3A%20100.0%25%3B%20height%3A%20100.0%25%3B%22%3E%20%20%20%20%20%20%20%20%20%3Cul%3E%20%20%20%20%20%20%20%20%20%20%20%20%20%3Cli%3E%3Cstrong%3EID%3A%20%3C/strong%3E3296%3C/li%3E%20%20%20%20%20%20%20%20%20%20%20%20%20%3Cli%3E%3Cstrong%3ESource%3A%20%3C/strong%3EHenderson%20P%26C%20%2392%3C/li%3E%20%20%20%20%20%20%20%20%20%20%20%20%20%3Cli%3E%3Cstrong%3EOccupation%3A%20%3C/strong%3Esellaio%3C/li%3E%20%20%20%20%20%20%20%20%20%3Cul%3E%20%20%20%20%20%3C/div%3E%60%29%5B0%5D%3B%0A%20%20%20%20%20%20%20%20%20%20%20%20%20%20%20%20popup_ca908a0b2b604127b5ef863ad62316b0.setContent%28html_151d4130ead84f94aef958e92d5a1321%29%3B%0A%20%20%20%20%20%20%20%20%20%20%20%20%0A%0A%20%20%20%20%20%20%20%20%20%20%20%20marker_08156a1d63b04baca6d1f1366fa5d420.bindPopup%28popup_ca908a0b2b604127b5ef863ad62316b0%29%0A%20%20%20%20%20%20%20%20%20%20%20%20%3B%0A%0A%20%20%20%20%20%20%20%20%20%20%20%20%0A%20%20%20%20%20%20%20%20%0A%20%20%20%20%0A%20%20%20%20%20%20%20%20var%20marker_f5202ffa330f48f686b75965ca6233ac%20%3D%20L.marker%28%0A%20%20%20%20%20%20%20%20%20%20%20%20%5B43.77074933%2C%2011.26244367%5D%2C%0A%20%20%20%20%20%20%20%20%20%20%20%20%7B%0A%20%20%20%20%20%20%20%20%20%20%20%20%20%20%20%20icon%3A%20new%20L.Icon.Default%28%29%2C%0A%20%20%20%20%20%20%20%20%20%20%20%20%20%20%20%20%7D%0A%20%20%20%20%20%20%20%20%20%20%20%20%29.addTo%28map_146cd8147123498484976a07e362f27f%29%3B%0A%20%20%20%20%20%20%20%20%0A%20%20%20%20%0A%20%20%20%20%20%20%20%20%20%20%20%20var%20popup_51200527de2a4d4796a8a37c6ccb0943%20%3D%20L.popup%28%7BmaxWidth%3A%20%27100%25%27%0A%20%20%20%20%20%20%20%20%20%20%20%20%0A%20%20%20%20%20%20%20%20%20%20%20%20%7D%29%3B%0A%0A%20%20%20%20%20%20%20%20%20%20%20%20%0A%20%20%20%20%20%20%20%20%20%20%20%20%20%20%20%20var%20html_a4369e7df225434fb96b8ade4f6e3b06%20%3D%20%24%28%60%3Cdiv%20id%3D%22html_a4369e7df225434fb96b8ade4f6e3b06%22%20style%3D%22width%3A%20100.0%25%3B%20height%3A%20100.0%25%3B%22%3E%20%20%20%20%20%20%20%20%20%3Cul%3E%20%20%20%20%20%20%20%20%20%20%20%20%20%3Cli%3E%3Cstrong%3EID%3A%20%3C/strong%3E3455%3C/li%3E%20%20%20%20%20%20%20%20%20%20%20%20%20%3Cli%3E%3Cstrong%3ESource%3A%20%3C/strong%3EHenderson%20P%26C%20%2392%3C/li%3E%20%20%20%20%20%20%20%20%20%20%20%20%20%3Cli%3E%3Cstrong%3EOccupation%3A%20%3C/strong%3Etessitore%3C/li%3E%20%20%20%20%20%20%20%20%20%3Cul%3E%20%20%20%20%20%3C/div%3E%60%29%5B0%5D%3B%0A%20%20%20%20%20%20%20%20%20%20%20%20%20%20%20%20popup_51200527de2a4d4796a8a37c6ccb0943.setContent%28html_a4369e7df225434fb96b8ade4f6e3b06%29%3B%0A%20%20%20%20%20%20%20%20%20%20%20%20%0A%0A%20%20%20%20%20%20%20%20%20%20%20%20marker_f5202ffa330f48f686b75965ca6233ac.bindPopup%28popup_51200527de2a4d4796a8a37c6ccb0943%29%0A%20%20%20%20%20%20%20%20%20%20%20%20%3B%0A%0A%20%20%20%20%20%20%20%20%20%20%20%20%0A%20%20%20%20%20%20%20%20%0A%20%20%20%20%0A%20%20%20%20%20%20%20%20var%20marker_bade43db44f041f3bb858c6809e8c198%20%3D%20L.marker%28%0A%20%20%20%20%20%20%20%20%20%20%20%20%5B43.76905%2C%2011.26039%5D%2C%0A%20%20%20%20%20%20%20%20%20%20%20%20%7B%0A%20%20%20%20%20%20%20%20%20%20%20%20%20%20%20%20icon%3A%20new%20L.Icon.Default%28%29%2C%0A%20%20%20%20%20%20%20%20%20%20%20%20%20%20%20%20%7D%0A%20%20%20%20%20%20%20%20%20%20%20%20%29.addTo%28map_146cd8147123498484976a07e362f27f%29%3B%0A%20%20%20%20%20%20%20%20%0A%20%20%20%20%0A%20%20%20%20%20%20%20%20%20%20%20%20var%20popup_3730c4aa0ec74209bb0c25230faf48b1%20%3D%20L.popup%28%7BmaxWidth%3A%20%27100%25%27%0A%20%20%20%20%20%20%20%20%20%20%20%20%0A%20%20%20%20%20%20%20%20%20%20%20%20%7D%29%3B%0A%0A%20%20%20%20%20%20%20%20%20%20%20%20%0A%20%20%20%20%20%20%20%20%20%20%20%20%20%20%20%20var%20html_72d702b411c74c21a76a91bbef055063%20%3D%20%24%28%60%3Cdiv%20id%3D%22html_72d702b411c74c21a76a91bbef055063%22%20style%3D%22width%3A%20100.0%25%3B%20height%3A%20100.0%25%3B%22%3E%20%20%20%20%20%20%20%20%20%3Cul%3E%20%20%20%20%20%20%20%20%20%20%20%20%20%3Cli%3E%3Cstrong%3EID%3A%20%3C/strong%3E4120%3C/li%3E%20%20%20%20%20%20%20%20%20%20%20%20%20%3Cli%3E%3Cstrong%3ESource%3A%20%3C/strong%3EHenderson%20P%26C%20%2392%3C/li%3E%20%20%20%20%20%20%20%20%20%20%20%20%20%3Cli%3E%3Cstrong%3EOccupation%3A%20%3C/strong%3Eciabattino%3C/li%3E%20%20%20%20%20%20%20%20%20%3Cul%3E%20%20%20%20%20%3C/div%3E%60%29%5B0%5D%3B%0A%20%20%20%20%20%20%20%20%20%20%20%20%20%20%20%20popup_3730c4aa0ec74209bb0c25230faf48b1.setContent%28html_72d702b411c74c21a76a91bbef055063%29%3B%0A%20%20%20%20%20%20%20%20%20%20%20%20%0A%0A%20%20%20%20%20%20%20%20%20%20%20%20marker_bade43db44f041f3bb858c6809e8c198.bindPopup%28popup_3730c4aa0ec74209bb0c25230faf48b1%29%0A%20%20%20%20%20%20%20%20%20%20%20%20%3B%0A%0A%20%20%20%20%20%20%20%20%20%20%20%20%0A%20%20%20%20%20%20%20%20%0A%20%20%20%20%0A%20%20%20%20%20%20%20%20var%20marker_5b6d95c469104ba9a865ecb8935acf28%20%3D%20L.marker%28%0A%20%20%20%20%20%20%20%20%20%20%20%20%5B43.76794%2C%2011.25578%5D%2C%0A%20%20%20%20%20%20%20%20%20%20%20%20%7B%0A%20%20%20%20%20%20%20%20%20%20%20%20%20%20%20%20icon%3A%20new%20L.Icon.Default%28%29%2C%0A%20%20%20%20%20%20%20%20%20%20%20%20%20%20%20%20%7D%0A%20%20%20%20%20%20%20%20%20%20%20%20%29.addTo%28map_146cd8147123498484976a07e362f27f%29%3B%0A%20%20%20%20%20%20%20%20%0A%20%20%20%20%0A%20%20%20%20%20%20%20%20%20%20%20%20var%20popup_dc93754b198f4df38f526349c87ea4c5%20%3D%20L.popup%28%7BmaxWidth%3A%20%27100%25%27%0A%20%20%20%20%20%20%20%20%20%20%20%20%0A%20%20%20%20%20%20%20%20%20%20%20%20%7D%29%3B%0A%0A%20%20%20%20%20%20%20%20%20%20%20%20%0A%20%20%20%20%20%20%20%20%20%20%20%20%20%20%20%20var%20html_1393848556ab473ea483482cef8eb557%20%3D%20%24%28%60%3Cdiv%20id%3D%22html_1393848556ab473ea483482cef8eb557%22%20style%3D%22width%3A%20100.0%25%3B%20height%3A%20100.0%25%3B%22%3E%20%20%20%20%20%20%20%20%20%3Cul%3E%20%20%20%20%20%20%20%20%20%20%20%20%20%3Cli%3E%3Cstrong%3EID%3A%20%3C/strong%3E4651%3C/li%3E%20%20%20%20%20%20%20%20%20%20%20%20%20%3Cli%3E%3Cstrong%3ESource%3A%20%3C/strong%3EHenderson%20P%26C%20%2392%3C/li%3E%20%20%20%20%20%20%20%20%20%20%20%20%20%3Cli%3E%3Cstrong%3EOccupation%3A%20%3C/strong%3Enan%3C/li%3E%20%20%20%20%20%20%20%20%20%3Cul%3E%20%20%20%20%20%3C/div%3E%60%29%5B0%5D%3B%0A%20%20%20%20%20%20%20%20%20%20%20%20%20%20%20%20popup_dc93754b198f4df38f526349c87ea4c5.setContent%28html_1393848556ab473ea483482cef8eb557%29%3B%0A%20%20%20%20%20%20%20%20%20%20%20%20%0A%0A%20%20%20%20%20%20%20%20%20%20%20%20marker_5b6d95c469104ba9a865ecb8935acf28.bindPopup%28popup_dc93754b198f4df38f526349c87ea4c5%29%0A%20%20%20%20%20%20%20%20%20%20%20%20%3B%0A%0A%20%20%20%20%20%20%20%20%20%20%20%20%0A%20%20%20%20%20%20%20%20%0A%20%20%20%20%0A%20%20%20%20%20%20%20%20var%20marker_53af582d302e49359667ced7e4dfc8ac%20%3D%20L.marker%28%0A%20%20%20%20%20%20%20%20%20%20%20%20%5B43.77055767%2C%2011.27046367%5D%2C%0A%20%20%20%20%20%20%20%20%20%20%20%20%7B%0A%20%20%20%20%20%20%20%20%20%20%20%20%20%20%20%20icon%3A%20new%20L.Icon.Default%28%29%2C%0A%20%20%20%20%20%20%20%20%20%20%20%20%20%20%20%20%7D%0A%20%20%20%20%20%20%20%20%20%20%20%20%29.addTo%28map_146cd8147123498484976a07e362f27f%29%3B%0A%20%20%20%20%20%20%20%20%0A%20%20%20%20%0A%20%20%20%20%20%20%20%20%20%20%20%20var%20popup_7a9ff4c46b394fcba6a7c3b7e2762588%20%3D%20L.popup%28%7BmaxWidth%3A%20%27100%25%27%0A%20%20%20%20%20%20%20%20%20%20%20%20%0A%20%20%20%20%20%20%20%20%20%20%20%20%7D%29%3B%0A%0A%20%20%20%20%20%20%20%20%20%20%20%20%0A%20%20%20%20%20%20%20%20%20%20%20%20%20%20%20%20var%20html_4dbeb15a760d49c29fbf7d2c90f46748%20%3D%20%24%28%60%3Cdiv%20id%3D%22html_4dbeb15a760d49c29fbf7d2c90f46748%22%20style%3D%22width%3A%20100.0%25%3B%20height%3A%20100.0%25%3B%22%3E%20%20%20%20%20%20%20%20%20%3Cul%3E%20%20%20%20%20%20%20%20%20%20%20%20%20%3Cli%3E%3Cstrong%3EID%3A%20%3C/strong%3E2073%3C/li%3E%20%20%20%20%20%20%20%20%20%20%20%20%20%3Cli%3E%3Cstrong%3ESource%3A%20%3C/strong%3EHenderson%20P%26C%20%23114%3C/li%3E%20%20%20%20%20%20%20%20%20%20%20%20%20%3Cli%3E%3Cstrong%3EOccupation%3A%20%3C/strong%3EDomenico%20di%20Francesco%20di%20Casantino%3C/li%3E%20%20%20%20%20%20%20%20%20%3Cul%3E%20%20%20%20%20%3C/div%3E%60%29%5B0%5D%3B%0A%20%20%20%20%20%20%20%20%20%20%20%20%20%20%20%20popup_7a9ff4c46b394fcba6a7c3b7e2762588.setContent%28html_4dbeb15a760d49c29fbf7d2c90f46748%29%3B%0A%20%20%20%20%20%20%20%20%20%20%20%20%0A%0A%20%20%20%20%20%20%20%20%20%20%20%20marker_53af582d302e49359667ced7e4dfc8ac.bindPopup%28popup_7a9ff4c46b394fcba6a7c3b7e2762588%29%0A%20%20%20%20%20%20%20%20%20%20%20%20%3B%0A%0A%20%20%20%20%20%20%20%20%20%20%20%20%0A%20%20%20%20%20%20%20%20%0A%20%20%20%20%0A%20%20%20%20%20%20%20%20var%20marker_740f4f00f5cf4e898c39e90f778c7321%20%3D%20L.marker%28%0A%20%20%20%20%20%20%20%20%20%20%20%20%5B43.770336%2C%2011.264497%5D%2C%0A%20%20%20%20%20%20%20%20%20%20%20%20%7B%0A%20%20%20%20%20%20%20%20%20%20%20%20%20%20%20%20icon%3A%20new%20L.Icon.Default%28%29%2C%0A%20%20%20%20%20%20%20%20%20%20%20%20%20%20%20%20%7D%0A%20%20%20%20%20%20%20%20%20%20%20%20%29.addTo%28map_146cd8147123498484976a07e362f27f%29%3B%0A%20%20%20%20%20%20%20%20%0A%20%20%20%20%0A%20%20%20%20%20%20%20%20%20%20%20%20var%20popup_1cc814b1a8204d2dac6609db79b7a683%20%3D%20L.popup%28%7BmaxWidth%3A%20%27100%25%27%0A%20%20%20%20%20%20%20%20%20%20%20%20%0A%20%20%20%20%20%20%20%20%20%20%20%20%7D%29%3B%0A%0A%20%20%20%20%20%20%20%20%20%20%20%20%0A%20%20%20%20%20%20%20%20%20%20%20%20%20%20%20%20var%20html_7597037aa30a4ee6a3705f98bbef0d2f%20%3D%20%24%28%60%3Cdiv%20id%3D%22html_7597037aa30a4ee6a3705f98bbef0d2f%22%20style%3D%22width%3A%20100.0%25%3B%20height%3A%20100.0%25%3B%22%3E%20%20%20%20%20%20%20%20%20%3Cul%3E%20%20%20%20%20%20%20%20%20%20%20%20%20%3Cli%3E%3Cstrong%3EID%3A%20%3C/strong%3E3219%3C/li%3E%20%20%20%20%20%20%20%20%20%20%20%20%20%3Cli%3E%3Cstrong%3ESource%3A%20%3C/strong%3EHenderson%20P%26C%20%23137%3C/li%3E%20%20%20%20%20%20%20%20%20%20%20%20%20%3Cli%3E%3Cstrong%3EOccupation%3A%20%3C/strong%3EMarchonne%20di%20Giovannni%20Dazzi%3C/li%3E%20%20%20%20%20%20%20%20%20%3Cul%3E%20%20%20%20%20%3C/div%3E%60%29%5B0%5D%3B%0A%20%20%20%20%20%20%20%20%20%20%20%20%20%20%20%20popup_1cc814b1a8204d2dac6609db79b7a683.setContent%28html_7597037aa30a4ee6a3705f98bbef0d2f%29%3B%0A%20%20%20%20%20%20%20%20%20%20%20%20%0A%0A%20%20%20%20%20%20%20%20%20%20%20%20marker_740f4f00f5cf4e898c39e90f778c7321.bindPopup%28popup_1cc814b1a8204d2dac6609db79b7a683%29%0A%20%20%20%20%20%20%20%20%20%20%20%20%3B%0A%0A%20%20%20%20%20%20%20%20%20%20%20%20%0A%20%20%20%20%20%20%20%20%0A%20%20%20%20%0A%20%20%20%20%20%20%20%20var%20marker_377b2ca158b04b98863a999edd5f89ef%20%3D%20L.marker%28%0A%20%20%20%20%20%20%20%20%20%20%20%20%5B43.77111764%2C%2011.26918979%5D%2C%0A%20%20%20%20%20%20%20%20%20%20%20%20%7B%0A%20%20%20%20%20%20%20%20%20%20%20%20%20%20%20%20icon%3A%20new%20L.Icon.Default%28%29%2C%0A%20%20%20%20%20%20%20%20%20%20%20%20%20%20%20%20%7D%0A%20%20%20%20%20%20%20%20%20%20%20%20%29.addTo%28map_146cd8147123498484976a07e362f27f%29%3B%0A%20%20%20%20%20%20%20%20%0A%20%20%20%20%0A%20%20%20%20%20%20%20%20%20%20%20%20var%20popup_f9a53827d98c4e38b836c5f7b7c0883f%20%3D%20L.popup%28%7BmaxWidth%3A%20%27100%25%27%0A%20%20%20%20%20%20%20%20%20%20%20%20%0A%20%20%20%20%20%20%20%20%20%20%20%20%7D%29%3B%0A%0A%20%20%20%20%20%20%20%20%20%20%20%20%0A%20%20%20%20%20%20%20%20%20%20%20%20%20%20%20%20var%20html_6b7304e79b56464c963662e64326b1dc%20%3D%20%24%28%60%3Cdiv%20id%3D%22html_6b7304e79b56464c963662e64326b1dc%22%20style%3D%22width%3A%20100.0%25%3B%20height%3A%20100.0%25%3B%22%3E%20%20%20%20%20%20%20%20%20%3Cul%3E%20%20%20%20%20%20%20%20%20%20%20%20%20%3Cli%3E%3Cstrong%3EID%3A%20%3C/strong%3E2203%3C/li%3E%20%20%20%20%20%20%20%20%20%20%20%20%20%3Cli%3E%3Cstrong%3ESource%3A%20%3C/strong%3EHenderson%20P%26C%20%23137%3C/li%3E%20%20%20%20%20%20%20%20%20%20%20%20%20%3Cli%3E%3Cstrong%3EOccupation%3A%20%3C/strong%3ELa%20Dianora%2C%20vedova%2C%20donna%20fu%20di%20Piero%20Bastachi%3C/li%3E%20%20%20%20%20%20%20%20%20%3Cul%3E%20%20%20%20%20%3C/div%3E%60%29%5B0%5D%3B%0A%20%20%20%20%20%20%20%20%20%20%20%20%20%20%20%20popup_f9a53827d98c4e38b836c5f7b7c0883f.setContent%28html_6b7304e79b56464c963662e64326b1dc%29%3B%0A%20%20%20%20%20%20%20%20%20%20%20%20%0A%0A%20%20%20%20%20%20%20%20%20%20%20%20marker_377b2ca158b04b98863a999edd5f89ef.bindPopup%28popup_f9a53827d98c4e38b836c5f7b7c0883f%29%0A%20%20%20%20%20%20%20%20%20%20%20%20%3B%0A%0A%20%20%20%20%20%20%20%20%20%20%20%20%0A%20%20%20%20%20%20%20%20%0A%20%20%20%20%0A%20%20%20%20%20%20%20%20var%20marker_0187ba9ef38c4e9d9b4299baa7e87d1d%20%3D%20L.marker%28%0A%20%20%20%20%20%20%20%20%20%20%20%20%5B43.775931%2C%2011.252323%5D%2C%0A%20%20%20%20%20%20%20%20%20%20%20%20%7B%0A%20%20%20%20%20%20%20%20%20%20%20%20%20%20%20%20icon%3A%20new%20L.Icon.Default%28%29%2C%0A%20%20%20%20%20%20%20%20%20%20%20%20%20%20%20%20%7D%0A%20%20%20%20%20%20%20%20%20%20%20%20%29.addTo%28map_146cd8147123498484976a07e362f27f%29%3B%0A%20%20%20%20%20%20%20%20%0A%20%20%20%20%0A%20%20%20%20%20%20%20%20%20%20%20%20var%20popup_73e4a8141d4146b3930f50ceda8025ae%20%3D%20L.popup%28%7BmaxWidth%3A%20%27100%25%27%0A%20%20%20%20%20%20%20%20%20%20%20%20%0A%20%20%20%20%20%20%20%20%20%20%20%20%7D%29%3B%0A%0A%20%20%20%20%20%20%20%20%20%20%20%20%0A%20%20%20%20%20%20%20%20%20%20%20%20%20%20%20%20var%20html_fc129ad958654d48a7249080dabcceed%20%3D%20%24%28%60%3Cdiv%20id%3D%22html_fc129ad958654d48a7249080dabcceed%22%20style%3D%22width%3A%20100.0%25%3B%20height%3A%20100.0%25%3B%22%3E%20%20%20%20%20%20%20%20%20%3Cul%3E%20%20%20%20%20%20%20%20%20%20%20%20%20%3Cli%3E%3Cstrong%3EID%3A%20%3C/strong%3E147%3C/li%3E%20%20%20%20%20%20%20%20%20%20%20%20%20%3Cli%3E%3Cstrong%3ESource%3A%20%3C/strong%3EHenderson%20P%26C%20104%3C/li%3E%20%20%20%20%20%20%20%20%20%20%20%20%20%3Cli%3E%3Cstrong%3EOccupation%3A%20%3C/strong%3EBenedetto%20di%20Monsacco%3C/li%3E%20%20%20%20%20%20%20%20%20%3Cul%3E%20%20%20%20%20%3C/div%3E%60%29%5B0%5D%3B%0A%20%20%20%20%20%20%20%20%20%20%20%20%20%20%20%20popup_73e4a8141d4146b3930f50ceda8025ae.setContent%28html_fc129ad958654d48a7249080dabcceed%29%3B%0A%20%20%20%20%20%20%20%20%20%20%20%20%0A%0A%20%20%20%20%20%20%20%20%20%20%20%20marker_0187ba9ef38c4e9d9b4299baa7e87d1d.bindPopup%28popup_73e4a8141d4146b3930f50ceda8025ae%29%0A%20%20%20%20%20%20%20%20%20%20%20%20%3B%0A%0A%20%20%20%20%20%20%20%20%20%20%20%20%0A%20%20%20%20%20%20%20%20%0A%20%20%20%20%0A%20%20%20%20%20%20%20%20var%20marker_54f9f04d313d4c70a88403829dbe9b1f%20%3D%20L.marker%28%0A%20%20%20%20%20%20%20%20%20%20%20%20%5B43.76581%2C%2011.24711857%5D%2C%0A%20%20%20%20%20%20%20%20%20%20%20%20%7B%0A%20%20%20%20%20%20%20%20%20%20%20%20%20%20%20%20icon%3A%20new%20L.Icon.Default%28%29%2C%0A%20%20%20%20%20%20%20%20%20%20%20%20%20%20%20%20%7D%0A%20%20%20%20%20%20%20%20%20%20%20%20%29.addTo%28map_146cd8147123498484976a07e362f27f%29%3B%0A%20%20%20%20%20%20%20%20%0A%20%20%20%20%0A%20%20%20%20%20%20%20%20%20%20%20%20var%20popup_cc1af88aad61488cb0987b3b44ddfcb4%20%3D%20L.popup%28%7BmaxWidth%3A%20%27100%25%27%0A%20%20%20%20%20%20%20%20%20%20%20%20%0A%20%20%20%20%20%20%20%20%20%20%20%20%7D%29%3B%0A%0A%20%20%20%20%20%20%20%20%20%20%20%20%0A%20%20%20%20%20%20%20%20%20%20%20%20%20%20%20%20var%20html_54b4730ed21a44bda558edf287b95dd2%20%3D%20%24%28%60%3Cdiv%20id%3D%22html_54b4730ed21a44bda558edf287b95dd2%22%20style%3D%22width%3A%20100.0%25%3B%20height%3A%20100.0%25%3B%22%3E%20%20%20%20%20%20%20%20%20%3Cul%3E%20%20%20%20%20%20%20%20%20%20%20%20%20%3Cli%3E%3Cstrong%3EID%3A%20%3C/strong%3E7343%3C/li%3E%20%20%20%20%20%20%20%20%20%20%20%20%20%3Cli%3E%3Cstrong%3ESource%3A%20%3C/strong%3EHenderson%20P%26C%20%2378%3C/li%3E%20%20%20%20%20%20%20%20%20%20%20%20%20%3Cli%3E%3Cstrong%3EOccupation%3A%20%3C/strong%3EGiovannozzo%20di%20Raffaello%20Parenti%3C/li%3E%20%20%20%20%20%20%20%20%20%3Cul%3E%20%20%20%20%20%3C/div%3E%60%29%5B0%5D%3B%0A%20%20%20%20%20%20%20%20%20%20%20%20%20%20%20%20popup_cc1af88aad61488cb0987b3b44ddfcb4.setContent%28html_54b4730ed21a44bda558edf287b95dd2%29%3B%0A%20%20%20%20%20%20%20%20%20%20%20%20%0A%0A%20%20%20%20%20%20%20%20%20%20%20%20marker_54f9f04d313d4c70a88403829dbe9b1f.bindPopup%28popup_cc1af88aad61488cb0987b3b44ddfcb4%29%0A%20%20%20%20%20%20%20%20%20%20%20%20%3B%0A%0A%20%20%20%20%20%20%20%20%20%20%20%20%0A%20%20%20%20%20%20%20%20%0A%20%20%20%20%0A%20%20%20%20%20%20%20%20var%20marker_c3e67c50a732419ab2d0f630d3711617%20%3D%20L.marker%28%0A%20%20%20%20%20%20%20%20%20%20%20%20%5B43.7674384%2C%2011.244969%5D%2C%0A%20%20%20%20%20%20%20%20%20%20%20%20%7B%0A%20%20%20%20%20%20%20%20%20%20%20%20%20%20%20%20icon%3A%20new%20L.Icon.Default%28%29%2C%0A%20%20%20%20%20%20%20%20%20%20%20%20%20%20%20%20%7D%0A%20%20%20%20%20%20%20%20%20%20%20%20%29.addTo%28map_146cd8147123498484976a07e362f27f%29%3B%0A%20%20%20%20%20%20%20%20%0A%20%20%20%20%0A%20%20%20%20%20%20%20%20%20%20%20%20var%20popup_c5c9d9e684c847f4aaf3c5faed26602b%20%3D%20L.popup%28%7BmaxWidth%3A%20%27100%25%27%0A%20%20%20%20%20%20%20%20%20%20%20%20%0A%20%20%20%20%20%20%20%20%20%20%20%20%7D%29%3B%0A%0A%20%20%20%20%20%20%20%20%20%20%20%20%0A%20%20%20%20%20%20%20%20%20%20%20%20%20%20%20%20var%20html_ab7e83688cad445ab8397a76b99cd7b8%20%3D%20%24%28%60%3Cdiv%20id%3D%22html_ab7e83688cad445ab8397a76b99cd7b8%22%20style%3D%22width%3A%20100.0%25%3B%20height%3A%20100.0%25%3B%22%3E%20%20%20%20%20%20%20%20%20%3Cul%3E%20%20%20%20%20%20%20%20%20%20%20%20%20%3Cli%3E%3Cstrong%3EID%3A%20%3C/strong%3E8476%3C/li%3E%20%20%20%20%20%20%20%20%20%20%20%20%20%3Cli%3E%3Cstrong%3ESource%3A%20%3C/strong%3EHenderson%20P%26C%20%2392%3C/li%3E%20%20%20%20%20%20%20%20%20%20%20%20%20%3Cli%3E%3Cstrong%3EOccupation%3A%20%3C/strong%3Eun%20pigionale%3C/li%3E%20%20%20%20%20%20%20%20%20%3Cul%3E%20%20%20%20%20%3C/div%3E%60%29%5B0%5D%3B%0A%20%20%20%20%20%20%20%20%20%20%20%20%20%20%20%20popup_c5c9d9e684c847f4aaf3c5faed26602b.setContent%28html_ab7e83688cad445ab8397a76b99cd7b8%29%3B%0A%20%20%20%20%20%20%20%20%20%20%20%20%0A%0A%20%20%20%20%20%20%20%20%20%20%20%20marker_c3e67c50a732419ab2d0f630d3711617.bindPopup%28popup_c5c9d9e684c847f4aaf3c5faed26602b%29%0A%20%20%20%20%20%20%20%20%20%20%20%20%3B%0A%0A%20%20%20%20%20%20%20%20%20%20%20%20%0A%20%20%20%20%20%20%20%20%0A%20%20%20%20%0A%20%20%20%20%20%20%20%20var%20marker_efec7edeb28f436c8bd8748208b20e1e%20%3D%20L.marker%28%0A%20%20%20%20%20%20%20%20%20%20%20%20%5B43.77294222%2C%2011.24744556%5D%2C%0A%20%20%20%20%20%20%20%20%20%20%20%20%7B%0A%20%20%20%20%20%20%20%20%20%20%20%20%20%20%20%20icon%3A%20new%20L.Icon.Default%28%29%2C%0A%20%20%20%20%20%20%20%20%20%20%20%20%20%20%20%20%7D%0A%20%20%20%20%20%20%20%20%20%20%20%20%29.addTo%28map_146cd8147123498484976a07e362f27f%29%3B%0A%20%20%20%20%20%20%20%20%0A%20%20%20%20%0A%20%20%20%20%20%20%20%20%20%20%20%20var%20popup_1d98971bde5f4bc0a36f79ec4f423692%20%3D%20L.popup%28%7BmaxWidth%3A%20%27100%25%27%0A%20%20%20%20%20%20%20%20%20%20%20%20%0A%20%20%20%20%20%20%20%20%20%20%20%20%7D%29%3B%0A%0A%20%20%20%20%20%20%20%20%20%20%20%20%0A%20%20%20%20%20%20%20%20%20%20%20%20%20%20%20%20var%20html_0670d6664b104cf09846ba43826f619a%20%3D%20%24%28%60%3Cdiv%20id%3D%22html_0670d6664b104cf09846ba43826f619a%22%20style%3D%22width%3A%20100.0%25%3B%20height%3A%20100.0%25%3B%22%3E%20%20%20%20%20%20%20%20%20%3Cul%3E%20%20%20%20%20%20%20%20%20%20%20%20%20%3Cli%3E%3Cstrong%3EID%3A%20%3C/strong%3E5514%3C/li%3E%20%20%20%20%20%20%20%20%20%20%20%20%20%3Cli%3E%3Cstrong%3ESource%3A%20%3C/strong%3EHenderson%20P%26C%20%2392%3C/li%3E%20%20%20%20%20%20%20%20%20%20%20%20%20%3Cli%3E%3Cstrong%3EOccupation%3A%20%3C/strong%3ELorenzo%20di%20Niccolo%3C/li%3E%20%20%20%20%20%20%20%20%20%3Cul%3E%20%20%20%20%20%3C/div%3E%60%29%5B0%5D%3B%0A%20%20%20%20%20%20%20%20%20%20%20%20%20%20%20%20popup_1d98971bde5f4bc0a36f79ec4f423692.setContent%28html_0670d6664b104cf09846ba43826f619a%29%3B%0A%20%20%20%20%20%20%20%20%20%20%20%20%0A%0A%20%20%20%20%20%20%20%20%20%20%20%20marker_efec7edeb28f436c8bd8748208b20e1e.bindPopup%28popup_1d98971bde5f4bc0a36f79ec4f423692%29%0A%20%20%20%20%20%20%20%20%20%20%20%20%3B%0A%0A%20%20%20%20%20%20%20%20%20%20%20%20%0A%20%20%20%20%20%20%20%20%0A%20%20%20%20%0A%20%20%20%20%20%20%20%20var%20marker_8e1be1dfd8b1449b93f0599497d036fd%20%3D%20L.marker%28%0A%20%20%20%20%20%20%20%20%20%20%20%20%5B43.76800359%2C%2011.24089635%5D%2C%0A%20%20%20%20%20%20%20%20%20%20%20%20%7B%0A%20%20%20%20%20%20%20%20%20%20%20%20%20%20%20%20icon%3A%20new%20L.Icon.Default%28%29%2C%0A%20%20%20%20%20%20%20%20%20%20%20%20%20%20%20%20%7D%0A%20%20%20%20%20%20%20%20%20%20%20%20%29.addTo%28map_146cd8147123498484976a07e362f27f%29%3B%0A%20%20%20%20%20%20%20%20%0A%20%20%20%20%0A%20%20%20%20%20%20%20%20%20%20%20%20var%20popup_e5f629893f7d4c689e35a3f4eb08384f%20%3D%20L.popup%28%7BmaxWidth%3A%20%27100%25%27%0A%20%20%20%20%20%20%20%20%20%20%20%20%0A%20%20%20%20%20%20%20%20%20%20%20%20%7D%29%3B%0A%0A%20%20%20%20%20%20%20%20%20%20%20%20%0A%20%20%20%20%20%20%20%20%20%20%20%20%20%20%20%20var%20html_703bb8476f174ddf8a3b9a0376808423%20%3D%20%24%28%60%3Cdiv%20id%3D%22html_703bb8476f174ddf8a3b9a0376808423%22%20style%3D%22width%3A%20100.0%25%3B%20height%3A%20100.0%25%3B%22%3E%20%20%20%20%20%20%20%20%20%3Cul%3E%20%20%20%20%20%20%20%20%20%20%20%20%20%3Cli%3E%3Cstrong%3EID%3A%20%3C/strong%3E8102%3C/li%3E%20%20%20%20%20%20%20%20%20%20%20%20%20%3Cli%3E%3Cstrong%3ESource%3A%20%3C/strong%3EHenderson%20P%26C%20%23147%3C/li%3E%20%20%20%20%20%20%20%20%20%20%20%20%20%3Cli%3E%3Cstrong%3EOccupation%3A%20%3C/strong%3EFrancesco%20di%20Salvestro%3C/li%3E%20%20%20%20%20%20%20%20%20%3Cul%3E%20%20%20%20%20%3C/div%3E%60%29%5B0%5D%3B%0A%20%20%20%20%20%20%20%20%20%20%20%20%20%20%20%20popup_e5f629893f7d4c689e35a3f4eb08384f.setContent%28html_703bb8476f174ddf8a3b9a0376808423%29%3B%0A%20%20%20%20%20%20%20%20%20%20%20%20%0A%0A%20%20%20%20%20%20%20%20%20%20%20%20marker_8e1be1dfd8b1449b93f0599497d036fd.bindPopup%28popup_e5f629893f7d4c689e35a3f4eb08384f%29%0A%20%20%20%20%20%20%20%20%20%20%20%20%3B%0A%0A%20%20%20%20%20%20%20%20%20%20%20%20%0A%20%20%20%20%20%20%20%20%0A%20%20%20%20%0A%20%20%20%20%20%20%20%20var%20marker_37b8702a368445058cb877fb4e6640b7%20%3D%20L.marker%28%0A%20%20%20%20%20%20%20%20%20%20%20%20%5B43.770728%2C%2011.270409%5D%2C%0A%20%20%20%20%20%20%20%20%20%20%20%20%7B%0A%20%20%20%20%20%20%20%20%20%20%20%20%20%20%20%20icon%3A%20new%20L.Icon.Default%28%29%2C%0A%20%20%20%20%20%20%20%20%20%20%20%20%20%20%20%20%7D%0A%20%20%20%20%20%20%20%20%20%20%20%20%29.addTo%28map_146cd8147123498484976a07e362f27f%29%3B%0A%20%20%20%20%20%20%20%20%0A%20%20%20%20%0A%20%20%20%20%20%20%20%20%20%20%20%20var%20popup_840b1d4c0ae64bcfa39e9f13d940cc6b%20%3D%20L.popup%28%7BmaxWidth%3A%20%27100%25%27%0A%20%20%20%20%20%20%20%20%20%20%20%20%0A%20%20%20%20%20%20%20%20%20%20%20%20%7D%29%3B%0A%0A%20%20%20%20%20%20%20%20%20%20%20%20%0A%20%20%20%20%20%20%20%20%20%20%20%20%20%20%20%20var%20html_179fa16917e04e25b2b0fca04834d2ea%20%3D%20%24%28%60%3Cdiv%20id%3D%22html_179fa16917e04e25b2b0fca04834d2ea%22%20style%3D%22width%3A%20100.0%25%3B%20height%3A%20100.0%25%3B%22%3E%20%20%20%20%20%20%20%20%20%3Cul%3E%20%20%20%20%20%20%20%20%20%20%20%20%20%3Cli%3E%3Cstrong%3EID%3A%20%3C/strong%3E2030%3C/li%3E%20%20%20%20%20%20%20%20%20%20%20%20%20%3Cli%3E%3Cstrong%3ESource%3A%20%3C/strong%3EHenderson%20P%26C%20%23105%20%5Bor%20121%5D%3C/li%3E%20%20%20%20%20%20%20%20%20%20%20%20%20%3Cli%3E%3Cstrong%3EOccupation%3A%20%3C/strong%3EDomenico%20di%20Jacopo%20Santini%3C/li%3E%20%20%20%20%20%20%20%20%20%3Cul%3E%20%20%20%20%20%3C/div%3E%60%29%5B0%5D%3B%0A%20%20%20%20%20%20%20%20%20%20%20%20%20%20%20%20popup_840b1d4c0ae64bcfa39e9f13d940cc6b.setContent%28html_179fa16917e04e25b2b0fca04834d2ea%29%3B%0A%20%20%20%20%20%20%20%20%20%20%20%20%0A%0A%20%20%20%20%20%20%20%20%20%20%20%20marker_37b8702a368445058cb877fb4e6640b7.bindPopup%28popup_840b1d4c0ae64bcfa39e9f13d940cc6b%29%0A%20%20%20%20%20%20%20%20%20%20%20%20%3B%0A%0A%20%20%20%20%20%20%20%20%20%20%20%20%0A%20%20%20%20%20%20%20%20%0A%20%20%20%20%0A%20%20%20%20%20%20%20%20var%20marker_b7a1f1d4dcb8401b8355f738aa002b06%20%3D%20L.marker%28%0A%20%20%20%20%20%20%20%20%20%20%20%20%5B43.77714732%2C%2011.25429326%5D%2C%0A%20%20%20%20%20%20%20%20%20%20%20%20%7B%0A%20%20%20%20%20%20%20%20%20%20%20%20%20%20%20%20icon%3A%20new%20L.Icon.Default%28%29%2C%0A%20%20%20%20%20%20%20%20%20%20%20%20%20%20%20%20%7D%0A%20%20%20%20%20%20%20%20%20%20%20%20%29.addTo%28map_146cd8147123498484976a07e362f27f%29%3B%0A%20%20%20%20%20%20%20%20%0A%20%20%20%20%0A%20%20%20%20%20%20%20%20%20%20%20%20var%20popup_6f760220098d4f1580e89b8b38541322%20%3D%20L.popup%28%7BmaxWidth%3A%20%27100%25%27%0A%20%20%20%20%20%20%20%20%20%20%20%20%0A%20%20%20%20%20%20%20%20%20%20%20%20%7D%29%3B%0A%0A%20%20%20%20%20%20%20%20%20%20%20%20%0A%20%20%20%20%20%20%20%20%20%20%20%20%20%20%20%20var%20html_bd1f059c351d49f6ae7dc41f6f009b7e%20%3D%20%24%28%60%3Cdiv%20id%3D%22html_bd1f059c351d49f6ae7dc41f6f009b7e%22%20style%3D%22width%3A%20100.0%25%3B%20height%3A%20100.0%25%3B%22%3E%20%20%20%20%20%20%20%20%20%3Cul%3E%20%20%20%20%20%20%20%20%20%20%20%20%20%3Cli%3E%3Cstrong%3EID%3A%20%3C/strong%3E400%3C/li%3E%20%20%20%20%20%20%20%20%20%20%20%20%20%3Cli%3E%3Cstrong%3ESource%3A%20%3C/strong%3EHenderson%20P%26C%20%2342%3C/li%3E%20%20%20%20%20%20%20%20%20%20%20%20%20%3Cli%3E%3Cstrong%3EOccupation%3A%20%3C/strong%3EGiovanni%20di%20Raffaello%2C%20rivenditore%3C/li%3E%20%20%20%20%20%20%20%20%20%3Cul%3E%20%20%20%20%20%3C/div%3E%60%29%5B0%5D%3B%0A%20%20%20%20%20%20%20%20%20%20%20%20%20%20%20%20popup_6f760220098d4f1580e89b8b38541322.setContent%28html_bd1f059c351d49f6ae7dc41f6f009b7e%29%3B%0A%20%20%20%20%20%20%20%20%20%20%20%20%0A%0A%20%20%20%20%20%20%20%20%20%20%20%20marker_b7a1f1d4dcb8401b8355f738aa002b06.bindPopup%28popup_6f760220098d4f1580e89b8b38541322%29%0A%20%20%20%20%20%20%20%20%20%20%20%20%3B%0A%0A%20%20%20%20%20%20%20%20%20%20%20%20%0A%20%20%20%20%20%20%20%20%0A%20%20%20%20%0A%20%20%20%20%20%20%20%20var%20marker_85b7d340efcb4b56a0c8effc38e63a02%20%3D%20L.marker%28%0A%20%20%20%20%20%20%20%20%20%20%20%20%5B43.78140888%2C%2011.260031%5D%2C%0A%20%20%20%20%20%20%20%20%20%20%20%20%7B%0A%20%20%20%20%20%20%20%20%20%20%20%20%20%20%20%20icon%3A%20new%20L.Icon.Default%28%29%2C%0A%20%20%20%20%20%20%20%20%20%20%20%20%20%20%20%20%7D%0A%20%20%20%20%20%20%20%20%20%20%20%20%29.addTo%28map_146cd8147123498484976a07e362f27f%29%3B%0A%20%20%20%20%20%20%20%20%0A%20%20%20%20%0A%20%20%20%20%20%20%20%20%20%20%20%20var%20popup_4b5ace66608048d7a3c8bba7dd5488da%20%3D%20L.popup%28%7BmaxWidth%3A%20%27100%25%27%0A%20%20%20%20%20%20%20%20%20%20%20%20%0A%20%20%20%20%20%20%20%20%20%20%20%20%7D%29%3B%0A%0A%20%20%20%20%20%20%20%20%20%20%20%20%0A%20%20%20%20%20%20%20%20%20%20%20%20%20%20%20%20var%20html_e31995ccde3f4c1a90c72207b72fe8e1%20%3D%20%24%28%60%3Cdiv%20id%3D%22html_e31995ccde3f4c1a90c72207b72fe8e1%22%20style%3D%22width%3A%20100.0%25%3B%20height%3A%20100.0%25%3B%22%3E%20%20%20%20%20%20%20%20%20%3Cul%3E%20%20%20%20%20%20%20%20%20%20%20%20%20%3Cli%3E%3Cstrong%3EID%3A%20%3C/strong%3E1098%3C/li%3E%20%20%20%20%20%20%20%20%20%20%20%20%20%3Cli%3E%3Cstrong%3ESource%3A%20%3C/strong%3EHenderson%20P%26C%20%2353%3C/li%3E%20%20%20%20%20%20%20%20%20%20%20%20%20%3Cli%3E%3Cstrong%3EOccupation%3A%20%3C/strong%3ELorenzo%20di%20%5BBastiano%5D%2C%20battilano%3C/li%3E%20%20%20%20%20%20%20%20%20%3Cul%3E%20%20%20%20%20%3C/div%3E%60%29%5B0%5D%3B%0A%20%20%20%20%20%20%20%20%20%20%20%20%20%20%20%20popup_4b5ace66608048d7a3c8bba7dd5488da.setContent%28html_e31995ccde3f4c1a90c72207b72fe8e1%29%3B%0A%20%20%20%20%20%20%20%20%20%20%20%20%0A%0A%20%20%20%20%20%20%20%20%20%20%20%20marker_85b7d340efcb4b56a0c8effc38e63a02.bindPopup%28popup_4b5ace66608048d7a3c8bba7dd5488da%29%0A%20%20%20%20%20%20%20%20%20%20%20%20%3B%0A%0A%20%20%20%20%20%20%20%20%20%20%20%20%0A%20%20%20%20%20%20%20%20%0A%20%20%20%20%0A%20%20%20%20%20%20%20%20var%20marker_1ad9cb237d5648139aa44816a6cdfc7e%20%3D%20L.marker%28%0A%20%20%20%20%20%20%20%20%20%20%20%20%5B43.76968667%2C%2011.242858%5D%2C%0A%20%20%20%20%20%20%20%20%20%20%20%20%7B%0A%20%20%20%20%20%20%20%20%20%20%20%20%20%20%20%20icon%3A%20new%20L.Icon.Default%28%29%2C%0A%20%20%20%20%20%20%20%20%20%20%20%20%20%20%20%20%7D%0A%20%20%20%20%20%20%20%20%20%20%20%20%29.addTo%28map_146cd8147123498484976a07e362f27f%29%3B%0A%20%20%20%20%20%20%20%20%0A%20%20%20%20%0A%20%20%20%20%20%20%20%20%20%20%20%20var%20popup_f4f28fe4e5084e9d8d0c10f223956e8f%20%3D%20L.popup%28%7BmaxWidth%3A%20%27100%25%27%0A%20%20%20%20%20%20%20%20%20%20%20%20%0A%20%20%20%20%20%20%20%20%20%20%20%20%7D%29%3B%0A%0A%20%20%20%20%20%20%20%20%20%20%20%20%0A%20%20%20%20%20%20%20%20%20%20%20%20%20%20%20%20var%20html_c84b7311bac64b7886a983e811c2026f%20%3D%20%24%28%60%3Cdiv%20id%3D%22html_c84b7311bac64b7886a983e811c2026f%22%20style%3D%22width%3A%20100.0%25%3B%20height%3A%20100.0%25%3B%22%3E%20%20%20%20%20%20%20%20%20%3Cul%3E%20%20%20%20%20%20%20%20%20%20%20%20%20%3Cli%3E%3Cstrong%3EID%3A%20%3C/strong%3E8063%3C/li%3E%20%20%20%20%20%20%20%20%20%20%20%20%20%3Cli%3E%3Cstrong%3ESource%3A%20%3C/strong%3Enan%3C/li%3E%20%20%20%20%20%20%20%20%20%20%20%20%20%3Cli%3E%3Cstrong%3EOccupation%3A%20%3C/strong%3EBartolomeo%20di%20Francesco%20d%27%20Arezzo%3C/li%3E%20%20%20%20%20%20%20%20%20%3Cul%3E%20%20%20%20%20%3C/div%3E%60%29%5B0%5D%3B%0A%20%20%20%20%20%20%20%20%20%20%20%20%20%20%20%20popup_f4f28fe4e5084e9d8d0c10f223956e8f.setContent%28html_c84b7311bac64b7886a983e811c2026f%29%3B%0A%20%20%20%20%20%20%20%20%20%20%20%20%0A%0A%20%20%20%20%20%20%20%20%20%20%20%20marker_1ad9cb237d5648139aa44816a6cdfc7e.bindPopup%28popup_f4f28fe4e5084e9d8d0c10f223956e8f%29%0A%20%20%20%20%20%20%20%20%20%20%20%20%3B%0A%0A%20%20%20%20%20%20%20%20%20%20%20%20%0A%20%20%20%20%20%20%20%20%0A%20%20%20%20%0A%20%20%20%20%20%20%20%20var%20marker_5d1f44da59b24ecc87b829f898c743fb%20%3D%20L.marker%28%0A%20%20%20%20%20%20%20%20%20%20%20%20%5B43.763872%2C%2011.245746%5D%2C%0A%20%20%20%20%20%20%20%20%20%20%20%20%7B%0A%20%20%20%20%20%20%20%20%20%20%20%20%20%20%20%20icon%3A%20new%20L.Icon.Default%28%29%2C%0A%20%20%20%20%20%20%20%20%20%20%20%20%20%20%20%20%7D%0A%20%20%20%20%20%20%20%20%20%20%20%20%29.addTo%28map_146cd8147123498484976a07e362f27f%29%3B%0A%20%20%20%20%20%20%20%20%0A%20%20%20%20%0A%20%20%20%20%20%20%20%20%20%20%20%20var%20popup_d99cc6070a9841aaa572a2813a615334%20%3D%20L.popup%28%7BmaxWidth%3A%20%27100%25%27%0A%20%20%20%20%20%20%20%20%20%20%20%20%0A%20%20%20%20%20%20%20%20%20%20%20%20%7D%29%3B%0A%0A%20%20%20%20%20%20%20%20%20%20%20%20%0A%20%20%20%20%20%20%20%20%20%20%20%20%20%20%20%20var%20html_88b704c839ad4f8aa254c3d7e8ec975b%20%3D%20%24%28%60%3Cdiv%20id%3D%22html_88b704c839ad4f8aa254c3d7e8ec975b%22%20style%3D%22width%3A%20100.0%25%3B%20height%3A%20100.0%25%3B%22%3E%20%20%20%20%20%20%20%20%20%3Cul%3E%20%20%20%20%20%20%20%20%20%20%20%20%20%3Cli%3E%3Cstrong%3EID%3A%20%3C/strong%3E7160%3C/li%3E%20%20%20%20%20%20%20%20%20%20%20%20%20%3Cli%3E%3Cstrong%3ESource%3A%20%3C/strong%3EHenderson%20P%26C%20%2313%3C/li%3E%20%20%20%20%20%20%20%20%20%20%20%20%20%3Cli%3E%3Cstrong%3EOccupation%3A%20%3C/strong%3EAgnolo%20d%27%20Andrea%20da%20Mantozia%3C/li%3E%20%20%20%20%20%20%20%20%20%3Cul%3E%20%20%20%20%20%3C/div%3E%60%29%5B0%5D%3B%0A%20%20%20%20%20%20%20%20%20%20%20%20%20%20%20%20popup_d99cc6070a9841aaa572a2813a615334.setContent%28html_88b704c839ad4f8aa254c3d7e8ec975b%29%3B%0A%20%20%20%20%20%20%20%20%20%20%20%20%0A%0A%20%20%20%20%20%20%20%20%20%20%20%20marker_5d1f44da59b24ecc87b829f898c743fb.bindPopup%28popup_d99cc6070a9841aaa572a2813a615334%29%0A%20%20%20%20%20%20%20%20%20%20%20%20%3B%0A%0A%20%20%20%20%20%20%20%20%20%20%20%20%0A%20%20%20%20%20%20%20%20%0A%20%20%20%20%0A%20%20%20%20%20%20%20%20var%20marker_3514f6e2aad642ac90ff8be74414168f%20%3D%20L.marker%28%0A%20%20%20%20%20%20%20%20%20%20%20%20%5B43.76521889%2C%2011.24484333%5D%2C%0A%20%20%20%20%20%20%20%20%20%20%20%20%7B%0A%20%20%20%20%20%20%20%20%20%20%20%20%20%20%20%20icon%3A%20new%20L.Icon.Default%28%29%2C%0A%20%20%20%20%20%20%20%20%20%20%20%20%20%20%20%20%7D%0A%20%20%20%20%20%20%20%20%20%20%20%20%29.addTo%28map_146cd8147123498484976a07e362f27f%29%3B%0A%20%20%20%20%20%20%20%20%0A%20%20%20%20%0A%20%20%20%20%20%20%20%20%20%20%20%20var%20popup_a3b77600803240a7ad67f63caf90d681%20%3D%20L.popup%28%7BmaxWidth%3A%20%27100%25%27%0A%20%20%20%20%20%20%20%20%20%20%20%20%0A%20%20%20%20%20%20%20%20%20%20%20%20%7D%29%3B%0A%0A%20%20%20%20%20%20%20%20%20%20%20%20%0A%20%20%20%20%20%20%20%20%20%20%20%20%20%20%20%20var%20html_160c1a3f0f8e4e73ae0ad60b0ca717c3%20%3D%20%24%28%60%3Cdiv%20id%3D%22html_160c1a3f0f8e4e73ae0ad60b0ca717c3%22%20style%3D%22width%3A%20100.0%25%3B%20height%3A%20100.0%25%3B%22%3E%20%20%20%20%20%20%20%20%20%3Cul%3E%20%20%20%20%20%20%20%20%20%20%20%20%20%3Cli%3E%3Cstrong%3EID%3A%20%3C/strong%3E7322%3C/li%3E%20%20%20%20%20%20%20%20%20%20%20%20%20%3Cli%3E%3Cstrong%3ESource%3A%20%3C/strong%3EHenderson%20P%26C%20%2313%3C/li%3E%20%20%20%20%20%20%20%20%20%20%20%20%20%3Cli%3E%3Cstrong%3EOccupation%3A%20%3C/strong%3EGiovanni%20Ormanni%20rividitore%3C/li%3E%20%20%20%20%20%20%20%20%20%3Cul%3E%20%20%20%20%20%3C/div%3E%60%29%5B0%5D%3B%0A%20%20%20%20%20%20%20%20%20%20%20%20%20%20%20%20popup_a3b77600803240a7ad67f63caf90d681.setContent%28html_160c1a3f0f8e4e73ae0ad60b0ca717c3%29%3B%0A%20%20%20%20%20%20%20%20%20%20%20%20%0A%0A%20%20%20%20%20%20%20%20%20%20%20%20marker_3514f6e2aad642ac90ff8be74414168f.bindPopup%28popup_a3b77600803240a7ad67f63caf90d681%29%0A%20%20%20%20%20%20%20%20%20%20%20%20%3B%0A%0A%20%20%20%20%20%20%20%20%20%20%20%20%0A%20%20%20%20%20%20%20%20%0A%20%20%20%20%0A%20%20%20%20%20%20%20%20var%20marker_99d67f2258fd49c0b50bec3e9aad5335%20%3D%20L.marker%28%0A%20%20%20%20%20%20%20%20%20%20%20%20%5B43.76386563%2C%2011.26206188%5D%2C%0A%20%20%20%20%20%20%20%20%20%20%20%20%7B%0A%20%20%20%20%20%20%20%20%20%20%20%20%20%20%20%20icon%3A%20new%20L.Icon.Default%28%29%2C%0A%20%20%20%20%20%20%20%20%20%20%20%20%20%20%20%20%7D%0A%20%20%20%20%20%20%20%20%20%20%20%20%29.addTo%28map_146cd8147123498484976a07e362f27f%29%3B%0A%20%20%20%20%20%20%20%20%0A%20%20%20%20%0A%20%20%20%20%20%20%20%20%20%20%20%20var%20popup_38d3c5005fcd4bb6ad597835e7b1863a%20%3D%20L.popup%28%7BmaxWidth%3A%20%27100%25%27%0A%20%20%20%20%20%20%20%20%20%20%20%20%0A%20%20%20%20%20%20%20%20%20%20%20%20%7D%29%3B%0A%0A%20%20%20%20%20%20%20%20%20%20%20%20%0A%20%20%20%20%20%20%20%20%20%20%20%20%20%20%20%20var%20html_c67cdd6aa7a64db799b75b7361ad4346%20%3D%20%24%28%60%3Cdiv%20id%3D%22html_c67cdd6aa7a64db799b75b7361ad4346%22%20style%3D%22width%3A%20100.0%25%3B%20height%3A%20100.0%25%3B%22%3E%20%20%20%20%20%20%20%20%20%3Cul%3E%20%20%20%20%20%20%20%20%20%20%20%20%20%3Cli%3E%3Cstrong%3EID%3A%20%3C/strong%3E6161%3C/li%3E%20%20%20%20%20%20%20%20%20%20%20%20%20%3Cli%3E%3Cstrong%3ESource%3A%20%3C/strong%3EHenderson%20P%26C%20%2313%3C/li%3E%20%20%20%20%20%20%20%20%20%20%20%20%20%3Cli%3E%3Cstrong%3EOccupation%3A%20%3C/strong%3EAntonio%20di%20Domenico%20Palanti%3C/li%3E%20%20%20%20%20%20%20%20%20%3Cul%3E%20%20%20%20%20%3C/div%3E%60%29%5B0%5D%3B%0A%20%20%20%20%20%20%20%20%20%20%20%20%20%20%20%20popup_38d3c5005fcd4bb6ad597835e7b1863a.setContent%28html_c67cdd6aa7a64db799b75b7361ad4346%29%3B%0A%20%20%20%20%20%20%20%20%20%20%20%20%0A%0A%20%20%20%20%20%20%20%20%20%20%20%20marker_99d67f2258fd49c0b50bec3e9aad5335.bindPopup%28popup_38d3c5005fcd4bb6ad597835e7b1863a%29%0A%20%20%20%20%20%20%20%20%20%20%20%20%3B%0A%0A%20%20%20%20%20%20%20%20%20%20%20%20%0A%20%20%20%20%20%20%20%20%0A%20%20%20%20%0A%20%20%20%20%20%20%20%20var%20marker_99da2e75051543e29da12fe866466d5b%20%3D%20L.marker%28%0A%20%20%20%20%20%20%20%20%20%20%20%20%5B43.78036243%2C%2011.25901252%5D%2C%0A%20%20%20%20%20%20%20%20%20%20%20%20%7B%0A%20%20%20%20%20%20%20%20%20%20%20%20%20%20%20%20icon%3A%20new%20L.Icon.Default%28%29%2C%0A%20%20%20%20%20%20%20%20%20%20%20%20%20%20%20%20%7D%0A%20%20%20%20%20%20%20%20%20%20%20%20%29.addTo%28map_146cd8147123498484976a07e362f27f%29%3B%0A%20%20%20%20%20%20%20%20%0A%20%20%20%20%0A%20%20%20%20%20%20%20%20%20%20%20%20var%20popup_5fe3d52fcce04e41a9a39de0a04a260b%20%3D%20L.popup%28%7BmaxWidth%3A%20%27100%25%27%0A%20%20%20%20%20%20%20%20%20%20%20%20%0A%20%20%20%20%20%20%20%20%20%20%20%20%7D%29%3B%0A%0A%20%20%20%20%20%20%20%20%20%20%20%20%0A%20%20%20%20%20%20%20%20%20%20%20%20%20%20%20%20var%20html_739117098c04459ebf3e011f90fa789a%20%3D%20%24%28%60%3Cdiv%20id%3D%22html_739117098c04459ebf3e011f90fa789a%22%20style%3D%22width%3A%20100.0%25%3B%20height%3A%20100.0%25%3B%22%3E%20%20%20%20%20%20%20%20%20%3Cul%3E%20%20%20%20%20%20%20%20%20%20%20%20%20%3Cli%3E%3Cstrong%3EID%3A%20%3C/strong%3E1203%3C/li%3E%20%20%20%20%20%20%20%20%20%20%20%20%20%3Cli%3E%3Cstrong%3ESource%3A%20%3C/strong%3Enan%3C/li%3E%20%20%20%20%20%20%20%20%20%20%20%20%20%3Cli%3E%3Cstrong%3EOccupation%3A%20%3C/strong%3ELucca%20di%20Stefano%20dal%20Borgo%20a%20S.%20Lorenzo%2C%20calzolaio%3C/li%3E%20%20%20%20%20%20%20%20%20%3Cul%3E%20%20%20%20%20%3C/div%3E%60%29%5B0%5D%3B%0A%20%20%20%20%20%20%20%20%20%20%20%20%20%20%20%20popup_5fe3d52fcce04e41a9a39de0a04a260b.setContent%28html_739117098c04459ebf3e011f90fa789a%29%3B%0A%20%20%20%20%20%20%20%20%20%20%20%20%0A%0A%20%20%20%20%20%20%20%20%20%20%20%20marker_99da2e75051543e29da12fe866466d5b.bindPopup%28popup_5fe3d52fcce04e41a9a39de0a04a260b%29%0A%20%20%20%20%20%20%20%20%20%20%20%20%3B%0A%0A%20%20%20%20%20%20%20%20%20%20%20%20%0A%20%20%20%20%20%20%20%20%0A%20%20%20%20%0A%20%20%20%20%20%20%20%20var%20marker_6781fdae95db4f188daba340ef55d0df%20%3D%20L.marker%28%0A%20%20%20%20%20%20%20%20%20%20%20%20%5B43.77592314%2C%2011.24932725%5D%2C%0A%20%20%20%20%20%20%20%20%20%20%20%20%7B%0A%20%20%20%20%20%20%20%20%20%20%20%20%20%20%20%20icon%3A%20new%20L.Icon.Default%28%29%2C%0A%20%20%20%20%20%20%20%20%20%20%20%20%20%20%20%20%7D%0A%20%20%20%20%20%20%20%20%20%20%20%20%29.addTo%28map_146cd8147123498484976a07e362f27f%29%3B%0A%20%20%20%20%20%20%20%20%0A%20%20%20%20%0A%20%20%20%20%20%20%20%20%20%20%20%20var%20popup_79d5dc27948645b39b6c4f39c364ed37%20%3D%20L.popup%28%7BmaxWidth%3A%20%27100%25%27%0A%20%20%20%20%20%20%20%20%20%20%20%20%0A%20%20%20%20%20%20%20%20%20%20%20%20%7D%29%3B%0A%0A%20%20%20%20%20%20%20%20%20%20%20%20%0A%20%20%20%20%20%20%20%20%20%20%20%20%20%20%20%20var%20html_5ef1955dd8e543fb9f1dcf7aea4ac3ae%20%3D%20%24%28%60%3Cdiv%20id%3D%22html_5ef1955dd8e543fb9f1dcf7aea4ac3ae%22%20style%3D%22width%3A%20100.0%25%3B%20height%3A%20100.0%25%3B%22%3E%20%20%20%20%20%20%20%20%20%3Cul%3E%20%20%20%20%20%20%20%20%20%20%20%20%20%3Cli%3E%3Cstrong%3EID%3A%20%3C/strong%3E4441%3C/li%3E%20%20%20%20%20%20%20%20%20%20%20%20%20%3Cli%3E%3Cstrong%3ESource%3A%20%3C/strong%3Enan%3C/li%3E%20%20%20%20%20%20%20%20%20%20%20%20%20%3Cli%3E%3Cstrong%3EOccupation%3A%20%3C/strong%3EGirolamo%20di%20Bencio%20Benci%3C/li%3E%20%20%20%20%20%20%20%20%20%3Cul%3E%20%20%20%20%20%3C/div%3E%60%29%5B0%5D%3B%0A%20%20%20%20%20%20%20%20%20%20%20%20%20%20%20%20popup_79d5dc27948645b39b6c4f39c364ed37.setContent%28html_5ef1955dd8e543fb9f1dcf7aea4ac3ae%29%3B%0A%20%20%20%20%20%20%20%20%20%20%20%20%0A%0A%20%20%20%20%20%20%20%20%20%20%20%20marker_6781fdae95db4f188daba340ef55d0df.bindPopup%28popup_79d5dc27948645b39b6c4f39c364ed37%29%0A%20%20%20%20%20%20%20%20%20%20%20%20%3B%0A%0A%20%20%20%20%20%20%20%20%20%20%20%20%0A%20%20%20%20%20%20%20%20%0A%20%20%20%20%0A%20%20%20%20%20%20%20%20var%20marker_01a4c6fe1974454ebfaa648bdd55e0dc%20%3D%20L.marker%28%0A%20%20%20%20%20%20%20%20%20%20%20%20%5B43.77368155%2C%2011.26281945%5D%2C%0A%20%20%20%20%20%20%20%20%20%20%20%20%7B%0A%20%20%20%20%20%20%20%20%20%20%20%20%20%20%20%20icon%3A%20new%20L.Icon.Default%28%29%2C%0A%20%20%20%20%20%20%20%20%20%20%20%20%20%20%20%20%7D%0A%20%20%20%20%20%20%20%20%20%20%20%20%29.addTo%28map_146cd8147123498484976a07e362f27f%29%3B%0A%20%20%20%20%20%20%20%20%0A%20%20%20%20%0A%20%20%20%20%20%20%20%20%20%20%20%20var%20popup_45afb87319a247f08594628b2ea94881%20%3D%20L.popup%28%7BmaxWidth%3A%20%27100%25%27%0A%20%20%20%20%20%20%20%20%20%20%20%20%0A%20%20%20%20%20%20%20%20%20%20%20%20%7D%29%3B%0A%0A%20%20%20%20%20%20%20%20%20%20%20%20%0A%20%20%20%20%20%20%20%20%20%20%20%20%20%20%20%20var%20html_0f6eb7698ba54c6eb4fcf81df93a01dd%20%3D%20%24%28%60%3Cdiv%20id%3D%22html_0f6eb7698ba54c6eb4fcf81df93a01dd%22%20style%3D%22width%3A%20100.0%25%3B%20height%3A%20100.0%25%3B%22%3E%20%20%20%20%20%20%20%20%20%3Cul%3E%20%20%20%20%20%20%20%20%20%20%20%20%20%3Cli%3E%3Cstrong%3EID%3A%20%3C/strong%3E2088%3C/li%3E%20%20%20%20%20%20%20%20%20%20%20%20%20%3Cli%3E%3Cstrong%3ESource%3A%20%3C/strong%3Enan%3C/li%3E%20%20%20%20%20%20%20%20%20%20%20%20%20%3Cli%3E%3Cstrong%3EOccupation%3A%20%3C/strong%3EGiovangualberto%20di%20Jacopo%2C%20tessitore%3C/li%3E%20%20%20%20%20%20%20%20%20%3Cul%3E%20%20%20%20%20%3C/div%3E%60%29%5B0%5D%3B%0A%20%20%20%20%20%20%20%20%20%20%20%20%20%20%20%20popup_45afb87319a247f08594628b2ea94881.setContent%28html_0f6eb7698ba54c6eb4fcf81df93a01dd%29%3B%0A%20%20%20%20%20%20%20%20%20%20%20%20%0A%0A%20%20%20%20%20%20%20%20%20%20%20%20marker_01a4c6fe1974454ebfaa648bdd55e0dc.bindPopup%28popup_45afb87319a247f08594628b2ea94881%29%0A%20%20%20%20%20%20%20%20%20%20%20%20%3B%0A%0A%20%20%20%20%20%20%20%20%20%20%20%20%0A%20%20%20%20%20%20%20%20%0A%20%20%20%20%0A%20%20%20%20%20%20%20%20var%20marker_cef8a460d3364f649c3da99d0c4d8b4c%20%3D%20L.marker%28%0A%20%20%20%20%20%20%20%20%20%20%20%20%5B43.76489%2C%2011.244635%5D%2C%0A%20%20%20%20%20%20%20%20%20%20%20%20%7B%0A%20%20%20%20%20%20%20%20%20%20%20%20%20%20%20%20icon%3A%20new%20L.Icon.Default%28%29%2C%0A%20%20%20%20%20%20%20%20%20%20%20%20%20%20%20%20%7D%0A%20%20%20%20%20%20%20%20%20%20%20%20%29.addTo%28map_146cd8147123498484976a07e362f27f%29%3B%0A%20%20%20%20%20%20%20%20%0A%20%20%20%20%0A%20%20%20%20%20%20%20%20%20%20%20%20var%20popup_b3248c80fc8f4ec496ce447cfdff604f%20%3D%20L.popup%28%7BmaxWidth%3A%20%27100%25%27%0A%20%20%20%20%20%20%20%20%20%20%20%20%0A%20%20%20%20%20%20%20%20%20%20%20%20%7D%29%3B%0A%0A%20%20%20%20%20%20%20%20%20%20%20%20%0A%20%20%20%20%20%20%20%20%20%20%20%20%20%20%20%20var%20html_b431177545374cf88af744cc2c3bf3a8%20%3D%20%24%28%60%3Cdiv%20id%3D%22html_b431177545374cf88af744cc2c3bf3a8%22%20style%3D%22width%3A%20100.0%25%3B%20height%3A%20100.0%25%3B%22%3E%20%20%20%20%20%20%20%20%20%3Cul%3E%20%20%20%20%20%20%20%20%20%20%20%20%20%3Cli%3E%3Cstrong%3EID%3A%20%3C/strong%3E7389%3C/li%3E%20%20%20%20%20%20%20%20%20%20%20%20%20%3Cli%3E%3Cstrong%3ESource%3A%20%3C/strong%3EHenderson%20P%26C%20%23110%3C/li%3E%20%20%20%20%20%20%20%20%20%20%20%20%20%3Cli%3E%3Cstrong%3EOccupation%3A%20%3C/strong%3EPiero%20di%20Bastiano%20pettinagnolo%3C/li%3E%20%20%20%20%20%20%20%20%20%3Cul%3E%20%20%20%20%20%3C/div%3E%60%29%5B0%5D%3B%0A%20%20%20%20%20%20%20%20%20%20%20%20%20%20%20%20popup_b3248c80fc8f4ec496ce447cfdff604f.setContent%28html_b431177545374cf88af744cc2c3bf3a8%29%3B%0A%20%20%20%20%20%20%20%20%20%20%20%20%0A%0A%20%20%20%20%20%20%20%20%20%20%20%20marker_cef8a460d3364f649c3da99d0c4d8b4c.bindPopup%28popup_b3248c80fc8f4ec496ce447cfdff604f%29%0A%20%20%20%20%20%20%20%20%20%20%20%20%3B%0A%0A%20%20%20%20%20%20%20%20%20%20%20%20%0A%20%20%20%20%20%20%20%20%0A%20%20%20%20%0A%20%20%20%20%20%20%20%20var%20marker_b120c63b88064919b082adb346176440%20%3D%20L.marker%28%0A%20%20%20%20%20%20%20%20%20%20%20%20%5B43.76512667%2C%2011.24469333%5D%2C%0A%20%20%20%20%20%20%20%20%20%20%20%20%7B%0A%20%20%20%20%20%20%20%20%20%20%20%20%20%20%20%20icon%3A%20new%20L.Icon.Default%28%29%2C%0A%20%20%20%20%20%20%20%20%20%20%20%20%20%20%20%20%7D%0A%20%20%20%20%20%20%20%20%20%20%20%20%29.addTo%28map_146cd8147123498484976a07e362f27f%29%3B%0A%20%20%20%20%20%20%20%20%0A%20%20%20%20%0A%20%20%20%20%20%20%20%20%20%20%20%20var%20popup_af76a057bf5a4c8f831944d14e99be15%20%3D%20L.popup%28%7BmaxWidth%3A%20%27100%25%27%0A%20%20%20%20%20%20%20%20%20%20%20%20%0A%20%20%20%20%20%20%20%20%20%20%20%20%7D%29%3B%0A%0A%20%20%20%20%20%20%20%20%20%20%20%20%0A%20%20%20%20%20%20%20%20%20%20%20%20%20%20%20%20var%20html_f174114665e8475aabb5b17afe5fdb0a%20%3D%20%24%28%60%3Cdiv%20id%3D%22html_f174114665e8475aabb5b17afe5fdb0a%22%20style%3D%22width%3A%20100.0%25%3B%20height%3A%20100.0%25%3B%22%3E%20%20%20%20%20%20%20%20%20%3Cul%3E%20%20%20%20%20%20%20%20%20%20%20%20%20%3Cli%3E%3Cstrong%3EID%3A%20%3C/strong%3E7447%3C/li%3E%20%20%20%20%20%20%20%20%20%20%20%20%20%3Cli%3E%3Cstrong%3ESource%3A%20%3C/strong%3EHenderson%20P%26C%20%23110%3C/li%3E%20%20%20%20%20%20%20%20%20%20%20%20%20%3Cli%3E%3Cstrong%3EOccupation%3A%20%3C/strong%3E.%20.%20.%20%20tessitore%20de%20broccati%3C/li%3E%20%20%20%20%20%20%20%20%20%3Cul%3E%20%20%20%20%20%3C/div%3E%60%29%5B0%5D%3B%0A%20%20%20%20%20%20%20%20%20%20%20%20%20%20%20%20popup_af76a057bf5a4c8f831944d14e99be15.setContent%28html_f174114665e8475aabb5b17afe5fdb0a%29%3B%0A%20%20%20%20%20%20%20%20%20%20%20%20%0A%0A%20%20%20%20%20%20%20%20%20%20%20%20marker_b120c63b88064919b082adb346176440.bindPopup%28popup_af76a057bf5a4c8f831944d14e99be15%29%0A%20%20%20%20%20%20%20%20%20%20%20%20%3B%0A%0A%20%20%20%20%20%20%20%20%20%20%20%20%0A%20%20%20%20%20%20%20%20%0A%20%20%20%20%0A%20%20%20%20%20%20%20%20var%20marker_4418667a935b46d78d2ec36382ece61d%20%3D%20L.marker%28%0A%20%20%20%20%20%20%20%20%20%20%20%20%5B43.767224%2C%2011.2454736%5D%2C%0A%20%20%20%20%20%20%20%20%20%20%20%20%7B%0A%20%20%20%20%20%20%20%20%20%20%20%20%20%20%20%20icon%3A%20new%20L.Icon.Default%28%29%2C%0A%20%20%20%20%20%20%20%20%20%20%20%20%20%20%20%20%7D%0A%20%20%20%20%20%20%20%20%20%20%20%20%29.addTo%28map_146cd8147123498484976a07e362f27f%29%3B%0A%20%20%20%20%20%20%20%20%0A%20%20%20%20%0A%20%20%20%20%20%20%20%20%20%20%20%20var%20popup_fe9f3ab0b44f40b5a14b9a242e1bb715%20%3D%20L.popup%28%7BmaxWidth%3A%20%27100%25%27%0A%20%20%20%20%20%20%20%20%20%20%20%20%0A%20%20%20%20%20%20%20%20%20%20%20%20%7D%29%3B%0A%0A%20%20%20%20%20%20%20%20%20%20%20%20%0A%20%20%20%20%20%20%20%20%20%20%20%20%20%20%20%20var%20html_9263828bb32e4c1aab549a4c1031095f%20%3D%20%24%28%60%3Cdiv%20id%3D%22html_9263828bb32e4c1aab549a4c1031095f%22%20style%3D%22width%3A%20100.0%25%3B%20height%3A%20100.0%25%3B%22%3E%20%20%20%20%20%20%20%20%20%3Cul%3E%20%20%20%20%20%20%20%20%20%20%20%20%20%3Cli%3E%3Cstrong%3EID%3A%20%3C/strong%3E7555%3C/li%3E%20%20%20%20%20%20%20%20%20%20%20%20%20%3Cli%3E%3Cstrong%3ESource%3A%20%3C/strong%3EHenderson%20P%26C%20%23110%3C/li%3E%20%20%20%20%20%20%20%20%20%20%20%20%20%3Cli%3E%3Cstrong%3EOccupation%3A%20%3C/strong%3EBernardo%20d%27%20Antonio%20Mazzochi%3C/li%3E%20%20%20%20%20%20%20%20%20%3Cul%3E%20%20%20%20%20%3C/div%3E%60%29%5B0%5D%3B%0A%20%20%20%20%20%20%20%20%20%20%20%20%20%20%20%20popup_fe9f3ab0b44f40b5a14b9a242e1bb715.setContent%28html_9263828bb32e4c1aab549a4c1031095f%29%3B%0A%20%20%20%20%20%20%20%20%20%20%20%20%0A%0A%20%20%20%20%20%20%20%20%20%20%20%20marker_4418667a935b46d78d2ec36382ece61d.bindPopup%28popup_fe9f3ab0b44f40b5a14b9a242e1bb715%29%0A%20%20%20%20%20%20%20%20%20%20%20%20%3B%0A%0A%20%20%20%20%20%20%20%20%20%20%20%20%0A%20%20%20%20%20%20%20%20%0A%20%20%20%20%0A%20%20%20%20%20%20%20%20var%20marker_2a0be574f30d441c8e18cdc65377efd2%20%3D%20L.marker%28%0A%20%20%20%20%20%20%20%20%20%20%20%20%5B43.76836733%2C%2011.26484133%5D%2C%0A%20%20%20%20%20%20%20%20%20%20%20%20%7B%0A%20%20%20%20%20%20%20%20%20%20%20%20%20%20%20%20icon%3A%20new%20L.Icon.Default%28%29%2C%0A%20%20%20%20%20%20%20%20%20%20%20%20%20%20%20%20%7D%0A%20%20%20%20%20%20%20%20%20%20%20%20%29.addTo%28map_146cd8147123498484976a07e362f27f%29%3B%0A%20%20%20%20%20%20%20%20%0A%20%20%20%20%0A%20%20%20%20%20%20%20%20%20%20%20%20var%20popup_ce93c6feaf47420ba27c5439b3b43a89%20%3D%20L.popup%28%7BmaxWidth%3A%20%27100%25%27%0A%20%20%20%20%20%20%20%20%20%20%20%20%0A%20%20%20%20%20%20%20%20%20%20%20%20%7D%29%3B%0A%0A%20%20%20%20%20%20%20%20%20%20%20%20%0A%20%20%20%20%20%20%20%20%20%20%20%20%20%20%20%20var%20html_d574dac6b5ad4b6e9a92579357452605%20%3D%20%24%28%60%3Cdiv%20id%3D%22html_d574dac6b5ad4b6e9a92579357452605%22%20style%3D%22width%3A%20100.0%25%3B%20height%3A%20100.0%25%3B%22%3E%20%20%20%20%20%20%20%20%20%3Cul%3E%20%20%20%20%20%20%20%20%20%20%20%20%20%3Cli%3E%3Cstrong%3EID%3A%20%3C/strong%3E3069%3C/li%3E%20%20%20%20%20%20%20%20%20%20%20%20%20%3Cli%3E%3Cstrong%3ESource%3A%20%3C/strong%3EHenderson%20P%26C%20%23102%3C/li%3E%20%20%20%20%20%20%20%20%20%20%20%20%20%3Cli%3E%3Cstrong%3EOccupation%3A%20%3C/strong%3Enan%3C/li%3E%20%20%20%20%20%20%20%20%20%3Cul%3E%20%20%20%20%20%3C/div%3E%60%29%5B0%5D%3B%0A%20%20%20%20%20%20%20%20%20%20%20%20%20%20%20%20popup_ce93c6feaf47420ba27c5439b3b43a89.setContent%28html_d574dac6b5ad4b6e9a92579357452605%29%3B%0A%20%20%20%20%20%20%20%20%20%20%20%20%0A%0A%20%20%20%20%20%20%20%20%20%20%20%20marker_2a0be574f30d441c8e18cdc65377efd2.bindPopup%28popup_ce93c6feaf47420ba27c5439b3b43a89%29%0A%20%20%20%20%20%20%20%20%20%20%20%20%3B%0A%0A%20%20%20%20%20%20%20%20%20%20%20%20%0A%20%20%20%20%20%20%20%20%0A%20%20%20%20%0A%20%20%20%20%20%20%20%20var%20marker_9b0de23c6e654acab205a3540972e066%20%3D%20L.marker%28%0A%20%20%20%20%20%20%20%20%20%20%20%20%5B43.76945%2C%2011.26547%5D%2C%0A%20%20%20%20%20%20%20%20%20%20%20%20%7B%0A%20%20%20%20%20%20%20%20%20%20%20%20%20%20%20%20icon%3A%20new%20L.Icon.Default%28%29%2C%0A%20%20%20%20%20%20%20%20%20%20%20%20%20%20%20%20%7D%0A%20%20%20%20%20%20%20%20%20%20%20%20%29.addTo%28map_146cd8147123498484976a07e362f27f%29%3B%0A%20%20%20%20%20%20%20%20%0A%20%20%20%20%0A%20%20%20%20%20%20%20%20%20%20%20%20var%20popup_3291106cce2e416daef426299cf7ff02%20%3D%20L.popup%28%7BmaxWidth%3A%20%27100%25%27%0A%20%20%20%20%20%20%20%20%20%20%20%20%0A%20%20%20%20%20%20%20%20%20%20%20%20%7D%29%3B%0A%0A%20%20%20%20%20%20%20%20%20%20%20%20%0A%20%20%20%20%20%20%20%20%20%20%20%20%20%20%20%20var%20html_9d6b3a78ac3f421c815e9bf1cc4bf41d%20%3D%20%24%28%60%3Cdiv%20id%3D%22html_9d6b3a78ac3f421c815e9bf1cc4bf41d%22%20style%3D%22width%3A%20100.0%25%3B%20height%3A%20100.0%25%3B%22%3E%20%20%20%20%20%20%20%20%20%3Cul%3E%20%20%20%20%20%20%20%20%20%20%20%20%20%3Cli%3E%3Cstrong%3EID%3A%20%3C/strong%3E3071%3C/li%3E%20%20%20%20%20%20%20%20%20%20%20%20%20%3Cli%3E%3Cstrong%3ESource%3A%20%3C/strong%3EHenderson%20P%26C%20%23102%3C/li%3E%20%20%20%20%20%20%20%20%20%20%20%20%20%3Cli%3E%3Cstrong%3EOccupation%3A%20%3C/strong%3ERomulo%20di%20Giovanni%2C%20beccaio%3C/li%3E%20%20%20%20%20%20%20%20%20%3Cul%3E%20%20%20%20%20%3C/div%3E%60%29%5B0%5D%3B%0A%20%20%20%20%20%20%20%20%20%20%20%20%20%20%20%20popup_3291106cce2e416daef426299cf7ff02.setContent%28html_9d6b3a78ac3f421c815e9bf1cc4bf41d%29%3B%0A%20%20%20%20%20%20%20%20%20%20%20%20%0A%0A%20%20%20%20%20%20%20%20%20%20%20%20marker_9b0de23c6e654acab205a3540972e066.bindPopup%28popup_3291106cce2e416daef426299cf7ff02%29%0A%20%20%20%20%20%20%20%20%20%20%20%20%3B%0A%0A%20%20%20%20%20%20%20%20%20%20%20%20%0A%20%20%20%20%20%20%20%20%0A%20%20%20%20%0A%20%20%20%20%20%20%20%20var%20marker_fabf1fffb6e44e899f727550a982fc0b%20%3D%20L.marker%28%0A%20%20%20%20%20%20%20%20%20%20%20%20%5B43.76851667%2C%2011.26492667%5D%2C%0A%20%20%20%20%20%20%20%20%20%20%20%20%7B%0A%20%20%20%20%20%20%20%20%20%20%20%20%20%20%20%20icon%3A%20new%20L.Icon.Default%28%29%2C%0A%20%20%20%20%20%20%20%20%20%20%20%20%20%20%20%20%7D%0A%20%20%20%20%20%20%20%20%20%20%20%20%29.addTo%28map_146cd8147123498484976a07e362f27f%29%3B%0A%20%20%20%20%20%20%20%20%0A%20%20%20%20%0A%20%20%20%20%20%20%20%20%20%20%20%20var%20popup_cde7f4f3b4b74e569194ffd33473b755%20%3D%20L.popup%28%7BmaxWidth%3A%20%27100%25%27%0A%20%20%20%20%20%20%20%20%20%20%20%20%0A%20%20%20%20%20%20%20%20%20%20%20%20%7D%29%3B%0A%0A%20%20%20%20%20%20%20%20%20%20%20%20%0A%20%20%20%20%20%20%20%20%20%20%20%20%20%20%20%20var%20html_8132075665f9445d93f254a7f7efd8a6%20%3D%20%24%28%60%3Cdiv%20id%3D%22html_8132075665f9445d93f254a7f7efd8a6%22%20style%3D%22width%3A%20100.0%25%3B%20height%3A%20100.0%25%3B%22%3E%20%20%20%20%20%20%20%20%20%3Cul%3E%20%20%20%20%20%20%20%20%20%20%20%20%20%3Cli%3E%3Cstrong%3EID%3A%20%3C/strong%3E3155%3C/li%3E%20%20%20%20%20%20%20%20%20%20%20%20%20%3Cli%3E%3Cstrong%3ESource%3A%20%3C/strong%3EHenderson%20P%26C%20%23102%3C/li%3E%20%20%20%20%20%20%20%20%20%20%20%20%20%3Cli%3E%3Cstrong%3EOccupation%3A%20%3C/strong%3EBartolomeo%2C%20servo%20della%20compagnia%2C%20detta%20senza%20pigione%3C/li%3E%20%20%20%20%20%20%20%20%20%3Cul%3E%20%20%20%20%20%3C/div%3E%60%29%5B0%5D%3B%0A%20%20%20%20%20%20%20%20%20%20%20%20%20%20%20%20popup_cde7f4f3b4b74e569194ffd33473b755.setContent%28html_8132075665f9445d93f254a7f7efd8a6%29%3B%0A%20%20%20%20%20%20%20%20%20%20%20%20%0A%0A%20%20%20%20%20%20%20%20%20%20%20%20marker_fabf1fffb6e44e899f727550a982fc0b.bindPopup%28popup_cde7f4f3b4b74e569194ffd33473b755%29%0A%20%20%20%20%20%20%20%20%20%20%20%20%3B%0A%0A%20%20%20%20%20%20%20%20%20%20%20%20%0A%20%20%20%20%20%20%20%20%0A%20%20%20%20%0A%20%20%20%20%20%20%20%20var%20marker_490a8836278f4f998e9a77fa2deb6e74%20%3D%20L.marker%28%0A%20%20%20%20%20%20%20%20%20%20%20%20%5B43.768442%2C%2011.264884%5D%2C%0A%20%20%20%20%20%20%20%20%20%20%20%20%7B%0A%20%20%20%20%20%20%20%20%20%20%20%20%20%20%20%20icon%3A%20new%20L.Icon.Default%28%29%2C%0A%20%20%20%20%20%20%20%20%20%20%20%20%20%20%20%20%7D%0A%20%20%20%20%20%20%20%20%20%20%20%20%29.addTo%28map_146cd8147123498484976a07e362f27f%29%3B%0A%20%20%20%20%20%20%20%20%0A%20%20%20%20%0A%20%20%20%20%20%20%20%20%20%20%20%20var%20popup_cd38048cbe80471ebc3621258ce330c0%20%3D%20L.popup%28%7BmaxWidth%3A%20%27100%25%27%0A%20%20%20%20%20%20%20%20%20%20%20%20%0A%20%20%20%20%20%20%20%20%20%20%20%20%7D%29%3B%0A%0A%20%20%20%20%20%20%20%20%20%20%20%20%0A%20%20%20%20%20%20%20%20%20%20%20%20%20%20%20%20var%20html_ad50bc0d63f6459ba06a0213494f5d50%20%3D%20%24%28%60%3Cdiv%20id%3D%22html_ad50bc0d63f6459ba06a0213494f5d50%22%20style%3D%22width%3A%20100.0%25%3B%20height%3A%20100.0%25%3B%22%3E%20%20%20%20%20%20%20%20%20%3Cul%3E%20%20%20%20%20%20%20%20%20%20%20%20%20%3Cli%3E%3Cstrong%3EID%3A%20%3C/strong%3E3156%3C/li%3E%20%20%20%20%20%20%20%20%20%20%20%20%20%3Cli%3E%3Cstrong%3ESource%3A%20%3C/strong%3EHenderson%20P%26C%20%23102%3C/li%3E%20%20%20%20%20%20%20%20%20%20%20%20%20%3Cli%3E%3Cstrong%3EOccupation%3A%20%3C/strong%3Enan%3C/li%3E%20%20%20%20%20%20%20%20%20%3Cul%3E%20%20%20%20%20%3C/div%3E%60%29%5B0%5D%3B%0A%20%20%20%20%20%20%20%20%20%20%20%20%20%20%20%20popup_cd38048cbe80471ebc3621258ce330c0.setContent%28html_ad50bc0d63f6459ba06a0213494f5d50%29%3B%0A%20%20%20%20%20%20%20%20%20%20%20%20%0A%0A%20%20%20%20%20%20%20%20%20%20%20%20marker_490a8836278f4f998e9a77fa2deb6e74.bindPopup%28popup_cd38048cbe80471ebc3621258ce330c0%29%0A%20%20%20%20%20%20%20%20%20%20%20%20%3B%0A%0A%20%20%20%20%20%20%20%20%20%20%20%20%0A%20%20%20%20%20%20%20%20%0A%20%20%20%20%0A%20%20%20%20%20%20%20%20var%20marker_9c33f379cab948c1904c217dd657a1da%20%3D%20L.marker%28%0A%20%20%20%20%20%20%20%20%20%20%20%20%5B43.76833%2C%2011.26482%5D%2C%0A%20%20%20%20%20%20%20%20%20%20%20%20%7B%0A%20%20%20%20%20%20%20%20%20%20%20%20%20%20%20%20icon%3A%20new%20L.Icon.Default%28%29%2C%0A%20%20%20%20%20%20%20%20%20%20%20%20%20%20%20%20%7D%0A%20%20%20%20%20%20%20%20%20%20%20%20%29.addTo%28map_146cd8147123498484976a07e362f27f%29%3B%0A%20%20%20%20%20%20%20%20%0A%20%20%20%20%0A%20%20%20%20%20%20%20%20%20%20%20%20var%20popup_575c0c37433547b58d930e18df477c90%20%3D%20L.popup%28%7BmaxWidth%3A%20%27100%25%27%0A%20%20%20%20%20%20%20%20%20%20%20%20%0A%20%20%20%20%20%20%20%20%20%20%20%20%7D%29%3B%0A%0A%20%20%20%20%20%20%20%20%20%20%20%20%0A%20%20%20%20%20%20%20%20%20%20%20%20%20%20%20%20var%20html_a723deefc45f4aa58667554a11f23468%20%3D%20%24%28%60%3Cdiv%20id%3D%22html_a723deefc45f4aa58667554a11f23468%22%20style%3D%22width%3A%20100.0%25%3B%20height%3A%20100.0%25%3B%22%3E%20%20%20%20%20%20%20%20%20%3Cul%3E%20%20%20%20%20%20%20%20%20%20%20%20%20%3Cli%3E%3Cstrong%3EID%3A%20%3C/strong%3E3157%3C/li%3E%20%20%20%20%20%20%20%20%20%20%20%20%20%3Cli%3E%3Cstrong%3ESource%3A%20%3C/strong%3EHenderson%20P%26C%20%23102%3C/li%3E%20%20%20%20%20%20%20%20%20%20%20%20%20%3Cli%3E%3Cstrong%3EOccupation%3A%20%3C/strong%3Enan%3C/li%3E%20%20%20%20%20%20%20%20%20%3Cul%3E%20%20%20%20%20%3C/div%3E%60%29%5B0%5D%3B%0A%20%20%20%20%20%20%20%20%20%20%20%20%20%20%20%20popup_575c0c37433547b58d930e18df477c90.setContent%28html_a723deefc45f4aa58667554a11f23468%29%3B%0A%20%20%20%20%20%20%20%20%20%20%20%20%0A%0A%20%20%20%20%20%20%20%20%20%20%20%20marker_9c33f379cab948c1904c217dd657a1da.bindPopup%28popup_575c0c37433547b58d930e18df477c90%29%0A%20%20%20%20%20%20%20%20%20%20%20%20%3B%0A%0A%20%20%20%20%20%20%20%20%20%20%20%20%0A%20%20%20%20%20%20%20%20%0A%20%20%20%20%0A%20%20%20%20%20%20%20%20var%20marker_5c117699ce0a463a80aee0187deaac5a%20%3D%20L.marker%28%0A%20%20%20%20%20%20%20%20%20%20%20%20%5B43.76821%2C%2011.26524%5D%2C%0A%20%20%20%20%20%20%20%20%20%20%20%20%7B%0A%20%20%20%20%20%20%20%20%20%20%20%20%20%20%20%20icon%3A%20new%20L.Icon.Default%28%29%2C%0A%20%20%20%20%20%20%20%20%20%20%20%20%20%20%20%20%7D%0A%20%20%20%20%20%20%20%20%20%20%20%20%29.addTo%28map_146cd8147123498484976a07e362f27f%29%3B%0A%20%20%20%20%20%20%20%20%0A%20%20%20%20%0A%20%20%20%20%20%20%20%20%20%20%20%20var%20popup_a20ddadf82a84aa9a48ab5d873b9f77b%20%3D%20L.popup%28%7BmaxWidth%3A%20%27100%25%27%0A%20%20%20%20%20%20%20%20%20%20%20%20%0A%20%20%20%20%20%20%20%20%20%20%20%20%7D%29%3B%0A%0A%20%20%20%20%20%20%20%20%20%20%20%20%0A%20%20%20%20%20%20%20%20%20%20%20%20%20%20%20%20var%20html_bb3ce26a68ac45c1964c9af7c0cc3ec3%20%3D%20%24%28%60%3Cdiv%20id%3D%22html_bb3ce26a68ac45c1964c9af7c0cc3ec3%22%20style%3D%22width%3A%20100.0%25%3B%20height%3A%20100.0%25%3B%22%3E%20%20%20%20%20%20%20%20%20%3Cul%3E%20%20%20%20%20%20%20%20%20%20%20%20%20%3Cli%3E%3Cstrong%3EID%3A%20%3C/strong%3E3158%3C/li%3E%20%20%20%20%20%20%20%20%20%20%20%20%20%3Cli%3E%3Cstrong%3ESource%3A%20%3C/strong%3EHenderson%20P%26C%20%23102%3C/li%3E%20%20%20%20%20%20%20%20%20%20%20%20%20%3Cli%3E%3Cstrong%3EOccupation%3A%20%3C/strong%3Enan%3C/li%3E%20%20%20%20%20%20%20%20%20%3Cul%3E%20%20%20%20%20%3C/div%3E%60%29%5B0%5D%3B%0A%20%20%20%20%20%20%20%20%20%20%20%20%20%20%20%20popup_a20ddadf82a84aa9a48ab5d873b9f77b.setContent%28html_bb3ce26a68ac45c1964c9af7c0cc3ec3%29%3B%0A%20%20%20%20%20%20%20%20%20%20%20%20%0A%0A%20%20%20%20%20%20%20%20%20%20%20%20marker_5c117699ce0a463a80aee0187deaac5a.bindPopup%28popup_a20ddadf82a84aa9a48ab5d873b9f77b%29%0A%20%20%20%20%20%20%20%20%20%20%20%20%3B%0A%0A%20%20%20%20%20%20%20%20%20%20%20%20%0A%20%20%20%20%20%20%20%20%0A%20%20%20%20%0A%20%20%20%20%20%20%20%20var%20marker_9c2aa3e4fb304d13b1a55e4921b6a740%20%3D%20L.marker%28%0A%20%20%20%20%20%20%20%20%20%20%20%20%5B43.77019%2C%2011.26441%5D%2C%0A%20%20%20%20%20%20%20%20%20%20%20%20%7B%0A%20%20%20%20%20%20%20%20%20%20%20%20%20%20%20%20icon%3A%20new%20L.Icon.Default%28%29%2C%0A%20%20%20%20%20%20%20%20%20%20%20%20%20%20%20%20%7D%0A%20%20%20%20%20%20%20%20%20%20%20%20%29.addTo%28map_146cd8147123498484976a07e362f27f%29%3B%0A%20%20%20%20%20%20%20%20%0A%20%20%20%20%0A%20%20%20%20%20%20%20%20%20%20%20%20var%20popup_899d7b4507d04092b1651ee76ad9295b%20%3D%20L.popup%28%7BmaxWidth%3A%20%27100%25%27%0A%20%20%20%20%20%20%20%20%20%20%20%20%0A%20%20%20%20%20%20%20%20%20%20%20%20%7D%29%3B%0A%0A%20%20%20%20%20%20%20%20%20%20%20%20%0A%20%20%20%20%20%20%20%20%20%20%20%20%20%20%20%20var%20html_bda2535c8d174bb3aa0895897a7e948b%20%3D%20%24%28%60%3Cdiv%20id%3D%22html_bda2535c8d174bb3aa0895897a7e948b%22%20style%3D%22width%3A%20100.0%25%3B%20height%3A%20100.0%25%3B%22%3E%20%20%20%20%20%20%20%20%20%3Cul%3E%20%20%20%20%20%20%20%20%20%20%20%20%20%3Cli%3E%3Cstrong%3EID%3A%20%3C/strong%3E3177%3C/li%3E%20%20%20%20%20%20%20%20%20%20%20%20%20%3Cli%3E%3Cstrong%3ESource%3A%20%3C/strong%3EHenderson%20P%26C%20%23102%3C/li%3E%20%20%20%20%20%20%20%20%20%20%20%20%20%3Cli%3E%3Cstrong%3EOccupation%3A%20%3C/strong%3EVincenzo%2C%20cartulaio%20Bolognese%3C/li%3E%20%20%20%20%20%20%20%20%20%3Cul%3E%20%20%20%20%20%3C/div%3E%60%29%5B0%5D%3B%0A%20%20%20%20%20%20%20%20%20%20%20%20%20%20%20%20popup_899d7b4507d04092b1651ee76ad9295b.setContent%28html_bda2535c8d174bb3aa0895897a7e948b%29%3B%0A%20%20%20%20%20%20%20%20%20%20%20%20%0A%0A%20%20%20%20%20%20%20%20%20%20%20%20marker_9c2aa3e4fb304d13b1a55e4921b6a740.bindPopup%28popup_899d7b4507d04092b1651ee76ad9295b%29%0A%20%20%20%20%20%20%20%20%20%20%20%20%3B%0A%0A%20%20%20%20%20%20%20%20%20%20%20%20%0A%20%20%20%20%20%20%20%20%0A%20%20%20%20%0A%20%20%20%20%20%20%20%20var%20marker_6d328f93fa65436da384acf7fefe0bbd%20%3D%20L.marker%28%0A%20%20%20%20%20%20%20%20%20%20%20%20%5B43.76840467%2C%2011.26486267%5D%2C%0A%20%20%20%20%20%20%20%20%20%20%20%20%7B%0A%20%20%20%20%20%20%20%20%20%20%20%20%20%20%20%20icon%3A%20new%20L.Icon.Default%28%29%2C%0A%20%20%20%20%20%20%20%20%20%20%20%20%20%20%20%20%7D%0A%20%20%20%20%20%20%20%20%20%20%20%20%29.addTo%28map_146cd8147123498484976a07e362f27f%29%3B%0A%20%20%20%20%20%20%20%20%0A%20%20%20%20%0A%20%20%20%20%20%20%20%20%20%20%20%20var%20popup_7acf10181b5e4bf7b540b272029bab59%20%3D%20L.popup%28%7BmaxWidth%3A%20%27100%25%27%0A%20%20%20%20%20%20%20%20%20%20%20%20%0A%20%20%20%20%20%20%20%20%20%20%20%20%7D%29%3B%0A%0A%20%20%20%20%20%20%20%20%20%20%20%20%0A%20%20%20%20%20%20%20%20%20%20%20%20%20%20%20%20var%20html_9ae6f46737c6463bbacf57ed3b69a396%20%3D%20%24%28%60%3Cdiv%20id%3D%22html_9ae6f46737c6463bbacf57ed3b69a396%22%20style%3D%22width%3A%20100.0%25%3B%20height%3A%20100.0%25%3B%22%3E%20%20%20%20%20%20%20%20%20%3Cul%3E%20%20%20%20%20%20%20%20%20%20%20%20%20%3Cli%3E%3Cstrong%3EID%3A%20%3C/strong%3E3194%3C/li%3E%20%20%20%20%20%20%20%20%20%20%20%20%20%3Cli%3E%3Cstrong%3ESource%3A%20%3C/strong%3EHenderson%20P%26C%20%23102%3C/li%3E%20%20%20%20%20%20%20%20%20%20%20%20%20%3Cli%3E%3Cstrong%3EOccupation%3A%20%3C/strong%3EMona%20Lucia%20di%20Bastiano%20da%20%20Palazzuolo%3C/li%3E%20%20%20%20%20%20%20%20%20%3Cul%3E%20%20%20%20%20%3C/div%3E%60%29%5B0%5D%3B%0A%20%20%20%20%20%20%20%20%20%20%20%20%20%20%20%20popup_7acf10181b5e4bf7b540b272029bab59.setContent%28html_9ae6f46737c6463bbacf57ed3b69a396%29%3B%0A%20%20%20%20%20%20%20%20%20%20%20%20%0A%0A%20%20%20%20%20%20%20%20%20%20%20%20marker_6d328f93fa65436da384acf7fefe0bbd.bindPopup%28popup_7acf10181b5e4bf7b540b272029bab59%29%0A%20%20%20%20%20%20%20%20%20%20%20%20%3B%0A%0A%20%20%20%20%20%20%20%20%20%20%20%20%0A%20%20%20%20%20%20%20%20%0A%20%20%20%20%0A%20%20%20%20%20%20%20%20var%20marker_73ddf6018d0f492e88d74589c59001b2%20%3D%20L.marker%28%0A%20%20%20%20%20%20%20%20%20%20%20%20%5B43.76829%2C%2011.26496%5D%2C%0A%20%20%20%20%20%20%20%20%20%20%20%20%7B%0A%20%20%20%20%20%20%20%20%20%20%20%20%20%20%20%20icon%3A%20new%20L.Icon.Default%28%29%2C%0A%20%20%20%20%20%20%20%20%20%20%20%20%20%20%20%20%7D%0A%20%20%20%20%20%20%20%20%20%20%20%20%29.addTo%28map_146cd8147123498484976a07e362f27f%29%3B%0A%20%20%20%20%20%20%20%20%0A%20%20%20%20%0A%20%20%20%20%20%20%20%20%20%20%20%20var%20popup_fb7e7121f2764a3286b74ba8d7403f1d%20%3D%20L.popup%28%7BmaxWidth%3A%20%27100%25%27%0A%20%20%20%20%20%20%20%20%20%20%20%20%0A%20%20%20%20%20%20%20%20%20%20%20%20%7D%29%3B%0A%0A%20%20%20%20%20%20%20%20%20%20%20%20%0A%20%20%20%20%20%20%20%20%20%20%20%20%20%20%20%20var%20html_7e12dcd1c79647419f8802514c36231a%20%3D%20%24%28%60%3Cdiv%20id%3D%22html_7e12dcd1c79647419f8802514c36231a%22%20style%3D%22width%3A%20100.0%25%3B%20height%3A%20100.0%25%3B%22%3E%20%20%20%20%20%20%20%20%20%3Cul%3E%20%20%20%20%20%20%20%20%20%20%20%20%20%3Cli%3E%3Cstrong%3EID%3A%20%3C/strong%3E3195%3C/li%3E%20%20%20%20%20%20%20%20%20%20%20%20%20%3Cli%3E%3Cstrong%3ESource%3A%20%3C/strong%3EHenderson%20P%26C%20%23102%3C/li%3E%20%20%20%20%20%20%20%20%20%20%20%20%20%3Cli%3E%3Cstrong%3EOccupation%3A%20%3C/strong%3EAndrea%20di%20Tommaso%20d%20%20Palazzuolo%3C/li%3E%20%20%20%20%20%20%20%20%20%3Cul%3E%20%20%20%20%20%3C/div%3E%60%29%5B0%5D%3B%0A%20%20%20%20%20%20%20%20%20%20%20%20%20%20%20%20popup_fb7e7121f2764a3286b74ba8d7403f1d.setContent%28html_7e12dcd1c79647419f8802514c36231a%29%3B%0A%20%20%20%20%20%20%20%20%20%20%20%20%0A%0A%20%20%20%20%20%20%20%20%20%20%20%20marker_73ddf6018d0f492e88d74589c59001b2.bindPopup%28popup_fb7e7121f2764a3286b74ba8d7403f1d%29%0A%20%20%20%20%20%20%20%20%20%20%20%20%3B%0A%0A%20%20%20%20%20%20%20%20%20%20%20%20%0A%20%20%20%20%20%20%20%20%0A%20%20%20%20%0A%20%20%20%20%20%20%20%20var%20marker_15727779eef745b9bbc74e74b9b9c9ed%20%3D%20L.marker%28%0A%20%20%20%20%20%20%20%20%20%20%20%20%5B43.76847933%2C%2011.26490533%5D%2C%0A%20%20%20%20%20%20%20%20%20%20%20%20%7B%0A%20%20%20%20%20%20%20%20%20%20%20%20%20%20%20%20icon%3A%20new%20L.Icon.Default%28%29%2C%0A%20%20%20%20%20%20%20%20%20%20%20%20%20%20%20%20%7D%0A%20%20%20%20%20%20%20%20%20%20%20%20%29.addTo%28map_146cd8147123498484976a07e362f27f%29%3B%0A%20%20%20%20%20%20%20%20%0A%20%20%20%20%0A%20%20%20%20%20%20%20%20%20%20%20%20var%20popup_c0933ce44fbc48938e55a3b081c460d9%20%3D%20L.popup%28%7BmaxWidth%3A%20%27100%25%27%0A%20%20%20%20%20%20%20%20%20%20%20%20%0A%20%20%20%20%20%20%20%20%20%20%20%20%7D%29%3B%0A%0A%20%20%20%20%20%20%20%20%20%20%20%20%0A%20%20%20%20%20%20%20%20%20%20%20%20%20%20%20%20var%20html_f10af5a2f60443f394246af5ec636239%20%3D%20%24%28%60%3Cdiv%20id%3D%22html_f10af5a2f60443f394246af5ec636239%22%20style%3D%22width%3A%20100.0%25%3B%20height%3A%20100.0%25%3B%22%3E%20%20%20%20%20%20%20%20%20%3Cul%3E%20%20%20%20%20%20%20%20%20%20%20%20%20%3Cli%3E%3Cstrong%3EID%3A%20%3C/strong%3E3274%3C/li%3E%20%20%20%20%20%20%20%20%20%20%20%20%20%3Cli%3E%3Cstrong%3ESource%3A%20%3C/strong%3EHenderson%20P%26C%20%23102%3C/li%3E%20%20%20%20%20%20%20%20%20%20%20%20%20%3Cli%3E%3Cstrong%3EOccupation%3A%20%3C/strong%3ETonino%20di%20Domenico%2C%20battilano%3C/li%3E%20%20%20%20%20%20%20%20%20%3Cul%3E%20%20%20%20%20%3C/div%3E%60%29%5B0%5D%3B%0A%20%20%20%20%20%20%20%20%20%20%20%20%20%20%20%20popup_c0933ce44fbc48938e55a3b081c460d9.setContent%28html_f10af5a2f60443f394246af5ec636239%29%3B%0A%20%20%20%20%20%20%20%20%20%20%20%20%0A%0A%20%20%20%20%20%20%20%20%20%20%20%20marker_15727779eef745b9bbc74e74b9b9c9ed.bindPopup%28popup_c0933ce44fbc48938e55a3b081c460d9%29%0A%20%20%20%20%20%20%20%20%20%20%20%20%3B%0A%0A%20%20%20%20%20%20%20%20%20%20%20%20%0A%20%20%20%20%20%20%20%20%0A%20%20%20%20%0A%20%20%20%20%20%20%20%20var%20marker_3301f5720bb748108f6951633df9def2%20%3D%20L.marker%28%0A%20%20%20%20%20%20%20%20%20%20%20%20%5B43.76886%2C%2011.265%5D%2C%0A%20%20%20%20%20%20%20%20%20%20%20%20%7B%0A%20%20%20%20%20%20%20%20%20%20%20%20%20%20%20%20icon%3A%20new%20L.Icon.Default%28%29%2C%0A%20%20%20%20%20%20%20%20%20%20%20%20%20%20%20%20%7D%0A%20%20%20%20%20%20%20%20%20%20%20%20%29.addTo%28map_146cd8147123498484976a07e362f27f%29%3B%0A%20%20%20%20%20%20%20%20%0A%20%20%20%20%0A%20%20%20%20%20%20%20%20%20%20%20%20var%20popup_f4b43da6a79e4effa0078add54570577%20%3D%20L.popup%28%7BmaxWidth%3A%20%27100%25%27%0A%20%20%20%20%20%20%20%20%20%20%20%20%0A%20%20%20%20%20%20%20%20%20%20%20%20%7D%29%3B%0A%0A%20%20%20%20%20%20%20%20%20%20%20%20%0A%20%20%20%20%20%20%20%20%20%20%20%20%20%20%20%20var%20html_9ff003b6ff5f46e18e2818f4785def55%20%3D%20%24%28%60%3Cdiv%20id%3D%22html_9ff003b6ff5f46e18e2818f4785def55%22%20style%3D%22width%3A%20100.0%25%3B%20height%3A%20100.0%25%3B%22%3E%20%20%20%20%20%20%20%20%20%3Cul%3E%20%20%20%20%20%20%20%20%20%20%20%20%20%3Cli%3E%3Cstrong%3EID%3A%20%3C/strong%3E3384%3C/li%3E%20%20%20%20%20%20%20%20%20%20%20%20%20%3Cli%3E%3Cstrong%3ESource%3A%20%3C/strong%3EHenderson%20P%26C%20%23102%3C/li%3E%20%20%20%20%20%20%20%20%20%20%20%20%20%3Cli%3E%3Cstrong%3EOccupation%3A%20%3C/strong%3EAntonio%2C%20detto%20Rigogolo%2C%20votapozzi%3C/li%3E%20%20%20%20%20%20%20%20%20%3Cul%3E%20%20%20%20%20%3C/div%3E%60%29%5B0%5D%3B%0A%20%20%20%20%20%20%20%20%20%20%20%20%20%20%20%20popup_f4b43da6a79e4effa0078add54570577.setContent%28html_9ff003b6ff5f46e18e2818f4785def55%29%3B%0A%20%20%20%20%20%20%20%20%20%20%20%20%0A%0A%20%20%20%20%20%20%20%20%20%20%20%20marker_3301f5720bb748108f6951633df9def2.bindPopup%28popup_f4b43da6a79e4effa0078add54570577%29%0A%20%20%20%20%20%20%20%20%20%20%20%20%3B%0A%0A%20%20%20%20%20%20%20%20%20%20%20%20%0A%20%20%20%20%20%20%20%20%0A%20%20%20%20%0A%20%20%20%20%20%20%20%20var%20marker_1f4b11c4c75d4015b4d4ffda90c9ca35%20%3D%20L.marker%28%0A%20%20%20%20%20%20%20%20%20%20%20%20%5B43.76825%2C%2011.2651%5D%2C%0A%20%20%20%20%20%20%20%20%20%20%20%20%7B%0A%20%20%20%20%20%20%20%20%20%20%20%20%20%20%20%20icon%3A%20new%20L.Icon.Default%28%29%2C%0A%20%20%20%20%20%20%20%20%20%20%20%20%20%20%20%20%7D%0A%20%20%20%20%20%20%20%20%20%20%20%20%29.addTo%28map_146cd8147123498484976a07e362f27f%29%3B%0A%20%20%20%20%20%20%20%20%0A%20%20%20%20%0A%20%20%20%20%20%20%20%20%20%20%20%20var%20popup_e56f4295386c42cdacb31c342ff4c762%20%3D%20L.popup%28%7BmaxWidth%3A%20%27100%25%27%0A%20%20%20%20%20%20%20%20%20%20%20%20%0A%20%20%20%20%20%20%20%20%20%20%20%20%7D%29%3B%0A%0A%20%20%20%20%20%20%20%20%20%20%20%20%0A%20%20%20%20%20%20%20%20%20%20%20%20%20%20%20%20var%20html_1ac25792182f491fa6a8eb26ac106e13%20%3D%20%24%28%60%3Cdiv%20id%3D%22html_1ac25792182f491fa6a8eb26ac106e13%22%20style%3D%22width%3A%20100.0%25%3B%20height%3A%20100.0%25%3B%22%3E%20%20%20%20%20%20%20%20%20%3Cul%3E%20%20%20%20%20%20%20%20%20%20%20%20%20%3Cli%3E%3Cstrong%3EID%3A%20%3C/strong%3E3385%3C/li%3E%20%20%20%20%20%20%20%20%20%20%20%20%20%3Cli%3E%3Cstrong%3ESource%3A%20%3C/strong%3EHenderson%20P%26C%20%23102%3C/li%3E%20%20%20%20%20%20%20%20%20%20%20%20%20%3Cli%3E%3Cstrong%3EOccupation%3A%20%3C/strong%3Enan%3C/li%3E%20%20%20%20%20%20%20%20%20%3Cul%3E%20%20%20%20%20%3C/div%3E%60%29%5B0%5D%3B%0A%20%20%20%20%20%20%20%20%20%20%20%20%20%20%20%20popup_e56f4295386c42cdacb31c342ff4c762.setContent%28html_1ac25792182f491fa6a8eb26ac106e13%29%3B%0A%20%20%20%20%20%20%20%20%20%20%20%20%0A%0A%20%20%20%20%20%20%20%20%20%20%20%20marker_1f4b11c4c75d4015b4d4ffda90c9ca35.bindPopup%28popup_e56f4295386c42cdacb31c342ff4c762%29%0A%20%20%20%20%20%20%20%20%20%20%20%20%3B%0A%0A%20%20%20%20%20%20%20%20%20%20%20%20%0A%20%20%20%20%20%20%20%20%0A%20%20%20%20%0A%20%20%20%20%20%20%20%20var%20marker_32668e4a11fc4491845ae0a68e0028f8%20%3D%20L.marker%28%0A%20%20%20%20%20%20%20%20%20%20%20%20%5B43.7709685%2C%2011.2698875%5D%2C%0A%20%20%20%20%20%20%20%20%20%20%20%20%7B%0A%20%20%20%20%20%20%20%20%20%20%20%20%20%20%20%20icon%3A%20new%20L.Icon.Default%28%29%2C%0A%20%20%20%20%20%20%20%20%20%20%20%20%20%20%20%20%7D%0A%20%20%20%20%20%20%20%20%20%20%20%20%29.addTo%28map_146cd8147123498484976a07e362f27f%29%3B%0A%20%20%20%20%20%20%20%20%0A%20%20%20%20%0A%20%20%20%20%20%20%20%20%20%20%20%20var%20popup_1f03c013ed8b49b48105cc891cd0f367%20%3D%20L.popup%28%7BmaxWidth%3A%20%27100%25%27%0A%20%20%20%20%20%20%20%20%20%20%20%20%0A%20%20%20%20%20%20%20%20%20%20%20%20%7D%29%3B%0A%0A%20%20%20%20%20%20%20%20%20%20%20%20%0A%20%20%20%20%20%20%20%20%20%20%20%20%20%20%20%20var%20html_c9ce04dbc01046818f2a99989f07261f%20%3D%20%24%28%60%3Cdiv%20id%3D%22html_c9ce04dbc01046818f2a99989f07261f%22%20style%3D%22width%3A%20100.0%25%3B%20height%3A%20100.0%25%3B%22%3E%20%20%20%20%20%20%20%20%20%3Cul%3E%20%20%20%20%20%20%20%20%20%20%20%20%20%3Cli%3E%3Cstrong%3EID%3A%20%3C/strong%3E2056%3C/li%3E%20%20%20%20%20%20%20%20%20%20%20%20%20%3Cli%3E%3Cstrong%3ESource%3A%20%3C/strong%3EHenderson%20P%26C%20%23102%3C/li%3E%20%20%20%20%20%20%20%20%20%20%20%20%20%3Cli%3E%3Cstrong%3EOccupation%3A%20%3C/strong%3EAntonio%20di%20Piero%2C%20guardia%20della%20Compagnia%20del%20Tempio%3C/li%3E%20%20%20%20%20%20%20%20%20%3Cul%3E%20%20%20%20%20%3C/div%3E%60%29%5B0%5D%3B%0A%20%20%20%20%20%20%20%20%20%20%20%20%20%20%20%20popup_1f03c013ed8b49b48105cc891cd0f367.setContent%28html_c9ce04dbc01046818f2a99989f07261f%29%3B%0A%20%20%20%20%20%20%20%20%20%20%20%20%0A%0A%20%20%20%20%20%20%20%20%20%20%20%20marker_32668e4a11fc4491845ae0a68e0028f8.bindPopup%28popup_1f03c013ed8b49b48105cc891cd0f367%29%0A%20%20%20%20%20%20%20%20%20%20%20%20%3B%0A%0A%20%20%20%20%20%20%20%20%20%20%20%20%0A%20%20%20%20%20%20%20%20%0A%20%20%20%20%0A%20%20%20%20%20%20%20%20var%20marker_4547946374e04116ae6b9bbb1634a3c4%20%3D%20L.marker%28%0A%20%20%20%20%20%20%20%20%20%20%20%20%5B43.77100579%2C%2011.26971307%5D%2C%0A%20%20%20%20%20%20%20%20%20%20%20%20%7B%0A%20%20%20%20%20%20%20%20%20%20%20%20%20%20%20%20icon%3A%20new%20L.Icon.Default%28%29%2C%0A%20%20%20%20%20%20%20%20%20%20%20%20%20%20%20%20%7D%0A%20%20%20%20%20%20%20%20%20%20%20%20%29.addTo%28map_146cd8147123498484976a07e362f27f%29%3B%0A%20%20%20%20%20%20%20%20%0A%20%20%20%20%0A%20%20%20%20%20%20%20%20%20%20%20%20var%20popup_ee880658aa7941e087736ef38a98a6a2%20%3D%20L.popup%28%7BmaxWidth%3A%20%27100%25%27%0A%20%20%20%20%20%20%20%20%20%20%20%20%0A%20%20%20%20%20%20%20%20%20%20%20%20%7D%29%3B%0A%0A%20%20%20%20%20%20%20%20%20%20%20%20%0A%20%20%20%20%20%20%20%20%20%20%20%20%20%20%20%20var%20html_7fe216bbb37c40c383f489eba88b41be%20%3D%20%24%28%60%3Cdiv%20id%3D%22html_7fe216bbb37c40c383f489eba88b41be%22%20style%3D%22width%3A%20100.0%25%3B%20height%3A%20100.0%25%3B%22%3E%20%20%20%20%20%20%20%20%20%3Cul%3E%20%20%20%20%20%20%20%20%20%20%20%20%20%3Cli%3E%3Cstrong%3EID%3A%20%3C/strong%3E2136%3C/li%3E%20%20%20%20%20%20%20%20%20%20%20%20%20%3Cli%3E%3Cstrong%3ESource%3A%20%3C/strong%3EHenderson%20P%26C%20%23102%3C/li%3E%20%20%20%20%20%20%20%20%20%20%20%20%20%3Cli%3E%3Cstrong%3EOccupation%3A%20%3C/strong%3EBartolomeo%20d%27%20Antonio%20di%20Lapo%2C%20beccaio%3C/li%3E%20%20%20%20%20%20%20%20%20%3Cul%3E%20%20%20%20%20%3C/div%3E%60%29%5B0%5D%3B%0A%20%20%20%20%20%20%20%20%20%20%20%20%20%20%20%20popup_ee880658aa7941e087736ef38a98a6a2.setContent%28html_7fe216bbb37c40c383f489eba88b41be%29%3B%0A%20%20%20%20%20%20%20%20%20%20%20%20%0A%0A%20%20%20%20%20%20%20%20%20%20%20%20marker_4547946374e04116ae6b9bbb1634a3c4.bindPopup%28popup_ee880658aa7941e087736ef38a98a6a2%29%0A%20%20%20%20%20%20%20%20%20%20%20%20%3B%0A%0A%20%20%20%20%20%20%20%20%20%20%20%20%0A%20%20%20%20%20%20%20%20%0A%20%20%20%20%0A%20%20%20%20%20%20%20%20var%20marker_7ace8123de6d4c7aa4a506cb1a423e20%20%3D%20L.marker%28%0A%20%20%20%20%20%20%20%20%20%20%20%20%5B43.7740713%2C%2011.26313274%5D%2C%0A%20%20%20%20%20%20%20%20%20%20%20%20%7B%0A%20%20%20%20%20%20%20%20%20%20%20%20%20%20%20%20icon%3A%20new%20L.Icon.Default%28%29%2C%0A%20%20%20%20%20%20%20%20%20%20%20%20%20%20%20%20%7D%0A%20%20%20%20%20%20%20%20%20%20%20%20%29.addTo%28map_146cd8147123498484976a07e362f27f%29%3B%0A%20%20%20%20%20%20%20%20%0A%20%20%20%20%0A%20%20%20%20%20%20%20%20%20%20%20%20var%20popup_fdb6e5b4a72e48728a7c82ef2586a35b%20%3D%20L.popup%28%7BmaxWidth%3A%20%27100%25%27%0A%20%20%20%20%20%20%20%20%20%20%20%20%0A%20%20%20%20%20%20%20%20%20%20%20%20%7D%29%3B%0A%0A%20%20%20%20%20%20%20%20%20%20%20%20%0A%20%20%20%20%20%20%20%20%20%20%20%20%20%20%20%20var%20html_4cbb8e8d381d42178b4bf6067ece0b2a%20%3D%20%24%28%60%3Cdiv%20id%3D%22html_4cbb8e8d381d42178b4bf6067ece0b2a%22%20style%3D%22width%3A%20100.0%25%3B%20height%3A%20100.0%25%3B%22%3E%20%20%20%20%20%20%20%20%20%3Cul%3E%20%20%20%20%20%20%20%20%20%20%20%20%20%3Cli%3E%3Cstrong%3EID%3A%20%3C/strong%3E2182%3C/li%3E%20%20%20%20%20%20%20%20%20%20%20%20%20%3Cli%3E%3Cstrong%3ESource%3A%20%3C/strong%3EHenderson%20P%26C%20%23102%3C/li%3E%20%20%20%20%20%20%20%20%20%20%20%20%20%3Cli%3E%3Cstrong%3EOccupation%3A%20%3C/strong%3EMarco%20di%20Giovanni%2C%20tessitore%3C/li%3E%20%20%20%20%20%20%20%20%20%3Cul%3E%20%20%20%20%20%3C/div%3E%60%29%5B0%5D%3B%0A%20%20%20%20%20%20%20%20%20%20%20%20%20%20%20%20popup_fdb6e5b4a72e48728a7c82ef2586a35b.setContent%28html_4cbb8e8d381d42178b4bf6067ece0b2a%29%3B%0A%20%20%20%20%20%20%20%20%20%20%20%20%0A%0A%20%20%20%20%20%20%20%20%20%20%20%20marker_7ace8123de6d4c7aa4a506cb1a423e20.bindPopup%28popup_fdb6e5b4a72e48728a7c82ef2586a35b%29%0A%20%20%20%20%20%20%20%20%20%20%20%20%3B%0A%0A%20%20%20%20%20%20%20%20%20%20%20%20%0A%20%20%20%20%20%20%20%20%0A%20%20%20%20%0A%20%20%20%20%20%20%20%20var%20marker_9775722b00bf417cb54feb03ac4bfca3%20%3D%20L.marker%28%0A%20%20%20%20%20%20%20%20%20%20%20%20%5B43.77098714%2C%2011.26980029%5D%2C%0A%20%20%20%20%20%20%20%20%20%20%20%20%7B%0A%20%20%20%20%20%20%20%20%20%20%20%20%20%20%20%20icon%3A%20new%20L.Icon.Default%28%29%2C%0A%20%20%20%20%20%20%20%20%20%20%20%20%20%20%20%20%7D%0A%20%20%20%20%20%20%20%20%20%20%20%20%29.addTo%28map_146cd8147123498484976a07e362f27f%29%3B%0A%20%20%20%20%20%20%20%20%0A%20%20%20%20%0A%20%20%20%20%20%20%20%20%20%20%20%20var%20popup_442cf5d893274bd5aab788bb8bf3d6dd%20%3D%20L.popup%28%7BmaxWidth%3A%20%27100%25%27%0A%20%20%20%20%20%20%20%20%20%20%20%20%0A%20%20%20%20%20%20%20%20%20%20%20%20%7D%29%3B%0A%0A%20%20%20%20%20%20%20%20%20%20%20%20%0A%20%20%20%20%20%20%20%20%20%20%20%20%20%20%20%20var%20html_1849ee8050dd4149b3f56f2c2e0a89b5%20%3D%20%24%28%60%3Cdiv%20id%3D%22html_1849ee8050dd4149b3f56f2c2e0a89b5%22%20style%3D%22width%3A%20100.0%25%3B%20height%3A%20100.0%25%3B%22%3E%20%20%20%20%20%20%20%20%20%3Cul%3E%20%20%20%20%20%20%20%20%20%20%20%20%20%3Cli%3E%3Cstrong%3EID%3A%20%3C/strong%3E2413%3C/li%3E%20%20%20%20%20%20%20%20%20%20%20%20%20%3Cli%3E%3Cstrong%3ESource%3A%20%3C/strong%3EHenderson%20P%26C%20%23102%3C/li%3E%20%20%20%20%20%20%20%20%20%20%20%20%20%3Cli%3E%3Cstrong%3EOccupation%3A%20%3C/strong%3Enan%3C/li%3E%20%20%20%20%20%20%20%20%20%3Cul%3E%20%20%20%20%20%3C/div%3E%60%29%5B0%5D%3B%0A%20%20%20%20%20%20%20%20%20%20%20%20%20%20%20%20popup_442cf5d893274bd5aab788bb8bf3d6dd.setContent%28html_1849ee8050dd4149b3f56f2c2e0a89b5%29%3B%0A%20%20%20%20%20%20%20%20%20%20%20%20%0A%0A%20%20%20%20%20%20%20%20%20%20%20%20marker_9775722b00bf417cb54feb03ac4bfca3.bindPopup%28popup_442cf5d893274bd5aab788bb8bf3d6dd%29%0A%20%20%20%20%20%20%20%20%20%20%20%20%3B%0A%0A%20%20%20%20%20%20%20%20%20%20%20%20%0A%20%20%20%20%20%20%20%20%0A%20%20%20%20%0A%20%20%20%20%20%20%20%20var%20marker_223cc35e67014225affcf8729a41d84d%20%3D%20L.marker%28%0A%20%20%20%20%20%20%20%20%20%20%20%20%5B43.771152%2C%2011.262448%5D%2C%0A%20%20%20%20%20%20%20%20%20%20%20%20%7B%0A%20%20%20%20%20%20%20%20%20%20%20%20%20%20%20%20icon%3A%20new%20L.Icon.Default%28%29%2C%0A%20%20%20%20%20%20%20%20%20%20%20%20%20%20%20%20%7D%0A%20%20%20%20%20%20%20%20%20%20%20%20%29.addTo%28map_146cd8147123498484976a07e362f27f%29%3B%0A%20%20%20%20%20%20%20%20%0A%20%20%20%20%0A%20%20%20%20%20%20%20%20%20%20%20%20var%20popup_4b3c986e1ee44847af99c4b026dc4843%20%3D%20L.popup%28%7BmaxWidth%3A%20%27100%25%27%0A%20%20%20%20%20%20%20%20%20%20%20%20%0A%20%20%20%20%20%20%20%20%20%20%20%20%7D%29%3B%0A%0A%20%20%20%20%20%20%20%20%20%20%20%20%0A%20%20%20%20%20%20%20%20%20%20%20%20%20%20%20%20var%20html_7aa3ad62f4d04f38a4905b11d8790b62%20%3D%20%24%28%60%3Cdiv%20id%3D%22html_7aa3ad62f4d04f38a4905b11d8790b62%22%20style%3D%22width%3A%20100.0%25%3B%20height%3A%20100.0%25%3B%22%3E%20%20%20%20%20%20%20%20%20%3Cul%3E%20%20%20%20%20%20%20%20%20%20%20%20%20%3Cli%3E%3Cstrong%3EID%3A%20%3C/strong%3E3628%3C/li%3E%20%20%20%20%20%20%20%20%20%20%20%20%20%3Cli%3E%3Cstrong%3ESource%3A%20%3C/strong%3EHenderson%20P%26C%20%23102%3C/li%3E%20%20%20%20%20%20%20%20%20%20%20%20%20%3Cli%3E%3Cstrong%3EOccupation%3A%20%3C/strong%3ERaffaello%2C%20donzello%20della%20Parte%3C/li%3E%20%20%20%20%20%20%20%20%20%3Cul%3E%20%20%20%20%20%3C/div%3E%60%29%5B0%5D%3B%0A%20%20%20%20%20%20%20%20%20%20%20%20%20%20%20%20popup_4b3c986e1ee44847af99c4b026dc4843.setContent%28html_7aa3ad62f4d04f38a4905b11d8790b62%29%3B%0A%20%20%20%20%20%20%20%20%20%20%20%20%0A%0A%20%20%20%20%20%20%20%20%20%20%20%20marker_223cc35e67014225affcf8729a41d84d.bindPopup%28popup_4b3c986e1ee44847af99c4b026dc4843%29%0A%20%20%20%20%20%20%20%20%20%20%20%20%3B%0A%0A%20%20%20%20%20%20%20%20%20%20%20%20%0A%20%20%20%20%20%20%20%20%0A%20%20%20%20%0A%20%20%20%20%20%20%20%20var%20marker_d150f68d66b548cf90b95001d9fbc936%20%3D%20L.marker%28%0A%20%20%20%20%20%20%20%20%20%20%20%20%5B43.76981%2C%2011.25724%5D%2C%0A%20%20%20%20%20%20%20%20%20%20%20%20%7B%0A%20%20%20%20%20%20%20%20%20%20%20%20%20%20%20%20icon%3A%20new%20L.Icon.Default%28%29%2C%0A%20%20%20%20%20%20%20%20%20%20%20%20%20%20%20%20%7D%0A%20%20%20%20%20%20%20%20%20%20%20%20%29.addTo%28map_146cd8147123498484976a07e362f27f%29%3B%0A%20%20%20%20%20%20%20%20%0A%20%20%20%20%0A%20%20%20%20%20%20%20%20%20%20%20%20var%20popup_e59796d131414ab5bf92bc38e58c56e5%20%3D%20L.popup%28%7BmaxWidth%3A%20%27100%25%27%0A%20%20%20%20%20%20%20%20%20%20%20%20%0A%20%20%20%20%20%20%20%20%20%20%20%20%7D%29%3B%0A%0A%20%20%20%20%20%20%20%20%20%20%20%20%0A%20%20%20%20%20%20%20%20%20%20%20%20%20%20%20%20var%20html_ef4d7e846a13468ca128e99f8c696594%20%3D%20%24%28%60%3Cdiv%20id%3D%22html_ef4d7e846a13468ca128e99f8c696594%22%20style%3D%22width%3A%20100.0%25%3B%20height%3A%20100.0%25%3B%22%3E%20%20%20%20%20%20%20%20%20%3Cul%3E%20%20%20%20%20%20%20%20%20%20%20%20%20%3Cli%3E%3Cstrong%3EID%3A%20%3C/strong%3E4275%3C/li%3E%20%20%20%20%20%20%20%20%20%20%20%20%20%3Cli%3E%3Cstrong%3ESource%3A%20%3C/strong%3EHenderson%20P%26C%20%23102%3C/li%3E%20%20%20%20%20%20%20%20%20%20%20%20%20%3Cli%3E%3Cstrong%3EOccupation%3A%20%3C/strong%3ELionardo%20di%20Taddeo%2C%20coltellinaio%3C/li%3E%20%20%20%20%20%20%20%20%20%3Cul%3E%20%20%20%20%20%3C/div%3E%60%29%5B0%5D%3B%0A%20%20%20%20%20%20%20%20%20%20%20%20%20%20%20%20popup_e59796d131414ab5bf92bc38e58c56e5.setContent%28html_ef4d7e846a13468ca128e99f8c696594%29%3B%0A%20%20%20%20%20%20%20%20%20%20%20%20%0A%0A%20%20%20%20%20%20%20%20%20%20%20%20marker_d150f68d66b548cf90b95001d9fbc936.bindPopup%28popup_e59796d131414ab5bf92bc38e58c56e5%29%0A%20%20%20%20%20%20%20%20%20%20%20%20%3B%0A%0A%20%20%20%20%20%20%20%20%20%20%20%20%0A%20%20%20%20%20%20%20%20%0A%20%20%20%20%0A%20%20%20%20%20%20%20%20var%20marker_3fb8a8b2e79f469aa843af4dd92d0b82%20%3D%20L.marker%28%0A%20%20%20%20%20%20%20%20%20%20%20%20%5B43.769925%2C%2011.256705%5D%2C%0A%20%20%20%20%20%20%20%20%20%20%20%20%7B%0A%20%20%20%20%20%20%20%20%20%20%20%20%20%20%20%20icon%3A%20new%20L.Icon.Default%28%29%2C%0A%20%20%20%20%20%20%20%20%20%20%20%20%20%20%20%20%7D%0A%20%20%20%20%20%20%20%20%20%20%20%20%29.addTo%28map_146cd8147123498484976a07e362f27f%29%3B%0A%20%20%20%20%20%20%20%20%0A%20%20%20%20%0A%20%20%20%20%20%20%20%20%20%20%20%20var%20popup_f0814a84d7ea4cec95620ad51288403e%20%3D%20L.popup%28%7BmaxWidth%3A%20%27100%25%27%0A%20%20%20%20%20%20%20%20%20%20%20%20%0A%20%20%20%20%20%20%20%20%20%20%20%20%7D%29%3B%0A%0A%20%20%20%20%20%20%20%20%20%20%20%20%0A%20%20%20%20%20%20%20%20%20%20%20%20%20%20%20%20var%20html_5cdad8655b7248c39672ee738e7189f4%20%3D%20%24%28%60%3Cdiv%20id%3D%22html_5cdad8655b7248c39672ee738e7189f4%22%20style%3D%22width%3A%20100.0%25%3B%20height%3A%20100.0%25%3B%22%3E%20%20%20%20%20%20%20%20%20%3Cul%3E%20%20%20%20%20%20%20%20%20%20%20%20%20%3Cli%3E%3Cstrong%3EID%3A%20%3C/strong%3E4276%3C/li%3E%20%20%20%20%20%20%20%20%20%20%20%20%20%3Cli%3E%3Cstrong%3ESource%3A%20%3C/strong%3EHenderson%20P%26C%20%23102%3C/li%3E%20%20%20%20%20%20%20%20%20%20%20%20%20%3Cli%3E%3Cstrong%3EOccupation%3A%20%3C/strong%3EAntonio%20di%20Benedetto%2C%20detto%20il%20Boncio%2C%20occhialaio%3C/li%3E%20%20%20%20%20%20%20%20%20%3Cul%3E%20%20%20%20%20%3C/div%3E%60%29%5B0%5D%3B%0A%20%20%20%20%20%20%20%20%20%20%20%20%20%20%20%20popup_f0814a84d7ea4cec95620ad51288403e.setContent%28html_5cdad8655b7248c39672ee738e7189f4%29%3B%0A%20%20%20%20%20%20%20%20%20%20%20%20%0A%0A%20%20%20%20%20%20%20%20%20%20%20%20marker_3fb8a8b2e79f469aa843af4dd92d0b82.bindPopup%28popup_f0814a84d7ea4cec95620ad51288403e%29%0A%20%20%20%20%20%20%20%20%20%20%20%20%3B%0A%0A%20%20%20%20%20%20%20%20%20%20%20%20%0A%20%20%20%20%20%20%20%20%0A%20%20%20%20%0A%20%20%20%20%20%20%20%20var%20marker_666d482e3c7447cead68c7dcd9f096c4%20%3D%20L.marker%28%0A%20%20%20%20%20%20%20%20%20%20%20%20%5B43.76582667%2C%2011.24658%5D%2C%0A%20%20%20%20%20%20%20%20%20%20%20%20%7B%0A%20%20%20%20%20%20%20%20%20%20%20%20%20%20%20%20icon%3A%20new%20L.Icon.Default%28%29%2C%0A%20%20%20%20%20%20%20%20%20%20%20%20%20%20%20%20%7D%0A%20%20%20%20%20%20%20%20%20%20%20%20%29.addTo%28map_146cd8147123498484976a07e362f27f%29%3B%0A%20%20%20%20%20%20%20%20%0A%20%20%20%20%0A%20%20%20%20%20%20%20%20%20%20%20%20var%20popup_5a1f7c17a5ea44a5802eff85c8f4d1aa%20%3D%20L.popup%28%7BmaxWidth%3A%20%27100%25%27%0A%20%20%20%20%20%20%20%20%20%20%20%20%0A%20%20%20%20%20%20%20%20%20%20%20%20%7D%29%3B%0A%0A%20%20%20%20%20%20%20%20%20%20%20%20%0A%20%20%20%20%20%20%20%20%20%20%20%20%20%20%20%20var%20html_30e103d1061b40e8bfe7b30465af831d%20%3D%20%24%28%60%3Cdiv%20id%3D%22html_30e103d1061b40e8bfe7b30465af831d%22%20style%3D%22width%3A%20100.0%25%3B%20height%3A%20100.0%25%3B%22%3E%20%20%20%20%20%20%20%20%20%3Cul%3E%20%20%20%20%20%20%20%20%20%20%20%20%20%3Cli%3E%3Cstrong%3EID%3A%20%3C/strong%3E7630%3C/li%3E%20%20%20%20%20%20%20%20%20%20%20%20%20%3Cli%3E%3Cstrong%3ESource%3A%20%3C/strong%3EHenderson%20P%26C%20%23114%3C/li%3E%20%20%20%20%20%20%20%20%20%20%20%20%20%3Cli%3E%3Cstrong%3EOccupation%3A%20%3C/strong%3EMona%20Thommasa%20di%20Giovanbatista%20da%20Verrazzano%3C/li%3E%20%20%20%20%20%20%20%20%20%3Cul%3E%20%20%20%20%20%3C/div%3E%60%29%5B0%5D%3B%0A%20%20%20%20%20%20%20%20%20%20%20%20%20%20%20%20popup_5a1f7c17a5ea44a5802eff85c8f4d1aa.setContent%28html_30e103d1061b40e8bfe7b30465af831d%29%3B%0A%20%20%20%20%20%20%20%20%20%20%20%20%0A%0A%20%20%20%20%20%20%20%20%20%20%20%20marker_666d482e3c7447cead68c7dcd9f096c4.bindPopup%28popup_5a1f7c17a5ea44a5802eff85c8f4d1aa%29%0A%20%20%20%20%20%20%20%20%20%20%20%20%3B%0A%0A%20%20%20%20%20%20%20%20%20%20%20%20%0A%20%20%20%20%20%20%20%20%0A%20%20%20%20%0A%20%20%20%20%20%20%20%20var%20marker_cd5aff84c9104d30b8b51e5e5e844c5d%20%3D%20L.marker%28%0A%20%20%20%20%20%20%20%20%20%20%20%20%5B43.768982%2C%2011.242736%5D%2C%0A%20%20%20%20%20%20%20%20%20%20%20%20%7B%0A%20%20%20%20%20%20%20%20%20%20%20%20%20%20%20%20icon%3A%20new%20L.Icon.Default%28%29%2C%0A%20%20%20%20%20%20%20%20%20%20%20%20%20%20%20%20%7D%0A%20%20%20%20%20%20%20%20%20%20%20%20%29.addTo%28map_146cd8147123498484976a07e362f27f%29%3B%0A%20%20%20%20%20%20%20%20%0A%20%20%20%20%0A%20%20%20%20%20%20%20%20%20%20%20%20var%20popup_8c752b988a0143878ad208c6e478771b%20%3D%20L.popup%28%7BmaxWidth%3A%20%27100%25%27%0A%20%20%20%20%20%20%20%20%20%20%20%20%0A%20%20%20%20%20%20%20%20%20%20%20%20%7D%29%3B%0A%0A%20%20%20%20%20%20%20%20%20%20%20%20%0A%20%20%20%20%20%20%20%20%20%20%20%20%20%20%20%20var%20html_b956c6d3d9b54f35b18cba34db9c5a5c%20%3D%20%24%28%60%3Cdiv%20id%3D%22html_b956c6d3d9b54f35b18cba34db9c5a5c%22%20style%3D%22width%3A%20100.0%25%3B%20height%3A%20100.0%25%3B%22%3E%20%20%20%20%20%20%20%20%20%3Cul%3E%20%20%20%20%20%20%20%20%20%20%20%20%20%3Cli%3E%3Cstrong%3EID%3A%20%3C/strong%3E8289%3C/li%3E%20%20%20%20%20%20%20%20%20%20%20%20%20%3Cli%3E%3Cstrong%3ESource%3A%20%3C/strong%3EHenderson%20P%26C%20%2358%3C/li%3E%20%20%20%20%20%20%20%20%20%20%20%20%20%3Cli%3E%3Cstrong%3EOccupation%3A%20%3C/strong%3EAntonio%20battilano%3C/li%3E%20%20%20%20%20%20%20%20%20%3Cul%3E%20%20%20%20%20%3C/div%3E%60%29%5B0%5D%3B%0A%20%20%20%20%20%20%20%20%20%20%20%20%20%20%20%20popup_8c752b988a0143878ad208c6e478771b.setContent%28html_b956c6d3d9b54f35b18cba34db9c5a5c%29%3B%0A%20%20%20%20%20%20%20%20%20%20%20%20%0A%0A%20%20%20%20%20%20%20%20%20%20%20%20marker_cd5aff84c9104d30b8b51e5e5e844c5d.bindPopup%28popup_8c752b988a0143878ad208c6e478771b%29%0A%20%20%20%20%20%20%20%20%20%20%20%20%3B%0A%0A%20%20%20%20%20%20%20%20%20%20%20%20%0A%20%20%20%20%20%20%20%20%0A%20%20%20%20%0A%20%20%20%20%20%20%20%20var%20marker_72562da07b7149a1a22509263af8ce11%20%3D%20L.marker%28%0A%20%20%20%20%20%20%20%20%20%20%20%20%5B43.769388%2C%2011.244695%5D%2C%0A%20%20%20%20%20%20%20%20%20%20%20%20%7B%0A%20%20%20%20%20%20%20%20%20%20%20%20%20%20%20%20icon%3A%20new%20L.Icon.Default%28%29%2C%0A%20%20%20%20%20%20%20%20%20%20%20%20%20%20%20%20%7D%0A%20%20%20%20%20%20%20%20%20%20%20%20%29.addTo%28map_146cd8147123498484976a07e362f27f%29%3B%0A%20%20%20%20%20%20%20%20%0A%20%20%20%20%0A%20%20%20%20%20%20%20%20%20%20%20%20var%20popup_2c26f5804a4947efa138f3ff9a88fc9e%20%3D%20L.popup%28%7BmaxWidth%3A%20%27100%25%27%0A%20%20%20%20%20%20%20%20%20%20%20%20%0A%20%20%20%20%20%20%20%20%20%20%20%20%7D%29%3B%0A%0A%20%20%20%20%20%20%20%20%20%20%20%20%0A%20%20%20%20%20%20%20%20%20%20%20%20%20%20%20%20var%20html_53aabe24d0924d5f8712c37cf1afa62b%20%3D%20%24%28%60%3Cdiv%20id%3D%22html_53aabe24d0924d5f8712c37cf1afa62b%22%20style%3D%22width%3A%20100.0%25%3B%20height%3A%20100.0%25%3B%22%3E%20%20%20%20%20%20%20%20%20%3Cul%3E%20%20%20%20%20%20%20%20%20%20%20%20%20%3Cli%3E%3Cstrong%3EID%3A%20%3C/strong%3E8486%3C/li%3E%20%20%20%20%20%20%20%20%20%20%20%20%20%3Cli%3E%3Cstrong%3ESource%3A%20%3C/strong%3EHenderson%20P%26C%20%2358%3C/li%3E%20%20%20%20%20%20%20%20%20%20%20%20%20%3Cli%3E%3Cstrong%3EOccupation%3A%20%3C/strong%3EMona%20Simone%20di%20Bastiano%20manouale%3C/li%3E%20%20%20%20%20%20%20%20%20%3Cul%3E%20%20%20%20%20%3C/div%3E%60%29%5B0%5D%3B%0A%20%20%20%20%20%20%20%20%20%20%20%20%20%20%20%20popup_2c26f5804a4947efa138f3ff9a88fc9e.setContent%28html_53aabe24d0924d5f8712c37cf1afa62b%29%3B%0A%20%20%20%20%20%20%20%20%20%20%20%20%0A%0A%20%20%20%20%20%20%20%20%20%20%20%20marker_72562da07b7149a1a22509263af8ce11.bindPopup%28popup_2c26f5804a4947efa138f3ff9a88fc9e%29%0A%20%20%20%20%20%20%20%20%20%20%20%20%3B%0A%0A%20%20%20%20%20%20%20%20%20%20%20%20%0A%20%20%20%20%20%20%20%20%0A%20%20%20%20%0A%20%20%20%20%20%20%20%20var%20marker_f5ebaa2cc18e4f99a8b7ae61397decf4%20%3D%20L.marker%28%0A%20%20%20%20%20%20%20%20%20%20%20%20%5B43.77036985%2C%2011.24205892%5D%2C%0A%20%20%20%20%20%20%20%20%20%20%20%20%7B%0A%20%20%20%20%20%20%20%20%20%20%20%20%20%20%20%20icon%3A%20new%20L.Icon.Default%28%29%2C%0A%20%20%20%20%20%20%20%20%20%20%20%20%20%20%20%20%7D%0A%20%20%20%20%20%20%20%20%20%20%20%20%29.addTo%28map_146cd8147123498484976a07e362f27f%29%3B%0A%20%20%20%20%20%20%20%20%0A%20%20%20%20%0A%20%20%20%20%20%20%20%20%20%20%20%20var%20popup_5920be1841de4c0eac655cba872a15d5%20%3D%20L.popup%28%7BmaxWidth%3A%20%27100%25%27%0A%20%20%20%20%20%20%20%20%20%20%20%20%0A%20%20%20%20%20%20%20%20%20%20%20%20%7D%29%3B%0A%0A%20%20%20%20%20%20%20%20%20%20%20%20%0A%20%20%20%20%20%20%20%20%20%20%20%20%20%20%20%20var%20html_3f9536740c6d48cd883108a015a3bb5f%20%3D%20%24%28%60%3Cdiv%20id%3D%22html_3f9536740c6d48cd883108a015a3bb5f%22%20style%3D%22width%3A%20100.0%25%3B%20height%3A%20100.0%25%3B%22%3E%20%20%20%20%20%20%20%20%20%3Cul%3E%20%20%20%20%20%20%20%20%20%20%20%20%20%3Cli%3E%3Cstrong%3EID%3A%20%3C/strong%3E8315%3C/li%3E%20%20%20%20%20%20%20%20%20%20%20%20%20%3Cli%3E%3Cstrong%3ESource%3A%20%3C/strong%3EHenderson%20P%26C%20%2358%3C/li%3E%20%20%20%20%20%20%20%20%20%20%20%20%20%3Cli%3E%3Cstrong%3EOccupation%3A%20%3C/strong%3ESalvestro%20di%20Matteo%20minugiaio%3C/li%3E%20%20%20%20%20%20%20%20%20%3Cul%3E%20%20%20%20%20%3C/div%3E%60%29%5B0%5D%3B%0A%20%20%20%20%20%20%20%20%20%20%20%20%20%20%20%20popup_5920be1841de4c0eac655cba872a15d5.setContent%28html_3f9536740c6d48cd883108a015a3bb5f%29%3B%0A%20%20%20%20%20%20%20%20%20%20%20%20%0A%0A%20%20%20%20%20%20%20%20%20%20%20%20marker_f5ebaa2cc18e4f99a8b7ae61397decf4.bindPopup%28popup_5920be1841de4c0eac655cba872a15d5%29%0A%20%20%20%20%20%20%20%20%20%20%20%20%3B%0A%0A%20%20%20%20%20%20%20%20%20%20%20%20%0A%20%20%20%20%20%20%20%20%0A%20%20%20%20%0A%20%20%20%20%20%20%20%20var%20marker_3d4bd9e90505455583a1d6201a20d24e%20%3D%20L.marker%28%0A%20%20%20%20%20%20%20%20%20%20%20%20%5B43.769331%2C%2011.24549767%5D%2C%0A%20%20%20%20%20%20%20%20%20%20%20%20%7B%0A%20%20%20%20%20%20%20%20%20%20%20%20%20%20%20%20icon%3A%20new%20L.Icon.Default%28%29%2C%0A%20%20%20%20%20%20%20%20%20%20%20%20%20%20%20%20%7D%0A%20%20%20%20%20%20%20%20%20%20%20%20%29.addTo%28map_146cd8147123498484976a07e362f27f%29%3B%0A%20%20%20%20%20%20%20%20%0A%20%20%20%20%0A%20%20%20%20%20%20%20%20%20%20%20%20var%20popup_8b943a17fc234b73967db962ff7153e9%20%3D%20L.popup%28%7BmaxWidth%3A%20%27100%25%27%0A%20%20%20%20%20%20%20%20%20%20%20%20%0A%20%20%20%20%20%20%20%20%20%20%20%20%7D%29%3B%0A%0A%20%20%20%20%20%20%20%20%20%20%20%20%0A%20%20%20%20%20%20%20%20%20%20%20%20%20%20%20%20var%20html_9f447eb550f548508afca943a157b44a%20%3D%20%24%28%60%3Cdiv%20id%3D%22html_9f447eb550f548508afca943a157b44a%22%20style%3D%22width%3A%20100.0%25%3B%20height%3A%20100.0%25%3B%22%3E%20%20%20%20%20%20%20%20%20%3Cul%3E%20%20%20%20%20%20%20%20%20%20%20%20%20%3Cli%3E%3Cstrong%3EID%3A%20%3C/strong%3E8509%3C/li%3E%20%20%20%20%20%20%20%20%20%20%20%20%20%3Cli%3E%3Cstrong%3ESource%3A%20%3C/strong%3EHenderson%20P%26C%20%2358%3C/li%3E%20%20%20%20%20%20%20%20%20%20%20%20%20%3Cli%3E%3Cstrong%3EOccupation%3A%20%3C/strong%3EFrancesco%20di%20Niccolo%20fornaio%3C/li%3E%20%20%20%20%20%20%20%20%20%3Cul%3E%20%20%20%20%20%3C/div%3E%60%29%5B0%5D%3B%0A%20%20%20%20%20%20%20%20%20%20%20%20%20%20%20%20popup_8b943a17fc234b73967db962ff7153e9.setContent%28html_9f447eb550f548508afca943a157b44a%29%3B%0A%20%20%20%20%20%20%20%20%20%20%20%20%0A%0A%20%20%20%20%20%20%20%20%20%20%20%20marker_3d4bd9e90505455583a1d6201a20d24e.bindPopup%28popup_8b943a17fc234b73967db962ff7153e9%29%0A%20%20%20%20%20%20%20%20%20%20%20%20%3B%0A%0A%20%20%20%20%20%20%20%20%20%20%20%20%0A%20%20%20%20%20%20%20%20%0A%20%20%20%20%0A%20%20%20%20%20%20%20%20var%20marker_0fff6a24da984f3986da645abc9ed5ea%20%3D%20L.marker%28%0A%20%20%20%20%20%20%20%20%20%20%20%20%5B43.77837788%2C%2011.254472%5D%2C%0A%20%20%20%20%20%20%20%20%20%20%20%20%7B%0A%20%20%20%20%20%20%20%20%20%20%20%20%20%20%20%20icon%3A%20new%20L.Icon.Default%28%29%2C%0A%20%20%20%20%20%20%20%20%20%20%20%20%20%20%20%20%7D%0A%20%20%20%20%20%20%20%20%20%20%20%20%29.addTo%28map_146cd8147123498484976a07e362f27f%29%3B%0A%20%20%20%20%20%20%20%20%0A%20%20%20%20%0A%20%20%20%20%20%20%20%20%20%20%20%20var%20popup_cd2219d4a8224fb99829ade031a6edce%20%3D%20L.popup%28%7BmaxWidth%3A%20%27100%25%27%0A%20%20%20%20%20%20%20%20%20%20%20%20%0A%20%20%20%20%20%20%20%20%20%20%20%20%7D%29%3B%0A%0A%20%20%20%20%20%20%20%20%20%20%20%20%0A%20%20%20%20%20%20%20%20%20%20%20%20%20%20%20%20var%20html_18e46be83242480cb51447949d76db93%20%3D%20%24%28%60%3Cdiv%20id%3D%22html_18e46be83242480cb51447949d76db93%22%20style%3D%22width%3A%20100.0%25%3B%20height%3A%20100.0%25%3B%22%3E%20%20%20%20%20%20%20%20%20%3Cul%3E%20%20%20%20%20%20%20%20%20%20%20%20%20%3Cli%3E%3Cstrong%3EID%3A%20%3C/strong%3E517%3C/li%3E%20%20%20%20%20%20%20%20%20%20%20%20%20%3Cli%3E%3Cstrong%3ESource%3A%20%3C/strong%3Enan%3C/li%3E%20%20%20%20%20%20%20%20%20%20%20%20%20%3Cli%3E%3Cstrong%3EOccupation%3A%20%3C/strong%3ELorenzo%20di%20Bartolomeo%2C%20tessitore%3C/li%3E%20%20%20%20%20%20%20%20%20%3Cul%3E%20%20%20%20%20%3C/div%3E%60%29%5B0%5D%3B%0A%20%20%20%20%20%20%20%20%20%20%20%20%20%20%20%20popup_cd2219d4a8224fb99829ade031a6edce.setContent%28html_18e46be83242480cb51447949d76db93%29%3B%0A%20%20%20%20%20%20%20%20%20%20%20%20%0A%0A%20%20%20%20%20%20%20%20%20%20%20%20marker_0fff6a24da984f3986da645abc9ed5ea.bindPopup%28popup_cd2219d4a8224fb99829ade031a6edce%29%0A%20%20%20%20%20%20%20%20%20%20%20%20%3B%0A%0A%20%20%20%20%20%20%20%20%20%20%20%20%0A%20%20%20%20%20%20%20%20%0A%20%20%20%20%0A%20%20%20%20%20%20%20%20var%20marker_c0dc95d23d3e452383742daaafc84c7e%20%3D%20L.marker%28%0A%20%20%20%20%20%20%20%20%20%20%20%20%5B43.77051125%2C%2011.262585%5D%2C%0A%20%20%20%20%20%20%20%20%20%20%20%20%7B%0A%20%20%20%20%20%20%20%20%20%20%20%20%20%20%20%20icon%3A%20new%20L.Icon.Default%28%29%2C%0A%20%20%20%20%20%20%20%20%20%20%20%20%20%20%20%20%7D%0A%20%20%20%20%20%20%20%20%20%20%20%20%29.addTo%28map_146cd8147123498484976a07e362f27f%29%3B%0A%20%20%20%20%20%20%20%20%0A%20%20%20%20%0A%20%20%20%20%20%20%20%20%20%20%20%20var%20popup_f10f25b286134520a98c4a3f1d0adc2a%20%3D%20L.popup%28%7BmaxWidth%3A%20%27100%25%27%0A%20%20%20%20%20%20%20%20%20%20%20%20%0A%20%20%20%20%20%20%20%20%20%20%20%20%7D%29%3B%0A%0A%20%20%20%20%20%20%20%20%20%20%20%20%0A%20%20%20%20%20%20%20%20%20%20%20%20%20%20%20%20var%20html_9f8b569553d44be79b4b157a5403c5e5%20%3D%20%24%28%60%3Cdiv%20id%3D%22html_9f8b569553d44be79b4b157a5403c5e5%22%20style%3D%22width%3A%20100.0%25%3B%20height%3A%20100.0%25%3B%22%3E%20%20%20%20%20%20%20%20%20%3Cul%3E%20%20%20%20%20%20%20%20%20%20%20%20%20%3Cli%3E%3Cstrong%3EID%3A%20%3C/strong%3E4784%3C/li%3E%20%20%20%20%20%20%20%20%20%20%20%20%20%3Cli%3E%3Cstrong%3ESource%3A%20%3C/strong%3Enan%3C/li%3E%20%20%20%20%20%20%20%20%20%20%20%20%20%3Cli%3E%3Cstrong%3EOccupation%3A%20%3C/strong%3Enan%3C/li%3E%20%20%20%20%20%20%20%20%20%3Cul%3E%20%20%20%20%20%3C/div%3E%60%29%5B0%5D%3B%0A%20%20%20%20%20%20%20%20%20%20%20%20%20%20%20%20popup_f10f25b286134520a98c4a3f1d0adc2a.setContent%28html_9f8b569553d44be79b4b157a5403c5e5%29%3B%0A%20%20%20%20%20%20%20%20%20%20%20%20%0A%0A%20%20%20%20%20%20%20%20%20%20%20%20marker_c0dc95d23d3e452383742daaafc84c7e.bindPopup%28popup_f10f25b286134520a98c4a3f1d0adc2a%29%0A%20%20%20%20%20%20%20%20%20%20%20%20%3B%0A%0A%20%20%20%20%20%20%20%20%20%20%20%20%0A%20%20%20%20%20%20%20%20%0A%20%20%20%20%0A%20%20%20%20%20%20%20%20var%20marker_ef39e7bacf7b4393a4a6200d1f30c153%20%3D%20L.marker%28%0A%20%20%20%20%20%20%20%20%20%20%20%20%5B43.772431%2C%2011.253561%5D%2C%0A%20%20%20%20%20%20%20%20%20%20%20%20%7B%0A%20%20%20%20%20%20%20%20%20%20%20%20%20%20%20%20icon%3A%20new%20L.Icon.Default%28%29%2C%0A%20%20%20%20%20%20%20%20%20%20%20%20%20%20%20%20%7D%0A%20%20%20%20%20%20%20%20%20%20%20%20%29.addTo%28map_146cd8147123498484976a07e362f27f%29%3B%0A%20%20%20%20%20%20%20%20%0A%20%20%20%20%0A%20%20%20%20%20%20%20%20%20%20%20%20var%20popup_84550e897f9842358c35e97cdc341ae8%20%3D%20L.popup%28%7BmaxWidth%3A%20%27100%25%27%0A%20%20%20%20%20%20%20%20%20%20%20%20%0A%20%20%20%20%20%20%20%20%20%20%20%20%7D%29%3B%0A%0A%20%20%20%20%20%20%20%20%20%20%20%20%0A%20%20%20%20%20%20%20%20%20%20%20%20%20%20%20%20var%20html_ff1d3b3be8cf4907b1503903d7b36457%20%3D%20%24%28%60%3Cdiv%20id%3D%22html_ff1d3b3be8cf4907b1503903d7b36457%22%20style%3D%22width%3A%20100.0%25%3B%20height%3A%20100.0%25%3B%22%3E%20%20%20%20%20%20%20%20%20%3Cul%3E%20%20%20%20%20%20%20%20%20%20%20%20%20%3Cli%3E%3Cstrong%3EID%3A%20%3C/strong%3E1004%3C/li%3E%20%20%20%20%20%20%20%20%20%20%20%20%20%3Cli%3E%3Cstrong%3ESource%3A%20%3C/strong%3Enan%3C/li%3E%20%20%20%20%20%20%20%20%20%20%20%20%20%3Cli%3E%3Cstrong%3EOccupation%3A%20%3C/strong%3Enan%3C/li%3E%20%20%20%20%20%20%20%20%20%3Cul%3E%20%20%20%20%20%3C/div%3E%60%29%5B0%5D%3B%0A%20%20%20%20%20%20%20%20%20%20%20%20%20%20%20%20popup_84550e897f9842358c35e97cdc341ae8.setContent%28html_ff1d3b3be8cf4907b1503903d7b36457%29%3B%0A%20%20%20%20%20%20%20%20%20%20%20%20%0A%0A%20%20%20%20%20%20%20%20%20%20%20%20marker_ef39e7bacf7b4393a4a6200d1f30c153.bindPopup%28popup_84550e897f9842358c35e97cdc341ae8%29%0A%20%20%20%20%20%20%20%20%20%20%20%20%3B%0A%0A%20%20%20%20%20%20%20%20%20%20%20%20%0A%20%20%20%20%20%20%20%20%0A%20%20%20%20%0A%20%20%20%20%20%20%20%20var%20marker_7e174bb4f39248ab8618d88b326abab9%20%3D%20L.marker%28%0A%20%20%20%20%20%20%20%20%20%20%20%20%5B43.77422106%2C%2011.25488759%5D%2C%0A%20%20%20%20%20%20%20%20%20%20%20%20%7B%0A%20%20%20%20%20%20%20%20%20%20%20%20%20%20%20%20icon%3A%20new%20L.Icon.Default%28%29%2C%0A%20%20%20%20%20%20%20%20%20%20%20%20%20%20%20%20%7D%0A%20%20%20%20%20%20%20%20%20%20%20%20%29.addTo%28map_146cd8147123498484976a07e362f27f%29%3B%0A%20%20%20%20%20%20%20%20%0A%20%20%20%20%0A%20%20%20%20%20%20%20%20%20%20%20%20var%20popup_cfc04b0f866f4448b5ea5aa5e5a422e1%20%3D%20L.popup%28%7BmaxWidth%3A%20%27100%25%27%0A%20%20%20%20%20%20%20%20%20%20%20%20%0A%20%20%20%20%20%20%20%20%20%20%20%20%7D%29%3B%0A%0A%20%20%20%20%20%20%20%20%20%20%20%20%0A%20%20%20%20%20%20%20%20%20%20%20%20%20%20%20%20var%20html_f45793579a0f4b668de2710c5452b04f%20%3D%20%24%28%60%3Cdiv%20id%3D%22html_f45793579a0f4b668de2710c5452b04f%22%20style%3D%22width%3A%20100.0%25%3B%20height%3A%20100.0%25%3B%22%3E%20%20%20%20%20%20%20%20%20%3Cul%3E%20%20%20%20%20%20%20%20%20%20%20%20%20%3Cli%3E%3Cstrong%3EID%3A%20%3C/strong%3E1214%3C/li%3E%20%20%20%20%20%20%20%20%20%20%20%20%20%3Cli%3E%3Cstrong%3ESource%3A%20%3C/strong%3Enan%3C/li%3E%20%20%20%20%20%20%20%20%20%20%20%20%20%3Cli%3E%3Cstrong%3EOccupation%3A%20%3C/strong%3ELorenzo%20di%20Biagio%2C%20sarto%3C/li%3E%20%20%20%20%20%20%20%20%20%3Cul%3E%20%20%20%20%20%3C/div%3E%60%29%5B0%5D%3B%0A%20%20%20%20%20%20%20%20%20%20%20%20%20%20%20%20popup_cfc04b0f866f4448b5ea5aa5e5a422e1.setContent%28html_f45793579a0f4b668de2710c5452b04f%29%3B%0A%20%20%20%20%20%20%20%20%20%20%20%20%0A%0A%20%20%20%20%20%20%20%20%20%20%20%20marker_7e174bb4f39248ab8618d88b326abab9.bindPopup%28popup_cfc04b0f866f4448b5ea5aa5e5a422e1%29%0A%20%20%20%20%20%20%20%20%20%20%20%20%3B%0A%0A%20%20%20%20%20%20%20%20%20%20%20%20%0A%20%20%20%20%20%20%20%20%0A%20%20%20%20%0A%20%20%20%20%20%20%20%20var%20marker_42c2d9941f8b4c3fb724a3b82b412ba5%20%3D%20L.marker%28%0A%20%20%20%20%20%20%20%20%20%20%20%20%5B43.77251823%2C%2011.26522828%5D%2C%0A%20%20%20%20%20%20%20%20%20%20%20%20%7B%0A%20%20%20%20%20%20%20%20%20%20%20%20%20%20%20%20icon%3A%20new%20L.Icon.Default%28%29%2C%0A%20%20%20%20%20%20%20%20%20%20%20%20%20%20%20%20%7D%0A%20%20%20%20%20%20%20%20%20%20%20%20%29.addTo%28map_146cd8147123498484976a07e362f27f%29%3B%0A%20%20%20%20%20%20%20%20%0A%20%20%20%20%0A%20%20%20%20%20%20%20%20%20%20%20%20var%20popup_363f210c37df4ebbaa7d09ccea1319f2%20%3D%20L.popup%28%7BmaxWidth%3A%20%27100%25%27%0A%20%20%20%20%20%20%20%20%20%20%20%20%0A%20%20%20%20%20%20%20%20%20%20%20%20%7D%29%3B%0A%0A%20%20%20%20%20%20%20%20%20%20%20%20%0A%20%20%20%20%20%20%20%20%20%20%20%20%20%20%20%20var%20html_d5ea992c67744aa998d8bf82d9aa7034%20%3D%20%24%28%60%3Cdiv%20id%3D%22html_d5ea992c67744aa998d8bf82d9aa7034%22%20style%3D%22width%3A%20100.0%25%3B%20height%3A%20100.0%25%3B%22%3E%20%20%20%20%20%20%20%20%20%3Cul%3E%20%20%20%20%20%20%20%20%20%20%20%20%20%3Cli%3E%3Cstrong%3EID%3A%20%3C/strong%3E2776%3C/li%3E%20%20%20%20%20%20%20%20%20%20%20%20%20%3Cli%3E%3Cstrong%3ESource%3A%20%3C/strong%3EHenderson%20P%26C%20%2341%3C/li%3E%20%20%20%20%20%20%20%20%20%20%20%20%20%3Cli%3E%3Cstrong%3EOccupation%3A%20%3C/strong%3EMona%20Lexandra%2C%20donna%20fu%20di%20Ruberto%20Rinieri%3C/li%3E%20%20%20%20%20%20%20%20%20%3Cul%3E%20%20%20%20%20%3C/div%3E%60%29%5B0%5D%3B%0A%20%20%20%20%20%20%20%20%20%20%20%20%20%20%20%20popup_363f210c37df4ebbaa7d09ccea1319f2.setContent%28html_d5ea992c67744aa998d8bf82d9aa7034%29%3B%0A%20%20%20%20%20%20%20%20%20%20%20%20%0A%0A%20%20%20%20%20%20%20%20%20%20%20%20marker_42c2d9941f8b4c3fb724a3b82b412ba5.bindPopup%28popup_363f210c37df4ebbaa7d09ccea1319f2%29%0A%20%20%20%20%20%20%20%20%20%20%20%20%3B%0A%0A%20%20%20%20%20%20%20%20%20%20%20%20%0A%20%20%20%20%20%20%20%20%0A%20%20%20%20%0A%20%20%20%20%20%20%20%20var%20marker_1848834bc0f64ae481426f3277199688%20%3D%20L.marker%28%0A%20%20%20%20%20%20%20%20%20%20%20%20%5B43.777438%2C%2011.253398%5D%2C%0A%20%20%20%20%20%20%20%20%20%20%20%20%7B%0A%20%20%20%20%20%20%20%20%20%20%20%20%20%20%20%20icon%3A%20new%20L.Icon.Default%28%29%2C%0A%20%20%20%20%20%20%20%20%20%20%20%20%20%20%20%20%7D%0A%20%20%20%20%20%20%20%20%20%20%20%20%29.addTo%28map_146cd8147123498484976a07e362f27f%29%3B%0A%20%20%20%20%20%20%20%20%0A%20%20%20%20%0A%20%20%20%20%20%20%20%20%20%20%20%20var%20popup_0f644c46c06549199f7dff03659ec23a%20%3D%20L.popup%28%7BmaxWidth%3A%20%27100%25%27%0A%20%20%20%20%20%20%20%20%20%20%20%20%0A%20%20%20%20%20%20%20%20%20%20%20%20%7D%29%3B%0A%0A%20%20%20%20%20%20%20%20%20%20%20%20%0A%20%20%20%20%20%20%20%20%20%20%20%20%20%20%20%20var%20html_4811b69d5a044227a8158c5acc499e49%20%3D%20%24%28%60%3Cdiv%20id%3D%22html_4811b69d5a044227a8158c5acc499e49%22%20style%3D%22width%3A%20100.0%25%3B%20height%3A%20100.0%25%3B%22%3E%20%20%20%20%20%20%20%20%20%3Cul%3E%20%20%20%20%20%20%20%20%20%20%20%20%20%3Cli%3E%3Cstrong%3EID%3A%20%3C/strong%3E47%3C/li%3E%20%20%20%20%20%20%20%20%20%20%20%20%20%3Cli%3E%3Cstrong%3ESource%3A%20%3C/strong%3EHenderson%20P%26C%20%2361%3C/li%3E%20%20%20%20%20%20%20%20%20%20%20%20%20%3Cli%3E%3Cstrong%3EOccupation%3A%20%3C/strong%3EAntonio%20di%20Francesco%2C%20ciabattino%3C/li%3E%20%20%20%20%20%20%20%20%20%3Cul%3E%20%20%20%20%20%3C/div%3E%60%29%5B0%5D%3B%0A%20%20%20%20%20%20%20%20%20%20%20%20%20%20%20%20popup_0f644c46c06549199f7dff03659ec23a.setContent%28html_4811b69d5a044227a8158c5acc499e49%29%3B%0A%20%20%20%20%20%20%20%20%20%20%20%20%0A%0A%20%20%20%20%20%20%20%20%20%20%20%20marker_1848834bc0f64ae481426f3277199688.bindPopup%28popup_0f644c46c06549199f7dff03659ec23a%29%0A%20%20%20%20%20%20%20%20%20%20%20%20%3B%0A%0A%20%20%20%20%20%20%20%20%20%20%20%20%0A%20%20%20%20%20%20%20%20%0A%20%20%20%20%0A%20%20%20%20%20%20%20%20var%20marker_8b5b1ee4107546c0a97ae41e1ceb8f24%20%3D%20L.marker%28%0A%20%20%20%20%20%20%20%20%20%20%20%20%5B43.77206267%2C%2011.26117733%5D%2C%0A%20%20%20%20%20%20%20%20%20%20%20%20%7B%0A%20%20%20%20%20%20%20%20%20%20%20%20%20%20%20%20icon%3A%20new%20L.Icon.Default%28%29%2C%0A%20%20%20%20%20%20%20%20%20%20%20%20%20%20%20%20%7D%0A%20%20%20%20%20%20%20%20%20%20%20%20%29.addTo%28map_146cd8147123498484976a07e362f27f%29%3B%0A%20%20%20%20%20%20%20%20%0A%20%20%20%20%0A%20%20%20%20%20%20%20%20%20%20%20%20var%20popup_92493e33b95549c5a4122a593f222c7e%20%3D%20L.popup%28%7BmaxWidth%3A%20%27100%25%27%0A%20%20%20%20%20%20%20%20%20%20%20%20%0A%20%20%20%20%20%20%20%20%20%20%20%20%7D%29%3B%0A%0A%20%20%20%20%20%20%20%20%20%20%20%20%0A%20%20%20%20%20%20%20%20%20%20%20%20%20%20%20%20var%20html_4f28a7cf7f1d49318b085b6e7cf513c7%20%3D%20%24%28%60%3Cdiv%20id%3D%22html_4f28a7cf7f1d49318b085b6e7cf513c7%22%20style%3D%22width%3A%20100.0%25%3B%20height%3A%20100.0%25%3B%22%3E%20%20%20%20%20%20%20%20%20%3Cul%3E%20%20%20%20%20%20%20%20%20%20%20%20%20%3Cli%3E%3Cstrong%3EID%3A%20%3C/strong%3E2122%3C/li%3E%20%20%20%20%20%20%20%20%20%20%20%20%20%3Cli%3E%3Cstrong%3ESource%3A%20%3C/strong%3EHenderson%20P%26C%20%2361%3C/li%3E%20%20%20%20%20%20%20%20%20%20%20%20%20%3Cli%3E%3Cstrong%3EOccupation%3A%20%3C/strong%3EConte%2C%20divettino%3C/li%3E%20%20%20%20%20%20%20%20%20%3Cul%3E%20%20%20%20%20%3C/div%3E%60%29%5B0%5D%3B%0A%20%20%20%20%20%20%20%20%20%20%20%20%20%20%20%20popup_92493e33b95549c5a4122a593f222c7e.setContent%28html_4f28a7cf7f1d49318b085b6e7cf513c7%29%3B%0A%20%20%20%20%20%20%20%20%20%20%20%20%0A%0A%20%20%20%20%20%20%20%20%20%20%20%20marker_8b5b1ee4107546c0a97ae41e1ceb8f24.bindPopup%28popup_92493e33b95549c5a4122a593f222c7e%29%0A%20%20%20%20%20%20%20%20%20%20%20%20%3B%0A%0A%20%20%20%20%20%20%20%20%20%20%20%20%0A%20%20%20%20%20%20%20%20%0A%20%20%20%20%0A%20%20%20%20%20%20%20%20var%20marker_51191c4209f547cdb84fae63f13467ee%20%3D%20L.marker%28%0A%20%20%20%20%20%20%20%20%20%20%20%20%5B43.77092867%2C%2011.26371433%5D%2C%0A%20%20%20%20%20%20%20%20%20%20%20%20%7B%0A%20%20%20%20%20%20%20%20%20%20%20%20%20%20%20%20icon%3A%20new%20L.Icon.Default%28%29%2C%0A%20%20%20%20%20%20%20%20%20%20%20%20%20%20%20%20%7D%0A%20%20%20%20%20%20%20%20%20%20%20%20%29.addTo%28map_146cd8147123498484976a07e362f27f%29%3B%0A%20%20%20%20%20%20%20%20%0A%20%20%20%20%0A%20%20%20%20%20%20%20%20%20%20%20%20var%20popup_442d4add5ef945c99a0e9230e3967315%20%3D%20L.popup%28%7BmaxWidth%3A%20%27100%25%27%0A%20%20%20%20%20%20%20%20%20%20%20%20%0A%20%20%20%20%20%20%20%20%20%20%20%20%7D%29%3B%0A%0A%20%20%20%20%20%20%20%20%20%20%20%20%0A%20%20%20%20%20%20%20%20%20%20%20%20%20%20%20%20var%20html_b7624f868ebb46cb84ccb02126848142%20%3D%20%24%28%60%3Cdiv%20id%3D%22html_b7624f868ebb46cb84ccb02126848142%22%20style%3D%22width%3A%20100.0%25%3B%20height%3A%20100.0%25%3B%22%3E%20%20%20%20%20%20%20%20%20%3Cul%3E%20%20%20%20%20%20%20%20%20%20%20%20%20%3Cli%3E%3Cstrong%3EID%3A%20%3C/strong%3E3124%3C/li%3E%20%20%20%20%20%20%20%20%20%20%20%20%20%3Cli%3E%3Cstrong%3ESource%3A%20%3C/strong%3EHenderson%20P%26C%20%2361%3C/li%3E%20%20%20%20%20%20%20%20%20%20%20%20%20%3Cli%3E%3Cstrong%3EOccupation%3A%20%3C/strong%3EAndrea%20di%20Jacopo%20Romagnuolo%3C/li%3E%20%20%20%20%20%20%20%20%20%3Cul%3E%20%20%20%20%20%3C/div%3E%60%29%5B0%5D%3B%0A%20%20%20%20%20%20%20%20%20%20%20%20%20%20%20%20popup_442d4add5ef945c99a0e9230e3967315.setContent%28html_b7624f868ebb46cb84ccb02126848142%29%3B%0A%20%20%20%20%20%20%20%20%20%20%20%20%0A%0A%20%20%20%20%20%20%20%20%20%20%20%20marker_51191c4209f547cdb84fae63f13467ee.bindPopup%28popup_442d4add5ef945c99a0e9230e3967315%29%0A%20%20%20%20%20%20%20%20%20%20%20%20%3B%0A%0A%20%20%20%20%20%20%20%20%20%20%20%20%0A%20%20%20%20%20%20%20%20%0A%20%20%20%20%0A%20%20%20%20%20%20%20%20var%20marker_e17bd2b3378948f1876ae88a2f9aa4d9%20%3D%20L.marker%28%0A%20%20%20%20%20%20%20%20%20%20%20%20%5B43.77706373%2C%2011.24898549%5D%2C%0A%20%20%20%20%20%20%20%20%20%20%20%20%7B%0A%20%20%20%20%20%20%20%20%20%20%20%20%20%20%20%20icon%3A%20new%20L.Icon.Default%28%29%2C%0A%20%20%20%20%20%20%20%20%20%20%20%20%20%20%20%20%7D%0A%20%20%20%20%20%20%20%20%20%20%20%20%29.addTo%28map_146cd8147123498484976a07e362f27f%29%3B%0A%20%20%20%20%20%20%20%20%0A%20%20%20%20%0A%20%20%20%20%20%20%20%20%20%20%20%20var%20popup_8c75c763633f432db35941fe5f023a3c%20%3D%20L.popup%28%7BmaxWidth%3A%20%27100%25%27%0A%20%20%20%20%20%20%20%20%20%20%20%20%0A%20%20%20%20%20%20%20%20%20%20%20%20%7D%29%3B%0A%0A%20%20%20%20%20%20%20%20%20%20%20%20%0A%20%20%20%20%20%20%20%20%20%20%20%20%20%20%20%20var%20html_2da7e3f65d8d44549680e2227134fb54%20%3D%20%24%28%60%3Cdiv%20id%3D%22html_2da7e3f65d8d44549680e2227134fb54%22%20style%3D%22width%3A%20100.0%25%3B%20height%3A%20100.0%25%3B%22%3E%20%20%20%20%20%20%20%20%20%3Cul%3E%20%20%20%20%20%20%20%20%20%20%20%20%20%3Cli%3E%3Cstrong%3EID%3A%20%3C/strong%3E4501%3C/li%3E%20%20%20%20%20%20%20%20%20%20%20%20%20%3Cli%3E%3Cstrong%3ESource%3A%20%3C/strong%3EHenderson%20P%26C%20%236%3C/li%3E%20%20%20%20%20%20%20%20%20%20%20%20%20%3Cli%3E%3Cstrong%3EOccupation%3A%20%3C/strong%3EGuiliano%20d%27%20Antonio%2C%20fattorino%3C/li%3E%20%20%20%20%20%20%20%20%20%3Cul%3E%20%20%20%20%20%3C/div%3E%60%29%5B0%5D%3B%0A%20%20%20%20%20%20%20%20%20%20%20%20%20%20%20%20popup_8c75c763633f432db35941fe5f023a3c.setContent%28html_2da7e3f65d8d44549680e2227134fb54%29%3B%0A%20%20%20%20%20%20%20%20%20%20%20%20%0A%0A%20%20%20%20%20%20%20%20%20%20%20%20marker_e17bd2b3378948f1876ae88a2f9aa4d9.bindPopup%28popup_8c75c763633f432db35941fe5f023a3c%29%0A%20%20%20%20%20%20%20%20%20%20%20%20%3B%0A%0A%20%20%20%20%20%20%20%20%20%20%20%20%0A%20%20%20%20%20%20%20%20%0A%20%20%20%20%0A%20%20%20%20%20%20%20%20var%20marker_914f071d0ff340348bebdf03dc300482%20%3D%20L.marker%28%0A%20%20%20%20%20%20%20%20%20%20%20%20%5B43.771575%2C%2011.265926%5D%2C%0A%20%20%20%20%20%20%20%20%20%20%20%20%7B%0A%20%20%20%20%20%20%20%20%20%20%20%20%20%20%20%20icon%3A%20new%20L.Icon.Default%28%29%2C%0A%20%20%20%20%20%20%20%20%20%20%20%20%20%20%20%20%7D%0A%20%20%20%20%20%20%20%20%20%20%20%20%29.addTo%28map_146cd8147123498484976a07e362f27f%29%3B%0A%20%20%20%20%20%20%20%20%0A%20%20%20%20%0A%20%20%20%20%20%20%20%20%20%20%20%20var%20popup_b2bec580c8f84cf2a8d1b5d11a6e4b59%20%3D%20L.popup%28%7BmaxWidth%3A%20%27100%25%27%0A%20%20%20%20%20%20%20%20%20%20%20%20%0A%20%20%20%20%20%20%20%20%20%20%20%20%7D%29%3B%0A%0A%20%20%20%20%20%20%20%20%20%20%20%20%0A%20%20%20%20%20%20%20%20%20%20%20%20%20%20%20%20var%20html_6a7598674e664e1ba69c9cf2f2ff4f4e%20%3D%20%24%28%60%3Cdiv%20id%3D%22html_6a7598674e664e1ba69c9cf2f2ff4f4e%22%20style%3D%22width%3A%20100.0%25%3B%20height%3A%20100.0%25%3B%22%3E%20%20%20%20%20%20%20%20%20%3Cul%3E%20%20%20%20%20%20%20%20%20%20%20%20%20%3Cli%3E%3Cstrong%3EID%3A%20%3C/strong%3E2873%3C/li%3E%20%20%20%20%20%20%20%20%20%20%20%20%20%3Cli%3E%3Cstrong%3ESource%3A%20%3C/strong%3Enan%3C/li%3E%20%20%20%20%20%20%20%20%20%20%20%20%20%3Cli%3E%3Cstrong%3EOccupation%3A%20%3C/strong%3EAndrea%20di%20Lexandro%20del%20Fede%3C/li%3E%20%20%20%20%20%20%20%20%20%3Cul%3E%20%20%20%20%20%3C/div%3E%60%29%5B0%5D%3B%0A%20%20%20%20%20%20%20%20%20%20%20%20%20%20%20%20popup_b2bec580c8f84cf2a8d1b5d11a6e4b59.setContent%28html_6a7598674e664e1ba69c9cf2f2ff4f4e%29%3B%0A%20%20%20%20%20%20%20%20%20%20%20%20%0A%0A%20%20%20%20%20%20%20%20%20%20%20%20marker_914f071d0ff340348bebdf03dc300482.bindPopup%28popup_b2bec580c8f84cf2a8d1b5d11a6e4b59%29%0A%20%20%20%20%20%20%20%20%20%20%20%20%3B%0A%0A%20%20%20%20%20%20%20%20%20%20%20%20%0A%20%20%20%20%20%20%20%20%0A%20%20%20%20%0A%20%20%20%20%20%20%20%20var%20marker_442f73acead5420bb43005bc00e064fe%20%3D%20L.marker%28%0A%20%20%20%20%20%20%20%20%20%20%20%20%5B43.768454%2C%2011.257542%5D%2C%0A%20%20%20%20%20%20%20%20%20%20%20%20%7B%0A%20%20%20%20%20%20%20%20%20%20%20%20%20%20%20%20icon%3A%20new%20L.Icon.Default%28%29%2C%0A%20%20%20%20%20%20%20%20%20%20%20%20%20%20%20%20%7D%0A%20%20%20%20%20%20%20%20%20%20%20%20%29.addTo%28map_146cd8147123498484976a07e362f27f%29%3B%0A%20%20%20%20%20%20%20%20%0A%20%20%20%20%0A%20%20%20%20%20%20%20%20%20%20%20%20var%20popup_85929372fe5144d0ac5f6da1c74d1f1c%20%3D%20L.popup%28%7BmaxWidth%3A%20%27100%25%27%0A%20%20%20%20%20%20%20%20%20%20%20%20%0A%20%20%20%20%20%20%20%20%20%20%20%20%7D%29%3B%0A%0A%20%20%20%20%20%20%20%20%20%20%20%20%0A%20%20%20%20%20%20%20%20%20%20%20%20%20%20%20%20var%20html_f3284f22b0b743f1be16603e5800f8c3%20%3D%20%24%28%60%3Cdiv%20id%3D%22html_f3284f22b0b743f1be16603e5800f8c3%22%20style%3D%22width%3A%20100.0%25%3B%20height%3A%20100.0%25%3B%22%3E%20%20%20%20%20%20%20%20%20%3Cul%3E%20%20%20%20%20%20%20%20%20%20%20%20%20%3Cli%3E%3Cstrong%3EID%3A%20%3C/strong%3E4758%3C/li%3E%20%20%20%20%20%20%20%20%20%20%20%20%20%3Cli%3E%3Cstrong%3ESource%3A%20%3C/strong%3Enan%3C/li%3E%20%20%20%20%20%20%20%20%20%20%20%20%20%3Cli%3E%3Cstrong%3EOccupation%3A%20%3C/strong%3EVincenzo%20di%20Tommaso%20Bandini%3C/li%3E%20%20%20%20%20%20%20%20%20%3Cul%3E%20%20%20%20%20%3C/div%3E%60%29%5B0%5D%3B%0A%20%20%20%20%20%20%20%20%20%20%20%20%20%20%20%20popup_85929372fe5144d0ac5f6da1c74d1f1c.setContent%28html_f3284f22b0b743f1be16603e5800f8c3%29%3B%0A%20%20%20%20%20%20%20%20%20%20%20%20%0A%0A%20%20%20%20%20%20%20%20%20%20%20%20marker_442f73acead5420bb43005bc00e064fe.bindPopup%28popup_85929372fe5144d0ac5f6da1c74d1f1c%29%0A%20%20%20%20%20%20%20%20%20%20%20%20%3B%0A%0A%20%20%20%20%20%20%20%20%20%20%20%20%0A%20%20%20%20%20%20%20%20%0A%20%20%20%20%0A%20%20%20%20%20%20%20%20var%20marker_17f41dc06065400b9393506683094b3e%20%3D%20L.marker%28%0A%20%20%20%20%20%20%20%20%20%20%20%20%5B43.77538%2C%2011.24949%5D%2C%0A%20%20%20%20%20%20%20%20%20%20%20%20%7B%0A%20%20%20%20%20%20%20%20%20%20%20%20%20%20%20%20icon%3A%20new%20L.Icon.Default%28%29%2C%0A%20%20%20%20%20%20%20%20%20%20%20%20%20%20%20%20%7D%0A%20%20%20%20%20%20%20%20%20%20%20%20%29.addTo%28map_146cd8147123498484976a07e362f27f%29%3B%0A%20%20%20%20%20%20%20%20%0A%20%20%20%20%0A%20%20%20%20%20%20%20%20%20%20%20%20var%20popup_e8ed10c87399430fb964760a9ebda458%20%3D%20L.popup%28%7BmaxWidth%3A%20%27100%25%27%0A%20%20%20%20%20%20%20%20%20%20%20%20%0A%20%20%20%20%20%20%20%20%20%20%20%20%7D%29%3B%0A%0A%20%20%20%20%20%20%20%20%20%20%20%20%0A%20%20%20%20%20%20%20%20%20%20%20%20%20%20%20%20var%20html_2d74429049a74beb9d204cb5671258af%20%3D%20%24%28%60%3Cdiv%20id%3D%22html_2d74429049a74beb9d204cb5671258af%22%20style%3D%22width%3A%20100.0%25%3B%20height%3A%20100.0%25%3B%22%3E%20%20%20%20%20%20%20%20%20%3Cul%3E%20%20%20%20%20%20%20%20%20%20%20%20%20%3Cli%3E%3Cstrong%3EID%3A%20%3C/strong%3E4024%3C/li%3E%20%20%20%20%20%20%20%20%20%20%20%20%20%3Cli%3E%3Cstrong%3ESource%3A%20%3C/strong%3Enan%3C/li%3E%20%20%20%20%20%20%20%20%20%20%20%20%20%3Cli%3E%3Cstrong%3EOccupation%3A%20%3C/strong%3EVincenzo%20di%20Francesco%20Becchino%3C/li%3E%20%20%20%20%20%20%20%20%20%3Cul%3E%20%20%20%20%20%3C/div%3E%60%29%5B0%5D%3B%0A%20%20%20%20%20%20%20%20%20%20%20%20%20%20%20%20popup_e8ed10c87399430fb964760a9ebda458.setContent%28html_2d74429049a74beb9d204cb5671258af%29%3B%0A%20%20%20%20%20%20%20%20%20%20%20%20%0A%0A%20%20%20%20%20%20%20%20%20%20%20%20marker_17f41dc06065400b9393506683094b3e.bindPopup%28popup_e8ed10c87399430fb964760a9ebda458%29%0A%20%20%20%20%20%20%20%20%20%20%20%20%3B%0A%0A%20%20%20%20%20%20%20%20%20%20%20%20%0A%20%20%20%20%20%20%20%20%0A%20%20%20%20%0A%20%20%20%20%20%20%20%20var%20marker_5e096b6799934d1390fa4b2850fed561%20%3D%20L.marker%28%0A%20%20%20%20%20%20%20%20%20%20%20%20%5B43.77695321%2C%2011.25422064%5D%2C%0A%20%20%20%20%20%20%20%20%20%20%20%20%7B%0A%20%20%20%20%20%20%20%20%20%20%20%20%20%20%20%20icon%3A%20new%20L.Icon.Default%28%29%2C%0A%20%20%20%20%20%20%20%20%20%20%20%20%20%20%20%20%7D%0A%20%20%20%20%20%20%20%20%20%20%20%20%29.addTo%28map_146cd8147123498484976a07e362f27f%29%3B%0A%20%20%20%20%20%20%20%20%0A%20%20%20%20%0A%20%20%20%20%20%20%20%20%20%20%20%20var%20popup_4edb670c2cbc48b990dc79e7fd354ac7%20%3D%20L.popup%28%7BmaxWidth%3A%20%27100%25%27%0A%20%20%20%20%20%20%20%20%20%20%20%20%0A%20%20%20%20%20%20%20%20%20%20%20%20%7D%29%3B%0A%0A%20%20%20%20%20%20%20%20%20%20%20%20%0A%20%20%20%20%20%20%20%20%20%20%20%20%20%20%20%20var%20html_22620a5fbbbf474ca862574db05ca1fd%20%3D%20%24%28%60%3Cdiv%20id%3D%22html_22620a5fbbbf474ca862574db05ca1fd%22%20style%3D%22width%3A%20100.0%25%3B%20height%3A%20100.0%25%3B%22%3E%20%20%20%20%20%20%20%20%20%3Cul%3E%20%20%20%20%20%20%20%20%20%20%20%20%20%3Cli%3E%3Cstrong%3EID%3A%20%3C/strong%3E283%3C/li%3E%20%20%20%20%20%20%20%20%20%20%20%20%20%3Cli%3E%3Cstrong%3ESource%3A%20%3C/strong%3EHenderson%20P%26C%20%23156%3C/li%3E%20%20%20%20%20%20%20%20%20%20%20%20%20%3Cli%3E%3Cstrong%3EOccupation%3A%20%3C/strong%3EDaniello%20di%20Piero%20MAnnaii%2C%20tessitore%3C/li%3E%20%20%20%20%20%20%20%20%20%3Cul%3E%20%20%20%20%20%3C/div%3E%60%29%5B0%5D%3B%0A%20%20%20%20%20%20%20%20%20%20%20%20%20%20%20%20popup_4edb670c2cbc48b990dc79e7fd354ac7.setContent%28html_22620a5fbbbf474ca862574db05ca1fd%29%3B%0A%20%20%20%20%20%20%20%20%20%20%20%20%0A%0A%20%20%20%20%20%20%20%20%20%20%20%20marker_5e096b6799934d1390fa4b2850fed561.bindPopup%28popup_4edb670c2cbc48b990dc79e7fd354ac7%29%0A%20%20%20%20%20%20%20%20%20%20%20%20%3B%0A%0A%20%20%20%20%20%20%20%20%20%20%20%20%0A%20%20%20%20%20%20%20%20%0A%20%20%20%20%0A%20%20%20%20%20%20%20%20var%20marker_510858d51753418b9398e238d8fe193f%20%3D%20L.marker%28%0A%20%20%20%20%20%20%20%20%20%20%20%20%5B43.77731413%2C%2011.25176996%5D%2C%0A%20%20%20%20%20%20%20%20%20%20%20%20%7B%0A%20%20%20%20%20%20%20%20%20%20%20%20%20%20%20%20icon%3A%20new%20L.Icon.Default%28%29%2C%0A%20%20%20%20%20%20%20%20%20%20%20%20%20%20%20%20%7D%0A%20%20%20%20%20%20%20%20%20%20%20%20%29.addTo%28map_146cd8147123498484976a07e362f27f%29%3B%0A%20%20%20%20%20%20%20%20%0A%20%20%20%20%0A%20%20%20%20%20%20%20%20%20%20%20%20var%20popup_6e6582ecf2a04c9e9f3aeb570a3a1b78%20%3D%20L.popup%28%7BmaxWidth%3A%20%27100%25%27%0A%20%20%20%20%20%20%20%20%20%20%20%20%0A%20%20%20%20%20%20%20%20%20%20%20%20%7D%29%3B%0A%0A%20%20%20%20%20%20%20%20%20%20%20%20%0A%20%20%20%20%20%20%20%20%20%20%20%20%20%20%20%20var%20html_3090e19f9ff0432488b234585ce16d97%20%3D%20%24%28%60%3Cdiv%20id%3D%22html_3090e19f9ff0432488b234585ce16d97%22%20style%3D%22width%3A%20100.0%25%3B%20height%3A%20100.0%25%3B%22%3E%20%20%20%20%20%20%20%20%20%3Cul%3E%20%20%20%20%20%20%20%20%20%20%20%20%20%3Cli%3E%3Cstrong%3EID%3A%20%3C/strong%3E41%3C/li%3E%20%20%20%20%20%20%20%20%20%20%20%20%20%3Cli%3E%3Cstrong%3ESource%3A%20%3C/strong%3Enan%3C/li%3E%20%20%20%20%20%20%20%20%20%20%20%20%20%3Cli%3E%3Cstrong%3EOccupation%3A%20%3C/strong%3Eser%20Giovanni%20d%27%20Agnolo%20dalla%20Pieve%20a%20Presciano%3C/li%3E%20%20%20%20%20%20%20%20%20%3Cul%3E%20%20%20%20%20%3C/div%3E%60%29%5B0%5D%3B%0A%20%20%20%20%20%20%20%20%20%20%20%20%20%20%20%20popup_6e6582ecf2a04c9e9f3aeb570a3a1b78.setContent%28html_3090e19f9ff0432488b234585ce16d97%29%3B%0A%20%20%20%20%20%20%20%20%20%20%20%20%0A%0A%20%20%20%20%20%20%20%20%20%20%20%20marker_510858d51753418b9398e238d8fe193f.bindPopup%28popup_6e6582ecf2a04c9e9f3aeb570a3a1b78%29%0A%20%20%20%20%20%20%20%20%20%20%20%20%3B%0A%0A%20%20%20%20%20%20%20%20%20%20%20%20%0A%20%20%20%20%20%20%20%20%0A%20%20%20%20%0A%20%20%20%20%20%20%20%20var%20marker_8db2572e1a52457bad4ce80b62681b36%20%3D%20L.marker%28%0A%20%20%20%20%20%20%20%20%20%20%20%20%5B43.77295667%2C%2011.25918333%5D%2C%0A%20%20%20%20%20%20%20%20%20%20%20%20%7B%0A%20%20%20%20%20%20%20%20%20%20%20%20%20%20%20%20icon%3A%20new%20L.Icon.Default%28%29%2C%0A%20%20%20%20%20%20%20%20%20%20%20%20%20%20%20%20%7D%0A%20%20%20%20%20%20%20%20%20%20%20%20%29.addTo%28map_146cd8147123498484976a07e362f27f%29%3B%0A%20%20%20%20%20%20%20%20%0A%20%20%20%20%0A%20%20%20%20%20%20%20%20%20%20%20%20var%20popup_c7d6cc0be70448be857f08a685be0163%20%3D%20L.popup%28%7BmaxWidth%3A%20%27100%25%27%0A%20%20%20%20%20%20%20%20%20%20%20%20%0A%20%20%20%20%20%20%20%20%20%20%20%20%7D%29%3B%0A%0A%20%20%20%20%20%20%20%20%20%20%20%20%0A%20%20%20%20%20%20%20%20%20%20%20%20%20%20%20%20var%20html_ddb05ce6292b48dd964d0759c0e31fd3%20%3D%20%24%28%60%3Cdiv%20id%3D%22html_ddb05ce6292b48dd964d0759c0e31fd3%22%20style%3D%22width%3A%20100.0%25%3B%20height%3A%20100.0%25%3B%22%3E%20%20%20%20%20%20%20%20%20%3Cul%3E%20%20%20%20%20%20%20%20%20%20%20%20%20%3Cli%3E%3Cstrong%3EID%3A%20%3C/strong%3E2002%3C/li%3E%20%20%20%20%20%20%20%20%20%20%20%20%20%3Cli%3E%3Cstrong%3ESource%3A%20%3C/strong%3Enan%3C/li%3E%20%20%20%20%20%20%20%20%20%20%20%20%20%3Cli%3E%3Cstrong%3EOccupation%3A%20%3C/strong%3EBastiano%20di%20Chimenti%20Renzini%3C/li%3E%20%20%20%20%20%20%20%20%20%3Cul%3E%20%20%20%20%20%3C/div%3E%60%29%5B0%5D%3B%0A%20%20%20%20%20%20%20%20%20%20%20%20%20%20%20%20popup_c7d6cc0be70448be857f08a685be0163.setContent%28html_ddb05ce6292b48dd964d0759c0e31fd3%29%3B%0A%20%20%20%20%20%20%20%20%20%20%20%20%0A%0A%20%20%20%20%20%20%20%20%20%20%20%20marker_8db2572e1a52457bad4ce80b62681b36.bindPopup%28popup_c7d6cc0be70448be857f08a685be0163%29%0A%20%20%20%20%20%20%20%20%20%20%20%20%3B%0A%0A%20%20%20%20%20%20%20%20%20%20%20%20%0A%20%20%20%20%20%20%20%20%0A%20%20%20%20%0A%20%20%20%20%20%20%20%20var%20marker_37dea3a1e170478eab9ecf61533e3622%20%3D%20L.marker%28%0A%20%20%20%20%20%20%20%20%20%20%20%20%5B43.772025%2C%2011.24917%5D%2C%0A%20%20%20%20%20%20%20%20%20%20%20%20%7B%0A%20%20%20%20%20%20%20%20%20%20%20%20%20%20%20%20icon%3A%20new%20L.Icon.Default%28%29%2C%0A%20%20%20%20%20%20%20%20%20%20%20%20%20%20%20%20%7D%0A%20%20%20%20%20%20%20%20%20%20%20%20%29.addTo%28map_146cd8147123498484976a07e362f27f%29%3B%0A%20%20%20%20%20%20%20%20%0A%20%20%20%20%0A%20%20%20%20%20%20%20%20%20%20%20%20var%20popup_7462352bfaa144d2a2df6075aa654e0a%20%3D%20L.popup%28%7BmaxWidth%3A%20%27100%25%27%0A%20%20%20%20%20%20%20%20%20%20%20%20%0A%20%20%20%20%20%20%20%20%20%20%20%20%7D%29%3B%0A%0A%20%20%20%20%20%20%20%20%20%20%20%20%0A%20%20%20%20%20%20%20%20%20%20%20%20%20%20%20%20var%20html_910711e8793f4503b596e4125fca9034%20%3D%20%24%28%60%3Cdiv%20id%3D%22html_910711e8793f4503b596e4125fca9034%22%20style%3D%22width%3A%20100.0%25%3B%20height%3A%20100.0%25%3B%22%3E%20%20%20%20%20%20%20%20%20%3Cul%3E%20%20%20%20%20%20%20%20%20%20%20%20%20%3Cli%3E%3Cstrong%3EID%3A%20%3C/strong%3E5222%3C/li%3E%20%20%20%20%20%20%20%20%20%20%20%20%20%3Cli%3E%3Cstrong%3ESource%3A%20%3C/strong%3EHenderson%20P%26C%20%232%3C/li%3E%20%20%20%20%20%20%20%20%20%20%20%20%20%3Cli%3E%3Cstrong%3EOccupation%3A%20%3C/strong%3EMona%20Maddalena%2C%20moglie%20gia%20di%20Lorenzo%2C%20oste%3C/li%3E%20%20%20%20%20%20%20%20%20%3Cul%3E%20%20%20%20%20%3C/div%3E%60%29%5B0%5D%3B%0A%20%20%20%20%20%20%20%20%20%20%20%20%20%20%20%20popup_7462352bfaa144d2a2df6075aa654e0a.setContent%28html_910711e8793f4503b596e4125fca9034%29%3B%0A%20%20%20%20%20%20%20%20%20%20%20%20%0A%0A%20%20%20%20%20%20%20%20%20%20%20%20marker_37dea3a1e170478eab9ecf61533e3622.bindPopup%28popup_7462352bfaa144d2a2df6075aa654e0a%29%0A%20%20%20%20%20%20%20%20%20%20%20%20%3B%0A%0A%20%20%20%20%20%20%20%20%20%20%20%20%0A%20%20%20%20%20%20%20%20%0A%20%20%20%20%0A%20%20%20%20%20%20%20%20var%20marker_885a2463743445c680f9e11ac1177809%20%3D%20L.marker%28%0A%20%20%20%20%20%20%20%20%20%20%20%20%5B43.76572779%2C%2011.24389164%5D%2C%0A%20%20%20%20%20%20%20%20%20%20%20%20%7B%0A%20%20%20%20%20%20%20%20%20%20%20%20%20%20%20%20icon%3A%20new%20L.Icon.Default%28%29%2C%0A%20%20%20%20%20%20%20%20%20%20%20%20%20%20%20%20%7D%0A%20%20%20%20%20%20%20%20%20%20%20%20%29.addTo%28map_146cd8147123498484976a07e362f27f%29%3B%0A%20%20%20%20%20%20%20%20%0A%20%20%20%20%0A%20%20%20%20%20%20%20%20%20%20%20%20var%20popup_989375a016dc4c3283d96a96f1f7b50a%20%3D%20L.popup%28%7BmaxWidth%3A%20%27100%25%27%0A%20%20%20%20%20%20%20%20%20%20%20%20%0A%20%20%20%20%20%20%20%20%20%20%20%20%7D%29%3B%0A%0A%20%20%20%20%20%20%20%20%20%20%20%20%0A%20%20%20%20%20%20%20%20%20%20%20%20%20%20%20%20var%20html_abc17de17ad2473295c177f80a1f67d5%20%3D%20%24%28%60%3Cdiv%20id%3D%22html_abc17de17ad2473295c177f80a1f67d5%22%20style%3D%22width%3A%20100.0%25%3B%20height%3A%20100.0%25%3B%22%3E%20%20%20%20%20%20%20%20%20%3Cul%3E%20%20%20%20%20%20%20%20%20%20%20%20%20%3Cli%3E%3Cstrong%3EID%3A%20%3C/strong%3E7374%3C/li%3E%20%20%20%20%20%20%20%20%20%20%20%20%20%3Cli%3E%3Cstrong%3ESource%3A%20%3C/strong%3EHenderson%20P%26C%20%232%3C/li%3E%20%20%20%20%20%20%20%20%20%20%20%20%20%3Cli%3E%3Cstrong%3EOccupation%3A%20%3C/strong%3EBatista%20di%20Bartolomeo%20di%20Batista%20tessitore%20di%20drappi%3C/li%3E%20%20%20%20%20%20%20%20%20%3Cul%3E%20%20%20%20%20%3C/div%3E%60%29%5B0%5D%3B%0A%20%20%20%20%20%20%20%20%20%20%20%20%20%20%20%20popup_989375a016dc4c3283d96a96f1f7b50a.setContent%28html_abc17de17ad2473295c177f80a1f67d5%29%3B%0A%20%20%20%20%20%20%20%20%20%20%20%20%0A%0A%20%20%20%20%20%20%20%20%20%20%20%20marker_885a2463743445c680f9e11ac1177809.bindPopup%28popup_989375a016dc4c3283d96a96f1f7b50a%29%0A%20%20%20%20%20%20%20%20%20%20%20%20%3B%0A%0A%20%20%20%20%20%20%20%20%20%20%20%20%0A%20%20%20%20%20%20%20%20%0A%20%20%20%20%0A%20%20%20%20%20%20%20%20var%20marker_54977ff8ad2349e090b8e8176cfdff11%20%3D%20L.marker%28%0A%20%20%20%20%20%20%20%20%20%20%20%20%5B43.76868867%2C%2011.24354133%5D%2C%0A%20%20%20%20%20%20%20%20%20%20%20%20%7B%0A%20%20%20%20%20%20%20%20%20%20%20%20%20%20%20%20icon%3A%20new%20L.Icon.Default%28%29%2C%0A%20%20%20%20%20%20%20%20%20%20%20%20%20%20%20%20%7D%0A%20%20%20%20%20%20%20%20%20%20%20%20%29.addTo%28map_146cd8147123498484976a07e362f27f%29%3B%0A%20%20%20%20%20%20%20%20%0A%20%20%20%20%0A%20%20%20%20%20%20%20%20%20%20%20%20var%20popup_f086ce2450c4437a8f8971118d52951f%20%3D%20L.popup%28%7BmaxWidth%3A%20%27100%25%27%0A%20%20%20%20%20%20%20%20%20%20%20%20%0A%20%20%20%20%20%20%20%20%20%20%20%20%7D%29%3B%0A%0A%20%20%20%20%20%20%20%20%20%20%20%20%0A%20%20%20%20%20%20%20%20%20%20%20%20%20%20%20%20var%20html_f19b8a976d494cf584982f3c931e2c30%20%3D%20%24%28%60%3Cdiv%20id%3D%22html_f19b8a976d494cf584982f3c931e2c30%22%20style%3D%22width%3A%20100.0%25%3B%20height%3A%20100.0%25%3B%22%3E%20%20%20%20%20%20%20%20%20%3Cul%3E%20%20%20%20%20%20%20%20%20%20%20%20%20%3Cli%3E%3Cstrong%3EID%3A%20%3C/strong%3E8490%3C/li%3E%20%20%20%20%20%20%20%20%20%20%20%20%20%3Cli%3E%3Cstrong%3ESource%3A%20%3C/strong%3EHenderson%20P%26C%20%232%3C/li%3E%20%20%20%20%20%20%20%20%20%20%20%20%20%3Cli%3E%3Cstrong%3EOccupation%3A%20%3C/strong%3E6%20donne%20vedove%3C/li%3E%20%20%20%20%20%20%20%20%20%3Cul%3E%20%20%20%20%20%3C/div%3E%60%29%5B0%5D%3B%0A%20%20%20%20%20%20%20%20%20%20%20%20%20%20%20%20popup_f086ce2450c4437a8f8971118d52951f.setContent%28html_f19b8a976d494cf584982f3c931e2c30%29%3B%0A%20%20%20%20%20%20%20%20%20%20%20%20%0A%0A%20%20%20%20%20%20%20%20%20%20%20%20marker_54977ff8ad2349e090b8e8176cfdff11.bindPopup%28popup_f086ce2450c4437a8f8971118d52951f%29%0A%20%20%20%20%20%20%20%20%20%20%20%20%3B%0A%0A%20%20%20%20%20%20%20%20%20%20%20%20%0A%20%20%20%20%20%20%20%20%0A%20%20%20%20%0A%20%20%20%20%20%20%20%20var%20marker_0026ba5af9ca4f9ea92b81b594f3b4d8%20%3D%20L.marker%28%0A%20%20%20%20%20%20%20%20%20%20%20%20%5B43.76966957%2C%2011.24372429%5D%2C%0A%20%20%20%20%20%20%20%20%20%20%20%20%7B%0A%20%20%20%20%20%20%20%20%20%20%20%20%20%20%20%20icon%3A%20new%20L.Icon.Default%28%29%2C%0A%20%20%20%20%20%20%20%20%20%20%20%20%20%20%20%20%7D%0A%20%20%20%20%20%20%20%20%20%20%20%20%29.addTo%28map_146cd8147123498484976a07e362f27f%29%3B%0A%20%20%20%20%20%20%20%20%0A%20%20%20%20%0A%20%20%20%20%20%20%20%20%20%20%20%20var%20popup_79a5d53498534d2e8ed56ccce2c4eada%20%3D%20L.popup%28%7BmaxWidth%3A%20%27100%25%27%0A%20%20%20%20%20%20%20%20%20%20%20%20%0A%20%20%20%20%20%20%20%20%20%20%20%20%7D%29%3B%0A%0A%20%20%20%20%20%20%20%20%20%20%20%20%0A%20%20%20%20%20%20%20%20%20%20%20%20%20%20%20%20var%20html_0d69c150bba9489d94e23057d71739ce%20%3D%20%24%28%60%3Cdiv%20id%3D%22html_0d69c150bba9489d94e23057d71739ce%22%20style%3D%22width%3A%20100.0%25%3B%20height%3A%20100.0%25%3B%22%3E%20%20%20%20%20%20%20%20%20%3Cul%3E%20%20%20%20%20%20%20%20%20%20%20%20%20%3Cli%3E%3Cstrong%3EID%3A%20%3C/strong%3E8531%3C/li%3E%20%20%20%20%20%20%20%20%20%20%20%20%20%3Cli%3E%3Cstrong%3ESource%3A%20%3C/strong%3EHenderson%20P%26C%20%232%3C/li%3E%20%20%20%20%20%20%20%20%20%20%20%20%20%3Cli%3E%3Cstrong%3EOccupation%3A%20%3C/strong%3EPandolfo%20di%20Giuliano%20da%20Brucianese%3C/li%3E%20%20%20%20%20%20%20%20%20%3Cul%3E%20%20%20%20%20%3C/div%3E%60%29%5B0%5D%3B%0A%20%20%20%20%20%20%20%20%20%20%20%20%20%20%20%20popup_79a5d53498534d2e8ed56ccce2c4eada.setContent%28html_0d69c150bba9489d94e23057d71739ce%29%3B%0A%20%20%20%20%20%20%20%20%20%20%20%20%0A%0A%20%20%20%20%20%20%20%20%20%20%20%20marker_0026ba5af9ca4f9ea92b81b594f3b4d8.bindPopup%28popup_79a5d53498534d2e8ed56ccce2c4eada%29%0A%20%20%20%20%20%20%20%20%20%20%20%20%3B%0A%0A%20%20%20%20%20%20%20%20%20%20%20%20%0A%20%20%20%20%20%20%20%20%0A%20%20%20%20%0A%20%20%20%20%20%20%20%20var%20marker_7dda310d73c0474d9d5fbcfa7d41d746%20%3D%20L.marker%28%0A%20%20%20%20%20%20%20%20%20%20%20%20%5B43.771942%2C%2011.252478%5D%2C%0A%20%20%20%20%20%20%20%20%20%20%20%20%7B%0A%20%20%20%20%20%20%20%20%20%20%20%20%20%20%20%20icon%3A%20new%20L.Icon.Default%28%29%2C%0A%20%20%20%20%20%20%20%20%20%20%20%20%20%20%20%20%7D%0A%20%20%20%20%20%20%20%20%20%20%20%20%29.addTo%28map_146cd8147123498484976a07e362f27f%29%3B%0A%20%20%20%20%20%20%20%20%0A%20%20%20%20%0A%20%20%20%20%20%20%20%20%20%20%20%20var%20popup_0d1793d376884714945c117e3af5f000%20%3D%20L.popup%28%7BmaxWidth%3A%20%27100%25%27%0A%20%20%20%20%20%20%20%20%20%20%20%20%0A%20%20%20%20%20%20%20%20%20%20%20%20%7D%29%3B%0A%0A%20%20%20%20%20%20%20%20%20%20%20%20%0A%20%20%20%20%20%20%20%20%20%20%20%20%20%20%20%20var%20html_ddc6527addf149e9812ead1fad67575f%20%3D%20%24%28%60%3Cdiv%20id%3D%22html_ddc6527addf149e9812ead1fad67575f%22%20style%3D%22width%3A%20100.0%25%3B%20height%3A%20100.0%25%3B%22%3E%20%20%20%20%20%20%20%20%20%3Cul%3E%20%20%20%20%20%20%20%20%20%20%20%20%20%3Cli%3E%3Cstrong%3EID%3A%20%3C/strong%3E6044%3C/li%3E%20%20%20%20%20%20%20%20%20%20%20%20%20%3Cli%3E%3Cstrong%3ESource%3A%20%3C/strong%3EHenderson%20P%26C%20%2350%3C/li%3E%20%20%20%20%20%20%20%20%20%20%20%20%20%3Cli%3E%3Cstrong%3EOccupation%3A%20%3C/strong%3EMona%20Catarina%2C%20moglie%20gia%20di%20Domenico%2C%20pollaiuolo%3C/li%3E%20%20%20%20%20%20%20%20%20%3Cul%3E%20%20%20%20%20%3C/div%3E%60%29%5B0%5D%3B%0A%20%20%20%20%20%20%20%20%20%20%20%20%20%20%20%20popup_0d1793d376884714945c117e3af5f000.setContent%28html_ddc6527addf149e9812ead1fad67575f%29%3B%0A%20%20%20%20%20%20%20%20%20%20%20%20%0A%0A%20%20%20%20%20%20%20%20%20%20%20%20marker_7dda310d73c0474d9d5fbcfa7d41d746.bindPopup%28popup_0d1793d376884714945c117e3af5f000%29%0A%20%20%20%20%20%20%20%20%20%20%20%20%3B%0A%0A%20%20%20%20%20%20%20%20%20%20%20%20%0A%20%20%20%20%20%20%20%20%0A%20%20%20%20%0A%20%20%20%20%20%20%20%20var%20marker_ac652c9c363e4883ae223399fdc63a63%20%3D%20L.marker%28%0A%20%20%20%20%20%20%20%20%20%20%20%20%5B43.76976343%2C%2011.24340071%5D%2C%0A%20%20%20%20%20%20%20%20%20%20%20%20%7B%0A%20%20%20%20%20%20%20%20%20%20%20%20%20%20%20%20icon%3A%20new%20L.Icon.Default%28%29%2C%0A%20%20%20%20%20%20%20%20%20%20%20%20%20%20%20%20%7D%0A%20%20%20%20%20%20%20%20%20%20%20%20%29.addTo%28map_146cd8147123498484976a07e362f27f%29%3B%0A%20%20%20%20%20%20%20%20%0A%20%20%20%20%0A%20%20%20%20%20%20%20%20%20%20%20%20var%20popup_271148484cf24007897d3069ae53a8c1%20%3D%20L.popup%28%7BmaxWidth%3A%20%27100%25%27%0A%20%20%20%20%20%20%20%20%20%20%20%20%0A%20%20%20%20%20%20%20%20%20%20%20%20%7D%29%3B%0A%0A%20%20%20%20%20%20%20%20%20%20%20%20%0A%20%20%20%20%20%20%20%20%20%20%20%20%20%20%20%20var%20html_144f440b0a774fa59da12e07002f9bae%20%3D%20%24%28%60%3Cdiv%20id%3D%22html_144f440b0a774fa59da12e07002f9bae%22%20style%3D%22width%3A%20100.0%25%3B%20height%3A%20100.0%25%3B%22%3E%20%20%20%20%20%20%20%20%20%3Cul%3E%20%20%20%20%20%20%20%20%20%20%20%20%20%3Cli%3E%3Cstrong%3EID%3A%20%3C/strong%3E8431%3C/li%3E%20%20%20%20%20%20%20%20%20%20%20%20%20%3Cli%3E%3Cstrong%3ESource%3A%20%3C/strong%3EHenderson%20P%26C%20105%3C/li%3E%20%20%20%20%20%20%20%20%20%20%20%20%20%3Cli%3E%3Cstrong%3EOccupation%3A%20%3C/strong%3ELionardo%20d%27%20Andrea%20oste%3C/li%3E%20%20%20%20%20%20%20%20%20%3Cul%3E%20%20%20%20%20%3C/div%3E%60%29%5B0%5D%3B%0A%20%20%20%20%20%20%20%20%20%20%20%20%20%20%20%20popup_271148484cf24007897d3069ae53a8c1.setContent%28html_144f440b0a774fa59da12e07002f9bae%29%3B%0A%20%20%20%20%20%20%20%20%20%20%20%20%0A%0A%20%20%20%20%20%20%20%20%20%20%20%20marker_ac652c9c363e4883ae223399fdc63a63.bindPopup%28popup_271148484cf24007897d3069ae53a8c1%29%0A%20%20%20%20%20%20%20%20%20%20%20%20%3B%0A%0A%20%20%20%20%20%20%20%20%20%20%20%20%0A%20%20%20%20%20%20%20%20%0A%20%20%20%20%0A%20%20%20%20%20%20%20%20var%20marker_15277fa6ca394c6c88c74fafabe61011%20%3D%20L.marker%28%0A%20%20%20%20%20%20%20%20%20%20%20%20%5B43.76669727%2C%2011.25292636%5D%2C%0A%20%20%20%20%20%20%20%20%20%20%20%20%7B%0A%20%20%20%20%20%20%20%20%20%20%20%20%20%20%20%20icon%3A%20new%20L.Icon.Default%28%29%2C%0A%20%20%20%20%20%20%20%20%20%20%20%20%20%20%20%20%7D%0A%20%20%20%20%20%20%20%20%20%20%20%20%29.addTo%28map_146cd8147123498484976a07e362f27f%29%3B%0A%20%20%20%20%20%20%20%20%0A%20%20%20%20%0A%20%20%20%20%20%20%20%20%20%20%20%20var%20popup_f8346d31e0f643199a079edb0e9389f9%20%3D%20L.popup%28%7BmaxWidth%3A%20%27100%25%27%0A%20%20%20%20%20%20%20%20%20%20%20%20%0A%20%20%20%20%20%20%20%20%20%20%20%20%7D%29%3B%0A%0A%20%20%20%20%20%20%20%20%20%20%20%20%0A%20%20%20%20%20%20%20%20%20%20%20%20%20%20%20%20var%20html_1a7afd09c40d4a1e825fdeb530a00d6b%20%3D%20%24%28%60%3Cdiv%20id%3D%22html_1a7afd09c40d4a1e825fdeb530a00d6b%22%20style%3D%22width%3A%20100.0%25%3B%20height%3A%20100.0%25%3B%22%3E%20%20%20%20%20%20%20%20%20%3Cul%3E%20%20%20%20%20%20%20%20%20%20%20%20%20%3Cli%3E%3Cstrong%3EID%3A%20%3C/strong%3E6016%3C/li%3E%20%20%20%20%20%20%20%20%20%20%20%20%20%3Cli%3E%3Cstrong%3ESource%3A%20%3C/strong%3EHenderson%20P%26C%20%239%3C/li%3E%20%20%20%20%20%20%20%20%20%20%20%20%20%3Cli%3E%3Cstrong%3EOccupation%3A%20%3C/strong%3ENo%20resident%3C/li%3E%20%20%20%20%20%20%20%20%20%3Cul%3E%20%20%20%20%20%3C/div%3E%60%29%5B0%5D%3B%0A%20%20%20%20%20%20%20%20%20%20%20%20%20%20%20%20popup_f8346d31e0f643199a079edb0e9389f9.setContent%28html_1a7afd09c40d4a1e825fdeb530a00d6b%29%3B%0A%20%20%20%20%20%20%20%20%20%20%20%20%0A%0A%20%20%20%20%20%20%20%20%20%20%20%20marker_15277fa6ca394c6c88c74fafabe61011.bindPopup%28popup_f8346d31e0f643199a079edb0e9389f9%29%0A%20%20%20%20%20%20%20%20%20%20%20%20%3B%0A%0A%20%20%20%20%20%20%20%20%20%20%20%20%0A%20%20%20%20%20%20%20%20%0A%20%20%20%20%0A%20%20%20%20%20%20%20%20var%20marker_e5176a9673794334b17be112be9eb4cf%20%3D%20L.marker%28%0A%20%20%20%20%20%20%20%20%20%20%20%20%5B43.772855%2C%2011.244225%5D%2C%0A%20%20%20%20%20%20%20%20%20%20%20%20%7B%0A%20%20%20%20%20%20%20%20%20%20%20%20%20%20%20%20icon%3A%20new%20L.Icon.Default%28%29%2C%0A%20%20%20%20%20%20%20%20%20%20%20%20%20%20%20%20%7D%0A%20%20%20%20%20%20%20%20%20%20%20%20%29.addTo%28map_146cd8147123498484976a07e362f27f%29%3B%0A%20%20%20%20%20%20%20%20%0A%20%20%20%20%0A%20%20%20%20%20%20%20%20%20%20%20%20var%20popup_6dd01775a22847c8a9b79e3cbfc69e91%20%3D%20L.popup%28%7BmaxWidth%3A%20%27100%25%27%0A%20%20%20%20%20%20%20%20%20%20%20%20%0A%20%20%20%20%20%20%20%20%20%20%20%20%7D%29%3B%0A%0A%20%20%20%20%20%20%20%20%20%20%20%20%0A%20%20%20%20%20%20%20%20%20%20%20%20%20%20%20%20var%20html_d4d080af744a418e94118b3952b46d37%20%3D%20%24%28%60%3Cdiv%20id%3D%22html_d4d080af744a418e94118b3952b46d37%22%20style%3D%22width%3A%20100.0%25%3B%20height%3A%20100.0%25%3B%22%3E%20%20%20%20%20%20%20%20%20%3Cul%3E%20%20%20%20%20%20%20%20%20%20%20%20%20%3Cli%3E%3Cstrong%3EID%3A%20%3C/strong%3E5045%3C/li%3E%20%20%20%20%20%20%20%20%20%20%20%20%20%3Cli%3E%3Cstrong%3ESource%3A%20%3C/strong%3EHenderson%20P%26C%20%2322%3C/li%3E%20%20%20%20%20%20%20%20%20%20%20%20%20%3Cli%3E%3Cstrong%3EOccupation%3A%20%3C/strong%3EDomenico%20d%27%20Antonio%2C%20tessitore%3C/li%3E%20%20%20%20%20%20%20%20%20%3Cul%3E%20%20%20%20%20%3C/div%3E%60%29%5B0%5D%3B%0A%20%20%20%20%20%20%20%20%20%20%20%20%20%20%20%20popup_6dd01775a22847c8a9b79e3cbfc69e91.setContent%28html_d4d080af744a418e94118b3952b46d37%29%3B%0A%20%20%20%20%20%20%20%20%20%20%20%20%0A%0A%20%20%20%20%20%20%20%20%20%20%20%20marker_e5176a9673794334b17be112be9eb4cf.bindPopup%28popup_6dd01775a22847c8a9b79e3cbfc69e91%29%0A%20%20%20%20%20%20%20%20%20%20%20%20%3B%0A%0A%20%20%20%20%20%20%20%20%20%20%20%20%0A%20%20%20%20%20%20%20%20%0A%20%20%20%20%0A%20%20%20%20%20%20%20%20var%20marker_2094353836e34dfcbb41909cdd1928a5%20%3D%20L.marker%28%0A%20%20%20%20%20%20%20%20%20%20%20%20%5B43.7727865%2C%2011.2443315%5D%2C%0A%20%20%20%20%20%20%20%20%20%20%20%20%7B%0A%20%20%20%20%20%20%20%20%20%20%20%20%20%20%20%20icon%3A%20new%20L.Icon.Default%28%29%2C%0A%20%20%20%20%20%20%20%20%20%20%20%20%20%20%20%20%7D%0A%20%20%20%20%20%20%20%20%20%20%20%20%29.addTo%28map_146cd8147123498484976a07e362f27f%29%3B%0A%20%20%20%20%20%20%20%20%0A%20%20%20%20%0A%20%20%20%20%20%20%20%20%20%20%20%20var%20popup_6991092958dc4184bb5df5ab09635beb%20%3D%20L.popup%28%7BmaxWidth%3A%20%27100%25%27%0A%20%20%20%20%20%20%20%20%20%20%20%20%0A%20%20%20%20%20%20%20%20%20%20%20%20%7D%29%3B%0A%0A%20%20%20%20%20%20%20%20%20%20%20%20%0A%20%20%20%20%20%20%20%20%20%20%20%20%20%20%20%20var%20html_4edf3bde864d4153ae27f4c56a22537e%20%3D%20%24%28%60%3Cdiv%20id%3D%22html_4edf3bde864d4153ae27f4c56a22537e%22%20style%3D%22width%3A%20100.0%25%3B%20height%3A%20100.0%25%3B%22%3E%20%20%20%20%20%20%20%20%20%3Cul%3E%20%20%20%20%20%20%20%20%20%20%20%20%20%3Cli%3E%3Cstrong%3EID%3A%20%3C/strong%3E5071%3C/li%3E%20%20%20%20%20%20%20%20%20%20%20%20%20%3Cli%3E%3Cstrong%3ESource%3A%20%3C/strong%3EHenderson%20P%26C%20%2322%3C/li%3E%20%20%20%20%20%20%20%20%20%20%20%20%20%3Cli%3E%3Cstrong%3EOccupation%3A%20%3C/strong%3EVincenzo%20di%20Francesco%3C/li%3E%20%20%20%20%20%20%20%20%20%3Cul%3E%20%20%20%20%20%3C/div%3E%60%29%5B0%5D%3B%0A%20%20%20%20%20%20%20%20%20%20%20%20%20%20%20%20popup_6991092958dc4184bb5df5ab09635beb.setContent%28html_4edf3bde864d4153ae27f4c56a22537e%29%3B%0A%20%20%20%20%20%20%20%20%20%20%20%20%0A%0A%20%20%20%20%20%20%20%20%20%20%20%20marker_2094353836e34dfcbb41909cdd1928a5.bindPopup%28popup_6991092958dc4184bb5df5ab09635beb%29%0A%20%20%20%20%20%20%20%20%20%20%20%20%3B%0A%0A%20%20%20%20%20%20%20%20%20%20%20%20%0A%20%20%20%20%20%20%20%20%0A%20%20%20%20%0A%20%20%20%20%20%20%20%20var%20marker_242bd4a88ae94224a2354781f76c50f8%20%3D%20L.marker%28%0A%20%20%20%20%20%20%20%20%20%20%20%20%5B43.772718%2C%2011.244438%5D%2C%0A%20%20%20%20%20%20%20%20%20%20%20%20%7B%0A%20%20%20%20%20%20%20%20%20%20%20%20%20%20%20%20icon%3A%20new%20L.Icon.Default%28%29%2C%0A%20%20%20%20%20%20%20%20%20%20%20%20%20%20%20%20%7D%0A%20%20%20%20%20%20%20%20%20%20%20%20%29.addTo%28map_146cd8147123498484976a07e362f27f%29%3B%0A%20%20%20%20%20%20%20%20%0A%20%20%20%20%0A%20%20%20%20%20%20%20%20%20%20%20%20var%20popup_79d0fdde1d57426c9e241ea424f91fc2%20%3D%20L.popup%28%7BmaxWidth%3A%20%27100%25%27%0A%20%20%20%20%20%20%20%20%20%20%20%20%0A%20%20%20%20%20%20%20%20%20%20%20%20%7D%29%3B%0A%0A%20%20%20%20%20%20%20%20%20%20%20%20%0A%20%20%20%20%20%20%20%20%20%20%20%20%20%20%20%20var%20html_0ca2d772515440889c9f7f10e2db37bd%20%3D%20%24%28%60%3Cdiv%20id%3D%22html_0ca2d772515440889c9f7f10e2db37bd%22%20style%3D%22width%3A%20100.0%25%3B%20height%3A%20100.0%25%3B%22%3E%20%20%20%20%20%20%20%20%20%3Cul%3E%20%20%20%20%20%20%20%20%20%20%20%20%20%3Cli%3E%3Cstrong%3EID%3A%20%3C/strong%3E5264%3C/li%3E%20%20%20%20%20%20%20%20%20%20%20%20%20%3Cli%3E%3Cstrong%3ESource%3A%20%3C/strong%3EHenderson%20P%26C%20%2322%3C/li%3E%20%20%20%20%20%20%20%20%20%20%20%20%20%3Cli%3E%3Cstrong%3EOccupation%3A%20%3C/strong%3EMona%20Maria%2C%20moglie%20gia%20di%20Piero%20Bettini%3C/li%3E%20%20%20%20%20%20%20%20%20%3Cul%3E%20%20%20%20%20%3C/div%3E%60%29%5B0%5D%3B%0A%20%20%20%20%20%20%20%20%20%20%20%20%20%20%20%20popup_79d0fdde1d57426c9e241ea424f91fc2.setContent%28html_0ca2d772515440889c9f7f10e2db37bd%29%3B%0A%20%20%20%20%20%20%20%20%20%20%20%20%0A%0A%20%20%20%20%20%20%20%20%20%20%20%20marker_242bd4a88ae94224a2354781f76c50f8.bindPopup%28popup_79d0fdde1d57426c9e241ea424f91fc2%29%0A%20%20%20%20%20%20%20%20%20%20%20%20%3B%0A%0A%20%20%20%20%20%20%20%20%20%20%20%20%0A%20%20%20%20%20%20%20%20%0A%20%20%20%20%0A%20%20%20%20%20%20%20%20var%20marker_d26ae621e76b404c86baf942af13048a%20%3D%20L.marker%28%0A%20%20%20%20%20%20%20%20%20%20%20%20%5B43.77717333%2C%2011.26219133%5D%2C%0A%20%20%20%20%20%20%20%20%20%20%20%20%7B%0A%20%20%20%20%20%20%20%20%20%20%20%20%20%20%20%20icon%3A%20new%20L.Icon.Default%28%29%2C%0A%20%20%20%20%20%20%20%20%20%20%20%20%20%20%20%20%7D%0A%20%20%20%20%20%20%20%20%20%20%20%20%29.addTo%28map_146cd8147123498484976a07e362f27f%29%3B%0A%20%20%20%20%20%20%20%20%0A%20%20%20%20%0A%20%20%20%20%20%20%20%20%20%20%20%20var%20popup_82f27ba530dd41b3ac01603e7e40087f%20%3D%20L.popup%28%7BmaxWidth%3A%20%27100%25%27%0A%20%20%20%20%20%20%20%20%20%20%20%20%0A%20%20%20%20%20%20%20%20%20%20%20%20%7D%29%3B%0A%0A%20%20%20%20%20%20%20%20%20%20%20%20%0A%20%20%20%20%20%20%20%20%20%20%20%20%20%20%20%20var%20html_31b21a709c5840a4a2fa185626f3fd17%20%3D%20%24%28%60%3Cdiv%20id%3D%22html_31b21a709c5840a4a2fa185626f3fd17%22%20style%3D%22width%3A%20100.0%25%3B%20height%3A%20100.0%25%3B%22%3E%20%20%20%20%20%20%20%20%20%3Cul%3E%20%20%20%20%20%20%20%20%20%20%20%20%20%3Cli%3E%3Cstrong%3EID%3A%20%3C/strong%3E1667%3C/li%3E%20%20%20%20%20%20%20%20%20%20%20%20%20%3Cli%3E%3Cstrong%3ESource%3A%20%3C/strong%3Enan%3C/li%3E%20%20%20%20%20%20%20%20%20%20%20%20%20%3Cli%3E%3Cstrong%3EOccupation%3A%20%3C/strong%3ESimone%20di%20Filippo%20Rondinelli%3C/li%3E%20%20%20%20%20%20%20%20%20%3Cul%3E%20%20%20%20%20%3C/div%3E%60%29%5B0%5D%3B%0A%20%20%20%20%20%20%20%20%20%20%20%20%20%20%20%20popup_82f27ba530dd41b3ac01603e7e40087f.setContent%28html_31b21a709c5840a4a2fa185626f3fd17%29%3B%0A%20%20%20%20%20%20%20%20%20%20%20%20%0A%0A%20%20%20%20%20%20%20%20%20%20%20%20marker_d26ae621e76b404c86baf942af13048a.bindPopup%28popup_82f27ba530dd41b3ac01603e7e40087f%29%0A%20%20%20%20%20%20%20%20%20%20%20%20%3B%0A%0A%20%20%20%20%20%20%20%20%20%20%20%20%0A%20%20%20%20%20%20%20%20%0A%20%20%20%20%0A%20%20%20%20%20%20%20%20var%20marker_e38d406590364196b5d0d18205c4013d%20%3D%20L.marker%28%0A%20%20%20%20%20%20%20%20%20%20%20%20%5B43.77779886%2C%2011.253971%5D%2C%0A%20%20%20%20%20%20%20%20%20%20%20%20%7B%0A%20%20%20%20%20%20%20%20%20%20%20%20%20%20%20%20icon%3A%20new%20L.Icon.Default%28%29%2C%0A%20%20%20%20%20%20%20%20%20%20%20%20%20%20%20%20%7D%0A%20%20%20%20%20%20%20%20%20%20%20%20%29.addTo%28map_146cd8147123498484976a07e362f27f%29%3B%0A%20%20%20%20%20%20%20%20%0A%20%20%20%20%0A%20%20%20%20%20%20%20%20%20%20%20%20var%20popup_57a9319f2e4343ab905aa228fac4db52%20%3D%20L.popup%28%7BmaxWidth%3A%20%27100%25%27%0A%20%20%20%20%20%20%20%20%20%20%20%20%0A%20%20%20%20%20%20%20%20%20%20%20%20%7D%29%3B%0A%0A%20%20%20%20%20%20%20%20%20%20%20%20%0A%20%20%20%20%20%20%20%20%20%20%20%20%20%20%20%20var%20html_dd23ca9ebcc24b2395937b51ef834636%20%3D%20%24%28%60%3Cdiv%20id%3D%22html_dd23ca9ebcc24b2395937b51ef834636%22%20style%3D%22width%3A%20100.0%25%3B%20height%3A%20100.0%25%3B%22%3E%20%20%20%20%20%20%20%20%20%3Cul%3E%20%20%20%20%20%20%20%20%20%20%20%20%20%3Cli%3E%3Cstrong%3EID%3A%20%3C/strong%3E131%3C/li%3E%20%20%20%20%20%20%20%20%20%20%20%20%20%3Cli%3E%3Cstrong%3ESource%3A%20%3C/strong%3EHenderson%20P%26C%20%2342%3C/li%3E%20%20%20%20%20%20%20%20%20%20%20%20%20%3Cli%3E%3Cstrong%3EOccupation%3A%20%3C/strong%3ELorenzo%20di%20Francesco%20Romagnolo%3C/li%3E%20%20%20%20%20%20%20%20%20%3Cul%3E%20%20%20%20%20%3C/div%3E%60%29%5B0%5D%3B%0A%20%20%20%20%20%20%20%20%20%20%20%20%20%20%20%20popup_57a9319f2e4343ab905aa228fac4db52.setContent%28html_dd23ca9ebcc24b2395937b51ef834636%29%3B%0A%20%20%20%20%20%20%20%20%20%20%20%20%0A%0A%20%20%20%20%20%20%20%20%20%20%20%20marker_e38d406590364196b5d0d18205c4013d.bindPopup%28popup_57a9319f2e4343ab905aa228fac4db52%29%0A%20%20%20%20%20%20%20%20%20%20%20%20%3B%0A%0A%20%20%20%20%20%20%20%20%20%20%20%20%0A%20%20%20%20%20%20%20%20%0A%20%20%20%20%0A%20%20%20%20%20%20%20%20var%20marker_235f0be169b04c23a6739d06f0832276%20%3D%20L.marker%28%0A%20%20%20%20%20%20%20%20%20%20%20%20%5B43.77775557%2C%2011.2539%5D%2C%0A%20%20%20%20%20%20%20%20%20%20%20%20%7B%0A%20%20%20%20%20%20%20%20%20%20%20%20%20%20%20%20icon%3A%20new%20L.Icon.Default%28%29%2C%0A%20%20%20%20%20%20%20%20%20%20%20%20%20%20%20%20%7D%0A%20%20%20%20%20%20%20%20%20%20%20%20%29.addTo%28map_146cd8147123498484976a07e362f27f%29%3B%0A%20%20%20%20%20%20%20%20%0A%20%20%20%20%0A%20%20%20%20%20%20%20%20%20%20%20%20var%20popup_be131127a3c9441da26076ede087f61c%20%3D%20L.popup%28%7BmaxWidth%3A%20%27100%25%27%0A%20%20%20%20%20%20%20%20%20%20%20%20%0A%20%20%20%20%20%20%20%20%20%20%20%20%7D%29%3B%0A%0A%20%20%20%20%20%20%20%20%20%20%20%20%0A%20%20%20%20%20%20%20%20%20%20%20%20%20%20%20%20var%20html_9a894c714fe0421eafbd38794371112c%20%3D%20%24%28%60%3Cdiv%20id%3D%22html_9a894c714fe0421eafbd38794371112c%22%20style%3D%22width%3A%20100.0%25%3B%20height%3A%20100.0%25%3B%22%3E%20%20%20%20%20%20%20%20%20%3Cul%3E%20%20%20%20%20%20%20%20%20%20%20%20%20%3Cli%3E%3Cstrong%3EID%3A%20%3C/strong%3E554%3C/li%3E%20%20%20%20%20%20%20%20%20%20%20%20%20%3Cli%3E%3Cstrong%3ESource%3A%20%3C/strong%3EHenderson%20P%26C%20%2342%3C/li%3E%20%20%20%20%20%20%20%20%20%20%20%20%20%3Cli%3E%3Cstrong%3EOccupation%3A%20%3C/strong%3ESanti%20di%20Giovanni%2C%20esattore%20a%20Capitani%20di%20Parte%3C/li%3E%20%20%20%20%20%20%20%20%20%3Cul%3E%20%20%20%20%20%3C/div%3E%60%29%5B0%5D%3B%0A%20%20%20%20%20%20%20%20%20%20%20%20%20%20%20%20popup_be131127a3c9441da26076ede087f61c.setContent%28html_9a894c714fe0421eafbd38794371112c%29%3B%0A%20%20%20%20%20%20%20%20%20%20%20%20%0A%0A%20%20%20%20%20%20%20%20%20%20%20%20marker_235f0be169b04c23a6739d06f0832276.bindPopup%28popup_be131127a3c9441da26076ede087f61c%29%0A%20%20%20%20%20%20%20%20%20%20%20%20%3B%0A%0A%20%20%20%20%20%20%20%20%20%20%20%20%0A%20%20%20%20%20%20%20%20%0A%20%20%20%20%0A%20%20%20%20%20%20%20%20var%20marker_62a96afcaf8e448c83a2012f38dd5e36%20%3D%20L.marker%28%0A%20%20%20%20%20%20%20%20%20%20%20%20%5B43.776641%2C%2011.25262992%5D%2C%0A%20%20%20%20%20%20%20%20%20%20%20%20%7B%0A%20%20%20%20%20%20%20%20%20%20%20%20%20%20%20%20icon%3A%20new%20L.Icon.Default%28%29%2C%0A%20%20%20%20%20%20%20%20%20%20%20%20%20%20%20%20%7D%0A%20%20%20%20%20%20%20%20%20%20%20%20%29.addTo%28map_146cd8147123498484976a07e362f27f%29%3B%0A%20%20%20%20%20%20%20%20%0A%20%20%20%20%0A%20%20%20%20%20%20%20%20%20%20%20%20var%20popup_a39f99cf08ce4ac68c7c4f48ede552a5%20%3D%20L.popup%28%7BmaxWidth%3A%20%27100%25%27%0A%20%20%20%20%20%20%20%20%20%20%20%20%0A%20%20%20%20%20%20%20%20%20%20%20%20%7D%29%3B%0A%0A%20%20%20%20%20%20%20%20%20%20%20%20%0A%20%20%20%20%20%20%20%20%20%20%20%20%20%20%20%20var%20html_9e94eab7e63c42529ae1b6d3958d5a74%20%3D%20%24%28%60%3Cdiv%20id%3D%22html_9e94eab7e63c42529ae1b6d3958d5a74%22%20style%3D%22width%3A%20100.0%25%3B%20height%3A%20100.0%25%3B%22%3E%20%20%20%20%20%20%20%20%20%3Cul%3E%20%20%20%20%20%20%20%20%20%20%20%20%20%3Cli%3E%3Cstrong%3EID%3A%20%3C/strong%3E582%3C/li%3E%20%20%20%20%20%20%20%20%20%20%20%20%20%3Cli%3E%3Cstrong%3ESource%3A%20%3C/strong%3EHenderson%20P%26C%20%2342%3C/li%3E%20%20%20%20%20%20%20%20%20%20%20%20%20%3Cli%3E%3Cstrong%3EOccupation%3A%20%3C/strong%3EAntonio%20di%20Batista%20da%20Bologna%2C%20tessitore%3C/li%3E%20%20%20%20%20%20%20%20%20%3Cul%3E%20%20%20%20%20%3C/div%3E%60%29%5B0%5D%3B%0A%20%20%20%20%20%20%20%20%20%20%20%20%20%20%20%20popup_a39f99cf08ce4ac68c7c4f48ede552a5.setContent%28html_9e94eab7e63c42529ae1b6d3958d5a74%29%3B%0A%20%20%20%20%20%20%20%20%20%20%20%20%0A%0A%20%20%20%20%20%20%20%20%20%20%20%20marker_62a96afcaf8e448c83a2012f38dd5e36.bindPopup%28popup_a39f99cf08ce4ac68c7c4f48ede552a5%29%0A%20%20%20%20%20%20%20%20%20%20%20%20%3B%0A%0A%20%20%20%20%20%20%20%20%20%20%20%20%0A%20%20%20%20%20%20%20%20%0A%20%20%20%20%0A%20%20%20%20%20%20%20%20var%20marker_77ce0209d5104e2796785d87655eb807%20%3D%20L.marker%28%0A%20%20%20%20%20%20%20%20%20%20%20%20%5B43.76835491%2C%2011.24107655%5D%2C%0A%20%20%20%20%20%20%20%20%20%20%20%20%7B%0A%20%20%20%20%20%20%20%20%20%20%20%20%20%20%20%20icon%3A%20new%20L.Icon.Default%28%29%2C%0A%20%20%20%20%20%20%20%20%20%20%20%20%20%20%20%20%7D%0A%20%20%20%20%20%20%20%20%20%20%20%20%29.addTo%28map_146cd8147123498484976a07e362f27f%29%3B%0A%20%20%20%20%20%20%20%20%0A%20%20%20%20%0A%20%20%20%20%20%20%20%20%20%20%20%20var%20popup_292c0cf37d2f434ea5d9c2cb03b8f9b4%20%3D%20L.popup%28%7BmaxWidth%3A%20%27100%25%27%0A%20%20%20%20%20%20%20%20%20%20%20%20%0A%20%20%20%20%20%20%20%20%20%20%20%20%7D%29%3B%0A%0A%20%20%20%20%20%20%20%20%20%20%20%20%0A%20%20%20%20%20%20%20%20%20%20%20%20%20%20%20%20var%20html_944493b9eb6c4ca3b31a8618908cf47b%20%3D%20%24%28%60%3Cdiv%20id%3D%22html_944493b9eb6c4ca3b31a8618908cf47b%22%20style%3D%22width%3A%20100.0%25%3B%20height%3A%20100.0%25%3B%22%3E%20%20%20%20%20%20%20%20%20%3Cul%3E%20%20%20%20%20%20%20%20%20%20%20%20%20%3Cli%3E%3Cstrong%3EID%3A%20%3C/strong%3E8351%3C/li%3E%20%20%20%20%20%20%20%20%20%20%20%20%20%3Cli%3E%3Cstrong%3ESource%3A%20%3C/strong%3Enan%3C/li%3E%20%20%20%20%20%20%20%20%20%20%20%20%20%3Cli%3E%3Cstrong%3EOccupation%3A%20%3C/strong%3ELuca%20di%20Batista%20Tossi%20torcitore%3C/li%3E%20%20%20%20%20%20%20%20%20%3Cul%3E%20%20%20%20%20%3C/div%3E%60%29%5B0%5D%3B%0A%20%20%20%20%20%20%20%20%20%20%20%20%20%20%20%20popup_292c0cf37d2f434ea5d9c2cb03b8f9b4.setContent%28html_944493b9eb6c4ca3b31a8618908cf47b%29%3B%0A%20%20%20%20%20%20%20%20%20%20%20%20%0A%0A%20%20%20%20%20%20%20%20%20%20%20%20marker_77ce0209d5104e2796785d87655eb807.bindPopup%28popup_292c0cf37d2f434ea5d9c2cb03b8f9b4%29%0A%20%20%20%20%20%20%20%20%20%20%20%20%3B%0A%0A%20%20%20%20%20%20%20%20%20%20%20%20%0A%20%20%20%20%20%20%20%20%0A%20%20%20%20%0A%20%20%20%20%20%20%20%20var%20marker_4fa1e4473783420c95c1fb1bb9bddd1f%20%3D%20L.marker%28%0A%20%20%20%20%20%20%20%20%20%20%20%20%5B43.77713761%2C%2011.26215561%5D%2C%0A%20%20%20%20%20%20%20%20%20%20%20%20%7B%0A%20%20%20%20%20%20%20%20%20%20%20%20%20%20%20%20icon%3A%20new%20L.Icon.Default%28%29%2C%0A%20%20%20%20%20%20%20%20%20%20%20%20%20%20%20%20%7D%0A%20%20%20%20%20%20%20%20%20%20%20%20%29.addTo%28map_146cd8147123498484976a07e362f27f%29%3B%0A%20%20%20%20%20%20%20%20%0A%20%20%20%20%0A%20%20%20%20%20%20%20%20%20%20%20%20var%20popup_1a3e8b129d88400cb885541fdfaf83f3%20%3D%20L.popup%28%7BmaxWidth%3A%20%27100%25%27%0A%20%20%20%20%20%20%20%20%20%20%20%20%0A%20%20%20%20%20%20%20%20%20%20%20%20%7D%29%3B%0A%0A%20%20%20%20%20%20%20%20%20%20%20%20%0A%20%20%20%20%20%20%20%20%20%20%20%20%20%20%20%20var%20html_a5ce710f6d0549df95abea64b11fa28d%20%3D%20%24%28%60%3Cdiv%20id%3D%22html_a5ce710f6d0549df95abea64b11fa28d%22%20style%3D%22width%3A%20100.0%25%3B%20height%3A%20100.0%25%3B%22%3E%20%20%20%20%20%20%20%20%20%3Cul%3E%20%20%20%20%20%20%20%20%20%20%20%20%20%3Cli%3E%3Cstrong%3EID%3A%20%3C/strong%3E1443%3C/li%3E%20%20%20%20%20%20%20%20%20%20%20%20%20%3Cli%3E%3Cstrong%3ESource%3A%20%3C/strong%3E2006%20AMF%20Confraternity%20Itinerary%3C/li%3E%20%20%20%20%20%20%20%20%20%20%20%20%20%3Cli%3E%3Cstrong%3EOccupation%3A%20%3C/strong%3ERedi%20di%20Filippo%20Lasagnini%3C/li%3E%20%20%20%20%20%20%20%20%20%3Cul%3E%20%20%20%20%20%3C/div%3E%60%29%5B0%5D%3B%0A%20%20%20%20%20%20%20%20%20%20%20%20%20%20%20%20popup_1a3e8b129d88400cb885541fdfaf83f3.setContent%28html_a5ce710f6d0549df95abea64b11fa28d%29%3B%0A%20%20%20%20%20%20%20%20%20%20%20%20%0A%0A%20%20%20%20%20%20%20%20%20%20%20%20marker_4fa1e4473783420c95c1fb1bb9bddd1f.bindPopup%28popup_1a3e8b129d88400cb885541fdfaf83f3%29%0A%20%20%20%20%20%20%20%20%20%20%20%20%3B%0A%0A%20%20%20%20%20%20%20%20%20%20%20%20%0A%20%20%20%20%20%20%20%20%0A%20%20%20%20%0A%20%20%20%20%20%20%20%20var%20marker_77546c9dd94a449c9c218e2e272b476e%20%3D%20L.marker%28%0A%20%20%20%20%20%20%20%20%20%20%20%20%5B43.764344%2C%2011.25503%5D%2C%0A%20%20%20%20%20%20%20%20%20%20%20%20%7B%0A%20%20%20%20%20%20%20%20%20%20%20%20%20%20%20%20icon%3A%20new%20L.Icon.Default%28%29%2C%0A%20%20%20%20%20%20%20%20%20%20%20%20%20%20%20%20%7D%0A%20%20%20%20%20%20%20%20%20%20%20%20%29.addTo%28map_146cd8147123498484976a07e362f27f%29%3B%0A%20%20%20%20%20%20%20%20%0A%20%20%20%20%0A%20%20%20%20%20%20%20%20%20%20%20%20var%20popup_616f107e6c0c460081875dbef449126b%20%3D%20L.popup%28%7BmaxWidth%3A%20%27100%25%27%0A%20%20%20%20%20%20%20%20%20%20%20%20%0A%20%20%20%20%20%20%20%20%20%20%20%20%7D%29%3B%0A%0A%20%20%20%20%20%20%20%20%20%20%20%20%0A%20%20%20%20%20%20%20%20%20%20%20%20%20%20%20%20var%20html_fe1f8dd3f314494ca187a0c830022c99%20%3D%20%24%28%60%3Cdiv%20id%3D%22html_fe1f8dd3f314494ca187a0c830022c99%22%20style%3D%22width%3A%20100.0%25%3B%20height%3A%20100.0%25%3B%22%3E%20%20%20%20%20%20%20%20%20%3Cul%3E%20%20%20%20%20%20%20%20%20%20%20%20%20%3Cli%3E%3Cstrong%3EID%3A%20%3C/strong%3E6027%3C/li%3E%20%20%20%20%20%20%20%20%20%20%20%20%20%3Cli%3E%3Cstrong%3ESource%3A%20%3C/strong%3Enan%3C/li%3E%20%20%20%20%20%20%20%20%20%20%20%20%20%3Cli%3E%3Cstrong%3EOccupation%3A%20%3C/strong%3EBartolomeo%20di%20.%20.%20.%20tessitore%3C/li%3E%20%20%20%20%20%20%20%20%20%3Cul%3E%20%20%20%20%20%3C/div%3E%60%29%5B0%5D%3B%0A%20%20%20%20%20%20%20%20%20%20%20%20%20%20%20%20popup_616f107e6c0c460081875dbef449126b.setContent%28html_fe1f8dd3f314494ca187a0c830022c99%29%3B%0A%20%20%20%20%20%20%20%20%20%20%20%20%0A%0A%20%20%20%20%20%20%20%20%20%20%20%20marker_77546c9dd94a449c9c218e2e272b476e.bindPopup%28popup_616f107e6c0c460081875dbef449126b%29%0A%20%20%20%20%20%20%20%20%20%20%20%20%3B%0A%0A%20%20%20%20%20%20%20%20%20%20%20%20%0A%20%20%20%20%20%20%20%20%0A%20%20%20%20%0A%20%20%20%20%20%20%20%20var%20marker_da760575ce584557a36cf262d458b75b%20%3D%20L.marker%28%0A%20%20%20%20%20%20%20%20%20%20%20%20%5B43.76656545%2C%2011.25341727%5D%2C%0A%20%20%20%20%20%20%20%20%20%20%20%20%7B%0A%20%20%20%20%20%20%20%20%20%20%20%20%20%20%20%20icon%3A%20new%20L.Icon.Default%28%29%2C%0A%20%20%20%20%20%20%20%20%20%20%20%20%20%20%20%20%7D%0A%20%20%20%20%20%20%20%20%20%20%20%20%29.addTo%28map_146cd8147123498484976a07e362f27f%29%3B%0A%20%20%20%20%20%20%20%20%0A%20%20%20%20%0A%20%20%20%20%20%20%20%20%20%20%20%20var%20popup_1caff246a4494c9ca1045e624e00002e%20%3D%20L.popup%28%7BmaxWidth%3A%20%27100%25%27%0A%20%20%20%20%20%20%20%20%20%20%20%20%0A%20%20%20%20%20%20%20%20%20%20%20%20%7D%29%3B%0A%0A%20%20%20%20%20%20%20%20%20%20%20%20%0A%20%20%20%20%20%20%20%20%20%20%20%20%20%20%20%20var%20html_67c0e167e2c74181b6bb458ee7cbd902%20%3D%20%24%28%60%3Cdiv%20id%3D%22html_67c0e167e2c74181b6bb458ee7cbd902%22%20style%3D%22width%3A%20100.0%25%3B%20height%3A%20100.0%25%3B%22%3E%20%20%20%20%20%20%20%20%20%3Cul%3E%20%20%20%20%20%20%20%20%20%20%20%20%20%3Cli%3E%3Cstrong%3EID%3A%20%3C/strong%3E6324%3C/li%3E%20%20%20%20%20%20%20%20%20%20%20%20%20%3Cli%3E%3Cstrong%3ESource%3A%20%3C/strong%3Enan%3C/li%3E%20%20%20%20%20%20%20%20%20%20%20%20%20%3Cli%3E%3Cstrong%3EOccupation%3A%20%3C/strong%3EMona%20Lexandra%20di%20Domenico%20barbiere%3C/li%3E%20%20%20%20%20%20%20%20%20%3Cul%3E%20%20%20%20%20%3C/div%3E%60%29%5B0%5D%3B%0A%20%20%20%20%20%20%20%20%20%20%20%20%20%20%20%20popup_1caff246a4494c9ca1045e624e00002e.setContent%28html_67c0e167e2c74181b6bb458ee7cbd902%29%3B%0A%20%20%20%20%20%20%20%20%20%20%20%20%0A%0A%20%20%20%20%20%20%20%20%20%20%20%20marker_da760575ce584557a36cf262d458b75b.bindPopup%28popup_1caff246a4494c9ca1045e624e00002e%29%0A%20%20%20%20%20%20%20%20%20%20%20%20%3B%0A%0A%20%20%20%20%20%20%20%20%20%20%20%20%0A%20%20%20%20%20%20%20%20%0A%20%20%20%20%0A%20%20%20%20%20%20%20%20var%20marker_6be5c92fa59b4c13a944fecf9717f546%20%3D%20L.marker%28%0A%20%20%20%20%20%20%20%20%20%20%20%20%5B43.76648625%2C%2011.254495%5D%2C%0A%20%20%20%20%20%20%20%20%20%20%20%20%7B%0A%20%20%20%20%20%20%20%20%20%20%20%20%20%20%20%20icon%3A%20new%20L.Icon.Default%28%29%2C%0A%20%20%20%20%20%20%20%20%20%20%20%20%20%20%20%20%7D%0A%20%20%20%20%20%20%20%20%20%20%20%20%29.addTo%28map_146cd8147123498484976a07e362f27f%29%3B%0A%20%20%20%20%20%20%20%20%0A%20%20%20%20%0A%20%20%20%20%20%20%20%20%20%20%20%20var%20popup_2d3846f5da5c4be48b47900c554f04a9%20%3D%20L.popup%28%7BmaxWidth%3A%20%27100%25%27%0A%20%20%20%20%20%20%20%20%20%20%20%20%0A%20%20%20%20%20%20%20%20%20%20%20%20%7D%29%3B%0A%0A%20%20%20%20%20%20%20%20%20%20%20%20%0A%20%20%20%20%20%20%20%20%20%20%20%20%20%20%20%20var%20html_1ca856f90fff4d22a908999222038830%20%3D%20%24%28%60%3Cdiv%20id%3D%22html_1ca856f90fff4d22a908999222038830%22%20style%3D%22width%3A%20100.0%25%3B%20height%3A%20100.0%25%3B%22%3E%20%20%20%20%20%20%20%20%20%3Cul%3E%20%20%20%20%20%20%20%20%20%20%20%20%20%3Cli%3E%3Cstrong%3EID%3A%20%3C/strong%3E6180%3C/li%3E%20%20%20%20%20%20%20%20%20%20%20%20%20%3Cli%3E%3Cstrong%3ESource%3A%20%3C/strong%3Enan%3C/li%3E%20%20%20%20%20%20%20%20%20%20%20%20%20%3Cli%3E%3Cstrong%3EOccupation%3A%20%3C/strong%3ETre%20pigionali%3C/li%3E%20%20%20%20%20%20%20%20%20%3Cul%3E%20%20%20%20%20%3C/div%3E%60%29%5B0%5D%3B%0A%20%20%20%20%20%20%20%20%20%20%20%20%20%20%20%20popup_2d3846f5da5c4be48b47900c554f04a9.setContent%28html_1ca856f90fff4d22a908999222038830%29%3B%0A%20%20%20%20%20%20%20%20%20%20%20%20%0A%0A%20%20%20%20%20%20%20%20%20%20%20%20marker_6be5c92fa59b4c13a944fecf9717f546.bindPopup%28popup_2d3846f5da5c4be48b47900c554f04a9%29%0A%20%20%20%20%20%20%20%20%20%20%20%20%3B%0A%0A%20%20%20%20%20%20%20%20%20%20%20%20%0A%20%20%20%20%20%20%20%20%0A%20%20%20%20%0A%20%20%20%20%20%20%20%20var%20marker_962f15b9d8dc4a4ba91d661f797988ba%20%3D%20L.marker%28%0A%20%20%20%20%20%20%20%20%20%20%20%20%5B43.773077%2C%2011.263158%5D%2C%0A%20%20%20%20%20%20%20%20%20%20%20%20%7B%0A%20%20%20%20%20%20%20%20%20%20%20%20%20%20%20%20icon%3A%20new%20L.Icon.Default%28%29%2C%0A%20%20%20%20%20%20%20%20%20%20%20%20%20%20%20%20%7D%0A%20%20%20%20%20%20%20%20%20%20%20%20%29.addTo%28map_146cd8147123498484976a07e362f27f%29%3B%0A%20%20%20%20%20%20%20%20%0A%20%20%20%20%0A%20%20%20%20%20%20%20%20%20%20%20%20var%20popup_f6a348219de848f580cfbba052b6ab8d%20%3D%20L.popup%28%7BmaxWidth%3A%20%27100%25%27%0A%20%20%20%20%20%20%20%20%20%20%20%20%0A%20%20%20%20%20%20%20%20%20%20%20%20%7D%29%3B%0A%0A%20%20%20%20%20%20%20%20%20%20%20%20%0A%20%20%20%20%20%20%20%20%20%20%20%20%20%20%20%20var%20html_af2e60c887314a5f90b7f3f1a874603b%20%3D%20%24%28%60%3Cdiv%20id%3D%22html_af2e60c887314a5f90b7f3f1a874603b%22%20style%3D%22width%3A%20100.0%25%3B%20height%3A%20100.0%25%3B%22%3E%20%20%20%20%20%20%20%20%20%3Cul%3E%20%20%20%20%20%20%20%20%20%20%20%20%20%3Cli%3E%3Cstrong%3EID%3A%20%3C/strong%3E2300%3C/li%3E%20%20%20%20%20%20%20%20%20%20%20%20%20%3Cli%3E%3Cstrong%3ESource%3A%20%3C/strong%3EHenderson%20P%26C%20%2366%3C/li%3E%20%20%20%20%20%20%20%20%20%20%20%20%20%3Cli%3E%3Cstrong%3EOccupation%3A%20%3C/strong%3ENo%20resident%3C/li%3E%20%20%20%20%20%20%20%20%20%3Cul%3E%20%20%20%20%20%3C/div%3E%60%29%5B0%5D%3B%0A%20%20%20%20%20%20%20%20%20%20%20%20%20%20%20%20popup_f6a348219de848f580cfbba052b6ab8d.setContent%28html_af2e60c887314a5f90b7f3f1a874603b%29%3B%0A%20%20%20%20%20%20%20%20%20%20%20%20%0A%0A%20%20%20%20%20%20%20%20%20%20%20%20marker_962f15b9d8dc4a4ba91d661f797988ba.bindPopup%28popup_f6a348219de848f580cfbba052b6ab8d%29%0A%20%20%20%20%20%20%20%20%20%20%20%20%3B%0A%0A%20%20%20%20%20%20%20%20%20%20%20%20%0A%20%20%20%20%20%20%20%20%0A%20%20%20%20%0A%20%20%20%20%20%20%20%20var%20marker_31c8c72a9dc2476db3b3cde3b61c902f%20%3D%20L.marker%28%0A%20%20%20%20%20%20%20%20%20%20%20%20%5B43.77289553%2C%2011.26334247%5D%2C%0A%20%20%20%20%20%20%20%20%20%20%20%20%7B%0A%20%20%20%20%20%20%20%20%20%20%20%20%20%20%20%20icon%3A%20new%20L.Icon.Default%28%29%2C%0A%20%20%20%20%20%20%20%20%20%20%20%20%20%20%20%20%7D%0A%20%20%20%20%20%20%20%20%20%20%20%20%29.addTo%28map_146cd8147123498484976a07e362f27f%29%3B%0A%20%20%20%20%20%20%20%20%0A%20%20%20%20%0A%20%20%20%20%20%20%20%20%20%20%20%20var%20popup_bb90b299f21341a4823bfbc72e80a8c0%20%3D%20L.popup%28%7BmaxWidth%3A%20%27100%25%27%0A%20%20%20%20%20%20%20%20%20%20%20%20%0A%20%20%20%20%20%20%20%20%20%20%20%20%7D%29%3B%0A%0A%20%20%20%20%20%20%20%20%20%20%20%20%0A%20%20%20%20%20%20%20%20%20%20%20%20%20%20%20%20var%20html_20b0507b1a23417bbba0a67d048b9226%20%3D%20%24%28%60%3Cdiv%20id%3D%22html_20b0507b1a23417bbba0a67d048b9226%22%20style%3D%22width%3A%20100.0%25%3B%20height%3A%20100.0%25%3B%22%3E%20%20%20%20%20%20%20%20%20%3Cul%3E%20%20%20%20%20%20%20%20%20%20%20%20%20%3Cli%3E%3Cstrong%3EID%3A%20%3C/strong%3E2673%3C/li%3E%20%20%20%20%20%20%20%20%20%20%20%20%20%3Cli%3E%3Cstrong%3ESource%3A%20%3C/strong%3EHenderson%20P%26C%20%2366%3C/li%3E%20%20%20%20%20%20%20%20%20%20%20%20%20%3Cli%3E%3Cstrong%3EOccupation%3A%20%3C/strong%3Eser%20%20Lorenzo%20di%20Francesco%20Lorenzi%3C/li%3E%20%20%20%20%20%20%20%20%20%3Cul%3E%20%20%20%20%20%3C/div%3E%60%29%5B0%5D%3B%0A%20%20%20%20%20%20%20%20%20%20%20%20%20%20%20%20popup_bb90b299f21341a4823bfbc72e80a8c0.setContent%28html_20b0507b1a23417bbba0a67d048b9226%29%3B%0A%20%20%20%20%20%20%20%20%20%20%20%20%0A%0A%20%20%20%20%20%20%20%20%20%20%20%20marker_31c8c72a9dc2476db3b3cde3b61c902f.bindPopup%28popup_bb90b299f21341a4823bfbc72e80a8c0%29%0A%20%20%20%20%20%20%20%20%20%20%20%20%3B%0A%0A%20%20%20%20%20%20%20%20%20%20%20%20%0A%20%20%20%20%20%20%20%20%0A%20%20%20%20%0A%20%20%20%20%20%20%20%20var%20marker_a033f3b5761b48679496f6199d5d87d4%20%3D%20L.marker%28%0A%20%20%20%20%20%20%20%20%20%20%20%20%5B43.77034154%2C%2011.24215077%5D%2C%0A%20%20%20%20%20%20%20%20%20%20%20%20%7B%0A%20%20%20%20%20%20%20%20%20%20%20%20%20%20%20%20icon%3A%20new%20L.Icon.Default%28%29%2C%0A%20%20%20%20%20%20%20%20%20%20%20%20%20%20%20%20%7D%0A%20%20%20%20%20%20%20%20%20%20%20%20%29.addTo%28map_146cd8147123498484976a07e362f27f%29%3B%0A%20%20%20%20%20%20%20%20%0A%20%20%20%20%0A%20%20%20%20%20%20%20%20%20%20%20%20var%20popup_9542d9ce5a6947b0a01b391cee15657a%20%3D%20L.popup%28%7BmaxWidth%3A%20%27100%25%27%0A%20%20%20%20%20%20%20%20%20%20%20%20%0A%20%20%20%20%20%20%20%20%20%20%20%20%7D%29%3B%0A%0A%20%20%20%20%20%20%20%20%20%20%20%20%0A%20%20%20%20%20%20%20%20%20%20%20%20%20%20%20%20var%20html_e57e525f06054990b5a953ce9fd5611f%20%3D%20%24%28%60%3Cdiv%20id%3D%22html_e57e525f06054990b5a953ce9fd5611f%22%20style%3D%22width%3A%20100.0%25%3B%20height%3A%20100.0%25%3B%22%3E%20%20%20%20%20%20%20%20%20%3Cul%3E%20%20%20%20%20%20%20%20%20%20%20%20%20%3Cli%3E%3Cstrong%3EID%3A%20%3C/strong%3E8024%3C/li%3E%20%20%20%20%20%20%20%20%20%20%20%20%20%3Cli%3E%3Cstrong%3ESource%3A%20%3C/strong%3EHenderson%20P%26C%20%2366%3C/li%3E%20%20%20%20%20%20%20%20%20%20%20%20%20%3Cli%3E%3Cstrong%3EOccupation%3A%20%3C/strong%3EBatista%20di%20Francesco%20funaiuolo%3C/li%3E%20%20%20%20%20%20%20%20%20%3Cul%3E%20%20%20%20%20%3C/div%3E%60%29%5B0%5D%3B%0A%20%20%20%20%20%20%20%20%20%20%20%20%20%20%20%20popup_9542d9ce5a6947b0a01b391cee15657a.setContent%28html_e57e525f06054990b5a953ce9fd5611f%29%3B%0A%20%20%20%20%20%20%20%20%20%20%20%20%0A%0A%20%20%20%20%20%20%20%20%20%20%20%20marker_a033f3b5761b48679496f6199d5d87d4.bindPopup%28popup_9542d9ce5a6947b0a01b391cee15657a%29%0A%20%20%20%20%20%20%20%20%20%20%20%20%3B%0A%0A%20%20%20%20%20%20%20%20%20%20%20%20%0A%20%20%20%20%20%20%20%20%0A%20%20%20%20%0A%20%20%20%20%20%20%20%20var%20marker_15c334b0aa1744a5904aad8989fe1264%20%3D%20L.marker%28%0A%20%20%20%20%20%20%20%20%20%20%20%20%5B43.77198%2C%2011.252595%5D%2C%0A%20%20%20%20%20%20%20%20%20%20%20%20%7B%0A%20%20%20%20%20%20%20%20%20%20%20%20%20%20%20%20icon%3A%20new%20L.Icon.Default%28%29%2C%0A%20%20%20%20%20%20%20%20%20%20%20%20%20%20%20%20%7D%0A%20%20%20%20%20%20%20%20%20%20%20%20%29.addTo%28map_146cd8147123498484976a07e362f27f%29%3B%0A%20%20%20%20%20%20%20%20%0A%20%20%20%20%0A%20%20%20%20%20%20%20%20%20%20%20%20var%20popup_26cf269c082941fdbf8a2a18f8a709f9%20%3D%20L.popup%28%7BmaxWidth%3A%20%27100%25%27%0A%20%20%20%20%20%20%20%20%20%20%20%20%0A%20%20%20%20%20%20%20%20%20%20%20%20%7D%29%3B%0A%0A%20%20%20%20%20%20%20%20%20%20%20%20%0A%20%20%20%20%20%20%20%20%20%20%20%20%20%20%20%20var%20html_78c6d003e61d41f7b5462ae74e3eb1cd%20%3D%20%24%28%60%3Cdiv%20id%3D%22html_78c6d003e61d41f7b5462ae74e3eb1cd%22%20style%3D%22width%3A%20100.0%25%3B%20height%3A%20100.0%25%3B%22%3E%20%20%20%20%20%20%20%20%20%3Cul%3E%20%20%20%20%20%20%20%20%20%20%20%20%20%3Cli%3E%3Cstrong%3EID%3A%20%3C/strong%3E6233%3C/li%3E%20%20%20%20%20%20%20%20%20%20%20%20%20%3Cli%3E%3Cstrong%3ESource%3A%20%3C/strong%3EHenderson%20P%26C%20%2366%3C/li%3E%20%20%20%20%20%20%20%20%20%20%20%20%20%3Cli%3E%3Cstrong%3EOccupation%3A%20%3C/strong%3EGirolamo%20di%20Bartolomeo%2C%20fornaio%3C/li%3E%20%20%20%20%20%20%20%20%20%3Cul%3E%20%20%20%20%20%3C/div%3E%60%29%5B0%5D%3B%0A%20%20%20%20%20%20%20%20%20%20%20%20%20%20%20%20popup_26cf269c082941fdbf8a2a18f8a709f9.setContent%28html_78c6d003e61d41f7b5462ae74e3eb1cd%29%3B%0A%20%20%20%20%20%20%20%20%20%20%20%20%0A%0A%20%20%20%20%20%20%20%20%20%20%20%20marker_15c334b0aa1744a5904aad8989fe1264.bindPopup%28popup_26cf269c082941fdbf8a2a18f8a709f9%29%0A%20%20%20%20%20%20%20%20%20%20%20%20%3B%0A%0A%20%20%20%20%20%20%20%20%20%20%20%20%0A%20%20%20%20%20%20%20%20%0A%20%20%20%20%0A%20%20%20%20%20%20%20%20var%20marker_917b9e2f263f4cf894c75fbba9ac4aa6%20%3D%20L.marker%28%0A%20%20%20%20%20%20%20%20%20%20%20%20%5B43.77497133%2C%2011.26411667%5D%2C%0A%20%20%20%20%20%20%20%20%20%20%20%20%7B%0A%20%20%20%20%20%20%20%20%20%20%20%20%20%20%20%20icon%3A%20new%20L.Icon.Default%28%29%2C%0A%20%20%20%20%20%20%20%20%20%20%20%20%20%20%20%20%7D%0A%20%20%20%20%20%20%20%20%20%20%20%20%29.addTo%28map_146cd8147123498484976a07e362f27f%29%3B%0A%20%20%20%20%20%20%20%20%0A%20%20%20%20%0A%20%20%20%20%20%20%20%20%20%20%20%20var%20popup_373905c2ffd446bfba6a11656d3dd289%20%3D%20L.popup%28%7BmaxWidth%3A%20%27100%25%27%0A%20%20%20%20%20%20%20%20%20%20%20%20%0A%20%20%20%20%20%20%20%20%20%20%20%20%7D%29%3B%0A%0A%20%20%20%20%20%20%20%20%20%20%20%20%0A%20%20%20%20%20%20%20%20%20%20%20%20%20%20%20%20var%20html_c4bdc686190949429ae3f55cae766473%20%3D%20%24%28%60%3Cdiv%20id%3D%22html_c4bdc686190949429ae3f55cae766473%22%20style%3D%22width%3A%20100.0%25%3B%20height%3A%20100.0%25%3B%22%3E%20%20%20%20%20%20%20%20%20%3Cul%3E%20%20%20%20%20%20%20%20%20%20%20%20%20%3Cli%3E%3Cstrong%3EID%3A%20%3C/strong%3E1588%3C/li%3E%20%20%20%20%20%20%20%20%20%20%20%20%20%3Cli%3E%3Cstrong%3ESource%3A%20%3C/strong%3EHenderson%20P%26C%20%2366%3C/li%3E%20%20%20%20%20%20%20%20%20%20%20%20%20%3Cli%3E%3Cstrong%3EOccupation%3A%20%3C/strong%3EMona%20Piera%2C%20donna%20fu%20di%20Frosino%20Faciulli%3C/li%3E%20%20%20%20%20%20%20%20%20%3Cul%3E%20%20%20%20%20%3C/div%3E%60%29%5B0%5D%3B%0A%20%20%20%20%20%20%20%20%20%20%20%20%20%20%20%20popup_373905c2ffd446bfba6a11656d3dd289.setContent%28html_c4bdc686190949429ae3f55cae766473%29%3B%0A%20%20%20%20%20%20%20%20%20%20%20%20%0A%0A%20%20%20%20%20%20%20%20%20%20%20%20marker_917b9e2f263f4cf894c75fbba9ac4aa6.bindPopup%28popup_373905c2ffd446bfba6a11656d3dd289%29%0A%20%20%20%20%20%20%20%20%20%20%20%20%3B%0A%0A%20%20%20%20%20%20%20%20%20%20%20%20%0A%20%20%20%20%20%20%20%20%0A%20%20%20%20%0A%20%20%20%20%20%20%20%20var%20marker_f8142d6bdfed47a29260c63347c3b6d5%20%3D%20L.marker%28%0A%20%20%20%20%20%20%20%20%20%20%20%20%5B43.767332%2C%2011.24068%5D%2C%0A%20%20%20%20%20%20%20%20%20%20%20%20%7B%0A%20%20%20%20%20%20%20%20%20%20%20%20%20%20%20%20icon%3A%20new%20L.Icon.Default%28%29%2C%0A%20%20%20%20%20%20%20%20%20%20%20%20%20%20%20%20%7D%0A%20%20%20%20%20%20%20%20%20%20%20%20%29.addTo%28map_146cd8147123498484976a07e362f27f%29%3B%0A%20%20%20%20%20%20%20%20%0A%20%20%20%20%0A%20%20%20%20%20%20%20%20%20%20%20%20var%20popup_cd43302889f0496a80225b31b7bd96a9%20%3D%20L.popup%28%7BmaxWidth%3A%20%27100%25%27%0A%20%20%20%20%20%20%20%20%20%20%20%20%0A%20%20%20%20%20%20%20%20%20%20%20%20%7D%29%3B%0A%0A%20%20%20%20%20%20%20%20%20%20%20%20%0A%20%20%20%20%20%20%20%20%20%20%20%20%20%20%20%20var%20html_f1671f38124042f995d61197db8e2a95%20%3D%20%24%28%60%3Cdiv%20id%3D%22html_f1671f38124042f995d61197db8e2a95%22%20style%3D%22width%3A%20100.0%25%3B%20height%3A%20100.0%25%3B%22%3E%20%20%20%20%20%20%20%20%20%3Cul%3E%20%20%20%20%20%20%20%20%20%20%20%20%20%3Cli%3E%3Cstrong%3EID%3A%20%3C/strong%3E8038%3C/li%3E%20%20%20%20%20%20%20%20%20%20%20%20%20%3Cli%3E%3Cstrong%3ESource%3A%20%3C/strong%3EHenderson%20P%26C%20%23103%3C/li%3E%20%20%20%20%20%20%20%20%20%20%20%20%20%3Cli%3E%3Cstrong%3EOccupation%3A%20%3C/strong%3EAndrea%20di%20Francesco%20dalla%20Mirandola%3C/li%3E%20%20%20%20%20%20%20%20%20%3Cul%3E%20%20%20%20%20%3C/div%3E%60%29%5B0%5D%3B%0A%20%20%20%20%20%20%20%20%20%20%20%20%20%20%20%20popup_cd43302889f0496a80225b31b7bd96a9.setContent%28html_f1671f38124042f995d61197db8e2a95%29%3B%0A%20%20%20%20%20%20%20%20%20%20%20%20%0A%0A%20%20%20%20%20%20%20%20%20%20%20%20marker_f8142d6bdfed47a29260c63347c3b6d5.bindPopup%28popup_cd43302889f0496a80225b31b7bd96a9%29%0A%20%20%20%20%20%20%20%20%20%20%20%20%3B%0A%0A%20%20%20%20%20%20%20%20%20%20%20%20%0A%20%20%20%20%20%20%20%20%0A%20%20%20%20%0A%20%20%20%20%20%20%20%20var%20marker_411b7ead974a45beb73c13d7028799dc%20%3D%20L.marker%28%0A%20%20%20%20%20%20%20%20%20%20%20%20%5B43.76856%2C%2011.26649%5D%2C%0A%20%20%20%20%20%20%20%20%20%20%20%20%7B%0A%20%20%20%20%20%20%20%20%20%20%20%20%20%20%20%20icon%3A%20new%20L.Icon.Default%28%29%2C%0A%20%20%20%20%20%20%20%20%20%20%20%20%20%20%20%20%7D%0A%20%20%20%20%20%20%20%20%20%20%20%20%29.addTo%28map_146cd8147123498484976a07e362f27f%29%3B%0A%20%20%20%20%20%20%20%20%0A%20%20%20%20%0A%20%20%20%20%20%20%20%20%20%20%20%20var%20popup_821169f256db4b33850609cb28d5873f%20%3D%20L.popup%28%7BmaxWidth%3A%20%27100%25%27%0A%20%20%20%20%20%20%20%20%20%20%20%20%0A%20%20%20%20%20%20%20%20%20%20%20%20%7D%29%3B%0A%0A%20%20%20%20%20%20%20%20%20%20%20%20%0A%20%20%20%20%20%20%20%20%20%20%20%20%20%20%20%20var%20html_b32c41bbbd0647da917b8a367c76bce1%20%3D%20%24%28%60%3Cdiv%20id%3D%22html_b32c41bbbd0647da917b8a367c76bce1%22%20style%3D%22width%3A%20100.0%25%3B%20height%3A%20100.0%25%3B%22%3E%20%20%20%20%20%20%20%20%20%3Cul%3E%20%20%20%20%20%20%20%20%20%20%20%20%20%3Cli%3E%3Cstrong%3EID%3A%20%3C/strong%3E3072%3C/li%3E%20%20%20%20%20%20%20%20%20%20%20%20%20%3Cli%3E%3Cstrong%3ESource%3A%20%3C/strong%3EHenderson%20P%26C%20%23103%3C/li%3E%20%20%20%20%20%20%20%20%20%20%20%20%20%3Cli%3E%3Cstrong%3EOccupation%3A%20%3C/strong%3Enan%3C/li%3E%20%20%20%20%20%20%20%20%20%3Cul%3E%20%20%20%20%20%3C/div%3E%60%29%5B0%5D%3B%0A%20%20%20%20%20%20%20%20%20%20%20%20%20%20%20%20popup_821169f256db4b33850609cb28d5873f.setContent%28html_b32c41bbbd0647da917b8a367c76bce1%29%3B%0A%20%20%20%20%20%20%20%20%20%20%20%20%0A%0A%20%20%20%20%20%20%20%20%20%20%20%20marker_411b7ead974a45beb73c13d7028799dc.bindPopup%28popup_821169f256db4b33850609cb28d5873f%29%0A%20%20%20%20%20%20%20%20%20%20%20%20%3B%0A%0A%20%20%20%20%20%20%20%20%20%20%20%20%0A%20%20%20%20%20%20%20%20%0A%20%20%20%20%0A%20%20%20%20%20%20%20%20var%20marker_1f02abc468f34691b0ea27c0a276ee03%20%3D%20L.marker%28%0A%20%20%20%20%20%20%20%20%20%20%20%20%5B43.76807%2C%2011.2658%5D%2C%0A%20%20%20%20%20%20%20%20%20%20%20%20%7B%0A%20%20%20%20%20%20%20%20%20%20%20%20%20%20%20%20icon%3A%20new%20L.Icon.Default%28%29%2C%0A%20%20%20%20%20%20%20%20%20%20%20%20%20%20%20%20%7D%0A%20%20%20%20%20%20%20%20%20%20%20%20%29.addTo%28map_146cd8147123498484976a07e362f27f%29%3B%0A%20%20%20%20%20%20%20%20%0A%20%20%20%20%0A%20%20%20%20%20%20%20%20%20%20%20%20var%20popup_ebbdb4ee1a2e4e3e83f3411f9e8e6489%20%3D%20L.popup%28%7BmaxWidth%3A%20%27100%25%27%0A%20%20%20%20%20%20%20%20%20%20%20%20%0A%20%20%20%20%20%20%20%20%20%20%20%20%7D%29%3B%0A%0A%20%20%20%20%20%20%20%20%20%20%20%20%0A%20%20%20%20%20%20%20%20%20%20%20%20%20%20%20%20var%20html_189fd113764f403e98cc50ef40892e02%20%3D%20%24%28%60%3Cdiv%20id%3D%22html_189fd113764f403e98cc50ef40892e02%22%20style%3D%22width%3A%20100.0%25%3B%20height%3A%20100.0%25%3B%22%3E%20%20%20%20%20%20%20%20%20%3Cul%3E%20%20%20%20%20%20%20%20%20%20%20%20%20%3Cli%3E%3Cstrong%3EID%3A%20%3C/strong%3E3203%3C/li%3E%20%20%20%20%20%20%20%20%20%20%20%20%20%3Cli%3E%3Cstrong%3ESource%3A%20%3C/strong%3EHenderson%20P%26C%20%23103%3C/li%3E%20%20%20%20%20%20%20%20%20%20%20%20%20%3Cli%3E%3Cstrong%3EOccupation%3A%20%3C/strong%3Enan%3C/li%3E%20%20%20%20%20%20%20%20%20%3Cul%3E%20%20%20%20%20%3C/div%3E%60%29%5B0%5D%3B%0A%20%20%20%20%20%20%20%20%20%20%20%20%20%20%20%20popup_ebbdb4ee1a2e4e3e83f3411f9e8e6489.setContent%28html_189fd113764f403e98cc50ef40892e02%29%3B%0A%20%20%20%20%20%20%20%20%20%20%20%20%0A%0A%20%20%20%20%20%20%20%20%20%20%20%20marker_1f02abc468f34691b0ea27c0a276ee03.bindPopup%28popup_ebbdb4ee1a2e4e3e83f3411f9e8e6489%29%0A%20%20%20%20%20%20%20%20%20%20%20%20%3B%0A%0A%20%20%20%20%20%20%20%20%20%20%20%20%0A%20%20%20%20%20%20%20%20%0A%20%20%20%20%0A%20%20%20%20%20%20%20%20var%20marker_bc432a61eda64ad0b784282ccbf1105b%20%3D%20L.marker%28%0A%20%20%20%20%20%20%20%20%20%20%20%20%5B43.772771%2C%2011.253926%5D%2C%0A%20%20%20%20%20%20%20%20%20%20%20%20%7B%0A%20%20%20%20%20%20%20%20%20%20%20%20%20%20%20%20icon%3A%20new%20L.Icon.Default%28%29%2C%0A%20%20%20%20%20%20%20%20%20%20%20%20%20%20%20%20%7D%0A%20%20%20%20%20%20%20%20%20%20%20%20%29.addTo%28map_146cd8147123498484976a07e362f27f%29%3B%0A%20%20%20%20%20%20%20%20%0A%20%20%20%20%0A%20%20%20%20%20%20%20%20%20%20%20%20var%20popup_af7808f959804284a9e0f9cec1965144%20%3D%20L.popup%28%7BmaxWidth%3A%20%27100%25%27%0A%20%20%20%20%20%20%20%20%20%20%20%20%0A%20%20%20%20%20%20%20%20%20%20%20%20%7D%29%3B%0A%0A%20%20%20%20%20%20%20%20%20%20%20%20%0A%20%20%20%20%20%20%20%20%20%20%20%20%20%20%20%20var%20html_7b95e3f6a7ef4916ba2b53e3cefaf713%20%3D%20%24%28%60%3Cdiv%20id%3D%22html_7b95e3f6a7ef4916ba2b53e3cefaf713%22%20style%3D%22width%3A%20100.0%25%3B%20height%3A%20100.0%25%3B%22%3E%20%20%20%20%20%20%20%20%20%3Cul%3E%20%20%20%20%20%20%20%20%20%20%20%20%20%3Cli%3E%3Cstrong%3EID%3A%20%3C/strong%3E1612%3C/li%3E%20%20%20%20%20%20%20%20%20%20%20%20%20%3Cli%3E%3Cstrong%3ESource%3A%20%3C/strong%3EHenderson%20P%26C%20%23103%3C/li%3E%20%20%20%20%20%20%20%20%20%20%20%20%20%3Cli%3E%3Cstrong%3EOccupation%3A%20%3C/strong%3EBernardo%20di%20Salvestro%2C%20rigattiere%3C/li%3E%20%20%20%20%20%20%20%20%20%3Cul%3E%20%20%20%20%20%3C/div%3E%60%29%5B0%5D%3B%0A%20%20%20%20%20%20%20%20%20%20%20%20%20%20%20%20popup_af7808f959804284a9e0f9cec1965144.setContent%28html_7b95e3f6a7ef4916ba2b53e3cefaf713%29%3B%0A%20%20%20%20%20%20%20%20%20%20%20%20%0A%0A%20%20%20%20%20%20%20%20%20%20%20%20marker_bc432a61eda64ad0b784282ccbf1105b.bindPopup%28popup_af7808f959804284a9e0f9cec1965144%29%0A%20%20%20%20%20%20%20%20%20%20%20%20%3B%0A%0A%20%20%20%20%20%20%20%20%20%20%20%20%0A%20%20%20%20%20%20%20%20%0A%20%20%20%20%0A%20%20%20%20%20%20%20%20var%20marker_3bcef7d9c90846c08c943a4ef5f1315a%20%3D%20L.marker%28%0A%20%20%20%20%20%20%20%20%20%20%20%20%5B43.76871188%2C%2011.24295313%5D%2C%0A%20%20%20%20%20%20%20%20%20%20%20%20%7B%0A%20%20%20%20%20%20%20%20%20%20%20%20%20%20%20%20icon%3A%20new%20L.Icon.Default%28%29%2C%0A%20%20%20%20%20%20%20%20%20%20%20%20%20%20%20%20%7D%0A%20%20%20%20%20%20%20%20%20%20%20%20%29.addTo%28map_146cd8147123498484976a07e362f27f%29%3B%0A%20%20%20%20%20%20%20%20%0A%20%20%20%20%0A%20%20%20%20%20%20%20%20%20%20%20%20var%20popup_d18a6173853e46c999ea99cb35990354%20%3D%20L.popup%28%7BmaxWidth%3A%20%27100%25%27%0A%20%20%20%20%20%20%20%20%20%20%20%20%0A%20%20%20%20%20%20%20%20%20%20%20%20%7D%29%3B%0A%0A%20%20%20%20%20%20%20%20%20%20%20%20%0A%20%20%20%20%20%20%20%20%20%20%20%20%20%20%20%20var%20html_b67a4a22b01445e881afca8a4330b803%20%3D%20%24%28%60%3Cdiv%20id%3D%22html_b67a4a22b01445e881afca8a4330b803%22%20style%3D%22width%3A%20100.0%25%3B%20height%3A%20100.0%25%3B%22%3E%20%20%20%20%20%20%20%20%20%3Cul%3E%20%20%20%20%20%20%20%20%20%20%20%20%20%3Cli%3E%3Cstrong%3EID%3A%20%3C/strong%3E8432%3C/li%3E%20%20%20%20%20%20%20%20%20%20%20%20%20%3Cli%3E%3Cstrong%3ESource%3A%20%3C/strong%3EHenderson%20P%26C%20%23103%3C/li%3E%20%20%20%20%20%20%20%20%20%20%20%20%20%3Cli%3E%3Cstrong%3EOccupation%3A%20%3C/strong%3EGuglielmo%20di%20Gherardo%20merciaio%3C/li%3E%20%20%20%20%20%20%20%20%20%3Cul%3E%20%20%20%20%20%3C/div%3E%60%29%5B0%5D%3B%0A%20%20%20%20%20%20%20%20%20%20%20%20%20%20%20%20popup_d18a6173853e46c999ea99cb35990354.setContent%28html_b67a4a22b01445e881afca8a4330b803%29%3B%0A%20%20%20%20%20%20%20%20%20%20%20%20%0A%0A%20%20%20%20%20%20%20%20%20%20%20%20marker_3bcef7d9c90846c08c943a4ef5f1315a.bindPopup%28popup_d18a6173853e46c999ea99cb35990354%29%0A%20%20%20%20%20%20%20%20%20%20%20%20%3B%0A%0A%20%20%20%20%20%20%20%20%20%20%20%20%0A%20%20%20%20%20%20%20%20%0A%20%20%20%20%0A%20%20%20%20%20%20%20%20var%20marker_6b4c08d06e9342eaa8ae26149dd549c2%20%3D%20L.marker%28%0A%20%20%20%20%20%20%20%20%20%20%20%20%5B43.780074%2C%2011.258457%5D%2C%0A%20%20%20%20%20%20%20%20%20%20%20%20%7B%0A%20%20%20%20%20%20%20%20%20%20%20%20%20%20%20%20icon%3A%20new%20L.Icon.Default%28%29%2C%0A%20%20%20%20%20%20%20%20%20%20%20%20%20%20%20%20%7D%0A%20%20%20%20%20%20%20%20%20%20%20%20%29.addTo%28map_146cd8147123498484976a07e362f27f%29%3B%0A%20%20%20%20%20%20%20%20%0A%20%20%20%20%0A%20%20%20%20%20%20%20%20%20%20%20%20var%20popup_5e1047d99ee64839937ae34b8b47901c%20%3D%20L.popup%28%7BmaxWidth%3A%20%27100%25%27%0A%20%20%20%20%20%20%20%20%20%20%20%20%0A%20%20%20%20%20%20%20%20%20%20%20%20%7D%29%3B%0A%0A%20%20%20%20%20%20%20%20%20%20%20%20%0A%20%20%20%20%20%20%20%20%20%20%20%20%20%20%20%20var%20html_ea2c783f83c243f79faaa1f2e57bc7fd%20%3D%20%24%28%60%3Cdiv%20id%3D%22html_ea2c783f83c243f79faaa1f2e57bc7fd%22%20style%3D%22width%3A%20100.0%25%3B%20height%3A%20100.0%25%3B%22%3E%20%20%20%20%20%20%20%20%20%3Cul%3E%20%20%20%20%20%20%20%20%20%20%20%20%20%3Cli%3E%3Cstrong%3EID%3A%20%3C/strong%3E68%3C/li%3E%20%20%20%20%20%20%20%20%20%20%20%20%20%3Cli%3E%3Cstrong%3ESource%3A%20%3C/strong%3EHenderson%20P%26C%20%2387%20%5Bfemale%20tenants%3B%20see%20location%5D%3C/li%3E%20%20%20%20%20%20%20%20%20%20%20%20%20%3Cli%3E%3Cstrong%3EOccupation%3A%20%3C/strong%3EMona%20Lisabetta%2C%20moglie%20gia%20di%20Benedetto%2C%20detto%20il%20Pecchia%3C/li%3E%20%20%20%20%20%20%20%20%20%3Cul%3E%20%20%20%20%20%3C/div%3E%60%29%5B0%5D%3B%0A%20%20%20%20%20%20%20%20%20%20%20%20%20%20%20%20popup_5e1047d99ee64839937ae34b8b47901c.setContent%28html_ea2c783f83c243f79faaa1f2e57bc7fd%29%3B%0A%20%20%20%20%20%20%20%20%20%20%20%20%0A%0A%20%20%20%20%20%20%20%20%20%20%20%20marker_6b4c08d06e9342eaa8ae26149dd549c2.bindPopup%28popup_5e1047d99ee64839937ae34b8b47901c%29%0A%20%20%20%20%20%20%20%20%20%20%20%20%3B%0A%0A%20%20%20%20%20%20%20%20%20%20%20%20%0A%20%20%20%20%20%20%20%20%0A%20%20%20%20%0A%20%20%20%20%20%20%20%20var%20marker_6fbc4f8f41c241aa8ac244fe87087e16%20%3D%20L.marker%28%0A%20%20%20%20%20%20%20%20%20%20%20%20%5B43.78001%2C%2011.258343%5D%2C%0A%20%20%20%20%20%20%20%20%20%20%20%20%7B%0A%20%20%20%20%20%20%20%20%20%20%20%20%20%20%20%20icon%3A%20new%20L.Icon.Default%28%29%2C%0A%20%20%20%20%20%20%20%20%20%20%20%20%20%20%20%20%7D%0A%20%20%20%20%20%20%20%20%20%20%20%20%29.addTo%28map_146cd8147123498484976a07e362f27f%29%3B%0A%20%20%20%20%20%20%20%20%0A%20%20%20%20%0A%20%20%20%20%20%20%20%20%20%20%20%20var%20popup_5d342f22b97c44dc8f5c045e0fc4d53c%20%3D%20L.popup%28%7BmaxWidth%3A%20%27100%25%27%0A%20%20%20%20%20%20%20%20%20%20%20%20%0A%20%20%20%20%20%20%20%20%20%20%20%20%7D%29%3B%0A%0A%20%20%20%20%20%20%20%20%20%20%20%20%0A%20%20%20%20%20%20%20%20%20%20%20%20%20%20%20%20var%20html_a912c0db8af649af97d28002a58ea28f%20%3D%20%24%28%60%3Cdiv%20id%3D%22html_a912c0db8af649af97d28002a58ea28f%22%20style%3D%22width%3A%20100.0%25%3B%20height%3A%20100.0%25%3B%22%3E%20%20%20%20%20%20%20%20%20%3Cul%3E%20%20%20%20%20%20%20%20%20%20%20%20%20%3Cli%3E%3Cstrong%3EID%3A%20%3C/strong%3E248%3C/li%3E%20%20%20%20%20%20%20%20%20%20%20%20%20%3Cli%3E%3Cstrong%3ESource%3A%20%3C/strong%3EHenderson%20P%26C%20%2387%3C/li%3E%20%20%20%20%20%20%20%20%20%20%20%20%20%3Cli%3E%3Cstrong%3EOccupation%3A%20%3C/strong%3EMona%20Agnoletta%20di%20Fede%3C/li%3E%20%20%20%20%20%20%20%20%20%3Cul%3E%20%20%20%20%20%3C/div%3E%60%29%5B0%5D%3B%0A%20%20%20%20%20%20%20%20%20%20%20%20%20%20%20%20popup_5d342f22b97c44dc8f5c045e0fc4d53c.setContent%28html_a912c0db8af649af97d28002a58ea28f%29%3B%0A%20%20%20%20%20%20%20%20%20%20%20%20%0A%0A%20%20%20%20%20%20%20%20%20%20%20%20marker_6fbc4f8f41c241aa8ac244fe87087e16.bindPopup%28popup_5d342f22b97c44dc8f5c045e0fc4d53c%29%0A%20%20%20%20%20%20%20%20%20%20%20%20%3B%0A%0A%20%20%20%20%20%20%20%20%20%20%20%20%0A%20%20%20%20%20%20%20%20%0A%20%20%20%20%0A%20%20%20%20%20%20%20%20var%20marker_f2f685cb8f264630905e75fe391d6713%20%3D%20L.marker%28%0A%20%20%20%20%20%20%20%20%20%20%20%20%5B43.78006019%2C%2011.25829352%5D%2C%0A%20%20%20%20%20%20%20%20%20%20%20%20%7B%0A%20%20%20%20%20%20%20%20%20%20%20%20%20%20%20%20icon%3A%20new%20L.Icon.Default%28%29%2C%0A%20%20%20%20%20%20%20%20%20%20%20%20%20%20%20%20%7D%0A%20%20%20%20%20%20%20%20%20%20%20%20%29.addTo%28map_146cd8147123498484976a07e362f27f%29%3B%0A%20%20%20%20%20%20%20%20%0A%20%20%20%20%0A%20%20%20%20%20%20%20%20%20%20%20%20var%20popup_e6afebd8092f40558cd3f45de6ce3433%20%3D%20L.popup%28%7BmaxWidth%3A%20%27100%25%27%0A%20%20%20%20%20%20%20%20%20%20%20%20%0A%20%20%20%20%20%20%20%20%20%20%20%20%7D%29%3B%0A%0A%20%20%20%20%20%20%20%20%20%20%20%20%0A%20%20%20%20%20%20%20%20%20%20%20%20%20%20%20%20var%20html_818af1899f3a4ad09ff07ed8e25a7bdb%20%3D%20%24%28%60%3Cdiv%20id%3D%22html_818af1899f3a4ad09ff07ed8e25a7bdb%22%20style%3D%22width%3A%20100.0%25%3B%20height%3A%20100.0%25%3B%22%3E%20%20%20%20%20%20%20%20%20%3Cul%3E%20%20%20%20%20%20%20%20%20%20%20%20%20%3Cli%3E%3Cstrong%3EID%3A%20%3C/strong%3E717%3C/li%3E%20%20%20%20%20%20%20%20%20%20%20%20%20%3Cli%3E%3Cstrong%3ESource%3A%20%3C/strong%3EHenderson%20P%26C%20%2387%3C/li%3E%20%20%20%20%20%20%20%20%20%20%20%20%20%3Cli%3E%3Cstrong%3EOccupation%3A%20%3C/strong%3EMona%20Catarina%2C%20moglie%20gia%20di%20ser%20Giovanni%20Simoni%3C/li%3E%20%20%20%20%20%20%20%20%20%3Cul%3E%20%20%20%20%20%3C/div%3E%60%29%5B0%5D%3B%0A%20%20%20%20%20%20%20%20%20%20%20%20%20%20%20%20popup_e6afebd8092f40558cd3f45de6ce3433.setContent%28html_818af1899f3a4ad09ff07ed8e25a7bdb%29%3B%0A%20%20%20%20%20%20%20%20%20%20%20%20%0A%0A%20%20%20%20%20%20%20%20%20%20%20%20marker_f2f685cb8f264630905e75fe391d6713.bindPopup%28popup_e6afebd8092f40558cd3f45de6ce3433%29%0A%20%20%20%20%20%20%20%20%20%20%20%20%3B%0A%0A%20%20%20%20%20%20%20%20%20%20%20%20%0A%20%20%20%20%20%20%20%20%0A%20%20%20%20%0A%20%20%20%20%20%20%20%20var%20marker_f456d414ca1b4cb5b7feb911977ed2de%20%3D%20L.marker%28%0A%20%20%20%20%20%20%20%20%20%20%20%20%5B43.775658%2C%2011.25233071%5D%2C%0A%20%20%20%20%20%20%20%20%20%20%20%20%7B%0A%20%20%20%20%20%20%20%20%20%20%20%20%20%20%20%20icon%3A%20new%20L.Icon.Default%28%29%2C%0A%20%20%20%20%20%20%20%20%20%20%20%20%20%20%20%20%7D%0A%20%20%20%20%20%20%20%20%20%20%20%20%29.addTo%28map_146cd8147123498484976a07e362f27f%29%3B%0A%20%20%20%20%20%20%20%20%0A%20%20%20%20%0A%20%20%20%20%20%20%20%20%20%20%20%20var%20popup_0c77835f50d44a5489034081145cfcec%20%3D%20L.popup%28%7BmaxWidth%3A%20%27100%25%27%0A%20%20%20%20%20%20%20%20%20%20%20%20%0A%20%20%20%20%20%20%20%20%20%20%20%20%7D%29%3B%0A%0A%20%20%20%20%20%20%20%20%20%20%20%20%0A%20%20%20%20%20%20%20%20%20%20%20%20%20%20%20%20var%20html_0b8b70b27a084919910471170aacd6ec%20%3D%20%24%28%60%3Cdiv%20id%3D%22html_0b8b70b27a084919910471170aacd6ec%22%20style%3D%22width%3A%20100.0%25%3B%20height%3A%20100.0%25%3B%22%3E%20%20%20%20%20%20%20%20%20%3Cul%3E%20%20%20%20%20%20%20%20%20%20%20%20%20%3Cli%3E%3Cstrong%3EID%3A%20%3C/strong%3E245%3C/li%3E%20%20%20%20%20%20%20%20%20%20%20%20%20%3Cli%3E%3Cstrong%3ESource%3A%20%3C/strong%3EHenderson%20P%26C%20104%20%5Bvia%20S%20Jacopo%20in%20Campo%20Corbelino%5D%3C/li%3E%20%20%20%20%20%20%20%20%20%20%20%20%20%3Cli%3E%3Cstrong%3EOccupation%3A%20%3C/strong%3EGirolamo%20di%20Domenico%20da%20Mantova%3C/li%3E%20%20%20%20%20%20%20%20%20%3Cul%3E%20%20%20%20%20%3C/div%3E%60%29%5B0%5D%3B%0A%20%20%20%20%20%20%20%20%20%20%20%20%20%20%20%20popup_0c77835f50d44a5489034081145cfcec.setContent%28html_0b8b70b27a084919910471170aacd6ec%29%3B%0A%20%20%20%20%20%20%20%20%20%20%20%20%0A%0A%20%20%20%20%20%20%20%20%20%20%20%20marker_f456d414ca1b4cb5b7feb911977ed2de.bindPopup%28popup_0c77835f50d44a5489034081145cfcec%29%0A%20%20%20%20%20%20%20%20%20%20%20%20%3B%0A%0A%20%20%20%20%20%20%20%20%20%20%20%20%0A%20%20%20%20%20%20%20%20%0A%20%20%20%20%0A%20%20%20%20%20%20%20%20var%20marker_32a04ad919884ee4b929f9fe2a31ff9d%20%3D%20L.marker%28%0A%20%20%20%20%20%20%20%20%20%20%20%20%5B43.76999571%2C%2011.26450286%5D%2C%0A%20%20%20%20%20%20%20%20%20%20%20%20%7B%0A%20%20%20%20%20%20%20%20%20%20%20%20%20%20%20%20icon%3A%20new%20L.Icon.Default%28%29%2C%0A%20%20%20%20%20%20%20%20%20%20%20%20%20%20%20%20%7D%0A%20%20%20%20%20%20%20%20%20%20%20%20%29.addTo%28map_146cd8147123498484976a07e362f27f%29%3B%0A%20%20%20%20%20%20%20%20%0A%20%20%20%20%0A%20%20%20%20%20%20%20%20%20%20%20%20var%20popup_aa5c06ec9cba447c971ddff4991ffabc%20%3D%20L.popup%28%7BmaxWidth%3A%20%27100%25%27%0A%20%20%20%20%20%20%20%20%20%20%20%20%0A%20%20%20%20%20%20%20%20%20%20%20%20%7D%29%3B%0A%0A%20%20%20%20%20%20%20%20%20%20%20%20%0A%20%20%20%20%20%20%20%20%20%20%20%20%20%20%20%20var%20html_5710f226640640ecbb69c0b925e4d5f7%20%3D%20%24%28%60%3Cdiv%20id%3D%22html_5710f226640640ecbb69c0b925e4d5f7%22%20style%3D%22width%3A%20100.0%25%3B%20height%3A%20100.0%25%3B%22%3E%20%20%20%20%20%20%20%20%20%3Cul%3E%20%20%20%20%20%20%20%20%20%20%20%20%20%3Cli%3E%3Cstrong%3EID%3A%20%3C/strong%3E3291%3C/li%3E%20%20%20%20%20%20%20%20%20%20%20%20%20%3Cli%3E%3Cstrong%3ESource%3A%20%3C/strong%3EHenderson%20P%26C%20%23113%20%5Baddress%5D%3C/li%3E%20%20%20%20%20%20%20%20%20%20%20%20%20%3Cli%3E%3Cstrong%3EOccupation%3A%20%3C/strong%3EMona%20Gentile%2C%20donna%20gia%20di%20Francesco%20da%20Gobbio%3C/li%3E%20%20%20%20%20%20%20%20%20%3Cul%3E%20%20%20%20%20%3C/div%3E%60%29%5B0%5D%3B%0A%20%20%20%20%20%20%20%20%20%20%20%20%20%20%20%20popup_aa5c06ec9cba447c971ddff4991ffabc.setContent%28html_5710f226640640ecbb69c0b925e4d5f7%29%3B%0A%20%20%20%20%20%20%20%20%20%20%20%20%0A%0A%20%20%20%20%20%20%20%20%20%20%20%20marker_32a04ad919884ee4b929f9fe2a31ff9d.bindPopup%28popup_aa5c06ec9cba447c971ddff4991ffabc%29%0A%20%20%20%20%20%20%20%20%20%20%20%20%3B%0A%0A%20%20%20%20%20%20%20%20%20%20%20%20%0A%20%20%20%20%20%20%20%20%0A%20%20%20%20%0A%20%20%20%20%20%20%20%20var%20marker_1f4774a945bc48e2a96509cdf628a21a%20%3D%20L.marker%28%0A%20%20%20%20%20%20%20%20%20%20%20%20%5B43.777678%2C%2011.25840717%5D%2C%0A%20%20%20%20%20%20%20%20%20%20%20%20%7B%0A%20%20%20%20%20%20%20%20%20%20%20%20%20%20%20%20icon%3A%20new%20L.Icon.Default%28%29%2C%0A%20%20%20%20%20%20%20%20%20%20%20%20%20%20%20%20%7D%0A%20%20%20%20%20%20%20%20%20%20%20%20%29.addTo%28map_146cd8147123498484976a07e362f27f%29%3B%0A%20%20%20%20%20%20%20%20%0A%20%20%20%20%0A%20%20%20%20%20%20%20%20%20%20%20%20var%20popup_c8a4c63ae1df4486b89e1474a3ff5787%20%3D%20L.popup%28%7BmaxWidth%3A%20%27100%25%27%0A%20%20%20%20%20%20%20%20%20%20%20%20%0A%20%20%20%20%20%20%20%20%20%20%20%20%7D%29%3B%0A%0A%20%20%20%20%20%20%20%20%20%20%20%20%0A%20%20%20%20%20%20%20%20%20%20%20%20%20%20%20%20var%20html_d68846ddcb4744208c527cac15126c46%20%3D%20%24%28%60%3Cdiv%20id%3D%22html_d68846ddcb4744208c527cac15126c46%22%20style%3D%22width%3A%20100.0%25%3B%20height%3A%20100.0%25%3B%22%3E%20%20%20%20%20%20%20%20%20%3Cul%3E%20%20%20%20%20%20%20%20%20%20%20%20%20%3Cli%3E%3Cstrong%3EID%3A%20%3C/strong%3E1429%3C/li%3E%20%20%20%20%20%20%20%20%20%20%20%20%20%3Cli%3E%3Cstrong%3ESource%3A%20%3C/strong%3EHenderson%20P%26C%20%23113%20%5Baddress%5D%3C/li%3E%20%20%20%20%20%20%20%20%20%20%20%20%20%3Cli%3E%3Cstrong%3EOccupation%3A%20%3C/strong%3ERaffaello%20di%20Pellegrino%20Bartoli%3C/li%3E%20%20%20%20%20%20%20%20%20%3Cul%3E%20%20%20%20%20%3C/div%3E%60%29%5B0%5D%3B%0A%20%20%20%20%20%20%20%20%20%20%20%20%20%20%20%20popup_c8a4c63ae1df4486b89e1474a3ff5787.setContent%28html_d68846ddcb4744208c527cac15126c46%29%3B%0A%20%20%20%20%20%20%20%20%20%20%20%20%0A%0A%20%20%20%20%20%20%20%20%20%20%20%20marker_1f4774a945bc48e2a96509cdf628a21a.bindPopup%28popup_c8a4c63ae1df4486b89e1474a3ff5787%29%0A%20%20%20%20%20%20%20%20%20%20%20%20%3B%0A%0A%20%20%20%20%20%20%20%20%20%20%20%20%0A%20%20%20%20%20%20%20%20%0A%20%20%20%20%0A%20%20%20%20%20%20%20%20var%20marker_424b5ff5ae234fbe9ae42ab4a4a88545%20%3D%20L.marker%28%0A%20%20%20%20%20%20%20%20%20%20%20%20%5B43.76985%2C%2011.2661425%5D%2C%0A%20%20%20%20%20%20%20%20%20%20%20%20%7B%0A%20%20%20%20%20%20%20%20%20%20%20%20%20%20%20%20icon%3A%20new%20L.Icon.Default%28%29%2C%0A%20%20%20%20%20%20%20%20%20%20%20%20%20%20%20%20%7D%0A%20%20%20%20%20%20%20%20%20%20%20%20%29.addTo%28map_146cd8147123498484976a07e362f27f%29%3B%0A%20%20%20%20%20%20%20%20%0A%20%20%20%20%0A%20%20%20%20%20%20%20%20%20%20%20%20var%20popup_0aaca79e9a5f48b2b08ce54ce9ede43a%20%3D%20L.popup%28%7BmaxWidth%3A%20%27100%25%27%0A%20%20%20%20%20%20%20%20%20%20%20%20%0A%20%20%20%20%20%20%20%20%20%20%20%20%7D%29%3B%0A%0A%20%20%20%20%20%20%20%20%20%20%20%20%0A%20%20%20%20%20%20%20%20%20%20%20%20%20%20%20%20var%20html_134c946f0cb7415da7cb1bdce5a68fd9%20%3D%20%24%28%60%3Cdiv%20id%3D%22html_134c946f0cb7415da7cb1bdce5a68fd9%22%20style%3D%22width%3A%20100.0%25%3B%20height%3A%20100.0%25%3B%22%3E%20%20%20%20%20%20%20%20%20%3Cul%3E%20%20%20%20%20%20%20%20%20%20%20%20%20%3Cli%3E%3Cstrong%3EID%3A%20%3C/strong%3E3025%3C/li%3E%20%20%20%20%20%20%20%20%20%20%20%20%20%3Cli%3E%3Cstrong%3ESource%3A%20%3C/strong%3EHenderson%20P%26C%20%23121%3F%20%20All%205%20these%20contiguous%20-%20by%20modern%20S.%20Ambrogio%20market%20on%20Via%20Visdomini%20where%20there%20was%20a%20ruined%20casolare%3C/li%3E%20%20%20%20%20%20%20%20%20%20%20%20%20%3Cli%3E%3Cstrong%3EOccupation%3A%20%3C/strong%3EMona%20Maria%20Francesca%20di%20Batista%3C/li%3E%20%20%20%20%20%20%20%20%20%3Cul%3E%20%20%20%20%20%3C/div%3E%60%29%5B0%5D%3B%0A%20%20%20%20%20%20%20%20%20%20%20%20%20%20%20%20popup_0aaca79e9a5f48b2b08ce54ce9ede43a.setContent%28html_134c946f0cb7415da7cb1bdce5a68fd9%29%3B%0A%20%20%20%20%20%20%20%20%20%20%20%20%0A%0A%20%20%20%20%20%20%20%20%20%20%20%20marker_424b5ff5ae234fbe9ae42ab4a4a88545.bindPopup%28popup_0aaca79e9a5f48b2b08ce54ce9ede43a%29%0A%20%20%20%20%20%20%20%20%20%20%20%20%3B%0A%0A%20%20%20%20%20%20%20%20%20%20%20%20%0A%20%20%20%20%20%20%20%20%0A%20%20%20%20%0A%20%20%20%20%20%20%20%20var%20marker_15c562701dd848c59dfc665bc3157d3a%20%3D%20L.marker%28%0A%20%20%20%20%20%20%20%20%20%20%20%20%5B43.76976%2C%2011.266095%5D%2C%0A%20%20%20%20%20%20%20%20%20%20%20%20%7B%0A%20%20%20%20%20%20%20%20%20%20%20%20%20%20%20%20icon%3A%20new%20L.Icon.Default%28%29%2C%0A%20%20%20%20%20%20%20%20%20%20%20%20%20%20%20%20%7D%0A%20%20%20%20%20%20%20%20%20%20%20%20%29.addTo%28map_146cd8147123498484976a07e362f27f%29%3B%0A%20%20%20%20%20%20%20%20%0A%20%20%20%20%0A%20%20%20%20%20%20%20%20%20%20%20%20var%20popup_967a3500d262428f90ef5d6f784ef432%20%3D%20L.popup%28%7BmaxWidth%3A%20%27100%25%27%0A%20%20%20%20%20%20%20%20%20%20%20%20%0A%20%20%20%20%20%20%20%20%20%20%20%20%7D%29%3B%0A%0A%20%20%20%20%20%20%20%20%20%20%20%20%0A%20%20%20%20%20%20%20%20%20%20%20%20%20%20%20%20var%20html_6705290e760046bc9919a1e3b0e47ba2%20%3D%20%24%28%60%3Cdiv%20id%3D%22html_6705290e760046bc9919a1e3b0e47ba2%22%20style%3D%22width%3A%20100.0%25%3B%20height%3A%20100.0%25%3B%22%3E%20%20%20%20%20%20%20%20%20%3Cul%3E%20%20%20%20%20%20%20%20%20%20%20%20%20%3Cli%3E%3Cstrong%3EID%3A%20%3C/strong%3E3044%3C/li%3E%20%20%20%20%20%20%20%20%20%20%20%20%20%3Cli%3E%3Cstrong%3ESource%3A%20%3C/strong%3EHenderson%20P%26C%20%23121%3F%20-%20All%205%20these%20contiguous%20-%20by%20modern%20S.%20Ambrogio%20market%20on%20Via%20Visdomini%20where%20there%20was%20a%20ruined%20casolare%3C/li%3E%20%20%20%20%20%20%20%20%20%20%20%20%20%3Cli%3E%3Cstrong%3EOccupation%3A%20%3C/strong%3EMona%20Lucretia%20di%20Bolognese%3C/li%3E%20%20%20%20%20%20%20%20%20%3Cul%3E%20%20%20%20%20%3C/div%3E%60%29%5B0%5D%3B%0A%20%20%20%20%20%20%20%20%20%20%20%20%20%20%20%20popup_967a3500d262428f90ef5d6f784ef432.setContent%28html_6705290e760046bc9919a1e3b0e47ba2%29%3B%0A%20%20%20%20%20%20%20%20%20%20%20%20%0A%0A%20%20%20%20%20%20%20%20%20%20%20%20marker_15c562701dd848c59dfc665bc3157d3a.bindPopup%28popup_967a3500d262428f90ef5d6f784ef432%29%0A%20%20%20%20%20%20%20%20%20%20%20%20%3B%0A%0A%20%20%20%20%20%20%20%20%20%20%20%20%0A%20%20%20%20%20%20%20%20%0A%20%20%20%20%0A%20%20%20%20%20%20%20%20var%20marker_2ee70fc84c044473ac087d0a6c162605%20%3D%20L.marker%28%0A%20%20%20%20%20%20%20%20%20%20%20%20%5B43.76967%2C%2011.2660475%5D%2C%0A%20%20%20%20%20%20%20%20%20%20%20%20%7B%0A%20%20%20%20%20%20%20%20%20%20%20%20%20%20%20%20icon%3A%20new%20L.Icon.Default%28%29%2C%0A%20%20%20%20%20%20%20%20%20%20%20%20%20%20%20%20%7D%0A%20%20%20%20%20%20%20%20%20%20%20%20%29.addTo%28map_146cd8147123498484976a07e362f27f%29%3B%0A%20%20%20%20%20%20%20%20%0A%20%20%20%20%0A%20%20%20%20%20%20%20%20%20%20%20%20var%20popup_b1baffcb71cc4d5cae45473cb0670ff8%20%3D%20L.popup%28%7BmaxWidth%3A%20%27100%25%27%0A%20%20%20%20%20%20%20%20%20%20%20%20%0A%20%20%20%20%20%20%20%20%20%20%20%20%7D%29%3B%0A%0A%20%20%20%20%20%20%20%20%20%20%20%20%0A%20%20%20%20%20%20%20%20%20%20%20%20%20%20%20%20var%20html_289f1245b7db46d9be1f21de5f7d73d8%20%3D%20%24%28%60%3Cdiv%20id%3D%22html_289f1245b7db46d9be1f21de5f7d73d8%22%20style%3D%22width%3A%20100.0%25%3B%20height%3A%20100.0%25%3B%22%3E%20%20%20%20%20%20%20%20%20%3Cul%3E%20%20%20%20%20%20%20%20%20%20%20%20%20%3Cli%3E%3Cstrong%3EID%3A%20%3C/strong%3E3082%3C/li%3E%20%20%20%20%20%20%20%20%20%20%20%20%20%3Cli%3E%3Cstrong%3ESource%3A%20%3C/strong%3EHenderson%20P%26C%20%23121%3F%20-%20All%205%20these%20contiguous%20-%20by%20modern%20S.%20Ambrogio%20market%20on%20Via%20Visdomini%20where%20there%20was%20a%20ruined%20casolare%3C/li%3E%20%20%20%20%20%20%20%20%20%20%20%20%20%3Cli%3E%3Cstrong%3EOccupation%3A%20%3C/strong%3EMona%20Bridia%20di%20Fiorentino%3C/li%3E%20%20%20%20%20%20%20%20%20%3Cul%3E%20%20%20%20%20%3C/div%3E%60%29%5B0%5D%3B%0A%20%20%20%20%20%20%20%20%20%20%20%20%20%20%20%20popup_b1baffcb71cc4d5cae45473cb0670ff8.setContent%28html_289f1245b7db46d9be1f21de5f7d73d8%29%3B%0A%20%20%20%20%20%20%20%20%20%20%20%20%0A%0A%20%20%20%20%20%20%20%20%20%20%20%20marker_2ee70fc84c044473ac087d0a6c162605.bindPopup%28popup_b1baffcb71cc4d5cae45473cb0670ff8%29%0A%20%20%20%20%20%20%20%20%20%20%20%20%3B%0A%0A%20%20%20%20%20%20%20%20%20%20%20%20%0A%20%20%20%20%20%20%20%20%0A%20%20%20%20%0A%20%20%20%20%20%20%20%20var%20marker_b0730e34da9946438bb1c389e50357b3%20%3D%20L.marker%28%0A%20%20%20%20%20%20%20%20%20%20%20%20%5B43.76958%2C%2011.266%5D%2C%0A%20%20%20%20%20%20%20%20%20%20%20%20%7B%0A%20%20%20%20%20%20%20%20%20%20%20%20%20%20%20%20icon%3A%20new%20L.Icon.Default%28%29%2C%0A%20%20%20%20%20%20%20%20%20%20%20%20%20%20%20%20%7D%0A%20%20%20%20%20%20%20%20%20%20%20%20%29.addTo%28map_146cd8147123498484976a07e362f27f%29%3B%0A%20%20%20%20%20%20%20%20%0A%20%20%20%20%0A%20%20%20%20%20%20%20%20%20%20%20%20var%20popup_1a0d78556ebb449f8bd6028c2b1da6ae%20%3D%20L.popup%28%7BmaxWidth%3A%20%27100%25%27%0A%20%20%20%20%20%20%20%20%20%20%20%20%0A%20%20%20%20%20%20%20%20%20%20%20%20%7D%29%3B%0A%0A%20%20%20%20%20%20%20%20%20%20%20%20%0A%20%20%20%20%20%20%20%20%20%20%20%20%20%20%20%20var%20html_503522d7b78d413a8ff176e85043d73e%20%3D%20%24%28%60%3Cdiv%20id%3D%22html_503522d7b78d413a8ff176e85043d73e%22%20style%3D%22width%3A%20100.0%25%3B%20height%3A%20100.0%25%3B%22%3E%20%20%20%20%20%20%20%20%20%3Cul%3E%20%20%20%20%20%20%20%20%20%20%20%20%20%3Cli%3E%3Cstrong%3EID%3A%20%3C/strong%3E3083%3C/li%3E%20%20%20%20%20%20%20%20%20%20%20%20%20%3Cli%3E%3Cstrong%3ESource%3A%20%3C/strong%3EHenderson%20P%26C%20%23121%3F%20-%20All%205%20these%20contiguous%20-%20by%20modern%20S.%20Ambrogio%20market%20on%20Via%20Visdomini%20where%20there%20was%20a%20ruined%20casolare%3C/li%3E%20%20%20%20%20%20%20%20%20%20%20%20%20%3Cli%3E%3Cstrong%3EOccupation%3A%20%3C/strong%3EBaccino%20di%20messer%20Jacopo%2C%20muratore%3C/li%3E%20%20%20%20%20%20%20%20%20%3Cul%3E%20%20%20%20%20%3C/div%3E%60%29%5B0%5D%3B%0A%20%20%20%20%20%20%20%20%20%20%20%20%20%20%20%20popup_1a0d78556ebb449f8bd6028c2b1da6ae.setContent%28html_503522d7b78d413a8ff176e85043d73e%29%3B%0A%20%20%20%20%20%20%20%20%20%20%20%20%0A%0A%20%20%20%20%20%20%20%20%20%20%20%20marker_b0730e34da9946438bb1c389e50357b3.bindPopup%28popup_1a0d78556ebb449f8bd6028c2b1da6ae%29%0A%20%20%20%20%20%20%20%20%20%20%20%20%3B%0A%0A%20%20%20%20%20%20%20%20%20%20%20%20%0A%20%20%20%20%20%20%20%20%0A%20%20%20%20%0A%20%20%20%20%20%20%20%20var%20marker_21738e05be334ca494caee521e259fbf%20%3D%20L.marker%28%0A%20%20%20%20%20%20%20%20%20%20%20%20%5B43.76994%2C%2011.26619%5D%2C%0A%20%20%20%20%20%20%20%20%20%20%20%20%7B%0A%20%20%20%20%20%20%20%20%20%20%20%20%20%20%20%20icon%3A%20new%20L.Icon.Default%28%29%2C%0A%20%20%20%20%20%20%20%20%20%20%20%20%20%20%20%20%7D%0A%20%20%20%20%20%20%20%20%20%20%20%20%29.addTo%28map_146cd8147123498484976a07e362f27f%29%3B%0A%20%20%20%20%20%20%20%20%0A%20%20%20%20%0A%20%20%20%20%20%20%20%20%20%20%20%20var%20popup_0ecd7b4296cd4f2c97480885bfc5fdb6%20%3D%20L.popup%28%7BmaxWidth%3A%20%27100%25%27%0A%20%20%20%20%20%20%20%20%20%20%20%20%0A%20%20%20%20%20%20%20%20%20%20%20%20%7D%29%3B%0A%0A%20%20%20%20%20%20%20%20%20%20%20%20%0A%20%20%20%20%20%20%20%20%20%20%20%20%20%20%20%20var%20html_36d1953ce1b44ea2b93ea1485b7501ef%20%3D%20%24%28%60%3Cdiv%20id%3D%22html_36d1953ce1b44ea2b93ea1485b7501ef%22%20style%3D%22width%3A%20100.0%25%3B%20height%3A%20100.0%25%3B%22%3E%20%20%20%20%20%20%20%20%20%3Cul%3E%20%20%20%20%20%20%20%20%20%20%20%20%20%3Cli%3E%3Cstrong%3EID%3A%20%3C/strong%3E3116%3C/li%3E%20%20%20%20%20%20%20%20%20%20%20%20%20%3Cli%3E%3Cstrong%3ESource%3A%20%3C/strong%3EHenderson%20P%26C%20%23121%3F%20-%20All%205%20these%20contiguous%20-%20by%20modern%20S.%20Ambrogio%20market%20on%20Via%20Visdomini%20where%20there%20was%20a%20ruined%20casolare%3C/li%3E%20%20%20%20%20%20%20%20%20%20%20%20%20%3Cli%3E%3Cstrong%3EOccupation%3A%20%3C/strong%3Enan%3C/li%3E%20%20%20%20%20%20%20%20%20%3Cul%3E%20%20%20%20%20%3C/div%3E%60%29%5B0%5D%3B%0A%20%20%20%20%20%20%20%20%20%20%20%20%20%20%20%20popup_0ecd7b4296cd4f2c97480885bfc5fdb6.setContent%28html_36d1953ce1b44ea2b93ea1485b7501ef%29%3B%0A%20%20%20%20%20%20%20%20%20%20%20%20%0A%0A%20%20%20%20%20%20%20%20%20%20%20%20marker_21738e05be334ca494caee521e259fbf.bindPopup%28popup_0ecd7b4296cd4f2c97480885bfc5fdb6%29%0A%20%20%20%20%20%20%20%20%20%20%20%20%3B%0A%0A%20%20%20%20%20%20%20%20%20%20%20%20%0A%20%20%20%20%20%20%20%20%0A%20%20%20%20%0A%20%20%20%20%20%20%20%20var%20marker_2ea00086290641aa8666efe70319de81%20%3D%20L.marker%28%0A%20%20%20%20%20%20%20%20%20%20%20%20%5B43.7731525%2C%2011.24989%5D%2C%0A%20%20%20%20%20%20%20%20%20%20%20%20%7B%0A%20%20%20%20%20%20%20%20%20%20%20%20%20%20%20%20icon%3A%20new%20L.Icon.Default%28%29%2C%0A%20%20%20%20%20%20%20%20%20%20%20%20%20%20%20%20%7D%0A%20%20%20%20%20%20%20%20%20%20%20%20%29.addTo%28map_146cd8147123498484976a07e362f27f%29%3B%0A%20%20%20%20%20%20%20%20%0A%20%20%20%20%0A%20%20%20%20%20%20%20%20%20%20%20%20var%20popup_52e657fd9aa743f68374d8e6cd33824e%20%3D%20L.popup%28%7BmaxWidth%3A%20%27100%25%27%0A%20%20%20%20%20%20%20%20%20%20%20%20%0A%20%20%20%20%20%20%20%20%20%20%20%20%7D%29%3B%0A%0A%20%20%20%20%20%20%20%20%20%20%20%20%0A%20%20%20%20%20%20%20%20%20%20%20%20%20%20%20%20var%20html_801fc8ee466e4143b8f30e7c40db1ecb%20%3D%20%24%28%60%3Cdiv%20id%3D%22html_801fc8ee466e4143b8f30e7c40db1ecb%22%20style%3D%22width%3A%20100.0%25%3B%20height%3A%20100.0%25%3B%22%3E%20%20%20%20%20%20%20%20%20%3Cul%3E%20%20%20%20%20%20%20%20%20%20%20%20%20%3Cli%3E%3Cstrong%3EID%3A%20%3C/strong%3E5751%3C/li%3E%20%20%20%20%20%20%20%20%20%20%20%20%20%3Cli%3E%3Cstrong%3ESource%3A%20%3C/strong%3EIn%20Piazza%20S%20Maria%20Novella%3B%20near%20one%20of%20S.%20Paolo%20Martire%3C/li%3E%20%20%20%20%20%20%20%20%20%20%20%20%20%3Cli%3E%3Cstrong%3EOccupation%3A%20%3C/strong%3Enan%3C/li%3E%20%20%20%20%20%20%20%20%20%3Cul%3E%20%20%20%20%20%3C/div%3E%60%29%5B0%5D%3B%0A%20%20%20%20%20%20%20%20%20%20%20%20%20%20%20%20popup_52e657fd9aa743f68374d8e6cd33824e.setContent%28html_801fc8ee466e4143b8f30e7c40db1ecb%29%3B%0A%20%20%20%20%20%20%20%20%20%20%20%20%0A%0A%20%20%20%20%20%20%20%20%20%20%20%20marker_2ea00086290641aa8666efe70319de81.bindPopup%28popup_52e657fd9aa743f68374d8e6cd33824e%29%0A%20%20%20%20%20%20%20%20%20%20%20%20%3B%0A%0A%20%20%20%20%20%20%20%20%20%20%20%20%0A%20%20%20%20%20%20%20%20%0A%20%20%20%20%0A%20%20%20%20%20%20%20%20var%20marker_8ea6119ad85840f3a0f0611598af84cb%20%3D%20L.marker%28%0A%20%20%20%20%20%20%20%20%20%20%20%20%5B43.777146%2C%2011.253746%5D%2C%0A%20%20%20%20%20%20%20%20%20%20%20%20%7B%0A%20%20%20%20%20%20%20%20%20%20%20%20%20%20%20%20icon%3A%20new%20L.Icon.Default%28%29%2C%0A%20%20%20%20%20%20%20%20%20%20%20%20%20%20%20%20%7D%0A%20%20%20%20%20%20%20%20%20%20%20%20%29.addTo%28map_146cd8147123498484976a07e362f27f%29%3B%0A%20%20%20%20%20%20%20%20%0A%20%20%20%20%0A%20%20%20%20%20%20%20%20%20%20%20%20var%20popup_1817b0a8fdd24bfa9a8674dfd42833de%20%3D%20L.popup%28%7BmaxWidth%3A%20%27100%25%27%0A%20%20%20%20%20%20%20%20%20%20%20%20%0A%20%20%20%20%20%20%20%20%20%20%20%20%7D%29%3B%0A%0A%20%20%20%20%20%20%20%20%20%20%20%20%0A%20%20%20%20%20%20%20%20%20%20%20%20%20%20%20%20var%20html_b1fa0c35122943cd93e98e61d8198ba4%20%3D%20%24%28%60%3Cdiv%20id%3D%22html_b1fa0c35122943cd93e98e61d8198ba4%22%20style%3D%22width%3A%20100.0%25%3B%20height%3A%20100.0%25%3B%22%3E%20%20%20%20%20%20%20%20%20%3Cul%3E%20%20%20%20%20%20%20%20%20%20%20%20%20%3Cli%3E%3Cstrong%3EID%3A%20%3C/strong%3E437%3C/li%3E%20%20%20%20%20%20%20%20%20%20%20%20%20%3Cli%3E%3Cstrong%3ESource%3A%20%3C/strong%3EHenderson%20P%26C%20%23138%3C/li%3E%20%20%20%20%20%20%20%20%20%20%20%20%20%3Cli%3E%3Cstrong%3EOccupation%3A%20%3C/strong%3EAntonio%20di%20Lazzero%20di%20d%27%20Antonio%3C/li%3E%20%20%20%20%20%20%20%20%20%3Cul%3E%20%20%20%20%20%3C/div%3E%60%29%5B0%5D%3B%0A%20%20%20%20%20%20%20%20%20%20%20%20%20%20%20%20popup_1817b0a8fdd24bfa9a8674dfd42833de.setContent%28html_b1fa0c35122943cd93e98e61d8198ba4%29%3B%0A%20%20%20%20%20%20%20%20%20%20%20%20%0A%0A%20%20%20%20%20%20%20%20%20%20%20%20marker_8ea6119ad85840f3a0f0611598af84cb.bindPopup%28popup_1817b0a8fdd24bfa9a8674dfd42833de%29%0A%20%20%20%20%20%20%20%20%20%20%20%20%3B%0A%0A%20%20%20%20%20%20%20%20%20%20%20%20%0A%20%20%20%20%20%20%20%20%0A%20%20%20%20%0A%20%20%20%20%20%20%20%20var%20marker_6dc5a47dad8940d89aa35a9a982fec54%20%3D%20L.marker%28%0A%20%20%20%20%20%20%20%20%20%20%20%20%5B43.775512%2C%2011.2525135%5D%2C%0A%20%20%20%20%20%20%20%20%20%20%20%20%7B%0A%20%20%20%20%20%20%20%20%20%20%20%20%20%20%20%20icon%3A%20new%20L.Icon.Default%28%29%2C%0A%20%20%20%20%20%20%20%20%20%20%20%20%20%20%20%20%7D%0A%20%20%20%20%20%20%20%20%20%20%20%20%29.addTo%28map_146cd8147123498484976a07e362f27f%29%3B%0A%20%20%20%20%20%20%20%20%0A%20%20%20%20%0A%20%20%20%20%20%20%20%20%20%20%20%20var%20popup_2edc04e6ecda40189f97356b7fa4bd7f%20%3D%20L.popup%28%7BmaxWidth%3A%20%27100%25%27%0A%20%20%20%20%20%20%20%20%20%20%20%20%0A%20%20%20%20%20%20%20%20%20%20%20%20%7D%29%3B%0A%0A%20%20%20%20%20%20%20%20%20%20%20%20%0A%20%20%20%20%20%20%20%20%20%20%20%20%20%20%20%20var%20html_86654be4b4314f9c8a5d51e024809880%20%3D%20%24%28%60%3Cdiv%20id%3D%22html_86654be4b4314f9c8a5d51e024809880%22%20style%3D%22width%3A%20100.0%25%3B%20height%3A%20100.0%25%3B%22%3E%20%20%20%20%20%20%20%20%20%3Cul%3E%20%20%20%20%20%20%20%20%20%20%20%20%20%3Cli%3E%3Cstrong%3EID%3A%20%3C/strong%3E753%3C/li%3E%20%20%20%20%20%20%20%20%20%20%20%20%20%3Cli%3E%3Cstrong%3ESource%3A%20%3C/strong%3EHenderson%20P%26C%20%23138%3C/li%3E%20%20%20%20%20%20%20%20%20%20%20%20%20%3Cli%3E%3Cstrong%3EOccupation%3A%20%3C/strong%3EUlivieri%20de%20Guarana%2C%20cappellaio%3C/li%3E%20%20%20%20%20%20%20%20%20%3Cul%3E%20%20%20%20%20%3C/div%3E%60%29%5B0%5D%3B%0A%20%20%20%20%20%20%20%20%20%20%20%20%20%20%20%20popup_2edc04e6ecda40189f97356b7fa4bd7f.setContent%28html_86654be4b4314f9c8a5d51e024809880%29%3B%0A%20%20%20%20%20%20%20%20%20%20%20%20%0A%0A%20%20%20%20%20%20%20%20%20%20%20%20marker_6dc5a47dad8940d89aa35a9a982fec54.bindPopup%28popup_2edc04e6ecda40189f97356b7fa4bd7f%29%0A%20%20%20%20%20%20%20%20%20%20%20%20%3B%0A%0A%20%20%20%20%20%20%20%20%20%20%20%20%0A%20%20%20%20%20%20%20%20%0A%20%20%20%20%0A%20%20%20%20%20%20%20%20var%20marker_0426ab78c92a4647ad0199e99629f964%20%3D%20L.marker%28%0A%20%20%20%20%20%20%20%20%20%20%20%20%5B43.77555867%2C%2011.25144467%5D%2C%0A%20%20%20%20%20%20%20%20%20%20%20%20%7B%0A%20%20%20%20%20%20%20%20%20%20%20%20%20%20%20%20icon%3A%20new%20L.Icon.Default%28%29%2C%0A%20%20%20%20%20%20%20%20%20%20%20%20%20%20%20%20%7D%0A%20%20%20%20%20%20%20%20%20%20%20%20%29.addTo%28map_146cd8147123498484976a07e362f27f%29%3B%0A%20%20%20%20%20%20%20%20%0A%20%20%20%20%0A%20%20%20%20%20%20%20%20%20%20%20%20var%20popup_0d9ac5ad75954d429e903e7b15f68f84%20%3D%20L.popup%28%7BmaxWidth%3A%20%27100%25%27%0A%20%20%20%20%20%20%20%20%20%20%20%20%0A%20%20%20%20%20%20%20%20%20%20%20%20%7D%29%3B%0A%0A%20%20%20%20%20%20%20%20%20%20%20%20%0A%20%20%20%20%20%20%20%20%20%20%20%20%20%20%20%20var%20html_c873c8d814e54f5ca258b901ca938cd5%20%3D%20%24%28%60%3Cdiv%20id%3D%22html_c873c8d814e54f5ca258b901ca938cd5%22%20style%3D%22width%3A%20100.0%25%3B%20height%3A%20100.0%25%3B%22%3E%20%20%20%20%20%20%20%20%20%3Cul%3E%20%20%20%20%20%20%20%20%20%20%20%20%20%3Cli%3E%3Cstrong%3EID%3A%20%3C/strong%3E5701%3C/li%3E%20%20%20%20%20%20%20%20%20%20%20%20%20%3Cli%3E%3Cstrong%3ESource%3A%20%3C/strong%3EHenderson%20P%26C%20%23138%3C/li%3E%20%20%20%20%20%20%20%20%20%20%20%20%20%3Cli%3E%3Cstrong%3EOccupation%3A%20%3C/strong%3ERaffaello%20di%20Niccolo%20Ben%27intendi%3C/li%3E%20%20%20%20%20%20%20%20%20%3Cul%3E%20%20%20%20%20%3C/div%3E%60%29%5B0%5D%3B%0A%20%20%20%20%20%20%20%20%20%20%20%20%20%20%20%20popup_0d9ac5ad75954d429e903e7b15f68f84.setContent%28html_c873c8d814e54f5ca258b901ca938cd5%29%3B%0A%20%20%20%20%20%20%20%20%20%20%20%20%0A%0A%20%20%20%20%20%20%20%20%20%20%20%20marker_0426ab78c92a4647ad0199e99629f964.bindPopup%28popup_0d9ac5ad75954d429e903e7b15f68f84%29%0A%20%20%20%20%20%20%20%20%20%20%20%20%3B%0A%0A%20%20%20%20%20%20%20%20%20%20%20%20%0A%20%20%20%20%20%20%20%20%0A%20%20%20%20%0A%20%20%20%20%20%20%20%20var%20marker_eae3567358fc45ea87417c12e7839700%20%3D%20L.marker%28%0A%20%20%20%20%20%20%20%20%20%20%20%20%5B43.77542875%2C%2011.2513375%5D%2C%0A%20%20%20%20%20%20%20%20%20%20%20%20%7B%0A%20%20%20%20%20%20%20%20%20%20%20%20%20%20%20%20icon%3A%20new%20L.Icon.Default%28%29%2C%0A%20%20%20%20%20%20%20%20%20%20%20%20%20%20%20%20%7D%0A%20%20%20%20%20%20%20%20%20%20%20%20%29.addTo%28map_146cd8147123498484976a07e362f27f%29%3B%0A%20%20%20%20%20%20%20%20%0A%20%20%20%20%0A%20%20%20%20%20%20%20%20%20%20%20%20var%20popup_dc312ecd8cbd4dcf8354b3c7b84b140a%20%3D%20L.popup%28%7BmaxWidth%3A%20%27100%25%27%0A%20%20%20%20%20%20%20%20%20%20%20%20%0A%20%20%20%20%20%20%20%20%20%20%20%20%7D%29%3B%0A%0A%20%20%20%20%20%20%20%20%20%20%20%20%0A%20%20%20%20%20%20%20%20%20%20%20%20%20%20%20%20var%20html_bfafaca246e146978c89467603e8efff%20%3D%20%24%28%60%3Cdiv%20id%3D%22html_bfafaca246e146978c89467603e8efff%22%20style%3D%22width%3A%20100.0%25%3B%20height%3A%20100.0%25%3B%22%3E%20%20%20%20%20%20%20%20%20%3Cul%3E%20%20%20%20%20%20%20%20%20%20%20%20%20%3Cli%3E%3Cstrong%3EID%3A%20%3C/strong%3E5817%3C/li%3E%20%20%20%20%20%20%20%20%20%20%20%20%20%3Cli%3E%3Cstrong%3ESource%3A%20%3C/strong%3EHenderson%20P%26C%20%23138%3C/li%3E%20%20%20%20%20%20%20%20%20%20%20%20%20%3Cli%3E%3Cstrong%3EOccupation%3A%20%3C/strong%3EBernardo%20Gualberti%3C/li%3E%20%20%20%20%20%20%20%20%20%3Cul%3E%20%20%20%20%20%3C/div%3E%60%29%5B0%5D%3B%0A%20%20%20%20%20%20%20%20%20%20%20%20%20%20%20%20popup_dc312ecd8cbd4dcf8354b3c7b84b140a.setContent%28html_bfafaca246e146978c89467603e8efff%29%3B%0A%20%20%20%20%20%20%20%20%20%20%20%20%0A%0A%20%20%20%20%20%20%20%20%20%20%20%20marker_eae3567358fc45ea87417c12e7839700.bindPopup%28popup_dc312ecd8cbd4dcf8354b3c7b84b140a%29%0A%20%20%20%20%20%20%20%20%20%20%20%20%3B%0A%0A%20%20%20%20%20%20%20%20%20%20%20%20%0A%20%20%20%20%20%20%20%20%0A%20%20%20%20%0A%20%20%20%20%20%20%20%20var%20marker_86b117afc67a48c28b7202e501f21ba9%20%3D%20L.marker%28%0A%20%20%20%20%20%20%20%20%20%20%20%20%5B43.77470667%2C%2011.25044667%5D%2C%0A%20%20%20%20%20%20%20%20%20%20%20%20%7B%0A%20%20%20%20%20%20%20%20%20%20%20%20%20%20%20%20icon%3A%20new%20L.Icon.Default%28%29%2C%0A%20%20%20%20%20%20%20%20%20%20%20%20%20%20%20%20%7D%0A%20%20%20%20%20%20%20%20%20%20%20%20%29.addTo%28map_146cd8147123498484976a07e362f27f%29%3B%0A%20%20%20%20%20%20%20%20%0A%20%20%20%20%0A%20%20%20%20%20%20%20%20%20%20%20%20var%20popup_dbf384f0aee243928ef254d3c8f04b21%20%3D%20L.popup%28%7BmaxWidth%3A%20%27100%25%27%0A%20%20%20%20%20%20%20%20%20%20%20%20%0A%20%20%20%20%20%20%20%20%20%20%20%20%7D%29%3B%0A%0A%20%20%20%20%20%20%20%20%20%20%20%20%0A%20%20%20%20%20%20%20%20%20%20%20%20%20%20%20%20var%20html_a8e3726b7313460e833293f7013af9c5%20%3D%20%24%28%60%3Cdiv%20id%3D%22html_a8e3726b7313460e833293f7013af9c5%22%20style%3D%22width%3A%20100.0%25%3B%20height%3A%20100.0%25%3B%22%3E%20%20%20%20%20%20%20%20%20%3Cul%3E%20%20%20%20%20%20%20%20%20%20%20%20%20%3Cli%3E%3Cstrong%3EID%3A%20%3C/strong%3E5150%3C/li%3E%20%20%20%20%20%20%20%20%20%20%20%20%20%3Cli%3E%3Cstrong%3ESource%3A%20%3C/strong%3EHenderson%20P%26C%20%23138%3C/li%3E%20%20%20%20%20%20%20%20%20%20%20%20%20%3Cli%3E%3Cstrong%3EOccupation%3A%20%3C/strong%3EVettorio%20di%20Carlo%2C%20detto%20il%20capitano%20Becchino%3C/li%3E%20%20%20%20%20%20%20%20%20%3Cul%3E%20%20%20%20%20%3C/div%3E%60%29%5B0%5D%3B%0A%20%20%20%20%20%20%20%20%20%20%20%20%20%20%20%20popup_dbf384f0aee243928ef254d3c8f04b21.setContent%28html_a8e3726b7313460e833293f7013af9c5%29%3B%0A%20%20%20%20%20%20%20%20%20%20%20%20%0A%0A%20%20%20%20%20%20%20%20%20%20%20%20marker_86b117afc67a48c28b7202e501f21ba9.bindPopup%28popup_dbf384f0aee243928ef254d3c8f04b21%29%0A%20%20%20%20%20%20%20%20%20%20%20%20%3B%0A%0A%20%20%20%20%20%20%20%20%20%20%20%20%0A%20%20%20%20%20%20%20%20%0A%20%20%20%20%0A%20%20%20%20%20%20%20%20var%20marker_95be3f9ab2f54e679a7f43703a06a064%20%3D%20L.marker%28%0A%20%20%20%20%20%20%20%20%20%20%20%20%5B43.77730956%2C%2011.24912756%5D%2C%0A%20%20%20%20%20%20%20%20%20%20%20%20%7B%0A%20%20%20%20%20%20%20%20%20%20%20%20%20%20%20%20icon%3A%20new%20L.Icon.Default%28%29%2C%0A%20%20%20%20%20%20%20%20%20%20%20%20%20%20%20%20%7D%0A%20%20%20%20%20%20%20%20%20%20%20%20%29.addTo%28map_146cd8147123498484976a07e362f27f%29%3B%0A%20%20%20%20%20%20%20%20%0A%20%20%20%20%0A%20%20%20%20%20%20%20%20%20%20%20%20var%20popup_801419ae5540422d8ff3040fa8857525%20%3D%20L.popup%28%7BmaxWidth%3A%20%27100%25%27%0A%20%20%20%20%20%20%20%20%20%20%20%20%0A%20%20%20%20%20%20%20%20%20%20%20%20%7D%29%3B%0A%0A%20%20%20%20%20%20%20%20%20%20%20%20%0A%20%20%20%20%20%20%20%20%20%20%20%20%20%20%20%20var%20html_9b6667f14ac24c42872fd83753972471%20%3D%20%24%28%60%3Cdiv%20id%3D%22html_9b6667f14ac24c42872fd83753972471%22%20style%3D%22width%3A%20100.0%25%3B%20height%3A%20100.0%25%3B%22%3E%20%20%20%20%20%20%20%20%20%3Cul%3E%20%20%20%20%20%20%20%20%20%20%20%20%20%3Cli%3E%3Cstrong%3EID%3A%20%3C/strong%3E5287%3C/li%3E%20%20%20%20%20%20%20%20%20%20%20%20%20%3Cli%3E%3Cstrong%3ESource%3A%20%3C/strong%3EHenderson%20P%26C%20%23138%3C/li%3E%20%20%20%20%20%20%20%20%20%20%20%20%20%3Cli%3E%3Cstrong%3EOccupation%3A%20%3C/strong%3EMona%20Maddalena%2C%20pinzocara%20di%20Paulo%20Corso%3C/li%3E%20%20%20%20%20%20%20%20%20%3Cul%3E%20%20%20%20%20%3C/div%3E%60%29%5B0%5D%3B%0A%20%20%20%20%20%20%20%20%20%20%20%20%20%20%20%20popup_801419ae5540422d8ff3040fa8857525.setContent%28html_9b6667f14ac24c42872fd83753972471%29%3B%0A%20%20%20%20%20%20%20%20%20%20%20%20%0A%0A%20%20%20%20%20%20%20%20%20%20%20%20marker_95be3f9ab2f54e679a7f43703a06a064.bindPopup%28popup_801419ae5540422d8ff3040fa8857525%29%0A%20%20%20%20%20%20%20%20%20%20%20%20%3B%0A%0A%20%20%20%20%20%20%20%20%20%20%20%20%0A%20%20%20%20%20%20%20%20%0A%20%20%20%20%0A%20%20%20%20%20%20%20%20var%20marker_fc703570224446b4b9c87f4c4e6da6b4%20%3D%20L.marker%28%0A%20%20%20%20%20%20%20%20%20%20%20%20%5B43.76874225%2C%2011.24285775%5D%2C%0A%20%20%20%20%20%20%20%20%20%20%20%20%7B%0A%20%20%20%20%20%20%20%20%20%20%20%20%20%20%20%20icon%3A%20new%20L.Icon.Default%28%29%2C%0A%20%20%20%20%20%20%20%20%20%20%20%20%20%20%20%20%7D%0A%20%20%20%20%20%20%20%20%20%20%20%20%29.addTo%28map_146cd8147123498484976a07e362f27f%29%3B%0A%20%20%20%20%20%20%20%20%0A%20%20%20%20%0A%20%20%20%20%20%20%20%20%20%20%20%20var%20popup_61bed79c508c4ee3afbefd955fc2f573%20%3D%20L.popup%28%7BmaxWidth%3A%20%27100%25%27%0A%20%20%20%20%20%20%20%20%20%20%20%20%0A%20%20%20%20%20%20%20%20%20%20%20%20%7D%29%3B%0A%0A%20%20%20%20%20%20%20%20%20%20%20%20%0A%20%20%20%20%20%20%20%20%20%20%20%20%20%20%20%20var%20html_7d0a5689bfa04ed4a8fe98b70e7808b8%20%3D%20%24%28%60%3Cdiv%20id%3D%22html_7d0a5689bfa04ed4a8fe98b70e7808b8%22%20style%3D%22width%3A%20100.0%25%3B%20height%3A%20100.0%25%3B%22%3E%20%20%20%20%20%20%20%20%20%3Cul%3E%20%20%20%20%20%20%20%20%20%20%20%20%20%3Cli%3E%3Cstrong%3EID%3A%20%3C/strong%3E8290%3C/li%3E%20%20%20%20%20%20%20%20%20%20%20%20%20%3Cli%3E%3Cstrong%3ESource%3A%20%3C/strong%3Enan%3C/li%3E%20%20%20%20%20%20%20%20%20%20%20%20%20%3Cli%3E%3Cstrong%3EOccupation%3A%20%3C/strong%3ESimone%20di%20Lorenzo%20tintore%3C/li%3E%20%20%20%20%20%20%20%20%20%3Cul%3E%20%20%20%20%20%3C/div%3E%60%29%5B0%5D%3B%0A%20%20%20%20%20%20%20%20%20%20%20%20%20%20%20%20popup_61bed79c508c4ee3afbefd955fc2f573.setContent%28html_7d0a5689bfa04ed4a8fe98b70e7808b8%29%3B%0A%20%20%20%20%20%20%20%20%20%20%20%20%0A%0A%20%20%20%20%20%20%20%20%20%20%20%20marker_fc703570224446b4b9c87f4c4e6da6b4.bindPopup%28popup_61bed79c508c4ee3afbefd955fc2f573%29%0A%20%20%20%20%20%20%20%20%20%20%20%20%3B%0A%0A%20%20%20%20%20%20%20%20%20%20%20%20%0A%20%20%20%20%20%20%20%20%0A%20%20%20%20%0A%20%20%20%20%20%20%20%20var%20marker_845e4ce3dba844ef980c647b943db790%20%3D%20L.marker%28%0A%20%20%20%20%20%20%20%20%20%20%20%20%5B43.7699925%2C%2011.26581375%5D%2C%0A%20%20%20%20%20%20%20%20%20%20%20%20%7B%0A%20%20%20%20%20%20%20%20%20%20%20%20%20%20%20%20icon%3A%20new%20L.Icon.Default%28%29%2C%0A%20%20%20%20%20%20%20%20%20%20%20%20%20%20%20%20%7D%0A%20%20%20%20%20%20%20%20%20%20%20%20%29.addTo%28map_146cd8147123498484976a07e362f27f%29%3B%0A%20%20%20%20%20%20%20%20%0A%20%20%20%20%0A%20%20%20%20%20%20%20%20%20%20%20%20var%20popup_33fa68ba62354b0baa6d81e6dee14902%20%3D%20L.popup%28%7BmaxWidth%3A%20%27100%25%27%0A%20%20%20%20%20%20%20%20%20%20%20%20%0A%20%20%20%20%20%20%20%20%20%20%20%20%7D%29%3B%0A%0A%20%20%20%20%20%20%20%20%20%20%20%20%0A%20%20%20%20%20%20%20%20%20%20%20%20%20%20%20%20var%20html_ae057caf1b734177bb4c459df3b9780f%20%3D%20%24%28%60%3Cdiv%20id%3D%22html_ae057caf1b734177bb4c459df3b9780f%22%20style%3D%22width%3A%20100.0%25%3B%20height%3A%20100.0%25%3B%22%3E%20%20%20%20%20%20%20%20%20%3Cul%3E%20%20%20%20%20%20%20%20%20%20%20%20%20%3Cli%3E%3Cstrong%3EID%3A%20%3C/strong%3E3314%3C/li%3E%20%20%20%20%20%20%20%20%20%20%20%20%20%3Cli%3E%3Cstrong%3ESource%3A%20%3C/strong%3Enan%3C/li%3E%20%20%20%20%20%20%20%20%20%20%20%20%20%3Cli%3E%3Cstrong%3EOccupation%3A%20%3C/strong%3Enan%3C/li%3E%20%20%20%20%20%20%20%20%20%3Cul%3E%20%20%20%20%20%3C/div%3E%60%29%5B0%5D%3B%0A%20%20%20%20%20%20%20%20%20%20%20%20%20%20%20%20popup_33fa68ba62354b0baa6d81e6dee14902.setContent%28html_ae057caf1b734177bb4c459df3b9780f%29%3B%0A%20%20%20%20%20%20%20%20%20%20%20%20%0A%0A%20%20%20%20%20%20%20%20%20%20%20%20marker_845e4ce3dba844ef980c647b943db790.bindPopup%28popup_33fa68ba62354b0baa6d81e6dee14902%29%0A%20%20%20%20%20%20%20%20%20%20%20%20%3B%0A%0A%20%20%20%20%20%20%20%20%20%20%20%20%0A%20%20%20%20%20%20%20%20%0A%20%20%20%20%0A%20%20%20%20%20%20%20%20var%20marker_1582135e7ba5478a8d2266bec1d97150%20%3D%20L.marker%28%0A%20%20%20%20%20%20%20%20%20%20%20%20%5B43.77437253%2C%2011.25571973%5D%2C%0A%20%20%20%20%20%20%20%20%20%20%20%20%7B%0A%20%20%20%20%20%20%20%20%20%20%20%20%20%20%20%20icon%3A%20new%20L.Icon.Default%28%29%2C%0A%20%20%20%20%20%20%20%20%20%20%20%20%20%20%20%20%7D%0A%20%20%20%20%20%20%20%20%20%20%20%20%29.addTo%28map_146cd8147123498484976a07e362f27f%29%3B%0A%20%20%20%20%20%20%20%20%0A%20%20%20%20%0A%20%20%20%20%20%20%20%20%20%20%20%20var%20popup_1a9ce2ed28864547bb3748b5246bfd97%20%3D%20L.popup%28%7BmaxWidth%3A%20%27100%25%27%0A%20%20%20%20%20%20%20%20%20%20%20%20%0A%20%20%20%20%20%20%20%20%20%20%20%20%7D%29%3B%0A%0A%20%20%20%20%20%20%20%20%20%20%20%20%0A%20%20%20%20%20%20%20%20%20%20%20%20%20%20%20%20var%20html_1cc0bc761f764e9c9cb7211f152d3c23%20%3D%20%24%28%60%3Cdiv%20id%3D%22html_1cc0bc761f764e9c9cb7211f152d3c23%22%20style%3D%22width%3A%20100.0%25%3B%20height%3A%20100.0%25%3B%22%3E%20%20%20%20%20%20%20%20%20%3Cul%3E%20%20%20%20%20%20%20%20%20%20%20%20%20%3Cli%3E%3Cstrong%3EID%3A%20%3C/strong%3E1379%3C/li%3E%20%20%20%20%20%20%20%20%20%20%20%20%20%3Cli%3E%3Cstrong%3ESource%3A%20%3C/strong%3EHenderson%20P%26C%20%23162%3C/li%3E%20%20%20%20%20%20%20%20%20%20%20%20%20%3Cli%3E%3Cstrong%3EOccupation%3A%20%3C/strong%3EMona%20Lisabetta%2C%20donna%20fu%20di%20Amadore%20di%20Guelfo%3C/li%3E%20%20%20%20%20%20%20%20%20%3Cul%3E%20%20%20%20%20%3C/div%3E%60%29%5B0%5D%3B%0A%20%20%20%20%20%20%20%20%20%20%20%20%20%20%20%20popup_1a9ce2ed28864547bb3748b5246bfd97.setContent%28html_1cc0bc761f764e9c9cb7211f152d3c23%29%3B%0A%20%20%20%20%20%20%20%20%20%20%20%20%0A%0A%20%20%20%20%20%20%20%20%20%20%20%20marker_1582135e7ba5478a8d2266bec1d97150.bindPopup%28popup_1a9ce2ed28864547bb3748b5246bfd97%29%0A%20%20%20%20%20%20%20%20%20%20%20%20%3B%0A%0A%20%20%20%20%20%20%20%20%20%20%20%20%0A%20%20%20%20%20%20%20%20%0A%20%20%20%20%0A%20%20%20%20%20%20%20%20var%20marker_91f894120e354a0799a856fa12378fe1%20%3D%20L.marker%28%0A%20%20%20%20%20%20%20%20%20%20%20%20%5B43.772334%2C%2011.254363%5D%2C%0A%20%20%20%20%20%20%20%20%20%20%20%20%7B%0A%20%20%20%20%20%20%20%20%20%20%20%20%20%20%20%20icon%3A%20new%20L.Icon.Default%28%29%2C%0A%20%20%20%20%20%20%20%20%20%20%20%20%20%20%20%20%7D%0A%20%20%20%20%20%20%20%20%20%20%20%20%29.addTo%28map_146cd8147123498484976a07e362f27f%29%3B%0A%20%20%20%20%20%20%20%20%0A%20%20%20%20%0A%20%20%20%20%20%20%20%20%20%20%20%20var%20popup_ac60fa22cf6845628de8b39a8b6538af%20%3D%20L.popup%28%7BmaxWidth%3A%20%27100%25%27%0A%20%20%20%20%20%20%20%20%20%20%20%20%0A%20%20%20%20%20%20%20%20%20%20%20%20%7D%29%3B%0A%0A%20%20%20%20%20%20%20%20%20%20%20%20%0A%20%20%20%20%20%20%20%20%20%20%20%20%20%20%20%20var%20html_3555aafa506a4e499bbc10133c29015a%20%3D%20%24%28%60%3Cdiv%20id%3D%22html_3555aafa506a4e499bbc10133c29015a%22%20style%3D%22width%3A%20100.0%25%3B%20height%3A%20100.0%25%3B%22%3E%20%20%20%20%20%20%20%20%20%3Cul%3E%20%20%20%20%20%20%20%20%20%20%20%20%20%3Cli%3E%3Cstrong%3EID%3A%20%3C/strong%3E1123%3C/li%3E%20%20%20%20%20%20%20%20%20%20%20%20%20%3Cli%3E%3Cstrong%3ESource%3A%20%3C/strong%3Enan%3C/li%3E%20%20%20%20%20%20%20%20%20%20%20%20%20%3Cli%3E%3Cstrong%3EOccupation%3A%20%3C/strong%3Enan%3C/li%3E%20%20%20%20%20%20%20%20%20%3Cul%3E%20%20%20%20%20%3C/div%3E%60%29%5B0%5D%3B%0A%20%20%20%20%20%20%20%20%20%20%20%20%20%20%20%20popup_ac60fa22cf6845628de8b39a8b6538af.setContent%28html_3555aafa506a4e499bbc10133c29015a%29%3B%0A%20%20%20%20%20%20%20%20%20%20%20%20%0A%0A%20%20%20%20%20%20%20%20%20%20%20%20marker_91f894120e354a0799a856fa12378fe1.bindPopup%28popup_ac60fa22cf6845628de8b39a8b6538af%29%0A%20%20%20%20%20%20%20%20%20%20%20%20%3B%0A%0A%20%20%20%20%20%20%20%20%20%20%20%20%0A%20%20%20%20%20%20%20%20%0A%20%20%20%20%0A%20%20%20%20%20%20%20%20var%20marker_d1f09457226b46c7ba0dc4acf9717e5a%20%3D%20L.marker%28%0A%20%20%20%20%20%20%20%20%20%20%20%20%5B43.76938971%2C%2011.24530752%5D%2C%0A%20%20%20%20%20%20%20%20%20%20%20%20%7B%0A%20%20%20%20%20%20%20%20%20%20%20%20%20%20%20%20icon%3A%20new%20L.Icon.Default%28%29%2C%0A%20%20%20%20%20%20%20%20%20%20%20%20%20%20%20%20%7D%0A%20%20%20%20%20%20%20%20%20%20%20%20%29.addTo%28map_146cd8147123498484976a07e362f27f%29%3B%0A%20%20%20%20%20%20%20%20%0A%20%20%20%20%0A%20%20%20%20%20%20%20%20%20%20%20%20var%20popup_ef0cc6ab4ceb4aa7aef69299feda7f7d%20%3D%20L.popup%28%7BmaxWidth%3A%20%27100%25%27%0A%20%20%20%20%20%20%20%20%20%20%20%20%0A%20%20%20%20%20%20%20%20%20%20%20%20%7D%29%3B%0A%0A%20%20%20%20%20%20%20%20%20%20%20%20%0A%20%20%20%20%20%20%20%20%20%20%20%20%20%20%20%20var%20html_30d24d763db04a1aa08968afb3e59a22%20%3D%20%24%28%60%3Cdiv%20id%3D%22html_30d24d763db04a1aa08968afb3e59a22%22%20style%3D%22width%3A%20100.0%25%3B%20height%3A%20100.0%25%3B%22%3E%20%20%20%20%20%20%20%20%20%3Cul%3E%20%20%20%20%20%20%20%20%20%20%20%20%20%3Cli%3E%3Cstrong%3EID%3A%20%3C/strong%3E8155%3C/li%3E%20%20%20%20%20%20%20%20%20%20%20%20%20%3Cli%3E%3Cstrong%3ESource%3A%20%3C/strong%3EHenderson%20P%26C%20%232%3C/li%3E%20%20%20%20%20%20%20%20%20%20%20%20%20%3Cli%3E%3Cstrong%3EOccupation%3A%20%3C/strong%3EBartolomeo%20di%20Biagio%20muratore%3C/li%3E%20%20%20%20%20%20%20%20%20%3Cul%3E%20%20%20%20%20%3C/div%3E%60%29%5B0%5D%3B%0A%20%20%20%20%20%20%20%20%20%20%20%20%20%20%20%20popup_ef0cc6ab4ceb4aa7aef69299feda7f7d.setContent%28html_30d24d763db04a1aa08968afb3e59a22%29%3B%0A%20%20%20%20%20%20%20%20%20%20%20%20%0A%0A%20%20%20%20%20%20%20%20%20%20%20%20marker_d1f09457226b46c7ba0dc4acf9717e5a.bindPopup%28popup_ef0cc6ab4ceb4aa7aef69299feda7f7d%29%0A%20%20%20%20%20%20%20%20%20%20%20%20%3B%0A%0A%20%20%20%20%20%20%20%20%20%20%20%20%0A%20%20%20%20%20%20%20%20%0A%20%20%20%20%0A%20%20%20%20%20%20%20%20var%20marker_64d9c5584e9c43d9938feea9d8e1c540%20%3D%20L.marker%28%0A%20%20%20%20%20%20%20%20%20%20%20%20%5B43.7712402%2C%2011.26521564%5D%2C%0A%20%20%20%20%20%20%20%20%20%20%20%20%7B%0A%20%20%20%20%20%20%20%20%20%20%20%20%20%20%20%20icon%3A%20new%20L.Icon.Default%28%29%2C%0A%20%20%20%20%20%20%20%20%20%20%20%20%20%20%20%20%7D%0A%20%20%20%20%20%20%20%20%20%20%20%20%29.addTo%28map_146cd8147123498484976a07e362f27f%29%3B%0A%20%20%20%20%20%20%20%20%0A%20%20%20%20%0A%20%20%20%20%20%20%20%20%20%20%20%20var%20popup_ac2b5e6eaccf44098ed7bf1b8cc70269%20%3D%20L.popup%28%7BmaxWidth%3A%20%27100%25%27%0A%20%20%20%20%20%20%20%20%20%20%20%20%0A%20%20%20%20%20%20%20%20%20%20%20%20%7D%29%3B%0A%0A%20%20%20%20%20%20%20%20%20%20%20%20%0A%20%20%20%20%20%20%20%20%20%20%20%20%20%20%20%20var%20html_dc39639fc73d44d481eda9fb924aed80%20%3D%20%24%28%60%3Cdiv%20id%3D%22html_dc39639fc73d44d481eda9fb924aed80%22%20style%3D%22width%3A%20100.0%25%3B%20height%3A%20100.0%25%3B%22%3E%20%20%20%20%20%20%20%20%20%3Cul%3E%20%20%20%20%20%20%20%20%20%20%20%20%20%3Cli%3E%3Cstrong%3EID%3A%20%3C/strong%3E2085%3C/li%3E%20%20%20%20%20%20%20%20%20%20%20%20%20%3Cli%3E%3Cstrong%3ESource%3A%20%3C/strong%3EHenderson%20P%26C%20%23124%3C/li%3E%20%20%20%20%20%20%20%20%20%20%20%20%20%3Cli%3E%3Cstrong%3EOccupation%3A%20%3C/strong%3EMona%20Gineuva%2C%20donna%20fu%20di%20Lorenzo%20di%20Deno%2C%20legnaiuolo%3C/li%3E%20%20%20%20%20%20%20%20%20%3Cul%3E%20%20%20%20%20%3C/div%3E%60%29%5B0%5D%3B%0A%20%20%20%20%20%20%20%20%20%20%20%20%20%20%20%20popup_ac2b5e6eaccf44098ed7bf1b8cc70269.setContent%28html_dc39639fc73d44d481eda9fb924aed80%29%3B%0A%20%20%20%20%20%20%20%20%20%20%20%20%0A%0A%20%20%20%20%20%20%20%20%20%20%20%20marker_64d9c5584e9c43d9938feea9d8e1c540.bindPopup%28popup_ac2b5e6eaccf44098ed7bf1b8cc70269%29%0A%20%20%20%20%20%20%20%20%20%20%20%20%3B%0A%0A%20%20%20%20%20%20%20%20%20%20%20%20%0A%20%20%20%20%20%20%20%20%0A%20%20%20%20%0A%20%20%20%20%20%20%20%20var%20marker_faed3faa8e684260a95f7dd766497438%20%3D%20L.marker%28%0A%20%20%20%20%20%20%20%20%20%20%20%20%5B43.776473%2C%2011.25275408%5D%2C%0A%20%20%20%20%20%20%20%20%20%20%20%20%7B%0A%20%20%20%20%20%20%20%20%20%20%20%20%20%20%20%20icon%3A%20new%20L.Icon.Default%28%29%2C%0A%20%20%20%20%20%20%20%20%20%20%20%20%20%20%20%20%7D%0A%20%20%20%20%20%20%20%20%20%20%20%20%29.addTo%28map_146cd8147123498484976a07e362f27f%29%3B%0A%20%20%20%20%20%20%20%20%0A%20%20%20%20%0A%20%20%20%20%20%20%20%20%20%20%20%20var%20popup_7b21fe95efa14256be177c5e931a488d%20%3D%20L.popup%28%7BmaxWidth%3A%20%27100%25%27%0A%20%20%20%20%20%20%20%20%20%20%20%20%0A%20%20%20%20%20%20%20%20%20%20%20%20%7D%29%3B%0A%0A%20%20%20%20%20%20%20%20%20%20%20%20%0A%20%20%20%20%20%20%20%20%20%20%20%20%20%20%20%20var%20html_4e5b3cc28d424730bab76ff9d9176fd2%20%3D%20%24%28%60%3Cdiv%20id%3D%22html_4e5b3cc28d424730bab76ff9d9176fd2%22%20style%3D%22width%3A%20100.0%25%3B%20height%3A%20100.0%25%3B%22%3E%20%20%20%20%20%20%20%20%20%3Cul%3E%20%20%20%20%20%20%20%20%20%20%20%20%20%3Cli%3E%3Cstrong%3EID%3A%20%3C/strong%3E493%3C/li%3E%20%20%20%20%20%20%20%20%20%20%20%20%20%3Cli%3E%3Cstrong%3ESource%3A%20%3C/strong%3EHenderson%20P%26C%20%23124%3C/li%3E%20%20%20%20%20%20%20%20%20%20%20%20%20%3Cli%3E%3Cstrong%3EOccupation%3A%20%3C/strong%3EBatista%20di%20Niccolaio%20da%20Montopoli%2C%20tessitore%3C/li%3E%20%20%20%20%20%20%20%20%20%3Cul%3E%20%20%20%20%20%3C/div%3E%60%29%5B0%5D%3B%0A%20%20%20%20%20%20%20%20%20%20%20%20%20%20%20%20popup_7b21fe95efa14256be177c5e931a488d.setContent%28html_4e5b3cc28d424730bab76ff9d9176fd2%29%3B%0A%20%20%20%20%20%20%20%20%20%20%20%20%0A%0A%20%20%20%20%20%20%20%20%20%20%20%20marker_faed3faa8e684260a95f7dd766497438.bindPopup%28popup_7b21fe95efa14256be177c5e931a488d%29%0A%20%20%20%20%20%20%20%20%20%20%20%20%3B%0A%0A%20%20%20%20%20%20%20%20%20%20%20%20%0A%20%20%20%20%20%20%20%20%0A%20%20%20%20%0A%20%20%20%20%20%20%20%20var%20marker_cd3a540c1f8d4832b6cc78651e27f8ff%20%3D%20L.marker%28%0A%20%20%20%20%20%20%20%20%20%20%20%20%5B43.76977667%2C%2011.26017667%5D%2C%0A%20%20%20%20%20%20%20%20%20%20%20%20%7B%0A%20%20%20%20%20%20%20%20%20%20%20%20%20%20%20%20icon%3A%20new%20L.Icon.Default%28%29%2C%0A%20%20%20%20%20%20%20%20%20%20%20%20%20%20%20%20%7D%0A%20%20%20%20%20%20%20%20%20%20%20%20%29.addTo%28map_146cd8147123498484976a07e362f27f%29%3B%0A%20%20%20%20%20%20%20%20%0A%20%20%20%20%0A%20%20%20%20%20%20%20%20%20%20%20%20var%20popup_e6a10f6238814d40b7e0730465ae3d45%20%3D%20L.popup%28%7BmaxWidth%3A%20%27100%25%27%0A%20%20%20%20%20%20%20%20%20%20%20%20%0A%20%20%20%20%20%20%20%20%20%20%20%20%7D%29%3B%0A%0A%20%20%20%20%20%20%20%20%20%20%20%20%0A%20%20%20%20%20%20%20%20%20%20%20%20%20%20%20%20var%20html_56475121bb924ef7bffadfb710d350cb%20%3D%20%24%28%60%3Cdiv%20id%3D%22html_56475121bb924ef7bffadfb710d350cb%22%20style%3D%22width%3A%20100.0%25%3B%20height%3A%20100.0%25%3B%22%3E%20%20%20%20%20%20%20%20%20%3Cul%3E%20%20%20%20%20%20%20%20%20%20%20%20%20%3Cli%3E%3Cstrong%3EID%3A%20%3C/strong%3E4186%3C/li%3E%20%20%20%20%20%20%20%20%20%20%20%20%20%3Cli%3E%3Cstrong%3ESource%3A%20%3C/strong%3EHenderson%20P%26C%20%23124%3C/li%3E%20%20%20%20%20%20%20%20%20%20%20%20%20%3Cli%3E%3Cstrong%3EOccupation%3A%20%3C/strong%3EMona%20Piera%20di%20Girolamo%20Orlandi%3C/li%3E%20%20%20%20%20%20%20%20%20%3Cul%3E%20%20%20%20%20%3C/div%3E%60%29%5B0%5D%3B%0A%20%20%20%20%20%20%20%20%20%20%20%20%20%20%20%20popup_e6a10f6238814d40b7e0730465ae3d45.setContent%28html_56475121bb924ef7bffadfb710d350cb%29%3B%0A%20%20%20%20%20%20%20%20%20%20%20%20%0A%0A%20%20%20%20%20%20%20%20%20%20%20%20marker_cd3a540c1f8d4832b6cc78651e27f8ff.bindPopup%28popup_e6a10f6238814d40b7e0730465ae3d45%29%0A%20%20%20%20%20%20%20%20%20%20%20%20%3B%0A%0A%20%20%20%20%20%20%20%20%20%20%20%20%0A%20%20%20%20%20%20%20%20%0A%20%20%20%20%0A%20%20%20%20%20%20%20%20var%20marker_63bce4e4ce1843b0a7de83423f95b189%20%3D%20L.marker%28%0A%20%20%20%20%20%20%20%20%20%20%20%20%5B43.7701726%2C%2011.24204413%5D%2C%0A%20%20%20%20%20%20%20%20%20%20%20%20%7B%0A%20%20%20%20%20%20%20%20%20%20%20%20%20%20%20%20icon%3A%20new%20L.Icon.Default%28%29%2C%0A%20%20%20%20%20%20%20%20%20%20%20%20%20%20%20%20%7D%0A%20%20%20%20%20%20%20%20%20%20%20%20%29.addTo%28map_146cd8147123498484976a07e362f27f%29%3B%0A%20%20%20%20%20%20%20%20%0A%20%20%20%20%0A%20%20%20%20%20%20%20%20%20%20%20%20var%20popup_d0c7d2138f354456ae9f5ba82d965811%20%3D%20L.popup%28%7BmaxWidth%3A%20%27100%25%27%0A%20%20%20%20%20%20%20%20%20%20%20%20%0A%20%20%20%20%20%20%20%20%20%20%20%20%7D%29%3B%0A%0A%20%20%20%20%20%20%20%20%20%20%20%20%0A%20%20%20%20%20%20%20%20%20%20%20%20%20%20%20%20var%20html_59040a359996475d8c460984d2c33617%20%3D%20%24%28%60%3Cdiv%20id%3D%22html_59040a359996475d8c460984d2c33617%22%20style%3D%22width%3A%20100.0%25%3B%20height%3A%20100.0%25%3B%22%3E%20%20%20%20%20%20%20%20%20%3Cul%3E%20%20%20%20%20%20%20%20%20%20%20%20%20%3Cli%3E%3Cstrong%3EID%3A%20%3C/strong%3E8122%3C/li%3E%20%20%20%20%20%20%20%20%20%20%20%20%20%3Cli%3E%3Cstrong%3ESource%3A%20%3C/strong%3Enan%3C/li%3E%20%20%20%20%20%20%20%20%20%20%20%20%20%3Cli%3E%3Cstrong%3EOccupation%3A%20%3C/strong%3EMona%20Catarina%20la%20sua%20meta%3C/li%3E%20%20%20%20%20%20%20%20%20%3Cul%3E%20%20%20%20%20%3C/div%3E%60%29%5B0%5D%3B%0A%20%20%20%20%20%20%20%20%20%20%20%20%20%20%20%20popup_d0c7d2138f354456ae9f5ba82d965811.setContent%28html_59040a359996475d8c460984d2c33617%29%3B%0A%20%20%20%20%20%20%20%20%20%20%20%20%0A%0A%20%20%20%20%20%20%20%20%20%20%20%20marker_63bce4e4ce1843b0a7de83423f95b189.bindPopup%28popup_d0c7d2138f354456ae9f5ba82d965811%29%0A%20%20%20%20%20%20%20%20%20%20%20%20%3B%0A%0A%20%20%20%20%20%20%20%20%20%20%20%20%0A%20%20%20%20%20%20%20%20%0A%20%20%20%20%0A%20%20%20%20%20%20%20%20var%20marker_94680039e9224f2992c6f1bc4315e725%20%3D%20L.marker%28%0A%20%20%20%20%20%20%20%20%20%20%20%20%5B43.77084%2C%2011.254306%5D%2C%0A%20%20%20%20%20%20%20%20%20%20%20%20%7B%0A%20%20%20%20%20%20%20%20%20%20%20%20%20%20%20%20icon%3A%20new%20L.Icon.Default%28%29%2C%0A%20%20%20%20%20%20%20%20%20%20%20%20%20%20%20%20%7D%0A%20%20%20%20%20%20%20%20%20%20%20%20%29.addTo%28map_146cd8147123498484976a07e362f27f%29%3B%0A%20%20%20%20%20%20%20%20%0A%20%20%20%20%0A%20%20%20%20%20%20%20%20%20%20%20%20var%20popup_76dc7b192eaa440188746d199d502f62%20%3D%20L.popup%28%7BmaxWidth%3A%20%27100%25%27%0A%20%20%20%20%20%20%20%20%20%20%20%20%0A%20%20%20%20%20%20%20%20%20%20%20%20%7D%29%3B%0A%0A%20%20%20%20%20%20%20%20%20%20%20%20%0A%20%20%20%20%20%20%20%20%20%20%20%20%20%20%20%20var%20html_221d4f48e3fc46c196ed2b18f4aec1e3%20%3D%20%24%28%60%3Cdiv%20id%3D%22html_221d4f48e3fc46c196ed2b18f4aec1e3%22%20style%3D%22width%3A%20100.0%25%3B%20height%3A%20100.0%25%3B%22%3E%20%20%20%20%20%20%20%20%20%3Cul%3E%20%20%20%20%20%20%20%20%20%20%20%20%20%3Cli%3E%3Cstrong%3EID%3A%20%3C/strong%3E6721%3C/li%3E%20%20%20%20%20%20%20%20%20%20%20%20%20%3Cli%3E%3Cstrong%3ESource%3A%20%3C/strong%3EHenderson%20P%26C%20%2392%3C/li%3E%20%20%20%20%20%20%20%20%20%20%20%20%20%3Cli%3E%3Cstrong%3EOccupation%3A%20%3C/strong%3ESancti%20di%20Luca%20di%20Mazzeranga%3C/li%3E%20%20%20%20%20%20%20%20%20%3Cul%3E%20%20%20%20%20%3C/div%3E%60%29%5B0%5D%3B%0A%20%20%20%20%20%20%20%20%20%20%20%20%20%20%20%20popup_76dc7b192eaa440188746d199d502f62.setContent%28html_221d4f48e3fc46c196ed2b18f4aec1e3%29%3B%0A%20%20%20%20%20%20%20%20%20%20%20%20%0A%0A%20%20%20%20%20%20%20%20%20%20%20%20marker_94680039e9224f2992c6f1bc4315e725.bindPopup%28popup_76dc7b192eaa440188746d199d502f62%29%0A%20%20%20%20%20%20%20%20%20%20%20%20%3B%0A%0A%20%20%20%20%20%20%20%20%20%20%20%20%0A%20%20%20%20%20%20%20%20%0A%20%20%20%20%0A%20%20%20%20%20%20%20%20var%20marker_fab20033beea4f4cb1cd93bf4ed4437d%20%3D%20L.marker%28%0A%20%20%20%20%20%20%20%20%20%20%20%20%5B43.7757045%2C%2011.25230736%5D%2C%0A%20%20%20%20%20%20%20%20%20%20%20%20%7B%0A%20%20%20%20%20%20%20%20%20%20%20%20%20%20%20%20icon%3A%20new%20L.Icon.Default%28%29%2C%0A%20%20%20%20%20%20%20%20%20%20%20%20%20%20%20%20%7D%0A%20%20%20%20%20%20%20%20%20%20%20%20%29.addTo%28map_146cd8147123498484976a07e362f27f%29%3B%0A%20%20%20%20%20%20%20%20%0A%20%20%20%20%0A%20%20%20%20%20%20%20%20%20%20%20%20var%20popup_16d01e19d46648b8872ea234cff16760%20%3D%20L.popup%28%7BmaxWidth%3A%20%27100%25%27%0A%20%20%20%20%20%20%20%20%20%20%20%20%0A%20%20%20%20%20%20%20%20%20%20%20%20%7D%29%3B%0A%0A%20%20%20%20%20%20%20%20%20%20%20%20%0A%20%20%20%20%20%20%20%20%20%20%20%20%20%20%20%20var%20html_097bed9172c24706bb071d932b6dcc53%20%3D%20%24%28%60%3Cdiv%20id%3D%22html_097bed9172c24706bb071d932b6dcc53%22%20style%3D%22width%3A%20100.0%25%3B%20height%3A%20100.0%25%3B%22%3E%20%20%20%20%20%20%20%20%20%3Cul%3E%20%20%20%20%20%20%20%20%20%20%20%20%20%3Cli%3E%3Cstrong%3EID%3A%20%3C/strong%3E452%3C/li%3E%20%20%20%20%20%20%20%20%20%20%20%20%20%3Cli%3E%3Cstrong%3ESource%3A%20%3C/strong%3EHenderson%20P%26C%20%2392%3C/li%3E%20%20%20%20%20%20%20%20%20%20%20%20%20%3Cli%3E%3Cstrong%3EOccupation%3A%20%3C/strong%3EMona%20Magdalena%2C%20vedova%2C%20donna%20gia%20di%20Domenico%20di%20Piero%2C%20pizzicagnolo%3C/li%3E%20%20%20%20%20%20%20%20%20%3Cul%3E%20%20%20%20%20%3C/div%3E%60%29%5B0%5D%3B%0A%20%20%20%20%20%20%20%20%20%20%20%20%20%20%20%20popup_16d01e19d46648b8872ea234cff16760.setContent%28html_097bed9172c24706bb071d932b6dcc53%29%3B%0A%20%20%20%20%20%20%20%20%20%20%20%20%0A%0A%20%20%20%20%20%20%20%20%20%20%20%20marker_fab20033beea4f4cb1cd93bf4ed4437d.bindPopup%28popup_16d01e19d46648b8872ea234cff16760%29%0A%20%20%20%20%20%20%20%20%20%20%20%20%3B%0A%0A%20%20%20%20%20%20%20%20%20%20%20%20%0A%20%20%20%20%20%20%20%20%0A%20%20%20%20%0A%20%20%20%20%20%20%20%20var%20marker_464a7a56044d42e38ec1bbfa4f131dbd%20%3D%20L.marker%28%0A%20%20%20%20%20%20%20%20%20%20%20%20%5B43.78056204%2C%2011.2577987%5D%2C%0A%20%20%20%20%20%20%20%20%20%20%20%20%7B%0A%20%20%20%20%20%20%20%20%20%20%20%20%20%20%20%20icon%3A%20new%20L.Icon.Default%28%29%2C%0A%20%20%20%20%20%20%20%20%20%20%20%20%20%20%20%20%7D%0A%20%20%20%20%20%20%20%20%20%20%20%20%29.addTo%28map_146cd8147123498484976a07e362f27f%29%3B%0A%20%20%20%20%20%20%20%20%0A%20%20%20%20%0A%20%20%20%20%20%20%20%20%20%20%20%20var%20popup_d2ecba490afa43ff9d6e9d0de81e46b3%20%3D%20L.popup%28%7BmaxWidth%3A%20%27100%25%27%0A%20%20%20%20%20%20%20%20%20%20%20%20%0A%20%20%20%20%20%20%20%20%20%20%20%20%7D%29%3B%0A%0A%20%20%20%20%20%20%20%20%20%20%20%20%0A%20%20%20%20%20%20%20%20%20%20%20%20%20%20%20%20var%20html_043fc075406c428abb4825e5fee77135%20%3D%20%24%28%60%3Cdiv%20id%3D%22html_043fc075406c428abb4825e5fee77135%22%20style%3D%22width%3A%20100.0%25%3B%20height%3A%20100.0%25%3B%22%3E%20%20%20%20%20%20%20%20%20%3Cul%3E%20%20%20%20%20%20%20%20%20%20%20%20%20%3Cli%3E%3Cstrong%3EID%3A%20%3C/strong%3E623%3C/li%3E%20%20%20%20%20%20%20%20%20%20%20%20%20%3Cli%3E%3Cstrong%3ESource%3A%20%3C/strong%3EHenderson%20P%26C%20%2392%3C/li%3E%20%20%20%20%20%20%20%20%20%20%20%20%20%3Cli%3E%3Cstrong%3EOccupation%3A%20%3C/strong%3EGiovanbatista%20d%27%20Andrea%20Laurentini%3C/li%3E%20%20%20%20%20%20%20%20%20%3Cul%3E%20%20%20%20%20%3C/div%3E%60%29%5B0%5D%3B%0A%20%20%20%20%20%20%20%20%20%20%20%20%20%20%20%20popup_d2ecba490afa43ff9d6e9d0de81e46b3.setContent%28html_043fc075406c428abb4825e5fee77135%29%3B%0A%20%20%20%20%20%20%20%20%20%20%20%20%0A%0A%20%20%20%20%20%20%20%20%20%20%20%20marker_464a7a56044d42e38ec1bbfa4f131dbd.bindPopup%28popup_d2ecba490afa43ff9d6e9d0de81e46b3%29%0A%20%20%20%20%20%20%20%20%20%20%20%20%3B%0A%0A%20%20%20%20%20%20%20%20%20%20%20%20%0A%20%20%20%20%20%20%20%20%0A%20%20%20%20%0A%20%20%20%20%20%20%20%20var%20marker_579f8565eef54c519b3168447b9e715e%20%3D%20L.marker%28%0A%20%20%20%20%20%20%20%20%20%20%20%20%5B43.78061222%2C%2011.25774922%5D%2C%0A%20%20%20%20%20%20%20%20%20%20%20%20%7B%0A%20%20%20%20%20%20%20%20%20%20%20%20%20%20%20%20icon%3A%20new%20L.Icon.Default%28%29%2C%0A%20%20%20%20%20%20%20%20%20%20%20%20%20%20%20%20%7D%0A%20%20%20%20%20%20%20%20%20%20%20%20%29.addTo%28map_146cd8147123498484976a07e362f27f%29%3B%0A%20%20%20%20%20%20%20%20%0A%20%20%20%20%0A%20%20%20%20%20%20%20%20%20%20%20%20var%20popup_ce1919116b774ef6aaa397e50d7808f7%20%3D%20L.popup%28%7BmaxWidth%3A%20%27100%25%27%0A%20%20%20%20%20%20%20%20%20%20%20%20%0A%20%20%20%20%20%20%20%20%20%20%20%20%7D%29%3B%0A%0A%20%20%20%20%20%20%20%20%20%20%20%20%0A%20%20%20%20%20%20%20%20%20%20%20%20%20%20%20%20var%20html_7480cc37d22a440f9c613335738aff81%20%3D%20%24%28%60%3Cdiv%20id%3D%22html_7480cc37d22a440f9c613335738aff81%22%20style%3D%22width%3A%20100.0%25%3B%20height%3A%20100.0%25%3B%22%3E%20%20%20%20%20%20%20%20%20%3Cul%3E%20%20%20%20%20%20%20%20%20%20%20%20%20%3Cli%3E%3Cstrong%3EID%3A%20%3C/strong%3E624%3C/li%3E%20%20%20%20%20%20%20%20%20%20%20%20%20%3Cli%3E%3Cstrong%3ESource%3A%20%3C/strong%3EHenderson%20P%26C%20%2392%3C/li%3E%20%20%20%20%20%20%20%20%20%20%20%20%20%3Cli%3E%3Cstrong%3EOccupation%3A%20%3C/strong%3Eser%20Domenico%20Sannini%2C%20prete%3C/li%3E%20%20%20%20%20%20%20%20%20%3Cul%3E%20%20%20%20%20%3C/div%3E%60%29%5B0%5D%3B%0A%20%20%20%20%20%20%20%20%20%20%20%20%20%20%20%20popup_ce1919116b774ef6aaa397e50d7808f7.setContent%28html_7480cc37d22a440f9c613335738aff81%29%3B%0A%20%20%20%20%20%20%20%20%20%20%20%20%0A%0A%20%20%20%20%20%20%20%20%20%20%20%20marker_579f8565eef54c519b3168447b9e715e.bindPopup%28popup_ce1919116b774ef6aaa397e50d7808f7%29%0A%20%20%20%20%20%20%20%20%20%20%20%20%3B%0A%0A%20%20%20%20%20%20%20%20%20%20%20%20%0A%20%20%20%20%20%20%20%20%0A%20%20%20%20%0A%20%20%20%20%20%20%20%20var%20marker_5d82c0218d1a454ab383b03229ac5d8f%20%3D%20L.marker%28%0A%20%20%20%20%20%20%20%20%20%20%20%20%5B43.78066241%2C%2011.25769974%5D%2C%0A%20%20%20%20%20%20%20%20%20%20%20%20%7B%0A%20%20%20%20%20%20%20%20%20%20%20%20%20%20%20%20icon%3A%20new%20L.Icon.Default%28%29%2C%0A%20%20%20%20%20%20%20%20%20%20%20%20%20%20%20%20%7D%0A%20%20%20%20%20%20%20%20%20%20%20%20%29.addTo%28map_146cd8147123498484976a07e362f27f%29%3B%0A%20%20%20%20%20%20%20%20%0A%20%20%20%20%0A%20%20%20%20%20%20%20%20%20%20%20%20var%20popup_bb435689aacf4194b87b38304075691e%20%3D%20L.popup%28%7BmaxWidth%3A%20%27100%25%27%0A%20%20%20%20%20%20%20%20%20%20%20%20%0A%20%20%20%20%20%20%20%20%20%20%20%20%7D%29%3B%0A%0A%20%20%20%20%20%20%20%20%20%20%20%20%0A%20%20%20%20%20%20%20%20%20%20%20%20%20%20%20%20var%20html_e74f0726ac084345888a9c9fe4f5991b%20%3D%20%24%28%60%3Cdiv%20id%3D%22html_e74f0726ac084345888a9c9fe4f5991b%22%20style%3D%22width%3A%20100.0%25%3B%20height%3A%20100.0%25%3B%22%3E%20%20%20%20%20%20%20%20%20%3Cul%3E%20%20%20%20%20%20%20%20%20%20%20%20%20%3Cli%3E%3Cstrong%3EID%3A%20%3C/strong%3E625%3C/li%3E%20%20%20%20%20%20%20%20%20%20%20%20%20%3Cli%3E%3Cstrong%3ESource%3A%20%3C/strong%3EHenderson%20P%26C%20%2392%3C/li%3E%20%20%20%20%20%20%20%20%20%20%20%20%20%3Cli%3E%3Cstrong%3EOccupation%3A%20%3C/strong%3EGiuliano%20da%20le%20Pozze%3C/li%3E%20%20%20%20%20%20%20%20%20%3Cul%3E%20%20%20%20%20%3C/div%3E%60%29%5B0%5D%3B%0A%20%20%20%20%20%20%20%20%20%20%20%20%20%20%20%20popup_bb435689aacf4194b87b38304075691e.setContent%28html_e74f0726ac084345888a9c9fe4f5991b%29%3B%0A%20%20%20%20%20%20%20%20%20%20%20%20%0A%0A%20%20%20%20%20%20%20%20%20%20%20%20marker_5d82c0218d1a454ab383b03229ac5d8f.bindPopup%28popup_bb435689aacf4194b87b38304075691e%29%0A%20%20%20%20%20%20%20%20%20%20%20%20%3B%0A%0A%20%20%20%20%20%20%20%20%20%20%20%20%0A%20%20%20%20%20%20%20%20%0A%20%20%20%20%0A%20%20%20%20%20%20%20%20var%20marker_7d71555d00a54a7b94e043dfbc7ff869%20%3D%20L.marker%28%0A%20%20%20%20%20%20%20%20%20%20%20%20%5B43.78051185%2C%2011.25784819%5D%2C%0A%20%20%20%20%20%20%20%20%20%20%20%20%7B%0A%20%20%20%20%20%20%20%20%20%20%20%20%20%20%20%20icon%3A%20new%20L.Icon.Default%28%29%2C%0A%20%20%20%20%20%20%20%20%20%20%20%20%20%20%20%20%7D%0A%20%20%20%20%20%20%20%20%20%20%20%20%29.addTo%28map_146cd8147123498484976a07e362f27f%29%3B%0A%20%20%20%20%20%20%20%20%0A%20%20%20%20%0A%20%20%20%20%20%20%20%20%20%20%20%20var%20popup_bc53d12604224d9bb9cd225f37dc81a2%20%3D%20L.popup%28%7BmaxWidth%3A%20%27100%25%27%0A%20%20%20%20%20%20%20%20%20%20%20%20%0A%20%20%20%20%20%20%20%20%20%20%20%20%7D%29%3B%0A%0A%20%20%20%20%20%20%20%20%20%20%20%20%0A%20%20%20%20%20%20%20%20%20%20%20%20%20%20%20%20var%20html_7529a931ccf7492f9d2276b2285616f1%20%3D%20%24%28%60%3Cdiv%20id%3D%22html_7529a931ccf7492f9d2276b2285616f1%22%20style%3D%22width%3A%20100.0%25%3B%20height%3A%20100.0%25%3B%22%3E%20%20%20%20%20%20%20%20%20%3Cul%3E%20%20%20%20%20%20%20%20%20%20%20%20%20%3Cli%3E%3Cstrong%3EID%3A%20%3C/strong%3E767%3C/li%3E%20%20%20%20%20%20%20%20%20%20%20%20%20%3Cli%3E%3Cstrong%3ESource%3A%20%3C/strong%3EHenderson%20P%26C%20%2392%3C/li%3E%20%20%20%20%20%20%20%20%20%20%20%20%20%3Cli%3E%3Cstrong%3EOccupation%3A%20%3C/strong%3EAlessandro%20di%20Raffaello%2C%20calderaio%3C/li%3E%20%20%20%20%20%20%20%20%20%3Cul%3E%20%20%20%20%20%3C/div%3E%60%29%5B0%5D%3B%0A%20%20%20%20%20%20%20%20%20%20%20%20%20%20%20%20popup_bc53d12604224d9bb9cd225f37dc81a2.setContent%28html_7529a931ccf7492f9d2276b2285616f1%29%3B%0A%20%20%20%20%20%20%20%20%20%20%20%20%0A%0A%20%20%20%20%20%20%20%20%20%20%20%20marker_7d71555d00a54a7b94e043dfbc7ff869.bindPopup%28popup_bc53d12604224d9bb9cd225f37dc81a2%29%0A%20%20%20%20%20%20%20%20%20%20%20%20%3B%0A%0A%20%20%20%20%20%20%20%20%20%20%20%20%0A%20%20%20%20%20%20%20%20%0A%20%20%20%20%0A%20%20%20%20%20%20%20%20var%20marker_a42619b05eda49b9b393176792ba8654%20%3D%20L.marker%28%0A%20%20%20%20%20%20%20%20%20%20%20%20%5B43.775751%2C%2011.252284%5D%2C%0A%20%20%20%20%20%20%20%20%20%20%20%20%7B%0A%20%20%20%20%20%20%20%20%20%20%20%20%20%20%20%20icon%3A%20new%20L.Icon.Default%28%29%2C%0A%20%20%20%20%20%20%20%20%20%20%20%20%20%20%20%20%7D%0A%20%20%20%20%20%20%20%20%20%20%20%20%29.addTo%28map_146cd8147123498484976a07e362f27f%29%3B%0A%20%20%20%20%20%20%20%20%0A%20%20%20%20%0A%20%20%20%20%20%20%20%20%20%20%20%20var%20popup_40afe40b835943de8b4438641d67b705%20%3D%20L.popup%28%7BmaxWidth%3A%20%27100%25%27%0A%20%20%20%20%20%20%20%20%20%20%20%20%0A%20%20%20%20%20%20%20%20%20%20%20%20%7D%29%3B%0A%0A%20%20%20%20%20%20%20%20%20%20%20%20%0A%20%20%20%20%20%20%20%20%20%20%20%20%20%20%20%20var%20html_846c93d64bd24416b41800996882367e%20%3D%20%24%28%60%3Cdiv%20id%3D%22html_846c93d64bd24416b41800996882367e%22%20style%3D%22width%3A%20100.0%25%3B%20height%3A%20100.0%25%3B%22%3E%20%20%20%20%20%20%20%20%20%3Cul%3E%20%20%20%20%20%20%20%20%20%20%20%20%20%3Cli%3E%3Cstrong%3EID%3A%20%3C/strong%3E834%3C/li%3E%20%20%20%20%20%20%20%20%20%20%20%20%20%3Cli%3E%3Cstrong%3ESource%3A%20%3C/strong%3EHenderson%20P%26C%20%2392%3C/li%3E%20%20%20%20%20%20%20%20%20%20%20%20%20%3Cli%3E%3Cstrong%3EOccupation%3A%20%3C/strong%3Ele%20Margarita%20di%20Guasparre%20di%20castro%3C/li%3E%20%20%20%20%20%20%20%20%20%3Cul%3E%20%20%20%20%20%3C/div%3E%60%29%5B0%5D%3B%0A%20%20%20%20%20%20%20%20%20%20%20%20%20%20%20%20popup_40afe40b835943de8b4438641d67b705.setContent%28html_846c93d64bd24416b41800996882367e%29%3B%0A%20%20%20%20%20%20%20%20%20%20%20%20%0A%0A%20%20%20%20%20%20%20%20%20%20%20%20marker_a42619b05eda49b9b393176792ba8654.bindPopup%28popup_40afe40b835943de8b4438641d67b705%29%0A%20%20%20%20%20%20%20%20%20%20%20%20%3B%0A%0A%20%20%20%20%20%20%20%20%20%20%20%20%0A%20%20%20%20%20%20%20%20%0A%20%20%20%20%0A%20%20%20%20%20%20%20%20var%20marker_2a9a072fcf39429d9c220819bcff8fab%20%3D%20L.marker%28%0A%20%20%20%20%20%20%20%20%20%20%20%20%5B43.775553%2C%2011.251728%5D%2C%0A%20%20%20%20%20%20%20%20%20%20%20%20%7B%0A%20%20%20%20%20%20%20%20%20%20%20%20%20%20%20%20icon%3A%20new%20L.Icon.Default%28%29%2C%0A%20%20%20%20%20%20%20%20%20%20%20%20%20%20%20%20%7D%0A%20%20%20%20%20%20%20%20%20%20%20%20%29.addTo%28map_146cd8147123498484976a07e362f27f%29%3B%0A%20%20%20%20%20%20%20%20%0A%20%20%20%20%0A%20%20%20%20%20%20%20%20%20%20%20%20var%20popup_0b1c15ad968e4020a9f2fc6329f762b2%20%3D%20L.popup%28%7BmaxWidth%3A%20%27100%25%27%0A%20%20%20%20%20%20%20%20%20%20%20%20%0A%20%20%20%20%20%20%20%20%20%20%20%20%7D%29%3B%0A%0A%20%20%20%20%20%20%20%20%20%20%20%20%0A%20%20%20%20%20%20%20%20%20%20%20%20%20%20%20%20var%20html_5eca4cd2056d4b1b8072d53a806ae33e%20%3D%20%24%28%60%3Cdiv%20id%3D%22html_5eca4cd2056d4b1b8072d53a806ae33e%22%20style%3D%22width%3A%20100.0%25%3B%20height%3A%20100.0%25%3B%22%3E%20%20%20%20%20%20%20%20%20%3Cul%3E%20%20%20%20%20%20%20%20%20%20%20%20%20%3Cli%3E%3Cstrong%3EID%3A%20%3C/strong%3E908%3C/li%3E%20%20%20%20%20%20%20%20%20%20%20%20%20%3Cli%3E%3Cstrong%3ESource%3A%20%3C/strong%3EHenderson%20P%26C%20%2392%3C/li%3E%20%20%20%20%20%20%20%20%20%20%20%20%20%3Cli%3E%3Cstrong%3EOccupation%3A%20%3C/strong%3EPiero%20di%20Jacopo%20Trenetti%3C/li%3E%20%20%20%20%20%20%20%20%20%3Cul%3E%20%20%20%20%20%3C/div%3E%60%29%5B0%5D%3B%0A%20%20%20%20%20%20%20%20%20%20%20%20%20%20%20%20popup_0b1c15ad968e4020a9f2fc6329f762b2.setContent%28html_5eca4cd2056d4b1b8072d53a806ae33e%29%3B%0A%20%20%20%20%20%20%20%20%20%20%20%20%0A%0A%20%20%20%20%20%20%20%20%20%20%20%20marker_2a9a072fcf39429d9c220819bcff8fab.bindPopup%28popup_0b1c15ad968e4020a9f2fc6329f762b2%29%0A%20%20%20%20%20%20%20%20%20%20%20%20%3B%0A%0A%20%20%20%20%20%20%20%20%20%20%20%20%0A%20%20%20%20%20%20%20%20%0A%20%20%20%20%0A%20%20%20%20%20%20%20%20var%20marker_66587d609e8143b5b306caa4468ce494%20%3D%20L.marker%28%0A%20%20%20%20%20%20%20%20%20%20%20%20%5B43.77719444%2C%2011.24916444%5D%2C%0A%20%20%20%20%20%20%20%20%20%20%20%20%7B%0A%20%20%20%20%20%20%20%20%20%20%20%20%20%20%20%20icon%3A%20new%20L.Icon.Default%28%29%2C%0A%20%20%20%20%20%20%20%20%20%20%20%20%20%20%20%20%7D%0A%20%20%20%20%20%20%20%20%20%20%20%20%29.addTo%28map_146cd8147123498484976a07e362f27f%29%3B%0A%20%20%20%20%20%20%20%20%0A%20%20%20%20%0A%20%20%20%20%20%20%20%20%20%20%20%20var%20popup_54eb5bfdc98444f1ae117a8b0fe1b28d%20%3D%20L.popup%28%7BmaxWidth%3A%20%27100%25%27%0A%20%20%20%20%20%20%20%20%20%20%20%20%0A%20%20%20%20%20%20%20%20%20%20%20%20%7D%29%3B%0A%0A%20%20%20%20%20%20%20%20%20%20%20%20%0A%20%20%20%20%20%20%20%20%20%20%20%20%20%20%20%20var%20html_1d73fed46c5543268ba19937254159b4%20%3D%20%24%28%60%3Cdiv%20id%3D%22html_1d73fed46c5543268ba19937254159b4%22%20style%3D%22width%3A%20100.0%25%3B%20height%3A%20100.0%25%3B%22%3E%20%20%20%20%20%20%20%20%20%3Cul%3E%20%20%20%20%20%20%20%20%20%20%20%20%20%3Cli%3E%3Cstrong%3EID%3A%20%3C/strong%3E5357%3C/li%3E%20%20%20%20%20%20%20%20%20%20%20%20%20%3Cli%3E%3Cstrong%3ESource%3A%20%3C/strong%3EHenderson%20P%26C%20%2392%3C/li%3E%20%20%20%20%20%20%20%20%20%20%20%20%20%3Cli%3E%3Cstrong%3EOccupation%3A%20%3C/strong%3ELodovico%20di%20Giovanni%20Guiducci%3C/li%3E%20%20%20%20%20%20%20%20%20%3Cul%3E%20%20%20%20%20%3C/div%3E%60%29%5B0%5D%3B%0A%20%20%20%20%20%20%20%20%20%20%20%20%20%20%20%20popup_54eb5bfdc98444f1ae117a8b0fe1b28d.setContent%28html_1d73fed46c5543268ba19937254159b4%29%3B%0A%20%20%20%20%20%20%20%20%20%20%20%20%0A%0A%20%20%20%20%20%20%20%20%20%20%20%20marker_66587d609e8143b5b306caa4468ce494.bindPopup%28popup_54eb5bfdc98444f1ae117a8b0fe1b28d%29%0A%20%20%20%20%20%20%20%20%20%20%20%20%3B%0A%0A%20%20%20%20%20%20%20%20%20%20%20%20%0A%20%20%20%20%20%20%20%20%0A%20%20%20%20%0A%20%20%20%20%20%20%20%20var%20marker_04e5e4dc0286443399d6c2c2ff312a34%20%3D%20L.marker%28%0A%20%20%20%20%20%20%20%20%20%20%20%20%5B43.77600143%2C%2011.26026457%5D%2C%0A%20%20%20%20%20%20%20%20%20%20%20%20%7B%0A%20%20%20%20%20%20%20%20%20%20%20%20%20%20%20%20icon%3A%20new%20L.Icon.Default%28%29%2C%0A%20%20%20%20%20%20%20%20%20%20%20%20%20%20%20%20%7D%0A%20%20%20%20%20%20%20%20%20%20%20%20%29.addTo%28map_146cd8147123498484976a07e362f27f%29%3B%0A%20%20%20%20%20%20%20%20%0A%20%20%20%20%0A%20%20%20%20%20%20%20%20%20%20%20%20var%20popup_feb41f557a57490ba1f36c98edd1c13c%20%3D%20L.popup%28%7BmaxWidth%3A%20%27100%25%27%0A%20%20%20%20%20%20%20%20%20%20%20%20%0A%20%20%20%20%20%20%20%20%20%20%20%20%7D%29%3B%0A%0A%20%20%20%20%20%20%20%20%20%20%20%20%0A%20%20%20%20%20%20%20%20%20%20%20%20%20%20%20%20var%20html_2017bb41cad74f35971464e8d841de14%20%3D%20%24%28%60%3Cdiv%20id%3D%22html_2017bb41cad74f35971464e8d841de14%22%20style%3D%22width%3A%20100.0%25%3B%20height%3A%20100.0%25%3B%22%3E%20%20%20%20%20%20%20%20%20%3Cul%3E%20%20%20%20%20%20%20%20%20%20%20%20%20%3Cli%3E%3Cstrong%3EID%3A%20%3C/strong%3E2945%3C/li%3E%20%20%20%20%20%20%20%20%20%20%20%20%20%3Cli%3E%3Cstrong%3ESource%3A%20%3C/strong%3EHenderson%20P%26C%20%2392%3C/li%3E%20%20%20%20%20%20%20%20%20%20%20%20%20%3Cli%3E%3Cstrong%3EOccupation%3A%20%3C/strong%3Emesser%20Vincenzo%20di%20Jacopo%20Cancellieri%3C/li%3E%20%20%20%20%20%20%20%20%20%3Cul%3E%20%20%20%20%20%3C/div%3E%60%29%5B0%5D%3B%0A%20%20%20%20%20%20%20%20%20%20%20%20%20%20%20%20popup_feb41f557a57490ba1f36c98edd1c13c.setContent%28html_2017bb41cad74f35971464e8d841de14%29%3B%0A%20%20%20%20%20%20%20%20%20%20%20%20%0A%0A%20%20%20%20%20%20%20%20%20%20%20%20marker_04e5e4dc0286443399d6c2c2ff312a34.bindPopup%28popup_feb41f557a57490ba1f36c98edd1c13c%29%0A%20%20%20%20%20%20%20%20%20%20%20%20%3B%0A%0A%20%20%20%20%20%20%20%20%20%20%20%20%0A%20%20%20%20%20%20%20%20%0A%20%20%20%20%0A%20%20%20%20%20%20%20%20var%20marker_1bf335153d214e14bf1b0a46e2819dbc%20%3D%20L.marker%28%0A%20%20%20%20%20%20%20%20%20%20%20%20%5B43.77594286%2C%2011.26019514%5D%2C%0A%20%20%20%20%20%20%20%20%20%20%20%20%7B%0A%20%20%20%20%20%20%20%20%20%20%20%20%20%20%20%20icon%3A%20new%20L.Icon.Default%28%29%2C%0A%20%20%20%20%20%20%20%20%20%20%20%20%20%20%20%20%7D%0A%20%20%20%20%20%20%20%20%20%20%20%20%29.addTo%28map_146cd8147123498484976a07e362f27f%29%3B%0A%20%20%20%20%20%20%20%20%0A%20%20%20%20%0A%20%20%20%20%20%20%20%20%20%20%20%20var%20popup_105fc6f535674819afe1a884aa9678a7%20%3D%20L.popup%28%7BmaxWidth%3A%20%27100%25%27%0A%20%20%20%20%20%20%20%20%20%20%20%20%0A%20%20%20%20%20%20%20%20%20%20%20%20%7D%29%3B%0A%0A%20%20%20%20%20%20%20%20%20%20%20%20%0A%20%20%20%20%20%20%20%20%20%20%20%20%20%20%20%20var%20html_9e67b256dc5c4d9fb2ba799774f1cbd6%20%3D%20%24%28%60%3Cdiv%20id%3D%22html_9e67b256dc5c4d9fb2ba799774f1cbd6%22%20style%3D%22width%3A%20100.0%25%3B%20height%3A%20100.0%25%3B%22%3E%20%20%20%20%20%20%20%20%20%3Cul%3E%20%20%20%20%20%20%20%20%20%20%20%20%20%3Cli%3E%3Cstrong%3EID%3A%20%3C/strong%3E2946%3C/li%3E%20%20%20%20%20%20%20%20%20%20%20%20%20%3Cli%3E%3Cstrong%3ESource%3A%20%3C/strong%3EHenderson%20P%26C%20%2392%3C/li%3E%20%20%20%20%20%20%20%20%20%20%20%20%20%3Cli%3E%3Cstrong%3EOccupation%3A%20%3C/strong%3EGiovanfrancesco%20Filippo%3C/li%3E%20%20%20%20%20%20%20%20%20%3Cul%3E%20%20%20%20%20%3C/div%3E%60%29%5B0%5D%3B%0A%20%20%20%20%20%20%20%20%20%20%20%20%20%20%20%20popup_105fc6f535674819afe1a884aa9678a7.setContent%28html_9e67b256dc5c4d9fb2ba799774f1cbd6%29%3B%0A%20%20%20%20%20%20%20%20%20%20%20%20%0A%0A%20%20%20%20%20%20%20%20%20%20%20%20marker_1bf335153d214e14bf1b0a46e2819dbc.bindPopup%28popup_105fc6f535674819afe1a884aa9678a7%29%0A%20%20%20%20%20%20%20%20%20%20%20%20%3B%0A%0A%20%20%20%20%20%20%20%20%20%20%20%20%0A%20%20%20%20%20%20%20%20%0A%20%20%20%20%0A%20%20%20%20%20%20%20%20var%20marker_05c6e372713a432a852492432a8ab2d4%20%3D%20L.marker%28%0A%20%20%20%20%20%20%20%20%20%20%20%20%5B43.77588429%2C%2011.26012571%5D%2C%0A%20%20%20%20%20%20%20%20%20%20%20%20%7B%0A%20%20%20%20%20%20%20%20%20%20%20%20%20%20%20%20icon%3A%20new%20L.Icon.Default%28%29%2C%0A%20%20%20%20%20%20%20%20%20%20%20%20%20%20%20%20%7D%0A%20%20%20%20%20%20%20%20%20%20%20%20%29.addTo%28map_146cd8147123498484976a07e362f27f%29%3B%0A%20%20%20%20%20%20%20%20%0A%20%20%20%20%0A%20%20%20%20%20%20%20%20%20%20%20%20var%20popup_73c8827d3fe54c0e92323a3754667818%20%3D%20L.popup%28%7BmaxWidth%3A%20%27100%25%27%0A%20%20%20%20%20%20%20%20%20%20%20%20%0A%20%20%20%20%20%20%20%20%20%20%20%20%7D%29%3B%0A%0A%20%20%20%20%20%20%20%20%20%20%20%20%0A%20%20%20%20%20%20%20%20%20%20%20%20%20%20%20%20var%20html_18adae80efb14b5693effe99cba4ef25%20%3D%20%24%28%60%3Cdiv%20id%3D%22html_18adae80efb14b5693effe99cba4ef25%22%20style%3D%22width%3A%20100.0%25%3B%20height%3A%20100.0%25%3B%22%3E%20%20%20%20%20%20%20%20%20%3Cul%3E%20%20%20%20%20%20%20%20%20%20%20%20%20%3Cli%3E%3Cstrong%3EID%3A%20%3C/strong%3E2947%3C/li%3E%20%20%20%20%20%20%20%20%20%20%20%20%20%3Cli%3E%3Cstrong%3ESource%3A%20%3C/strong%3EHenderson%20P%26C%20%2392%3C/li%3E%20%20%20%20%20%20%20%20%20%20%20%20%20%3Cli%3E%3Cstrong%3EOccupation%3A%20%3C/strong%3Eser%20Lorenzo%20di%20Francesco%20Carboli%3C/li%3E%20%20%20%20%20%20%20%20%20%3Cul%3E%20%20%20%20%20%3C/div%3E%60%29%5B0%5D%3B%0A%20%20%20%20%20%20%20%20%20%20%20%20%20%20%20%20popup_73c8827d3fe54c0e92323a3754667818.setContent%28html_18adae80efb14b5693effe99cba4ef25%29%3B%0A%20%20%20%20%20%20%20%20%20%20%20%20%0A%0A%20%20%20%20%20%20%20%20%20%20%20%20marker_05c6e372713a432a852492432a8ab2d4.bindPopup%28popup_73c8827d3fe54c0e92323a3754667818%29%0A%20%20%20%20%20%20%20%20%20%20%20%20%3B%0A%0A%20%20%20%20%20%20%20%20%20%20%20%20%0A%20%20%20%20%20%20%20%20%0A%20%20%20%20%0A%20%20%20%20%20%20%20%20var%20marker_56788b446d5a4122a4560ac03b835e2a%20%3D%20L.marker%28%0A%20%20%20%20%20%20%20%20%20%20%20%20%5B43.77606%2C%2011.260334%5D%2C%0A%20%20%20%20%20%20%20%20%20%20%20%20%7B%0A%20%20%20%20%20%20%20%20%20%20%20%20%20%20%20%20icon%3A%20new%20L.Icon.Default%28%29%2C%0A%20%20%20%20%20%20%20%20%20%20%20%20%20%20%20%20%7D%0A%20%20%20%20%20%20%20%20%20%20%20%20%29.addTo%28map_146cd8147123498484976a07e362f27f%29%3B%0A%20%20%20%20%20%20%20%20%0A%20%20%20%20%0A%20%20%20%20%20%20%20%20%20%20%20%20var%20popup_86a967e65ed14446986003a75f0ee723%20%3D%20L.popup%28%7BmaxWidth%3A%20%27100%25%27%0A%20%20%20%20%20%20%20%20%20%20%20%20%0A%20%20%20%20%20%20%20%20%20%20%20%20%7D%29%3B%0A%0A%20%20%20%20%20%20%20%20%20%20%20%20%0A%20%20%20%20%20%20%20%20%20%20%20%20%20%20%20%20var%20html_d8698f0191f941d8b19dfd94bdb0de98%20%3D%20%24%28%60%3Cdiv%20id%3D%22html_d8698f0191f941d8b19dfd94bdb0de98%22%20style%3D%22width%3A%20100.0%25%3B%20height%3A%20100.0%25%3B%22%3E%20%20%20%20%20%20%20%20%20%3Cul%3E%20%20%20%20%20%20%20%20%20%20%20%20%20%3Cli%3E%3Cstrong%3EID%3A%20%3C/strong%3E2963%3C/li%3E%20%20%20%20%20%20%20%20%20%20%20%20%20%3Cli%3E%3Cstrong%3ESource%3A%20%3C/strong%3EHenderson%20P%26C%20%2392%3C/li%3E%20%20%20%20%20%20%20%20%20%20%20%20%20%3Cli%3E%3Cstrong%3EOccupation%3A%20%3C/strong%3EPierfilippo%20di%20Gramiozzo%20Pandolfini%3C/li%3E%20%20%20%20%20%20%20%20%20%3Cul%3E%20%20%20%20%20%3C/div%3E%60%29%5B0%5D%3B%0A%20%20%20%20%20%20%20%20%20%20%20%20%20%20%20%20popup_86a967e65ed14446986003a75f0ee723.setContent%28html_d8698f0191f941d8b19dfd94bdb0de98%29%3B%0A%20%20%20%20%20%20%20%20%20%20%20%20%0A%0A%20%20%20%20%20%20%20%20%20%20%20%20marker_56788b446d5a4122a4560ac03b835e2a.bindPopup%28popup_86a967e65ed14446986003a75f0ee723%29%0A%20%20%20%20%20%20%20%20%20%20%20%20%3B%0A%0A%20%20%20%20%20%20%20%20%20%20%20%20%0A%20%20%20%20%20%20%20%20%0A%20%20%20%20%0A%20%20%20%20%20%20%20%20var%20marker_691b4c7798954b0abcb634bd0673b31c%20%3D%20L.marker%28%0A%20%20%20%20%20%20%20%20%20%20%20%20%5B43.7713504%2C%2011.2626168%5D%2C%0A%20%20%20%20%20%20%20%20%20%20%20%20%7B%0A%20%20%20%20%20%20%20%20%20%20%20%20%20%20%20%20icon%3A%20new%20L.Icon.Default%28%29%2C%0A%20%20%20%20%20%20%20%20%20%20%20%20%20%20%20%20%7D%0A%20%20%20%20%20%20%20%20%20%20%20%20%29.addTo%28map_146cd8147123498484976a07e362f27f%29%3B%0A%20%20%20%20%20%20%20%20%0A%20%20%20%20%0A%20%20%20%20%20%20%20%20%20%20%20%20var%20popup_0789bcbfbec64d92af1e072c78382f23%20%3D%20L.popup%28%7BmaxWidth%3A%20%27100%25%27%0A%20%20%20%20%20%20%20%20%20%20%20%20%0A%20%20%20%20%20%20%20%20%20%20%20%20%7D%29%3B%0A%0A%20%20%20%20%20%20%20%20%20%20%20%20%0A%20%20%20%20%20%20%20%20%20%20%20%20%20%20%20%20var%20html_85f4c983ce904497b9080f9aedb591e5%20%3D%20%24%28%60%3Cdiv%20id%3D%22html_85f4c983ce904497b9080f9aedb591e5%22%20style%3D%22width%3A%20100.0%25%3B%20height%3A%20100.0%25%3B%22%3E%20%20%20%20%20%20%20%20%20%3Cul%3E%20%20%20%20%20%20%20%20%20%20%20%20%20%3Cli%3E%3Cstrong%3EID%3A%20%3C/strong%3E3296%3C/li%3E%20%20%20%20%20%20%20%20%20%20%20%20%20%3Cli%3E%3Cstrong%3ESource%3A%20%3C/strong%3EHenderson%20P%26C%20%2392%3C/li%3E%20%20%20%20%20%20%20%20%20%20%20%20%20%3Cli%3E%3Cstrong%3EOccupation%3A%20%3C/strong%3EPiero%20di%20Simone%20Querei%20da%20Sesto%2C%20cieco%3C/li%3E%20%20%20%20%20%20%20%20%20%3Cul%3E%20%20%20%20%20%3C/div%3E%60%29%5B0%5D%3B%0A%20%20%20%20%20%20%20%20%20%20%20%20%20%20%20%20popup_0789bcbfbec64d92af1e072c78382f23.setContent%28html_85f4c983ce904497b9080f9aedb591e5%29%3B%0A%20%20%20%20%20%20%20%20%20%20%20%20%0A%0A%20%20%20%20%20%20%20%20%20%20%20%20marker_691b4c7798954b0abcb634bd0673b31c.bindPopup%28popup_0789bcbfbec64d92af1e072c78382f23%29%0A%20%20%20%20%20%20%20%20%20%20%20%20%3B%0A%0A%20%20%20%20%20%20%20%20%20%20%20%20%0A%20%20%20%20%20%20%20%20%0A%20%20%20%20%0A%20%20%20%20%20%20%20%20var%20marker_4069b90e0ab049c09d41287801ca6d67%20%3D%20L.marker%28%0A%20%20%20%20%20%20%20%20%20%20%20%20%5B43.77074933%2C%2011.26244367%5D%2C%0A%20%20%20%20%20%20%20%20%20%20%20%20%7B%0A%20%20%20%20%20%20%20%20%20%20%20%20%20%20%20%20icon%3A%20new%20L.Icon.Default%28%29%2C%0A%20%20%20%20%20%20%20%20%20%20%20%20%20%20%20%20%7D%0A%20%20%20%20%20%20%20%20%20%20%20%20%29.addTo%28map_146cd8147123498484976a07e362f27f%29%3B%0A%20%20%20%20%20%20%20%20%0A%20%20%20%20%0A%20%20%20%20%20%20%20%20%20%20%20%20var%20popup_6f94c6073a6c4b769dddaa4de3b10a65%20%3D%20L.popup%28%7BmaxWidth%3A%20%27100%25%27%0A%20%20%20%20%20%20%20%20%20%20%20%20%0A%20%20%20%20%20%20%20%20%20%20%20%20%7D%29%3B%0A%0A%20%20%20%20%20%20%20%20%20%20%20%20%0A%20%20%20%20%20%20%20%20%20%20%20%20%20%20%20%20var%20html_c231734c22264870ba5487d70281737e%20%3D%20%24%28%60%3Cdiv%20id%3D%22html_c231734c22264870ba5487d70281737e%22%20style%3D%22width%3A%20100.0%25%3B%20height%3A%20100.0%25%3B%22%3E%20%20%20%20%20%20%20%20%20%3Cul%3E%20%20%20%20%20%20%20%20%20%20%20%20%20%3Cli%3E%3Cstrong%3EID%3A%20%3C/strong%3E3455%3C/li%3E%20%20%20%20%20%20%20%20%20%20%20%20%20%3Cli%3E%3Cstrong%3ESource%3A%20%3C/strong%3EHenderson%20P%26C%20%2392%3C/li%3E%20%20%20%20%20%20%20%20%20%20%20%20%20%3Cli%3E%3Cstrong%3EOccupation%3A%20%3C/strong%3EDomenico%20di%20Benedetto%20da%20Castello%2C%20tessitore%3C/li%3E%20%20%20%20%20%20%20%20%20%3Cul%3E%20%20%20%20%20%3C/div%3E%60%29%5B0%5D%3B%0A%20%20%20%20%20%20%20%20%20%20%20%20%20%20%20%20popup_6f94c6073a6c4b769dddaa4de3b10a65.setContent%28html_c231734c22264870ba5487d70281737e%29%3B%0A%20%20%20%20%20%20%20%20%20%20%20%20%0A%0A%20%20%20%20%20%20%20%20%20%20%20%20marker_4069b90e0ab049c09d41287801ca6d67.bindPopup%28popup_6f94c6073a6c4b769dddaa4de3b10a65%29%0A%20%20%20%20%20%20%20%20%20%20%20%20%3B%0A%0A%20%20%20%20%20%20%20%20%20%20%20%20%0A%20%20%20%20%20%20%20%20%0A%20%20%20%20%0A%20%20%20%20%20%20%20%20var%20marker_098e5d50734940a2a5f7702ad8e3aaf8%20%3D%20L.marker%28%0A%20%20%20%20%20%20%20%20%20%20%20%20%5B43.76905%2C%2011.26039%5D%2C%0A%20%20%20%20%20%20%20%20%20%20%20%20%7B%0A%20%20%20%20%20%20%20%20%20%20%20%20%20%20%20%20icon%3A%20new%20L.Icon.Default%28%29%2C%0A%20%20%20%20%20%20%20%20%20%20%20%20%20%20%20%20%7D%0A%20%20%20%20%20%20%20%20%20%20%20%20%29.addTo%28map_146cd8147123498484976a07e362f27f%29%3B%0A%20%20%20%20%20%20%20%20%0A%20%20%20%20%0A%20%20%20%20%20%20%20%20%20%20%20%20var%20popup_188316bba08c4afcb4c5b2762c47f247%20%3D%20L.popup%28%7BmaxWidth%3A%20%27100%25%27%0A%20%20%20%20%20%20%20%20%20%20%20%20%0A%20%20%20%20%20%20%20%20%20%20%20%20%7D%29%3B%0A%0A%20%20%20%20%20%20%20%20%20%20%20%20%0A%20%20%20%20%20%20%20%20%20%20%20%20%20%20%20%20var%20html_402efd226b404aeea07e409e740a6db2%20%3D%20%24%28%60%3Cdiv%20id%3D%22html_402efd226b404aeea07e409e740a6db2%22%20style%3D%22width%3A%20100.0%25%3B%20height%3A%20100.0%25%3B%22%3E%20%20%20%20%20%20%20%20%20%3Cul%3E%20%20%20%20%20%20%20%20%20%20%20%20%20%3Cli%3E%3Cstrong%3EID%3A%20%3C/strong%3E4120%3C/li%3E%20%20%20%20%20%20%20%20%20%20%20%20%20%3Cli%3E%3Cstrong%3ESource%3A%20%3C/strong%3EHenderson%20P%26C%20%2392%3C/li%3E%20%20%20%20%20%20%20%20%20%20%20%20%20%3Cli%3E%3Cstrong%3EOccupation%3A%20%3C/strong%3EMagistro%20Giovanni%20di%20Bartolomeo%20di%20Giovanni%2C%20ciabattino%3C/li%3E%20%20%20%20%20%20%20%20%20%3Cul%3E%20%20%20%20%20%3C/div%3E%60%29%5B0%5D%3B%0A%20%20%20%20%20%20%20%20%20%20%20%20%20%20%20%20popup_188316bba08c4afcb4c5b2762c47f247.setContent%28html_402efd226b404aeea07e409e740a6db2%29%3B%0A%20%20%20%20%20%20%20%20%20%20%20%20%0A%0A%20%20%20%20%20%20%20%20%20%20%20%20marker_098e5d50734940a2a5f7702ad8e3aaf8.bindPopup%28popup_188316bba08c4afcb4c5b2762c47f247%29%0A%20%20%20%20%20%20%20%20%20%20%20%20%3B%0A%0A%20%20%20%20%20%20%20%20%20%20%20%20%0A%20%20%20%20%20%20%20%20%0A%20%20%20%20%0A%20%20%20%20%20%20%20%20var%20marker_18e4332bd83c4522b3c9573739902284%20%3D%20L.marker%28%0A%20%20%20%20%20%20%20%20%20%20%20%20%5B43.76794%2C%2011.25578%5D%2C%0A%20%20%20%20%20%20%20%20%20%20%20%20%7B%0A%20%20%20%20%20%20%20%20%20%20%20%20%20%20%20%20icon%3A%20new%20L.Icon.Default%28%29%2C%0A%20%20%20%20%20%20%20%20%20%20%20%20%20%20%20%20%7D%0A%20%20%20%20%20%20%20%20%20%20%20%20%29.addTo%28map_146cd8147123498484976a07e362f27f%29%3B%0A%20%20%20%20%20%20%20%20%0A%20%20%20%20%0A%20%20%20%20%20%20%20%20%20%20%20%20var%20popup_58b0858547404342acf70dc14713af85%20%3D%20L.popup%28%7BmaxWidth%3A%20%27100%25%27%0A%20%20%20%20%20%20%20%20%20%20%20%20%0A%20%20%20%20%20%20%20%20%20%20%20%20%7D%29%3B%0A%0A%20%20%20%20%20%20%20%20%20%20%20%20%0A%20%20%20%20%20%20%20%20%20%20%20%20%20%20%20%20var%20html_4eea59bb009141cab982d071fc0936d0%20%3D%20%24%28%60%3Cdiv%20id%3D%22html_4eea59bb009141cab982d071fc0936d0%22%20style%3D%22width%3A%20100.0%25%3B%20height%3A%20100.0%25%3B%22%3E%20%20%20%20%20%20%20%20%20%3Cul%3E%20%20%20%20%20%20%20%20%20%20%20%20%20%3Cli%3E%3Cstrong%3EID%3A%20%3C/strong%3E4651%3C/li%3E%20%20%20%20%20%20%20%20%20%20%20%20%20%3Cli%3E%3Cstrong%3ESource%3A%20%3C/strong%3EHenderson%20P%26C%20%2392%3C/li%3E%20%20%20%20%20%20%20%20%20%20%20%20%20%3Cli%3E%3Cstrong%3EOccupation%3A%20%3C/strong%3ETaddeo%2C%20sarto%3C/li%3E%20%20%20%20%20%20%20%20%20%3Cul%3E%20%20%20%20%20%3C/div%3E%60%29%5B0%5D%3B%0A%20%20%20%20%20%20%20%20%20%20%20%20%20%20%20%20popup_58b0858547404342acf70dc14713af85.setContent%28html_4eea59bb009141cab982d071fc0936d0%29%3B%0A%20%20%20%20%20%20%20%20%20%20%20%20%0A%0A%20%20%20%20%20%20%20%20%20%20%20%20marker_18e4332bd83c4522b3c9573739902284.bindPopup%28popup_58b0858547404342acf70dc14713af85%29%0A%20%20%20%20%20%20%20%20%20%20%20%20%3B%0A%0A%20%20%20%20%20%20%20%20%20%20%20%20%0A%20%20%20%20%20%20%20%20%0A%20%20%20%20%0A%20%20%20%20%20%20%20%20var%20marker_e0212e6a617443378d85cffb212e5be7%20%3D%20L.marker%28%0A%20%20%20%20%20%20%20%20%20%20%20%20%5B43.77055767%2C%2011.27046367%5D%2C%0A%20%20%20%20%20%20%20%20%20%20%20%20%7B%0A%20%20%20%20%20%20%20%20%20%20%20%20%20%20%20%20icon%3A%20new%20L.Icon.Default%28%29%2C%0A%20%20%20%20%20%20%20%20%20%20%20%20%20%20%20%20%7D%0A%20%20%20%20%20%20%20%20%20%20%20%20%29.addTo%28map_146cd8147123498484976a07e362f27f%29%3B%0A%20%20%20%20%20%20%20%20%0A%20%20%20%20%0A%20%20%20%20%20%20%20%20%20%20%20%20var%20popup_687bf02071ce4f2f9d76de23836fc013%20%3D%20L.popup%28%7BmaxWidth%3A%20%27100%25%27%0A%20%20%20%20%20%20%20%20%20%20%20%20%0A%20%20%20%20%20%20%20%20%20%20%20%20%7D%29%3B%0A%0A%20%20%20%20%20%20%20%20%20%20%20%20%0A%20%20%20%20%20%20%20%20%20%20%20%20%20%20%20%20var%20html_7951ba88ce2d4547b5929db02b6983a0%20%3D%20%24%28%60%3Cdiv%20id%3D%22html_7951ba88ce2d4547b5929db02b6983a0%22%20style%3D%22width%3A%20100.0%25%3B%20height%3A%20100.0%25%3B%22%3E%20%20%20%20%20%20%20%20%20%3Cul%3E%20%20%20%20%20%20%20%20%20%20%20%20%20%3Cli%3E%3Cstrong%3EID%3A%20%3C/strong%3E2073%3C/li%3E%20%20%20%20%20%20%20%20%20%20%20%20%20%3Cli%3E%3Cstrong%3ESource%3A%20%3C/strong%3EHenderson%20P%26C%20%23114%3C/li%3E%20%20%20%20%20%20%20%20%20%20%20%20%20%3Cli%3E%3Cstrong%3EName%3A%20%3C/strong%3EDomenico%20di%20Francesco%20di%20Casantino%3C/li%3E%20%20%20%20%20%20%20%20%20%3Cul%3E%20%20%20%20%20%3C/div%3E%60%29%5B0%5D%3B%0A%20%20%20%20%20%20%20%20%20%20%20%20%20%20%20%20popup_687bf02071ce4f2f9d76de23836fc013.setContent%28html_7951ba88ce2d4547b5929db02b6983a0%29%3B%0A%20%20%20%20%20%20%20%20%20%20%20%20%0A%0A%20%20%20%20%20%20%20%20%20%20%20%20marker_e0212e6a617443378d85cffb212e5be7.bindPopup%28popup_687bf02071ce4f2f9d76de23836fc013%29%0A%20%20%20%20%20%20%20%20%20%20%20%20%3B%0A%0A%20%20%20%20%20%20%20%20%20%20%20%20%0A%20%20%20%20%20%20%20%20%0A%20%20%20%20%0A%20%20%20%20%20%20%20%20var%20marker_13242b0bc7974e3eba6f0857bfc0c635%20%3D%20L.marker%28%0A%20%20%20%20%20%20%20%20%20%20%20%20%5B43.770336%2C%2011.264497%5D%2C%0A%20%20%20%20%20%20%20%20%20%20%20%20%7B%0A%20%20%20%20%20%20%20%20%20%20%20%20%20%20%20%20icon%3A%20new%20L.Icon.Default%28%29%2C%0A%20%20%20%20%20%20%20%20%20%20%20%20%20%20%20%20%7D%0A%20%20%20%20%20%20%20%20%20%20%20%20%29.addTo%28map_146cd8147123498484976a07e362f27f%29%3B%0A%20%20%20%20%20%20%20%20%0A%20%20%20%20%0A%20%20%20%20%20%20%20%20%20%20%20%20var%20popup_37ee658aa547403e85480ec443849035%20%3D%20L.popup%28%7BmaxWidth%3A%20%27100%25%27%0A%20%20%20%20%20%20%20%20%20%20%20%20%0A%20%20%20%20%20%20%20%20%20%20%20%20%7D%29%3B%0A%0A%20%20%20%20%20%20%20%20%20%20%20%20%0A%20%20%20%20%20%20%20%20%20%20%20%20%20%20%20%20var%20html_06b8302d7fd043ce97d0c76a97087b4e%20%3D%20%24%28%60%3Cdiv%20id%3D%22html_06b8302d7fd043ce97d0c76a97087b4e%22%20style%3D%22width%3A%20100.0%25%3B%20height%3A%20100.0%25%3B%22%3E%20%20%20%20%20%20%20%20%20%3Cul%3E%20%20%20%20%20%20%20%20%20%20%20%20%20%3Cli%3E%3Cstrong%3EID%3A%20%3C/strong%3E3219%3C/li%3E%20%20%20%20%20%20%20%20%20%20%20%20%20%3Cli%3E%3Cstrong%3ESource%3A%20%3C/strong%3EHenderson%20P%26C%20%23137%3C/li%3E%20%20%20%20%20%20%20%20%20%20%20%20%20%3Cli%3E%3Cstrong%3EName%3A%20%3C/strong%3EMarchonne%20di%20Giovannni%20Dazzi%3C/li%3E%20%20%20%20%20%20%20%20%20%3Cul%3E%20%20%20%20%20%3C/div%3E%60%29%5B0%5D%3B%0A%20%20%20%20%20%20%20%20%20%20%20%20%20%20%20%20popup_37ee658aa547403e85480ec443849035.setContent%28html_06b8302d7fd043ce97d0c76a97087b4e%29%3B%0A%20%20%20%20%20%20%20%20%20%20%20%20%0A%0A%20%20%20%20%20%20%20%20%20%20%20%20marker_13242b0bc7974e3eba6f0857bfc0c635.bindPopup%28popup_37ee658aa547403e85480ec443849035%29%0A%20%20%20%20%20%20%20%20%20%20%20%20%3B%0A%0A%20%20%20%20%20%20%20%20%20%20%20%20%0A%20%20%20%20%20%20%20%20%0A%20%20%20%20%0A%20%20%20%20%20%20%20%20var%20marker_fb035f4d0a9143fb915abecbe9d060a9%20%3D%20L.marker%28%0A%20%20%20%20%20%20%20%20%20%20%20%20%5B43.77111764%2C%2011.26918979%5D%2C%0A%20%20%20%20%20%20%20%20%20%20%20%20%7B%0A%20%20%20%20%20%20%20%20%20%20%20%20%20%20%20%20icon%3A%20new%20L.Icon.Default%28%29%2C%0A%20%20%20%20%20%20%20%20%20%20%20%20%20%20%20%20%7D%0A%20%20%20%20%20%20%20%20%20%20%20%20%29.addTo%28map_146cd8147123498484976a07e362f27f%29%3B%0A%20%20%20%20%20%20%20%20%0A%20%20%20%20%0A%20%20%20%20%20%20%20%20%20%20%20%20var%20popup_9406e90177fa421890c206bc5ffe7885%20%3D%20L.popup%28%7BmaxWidth%3A%20%27100%25%27%0A%20%20%20%20%20%20%20%20%20%20%20%20%0A%20%20%20%20%20%20%20%20%20%20%20%20%7D%29%3B%0A%0A%20%20%20%20%20%20%20%20%20%20%20%20%0A%20%20%20%20%20%20%20%20%20%20%20%20%20%20%20%20var%20html_b730af9b59dc4429a57f438dfdd0ec54%20%3D%20%24%28%60%3Cdiv%20id%3D%22html_b730af9b59dc4429a57f438dfdd0ec54%22%20style%3D%22width%3A%20100.0%25%3B%20height%3A%20100.0%25%3B%22%3E%20%20%20%20%20%20%20%20%20%3Cul%3E%20%20%20%20%20%20%20%20%20%20%20%20%20%3Cli%3E%3Cstrong%3EID%3A%20%3C/strong%3E2203%3C/li%3E%20%20%20%20%20%20%20%20%20%20%20%20%20%3Cli%3E%3Cstrong%3ESource%3A%20%3C/strong%3EHenderson%20P%26C%20%23137%3C/li%3E%20%20%20%20%20%20%20%20%20%20%20%20%20%3Cli%3E%3Cstrong%3EName%3A%20%3C/strong%3ELa%20Dianora%2C%20vedova%2C%20donna%20fu%20di%20Piero%20Bastachi%3C/li%3E%20%20%20%20%20%20%20%20%20%3Cul%3E%20%20%20%20%20%3C/div%3E%60%29%5B0%5D%3B%0A%20%20%20%20%20%20%20%20%20%20%20%20%20%20%20%20popup_9406e90177fa421890c206bc5ffe7885.setContent%28html_b730af9b59dc4429a57f438dfdd0ec54%29%3B%0A%20%20%20%20%20%20%20%20%20%20%20%20%0A%0A%20%20%20%20%20%20%20%20%20%20%20%20marker_fb035f4d0a9143fb915abecbe9d060a9.bindPopup%28popup_9406e90177fa421890c206bc5ffe7885%29%0A%20%20%20%20%20%20%20%20%20%20%20%20%3B%0A%0A%20%20%20%20%20%20%20%20%20%20%20%20%0A%20%20%20%20%20%20%20%20%0A%20%20%20%20%0A%20%20%20%20%20%20%20%20var%20marker_82d4157289eb4d2ab9a4c09c9f077595%20%3D%20L.marker%28%0A%20%20%20%20%20%20%20%20%20%20%20%20%5B43.775931%2C%2011.252323%5D%2C%0A%20%20%20%20%20%20%20%20%20%20%20%20%7B%0A%20%20%20%20%20%20%20%20%20%20%20%20%20%20%20%20icon%3A%20new%20L.Icon.Default%28%29%2C%0A%20%20%20%20%20%20%20%20%20%20%20%20%20%20%20%20%7D%0A%20%20%20%20%20%20%20%20%20%20%20%20%29.addTo%28map_146cd8147123498484976a07e362f27f%29%3B%0A%20%20%20%20%20%20%20%20%0A%20%20%20%20%0A%20%20%20%20%20%20%20%20%20%20%20%20var%20popup_d4684d31a4b4412ea874f85c99067edb%20%3D%20L.popup%28%7BmaxWidth%3A%20%27100%25%27%0A%20%20%20%20%20%20%20%20%20%20%20%20%0A%20%20%20%20%20%20%20%20%20%20%20%20%7D%29%3B%0A%0A%20%20%20%20%20%20%20%20%20%20%20%20%0A%20%20%20%20%20%20%20%20%20%20%20%20%20%20%20%20var%20html_3e48fca3d68c464d88b9a6043e926989%20%3D%20%24%28%60%3Cdiv%20id%3D%22html_3e48fca3d68c464d88b9a6043e926989%22%20style%3D%22width%3A%20100.0%25%3B%20height%3A%20100.0%25%3B%22%3E%20%20%20%20%20%20%20%20%20%3Cul%3E%20%20%20%20%20%20%20%20%20%20%20%20%20%3Cli%3E%3Cstrong%3EID%3A%20%3C/strong%3E147%3C/li%3E%20%20%20%20%20%20%20%20%20%20%20%20%20%3Cli%3E%3Cstrong%3ESource%3A%20%3C/strong%3EHenderson%20P%26C%20104%3C/li%3E%20%20%20%20%20%20%20%20%20%20%20%20%20%3Cli%3E%3Cstrong%3EName%3A%20%3C/strong%3EBenedetto%20di%20Monsacco%3C/li%3E%20%20%20%20%20%20%20%20%20%3Cul%3E%20%20%20%20%20%3C/div%3E%60%29%5B0%5D%3B%0A%20%20%20%20%20%20%20%20%20%20%20%20%20%20%20%20popup_d4684d31a4b4412ea874f85c99067edb.setContent%28html_3e48fca3d68c464d88b9a6043e926989%29%3B%0A%20%20%20%20%20%20%20%20%20%20%20%20%0A%0A%20%20%20%20%20%20%20%20%20%20%20%20marker_82d4157289eb4d2ab9a4c09c9f077595.bindPopup%28popup_d4684d31a4b4412ea874f85c99067edb%29%0A%20%20%20%20%20%20%20%20%20%20%20%20%3B%0A%0A%20%20%20%20%20%20%20%20%20%20%20%20%0A%20%20%20%20%20%20%20%20%0A%20%20%20%20%0A%20%20%20%20%20%20%20%20var%20marker_892b24bb07ff44de9816833ef25bda41%20%3D%20L.marker%28%0A%20%20%20%20%20%20%20%20%20%20%20%20%5B43.76581%2C%2011.24711857%5D%2C%0A%20%20%20%20%20%20%20%20%20%20%20%20%7B%0A%20%20%20%20%20%20%20%20%20%20%20%20%20%20%20%20icon%3A%20new%20L.Icon.Default%28%29%2C%0A%20%20%20%20%20%20%20%20%20%20%20%20%20%20%20%20%7D%0A%20%20%20%20%20%20%20%20%20%20%20%20%29.addTo%28map_146cd8147123498484976a07e362f27f%29%3B%0A%20%20%20%20%20%20%20%20%0A%20%20%20%20%0A%20%20%20%20%20%20%20%20%20%20%20%20var%20popup_e534f46da0a54aa8a84f8602fac6480e%20%3D%20L.popup%28%7BmaxWidth%3A%20%27100%25%27%0A%20%20%20%20%20%20%20%20%20%20%20%20%0A%20%20%20%20%20%20%20%20%20%20%20%20%7D%29%3B%0A%0A%20%20%20%20%20%20%20%20%20%20%20%20%0A%20%20%20%20%20%20%20%20%20%20%20%20%20%20%20%20var%20html_07a2999827c542a2bc56d019f40df859%20%3D%20%24%28%60%3Cdiv%20id%3D%22html_07a2999827c542a2bc56d019f40df859%22%20style%3D%22width%3A%20100.0%25%3B%20height%3A%20100.0%25%3B%22%3E%20%20%20%20%20%20%20%20%20%3Cul%3E%20%20%20%20%20%20%20%20%20%20%20%20%20%3Cli%3E%3Cstrong%3EID%3A%20%3C/strong%3E7343%3C/li%3E%20%20%20%20%20%20%20%20%20%20%20%20%20%3Cli%3E%3Cstrong%3ESource%3A%20%3C/strong%3EHenderson%20P%26C%20%2378%3C/li%3E%20%20%20%20%20%20%20%20%20%20%20%20%20%3Cli%3E%3Cstrong%3EName%3A%20%3C/strong%3EGiovannozzo%20di%20Raffaello%20Parenti%3C/li%3E%20%20%20%20%20%20%20%20%20%3Cul%3E%20%20%20%20%20%3C/div%3E%60%29%5B0%5D%3B%0A%20%20%20%20%20%20%20%20%20%20%20%20%20%20%20%20popup_e534f46da0a54aa8a84f8602fac6480e.setContent%28html_07a2999827c542a2bc56d019f40df859%29%3B%0A%20%20%20%20%20%20%20%20%20%20%20%20%0A%0A%20%20%20%20%20%20%20%20%20%20%20%20marker_892b24bb07ff44de9816833ef25bda41.bindPopup%28popup_e534f46da0a54aa8a84f8602fac6480e%29%0A%20%20%20%20%20%20%20%20%20%20%20%20%3B%0A%0A%20%20%20%20%20%20%20%20%20%20%20%20%0A%20%20%20%20%20%20%20%20%0A%20%20%20%20%0A%20%20%20%20%20%20%20%20var%20marker_9b7d68cbeefa4788858c1b6499268a1f%20%3D%20L.marker%28%0A%20%20%20%20%20%20%20%20%20%20%20%20%5B43.7674384%2C%2011.244969%5D%2C%0A%20%20%20%20%20%20%20%20%20%20%20%20%7B%0A%20%20%20%20%20%20%20%20%20%20%20%20%20%20%20%20icon%3A%20new%20L.Icon.Default%28%29%2C%0A%20%20%20%20%20%20%20%20%20%20%20%20%20%20%20%20%7D%0A%20%20%20%20%20%20%20%20%20%20%20%20%29.addTo%28map_146cd8147123498484976a07e362f27f%29%3B%0A%20%20%20%20%20%20%20%20%0A%20%20%20%20%0A%20%20%20%20%20%20%20%20%20%20%20%20var%20popup_c2e0e08ab52a467c97d3d059f6ef6b47%20%3D%20L.popup%28%7BmaxWidth%3A%20%27100%25%27%0A%20%20%20%20%20%20%20%20%20%20%20%20%0A%20%20%20%20%20%20%20%20%20%20%20%20%7D%29%3B%0A%0A%20%20%20%20%20%20%20%20%20%20%20%20%0A%20%20%20%20%20%20%20%20%20%20%20%20%20%20%20%20var%20html_566edcd3160e41d38ab1b664ec2da2ca%20%3D%20%24%28%60%3Cdiv%20id%3D%22html_566edcd3160e41d38ab1b664ec2da2ca%22%20style%3D%22width%3A%20100.0%25%3B%20height%3A%20100.0%25%3B%22%3E%20%20%20%20%20%20%20%20%20%3Cul%3E%20%20%20%20%20%20%20%20%20%20%20%20%20%3Cli%3E%3Cstrong%3EID%3A%20%3C/strong%3E8476%3C/li%3E%20%20%20%20%20%20%20%20%20%20%20%20%20%3Cli%3E%3Cstrong%3ESource%3A%20%3C/strong%3EHenderson%20P%26C%20%2392%3C/li%3E%20%20%20%20%20%20%20%20%20%20%20%20%20%3Cli%3E%3Cstrong%3EName%3A%20%3C/strong%3Eun%20pigionale%3C/li%3E%20%20%20%20%20%20%20%20%20%3Cul%3E%20%20%20%20%20%3C/div%3E%60%29%5B0%5D%3B%0A%20%20%20%20%20%20%20%20%20%20%20%20%20%20%20%20popup_c2e0e08ab52a467c97d3d059f6ef6b47.setContent%28html_566edcd3160e41d38ab1b664ec2da2ca%29%3B%0A%20%20%20%20%20%20%20%20%20%20%20%20%0A%0A%20%20%20%20%20%20%20%20%20%20%20%20marker_9b7d68cbeefa4788858c1b6499268a1f.bindPopup%28popup_c2e0e08ab52a467c97d3d059f6ef6b47%29%0A%20%20%20%20%20%20%20%20%20%20%20%20%3B%0A%0A%20%20%20%20%20%20%20%20%20%20%20%20%0A%20%20%20%20%20%20%20%20%0A%20%20%20%20%0A%20%20%20%20%20%20%20%20var%20marker_ecfab46f67c94c0498e1fe4a76061577%20%3D%20L.marker%28%0A%20%20%20%20%20%20%20%20%20%20%20%20%5B43.77294222%2C%2011.24744556%5D%2C%0A%20%20%20%20%20%20%20%20%20%20%20%20%7B%0A%20%20%20%20%20%20%20%20%20%20%20%20%20%20%20%20icon%3A%20new%20L.Icon.Default%28%29%2C%0A%20%20%20%20%20%20%20%20%20%20%20%20%20%20%20%20%7D%0A%20%20%20%20%20%20%20%20%20%20%20%20%29.addTo%28map_146cd8147123498484976a07e362f27f%29%3B%0A%20%20%20%20%20%20%20%20%0A%20%20%20%20%0A%20%20%20%20%20%20%20%20%20%20%20%20var%20popup_37ebb59ae960412cbb14671437c7b9b1%20%3D%20L.popup%28%7BmaxWidth%3A%20%27100%25%27%0A%20%20%20%20%20%20%20%20%20%20%20%20%0A%20%20%20%20%20%20%20%20%20%20%20%20%7D%29%3B%0A%0A%20%20%20%20%20%20%20%20%20%20%20%20%0A%20%20%20%20%20%20%20%20%20%20%20%20%20%20%20%20var%20html_1d104537c304445995099dfdca2f5589%20%3D%20%24%28%60%3Cdiv%20id%3D%22html_1d104537c304445995099dfdca2f5589%22%20style%3D%22width%3A%20100.0%25%3B%20height%3A%20100.0%25%3B%22%3E%20%20%20%20%20%20%20%20%20%3Cul%3E%20%20%20%20%20%20%20%20%20%20%20%20%20%3Cli%3E%3Cstrong%3EID%3A%20%3C/strong%3E5514%3C/li%3E%20%20%20%20%20%20%20%20%20%20%20%20%20%3Cli%3E%3Cstrong%3ESource%3A%20%3C/strong%3EHenderson%20P%26C%20%2392%3C/li%3E%20%20%20%20%20%20%20%20%20%20%20%20%20%3Cli%3E%3Cstrong%3EName%3A%20%3C/strong%3ELorenzo%20di%20Niccolo%3C/li%3E%20%20%20%20%20%20%20%20%20%3Cul%3E%20%20%20%20%20%3C/div%3E%60%29%5B0%5D%3B%0A%20%20%20%20%20%20%20%20%20%20%20%20%20%20%20%20popup_37ebb59ae960412cbb14671437c7b9b1.setContent%28html_1d104537c304445995099dfdca2f5589%29%3B%0A%20%20%20%20%20%20%20%20%20%20%20%20%0A%0A%20%20%20%20%20%20%20%20%20%20%20%20marker_ecfab46f67c94c0498e1fe4a76061577.bindPopup%28popup_37ebb59ae960412cbb14671437c7b9b1%29%0A%20%20%20%20%20%20%20%20%20%20%20%20%3B%0A%0A%20%20%20%20%20%20%20%20%20%20%20%20%0A%20%20%20%20%20%20%20%20%0A%20%20%20%20%0A%20%20%20%20%20%20%20%20var%20marker_4ec40bfd65ed4fbbb7330027fc0e5838%20%3D%20L.marker%28%0A%20%20%20%20%20%20%20%20%20%20%20%20%5B43.76800359%2C%2011.24089635%5D%2C%0A%20%20%20%20%20%20%20%20%20%20%20%20%7B%0A%20%20%20%20%20%20%20%20%20%20%20%20%20%20%20%20icon%3A%20new%20L.Icon.Default%28%29%2C%0A%20%20%20%20%20%20%20%20%20%20%20%20%20%20%20%20%7D%0A%20%20%20%20%20%20%20%20%20%20%20%20%29.addTo%28map_146cd8147123498484976a07e362f27f%29%3B%0A%20%20%20%20%20%20%20%20%0A%20%20%20%20%0A%20%20%20%20%20%20%20%20%20%20%20%20var%20popup_ad461a4f16e94564a4332f35b637b604%20%3D%20L.popup%28%7BmaxWidth%3A%20%27100%25%27%0A%20%20%20%20%20%20%20%20%20%20%20%20%0A%20%20%20%20%20%20%20%20%20%20%20%20%7D%29%3B%0A%0A%20%20%20%20%20%20%20%20%20%20%20%20%0A%20%20%20%20%20%20%20%20%20%20%20%20%20%20%20%20var%20html_ce13f381dc7d4a528a5bde389418012a%20%3D%20%24%28%60%3Cdiv%20id%3D%22html_ce13f381dc7d4a528a5bde389418012a%22%20style%3D%22width%3A%20100.0%25%3B%20height%3A%20100.0%25%3B%22%3E%20%20%20%20%20%20%20%20%20%3Cul%3E%20%20%20%20%20%20%20%20%20%20%20%20%20%3Cli%3E%3Cstrong%3EID%3A%20%3C/strong%3E8102%3C/li%3E%20%20%20%20%20%20%20%20%20%20%20%20%20%3Cli%3E%3Cstrong%3ESource%3A%20%3C/strong%3EHenderson%20P%26C%20%23147%3C/li%3E%20%20%20%20%20%20%20%20%20%20%20%20%20%3Cli%3E%3Cstrong%3EName%3A%20%3C/strong%3EFrancesco%20di%20Salvestro%3C/li%3E%20%20%20%20%20%20%20%20%20%3Cul%3E%20%20%20%20%20%3C/div%3E%60%29%5B0%5D%3B%0A%20%20%20%20%20%20%20%20%20%20%20%20%20%20%20%20popup_ad461a4f16e94564a4332f35b637b604.setContent%28html_ce13f381dc7d4a528a5bde389418012a%29%3B%0A%20%20%20%20%20%20%20%20%20%20%20%20%0A%0A%20%20%20%20%20%20%20%20%20%20%20%20marker_4ec40bfd65ed4fbbb7330027fc0e5838.bindPopup%28popup_ad461a4f16e94564a4332f35b637b604%29%0A%20%20%20%20%20%20%20%20%20%20%20%20%3B%0A%0A%20%20%20%20%20%20%20%20%20%20%20%20%0A%20%20%20%20%20%20%20%20%0A%20%20%20%20%0A%20%20%20%20%20%20%20%20var%20marker_6db656e9e9d7446fb1bb28d1d39c7b0b%20%3D%20L.marker%28%0A%20%20%20%20%20%20%20%20%20%20%20%20%5B43.770728%2C%2011.270409%5D%2C%0A%20%20%20%20%20%20%20%20%20%20%20%20%7B%0A%20%20%20%20%20%20%20%20%20%20%20%20%20%20%20%20icon%3A%20new%20L.Icon.Default%28%29%2C%0A%20%20%20%20%20%20%20%20%20%20%20%20%20%20%20%20%7D%0A%20%20%20%20%20%20%20%20%20%20%20%20%29.addTo%28map_146cd8147123498484976a07e362f27f%29%3B%0A%20%20%20%20%20%20%20%20%0A%20%20%20%20%0A%20%20%20%20%20%20%20%20%20%20%20%20var%20popup_eaabf72051b844958cdaea79bd281348%20%3D%20L.popup%28%7BmaxWidth%3A%20%27100%25%27%0A%20%20%20%20%20%20%20%20%20%20%20%20%0A%20%20%20%20%20%20%20%20%20%20%20%20%7D%29%3B%0A%0A%20%20%20%20%20%20%20%20%20%20%20%20%0A%20%20%20%20%20%20%20%20%20%20%20%20%20%20%20%20var%20html_d2d149b2b1ba49a98ce9d311334df971%20%3D%20%24%28%60%3Cdiv%20id%3D%22html_d2d149b2b1ba49a98ce9d311334df971%22%20style%3D%22width%3A%20100.0%25%3B%20height%3A%20100.0%25%3B%22%3E%20%20%20%20%20%20%20%20%20%3Cul%3E%20%20%20%20%20%20%20%20%20%20%20%20%20%3Cli%3E%3Cstrong%3EID%3A%20%3C/strong%3E2030%3C/li%3E%20%20%20%20%20%20%20%20%20%20%20%20%20%3Cli%3E%3Cstrong%3ESource%3A%20%3C/strong%3EHenderson%20P%26C%20%23105%20%5Bor%20121%5D%3C/li%3E%20%20%20%20%20%20%20%20%20%20%20%20%20%3Cli%3E%3Cstrong%3EName%3A%20%3C/strong%3EDomenico%20di%20Jacopo%20Santini%3C/li%3E%20%20%20%20%20%20%20%20%20%3Cul%3E%20%20%20%20%20%3C/div%3E%60%29%5B0%5D%3B%0A%20%20%20%20%20%20%20%20%20%20%20%20%20%20%20%20popup_eaabf72051b844958cdaea79bd281348.setContent%28html_d2d149b2b1ba49a98ce9d311334df971%29%3B%0A%20%20%20%20%20%20%20%20%20%20%20%20%0A%0A%20%20%20%20%20%20%20%20%20%20%20%20marker_6db656e9e9d7446fb1bb28d1d39c7b0b.bindPopup%28popup_eaabf72051b844958cdaea79bd281348%29%0A%20%20%20%20%20%20%20%20%20%20%20%20%3B%0A%0A%20%20%20%20%20%20%20%20%20%20%20%20%0A%20%20%20%20%20%20%20%20%0A%20%20%20%20%0A%20%20%20%20%20%20%20%20var%20marker_ad54179058e54d7b91a57aa0b33e19c9%20%3D%20L.marker%28%0A%20%20%20%20%20%20%20%20%20%20%20%20%5B43.77714732%2C%2011.25429326%5D%2C%0A%20%20%20%20%20%20%20%20%20%20%20%20%7B%0A%20%20%20%20%20%20%20%20%20%20%20%20%20%20%20%20icon%3A%20new%20L.Icon.Default%28%29%2C%0A%20%20%20%20%20%20%20%20%20%20%20%20%20%20%20%20%7D%0A%20%20%20%20%20%20%20%20%20%20%20%20%29.addTo%28map_146cd8147123498484976a07e362f27f%29%3B%0A%20%20%20%20%20%20%20%20%0A%20%20%20%20%0A%20%20%20%20%20%20%20%20%20%20%20%20var%20popup_49b209038a1344ef84123c6a21ab6ff7%20%3D%20L.popup%28%7BmaxWidth%3A%20%27100%25%27%0A%20%20%20%20%20%20%20%20%20%20%20%20%0A%20%20%20%20%20%20%20%20%20%20%20%20%7D%29%3B%0A%0A%20%20%20%20%20%20%20%20%20%20%20%20%0A%20%20%20%20%20%20%20%20%20%20%20%20%20%20%20%20var%20html_12ad99afb7c340f2a9df5e0faf606b74%20%3D%20%24%28%60%3Cdiv%20id%3D%22html_12ad99afb7c340f2a9df5e0faf606b74%22%20style%3D%22width%3A%20100.0%25%3B%20height%3A%20100.0%25%3B%22%3E%20%20%20%20%20%20%20%20%20%3Cul%3E%20%20%20%20%20%20%20%20%20%20%20%20%20%3Cli%3E%3Cstrong%3EID%3A%20%3C/strong%3E400%3C/li%3E%20%20%20%20%20%20%20%20%20%20%20%20%20%3Cli%3E%3Cstrong%3ESource%3A%20%3C/strong%3EHenderson%20P%26C%20%2342%3C/li%3E%20%20%20%20%20%20%20%20%20%20%20%20%20%3Cli%3E%3Cstrong%3EName%3A%20%3C/strong%3EGiovanni%20di%20Raffaello%2C%20rivenditore%3C/li%3E%20%20%20%20%20%20%20%20%20%3Cul%3E%20%20%20%20%20%3C/div%3E%60%29%5B0%5D%3B%0A%20%20%20%20%20%20%20%20%20%20%20%20%20%20%20%20popup_49b209038a1344ef84123c6a21ab6ff7.setContent%28html_12ad99afb7c340f2a9df5e0faf606b74%29%3B%0A%20%20%20%20%20%20%20%20%20%20%20%20%0A%0A%20%20%20%20%20%20%20%20%20%20%20%20marker_ad54179058e54d7b91a57aa0b33e19c9.bindPopup%28popup_49b209038a1344ef84123c6a21ab6ff7%29%0A%20%20%20%20%20%20%20%20%20%20%20%20%3B%0A%0A%20%20%20%20%20%20%20%20%20%20%20%20%0A%20%20%20%20%20%20%20%20%0A%20%20%20%20%0A%20%20%20%20%20%20%20%20var%20marker_0ca981293e9b4991bb8e84dd2cd4135f%20%3D%20L.marker%28%0A%20%20%20%20%20%20%20%20%20%20%20%20%5B43.78140888%2C%2011.260031%5D%2C%0A%20%20%20%20%20%20%20%20%20%20%20%20%7B%0A%20%20%20%20%20%20%20%20%20%20%20%20%20%20%20%20icon%3A%20new%20L.Icon.Default%28%29%2C%0A%20%20%20%20%20%20%20%20%20%20%20%20%20%20%20%20%7D%0A%20%20%20%20%20%20%20%20%20%20%20%20%29.addTo%28map_146cd8147123498484976a07e362f27f%29%3B%0A%20%20%20%20%20%20%20%20%0A%20%20%20%20%0A%20%20%20%20%20%20%20%20%20%20%20%20var%20popup_083aa968b739451ea23aeaf75651b217%20%3D%20L.popup%28%7BmaxWidth%3A%20%27100%25%27%0A%20%20%20%20%20%20%20%20%20%20%20%20%0A%20%20%20%20%20%20%20%20%20%20%20%20%7D%29%3B%0A%0A%20%20%20%20%20%20%20%20%20%20%20%20%0A%20%20%20%20%20%20%20%20%20%20%20%20%20%20%20%20var%20html_11a86a97b79143b3b89b0ecbbd9cc6be%20%3D%20%24%28%60%3Cdiv%20id%3D%22html_11a86a97b79143b3b89b0ecbbd9cc6be%22%20style%3D%22width%3A%20100.0%25%3B%20height%3A%20100.0%25%3B%22%3E%20%20%20%20%20%20%20%20%20%3Cul%3E%20%20%20%20%20%20%20%20%20%20%20%20%20%3Cli%3E%3Cstrong%3EID%3A%20%3C/strong%3E1098%3C/li%3E%20%20%20%20%20%20%20%20%20%20%20%20%20%3Cli%3E%3Cstrong%3ESource%3A%20%3C/strong%3EHenderson%20P%26C%20%2353%3C/li%3E%20%20%20%20%20%20%20%20%20%20%20%20%20%3Cli%3E%3Cstrong%3EName%3A%20%3C/strong%3ELorenzo%20di%20%5BBastiano%5D%2C%20battilano%3C/li%3E%20%20%20%20%20%20%20%20%20%3Cul%3E%20%20%20%20%20%3C/div%3E%60%29%5B0%5D%3B%0A%20%20%20%20%20%20%20%20%20%20%20%20%20%20%20%20popup_083aa968b739451ea23aeaf75651b217.setContent%28html_11a86a97b79143b3b89b0ecbbd9cc6be%29%3B%0A%20%20%20%20%20%20%20%20%20%20%20%20%0A%0A%20%20%20%20%20%20%20%20%20%20%20%20marker_0ca981293e9b4991bb8e84dd2cd4135f.bindPopup%28popup_083aa968b739451ea23aeaf75651b217%29%0A%20%20%20%20%20%20%20%20%20%20%20%20%3B%0A%0A%20%20%20%20%20%20%20%20%20%20%20%20%0A%20%20%20%20%20%20%20%20%0A%20%20%20%20%0A%20%20%20%20%20%20%20%20var%20marker_6852f2a070774dab8974137e78d04bba%20%3D%20L.marker%28%0A%20%20%20%20%20%20%20%20%20%20%20%20%5B43.76968667%2C%2011.242858%5D%2C%0A%20%20%20%20%20%20%20%20%20%20%20%20%7B%0A%20%20%20%20%20%20%20%20%20%20%20%20%20%20%20%20icon%3A%20new%20L.Icon.Default%28%29%2C%0A%20%20%20%20%20%20%20%20%20%20%20%20%20%20%20%20%7D%0A%20%20%20%20%20%20%20%20%20%20%20%20%29.addTo%28map_146cd8147123498484976a07e362f27f%29%3B%0A%20%20%20%20%20%20%20%20%0A%20%20%20%20%0A%20%20%20%20%20%20%20%20%20%20%20%20var%20popup_b98a101c5f904d5abc584e363aabd90b%20%3D%20L.popup%28%7BmaxWidth%3A%20%27100%25%27%0A%20%20%20%20%20%20%20%20%20%20%20%20%0A%20%20%20%20%20%20%20%20%20%20%20%20%7D%29%3B%0A%0A%20%20%20%20%20%20%20%20%20%20%20%20%0A%20%20%20%20%20%20%20%20%20%20%20%20%20%20%20%20var%20html_238161b220764c68a883d47a303705df%20%3D%20%24%28%60%3Cdiv%20id%3D%22html_238161b220764c68a883d47a303705df%22%20style%3D%22width%3A%20100.0%25%3B%20height%3A%20100.0%25%3B%22%3E%20%20%20%20%20%20%20%20%20%3Cul%3E%20%20%20%20%20%20%20%20%20%20%20%20%20%3Cli%3E%3Cstrong%3EID%3A%20%3C/strong%3E8063%3C/li%3E%20%20%20%20%20%20%20%20%20%20%20%20%20%3Cli%3E%3Cstrong%3ESource%3A%20%3C/strong%3Enan%3C/li%3E%20%20%20%20%20%20%20%20%20%20%20%20%20%3Cli%3E%3Cstrong%3EName%3A%20%3C/strong%3EBartolomeo%20di%20Francesco%20d%27%20Arezzo%3C/li%3E%20%20%20%20%20%20%20%20%20%3Cul%3E%20%20%20%20%20%3C/div%3E%60%29%5B0%5D%3B%0A%20%20%20%20%20%20%20%20%20%20%20%20%20%20%20%20popup_b98a101c5f904d5abc584e363aabd90b.setContent%28html_238161b220764c68a883d47a303705df%29%3B%0A%20%20%20%20%20%20%20%20%20%20%20%20%0A%0A%20%20%20%20%20%20%20%20%20%20%20%20marker_6852f2a070774dab8974137e78d04bba.bindPopup%28popup_b98a101c5f904d5abc584e363aabd90b%29%0A%20%20%20%20%20%20%20%20%20%20%20%20%3B%0A%0A%20%20%20%20%20%20%20%20%20%20%20%20%0A%20%20%20%20%20%20%20%20%0A%20%20%20%20%0A%20%20%20%20%20%20%20%20var%20marker_3f248b2fc3a44f4fb70ea20e1e3302af%20%3D%20L.marker%28%0A%20%20%20%20%20%20%20%20%20%20%20%20%5B43.763872%2C%2011.245746%5D%2C%0A%20%20%20%20%20%20%20%20%20%20%20%20%7B%0A%20%20%20%20%20%20%20%20%20%20%20%20%20%20%20%20icon%3A%20new%20L.Icon.Default%28%29%2C%0A%20%20%20%20%20%20%20%20%20%20%20%20%20%20%20%20%7D%0A%20%20%20%20%20%20%20%20%20%20%20%20%29.addTo%28map_146cd8147123498484976a07e362f27f%29%3B%0A%20%20%20%20%20%20%20%20%0A%20%20%20%20%0A%20%20%20%20%20%20%20%20%20%20%20%20var%20popup_88eeda58f7e24ad3aa7f8f32873b2556%20%3D%20L.popup%28%7BmaxWidth%3A%20%27100%25%27%0A%20%20%20%20%20%20%20%20%20%20%20%20%0A%20%20%20%20%20%20%20%20%20%20%20%20%7D%29%3B%0A%0A%20%20%20%20%20%20%20%20%20%20%20%20%0A%20%20%20%20%20%20%20%20%20%20%20%20%20%20%20%20var%20html_8137dd0f3be94fb6b42071a23d17b841%20%3D%20%24%28%60%3Cdiv%20id%3D%22html_8137dd0f3be94fb6b42071a23d17b841%22%20style%3D%22width%3A%20100.0%25%3B%20height%3A%20100.0%25%3B%22%3E%20%20%20%20%20%20%20%20%20%3Cul%3E%20%20%20%20%20%20%20%20%20%20%20%20%20%3Cli%3E%3Cstrong%3EID%3A%20%3C/strong%3E7160%3C/li%3E%20%20%20%20%20%20%20%20%20%20%20%20%20%3Cli%3E%3Cstrong%3ESource%3A%20%3C/strong%3EHenderson%20P%26C%20%2313%3C/li%3E%20%20%20%20%20%20%20%20%20%20%20%20%20%3Cli%3E%3Cstrong%3EName%3A%20%3C/strong%3EAgnolo%20d%27%20Andrea%20da%20Mantozia%3C/li%3E%20%20%20%20%20%20%20%20%20%3Cul%3E%20%20%20%20%20%3C/div%3E%60%29%5B0%5D%3B%0A%20%20%20%20%20%20%20%20%20%20%20%20%20%20%20%20popup_88eeda58f7e24ad3aa7f8f32873b2556.setContent%28html_8137dd0f3be94fb6b42071a23d17b841%29%3B%0A%20%20%20%20%20%20%20%20%20%20%20%20%0A%0A%20%20%20%20%20%20%20%20%20%20%20%20marker_3f248b2fc3a44f4fb70ea20e1e3302af.bindPopup%28popup_88eeda58f7e24ad3aa7f8f32873b2556%29%0A%20%20%20%20%20%20%20%20%20%20%20%20%3B%0A%0A%20%20%20%20%20%20%20%20%20%20%20%20%0A%20%20%20%20%20%20%20%20%0A%20%20%20%20%0A%20%20%20%20%20%20%20%20var%20marker_0cc6fc3d2b8140ad9d3fb270417147ee%20%3D%20L.marker%28%0A%20%20%20%20%20%20%20%20%20%20%20%20%5B43.76521889%2C%2011.24484333%5D%2C%0A%20%20%20%20%20%20%20%20%20%20%20%20%7B%0A%20%20%20%20%20%20%20%20%20%20%20%20%20%20%20%20icon%3A%20new%20L.Icon.Default%28%29%2C%0A%20%20%20%20%20%20%20%20%20%20%20%20%20%20%20%20%7D%0A%20%20%20%20%20%20%20%20%20%20%20%20%29.addTo%28map_146cd8147123498484976a07e362f27f%29%3B%0A%20%20%20%20%20%20%20%20%0A%20%20%20%20%0A%20%20%20%20%20%20%20%20%20%20%20%20var%20popup_01c76b2d6d1d4ad995b49e46ff3671fa%20%3D%20L.popup%28%7BmaxWidth%3A%20%27100%25%27%0A%20%20%20%20%20%20%20%20%20%20%20%20%0A%20%20%20%20%20%20%20%20%20%20%20%20%7D%29%3B%0A%0A%20%20%20%20%20%20%20%20%20%20%20%20%0A%20%20%20%20%20%20%20%20%20%20%20%20%20%20%20%20var%20html_074cecc7cf2049edae4a8c0971bfe166%20%3D%20%24%28%60%3Cdiv%20id%3D%22html_074cecc7cf2049edae4a8c0971bfe166%22%20style%3D%22width%3A%20100.0%25%3B%20height%3A%20100.0%25%3B%22%3E%20%20%20%20%20%20%20%20%20%3Cul%3E%20%20%20%20%20%20%20%20%20%20%20%20%20%3Cli%3E%3Cstrong%3EID%3A%20%3C/strong%3E7322%3C/li%3E%20%20%20%20%20%20%20%20%20%20%20%20%20%3Cli%3E%3Cstrong%3ESource%3A%20%3C/strong%3EHenderson%20P%26C%20%2313%3C/li%3E%20%20%20%20%20%20%20%20%20%20%20%20%20%3Cli%3E%3Cstrong%3EName%3A%20%3C/strong%3EGiovanni%20Ormanni%20rividitore%3C/li%3E%20%20%20%20%20%20%20%20%20%3Cul%3E%20%20%20%20%20%3C/div%3E%60%29%5B0%5D%3B%0A%20%20%20%20%20%20%20%20%20%20%20%20%20%20%20%20popup_01c76b2d6d1d4ad995b49e46ff3671fa.setContent%28html_074cecc7cf2049edae4a8c0971bfe166%29%3B%0A%20%20%20%20%20%20%20%20%20%20%20%20%0A%0A%20%20%20%20%20%20%20%20%20%20%20%20marker_0cc6fc3d2b8140ad9d3fb270417147ee.bindPopup%28popup_01c76b2d6d1d4ad995b49e46ff3671fa%29%0A%20%20%20%20%20%20%20%20%20%20%20%20%3B%0A%0A%20%20%20%20%20%20%20%20%20%20%20%20%0A%20%20%20%20%20%20%20%20%0A%20%20%20%20%0A%20%20%20%20%20%20%20%20var%20marker_8993cdc0e99c4a42b055de1a6a355c93%20%3D%20L.marker%28%0A%20%20%20%20%20%20%20%20%20%20%20%20%5B43.76386563%2C%2011.26206188%5D%2C%0A%20%20%20%20%20%20%20%20%20%20%20%20%7B%0A%20%20%20%20%20%20%20%20%20%20%20%20%20%20%20%20icon%3A%20new%20L.Icon.Default%28%29%2C%0A%20%20%20%20%20%20%20%20%20%20%20%20%20%20%20%20%7D%0A%20%20%20%20%20%20%20%20%20%20%20%20%29.addTo%28map_146cd8147123498484976a07e362f27f%29%3B%0A%20%20%20%20%20%20%20%20%0A%20%20%20%20%0A%20%20%20%20%20%20%20%20%20%20%20%20var%20popup_f85044aa12594ccbbbd8148684753aad%20%3D%20L.popup%28%7BmaxWidth%3A%20%27100%25%27%0A%20%20%20%20%20%20%20%20%20%20%20%20%0A%20%20%20%20%20%20%20%20%20%20%20%20%7D%29%3B%0A%0A%20%20%20%20%20%20%20%20%20%20%20%20%0A%20%20%20%20%20%20%20%20%20%20%20%20%20%20%20%20var%20html_dac85b991c254863a5f92586ffc57511%20%3D%20%24%28%60%3Cdiv%20id%3D%22html_dac85b991c254863a5f92586ffc57511%22%20style%3D%22width%3A%20100.0%25%3B%20height%3A%20100.0%25%3B%22%3E%20%20%20%20%20%20%20%20%20%3Cul%3E%20%20%20%20%20%20%20%20%20%20%20%20%20%3Cli%3E%3Cstrong%3EID%3A%20%3C/strong%3E6161%3C/li%3E%20%20%20%20%20%20%20%20%20%20%20%20%20%3Cli%3E%3Cstrong%3ESource%3A%20%3C/strong%3EHenderson%20P%26C%20%2313%3C/li%3E%20%20%20%20%20%20%20%20%20%20%20%20%20%3Cli%3E%3Cstrong%3EName%3A%20%3C/strong%3EAntonio%20di%20Domenico%20Palanti%3C/li%3E%20%20%20%20%20%20%20%20%20%3Cul%3E%20%20%20%20%20%3C/div%3E%60%29%5B0%5D%3B%0A%20%20%20%20%20%20%20%20%20%20%20%20%20%20%20%20popup_f85044aa12594ccbbbd8148684753aad.setContent%28html_dac85b991c254863a5f92586ffc57511%29%3B%0A%20%20%20%20%20%20%20%20%20%20%20%20%0A%0A%20%20%20%20%20%20%20%20%20%20%20%20marker_8993cdc0e99c4a42b055de1a6a355c93.bindPopup%28popup_f85044aa12594ccbbbd8148684753aad%29%0A%20%20%20%20%20%20%20%20%20%20%20%20%3B%0A%0A%20%20%20%20%20%20%20%20%20%20%20%20%0A%20%20%20%20%20%20%20%20%0A%20%20%20%20%0A%20%20%20%20%20%20%20%20var%20marker_f9c72b93675a42a4bd8916b63a48971e%20%3D%20L.marker%28%0A%20%20%20%20%20%20%20%20%20%20%20%20%5B43.78036243%2C%2011.25901252%5D%2C%0A%20%20%20%20%20%20%20%20%20%20%20%20%7B%0A%20%20%20%20%20%20%20%20%20%20%20%20%20%20%20%20icon%3A%20new%20L.Icon.Default%28%29%2C%0A%20%20%20%20%20%20%20%20%20%20%20%20%20%20%20%20%7D%0A%20%20%20%20%20%20%20%20%20%20%20%20%29.addTo%28map_146cd8147123498484976a07e362f27f%29%3B%0A%20%20%20%20%20%20%20%20%0A%20%20%20%20%0A%20%20%20%20%20%20%20%20%20%20%20%20var%20popup_de553ec476a144afaba616ade380110b%20%3D%20L.popup%28%7BmaxWidth%3A%20%27100%25%27%0A%20%20%20%20%20%20%20%20%20%20%20%20%0A%20%20%20%20%20%20%20%20%20%20%20%20%7D%29%3B%0A%0A%20%20%20%20%20%20%20%20%20%20%20%20%0A%20%20%20%20%20%20%20%20%20%20%20%20%20%20%20%20var%20html_92561cb805ac456db5b7a6dd2c651c79%20%3D%20%24%28%60%3Cdiv%20id%3D%22html_92561cb805ac456db5b7a6dd2c651c79%22%20style%3D%22width%3A%20100.0%25%3B%20height%3A%20100.0%25%3B%22%3E%20%20%20%20%20%20%20%20%20%3Cul%3E%20%20%20%20%20%20%20%20%20%20%20%20%20%3Cli%3E%3Cstrong%3EID%3A%20%3C/strong%3E1203%3C/li%3E%20%20%20%20%20%20%20%20%20%20%20%20%20%3Cli%3E%3Cstrong%3ESource%3A%20%3C/strong%3Enan%3C/li%3E%20%20%20%20%20%20%20%20%20%20%20%20%20%3Cli%3E%3Cstrong%3EName%3A%20%3C/strong%3ELucca%20di%20Stefano%20dal%20Borgo%20a%20S.%20Lorenzo%2C%20calzolaio%3C/li%3E%20%20%20%20%20%20%20%20%20%3Cul%3E%20%20%20%20%20%3C/div%3E%60%29%5B0%5D%3B%0A%20%20%20%20%20%20%20%20%20%20%20%20%20%20%20%20popup_de553ec476a144afaba616ade380110b.setContent%28html_92561cb805ac456db5b7a6dd2c651c79%29%3B%0A%20%20%20%20%20%20%20%20%20%20%20%20%0A%0A%20%20%20%20%20%20%20%20%20%20%20%20marker_f9c72b93675a42a4bd8916b63a48971e.bindPopup%28popup_de553ec476a144afaba616ade380110b%29%0A%20%20%20%20%20%20%20%20%20%20%20%20%3B%0A%0A%20%20%20%20%20%20%20%20%20%20%20%20%0A%20%20%20%20%20%20%20%20%0A%20%20%20%20%0A%20%20%20%20%20%20%20%20var%20marker_909def82e7c142c3a24b9352c774ac68%20%3D%20L.marker%28%0A%20%20%20%20%20%20%20%20%20%20%20%20%5B43.77592314%2C%2011.24932725%5D%2C%0A%20%20%20%20%20%20%20%20%20%20%20%20%7B%0A%20%20%20%20%20%20%20%20%20%20%20%20%20%20%20%20icon%3A%20new%20L.Icon.Default%28%29%2C%0A%20%20%20%20%20%20%20%20%20%20%20%20%20%20%20%20%7D%0A%20%20%20%20%20%20%20%20%20%20%20%20%29.addTo%28map_146cd8147123498484976a07e362f27f%29%3B%0A%20%20%20%20%20%20%20%20%0A%20%20%20%20%0A%20%20%20%20%20%20%20%20%20%20%20%20var%20popup_8ff6124b4bcb4b75a968a12fd33a2584%20%3D%20L.popup%28%7BmaxWidth%3A%20%27100%25%27%0A%20%20%20%20%20%20%20%20%20%20%20%20%0A%20%20%20%20%20%20%20%20%20%20%20%20%7D%29%3B%0A%0A%20%20%20%20%20%20%20%20%20%20%20%20%0A%20%20%20%20%20%20%20%20%20%20%20%20%20%20%20%20var%20html_563f388861b94c1ba5b54bb2b74072b1%20%3D%20%24%28%60%3Cdiv%20id%3D%22html_563f388861b94c1ba5b54bb2b74072b1%22%20style%3D%22width%3A%20100.0%25%3B%20height%3A%20100.0%25%3B%22%3E%20%20%20%20%20%20%20%20%20%3Cul%3E%20%20%20%20%20%20%20%20%20%20%20%20%20%3Cli%3E%3Cstrong%3EID%3A%20%3C/strong%3E4441%3C/li%3E%20%20%20%20%20%20%20%20%20%20%20%20%20%3Cli%3E%3Cstrong%3ESource%3A%20%3C/strong%3Enan%3C/li%3E%20%20%20%20%20%20%20%20%20%20%20%20%20%3Cli%3E%3Cstrong%3EName%3A%20%3C/strong%3EGirolamo%20di%20Bencio%20Benci%3C/li%3E%20%20%20%20%20%20%20%20%20%3Cul%3E%20%20%20%20%20%3C/div%3E%60%29%5B0%5D%3B%0A%20%20%20%20%20%20%20%20%20%20%20%20%20%20%20%20popup_8ff6124b4bcb4b75a968a12fd33a2584.setContent%28html_563f388861b94c1ba5b54bb2b74072b1%29%3B%0A%20%20%20%20%20%20%20%20%20%20%20%20%0A%0A%20%20%20%20%20%20%20%20%20%20%20%20marker_909def82e7c142c3a24b9352c774ac68.bindPopup%28popup_8ff6124b4bcb4b75a968a12fd33a2584%29%0A%20%20%20%20%20%20%20%20%20%20%20%20%3B%0A%0A%20%20%20%20%20%20%20%20%20%20%20%20%0A%20%20%20%20%20%20%20%20%0A%20%20%20%20%0A%20%20%20%20%20%20%20%20var%20marker_ceafd633cd224809a95289687c10a13a%20%3D%20L.marker%28%0A%20%20%20%20%20%20%20%20%20%20%20%20%5B43.77368155%2C%2011.26281945%5D%2C%0A%20%20%20%20%20%20%20%20%20%20%20%20%7B%0A%20%20%20%20%20%20%20%20%20%20%20%20%20%20%20%20icon%3A%20new%20L.Icon.Default%28%29%2C%0A%20%20%20%20%20%20%20%20%20%20%20%20%20%20%20%20%7D%0A%20%20%20%20%20%20%20%20%20%20%20%20%29.addTo%28map_146cd8147123498484976a07e362f27f%29%3B%0A%20%20%20%20%20%20%20%20%0A%20%20%20%20%0A%20%20%20%20%20%20%20%20%20%20%20%20var%20popup_2220fde0c27b47f9a93eb499ed524c10%20%3D%20L.popup%28%7BmaxWidth%3A%20%27100%25%27%0A%20%20%20%20%20%20%20%20%20%20%20%20%0A%20%20%20%20%20%20%20%20%20%20%20%20%7D%29%3B%0A%0A%20%20%20%20%20%20%20%20%20%20%20%20%0A%20%20%20%20%20%20%20%20%20%20%20%20%20%20%20%20var%20html_0100dbd236044513a90ec9f9b421dd77%20%3D%20%24%28%60%3Cdiv%20id%3D%22html_0100dbd236044513a90ec9f9b421dd77%22%20style%3D%22width%3A%20100.0%25%3B%20height%3A%20100.0%25%3B%22%3E%20%20%20%20%20%20%20%20%20%3Cul%3E%20%20%20%20%20%20%20%20%20%20%20%20%20%3Cli%3E%3Cstrong%3EID%3A%20%3C/strong%3E2088%3C/li%3E%20%20%20%20%20%20%20%20%20%20%20%20%20%3Cli%3E%3Cstrong%3ESource%3A%20%3C/strong%3Enan%3C/li%3E%20%20%20%20%20%20%20%20%20%20%20%20%20%3Cli%3E%3Cstrong%3EName%3A%20%3C/strong%3EGiovangualberto%20di%20Jacopo%2C%20tessitore%3C/li%3E%20%20%20%20%20%20%20%20%20%3Cul%3E%20%20%20%20%20%3C/div%3E%60%29%5B0%5D%3B%0A%20%20%20%20%20%20%20%20%20%20%20%20%20%20%20%20popup_2220fde0c27b47f9a93eb499ed524c10.setContent%28html_0100dbd236044513a90ec9f9b421dd77%29%3B%0A%20%20%20%20%20%20%20%20%20%20%20%20%0A%0A%20%20%20%20%20%20%20%20%20%20%20%20marker_ceafd633cd224809a95289687c10a13a.bindPopup%28popup_2220fde0c27b47f9a93eb499ed524c10%29%0A%20%20%20%20%20%20%20%20%20%20%20%20%3B%0A%0A%20%20%20%20%20%20%20%20%20%20%20%20%0A%20%20%20%20%20%20%20%20%0A%20%20%20%20%0A%20%20%20%20%20%20%20%20var%20marker_adaf3566d5eb4221b8c3c5a1a757b03b%20%3D%20L.marker%28%0A%20%20%20%20%20%20%20%20%20%20%20%20%5B43.76489%2C%2011.244635%5D%2C%0A%20%20%20%20%20%20%20%20%20%20%20%20%7B%0A%20%20%20%20%20%20%20%20%20%20%20%20%20%20%20%20icon%3A%20new%20L.Icon.Default%28%29%2C%0A%20%20%20%20%20%20%20%20%20%20%20%20%20%20%20%20%7D%0A%20%20%20%20%20%20%20%20%20%20%20%20%29.addTo%28map_146cd8147123498484976a07e362f27f%29%3B%0A%20%20%20%20%20%20%20%20%0A%20%20%20%20%0A%20%20%20%20%20%20%20%20%20%20%20%20var%20popup_e15de6877d5449c790719b403fdf55c2%20%3D%20L.popup%28%7BmaxWidth%3A%20%27100%25%27%0A%20%20%20%20%20%20%20%20%20%20%20%20%0A%20%20%20%20%20%20%20%20%20%20%20%20%7D%29%3B%0A%0A%20%20%20%20%20%20%20%20%20%20%20%20%0A%20%20%20%20%20%20%20%20%20%20%20%20%20%20%20%20var%20html_9cab294274e945ca839a7562647ee8cb%20%3D%20%24%28%60%3Cdiv%20id%3D%22html_9cab294274e945ca839a7562647ee8cb%22%20style%3D%22width%3A%20100.0%25%3B%20height%3A%20100.0%25%3B%22%3E%20%20%20%20%20%20%20%20%20%3Cul%3E%20%20%20%20%20%20%20%20%20%20%20%20%20%3Cli%3E%3Cstrong%3EID%3A%20%3C/strong%3E7389%3C/li%3E%20%20%20%20%20%20%20%20%20%20%20%20%20%3Cli%3E%3Cstrong%3ESource%3A%20%3C/strong%3EHenderson%20P%26C%20%23110%3C/li%3E%20%20%20%20%20%20%20%20%20%20%20%20%20%3Cli%3E%3Cstrong%3EName%3A%20%3C/strong%3EPiero%20di%20Bastiano%20pettinagnolo%3C/li%3E%20%20%20%20%20%20%20%20%20%3Cul%3E%20%20%20%20%20%3C/div%3E%60%29%5B0%5D%3B%0A%20%20%20%20%20%20%20%20%20%20%20%20%20%20%20%20popup_e15de6877d5449c790719b403fdf55c2.setContent%28html_9cab294274e945ca839a7562647ee8cb%29%3B%0A%20%20%20%20%20%20%20%20%20%20%20%20%0A%0A%20%20%20%20%20%20%20%20%20%20%20%20marker_adaf3566d5eb4221b8c3c5a1a757b03b.bindPopup%28popup_e15de6877d5449c790719b403fdf55c2%29%0A%20%20%20%20%20%20%20%20%20%20%20%20%3B%0A%0A%20%20%20%20%20%20%20%20%20%20%20%20%0A%20%20%20%20%20%20%20%20%0A%20%20%20%20%0A%20%20%20%20%20%20%20%20var%20marker_08b488f6eef94c37a03d1f1880c6eccc%20%3D%20L.marker%28%0A%20%20%20%20%20%20%20%20%20%20%20%20%5B43.76512667%2C%2011.24469333%5D%2C%0A%20%20%20%20%20%20%20%20%20%20%20%20%7B%0A%20%20%20%20%20%20%20%20%20%20%20%20%20%20%20%20icon%3A%20new%20L.Icon.Default%28%29%2C%0A%20%20%20%20%20%20%20%20%20%20%20%20%20%20%20%20%7D%0A%20%20%20%20%20%20%20%20%20%20%20%20%29.addTo%28map_146cd8147123498484976a07e362f27f%29%3B%0A%20%20%20%20%20%20%20%20%0A%20%20%20%20%0A%20%20%20%20%20%20%20%20%20%20%20%20var%20popup_ba1fcc8d92114151930fb166ae5fce4a%20%3D%20L.popup%28%7BmaxWidth%3A%20%27100%25%27%0A%20%20%20%20%20%20%20%20%20%20%20%20%0A%20%20%20%20%20%20%20%20%20%20%20%20%7D%29%3B%0A%0A%20%20%20%20%20%20%20%20%20%20%20%20%0A%20%20%20%20%20%20%20%20%20%20%20%20%20%20%20%20var%20html_7a1c1e2532db4cf8baa1de9f0d3d8e3c%20%3D%20%24%28%60%3Cdiv%20id%3D%22html_7a1c1e2532db4cf8baa1de9f0d3d8e3c%22%20style%3D%22width%3A%20100.0%25%3B%20height%3A%20100.0%25%3B%22%3E%20%20%20%20%20%20%20%20%20%3Cul%3E%20%20%20%20%20%20%20%20%20%20%20%20%20%3Cli%3E%3Cstrong%3EID%3A%20%3C/strong%3E7447%3C/li%3E%20%20%20%20%20%20%20%20%20%20%20%20%20%3Cli%3E%3Cstrong%3ESource%3A%20%3C/strong%3EHenderson%20P%26C%20%23110%3C/li%3E%20%20%20%20%20%20%20%20%20%20%20%20%20%3Cli%3E%3Cstrong%3EName%3A%20%3C/strong%3E.%20.%20.%20%20tessitore%20de%20broccati%3C/li%3E%20%20%20%20%20%20%20%20%20%3Cul%3E%20%20%20%20%20%3C/div%3E%60%29%5B0%5D%3B%0A%20%20%20%20%20%20%20%20%20%20%20%20%20%20%20%20popup_ba1fcc8d92114151930fb166ae5fce4a.setContent%28html_7a1c1e2532db4cf8baa1de9f0d3d8e3c%29%3B%0A%20%20%20%20%20%20%20%20%20%20%20%20%0A%0A%20%20%20%20%20%20%20%20%20%20%20%20marker_08b488f6eef94c37a03d1f1880c6eccc.bindPopup%28popup_ba1fcc8d92114151930fb166ae5fce4a%29%0A%20%20%20%20%20%20%20%20%20%20%20%20%3B%0A%0A%20%20%20%20%20%20%20%20%20%20%20%20%0A%20%20%20%20%20%20%20%20%0A%20%20%20%20%0A%20%20%20%20%20%20%20%20var%20marker_a5b9437326bb457aaf15675499d60fd4%20%3D%20L.marker%28%0A%20%20%20%20%20%20%20%20%20%20%20%20%5B43.767224%2C%2011.2454736%5D%2C%0A%20%20%20%20%20%20%20%20%20%20%20%20%7B%0A%20%20%20%20%20%20%20%20%20%20%20%20%20%20%20%20icon%3A%20new%20L.Icon.Default%28%29%2C%0A%20%20%20%20%20%20%20%20%20%20%20%20%20%20%20%20%7D%0A%20%20%20%20%20%20%20%20%20%20%20%20%29.addTo%28map_146cd8147123498484976a07e362f27f%29%3B%0A%20%20%20%20%20%20%20%20%0A%20%20%20%20%0A%20%20%20%20%20%20%20%20%20%20%20%20var%20popup_cc7e7e2ef05d48b79e54e4330811c08f%20%3D%20L.popup%28%7BmaxWidth%3A%20%27100%25%27%0A%20%20%20%20%20%20%20%20%20%20%20%20%0A%20%20%20%20%20%20%20%20%20%20%20%20%7D%29%3B%0A%0A%20%20%20%20%20%20%20%20%20%20%20%20%0A%20%20%20%20%20%20%20%20%20%20%20%20%20%20%20%20var%20html_eec147495c2a48c8ac3b96b0117fc8c8%20%3D%20%24%28%60%3Cdiv%20id%3D%22html_eec147495c2a48c8ac3b96b0117fc8c8%22%20style%3D%22width%3A%20100.0%25%3B%20height%3A%20100.0%25%3B%22%3E%20%20%20%20%20%20%20%20%20%3Cul%3E%20%20%20%20%20%20%20%20%20%20%20%20%20%3Cli%3E%3Cstrong%3EID%3A%20%3C/strong%3E7555%3C/li%3E%20%20%20%20%20%20%20%20%20%20%20%20%20%3Cli%3E%3Cstrong%3ESource%3A%20%3C/strong%3EHenderson%20P%26C%20%23110%3C/li%3E%20%20%20%20%20%20%20%20%20%20%20%20%20%3Cli%3E%3Cstrong%3EName%3A%20%3C/strong%3EBernardo%20d%27%20Antonio%20Mazzochi%3C/li%3E%20%20%20%20%20%20%20%20%20%3Cul%3E%20%20%20%20%20%3C/div%3E%60%29%5B0%5D%3B%0A%20%20%20%20%20%20%20%20%20%20%20%20%20%20%20%20popup_cc7e7e2ef05d48b79e54e4330811c08f.setContent%28html_eec147495c2a48c8ac3b96b0117fc8c8%29%3B%0A%20%20%20%20%20%20%20%20%20%20%20%20%0A%0A%20%20%20%20%20%20%20%20%20%20%20%20marker_a5b9437326bb457aaf15675499d60fd4.bindPopup%28popup_cc7e7e2ef05d48b79e54e4330811c08f%29%0A%20%20%20%20%20%20%20%20%20%20%20%20%3B%0A%0A%20%20%20%20%20%20%20%20%20%20%20%20%0A%20%20%20%20%20%20%20%20%0A%20%20%20%20%0A%20%20%20%20%20%20%20%20var%20marker_e65eda44a735419ebbd246675d0c0096%20%3D%20L.marker%28%0A%20%20%20%20%20%20%20%20%20%20%20%20%5B43.76836733%2C%2011.26484133%5D%2C%0A%20%20%20%20%20%20%20%20%20%20%20%20%7B%0A%20%20%20%20%20%20%20%20%20%20%20%20%20%20%20%20icon%3A%20new%20L.Icon.Default%28%29%2C%0A%20%20%20%20%20%20%20%20%20%20%20%20%20%20%20%20%7D%0A%20%20%20%20%20%20%20%20%20%20%20%20%29.addTo%28map_146cd8147123498484976a07e362f27f%29%3B%0A%20%20%20%20%20%20%20%20%0A%20%20%20%20%0A%20%20%20%20%20%20%20%20%20%20%20%20var%20popup_aaf97835f474410aab5fd87840954f68%20%3D%20L.popup%28%7BmaxWidth%3A%20%27100%25%27%0A%20%20%20%20%20%20%20%20%20%20%20%20%0A%20%20%20%20%20%20%20%20%20%20%20%20%7D%29%3B%0A%0A%20%20%20%20%20%20%20%20%20%20%20%20%0A%20%20%20%20%20%20%20%20%20%20%20%20%20%20%20%20var%20html_37f1f59cecc849699bfe3dd942660350%20%3D%20%24%28%60%3Cdiv%20id%3D%22html_37f1f59cecc849699bfe3dd942660350%22%20style%3D%22width%3A%20100.0%25%3B%20height%3A%20100.0%25%3B%22%3E%20%20%20%20%20%20%20%20%20%3Cul%3E%20%20%20%20%20%20%20%20%20%20%20%20%20%3Cli%3E%3Cstrong%3EID%3A%20%3C/strong%3E3069%3C/li%3E%20%20%20%20%20%20%20%20%20%20%20%20%20%3Cli%3E%3Cstrong%3ESource%3A%20%3C/strong%3EHenderson%20P%26C%20%23102%3C/li%3E%20%20%20%20%20%20%20%20%20%20%20%20%20%3Cli%3E%3Cstrong%3EName%3A%20%3C/strong%3Enan%3C/li%3E%20%20%20%20%20%20%20%20%20%3Cul%3E%20%20%20%20%20%3C/div%3E%60%29%5B0%5D%3B%0A%20%20%20%20%20%20%20%20%20%20%20%20%20%20%20%20popup_aaf97835f474410aab5fd87840954f68.setContent%28html_37f1f59cecc849699bfe3dd942660350%29%3B%0A%20%20%20%20%20%20%20%20%20%20%20%20%0A%0A%20%20%20%20%20%20%20%20%20%20%20%20marker_e65eda44a735419ebbd246675d0c0096.bindPopup%28popup_aaf97835f474410aab5fd87840954f68%29%0A%20%20%20%20%20%20%20%20%20%20%20%20%3B%0A%0A%20%20%20%20%20%20%20%20%20%20%20%20%0A%20%20%20%20%20%20%20%20%0A%20%20%20%20%0A%20%20%20%20%20%20%20%20var%20marker_fa069b765da94a1fb83e43c87f4cba1d%20%3D%20L.marker%28%0A%20%20%20%20%20%20%20%20%20%20%20%20%5B43.76945%2C%2011.26547%5D%2C%0A%20%20%20%20%20%20%20%20%20%20%20%20%7B%0A%20%20%20%20%20%20%20%20%20%20%20%20%20%20%20%20icon%3A%20new%20L.Icon.Default%28%29%2C%0A%20%20%20%20%20%20%20%20%20%20%20%20%20%20%20%20%7D%0A%20%20%20%20%20%20%20%20%20%20%20%20%29.addTo%28map_146cd8147123498484976a07e362f27f%29%3B%0A%20%20%20%20%20%20%20%20%0A%20%20%20%20%0A%20%20%20%20%20%20%20%20%20%20%20%20var%20popup_62d1bbba4afe4dc9b5de546131d0d0dc%20%3D%20L.popup%28%7BmaxWidth%3A%20%27100%25%27%0A%20%20%20%20%20%20%20%20%20%20%20%20%0A%20%20%20%20%20%20%20%20%20%20%20%20%7D%29%3B%0A%0A%20%20%20%20%20%20%20%20%20%20%20%20%0A%20%20%20%20%20%20%20%20%20%20%20%20%20%20%20%20var%20html_28a5fb29ee45416cb2a422c2746b5583%20%3D%20%24%28%60%3Cdiv%20id%3D%22html_28a5fb29ee45416cb2a422c2746b5583%22%20style%3D%22width%3A%20100.0%25%3B%20height%3A%20100.0%25%3B%22%3E%20%20%20%20%20%20%20%20%20%3Cul%3E%20%20%20%20%20%20%20%20%20%20%20%20%20%3Cli%3E%3Cstrong%3EID%3A%20%3C/strong%3E3071%3C/li%3E%20%20%20%20%20%20%20%20%20%20%20%20%20%3Cli%3E%3Cstrong%3ESource%3A%20%3C/strong%3EHenderson%20P%26C%20%23102%3C/li%3E%20%20%20%20%20%20%20%20%20%20%20%20%20%3Cli%3E%3Cstrong%3EName%3A%20%3C/strong%3ERomulo%20di%20Giovanni%2C%20beccaio%3C/li%3E%20%20%20%20%20%20%20%20%20%3Cul%3E%20%20%20%20%20%3C/div%3E%60%29%5B0%5D%3B%0A%20%20%20%20%20%20%20%20%20%20%20%20%20%20%20%20popup_62d1bbba4afe4dc9b5de546131d0d0dc.setContent%28html_28a5fb29ee45416cb2a422c2746b5583%29%3B%0A%20%20%20%20%20%20%20%20%20%20%20%20%0A%0A%20%20%20%20%20%20%20%20%20%20%20%20marker_fa069b765da94a1fb83e43c87f4cba1d.bindPopup%28popup_62d1bbba4afe4dc9b5de546131d0d0dc%29%0A%20%20%20%20%20%20%20%20%20%20%20%20%3B%0A%0A%20%20%20%20%20%20%20%20%20%20%20%20%0A%20%20%20%20%20%20%20%20%0A%20%20%20%20%0A%20%20%20%20%20%20%20%20var%20marker_f936c041bd2b477a9c446cf69841924b%20%3D%20L.marker%28%0A%20%20%20%20%20%20%20%20%20%20%20%20%5B43.76851667%2C%2011.26492667%5D%2C%0A%20%20%20%20%20%20%20%20%20%20%20%20%7B%0A%20%20%20%20%20%20%20%20%20%20%20%20%20%20%20%20icon%3A%20new%20L.Icon.Default%28%29%2C%0A%20%20%20%20%20%20%20%20%20%20%20%20%20%20%20%20%7D%0A%20%20%20%20%20%20%20%20%20%20%20%20%29.addTo%28map_146cd8147123498484976a07e362f27f%29%3B%0A%20%20%20%20%20%20%20%20%0A%20%20%20%20%0A%20%20%20%20%20%20%20%20%20%20%20%20var%20popup_52660952b5184665bac5f3388ca64222%20%3D%20L.popup%28%7BmaxWidth%3A%20%27100%25%27%0A%20%20%20%20%20%20%20%20%20%20%20%20%0A%20%20%20%20%20%20%20%20%20%20%20%20%7D%29%3B%0A%0A%20%20%20%20%20%20%20%20%20%20%20%20%0A%20%20%20%20%20%20%20%20%20%20%20%20%20%20%20%20var%20html_b6de4c77ddcc45509c24526a5a435b89%20%3D%20%24%28%60%3Cdiv%20id%3D%22html_b6de4c77ddcc45509c24526a5a435b89%22%20style%3D%22width%3A%20100.0%25%3B%20height%3A%20100.0%25%3B%22%3E%20%20%20%20%20%20%20%20%20%3Cul%3E%20%20%20%20%20%20%20%20%20%20%20%20%20%3Cli%3E%3Cstrong%3EID%3A%20%3C/strong%3E3155%3C/li%3E%20%20%20%20%20%20%20%20%20%20%20%20%20%3Cli%3E%3Cstrong%3ESource%3A%20%3C/strong%3EHenderson%20P%26C%20%23102%3C/li%3E%20%20%20%20%20%20%20%20%20%20%20%20%20%3Cli%3E%3Cstrong%3EName%3A%20%3C/strong%3EBartolomeo%2C%20servo%20della%20compagnia%2C%20detta%20senza%20pigione%3C/li%3E%20%20%20%20%20%20%20%20%20%3Cul%3E%20%20%20%20%20%3C/div%3E%60%29%5B0%5D%3B%0A%20%20%20%20%20%20%20%20%20%20%20%20%20%20%20%20popup_52660952b5184665bac5f3388ca64222.setContent%28html_b6de4c77ddcc45509c24526a5a435b89%29%3B%0A%20%20%20%20%20%20%20%20%20%20%20%20%0A%0A%20%20%20%20%20%20%20%20%20%20%20%20marker_f936c041bd2b477a9c446cf69841924b.bindPopup%28popup_52660952b5184665bac5f3388ca64222%29%0A%20%20%20%20%20%20%20%20%20%20%20%20%3B%0A%0A%20%20%20%20%20%20%20%20%20%20%20%20%0A%20%20%20%20%20%20%20%20%0A%20%20%20%20%0A%20%20%20%20%20%20%20%20var%20marker_c492c16d939e41669f516882c2f8d981%20%3D%20L.marker%28%0A%20%20%20%20%20%20%20%20%20%20%20%20%5B43.768442%2C%2011.264884%5D%2C%0A%20%20%20%20%20%20%20%20%20%20%20%20%7B%0A%20%20%20%20%20%20%20%20%20%20%20%20%20%20%20%20icon%3A%20new%20L.Icon.Default%28%29%2C%0A%20%20%20%20%20%20%20%20%20%20%20%20%20%20%20%20%7D%0A%20%20%20%20%20%20%20%20%20%20%20%20%29.addTo%28map_146cd8147123498484976a07e362f27f%29%3B%0A%20%20%20%20%20%20%20%20%0A%20%20%20%20%0A%20%20%20%20%20%20%20%20%20%20%20%20var%20popup_9b89a1ea8b3b4d48b42b46a5d90e5e7a%20%3D%20L.popup%28%7BmaxWidth%3A%20%27100%25%27%0A%20%20%20%20%20%20%20%20%20%20%20%20%0A%20%20%20%20%20%20%20%20%20%20%20%20%7D%29%3B%0A%0A%20%20%20%20%20%20%20%20%20%20%20%20%0A%20%20%20%20%20%20%20%20%20%20%20%20%20%20%20%20var%20html_db1b87a247fd46cea385b40b9edc3393%20%3D%20%24%28%60%3Cdiv%20id%3D%22html_db1b87a247fd46cea385b40b9edc3393%22%20style%3D%22width%3A%20100.0%25%3B%20height%3A%20100.0%25%3B%22%3E%20%20%20%20%20%20%20%20%20%3Cul%3E%20%20%20%20%20%20%20%20%20%20%20%20%20%3Cli%3E%3Cstrong%3EID%3A%20%3C/strong%3E3156%3C/li%3E%20%20%20%20%20%20%20%20%20%20%20%20%20%3Cli%3E%3Cstrong%3ESource%3A%20%3C/strong%3EHenderson%20P%26C%20%23102%3C/li%3E%20%20%20%20%20%20%20%20%20%20%20%20%20%3Cli%3E%3Cstrong%3EName%3A%20%3C/strong%3Enan%3C/li%3E%20%20%20%20%20%20%20%20%20%3Cul%3E%20%20%20%20%20%3C/div%3E%60%29%5B0%5D%3B%0A%20%20%20%20%20%20%20%20%20%20%20%20%20%20%20%20popup_9b89a1ea8b3b4d48b42b46a5d90e5e7a.setContent%28html_db1b87a247fd46cea385b40b9edc3393%29%3B%0A%20%20%20%20%20%20%20%20%20%20%20%20%0A%0A%20%20%20%20%20%20%20%20%20%20%20%20marker_c492c16d939e41669f516882c2f8d981.bindPopup%28popup_9b89a1ea8b3b4d48b42b46a5d90e5e7a%29%0A%20%20%20%20%20%20%20%20%20%20%20%20%3B%0A%0A%20%20%20%20%20%20%20%20%20%20%20%20%0A%20%20%20%20%20%20%20%20%0A%20%20%20%20%0A%20%20%20%20%20%20%20%20var%20marker_06ecc7dbb7354b12b89d7b6bab5299df%20%3D%20L.marker%28%0A%20%20%20%20%20%20%20%20%20%20%20%20%5B43.76833%2C%2011.26482%5D%2C%0A%20%20%20%20%20%20%20%20%20%20%20%20%7B%0A%20%20%20%20%20%20%20%20%20%20%20%20%20%20%20%20icon%3A%20new%20L.Icon.Default%28%29%2C%0A%20%20%20%20%20%20%20%20%20%20%20%20%20%20%20%20%7D%0A%20%20%20%20%20%20%20%20%20%20%20%20%29.addTo%28map_146cd8147123498484976a07e362f27f%29%3B%0A%20%20%20%20%20%20%20%20%0A%20%20%20%20%0A%20%20%20%20%20%20%20%20%20%20%20%20var%20popup_459219dfe9334e5a83268906d8d6f725%20%3D%20L.popup%28%7BmaxWidth%3A%20%27100%25%27%0A%20%20%20%20%20%20%20%20%20%20%20%20%0A%20%20%20%20%20%20%20%20%20%20%20%20%7D%29%3B%0A%0A%20%20%20%20%20%20%20%20%20%20%20%20%0A%20%20%20%20%20%20%20%20%20%20%20%20%20%20%20%20var%20html_167d1af2e62544a780d6514b50ec265b%20%3D%20%24%28%60%3Cdiv%20id%3D%22html_167d1af2e62544a780d6514b50ec265b%22%20style%3D%22width%3A%20100.0%25%3B%20height%3A%20100.0%25%3B%22%3E%20%20%20%20%20%20%20%20%20%3Cul%3E%20%20%20%20%20%20%20%20%20%20%20%20%20%3Cli%3E%3Cstrong%3EID%3A%20%3C/strong%3E3157%3C/li%3E%20%20%20%20%20%20%20%20%20%20%20%20%20%3Cli%3E%3Cstrong%3ESource%3A%20%3C/strong%3EHenderson%20P%26C%20%23102%3C/li%3E%20%20%20%20%20%20%20%20%20%20%20%20%20%3Cli%3E%3Cstrong%3EName%3A%20%3C/strong%3Enan%3C/li%3E%20%20%20%20%20%20%20%20%20%3Cul%3E%20%20%20%20%20%3C/div%3E%60%29%5B0%5D%3B%0A%20%20%20%20%20%20%20%20%20%20%20%20%20%20%20%20popup_459219dfe9334e5a83268906d8d6f725.setContent%28html_167d1af2e62544a780d6514b50ec265b%29%3B%0A%20%20%20%20%20%20%20%20%20%20%20%20%0A%0A%20%20%20%20%20%20%20%20%20%20%20%20marker_06ecc7dbb7354b12b89d7b6bab5299df.bindPopup%28popup_459219dfe9334e5a83268906d8d6f725%29%0A%20%20%20%20%20%20%20%20%20%20%20%20%3B%0A%0A%20%20%20%20%20%20%20%20%20%20%20%20%0A%20%20%20%20%20%20%20%20%0A%20%20%20%20%0A%20%20%20%20%20%20%20%20var%20marker_44d6c8fc8f1248b0bb508cafa01b0b9e%20%3D%20L.marker%28%0A%20%20%20%20%20%20%20%20%20%20%20%20%5B43.76821%2C%2011.26524%5D%2C%0A%20%20%20%20%20%20%20%20%20%20%20%20%7B%0A%20%20%20%20%20%20%20%20%20%20%20%20%20%20%20%20icon%3A%20new%20L.Icon.Default%28%29%2C%0A%20%20%20%20%20%20%20%20%20%20%20%20%20%20%20%20%7D%0A%20%20%20%20%20%20%20%20%20%20%20%20%29.addTo%28map_146cd8147123498484976a07e362f27f%29%3B%0A%20%20%20%20%20%20%20%20%0A%20%20%20%20%0A%20%20%20%20%20%20%20%20%20%20%20%20var%20popup_63e640d0bcfe46c3ab26e58b884057d0%20%3D%20L.popup%28%7BmaxWidth%3A%20%27100%25%27%0A%20%20%20%20%20%20%20%20%20%20%20%20%0A%20%20%20%20%20%20%20%20%20%20%20%20%7D%29%3B%0A%0A%20%20%20%20%20%20%20%20%20%20%20%20%0A%20%20%20%20%20%20%20%20%20%20%20%20%20%20%20%20var%20html_d70aa7a28aa14e27adcd4be595e6deb7%20%3D%20%24%28%60%3Cdiv%20id%3D%22html_d70aa7a28aa14e27adcd4be595e6deb7%22%20style%3D%22width%3A%20100.0%25%3B%20height%3A%20100.0%25%3B%22%3E%20%20%20%20%20%20%20%20%20%3Cul%3E%20%20%20%20%20%20%20%20%20%20%20%20%20%3Cli%3E%3Cstrong%3EID%3A%20%3C/strong%3E3158%3C/li%3E%20%20%20%20%20%20%20%20%20%20%20%20%20%3Cli%3E%3Cstrong%3ESource%3A%20%3C/strong%3EHenderson%20P%26C%20%23102%3C/li%3E%20%20%20%20%20%20%20%20%20%20%20%20%20%3Cli%3E%3Cstrong%3EName%3A%20%3C/strong%3Enan%3C/li%3E%20%20%20%20%20%20%20%20%20%3Cul%3E%20%20%20%20%20%3C/div%3E%60%29%5B0%5D%3B%0A%20%20%20%20%20%20%20%20%20%20%20%20%20%20%20%20popup_63e640d0bcfe46c3ab26e58b884057d0.setContent%28html_d70aa7a28aa14e27adcd4be595e6deb7%29%3B%0A%20%20%20%20%20%20%20%20%20%20%20%20%0A%0A%20%20%20%20%20%20%20%20%20%20%20%20marker_44d6c8fc8f1248b0bb508cafa01b0b9e.bindPopup%28popup_63e640d0bcfe46c3ab26e58b884057d0%29%0A%20%20%20%20%20%20%20%20%20%20%20%20%3B%0A%0A%20%20%20%20%20%20%20%20%20%20%20%20%0A%20%20%20%20%20%20%20%20%0A%20%20%20%20%0A%20%20%20%20%20%20%20%20var%20marker_08d3176353e9414c886c06336081b67b%20%3D%20L.marker%28%0A%20%20%20%20%20%20%20%20%20%20%20%20%5B43.77019%2C%2011.26441%5D%2C%0A%20%20%20%20%20%20%20%20%20%20%20%20%7B%0A%20%20%20%20%20%20%20%20%20%20%20%20%20%20%20%20icon%3A%20new%20L.Icon.Default%28%29%2C%0A%20%20%20%20%20%20%20%20%20%20%20%20%20%20%20%20%7D%0A%20%20%20%20%20%20%20%20%20%20%20%20%29.addTo%28map_146cd8147123498484976a07e362f27f%29%3B%0A%20%20%20%20%20%20%20%20%0A%20%20%20%20%0A%20%20%20%20%20%20%20%20%20%20%20%20var%20popup_9dc232f9eb6e4b329a96d6edb8971286%20%3D%20L.popup%28%7BmaxWidth%3A%20%27100%25%27%0A%20%20%20%20%20%20%20%20%20%20%20%20%0A%20%20%20%20%20%20%20%20%20%20%20%20%7D%29%3B%0A%0A%20%20%20%20%20%20%20%20%20%20%20%20%0A%20%20%20%20%20%20%20%20%20%20%20%20%20%20%20%20var%20html_e4403dde886f4a3bb1a02a0b96d4c328%20%3D%20%24%28%60%3Cdiv%20id%3D%22html_e4403dde886f4a3bb1a02a0b96d4c328%22%20style%3D%22width%3A%20100.0%25%3B%20height%3A%20100.0%25%3B%22%3E%20%20%20%20%20%20%20%20%20%3Cul%3E%20%20%20%20%20%20%20%20%20%20%20%20%20%3Cli%3E%3Cstrong%3EID%3A%20%3C/strong%3E3177%3C/li%3E%20%20%20%20%20%20%20%20%20%20%20%20%20%3Cli%3E%3Cstrong%3ESource%3A%20%3C/strong%3EHenderson%20P%26C%20%23102%3C/li%3E%20%20%20%20%20%20%20%20%20%20%20%20%20%3Cli%3E%3Cstrong%3EName%3A%20%3C/strong%3EVincenzo%2C%20cartulaio%20Bolognese%3C/li%3E%20%20%20%20%20%20%20%20%20%3Cul%3E%20%20%20%20%20%3C/div%3E%60%29%5B0%5D%3B%0A%20%20%20%20%20%20%20%20%20%20%20%20%20%20%20%20popup_9dc232f9eb6e4b329a96d6edb8971286.setContent%28html_e4403dde886f4a3bb1a02a0b96d4c328%29%3B%0A%20%20%20%20%20%20%20%20%20%20%20%20%0A%0A%20%20%20%20%20%20%20%20%20%20%20%20marker_08d3176353e9414c886c06336081b67b.bindPopup%28popup_9dc232f9eb6e4b329a96d6edb8971286%29%0A%20%20%20%20%20%20%20%20%20%20%20%20%3B%0A%0A%20%20%20%20%20%20%20%20%20%20%20%20%0A%20%20%20%20%20%20%20%20%0A%20%20%20%20%0A%20%20%20%20%20%20%20%20var%20marker_6a6a67bf3a7246d896626e266a0c1337%20%3D%20L.marker%28%0A%20%20%20%20%20%20%20%20%20%20%20%20%5B43.76840467%2C%2011.26486267%5D%2C%0A%20%20%20%20%20%20%20%20%20%20%20%20%7B%0A%20%20%20%20%20%20%20%20%20%20%20%20%20%20%20%20icon%3A%20new%20L.Icon.Default%28%29%2C%0A%20%20%20%20%20%20%20%20%20%20%20%20%20%20%20%20%7D%0A%20%20%20%20%20%20%20%20%20%20%20%20%29.addTo%28map_146cd8147123498484976a07e362f27f%29%3B%0A%20%20%20%20%20%20%20%20%0A%20%20%20%20%0A%20%20%20%20%20%20%20%20%20%20%20%20var%20popup_1d4dd982cd0345f1899b5032fe452ef9%20%3D%20L.popup%28%7BmaxWidth%3A%20%27100%25%27%0A%20%20%20%20%20%20%20%20%20%20%20%20%0A%20%20%20%20%20%20%20%20%20%20%20%20%7D%29%3B%0A%0A%20%20%20%20%20%20%20%20%20%20%20%20%0A%20%20%20%20%20%20%20%20%20%20%20%20%20%20%20%20var%20html_d854b64cf40547ae9334d0040c7ff802%20%3D%20%24%28%60%3Cdiv%20id%3D%22html_d854b64cf40547ae9334d0040c7ff802%22%20style%3D%22width%3A%20100.0%25%3B%20height%3A%20100.0%25%3B%22%3E%20%20%20%20%20%20%20%20%20%3Cul%3E%20%20%20%20%20%20%20%20%20%20%20%20%20%3Cli%3E%3Cstrong%3EID%3A%20%3C/strong%3E3194%3C/li%3E%20%20%20%20%20%20%20%20%20%20%20%20%20%3Cli%3E%3Cstrong%3ESource%3A%20%3C/strong%3EHenderson%20P%26C%20%23102%3C/li%3E%20%20%20%20%20%20%20%20%20%20%20%20%20%3Cli%3E%3Cstrong%3EName%3A%20%3C/strong%3EMona%20Lucia%20di%20Bastiano%20da%20%20Palazzuolo%3C/li%3E%20%20%20%20%20%20%20%20%20%3Cul%3E%20%20%20%20%20%3C/div%3E%60%29%5B0%5D%3B%0A%20%20%20%20%20%20%20%20%20%20%20%20%20%20%20%20popup_1d4dd982cd0345f1899b5032fe452ef9.setContent%28html_d854b64cf40547ae9334d0040c7ff802%29%3B%0A%20%20%20%20%20%20%20%20%20%20%20%20%0A%0A%20%20%20%20%20%20%20%20%20%20%20%20marker_6a6a67bf3a7246d896626e266a0c1337.bindPopup%28popup_1d4dd982cd0345f1899b5032fe452ef9%29%0A%20%20%20%20%20%20%20%20%20%20%20%20%3B%0A%0A%20%20%20%20%20%20%20%20%20%20%20%20%0A%20%20%20%20%20%20%20%20%0A%20%20%20%20%0A%20%20%20%20%20%20%20%20var%20marker_cc785eb5874d4177bf37439e6bc2915d%20%3D%20L.marker%28%0A%20%20%20%20%20%20%20%20%20%20%20%20%5B43.76829%2C%2011.26496%5D%2C%0A%20%20%20%20%20%20%20%20%20%20%20%20%7B%0A%20%20%20%20%20%20%20%20%20%20%20%20%20%20%20%20icon%3A%20new%20L.Icon.Default%28%29%2C%0A%20%20%20%20%20%20%20%20%20%20%20%20%20%20%20%20%7D%0A%20%20%20%20%20%20%20%20%20%20%20%20%29.addTo%28map_146cd8147123498484976a07e362f27f%29%3B%0A%20%20%20%20%20%20%20%20%0A%20%20%20%20%0A%20%20%20%20%20%20%20%20%20%20%20%20var%20popup_19d5aa990d014720bca29e0860d22474%20%3D%20L.popup%28%7BmaxWidth%3A%20%27100%25%27%0A%20%20%20%20%20%20%20%20%20%20%20%20%0A%20%20%20%20%20%20%20%20%20%20%20%20%7D%29%3B%0A%0A%20%20%20%20%20%20%20%20%20%20%20%20%0A%20%20%20%20%20%20%20%20%20%20%20%20%20%20%20%20var%20html_047767a754f246eb947231dd5d171de3%20%3D%20%24%28%60%3Cdiv%20id%3D%22html_047767a754f246eb947231dd5d171de3%22%20style%3D%22width%3A%20100.0%25%3B%20height%3A%20100.0%25%3B%22%3E%20%20%20%20%20%20%20%20%20%3Cul%3E%20%20%20%20%20%20%20%20%20%20%20%20%20%3Cli%3E%3Cstrong%3EID%3A%20%3C/strong%3E3195%3C/li%3E%20%20%20%20%20%20%20%20%20%20%20%20%20%3Cli%3E%3Cstrong%3ESource%3A%20%3C/strong%3EHenderson%20P%26C%20%23102%3C/li%3E%20%20%20%20%20%20%20%20%20%20%20%20%20%3Cli%3E%3Cstrong%3EName%3A%20%3C/strong%3EAndrea%20di%20Tommaso%20d%20%20Palazzuolo%3C/li%3E%20%20%20%20%20%20%20%20%20%3Cul%3E%20%20%20%20%20%3C/div%3E%60%29%5B0%5D%3B%0A%20%20%20%20%20%20%20%20%20%20%20%20%20%20%20%20popup_19d5aa990d014720bca29e0860d22474.setContent%28html_047767a754f246eb947231dd5d171de3%29%3B%0A%20%20%20%20%20%20%20%20%20%20%20%20%0A%0A%20%20%20%20%20%20%20%20%20%20%20%20marker_cc785eb5874d4177bf37439e6bc2915d.bindPopup%28popup_19d5aa990d014720bca29e0860d22474%29%0A%20%20%20%20%20%20%20%20%20%20%20%20%3B%0A%0A%20%20%20%20%20%20%20%20%20%20%20%20%0A%20%20%20%20%20%20%20%20%0A%20%20%20%20%0A%20%20%20%20%20%20%20%20var%20marker_23e0d3257e16479e958f849629ae0c83%20%3D%20L.marker%28%0A%20%20%20%20%20%20%20%20%20%20%20%20%5B43.76847933%2C%2011.26490533%5D%2C%0A%20%20%20%20%20%20%20%20%20%20%20%20%7B%0A%20%20%20%20%20%20%20%20%20%20%20%20%20%20%20%20icon%3A%20new%20L.Icon.Default%28%29%2C%0A%20%20%20%20%20%20%20%20%20%20%20%20%20%20%20%20%7D%0A%20%20%20%20%20%20%20%20%20%20%20%20%29.addTo%28map_146cd8147123498484976a07e362f27f%29%3B%0A%20%20%20%20%20%20%20%20%0A%20%20%20%20%0A%20%20%20%20%20%20%20%20%20%20%20%20var%20popup_767ceafdb575443dbfa2db6dd4b7af1e%20%3D%20L.popup%28%7BmaxWidth%3A%20%27100%25%27%0A%20%20%20%20%20%20%20%20%20%20%20%20%0A%20%20%20%20%20%20%20%20%20%20%20%20%7D%29%3B%0A%0A%20%20%20%20%20%20%20%20%20%20%20%20%0A%20%20%20%20%20%20%20%20%20%20%20%20%20%20%20%20var%20html_2baa0e45fca646abb45681aa0bddd4f2%20%3D%20%24%28%60%3Cdiv%20id%3D%22html_2baa0e45fca646abb45681aa0bddd4f2%22%20style%3D%22width%3A%20100.0%25%3B%20height%3A%20100.0%25%3B%22%3E%20%20%20%20%20%20%20%20%20%3Cul%3E%20%20%20%20%20%20%20%20%20%20%20%20%20%3Cli%3E%3Cstrong%3EID%3A%20%3C/strong%3E3274%3C/li%3E%20%20%20%20%20%20%20%20%20%20%20%20%20%3Cli%3E%3Cstrong%3ESource%3A%20%3C/strong%3EHenderson%20P%26C%20%23102%3C/li%3E%20%20%20%20%20%20%20%20%20%20%20%20%20%3Cli%3E%3Cstrong%3EName%3A%20%3C/strong%3ETonino%20di%20Domenico%2C%20battilano%3C/li%3E%20%20%20%20%20%20%20%20%20%3Cul%3E%20%20%20%20%20%3C/div%3E%60%29%5B0%5D%3B%0A%20%20%20%20%20%20%20%20%20%20%20%20%20%20%20%20popup_767ceafdb575443dbfa2db6dd4b7af1e.setContent%28html_2baa0e45fca646abb45681aa0bddd4f2%29%3B%0A%20%20%20%20%20%20%20%20%20%20%20%20%0A%0A%20%20%20%20%20%20%20%20%20%20%20%20marker_23e0d3257e16479e958f849629ae0c83.bindPopup%28popup_767ceafdb575443dbfa2db6dd4b7af1e%29%0A%20%20%20%20%20%20%20%20%20%20%20%20%3B%0A%0A%20%20%20%20%20%20%20%20%20%20%20%20%0A%20%20%20%20%20%20%20%20%0A%20%20%20%20%0A%20%20%20%20%20%20%20%20var%20marker_aaf5bda8c6484950b9167be4fa3d4191%20%3D%20L.marker%28%0A%20%20%20%20%20%20%20%20%20%20%20%20%5B43.76886%2C%2011.265%5D%2C%0A%20%20%20%20%20%20%20%20%20%20%20%20%7B%0A%20%20%20%20%20%20%20%20%20%20%20%20%20%20%20%20icon%3A%20new%20L.Icon.Default%28%29%2C%0A%20%20%20%20%20%20%20%20%20%20%20%20%20%20%20%20%7D%0A%20%20%20%20%20%20%20%20%20%20%20%20%29.addTo%28map_146cd8147123498484976a07e362f27f%29%3B%0A%20%20%20%20%20%20%20%20%0A%20%20%20%20%0A%20%20%20%20%20%20%20%20%20%20%20%20var%20popup_03f34203275f4f108808a1491a768064%20%3D%20L.popup%28%7BmaxWidth%3A%20%27100%25%27%0A%20%20%20%20%20%20%20%20%20%20%20%20%0A%20%20%20%20%20%20%20%20%20%20%20%20%7D%29%3B%0A%0A%20%20%20%20%20%20%20%20%20%20%20%20%0A%20%20%20%20%20%20%20%20%20%20%20%20%20%20%20%20var%20html_d7812f55411747619b3a80ef52b900f0%20%3D%20%24%28%60%3Cdiv%20id%3D%22html_d7812f55411747619b3a80ef52b900f0%22%20style%3D%22width%3A%20100.0%25%3B%20height%3A%20100.0%25%3B%22%3E%20%20%20%20%20%20%20%20%20%3Cul%3E%20%20%20%20%20%20%20%20%20%20%20%20%20%3Cli%3E%3Cstrong%3EID%3A%20%3C/strong%3E3384%3C/li%3E%20%20%20%20%20%20%20%20%20%20%20%20%20%3Cli%3E%3Cstrong%3ESource%3A%20%3C/strong%3EHenderson%20P%26C%20%23102%3C/li%3E%20%20%20%20%20%20%20%20%20%20%20%20%20%3Cli%3E%3Cstrong%3EName%3A%20%3C/strong%3EAntonio%2C%20detto%20Rigogolo%2C%20votapozzi%3C/li%3E%20%20%20%20%20%20%20%20%20%3Cul%3E%20%20%20%20%20%3C/div%3E%60%29%5B0%5D%3B%0A%20%20%20%20%20%20%20%20%20%20%20%20%20%20%20%20popup_03f34203275f4f108808a1491a768064.setContent%28html_d7812f55411747619b3a80ef52b900f0%29%3B%0A%20%20%20%20%20%20%20%20%20%20%20%20%0A%0A%20%20%20%20%20%20%20%20%20%20%20%20marker_aaf5bda8c6484950b9167be4fa3d4191.bindPopup%28popup_03f34203275f4f108808a1491a768064%29%0A%20%20%20%20%20%20%20%20%20%20%20%20%3B%0A%0A%20%20%20%20%20%20%20%20%20%20%20%20%0A%20%20%20%20%20%20%20%20%0A%20%20%20%20%0A%20%20%20%20%20%20%20%20var%20marker_b5c716148829429b86b2253105cf66cc%20%3D%20L.marker%28%0A%20%20%20%20%20%20%20%20%20%20%20%20%5B43.76825%2C%2011.2651%5D%2C%0A%20%20%20%20%20%20%20%20%20%20%20%20%7B%0A%20%20%20%20%20%20%20%20%20%20%20%20%20%20%20%20icon%3A%20new%20L.Icon.Default%28%29%2C%0A%20%20%20%20%20%20%20%20%20%20%20%20%20%20%20%20%7D%0A%20%20%20%20%20%20%20%20%20%20%20%20%29.addTo%28map_146cd8147123498484976a07e362f27f%29%3B%0A%20%20%20%20%20%20%20%20%0A%20%20%20%20%0A%20%20%20%20%20%20%20%20%20%20%20%20var%20popup_e451d5cd717d4691960740848df3462e%20%3D%20L.popup%28%7BmaxWidth%3A%20%27100%25%27%0A%20%20%20%20%20%20%20%20%20%20%20%20%0A%20%20%20%20%20%20%20%20%20%20%20%20%7D%29%3B%0A%0A%20%20%20%20%20%20%20%20%20%20%20%20%0A%20%20%20%20%20%20%20%20%20%20%20%20%20%20%20%20var%20html_f26318b785964f49a115078cf882226b%20%3D%20%24%28%60%3Cdiv%20id%3D%22html_f26318b785964f49a115078cf882226b%22%20style%3D%22width%3A%20100.0%25%3B%20height%3A%20100.0%25%3B%22%3E%20%20%20%20%20%20%20%20%20%3Cul%3E%20%20%20%20%20%20%20%20%20%20%20%20%20%3Cli%3E%3Cstrong%3EID%3A%20%3C/strong%3E3385%3C/li%3E%20%20%20%20%20%20%20%20%20%20%20%20%20%3Cli%3E%3Cstrong%3ESource%3A%20%3C/strong%3EHenderson%20P%26C%20%23102%3C/li%3E%20%20%20%20%20%20%20%20%20%20%20%20%20%3Cli%3E%3Cstrong%3EName%3A%20%3C/strong%3Enan%3C/li%3E%20%20%20%20%20%20%20%20%20%3Cul%3E%20%20%20%20%20%3C/div%3E%60%29%5B0%5D%3B%0A%20%20%20%20%20%20%20%20%20%20%20%20%20%20%20%20popup_e451d5cd717d4691960740848df3462e.setContent%28html_f26318b785964f49a115078cf882226b%29%3B%0A%20%20%20%20%20%20%20%20%20%20%20%20%0A%0A%20%20%20%20%20%20%20%20%20%20%20%20marker_b5c716148829429b86b2253105cf66cc.bindPopup%28popup_e451d5cd717d4691960740848df3462e%29%0A%20%20%20%20%20%20%20%20%20%20%20%20%3B%0A%0A%20%20%20%20%20%20%20%20%20%20%20%20%0A%20%20%20%20%20%20%20%20%0A%20%20%20%20%0A%20%20%20%20%20%20%20%20var%20marker_5eaca94edb90437d940fb017720a7448%20%3D%20L.marker%28%0A%20%20%20%20%20%20%20%20%20%20%20%20%5B43.7709685%2C%2011.2698875%5D%2C%0A%20%20%20%20%20%20%20%20%20%20%20%20%7B%0A%20%20%20%20%20%20%20%20%20%20%20%20%20%20%20%20icon%3A%20new%20L.Icon.Default%28%29%2C%0A%20%20%20%20%20%20%20%20%20%20%20%20%20%20%20%20%7D%0A%20%20%20%20%20%20%20%20%20%20%20%20%29.addTo%28map_146cd8147123498484976a07e362f27f%29%3B%0A%20%20%20%20%20%20%20%20%0A%20%20%20%20%0A%20%20%20%20%20%20%20%20%20%20%20%20var%20popup_c1f6adf8d39348f98f0d42c58779417e%20%3D%20L.popup%28%7BmaxWidth%3A%20%27100%25%27%0A%20%20%20%20%20%20%20%20%20%20%20%20%0A%20%20%20%20%20%20%20%20%20%20%20%20%7D%29%3B%0A%0A%20%20%20%20%20%20%20%20%20%20%20%20%0A%20%20%20%20%20%20%20%20%20%20%20%20%20%20%20%20var%20html_128dbc421a5e437ca6b803c9015c260d%20%3D%20%24%28%60%3Cdiv%20id%3D%22html_128dbc421a5e437ca6b803c9015c260d%22%20style%3D%22width%3A%20100.0%25%3B%20height%3A%20100.0%25%3B%22%3E%20%20%20%20%20%20%20%20%20%3Cul%3E%20%20%20%20%20%20%20%20%20%20%20%20%20%3Cli%3E%3Cstrong%3EID%3A%20%3C/strong%3E2056%3C/li%3E%20%20%20%20%20%20%20%20%20%20%20%20%20%3Cli%3E%3Cstrong%3ESource%3A%20%3C/strong%3EHenderson%20P%26C%20%23102%3C/li%3E%20%20%20%20%20%20%20%20%20%20%20%20%20%3Cli%3E%3Cstrong%3EName%3A%20%3C/strong%3EAntonio%20di%20Piero%2C%20guardia%20della%20Compagnia%20del%20Tempio%3C/li%3E%20%20%20%20%20%20%20%20%20%3Cul%3E%20%20%20%20%20%3C/div%3E%60%29%5B0%5D%3B%0A%20%20%20%20%20%20%20%20%20%20%20%20%20%20%20%20popup_c1f6adf8d39348f98f0d42c58779417e.setContent%28html_128dbc421a5e437ca6b803c9015c260d%29%3B%0A%20%20%20%20%20%20%20%20%20%20%20%20%0A%0A%20%20%20%20%20%20%20%20%20%20%20%20marker_5eaca94edb90437d940fb017720a7448.bindPopup%28popup_c1f6adf8d39348f98f0d42c58779417e%29%0A%20%20%20%20%20%20%20%20%20%20%20%20%3B%0A%0A%20%20%20%20%20%20%20%20%20%20%20%20%0A%20%20%20%20%20%20%20%20%0A%20%20%20%20%0A%20%20%20%20%20%20%20%20var%20marker_58ebb6a81b954ae6be4e2fa36444b895%20%3D%20L.marker%28%0A%20%20%20%20%20%20%20%20%20%20%20%20%5B43.77100579%2C%2011.26971307%5D%2C%0A%20%20%20%20%20%20%20%20%20%20%20%20%7B%0A%20%20%20%20%20%20%20%20%20%20%20%20%20%20%20%20icon%3A%20new%20L.Icon.Default%28%29%2C%0A%20%20%20%20%20%20%20%20%20%20%20%20%20%20%20%20%7D%0A%20%20%20%20%20%20%20%20%20%20%20%20%29.addTo%28map_146cd8147123498484976a07e362f27f%29%3B%0A%20%20%20%20%20%20%20%20%0A%20%20%20%20%0A%20%20%20%20%20%20%20%20%20%20%20%20var%20popup_8c4e3e92ab8e4a9cbd438bd43c4d4362%20%3D%20L.popup%28%7BmaxWidth%3A%20%27100%25%27%0A%20%20%20%20%20%20%20%20%20%20%20%20%0A%20%20%20%20%20%20%20%20%20%20%20%20%7D%29%3B%0A%0A%20%20%20%20%20%20%20%20%20%20%20%20%0A%20%20%20%20%20%20%20%20%20%20%20%20%20%20%20%20var%20html_a529d4f4537049edb574bb06de7d6657%20%3D%20%24%28%60%3Cdiv%20id%3D%22html_a529d4f4537049edb574bb06de7d6657%22%20style%3D%22width%3A%20100.0%25%3B%20height%3A%20100.0%25%3B%22%3E%20%20%20%20%20%20%20%20%20%3Cul%3E%20%20%20%20%20%20%20%20%20%20%20%20%20%3Cli%3E%3Cstrong%3EID%3A%20%3C/strong%3E2136%3C/li%3E%20%20%20%20%20%20%20%20%20%20%20%20%20%3Cli%3E%3Cstrong%3ESource%3A%20%3C/strong%3EHenderson%20P%26C%20%23102%3C/li%3E%20%20%20%20%20%20%20%20%20%20%20%20%20%3Cli%3E%3Cstrong%3EName%3A%20%3C/strong%3EBartolomeo%20d%27%20Antonio%20di%20Lapo%2C%20beccaio%3C/li%3E%20%20%20%20%20%20%20%20%20%3Cul%3E%20%20%20%20%20%3C/div%3E%60%29%5B0%5D%3B%0A%20%20%20%20%20%20%20%20%20%20%20%20%20%20%20%20popup_8c4e3e92ab8e4a9cbd438bd43c4d4362.setContent%28html_a529d4f4537049edb574bb06de7d6657%29%3B%0A%20%20%20%20%20%20%20%20%20%20%20%20%0A%0A%20%20%20%20%20%20%20%20%20%20%20%20marker_58ebb6a81b954ae6be4e2fa36444b895.bindPopup%28popup_8c4e3e92ab8e4a9cbd438bd43c4d4362%29%0A%20%20%20%20%20%20%20%20%20%20%20%20%3B%0A%0A%20%20%20%20%20%20%20%20%20%20%20%20%0A%20%20%20%20%20%20%20%20%0A%20%20%20%20%0A%20%20%20%20%20%20%20%20var%20marker_b95003fc38954728b119f5e1ff2d5f84%20%3D%20L.marker%28%0A%20%20%20%20%20%20%20%20%20%20%20%20%5B43.7740713%2C%2011.26313274%5D%2C%0A%20%20%20%20%20%20%20%20%20%20%20%20%7B%0A%20%20%20%20%20%20%20%20%20%20%20%20%20%20%20%20icon%3A%20new%20L.Icon.Default%28%29%2C%0A%20%20%20%20%20%20%20%20%20%20%20%20%20%20%20%20%7D%0A%20%20%20%20%20%20%20%20%20%20%20%20%29.addTo%28map_146cd8147123498484976a07e362f27f%29%3B%0A%20%20%20%20%20%20%20%20%0A%20%20%20%20%0A%20%20%20%20%20%20%20%20%20%20%20%20var%20popup_1ea131ef6aa64df9980b1e9ddbce40a0%20%3D%20L.popup%28%7BmaxWidth%3A%20%27100%25%27%0A%20%20%20%20%20%20%20%20%20%20%20%20%0A%20%20%20%20%20%20%20%20%20%20%20%20%7D%29%3B%0A%0A%20%20%20%20%20%20%20%20%20%20%20%20%0A%20%20%20%20%20%20%20%20%20%20%20%20%20%20%20%20var%20html_fdcd70c74b844cd0912c25b3abac9053%20%3D%20%24%28%60%3Cdiv%20id%3D%22html_fdcd70c74b844cd0912c25b3abac9053%22%20style%3D%22width%3A%20100.0%25%3B%20height%3A%20100.0%25%3B%22%3E%20%20%20%20%20%20%20%20%20%3Cul%3E%20%20%20%20%20%20%20%20%20%20%20%20%20%3Cli%3E%3Cstrong%3EID%3A%20%3C/strong%3E2182%3C/li%3E%20%20%20%20%20%20%20%20%20%20%20%20%20%3Cli%3E%3Cstrong%3ESource%3A%20%3C/strong%3EHenderson%20P%26C%20%23102%3C/li%3E%20%20%20%20%20%20%20%20%20%20%20%20%20%3Cli%3E%3Cstrong%3EName%3A%20%3C/strong%3EMarco%20di%20Giovanni%2C%20tessitore%3C/li%3E%20%20%20%20%20%20%20%20%20%3Cul%3E%20%20%20%20%20%3C/div%3E%60%29%5B0%5D%3B%0A%20%20%20%20%20%20%20%20%20%20%20%20%20%20%20%20popup_1ea131ef6aa64df9980b1e9ddbce40a0.setContent%28html_fdcd70c74b844cd0912c25b3abac9053%29%3B%0A%20%20%20%20%20%20%20%20%20%20%20%20%0A%0A%20%20%20%20%20%20%20%20%20%20%20%20marker_b95003fc38954728b119f5e1ff2d5f84.bindPopup%28popup_1ea131ef6aa64df9980b1e9ddbce40a0%29%0A%20%20%20%20%20%20%20%20%20%20%20%20%3B%0A%0A%20%20%20%20%20%20%20%20%20%20%20%20%0A%20%20%20%20%20%20%20%20%0A%20%20%20%20%0A%20%20%20%20%20%20%20%20var%20marker_e3fc05b338f2422a9d4f7c0db3391b01%20%3D%20L.marker%28%0A%20%20%20%20%20%20%20%20%20%20%20%20%5B43.77098714%2C%2011.26980029%5D%2C%0A%20%20%20%20%20%20%20%20%20%20%20%20%7B%0A%20%20%20%20%20%20%20%20%20%20%20%20%20%20%20%20icon%3A%20new%20L.Icon.Default%28%29%2C%0A%20%20%20%20%20%20%20%20%20%20%20%20%20%20%20%20%7D%0A%20%20%20%20%20%20%20%20%20%20%20%20%29.addTo%28map_146cd8147123498484976a07e362f27f%29%3B%0A%20%20%20%20%20%20%20%20%0A%20%20%20%20%0A%20%20%20%20%20%20%20%20%20%20%20%20var%20popup_5dd04975bcd84209a4f722b843203c55%20%3D%20L.popup%28%7BmaxWidth%3A%20%27100%25%27%0A%20%20%20%20%20%20%20%20%20%20%20%20%0A%20%20%20%20%20%20%20%20%20%20%20%20%7D%29%3B%0A%0A%20%20%20%20%20%20%20%20%20%20%20%20%0A%20%20%20%20%20%20%20%20%20%20%20%20%20%20%20%20var%20html_9a5d305cb050410fa75b8b5a3a42e23d%20%3D%20%24%28%60%3Cdiv%20id%3D%22html_9a5d305cb050410fa75b8b5a3a42e23d%22%20style%3D%22width%3A%20100.0%25%3B%20height%3A%20100.0%25%3B%22%3E%20%20%20%20%20%20%20%20%20%3Cul%3E%20%20%20%20%20%20%20%20%20%20%20%20%20%3Cli%3E%3Cstrong%3EID%3A%20%3C/strong%3E2413%3C/li%3E%20%20%20%20%20%20%20%20%20%20%20%20%20%3Cli%3E%3Cstrong%3ESource%3A%20%3C/strong%3EHenderson%20P%26C%20%23102%3C/li%3E%20%20%20%20%20%20%20%20%20%20%20%20%20%3Cli%3E%3Cstrong%3EName%3A%20%3C/strong%3Enan%3C/li%3E%20%20%20%20%20%20%20%20%20%3Cul%3E%20%20%20%20%20%3C/div%3E%60%29%5B0%5D%3B%0A%20%20%20%20%20%20%20%20%20%20%20%20%20%20%20%20popup_5dd04975bcd84209a4f722b843203c55.setContent%28html_9a5d305cb050410fa75b8b5a3a42e23d%29%3B%0A%20%20%20%20%20%20%20%20%20%20%20%20%0A%0A%20%20%20%20%20%20%20%20%20%20%20%20marker_e3fc05b338f2422a9d4f7c0db3391b01.bindPopup%28popup_5dd04975bcd84209a4f722b843203c55%29%0A%20%20%20%20%20%20%20%20%20%20%20%20%3B%0A%0A%20%20%20%20%20%20%20%20%20%20%20%20%0A%20%20%20%20%20%20%20%20%0A%20%20%20%20%0A%20%20%20%20%20%20%20%20var%20marker_edaf6f295db44f218b11448717b2836f%20%3D%20L.marker%28%0A%20%20%20%20%20%20%20%20%20%20%20%20%5B43.771152%2C%2011.262448%5D%2C%0A%20%20%20%20%20%20%20%20%20%20%20%20%7B%0A%20%20%20%20%20%20%20%20%20%20%20%20%20%20%20%20icon%3A%20new%20L.Icon.Default%28%29%2C%0A%20%20%20%20%20%20%20%20%20%20%20%20%20%20%20%20%7D%0A%20%20%20%20%20%20%20%20%20%20%20%20%29.addTo%28map_146cd8147123498484976a07e362f27f%29%3B%0A%20%20%20%20%20%20%20%20%0A%20%20%20%20%0A%20%20%20%20%20%20%20%20%20%20%20%20var%20popup_d80d7131f29240da8fcfff58ea129317%20%3D%20L.popup%28%7BmaxWidth%3A%20%27100%25%27%0A%20%20%20%20%20%20%20%20%20%20%20%20%0A%20%20%20%20%20%20%20%20%20%20%20%20%7D%29%3B%0A%0A%20%20%20%20%20%20%20%20%20%20%20%20%0A%20%20%20%20%20%20%20%20%20%20%20%20%20%20%20%20var%20html_a9c454f6ae1e4dbdaa544c30f9f23e80%20%3D%20%24%28%60%3Cdiv%20id%3D%22html_a9c454f6ae1e4dbdaa544c30f9f23e80%22%20style%3D%22width%3A%20100.0%25%3B%20height%3A%20100.0%25%3B%22%3E%20%20%20%20%20%20%20%20%20%3Cul%3E%20%20%20%20%20%20%20%20%20%20%20%20%20%3Cli%3E%3Cstrong%3EID%3A%20%3C/strong%3E3628%3C/li%3E%20%20%20%20%20%20%20%20%20%20%20%20%20%3Cli%3E%3Cstrong%3ESource%3A%20%3C/strong%3EHenderson%20P%26C%20%23102%3C/li%3E%20%20%20%20%20%20%20%20%20%20%20%20%20%3Cli%3E%3Cstrong%3EName%3A%20%3C/strong%3ERaffaello%2C%20donzello%20della%20Parte%3C/li%3E%20%20%20%20%20%20%20%20%20%3Cul%3E%20%20%20%20%20%3C/div%3E%60%29%5B0%5D%3B%0A%20%20%20%20%20%20%20%20%20%20%20%20%20%20%20%20popup_d80d7131f29240da8fcfff58ea129317.setContent%28html_a9c454f6ae1e4dbdaa544c30f9f23e80%29%3B%0A%20%20%20%20%20%20%20%20%20%20%20%20%0A%0A%20%20%20%20%20%20%20%20%20%20%20%20marker_edaf6f295db44f218b11448717b2836f.bindPopup%28popup_d80d7131f29240da8fcfff58ea129317%29%0A%20%20%20%20%20%20%20%20%20%20%20%20%3B%0A%0A%20%20%20%20%20%20%20%20%20%20%20%20%0A%20%20%20%20%20%20%20%20%0A%20%20%20%20%0A%20%20%20%20%20%20%20%20var%20marker_37b4957495e147b6afcc579ef51ea444%20%3D%20L.marker%28%0A%20%20%20%20%20%20%20%20%20%20%20%20%5B43.76981%2C%2011.25724%5D%2C%0A%20%20%20%20%20%20%20%20%20%20%20%20%7B%0A%20%20%20%20%20%20%20%20%20%20%20%20%20%20%20%20icon%3A%20new%20L.Icon.Default%28%29%2C%0A%20%20%20%20%20%20%20%20%20%20%20%20%20%20%20%20%7D%0A%20%20%20%20%20%20%20%20%20%20%20%20%29.addTo%28map_146cd8147123498484976a07e362f27f%29%3B%0A%20%20%20%20%20%20%20%20%0A%20%20%20%20%0A%20%20%20%20%20%20%20%20%20%20%20%20var%20popup_f03b357f383147bdaf264de33acc5af7%20%3D%20L.popup%28%7BmaxWidth%3A%20%27100%25%27%0A%20%20%20%20%20%20%20%20%20%20%20%20%0A%20%20%20%20%20%20%20%20%20%20%20%20%7D%29%3B%0A%0A%20%20%20%20%20%20%20%20%20%20%20%20%0A%20%20%20%20%20%20%20%20%20%20%20%20%20%20%20%20var%20html_9264b81b3dc34c04a3e5a98cc7dca217%20%3D%20%24%28%60%3Cdiv%20id%3D%22html_9264b81b3dc34c04a3e5a98cc7dca217%22%20style%3D%22width%3A%20100.0%25%3B%20height%3A%20100.0%25%3B%22%3E%20%20%20%20%20%20%20%20%20%3Cul%3E%20%20%20%20%20%20%20%20%20%20%20%20%20%3Cli%3E%3Cstrong%3EID%3A%20%3C/strong%3E4275%3C/li%3E%20%20%20%20%20%20%20%20%20%20%20%20%20%3Cli%3E%3Cstrong%3ESource%3A%20%3C/strong%3EHenderson%20P%26C%20%23102%3C/li%3E%20%20%20%20%20%20%20%20%20%20%20%20%20%3Cli%3E%3Cstrong%3EName%3A%20%3C/strong%3ELionardo%20di%20Taddeo%2C%20coltellinaio%3C/li%3E%20%20%20%20%20%20%20%20%20%3Cul%3E%20%20%20%20%20%3C/div%3E%60%29%5B0%5D%3B%0A%20%20%20%20%20%20%20%20%20%20%20%20%20%20%20%20popup_f03b357f383147bdaf264de33acc5af7.setContent%28html_9264b81b3dc34c04a3e5a98cc7dca217%29%3B%0A%20%20%20%20%20%20%20%20%20%20%20%20%0A%0A%20%20%20%20%20%20%20%20%20%20%20%20marker_37b4957495e147b6afcc579ef51ea444.bindPopup%28popup_f03b357f383147bdaf264de33acc5af7%29%0A%20%20%20%20%20%20%20%20%20%20%20%20%3B%0A%0A%20%20%20%20%20%20%20%20%20%20%20%20%0A%20%20%20%20%20%20%20%20%0A%20%20%20%20%0A%20%20%20%20%20%20%20%20var%20marker_bb18422be2eb4769b5ce3bf2d68cb0c0%20%3D%20L.marker%28%0A%20%20%20%20%20%20%20%20%20%20%20%20%5B43.769925%2C%2011.256705%5D%2C%0A%20%20%20%20%20%20%20%20%20%20%20%20%7B%0A%20%20%20%20%20%20%20%20%20%20%20%20%20%20%20%20icon%3A%20new%20L.Icon.Default%28%29%2C%0A%20%20%20%20%20%20%20%20%20%20%20%20%20%20%20%20%7D%0A%20%20%20%20%20%20%20%20%20%20%20%20%29.addTo%28map_146cd8147123498484976a07e362f27f%29%3B%0A%20%20%20%20%20%20%20%20%0A%20%20%20%20%0A%20%20%20%20%20%20%20%20%20%20%20%20var%20popup_d5ae72bdc0c64794b6eb343766e9af59%20%3D%20L.popup%28%7BmaxWidth%3A%20%27100%25%27%0A%20%20%20%20%20%20%20%20%20%20%20%20%0A%20%20%20%20%20%20%20%20%20%20%20%20%7D%29%3B%0A%0A%20%20%20%20%20%20%20%20%20%20%20%20%0A%20%20%20%20%20%20%20%20%20%20%20%20%20%20%20%20var%20html_704f2824cfa04f0dad84982f2773243d%20%3D%20%24%28%60%3Cdiv%20id%3D%22html_704f2824cfa04f0dad84982f2773243d%22%20style%3D%22width%3A%20100.0%25%3B%20height%3A%20100.0%25%3B%22%3E%20%20%20%20%20%20%20%20%20%3Cul%3E%20%20%20%20%20%20%20%20%20%20%20%20%20%3Cli%3E%3Cstrong%3EID%3A%20%3C/strong%3E4276%3C/li%3E%20%20%20%20%20%20%20%20%20%20%20%20%20%3Cli%3E%3Cstrong%3ESource%3A%20%3C/strong%3EHenderson%20P%26C%20%23102%3C/li%3E%20%20%20%20%20%20%20%20%20%20%20%20%20%3Cli%3E%3Cstrong%3EName%3A%20%3C/strong%3EAntonio%20di%20Benedetto%2C%20detto%20il%20Boncio%2C%20occhialaio%3C/li%3E%20%20%20%20%20%20%20%20%20%3Cul%3E%20%20%20%20%20%3C/div%3E%60%29%5B0%5D%3B%0A%20%20%20%20%20%20%20%20%20%20%20%20%20%20%20%20popup_d5ae72bdc0c64794b6eb343766e9af59.setContent%28html_704f2824cfa04f0dad84982f2773243d%29%3B%0A%20%20%20%20%20%20%20%20%20%20%20%20%0A%0A%20%20%20%20%20%20%20%20%20%20%20%20marker_bb18422be2eb4769b5ce3bf2d68cb0c0.bindPopup%28popup_d5ae72bdc0c64794b6eb343766e9af59%29%0A%20%20%20%20%20%20%20%20%20%20%20%20%3B%0A%0A%20%20%20%20%20%20%20%20%20%20%20%20%0A%20%20%20%20%20%20%20%20%0A%20%20%20%20%0A%20%20%20%20%20%20%20%20var%20marker_12f286c50d154e82aac05bf8281844cd%20%3D%20L.marker%28%0A%20%20%20%20%20%20%20%20%20%20%20%20%5B43.76582667%2C%2011.24658%5D%2C%0A%20%20%20%20%20%20%20%20%20%20%20%20%7B%0A%20%20%20%20%20%20%20%20%20%20%20%20%20%20%20%20icon%3A%20new%20L.Icon.Default%28%29%2C%0A%20%20%20%20%20%20%20%20%20%20%20%20%20%20%20%20%7D%0A%20%20%20%20%20%20%20%20%20%20%20%20%29.addTo%28map_146cd8147123498484976a07e362f27f%29%3B%0A%20%20%20%20%20%20%20%20%0A%20%20%20%20%0A%20%20%20%20%20%20%20%20%20%20%20%20var%20popup_b603a2be03c74797b113ddb769ef7b29%20%3D%20L.popup%28%7BmaxWidth%3A%20%27100%25%27%0A%20%20%20%20%20%20%20%20%20%20%20%20%0A%20%20%20%20%20%20%20%20%20%20%20%20%7D%29%3B%0A%0A%20%20%20%20%20%20%20%20%20%20%20%20%0A%20%20%20%20%20%20%20%20%20%20%20%20%20%20%20%20var%20html_343da44326e247658d618d83dd236062%20%3D%20%24%28%60%3Cdiv%20id%3D%22html_343da44326e247658d618d83dd236062%22%20style%3D%22width%3A%20100.0%25%3B%20height%3A%20100.0%25%3B%22%3E%20%20%20%20%20%20%20%20%20%3Cul%3E%20%20%20%20%20%20%20%20%20%20%20%20%20%3Cli%3E%3Cstrong%3EID%3A%20%3C/strong%3E7630%3C/li%3E%20%20%20%20%20%20%20%20%20%20%20%20%20%3Cli%3E%3Cstrong%3ESource%3A%20%3C/strong%3EHenderson%20P%26C%20%23114%3C/li%3E%20%20%20%20%20%20%20%20%20%20%20%20%20%3Cli%3E%3Cstrong%3EName%3A%20%3C/strong%3EMona%20Thommasa%20di%20Giovanbatista%20da%20Verrazzano%3C/li%3E%20%20%20%20%20%20%20%20%20%3Cul%3E%20%20%20%20%20%3C/div%3E%60%29%5B0%5D%3B%0A%20%20%20%20%20%20%20%20%20%20%20%20%20%20%20%20popup_b603a2be03c74797b113ddb769ef7b29.setContent%28html_343da44326e247658d618d83dd236062%29%3B%0A%20%20%20%20%20%20%20%20%20%20%20%20%0A%0A%20%20%20%20%20%20%20%20%20%20%20%20marker_12f286c50d154e82aac05bf8281844cd.bindPopup%28popup_b603a2be03c74797b113ddb769ef7b29%29%0A%20%20%20%20%20%20%20%20%20%20%20%20%3B%0A%0A%20%20%20%20%20%20%20%20%20%20%20%20%0A%20%20%20%20%20%20%20%20%0A%20%20%20%20%0A%20%20%20%20%20%20%20%20var%20marker_3160cffd0c514688ac655a917a11bd30%20%3D%20L.marker%28%0A%20%20%20%20%20%20%20%20%20%20%20%20%5B43.768982%2C%2011.242736%5D%2C%0A%20%20%20%20%20%20%20%20%20%20%20%20%7B%0A%20%20%20%20%20%20%20%20%20%20%20%20%20%20%20%20icon%3A%20new%20L.Icon.Default%28%29%2C%0A%20%20%20%20%20%20%20%20%20%20%20%20%20%20%20%20%7D%0A%20%20%20%20%20%20%20%20%20%20%20%20%29.addTo%28map_146cd8147123498484976a07e362f27f%29%3B%0A%20%20%20%20%20%20%20%20%0A%20%20%20%20%0A%20%20%20%20%20%20%20%20%20%20%20%20var%20popup_8d76c8aa08794f65a466dfa2effd5fc8%20%3D%20L.popup%28%7BmaxWidth%3A%20%27100%25%27%0A%20%20%20%20%20%20%20%20%20%20%20%20%0A%20%20%20%20%20%20%20%20%20%20%20%20%7D%29%3B%0A%0A%20%20%20%20%20%20%20%20%20%20%20%20%0A%20%20%20%20%20%20%20%20%20%20%20%20%20%20%20%20var%20html_c9654d9ace124edcb43a844f187516ab%20%3D%20%24%28%60%3Cdiv%20id%3D%22html_c9654d9ace124edcb43a844f187516ab%22%20style%3D%22width%3A%20100.0%25%3B%20height%3A%20100.0%25%3B%22%3E%20%20%20%20%20%20%20%20%20%3Cul%3E%20%20%20%20%20%20%20%20%20%20%20%20%20%3Cli%3E%3Cstrong%3EID%3A%20%3C/strong%3E8289%3C/li%3E%20%20%20%20%20%20%20%20%20%20%20%20%20%3Cli%3E%3Cstrong%3ESource%3A%20%3C/strong%3EHenderson%20P%26C%20%2358%3C/li%3E%20%20%20%20%20%20%20%20%20%20%20%20%20%3Cli%3E%3Cstrong%3EName%3A%20%3C/strong%3EAntonio%20battilano%3C/li%3E%20%20%20%20%20%20%20%20%20%3Cul%3E%20%20%20%20%20%3C/div%3E%60%29%5B0%5D%3B%0A%20%20%20%20%20%20%20%20%20%20%20%20%20%20%20%20popup_8d76c8aa08794f65a466dfa2effd5fc8.setContent%28html_c9654d9ace124edcb43a844f187516ab%29%3B%0A%20%20%20%20%20%20%20%20%20%20%20%20%0A%0A%20%20%20%20%20%20%20%20%20%20%20%20marker_3160cffd0c514688ac655a917a11bd30.bindPopup%28popup_8d76c8aa08794f65a466dfa2effd5fc8%29%0A%20%20%20%20%20%20%20%20%20%20%20%20%3B%0A%0A%20%20%20%20%20%20%20%20%20%20%20%20%0A%20%20%20%20%20%20%20%20%0A%20%20%20%20%0A%20%20%20%20%20%20%20%20var%20marker_bd7088b277824fd494900e4035e67c0e%20%3D%20L.marker%28%0A%20%20%20%20%20%20%20%20%20%20%20%20%5B43.769388%2C%2011.244695%5D%2C%0A%20%20%20%20%20%20%20%20%20%20%20%20%7B%0A%20%20%20%20%20%20%20%20%20%20%20%20%20%20%20%20icon%3A%20new%20L.Icon.Default%28%29%2C%0A%20%20%20%20%20%20%20%20%20%20%20%20%20%20%20%20%7D%0A%20%20%20%20%20%20%20%20%20%20%20%20%29.addTo%28map_146cd8147123498484976a07e362f27f%29%3B%0A%20%20%20%20%20%20%20%20%0A%20%20%20%20%0A%20%20%20%20%20%20%20%20%20%20%20%20var%20popup_0125f6e5a76e42d5a77a6d55cb144aeb%20%3D%20L.popup%28%7BmaxWidth%3A%20%27100%25%27%0A%20%20%20%20%20%20%20%20%20%20%20%20%0A%20%20%20%20%20%20%20%20%20%20%20%20%7D%29%3B%0A%0A%20%20%20%20%20%20%20%20%20%20%20%20%0A%20%20%20%20%20%20%20%20%20%20%20%20%20%20%20%20var%20html_f9d99cf52eb54e6a9d31bdaaf3fcda96%20%3D%20%24%28%60%3Cdiv%20id%3D%22html_f9d99cf52eb54e6a9d31bdaaf3fcda96%22%20style%3D%22width%3A%20100.0%25%3B%20height%3A%20100.0%25%3B%22%3E%20%20%20%20%20%20%20%20%20%3Cul%3E%20%20%20%20%20%20%20%20%20%20%20%20%20%3Cli%3E%3Cstrong%3EID%3A%20%3C/strong%3E8486%3C/li%3E%20%20%20%20%20%20%20%20%20%20%20%20%20%3Cli%3E%3Cstrong%3ESource%3A%20%3C/strong%3EHenderson%20P%26C%20%2358%3C/li%3E%20%20%20%20%20%20%20%20%20%20%20%20%20%3Cli%3E%3Cstrong%3EName%3A%20%3C/strong%3EMona%20Simone%20di%20Bastiano%20manouale%3C/li%3E%20%20%20%20%20%20%20%20%20%3Cul%3E%20%20%20%20%20%3C/div%3E%60%29%5B0%5D%3B%0A%20%20%20%20%20%20%20%20%20%20%20%20%20%20%20%20popup_0125f6e5a76e42d5a77a6d55cb144aeb.setContent%28html_f9d99cf52eb54e6a9d31bdaaf3fcda96%29%3B%0A%20%20%20%20%20%20%20%20%20%20%20%20%0A%0A%20%20%20%20%20%20%20%20%20%20%20%20marker_bd7088b277824fd494900e4035e67c0e.bindPopup%28popup_0125f6e5a76e42d5a77a6d55cb144aeb%29%0A%20%20%20%20%20%20%20%20%20%20%20%20%3B%0A%0A%20%20%20%20%20%20%20%20%20%20%20%20%0A%20%20%20%20%20%20%20%20%0A%20%20%20%20%0A%20%20%20%20%20%20%20%20var%20marker_84ce2600eb064925b6067f7e4cce8f93%20%3D%20L.marker%28%0A%20%20%20%20%20%20%20%20%20%20%20%20%5B43.77036985%2C%2011.24205892%5D%2C%0A%20%20%20%20%20%20%20%20%20%20%20%20%7B%0A%20%20%20%20%20%20%20%20%20%20%20%20%20%20%20%20icon%3A%20new%20L.Icon.Default%28%29%2C%0A%20%20%20%20%20%20%20%20%20%20%20%20%20%20%20%20%7D%0A%20%20%20%20%20%20%20%20%20%20%20%20%29.addTo%28map_146cd8147123498484976a07e362f27f%29%3B%0A%20%20%20%20%20%20%20%20%0A%20%20%20%20%0A%20%20%20%20%20%20%20%20%20%20%20%20var%20popup_e1a9d0adf553436dbd746cbc11e21ea0%20%3D%20L.popup%28%7BmaxWidth%3A%20%27100%25%27%0A%20%20%20%20%20%20%20%20%20%20%20%20%0A%20%20%20%20%20%20%20%20%20%20%20%20%7D%29%3B%0A%0A%20%20%20%20%20%20%20%20%20%20%20%20%0A%20%20%20%20%20%20%20%20%20%20%20%20%20%20%20%20var%20html_233e9845d12c41b694ab04d5820ecb34%20%3D%20%24%28%60%3Cdiv%20id%3D%22html_233e9845d12c41b694ab04d5820ecb34%22%20style%3D%22width%3A%20100.0%25%3B%20height%3A%20100.0%25%3B%22%3E%20%20%20%20%20%20%20%20%20%3Cul%3E%20%20%20%20%20%20%20%20%20%20%20%20%20%3Cli%3E%3Cstrong%3EID%3A%20%3C/strong%3E8315%3C/li%3E%20%20%20%20%20%20%20%20%20%20%20%20%20%3Cli%3E%3Cstrong%3ESource%3A%20%3C/strong%3EHenderson%20P%26C%20%2358%3C/li%3E%20%20%20%20%20%20%20%20%20%20%20%20%20%3Cli%3E%3Cstrong%3EName%3A%20%3C/strong%3ESalvestro%20di%20Matteo%20minugiaio%3C/li%3E%20%20%20%20%20%20%20%20%20%3Cul%3E%20%20%20%20%20%3C/div%3E%60%29%5B0%5D%3B%0A%20%20%20%20%20%20%20%20%20%20%20%20%20%20%20%20popup_e1a9d0adf553436dbd746cbc11e21ea0.setContent%28html_233e9845d12c41b694ab04d5820ecb34%29%3B%0A%20%20%20%20%20%20%20%20%20%20%20%20%0A%0A%20%20%20%20%20%20%20%20%20%20%20%20marker_84ce2600eb064925b6067f7e4cce8f93.bindPopup%28popup_e1a9d0adf553436dbd746cbc11e21ea0%29%0A%20%20%20%20%20%20%20%20%20%20%20%20%3B%0A%0A%20%20%20%20%20%20%20%20%20%20%20%20%0A%20%20%20%20%20%20%20%20%0A%20%20%20%20%0A%20%20%20%20%20%20%20%20var%20marker_81f4a9ad8fa0490b976b33538ff9b101%20%3D%20L.marker%28%0A%20%20%20%20%20%20%20%20%20%20%20%20%5B43.769331%2C%2011.24549767%5D%2C%0A%20%20%20%20%20%20%20%20%20%20%20%20%7B%0A%20%20%20%20%20%20%20%20%20%20%20%20%20%20%20%20icon%3A%20new%20L.Icon.Default%28%29%2C%0A%20%20%20%20%20%20%20%20%20%20%20%20%20%20%20%20%7D%0A%20%20%20%20%20%20%20%20%20%20%20%20%29.addTo%28map_146cd8147123498484976a07e362f27f%29%3B%0A%20%20%20%20%20%20%20%20%0A%20%20%20%20%0A%20%20%20%20%20%20%20%20%20%20%20%20var%20popup_0a050686bbba47dba70d1cb920e11ca4%20%3D%20L.popup%28%7BmaxWidth%3A%20%27100%25%27%0A%20%20%20%20%20%20%20%20%20%20%20%20%0A%20%20%20%20%20%20%20%20%20%20%20%20%7D%29%3B%0A%0A%20%20%20%20%20%20%20%20%20%20%20%20%0A%20%20%20%20%20%20%20%20%20%20%20%20%20%20%20%20var%20html_ab26e76683e34e5a97907aceaf1898ea%20%3D%20%24%28%60%3Cdiv%20id%3D%22html_ab26e76683e34e5a97907aceaf1898ea%22%20style%3D%22width%3A%20100.0%25%3B%20height%3A%20100.0%25%3B%22%3E%20%20%20%20%20%20%20%20%20%3Cul%3E%20%20%20%20%20%20%20%20%20%20%20%20%20%3Cli%3E%3Cstrong%3EID%3A%20%3C/strong%3E8509%3C/li%3E%20%20%20%20%20%20%20%20%20%20%20%20%20%3Cli%3E%3Cstrong%3ESource%3A%20%3C/strong%3EHenderson%20P%26C%20%2358%3C/li%3E%20%20%20%20%20%20%20%20%20%20%20%20%20%3Cli%3E%3Cstrong%3EName%3A%20%3C/strong%3EFrancesco%20di%20Niccolo%20fornaio%3C/li%3E%20%20%20%20%20%20%20%20%20%3Cul%3E%20%20%20%20%20%3C/div%3E%60%29%5B0%5D%3B%0A%20%20%20%20%20%20%20%20%20%20%20%20%20%20%20%20popup_0a050686bbba47dba70d1cb920e11ca4.setContent%28html_ab26e76683e34e5a97907aceaf1898ea%29%3B%0A%20%20%20%20%20%20%20%20%20%20%20%20%0A%0A%20%20%20%20%20%20%20%20%20%20%20%20marker_81f4a9ad8fa0490b976b33538ff9b101.bindPopup%28popup_0a050686bbba47dba70d1cb920e11ca4%29%0A%20%20%20%20%20%20%20%20%20%20%20%20%3B%0A%0A%20%20%20%20%20%20%20%20%20%20%20%20%0A%20%20%20%20%20%20%20%20%0A%20%20%20%20%0A%20%20%20%20%20%20%20%20var%20marker_51abb00a3ac94a7ba8398656fbee63c2%20%3D%20L.marker%28%0A%20%20%20%20%20%20%20%20%20%20%20%20%5B43.77837788%2C%2011.254472%5D%2C%0A%20%20%20%20%20%20%20%20%20%20%20%20%7B%0A%20%20%20%20%20%20%20%20%20%20%20%20%20%20%20%20icon%3A%20new%20L.Icon.Default%28%29%2C%0A%20%20%20%20%20%20%20%20%20%20%20%20%20%20%20%20%7D%0A%20%20%20%20%20%20%20%20%20%20%20%20%29.addTo%28map_146cd8147123498484976a07e362f27f%29%3B%0A%20%20%20%20%20%20%20%20%0A%20%20%20%20%0A%20%20%20%20%20%20%20%20%20%20%20%20var%20popup_1fd4186f78904ecd9e9a14d2fe32f134%20%3D%20L.popup%28%7BmaxWidth%3A%20%27100%25%27%0A%20%20%20%20%20%20%20%20%20%20%20%20%0A%20%20%20%20%20%20%20%20%20%20%20%20%7D%29%3B%0A%0A%20%20%20%20%20%20%20%20%20%20%20%20%0A%20%20%20%20%20%20%20%20%20%20%20%20%20%20%20%20var%20html_015756afd1bb4c45b64b67da42dbd645%20%3D%20%24%28%60%3Cdiv%20id%3D%22html_015756afd1bb4c45b64b67da42dbd645%22%20style%3D%22width%3A%20100.0%25%3B%20height%3A%20100.0%25%3B%22%3E%20%20%20%20%20%20%20%20%20%3Cul%3E%20%20%20%20%20%20%20%20%20%20%20%20%20%3Cli%3E%3Cstrong%3EID%3A%20%3C/strong%3E517%3C/li%3E%20%20%20%20%20%20%20%20%20%20%20%20%20%3Cli%3E%3Cstrong%3ESource%3A%20%3C/strong%3Enan%3C/li%3E%20%20%20%20%20%20%20%20%20%20%20%20%20%3Cli%3E%3Cstrong%3EName%3A%20%3C/strong%3ELorenzo%20di%20Bartolomeo%2C%20tessitore%3C/li%3E%20%20%20%20%20%20%20%20%20%3Cul%3E%20%20%20%20%20%3C/div%3E%60%29%5B0%5D%3B%0A%20%20%20%20%20%20%20%20%20%20%20%20%20%20%20%20popup_1fd4186f78904ecd9e9a14d2fe32f134.setContent%28html_015756afd1bb4c45b64b67da42dbd645%29%3B%0A%20%20%20%20%20%20%20%20%20%20%20%20%0A%0A%20%20%20%20%20%20%20%20%20%20%20%20marker_51abb00a3ac94a7ba8398656fbee63c2.bindPopup%28popup_1fd4186f78904ecd9e9a14d2fe32f134%29%0A%20%20%20%20%20%20%20%20%20%20%20%20%3B%0A%0A%20%20%20%20%20%20%20%20%20%20%20%20%0A%20%20%20%20%20%20%20%20%0A%20%20%20%20%0A%20%20%20%20%20%20%20%20var%20marker_c4ef40c43af44a1c98f105194af86b2b%20%3D%20L.marker%28%0A%20%20%20%20%20%20%20%20%20%20%20%20%5B43.77051125%2C%2011.262585%5D%2C%0A%20%20%20%20%20%20%20%20%20%20%20%20%7B%0A%20%20%20%20%20%20%20%20%20%20%20%20%20%20%20%20icon%3A%20new%20L.Icon.Default%28%29%2C%0A%20%20%20%20%20%20%20%20%20%20%20%20%20%20%20%20%7D%0A%20%20%20%20%20%20%20%20%20%20%20%20%29.addTo%28map_146cd8147123498484976a07e362f27f%29%3B%0A%20%20%20%20%20%20%20%20%0A%20%20%20%20%0A%20%20%20%20%20%20%20%20%20%20%20%20var%20popup_3a4530a38e004cc09758dbe96331c1ca%20%3D%20L.popup%28%7BmaxWidth%3A%20%27100%25%27%0A%20%20%20%20%20%20%20%20%20%20%20%20%0A%20%20%20%20%20%20%20%20%20%20%20%20%7D%29%3B%0A%0A%20%20%20%20%20%20%20%20%20%20%20%20%0A%20%20%20%20%20%20%20%20%20%20%20%20%20%20%20%20var%20html_e090a05b52a5494f91654707f396b54f%20%3D%20%24%28%60%3Cdiv%20id%3D%22html_e090a05b52a5494f91654707f396b54f%22%20style%3D%22width%3A%20100.0%25%3B%20height%3A%20100.0%25%3B%22%3E%20%20%20%20%20%20%20%20%20%3Cul%3E%20%20%20%20%20%20%20%20%20%20%20%20%20%3Cli%3E%3Cstrong%3EID%3A%20%3C/strong%3E4784%3C/li%3E%20%20%20%20%20%20%20%20%20%20%20%20%20%3Cli%3E%3Cstrong%3ESource%3A%20%3C/strong%3Enan%3C/li%3E%20%20%20%20%20%20%20%20%20%20%20%20%20%3Cli%3E%3Cstrong%3EName%3A%20%3C/strong%3Enan%3C/li%3E%20%20%20%20%20%20%20%20%20%3Cul%3E%20%20%20%20%20%3C/div%3E%60%29%5B0%5D%3B%0A%20%20%20%20%20%20%20%20%20%20%20%20%20%20%20%20popup_3a4530a38e004cc09758dbe96331c1ca.setContent%28html_e090a05b52a5494f91654707f396b54f%29%3B%0A%20%20%20%20%20%20%20%20%20%20%20%20%0A%0A%20%20%20%20%20%20%20%20%20%20%20%20marker_c4ef40c43af44a1c98f105194af86b2b.bindPopup%28popup_3a4530a38e004cc09758dbe96331c1ca%29%0A%20%20%20%20%20%20%20%20%20%20%20%20%3B%0A%0A%20%20%20%20%20%20%20%20%20%20%20%20%0A%20%20%20%20%20%20%20%20%0A%20%20%20%20%0A%20%20%20%20%20%20%20%20var%20marker_3e495df68818413a8cad6eefc564a78f%20%3D%20L.marker%28%0A%20%20%20%20%20%20%20%20%20%20%20%20%5B43.772431%2C%2011.253561%5D%2C%0A%20%20%20%20%20%20%20%20%20%20%20%20%7B%0A%20%20%20%20%20%20%20%20%20%20%20%20%20%20%20%20icon%3A%20new%20L.Icon.Default%28%29%2C%0A%20%20%20%20%20%20%20%20%20%20%20%20%20%20%20%20%7D%0A%20%20%20%20%20%20%20%20%20%20%20%20%29.addTo%28map_146cd8147123498484976a07e362f27f%29%3B%0A%20%20%20%20%20%20%20%20%0A%20%20%20%20%0A%20%20%20%20%20%20%20%20%20%20%20%20var%20popup_d6ac699b171a4679b8cf6f6a5fa2f149%20%3D%20L.popup%28%7BmaxWidth%3A%20%27100%25%27%0A%20%20%20%20%20%20%20%20%20%20%20%20%0A%20%20%20%20%20%20%20%20%20%20%20%20%7D%29%3B%0A%0A%20%20%20%20%20%20%20%20%20%20%20%20%0A%20%20%20%20%20%20%20%20%20%20%20%20%20%20%20%20var%20html_b51f05cbb7a845f8bf059ece66c4c940%20%3D%20%24%28%60%3Cdiv%20id%3D%22html_b51f05cbb7a845f8bf059ece66c4c940%22%20style%3D%22width%3A%20100.0%25%3B%20height%3A%20100.0%25%3B%22%3E%20%20%20%20%20%20%20%20%20%3Cul%3E%20%20%20%20%20%20%20%20%20%20%20%20%20%3Cli%3E%3Cstrong%3EID%3A%20%3C/strong%3E1004%3C/li%3E%20%20%20%20%20%20%20%20%20%20%20%20%20%3Cli%3E%3Cstrong%3ESource%3A%20%3C/strong%3Enan%3C/li%3E%20%20%20%20%20%20%20%20%20%20%20%20%20%3Cli%3E%3Cstrong%3EName%3A%20%3C/strong%3Enan%3C/li%3E%20%20%20%20%20%20%20%20%20%3Cul%3E%20%20%20%20%20%3C/div%3E%60%29%5B0%5D%3B%0A%20%20%20%20%20%20%20%20%20%20%20%20%20%20%20%20popup_d6ac699b171a4679b8cf6f6a5fa2f149.setContent%28html_b51f05cbb7a845f8bf059ece66c4c940%29%3B%0A%20%20%20%20%20%20%20%20%20%20%20%20%0A%0A%20%20%20%20%20%20%20%20%20%20%20%20marker_3e495df68818413a8cad6eefc564a78f.bindPopup%28popup_d6ac699b171a4679b8cf6f6a5fa2f149%29%0A%20%20%20%20%20%20%20%20%20%20%20%20%3B%0A%0A%20%20%20%20%20%20%20%20%20%20%20%20%0A%20%20%20%20%20%20%20%20%0A%20%20%20%20%0A%20%20%20%20%20%20%20%20var%20marker_3e4a60b47b4f4b8d973166f36e7cbe94%20%3D%20L.marker%28%0A%20%20%20%20%20%20%20%20%20%20%20%20%5B43.77422106%2C%2011.25488759%5D%2C%0A%20%20%20%20%20%20%20%20%20%20%20%20%7B%0A%20%20%20%20%20%20%20%20%20%20%20%20%20%20%20%20icon%3A%20new%20L.Icon.Default%28%29%2C%0A%20%20%20%20%20%20%20%20%20%20%20%20%20%20%20%20%7D%0A%20%20%20%20%20%20%20%20%20%20%20%20%29.addTo%28map_146cd8147123498484976a07e362f27f%29%3B%0A%20%20%20%20%20%20%20%20%0A%20%20%20%20%0A%20%20%20%20%20%20%20%20%20%20%20%20var%20popup_cd65c28afd68486ca1b5ebab1199ada9%20%3D%20L.popup%28%7BmaxWidth%3A%20%27100%25%27%0A%20%20%20%20%20%20%20%20%20%20%20%20%0A%20%20%20%20%20%20%20%20%20%20%20%20%7D%29%3B%0A%0A%20%20%20%20%20%20%20%20%20%20%20%20%0A%20%20%20%20%20%20%20%20%20%20%20%20%20%20%20%20var%20html_863e642c2c56434c91ae26a22f8d3732%20%3D%20%24%28%60%3Cdiv%20id%3D%22html_863e642c2c56434c91ae26a22f8d3732%22%20style%3D%22width%3A%20100.0%25%3B%20height%3A%20100.0%25%3B%22%3E%20%20%20%20%20%20%20%20%20%3Cul%3E%20%20%20%20%20%20%20%20%20%20%20%20%20%3Cli%3E%3Cstrong%3EID%3A%20%3C/strong%3E1214%3C/li%3E%20%20%20%20%20%20%20%20%20%20%20%20%20%3Cli%3E%3Cstrong%3ESource%3A%20%3C/strong%3Enan%3C/li%3E%20%20%20%20%20%20%20%20%20%20%20%20%20%3Cli%3E%3Cstrong%3EName%3A%20%3C/strong%3ELorenzo%20di%20Biagio%2C%20sarto%3C/li%3E%20%20%20%20%20%20%20%20%20%3Cul%3E%20%20%20%20%20%3C/div%3E%60%29%5B0%5D%3B%0A%20%20%20%20%20%20%20%20%20%20%20%20%20%20%20%20popup_cd65c28afd68486ca1b5ebab1199ada9.setContent%28html_863e642c2c56434c91ae26a22f8d3732%29%3B%0A%20%20%20%20%20%20%20%20%20%20%20%20%0A%0A%20%20%20%20%20%20%20%20%20%20%20%20marker_3e4a60b47b4f4b8d973166f36e7cbe94.bindPopup%28popup_cd65c28afd68486ca1b5ebab1199ada9%29%0A%20%20%20%20%20%20%20%20%20%20%20%20%3B%0A%0A%20%20%20%20%20%20%20%20%20%20%20%20%0A%20%20%20%20%20%20%20%20%0A%20%20%20%20%0A%20%20%20%20%20%20%20%20var%20marker_3308cacf4fa248efb7e9bbdf20d96a7c%20%3D%20L.marker%28%0A%20%20%20%20%20%20%20%20%20%20%20%20%5B43.77251823%2C%2011.26522828%5D%2C%0A%20%20%20%20%20%20%20%20%20%20%20%20%7B%0A%20%20%20%20%20%20%20%20%20%20%20%20%20%20%20%20icon%3A%20new%20L.Icon.Default%28%29%2C%0A%20%20%20%20%20%20%20%20%20%20%20%20%20%20%20%20%7D%0A%20%20%20%20%20%20%20%20%20%20%20%20%29.addTo%28map_146cd8147123498484976a07e362f27f%29%3B%0A%20%20%20%20%20%20%20%20%0A%20%20%20%20%0A%20%20%20%20%20%20%20%20%20%20%20%20var%20popup_dc27c39fde8848318d047a61d637b4e8%20%3D%20L.popup%28%7BmaxWidth%3A%20%27100%25%27%0A%20%20%20%20%20%20%20%20%20%20%20%20%0A%20%20%20%20%20%20%20%20%20%20%20%20%7D%29%3B%0A%0A%20%20%20%20%20%20%20%20%20%20%20%20%0A%20%20%20%20%20%20%20%20%20%20%20%20%20%20%20%20var%20html_b4c06a7a8e91418d994b5315347a824d%20%3D%20%24%28%60%3Cdiv%20id%3D%22html_b4c06a7a8e91418d994b5315347a824d%22%20style%3D%22width%3A%20100.0%25%3B%20height%3A%20100.0%25%3B%22%3E%20%20%20%20%20%20%20%20%20%3Cul%3E%20%20%20%20%20%20%20%20%20%20%20%20%20%3Cli%3E%3Cstrong%3EID%3A%20%3C/strong%3E2776%3C/li%3E%20%20%20%20%20%20%20%20%20%20%20%20%20%3Cli%3E%3Cstrong%3ESource%3A%20%3C/strong%3EHenderson%20P%26C%20%2341%3C/li%3E%20%20%20%20%20%20%20%20%20%20%20%20%20%3Cli%3E%3Cstrong%3EName%3A%20%3C/strong%3EMona%20Lexandra%2C%20donna%20fu%20di%20Ruberto%20Rinieri%3C/li%3E%20%20%20%20%20%20%20%20%20%3Cul%3E%20%20%20%20%20%3C/div%3E%60%29%5B0%5D%3B%0A%20%20%20%20%20%20%20%20%20%20%20%20%20%20%20%20popup_dc27c39fde8848318d047a61d637b4e8.setContent%28html_b4c06a7a8e91418d994b5315347a824d%29%3B%0A%20%20%20%20%20%20%20%20%20%20%20%20%0A%0A%20%20%20%20%20%20%20%20%20%20%20%20marker_3308cacf4fa248efb7e9bbdf20d96a7c.bindPopup%28popup_dc27c39fde8848318d047a61d637b4e8%29%0A%20%20%20%20%20%20%20%20%20%20%20%20%3B%0A%0A%20%20%20%20%20%20%20%20%20%20%20%20%0A%20%20%20%20%20%20%20%20%0A%20%20%20%20%0A%20%20%20%20%20%20%20%20var%20marker_696460bb55544408a60b5f5f043ca369%20%3D%20L.marker%28%0A%20%20%20%20%20%20%20%20%20%20%20%20%5B43.777438%2C%2011.253398%5D%2C%0A%20%20%20%20%20%20%20%20%20%20%20%20%7B%0A%20%20%20%20%20%20%20%20%20%20%20%20%20%20%20%20icon%3A%20new%20L.Icon.Default%28%29%2C%0A%20%20%20%20%20%20%20%20%20%20%20%20%20%20%20%20%7D%0A%20%20%20%20%20%20%20%20%20%20%20%20%29.addTo%28map_146cd8147123498484976a07e362f27f%29%3B%0A%20%20%20%20%20%20%20%20%0A%20%20%20%20%0A%20%20%20%20%20%20%20%20%20%20%20%20var%20popup_b72084d0066f4530921e1d1e1671bcb3%20%3D%20L.popup%28%7BmaxWidth%3A%20%27100%25%27%0A%20%20%20%20%20%20%20%20%20%20%20%20%0A%20%20%20%20%20%20%20%20%20%20%20%20%7D%29%3B%0A%0A%20%20%20%20%20%20%20%20%20%20%20%20%0A%20%20%20%20%20%20%20%20%20%20%20%20%20%20%20%20var%20html_45754b6d87764e9085dcf995c0d617be%20%3D%20%24%28%60%3Cdiv%20id%3D%22html_45754b6d87764e9085dcf995c0d617be%22%20style%3D%22width%3A%20100.0%25%3B%20height%3A%20100.0%25%3B%22%3E%20%20%20%20%20%20%20%20%20%3Cul%3E%20%20%20%20%20%20%20%20%20%20%20%20%20%3Cli%3E%3Cstrong%3EID%3A%20%3C/strong%3E47%3C/li%3E%20%20%20%20%20%20%20%20%20%20%20%20%20%3Cli%3E%3Cstrong%3ESource%3A%20%3C/strong%3EHenderson%20P%26C%20%2361%3C/li%3E%20%20%20%20%20%20%20%20%20%20%20%20%20%3Cli%3E%3Cstrong%3EName%3A%20%3C/strong%3EAntonio%20di%20Francesco%2C%20ciabattino%3C/li%3E%20%20%20%20%20%20%20%20%20%3Cul%3E%20%20%20%20%20%3C/div%3E%60%29%5B0%5D%3B%0A%20%20%20%20%20%20%20%20%20%20%20%20%20%20%20%20popup_b72084d0066f4530921e1d1e1671bcb3.setContent%28html_45754b6d87764e9085dcf995c0d617be%29%3B%0A%20%20%20%20%20%20%20%20%20%20%20%20%0A%0A%20%20%20%20%20%20%20%20%20%20%20%20marker_696460bb55544408a60b5f5f043ca369.bindPopup%28popup_b72084d0066f4530921e1d1e1671bcb3%29%0A%20%20%20%20%20%20%20%20%20%20%20%20%3B%0A%0A%20%20%20%20%20%20%20%20%20%20%20%20%0A%20%20%20%20%20%20%20%20%0A%20%20%20%20%0A%20%20%20%20%20%20%20%20var%20marker_69ee7efa40174fe4a481ff0cf5208507%20%3D%20L.marker%28%0A%20%20%20%20%20%20%20%20%20%20%20%20%5B43.77206267%2C%2011.26117733%5D%2C%0A%20%20%20%20%20%20%20%20%20%20%20%20%7B%0A%20%20%20%20%20%20%20%20%20%20%20%20%20%20%20%20icon%3A%20new%20L.Icon.Default%28%29%2C%0A%20%20%20%20%20%20%20%20%20%20%20%20%20%20%20%20%7D%0A%20%20%20%20%20%20%20%20%20%20%20%20%29.addTo%28map_146cd8147123498484976a07e362f27f%29%3B%0A%20%20%20%20%20%20%20%20%0A%20%20%20%20%0A%20%20%20%20%20%20%20%20%20%20%20%20var%20popup_396a1cc3ea464e8eb9a839533d2aeee7%20%3D%20L.popup%28%7BmaxWidth%3A%20%27100%25%27%0A%20%20%20%20%20%20%20%20%20%20%20%20%0A%20%20%20%20%20%20%20%20%20%20%20%20%7D%29%3B%0A%0A%20%20%20%20%20%20%20%20%20%20%20%20%0A%20%20%20%20%20%20%20%20%20%20%20%20%20%20%20%20var%20html_55b307f2def24b21a65497f0883809e7%20%3D%20%24%28%60%3Cdiv%20id%3D%22html_55b307f2def24b21a65497f0883809e7%22%20style%3D%22width%3A%20100.0%25%3B%20height%3A%20100.0%25%3B%22%3E%20%20%20%20%20%20%20%20%20%3Cul%3E%20%20%20%20%20%20%20%20%20%20%20%20%20%3Cli%3E%3Cstrong%3EID%3A%20%3C/strong%3E2122%3C/li%3E%20%20%20%20%20%20%20%20%20%20%20%20%20%3Cli%3E%3Cstrong%3ESource%3A%20%3C/strong%3EHenderson%20P%26C%20%2361%3C/li%3E%20%20%20%20%20%20%20%20%20%20%20%20%20%3Cli%3E%3Cstrong%3EName%3A%20%3C/strong%3EConte%2C%20divettino%3C/li%3E%20%20%20%20%20%20%20%20%20%3Cul%3E%20%20%20%20%20%3C/div%3E%60%29%5B0%5D%3B%0A%20%20%20%20%20%20%20%20%20%20%20%20%20%20%20%20popup_396a1cc3ea464e8eb9a839533d2aeee7.setContent%28html_55b307f2def24b21a65497f0883809e7%29%3B%0A%20%20%20%20%20%20%20%20%20%20%20%20%0A%0A%20%20%20%20%20%20%20%20%20%20%20%20marker_69ee7efa40174fe4a481ff0cf5208507.bindPopup%28popup_396a1cc3ea464e8eb9a839533d2aeee7%29%0A%20%20%20%20%20%20%20%20%20%20%20%20%3B%0A%0A%20%20%20%20%20%20%20%20%20%20%20%20%0A%20%20%20%20%20%20%20%20%0A%20%20%20%20%0A%20%20%20%20%20%20%20%20var%20marker_d926b2c5ac0d47c592843686a7f2a3d6%20%3D%20L.marker%28%0A%20%20%20%20%20%20%20%20%20%20%20%20%5B43.77092867%2C%2011.26371433%5D%2C%0A%20%20%20%20%20%20%20%20%20%20%20%20%7B%0A%20%20%20%20%20%20%20%20%20%20%20%20%20%20%20%20icon%3A%20new%20L.Icon.Default%28%29%2C%0A%20%20%20%20%20%20%20%20%20%20%20%20%20%20%20%20%7D%0A%20%20%20%20%20%20%20%20%20%20%20%20%29.addTo%28map_146cd8147123498484976a07e362f27f%29%3B%0A%20%20%20%20%20%20%20%20%0A%20%20%20%20%0A%20%20%20%20%20%20%20%20%20%20%20%20var%20popup_48e687c2ae1a4e37bac2e53bc3516557%20%3D%20L.popup%28%7BmaxWidth%3A%20%27100%25%27%0A%20%20%20%20%20%20%20%20%20%20%20%20%0A%20%20%20%20%20%20%20%20%20%20%20%20%7D%29%3B%0A%0A%20%20%20%20%20%20%20%20%20%20%20%20%0A%20%20%20%20%20%20%20%20%20%20%20%20%20%20%20%20var%20html_07962acc82e04c98bb06f82a06e1ed18%20%3D%20%24%28%60%3Cdiv%20id%3D%22html_07962acc82e04c98bb06f82a06e1ed18%22%20style%3D%22width%3A%20100.0%25%3B%20height%3A%20100.0%25%3B%22%3E%20%20%20%20%20%20%20%20%20%3Cul%3E%20%20%20%20%20%20%20%20%20%20%20%20%20%3Cli%3E%3Cstrong%3EID%3A%20%3C/strong%3E3124%3C/li%3E%20%20%20%20%20%20%20%20%20%20%20%20%20%3Cli%3E%3Cstrong%3ESource%3A%20%3C/strong%3EHenderson%20P%26C%20%2361%3C/li%3E%20%20%20%20%20%20%20%20%20%20%20%20%20%3Cli%3E%3Cstrong%3EName%3A%20%3C/strong%3EAndrea%20di%20Jacopo%20Romagnuolo%3C/li%3E%20%20%20%20%20%20%20%20%20%3Cul%3E%20%20%20%20%20%3C/div%3E%60%29%5B0%5D%3B%0A%20%20%20%20%20%20%20%20%20%20%20%20%20%20%20%20popup_48e687c2ae1a4e37bac2e53bc3516557.setContent%28html_07962acc82e04c98bb06f82a06e1ed18%29%3B%0A%20%20%20%20%20%20%20%20%20%20%20%20%0A%0A%20%20%20%20%20%20%20%20%20%20%20%20marker_d926b2c5ac0d47c592843686a7f2a3d6.bindPopup%28popup_48e687c2ae1a4e37bac2e53bc3516557%29%0A%20%20%20%20%20%20%20%20%20%20%20%20%3B%0A%0A%20%20%20%20%20%20%20%20%20%20%20%20%0A%20%20%20%20%20%20%20%20%0A%20%20%20%20%0A%20%20%20%20%20%20%20%20var%20marker_b4816e252d524145b1c165f2ef659f12%20%3D%20L.marker%28%0A%20%20%20%20%20%20%20%20%20%20%20%20%5B43.77706373%2C%2011.24898549%5D%2C%0A%20%20%20%20%20%20%20%20%20%20%20%20%7B%0A%20%20%20%20%20%20%20%20%20%20%20%20%20%20%20%20icon%3A%20new%20L.Icon.Default%28%29%2C%0A%20%20%20%20%20%20%20%20%20%20%20%20%20%20%20%20%7D%0A%20%20%20%20%20%20%20%20%20%20%20%20%29.addTo%28map_146cd8147123498484976a07e362f27f%29%3B%0A%20%20%20%20%20%20%20%20%0A%20%20%20%20%0A%20%20%20%20%20%20%20%20%20%20%20%20var%20popup_a0e9fe0603f84cb8a066fd3f597d6573%20%3D%20L.popup%28%7BmaxWidth%3A%20%27100%25%27%0A%20%20%20%20%20%20%20%20%20%20%20%20%0A%20%20%20%20%20%20%20%20%20%20%20%20%7D%29%3B%0A%0A%20%20%20%20%20%20%20%20%20%20%20%20%0A%20%20%20%20%20%20%20%20%20%20%20%20%20%20%20%20var%20html_4e0aeb7406c5474d925fc1368a87d2b8%20%3D%20%24%28%60%3Cdiv%20id%3D%22html_4e0aeb7406c5474d925fc1368a87d2b8%22%20style%3D%22width%3A%20100.0%25%3B%20height%3A%20100.0%25%3B%22%3E%20%20%20%20%20%20%20%20%20%3Cul%3E%20%20%20%20%20%20%20%20%20%20%20%20%20%3Cli%3E%3Cstrong%3EID%3A%20%3C/strong%3E4501%3C/li%3E%20%20%20%20%20%20%20%20%20%20%20%20%20%3Cli%3E%3Cstrong%3ESource%3A%20%3C/strong%3EHenderson%20P%26C%20%236%3C/li%3E%20%20%20%20%20%20%20%20%20%20%20%20%20%3Cli%3E%3Cstrong%3EName%3A%20%3C/strong%3EGuiliano%20d%27%20Antonio%2C%20fattorino%3C/li%3E%20%20%20%20%20%20%20%20%20%3Cul%3E%20%20%20%20%20%3C/div%3E%60%29%5B0%5D%3B%0A%20%20%20%20%20%20%20%20%20%20%20%20%20%20%20%20popup_a0e9fe0603f84cb8a066fd3f597d6573.setContent%28html_4e0aeb7406c5474d925fc1368a87d2b8%29%3B%0A%20%20%20%20%20%20%20%20%20%20%20%20%0A%0A%20%20%20%20%20%20%20%20%20%20%20%20marker_b4816e252d524145b1c165f2ef659f12.bindPopup%28popup_a0e9fe0603f84cb8a066fd3f597d6573%29%0A%20%20%20%20%20%20%20%20%20%20%20%20%3B%0A%0A%20%20%20%20%20%20%20%20%20%20%20%20%0A%20%20%20%20%20%20%20%20%0A%20%20%20%20%0A%20%20%20%20%20%20%20%20var%20marker_7120a26de1b9453a9b9ec55e5f5be96b%20%3D%20L.marker%28%0A%20%20%20%20%20%20%20%20%20%20%20%20%5B43.771575%2C%2011.265926%5D%2C%0A%20%20%20%20%20%20%20%20%20%20%20%20%7B%0A%20%20%20%20%20%20%20%20%20%20%20%20%20%20%20%20icon%3A%20new%20L.Icon.Default%28%29%2C%0A%20%20%20%20%20%20%20%20%20%20%20%20%20%20%20%20%7D%0A%20%20%20%20%20%20%20%20%20%20%20%20%29.addTo%28map_146cd8147123498484976a07e362f27f%29%3B%0A%20%20%20%20%20%20%20%20%0A%20%20%20%20%0A%20%20%20%20%20%20%20%20%20%20%20%20var%20popup_517090c510774922add319278311c793%20%3D%20L.popup%28%7BmaxWidth%3A%20%27100%25%27%0A%20%20%20%20%20%20%20%20%20%20%20%20%0A%20%20%20%20%20%20%20%20%20%20%20%20%7D%29%3B%0A%0A%20%20%20%20%20%20%20%20%20%20%20%20%0A%20%20%20%20%20%20%20%20%20%20%20%20%20%20%20%20var%20html_6524cde7bbcd4c89ba51106fdf6ce4be%20%3D%20%24%28%60%3Cdiv%20id%3D%22html_6524cde7bbcd4c89ba51106fdf6ce4be%22%20style%3D%22width%3A%20100.0%25%3B%20height%3A%20100.0%25%3B%22%3E%20%20%20%20%20%20%20%20%20%3Cul%3E%20%20%20%20%20%20%20%20%20%20%20%20%20%3Cli%3E%3Cstrong%3EID%3A%20%3C/strong%3E2873%3C/li%3E%20%20%20%20%20%20%20%20%20%20%20%20%20%3Cli%3E%3Cstrong%3ESource%3A%20%3C/strong%3Enan%3C/li%3E%20%20%20%20%20%20%20%20%20%20%20%20%20%3Cli%3E%3Cstrong%3EName%3A%20%3C/strong%3EAndrea%20di%20Lexandro%20del%20Fede%3C/li%3E%20%20%20%20%20%20%20%20%20%3Cul%3E%20%20%20%20%20%3C/div%3E%60%29%5B0%5D%3B%0A%20%20%20%20%20%20%20%20%20%20%20%20%20%20%20%20popup_517090c510774922add319278311c793.setContent%28html_6524cde7bbcd4c89ba51106fdf6ce4be%29%3B%0A%20%20%20%20%20%20%20%20%20%20%20%20%0A%0A%20%20%20%20%20%20%20%20%20%20%20%20marker_7120a26de1b9453a9b9ec55e5f5be96b.bindPopup%28popup_517090c510774922add319278311c793%29%0A%20%20%20%20%20%20%20%20%20%20%20%20%3B%0A%0A%20%20%20%20%20%20%20%20%20%20%20%20%0A%20%20%20%20%20%20%20%20%0A%20%20%20%20%0A%20%20%20%20%20%20%20%20var%20marker_d041c5888edc40c19f643561900839ba%20%3D%20L.marker%28%0A%20%20%20%20%20%20%20%20%20%20%20%20%5B43.768454%2C%2011.257542%5D%2C%0A%20%20%20%20%20%20%20%20%20%20%20%20%7B%0A%20%20%20%20%20%20%20%20%20%20%20%20%20%20%20%20icon%3A%20new%20L.Icon.Default%28%29%2C%0A%20%20%20%20%20%20%20%20%20%20%20%20%20%20%20%20%7D%0A%20%20%20%20%20%20%20%20%20%20%20%20%29.addTo%28map_146cd8147123498484976a07e362f27f%29%3B%0A%20%20%20%20%20%20%20%20%0A%20%20%20%20%0A%20%20%20%20%20%20%20%20%20%20%20%20var%20popup_e7ef6c2c379642c3927947c444f478b0%20%3D%20L.popup%28%7BmaxWidth%3A%20%27100%25%27%0A%20%20%20%20%20%20%20%20%20%20%20%20%0A%20%20%20%20%20%20%20%20%20%20%20%20%7D%29%3B%0A%0A%20%20%20%20%20%20%20%20%20%20%20%20%0A%20%20%20%20%20%20%20%20%20%20%20%20%20%20%20%20var%20html_71f6ce16211843059cf2be9b23c0c294%20%3D%20%24%28%60%3Cdiv%20id%3D%22html_71f6ce16211843059cf2be9b23c0c294%22%20style%3D%22width%3A%20100.0%25%3B%20height%3A%20100.0%25%3B%22%3E%20%20%20%20%20%20%20%20%20%3Cul%3E%20%20%20%20%20%20%20%20%20%20%20%20%20%3Cli%3E%3Cstrong%3EID%3A%20%3C/strong%3E4758%3C/li%3E%20%20%20%20%20%20%20%20%20%20%20%20%20%3Cli%3E%3Cstrong%3ESource%3A%20%3C/strong%3Enan%3C/li%3E%20%20%20%20%20%20%20%20%20%20%20%20%20%3Cli%3E%3Cstrong%3EName%3A%20%3C/strong%3EVincenzo%20di%20Tommaso%20Bandini%3C/li%3E%20%20%20%20%20%20%20%20%20%3Cul%3E%20%20%20%20%20%3C/div%3E%60%29%5B0%5D%3B%0A%20%20%20%20%20%20%20%20%20%20%20%20%20%20%20%20popup_e7ef6c2c379642c3927947c444f478b0.setContent%28html_71f6ce16211843059cf2be9b23c0c294%29%3B%0A%20%20%20%20%20%20%20%20%20%20%20%20%0A%0A%20%20%20%20%20%20%20%20%20%20%20%20marker_d041c5888edc40c19f643561900839ba.bindPopup%28popup_e7ef6c2c379642c3927947c444f478b0%29%0A%20%20%20%20%20%20%20%20%20%20%20%20%3B%0A%0A%20%20%20%20%20%20%20%20%20%20%20%20%0A%20%20%20%20%20%20%20%20%0A%20%20%20%20%0A%20%20%20%20%20%20%20%20var%20marker_5662c844305248b3b21afd361db406d6%20%3D%20L.marker%28%0A%20%20%20%20%20%20%20%20%20%20%20%20%5B43.77538%2C%2011.24949%5D%2C%0A%20%20%20%20%20%20%20%20%20%20%20%20%7B%0A%20%20%20%20%20%20%20%20%20%20%20%20%20%20%20%20icon%3A%20new%20L.Icon.Default%28%29%2C%0A%20%20%20%20%20%20%20%20%20%20%20%20%20%20%20%20%7D%0A%20%20%20%20%20%20%20%20%20%20%20%20%29.addTo%28map_146cd8147123498484976a07e362f27f%29%3B%0A%20%20%20%20%20%20%20%20%0A%20%20%20%20%0A%20%20%20%20%20%20%20%20%20%20%20%20var%20popup_0997ef3216fa4375a2c6a55c53464766%20%3D%20L.popup%28%7BmaxWidth%3A%20%27100%25%27%0A%20%20%20%20%20%20%20%20%20%20%20%20%0A%20%20%20%20%20%20%20%20%20%20%20%20%7D%29%3B%0A%0A%20%20%20%20%20%20%20%20%20%20%20%20%0A%20%20%20%20%20%20%20%20%20%20%20%20%20%20%20%20var%20html_83b5d108ab7d4c5c8026c51d88fc61b0%20%3D%20%24%28%60%3Cdiv%20id%3D%22html_83b5d108ab7d4c5c8026c51d88fc61b0%22%20style%3D%22width%3A%20100.0%25%3B%20height%3A%20100.0%25%3B%22%3E%20%20%20%20%20%20%20%20%20%3Cul%3E%20%20%20%20%20%20%20%20%20%20%20%20%20%3Cli%3E%3Cstrong%3EID%3A%20%3C/strong%3E4024%3C/li%3E%20%20%20%20%20%20%20%20%20%20%20%20%20%3Cli%3E%3Cstrong%3ESource%3A%20%3C/strong%3Enan%3C/li%3E%20%20%20%20%20%20%20%20%20%20%20%20%20%3Cli%3E%3Cstrong%3EName%3A%20%3C/strong%3EVincenzo%20di%20Francesco%20Becchino%3C/li%3E%20%20%20%20%20%20%20%20%20%3Cul%3E%20%20%20%20%20%3C/div%3E%60%29%5B0%5D%3B%0A%20%20%20%20%20%20%20%20%20%20%20%20%20%20%20%20popup_0997ef3216fa4375a2c6a55c53464766.setContent%28html_83b5d108ab7d4c5c8026c51d88fc61b0%29%3B%0A%20%20%20%20%20%20%20%20%20%20%20%20%0A%0A%20%20%20%20%20%20%20%20%20%20%20%20marker_5662c844305248b3b21afd361db406d6.bindPopup%28popup_0997ef3216fa4375a2c6a55c53464766%29%0A%20%20%20%20%20%20%20%20%20%20%20%20%3B%0A%0A%20%20%20%20%20%20%20%20%20%20%20%20%0A%20%20%20%20%20%20%20%20%0A%20%20%20%20%0A%20%20%20%20%20%20%20%20var%20marker_dff291d75f614bd9911f81c255ec7fd0%20%3D%20L.marker%28%0A%20%20%20%20%20%20%20%20%20%20%20%20%5B43.77695321%2C%2011.25422064%5D%2C%0A%20%20%20%20%20%20%20%20%20%20%20%20%7B%0A%20%20%20%20%20%20%20%20%20%20%20%20%20%20%20%20icon%3A%20new%20L.Icon.Default%28%29%2C%0A%20%20%20%20%20%20%20%20%20%20%20%20%20%20%20%20%7D%0A%20%20%20%20%20%20%20%20%20%20%20%20%29.addTo%28map_146cd8147123498484976a07e362f27f%29%3B%0A%20%20%20%20%20%20%20%20%0A%20%20%20%20%0A%20%20%20%20%20%20%20%20%20%20%20%20var%20popup_dab9859cd53146a8b727417cbfe23c71%20%3D%20L.popup%28%7BmaxWidth%3A%20%27100%25%27%0A%20%20%20%20%20%20%20%20%20%20%20%20%0A%20%20%20%20%20%20%20%20%20%20%20%20%7D%29%3B%0A%0A%20%20%20%20%20%20%20%20%20%20%20%20%0A%20%20%20%20%20%20%20%20%20%20%20%20%20%20%20%20var%20html_e820bd7272a548c68040903f2ea71374%20%3D%20%24%28%60%3Cdiv%20id%3D%22html_e820bd7272a548c68040903f2ea71374%22%20style%3D%22width%3A%20100.0%25%3B%20height%3A%20100.0%25%3B%22%3E%20%20%20%20%20%20%20%20%20%3Cul%3E%20%20%20%20%20%20%20%20%20%20%20%20%20%3Cli%3E%3Cstrong%3EID%3A%20%3C/strong%3E283%3C/li%3E%20%20%20%20%20%20%20%20%20%20%20%20%20%3Cli%3E%3Cstrong%3ESource%3A%20%3C/strong%3EHenderson%20P%26C%20%23156%3C/li%3E%20%20%20%20%20%20%20%20%20%20%20%20%20%3Cli%3E%3Cstrong%3EName%3A%20%3C/strong%3EDaniello%20di%20Piero%20MAnnaii%2C%20tessitore%3C/li%3E%20%20%20%20%20%20%20%20%20%3Cul%3E%20%20%20%20%20%3C/div%3E%60%29%5B0%5D%3B%0A%20%20%20%20%20%20%20%20%20%20%20%20%20%20%20%20popup_dab9859cd53146a8b727417cbfe23c71.setContent%28html_e820bd7272a548c68040903f2ea71374%29%3B%0A%20%20%20%20%20%20%20%20%20%20%20%20%0A%0A%20%20%20%20%20%20%20%20%20%20%20%20marker_dff291d75f614bd9911f81c255ec7fd0.bindPopup%28popup_dab9859cd53146a8b727417cbfe23c71%29%0A%20%20%20%20%20%20%20%20%20%20%20%20%3B%0A%0A%20%20%20%20%20%20%20%20%20%20%20%20%0A%20%20%20%20%20%20%20%20%0A%20%20%20%20%0A%20%20%20%20%20%20%20%20var%20marker_eed8f4d67fae4406925e9320a55f83ff%20%3D%20L.marker%28%0A%20%20%20%20%20%20%20%20%20%20%20%20%5B43.77731413%2C%2011.25176996%5D%2C%0A%20%20%20%20%20%20%20%20%20%20%20%20%7B%0A%20%20%20%20%20%20%20%20%20%20%20%20%20%20%20%20icon%3A%20new%20L.Icon.Default%28%29%2C%0A%20%20%20%20%20%20%20%20%20%20%20%20%20%20%20%20%7D%0A%20%20%20%20%20%20%20%20%20%20%20%20%29.addTo%28map_146cd8147123498484976a07e362f27f%29%3B%0A%20%20%20%20%20%20%20%20%0A%20%20%20%20%0A%20%20%20%20%20%20%20%20%20%20%20%20var%20popup_a9ebfe51495b43c5a0bbd31de8385d7b%20%3D%20L.popup%28%7BmaxWidth%3A%20%27100%25%27%0A%20%20%20%20%20%20%20%20%20%20%20%20%0A%20%20%20%20%20%20%20%20%20%20%20%20%7D%29%3B%0A%0A%20%20%20%20%20%20%20%20%20%20%20%20%0A%20%20%20%20%20%20%20%20%20%20%20%20%20%20%20%20var%20html_efd6f14b45c948a4bd1a77341c6d681c%20%3D%20%24%28%60%3Cdiv%20id%3D%22html_efd6f14b45c948a4bd1a77341c6d681c%22%20style%3D%22width%3A%20100.0%25%3B%20height%3A%20100.0%25%3B%22%3E%20%20%20%20%20%20%20%20%20%3Cul%3E%20%20%20%20%20%20%20%20%20%20%20%20%20%3Cli%3E%3Cstrong%3EID%3A%20%3C/strong%3E41%3C/li%3E%20%20%20%20%20%20%20%20%20%20%20%20%20%3Cli%3E%3Cstrong%3ESource%3A%20%3C/strong%3Enan%3C/li%3E%20%20%20%20%20%20%20%20%20%20%20%20%20%3Cli%3E%3Cstrong%3EName%3A%20%3C/strong%3Eser%20Giovanni%20d%27%20Agnolo%20dalla%20Pieve%20a%20Presciano%3C/li%3E%20%20%20%20%20%20%20%20%20%3Cul%3E%20%20%20%20%20%3C/div%3E%60%29%5B0%5D%3B%0A%20%20%20%20%20%20%20%20%20%20%20%20%20%20%20%20popup_a9ebfe51495b43c5a0bbd31de8385d7b.setContent%28html_efd6f14b45c948a4bd1a77341c6d681c%29%3B%0A%20%20%20%20%20%20%20%20%20%20%20%20%0A%0A%20%20%20%20%20%20%20%20%20%20%20%20marker_eed8f4d67fae4406925e9320a55f83ff.bindPopup%28popup_a9ebfe51495b43c5a0bbd31de8385d7b%29%0A%20%20%20%20%20%20%20%20%20%20%20%20%3B%0A%0A%20%20%20%20%20%20%20%20%20%20%20%20%0A%20%20%20%20%20%20%20%20%0A%20%20%20%20%0A%20%20%20%20%20%20%20%20var%20marker_48268c1f15e547d28a252ef88891d3d8%20%3D%20L.marker%28%0A%20%20%20%20%20%20%20%20%20%20%20%20%5B43.77295667%2C%2011.25918333%5D%2C%0A%20%20%20%20%20%20%20%20%20%20%20%20%7B%0A%20%20%20%20%20%20%20%20%20%20%20%20%20%20%20%20icon%3A%20new%20L.Icon.Default%28%29%2C%0A%20%20%20%20%20%20%20%20%20%20%20%20%20%20%20%20%7D%0A%20%20%20%20%20%20%20%20%20%20%20%20%29.addTo%28map_146cd8147123498484976a07e362f27f%29%3B%0A%20%20%20%20%20%20%20%20%0A%20%20%20%20%0A%20%20%20%20%20%20%20%20%20%20%20%20var%20popup_995b8085ec3545d389dbb7795d4c85da%20%3D%20L.popup%28%7BmaxWidth%3A%20%27100%25%27%0A%20%20%20%20%20%20%20%20%20%20%20%20%0A%20%20%20%20%20%20%20%20%20%20%20%20%7D%29%3B%0A%0A%20%20%20%20%20%20%20%20%20%20%20%20%0A%20%20%20%20%20%20%20%20%20%20%20%20%20%20%20%20var%20html_f1e366d801e44209b2cff406063c061e%20%3D%20%24%28%60%3Cdiv%20id%3D%22html_f1e366d801e44209b2cff406063c061e%22%20style%3D%22width%3A%20100.0%25%3B%20height%3A%20100.0%25%3B%22%3E%20%20%20%20%20%20%20%20%20%3Cul%3E%20%20%20%20%20%20%20%20%20%20%20%20%20%3Cli%3E%3Cstrong%3EID%3A%20%3C/strong%3E2002%3C/li%3E%20%20%20%20%20%20%20%20%20%20%20%20%20%3Cli%3E%3Cstrong%3ESource%3A%20%3C/strong%3Enan%3C/li%3E%20%20%20%20%20%20%20%20%20%20%20%20%20%3Cli%3E%3Cstrong%3EName%3A%20%3C/strong%3EBastiano%20di%20Chimenti%20Renzini%3C/li%3E%20%20%20%20%20%20%20%20%20%3Cul%3E%20%20%20%20%20%3C/div%3E%60%29%5B0%5D%3B%0A%20%20%20%20%20%20%20%20%20%20%20%20%20%20%20%20popup_995b8085ec3545d389dbb7795d4c85da.setContent%28html_f1e366d801e44209b2cff406063c061e%29%3B%0A%20%20%20%20%20%20%20%20%20%20%20%20%0A%0A%20%20%20%20%20%20%20%20%20%20%20%20marker_48268c1f15e547d28a252ef88891d3d8.bindPopup%28popup_995b8085ec3545d389dbb7795d4c85da%29%0A%20%20%20%20%20%20%20%20%20%20%20%20%3B%0A%0A%20%20%20%20%20%20%20%20%20%20%20%20%0A%20%20%20%20%20%20%20%20%0A%20%20%20%20%0A%20%20%20%20%20%20%20%20var%20marker_0f3c8723ed1d4a7fb706ff1600a25b74%20%3D%20L.marker%28%0A%20%20%20%20%20%20%20%20%20%20%20%20%5B43.772025%2C%2011.24917%5D%2C%0A%20%20%20%20%20%20%20%20%20%20%20%20%7B%0A%20%20%20%20%20%20%20%20%20%20%20%20%20%20%20%20icon%3A%20new%20L.Icon.Default%28%29%2C%0A%20%20%20%20%20%20%20%20%20%20%20%20%20%20%20%20%7D%0A%20%20%20%20%20%20%20%20%20%20%20%20%29.addTo%28map_146cd8147123498484976a07e362f27f%29%3B%0A%20%20%20%20%20%20%20%20%0A%20%20%20%20%0A%20%20%20%20%20%20%20%20%20%20%20%20var%20popup_173cd28b375842b78a9dd9ee4d110271%20%3D%20L.popup%28%7BmaxWidth%3A%20%27100%25%27%0A%20%20%20%20%20%20%20%20%20%20%20%20%0A%20%20%20%20%20%20%20%20%20%20%20%20%7D%29%3B%0A%0A%20%20%20%20%20%20%20%20%20%20%20%20%0A%20%20%20%20%20%20%20%20%20%20%20%20%20%20%20%20var%20html_0d0c12d06ffd4da6b87fde20972c1860%20%3D%20%24%28%60%3Cdiv%20id%3D%22html_0d0c12d06ffd4da6b87fde20972c1860%22%20style%3D%22width%3A%20100.0%25%3B%20height%3A%20100.0%25%3B%22%3E%20%20%20%20%20%20%20%20%20%3Cul%3E%20%20%20%20%20%20%20%20%20%20%20%20%20%3Cli%3E%3Cstrong%3EID%3A%20%3C/strong%3E5222%3C/li%3E%20%20%20%20%20%20%20%20%20%20%20%20%20%3Cli%3E%3Cstrong%3ESource%3A%20%3C/strong%3EHenderson%20P%26C%20%232%3C/li%3E%20%20%20%20%20%20%20%20%20%20%20%20%20%3Cli%3E%3Cstrong%3EName%3A%20%3C/strong%3EMona%20Maddalena%2C%20moglie%20gia%20di%20Lorenzo%2C%20oste%3C/li%3E%20%20%20%20%20%20%20%20%20%3Cul%3E%20%20%20%20%20%3C/div%3E%60%29%5B0%5D%3B%0A%20%20%20%20%20%20%20%20%20%20%20%20%20%20%20%20popup_173cd28b375842b78a9dd9ee4d110271.setContent%28html_0d0c12d06ffd4da6b87fde20972c1860%29%3B%0A%20%20%20%20%20%20%20%20%20%20%20%20%0A%0A%20%20%20%20%20%20%20%20%20%20%20%20marker_0f3c8723ed1d4a7fb706ff1600a25b74.bindPopup%28popup_173cd28b375842b78a9dd9ee4d110271%29%0A%20%20%20%20%20%20%20%20%20%20%20%20%3B%0A%0A%20%20%20%20%20%20%20%20%20%20%20%20%0A%20%20%20%20%20%20%20%20%0A%20%20%20%20%0A%20%20%20%20%20%20%20%20var%20marker_bd45c71554884789b957acc994860970%20%3D%20L.marker%28%0A%20%20%20%20%20%20%20%20%20%20%20%20%5B43.76572779%2C%2011.24389164%5D%2C%0A%20%20%20%20%20%20%20%20%20%20%20%20%7B%0A%20%20%20%20%20%20%20%20%20%20%20%20%20%20%20%20icon%3A%20new%20L.Icon.Default%28%29%2C%0A%20%20%20%20%20%20%20%20%20%20%20%20%20%20%20%20%7D%0A%20%20%20%20%20%20%20%20%20%20%20%20%29.addTo%28map_146cd8147123498484976a07e362f27f%29%3B%0A%20%20%20%20%20%20%20%20%0A%20%20%20%20%0A%20%20%20%20%20%20%20%20%20%20%20%20var%20popup_5df75ca72fda4965ac71de1923b3aa47%20%3D%20L.popup%28%7BmaxWidth%3A%20%27100%25%27%0A%20%20%20%20%20%20%20%20%20%20%20%20%0A%20%20%20%20%20%20%20%20%20%20%20%20%7D%29%3B%0A%0A%20%20%20%20%20%20%20%20%20%20%20%20%0A%20%20%20%20%20%20%20%20%20%20%20%20%20%20%20%20var%20html_7e8cd85a54d84083a0722bdad396b435%20%3D%20%24%28%60%3Cdiv%20id%3D%22html_7e8cd85a54d84083a0722bdad396b435%22%20style%3D%22width%3A%20100.0%25%3B%20height%3A%20100.0%25%3B%22%3E%20%20%20%20%20%20%20%20%20%3Cul%3E%20%20%20%20%20%20%20%20%20%20%20%20%20%3Cli%3E%3Cstrong%3EID%3A%20%3C/strong%3E7374%3C/li%3E%20%20%20%20%20%20%20%20%20%20%20%20%20%3Cli%3E%3Cstrong%3ESource%3A%20%3C/strong%3EHenderson%20P%26C%20%232%3C/li%3E%20%20%20%20%20%20%20%20%20%20%20%20%20%3Cli%3E%3Cstrong%3EName%3A%20%3C/strong%3EBatista%20di%20Bartolomeo%20di%20Batista%20tessitore%20di%20drappi%3C/li%3E%20%20%20%20%20%20%20%20%20%3Cul%3E%20%20%20%20%20%3C/div%3E%60%29%5B0%5D%3B%0A%20%20%20%20%20%20%20%20%20%20%20%20%20%20%20%20popup_5df75ca72fda4965ac71de1923b3aa47.setContent%28html_7e8cd85a54d84083a0722bdad396b435%29%3B%0A%20%20%20%20%20%20%20%20%20%20%20%20%0A%0A%20%20%20%20%20%20%20%20%20%20%20%20marker_bd45c71554884789b957acc994860970.bindPopup%28popup_5df75ca72fda4965ac71de1923b3aa47%29%0A%20%20%20%20%20%20%20%20%20%20%20%20%3B%0A%0A%20%20%20%20%20%20%20%20%20%20%20%20%0A%20%20%20%20%20%20%20%20%0A%20%20%20%20%0A%20%20%20%20%20%20%20%20var%20marker_c587abcb0d0a4d1d9a4f956cb9285a33%20%3D%20L.marker%28%0A%20%20%20%20%20%20%20%20%20%20%20%20%5B43.76868867%2C%2011.24354133%5D%2C%0A%20%20%20%20%20%20%20%20%20%20%20%20%7B%0A%20%20%20%20%20%20%20%20%20%20%20%20%20%20%20%20icon%3A%20new%20L.Icon.Default%28%29%2C%0A%20%20%20%20%20%20%20%20%20%20%20%20%20%20%20%20%7D%0A%20%20%20%20%20%20%20%20%20%20%20%20%29.addTo%28map_146cd8147123498484976a07e362f27f%29%3B%0A%20%20%20%20%20%20%20%20%0A%20%20%20%20%0A%20%20%20%20%20%20%20%20%20%20%20%20var%20popup_2dfb7fda278a4944bbe22391727a49d3%20%3D%20L.popup%28%7BmaxWidth%3A%20%27100%25%27%0A%20%20%20%20%20%20%20%20%20%20%20%20%0A%20%20%20%20%20%20%20%20%20%20%20%20%7D%29%3B%0A%0A%20%20%20%20%20%20%20%20%20%20%20%20%0A%20%20%20%20%20%20%20%20%20%20%20%20%20%20%20%20var%20html_f7a96fc4d2524da7a406f297180a3170%20%3D%20%24%28%60%3Cdiv%20id%3D%22html_f7a96fc4d2524da7a406f297180a3170%22%20style%3D%22width%3A%20100.0%25%3B%20height%3A%20100.0%25%3B%22%3E%20%20%20%20%20%20%20%20%20%3Cul%3E%20%20%20%20%20%20%20%20%20%20%20%20%20%3Cli%3E%3Cstrong%3EID%3A%20%3C/strong%3E8490%3C/li%3E%20%20%20%20%20%20%20%20%20%20%20%20%20%3Cli%3E%3Cstrong%3ESource%3A%20%3C/strong%3EHenderson%20P%26C%20%232%3C/li%3E%20%20%20%20%20%20%20%20%20%20%20%20%20%3Cli%3E%3Cstrong%3EName%3A%20%3C/strong%3E6%20donne%20vedove%3C/li%3E%20%20%20%20%20%20%20%20%20%3Cul%3E%20%20%20%20%20%3C/div%3E%60%29%5B0%5D%3B%0A%20%20%20%20%20%20%20%20%20%20%20%20%20%20%20%20popup_2dfb7fda278a4944bbe22391727a49d3.setContent%28html_f7a96fc4d2524da7a406f297180a3170%29%3B%0A%20%20%20%20%20%20%20%20%20%20%20%20%0A%0A%20%20%20%20%20%20%20%20%20%20%20%20marker_c587abcb0d0a4d1d9a4f956cb9285a33.bindPopup%28popup_2dfb7fda278a4944bbe22391727a49d3%29%0A%20%20%20%20%20%20%20%20%20%20%20%20%3B%0A%0A%20%20%20%20%20%20%20%20%20%20%20%20%0A%20%20%20%20%20%20%20%20%0A%20%20%20%20%0A%20%20%20%20%20%20%20%20var%20marker_87d514f5e0014120aa3277aa405d96af%20%3D%20L.marker%28%0A%20%20%20%20%20%20%20%20%20%20%20%20%5B43.76966957%2C%2011.24372429%5D%2C%0A%20%20%20%20%20%20%20%20%20%20%20%20%7B%0A%20%20%20%20%20%20%20%20%20%20%20%20%20%20%20%20icon%3A%20new%20L.Icon.Default%28%29%2C%0A%20%20%20%20%20%20%20%20%20%20%20%20%20%20%20%20%7D%0A%20%20%20%20%20%20%20%20%20%20%20%20%29.addTo%28map_146cd8147123498484976a07e362f27f%29%3B%0A%20%20%20%20%20%20%20%20%0A%20%20%20%20%0A%20%20%20%20%20%20%20%20%20%20%20%20var%20popup_e919e28da9d34b74a541c9ef294f47cf%20%3D%20L.popup%28%7BmaxWidth%3A%20%27100%25%27%0A%20%20%20%20%20%20%20%20%20%20%20%20%0A%20%20%20%20%20%20%20%20%20%20%20%20%7D%29%3B%0A%0A%20%20%20%20%20%20%20%20%20%20%20%20%0A%20%20%20%20%20%20%20%20%20%20%20%20%20%20%20%20var%20html_618e0f061be0443b8f27f69467b52065%20%3D%20%24%28%60%3Cdiv%20id%3D%22html_618e0f061be0443b8f27f69467b52065%22%20style%3D%22width%3A%20100.0%25%3B%20height%3A%20100.0%25%3B%22%3E%20%20%20%20%20%20%20%20%20%3Cul%3E%20%20%20%20%20%20%20%20%20%20%20%20%20%3Cli%3E%3Cstrong%3EID%3A%20%3C/strong%3E8531%3C/li%3E%20%20%20%20%20%20%20%20%20%20%20%20%20%3Cli%3E%3Cstrong%3ESource%3A%20%3C/strong%3EHenderson%20P%26C%20%232%3C/li%3E%20%20%20%20%20%20%20%20%20%20%20%20%20%3Cli%3E%3Cstrong%3EName%3A%20%3C/strong%3EPandolfo%20di%20Giuliano%20da%20Brucianese%3C/li%3E%20%20%20%20%20%20%20%20%20%3Cul%3E%20%20%20%20%20%3C/div%3E%60%29%5B0%5D%3B%0A%20%20%20%20%20%20%20%20%20%20%20%20%20%20%20%20popup_e919e28da9d34b74a541c9ef294f47cf.setContent%28html_618e0f061be0443b8f27f69467b52065%29%3B%0A%20%20%20%20%20%20%20%20%20%20%20%20%0A%0A%20%20%20%20%20%20%20%20%20%20%20%20marker_87d514f5e0014120aa3277aa405d96af.bindPopup%28popup_e919e28da9d34b74a541c9ef294f47cf%29%0A%20%20%20%20%20%20%20%20%20%20%20%20%3B%0A%0A%20%20%20%20%20%20%20%20%20%20%20%20%0A%20%20%20%20%20%20%20%20%0A%20%20%20%20%0A%20%20%20%20%20%20%20%20var%20marker_3dfd23522df64b0cb457abd1bd06df22%20%3D%20L.marker%28%0A%20%20%20%20%20%20%20%20%20%20%20%20%5B43.771942%2C%2011.252478%5D%2C%0A%20%20%20%20%20%20%20%20%20%20%20%20%7B%0A%20%20%20%20%20%20%20%20%20%20%20%20%20%20%20%20icon%3A%20new%20L.Icon.Default%28%29%2C%0A%20%20%20%20%20%20%20%20%20%20%20%20%20%20%20%20%7D%0A%20%20%20%20%20%20%20%20%20%20%20%20%29.addTo%28map_146cd8147123498484976a07e362f27f%29%3B%0A%20%20%20%20%20%20%20%20%0A%20%20%20%20%0A%20%20%20%20%20%20%20%20%20%20%20%20var%20popup_478425701cc544d9a6ca45430e3b61cd%20%3D%20L.popup%28%7BmaxWidth%3A%20%27100%25%27%0A%20%20%20%20%20%20%20%20%20%20%20%20%0A%20%20%20%20%20%20%20%20%20%20%20%20%7D%29%3B%0A%0A%20%20%20%20%20%20%20%20%20%20%20%20%0A%20%20%20%20%20%20%20%20%20%20%20%20%20%20%20%20var%20html_409c9c0c56a54aae877a0058fb1c0d5f%20%3D%20%24%28%60%3Cdiv%20id%3D%22html_409c9c0c56a54aae877a0058fb1c0d5f%22%20style%3D%22width%3A%20100.0%25%3B%20height%3A%20100.0%25%3B%22%3E%20%20%20%20%20%20%20%20%20%3Cul%3E%20%20%20%20%20%20%20%20%20%20%20%20%20%3Cli%3E%3Cstrong%3EID%3A%20%3C/strong%3E6044%3C/li%3E%20%20%20%20%20%20%20%20%20%20%20%20%20%3Cli%3E%3Cstrong%3ESource%3A%20%3C/strong%3EHenderson%20P%26C%20%2350%3C/li%3E%20%20%20%20%20%20%20%20%20%20%20%20%20%3Cli%3E%3Cstrong%3EName%3A%20%3C/strong%3EMona%20Catarina%2C%20moglie%20gia%20di%20Domenico%2C%20pollaiuolo%3C/li%3E%20%20%20%20%20%20%20%20%20%3Cul%3E%20%20%20%20%20%3C/div%3E%60%29%5B0%5D%3B%0A%20%20%20%20%20%20%20%20%20%20%20%20%20%20%20%20popup_478425701cc544d9a6ca45430e3b61cd.setContent%28html_409c9c0c56a54aae877a0058fb1c0d5f%29%3B%0A%20%20%20%20%20%20%20%20%20%20%20%20%0A%0A%20%20%20%20%20%20%20%20%20%20%20%20marker_3dfd23522df64b0cb457abd1bd06df22.bindPopup%28popup_478425701cc544d9a6ca45430e3b61cd%29%0A%20%20%20%20%20%20%20%20%20%20%20%20%3B%0A%0A%20%20%20%20%20%20%20%20%20%20%20%20%0A%20%20%20%20%20%20%20%20%0A%20%20%20%20%0A%20%20%20%20%20%20%20%20var%20marker_6853efed9d8440d8b08347dcc86a838c%20%3D%20L.marker%28%0A%20%20%20%20%20%20%20%20%20%20%20%20%5B43.76976343%2C%2011.24340071%5D%2C%0A%20%20%20%20%20%20%20%20%20%20%20%20%7B%0A%20%20%20%20%20%20%20%20%20%20%20%20%20%20%20%20icon%3A%20new%20L.Icon.Default%28%29%2C%0A%20%20%20%20%20%20%20%20%20%20%20%20%20%20%20%20%7D%0A%20%20%20%20%20%20%20%20%20%20%20%20%29.addTo%28map_146cd8147123498484976a07e362f27f%29%3B%0A%20%20%20%20%20%20%20%20%0A%20%20%20%20%0A%20%20%20%20%20%20%20%20%20%20%20%20var%20popup_e95cdc8e0bad417da8ba5e6681a8a272%20%3D%20L.popup%28%7BmaxWidth%3A%20%27100%25%27%0A%20%20%20%20%20%20%20%20%20%20%20%20%0A%20%20%20%20%20%20%20%20%20%20%20%20%7D%29%3B%0A%0A%20%20%20%20%20%20%20%20%20%20%20%20%0A%20%20%20%20%20%20%20%20%20%20%20%20%20%20%20%20var%20html_ca6d0c0fc712469884d6e5fa26f3f29f%20%3D%20%24%28%60%3Cdiv%20id%3D%22html_ca6d0c0fc712469884d6e5fa26f3f29f%22%20style%3D%22width%3A%20100.0%25%3B%20height%3A%20100.0%25%3B%22%3E%20%20%20%20%20%20%20%20%20%3Cul%3E%20%20%20%20%20%20%20%20%20%20%20%20%20%3Cli%3E%3Cstrong%3EID%3A%20%3C/strong%3E8431%3C/li%3E%20%20%20%20%20%20%20%20%20%20%20%20%20%3Cli%3E%3Cstrong%3ESource%3A%20%3C/strong%3EHenderson%20P%26C%20105%3C/li%3E%20%20%20%20%20%20%20%20%20%20%20%20%20%3Cli%3E%3Cstrong%3EName%3A%20%3C/strong%3ELionardo%20d%27%20Andrea%20oste%3C/li%3E%20%20%20%20%20%20%20%20%20%3Cul%3E%20%20%20%20%20%3C/div%3E%60%29%5B0%5D%3B%0A%20%20%20%20%20%20%20%20%20%20%20%20%20%20%20%20popup_e95cdc8e0bad417da8ba5e6681a8a272.setContent%28html_ca6d0c0fc712469884d6e5fa26f3f29f%29%3B%0A%20%20%20%20%20%20%20%20%20%20%20%20%0A%0A%20%20%20%20%20%20%20%20%20%20%20%20marker_6853efed9d8440d8b08347dcc86a838c.bindPopup%28popup_e95cdc8e0bad417da8ba5e6681a8a272%29%0A%20%20%20%20%20%20%20%20%20%20%20%20%3B%0A%0A%20%20%20%20%20%20%20%20%20%20%20%20%0A%20%20%20%20%20%20%20%20%0A%20%20%20%20%0A%20%20%20%20%20%20%20%20var%20marker_5d2a836eb7894e33a133122c14bce64a%20%3D%20L.marker%28%0A%20%20%20%20%20%20%20%20%20%20%20%20%5B43.76669727%2C%2011.25292636%5D%2C%0A%20%20%20%20%20%20%20%20%20%20%20%20%7B%0A%20%20%20%20%20%20%20%20%20%20%20%20%20%20%20%20icon%3A%20new%20L.Icon.Default%28%29%2C%0A%20%20%20%20%20%20%20%20%20%20%20%20%20%20%20%20%7D%0A%20%20%20%20%20%20%20%20%20%20%20%20%29.addTo%28map_146cd8147123498484976a07e362f27f%29%3B%0A%20%20%20%20%20%20%20%20%0A%20%20%20%20%0A%20%20%20%20%20%20%20%20%20%20%20%20var%20popup_8a109e33c2e348c8b9f784931a987a9b%20%3D%20L.popup%28%7BmaxWidth%3A%20%27100%25%27%0A%20%20%20%20%20%20%20%20%20%20%20%20%0A%20%20%20%20%20%20%20%20%20%20%20%20%7D%29%3B%0A%0A%20%20%20%20%20%20%20%20%20%20%20%20%0A%20%20%20%20%20%20%20%20%20%20%20%20%20%20%20%20var%20html_5972b2821971408d8cf01025564fb45f%20%3D%20%24%28%60%3Cdiv%20id%3D%22html_5972b2821971408d8cf01025564fb45f%22%20style%3D%22width%3A%20100.0%25%3B%20height%3A%20100.0%25%3B%22%3E%20%20%20%20%20%20%20%20%20%3Cul%3E%20%20%20%20%20%20%20%20%20%20%20%20%20%3Cli%3E%3Cstrong%3EID%3A%20%3C/strong%3E6016%3C/li%3E%20%20%20%20%20%20%20%20%20%20%20%20%20%3Cli%3E%3Cstrong%3ESource%3A%20%3C/strong%3EHenderson%20P%26C%20%239%3C/li%3E%20%20%20%20%20%20%20%20%20%20%20%20%20%3Cli%3E%3Cstrong%3EName%3A%20%3C/strong%3ENo%20resident%3C/li%3E%20%20%20%20%20%20%20%20%20%3Cul%3E%20%20%20%20%20%3C/div%3E%60%29%5B0%5D%3B%0A%20%20%20%20%20%20%20%20%20%20%20%20%20%20%20%20popup_8a109e33c2e348c8b9f784931a987a9b.setContent%28html_5972b2821971408d8cf01025564fb45f%29%3B%0A%20%20%20%20%20%20%20%20%20%20%20%20%0A%0A%20%20%20%20%20%20%20%20%20%20%20%20marker_5d2a836eb7894e33a133122c14bce64a.bindPopup%28popup_8a109e33c2e348c8b9f784931a987a9b%29%0A%20%20%20%20%20%20%20%20%20%20%20%20%3B%0A%0A%20%20%20%20%20%20%20%20%20%20%20%20%0A%20%20%20%20%20%20%20%20%0A%20%20%20%20%0A%20%20%20%20%20%20%20%20var%20marker_909c7b0817234a9ba336722e041adbbb%20%3D%20L.marker%28%0A%20%20%20%20%20%20%20%20%20%20%20%20%5B43.772855%2C%2011.244225%5D%2C%0A%20%20%20%20%20%20%20%20%20%20%20%20%7B%0A%20%20%20%20%20%20%20%20%20%20%20%20%20%20%20%20icon%3A%20new%20L.Icon.Default%28%29%2C%0A%20%20%20%20%20%20%20%20%20%20%20%20%20%20%20%20%7D%0A%20%20%20%20%20%20%20%20%20%20%20%20%29.addTo%28map_146cd8147123498484976a07e362f27f%29%3B%0A%20%20%20%20%20%20%20%20%0A%20%20%20%20%0A%20%20%20%20%20%20%20%20%20%20%20%20var%20popup_878065a2373f44ec8daabea9a76c64c7%20%3D%20L.popup%28%7BmaxWidth%3A%20%27100%25%27%0A%20%20%20%20%20%20%20%20%20%20%20%20%0A%20%20%20%20%20%20%20%20%20%20%20%20%7D%29%3B%0A%0A%20%20%20%20%20%20%20%20%20%20%20%20%0A%20%20%20%20%20%20%20%20%20%20%20%20%20%20%20%20var%20html_d8513da039cb402197f352a65436442c%20%3D%20%24%28%60%3Cdiv%20id%3D%22html_d8513da039cb402197f352a65436442c%22%20style%3D%22width%3A%20100.0%25%3B%20height%3A%20100.0%25%3B%22%3E%20%20%20%20%20%20%20%20%20%3Cul%3E%20%20%20%20%20%20%20%20%20%20%20%20%20%3Cli%3E%3Cstrong%3EID%3A%20%3C/strong%3E5045%3C/li%3E%20%20%20%20%20%20%20%20%20%20%20%20%20%3Cli%3E%3Cstrong%3ESource%3A%20%3C/strong%3EHenderson%20P%26C%20%2322%3C/li%3E%20%20%20%20%20%20%20%20%20%20%20%20%20%3Cli%3E%3Cstrong%3EName%3A%20%3C/strong%3EDomenico%20d%27%20Antonio%2C%20tessitore%3C/li%3E%20%20%20%20%20%20%20%20%20%3Cul%3E%20%20%20%20%20%3C/div%3E%60%29%5B0%5D%3B%0A%20%20%20%20%20%20%20%20%20%20%20%20%20%20%20%20popup_878065a2373f44ec8daabea9a76c64c7.setContent%28html_d8513da039cb402197f352a65436442c%29%3B%0A%20%20%20%20%20%20%20%20%20%20%20%20%0A%0A%20%20%20%20%20%20%20%20%20%20%20%20marker_909c7b0817234a9ba336722e041adbbb.bindPopup%28popup_878065a2373f44ec8daabea9a76c64c7%29%0A%20%20%20%20%20%20%20%20%20%20%20%20%3B%0A%0A%20%20%20%20%20%20%20%20%20%20%20%20%0A%20%20%20%20%20%20%20%20%0A%20%20%20%20%0A%20%20%20%20%20%20%20%20var%20marker_a0ca0cbb49454f6b9622c493e1fc3ca1%20%3D%20L.marker%28%0A%20%20%20%20%20%20%20%20%20%20%20%20%5B43.7727865%2C%2011.2443315%5D%2C%0A%20%20%20%20%20%20%20%20%20%20%20%20%7B%0A%20%20%20%20%20%20%20%20%20%20%20%20%20%20%20%20icon%3A%20new%20L.Icon.Default%28%29%2C%0A%20%20%20%20%20%20%20%20%20%20%20%20%20%20%20%20%7D%0A%20%20%20%20%20%20%20%20%20%20%20%20%29.addTo%28map_146cd8147123498484976a07e362f27f%29%3B%0A%20%20%20%20%20%20%20%20%0A%20%20%20%20%0A%20%20%20%20%20%20%20%20%20%20%20%20var%20popup_a8a1b70c85ee41239cfa5f9b9334d086%20%3D%20L.popup%28%7BmaxWidth%3A%20%27100%25%27%0A%20%20%20%20%20%20%20%20%20%20%20%20%0A%20%20%20%20%20%20%20%20%20%20%20%20%7D%29%3B%0A%0A%20%20%20%20%20%20%20%20%20%20%20%20%0A%20%20%20%20%20%20%20%20%20%20%20%20%20%20%20%20var%20html_8e4208b15bc446e49c464eb469eede62%20%3D%20%24%28%60%3Cdiv%20id%3D%22html_8e4208b15bc446e49c464eb469eede62%22%20style%3D%22width%3A%20100.0%25%3B%20height%3A%20100.0%25%3B%22%3E%20%20%20%20%20%20%20%20%20%3Cul%3E%20%20%20%20%20%20%20%20%20%20%20%20%20%3Cli%3E%3Cstrong%3EID%3A%20%3C/strong%3E5071%3C/li%3E%20%20%20%20%20%20%20%20%20%20%20%20%20%3Cli%3E%3Cstrong%3ESource%3A%20%3C/strong%3EHenderson%20P%26C%20%2322%3C/li%3E%20%20%20%20%20%20%20%20%20%20%20%20%20%3Cli%3E%3Cstrong%3EName%3A%20%3C/strong%3EVincenzo%20di%20Francesco%3C/li%3E%20%20%20%20%20%20%20%20%20%3Cul%3E%20%20%20%20%20%3C/div%3E%60%29%5B0%5D%3B%0A%20%20%20%20%20%20%20%20%20%20%20%20%20%20%20%20popup_a8a1b70c85ee41239cfa5f9b9334d086.setContent%28html_8e4208b15bc446e49c464eb469eede62%29%3B%0A%20%20%20%20%20%20%20%20%20%20%20%20%0A%0A%20%20%20%20%20%20%20%20%20%20%20%20marker_a0ca0cbb49454f6b9622c493e1fc3ca1.bindPopup%28popup_a8a1b70c85ee41239cfa5f9b9334d086%29%0A%20%20%20%20%20%20%20%20%20%20%20%20%3B%0A%0A%20%20%20%20%20%20%20%20%20%20%20%20%0A%20%20%20%20%20%20%20%20%0A%20%20%20%20%0A%20%20%20%20%20%20%20%20var%20marker_3e190bf76cb342e8a27d8d1f4200cd22%20%3D%20L.marker%28%0A%20%20%20%20%20%20%20%20%20%20%20%20%5B43.772718%2C%2011.244438%5D%2C%0A%20%20%20%20%20%20%20%20%20%20%20%20%7B%0A%20%20%20%20%20%20%20%20%20%20%20%20%20%20%20%20icon%3A%20new%20L.Icon.Default%28%29%2C%0A%20%20%20%20%20%20%20%20%20%20%20%20%20%20%20%20%7D%0A%20%20%20%20%20%20%20%20%20%20%20%20%29.addTo%28map_146cd8147123498484976a07e362f27f%29%3B%0A%20%20%20%20%20%20%20%20%0A%20%20%20%20%0A%20%20%20%20%20%20%20%20%20%20%20%20var%20popup_454a3dd2b6b94b0391b6a59a96eceed5%20%3D%20L.popup%28%7BmaxWidth%3A%20%27100%25%27%0A%20%20%20%20%20%20%20%20%20%20%20%20%0A%20%20%20%20%20%20%20%20%20%20%20%20%7D%29%3B%0A%0A%20%20%20%20%20%20%20%20%20%20%20%20%0A%20%20%20%20%20%20%20%20%20%20%20%20%20%20%20%20var%20html_c02be68011c3475481f36d18d0c174ba%20%3D%20%24%28%60%3Cdiv%20id%3D%22html_c02be68011c3475481f36d18d0c174ba%22%20style%3D%22width%3A%20100.0%25%3B%20height%3A%20100.0%25%3B%22%3E%20%20%20%20%20%20%20%20%20%3Cul%3E%20%20%20%20%20%20%20%20%20%20%20%20%20%3Cli%3E%3Cstrong%3EID%3A%20%3C/strong%3E5264%3C/li%3E%20%20%20%20%20%20%20%20%20%20%20%20%20%3Cli%3E%3Cstrong%3ESource%3A%20%3C/strong%3EHenderson%20P%26C%20%2322%3C/li%3E%20%20%20%20%20%20%20%20%20%20%20%20%20%3Cli%3E%3Cstrong%3EName%3A%20%3C/strong%3EMona%20Maria%2C%20moglie%20gia%20di%20Piero%20Bettini%3C/li%3E%20%20%20%20%20%20%20%20%20%3Cul%3E%20%20%20%20%20%3C/div%3E%60%29%5B0%5D%3B%0A%20%20%20%20%20%20%20%20%20%20%20%20%20%20%20%20popup_454a3dd2b6b94b0391b6a59a96eceed5.setContent%28html_c02be68011c3475481f36d18d0c174ba%29%3B%0A%20%20%20%20%20%20%20%20%20%20%20%20%0A%0A%20%20%20%20%20%20%20%20%20%20%20%20marker_3e190bf76cb342e8a27d8d1f4200cd22.bindPopup%28popup_454a3dd2b6b94b0391b6a59a96eceed5%29%0A%20%20%20%20%20%20%20%20%20%20%20%20%3B%0A%0A%20%20%20%20%20%20%20%20%20%20%20%20%0A%20%20%20%20%20%20%20%20%0A%20%20%20%20%0A%20%20%20%20%20%20%20%20var%20marker_6464848531654828a3ff73be9c5ed6a7%20%3D%20L.marker%28%0A%20%20%20%20%20%20%20%20%20%20%20%20%5B43.77717333%2C%2011.26219133%5D%2C%0A%20%20%20%20%20%20%20%20%20%20%20%20%7B%0A%20%20%20%20%20%20%20%20%20%20%20%20%20%20%20%20icon%3A%20new%20L.Icon.Default%28%29%2C%0A%20%20%20%20%20%20%20%20%20%20%20%20%20%20%20%20%7D%0A%20%20%20%20%20%20%20%20%20%20%20%20%29.addTo%28map_146cd8147123498484976a07e362f27f%29%3B%0A%20%20%20%20%20%20%20%20%0A%20%20%20%20%0A%20%20%20%20%20%20%20%20%20%20%20%20var%20popup_911be993f3e3452292adfd314d5cb4f9%20%3D%20L.popup%28%7BmaxWidth%3A%20%27100%25%27%0A%20%20%20%20%20%20%20%20%20%20%20%20%0A%20%20%20%20%20%20%20%20%20%20%20%20%7D%29%3B%0A%0A%20%20%20%20%20%20%20%20%20%20%20%20%0A%20%20%20%20%20%20%20%20%20%20%20%20%20%20%20%20var%20html_dfefee6a0c554b248148ed3c8afaa195%20%3D%20%24%28%60%3Cdiv%20id%3D%22html_dfefee6a0c554b248148ed3c8afaa195%22%20style%3D%22width%3A%20100.0%25%3B%20height%3A%20100.0%25%3B%22%3E%20%20%20%20%20%20%20%20%20%3Cul%3E%20%20%20%20%20%20%20%20%20%20%20%20%20%3Cli%3E%3Cstrong%3EID%3A%20%3C/strong%3E1667%3C/li%3E%20%20%20%20%20%20%20%20%20%20%20%20%20%3Cli%3E%3Cstrong%3ESource%3A%20%3C/strong%3Enan%3C/li%3E%20%20%20%20%20%20%20%20%20%20%20%20%20%3Cli%3E%3Cstrong%3EName%3A%20%3C/strong%3ESimone%20di%20Filippo%20Rondinelli%3C/li%3E%20%20%20%20%20%20%20%20%20%3Cul%3E%20%20%20%20%20%3C/div%3E%60%29%5B0%5D%3B%0A%20%20%20%20%20%20%20%20%20%20%20%20%20%20%20%20popup_911be993f3e3452292adfd314d5cb4f9.setContent%28html_dfefee6a0c554b248148ed3c8afaa195%29%3B%0A%20%20%20%20%20%20%20%20%20%20%20%20%0A%0A%20%20%20%20%20%20%20%20%20%20%20%20marker_6464848531654828a3ff73be9c5ed6a7.bindPopup%28popup_911be993f3e3452292adfd314d5cb4f9%29%0A%20%20%20%20%20%20%20%20%20%20%20%20%3B%0A%0A%20%20%20%20%20%20%20%20%20%20%20%20%0A%20%20%20%20%20%20%20%20%0A%20%20%20%20%0A%20%20%20%20%20%20%20%20var%20marker_a24588ee084a49f197f3bdcf994e4ef4%20%3D%20L.marker%28%0A%20%20%20%20%20%20%20%20%20%20%20%20%5B43.77779886%2C%2011.253971%5D%2C%0A%20%20%20%20%20%20%20%20%20%20%20%20%7B%0A%20%20%20%20%20%20%20%20%20%20%20%20%20%20%20%20icon%3A%20new%20L.Icon.Default%28%29%2C%0A%20%20%20%20%20%20%20%20%20%20%20%20%20%20%20%20%7D%0A%20%20%20%20%20%20%20%20%20%20%20%20%29.addTo%28map_146cd8147123498484976a07e362f27f%29%3B%0A%20%20%20%20%20%20%20%20%0A%20%20%20%20%0A%20%20%20%20%20%20%20%20%20%20%20%20var%20popup_4ae6e8a2e6c44e86856567052a139570%20%3D%20L.popup%28%7BmaxWidth%3A%20%27100%25%27%0A%20%20%20%20%20%20%20%20%20%20%20%20%0A%20%20%20%20%20%20%20%20%20%20%20%20%7D%29%3B%0A%0A%20%20%20%20%20%20%20%20%20%20%20%20%0A%20%20%20%20%20%20%20%20%20%20%20%20%20%20%20%20var%20html_bfdff246f3c04abd824668b7c0334012%20%3D%20%24%28%60%3Cdiv%20id%3D%22html_bfdff246f3c04abd824668b7c0334012%22%20style%3D%22width%3A%20100.0%25%3B%20height%3A%20100.0%25%3B%22%3E%20%20%20%20%20%20%20%20%20%3Cul%3E%20%20%20%20%20%20%20%20%20%20%20%20%20%3Cli%3E%3Cstrong%3EID%3A%20%3C/strong%3E131%3C/li%3E%20%20%20%20%20%20%20%20%20%20%20%20%20%3Cli%3E%3Cstrong%3ESource%3A%20%3C/strong%3EHenderson%20P%26C%20%2342%3C/li%3E%20%20%20%20%20%20%20%20%20%20%20%20%20%3Cli%3E%3Cstrong%3EName%3A%20%3C/strong%3ELorenzo%20di%20Francesco%20Romagnolo%3C/li%3E%20%20%20%20%20%20%20%20%20%3Cul%3E%20%20%20%20%20%3C/div%3E%60%29%5B0%5D%3B%0A%20%20%20%20%20%20%20%20%20%20%20%20%20%20%20%20popup_4ae6e8a2e6c44e86856567052a139570.setContent%28html_bfdff246f3c04abd824668b7c0334012%29%3B%0A%20%20%20%20%20%20%20%20%20%20%20%20%0A%0A%20%20%20%20%20%20%20%20%20%20%20%20marker_a24588ee084a49f197f3bdcf994e4ef4.bindPopup%28popup_4ae6e8a2e6c44e86856567052a139570%29%0A%20%20%20%20%20%20%20%20%20%20%20%20%3B%0A%0A%20%20%20%20%20%20%20%20%20%20%20%20%0A%20%20%20%20%20%20%20%20%0A%20%20%20%20%0A%20%20%20%20%20%20%20%20var%20marker_c3ad2e8fca8b494fba639108817de072%20%3D%20L.marker%28%0A%20%20%20%20%20%20%20%20%20%20%20%20%5B43.77775557%2C%2011.2539%5D%2C%0A%20%20%20%20%20%20%20%20%20%20%20%20%7B%0A%20%20%20%20%20%20%20%20%20%20%20%20%20%20%20%20icon%3A%20new%20L.Icon.Default%28%29%2C%0A%20%20%20%20%20%20%20%20%20%20%20%20%20%20%20%20%7D%0A%20%20%20%20%20%20%20%20%20%20%20%20%29.addTo%28map_146cd8147123498484976a07e362f27f%29%3B%0A%20%20%20%20%20%20%20%20%0A%20%20%20%20%0A%20%20%20%20%20%20%20%20%20%20%20%20var%20popup_2135d0cfac5d44b1ab997d6afe2d12e0%20%3D%20L.popup%28%7BmaxWidth%3A%20%27100%25%27%0A%20%20%20%20%20%20%20%20%20%20%20%20%0A%20%20%20%20%20%20%20%20%20%20%20%20%7D%29%3B%0A%0A%20%20%20%20%20%20%20%20%20%20%20%20%0A%20%20%20%20%20%20%20%20%20%20%20%20%20%20%20%20var%20html_4899fa73dd5d42a1bc8a8be5c849da08%20%3D%20%24%28%60%3Cdiv%20id%3D%22html_4899fa73dd5d42a1bc8a8be5c849da08%22%20style%3D%22width%3A%20100.0%25%3B%20height%3A%20100.0%25%3B%22%3E%20%20%20%20%20%20%20%20%20%3Cul%3E%20%20%20%20%20%20%20%20%20%20%20%20%20%3Cli%3E%3Cstrong%3EID%3A%20%3C/strong%3E554%3C/li%3E%20%20%20%20%20%20%20%20%20%20%20%20%20%3Cli%3E%3Cstrong%3ESource%3A%20%3C/strong%3EHenderson%20P%26C%20%2342%3C/li%3E%20%20%20%20%20%20%20%20%20%20%20%20%20%3Cli%3E%3Cstrong%3EName%3A%20%3C/strong%3ESanti%20di%20Giovanni%2C%20esattore%20a%20Capitani%20di%20Parte%3C/li%3E%20%20%20%20%20%20%20%20%20%3Cul%3E%20%20%20%20%20%3C/div%3E%60%29%5B0%5D%3B%0A%20%20%20%20%20%20%20%20%20%20%20%20%20%20%20%20popup_2135d0cfac5d44b1ab997d6afe2d12e0.setContent%28html_4899fa73dd5d42a1bc8a8be5c849da08%29%3B%0A%20%20%20%20%20%20%20%20%20%20%20%20%0A%0A%20%20%20%20%20%20%20%20%20%20%20%20marker_c3ad2e8fca8b494fba639108817de072.bindPopup%28popup_2135d0cfac5d44b1ab997d6afe2d12e0%29%0A%20%20%20%20%20%20%20%20%20%20%20%20%3B%0A%0A%20%20%20%20%20%20%20%20%20%20%20%20%0A%20%20%20%20%20%20%20%20%0A%20%20%20%20%0A%20%20%20%20%20%20%20%20var%20marker_ac9173a5619f469b9a2b5b155d22cee9%20%3D%20L.marker%28%0A%20%20%20%20%20%20%20%20%20%20%20%20%5B43.776641%2C%2011.25262992%5D%2C%0A%20%20%20%20%20%20%20%20%20%20%20%20%7B%0A%20%20%20%20%20%20%20%20%20%20%20%20%20%20%20%20icon%3A%20new%20L.Icon.Default%28%29%2C%0A%20%20%20%20%20%20%20%20%20%20%20%20%20%20%20%20%7D%0A%20%20%20%20%20%20%20%20%20%20%20%20%29.addTo%28map_146cd8147123498484976a07e362f27f%29%3B%0A%20%20%20%20%20%20%20%20%0A%20%20%20%20%0A%20%20%20%20%20%20%20%20%20%20%20%20var%20popup_74b49f75afca48a794e9c132d1c698e2%20%3D%20L.popup%28%7BmaxWidth%3A%20%27100%25%27%0A%20%20%20%20%20%20%20%20%20%20%20%20%0A%20%20%20%20%20%20%20%20%20%20%20%20%7D%29%3B%0A%0A%20%20%20%20%20%20%20%20%20%20%20%20%0A%20%20%20%20%20%20%20%20%20%20%20%20%20%20%20%20var%20html_5dffd8a4cd0a4956b981610b31f7e947%20%3D%20%24%28%60%3Cdiv%20id%3D%22html_5dffd8a4cd0a4956b981610b31f7e947%22%20style%3D%22width%3A%20100.0%25%3B%20height%3A%20100.0%25%3B%22%3E%20%20%20%20%20%20%20%20%20%3Cul%3E%20%20%20%20%20%20%20%20%20%20%20%20%20%3Cli%3E%3Cstrong%3EID%3A%20%3C/strong%3E582%3C/li%3E%20%20%20%20%20%20%20%20%20%20%20%20%20%3Cli%3E%3Cstrong%3ESource%3A%20%3C/strong%3EHenderson%20P%26C%20%2342%3C/li%3E%20%20%20%20%20%20%20%20%20%20%20%20%20%3Cli%3E%3Cstrong%3EName%3A%20%3C/strong%3EAntonio%20di%20Batista%20da%20Bologna%2C%20tessitore%3C/li%3E%20%20%20%20%20%20%20%20%20%3Cul%3E%20%20%20%20%20%3C/div%3E%60%29%5B0%5D%3B%0A%20%20%20%20%20%20%20%20%20%20%20%20%20%20%20%20popup_74b49f75afca48a794e9c132d1c698e2.setContent%28html_5dffd8a4cd0a4956b981610b31f7e947%29%3B%0A%20%20%20%20%20%20%20%20%20%20%20%20%0A%0A%20%20%20%20%20%20%20%20%20%20%20%20marker_ac9173a5619f469b9a2b5b155d22cee9.bindPopup%28popup_74b49f75afca48a794e9c132d1c698e2%29%0A%20%20%20%20%20%20%20%20%20%20%20%20%3B%0A%0A%20%20%20%20%20%20%20%20%20%20%20%20%0A%20%20%20%20%20%20%20%20%0A%20%20%20%20%0A%20%20%20%20%20%20%20%20var%20marker_8768ecc0c9104e628cf689efb17b91d8%20%3D%20L.marker%28%0A%20%20%20%20%20%20%20%20%20%20%20%20%5B43.76835491%2C%2011.24107655%5D%2C%0A%20%20%20%20%20%20%20%20%20%20%20%20%7B%0A%20%20%20%20%20%20%20%20%20%20%20%20%20%20%20%20icon%3A%20new%20L.Icon.Default%28%29%2C%0A%20%20%20%20%20%20%20%20%20%20%20%20%20%20%20%20%7D%0A%20%20%20%20%20%20%20%20%20%20%20%20%29.addTo%28map_146cd8147123498484976a07e362f27f%29%3B%0A%20%20%20%20%20%20%20%20%0A%20%20%20%20%0A%20%20%20%20%20%20%20%20%20%20%20%20var%20popup_32c088d45a964d7cbd03062a4e995792%20%3D%20L.popup%28%7BmaxWidth%3A%20%27100%25%27%0A%20%20%20%20%20%20%20%20%20%20%20%20%0A%20%20%20%20%20%20%20%20%20%20%20%20%7D%29%3B%0A%0A%20%20%20%20%20%20%20%20%20%20%20%20%0A%20%20%20%20%20%20%20%20%20%20%20%20%20%20%20%20var%20html_7bcdd69895cc4312ae475ae2b1282903%20%3D%20%24%28%60%3Cdiv%20id%3D%22html_7bcdd69895cc4312ae475ae2b1282903%22%20style%3D%22width%3A%20100.0%25%3B%20height%3A%20100.0%25%3B%22%3E%20%20%20%20%20%20%20%20%20%3Cul%3E%20%20%20%20%20%20%20%20%20%20%20%20%20%3Cli%3E%3Cstrong%3EID%3A%20%3C/strong%3E8351%3C/li%3E%20%20%20%20%20%20%20%20%20%20%20%20%20%3Cli%3E%3Cstrong%3ESource%3A%20%3C/strong%3Enan%3C/li%3E%20%20%20%20%20%20%20%20%20%20%20%20%20%3Cli%3E%3Cstrong%3EName%3A%20%3C/strong%3ELuca%20di%20Batista%20Tossi%20torcitore%3C/li%3E%20%20%20%20%20%20%20%20%20%3Cul%3E%20%20%20%20%20%3C/div%3E%60%29%5B0%5D%3B%0A%20%20%20%20%20%20%20%20%20%20%20%20%20%20%20%20popup_32c088d45a964d7cbd03062a4e995792.setContent%28html_7bcdd69895cc4312ae475ae2b1282903%29%3B%0A%20%20%20%20%20%20%20%20%20%20%20%20%0A%0A%20%20%20%20%20%20%20%20%20%20%20%20marker_8768ecc0c9104e628cf689efb17b91d8.bindPopup%28popup_32c088d45a964d7cbd03062a4e995792%29%0A%20%20%20%20%20%20%20%20%20%20%20%20%3B%0A%0A%20%20%20%20%20%20%20%20%20%20%20%20%0A%20%20%20%20%20%20%20%20%0A%20%20%20%20%0A%20%20%20%20%20%20%20%20var%20marker_9601142448434113a59aaf45f2637fa0%20%3D%20L.marker%28%0A%20%20%20%20%20%20%20%20%20%20%20%20%5B43.77713761%2C%2011.26215561%5D%2C%0A%20%20%20%20%20%20%20%20%20%20%20%20%7B%0A%20%20%20%20%20%20%20%20%20%20%20%20%20%20%20%20icon%3A%20new%20L.Icon.Default%28%29%2C%0A%20%20%20%20%20%20%20%20%20%20%20%20%20%20%20%20%7D%0A%20%20%20%20%20%20%20%20%20%20%20%20%29.addTo%28map_146cd8147123498484976a07e362f27f%29%3B%0A%20%20%20%20%20%20%20%20%0A%20%20%20%20%0A%20%20%20%20%20%20%20%20%20%20%20%20var%20popup_bd598c89df464aaea87927c87877e51d%20%3D%20L.popup%28%7BmaxWidth%3A%20%27100%25%27%0A%20%20%20%20%20%20%20%20%20%20%20%20%0A%20%20%20%20%20%20%20%20%20%20%20%20%7D%29%3B%0A%0A%20%20%20%20%20%20%20%20%20%20%20%20%0A%20%20%20%20%20%20%20%20%20%20%20%20%20%20%20%20var%20html_6723fa6aa05949a5bfbda682c078e01f%20%3D%20%24%28%60%3Cdiv%20id%3D%22html_6723fa6aa05949a5bfbda682c078e01f%22%20style%3D%22width%3A%20100.0%25%3B%20height%3A%20100.0%25%3B%22%3E%20%20%20%20%20%20%20%20%20%3Cul%3E%20%20%20%20%20%20%20%20%20%20%20%20%20%3Cli%3E%3Cstrong%3EID%3A%20%3C/strong%3E1443%3C/li%3E%20%20%20%20%20%20%20%20%20%20%20%20%20%3Cli%3E%3Cstrong%3ESource%3A%20%3C/strong%3E2006%20AMF%20Confraternity%20Itinerary%3C/li%3E%20%20%20%20%20%20%20%20%20%20%20%20%20%3Cli%3E%3Cstrong%3EName%3A%20%3C/strong%3ERedi%20di%20Filippo%20Lasagnini%3C/li%3E%20%20%20%20%20%20%20%20%20%3Cul%3E%20%20%20%20%20%3C/div%3E%60%29%5B0%5D%3B%0A%20%20%20%20%20%20%20%20%20%20%20%20%20%20%20%20popup_bd598c89df464aaea87927c87877e51d.setContent%28html_6723fa6aa05949a5bfbda682c078e01f%29%3B%0A%20%20%20%20%20%20%20%20%20%20%20%20%0A%0A%20%20%20%20%20%20%20%20%20%20%20%20marker_9601142448434113a59aaf45f2637fa0.bindPopup%28popup_bd598c89df464aaea87927c87877e51d%29%0A%20%20%20%20%20%20%20%20%20%20%20%20%3B%0A%0A%20%20%20%20%20%20%20%20%20%20%20%20%0A%20%20%20%20%20%20%20%20%0A%20%20%20%20%0A%20%20%20%20%20%20%20%20var%20marker_1e648cf4599040129e3e9742274f222b%20%3D%20L.marker%28%0A%20%20%20%20%20%20%20%20%20%20%20%20%5B43.764344%2C%2011.25503%5D%2C%0A%20%20%20%20%20%20%20%20%20%20%20%20%7B%0A%20%20%20%20%20%20%20%20%20%20%20%20%20%20%20%20icon%3A%20new%20L.Icon.Default%28%29%2C%0A%20%20%20%20%20%20%20%20%20%20%20%20%20%20%20%20%7D%0A%20%20%20%20%20%20%20%20%20%20%20%20%29.addTo%28map_146cd8147123498484976a07e362f27f%29%3B%0A%20%20%20%20%20%20%20%20%0A%20%20%20%20%0A%20%20%20%20%20%20%20%20%20%20%20%20var%20popup_10326768ff3848a9b76ed05b88fccc9d%20%3D%20L.popup%28%7BmaxWidth%3A%20%27100%25%27%0A%20%20%20%20%20%20%20%20%20%20%20%20%0A%20%20%20%20%20%20%20%20%20%20%20%20%7D%29%3B%0A%0A%20%20%20%20%20%20%20%20%20%20%20%20%0A%20%20%20%20%20%20%20%20%20%20%20%20%20%20%20%20var%20html_2b59334a516548ce875bc601fbe0f8cf%20%3D%20%24%28%60%3Cdiv%20id%3D%22html_2b59334a516548ce875bc601fbe0f8cf%22%20style%3D%22width%3A%20100.0%25%3B%20height%3A%20100.0%25%3B%22%3E%20%20%20%20%20%20%20%20%20%3Cul%3E%20%20%20%20%20%20%20%20%20%20%20%20%20%3Cli%3E%3Cstrong%3EID%3A%20%3C/strong%3E6027%3C/li%3E%20%20%20%20%20%20%20%20%20%20%20%20%20%3Cli%3E%3Cstrong%3ESource%3A%20%3C/strong%3Enan%3C/li%3E%20%20%20%20%20%20%20%20%20%20%20%20%20%3Cli%3E%3Cstrong%3EName%3A%20%3C/strong%3EBartolomeo%20di%20.%20.%20.%20tessitore%3C/li%3E%20%20%20%20%20%20%20%20%20%3Cul%3E%20%20%20%20%20%3C/div%3E%60%29%5B0%5D%3B%0A%20%20%20%20%20%20%20%20%20%20%20%20%20%20%20%20popup_10326768ff3848a9b76ed05b88fccc9d.setContent%28html_2b59334a516548ce875bc601fbe0f8cf%29%3B%0A%20%20%20%20%20%20%20%20%20%20%20%20%0A%0A%20%20%20%20%20%20%20%20%20%20%20%20marker_1e648cf4599040129e3e9742274f222b.bindPopup%28popup_10326768ff3848a9b76ed05b88fccc9d%29%0A%20%20%20%20%20%20%20%20%20%20%20%20%3B%0A%0A%20%20%20%20%20%20%20%20%20%20%20%20%0A%20%20%20%20%20%20%20%20%0A%20%20%20%20%0A%20%20%20%20%20%20%20%20var%20marker_ae17a1e7e0854a1c904642d7c92c37b4%20%3D%20L.marker%28%0A%20%20%20%20%20%20%20%20%20%20%20%20%5B43.76656545%2C%2011.25341727%5D%2C%0A%20%20%20%20%20%20%20%20%20%20%20%20%7B%0A%20%20%20%20%20%20%20%20%20%20%20%20%20%20%20%20icon%3A%20new%20L.Icon.Default%28%29%2C%0A%20%20%20%20%20%20%20%20%20%20%20%20%20%20%20%20%7D%0A%20%20%20%20%20%20%20%20%20%20%20%20%29.addTo%28map_146cd8147123498484976a07e362f27f%29%3B%0A%20%20%20%20%20%20%20%20%0A%20%20%20%20%0A%20%20%20%20%20%20%20%20%20%20%20%20var%20popup_98fc8cd1c6ed4010934c365ce03e1be9%20%3D%20L.popup%28%7BmaxWidth%3A%20%27100%25%27%0A%20%20%20%20%20%20%20%20%20%20%20%20%0A%20%20%20%20%20%20%20%20%20%20%20%20%7D%29%3B%0A%0A%20%20%20%20%20%20%20%20%20%20%20%20%0A%20%20%20%20%20%20%20%20%20%20%20%20%20%20%20%20var%20html_585f754b32764d109a47dd2c00a50862%20%3D%20%24%28%60%3Cdiv%20id%3D%22html_585f754b32764d109a47dd2c00a50862%22%20style%3D%22width%3A%20100.0%25%3B%20height%3A%20100.0%25%3B%22%3E%20%20%20%20%20%20%20%20%20%3Cul%3E%20%20%20%20%20%20%20%20%20%20%20%20%20%3Cli%3E%3Cstrong%3EID%3A%20%3C/strong%3E6324%3C/li%3E%20%20%20%20%20%20%20%20%20%20%20%20%20%3Cli%3E%3Cstrong%3ESource%3A%20%3C/strong%3Enan%3C/li%3E%20%20%20%20%20%20%20%20%20%20%20%20%20%3Cli%3E%3Cstrong%3EName%3A%20%3C/strong%3EMona%20Lexandra%20di%20Domenico%20barbiere%3C/li%3E%20%20%20%20%20%20%20%20%20%3Cul%3E%20%20%20%20%20%3C/div%3E%60%29%5B0%5D%3B%0A%20%20%20%20%20%20%20%20%20%20%20%20%20%20%20%20popup_98fc8cd1c6ed4010934c365ce03e1be9.setContent%28html_585f754b32764d109a47dd2c00a50862%29%3B%0A%20%20%20%20%20%20%20%20%20%20%20%20%0A%0A%20%20%20%20%20%20%20%20%20%20%20%20marker_ae17a1e7e0854a1c904642d7c92c37b4.bindPopup%28popup_98fc8cd1c6ed4010934c365ce03e1be9%29%0A%20%20%20%20%20%20%20%20%20%20%20%20%3B%0A%0A%20%20%20%20%20%20%20%20%20%20%20%20%0A%20%20%20%20%20%20%20%20%0A%20%20%20%20%0A%20%20%20%20%20%20%20%20var%20marker_cb4c087fd2614165a1aafe2fde34a2df%20%3D%20L.marker%28%0A%20%20%20%20%20%20%20%20%20%20%20%20%5B43.76648625%2C%2011.254495%5D%2C%0A%20%20%20%20%20%20%20%20%20%20%20%20%7B%0A%20%20%20%20%20%20%20%20%20%20%20%20%20%20%20%20icon%3A%20new%20L.Icon.Default%28%29%2C%0A%20%20%20%20%20%20%20%20%20%20%20%20%20%20%20%20%7D%0A%20%20%20%20%20%20%20%20%20%20%20%20%29.addTo%28map_146cd8147123498484976a07e362f27f%29%3B%0A%20%20%20%20%20%20%20%20%0A%20%20%20%20%0A%20%20%20%20%20%20%20%20%20%20%20%20var%20popup_c38ab3dc937a43c78c3c6f6d54e06d82%20%3D%20L.popup%28%7BmaxWidth%3A%20%27100%25%27%0A%20%20%20%20%20%20%20%20%20%20%20%20%0A%20%20%20%20%20%20%20%20%20%20%20%20%7D%29%3B%0A%0A%20%20%20%20%20%20%20%20%20%20%20%20%0A%20%20%20%20%20%20%20%20%20%20%20%20%20%20%20%20var%20html_b12819d4a47c4e5d87cd3e868408d25a%20%3D%20%24%28%60%3Cdiv%20id%3D%22html_b12819d4a47c4e5d87cd3e868408d25a%22%20style%3D%22width%3A%20100.0%25%3B%20height%3A%20100.0%25%3B%22%3E%20%20%20%20%20%20%20%20%20%3Cul%3E%20%20%20%20%20%20%20%20%20%20%20%20%20%3Cli%3E%3Cstrong%3EID%3A%20%3C/strong%3E6180%3C/li%3E%20%20%20%20%20%20%20%20%20%20%20%20%20%3Cli%3E%3Cstrong%3ESource%3A%20%3C/strong%3Enan%3C/li%3E%20%20%20%20%20%20%20%20%20%20%20%20%20%3Cli%3E%3Cstrong%3EName%3A%20%3C/strong%3ETre%20pigionali%3C/li%3E%20%20%20%20%20%20%20%20%20%3Cul%3E%20%20%20%20%20%3C/div%3E%60%29%5B0%5D%3B%0A%20%20%20%20%20%20%20%20%20%20%20%20%20%20%20%20popup_c38ab3dc937a43c78c3c6f6d54e06d82.setContent%28html_b12819d4a47c4e5d87cd3e868408d25a%29%3B%0A%20%20%20%20%20%20%20%20%20%20%20%20%0A%0A%20%20%20%20%20%20%20%20%20%20%20%20marker_cb4c087fd2614165a1aafe2fde34a2df.bindPopup%28popup_c38ab3dc937a43c78c3c6f6d54e06d82%29%0A%20%20%20%20%20%20%20%20%20%20%20%20%3B%0A%0A%20%20%20%20%20%20%20%20%20%20%20%20%0A%20%20%20%20%20%20%20%20%0A%20%20%20%20%0A%20%20%20%20%20%20%20%20var%20marker_d86ae98500974e2886a7484a2457a4a7%20%3D%20L.marker%28%0A%20%20%20%20%20%20%20%20%20%20%20%20%5B43.773077%2C%2011.263158%5D%2C%0A%20%20%20%20%20%20%20%20%20%20%20%20%7B%0A%20%20%20%20%20%20%20%20%20%20%20%20%20%20%20%20icon%3A%20new%20L.Icon.Default%28%29%2C%0A%20%20%20%20%20%20%20%20%20%20%20%20%20%20%20%20%7D%0A%20%20%20%20%20%20%20%20%20%20%20%20%29.addTo%28map_146cd8147123498484976a07e362f27f%29%3B%0A%20%20%20%20%20%20%20%20%0A%20%20%20%20%0A%20%20%20%20%20%20%20%20%20%20%20%20var%20popup_545779fa9703460494bac91db29f4df4%20%3D%20L.popup%28%7BmaxWidth%3A%20%27100%25%27%0A%20%20%20%20%20%20%20%20%20%20%20%20%0A%20%20%20%20%20%20%20%20%20%20%20%20%7D%29%3B%0A%0A%20%20%20%20%20%20%20%20%20%20%20%20%0A%20%20%20%20%20%20%20%20%20%20%20%20%20%20%20%20var%20html_213b9c1801e6419da396a3d4d3da927f%20%3D%20%24%28%60%3Cdiv%20id%3D%22html_213b9c1801e6419da396a3d4d3da927f%22%20style%3D%22width%3A%20100.0%25%3B%20height%3A%20100.0%25%3B%22%3E%20%20%20%20%20%20%20%20%20%3Cul%3E%20%20%20%20%20%20%20%20%20%20%20%20%20%3Cli%3E%3Cstrong%3EID%3A%20%3C/strong%3E2300%3C/li%3E%20%20%20%20%20%20%20%20%20%20%20%20%20%3Cli%3E%3Cstrong%3ESource%3A%20%3C/strong%3EHenderson%20P%26C%20%2366%3C/li%3E%20%20%20%20%20%20%20%20%20%20%20%20%20%3Cli%3E%3Cstrong%3EName%3A%20%3C/strong%3ENo%20resident%3C/li%3E%20%20%20%20%20%20%20%20%20%3Cul%3E%20%20%20%20%20%3C/div%3E%60%29%5B0%5D%3B%0A%20%20%20%20%20%20%20%20%20%20%20%20%20%20%20%20popup_545779fa9703460494bac91db29f4df4.setContent%28html_213b9c1801e6419da396a3d4d3da927f%29%3B%0A%20%20%20%20%20%20%20%20%20%20%20%20%0A%0A%20%20%20%20%20%20%20%20%20%20%20%20marker_d86ae98500974e2886a7484a2457a4a7.bindPopup%28popup_545779fa9703460494bac91db29f4df4%29%0A%20%20%20%20%20%20%20%20%20%20%20%20%3B%0A%0A%20%20%20%20%20%20%20%20%20%20%20%20%0A%20%20%20%20%20%20%20%20%0A%20%20%20%20%0A%20%20%20%20%20%20%20%20var%20marker_21cd35bc0b5b4560b5c0eca3d9ccf43a%20%3D%20L.marker%28%0A%20%20%20%20%20%20%20%20%20%20%20%20%5B43.77289553%2C%2011.26334247%5D%2C%0A%20%20%20%20%20%20%20%20%20%20%20%20%7B%0A%20%20%20%20%20%20%20%20%20%20%20%20%20%20%20%20icon%3A%20new%20L.Icon.Default%28%29%2C%0A%20%20%20%20%20%20%20%20%20%20%20%20%20%20%20%20%7D%0A%20%20%20%20%20%20%20%20%20%20%20%20%29.addTo%28map_146cd8147123498484976a07e362f27f%29%3B%0A%20%20%20%20%20%20%20%20%0A%20%20%20%20%0A%20%20%20%20%20%20%20%20%20%20%20%20var%20popup_c6d0db39c57c4cdaa7b37a90859b6774%20%3D%20L.popup%28%7BmaxWidth%3A%20%27100%25%27%0A%20%20%20%20%20%20%20%20%20%20%20%20%0A%20%20%20%20%20%20%20%20%20%20%20%20%7D%29%3B%0A%0A%20%20%20%20%20%20%20%20%20%20%20%20%0A%20%20%20%20%20%20%20%20%20%20%20%20%20%20%20%20var%20html_53a7738ead6a494e952ef811c8fc9d88%20%3D%20%24%28%60%3Cdiv%20id%3D%22html_53a7738ead6a494e952ef811c8fc9d88%22%20style%3D%22width%3A%20100.0%25%3B%20height%3A%20100.0%25%3B%22%3E%20%20%20%20%20%20%20%20%20%3Cul%3E%20%20%20%20%20%20%20%20%20%20%20%20%20%3Cli%3E%3Cstrong%3EID%3A%20%3C/strong%3E2673%3C/li%3E%20%20%20%20%20%20%20%20%20%20%20%20%20%3Cli%3E%3Cstrong%3ESource%3A%20%3C/strong%3EHenderson%20P%26C%20%2366%3C/li%3E%20%20%20%20%20%20%20%20%20%20%20%20%20%3Cli%3E%3Cstrong%3EName%3A%20%3C/strong%3Eser%20%20Lorenzo%20di%20Francesco%20Lorenzi%3C/li%3E%20%20%20%20%20%20%20%20%20%3Cul%3E%20%20%20%20%20%3C/div%3E%60%29%5B0%5D%3B%0A%20%20%20%20%20%20%20%20%20%20%20%20%20%20%20%20popup_c6d0db39c57c4cdaa7b37a90859b6774.setContent%28html_53a7738ead6a494e952ef811c8fc9d88%29%3B%0A%20%20%20%20%20%20%20%20%20%20%20%20%0A%0A%20%20%20%20%20%20%20%20%20%20%20%20marker_21cd35bc0b5b4560b5c0eca3d9ccf43a.bindPopup%28popup_c6d0db39c57c4cdaa7b37a90859b6774%29%0A%20%20%20%20%20%20%20%20%20%20%20%20%3B%0A%0A%20%20%20%20%20%20%20%20%20%20%20%20%0A%20%20%20%20%20%20%20%20%0A%20%20%20%20%0A%20%20%20%20%20%20%20%20var%20marker_3c87132e819a4bac9489d5314a1ce2df%20%3D%20L.marker%28%0A%20%20%20%20%20%20%20%20%20%20%20%20%5B43.77034154%2C%2011.24215077%5D%2C%0A%20%20%20%20%20%20%20%20%20%20%20%20%7B%0A%20%20%20%20%20%20%20%20%20%20%20%20%20%20%20%20icon%3A%20new%20L.Icon.Default%28%29%2C%0A%20%20%20%20%20%20%20%20%20%20%20%20%20%20%20%20%7D%0A%20%20%20%20%20%20%20%20%20%20%20%20%29.addTo%28map_146cd8147123498484976a07e362f27f%29%3B%0A%20%20%20%20%20%20%20%20%0A%20%20%20%20%0A%20%20%20%20%20%20%20%20%20%20%20%20var%20popup_f827b75c393148f78e2e0369c8201b07%20%3D%20L.popup%28%7BmaxWidth%3A%20%27100%25%27%0A%20%20%20%20%20%20%20%20%20%20%20%20%0A%20%20%20%20%20%20%20%20%20%20%20%20%7D%29%3B%0A%0A%20%20%20%20%20%20%20%20%20%20%20%20%0A%20%20%20%20%20%20%20%20%20%20%20%20%20%20%20%20var%20html_fda87bd42e91477cb1f9578b32f98fc1%20%3D%20%24%28%60%3Cdiv%20id%3D%22html_fda87bd42e91477cb1f9578b32f98fc1%22%20style%3D%22width%3A%20100.0%25%3B%20height%3A%20100.0%25%3B%22%3E%20%20%20%20%20%20%20%20%20%3Cul%3E%20%20%20%20%20%20%20%20%20%20%20%20%20%3Cli%3E%3Cstrong%3EID%3A%20%3C/strong%3E8024%3C/li%3E%20%20%20%20%20%20%20%20%20%20%20%20%20%3Cli%3E%3Cstrong%3ESource%3A%20%3C/strong%3EHenderson%20P%26C%20%2366%3C/li%3E%20%20%20%20%20%20%20%20%20%20%20%20%20%3Cli%3E%3Cstrong%3EName%3A%20%3C/strong%3EBatista%20di%20Francesco%20funaiuolo%3C/li%3E%20%20%20%20%20%20%20%20%20%3Cul%3E%20%20%20%20%20%3C/div%3E%60%29%5B0%5D%3B%0A%20%20%20%20%20%20%20%20%20%20%20%20%20%20%20%20popup_f827b75c393148f78e2e0369c8201b07.setContent%28html_fda87bd42e91477cb1f9578b32f98fc1%29%3B%0A%20%20%20%20%20%20%20%20%20%20%20%20%0A%0A%20%20%20%20%20%20%20%20%20%20%20%20marker_3c87132e819a4bac9489d5314a1ce2df.bindPopup%28popup_f827b75c393148f78e2e0369c8201b07%29%0A%20%20%20%20%20%20%20%20%20%20%20%20%3B%0A%0A%20%20%20%20%20%20%20%20%20%20%20%20%0A%20%20%20%20%20%20%20%20%0A%20%20%20%20%0A%20%20%20%20%20%20%20%20var%20marker_1aec1b5e54094b3c91daa2c3c9d001a7%20%3D%20L.marker%28%0A%20%20%20%20%20%20%20%20%20%20%20%20%5B43.77198%2C%2011.252595%5D%2C%0A%20%20%20%20%20%20%20%20%20%20%20%20%7B%0A%20%20%20%20%20%20%20%20%20%20%20%20%20%20%20%20icon%3A%20new%20L.Icon.Default%28%29%2C%0A%20%20%20%20%20%20%20%20%20%20%20%20%20%20%20%20%7D%0A%20%20%20%20%20%20%20%20%20%20%20%20%29.addTo%28map_146cd8147123498484976a07e362f27f%29%3B%0A%20%20%20%20%20%20%20%20%0A%20%20%20%20%0A%20%20%20%20%20%20%20%20%20%20%20%20var%20popup_ca4f20055dbf44c8a03f8d8e9233d096%20%3D%20L.popup%28%7BmaxWidth%3A%20%27100%25%27%0A%20%20%20%20%20%20%20%20%20%20%20%20%0A%20%20%20%20%20%20%20%20%20%20%20%20%7D%29%3B%0A%0A%20%20%20%20%20%20%20%20%20%20%20%20%0A%20%20%20%20%20%20%20%20%20%20%20%20%20%20%20%20var%20html_c82f8a5be1cf40baab6c30e1a87d9448%20%3D%20%24%28%60%3Cdiv%20id%3D%22html_c82f8a5be1cf40baab6c30e1a87d9448%22%20style%3D%22width%3A%20100.0%25%3B%20height%3A%20100.0%25%3B%22%3E%20%20%20%20%20%20%20%20%20%3Cul%3E%20%20%20%20%20%20%20%20%20%20%20%20%20%3Cli%3E%3Cstrong%3EID%3A%20%3C/strong%3E6233%3C/li%3E%20%20%20%20%20%20%20%20%20%20%20%20%20%3Cli%3E%3Cstrong%3ESource%3A%20%3C/strong%3EHenderson%20P%26C%20%2366%3C/li%3E%20%20%20%20%20%20%20%20%20%20%20%20%20%3Cli%3E%3Cstrong%3EName%3A%20%3C/strong%3EGirolamo%20di%20Bartolomeo%2C%20fornaio%3C/li%3E%20%20%20%20%20%20%20%20%20%3Cul%3E%20%20%20%20%20%3C/div%3E%60%29%5B0%5D%3B%0A%20%20%20%20%20%20%20%20%20%20%20%20%20%20%20%20popup_ca4f20055dbf44c8a03f8d8e9233d096.setContent%28html_c82f8a5be1cf40baab6c30e1a87d9448%29%3B%0A%20%20%20%20%20%20%20%20%20%20%20%20%0A%0A%20%20%20%20%20%20%20%20%20%20%20%20marker_1aec1b5e54094b3c91daa2c3c9d001a7.bindPopup%28popup_ca4f20055dbf44c8a03f8d8e9233d096%29%0A%20%20%20%20%20%20%20%20%20%20%20%20%3B%0A%0A%20%20%20%20%20%20%20%20%20%20%20%20%0A%20%20%20%20%20%20%20%20%0A%20%20%20%20%0A%20%20%20%20%20%20%20%20var%20marker_0b93a15728ac491989caea8feca31143%20%3D%20L.marker%28%0A%20%20%20%20%20%20%20%20%20%20%20%20%5B43.77497133%2C%2011.26411667%5D%2C%0A%20%20%20%20%20%20%20%20%20%20%20%20%7B%0A%20%20%20%20%20%20%20%20%20%20%20%20%20%20%20%20icon%3A%20new%20L.Icon.Default%28%29%2C%0A%20%20%20%20%20%20%20%20%20%20%20%20%20%20%20%20%7D%0A%20%20%20%20%20%20%20%20%20%20%20%20%29.addTo%28map_146cd8147123498484976a07e362f27f%29%3B%0A%20%20%20%20%20%20%20%20%0A%20%20%20%20%0A%20%20%20%20%20%20%20%20%20%20%20%20var%20popup_5f5d9cb501d045dcba6ed0a27eda492d%20%3D%20L.popup%28%7BmaxWidth%3A%20%27100%25%27%0A%20%20%20%20%20%20%20%20%20%20%20%20%0A%20%20%20%20%20%20%20%20%20%20%20%20%7D%29%3B%0A%0A%20%20%20%20%20%20%20%20%20%20%20%20%0A%20%20%20%20%20%20%20%20%20%20%20%20%20%20%20%20var%20html_e371640c251c47c1a0b30eefe23ff43f%20%3D%20%24%28%60%3Cdiv%20id%3D%22html_e371640c251c47c1a0b30eefe23ff43f%22%20style%3D%22width%3A%20100.0%25%3B%20height%3A%20100.0%25%3B%22%3E%20%20%20%20%20%20%20%20%20%3Cul%3E%20%20%20%20%20%20%20%20%20%20%20%20%20%3Cli%3E%3Cstrong%3EID%3A%20%3C/strong%3E1588%3C/li%3E%20%20%20%20%20%20%20%20%20%20%20%20%20%3Cli%3E%3Cstrong%3ESource%3A%20%3C/strong%3EHenderson%20P%26C%20%2366%3C/li%3E%20%20%20%20%20%20%20%20%20%20%20%20%20%3Cli%3E%3Cstrong%3EName%3A%20%3C/strong%3EMona%20Piera%2C%20donna%20fu%20di%20Frosino%20Faciulli%3C/li%3E%20%20%20%20%20%20%20%20%20%3Cul%3E%20%20%20%20%20%3C/div%3E%60%29%5B0%5D%3B%0A%20%20%20%20%20%20%20%20%20%20%20%20%20%20%20%20popup_5f5d9cb501d045dcba6ed0a27eda492d.setContent%28html_e371640c251c47c1a0b30eefe23ff43f%29%3B%0A%20%20%20%20%20%20%20%20%20%20%20%20%0A%0A%20%20%20%20%20%20%20%20%20%20%20%20marker_0b93a15728ac491989caea8feca31143.bindPopup%28popup_5f5d9cb501d045dcba6ed0a27eda492d%29%0A%20%20%20%20%20%20%20%20%20%20%20%20%3B%0A%0A%20%20%20%20%20%20%20%20%20%20%20%20%0A%20%20%20%20%20%20%20%20%0A%20%20%20%20%0A%20%20%20%20%20%20%20%20var%20marker_2b178562456042ad822baadd2f7d27b7%20%3D%20L.marker%28%0A%20%20%20%20%20%20%20%20%20%20%20%20%5B43.767332%2C%2011.24068%5D%2C%0A%20%20%20%20%20%20%20%20%20%20%20%20%7B%0A%20%20%20%20%20%20%20%20%20%20%20%20%20%20%20%20icon%3A%20new%20L.Icon.Default%28%29%2C%0A%20%20%20%20%20%20%20%20%20%20%20%20%20%20%20%20%7D%0A%20%20%20%20%20%20%20%20%20%20%20%20%29.addTo%28map_146cd8147123498484976a07e362f27f%29%3B%0A%20%20%20%20%20%20%20%20%0A%20%20%20%20%0A%20%20%20%20%20%20%20%20%20%20%20%20var%20popup_8c577debe9e44b86850c695819e630a8%20%3D%20L.popup%28%7BmaxWidth%3A%20%27100%25%27%0A%20%20%20%20%20%20%20%20%20%20%20%20%0A%20%20%20%20%20%20%20%20%20%20%20%20%7D%29%3B%0A%0A%20%20%20%20%20%20%20%20%20%20%20%20%0A%20%20%20%20%20%20%20%20%20%20%20%20%20%20%20%20var%20html_9313c90f1257494ba322e18df6675c1c%20%3D%20%24%28%60%3Cdiv%20id%3D%22html_9313c90f1257494ba322e18df6675c1c%22%20style%3D%22width%3A%20100.0%25%3B%20height%3A%20100.0%25%3B%22%3E%20%20%20%20%20%20%20%20%20%3Cul%3E%20%20%20%20%20%20%20%20%20%20%20%20%20%3Cli%3E%3Cstrong%3EID%3A%20%3C/strong%3E8038%3C/li%3E%20%20%20%20%20%20%20%20%20%20%20%20%20%3Cli%3E%3Cstrong%3ESource%3A%20%3C/strong%3EHenderson%20P%26C%20%23103%3C/li%3E%20%20%20%20%20%20%20%20%20%20%20%20%20%3Cli%3E%3Cstrong%3EName%3A%20%3C/strong%3EAndrea%20di%20Francesco%20dalla%20Mirandola%3C/li%3E%20%20%20%20%20%20%20%20%20%3Cul%3E%20%20%20%20%20%3C/div%3E%60%29%5B0%5D%3B%0A%20%20%20%20%20%20%20%20%20%20%20%20%20%20%20%20popup_8c577debe9e44b86850c695819e630a8.setContent%28html_9313c90f1257494ba322e18df6675c1c%29%3B%0A%20%20%20%20%20%20%20%20%20%20%20%20%0A%0A%20%20%20%20%20%20%20%20%20%20%20%20marker_2b178562456042ad822baadd2f7d27b7.bindPopup%28popup_8c577debe9e44b86850c695819e630a8%29%0A%20%20%20%20%20%20%20%20%20%20%20%20%3B%0A%0A%20%20%20%20%20%20%20%20%20%20%20%20%0A%20%20%20%20%20%20%20%20%0A%20%20%20%20%0A%20%20%20%20%20%20%20%20var%20marker_42a4e7ca305e4f1c9d42f151aab13b31%20%3D%20L.marker%28%0A%20%20%20%20%20%20%20%20%20%20%20%20%5B43.76856%2C%2011.26649%5D%2C%0A%20%20%20%20%20%20%20%20%20%20%20%20%7B%0A%20%20%20%20%20%20%20%20%20%20%20%20%20%20%20%20icon%3A%20new%20L.Icon.Default%28%29%2C%0A%20%20%20%20%20%20%20%20%20%20%20%20%20%20%20%20%7D%0A%20%20%20%20%20%20%20%20%20%20%20%20%29.addTo%28map_146cd8147123498484976a07e362f27f%29%3B%0A%20%20%20%20%20%20%20%20%0A%20%20%20%20%0A%20%20%20%20%20%20%20%20%20%20%20%20var%20popup_229bc3c2911b4f8e906868d9cc2d5b4c%20%3D%20L.popup%28%7BmaxWidth%3A%20%27100%25%27%0A%20%20%20%20%20%20%20%20%20%20%20%20%0A%20%20%20%20%20%20%20%20%20%20%20%20%7D%29%3B%0A%0A%20%20%20%20%20%20%20%20%20%20%20%20%0A%20%20%20%20%20%20%20%20%20%20%20%20%20%20%20%20var%20html_d5f6029a9f434bdc9af9f30f0f58be70%20%3D%20%24%28%60%3Cdiv%20id%3D%22html_d5f6029a9f434bdc9af9f30f0f58be70%22%20style%3D%22width%3A%20100.0%25%3B%20height%3A%20100.0%25%3B%22%3E%20%20%20%20%20%20%20%20%20%3Cul%3E%20%20%20%20%20%20%20%20%20%20%20%20%20%3Cli%3E%3Cstrong%3EID%3A%20%3C/strong%3E3072%3C/li%3E%20%20%20%20%20%20%20%20%20%20%20%20%20%3Cli%3E%3Cstrong%3ESource%3A%20%3C/strong%3EHenderson%20P%26C%20%23103%3C/li%3E%20%20%20%20%20%20%20%20%20%20%20%20%20%3Cli%3E%3Cstrong%3EName%3A%20%3C/strong%3Enan%3C/li%3E%20%20%20%20%20%20%20%20%20%3Cul%3E%20%20%20%20%20%3C/div%3E%60%29%5B0%5D%3B%0A%20%20%20%20%20%20%20%20%20%20%20%20%20%20%20%20popup_229bc3c2911b4f8e906868d9cc2d5b4c.setContent%28html_d5f6029a9f434bdc9af9f30f0f58be70%29%3B%0A%20%20%20%20%20%20%20%20%20%20%20%20%0A%0A%20%20%20%20%20%20%20%20%20%20%20%20marker_42a4e7ca305e4f1c9d42f151aab13b31.bindPopup%28popup_229bc3c2911b4f8e906868d9cc2d5b4c%29%0A%20%20%20%20%20%20%20%20%20%20%20%20%3B%0A%0A%20%20%20%20%20%20%20%20%20%20%20%20%0A%20%20%20%20%20%20%20%20%0A%20%20%20%20%0A%20%20%20%20%20%20%20%20var%20marker_4e4a510e19bf4f7d97f737fa81541376%20%3D%20L.marker%28%0A%20%20%20%20%20%20%20%20%20%20%20%20%5B43.76807%2C%2011.2658%5D%2C%0A%20%20%20%20%20%20%20%20%20%20%20%20%7B%0A%20%20%20%20%20%20%20%20%20%20%20%20%20%20%20%20icon%3A%20new%20L.Icon.Default%28%29%2C%0A%20%20%20%20%20%20%20%20%20%20%20%20%20%20%20%20%7D%0A%20%20%20%20%20%20%20%20%20%20%20%20%29.addTo%28map_146cd8147123498484976a07e362f27f%29%3B%0A%20%20%20%20%20%20%20%20%0A%20%20%20%20%0A%20%20%20%20%20%20%20%20%20%20%20%20var%20popup_e615300faf97484c89951ed2c6be6768%20%3D%20L.popup%28%7BmaxWidth%3A%20%27100%25%27%0A%20%20%20%20%20%20%20%20%20%20%20%20%0A%20%20%20%20%20%20%20%20%20%20%20%20%7D%29%3B%0A%0A%20%20%20%20%20%20%20%20%20%20%20%20%0A%20%20%20%20%20%20%20%20%20%20%20%20%20%20%20%20var%20html_2372f261ae6d4833af9da03d8699cd35%20%3D%20%24%28%60%3Cdiv%20id%3D%22html_2372f261ae6d4833af9da03d8699cd35%22%20style%3D%22width%3A%20100.0%25%3B%20height%3A%20100.0%25%3B%22%3E%20%20%20%20%20%20%20%20%20%3Cul%3E%20%20%20%20%20%20%20%20%20%20%20%20%20%3Cli%3E%3Cstrong%3EID%3A%20%3C/strong%3E3203%3C/li%3E%20%20%20%20%20%20%20%20%20%20%20%20%20%3Cli%3E%3Cstrong%3ESource%3A%20%3C/strong%3EHenderson%20P%26C%20%23103%3C/li%3E%20%20%20%20%20%20%20%20%20%20%20%20%20%3Cli%3E%3Cstrong%3EName%3A%20%3C/strong%3Enan%3C/li%3E%20%20%20%20%20%20%20%20%20%3Cul%3E%20%20%20%20%20%3C/div%3E%60%29%5B0%5D%3B%0A%20%20%20%20%20%20%20%20%20%20%20%20%20%20%20%20popup_e615300faf97484c89951ed2c6be6768.setContent%28html_2372f261ae6d4833af9da03d8699cd35%29%3B%0A%20%20%20%20%20%20%20%20%20%20%20%20%0A%0A%20%20%20%20%20%20%20%20%20%20%20%20marker_4e4a510e19bf4f7d97f737fa81541376.bindPopup%28popup_e615300faf97484c89951ed2c6be6768%29%0A%20%20%20%20%20%20%20%20%20%20%20%20%3B%0A%0A%20%20%20%20%20%20%20%20%20%20%20%20%0A%20%20%20%20%20%20%20%20%0A%20%20%20%20%0A%20%20%20%20%20%20%20%20var%20marker_d6cecb8be773466c860e3399d32e172a%20%3D%20L.marker%28%0A%20%20%20%20%20%20%20%20%20%20%20%20%5B43.772771%2C%2011.253926%5D%2C%0A%20%20%20%20%20%20%20%20%20%20%20%20%7B%0A%20%20%20%20%20%20%20%20%20%20%20%20%20%20%20%20icon%3A%20new%20L.Icon.Default%28%29%2C%0A%20%20%20%20%20%20%20%20%20%20%20%20%20%20%20%20%7D%0A%20%20%20%20%20%20%20%20%20%20%20%20%29.addTo%28map_146cd8147123498484976a07e362f27f%29%3B%0A%20%20%20%20%20%20%20%20%0A%20%20%20%20%0A%20%20%20%20%20%20%20%20%20%20%20%20var%20popup_738375e8e8f9484ba3faefa53ec0ee8b%20%3D%20L.popup%28%7BmaxWidth%3A%20%27100%25%27%0A%20%20%20%20%20%20%20%20%20%20%20%20%0A%20%20%20%20%20%20%20%20%20%20%20%20%7D%29%3B%0A%0A%20%20%20%20%20%20%20%20%20%20%20%20%0A%20%20%20%20%20%20%20%20%20%20%20%20%20%20%20%20var%20html_ffa1d23fc0434b67bd23b4144c2574ac%20%3D%20%24%28%60%3Cdiv%20id%3D%22html_ffa1d23fc0434b67bd23b4144c2574ac%22%20style%3D%22width%3A%20100.0%25%3B%20height%3A%20100.0%25%3B%22%3E%20%20%20%20%20%20%20%20%20%3Cul%3E%20%20%20%20%20%20%20%20%20%20%20%20%20%3Cli%3E%3Cstrong%3EID%3A%20%3C/strong%3E1612%3C/li%3E%20%20%20%20%20%20%20%20%20%20%20%20%20%3Cli%3E%3Cstrong%3ESource%3A%20%3C/strong%3EHenderson%20P%26C%20%23103%3C/li%3E%20%20%20%20%20%20%20%20%20%20%20%20%20%3Cli%3E%3Cstrong%3EName%3A%20%3C/strong%3EBernardo%20di%20Salvestro%2C%20rigattiere%3C/li%3E%20%20%20%20%20%20%20%20%20%3Cul%3E%20%20%20%20%20%3C/div%3E%60%29%5B0%5D%3B%0A%20%20%20%20%20%20%20%20%20%20%20%20%20%20%20%20popup_738375e8e8f9484ba3faefa53ec0ee8b.setContent%28html_ffa1d23fc0434b67bd23b4144c2574ac%29%3B%0A%20%20%20%20%20%20%20%20%20%20%20%20%0A%0A%20%20%20%20%20%20%20%20%20%20%20%20marker_d6cecb8be773466c860e3399d32e172a.bindPopup%28popup_738375e8e8f9484ba3faefa53ec0ee8b%29%0A%20%20%20%20%20%20%20%20%20%20%20%20%3B%0A%0A%20%20%20%20%20%20%20%20%20%20%20%20%0A%20%20%20%20%20%20%20%20%0A%20%20%20%20%0A%20%20%20%20%20%20%20%20var%20marker_169be7df8c714e4dbb7aa1bd1d4d7cfb%20%3D%20L.marker%28%0A%20%20%20%20%20%20%20%20%20%20%20%20%5B43.76871188%2C%2011.24295313%5D%2C%0A%20%20%20%20%20%20%20%20%20%20%20%20%7B%0A%20%20%20%20%20%20%20%20%20%20%20%20%20%20%20%20icon%3A%20new%20L.Icon.Default%28%29%2C%0A%20%20%20%20%20%20%20%20%20%20%20%20%20%20%20%20%7D%0A%20%20%20%20%20%20%20%20%20%20%20%20%29.addTo%28map_146cd8147123498484976a07e362f27f%29%3B%0A%20%20%20%20%20%20%20%20%0A%20%20%20%20%0A%20%20%20%20%20%20%20%20%20%20%20%20var%20popup_869348c46fbd40e2a98531ad28f7b13e%20%3D%20L.popup%28%7BmaxWidth%3A%20%27100%25%27%0A%20%20%20%20%20%20%20%20%20%20%20%20%0A%20%20%20%20%20%20%20%20%20%20%20%20%7D%29%3B%0A%0A%20%20%20%20%20%20%20%20%20%20%20%20%0A%20%20%20%20%20%20%20%20%20%20%20%20%20%20%20%20var%20html_a9960d1f15344c7bbdabb38e22171b3c%20%3D%20%24%28%60%3Cdiv%20id%3D%22html_a9960d1f15344c7bbdabb38e22171b3c%22%20style%3D%22width%3A%20100.0%25%3B%20height%3A%20100.0%25%3B%22%3E%20%20%20%20%20%20%20%20%20%3Cul%3E%20%20%20%20%20%20%20%20%20%20%20%20%20%3Cli%3E%3Cstrong%3EID%3A%20%3C/strong%3E8432%3C/li%3E%20%20%20%20%20%20%20%20%20%20%20%20%20%3Cli%3E%3Cstrong%3ESource%3A%20%3C/strong%3EHenderson%20P%26C%20%23103%3C/li%3E%20%20%20%20%20%20%20%20%20%20%20%20%20%3Cli%3E%3Cstrong%3EName%3A%20%3C/strong%3EGuglielmo%20di%20Gherardo%20merciaio%3C/li%3E%20%20%20%20%20%20%20%20%20%3Cul%3E%20%20%20%20%20%3C/div%3E%60%29%5B0%5D%3B%0A%20%20%20%20%20%20%20%20%20%20%20%20%20%20%20%20popup_869348c46fbd40e2a98531ad28f7b13e.setContent%28html_a9960d1f15344c7bbdabb38e22171b3c%29%3B%0A%20%20%20%20%20%20%20%20%20%20%20%20%0A%0A%20%20%20%20%20%20%20%20%20%20%20%20marker_169be7df8c714e4dbb7aa1bd1d4d7cfb.bindPopup%28popup_869348c46fbd40e2a98531ad28f7b13e%29%0A%20%20%20%20%20%20%20%20%20%20%20%20%3B%0A%0A%20%20%20%20%20%20%20%20%20%20%20%20%0A%20%20%20%20%20%20%20%20%0A%20%20%20%20%0A%20%20%20%20%20%20%20%20var%20marker_e103bc1d8f084f438eaf03090ead1290%20%3D%20L.marker%28%0A%20%20%20%20%20%20%20%20%20%20%20%20%5B43.780074%2C%2011.258457%5D%2C%0A%20%20%20%20%20%20%20%20%20%20%20%20%7B%0A%20%20%20%20%20%20%20%20%20%20%20%20%20%20%20%20icon%3A%20new%20L.Icon.Default%28%29%2C%0A%20%20%20%20%20%20%20%20%20%20%20%20%20%20%20%20%7D%0A%20%20%20%20%20%20%20%20%20%20%20%20%29.addTo%28map_146cd8147123498484976a07e362f27f%29%3B%0A%20%20%20%20%20%20%20%20%0A%20%20%20%20%0A%20%20%20%20%20%20%20%20%20%20%20%20var%20popup_4dc2e704832a40f7b15c5da0edb8e451%20%3D%20L.popup%28%7BmaxWidth%3A%20%27100%25%27%0A%20%20%20%20%20%20%20%20%20%20%20%20%0A%20%20%20%20%20%20%20%20%20%20%20%20%7D%29%3B%0A%0A%20%20%20%20%20%20%20%20%20%20%20%20%0A%20%20%20%20%20%20%20%20%20%20%20%20%20%20%20%20var%20html_366f3bbaf75b406cb31bca801959e603%20%3D%20%24%28%60%3Cdiv%20id%3D%22html_366f3bbaf75b406cb31bca801959e603%22%20style%3D%22width%3A%20100.0%25%3B%20height%3A%20100.0%25%3B%22%3E%20%20%20%20%20%20%20%20%20%3Cul%3E%20%20%20%20%20%20%20%20%20%20%20%20%20%3Cli%3E%3Cstrong%3EID%3A%20%3C/strong%3E68%3C/li%3E%20%20%20%20%20%20%20%20%20%20%20%20%20%3Cli%3E%3Cstrong%3ESource%3A%20%3C/strong%3EHenderson%20P%26C%20%2387%20%5Bfemale%20tenants%3B%20see%20location%5D%3C/li%3E%20%20%20%20%20%20%20%20%20%20%20%20%20%3Cli%3E%3Cstrong%3EName%3A%20%3C/strong%3EMona%20Lisabetta%2C%20moglie%20gia%20di%20Benedetto%2C%20detto%20il%20Pecchia%3C/li%3E%20%20%20%20%20%20%20%20%20%3Cul%3E%20%20%20%20%20%3C/div%3E%60%29%5B0%5D%3B%0A%20%20%20%20%20%20%20%20%20%20%20%20%20%20%20%20popup_4dc2e704832a40f7b15c5da0edb8e451.setContent%28html_366f3bbaf75b406cb31bca801959e603%29%3B%0A%20%20%20%20%20%20%20%20%20%20%20%20%0A%0A%20%20%20%20%20%20%20%20%20%20%20%20marker_e103bc1d8f084f438eaf03090ead1290.bindPopup%28popup_4dc2e704832a40f7b15c5da0edb8e451%29%0A%20%20%20%20%20%20%20%20%20%20%20%20%3B%0A%0A%20%20%20%20%20%20%20%20%20%20%20%20%0A%20%20%20%20%20%20%20%20%0A%20%20%20%20%0A%20%20%20%20%20%20%20%20var%20marker_206a5911fa3c40ac9b2c97ddb4cc9f37%20%3D%20L.marker%28%0A%20%20%20%20%20%20%20%20%20%20%20%20%5B43.78001%2C%2011.258343%5D%2C%0A%20%20%20%20%20%20%20%20%20%20%20%20%7B%0A%20%20%20%20%20%20%20%20%20%20%20%20%20%20%20%20icon%3A%20new%20L.Icon.Default%28%29%2C%0A%20%20%20%20%20%20%20%20%20%20%20%20%20%20%20%20%7D%0A%20%20%20%20%20%20%20%20%20%20%20%20%29.addTo%28map_146cd8147123498484976a07e362f27f%29%3B%0A%20%20%20%20%20%20%20%20%0A%20%20%20%20%0A%20%20%20%20%20%20%20%20%20%20%20%20var%20popup_a039caa23d9141d8853ddc76f5abd018%20%3D%20L.popup%28%7BmaxWidth%3A%20%27100%25%27%0A%20%20%20%20%20%20%20%20%20%20%20%20%0A%20%20%20%20%20%20%20%20%20%20%20%20%7D%29%3B%0A%0A%20%20%20%20%20%20%20%20%20%20%20%20%0A%20%20%20%20%20%20%20%20%20%20%20%20%20%20%20%20var%20html_9911d11fbeb54385b69a6cfd170b01b5%20%3D%20%24%28%60%3Cdiv%20id%3D%22html_9911d11fbeb54385b69a6cfd170b01b5%22%20style%3D%22width%3A%20100.0%25%3B%20height%3A%20100.0%25%3B%22%3E%20%20%20%20%20%20%20%20%20%3Cul%3E%20%20%20%20%20%20%20%20%20%20%20%20%20%3Cli%3E%3Cstrong%3EID%3A%20%3C/strong%3E248%3C/li%3E%20%20%20%20%20%20%20%20%20%20%20%20%20%3Cli%3E%3Cstrong%3ESource%3A%20%3C/strong%3EHenderson%20P%26C%20%2387%3C/li%3E%20%20%20%20%20%20%20%20%20%20%20%20%20%3Cli%3E%3Cstrong%3EName%3A%20%3C/strong%3EMona%20Agnoletta%20di%20Fede%3C/li%3E%20%20%20%20%20%20%20%20%20%3Cul%3E%20%20%20%20%20%3C/div%3E%60%29%5B0%5D%3B%0A%20%20%20%20%20%20%20%20%20%20%20%20%20%20%20%20popup_a039caa23d9141d8853ddc76f5abd018.setContent%28html_9911d11fbeb54385b69a6cfd170b01b5%29%3B%0A%20%20%20%20%20%20%20%20%20%20%20%20%0A%0A%20%20%20%20%20%20%20%20%20%20%20%20marker_206a5911fa3c40ac9b2c97ddb4cc9f37.bindPopup%28popup_a039caa23d9141d8853ddc76f5abd018%29%0A%20%20%20%20%20%20%20%20%20%20%20%20%3B%0A%0A%20%20%20%20%20%20%20%20%20%20%20%20%0A%20%20%20%20%20%20%20%20%0A%20%20%20%20%0A%20%20%20%20%20%20%20%20var%20marker_c3e97d43588a46aa8db5c0a70676832d%20%3D%20L.marker%28%0A%20%20%20%20%20%20%20%20%20%20%20%20%5B43.78006019%2C%2011.25829352%5D%2C%0A%20%20%20%20%20%20%20%20%20%20%20%20%7B%0A%20%20%20%20%20%20%20%20%20%20%20%20%20%20%20%20icon%3A%20new%20L.Icon.Default%28%29%2C%0A%20%20%20%20%20%20%20%20%20%20%20%20%20%20%20%20%7D%0A%20%20%20%20%20%20%20%20%20%20%20%20%29.addTo%28map_146cd8147123498484976a07e362f27f%29%3B%0A%20%20%20%20%20%20%20%20%0A%20%20%20%20%0A%20%20%20%20%20%20%20%20%20%20%20%20var%20popup_2956a5ae60264674b8ea21375ae97461%20%3D%20L.popup%28%7BmaxWidth%3A%20%27100%25%27%0A%20%20%20%20%20%20%20%20%20%20%20%20%0A%20%20%20%20%20%20%20%20%20%20%20%20%7D%29%3B%0A%0A%20%20%20%20%20%20%20%20%20%20%20%20%0A%20%20%20%20%20%20%20%20%20%20%20%20%20%20%20%20var%20html_e9b170b1a35f4c3e854163b8ee43786b%20%3D%20%24%28%60%3Cdiv%20id%3D%22html_e9b170b1a35f4c3e854163b8ee43786b%22%20style%3D%22width%3A%20100.0%25%3B%20height%3A%20100.0%25%3B%22%3E%20%20%20%20%20%20%20%20%20%3Cul%3E%20%20%20%20%20%20%20%20%20%20%20%20%20%3Cli%3E%3Cstrong%3EID%3A%20%3C/strong%3E717%3C/li%3E%20%20%20%20%20%20%20%20%20%20%20%20%20%3Cli%3E%3Cstrong%3ESource%3A%20%3C/strong%3EHenderson%20P%26C%20%2387%3C/li%3E%20%20%20%20%20%20%20%20%20%20%20%20%20%3Cli%3E%3Cstrong%3EName%3A%20%3C/strong%3EMona%20Catarina%2C%20moglie%20gia%20di%20ser%20Giovanni%20Simoni%3C/li%3E%20%20%20%20%20%20%20%20%20%3Cul%3E%20%20%20%20%20%3C/div%3E%60%29%5B0%5D%3B%0A%20%20%20%20%20%20%20%20%20%20%20%20%20%20%20%20popup_2956a5ae60264674b8ea21375ae97461.setContent%28html_e9b170b1a35f4c3e854163b8ee43786b%29%3B%0A%20%20%20%20%20%20%20%20%20%20%20%20%0A%0A%20%20%20%20%20%20%20%20%20%20%20%20marker_c3e97d43588a46aa8db5c0a70676832d.bindPopup%28popup_2956a5ae60264674b8ea21375ae97461%29%0A%20%20%20%20%20%20%20%20%20%20%20%20%3B%0A%0A%20%20%20%20%20%20%20%20%20%20%20%20%0A%20%20%20%20%20%20%20%20%0A%20%20%20%20%0A%20%20%20%20%20%20%20%20var%20marker_a7e979e6b7c24e7b8977bc0d6efd8b4d%20%3D%20L.marker%28%0A%20%20%20%20%20%20%20%20%20%20%20%20%5B43.775658%2C%2011.25233071%5D%2C%0A%20%20%20%20%20%20%20%20%20%20%20%20%7B%0A%20%20%20%20%20%20%20%20%20%20%20%20%20%20%20%20icon%3A%20new%20L.Icon.Default%28%29%2C%0A%20%20%20%20%20%20%20%20%20%20%20%20%20%20%20%20%7D%0A%20%20%20%20%20%20%20%20%20%20%20%20%29.addTo%28map_146cd8147123498484976a07e362f27f%29%3B%0A%20%20%20%20%20%20%20%20%0A%20%20%20%20%0A%20%20%20%20%20%20%20%20%20%20%20%20var%20popup_3f2d5942baa743919d95a56c18351b7e%20%3D%20L.popup%28%7BmaxWidth%3A%20%27100%25%27%0A%20%20%20%20%20%20%20%20%20%20%20%20%0A%20%20%20%20%20%20%20%20%20%20%20%20%7D%29%3B%0A%0A%20%20%20%20%20%20%20%20%20%20%20%20%0A%20%20%20%20%20%20%20%20%20%20%20%20%20%20%20%20var%20html_de22ad910806487bb310f7568d027e74%20%3D%20%24%28%60%3Cdiv%20id%3D%22html_de22ad910806487bb310f7568d027e74%22%20style%3D%22width%3A%20100.0%25%3B%20height%3A%20100.0%25%3B%22%3E%20%20%20%20%20%20%20%20%20%3Cul%3E%20%20%20%20%20%20%20%20%20%20%20%20%20%3Cli%3E%3Cstrong%3EID%3A%20%3C/strong%3E245%3C/li%3E%20%20%20%20%20%20%20%20%20%20%20%20%20%3Cli%3E%3Cstrong%3ESource%3A%20%3C/strong%3EHenderson%20P%26C%20104%20%5Bvia%20S%20Jacopo%20in%20Campo%20Corbelino%5D%3C/li%3E%20%20%20%20%20%20%20%20%20%20%20%20%20%3Cli%3E%3Cstrong%3EName%3A%20%3C/strong%3EGirolamo%20di%20Domenico%20da%20Mantova%3C/li%3E%20%20%20%20%20%20%20%20%20%3Cul%3E%20%20%20%20%20%3C/div%3E%60%29%5B0%5D%3B%0A%20%20%20%20%20%20%20%20%20%20%20%20%20%20%20%20popup_3f2d5942baa743919d95a56c18351b7e.setContent%28html_de22ad910806487bb310f7568d027e74%29%3B%0A%20%20%20%20%20%20%20%20%20%20%20%20%0A%0A%20%20%20%20%20%20%20%20%20%20%20%20marker_a7e979e6b7c24e7b8977bc0d6efd8b4d.bindPopup%28popup_3f2d5942baa743919d95a56c18351b7e%29%0A%20%20%20%20%20%20%20%20%20%20%20%20%3B%0A%0A%20%20%20%20%20%20%20%20%20%20%20%20%0A%20%20%20%20%20%20%20%20%0A%20%20%20%20%0A%20%20%20%20%20%20%20%20var%20marker_1f87a160494045c2a39a5f8cc62ac71a%20%3D%20L.marker%28%0A%20%20%20%20%20%20%20%20%20%20%20%20%5B43.76999571%2C%2011.26450286%5D%2C%0A%20%20%20%20%20%20%20%20%20%20%20%20%7B%0A%20%20%20%20%20%20%20%20%20%20%20%20%20%20%20%20icon%3A%20new%20L.Icon.Default%28%29%2C%0A%20%20%20%20%20%20%20%20%20%20%20%20%20%20%20%20%7D%0A%20%20%20%20%20%20%20%20%20%20%20%20%29.addTo%28map_146cd8147123498484976a07e362f27f%29%3B%0A%20%20%20%20%20%20%20%20%0A%20%20%20%20%0A%20%20%20%20%20%20%20%20%20%20%20%20var%20popup_dbf98b4588ea43ec840c2b53ac799ab2%20%3D%20L.popup%28%7BmaxWidth%3A%20%27100%25%27%0A%20%20%20%20%20%20%20%20%20%20%20%20%0A%20%20%20%20%20%20%20%20%20%20%20%20%7D%29%3B%0A%0A%20%20%20%20%20%20%20%20%20%20%20%20%0A%20%20%20%20%20%20%20%20%20%20%20%20%20%20%20%20var%20html_3df14b6f93254d7e879e29e88521ab58%20%3D%20%24%28%60%3Cdiv%20id%3D%22html_3df14b6f93254d7e879e29e88521ab58%22%20style%3D%22width%3A%20100.0%25%3B%20height%3A%20100.0%25%3B%22%3E%20%20%20%20%20%20%20%20%20%3Cul%3E%20%20%20%20%20%20%20%20%20%20%20%20%20%3Cli%3E%3Cstrong%3EID%3A%20%3C/strong%3E3291%3C/li%3E%20%20%20%20%20%20%20%20%20%20%20%20%20%3Cli%3E%3Cstrong%3ESource%3A%20%3C/strong%3EHenderson%20P%26C%20%23113%20%5Baddress%5D%3C/li%3E%20%20%20%20%20%20%20%20%20%20%20%20%20%3Cli%3E%3Cstrong%3EName%3A%20%3C/strong%3EMona%20Gentile%2C%20donna%20gia%20di%20Francesco%20da%20Gobbio%3C/li%3E%20%20%20%20%20%20%20%20%20%3Cul%3E%20%20%20%20%20%3C/div%3E%60%29%5B0%5D%3B%0A%20%20%20%20%20%20%20%20%20%20%20%20%20%20%20%20popup_dbf98b4588ea43ec840c2b53ac799ab2.setContent%28html_3df14b6f93254d7e879e29e88521ab58%29%3B%0A%20%20%20%20%20%20%20%20%20%20%20%20%0A%0A%20%20%20%20%20%20%20%20%20%20%20%20marker_1f87a160494045c2a39a5f8cc62ac71a.bindPopup%28popup_dbf98b4588ea43ec840c2b53ac799ab2%29%0A%20%20%20%20%20%20%20%20%20%20%20%20%3B%0A%0A%20%20%20%20%20%20%20%20%20%20%20%20%0A%20%20%20%20%20%20%20%20%0A%20%20%20%20%0A%20%20%20%20%20%20%20%20var%20marker_76ddf25bae134f01972d1b0ab3f13225%20%3D%20L.marker%28%0A%20%20%20%20%20%20%20%20%20%20%20%20%5B43.777678%2C%2011.25840717%5D%2C%0A%20%20%20%20%20%20%20%20%20%20%20%20%7B%0A%20%20%20%20%20%20%20%20%20%20%20%20%20%20%20%20icon%3A%20new%20L.Icon.Default%28%29%2C%0A%20%20%20%20%20%20%20%20%20%20%20%20%20%20%20%20%7D%0A%20%20%20%20%20%20%20%20%20%20%20%20%29.addTo%28map_146cd8147123498484976a07e362f27f%29%3B%0A%20%20%20%20%20%20%20%20%0A%20%20%20%20%0A%20%20%20%20%20%20%20%20%20%20%20%20var%20popup_b96be3f3e78c4e668959243ec98838e1%20%3D%20L.popup%28%7BmaxWidth%3A%20%27100%25%27%0A%20%20%20%20%20%20%20%20%20%20%20%20%0A%20%20%20%20%20%20%20%20%20%20%20%20%7D%29%3B%0A%0A%20%20%20%20%20%20%20%20%20%20%20%20%0A%20%20%20%20%20%20%20%20%20%20%20%20%20%20%20%20var%20html_ca8f42967a5b4e238ac61f31031caf88%20%3D%20%24%28%60%3Cdiv%20id%3D%22html_ca8f42967a5b4e238ac61f31031caf88%22%20style%3D%22width%3A%20100.0%25%3B%20height%3A%20100.0%25%3B%22%3E%20%20%20%20%20%20%20%20%20%3Cul%3E%20%20%20%20%20%20%20%20%20%20%20%20%20%3Cli%3E%3Cstrong%3EID%3A%20%3C/strong%3E1429%3C/li%3E%20%20%20%20%20%20%20%20%20%20%20%20%20%3Cli%3E%3Cstrong%3ESource%3A%20%3C/strong%3EHenderson%20P%26C%20%23113%20%5Baddress%5D%3C/li%3E%20%20%20%20%20%20%20%20%20%20%20%20%20%3Cli%3E%3Cstrong%3EName%3A%20%3C/strong%3ERaffaello%20di%20Pellegrino%20Bartoli%3C/li%3E%20%20%20%20%20%20%20%20%20%3Cul%3E%20%20%20%20%20%3C/div%3E%60%29%5B0%5D%3B%0A%20%20%20%20%20%20%20%20%20%20%20%20%20%20%20%20popup_b96be3f3e78c4e668959243ec98838e1.setContent%28html_ca8f42967a5b4e238ac61f31031caf88%29%3B%0A%20%20%20%20%20%20%20%20%20%20%20%20%0A%0A%20%20%20%20%20%20%20%20%20%20%20%20marker_76ddf25bae134f01972d1b0ab3f13225.bindPopup%28popup_b96be3f3e78c4e668959243ec98838e1%29%0A%20%20%20%20%20%20%20%20%20%20%20%20%3B%0A%0A%20%20%20%20%20%20%20%20%20%20%20%20%0A%20%20%20%20%20%20%20%20%0A%20%20%20%20%0A%20%20%20%20%20%20%20%20var%20marker_1d3f5ef7a64448669468dee5a2c21040%20%3D%20L.marker%28%0A%20%20%20%20%20%20%20%20%20%20%20%20%5B43.76985%2C%2011.2661425%5D%2C%0A%20%20%20%20%20%20%20%20%20%20%20%20%7B%0A%20%20%20%20%20%20%20%20%20%20%20%20%20%20%20%20icon%3A%20new%20L.Icon.Default%28%29%2C%0A%20%20%20%20%20%20%20%20%20%20%20%20%20%20%20%20%7D%0A%20%20%20%20%20%20%20%20%20%20%20%20%29.addTo%28map_146cd8147123498484976a07e362f27f%29%3B%0A%20%20%20%20%20%20%20%20%0A%20%20%20%20%0A%20%20%20%20%20%20%20%20%20%20%20%20var%20popup_89e7fac61df94db091fa2382fa5ae5b4%20%3D%20L.popup%28%7BmaxWidth%3A%20%27100%25%27%0A%20%20%20%20%20%20%20%20%20%20%20%20%0A%20%20%20%20%20%20%20%20%20%20%20%20%7D%29%3B%0A%0A%20%20%20%20%20%20%20%20%20%20%20%20%0A%20%20%20%20%20%20%20%20%20%20%20%20%20%20%20%20var%20html_dfd71e2f5c764e329ae745591a25e22d%20%3D%20%24%28%60%3Cdiv%20id%3D%22html_dfd71e2f5c764e329ae745591a25e22d%22%20style%3D%22width%3A%20100.0%25%3B%20height%3A%20100.0%25%3B%22%3E%20%20%20%20%20%20%20%20%20%3Cul%3E%20%20%20%20%20%20%20%20%20%20%20%20%20%3Cli%3E%3Cstrong%3EID%3A%20%3C/strong%3E3025%3C/li%3E%20%20%20%20%20%20%20%20%20%20%20%20%20%3Cli%3E%3Cstrong%3ESource%3A%20%3C/strong%3EHenderson%20P%26C%20%23121%3F%20%20All%205%20these%20contiguous%20-%20by%20modern%20S.%20Ambrogio%20market%20on%20Via%20Visdomini%20where%20there%20was%20a%20ruined%20casolare%3C/li%3E%20%20%20%20%20%20%20%20%20%20%20%20%20%3Cli%3E%3Cstrong%3EName%3A%20%3C/strong%3EMona%20Maria%20Francesca%20di%20Batista%3C/li%3E%20%20%20%20%20%20%20%20%20%3Cul%3E%20%20%20%20%20%3C/div%3E%60%29%5B0%5D%3B%0A%20%20%20%20%20%20%20%20%20%20%20%20%20%20%20%20popup_89e7fac61df94db091fa2382fa5ae5b4.setContent%28html_dfd71e2f5c764e329ae745591a25e22d%29%3B%0A%20%20%20%20%20%20%20%20%20%20%20%20%0A%0A%20%20%20%20%20%20%20%20%20%20%20%20marker_1d3f5ef7a64448669468dee5a2c21040.bindPopup%28popup_89e7fac61df94db091fa2382fa5ae5b4%29%0A%20%20%20%20%20%20%20%20%20%20%20%20%3B%0A%0A%20%20%20%20%20%20%20%20%20%20%20%20%0A%20%20%20%20%20%20%20%20%0A%20%20%20%20%0A%20%20%20%20%20%20%20%20var%20marker_47e032b568c24fb48ee032c0c9f00e2f%20%3D%20L.marker%28%0A%20%20%20%20%20%20%20%20%20%20%20%20%5B43.76976%2C%2011.266095%5D%2C%0A%20%20%20%20%20%20%20%20%20%20%20%20%7B%0A%20%20%20%20%20%20%20%20%20%20%20%20%20%20%20%20icon%3A%20new%20L.Icon.Default%28%29%2C%0A%20%20%20%20%20%20%20%20%20%20%20%20%20%20%20%20%7D%0A%20%20%20%20%20%20%20%20%20%20%20%20%29.addTo%28map_146cd8147123498484976a07e362f27f%29%3B%0A%20%20%20%20%20%20%20%20%0A%20%20%20%20%0A%20%20%20%20%20%20%20%20%20%20%20%20var%20popup_279dee4b5aad468eaae1373e75189f4c%20%3D%20L.popup%28%7BmaxWidth%3A%20%27100%25%27%0A%20%20%20%20%20%20%20%20%20%20%20%20%0A%20%20%20%20%20%20%20%20%20%20%20%20%7D%29%3B%0A%0A%20%20%20%20%20%20%20%20%20%20%20%20%0A%20%20%20%20%20%20%20%20%20%20%20%20%20%20%20%20var%20html_ea6d20b65c9746da891f8d20fa25f576%20%3D%20%24%28%60%3Cdiv%20id%3D%22html_ea6d20b65c9746da891f8d20fa25f576%22%20style%3D%22width%3A%20100.0%25%3B%20height%3A%20100.0%25%3B%22%3E%20%20%20%20%20%20%20%20%20%3Cul%3E%20%20%20%20%20%20%20%20%20%20%20%20%20%3Cli%3E%3Cstrong%3EID%3A%20%3C/strong%3E3044%3C/li%3E%20%20%20%20%20%20%20%20%20%20%20%20%20%3Cli%3E%3Cstrong%3ESource%3A%20%3C/strong%3EHenderson%20P%26C%20%23121%3F%20-%20All%205%20these%20contiguous%20-%20by%20modern%20S.%20Ambrogio%20market%20on%20Via%20Visdomini%20where%20there%20was%20a%20ruined%20casolare%3C/li%3E%20%20%20%20%20%20%20%20%20%20%20%20%20%3Cli%3E%3Cstrong%3EName%3A%20%3C/strong%3EMona%20Lucretia%20di%20Bolognese%3C/li%3E%20%20%20%20%20%20%20%20%20%3Cul%3E%20%20%20%20%20%3C/div%3E%60%29%5B0%5D%3B%0A%20%20%20%20%20%20%20%20%20%20%20%20%20%20%20%20popup_279dee4b5aad468eaae1373e75189f4c.setContent%28html_ea6d20b65c9746da891f8d20fa25f576%29%3B%0A%20%20%20%20%20%20%20%20%20%20%20%20%0A%0A%20%20%20%20%20%20%20%20%20%20%20%20marker_47e032b568c24fb48ee032c0c9f00e2f.bindPopup%28popup_279dee4b5aad468eaae1373e75189f4c%29%0A%20%20%20%20%20%20%20%20%20%20%20%20%3B%0A%0A%20%20%20%20%20%20%20%20%20%20%20%20%0A%20%20%20%20%20%20%20%20%0A%20%20%20%20%0A%20%20%20%20%20%20%20%20var%20marker_de201222dae245448f67ead49c69b936%20%3D%20L.marker%28%0A%20%20%20%20%20%20%20%20%20%20%20%20%5B43.76967%2C%2011.2660475%5D%2C%0A%20%20%20%20%20%20%20%20%20%20%20%20%7B%0A%20%20%20%20%20%20%20%20%20%20%20%20%20%20%20%20icon%3A%20new%20L.Icon.Default%28%29%2C%0A%20%20%20%20%20%20%20%20%20%20%20%20%20%20%20%20%7D%0A%20%20%20%20%20%20%20%20%20%20%20%20%29.addTo%28map_146cd8147123498484976a07e362f27f%29%3B%0A%20%20%20%20%20%20%20%20%0A%20%20%20%20%0A%20%20%20%20%20%20%20%20%20%20%20%20var%20popup_7511774f5a11485e87100c66432be8d7%20%3D%20L.popup%28%7BmaxWidth%3A%20%27100%25%27%0A%20%20%20%20%20%20%20%20%20%20%20%20%0A%20%20%20%20%20%20%20%20%20%20%20%20%7D%29%3B%0A%0A%20%20%20%20%20%20%20%20%20%20%20%20%0A%20%20%20%20%20%20%20%20%20%20%20%20%20%20%20%20var%20html_a7576f5293ed487b94dcdd2b546c5ce5%20%3D%20%24%28%60%3Cdiv%20id%3D%22html_a7576f5293ed487b94dcdd2b546c5ce5%22%20style%3D%22width%3A%20100.0%25%3B%20height%3A%20100.0%25%3B%22%3E%20%20%20%20%20%20%20%20%20%3Cul%3E%20%20%20%20%20%20%20%20%20%20%20%20%20%3Cli%3E%3Cstrong%3EID%3A%20%3C/strong%3E3082%3C/li%3E%20%20%20%20%20%20%20%20%20%20%20%20%20%3Cli%3E%3Cstrong%3ESource%3A%20%3C/strong%3EHenderson%20P%26C%20%23121%3F%20-%20All%205%20these%20contiguous%20-%20by%20modern%20S.%20Ambrogio%20market%20on%20Via%20Visdomini%20where%20there%20was%20a%20ruined%20casolare%3C/li%3E%20%20%20%20%20%20%20%20%20%20%20%20%20%3Cli%3E%3Cstrong%3EName%3A%20%3C/strong%3EMona%20Bridia%20di%20Fiorentino%3C/li%3E%20%20%20%20%20%20%20%20%20%3Cul%3E%20%20%20%20%20%3C/div%3E%60%29%5B0%5D%3B%0A%20%20%20%20%20%20%20%20%20%20%20%20%20%20%20%20popup_7511774f5a11485e87100c66432be8d7.setContent%28html_a7576f5293ed487b94dcdd2b546c5ce5%29%3B%0A%20%20%20%20%20%20%20%20%20%20%20%20%0A%0A%20%20%20%20%20%20%20%20%20%20%20%20marker_de201222dae245448f67ead49c69b936.bindPopup%28popup_7511774f5a11485e87100c66432be8d7%29%0A%20%20%20%20%20%20%20%20%20%20%20%20%3B%0A%0A%20%20%20%20%20%20%20%20%20%20%20%20%0A%20%20%20%20%20%20%20%20%0A%20%20%20%20%0A%20%20%20%20%20%20%20%20var%20marker_8331bde777ad4def85982c224fe9251e%20%3D%20L.marker%28%0A%20%20%20%20%20%20%20%20%20%20%20%20%5B43.76958%2C%2011.266%5D%2C%0A%20%20%20%20%20%20%20%20%20%20%20%20%7B%0A%20%20%20%20%20%20%20%20%20%20%20%20%20%20%20%20icon%3A%20new%20L.Icon.Default%28%29%2C%0A%20%20%20%20%20%20%20%20%20%20%20%20%20%20%20%20%7D%0A%20%20%20%20%20%20%20%20%20%20%20%20%29.addTo%28map_146cd8147123498484976a07e362f27f%29%3B%0A%20%20%20%20%20%20%20%20%0A%20%20%20%20%0A%20%20%20%20%20%20%20%20%20%20%20%20var%20popup_653792479bc649858c75c5123a944c43%20%3D%20L.popup%28%7BmaxWidth%3A%20%27100%25%27%0A%20%20%20%20%20%20%20%20%20%20%20%20%0A%20%20%20%20%20%20%20%20%20%20%20%20%7D%29%3B%0A%0A%20%20%20%20%20%20%20%20%20%20%20%20%0A%20%20%20%20%20%20%20%20%20%20%20%20%20%20%20%20var%20html_73dcb5f8097e46f0864078bd55478fdd%20%3D%20%24%28%60%3Cdiv%20id%3D%22html_73dcb5f8097e46f0864078bd55478fdd%22%20style%3D%22width%3A%20100.0%25%3B%20height%3A%20100.0%25%3B%22%3E%20%20%20%20%20%20%20%20%20%3Cul%3E%20%20%20%20%20%20%20%20%20%20%20%20%20%3Cli%3E%3Cstrong%3EID%3A%20%3C/strong%3E3083%3C/li%3E%20%20%20%20%20%20%20%20%20%20%20%20%20%3Cli%3E%3Cstrong%3ESource%3A%20%3C/strong%3EHenderson%20P%26C%20%23121%3F%20-%20All%205%20these%20contiguous%20-%20by%20modern%20S.%20Ambrogio%20market%20on%20Via%20Visdomini%20where%20there%20was%20a%20ruined%20casolare%3C/li%3E%20%20%20%20%20%20%20%20%20%20%20%20%20%3Cli%3E%3Cstrong%3EName%3A%20%3C/strong%3EBaccino%20di%20messer%20Jacopo%2C%20muratore%3C/li%3E%20%20%20%20%20%20%20%20%20%3Cul%3E%20%20%20%20%20%3C/div%3E%60%29%5B0%5D%3B%0A%20%20%20%20%20%20%20%20%20%20%20%20%20%20%20%20popup_653792479bc649858c75c5123a944c43.setContent%28html_73dcb5f8097e46f0864078bd55478fdd%29%3B%0A%20%20%20%20%20%20%20%20%20%20%20%20%0A%0A%20%20%20%20%20%20%20%20%20%20%20%20marker_8331bde777ad4def85982c224fe9251e.bindPopup%28popup_653792479bc649858c75c5123a944c43%29%0A%20%20%20%20%20%20%20%20%20%20%20%20%3B%0A%0A%20%20%20%20%20%20%20%20%20%20%20%20%0A%20%20%20%20%20%20%20%20%0A%20%20%20%20%0A%20%20%20%20%20%20%20%20var%20marker_c5b6db5014064588af2856f5933d5d5e%20%3D%20L.marker%28%0A%20%20%20%20%20%20%20%20%20%20%20%20%5B43.76994%2C%2011.26619%5D%2C%0A%20%20%20%20%20%20%20%20%20%20%20%20%7B%0A%20%20%20%20%20%20%20%20%20%20%20%20%20%20%20%20icon%3A%20new%20L.Icon.Default%28%29%2C%0A%20%20%20%20%20%20%20%20%20%20%20%20%20%20%20%20%7D%0A%20%20%20%20%20%20%20%20%20%20%20%20%29.addTo%28map_146cd8147123498484976a07e362f27f%29%3B%0A%20%20%20%20%20%20%20%20%0A%20%20%20%20%0A%20%20%20%20%20%20%20%20%20%20%20%20var%20popup_801577ad3f004a2c95ce40c1116afbdd%20%3D%20L.popup%28%7BmaxWidth%3A%20%27100%25%27%0A%20%20%20%20%20%20%20%20%20%20%20%20%0A%20%20%20%20%20%20%20%20%20%20%20%20%7D%29%3B%0A%0A%20%20%20%20%20%20%20%20%20%20%20%20%0A%20%20%20%20%20%20%20%20%20%20%20%20%20%20%20%20var%20html_e02a36843a9e4aaba4ee18d1f8a3afd8%20%3D%20%24%28%60%3Cdiv%20id%3D%22html_e02a36843a9e4aaba4ee18d1f8a3afd8%22%20style%3D%22width%3A%20100.0%25%3B%20height%3A%20100.0%25%3B%22%3E%20%20%20%20%20%20%20%20%20%3Cul%3E%20%20%20%20%20%20%20%20%20%20%20%20%20%3Cli%3E%3Cstrong%3EID%3A%20%3C/strong%3E3116%3C/li%3E%20%20%20%20%20%20%20%20%20%20%20%20%20%3Cli%3E%3Cstrong%3ESource%3A%20%3C/strong%3EHenderson%20P%26C%20%23121%3F%20-%20All%205%20these%20contiguous%20-%20by%20modern%20S.%20Ambrogio%20market%20on%20Via%20Visdomini%20where%20there%20was%20a%20ruined%20casolare%3C/li%3E%20%20%20%20%20%20%20%20%20%20%20%20%20%3Cli%3E%3Cstrong%3EName%3A%20%3C/strong%3Enan%3C/li%3E%20%20%20%20%20%20%20%20%20%3Cul%3E%20%20%20%20%20%3C/div%3E%60%29%5B0%5D%3B%0A%20%20%20%20%20%20%20%20%20%20%20%20%20%20%20%20popup_801577ad3f004a2c95ce40c1116afbdd.setContent%28html_e02a36843a9e4aaba4ee18d1f8a3afd8%29%3B%0A%20%20%20%20%20%20%20%20%20%20%20%20%0A%0A%20%20%20%20%20%20%20%20%20%20%20%20marker_c5b6db5014064588af2856f5933d5d5e.bindPopup%28popup_801577ad3f004a2c95ce40c1116afbdd%29%0A%20%20%20%20%20%20%20%20%20%20%20%20%3B%0A%0A%20%20%20%20%20%20%20%20%20%20%20%20%0A%20%20%20%20%20%20%20%20%0A%20%20%20%20%0A%20%20%20%20%20%20%20%20var%20marker_bd2aa1e88f4b48189af1ab146b17f9d4%20%3D%20L.marker%28%0A%20%20%20%20%20%20%20%20%20%20%20%20%5B43.7731525%2C%2011.24989%5D%2C%0A%20%20%20%20%20%20%20%20%20%20%20%20%7B%0A%20%20%20%20%20%20%20%20%20%20%20%20%20%20%20%20icon%3A%20new%20L.Icon.Default%28%29%2C%0A%20%20%20%20%20%20%20%20%20%20%20%20%20%20%20%20%7D%0A%20%20%20%20%20%20%20%20%20%20%20%20%29.addTo%28map_146cd8147123498484976a07e362f27f%29%3B%0A%20%20%20%20%20%20%20%20%0A%20%20%20%20%0A%20%20%20%20%20%20%20%20%20%20%20%20var%20popup_7543557575bf4eada5949def06542a4c%20%3D%20L.popup%28%7BmaxWidth%3A%20%27100%25%27%0A%20%20%20%20%20%20%20%20%20%20%20%20%0A%20%20%20%20%20%20%20%20%20%20%20%20%7D%29%3B%0A%0A%20%20%20%20%20%20%20%20%20%20%20%20%0A%20%20%20%20%20%20%20%20%20%20%20%20%20%20%20%20var%20html_5977d236b9a642b0bcf87a1756eed0f1%20%3D%20%24%28%60%3Cdiv%20id%3D%22html_5977d236b9a642b0bcf87a1756eed0f1%22%20style%3D%22width%3A%20100.0%25%3B%20height%3A%20100.0%25%3B%22%3E%20%20%20%20%20%20%20%20%20%3Cul%3E%20%20%20%20%20%20%20%20%20%20%20%20%20%3Cli%3E%3Cstrong%3EID%3A%20%3C/strong%3E5751%3C/li%3E%20%20%20%20%20%20%20%20%20%20%20%20%20%3Cli%3E%3Cstrong%3ESource%3A%20%3C/strong%3EIn%20Piazza%20S%20Maria%20Novella%3B%20near%20one%20of%20S.%20Paolo%20Martire%3C/li%3E%20%20%20%20%20%20%20%20%20%20%20%20%20%3Cli%3E%3Cstrong%3EName%3A%20%3C/strong%3Enan%3C/li%3E%20%20%20%20%20%20%20%20%20%3Cul%3E%20%20%20%20%20%3C/div%3E%60%29%5B0%5D%3B%0A%20%20%20%20%20%20%20%20%20%20%20%20%20%20%20%20popup_7543557575bf4eada5949def06542a4c.setContent%28html_5977d236b9a642b0bcf87a1756eed0f1%29%3B%0A%20%20%20%20%20%20%20%20%20%20%20%20%0A%0A%20%20%20%20%20%20%20%20%20%20%20%20marker_bd2aa1e88f4b48189af1ab146b17f9d4.bindPopup%28popup_7543557575bf4eada5949def06542a4c%29%0A%20%20%20%20%20%20%20%20%20%20%20%20%3B%0A%0A%20%20%20%20%20%20%20%20%20%20%20%20%0A%20%20%20%20%20%20%20%20%0A%20%20%20%20%0A%20%20%20%20%20%20%20%20var%20marker_9cdfb29ebbd2495796c167d34b1374c0%20%3D%20L.marker%28%0A%20%20%20%20%20%20%20%20%20%20%20%20%5B43.777146%2C%2011.253746%5D%2C%0A%20%20%20%20%20%20%20%20%20%20%20%20%7B%0A%20%20%20%20%20%20%20%20%20%20%20%20%20%20%20%20icon%3A%20new%20L.Icon.Default%28%29%2C%0A%20%20%20%20%20%20%20%20%20%20%20%20%20%20%20%20%7D%0A%20%20%20%20%20%20%20%20%20%20%20%20%29.addTo%28map_146cd8147123498484976a07e362f27f%29%3B%0A%20%20%20%20%20%20%20%20%0A%20%20%20%20%0A%20%20%20%20%20%20%20%20%20%20%20%20var%20popup_af2467085407474abdf81b614379418d%20%3D%20L.popup%28%7BmaxWidth%3A%20%27100%25%27%0A%20%20%20%20%20%20%20%20%20%20%20%20%0A%20%20%20%20%20%20%20%20%20%20%20%20%7D%29%3B%0A%0A%20%20%20%20%20%20%20%20%20%20%20%20%0A%20%20%20%20%20%20%20%20%20%20%20%20%20%20%20%20var%20html_975a375522724e06bab084fc73ba6cf6%20%3D%20%24%28%60%3Cdiv%20id%3D%22html_975a375522724e06bab084fc73ba6cf6%22%20style%3D%22width%3A%20100.0%25%3B%20height%3A%20100.0%25%3B%22%3E%20%20%20%20%20%20%20%20%20%3Cul%3E%20%20%20%20%20%20%20%20%20%20%20%20%20%3Cli%3E%3Cstrong%3EID%3A%20%3C/strong%3E437%3C/li%3E%20%20%20%20%20%20%20%20%20%20%20%20%20%3Cli%3E%3Cstrong%3ESource%3A%20%3C/strong%3EHenderson%20P%26C%20%23138%3C/li%3E%20%20%20%20%20%20%20%20%20%20%20%20%20%3Cli%3E%3Cstrong%3EName%3A%20%3C/strong%3EAntonio%20di%20Lazzero%20di%20d%27%20Antonio%3C/li%3E%20%20%20%20%20%20%20%20%20%3Cul%3E%20%20%20%20%20%3C/div%3E%60%29%5B0%5D%3B%0A%20%20%20%20%20%20%20%20%20%20%20%20%20%20%20%20popup_af2467085407474abdf81b614379418d.setContent%28html_975a375522724e06bab084fc73ba6cf6%29%3B%0A%20%20%20%20%20%20%20%20%20%20%20%20%0A%0A%20%20%20%20%20%20%20%20%20%20%20%20marker_9cdfb29ebbd2495796c167d34b1374c0.bindPopup%28popup_af2467085407474abdf81b614379418d%29%0A%20%20%20%20%20%20%20%20%20%20%20%20%3B%0A%0A%20%20%20%20%20%20%20%20%20%20%20%20%0A%20%20%20%20%20%20%20%20%0A%20%20%20%20%0A%20%20%20%20%20%20%20%20var%20marker_70f8df30f6f744caab68dcc4d4334d47%20%3D%20L.marker%28%0A%20%20%20%20%20%20%20%20%20%20%20%20%5B43.775512%2C%2011.2525135%5D%2C%0A%20%20%20%20%20%20%20%20%20%20%20%20%7B%0A%20%20%20%20%20%20%20%20%20%20%20%20%20%20%20%20icon%3A%20new%20L.Icon.Default%28%29%2C%0A%20%20%20%20%20%20%20%20%20%20%20%20%20%20%20%20%7D%0A%20%20%20%20%20%20%20%20%20%20%20%20%29.addTo%28map_146cd8147123498484976a07e362f27f%29%3B%0A%20%20%20%20%20%20%20%20%0A%20%20%20%20%0A%20%20%20%20%20%20%20%20%20%20%20%20var%20popup_1abecc8c695440b0848de0b74ac3eeab%20%3D%20L.popup%28%7BmaxWidth%3A%20%27100%25%27%0A%20%20%20%20%20%20%20%20%20%20%20%20%0A%20%20%20%20%20%20%20%20%20%20%20%20%7D%29%3B%0A%0A%20%20%20%20%20%20%20%20%20%20%20%20%0A%20%20%20%20%20%20%20%20%20%20%20%20%20%20%20%20var%20html_a5bf7719d9954245ade10b2d44f27e17%20%3D%20%24%28%60%3Cdiv%20id%3D%22html_a5bf7719d9954245ade10b2d44f27e17%22%20style%3D%22width%3A%20100.0%25%3B%20height%3A%20100.0%25%3B%22%3E%20%20%20%20%20%20%20%20%20%3Cul%3E%20%20%20%20%20%20%20%20%20%20%20%20%20%3Cli%3E%3Cstrong%3EID%3A%20%3C/strong%3E753%3C/li%3E%20%20%20%20%20%20%20%20%20%20%20%20%20%3Cli%3E%3Cstrong%3ESource%3A%20%3C/strong%3EHenderson%20P%26C%20%23138%3C/li%3E%20%20%20%20%20%20%20%20%20%20%20%20%20%3Cli%3E%3Cstrong%3EName%3A%20%3C/strong%3EUlivieri%20de%20Guarana%2C%20cappellaio%3C/li%3E%20%20%20%20%20%20%20%20%20%3Cul%3E%20%20%20%20%20%3C/div%3E%60%29%5B0%5D%3B%0A%20%20%20%20%20%20%20%20%20%20%20%20%20%20%20%20popup_1abecc8c695440b0848de0b74ac3eeab.setContent%28html_a5bf7719d9954245ade10b2d44f27e17%29%3B%0A%20%20%20%20%20%20%20%20%20%20%20%20%0A%0A%20%20%20%20%20%20%20%20%20%20%20%20marker_70f8df30f6f744caab68dcc4d4334d47.bindPopup%28popup_1abecc8c695440b0848de0b74ac3eeab%29%0A%20%20%20%20%20%20%20%20%20%20%20%20%3B%0A%0A%20%20%20%20%20%20%20%20%20%20%20%20%0A%20%20%20%20%20%20%20%20%0A%20%20%20%20%0A%20%20%20%20%20%20%20%20var%20marker_288ecf99bf41425c932b3d6d16a148c2%20%3D%20L.marker%28%0A%20%20%20%20%20%20%20%20%20%20%20%20%5B43.77555867%2C%2011.25144467%5D%2C%0A%20%20%20%20%20%20%20%20%20%20%20%20%7B%0A%20%20%20%20%20%20%20%20%20%20%20%20%20%20%20%20icon%3A%20new%20L.Icon.Default%28%29%2C%0A%20%20%20%20%20%20%20%20%20%20%20%20%20%20%20%20%7D%0A%20%20%20%20%20%20%20%20%20%20%20%20%29.addTo%28map_146cd8147123498484976a07e362f27f%29%3B%0A%20%20%20%20%20%20%20%20%0A%20%20%20%20%0A%20%20%20%20%20%20%20%20%20%20%20%20var%20popup_8d4e450ecbb74f599180f8d316ab87b7%20%3D%20L.popup%28%7BmaxWidth%3A%20%27100%25%27%0A%20%20%20%20%20%20%20%20%20%20%20%20%0A%20%20%20%20%20%20%20%20%20%20%20%20%7D%29%3B%0A%0A%20%20%20%20%20%20%20%20%20%20%20%20%0A%20%20%20%20%20%20%20%20%20%20%20%20%20%20%20%20var%20html_7c073b0b8e2b4d06947234f33a280018%20%3D%20%24%28%60%3Cdiv%20id%3D%22html_7c073b0b8e2b4d06947234f33a280018%22%20style%3D%22width%3A%20100.0%25%3B%20height%3A%20100.0%25%3B%22%3E%20%20%20%20%20%20%20%20%20%3Cul%3E%20%20%20%20%20%20%20%20%20%20%20%20%20%3Cli%3E%3Cstrong%3EID%3A%20%3C/strong%3E5701%3C/li%3E%20%20%20%20%20%20%20%20%20%20%20%20%20%3Cli%3E%3Cstrong%3ESource%3A%20%3C/strong%3EHenderson%20P%26C%20%23138%3C/li%3E%20%20%20%20%20%20%20%20%20%20%20%20%20%3Cli%3E%3Cstrong%3EName%3A%20%3C/strong%3ERaffaello%20di%20Niccolo%20Ben%27intendi%3C/li%3E%20%20%20%20%20%20%20%20%20%3Cul%3E%20%20%20%20%20%3C/div%3E%60%29%5B0%5D%3B%0A%20%20%20%20%20%20%20%20%20%20%20%20%20%20%20%20popup_8d4e450ecbb74f599180f8d316ab87b7.setContent%28html_7c073b0b8e2b4d06947234f33a280018%29%3B%0A%20%20%20%20%20%20%20%20%20%20%20%20%0A%0A%20%20%20%20%20%20%20%20%20%20%20%20marker_288ecf99bf41425c932b3d6d16a148c2.bindPopup%28popup_8d4e450ecbb74f599180f8d316ab87b7%29%0A%20%20%20%20%20%20%20%20%20%20%20%20%3B%0A%0A%20%20%20%20%20%20%20%20%20%20%20%20%0A%20%20%20%20%20%20%20%20%0A%20%20%20%20%0A%20%20%20%20%20%20%20%20var%20marker_7fbf58b8e47044b2a10f55088c83a648%20%3D%20L.marker%28%0A%20%20%20%20%20%20%20%20%20%20%20%20%5B43.77542875%2C%2011.2513375%5D%2C%0A%20%20%20%20%20%20%20%20%20%20%20%20%7B%0A%20%20%20%20%20%20%20%20%20%20%20%20%20%20%20%20icon%3A%20new%20L.Icon.Default%28%29%2C%0A%20%20%20%20%20%20%20%20%20%20%20%20%20%20%20%20%7D%0A%20%20%20%20%20%20%20%20%20%20%20%20%29.addTo%28map_146cd8147123498484976a07e362f27f%29%3B%0A%20%20%20%20%20%20%20%20%0A%20%20%20%20%0A%20%20%20%20%20%20%20%20%20%20%20%20var%20popup_b85b87119b064c1786e6a120ed579fd2%20%3D%20L.popup%28%7BmaxWidth%3A%20%27100%25%27%0A%20%20%20%20%20%20%20%20%20%20%20%20%0A%20%20%20%20%20%20%20%20%20%20%20%20%7D%29%3B%0A%0A%20%20%20%20%20%20%20%20%20%20%20%20%0A%20%20%20%20%20%20%20%20%20%20%20%20%20%20%20%20var%20html_adf97046ab3c405d862f624f7cd73a1e%20%3D%20%24%28%60%3Cdiv%20id%3D%22html_adf97046ab3c405d862f624f7cd73a1e%22%20style%3D%22width%3A%20100.0%25%3B%20height%3A%20100.0%25%3B%22%3E%20%20%20%20%20%20%20%20%20%3Cul%3E%20%20%20%20%20%20%20%20%20%20%20%20%20%3Cli%3E%3Cstrong%3EID%3A%20%3C/strong%3E5817%3C/li%3E%20%20%20%20%20%20%20%20%20%20%20%20%20%3Cli%3E%3Cstrong%3ESource%3A%20%3C/strong%3EHenderson%20P%26C%20%23138%3C/li%3E%20%20%20%20%20%20%20%20%20%20%20%20%20%3Cli%3E%3Cstrong%3EName%3A%20%3C/strong%3EBernardo%20Gualberti%3C/li%3E%20%20%20%20%20%20%20%20%20%3Cul%3E%20%20%20%20%20%3C/div%3E%60%29%5B0%5D%3B%0A%20%20%20%20%20%20%20%20%20%20%20%20%20%20%20%20popup_b85b87119b064c1786e6a120ed579fd2.setContent%28html_adf97046ab3c405d862f624f7cd73a1e%29%3B%0A%20%20%20%20%20%20%20%20%20%20%20%20%0A%0A%20%20%20%20%20%20%20%20%20%20%20%20marker_7fbf58b8e47044b2a10f55088c83a648.bindPopup%28popup_b85b87119b064c1786e6a120ed579fd2%29%0A%20%20%20%20%20%20%20%20%20%20%20%20%3B%0A%0A%20%20%20%20%20%20%20%20%20%20%20%20%0A%20%20%20%20%20%20%20%20%0A%20%20%20%20%0A%20%20%20%20%20%20%20%20var%20marker_196c98a750274d41b5f20fb0ce7cd29d%20%3D%20L.marker%28%0A%20%20%20%20%20%20%20%20%20%20%20%20%5B43.77470667%2C%2011.25044667%5D%2C%0A%20%20%20%20%20%20%20%20%20%20%20%20%7B%0A%20%20%20%20%20%20%20%20%20%20%20%20%20%20%20%20icon%3A%20new%20L.Icon.Default%28%29%2C%0A%20%20%20%20%20%20%20%20%20%20%20%20%20%20%20%20%7D%0A%20%20%20%20%20%20%20%20%20%20%20%20%29.addTo%28map_146cd8147123498484976a07e362f27f%29%3B%0A%20%20%20%20%20%20%20%20%0A%20%20%20%20%0A%20%20%20%20%20%20%20%20%20%20%20%20var%20popup_c94685c38e2e4d918f914a21129484af%20%3D%20L.popup%28%7BmaxWidth%3A%20%27100%25%27%0A%20%20%20%20%20%20%20%20%20%20%20%20%0A%20%20%20%20%20%20%20%20%20%20%20%20%7D%29%3B%0A%0A%20%20%20%20%20%20%20%20%20%20%20%20%0A%20%20%20%20%20%20%20%20%20%20%20%20%20%20%20%20var%20html_0b73758e322340289140e040fbac69ef%20%3D%20%24%28%60%3Cdiv%20id%3D%22html_0b73758e322340289140e040fbac69ef%22%20style%3D%22width%3A%20100.0%25%3B%20height%3A%20100.0%25%3B%22%3E%20%20%20%20%20%20%20%20%20%3Cul%3E%20%20%20%20%20%20%20%20%20%20%20%20%20%3Cli%3E%3Cstrong%3EID%3A%20%3C/strong%3E5150%3C/li%3E%20%20%20%20%20%20%20%20%20%20%20%20%20%3Cli%3E%3Cstrong%3ESource%3A%20%3C/strong%3EHenderson%20P%26C%20%23138%3C/li%3E%20%20%20%20%20%20%20%20%20%20%20%20%20%3Cli%3E%3Cstrong%3EName%3A%20%3C/strong%3EVettorio%20di%20Carlo%2C%20detto%20il%20capitano%20Becchino%3C/li%3E%20%20%20%20%20%20%20%20%20%3Cul%3E%20%20%20%20%20%3C/div%3E%60%29%5B0%5D%3B%0A%20%20%20%20%20%20%20%20%20%20%20%20%20%20%20%20popup_c94685c38e2e4d918f914a21129484af.setContent%28html_0b73758e322340289140e040fbac69ef%29%3B%0A%20%20%20%20%20%20%20%20%20%20%20%20%0A%0A%20%20%20%20%20%20%20%20%20%20%20%20marker_196c98a750274d41b5f20fb0ce7cd29d.bindPopup%28popup_c94685c38e2e4d918f914a21129484af%29%0A%20%20%20%20%20%20%20%20%20%20%20%20%3B%0A%0A%20%20%20%20%20%20%20%20%20%20%20%20%0A%20%20%20%20%20%20%20%20%0A%20%20%20%20%0A%20%20%20%20%20%20%20%20var%20marker_36a18cf2595d4d34bed7edc981cd2ba1%20%3D%20L.marker%28%0A%20%20%20%20%20%20%20%20%20%20%20%20%5B43.77730956%2C%2011.24912756%5D%2C%0A%20%20%20%20%20%20%20%20%20%20%20%20%7B%0A%20%20%20%20%20%20%20%20%20%20%20%20%20%20%20%20icon%3A%20new%20L.Icon.Default%28%29%2C%0A%20%20%20%20%20%20%20%20%20%20%20%20%20%20%20%20%7D%0A%20%20%20%20%20%20%20%20%20%20%20%20%29.addTo%28map_146cd8147123498484976a07e362f27f%29%3B%0A%20%20%20%20%20%20%20%20%0A%20%20%20%20%0A%20%20%20%20%20%20%20%20%20%20%20%20var%20popup_9570787309654306abeffc6d9180d8b1%20%3D%20L.popup%28%7BmaxWidth%3A%20%27100%25%27%0A%20%20%20%20%20%20%20%20%20%20%20%20%0A%20%20%20%20%20%20%20%20%20%20%20%20%7D%29%3B%0A%0A%20%20%20%20%20%20%20%20%20%20%20%20%0A%20%20%20%20%20%20%20%20%20%20%20%20%20%20%20%20var%20html_ae356b2cfad74a728a57577939ddb2d0%20%3D%20%24%28%60%3Cdiv%20id%3D%22html_ae356b2cfad74a728a57577939ddb2d0%22%20style%3D%22width%3A%20100.0%25%3B%20height%3A%20100.0%25%3B%22%3E%20%20%20%20%20%20%20%20%20%3Cul%3E%20%20%20%20%20%20%20%20%20%20%20%20%20%3Cli%3E%3Cstrong%3EID%3A%20%3C/strong%3E5287%3C/li%3E%20%20%20%20%20%20%20%20%20%20%20%20%20%3Cli%3E%3Cstrong%3ESource%3A%20%3C/strong%3EHenderson%20P%26C%20%23138%3C/li%3E%20%20%20%20%20%20%20%20%20%20%20%20%20%3Cli%3E%3Cstrong%3EName%3A%20%3C/strong%3EMona%20Maddalena%2C%20pinzocara%20di%20Paulo%20Corso%3C/li%3E%20%20%20%20%20%20%20%20%20%3Cul%3E%20%20%20%20%20%3C/div%3E%60%29%5B0%5D%3B%0A%20%20%20%20%20%20%20%20%20%20%20%20%20%20%20%20popup_9570787309654306abeffc6d9180d8b1.setContent%28html_ae356b2cfad74a728a57577939ddb2d0%29%3B%0A%20%20%20%20%20%20%20%20%20%20%20%20%0A%0A%20%20%20%20%20%20%20%20%20%20%20%20marker_36a18cf2595d4d34bed7edc981cd2ba1.bindPopup%28popup_9570787309654306abeffc6d9180d8b1%29%0A%20%20%20%20%20%20%20%20%20%20%20%20%3B%0A%0A%20%20%20%20%20%20%20%20%20%20%20%20%0A%20%20%20%20%20%20%20%20%0A%20%20%20%20%0A%20%20%20%20%20%20%20%20var%20marker_81e237412d394e3688e62413043a65e9%20%3D%20L.marker%28%0A%20%20%20%20%20%20%20%20%20%20%20%20%5B43.76874225%2C%2011.24285775%5D%2C%0A%20%20%20%20%20%20%20%20%20%20%20%20%7B%0A%20%20%20%20%20%20%20%20%20%20%20%20%20%20%20%20icon%3A%20new%20L.Icon.Default%28%29%2C%0A%20%20%20%20%20%20%20%20%20%20%20%20%20%20%20%20%7D%0A%20%20%20%20%20%20%20%20%20%20%20%20%29.addTo%28map_146cd8147123498484976a07e362f27f%29%3B%0A%20%20%20%20%20%20%20%20%0A%20%20%20%20%0A%20%20%20%20%20%20%20%20%20%20%20%20var%20popup_da3e294eebf540d6b23f1fab139e4508%20%3D%20L.popup%28%7BmaxWidth%3A%20%27100%25%27%0A%20%20%20%20%20%20%20%20%20%20%20%20%0A%20%20%20%20%20%20%20%20%20%20%20%20%7D%29%3B%0A%0A%20%20%20%20%20%20%20%20%20%20%20%20%0A%20%20%20%20%20%20%20%20%20%20%20%20%20%20%20%20var%20html_44b294d2dc9947df9c6d23ac67a1a5ec%20%3D%20%24%28%60%3Cdiv%20id%3D%22html_44b294d2dc9947df9c6d23ac67a1a5ec%22%20style%3D%22width%3A%20100.0%25%3B%20height%3A%20100.0%25%3B%22%3E%20%20%20%20%20%20%20%20%20%3Cul%3E%20%20%20%20%20%20%20%20%20%20%20%20%20%3Cli%3E%3Cstrong%3EID%3A%20%3C/strong%3E8290%3C/li%3E%20%20%20%20%20%20%20%20%20%20%20%20%20%3Cli%3E%3Cstrong%3ESource%3A%20%3C/strong%3Enan%3C/li%3E%20%20%20%20%20%20%20%20%20%20%20%20%20%3Cli%3E%3Cstrong%3EName%3A%20%3C/strong%3ESimone%20di%20Lorenzo%20tintore%3C/li%3E%20%20%20%20%20%20%20%20%20%3Cul%3E%20%20%20%20%20%3C/div%3E%60%29%5B0%5D%3B%0A%20%20%20%20%20%20%20%20%20%20%20%20%20%20%20%20popup_da3e294eebf540d6b23f1fab139e4508.setContent%28html_44b294d2dc9947df9c6d23ac67a1a5ec%29%3B%0A%20%20%20%20%20%20%20%20%20%20%20%20%0A%0A%20%20%20%20%20%20%20%20%20%20%20%20marker_81e237412d394e3688e62413043a65e9.bindPopup%28popup_da3e294eebf540d6b23f1fab139e4508%29%0A%20%20%20%20%20%20%20%20%20%20%20%20%3B%0A%0A%20%20%20%20%20%20%20%20%20%20%20%20%0A%20%20%20%20%20%20%20%20%0A%20%20%20%20%0A%20%20%20%20%20%20%20%20var%20marker_7c6152109a8b41c08e4b8bc584dbb339%20%3D%20L.marker%28%0A%20%20%20%20%20%20%20%20%20%20%20%20%5B43.7699925%2C%2011.26581375%5D%2C%0A%20%20%20%20%20%20%20%20%20%20%20%20%7B%0A%20%20%20%20%20%20%20%20%20%20%20%20%20%20%20%20icon%3A%20new%20L.Icon.Default%28%29%2C%0A%20%20%20%20%20%20%20%20%20%20%20%20%20%20%20%20%7D%0A%20%20%20%20%20%20%20%20%20%20%20%20%29.addTo%28map_146cd8147123498484976a07e362f27f%29%3B%0A%20%20%20%20%20%20%20%20%0A%20%20%20%20%0A%20%20%20%20%20%20%20%20%20%20%20%20var%20popup_281da8ef2f03429789f0f02eed8b899b%20%3D%20L.popup%28%7BmaxWidth%3A%20%27100%25%27%0A%20%20%20%20%20%20%20%20%20%20%20%20%0A%20%20%20%20%20%20%20%20%20%20%20%20%7D%29%3B%0A%0A%20%20%20%20%20%20%20%20%20%20%20%20%0A%20%20%20%20%20%20%20%20%20%20%20%20%20%20%20%20var%20html_3cf5a3c3af284c599f85589794e48b72%20%3D%20%24%28%60%3Cdiv%20id%3D%22html_3cf5a3c3af284c599f85589794e48b72%22%20style%3D%22width%3A%20100.0%25%3B%20height%3A%20100.0%25%3B%22%3E%20%20%20%20%20%20%20%20%20%3Cul%3E%20%20%20%20%20%20%20%20%20%20%20%20%20%3Cli%3E%3Cstrong%3EID%3A%20%3C/strong%3E3314%3C/li%3E%20%20%20%20%20%20%20%20%20%20%20%20%20%3Cli%3E%3Cstrong%3ESource%3A%20%3C/strong%3Enan%3C/li%3E%20%20%20%20%20%20%20%20%20%20%20%20%20%3Cli%3E%3Cstrong%3EName%3A%20%3C/strong%3Enan%3C/li%3E%20%20%20%20%20%20%20%20%20%3Cul%3E%20%20%20%20%20%3C/div%3E%60%29%5B0%5D%3B%0A%20%20%20%20%20%20%20%20%20%20%20%20%20%20%20%20popup_281da8ef2f03429789f0f02eed8b899b.setContent%28html_3cf5a3c3af284c599f85589794e48b72%29%3B%0A%20%20%20%20%20%20%20%20%20%20%20%20%0A%0A%20%20%20%20%20%20%20%20%20%20%20%20marker_7c6152109a8b41c08e4b8bc584dbb339.bindPopup%28popup_281da8ef2f03429789f0f02eed8b899b%29%0A%20%20%20%20%20%20%20%20%20%20%20%20%3B%0A%0A%20%20%20%20%20%20%20%20%20%20%20%20%0A%20%20%20%20%20%20%20%20%0A%20%20%20%20%0A%20%20%20%20%20%20%20%20var%20marker_b904354d4c0c4059aeee610019cfe8c0%20%3D%20L.marker%28%0A%20%20%20%20%20%20%20%20%20%20%20%20%5B43.77437253%2C%2011.25571973%5D%2C%0A%20%20%20%20%20%20%20%20%20%20%20%20%7B%0A%20%20%20%20%20%20%20%20%20%20%20%20%20%20%20%20icon%3A%20new%20L.Icon.Default%28%29%2C%0A%20%20%20%20%20%20%20%20%20%20%20%20%20%20%20%20%7D%0A%20%20%20%20%20%20%20%20%20%20%20%20%29.addTo%28map_146cd8147123498484976a07e362f27f%29%3B%0A%20%20%20%20%20%20%20%20%0A%20%20%20%20%0A%20%20%20%20%20%20%20%20%20%20%20%20var%20popup_d4cfd45443964287b7290b55dc494b07%20%3D%20L.popup%28%7BmaxWidth%3A%20%27100%25%27%0A%20%20%20%20%20%20%20%20%20%20%20%20%0A%20%20%20%20%20%20%20%20%20%20%20%20%7D%29%3B%0A%0A%20%20%20%20%20%20%20%20%20%20%20%20%0A%20%20%20%20%20%20%20%20%20%20%20%20%20%20%20%20var%20html_8a3b41e225e547df9688039cab265cd5%20%3D%20%24%28%60%3Cdiv%20id%3D%22html_8a3b41e225e547df9688039cab265cd5%22%20style%3D%22width%3A%20100.0%25%3B%20height%3A%20100.0%25%3B%22%3E%20%20%20%20%20%20%20%20%20%3Cul%3E%20%20%20%20%20%20%20%20%20%20%20%20%20%3Cli%3E%3Cstrong%3EID%3A%20%3C/strong%3E1379%3C/li%3E%20%20%20%20%20%20%20%20%20%20%20%20%20%3Cli%3E%3Cstrong%3ESource%3A%20%3C/strong%3EHenderson%20P%26C%20%23162%3C/li%3E%20%20%20%20%20%20%20%20%20%20%20%20%20%3Cli%3E%3Cstrong%3EName%3A%20%3C/strong%3EMona%20Lisabetta%2C%20donna%20fu%20di%20Amadore%20di%20Guelfo%3C/li%3E%20%20%20%20%20%20%20%20%20%3Cul%3E%20%20%20%20%20%3C/div%3E%60%29%5B0%5D%3B%0A%20%20%20%20%20%20%20%20%20%20%20%20%20%20%20%20popup_d4cfd45443964287b7290b55dc494b07.setContent%28html_8a3b41e225e547df9688039cab265cd5%29%3B%0A%20%20%20%20%20%20%20%20%20%20%20%20%0A%0A%20%20%20%20%20%20%20%20%20%20%20%20marker_b904354d4c0c4059aeee610019cfe8c0.bindPopup%28popup_d4cfd45443964287b7290b55dc494b07%29%0A%20%20%20%20%20%20%20%20%20%20%20%20%3B%0A%0A%20%20%20%20%20%20%20%20%20%20%20%20%0A%20%20%20%20%20%20%20%20%0A%20%20%20%20%0A%20%20%20%20%20%20%20%20var%20marker_0bea3c72f10f4db385e03bda3f73c3bd%20%3D%20L.marker%28%0A%20%20%20%20%20%20%20%20%20%20%20%20%5B43.772334%2C%2011.254363%5D%2C%0A%20%20%20%20%20%20%20%20%20%20%20%20%7B%0A%20%20%20%20%20%20%20%20%20%20%20%20%20%20%20%20icon%3A%20new%20L.Icon.Default%28%29%2C%0A%20%20%20%20%20%20%20%20%20%20%20%20%20%20%20%20%7D%0A%20%20%20%20%20%20%20%20%20%20%20%20%29.addTo%28map_146cd8147123498484976a07e362f27f%29%3B%0A%20%20%20%20%20%20%20%20%0A%20%20%20%20%0A%20%20%20%20%20%20%20%20%20%20%20%20var%20popup_98862d32305949a69e41561246a543cf%20%3D%20L.popup%28%7BmaxWidth%3A%20%27100%25%27%0A%20%20%20%20%20%20%20%20%20%20%20%20%0A%20%20%20%20%20%20%20%20%20%20%20%20%7D%29%3B%0A%0A%20%20%20%20%20%20%20%20%20%20%20%20%0A%20%20%20%20%20%20%20%20%20%20%20%20%20%20%20%20var%20html_47679bf0610d4d42a91cda2ed88e6e2b%20%3D%20%24%28%60%3Cdiv%20id%3D%22html_47679bf0610d4d42a91cda2ed88e6e2b%22%20style%3D%22width%3A%20100.0%25%3B%20height%3A%20100.0%25%3B%22%3E%20%20%20%20%20%20%20%20%20%3Cul%3E%20%20%20%20%20%20%20%20%20%20%20%20%20%3Cli%3E%3Cstrong%3EID%3A%20%3C/strong%3E1123%3C/li%3E%20%20%20%20%20%20%20%20%20%20%20%20%20%3Cli%3E%3Cstrong%3ESource%3A%20%3C/strong%3Enan%3C/li%3E%20%20%20%20%20%20%20%20%20%20%20%20%20%3Cli%3E%3Cstrong%3EName%3A%20%3C/strong%3Enan%3C/li%3E%20%20%20%20%20%20%20%20%20%3Cul%3E%20%20%20%20%20%3C/div%3E%60%29%5B0%5D%3B%0A%20%20%20%20%20%20%20%20%20%20%20%20%20%20%20%20popup_98862d32305949a69e41561246a543cf.setContent%28html_47679bf0610d4d42a91cda2ed88e6e2b%29%3B%0A%20%20%20%20%20%20%20%20%20%20%20%20%0A%0A%20%20%20%20%20%20%20%20%20%20%20%20marker_0bea3c72f10f4db385e03bda3f73c3bd.bindPopup%28popup_98862d32305949a69e41561246a543cf%29%0A%20%20%20%20%20%20%20%20%20%20%20%20%3B%0A%0A%20%20%20%20%20%20%20%20%20%20%20%20%0A%20%20%20%20%20%20%20%20%0A%20%20%20%20%0A%20%20%20%20%20%20%20%20var%20marker_75eb5bf34baf4f0e942a273042e838f1%20%3D%20L.marker%28%0A%20%20%20%20%20%20%20%20%20%20%20%20%5B43.76938971%2C%2011.24530752%5D%2C%0A%20%20%20%20%20%20%20%20%20%20%20%20%7B%0A%20%20%20%20%20%20%20%20%20%20%20%20%20%20%20%20icon%3A%20new%20L.Icon.Default%28%29%2C%0A%20%20%20%20%20%20%20%20%20%20%20%20%20%20%20%20%7D%0A%20%20%20%20%20%20%20%20%20%20%20%20%29.addTo%28map_146cd8147123498484976a07e362f27f%29%3B%0A%20%20%20%20%20%20%20%20%0A%20%20%20%20%0A%20%20%20%20%20%20%20%20%20%20%20%20var%20popup_2aeffdcc5bd44436a4aad69f020e7352%20%3D%20L.popup%28%7BmaxWidth%3A%20%27100%25%27%0A%20%20%20%20%20%20%20%20%20%20%20%20%0A%20%20%20%20%20%20%20%20%20%20%20%20%7D%29%3B%0A%0A%20%20%20%20%20%20%20%20%20%20%20%20%0A%20%20%20%20%20%20%20%20%20%20%20%20%20%20%20%20var%20html_5f35e9c47bd84eda9e46da878e414e28%20%3D%20%24%28%60%3Cdiv%20id%3D%22html_5f35e9c47bd84eda9e46da878e414e28%22%20style%3D%22width%3A%20100.0%25%3B%20height%3A%20100.0%25%3B%22%3E%20%20%20%20%20%20%20%20%20%3Cul%3E%20%20%20%20%20%20%20%20%20%20%20%20%20%3Cli%3E%3Cstrong%3EID%3A%20%3C/strong%3E8155%3C/li%3E%20%20%20%20%20%20%20%20%20%20%20%20%20%3Cli%3E%3Cstrong%3ESource%3A%20%3C/strong%3EHenderson%20P%26C%20%232%3C/li%3E%20%20%20%20%20%20%20%20%20%20%20%20%20%3Cli%3E%3Cstrong%3EName%3A%20%3C/strong%3EBartolomeo%20di%20Biagio%20muratore%3C/li%3E%20%20%20%20%20%20%20%20%20%3Cul%3E%20%20%20%20%20%3C/div%3E%60%29%5B0%5D%3B%0A%20%20%20%20%20%20%20%20%20%20%20%20%20%20%20%20popup_2aeffdcc5bd44436a4aad69f020e7352.setContent%28html_5f35e9c47bd84eda9e46da878e414e28%29%3B%0A%20%20%20%20%20%20%20%20%20%20%20%20%0A%0A%20%20%20%20%20%20%20%20%20%20%20%20marker_75eb5bf34baf4f0e942a273042e838f1.bindPopup%28popup_2aeffdcc5bd44436a4aad69f020e7352%29%0A%20%20%20%20%20%20%20%20%20%20%20%20%3B%0A%0A%20%20%20%20%20%20%20%20%20%20%20%20%0A%20%20%20%20%20%20%20%20%0A%20%20%20%20%0A%20%20%20%20%20%20%20%20var%20marker_36155f53f27847f490d94d1260872ac4%20%3D%20L.marker%28%0A%20%20%20%20%20%20%20%20%20%20%20%20%5B43.7712402%2C%2011.26521564%5D%2C%0A%20%20%20%20%20%20%20%20%20%20%20%20%7B%0A%20%20%20%20%20%20%20%20%20%20%20%20%20%20%20%20icon%3A%20new%20L.Icon.Default%28%29%2C%0A%20%20%20%20%20%20%20%20%20%20%20%20%20%20%20%20%7D%0A%20%20%20%20%20%20%20%20%20%20%20%20%29.addTo%28map_146cd8147123498484976a07e362f27f%29%3B%0A%20%20%20%20%20%20%20%20%0A%20%20%20%20%0A%20%20%20%20%20%20%20%20%20%20%20%20var%20popup_115d3fb1f4624025a4633bab1c7f412f%20%3D%20L.popup%28%7BmaxWidth%3A%20%27100%25%27%0A%20%20%20%20%20%20%20%20%20%20%20%20%0A%20%20%20%20%20%20%20%20%20%20%20%20%7D%29%3B%0A%0A%20%20%20%20%20%20%20%20%20%20%20%20%0A%20%20%20%20%20%20%20%20%20%20%20%20%20%20%20%20var%20html_88eb3396647847daac08b83f1c05d4aa%20%3D%20%24%28%60%3Cdiv%20id%3D%22html_88eb3396647847daac08b83f1c05d4aa%22%20style%3D%22width%3A%20100.0%25%3B%20height%3A%20100.0%25%3B%22%3E%20%20%20%20%20%20%20%20%20%3Cul%3E%20%20%20%20%20%20%20%20%20%20%20%20%20%3Cli%3E%3Cstrong%3EID%3A%20%3C/strong%3E2085%3C/li%3E%20%20%20%20%20%20%20%20%20%20%20%20%20%3Cli%3E%3Cstrong%3ESource%3A%20%3C/strong%3EHenderson%20P%26C%20%23124%3C/li%3E%20%20%20%20%20%20%20%20%20%20%20%20%20%3Cli%3E%3Cstrong%3EName%3A%20%3C/strong%3EMona%20Gineuva%2C%20donna%20fu%20di%20Lorenzo%20di%20Deno%2C%20legnaiuolo%3C/li%3E%20%20%20%20%20%20%20%20%20%3Cul%3E%20%20%20%20%20%3C/div%3E%60%29%5B0%5D%3B%0A%20%20%20%20%20%20%20%20%20%20%20%20%20%20%20%20popup_115d3fb1f4624025a4633bab1c7f412f.setContent%28html_88eb3396647847daac08b83f1c05d4aa%29%3B%0A%20%20%20%20%20%20%20%20%20%20%20%20%0A%0A%20%20%20%20%20%20%20%20%20%20%20%20marker_36155f53f27847f490d94d1260872ac4.bindPopup%28popup_115d3fb1f4624025a4633bab1c7f412f%29%0A%20%20%20%20%20%20%20%20%20%20%20%20%3B%0A%0A%20%20%20%20%20%20%20%20%20%20%20%20%0A%20%20%20%20%20%20%20%20%0A%20%20%20%20%0A%20%20%20%20%20%20%20%20var%20marker_7d9716a829dc427eb543b0fc3a3e96db%20%3D%20L.marker%28%0A%20%20%20%20%20%20%20%20%20%20%20%20%5B43.776473%2C%2011.25275408%5D%2C%0A%20%20%20%20%20%20%20%20%20%20%20%20%7B%0A%20%20%20%20%20%20%20%20%20%20%20%20%20%20%20%20icon%3A%20new%20L.Icon.Default%28%29%2C%0A%20%20%20%20%20%20%20%20%20%20%20%20%20%20%20%20%7D%0A%20%20%20%20%20%20%20%20%20%20%20%20%29.addTo%28map_146cd8147123498484976a07e362f27f%29%3B%0A%20%20%20%20%20%20%20%20%0A%20%20%20%20%0A%20%20%20%20%20%20%20%20%20%20%20%20var%20popup_e94ecf6ad4894cc39e00793fb001a6ae%20%3D%20L.popup%28%7BmaxWidth%3A%20%27100%25%27%0A%20%20%20%20%20%20%20%20%20%20%20%20%0A%20%20%20%20%20%20%20%20%20%20%20%20%7D%29%3B%0A%0A%20%20%20%20%20%20%20%20%20%20%20%20%0A%20%20%20%20%20%20%20%20%20%20%20%20%20%20%20%20var%20html_eb58905ff8ff4514b5bf6a43510d2011%20%3D%20%24%28%60%3Cdiv%20id%3D%22html_eb58905ff8ff4514b5bf6a43510d2011%22%20style%3D%22width%3A%20100.0%25%3B%20height%3A%20100.0%25%3B%22%3E%20%20%20%20%20%20%20%20%20%3Cul%3E%20%20%20%20%20%20%20%20%20%20%20%20%20%3Cli%3E%3Cstrong%3EID%3A%20%3C/strong%3E493%3C/li%3E%20%20%20%20%20%20%20%20%20%20%20%20%20%3Cli%3E%3Cstrong%3ESource%3A%20%3C/strong%3EHenderson%20P%26C%20%23124%3C/li%3E%20%20%20%20%20%20%20%20%20%20%20%20%20%3Cli%3E%3Cstrong%3EName%3A%20%3C/strong%3EBatista%20di%20Niccolaio%20da%20Montopoli%2C%20tessitore%3C/li%3E%20%20%20%20%20%20%20%20%20%3Cul%3E%20%20%20%20%20%3C/div%3E%60%29%5B0%5D%3B%0A%20%20%20%20%20%20%20%20%20%20%20%20%20%20%20%20popup_e94ecf6ad4894cc39e00793fb001a6ae.setContent%28html_eb58905ff8ff4514b5bf6a43510d2011%29%3B%0A%20%20%20%20%20%20%20%20%20%20%20%20%0A%0A%20%20%20%20%20%20%20%20%20%20%20%20marker_7d9716a829dc427eb543b0fc3a3e96db.bindPopup%28popup_e94ecf6ad4894cc39e00793fb001a6ae%29%0A%20%20%20%20%20%20%20%20%20%20%20%20%3B%0A%0A%20%20%20%20%20%20%20%20%20%20%20%20%0A%20%20%20%20%20%20%20%20%0A%20%20%20%20%0A%20%20%20%20%20%20%20%20var%20marker_e631e2de97fa4da885617926148f6ac1%20%3D%20L.marker%28%0A%20%20%20%20%20%20%20%20%20%20%20%20%5B43.76977667%2C%2011.26017667%5D%2C%0A%20%20%20%20%20%20%20%20%20%20%20%20%7B%0A%20%20%20%20%20%20%20%20%20%20%20%20%20%20%20%20icon%3A%20new%20L.Icon.Default%28%29%2C%0A%20%20%20%20%20%20%20%20%20%20%20%20%20%20%20%20%7D%0A%20%20%20%20%20%20%20%20%20%20%20%20%29.addTo%28map_146cd8147123498484976a07e362f27f%29%3B%0A%20%20%20%20%20%20%20%20%0A%20%20%20%20%0A%20%20%20%20%20%20%20%20%20%20%20%20var%20popup_f53e070f18ea44c8ac4281c1183e2776%20%3D%20L.popup%28%7BmaxWidth%3A%20%27100%25%27%0A%20%20%20%20%20%20%20%20%20%20%20%20%0A%20%20%20%20%20%20%20%20%20%20%20%20%7D%29%3B%0A%0A%20%20%20%20%20%20%20%20%20%20%20%20%0A%20%20%20%20%20%20%20%20%20%20%20%20%20%20%20%20var%20html_751f393bb03344b8a4529e2efbd8d8cd%20%3D%20%24%28%60%3Cdiv%20id%3D%22html_751f393bb03344b8a4529e2efbd8d8cd%22%20style%3D%22width%3A%20100.0%25%3B%20height%3A%20100.0%25%3B%22%3E%20%20%20%20%20%20%20%20%20%3Cul%3E%20%20%20%20%20%20%20%20%20%20%20%20%20%3Cli%3E%3Cstrong%3EID%3A%20%3C/strong%3E4186%3C/li%3E%20%20%20%20%20%20%20%20%20%20%20%20%20%3Cli%3E%3Cstrong%3ESource%3A%20%3C/strong%3EHenderson%20P%26C%20%23124%3C/li%3E%20%20%20%20%20%20%20%20%20%20%20%20%20%3Cli%3E%3Cstrong%3EName%3A%20%3C/strong%3EMona%20Piera%20di%20Girolamo%20Orlandi%3C/li%3E%20%20%20%20%20%20%20%20%20%3Cul%3E%20%20%20%20%20%3C/div%3E%60%29%5B0%5D%3B%0A%20%20%20%20%20%20%20%20%20%20%20%20%20%20%20%20popup_f53e070f18ea44c8ac4281c1183e2776.setContent%28html_751f393bb03344b8a4529e2efbd8d8cd%29%3B%0A%20%20%20%20%20%20%20%20%20%20%20%20%0A%0A%20%20%20%20%20%20%20%20%20%20%20%20marker_e631e2de97fa4da885617926148f6ac1.bindPopup%28popup_f53e070f18ea44c8ac4281c1183e2776%29%0A%20%20%20%20%20%20%20%20%20%20%20%20%3B%0A%0A%20%20%20%20%20%20%20%20%20%20%20%20%0A%20%20%20%20%20%20%20%20%0A%20%20%20%20%0A%20%20%20%20%20%20%20%20var%20marker_0eca394cc9ec47a2996b800f9bb79e1d%20%3D%20L.marker%28%0A%20%20%20%20%20%20%20%20%20%20%20%20%5B43.7701726%2C%2011.24204413%5D%2C%0A%20%20%20%20%20%20%20%20%20%20%20%20%7B%0A%20%20%20%20%20%20%20%20%20%20%20%20%20%20%20%20icon%3A%20new%20L.Icon.Default%28%29%2C%0A%20%20%20%20%20%20%20%20%20%20%20%20%20%20%20%20%7D%0A%20%20%20%20%20%20%20%20%20%20%20%20%29.addTo%28map_146cd8147123498484976a07e362f27f%29%3B%0A%20%20%20%20%20%20%20%20%0A%20%20%20%20%0A%20%20%20%20%20%20%20%20%20%20%20%20var%20popup_a5a6251569cd410ca673b9d341fdff30%20%3D%20L.popup%28%7BmaxWidth%3A%20%27100%25%27%0A%20%20%20%20%20%20%20%20%20%20%20%20%0A%20%20%20%20%20%20%20%20%20%20%20%20%7D%29%3B%0A%0A%20%20%20%20%20%20%20%20%20%20%20%20%0A%20%20%20%20%20%20%20%20%20%20%20%20%20%20%20%20var%20html_f60d0780d6434649a45dc1ac73c851f2%20%3D%20%24%28%60%3Cdiv%20id%3D%22html_f60d0780d6434649a45dc1ac73c851f2%22%20style%3D%22width%3A%20100.0%25%3B%20height%3A%20100.0%25%3B%22%3E%20%20%20%20%20%20%20%20%20%3Cul%3E%20%20%20%20%20%20%20%20%20%20%20%20%20%3Cli%3E%3Cstrong%3EID%3A%20%3C/strong%3E8122%3C/li%3E%20%20%20%20%20%20%20%20%20%20%20%20%20%3Cli%3E%3Cstrong%3ESource%3A%20%3C/strong%3Enan%3C/li%3E%20%20%20%20%20%20%20%20%20%20%20%20%20%3Cli%3E%3Cstrong%3EName%3A%20%3C/strong%3EMona%20Catarina%20la%20sua%20meta%3C/li%3E%20%20%20%20%20%20%20%20%20%3Cul%3E%20%20%20%20%20%3C/div%3E%60%29%5B0%5D%3B%0A%20%20%20%20%20%20%20%20%20%20%20%20%20%20%20%20popup_a5a6251569cd410ca673b9d341fdff30.setContent%28html_f60d0780d6434649a45dc1ac73c851f2%29%3B%0A%20%20%20%20%20%20%20%20%20%20%20%20%0A%0A%20%20%20%20%20%20%20%20%20%20%20%20marker_0eca394cc9ec47a2996b800f9bb79e1d.bindPopup%28popup_a5a6251569cd410ca673b9d341fdff30%29%0A%20%20%20%20%20%20%20%20%20%20%20%20%3B%0A%0A%20%20%20%20%20%20%20%20%20%20%20%20%0A%20%20%20%20%20%20%20%20%0A%20%20%20%20%0A%20%20%20%20%20%20%20%20var%20marker_a9a99af1e74c48c89d1d3243107b3184%20%3D%20L.marker%28%0A%20%20%20%20%20%20%20%20%20%20%20%20%5B43.77084%2C%2011.254306%5D%2C%0A%20%20%20%20%20%20%20%20%20%20%20%20%7B%0A%20%20%20%20%20%20%20%20%20%20%20%20%20%20%20%20icon%3A%20new%20L.Icon.Default%28%29%2C%0A%20%20%20%20%20%20%20%20%20%20%20%20%20%20%20%20%7D%0A%20%20%20%20%20%20%20%20%20%20%20%20%29.addTo%28map_146cd8147123498484976a07e362f27f%29%3B%0A%20%20%20%20%20%20%20%20%0A%20%20%20%20%0A%20%20%20%20%20%20%20%20%20%20%20%20var%20popup_b90871e18e4c47e4a585a1aff68dc6c2%20%3D%20L.popup%28%7BmaxWidth%3A%20%27100%25%27%0A%20%20%20%20%20%20%20%20%20%20%20%20%0A%20%20%20%20%20%20%20%20%20%20%20%20%7D%29%3B%0A%0A%20%20%20%20%20%20%20%20%20%20%20%20%0A%20%20%20%20%20%20%20%20%20%20%20%20%20%20%20%20var%20html_485933296df1410b9f6f967dbf1b6206%20%3D%20%24%28%60%3Cdiv%20id%3D%22html_485933296df1410b9f6f967dbf1b6206%22%20style%3D%22width%3A%20100.0%25%3B%20height%3A%20100.0%25%3B%22%3E%20%20%20%20%20%20%20%20%20%3Cul%3E%20%20%20%20%20%20%20%20%20%20%20%20%20%3Cli%3E%3Cstrong%3EID%3A%20%3C/strong%3E6721%3C/li%3E%20%20%20%20%20%20%20%20%20%20%20%20%20%3Cli%3E%3Cstrong%3ESource%3A%20%3C/strong%3EHenderson%20P%26C%20%2392%3C/li%3E%20%20%20%20%20%20%20%20%20%20%20%20%20%3Cli%3E%3Cstrong%3EName%3A%20%3C/strong%3ESancti%20di%20Luca%20di%20Mazzeranga%3C/li%3E%20%20%20%20%20%20%20%20%20%3Cul%3E%20%20%20%20%20%3C/div%3E%60%29%5B0%5D%3B%0A%20%20%20%20%20%20%20%20%20%20%20%20%20%20%20%20popup_b90871e18e4c47e4a585a1aff68dc6c2.setContent%28html_485933296df1410b9f6f967dbf1b6206%29%3B%0A%20%20%20%20%20%20%20%20%20%20%20%20%0A%0A%20%20%20%20%20%20%20%20%20%20%20%20marker_a9a99af1e74c48c89d1d3243107b3184.bindPopup%28popup_b90871e18e4c47e4a585a1aff68dc6c2%29%0A%20%20%20%20%20%20%20%20%20%20%20%20%3B%0A%0A%20%20%20%20%20%20%20%20%20%20%20%20%0A%20%20%20%20%20%20%20%20%0A%20%20%20%20%0A%20%20%20%20%20%20%20%20var%20marker_996f91cd19f644869e74a62e2958a3ec%20%3D%20L.marker%28%0A%20%20%20%20%20%20%20%20%20%20%20%20%5B43.7757045%2C%2011.25230736%5D%2C%0A%20%20%20%20%20%20%20%20%20%20%20%20%7B%0A%20%20%20%20%20%20%20%20%20%20%20%20%20%20%20%20icon%3A%20new%20L.Icon.Default%28%29%2C%0A%20%20%20%20%20%20%20%20%20%20%20%20%20%20%20%20%7D%0A%20%20%20%20%20%20%20%20%20%20%20%20%29.addTo%28map_146cd8147123498484976a07e362f27f%29%3B%0A%20%20%20%20%20%20%20%20%0A%20%20%20%20%0A%20%20%20%20%20%20%20%20%20%20%20%20var%20popup_d1c57fac25254d269a7b192d9ba2bf2e%20%3D%20L.popup%28%7BmaxWidth%3A%20%27100%25%27%0A%20%20%20%20%20%20%20%20%20%20%20%20%0A%20%20%20%20%20%20%20%20%20%20%20%20%7D%29%3B%0A%0A%20%20%20%20%20%20%20%20%20%20%20%20%0A%20%20%20%20%20%20%20%20%20%20%20%20%20%20%20%20var%20html_a79c46f5d5ac4dfabc3e2bcc5b4c6586%20%3D%20%24%28%60%3Cdiv%20id%3D%22html_a79c46f5d5ac4dfabc3e2bcc5b4c6586%22%20style%3D%22width%3A%20100.0%25%3B%20height%3A%20100.0%25%3B%22%3E%20%20%20%20%20%20%20%20%20%3Cul%3E%20%20%20%20%20%20%20%20%20%20%20%20%20%3Cli%3E%3Cstrong%3EID%3A%20%3C/strong%3E452%3C/li%3E%20%20%20%20%20%20%20%20%20%20%20%20%20%3Cli%3E%3Cstrong%3ESource%3A%20%3C/strong%3EHenderson%20P%26C%20%2392%3C/li%3E%20%20%20%20%20%20%20%20%20%20%20%20%20%3Cli%3E%3Cstrong%3EName%3A%20%3C/strong%3EMona%20Magdalena%2C%20vedova%2C%20donna%20gia%20di%20Domenico%20di%20Piero%2C%20pizzicagnolo%3C/li%3E%20%20%20%20%20%20%20%20%20%3Cul%3E%20%20%20%20%20%3C/div%3E%60%29%5B0%5D%3B%0A%20%20%20%20%20%20%20%20%20%20%20%20%20%20%20%20popup_d1c57fac25254d269a7b192d9ba2bf2e.setContent%28html_a79c46f5d5ac4dfabc3e2bcc5b4c6586%29%3B%0A%20%20%20%20%20%20%20%20%20%20%20%20%0A%0A%20%20%20%20%20%20%20%20%20%20%20%20marker_996f91cd19f644869e74a62e2958a3ec.bindPopup%28popup_d1c57fac25254d269a7b192d9ba2bf2e%29%0A%20%20%20%20%20%20%20%20%20%20%20%20%3B%0A%0A%20%20%20%20%20%20%20%20%20%20%20%20%0A%20%20%20%20%20%20%20%20%0A%20%20%20%20%0A%20%20%20%20%20%20%20%20var%20marker_53ccdeb6fdfd401ebf6b794bde9b1593%20%3D%20L.marker%28%0A%20%20%20%20%20%20%20%20%20%20%20%20%5B43.78056204%2C%2011.2577987%5D%2C%0A%20%20%20%20%20%20%20%20%20%20%20%20%7B%0A%20%20%20%20%20%20%20%20%20%20%20%20%20%20%20%20icon%3A%20new%20L.Icon.Default%28%29%2C%0A%20%20%20%20%20%20%20%20%20%20%20%20%20%20%20%20%7D%0A%20%20%20%20%20%20%20%20%20%20%20%20%29.addTo%28map_146cd8147123498484976a07e362f27f%29%3B%0A%20%20%20%20%20%20%20%20%0A%20%20%20%20%0A%20%20%20%20%20%20%20%20%20%20%20%20var%20popup_b079cbc7befa4905a1fbe51e4c7d596a%20%3D%20L.popup%28%7BmaxWidth%3A%20%27100%25%27%0A%20%20%20%20%20%20%20%20%20%20%20%20%0A%20%20%20%20%20%20%20%20%20%20%20%20%7D%29%3B%0A%0A%20%20%20%20%20%20%20%20%20%20%20%20%0A%20%20%20%20%20%20%20%20%20%20%20%20%20%20%20%20var%20html_fea2e42d585143d29ad41283e2bf6e08%20%3D%20%24%28%60%3Cdiv%20id%3D%22html_fea2e42d585143d29ad41283e2bf6e08%22%20style%3D%22width%3A%20100.0%25%3B%20height%3A%20100.0%25%3B%22%3E%20%20%20%20%20%20%20%20%20%3Cul%3E%20%20%20%20%20%20%20%20%20%20%20%20%20%3Cli%3E%3Cstrong%3EID%3A%20%3C/strong%3E623%3C/li%3E%20%20%20%20%20%20%20%20%20%20%20%20%20%3Cli%3E%3Cstrong%3ESource%3A%20%3C/strong%3EHenderson%20P%26C%20%2392%3C/li%3E%20%20%20%20%20%20%20%20%20%20%20%20%20%3Cli%3E%3Cstrong%3EName%3A%20%3C/strong%3EGiovanbatista%20d%27%20Andrea%20Laurentini%3C/li%3E%20%20%20%20%20%20%20%20%20%3Cul%3E%20%20%20%20%20%3C/div%3E%60%29%5B0%5D%3B%0A%20%20%20%20%20%20%20%20%20%20%20%20%20%20%20%20popup_b079cbc7befa4905a1fbe51e4c7d596a.setContent%28html_fea2e42d585143d29ad41283e2bf6e08%29%3B%0A%20%20%20%20%20%20%20%20%20%20%20%20%0A%0A%20%20%20%20%20%20%20%20%20%20%20%20marker_53ccdeb6fdfd401ebf6b794bde9b1593.bindPopup%28popup_b079cbc7befa4905a1fbe51e4c7d596a%29%0A%20%20%20%20%20%20%20%20%20%20%20%20%3B%0A%0A%20%20%20%20%20%20%20%20%20%20%20%20%0A%20%20%20%20%20%20%20%20%0A%20%20%20%20%0A%20%20%20%20%20%20%20%20var%20marker_7b4f4074cc004bcda263a76706b5ada3%20%3D%20L.marker%28%0A%20%20%20%20%20%20%20%20%20%20%20%20%5B43.78061222%2C%2011.25774922%5D%2C%0A%20%20%20%20%20%20%20%20%20%20%20%20%7B%0A%20%20%20%20%20%20%20%20%20%20%20%20%20%20%20%20icon%3A%20new%20L.Icon.Default%28%29%2C%0A%20%20%20%20%20%20%20%20%20%20%20%20%20%20%20%20%7D%0A%20%20%20%20%20%20%20%20%20%20%20%20%29.addTo%28map_146cd8147123498484976a07e362f27f%29%3B%0A%20%20%20%20%20%20%20%20%0A%20%20%20%20%0A%20%20%20%20%20%20%20%20%20%20%20%20var%20popup_101305050c934150acbb1414d53c6b0e%20%3D%20L.popup%28%7BmaxWidth%3A%20%27100%25%27%0A%20%20%20%20%20%20%20%20%20%20%20%20%0A%20%20%20%20%20%20%20%20%20%20%20%20%7D%29%3B%0A%0A%20%20%20%20%20%20%20%20%20%20%20%20%0A%20%20%20%20%20%20%20%20%20%20%20%20%20%20%20%20var%20html_748f0de4d38042ba93c78828d077d84c%20%3D%20%24%28%60%3Cdiv%20id%3D%22html_748f0de4d38042ba93c78828d077d84c%22%20style%3D%22width%3A%20100.0%25%3B%20height%3A%20100.0%25%3B%22%3E%20%20%20%20%20%20%20%20%20%3Cul%3E%20%20%20%20%20%20%20%20%20%20%20%20%20%3Cli%3E%3Cstrong%3EID%3A%20%3C/strong%3E624%3C/li%3E%20%20%20%20%20%20%20%20%20%20%20%20%20%3Cli%3E%3Cstrong%3ESource%3A%20%3C/strong%3EHenderson%20P%26C%20%2392%3C/li%3E%20%20%20%20%20%20%20%20%20%20%20%20%20%3Cli%3E%3Cstrong%3EName%3A%20%3C/strong%3Eser%20Domenico%20Sannini%2C%20prete%3C/li%3E%20%20%20%20%20%20%20%20%20%3Cul%3E%20%20%20%20%20%3C/div%3E%60%29%5B0%5D%3B%0A%20%20%20%20%20%20%20%20%20%20%20%20%20%20%20%20popup_101305050c934150acbb1414d53c6b0e.setContent%28html_748f0de4d38042ba93c78828d077d84c%29%3B%0A%20%20%20%20%20%20%20%20%20%20%20%20%0A%0A%20%20%20%20%20%20%20%20%20%20%20%20marker_7b4f4074cc004bcda263a76706b5ada3.bindPopup%28popup_101305050c934150acbb1414d53c6b0e%29%0A%20%20%20%20%20%20%20%20%20%20%20%20%3B%0A%0A%20%20%20%20%20%20%20%20%20%20%20%20%0A%20%20%20%20%20%20%20%20%0A%20%20%20%20%0A%20%20%20%20%20%20%20%20var%20marker_9bea8647df2b4cf9af8d82452261c050%20%3D%20L.marker%28%0A%20%20%20%20%20%20%20%20%20%20%20%20%5B43.78066241%2C%2011.25769974%5D%2C%0A%20%20%20%20%20%20%20%20%20%20%20%20%7B%0A%20%20%20%20%20%20%20%20%20%20%20%20%20%20%20%20icon%3A%20new%20L.Icon.Default%28%29%2C%0A%20%20%20%20%20%20%20%20%20%20%20%20%20%20%20%20%7D%0A%20%20%20%20%20%20%20%20%20%20%20%20%29.addTo%28map_146cd8147123498484976a07e362f27f%29%3B%0A%20%20%20%20%20%20%20%20%0A%20%20%20%20%0A%20%20%20%20%20%20%20%20%20%20%20%20var%20popup_e5aaf6ae80d9482a943eca734503fd6b%20%3D%20L.popup%28%7BmaxWidth%3A%20%27100%25%27%0A%20%20%20%20%20%20%20%20%20%20%20%20%0A%20%20%20%20%20%20%20%20%20%20%20%20%7D%29%3B%0A%0A%20%20%20%20%20%20%20%20%20%20%20%20%0A%20%20%20%20%20%20%20%20%20%20%20%20%20%20%20%20var%20html_60eb81c0e92442d5bc0f88c862102626%20%3D%20%24%28%60%3Cdiv%20id%3D%22html_60eb81c0e92442d5bc0f88c862102626%22%20style%3D%22width%3A%20100.0%25%3B%20height%3A%20100.0%25%3B%22%3E%20%20%20%20%20%20%20%20%20%3Cul%3E%20%20%20%20%20%20%20%20%20%20%20%20%20%3Cli%3E%3Cstrong%3EID%3A%20%3C/strong%3E625%3C/li%3E%20%20%20%20%20%20%20%20%20%20%20%20%20%3Cli%3E%3Cstrong%3ESource%3A%20%3C/strong%3EHenderson%20P%26C%20%2392%3C/li%3E%20%20%20%20%20%20%20%20%20%20%20%20%20%3Cli%3E%3Cstrong%3EName%3A%20%3C/strong%3EGiuliano%20da%20le%20Pozze%3C/li%3E%20%20%20%20%20%20%20%20%20%3Cul%3E%20%20%20%20%20%3C/div%3E%60%29%5B0%5D%3B%0A%20%20%20%20%20%20%20%20%20%20%20%20%20%20%20%20popup_e5aaf6ae80d9482a943eca734503fd6b.setContent%28html_60eb81c0e92442d5bc0f88c862102626%29%3B%0A%20%20%20%20%20%20%20%20%20%20%20%20%0A%0A%20%20%20%20%20%20%20%20%20%20%20%20marker_9bea8647df2b4cf9af8d82452261c050.bindPopup%28popup_e5aaf6ae80d9482a943eca734503fd6b%29%0A%20%20%20%20%20%20%20%20%20%20%20%20%3B%0A%0A%20%20%20%20%20%20%20%20%20%20%20%20%0A%20%20%20%20%20%20%20%20%0A%20%20%20%20%0A%20%20%20%20%20%20%20%20var%20marker_7fcf3c91f8cf4549a45e3728203bd8b8%20%3D%20L.marker%28%0A%20%20%20%20%20%20%20%20%20%20%20%20%5B43.78051185%2C%2011.25784819%5D%2C%0A%20%20%20%20%20%20%20%20%20%20%20%20%7B%0A%20%20%20%20%20%20%20%20%20%20%20%20%20%20%20%20icon%3A%20new%20L.Icon.Default%28%29%2C%0A%20%20%20%20%20%20%20%20%20%20%20%20%20%20%20%20%7D%0A%20%20%20%20%20%20%20%20%20%20%20%20%29.addTo%28map_146cd8147123498484976a07e362f27f%29%3B%0A%20%20%20%20%20%20%20%20%0A%20%20%20%20%0A%20%20%20%20%20%20%20%20%20%20%20%20var%20popup_9a5e656af1b2423c88233d6c50103bd7%20%3D%20L.popup%28%7BmaxWidth%3A%20%27100%25%27%0A%20%20%20%20%20%20%20%20%20%20%20%20%0A%20%20%20%20%20%20%20%20%20%20%20%20%7D%29%3B%0A%0A%20%20%20%20%20%20%20%20%20%20%20%20%0A%20%20%20%20%20%20%20%20%20%20%20%20%20%20%20%20var%20html_cd0dc93006854c5ba4fca5358c97c2dc%20%3D%20%24%28%60%3Cdiv%20id%3D%22html_cd0dc93006854c5ba4fca5358c97c2dc%22%20style%3D%22width%3A%20100.0%25%3B%20height%3A%20100.0%25%3B%22%3E%20%20%20%20%20%20%20%20%20%3Cul%3E%20%20%20%20%20%20%20%20%20%20%20%20%20%3Cli%3E%3Cstrong%3EID%3A%20%3C/strong%3E767%3C/li%3E%20%20%20%20%20%20%20%20%20%20%20%20%20%3Cli%3E%3Cstrong%3ESource%3A%20%3C/strong%3EHenderson%20P%26C%20%2392%3C/li%3E%20%20%20%20%20%20%20%20%20%20%20%20%20%3Cli%3E%3Cstrong%3EName%3A%20%3C/strong%3EAlessandro%20di%20Raffaello%2C%20calderaio%3C/li%3E%20%20%20%20%20%20%20%20%20%3Cul%3E%20%20%20%20%20%3C/div%3E%60%29%5B0%5D%3B%0A%20%20%20%20%20%20%20%20%20%20%20%20%20%20%20%20popup_9a5e656af1b2423c88233d6c50103bd7.setContent%28html_cd0dc93006854c5ba4fca5358c97c2dc%29%3B%0A%20%20%20%20%20%20%20%20%20%20%20%20%0A%0A%20%20%20%20%20%20%20%20%20%20%20%20marker_7fcf3c91f8cf4549a45e3728203bd8b8.bindPopup%28popup_9a5e656af1b2423c88233d6c50103bd7%29%0A%20%20%20%20%20%20%20%20%20%20%20%20%3B%0A%0A%20%20%20%20%20%20%20%20%20%20%20%20%0A%20%20%20%20%20%20%20%20%0A%20%20%20%20%0A%20%20%20%20%20%20%20%20var%20marker_77feb06b609549969127c0635a391eb7%20%3D%20L.marker%28%0A%20%20%20%20%20%20%20%20%20%20%20%20%5B43.775751%2C%2011.252284%5D%2C%0A%20%20%20%20%20%20%20%20%20%20%20%20%7B%0A%20%20%20%20%20%20%20%20%20%20%20%20%20%20%20%20icon%3A%20new%20L.Icon.Default%28%29%2C%0A%20%20%20%20%20%20%20%20%20%20%20%20%20%20%20%20%7D%0A%20%20%20%20%20%20%20%20%20%20%20%20%29.addTo%28map_146cd8147123498484976a07e362f27f%29%3B%0A%20%20%20%20%20%20%20%20%0A%20%20%20%20%0A%20%20%20%20%20%20%20%20%20%20%20%20var%20popup_a24ba99e90cf4b268a6960a1f6d501dc%20%3D%20L.popup%28%7BmaxWidth%3A%20%27100%25%27%0A%20%20%20%20%20%20%20%20%20%20%20%20%0A%20%20%20%20%20%20%20%20%20%20%20%20%7D%29%3B%0A%0A%20%20%20%20%20%20%20%20%20%20%20%20%0A%20%20%20%20%20%20%20%20%20%20%20%20%20%20%20%20var%20html_7e3b5d6104c94229ba94ffcaf181bb9f%20%3D%20%24%28%60%3Cdiv%20id%3D%22html_7e3b5d6104c94229ba94ffcaf181bb9f%22%20style%3D%22width%3A%20100.0%25%3B%20height%3A%20100.0%25%3B%22%3E%20%20%20%20%20%20%20%20%20%3Cul%3E%20%20%20%20%20%20%20%20%20%20%20%20%20%3Cli%3E%3Cstrong%3EID%3A%20%3C/strong%3E834%3C/li%3E%20%20%20%20%20%20%20%20%20%20%20%20%20%3Cli%3E%3Cstrong%3ESource%3A%20%3C/strong%3EHenderson%20P%26C%20%2392%3C/li%3E%20%20%20%20%20%20%20%20%20%20%20%20%20%3Cli%3E%3Cstrong%3EName%3A%20%3C/strong%3Ele%20Margarita%20di%20Guasparre%20di%20castro%3C/li%3E%20%20%20%20%20%20%20%20%20%3Cul%3E%20%20%20%20%20%3C/div%3E%60%29%5B0%5D%3B%0A%20%20%20%20%20%20%20%20%20%20%20%20%20%20%20%20popup_a24ba99e90cf4b268a6960a1f6d501dc.setContent%28html_7e3b5d6104c94229ba94ffcaf181bb9f%29%3B%0A%20%20%20%20%20%20%20%20%20%20%20%20%0A%0A%20%20%20%20%20%20%20%20%20%20%20%20marker_77feb06b609549969127c0635a391eb7.bindPopup%28popup_a24ba99e90cf4b268a6960a1f6d501dc%29%0A%20%20%20%20%20%20%20%20%20%20%20%20%3B%0A%0A%20%20%20%20%20%20%20%20%20%20%20%20%0A%20%20%20%20%20%20%20%20%0A%20%20%20%20%0A%20%20%20%20%20%20%20%20var%20marker_97c32e8b3b704132983e4de772621072%20%3D%20L.marker%28%0A%20%20%20%20%20%20%20%20%20%20%20%20%5B43.775553%2C%2011.251728%5D%2C%0A%20%20%20%20%20%20%20%20%20%20%20%20%7B%0A%20%20%20%20%20%20%20%20%20%20%20%20%20%20%20%20icon%3A%20new%20L.Icon.Default%28%29%2C%0A%20%20%20%20%20%20%20%20%20%20%20%20%20%20%20%20%7D%0A%20%20%20%20%20%20%20%20%20%20%20%20%29.addTo%28map_146cd8147123498484976a07e362f27f%29%3B%0A%20%20%20%20%20%20%20%20%0A%20%20%20%20%0A%20%20%20%20%20%20%20%20%20%20%20%20var%20popup_89bdf96ecb5347a2a294ae441f3411e2%20%3D%20L.popup%28%7BmaxWidth%3A%20%27100%25%27%0A%20%20%20%20%20%20%20%20%20%20%20%20%0A%20%20%20%20%20%20%20%20%20%20%20%20%7D%29%3B%0A%0A%20%20%20%20%20%20%20%20%20%20%20%20%0A%20%20%20%20%20%20%20%20%20%20%20%20%20%20%20%20var%20html_9bfa0a47ed794fed857e7cefff73b11a%20%3D%20%24%28%60%3Cdiv%20id%3D%22html_9bfa0a47ed794fed857e7cefff73b11a%22%20style%3D%22width%3A%20100.0%25%3B%20height%3A%20100.0%25%3B%22%3E%20%20%20%20%20%20%20%20%20%3Cul%3E%20%20%20%20%20%20%20%20%20%20%20%20%20%3Cli%3E%3Cstrong%3EID%3A%20%3C/strong%3E908%3C/li%3E%20%20%20%20%20%20%20%20%20%20%20%20%20%3Cli%3E%3Cstrong%3ESource%3A%20%3C/strong%3EHenderson%20P%26C%20%2392%3C/li%3E%20%20%20%20%20%20%20%20%20%20%20%20%20%3Cli%3E%3Cstrong%3EName%3A%20%3C/strong%3EPiero%20di%20Jacopo%20Trenetti%3C/li%3E%20%20%20%20%20%20%20%20%20%3Cul%3E%20%20%20%20%20%3C/div%3E%60%29%5B0%5D%3B%0A%20%20%20%20%20%20%20%20%20%20%20%20%20%20%20%20popup_89bdf96ecb5347a2a294ae441f3411e2.setContent%28html_9bfa0a47ed794fed857e7cefff73b11a%29%3B%0A%20%20%20%20%20%20%20%20%20%20%20%20%0A%0A%20%20%20%20%20%20%20%20%20%20%20%20marker_97c32e8b3b704132983e4de772621072.bindPopup%28popup_89bdf96ecb5347a2a294ae441f3411e2%29%0A%20%20%20%20%20%20%20%20%20%20%20%20%3B%0A%0A%20%20%20%20%20%20%20%20%20%20%20%20%0A%20%20%20%20%20%20%20%20%0A%20%20%20%20%0A%20%20%20%20%20%20%20%20var%20marker_c2f6cf81e48e43b7a1f7ce7b0721836c%20%3D%20L.marker%28%0A%20%20%20%20%20%20%20%20%20%20%20%20%5B43.77719444%2C%2011.24916444%5D%2C%0A%20%20%20%20%20%20%20%20%20%20%20%20%7B%0A%20%20%20%20%20%20%20%20%20%20%20%20%20%20%20%20icon%3A%20new%20L.Icon.Default%28%29%2C%0A%20%20%20%20%20%20%20%20%20%20%20%20%20%20%20%20%7D%0A%20%20%20%20%20%20%20%20%20%20%20%20%29.addTo%28map_146cd8147123498484976a07e362f27f%29%3B%0A%20%20%20%20%20%20%20%20%0A%20%20%20%20%0A%20%20%20%20%20%20%20%20%20%20%20%20var%20popup_c5022308bc9641688f45faffd96dd9e5%20%3D%20L.popup%28%7BmaxWidth%3A%20%27100%25%27%0A%20%20%20%20%20%20%20%20%20%20%20%20%0A%20%20%20%20%20%20%20%20%20%20%20%20%7D%29%3B%0A%0A%20%20%20%20%20%20%20%20%20%20%20%20%0A%20%20%20%20%20%20%20%20%20%20%20%20%20%20%20%20var%20html_77bebfee874b4eb994d0d5aa6a5a211d%20%3D%20%24%28%60%3Cdiv%20id%3D%22html_77bebfee874b4eb994d0d5aa6a5a211d%22%20style%3D%22width%3A%20100.0%25%3B%20height%3A%20100.0%25%3B%22%3E%20%20%20%20%20%20%20%20%20%3Cul%3E%20%20%20%20%20%20%20%20%20%20%20%20%20%3Cli%3E%3Cstrong%3EID%3A%20%3C/strong%3E5357%3C/li%3E%20%20%20%20%20%20%20%20%20%20%20%20%20%3Cli%3E%3Cstrong%3ESource%3A%20%3C/strong%3EHenderson%20P%26C%20%2392%3C/li%3E%20%20%20%20%20%20%20%20%20%20%20%20%20%3Cli%3E%3Cstrong%3EName%3A%20%3C/strong%3ELodovico%20di%20Giovanni%20Guiducci%3C/li%3E%20%20%20%20%20%20%20%20%20%3Cul%3E%20%20%20%20%20%3C/div%3E%60%29%5B0%5D%3B%0A%20%20%20%20%20%20%20%20%20%20%20%20%20%20%20%20popup_c5022308bc9641688f45faffd96dd9e5.setContent%28html_77bebfee874b4eb994d0d5aa6a5a211d%29%3B%0A%20%20%20%20%20%20%20%20%20%20%20%20%0A%0A%20%20%20%20%20%20%20%20%20%20%20%20marker_c2f6cf81e48e43b7a1f7ce7b0721836c.bindPopup%28popup_c5022308bc9641688f45faffd96dd9e5%29%0A%20%20%20%20%20%20%20%20%20%20%20%20%3B%0A%0A%20%20%20%20%20%20%20%20%20%20%20%20%0A%20%20%20%20%20%20%20%20%0A%20%20%20%20%0A%20%20%20%20%20%20%20%20var%20marker_dfa36d67df63415b8a7c9c5637e49803%20%3D%20L.marker%28%0A%20%20%20%20%20%20%20%20%20%20%20%20%5B43.77600143%2C%2011.26026457%5D%2C%0A%20%20%20%20%20%20%20%20%20%20%20%20%7B%0A%20%20%20%20%20%20%20%20%20%20%20%20%20%20%20%20icon%3A%20new%20L.Icon.Default%28%29%2C%0A%20%20%20%20%20%20%20%20%20%20%20%20%20%20%20%20%7D%0A%20%20%20%20%20%20%20%20%20%20%20%20%29.addTo%28map_146cd8147123498484976a07e362f27f%29%3B%0A%20%20%20%20%20%20%20%20%0A%20%20%20%20%0A%20%20%20%20%20%20%20%20%20%20%20%20var%20popup_d5e240ee071e4eefaa56a3e5d0a80c25%20%3D%20L.popup%28%7BmaxWidth%3A%20%27100%25%27%0A%20%20%20%20%20%20%20%20%20%20%20%20%0A%20%20%20%20%20%20%20%20%20%20%20%20%7D%29%3B%0A%0A%20%20%20%20%20%20%20%20%20%20%20%20%0A%20%20%20%20%20%20%20%20%20%20%20%20%20%20%20%20var%20html_539a30427e8c477085ac8bf4be31ffd4%20%3D%20%24%28%60%3Cdiv%20id%3D%22html_539a30427e8c477085ac8bf4be31ffd4%22%20style%3D%22width%3A%20100.0%25%3B%20height%3A%20100.0%25%3B%22%3E%20%20%20%20%20%20%20%20%20%3Cul%3E%20%20%20%20%20%20%20%20%20%20%20%20%20%3Cli%3E%3Cstrong%3EID%3A%20%3C/strong%3E2945%3C/li%3E%20%20%20%20%20%20%20%20%20%20%20%20%20%3Cli%3E%3Cstrong%3ESource%3A%20%3C/strong%3EHenderson%20P%26C%20%2392%3C/li%3E%20%20%20%20%20%20%20%20%20%20%20%20%20%3Cli%3E%3Cstrong%3EName%3A%20%3C/strong%3Emesser%20Vincenzo%20di%20Jacopo%20Cancellieri%3C/li%3E%20%20%20%20%20%20%20%20%20%3Cul%3E%20%20%20%20%20%3C/div%3E%60%29%5B0%5D%3B%0A%20%20%20%20%20%20%20%20%20%20%20%20%20%20%20%20popup_d5e240ee071e4eefaa56a3e5d0a80c25.setContent%28html_539a30427e8c477085ac8bf4be31ffd4%29%3B%0A%20%20%20%20%20%20%20%20%20%20%20%20%0A%0A%20%20%20%20%20%20%20%20%20%20%20%20marker_dfa36d67df63415b8a7c9c5637e49803.bindPopup%28popup_d5e240ee071e4eefaa56a3e5d0a80c25%29%0A%20%20%20%20%20%20%20%20%20%20%20%20%3B%0A%0A%20%20%20%20%20%20%20%20%20%20%20%20%0A%20%20%20%20%20%20%20%20%0A%20%20%20%20%0A%20%20%20%20%20%20%20%20var%20marker_36dc1615792d4d33a7e32fac665c9d19%20%3D%20L.marker%28%0A%20%20%20%20%20%20%20%20%20%20%20%20%5B43.77594286%2C%2011.26019514%5D%2C%0A%20%20%20%20%20%20%20%20%20%20%20%20%7B%0A%20%20%20%20%20%20%20%20%20%20%20%20%20%20%20%20icon%3A%20new%20L.Icon.Default%28%29%2C%0A%20%20%20%20%20%20%20%20%20%20%20%20%20%20%20%20%7D%0A%20%20%20%20%20%20%20%20%20%20%20%20%29.addTo%28map_146cd8147123498484976a07e362f27f%29%3B%0A%20%20%20%20%20%20%20%20%0A%20%20%20%20%0A%20%20%20%20%20%20%20%20%20%20%20%20var%20popup_fac6ffa80e8c47bc8d18cb019044837c%20%3D%20L.popup%28%7BmaxWidth%3A%20%27100%25%27%0A%20%20%20%20%20%20%20%20%20%20%20%20%0A%20%20%20%20%20%20%20%20%20%20%20%20%7D%29%3B%0A%0A%20%20%20%20%20%20%20%20%20%20%20%20%0A%20%20%20%20%20%20%20%20%20%20%20%20%20%20%20%20var%20html_6af2659d3a4342f8b80078517a8ef356%20%3D%20%24%28%60%3Cdiv%20id%3D%22html_6af2659d3a4342f8b80078517a8ef356%22%20style%3D%22width%3A%20100.0%25%3B%20height%3A%20100.0%25%3B%22%3E%20%20%20%20%20%20%20%20%20%3Cul%3E%20%20%20%20%20%20%20%20%20%20%20%20%20%3Cli%3E%3Cstrong%3EID%3A%20%3C/strong%3E2946%3C/li%3E%20%20%20%20%20%20%20%20%20%20%20%20%20%3Cli%3E%3Cstrong%3ESource%3A%20%3C/strong%3EHenderson%20P%26C%20%2392%3C/li%3E%20%20%20%20%20%20%20%20%20%20%20%20%20%3Cli%3E%3Cstrong%3EName%3A%20%3C/strong%3EGiovanfrancesco%20Filippo%3C/li%3E%20%20%20%20%20%20%20%20%20%3Cul%3E%20%20%20%20%20%3C/div%3E%60%29%5B0%5D%3B%0A%20%20%20%20%20%20%20%20%20%20%20%20%20%20%20%20popup_fac6ffa80e8c47bc8d18cb019044837c.setContent%28html_6af2659d3a4342f8b80078517a8ef356%29%3B%0A%20%20%20%20%20%20%20%20%20%20%20%20%0A%0A%20%20%20%20%20%20%20%20%20%20%20%20marker_36dc1615792d4d33a7e32fac665c9d19.bindPopup%28popup_fac6ffa80e8c47bc8d18cb019044837c%29%0A%20%20%20%20%20%20%20%20%20%20%20%20%3B%0A%0A%20%20%20%20%20%20%20%20%20%20%20%20%0A%20%20%20%20%20%20%20%20%0A%20%20%20%20%0A%20%20%20%20%20%20%20%20var%20marker_8c3a551c85514600ba453a3f8ca3a869%20%3D%20L.marker%28%0A%20%20%20%20%20%20%20%20%20%20%20%20%5B43.77588429%2C%2011.26012571%5D%2C%0A%20%20%20%20%20%20%20%20%20%20%20%20%7B%0A%20%20%20%20%20%20%20%20%20%20%20%20%20%20%20%20icon%3A%20new%20L.Icon.Default%28%29%2C%0A%20%20%20%20%20%20%20%20%20%20%20%20%20%20%20%20%7D%0A%20%20%20%20%20%20%20%20%20%20%20%20%29.addTo%28map_146cd8147123498484976a07e362f27f%29%3B%0A%20%20%20%20%20%20%20%20%0A%20%20%20%20%0A%20%20%20%20%20%20%20%20%20%20%20%20var%20popup_9c411d3396ae4e15923710915393e7e6%20%3D%20L.popup%28%7BmaxWidth%3A%20%27100%25%27%0A%20%20%20%20%20%20%20%20%20%20%20%20%0A%20%20%20%20%20%20%20%20%20%20%20%20%7D%29%3B%0A%0A%20%20%20%20%20%20%20%20%20%20%20%20%0A%20%20%20%20%20%20%20%20%20%20%20%20%20%20%20%20var%20html_bb333ff00fd6482cbd7d0361c939993f%20%3D%20%24%28%60%3Cdiv%20id%3D%22html_bb333ff00fd6482cbd7d0361c939993f%22%20style%3D%22width%3A%20100.0%25%3B%20height%3A%20100.0%25%3B%22%3E%20%20%20%20%20%20%20%20%20%3Cul%3E%20%20%20%20%20%20%20%20%20%20%20%20%20%3Cli%3E%3Cstrong%3EID%3A%20%3C/strong%3E2947%3C/li%3E%20%20%20%20%20%20%20%20%20%20%20%20%20%3Cli%3E%3Cstrong%3ESource%3A%20%3C/strong%3EHenderson%20P%26C%20%2392%3C/li%3E%20%20%20%20%20%20%20%20%20%20%20%20%20%3Cli%3E%3Cstrong%3EName%3A%20%3C/strong%3Eser%20Lorenzo%20di%20Francesco%20Carboli%3C/li%3E%20%20%20%20%20%20%20%20%20%3Cul%3E%20%20%20%20%20%3C/div%3E%60%29%5B0%5D%3B%0A%20%20%20%20%20%20%20%20%20%20%20%20%20%20%20%20popup_9c411d3396ae4e15923710915393e7e6.setContent%28html_bb333ff00fd6482cbd7d0361c939993f%29%3B%0A%20%20%20%20%20%20%20%20%20%20%20%20%0A%0A%20%20%20%20%20%20%20%20%20%20%20%20marker_8c3a551c85514600ba453a3f8ca3a869.bindPopup%28popup_9c411d3396ae4e15923710915393e7e6%29%0A%20%20%20%20%20%20%20%20%20%20%20%20%3B%0A%0A%20%20%20%20%20%20%20%20%20%20%20%20%0A%20%20%20%20%20%20%20%20%0A%20%20%20%20%0A%20%20%20%20%20%20%20%20var%20marker_60ecb8f3b0c7445d87e0ba4872602347%20%3D%20L.marker%28%0A%20%20%20%20%20%20%20%20%20%20%20%20%5B43.77606%2C%2011.260334%5D%2C%0A%20%20%20%20%20%20%20%20%20%20%20%20%7B%0A%20%20%20%20%20%20%20%20%20%20%20%20%20%20%20%20icon%3A%20new%20L.Icon.Default%28%29%2C%0A%20%20%20%20%20%20%20%20%20%20%20%20%20%20%20%20%7D%0A%20%20%20%20%20%20%20%20%20%20%20%20%29.addTo%28map_146cd8147123498484976a07e362f27f%29%3B%0A%20%20%20%20%20%20%20%20%0A%20%20%20%20%0A%20%20%20%20%20%20%20%20%20%20%20%20var%20popup_a291561a9b3640a3b788ded698850919%20%3D%20L.popup%28%7BmaxWidth%3A%20%27100%25%27%0A%20%20%20%20%20%20%20%20%20%20%20%20%0A%20%20%20%20%20%20%20%20%20%20%20%20%7D%29%3B%0A%0A%20%20%20%20%20%20%20%20%20%20%20%20%0A%20%20%20%20%20%20%20%20%20%20%20%20%20%20%20%20var%20html_1edc332a26d94f4288232dce39da5b71%20%3D%20%24%28%60%3Cdiv%20id%3D%22html_1edc332a26d94f4288232dce39da5b71%22%20style%3D%22width%3A%20100.0%25%3B%20height%3A%20100.0%25%3B%22%3E%20%20%20%20%20%20%20%20%20%3Cul%3E%20%20%20%20%20%20%20%20%20%20%20%20%20%3Cli%3E%3Cstrong%3EID%3A%20%3C/strong%3E2963%3C/li%3E%20%20%20%20%20%20%20%20%20%20%20%20%20%3Cli%3E%3Cstrong%3ESource%3A%20%3C/strong%3EHenderson%20P%26C%20%2392%3C/li%3E%20%20%20%20%20%20%20%20%20%20%20%20%20%3Cli%3E%3Cstrong%3EName%3A%20%3C/strong%3EPierfilippo%20di%20Gramiozzo%20Pandolfini%3C/li%3E%20%20%20%20%20%20%20%20%20%3Cul%3E%20%20%20%20%20%3C/div%3E%60%29%5B0%5D%3B%0A%20%20%20%20%20%20%20%20%20%20%20%20%20%20%20%20popup_a291561a9b3640a3b788ded698850919.setContent%28html_1edc332a26d94f4288232dce39da5b71%29%3B%0A%20%20%20%20%20%20%20%20%20%20%20%20%0A%0A%20%20%20%20%20%20%20%20%20%20%20%20marker_60ecb8f3b0c7445d87e0ba4872602347.bindPopup%28popup_a291561a9b3640a3b788ded698850919%29%0A%20%20%20%20%20%20%20%20%20%20%20%20%3B%0A%0A%20%20%20%20%20%20%20%20%20%20%20%20%0A%20%20%20%20%20%20%20%20%0A%20%20%20%20%0A%20%20%20%20%20%20%20%20var%20marker_c8ee14cac2854ec49310eee8a525f421%20%3D%20L.marker%28%0A%20%20%20%20%20%20%20%20%20%20%20%20%5B43.7713504%2C%2011.2626168%5D%2C%0A%20%20%20%20%20%20%20%20%20%20%20%20%7B%0A%20%20%20%20%20%20%20%20%20%20%20%20%20%20%20%20icon%3A%20new%20L.Icon.Default%28%29%2C%0A%20%20%20%20%20%20%20%20%20%20%20%20%20%20%20%20%7D%0A%20%20%20%20%20%20%20%20%20%20%20%20%29.addTo%28map_146cd8147123498484976a07e362f27f%29%3B%0A%20%20%20%20%20%20%20%20%0A%20%20%20%20%0A%20%20%20%20%20%20%20%20%20%20%20%20var%20popup_08c31d72eb944c9692eadc47aafb86d3%20%3D%20L.popup%28%7BmaxWidth%3A%20%27100%25%27%0A%20%20%20%20%20%20%20%20%20%20%20%20%0A%20%20%20%20%20%20%20%20%20%20%20%20%7D%29%3B%0A%0A%20%20%20%20%20%20%20%20%20%20%20%20%0A%20%20%20%20%20%20%20%20%20%20%20%20%20%20%20%20var%20html_3bb5c841a4af4a9ca49b7f42c3c531b4%20%3D%20%24%28%60%3Cdiv%20id%3D%22html_3bb5c841a4af4a9ca49b7f42c3c531b4%22%20style%3D%22width%3A%20100.0%25%3B%20height%3A%20100.0%25%3B%22%3E%20%20%20%20%20%20%20%20%20%3Cul%3E%20%20%20%20%20%20%20%20%20%20%20%20%20%3Cli%3E%3Cstrong%3EID%3A%20%3C/strong%3E3296%3C/li%3E%20%20%20%20%20%20%20%20%20%20%20%20%20%3Cli%3E%3Cstrong%3ESource%3A%20%3C/strong%3EHenderson%20P%26C%20%2392%3C/li%3E%20%20%20%20%20%20%20%20%20%20%20%20%20%3Cli%3E%3Cstrong%3EName%3A%20%3C/strong%3EPiero%20di%20Simone%20Querei%20da%20Sesto%2C%20cieco%3C/li%3E%20%20%20%20%20%20%20%20%20%3Cul%3E%20%20%20%20%20%3C/div%3E%60%29%5B0%5D%3B%0A%20%20%20%20%20%20%20%20%20%20%20%20%20%20%20%20popup_08c31d72eb944c9692eadc47aafb86d3.setContent%28html_3bb5c841a4af4a9ca49b7f42c3c531b4%29%3B%0A%20%20%20%20%20%20%20%20%20%20%20%20%0A%0A%20%20%20%20%20%20%20%20%20%20%20%20marker_c8ee14cac2854ec49310eee8a525f421.bindPopup%28popup_08c31d72eb944c9692eadc47aafb86d3%29%0A%20%20%20%20%20%20%20%20%20%20%20%20%3B%0A%0A%20%20%20%20%20%20%20%20%20%20%20%20%0A%20%20%20%20%20%20%20%20%0A%20%20%20%20%0A%20%20%20%20%20%20%20%20var%20marker_f5d6904383d547a3a91ab919c2ae268b%20%3D%20L.marker%28%0A%20%20%20%20%20%20%20%20%20%20%20%20%5B43.77074933%2C%2011.26244367%5D%2C%0A%20%20%20%20%20%20%20%20%20%20%20%20%7B%0A%20%20%20%20%20%20%20%20%20%20%20%20%20%20%20%20icon%3A%20new%20L.Icon.Default%28%29%2C%0A%20%20%20%20%20%20%20%20%20%20%20%20%20%20%20%20%7D%0A%20%20%20%20%20%20%20%20%20%20%20%20%29.addTo%28map_146cd8147123498484976a07e362f27f%29%3B%0A%20%20%20%20%20%20%20%20%0A%20%20%20%20%0A%20%20%20%20%20%20%20%20%20%20%20%20var%20popup_7ff205c157ac4133acbd33d27fccd5f1%20%3D%20L.popup%28%7BmaxWidth%3A%20%27100%25%27%0A%20%20%20%20%20%20%20%20%20%20%20%20%0A%20%20%20%20%20%20%20%20%20%20%20%20%7D%29%3B%0A%0A%20%20%20%20%20%20%20%20%20%20%20%20%0A%20%20%20%20%20%20%20%20%20%20%20%20%20%20%20%20var%20html_9003a8a6087f42ff8211f6ef14fb847d%20%3D%20%24%28%60%3Cdiv%20id%3D%22html_9003a8a6087f42ff8211f6ef14fb847d%22%20style%3D%22width%3A%20100.0%25%3B%20height%3A%20100.0%25%3B%22%3E%20%20%20%20%20%20%20%20%20%3Cul%3E%20%20%20%20%20%20%20%20%20%20%20%20%20%3Cli%3E%3Cstrong%3EID%3A%20%3C/strong%3E3455%3C/li%3E%20%20%20%20%20%20%20%20%20%20%20%20%20%3Cli%3E%3Cstrong%3ESource%3A%20%3C/strong%3EHenderson%20P%26C%20%2392%3C/li%3E%20%20%20%20%20%20%20%20%20%20%20%20%20%3Cli%3E%3Cstrong%3EName%3A%20%3C/strong%3EDomenico%20di%20Benedetto%20da%20Castello%2C%20tessitore%3C/li%3E%20%20%20%20%20%20%20%20%20%3Cul%3E%20%20%20%20%20%3C/div%3E%60%29%5B0%5D%3B%0A%20%20%20%20%20%20%20%20%20%20%20%20%20%20%20%20popup_7ff205c157ac4133acbd33d27fccd5f1.setContent%28html_9003a8a6087f42ff8211f6ef14fb847d%29%3B%0A%20%20%20%20%20%20%20%20%20%20%20%20%0A%0A%20%20%20%20%20%20%20%20%20%20%20%20marker_f5d6904383d547a3a91ab919c2ae268b.bindPopup%28popup_7ff205c157ac4133acbd33d27fccd5f1%29%0A%20%20%20%20%20%20%20%20%20%20%20%20%3B%0A%0A%20%20%20%20%20%20%20%20%20%20%20%20%0A%20%20%20%20%20%20%20%20%0A%20%20%20%20%0A%20%20%20%20%20%20%20%20var%20marker_975108e1871d413285182a15a9d91de0%20%3D%20L.marker%28%0A%20%20%20%20%20%20%20%20%20%20%20%20%5B43.76905%2C%2011.26039%5D%2C%0A%20%20%20%20%20%20%20%20%20%20%20%20%7B%0A%20%20%20%20%20%20%20%20%20%20%20%20%20%20%20%20icon%3A%20new%20L.Icon.Default%28%29%2C%0A%20%20%20%20%20%20%20%20%20%20%20%20%20%20%20%20%7D%0A%20%20%20%20%20%20%20%20%20%20%20%20%29.addTo%28map_146cd8147123498484976a07e362f27f%29%3B%0A%20%20%20%20%20%20%20%20%0A%20%20%20%20%0A%20%20%20%20%20%20%20%20%20%20%20%20var%20popup_2ee7d47eb212426b81e2c8db7409b885%20%3D%20L.popup%28%7BmaxWidth%3A%20%27100%25%27%0A%20%20%20%20%20%20%20%20%20%20%20%20%0A%20%20%20%20%20%20%20%20%20%20%20%20%7D%29%3B%0A%0A%20%20%20%20%20%20%20%20%20%20%20%20%0A%20%20%20%20%20%20%20%20%20%20%20%20%20%20%20%20var%20html_2cd35c6f0b26442eabddfaca612a7e3f%20%3D%20%24%28%60%3Cdiv%20id%3D%22html_2cd35c6f0b26442eabddfaca612a7e3f%22%20style%3D%22width%3A%20100.0%25%3B%20height%3A%20100.0%25%3B%22%3E%20%20%20%20%20%20%20%20%20%3Cul%3E%20%20%20%20%20%20%20%20%20%20%20%20%20%3Cli%3E%3Cstrong%3EID%3A%20%3C/strong%3E4120%3C/li%3E%20%20%20%20%20%20%20%20%20%20%20%20%20%3Cli%3E%3Cstrong%3ESource%3A%20%3C/strong%3EHenderson%20P%26C%20%2392%3C/li%3E%20%20%20%20%20%20%20%20%20%20%20%20%20%3Cli%3E%3Cstrong%3EName%3A%20%3C/strong%3EMagistro%20Giovanni%20di%20Bartolomeo%20di%20Giovanni%2C%20ciabattino%3C/li%3E%20%20%20%20%20%20%20%20%20%3Cul%3E%20%20%20%20%20%3C/div%3E%60%29%5B0%5D%3B%0A%20%20%20%20%20%20%20%20%20%20%20%20%20%20%20%20popup_2ee7d47eb212426b81e2c8db7409b885.setContent%28html_2cd35c6f0b26442eabddfaca612a7e3f%29%3B%0A%20%20%20%20%20%20%20%20%20%20%20%20%0A%0A%20%20%20%20%20%20%20%20%20%20%20%20marker_975108e1871d413285182a15a9d91de0.bindPopup%28popup_2ee7d47eb212426b81e2c8db7409b885%29%0A%20%20%20%20%20%20%20%20%20%20%20%20%3B%0A%0A%20%20%20%20%20%20%20%20%20%20%20%20%0A%20%20%20%20%20%20%20%20%0A%20%20%20%20%0A%20%20%20%20%20%20%20%20var%20marker_b18f5b73e3754fdd952f79254ff0ed45%20%3D%20L.marker%28%0A%20%20%20%20%20%20%20%20%20%20%20%20%5B43.76794%2C%2011.25578%5D%2C%0A%20%20%20%20%20%20%20%20%20%20%20%20%7B%0A%20%20%20%20%20%20%20%20%20%20%20%20%20%20%20%20icon%3A%20new%20L.Icon.Default%28%29%2C%0A%20%20%20%20%20%20%20%20%20%20%20%20%20%20%20%20%7D%0A%20%20%20%20%20%20%20%20%20%20%20%20%29.addTo%28map_146cd8147123498484976a07e362f27f%29%3B%0A%20%20%20%20%20%20%20%20%0A%20%20%20%20%0A%20%20%20%20%20%20%20%20%20%20%20%20var%20popup_82e156102c31425ebd63976631caf95c%20%3D%20L.popup%28%7BmaxWidth%3A%20%27100%25%27%0A%20%20%20%20%20%20%20%20%20%20%20%20%0A%20%20%20%20%20%20%20%20%20%20%20%20%7D%29%3B%0A%0A%20%20%20%20%20%20%20%20%20%20%20%20%0A%20%20%20%20%20%20%20%20%20%20%20%20%20%20%20%20var%20html_ed88b6c8fcd94b41b7d3857ac7ca3ef1%20%3D%20%24%28%60%3Cdiv%20id%3D%22html_ed88b6c8fcd94b41b7d3857ac7ca3ef1%22%20style%3D%22width%3A%20100.0%25%3B%20height%3A%20100.0%25%3B%22%3E%20%20%20%20%20%20%20%20%20%3Cul%3E%20%20%20%20%20%20%20%20%20%20%20%20%20%3Cli%3E%3Cstrong%3EID%3A%20%3C/strong%3E4651%3C/li%3E%20%20%20%20%20%20%20%20%20%20%20%20%20%3Cli%3E%3Cstrong%3ESource%3A%20%3C/strong%3EHenderson%20P%26C%20%2392%3C/li%3E%20%20%20%20%20%20%20%20%20%20%20%20%20%3Cli%3E%3Cstrong%3EName%3A%20%3C/strong%3ETaddeo%2C%20sarto%3C/li%3E%20%20%20%20%20%20%20%20%20%3Cul%3E%20%20%20%20%20%3C/div%3E%60%29%5B0%5D%3B%0A%20%20%20%20%20%20%20%20%20%20%20%20%20%20%20%20popup_82e156102c31425ebd63976631caf95c.setContent%28html_ed88b6c8fcd94b41b7d3857ac7ca3ef1%29%3B%0A%20%20%20%20%20%20%20%20%20%20%20%20%0A%0A%20%20%20%20%20%20%20%20%20%20%20%20marker_b18f5b73e3754fdd952f79254ff0ed45.bindPopup%28popup_82e156102c31425ebd63976631caf95c%29%0A%20%20%20%20%20%20%20%20%20%20%20%20%3B%0A%0A%20%20%20%20%20%20%20%20%20%20%20%20%0A%20%20%20%20%20%20%20%20%0A%3C/script%3E onload=\"this.contentDocument.open();this.contentDocument.write(    decodeURIComponent(this.getAttribute('data-html')));this.contentDocument.close();\" allowfullscreen webkitallowfullscreen mozallowfullscreen></iframe></div></div>"
      ],
      "text/plain": [
       "<folium.folium.Map at 0x7fca028df790>"
      ]
     },
     "execution_count": 130,
     "metadata": {},
     "output_type": "execute_result"
    }
   ],
   "source": [
    "our_map"
   ]
  },
  {
   "cell_type": "code",
   "execution_count": null,
   "metadata": {
    "id": "2Y3RLqLSIImn"
   },
   "outputs": [],
   "source": []
  }
 ],
 "metadata": {
  "colab": {
   "name": "DDL_2022_Pandas_Jupyter.ipynb",
   "provenance": []
  },
  "kernelspec": {
   "display_name": "Python 3 (ipykernel)",
   "language": "python",
   "name": "python3"
  },
  "language_info": {
   "codemirror_mode": {
    "name": "ipython",
    "version": 3
   },
   "file_extension": ".py",
   "mimetype": "text/x-python",
   "name": "python",
   "nbconvert_exporter": "python",
   "pygments_lexer": "ipython3",
   "version": "3.8.12"
  },
  "toc": {
   "base_numbering": 1,
   "nav_menu": {},
   "number_sections": true,
   "sideBar": true,
   "skip_h1_title": false,
   "title_cell": "Table of Contents",
   "title_sidebar": "Contents",
   "toc_cell": false,
   "toc_position": {},
   "toc_section_display": true,
   "toc_window_display": false
  }
 },
 "nbformat": 4,
 "nbformat_minor": 4
}
