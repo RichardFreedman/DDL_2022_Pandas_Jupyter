{
 "cells": [
  {
   "cell_type": "markdown",
   "metadata": {
    "id": "9K8MnxhaIImC"
   },
   "source": [
    "# RSA DDL 2022:  Using Jupyter Notebooks and Pandas to Work with Data\n",
    "\n",
    "Richard Freedman (Haverford College)<br>\n",
    "rfreedma@haverford.edu  <br>\n",
    "https://orcid.org/0000-0001-5550-3674 <br>\n",
    "\n",
    "Daniel Russo-Batterham (The University of Melbourne) <br>\n",
    "daniel.russo@unimelb.edu.au <br>\n",
    "https://orcid.org/0000-0001-7550-528X <br>\n"
   ]
  },
  {
   "cell_type": "markdown",
   "metadata": {
    "id": "WhdBzidHIImH"
   },
   "source": [
    "## A. Introduction\n",
    "\n",
    "\n",
    "* **Jupyter Notebooks** allow anyone to run **Python** code in any browser, without the need to use the terminal or command line\n",
    "\n",
    "* **Jupyter Notebooks** are organized as 'cells', which can be **commentary** (like this one, which is static), or **code** (those below, which produce dyanmic output in the form of charts or tabular data frames.  \n",
    "\n",
    "* To run an individual cell, use the **`arrow/run`** command at the top of the Notebook, or just press **`Shift + Enter`** on your keyboard.\n"
   ]
  },
  {
   "cell_type": "markdown",
   "metadata": {
    "id": "dZVsIj-mIImH"
   },
   "source": [
    "### A.1 Import Libraries\n",
    "\n",
    "Before we can do anything we need to import the python tools we need:\n",
    "\n",
    "* **pandas** is the main library\n",
    "* **matplot** will help us render graphs and charts\n",
    "* **folium** will help us with GIS and maps\n",
    "* there are dozens of other standard libraries; if they work with Python, they will work with Jupyter and Pandas"
   ]
  },
  {
   "cell_type": "code",
   "execution_count": 12,
   "metadata": {
    "ExecuteTime": {
     "end_time": "2022-02-10T23:28:15.994052Z",
     "start_time": "2022-02-10T23:28:14.791696Z"
    },
    "id": "3_H8IHsFIImI"
   },
   "outputs": [],
   "source": [
    "import pandas as pd\n",
    "import matplotlib.pyplot as plt\n",
    "import networkx as nx\n",
    "import folium\n",
    "import numpy as np\n",
    "from datetime import datetime"
   ]
  },
  {
   "cell_type": "markdown",
   "metadata": {
    "id": "-b7jBmh9RMPG"
   },
   "source": [
    "### A.2  URLs of our Data Sets"
   ]
  },
  {
   "cell_type": "code",
   "execution_count": 2,
   "metadata": {
    "id": "tIVBIYR-QQTr"
   },
   "outputs": [],
   "source": [
    "emblematica_books = \"data_files/bookObjects.csv\"\n",
    "emblematica_emblems = \"data_files/emblemObjects.csv\"\n",
    "decima_data = \"data_files/Decima_data.csv\"\n",
    "bartoli_letters = 'https://docs.google.com/spreadsheets/d/e/2PACX-1vRhB4rw1W7DMgO8EEn8jhvRVuIGe-NvcTVMSwCXKxZQ3_B8LUB8OmLhMKAbFap8K3VqcfEQxG8ZKYvq/pub?output=csv'\n",
    "\n",
    "du_chemin_poems = 'https://docs.google.com/spreadsheets/d/e/2PACX-1vRrNA-LgA5pyIIB-FPDuIBU5eZy6dnL5WHHIkRDJIhi-G9fZPemaa6s8h_bNKg5mSx6yi7gFYdIk64w/pub?output=csv'\n",
    "\n",
    "compagnie_data = 'https://docs.google.com/spreadsheets/d/e/2PACX-1vRSKiDNpqPfMPLcLz-W6amuDsVZabZuFWqcrpiXNVsZecxRKlFCkoFlCGYkm5YVJaKllH9HWV3FvO-V/pub?output=csv'"
   ]
  },
  {
   "cell_type": "markdown",
   "metadata": {
    "id": "KHJ2vDklIImM"
   },
   "source": [
    "### A.3  Make a DataFrame\n",
    "\n",
    "* The basic unit of work in Pandas is the DataFrame (a table representing the data as columns (with the headings from our CSV files) and rows.\n",
    "* The left-hand column is called the `index`.  Here it's simply a number, but we can change that.  **NB**:  index starts at \"0\"!\n",
    "\n",
    "**Create a DataFrame** by importing one of the CSV files.  We'll also give the frame a name (`books`):"
   ]
  },
  {
   "cell_type": "code",
   "execution_count": 37,
   "metadata": {
    "ExecuteTime": {
     "end_time": "2022-02-10T23:28:16.147645Z",
     "start_time": "2022-02-10T23:28:16.132349Z"
    },
    "id": "MVcLXEIyIImN"
   },
   "outputs": [],
   "source": [
    "books = pd.read_csv(emblematica_books)"
   ]
  },
  {
   "cell_type": "markdown",
   "metadata": {
    "id": "yIAtzsXQIImO"
   },
   "source": [
    "### A.4 Inspect the DataFrame\n",
    "\n",
    "Now we can look at the data in various ways to see what's here:\n",
    "\n",
    "* `books.head()` shows us just the first five entries (for brevity).  \n",
    "* We could also see `books.tail()`, or `books.sample(5)` to see a random sample of five.\n",
    "* `books.shape` will tell us the size of our frame:  how many rows and columns\n",
    "\n"
   ]
  },
  {
   "cell_type": "code",
   "execution_count": 38,
   "metadata": {
    "ExecuteTime": {
     "end_time": "2022-02-10T23:28:16.169861Z",
     "start_time": "2022-02-10T23:28:16.150328Z"
    },
    "colab": {
     "base_uri": "https://localhost:8080/",
     "height": 583
    },
    "id": "9EZrZJFzIImO",
    "outputId": "3989d9a8-6ce1-40d8-f090-af3a03822a03"
   },
   "outputs": [
    {
     "data": {
      "text/html": [
       "<div>\n",
       "<style scoped>\n",
       "    .dataframe tbody tr th:only-of-type {\n",
       "        vertical-align: middle;\n",
       "    }\n",
       "\n",
       "    .dataframe tbody tr th {\n",
       "        vertical-align: top;\n",
       "    }\n",
       "\n",
       "    .dataframe thead th {\n",
       "        text-align: right;\n",
       "    }\n",
       "</style>\n",
       "<table border=\"1\" class=\"dataframe\">\n",
       "  <thead>\n",
       "    <tr style=\"text-align: right;\">\n",
       "      <th></th>\n",
       "      <th>Book_ID</th>\n",
       "      <th>URL_for_Book_Details</th>\n",
       "      <th>Book_Title</th>\n",
       "      <th>Publication_Date</th>\n",
       "      <th>Publisher</th>\n",
       "      <th>Place_of_Publication</th>\n",
       "      <th>Author_1</th>\n",
       "      <th>Author_2</th>\n",
       "      <th>Author_3</th>\n",
       "      <th>Author_4</th>\n",
       "      <th>Author_5</th>\n",
       "      <th>Contributor_1</th>\n",
       "      <th>Contributor_2</th>\n",
       "      <th>Contributor_3</th>\n",
       "    </tr>\n",
       "  </thead>\n",
       "  <tbody>\n",
       "    <tr>\n",
       "      <th>43</th>\n",
       "      <td>57042755X</td>\n",
       "      <td>http://emblematica.library.illinois.edu/detail...</td>\n",
       "      <td>Aulæa Romana, Contra Peristromata Turcica Expa...</td>\n",
       "      <td>1642</td>\n",
       "      <td>Endter</td>\n",
       "      <td>Nürnberg</td>\n",
       "      <td>Harsdörffer, Georg Philipp</td>\n",
       "      <td>NaN</td>\n",
       "      <td>NaN</td>\n",
       "      <td>NaN</td>\n",
       "      <td>NaN</td>\n",
       "      <td>Endter, Wolfgang &lt;der Ältere&gt;</td>\n",
       "      <td>NaN</td>\n",
       "      <td>NaN</td>\n",
       "    </tr>\n",
       "    <tr>\n",
       "      <th>44</th>\n",
       "      <td>373960859</td>\n",
       "      <td>http://emblematica.library.illinois.edu/detail...</td>\n",
       "      <td>Geistliche Hertzens-Einbildungen Inn Zweihunde...</td>\n",
       "      <td>1692</td>\n",
       "      <td>Bodenehr</td>\n",
       "      <td>Augstburg</td>\n",
       "      <td>NaN</td>\n",
       "      <td>NaN</td>\n",
       "      <td>NaN</td>\n",
       "      <td>NaN</td>\n",
       "      <td>NaN</td>\n",
       "      <td>Melchior@Mattsperger, Melchior</td>\n",
       "      <td>Bodenehr, Hannß Georg</td>\n",
       "      <td>Bodenehr, Johann Georg</td>\n",
       "    </tr>\n",
       "    <tr>\n",
       "      <th>45</th>\n",
       "      <td>379509814</td>\n",
       "      <td>http://emblematica.library.illinois.edu/detail...</td>\n",
       "      <td>Iodoci Ammanni, Civis Noribergensis. Charta Lv...</td>\n",
       "      <td>1588</td>\n",
       "      <td>Heußler</td>\n",
       "      <td>Nürnberg</td>\n",
       "      <td>Ammannus, Jodocus</td>\n",
       "      <td>NaN</td>\n",
       "      <td>NaN</td>\n",
       "      <td>NaN</td>\n",
       "      <td>NaN</td>\n",
       "      <td>Schröterus, Janus Heinricus</td>\n",
       "      <td>Heußler, Leonhard</td>\n",
       "      <td>NaN</td>\n",
       "    </tr>\n",
       "    <tr>\n",
       "      <th>46</th>\n",
       "      <td>872516830</td>\n",
       "      <td>http://emblematica.library.illinois.edu/detail...</td>\n",
       "      <td>Dreiständige Sinnbilder: Zu Fruchtbringendem N...</td>\n",
       "      <td>1643</td>\n",
       "      <td>Buno</td>\n",
       "      <td>Braunschweig</td>\n",
       "      <td>Geheime, Der</td>\n",
       "      <td>NaN</td>\n",
       "      <td>NaN</td>\n",
       "      <td>NaN</td>\n",
       "      <td>NaN</td>\n",
       "      <td>Nährende, Der &lt;Anhalt-Köthen, Fürst&gt;</td>\n",
       "      <td>Unverdrossene, Der</td>\n",
       "      <td>Suchende, Der</td>\n",
       "    </tr>\n",
       "    <tr>\n",
       "      <th>47</th>\n",
       "      <td>537816240</td>\n",
       "      <td>http://emblematica.library.illinois.edu/detail...</td>\n",
       "      <td>Fruchtbringenden Geselschaft Nahmen/ Vorhaben/...</td>\n",
       "      <td>1646</td>\n",
       "      <td>Merian</td>\n",
       "      <td>Franckfurt am Mayn</td>\n",
       "      <td>Ludwig &lt;Anhalt-Köthen, Fürst&gt;</td>\n",
       "      <td>NaN</td>\n",
       "      <td>NaN</td>\n",
       "      <td>NaN</td>\n",
       "      <td>NaN</td>\n",
       "      <td>Merian, Matthäus &lt;der Ältere&gt;</td>\n",
       "      <td>Merian, Matthaeus &lt;der Ältere&gt;</td>\n",
       "      <td>NaN</td>\n",
       "    </tr>\n",
       "  </tbody>\n",
       "</table>\n",
       "</div>"
      ],
      "text/plain": [
       "      Book_ID                               URL_for_Book_Details  \\\n",
       "43  57042755X  http://emblematica.library.illinois.edu/detail...   \n",
       "44  373960859  http://emblematica.library.illinois.edu/detail...   \n",
       "45  379509814  http://emblematica.library.illinois.edu/detail...   \n",
       "46  872516830  http://emblematica.library.illinois.edu/detail...   \n",
       "47  537816240  http://emblematica.library.illinois.edu/detail...   \n",
       "\n",
       "                                           Book_Title  Publication_Date  \\\n",
       "43  Aulæa Romana, Contra Peristromata Turcica Expa...              1642   \n",
       "44  Geistliche Hertzens-Einbildungen Inn Zweihunde...              1692   \n",
       "45  Iodoci Ammanni, Civis Noribergensis. Charta Lv...              1588   \n",
       "46  Dreiständige Sinnbilder: Zu Fruchtbringendem N...              1643   \n",
       "47  Fruchtbringenden Geselschaft Nahmen/ Vorhaben/...              1646   \n",
       "\n",
       "   Publisher Place_of_Publication                       Author_1 Author_2  \\\n",
       "43    Endter             Nürnberg     Harsdörffer, Georg Philipp      NaN   \n",
       "44  Bodenehr            Augstburg                            NaN      NaN   \n",
       "45   Heußler             Nürnberg              Ammannus, Jodocus      NaN   \n",
       "46      Buno         Braunschweig                   Geheime, Der      NaN   \n",
       "47    Merian   Franckfurt am Mayn  Ludwig <Anhalt-Köthen, Fürst>      NaN   \n",
       "\n",
       "   Author_3 Author_4 Author_5                         Contributor_1  \\\n",
       "43      NaN      NaN      NaN         Endter, Wolfgang <der Ältere>   \n",
       "44      NaN      NaN      NaN        Melchior@Mattsperger, Melchior   \n",
       "45      NaN      NaN      NaN           Schröterus, Janus Heinricus   \n",
       "46      NaN      NaN      NaN  Nährende, Der <Anhalt-Köthen, Fürst>   \n",
       "47      NaN      NaN      NaN         Merian, Matthäus <der Ältere>   \n",
       "\n",
       "                     Contributor_2           Contributor_3  \n",
       "43                             NaN                     NaN  \n",
       "44           Bodenehr, Hannß Georg  Bodenehr, Johann Georg  \n",
       "45               Heußler, Leonhard                     NaN  \n",
       "46              Unverdrossene, Der           Suchende, Der  \n",
       "47  Merian, Matthaeus <der Ältere>                     NaN  "
      ]
     },
     "execution_count": 38,
     "metadata": {},
     "output_type": "execute_result"
    }
   ],
   "source": [
    "books.tail()"
   ]
  },
  {
   "cell_type": "markdown",
   "metadata": {
    "id": "OxezLWpBIImP"
   },
   "source": [
    "Overall size of our dataframe:"
   ]
  },
  {
   "cell_type": "code",
   "execution_count": 39,
   "metadata": {
    "ExecuteTime": {
     "end_time": "2022-02-10T23:28:16.176794Z",
     "start_time": "2022-02-10T23:28:16.172052Z"
    },
    "colab": {
     "base_uri": "https://localhost:8080/"
    },
    "id": "OiCWcuEoIImQ",
    "outputId": "0dd54477-40b8-4d70-ea65-32fec03cdcf4"
   },
   "outputs": [
    {
     "data": {
      "text/plain": [
       "(48, 14)"
      ]
     },
     "execution_count": 39,
     "metadata": {},
     "output_type": "execute_result"
    }
   ],
   "source": [
    "books.shape"
   ]
  },
  {
   "cell_type": "markdown",
   "metadata": {
    "id": "Z0a9PulFY-W-"
   },
   "source": [
    "#### We found some duplicate books, so let's drop one of those"
   ]
  },
  {
   "cell_type": "code",
   "execution_count": 40,
   "metadata": {
    "id": "wY-nDPQfYBzq"
   },
   "outputs": [
    {
     "data": {
      "text/plain": [
       "(47, 14)"
      ]
     },
     "execution_count": 40,
     "metadata": {},
     "output_type": "execute_result"
    }
   ],
   "source": [
    "books = books.drop_duplicates()\n",
    "books.shape"
   ]
  },
  {
   "cell_type": "markdown",
   "metadata": {
    "id": "M0GBzE-1IImQ"
   },
   "source": [
    "## B. Working with Column Data\n",
    "\n",
    "### B.1 Get Columns and Values\n",
    "\n",
    "* We now start to look more closely the columns\n",
    "* `books.columns` will give us a list of the column names\n",
    "* `books.columns.sort_values()`\n",
    "* Select one:  `books[\"Place_of_Publication\"]`\n",
    "* Count the number of unique values: `books[\"Place_of_Publication\"].nunique()`\n",
    "* Count the number of entries for each value:  `books[\"Place_of_Publication\"].value_counts()`"
   ]
  },
  {
   "cell_type": "markdown",
   "metadata": {
    "id": "qTNTWICgIImR"
   },
   "source": [
    "#### We can list out the columns like this:"
   ]
  },
  {
   "cell_type": "code",
   "execution_count": 41,
   "metadata": {
    "ExecuteTime": {
     "end_time": "2022-02-10T23:28:16.182453Z",
     "start_time": "2022-02-10T23:28:16.178472Z"
    },
    "colab": {
     "base_uri": "https://localhost:8080/"
    },
    "id": "Xx6aHmNeIImR",
    "outputId": "d1b2954d-22b9-497b-8646-49a69de3a96f"
   },
   "outputs": [
    {
     "data": {
      "text/plain": [
       "Index(['Book_ID', 'URL_for_Book_Details', 'Book_Title', 'Publication_Date',\n",
       "       'Publisher', 'Place_of_Publication', 'Author_1', 'Author_2', 'Author_3',\n",
       "       'Author_4', 'Author_5', 'Contributor_1', 'Contributor_2',\n",
       "       'Contributor_3'],\n",
       "      dtype='object')"
      ]
     },
     "execution_count": 41,
     "metadata": {},
     "output_type": "execute_result"
    }
   ],
   "source": [
    "books.columns"
   ]
  },
  {
   "cell_type": "markdown",
   "metadata": {
    "id": "-eLbZbYnIImR"
   },
   "source": [
    "#### And put them in alphabetical order"
   ]
  },
  {
   "cell_type": "code",
   "execution_count": 42,
   "metadata": {
    "ExecuteTime": {
     "end_time": "2022-02-10T23:28:16.188822Z",
     "start_time": "2022-02-10T23:28:16.184107Z"
    },
    "colab": {
     "base_uri": "https://localhost:8080/"
    },
    "id": "wVlYx_hRIImS",
    "outputId": "9b8a0dc0-415d-426c-e67d-2941ef00bd12"
   },
   "outputs": [
    {
     "data": {
      "text/plain": [
       "Index(['Author_1', 'Author_2', 'Author_3', 'Author_4', 'Author_5', 'Book_ID',\n",
       "       'Book_Title', 'Contributor_1', 'Contributor_2', 'Contributor_3',\n",
       "       'Place_of_Publication', 'Publication_Date', 'Publisher',\n",
       "       'URL_for_Book_Details'],\n",
       "      dtype='object')"
      ]
     },
     "execution_count": 42,
     "metadata": {},
     "output_type": "execute_result"
    }
   ],
   "source": [
    "books.columns.sort_values()"
   ]
  },
  {
   "cell_type": "markdown",
   "metadata": {
    "id": "ocLkZ8C3R6Rr"
   },
   "source": [
    "#### An individual column is represented as a \"Series\""
   ]
  },
  {
   "cell_type": "code",
   "execution_count": 43,
   "metadata": {
    "ExecuteTime": {
     "end_time": "2022-02-10T23:28:16.197447Z",
     "start_time": "2022-02-10T23:28:16.192708Z"
    },
    "colab": {
     "base_uri": "https://localhost:8080/"
    },
    "id": "Fu7Db56iIImS",
    "outputId": "d7f7aed6-de6b-491d-fd3f-84f6e5bb9158"
   },
   "outputs": [
    {
     "data": {
      "text/plain": [
       "0                          Nurembergµ\n",
       "1                           Osnabrugi\n",
       "2                             Lovanii\n",
       "3                             A Paris\n",
       "4                            Augspurg\n",
       "5               Francofurti ad Moenum\n",
       "6                          Nuremberg?\n",
       "7                            Bononiae\n",
       "8                            Nürnberg\n",
       "9                         Francofurti\n",
       "10                         Heidelberg\n",
       "11                           Augspurg\n",
       "13                           Augspurg\n",
       "14                          Saltzburg\n",
       "15                        Heidelbergæ\n",
       "16                             London\n",
       "17                           Coloniae\n",
       "18                          Bruxellae\n",
       "19                             Leiden\n",
       "20                          Amsterdam\n",
       "21                            Lugduni\n",
       "22                               Lyon\n",
       "23    Impresso en la ciudad de Najera\n",
       "24                            Patauij\n",
       "25       Excvsvm Avgvstæ Vindelicorum\n",
       "26       Excvsvm Avgvstæ Vindelicorum\n",
       "27      Excvsvm Avgvstae Vindelicorum\n",
       "28                           Parisiis\n",
       "29                On les vend a Paris\n",
       "30                On les uend à Paris\n",
       "31                           Parisiis\n",
       "32                            En Lyon\n",
       "33                               Lvgd\n",
       "34                               Lvgd\n",
       "35                            Lvgdvni\n",
       "36                             A Lyon\n",
       "37     Gedruckt zu Franckfurt am Mayn\n",
       "38                  Lvgdvni Batavorvm\n",
       "39                           In Lione\n",
       "40                              Paris\n",
       "41                             A Lyon\n",
       "42                          A Cologny\n",
       "43                           Nürnberg\n",
       "44                          Augstburg\n",
       "45                           Nürnberg\n",
       "46                       Braunschweig\n",
       "47                 Franckfurt am Mayn\n",
       "Name: Place_of_Publication, dtype: object"
      ]
     },
     "execution_count": 43,
     "metadata": {},
     "output_type": "execute_result"
    }
   ],
   "source": [
    "books[\"Place_of_Publication\"]"
   ]
  },
  {
   "cell_type": "code",
   "execution_count": 44,
   "metadata": {
    "ExecuteTime": {
     "end_time": "2022-02-10T23:28:16.204254Z",
     "start_time": "2022-02-10T23:28:16.200420Z"
    },
    "colab": {
     "base_uri": "https://localhost:8080/"
    },
    "id": "LHE1ydMcIImS",
    "outputId": "efe0ff1a-1bb5-4c6b-a9dc-654b959943ae"
   },
   "outputs": [
    {
     "data": {
      "text/plain": [
       "39"
      ]
     },
     "execution_count": 44,
     "metadata": {},
     "output_type": "execute_result"
    }
   ],
   "source": [
    "books[\"Place_of_Publication\"].nunique()"
   ]
  },
  {
   "cell_type": "markdown",
   "metadata": {
    "id": "nqQC5VdVIImT"
   },
   "source": [
    "#### We get a count of the places of publication as follows. Note, however, the subtle orthographical differences:"
   ]
  },
  {
   "cell_type": "code",
   "execution_count": 45,
   "metadata": {
    "ExecuteTime": {
     "end_time": "2022-02-10T23:28:16.211530Z",
     "start_time": "2022-02-10T23:28:16.206232Z"
    },
    "colab": {
     "base_uri": "https://localhost:8080/"
    },
    "id": "7dILy_6EIImT",
    "outputId": "537c9609-4586-496f-8e2e-9951b2dbaa31"
   },
   "outputs": [
    {
     "data": {
      "text/plain": [
       "Nürnberg                           3\n",
       "Augspurg                           3\n",
       "Excvsvm Avgvstæ Vindelicorum       2\n",
       "Parisiis                           2\n",
       "A Lyon                             2\n",
       "Lvgd                               2\n",
       "London                             1\n",
       "Nurembergµ                         1\n",
       "En Lyon                            1\n",
       "Lvgdvni Batavorvm                  1\n",
       "On les vend a Paris                1\n",
       "Patauij                            1\n",
       "Paris                              1\n",
       "Coloniae                           1\n",
       "Bononiae                           1\n",
       "Lyon                               1\n",
       "Heidelberg                         1\n",
       "Francofurti ad Moenum              1\n",
       "Franckfurt am Mayn                 1\n",
       "Francofurti                        1\n",
       "Bruxellae                          1\n",
       "Amsterdam                          1\n",
       "Gedruckt zu Franckfurt am Mayn     1\n",
       "On les uend à Paris                1\n",
       "Nuremberg?                         1\n",
       "Lugduni                            1\n",
       "A Paris                            1\n",
       "Excvsvm Avgvstae Vindelicorum      1\n",
       "A Cologny                          1\n",
       "Saltzburg                          1\n",
       "Lovanii                            1\n",
       "Braunschweig                       1\n",
       "Impresso en la ciudad de Najera    1\n",
       "In Lione                           1\n",
       "Augstburg                          1\n",
       "Osnabrugi                          1\n",
       "Heidelbergæ                        1\n",
       "Lvgdvni                            1\n",
       "Leiden                             1\n",
       "Name: Place_of_Publication, dtype: int64"
      ]
     },
     "execution_count": 45,
     "metadata": {},
     "output_type": "execute_result"
    }
   ],
   "source": [
    "books[\"Place_of_Publication\"].value_counts()"
   ]
  },
  {
   "cell_type": "markdown",
   "metadata": {
    "id": "Hph_ttUMIImU"
   },
   "source": [
    "___"
   ]
  },
  {
   "cell_type": "markdown",
   "metadata": {
    "id": "Ov3ayayPIImV"
   },
   "source": [
    "### B.2  What about all those Author columns?\n",
    "\n",
    "* Notice that in the *Emblematica* data that an individual book can have more than one author.  Each is in a different column\n"
   ]
  },
  {
   "cell_type": "code",
   "execution_count": 46,
   "metadata": {
    "ExecuteTime": {
     "end_time": "2022-02-10T23:28:16.227630Z",
     "start_time": "2022-02-10T23:28:16.213455Z"
    },
    "colab": {
     "base_uri": "https://localhost:8080/",
     "height": 583
    },
    "id": "qnwd4ceEIImU",
    "outputId": "61e3108f-4b82-45f2-a2b9-641ff60622de"
   },
   "outputs": [
    {
     "data": {
      "text/html": [
       "<div>\n",
       "<style scoped>\n",
       "    .dataframe tbody tr th:only-of-type {\n",
       "        vertical-align: middle;\n",
       "    }\n",
       "\n",
       "    .dataframe tbody tr th {\n",
       "        vertical-align: top;\n",
       "    }\n",
       "\n",
       "    .dataframe thead th {\n",
       "        text-align: right;\n",
       "    }\n",
       "</style>\n",
       "<table border=\"1\" class=\"dataframe\">\n",
       "  <thead>\n",
       "    <tr style=\"text-align: right;\">\n",
       "      <th></th>\n",
       "      <th>Book_ID</th>\n",
       "      <th>URL_for_Book_Details</th>\n",
       "      <th>Book_Title</th>\n",
       "      <th>Publication_Date</th>\n",
       "      <th>Publisher</th>\n",
       "      <th>Place_of_Publication</th>\n",
       "      <th>Author_1</th>\n",
       "      <th>Author_2</th>\n",
       "      <th>Author_3</th>\n",
       "      <th>Author_4</th>\n",
       "      <th>Author_5</th>\n",
       "      <th>Contributor_1</th>\n",
       "      <th>Contributor_2</th>\n",
       "      <th>Contributor_3</th>\n",
       "    </tr>\n",
       "  </thead>\n",
       "  <tbody>\n",
       "    <tr>\n",
       "      <th>0</th>\n",
       "      <td>emblematapolitic00isel</td>\n",
       "      <td>http://emblematica.library.illinois.edu/detail...</td>\n",
       "      <td>Emblemata politica: in aula magna Curiµ Norinb...</td>\n",
       "      <td>1617</td>\n",
       "      <td>NaN</td>\n",
       "      <td>Nurembergµ</td>\n",
       "      <td>Iselberg, Peter, ca. 1568-ca. 1630</td>\n",
       "      <td>Remus, Georg, 1561-1625</td>\n",
       "      <td>NaN</td>\n",
       "      <td>NaN</td>\n",
       "      <td>NaN</td>\n",
       "      <td>NaN</td>\n",
       "      <td>NaN</td>\n",
       "      <td>NaN</td>\n",
       "    </tr>\n",
       "    <tr>\n",
       "      <th>1</th>\n",
       "      <td>645803367</td>\n",
       "      <td>http://emblematica.library.illinois.edu/detail...</td>\n",
       "      <td>Iter parallelum Phoebi Occidentis &amp; Orientis J...</td>\n",
       "      <td>1680</td>\n",
       "      <td>Schwänderus</td>\n",
       "      <td>Osnabrugi</td>\n",
       "      <td>NaN</td>\n",
       "      <td>NaN</td>\n",
       "      <td>NaN</td>\n",
       "      <td>NaN</td>\n",
       "      <td>NaN</td>\n",
       "      <td>Johann Friedrich &lt;Braunschweig-Lüneburg, Herzog&gt;</td>\n",
       "      <td>Ernst August &lt;Hannover, Kurfürst, I.&gt;</td>\n",
       "      <td>Löffler &lt;Junior&gt;</td>\n",
       "    </tr>\n",
       "    <tr>\n",
       "      <th>2</th>\n",
       "      <td>635971542</td>\n",
       "      <td>http://emblematica.library.illinois.edu/detail...</td>\n",
       "      <td>Annvs Positionvm Mathematicarvm</td>\n",
       "      <td>1641</td>\n",
       "      <td>Collegium Societatis Jesu</td>\n",
       "      <td>Lovanii</td>\n",
       "      <td>Ciermans, Joannes</td>\n",
       "      <td>Unverzagt de Ebenfurt, Wolfgangus Philippus Ja...</td>\n",
       "      <td>NaN</td>\n",
       "      <td>NaN</td>\n",
       "      <td>NaN</td>\n",
       "      <td>Ferdinandus &lt;Imperator, II&gt;</td>\n",
       "      <td>Mandekens, Mart.</td>\n",
       "      <td>Neeffs, Jacobus</td>\n",
       "    </tr>\n",
       "    <tr>\n",
       "      <th>3</th>\n",
       "      <td>devisesheroiques00parad</td>\n",
       "      <td>http://emblematica.library.illinois.edu/detail...</td>\n",
       "      <td>Devises heroiques, et emblemes</td>\n",
       "      <td>1614</td>\n",
       "      <td>Chez Jean Millot ...</td>\n",
       "      <td>A Paris</td>\n",
       "      <td>Paradin, Claude, 16th cent</td>\n",
       "      <td>Amboise, Franðcois d', 1550-1620</td>\n",
       "      <td>NaN</td>\n",
       "      <td>NaN</td>\n",
       "      <td>NaN</td>\n",
       "      <td>NaN</td>\n",
       "      <td>NaN</td>\n",
       "      <td>NaN</td>\n",
       "    </tr>\n",
       "    <tr>\n",
       "      <th>4</th>\n",
       "      <td>386577072</td>\n",
       "      <td>http://emblematica.library.illinois.edu/detail...</td>\n",
       "      <td>Kunst-Göttin Minerva Liebreiche Entdeckung/ Wi...</td>\n",
       "      <td>1704</td>\n",
       "      <td>Kröninger</td>\n",
       "      <td>Augspurg</td>\n",
       "      <td>Ripa, Cesare</td>\n",
       "      <td>NaN</td>\n",
       "      <td>NaN</td>\n",
       "      <td>NaN</td>\n",
       "      <td>NaN</td>\n",
       "      <td>Kroniger, Lorenz</td>\n",
       "      <td>Gottlieb Göbel Erben</td>\n",
       "      <td>NaN</td>\n",
       "    </tr>\n",
       "  </tbody>\n",
       "</table>\n",
       "</div>"
      ],
      "text/plain": [
       "                   Book_ID                               URL_for_Book_Details  \\\n",
       "0   emblematapolitic00isel  http://emblematica.library.illinois.edu/detail...   \n",
       "1                645803367  http://emblematica.library.illinois.edu/detail...   \n",
       "2                635971542  http://emblematica.library.illinois.edu/detail...   \n",
       "3  devisesheroiques00parad  http://emblematica.library.illinois.edu/detail...   \n",
       "4                386577072  http://emblematica.library.illinois.edu/detail...   \n",
       "\n",
       "                                          Book_Title  Publication_Date  \\\n",
       "0  Emblemata politica: in aula magna Curiµ Norinb...              1617   \n",
       "1  Iter parallelum Phoebi Occidentis & Orientis J...              1680   \n",
       "2                    Annvs Positionvm Mathematicarvm              1641   \n",
       "3                     Devises heroiques, et emblemes              1614   \n",
       "4  Kunst-Göttin Minerva Liebreiche Entdeckung/ Wi...              1704   \n",
       "\n",
       "                   Publisher Place_of_Publication  \\\n",
       "0                        NaN           Nurembergµ   \n",
       "1                Schwänderus            Osnabrugi   \n",
       "2  Collegium Societatis Jesu              Lovanii   \n",
       "3       Chez Jean Millot ...              A Paris   \n",
       "4                  Kröninger             Augspurg   \n",
       "\n",
       "                             Author_1  \\\n",
       "0  Iselberg, Peter, ca. 1568-ca. 1630   \n",
       "1                                 NaN   \n",
       "2                   Ciermans, Joannes   \n",
       "3          Paradin, Claude, 16th cent   \n",
       "4                        Ripa, Cesare   \n",
       "\n",
       "                                            Author_2 Author_3 Author_4  \\\n",
       "0                            Remus, Georg, 1561-1625      NaN      NaN   \n",
       "1                                                NaN      NaN      NaN   \n",
       "2  Unverzagt de Ebenfurt, Wolfgangus Philippus Ja...      NaN      NaN   \n",
       "3                   Amboise, Franðcois d', 1550-1620      NaN      NaN   \n",
       "4                                                NaN      NaN      NaN   \n",
       "\n",
       "  Author_5                                     Contributor_1  \\\n",
       "0      NaN                                               NaN   \n",
       "1      NaN  Johann Friedrich <Braunschweig-Lüneburg, Herzog>   \n",
       "2      NaN                       Ferdinandus <Imperator, II>   \n",
       "3      NaN                                               NaN   \n",
       "4      NaN                                  Kroniger, Lorenz   \n",
       "\n",
       "                           Contributor_2     Contributor_3  \n",
       "0                                    NaN               NaN  \n",
       "1  Ernst August <Hannover, Kurfürst, I.>  Löffler <Junior>  \n",
       "2                       Mandekens, Mart.   Neeffs, Jacobus  \n",
       "3                                    NaN               NaN  \n",
       "4                   Gottlieb Göbel Erben               NaN  "
      ]
     },
     "execution_count": 46,
     "metadata": {},
     "output_type": "execute_result"
    }
   ],
   "source": [
    "books.head()"
   ]
  },
  {
   "cell_type": "markdown",
   "metadata": {
    "id": "keaAkM15SY94"
   },
   "source": [
    "#### Using Python's capacity to understand `lists`, we can find just these columns:"
   ]
  },
  {
   "cell_type": "code",
   "execution_count": 47,
   "metadata": {
    "ExecuteTime": {
     "end_time": "2022-02-10T23:28:16.233702Z",
     "start_time": "2022-02-10T23:28:16.229311Z"
    },
    "colab": {
     "base_uri": "https://localhost:8080/"
    },
    "id": "U_EMaQW3IImV",
    "outputId": "807db769-1d6c-4cec-a661-ed5dc981762c"
   },
   "outputs": [
    {
     "data": {
      "text/plain": [
       "['Author_1', 'Author_2', 'Author_3', 'Author_4', 'Author_5']"
      ]
     },
     "execution_count": 47,
     "metadata": {},
     "output_type": "execute_result"
    }
   ],
   "source": [
    "author_columns = [c for c in books.columns if c.startswith(\"Author\")]\n",
    "author_columns"
   ]
  },
  {
   "cell_type": "code",
   "execution_count": 48,
   "metadata": {
    "ExecuteTime": {
     "end_time": "2022-02-10T23:28:16.245900Z",
     "start_time": "2022-02-10T23:28:16.235968Z"
    },
    "colab": {
     "base_uri": "https://localhost:8080/",
     "height": 206
    },
    "id": "7LvZ1sIZIImV",
    "outputId": "fe88c593-8883-4324-a01c-6ca96a630ba7"
   },
   "outputs": [
    {
     "data": {
      "text/html": [
       "<div>\n",
       "<style scoped>\n",
       "    .dataframe tbody tr th:only-of-type {\n",
       "        vertical-align: middle;\n",
       "    }\n",
       "\n",
       "    .dataframe tbody tr th {\n",
       "        vertical-align: top;\n",
       "    }\n",
       "\n",
       "    .dataframe thead th {\n",
       "        text-align: right;\n",
       "    }\n",
       "</style>\n",
       "<table border=\"1\" class=\"dataframe\">\n",
       "  <thead>\n",
       "    <tr style=\"text-align: right;\">\n",
       "      <th></th>\n",
       "      <th>Author_1</th>\n",
       "      <th>Author_2</th>\n",
       "      <th>Author_3</th>\n",
       "      <th>Author_4</th>\n",
       "      <th>Author_5</th>\n",
       "    </tr>\n",
       "  </thead>\n",
       "  <tbody>\n",
       "    <tr>\n",
       "      <th>0</th>\n",
       "      <td>Iselberg, Peter, ca. 1568-ca. 1630</td>\n",
       "      <td>Remus, Georg, 1561-1625</td>\n",
       "      <td>NaN</td>\n",
       "      <td>NaN</td>\n",
       "      <td>NaN</td>\n",
       "    </tr>\n",
       "    <tr>\n",
       "      <th>1</th>\n",
       "      <td>NaN</td>\n",
       "      <td>NaN</td>\n",
       "      <td>NaN</td>\n",
       "      <td>NaN</td>\n",
       "      <td>NaN</td>\n",
       "    </tr>\n",
       "    <tr>\n",
       "      <th>2</th>\n",
       "      <td>Ciermans, Joannes</td>\n",
       "      <td>Unverzagt de Ebenfurt, Wolfgangus Philippus Ja...</td>\n",
       "      <td>NaN</td>\n",
       "      <td>NaN</td>\n",
       "      <td>NaN</td>\n",
       "    </tr>\n",
       "    <tr>\n",
       "      <th>3</th>\n",
       "      <td>Paradin, Claude, 16th cent</td>\n",
       "      <td>Amboise, Franðcois d', 1550-1620</td>\n",
       "      <td>NaN</td>\n",
       "      <td>NaN</td>\n",
       "      <td>NaN</td>\n",
       "    </tr>\n",
       "    <tr>\n",
       "      <th>4</th>\n",
       "      <td>Ripa, Cesare</td>\n",
       "      <td>NaN</td>\n",
       "      <td>NaN</td>\n",
       "      <td>NaN</td>\n",
       "      <td>NaN</td>\n",
       "    </tr>\n",
       "  </tbody>\n",
       "</table>\n",
       "</div>"
      ],
      "text/plain": [
       "                             Author_1  \\\n",
       "0  Iselberg, Peter, ca. 1568-ca. 1630   \n",
       "1                                 NaN   \n",
       "2                   Ciermans, Joannes   \n",
       "3          Paradin, Claude, 16th cent   \n",
       "4                        Ripa, Cesare   \n",
       "\n",
       "                                            Author_2 Author_3 Author_4  \\\n",
       "0                            Remus, Georg, 1561-1625      NaN      NaN   \n",
       "1                                                NaN      NaN      NaN   \n",
       "2  Unverzagt de Ebenfurt, Wolfgangus Philippus Ja...      NaN      NaN   \n",
       "3                   Amboise, Franðcois d', 1550-1620      NaN      NaN   \n",
       "4                                                NaN      NaN      NaN   \n",
       "\n",
       "  Author_5  \n",
       "0      NaN  \n",
       "1      NaN  \n",
       "2      NaN  \n",
       "3      NaN  \n",
       "4      NaN  "
      ]
     },
     "execution_count": 48,
     "metadata": {},
     "output_type": "execute_result"
    }
   ],
   "source": [
    "books[author_columns].head()"
   ]
  },
  {
   "cell_type": "markdown",
   "metadata": {
    "id": "gKtBnMMLIImW"
   },
   "source": [
    "#### And now 'stack' the values for all these columns into one **Series**"
   ]
  },
  {
   "cell_type": "code",
   "execution_count": 49,
   "metadata": {
    "ExecuteTime": {
     "end_time": "2022-02-10T23:28:16.256792Z",
     "start_time": "2022-02-10T23:28:16.247868Z"
    },
    "colab": {
     "base_uri": "https://localhost:8080/"
    },
    "id": "4i2Zk5EEIImW",
    "outputId": "39f11bf5-90dd-4ae5-e54f-b5be99f20482"
   },
   "outputs": [
    {
     "data": {
      "text/plain": [
       "0   Author_1                   Iselberg, Peter, ca. 1568-ca. 1630\n",
       "    Author_2                              Remus, Georg, 1561-1625\n",
       "2   Author_1                                    Ciermans, Joannes\n",
       "    Author_2    Unverzagt de Ebenfurt, Wolfgangus Philippus Ja...\n",
       "3   Author_1                           Paradin, Claude, 16th cent\n",
       "                                      ...                        \n",
       "42  Author_4               Tournes, Jean de, II, active 1568-1584\n",
       "43  Author_1                           Harsdörffer, Georg Philipp\n",
       "45  Author_1                                    Ammannus, Jodocus\n",
       "46  Author_1                                         Geheime, Der\n",
       "47  Author_1                        Ludwig <Anhalt-Köthen, Fürst>\n",
       "Length: 72, dtype: object"
      ]
     },
     "execution_count": 49,
     "metadata": {},
     "output_type": "execute_result"
    }
   ],
   "source": [
    "books[author_columns].stack()"
   ]
  },
  {
   "cell_type": "markdown",
   "metadata": {
    "id": "WcWerle5IImW"
   },
   "source": [
    "#### And count the items in the stacked set"
   ]
  },
  {
   "cell_type": "code",
   "execution_count": 50,
   "metadata": {
    "ExecuteTime": {
     "end_time": "2022-02-10T23:28:16.269512Z",
     "start_time": "2022-02-10T23:28:16.260215Z"
    },
    "colab": {
     "base_uri": "https://localhost:8080/"
    },
    "id": "FY48JaxUIImW",
    "outputId": "118054d6-b163-4827-924c-00e0f843f2b0"
   },
   "outputs": [
    {
     "data": {
      "text/plain": [
       "Alciati, Andrea, 1492-1550                              21\n",
       "Aneau, Barthélemy, -1561                                 4\n",
       "Lefèvre, Jean, 1493-1565                                3\n",
       "Breu, Jörg, approximately 1480-1537                      3\n",
       "Mignault, Claude, approximately 1536-1606                2\n",
       "Weiditz, Hans, approximately 1495-approximately 1536     2\n",
       "Stockhammer, Sebastian, sec. XVI                         2\n",
       "Rollenhagen, Gabriel, 1583-1619?                         1\n",
       "Remus, Georg, 1561-1625                                  1\n",
       "Ripa, Cesare                                             1\n",
       "Ludwig <Anhalt-Köthen, Fürst>                            1\n",
       "Iselberg, Peter, ca. 1568-ca. 1630                       1\n",
       "Camerarius, Joachim                                      1\n",
       "Amboise, Franðcois d', 1550-1620                         1\n",
       "Elger, Willem den                                        1\n",
       "Meisner, Daniel                                          1\n",
       "Harsdörffer, Georg Philipp                               1\n",
       "Veen, Otto van , 1556-1629                               1\n",
       "Marquale, Giovanni.                                      1\n",
       "Ovidius Naso, Publius                                    1\n",
       "Ciermans, Joannes                                        1\n",
       "Batillius, Dionysius Lebeus                              1\n",
       "Hunger, Wolffgang, 1511-1555                             1\n",
       "López, Diego, ?-1655                                     1\n",
       "Astry, James, Sir                                        1\n",
       "Ammannus, Jodocus                                        1\n",
       "Pignoria, Lorenzo, 1571-1631                             1\n",
       "Held, Jeremias.                                          1\n",
       "Thuilius, Joannes.                                       1\n",
       "Cremcovius, Valens.                                      1\n",
       "Saavedra-Fajardo, Diego de, 1584-1648                    1\n",
       "Daza Pinciano, Bernardino.                               1\n",
       "Zincgref, Julius Wilhelm                                 1\n",
       "Unverzagt de Ebenfurt, Wolfgangus Philippus Jacobus      1\n",
       "Morel, Fédéric, approximately 1552-1630                1\n",
       "Maccius, Paulus                                          1\n",
       "Tournes, Jean de, II, active 1568-1584                   1\n",
       "Paradin, Claude, 16th cent                               1\n",
       "Zetter, Jacob                                            1\n",
       "Geheime, Der                                             1\n",
       "Feuille, Daniel de la                                    1\n",
       "Weigel, Johann Christoph, 1661-1726                      1\n",
       "dtype: int64"
      ]
     },
     "execution_count": 50,
     "metadata": {},
     "output_type": "execute_result"
    }
   ],
   "source": [
    "books[author_columns].stack().value_counts()"
   ]
  },
  {
   "cell_type": "markdown",
   "metadata": {
    "id": "HGm993AmIImX"
   },
   "source": [
    "#### All the authors, sorted alphbetically as a list"
   ]
  },
  {
   "cell_type": "code",
   "execution_count": 51,
   "metadata": {
    "ExecuteTime": {
     "end_time": "2022-02-10T23:28:16.290960Z",
     "start_time": "2022-02-10T23:28:16.282477Z"
    },
    "colab": {
     "base_uri": "https://localhost:8080/"
    },
    "id": "IlLoXMUzIImX",
    "outputId": "9e33cb4b-41b8-4c4e-f3bf-15893c020c33"
   },
   "outputs": [
    {
     "data": {
      "text/plain": [
       "['Alciati, Andrea, 1492-1550',\n",
       " \"Amboise, Franðcois d', 1550-1620\",\n",
       " 'Ammannus, Jodocus',\n",
       " 'Aneau, Barthélemy, -1561',\n",
       " 'Astry, James, Sir',\n",
       " 'Batillius, Dionysius Lebeus',\n",
       " 'Breu, Jörg, approximately 1480-1537',\n",
       " 'Camerarius, Joachim',\n",
       " 'Ciermans, Joannes',\n",
       " 'Cremcovius, Valens.',\n",
       " 'Daza Pinciano, Bernardino.',\n",
       " 'Elger, Willem den',\n",
       " 'Feuille, Daniel de la',\n",
       " 'Geheime, Der',\n",
       " 'Harsdörffer, Georg Philipp',\n",
       " 'Held, Jeremias.',\n",
       " 'Hunger, Wolffgang, 1511-1555',\n",
       " 'Iselberg, Peter, ca. 1568-ca. 1630',\n",
       " 'Lefèvre, Jean, 1493-1565',\n",
       " 'Ludwig <Anhalt-Köthen, Fürst>',\n",
       " 'López, Diego, ?-1655',\n",
       " 'Maccius, Paulus',\n",
       " 'Marquale, Giovanni.',\n",
       " 'Meisner, Daniel',\n",
       " 'Mignault, Claude, approximately 1536-1606',\n",
       " 'Morel, Fédéric, approximately 1552-1630',\n",
       " 'Ovidius Naso, Publius',\n",
       " 'Paradin, Claude, 16th cent',\n",
       " 'Pignoria, Lorenzo, 1571-1631',\n",
       " 'Remus, Georg, 1561-1625',\n",
       " 'Ripa, Cesare',\n",
       " 'Rollenhagen, Gabriel, 1583-1619?',\n",
       " 'Saavedra-Fajardo, Diego de, 1584-1648',\n",
       " 'Stockhammer, Sebastian, sec. XVI',\n",
       " 'Thuilius, Joannes.',\n",
       " 'Tournes, Jean de, II, active 1568-1584',\n",
       " 'Unverzagt de Ebenfurt, Wolfgangus Philippus Jacobus',\n",
       " 'Veen, Otto van , 1556-1629',\n",
       " 'Weiditz, Hans, approximately 1495-approximately 1536',\n",
       " 'Weigel, Johann Christoph, 1661-1726',\n",
       " 'Zetter, Jacob',\n",
       " 'Zincgref, Julius Wilhelm']"
      ]
     },
     "execution_count": 51,
     "metadata": {},
     "output_type": "execute_result"
    }
   ],
   "source": [
    "sorted(books[author_columns].stack().unique())"
   ]
  },
  {
   "cell_type": "markdown",
   "metadata": {
    "id": "2OwHfmDjIImX"
   },
   "source": [
    "### B.3 See if you can get a list of contributors \n",
    "\n",
    "It is very similar to the process above:"
   ]
  },
  {
   "cell_type": "code",
   "execution_count": 52,
   "metadata": {
    "id": "4tfk2TGJIImX",
    "outputId": "ff97f13d-7b48-47e9-8e74-cfa87c07c6ca"
   },
   "outputs": [
    {
     "data": {
      "text/plain": [
       "Index(['Book_ID', 'URL_for_Book_Details', 'Book_Title', 'Publication_Date',\n",
       "       'Publisher', 'Place_of_Publication', 'Author_1', 'Author_2', 'Author_3',\n",
       "       'Author_4', 'Author_5', 'Contributor_1', 'Contributor_2',\n",
       "       'Contributor_3'],\n",
       "      dtype='object')"
      ]
     },
     "execution_count": 52,
     "metadata": {},
     "output_type": "execute_result"
    }
   ],
   "source": [
    "books.columns"
   ]
  },
  {
   "cell_type": "code",
   "execution_count": null,
   "metadata": {
    "id": "Q3_vpYT7IImY"
   },
   "outputs": [],
   "source": []
  },
  {
   "cell_type": "code",
   "execution_count": null,
   "metadata": {
    "id": "mV8ynkIXIImY"
   },
   "outputs": [],
   "source": []
  },
  {
   "cell_type": "code",
   "execution_count": null,
   "metadata": {
    "id": "-ag_HE0OIImY"
   },
   "outputs": [],
   "source": []
  },
  {
   "cell_type": "code",
   "execution_count": null,
   "metadata": {
    "id": "D1nt5HLoIImY"
   },
   "outputs": [],
   "source": []
  },
  {
   "cell_type": "code",
   "execution_count": null,
   "metadata": {
    "id": "U-ucZZfmIImY"
   },
   "outputs": [],
   "source": []
  },
  {
   "cell_type": "code",
   "execution_count": null,
   "metadata": {
    "id": "hcpBiQ-_IImY"
   },
   "outputs": [],
   "source": []
  },
  {
   "cell_type": "code",
   "execution_count": null,
   "metadata": {
    "id": "7ZKkqYIZIImY"
   },
   "outputs": [],
   "source": []
  },
  {
   "cell_type": "markdown",
   "metadata": {
    "id": "RurS4zK-IImY"
   },
   "source": [
    "___"
   ]
  },
  {
   "cell_type": "markdown",
   "metadata": {
    "id": "PQ4tq0nXIImZ"
   },
   "source": [
    "## C.  Charts and Graphs\n",
    "\n",
    "* Through libraries like **matplot**, Pandas can quickly produce histograms, charts, and graphs of various kinds (these can even be saved as PNG files for publications)"
   ]
  },
  {
   "cell_type": "code",
   "execution_count": 53,
   "metadata": {
    "ExecuteTime": {
     "end_time": "2022-02-10T23:28:16.299958Z",
     "start_time": "2022-02-10T23:28:16.293185Z"
    },
    "colab": {
     "base_uri": "https://localhost:8080/"
    },
    "id": "z05f1NXJIImZ",
    "outputId": "16b00f51-3381-4c46-88d2-4549d2257ff6"
   },
   "outputs": [
    {
     "data": {
      "text/plain": [
       "26    1531\n",
       "25    1531\n",
       "28    1534\n",
       "27    1534\n",
       "40    1536\n",
       "29    1539\n",
       "30    1542\n",
       "31    1542\n",
       "41    1549\n",
       "32    1549\n",
       "33    1550\n",
       "39    1551\n",
       "34    1551\n",
       "22    1552\n",
       "21    1552\n",
       "35    1556\n",
       "36    1558\n",
       "37    1566\n",
       "45    1588\n",
       "38    1591\n",
       "5     1596\n",
       "10    1605\n",
       "17    1611\n",
       "9     1614\n",
       "3     1614\n",
       "23    1615\n",
       "42    1615\n",
       "0     1617\n",
       "24    1621\n",
       "18    1624\n",
       "7     1628\n",
       "2     1641\n",
       "43    1642\n",
       "46    1643\n",
       "47    1646\n",
       "15    1666\n",
       "1     1680\n",
       "14    1685\n",
       "20    1691\n",
       "44    1692\n",
       "13    1695\n",
       "11    1695\n",
       "6     1700\n",
       "16    1700\n",
       "8     1700\n",
       "19    1703\n",
       "4     1704\n",
       "Name: Publication_Date, dtype: int64"
      ]
     },
     "execution_count": 53,
     "metadata": {},
     "output_type": "execute_result"
    }
   ],
   "source": [
    "books[\"Publication_Date\"].sort_values()"
   ]
  },
  {
   "cell_type": "markdown",
   "metadata": {
    "id": "vxiNUCtJIImZ"
   },
   "source": [
    "#### Here can create histograms of the distribution of the years of publication, and sort them into however many 'bins' we like"
   ]
  },
  {
   "cell_type": "code",
   "execution_count": 56,
   "metadata": {
    "ExecuteTime": {
     "end_time": "2022-02-10T23:28:17.018496Z",
     "start_time": "2022-02-10T23:28:16.303719Z"
    },
    "colab": {
     "base_uri": "https://localhost:8080/",
     "height": 334
    },
    "id": "QJ4rWHsEIImZ",
    "outputId": "a2a797bf-62fd-498a-e45b-c2e785521453"
   },
   "outputs": [
    {
     "data": {
      "image/png": "[encoded data removed]",
      "text/plain": [
       "<Figure size 1440x720 with 1 Axes>"
      ]
     },
     "metadata": {
      "needs_background": "light"
     },
     "output_type": "display_data"
    }
   ],
   "source": [
    "books[\"Publication_Date\"].hist(figsize=(20, 10), bins=40)\n",
    "plt.xlabel(\"Year\")\n",
    "plt.ylabel(\"Book count\")\n",
    "plt.show()"
   ]
  },
  {
   "cell_type": "markdown",
   "metadata": {
    "id": "oVgYF0U3IIma"
   },
   "source": [
    "#### Various built-in math functions allow us to run basic statistics.  Libraries like `numpy` permit many more!"
   ]
  },
  {
   "cell_type": "code",
   "execution_count": 57,
   "metadata": {
    "ExecuteTime": {
     "end_time": "2022-02-10T23:28:17.024471Z",
     "start_time": "2022-02-10T23:28:17.020505Z"
    },
    "colab": {
     "base_uri": "https://localhost:8080/"
    },
    "id": "WSqz7U-ZIIma",
    "outputId": "2fc909d5-7588-4e29-98b9-c5030833a0c6"
   },
   "outputs": [
    {
     "data": {
      "text/plain": [
       "1609.468085106383"
      ]
     },
     "execution_count": 57,
     "metadata": {},
     "output_type": "execute_result"
    }
   ],
   "source": [
    "books.Publication_Date.mean()"
   ]
  },
  {
   "cell_type": "markdown",
   "metadata": {
    "id": "tKciC8SYIIma"
   },
   "source": [
    "___"
   ]
  },
  {
   "cell_type": "markdown",
   "metadata": {
    "id": "MUwzomIdIImb"
   },
   "source": [
    "## D.  More Work with Columns"
   ]
  },
  {
   "cell_type": "markdown",
   "metadata": {
    "id": "eOXY8CEHIImb"
   },
   "source": [
    "### D.1 Load the Emblem CSV"
   ]
  },
  {
   "cell_type": "code",
   "execution_count": 62,
   "metadata": {
    "ExecuteTime": {
     "end_time": "2022-02-10T23:28:17.050277Z",
     "start_time": "2022-02-10T23:28:17.041655Z"
    },
    "id": "Lozl63rSIImb"
   },
   "outputs": [],
   "source": [
    "emblems = pd.read_csv(emblematica_emblems)"
   ]
  },
  {
   "cell_type": "code",
   "execution_count": 63,
   "metadata": {
    "ExecuteTime": {
     "end_time": "2022-02-10T23:28:17.076630Z",
     "start_time": "2022-02-10T23:28:17.057297Z"
    },
    "colab": {
     "base_uri": "https://localhost:8080/",
     "height": 461
    },
    "id": "0vd73R5dIImb",
    "outputId": "1d7363d7-34bd-4897-a019-28b2d0fa8b4c"
   },
   "outputs": [
    {
     "data": {
      "text/html": [
       "<div>\n",
       "<style scoped>\n",
       "    .dataframe tbody tr th:only-of-type {\n",
       "        vertical-align: middle;\n",
       "    }\n",
       "\n",
       "    .dataframe tbody tr th {\n",
       "        vertical-align: top;\n",
       "    }\n",
       "\n",
       "    .dataframe thead th {\n",
       "        text-align: right;\n",
       "    }\n",
       "</style>\n",
       "<table border=\"1\" class=\"dataframe\">\n",
       "  <thead>\n",
       "    <tr style=\"text-align: right;\">\n",
       "      <th></th>\n",
       "      <th>Emblem_ID</th>\n",
       "      <th>URL_for_Emblem_Details</th>\n",
       "      <th>URL_for_Emblem_Thumbnail</th>\n",
       "      <th>Emblem_Motto</th>\n",
       "      <th>Publication_Date</th>\n",
       "      <th>URL_for_Pictura</th>\n",
       "      <th>Iconclass_Heading_1</th>\n",
       "      <th>Iconclass_Heading_2</th>\n",
       "      <th>Iconclass_Heading_3</th>\n",
       "      <th>Iconclass_Heading_4</th>\n",
       "      <th>Iconclass_Heading_5</th>\n",
       "      <th>Iconclass_Heading_6</th>\n",
       "      <th>Iconclass_Heading_7</th>\n",
       "      <th>From Collection</th>\n",
       "      <th>Published_In</th>\n",
       "      <th>URL_for_Book_Details</th>\n",
       "    </tr>\n",
       "  </thead>\n",
       "  <tbody>\n",
       "    <tr>\n",
       "      <th>100</th>\n",
       "      <td>E033212</td>\n",
       "      <td>http://emblematica.library.illinois.edu/detail...</td>\n",
       "      <td>http://emblemimages.library.illinois.edu/57042...</td>\n",
       "      <td>Fera nuncia martis. Meliori pervia causae. Mon...</td>\n",
       "      <td>1642</td>\n",
       "      <td>http://emblemimages.library.illinois.edu/57042...</td>\n",
       "      <td>NaN</td>\n",
       "      <td>45A10 symbols, allegories of war; 'Guerra' (Ripa)</td>\n",
       "      <td>45A20 symbols, allegories of peace, 'Pax'; 'Pa...</td>\n",
       "      <td>25G3(PALM-TREE) trees: palm-tree</td>\n",
       "      <td>25C11 eruption (of volcano)</td>\n",
       "      <td>51G5 Visibility</td>\n",
       "      <td>56F11 Ambition; 'Ambitione', 'Amor di Fama' (R...</td>\n",
       "      <td>NaN</td>\n",
       "      <td>57042755X</td>\n",
       "      <td>http://emblematica.library.illinois.edu/detail...</td>\n",
       "    </tr>\n",
       "    <tr>\n",
       "      <th>107</th>\n",
       "      <td>E048799</td>\n",
       "      <td>http://emblematica.library.illinois.edu/detail...</td>\n",
       "      <td>http://emblemimages.library.illinois.edu/37950...</td>\n",
       "      <td>NaN</td>\n",
       "      <td>1588</td>\n",
       "      <td>http://emblemimages.library.illinois.edu/37950...</td>\n",
       "      <td>41C322 mug, beaker, goblet</td>\n",
       "      <td>25G41(LILY)(+32) flowers: lily (+ flowers, blo...</td>\n",
       "      <td>45C13(SWORD) hacking and thrusting weapons: sword</td>\n",
       "      <td>45H34 single combat in place of battle</td>\n",
       "      <td>11N31 Pride; 'Superbia' (Ripa) ~ personificati...</td>\n",
       "      <td>11N34 Covetousness; 'Avaritia' (Ripa) ~ person...</td>\n",
       "      <td>51D42 Splendour</td>\n",
       "      <td>NaN</td>\n",
       "      <td>379509814</td>\n",
       "      <td>http://emblematica.library.illinois.edu/detail...</td>\n",
       "    </tr>\n",
       "    <tr>\n",
       "      <th>4</th>\n",
       "      <td>E003756</td>\n",
       "      <td>http://emblematica.library.illinois.edu/detail...</td>\n",
       "      <td>http://emblemimages.library.illinois.edu/63597...</td>\n",
       "      <td>Maii. Hebdomas Tertia.</td>\n",
       "      <td>1641</td>\n",
       "      <td>http://emblemimages.library.illinois.edu/63597...</td>\n",
       "      <td>86(MAII. HEBDOMAS TERTIA) proverbs, sayings, e...</td>\n",
       "      <td>92D1916 cupids: 'amores', 'amoretti', 'putti'</td>\n",
       "      <td>49D5111 compasses</td>\n",
       "      <td>49D511(RULER) drawing-instruments: ruler</td>\n",
       "      <td>45F11 plan of battle</td>\n",
       "      <td>45A10 symbols, allegories of war; 'Guerra' (Ripa)</td>\n",
       "      <td>33B10 'Lite' (Ripa)</td>\n",
       "      <td>NaN</td>\n",
       "      <td>635971542</td>\n",
       "      <td>http://emblematica.library.illinois.edu/detail...</td>\n",
       "    </tr>\n",
       "    <tr>\n",
       "      <th>66</th>\n",
       "      <td>E029581</td>\n",
       "      <td>http://emblematica.library.illinois.edu/detail...</td>\n",
       "      <td>http://emblemimages.library.illinois.edu/A31b/...</td>\n",
       "      <td>EX BELLO PAX.</td>\n",
       "      <td>1531</td>\n",
       "      <td>http://emblemimages.library.illinois.edu/A31b/...</td>\n",
       "      <td>25F711(BEE)(+53) insects: bee (+ postures, pos...</td>\n",
       "      <td>31A22611 blood</td>\n",
       "      <td>45A1 war</td>\n",
       "      <td>45A10 symbols, allegories of war; 'Guerra' (Ripa)</td>\n",
       "      <td>45A2 peace</td>\n",
       "      <td>45A20 symbols, allegories of peace, 'Pax'; 'Pa...</td>\n",
       "      <td>45A231 blessings of peace</td>\n",
       "      <td>NaN</td>\n",
       "      <td>A31b</td>\n",
       "      <td>http://emblematica.library.illinois.edu/detail...</td>\n",
       "    </tr>\n",
       "    <tr>\n",
       "      <th>36</th>\n",
       "      <td>E015751</td>\n",
       "      <td>http://emblematica.library.illinois.edu/detail...</td>\n",
       "      <td>http://emblemimages.library.illinois.edu/devis...</td>\n",
       "      <td>Welches unter beyden man verlanget.</td>\n",
       "      <td>1695</td>\n",
       "      <td>http://emblemimages.library.illinois.edu/devis...</td>\n",
       "      <td>25G3(OLIVE-TREE)(+22) trees: olive-tree (+ bra...</td>\n",
       "      <td>25H1124 boulder, stone</td>\n",
       "      <td>45A10 symbols, allegories of war; 'Guerra' (Ripa)</td>\n",
       "      <td>45A20 symbols, allegories of peace, 'Pax'; 'Pa...</td>\n",
       "      <td>45C12(CLUB) weapons for striking a blow: club</td>\n",
       "      <td>53A11(+4) Choice; 'Elettione' (Ripa) (+ emblem...</td>\n",
       "      <td>86(UTRUM LIBET) proverbs, sayings, etc. (UTRUM...</td>\n",
       "      <td>NaN</td>\n",
       "      <td>devisesetembleme00augs</td>\n",
       "      <td>http://emblematica.library.illinois.edu/detail...</td>\n",
       "    </tr>\n",
       "  </tbody>\n",
       "</table>\n",
       "</div>"
      ],
      "text/plain": [
       "    Emblem_ID                             URL_for_Emblem_Details  \\\n",
       "100   E033212  http://emblematica.library.illinois.edu/detail...   \n",
       "107   E048799  http://emblematica.library.illinois.edu/detail...   \n",
       "4     E003756  http://emblematica.library.illinois.edu/detail...   \n",
       "66    E029581  http://emblematica.library.illinois.edu/detail...   \n",
       "36    E015751  http://emblematica.library.illinois.edu/detail...   \n",
       "\n",
       "                              URL_for_Emblem_Thumbnail  \\\n",
       "100  http://emblemimages.library.illinois.edu/57042...   \n",
       "107  http://emblemimages.library.illinois.edu/37950...   \n",
       "4    http://emblemimages.library.illinois.edu/63597...   \n",
       "66   http://emblemimages.library.illinois.edu/A31b/...   \n",
       "36   http://emblemimages.library.illinois.edu/devis...   \n",
       "\n",
       "                                          Emblem_Motto  Publication_Date  \\\n",
       "100  Fera nuncia martis. Meliori pervia causae. Mon...              1642   \n",
       "107                                                NaN              1588   \n",
       "4                               Maii. Hebdomas Tertia.              1641   \n",
       "66                                       EX BELLO PAX.              1531   \n",
       "36                 Welches unter beyden man verlanget.              1695   \n",
       "\n",
       "                                       URL_for_Pictura  \\\n",
       "100  http://emblemimages.library.illinois.edu/57042...   \n",
       "107  http://emblemimages.library.illinois.edu/37950...   \n",
       "4    http://emblemimages.library.illinois.edu/63597...   \n",
       "66   http://emblemimages.library.illinois.edu/A31b/...   \n",
       "36   http://emblemimages.library.illinois.edu/devis...   \n",
       "\n",
       "                                   Iconclass_Heading_1  \\\n",
       "100                                                NaN   \n",
       "107                         41C322 mug, beaker, goblet   \n",
       "4    86(MAII. HEBDOMAS TERTIA) proverbs, sayings, e...   \n",
       "66   25F711(BEE)(+53) insects: bee (+ postures, pos...   \n",
       "36   25G3(OLIVE-TREE)(+22) trees: olive-tree (+ bra...   \n",
       "\n",
       "                                   Iconclass_Heading_2  \\\n",
       "100  45A10 symbols, allegories of war; 'Guerra' (Ripa)   \n",
       "107  25G41(LILY)(+32) flowers: lily (+ flowers, blo...   \n",
       "4        92D1916 cupids: 'amores', 'amoretti', 'putti'   \n",
       "66                                      31A22611 blood   \n",
       "36                              25H1124 boulder, stone   \n",
       "\n",
       "                                   Iconclass_Heading_3  \\\n",
       "100  45A20 symbols, allegories of peace, 'Pax'; 'Pa...   \n",
       "107  45C13(SWORD) hacking and thrusting weapons: sword   \n",
       "4                                    49D5111 compasses   \n",
       "66                                            45A1 war   \n",
       "36   45A10 symbols, allegories of war; 'Guerra' (Ripa)   \n",
       "\n",
       "                                   Iconclass_Heading_4  \\\n",
       "100                   25G3(PALM-TREE) trees: palm-tree   \n",
       "107             45H34 single combat in place of battle   \n",
       "4             49D511(RULER) drawing-instruments: ruler   \n",
       "66   45A10 symbols, allegories of war; 'Guerra' (Ripa)   \n",
       "36   45A20 symbols, allegories of peace, 'Pax'; 'Pa...   \n",
       "\n",
       "                                   Iconclass_Heading_5  \\\n",
       "100                        25C11 eruption (of volcano)   \n",
       "107  11N31 Pride; 'Superbia' (Ripa) ~ personificati...   \n",
       "4                                 45F11 plan of battle   \n",
       "66                                          45A2 peace   \n",
       "36       45C12(CLUB) weapons for striking a blow: club   \n",
       "\n",
       "                                   Iconclass_Heading_6  \\\n",
       "100                                    51G5 Visibility   \n",
       "107  11N34 Covetousness; 'Avaritia' (Ripa) ~ person...   \n",
       "4    45A10 symbols, allegories of war; 'Guerra' (Ripa)   \n",
       "66   45A20 symbols, allegories of peace, 'Pax'; 'Pa...   \n",
       "36   53A11(+4) Choice; 'Elettione' (Ripa) (+ emblem...   \n",
       "\n",
       "                                   Iconclass_Heading_7  From Collection  \\\n",
       "100  56F11 Ambition; 'Ambitione', 'Amor di Fama' (R...              NaN   \n",
       "107                                    51D42 Splendour              NaN   \n",
       "4                                  33B10 'Lite' (Ripa)              NaN   \n",
       "66                           45A231 blessings of peace              NaN   \n",
       "36   86(UTRUM LIBET) proverbs, sayings, etc. (UTRUM...              NaN   \n",
       "\n",
       "               Published_In                               URL_for_Book_Details  \n",
       "100               57042755X  http://emblematica.library.illinois.edu/detail...  \n",
       "107               379509814  http://emblematica.library.illinois.edu/detail...  \n",
       "4                 635971542  http://emblematica.library.illinois.edu/detail...  \n",
       "66                     A31b  http://emblematica.library.illinois.edu/detail...  \n",
       "36   devisesetembleme00augs  http://emblematica.library.illinois.edu/detail...  "
      ]
     },
     "execution_count": 63,
     "metadata": {},
     "output_type": "execute_result"
    }
   ],
   "source": [
    "emblems.sample(5)"
   ]
  },
  {
   "cell_type": "markdown",
   "metadata": {
    "id": "ZP7blPB6IImb"
   },
   "source": [
    "### D.2  Dropping Columns\n",
    "\n",
    "* The *From Collection* column is completely empty (see the `NaN` values), so how about we drop it from our DataFrame. \n",
    "* We will also drop the **URL** columns to reduce the size of the DataFrame.\n",
    "\n"
   ]
  },
  {
   "cell_type": "code",
   "execution_count": 64,
   "metadata": {
    "colab": {
     "base_uri": "https://localhost:8080/",
     "height": 444
    },
    "id": "B4dx0CLwIImc",
    "outputId": "7c5fd07d-aeb5-4cfa-f724-d3bb9772f330"
   },
   "outputs": [
    {
     "data": {
      "text/html": [
       "<div>\n",
       "<style scoped>\n",
       "    .dataframe tbody tr th:only-of-type {\n",
       "        vertical-align: middle;\n",
       "    }\n",
       "\n",
       "    .dataframe tbody tr th {\n",
       "        vertical-align: top;\n",
       "    }\n",
       "\n",
       "    .dataframe thead th {\n",
       "        text-align: right;\n",
       "    }\n",
       "</style>\n",
       "<table border=\"1\" class=\"dataframe\">\n",
       "  <thead>\n",
       "    <tr style=\"text-align: right;\">\n",
       "      <th></th>\n",
       "      <th>Emblem_ID</th>\n",
       "      <th>Emblem_Motto</th>\n",
       "      <th>Publication_Date</th>\n",
       "      <th>Iconclass_Heading_1</th>\n",
       "      <th>Iconclass_Heading_2</th>\n",
       "      <th>Iconclass_Heading_3</th>\n",
       "      <th>Iconclass_Heading_4</th>\n",
       "      <th>Iconclass_Heading_5</th>\n",
       "      <th>Iconclass_Heading_6</th>\n",
       "      <th>Iconclass_Heading_7</th>\n",
       "      <th>Published_In</th>\n",
       "      <th>URL_for_Book_Details</th>\n",
       "    </tr>\n",
       "  </thead>\n",
       "  <tbody>\n",
       "    <tr>\n",
       "      <th>0</th>\n",
       "      <td>E000913</td>\n",
       "      <td>In pace quae belli sunt.</td>\n",
       "      <td>1617</td>\n",
       "      <td>25F23(FOX)(+535) beasts of prey, predatory ani...</td>\n",
       "      <td>25F24(BOAR)(+5211) hoofed animals: boar (+ wal...</td>\n",
       "      <td>25G3 trees</td>\n",
       "      <td>45A10 symbols, allegories of war; 'Guerra' (Ripa)</td>\n",
       "      <td>45A20 symbols, allegories of peace, 'Pax'; 'Pa...</td>\n",
       "      <td>45A132 preparation for war</td>\n",
       "      <td>54D1(+4) Preparation (+ emblematical represent...</td>\n",
       "      <td>emblematapolitic00isel</td>\n",
       "      <td>http://emblematica.library.illinois.edu/detail...</td>\n",
       "    </tr>\n",
       "    <tr>\n",
       "      <th>1</th>\n",
       "      <td>E003060</td>\n",
       "      <td>Erigit impavidum ruina.</td>\n",
       "      <td>1680</td>\n",
       "      <td>86(ERIGIT IMPAVIDUM RUINA) proverbs, sayings, ...</td>\n",
       "      <td>54F12 Luck, Fortune, Lot; 'Fato', 'Fortuna', '...</td>\n",
       "      <td>46C1442 four-wheeled vehicle drawn by two animals</td>\n",
       "      <td>45A10 symbols, allegories of war; 'Guerra' (Ripa)</td>\n",
       "      <td>33A12 shaking hands, 'dextrarum junctio'</td>\n",
       "      <td>31D14 adult man</td>\n",
       "      <td>46C13141 horse</td>\n",
       "      <td>645803367</td>\n",
       "      <td>http://emblematica.library.illinois.edu/detail...</td>\n",
       "    </tr>\n",
       "    <tr>\n",
       "      <th>2</th>\n",
       "      <td>E003754</td>\n",
       "      <td>Maii. Hebdomas Prima.</td>\n",
       "      <td>1641</td>\n",
       "      <td>86(MAII. HEBDOMAS PRIMA) proverbs, sayings, et...</td>\n",
       "      <td>92D1916 cupids: 'amores', 'amoretti', 'putti'</td>\n",
       "      <td>41A1911 tent-camp</td>\n",
       "      <td>47D8(HAMMER) tools, aids, implements ~ crafts ...</td>\n",
       "      <td>47C41 gripping (industrial process)</td>\n",
       "      <td>45A10 symbols, allegories of war; 'Guerra' (Ripa)</td>\n",
       "      <td>23I22 May; 'Maggio' (Ripa)</td>\n",
       "      <td>635971542</td>\n",
       "      <td>http://emblematica.library.illinois.edu/detail...</td>\n",
       "    </tr>\n",
       "    <tr>\n",
       "      <th>3</th>\n",
       "      <td>E003755</td>\n",
       "      <td>Maii. Hebdomas Secunda.</td>\n",
       "      <td>1641</td>\n",
       "      <td>86(MAII. HEBDOMAS SECUNDA) proverbs, sayings, ...</td>\n",
       "      <td>92D1916 cupids: 'amores', 'amoretti', 'putti'</td>\n",
       "      <td>46C13187 leading a horse by the reins; rider b...</td>\n",
       "      <td>45C22 armour</td>\n",
       "      <td>45H3 battle</td>\n",
       "      <td>33B10 'Lite' (Ripa)</td>\n",
       "      <td>45A10 symbols, allegories of war; 'Guerra' (Ripa)</td>\n",
       "      <td>635971542</td>\n",
       "      <td>http://emblematica.library.illinois.edu/detail...</td>\n",
       "    </tr>\n",
       "    <tr>\n",
       "      <th>4</th>\n",
       "      <td>E003756</td>\n",
       "      <td>Maii. Hebdomas Tertia.</td>\n",
       "      <td>1641</td>\n",
       "      <td>86(MAII. HEBDOMAS TERTIA) proverbs, sayings, e...</td>\n",
       "      <td>92D1916 cupids: 'amores', 'amoretti', 'putti'</td>\n",
       "      <td>49D5111 compasses</td>\n",
       "      <td>49D511(RULER) drawing-instruments: ruler</td>\n",
       "      <td>45F11 plan of battle</td>\n",
       "      <td>45A10 symbols, allegories of war; 'Guerra' (Ripa)</td>\n",
       "      <td>33B10 'Lite' (Ripa)</td>\n",
       "      <td>635971542</td>\n",
       "      <td>http://emblematica.library.illinois.edu/detail...</td>\n",
       "    </tr>\n",
       "  </tbody>\n",
       "</table>\n",
       "</div>"
      ],
      "text/plain": [
       "  Emblem_ID              Emblem_Motto  Publication_Date  \\\n",
       "0   E000913  In pace quae belli sunt.              1617   \n",
       "1   E003060   Erigit impavidum ruina.              1680   \n",
       "2   E003754     Maii. Hebdomas Prima.              1641   \n",
       "3   E003755   Maii. Hebdomas Secunda.              1641   \n",
       "4   E003756    Maii. Hebdomas Tertia.              1641   \n",
       "\n",
       "                                 Iconclass_Heading_1  \\\n",
       "0  25F23(FOX)(+535) beasts of prey, predatory ani...   \n",
       "1  86(ERIGIT IMPAVIDUM RUINA) proverbs, sayings, ...   \n",
       "2  86(MAII. HEBDOMAS PRIMA) proverbs, sayings, et...   \n",
       "3  86(MAII. HEBDOMAS SECUNDA) proverbs, sayings, ...   \n",
       "4  86(MAII. HEBDOMAS TERTIA) proverbs, sayings, e...   \n",
       "\n",
       "                                 Iconclass_Heading_2  \\\n",
       "0  25F24(BOAR)(+5211) hoofed animals: boar (+ wal...   \n",
       "1  54F12 Luck, Fortune, Lot; 'Fato', 'Fortuna', '...   \n",
       "2      92D1916 cupids: 'amores', 'amoretti', 'putti'   \n",
       "3      92D1916 cupids: 'amores', 'amoretti', 'putti'   \n",
       "4      92D1916 cupids: 'amores', 'amoretti', 'putti'   \n",
       "\n",
       "                                 Iconclass_Heading_3  \\\n",
       "0                                         25G3 trees   \n",
       "1  46C1442 four-wheeled vehicle drawn by two animals   \n",
       "2                                  41A1911 tent-camp   \n",
       "3  46C13187 leading a horse by the reins; rider b...   \n",
       "4                                  49D5111 compasses   \n",
       "\n",
       "                                 Iconclass_Heading_4  \\\n",
       "0  45A10 symbols, allegories of war; 'Guerra' (Ripa)   \n",
       "1  45A10 symbols, allegories of war; 'Guerra' (Ripa)   \n",
       "2  47D8(HAMMER) tools, aids, implements ~ crafts ...   \n",
       "3                                       45C22 armour   \n",
       "4           49D511(RULER) drawing-instruments: ruler   \n",
       "\n",
       "                                 Iconclass_Heading_5  \\\n",
       "0  45A20 symbols, allegories of peace, 'Pax'; 'Pa...   \n",
       "1           33A12 shaking hands, 'dextrarum junctio'   \n",
       "2                47C41 gripping (industrial process)   \n",
       "3                                        45H3 battle   \n",
       "4                               45F11 plan of battle   \n",
       "\n",
       "                                 Iconclass_Heading_6  \\\n",
       "0                         45A132 preparation for war   \n",
       "1                                    31D14 adult man   \n",
       "2  45A10 symbols, allegories of war; 'Guerra' (Ripa)   \n",
       "3                                33B10 'Lite' (Ripa)   \n",
       "4  45A10 symbols, allegories of war; 'Guerra' (Ripa)   \n",
       "\n",
       "                                 Iconclass_Heading_7            Published_In  \\\n",
       "0  54D1(+4) Preparation (+ emblematical represent...  emblematapolitic00isel   \n",
       "1                                     46C13141 horse               645803367   \n",
       "2                         23I22 May; 'Maggio' (Ripa)               635971542   \n",
       "3  45A10 symbols, allegories of war; 'Guerra' (Ripa)               635971542   \n",
       "4                                33B10 'Lite' (Ripa)               635971542   \n",
       "\n",
       "                                URL_for_Book_Details  \n",
       "0  http://emblematica.library.illinois.edu/detail...  \n",
       "1  http://emblematica.library.illinois.edu/detail...  \n",
       "2  http://emblematica.library.illinois.edu/detail...  \n",
       "3  http://emblematica.library.illinois.edu/detail...  \n",
       "4  http://emblematica.library.illinois.edu/detail...  "
      ]
     },
     "execution_count": 64,
     "metadata": {},
     "output_type": "execute_result"
    }
   ],
   "source": [
    "emblems = emblems.drop(columns=[\"From Collection\", \"URL_for_Emblem_Details\", \"URL_for_Emblem_Thumbnail\", \"URL_for_Pictura\"])\n",
    "emblems.head()"
   ]
  },
  {
   "cell_type": "markdown",
   "metadata": {
    "id": "nLZEAtleYZpB"
   },
   "source": [
    "#### We found a duplicate book entry (1695) so let's drop it here"
   ]
  },
  {
   "cell_type": "markdown",
   "metadata": {
    "id": "87zjy87hIImc"
   },
   "source": [
    "### D.3 Exploring the IconClass Data:  Combining the Tags\n",
    "\n",
    "* Emblematica Online uses the Iconclass vocabularies to classify the images.\n",
    "* Each emblem can have more than one classification number, and these are stored in separate columns\n",
    "* Let's: \n",
    " - **find those Iconclass columns** and then \n",
    " - **remove the NaN values** in any cells and then\n",
    " - put all the values for each icon in a single cell **'iconclasses'**\n",
    "\n",
    " #### More about [Iconclass](http://www.iconclass.org/help/outline)"
   ]
  },
  {
   "cell_type": "code",
   "execution_count": 65,
   "metadata": {
    "ExecuteTime": {
     "end_time": "2022-02-10T23:28:17.087498Z",
     "start_time": "2022-02-10T23:28:17.085128Z"
    },
    "colab": {
     "base_uri": "https://localhost:8080/"
    },
    "id": "DaSI-u60IImc",
    "outputId": "999367a6-81a2-4009-ec18-0e657d1e8ed6"
   },
   "outputs": [
    {
     "data": {
      "text/plain": [
       "['Iconclass_Heading_1',\n",
       " 'Iconclass_Heading_2',\n",
       " 'Iconclass_Heading_3',\n",
       " 'Iconclass_Heading_4',\n",
       " 'Iconclass_Heading_5',\n",
       " 'Iconclass_Heading_6',\n",
       " 'Iconclass_Heading_7']"
      ]
     },
     "execution_count": 65,
     "metadata": {},
     "output_type": "execute_result"
    }
   ],
   "source": [
    "icon_columns = [c for c in emblems.columns if c.startswith(\"Iconclass\")]\n",
    "icon_columns"
   ]
  },
  {
   "cell_type": "code",
   "execution_count": 66,
   "metadata": {
    "ExecuteTime": {
     "end_time": "2022-02-10T23:28:17.095751Z",
     "start_time": "2022-02-10T23:28:17.089592Z"
    },
    "colab": {
     "base_uri": "https://localhost:8080/"
    },
    "id": "jjTEsQ4HIImc",
    "outputId": "8cdfac9c-18dc-44dd-80b5-02f4dcbcaa64"
   },
   "outputs": [
    {
     "data": {
      "text/plain": [
       "0      [25F23(FOX)(+535) beasts of prey, predatory an...\n",
       "1      [86(ERIGIT IMPAVIDUM RUINA) proverbs, sayings,...\n",
       "2      [86(MAII. HEBDOMAS PRIMA) proverbs, sayings, e...\n",
       "3      [86(MAII. HEBDOMAS SECUNDA) proverbs, sayings,...\n",
       "4      [86(MAII. HEBDOMAS TERTIA) proverbs, sayings, ...\n",
       "                             ...                        \n",
       "108    [86(WER DIESES NIMT IN ACHT) proverbs, sayings...\n",
       "109    [86(DEN MUND SCHLEUS ZU) proverbs, sayings, et...\n",
       "110    [86(FRIED UNS ERHELT) proverbs, sayings, etc. ...\n",
       "111    [86(SO RÜST' ICH MICH) proverbs, sayings, etc....\n",
       "112    [86(DER DREYEN EINES., DER BEDEUTENDE) proverb...\n",
       "Name: iconclasses, Length: 113, dtype: object"
      ]
     },
     "execution_count": 66,
     "metadata": {},
     "output_type": "execute_result"
    }
   ],
   "source": [
    "emblems[\"iconclasses\"] = (\n",
    "    emblems[icon_columns]\n",
    "        .fillna(\"\")\n",
    "        .apply(lambda x: [el for el in x if el], axis=\"columns\")\n",
    ")\n",
    "emblems[\"iconclasses\"]"
   ]
  },
  {
   "cell_type": "code",
   "execution_count": 71,
   "metadata": {
    "ExecuteTime": {
     "end_time": "2022-02-10T23:28:17.113510Z",
     "start_time": "2022-02-10T23:28:17.097799Z"
    },
    "colab": {
     "base_uri": "https://localhost:8080/",
     "height": 600
    },
    "id": "eA9ZXCKYIImf",
    "outputId": "dab101cd-7cea-4d7f-9411-460cb93f6d9a"
   },
   "outputs": [
    {
     "data": {
      "text/html": [
       "\n",
       "  <div id=\"df-ecf069a3-8cf3-4fff-bee0-b5e1f53190b3\">\n",
       "    <div class=\"colab-df-container\">\n",
       "      <div>\n",
       "<style scoped>\n",
       "    .dataframe tbody tr th:only-of-type {\n",
       "        vertical-align: middle;\n",
       "    }\n",
       "\n",
       "    .dataframe tbody tr th {\n",
       "        vertical-align: top;\n",
       "    }\n",
       "\n",
       "    .dataframe thead th {\n",
       "        text-align: right;\n",
       "    }\n",
       "</style>\n",
       "<table border=\"1\" class=\"dataframe\">\n",
       "  <thead>\n",
       "    <tr style=\"text-align: right;\">\n",
       "      <th></th>\n",
       "      <th>Emblem_ID</th>\n",
       "      <th>Emblem_Motto</th>\n",
       "      <th>Publication_Date</th>\n",
       "      <th>URL_for_Pictura</th>\n",
       "      <th>Iconclass_Heading_1</th>\n",
       "      <th>Iconclass_Heading_2</th>\n",
       "      <th>Iconclass_Heading_3</th>\n",
       "      <th>Iconclass_Heading_4</th>\n",
       "      <th>Iconclass_Heading_5</th>\n",
       "      <th>Iconclass_Heading_6</th>\n",
       "      <th>Iconclass_Heading_7</th>\n",
       "      <th>Published_In</th>\n",
       "      <th>URL_for_Book_Details</th>\n",
       "      <th>iconclasses</th>\n",
       "    </tr>\n",
       "  </thead>\n",
       "  <tbody>\n",
       "    <tr>\n",
       "      <th>0</th>\n",
       "      <td>E000913</td>\n",
       "      <td>In pace quae belli sunt.</td>\n",
       "      <td>1617</td>\n",
       "      <td>http://emblemimages.library.illinois.edu/emble...</td>\n",
       "      <td>25F23(FOX)(+535) beasts of prey, predatory ani...</td>\n",
       "      <td>25F24(BOAR)(+5211) hoofed animals: boar (+ wal...</td>\n",
       "      <td>25G3 trees</td>\n",
       "      <td>45A10 symbols, allegories of war; 'Guerra' (Ripa)</td>\n",
       "      <td>45A20 symbols, allegories of peace, 'Pax'; 'Pa...</td>\n",
       "      <td>45A132 preparation for war</td>\n",
       "      <td>54D1(+4) Preparation (+ emblematical represent...</td>\n",
       "      <td>emblematapolitic00isel</td>\n",
       "      <td>http://emblematica.library.illinois.edu/detail...</td>\n",
       "      <td>[25F23(FOX)(+535) beasts of prey, predatory an...</td>\n",
       "    </tr>\n",
       "    <tr>\n",
       "      <th>1</th>\n",
       "      <td>E003060</td>\n",
       "      <td>Erigit impavidum ruina.</td>\n",
       "      <td>1680</td>\n",
       "      <td>http://emblemimages.library.illinois.edu/64580...</td>\n",
       "      <td>86(ERIGIT IMPAVIDUM RUINA) proverbs, sayings, ...</td>\n",
       "      <td>54F12 Luck, Fortune, Lot; 'Fato', 'Fortuna', '...</td>\n",
       "      <td>46C1442 four-wheeled vehicle drawn by two animals</td>\n",
       "      <td>45A10 symbols, allegories of war; 'Guerra' (Ripa)</td>\n",
       "      <td>33A12 shaking hands, 'dextrarum junctio'</td>\n",
       "      <td>31D14 adult man</td>\n",
       "      <td>46C13141 horse</td>\n",
       "      <td>645803367</td>\n",
       "      <td>http://emblematica.library.illinois.edu/detail...</td>\n",
       "      <td>[86(ERIGIT IMPAVIDUM RUINA) proverbs, sayings,...</td>\n",
       "    </tr>\n",
       "    <tr>\n",
       "      <th>2</th>\n",
       "      <td>E003754</td>\n",
       "      <td>Maii. Hebdomas Prima.</td>\n",
       "      <td>1641</td>\n",
       "      <td>http://emblemimages.library.illinois.edu/63597...</td>\n",
       "      <td>86(MAII. HEBDOMAS PRIMA) proverbs, sayings, et...</td>\n",
       "      <td>92D1916 cupids: 'amores', 'amoretti', 'putti'</td>\n",
       "      <td>41A1911 tent-camp</td>\n",
       "      <td>47D8(HAMMER) tools, aids, implements ~ crafts ...</td>\n",
       "      <td>47C41 gripping (industrial process)</td>\n",
       "      <td>45A10 symbols, allegories of war; 'Guerra' (Ripa)</td>\n",
       "      <td>23I22 May; 'Maggio' (Ripa)</td>\n",
       "      <td>635971542</td>\n",
       "      <td>http://emblematica.library.illinois.edu/detail...</td>\n",
       "      <td>[86(MAII. HEBDOMAS PRIMA) proverbs, sayings, e...</td>\n",
       "    </tr>\n",
       "    <tr>\n",
       "      <th>3</th>\n",
       "      <td>E003755</td>\n",
       "      <td>Maii. Hebdomas Secunda.</td>\n",
       "      <td>1641</td>\n",
       "      <td>http://emblemimages.library.illinois.edu/63597...</td>\n",
       "      <td>86(MAII. HEBDOMAS SECUNDA) proverbs, sayings, ...</td>\n",
       "      <td>92D1916 cupids: 'amores', 'amoretti', 'putti'</td>\n",
       "      <td>46C13187 leading a horse by the reins; rider b...</td>\n",
       "      <td>45C22 armour</td>\n",
       "      <td>45H3 battle</td>\n",
       "      <td>33B10 'Lite' (Ripa)</td>\n",
       "      <td>45A10 symbols, allegories of war; 'Guerra' (Ripa)</td>\n",
       "      <td>635971542</td>\n",
       "      <td>http://emblematica.library.illinois.edu/detail...</td>\n",
       "      <td>[86(MAII. HEBDOMAS SECUNDA) proverbs, sayings,...</td>\n",
       "    </tr>\n",
       "    <tr>\n",
       "      <th>4</th>\n",
       "      <td>E003756</td>\n",
       "      <td>Maii. Hebdomas Tertia.</td>\n",
       "      <td>1641</td>\n",
       "      <td>http://emblemimages.library.illinois.edu/63597...</td>\n",
       "      <td>86(MAII. HEBDOMAS TERTIA) proverbs, sayings, e...</td>\n",
       "      <td>92D1916 cupids: 'amores', 'amoretti', 'putti'</td>\n",
       "      <td>49D5111 compasses</td>\n",
       "      <td>49D511(RULER) drawing-instruments: ruler</td>\n",
       "      <td>45F11 plan of battle</td>\n",
       "      <td>45A10 symbols, allegories of war; 'Guerra' (Ripa)</td>\n",
       "      <td>33B10 'Lite' (Ripa)</td>\n",
       "      <td>635971542</td>\n",
       "      <td>http://emblematica.library.illinois.edu/detail...</td>\n",
       "      <td>[86(MAII. HEBDOMAS TERTIA) proverbs, sayings, ...</td>\n",
       "    </tr>\n",
       "  </tbody>\n",
       "</table>\n",
       "</div>\n",
       "      <button class=\"colab-df-convert\" onclick=\"convertToInteractive('df-ecf069a3-8cf3-4fff-bee0-b5e1f53190b3')\"\n",
       "              title=\"Convert this dataframe to an interactive table.\"\n",
       "              style=\"display:none;\">\n",
       "        \n",
       "  <svg xmlns=\"http://www.w3.org/2000/svg\" height=\"24px\"viewBox=\"0 0 24 24\"\n",
       "       width=\"24px\">\n",
       "    <path d=\"M0 0h24v24H0V0z\" fill=\"none\"/>\n",
       "    <path d=\"M18.56 5.44l.94 2.06.94-2.06 2.06-.94-2.06-.94-.94-2.06-.94 2.06-2.06.94zm-11 1L8.5 8.5l.94-2.06 2.06-.94-2.06-.94L8.5 2.5l-.94 2.06-2.06.94zm10 10l.94 2.06.94-2.06 2.06-.94-2.06-.94-.94-2.06-.94 2.06-2.06.94z\"/><path d=\"M17.41 7.96l-1.37-1.37c-.4-.4-.92-.59-1.43-.59-.52 0-1.04.2-1.43.59L10.3 9.45l-7.72 7.72c-.78.78-.78 2.05 0 2.83L4 21.41c.39.39.9.59 1.41.59.51 0 1.02-.2 1.41-.59l7.78-7.78 2.81-2.81c.8-.78.8-2.07 0-2.86zM5.41 20L4 18.59l7.72-7.72 1.47 1.35L5.41 20z\"/>\n",
       "  </svg>\n",
       "      </button>\n",
       "      \n",
       "  <style>\n",
       "    .colab-df-container {\n",
       "      display:flex;\n",
       "      flex-wrap:wrap;\n",
       "      gap: 12px;\n",
       "    }\n",
       "\n",
       "    .colab-df-convert {\n",
       "      background-color: #E8F0FE;\n",
       "      border: none;\n",
       "      border-radius: 50%;\n",
       "      cursor: pointer;\n",
       "      display: none;\n",
       "      fill: #1967D2;\n",
       "      height: 32px;\n",
       "      padding: 0 0 0 0;\n",
       "      width: 32px;\n",
       "    }\n",
       "\n",
       "    .colab-df-convert:hover {\n",
       "      background-color: #E2EBFA;\n",
       "      box-shadow: 0px 1px 2px rgba(60, 64, 67, 0.3), 0px 1px 3px 1px rgba(60, 64, 67, 0.15);\n",
       "      fill: #174EA6;\n",
       "    }\n",
       "\n",
       "    [theme=dark] .colab-df-convert {\n",
       "      background-color: #3B4455;\n",
       "      fill: #D2E3FC;\n",
       "    }\n",
       "\n",
       "    [theme=dark] .colab-df-convert:hover {\n",
       "      background-color: #434B5C;\n",
       "      box-shadow: 0px 1px 3px 1px rgba(0, 0, 0, 0.15);\n",
       "      filter: drop-shadow(0px 1px 2px rgba(0, 0, 0, 0.3));\n",
       "      fill: #FFFFFF;\n",
       "    }\n",
       "  </style>\n",
       "\n",
       "      <script>\n",
       "        const buttonEl =\n",
       "          document.querySelector('#df-ecf069a3-8cf3-4fff-bee0-b5e1f53190b3 button.colab-df-convert');\n",
       "        buttonEl.style.display =\n",
       "          google.colab.kernel.accessAllowed ? 'block' : 'none';\n",
       "\n",
       "        async function convertToInteractive(key) {\n",
       "          const element = document.querySelector('#df-ecf069a3-8cf3-4fff-bee0-b5e1f53190b3');\n",
       "          const dataTable =\n",
       "            await google.colab.kernel.invokeFunction('convertToInteractive',\n",
       "                                                     [key], {});\n",
       "          if (!dataTable) return;\n",
       "\n",
       "          const docLinkHtml = 'Like what you see? Visit the ' +\n",
       "            '<a target=\"_blank\" href=https://colab.research.google.com/notebooks/data_table.ipynb>data table notebook</a>'\n",
       "            + ' to learn more about interactive tables.';\n",
       "          element.innerHTML = '';\n",
       "          dataTable['output_type'] = 'display_data';\n",
       "          await google.colab.output.renderOutput(dataTable, element);\n",
       "          const docLink = document.createElement('div');\n",
       "          docLink.innerHTML = docLinkHtml;\n",
       "          element.appendChild(docLink);\n",
       "        }\n",
       "      </script>\n",
       "    </div>\n",
       "  </div>\n",
       "  "
      ],
      "text/plain": [
       "  Emblem_ID  ...                                        iconclasses\n",
       "0   E000913  ...  [25F23(FOX)(+535) beasts of prey, predatory an...\n",
       "1   E003060  ...  [86(ERIGIT IMPAVIDUM RUINA) proverbs, sayings,...\n",
       "2   E003754  ...  [86(MAII. HEBDOMAS PRIMA) proverbs, sayings, e...\n",
       "3   E003755  ...  [86(MAII. HEBDOMAS SECUNDA) proverbs, sayings,...\n",
       "4   E003756  ...  [86(MAII. HEBDOMAS TERTIA) proverbs, sayings, ...\n",
       "\n",
       "[5 rows x 14 columns]"
      ]
     },
     "execution_count": 71,
     "metadata": {},
     "output_type": "execute_result"
    }
   ],
   "source": [
    "emblems.head()"
   ]
  },
  {
   "cell_type": "markdown",
   "metadata": {
    "id": "LwAYSh5nIImg"
   },
   "source": [
    "#### The `iloc` method lets us see a particular location, in this case the **combined cell of the first row** `[0]`"
   ]
  },
  {
   "cell_type": "code",
   "execution_count": 67,
   "metadata": {
    "ExecuteTime": {
     "end_time": "2022-02-10T23:28:17.120319Z",
     "start_time": "2022-02-10T23:28:17.115506Z"
    },
    "colab": {
     "base_uri": "https://localhost:8080/"
    },
    "id": "xhaU7iC2IImg",
    "outputId": "bbe5a20d-79cf-4e38-a88e-73dffdb96f10"
   },
   "outputs": [
    {
     "data": {
      "text/plain": [
       "['25F23(FOX)(+535) beasts of prey, predatory animals: fox (+ sitting animal)',\n",
       " '25F24(BOAR)(+5211) hoofed animals: boar (+ walking animal)',\n",
       " '25G3 trees',\n",
       " \"45A10 symbols, allegories of war; 'Guerra' (Ripa)\",\n",
       " \"45A20 symbols, allegories of peace, 'Pax'; 'Pace' (Ripa)\",\n",
       " '45A132 preparation for war',\n",
       " '54D1(+4) Preparation (+ emblematical representation of concept)']"
      ]
     },
     "execution_count": 67,
     "metadata": {},
     "output_type": "execute_result"
    }
   ],
   "source": [
    "emblems.iconclasses.iloc[0]"
   ]
  },
  {
   "cell_type": "markdown",
   "metadata": {
    "id": "J6XWi4prIImg"
   },
   "source": [
    "### D.3 Exploring the IconClass Data:  Searching within Tag Data\n",
    "\n",
    "* Iconclass data (http://www.iconclass.org/help/outline) are organized hierarchically.  The first digit represents a broad category (\"2\" = nature), and subsequent characters and letter represent sub-types.  \"24\" is the heavens; \"25\" is the earth.  \n",
    "* \"25F\" is the category 'animal'.  So we can make a new **Boolean column** (which will be either True or False) for any row in which that tag string appears. \n"
   ]
  },
  {
   "cell_type": "code",
   "execution_count": 69,
   "metadata": {
    "ExecuteTime": {
     "end_time": "2022-02-10T23:28:17.127063Z",
     "start_time": "2022-02-10T23:28:17.122335Z"
    },
    "colab": {
     "base_uri": "https://localhost:8080/"
    },
    "id": "PuAglbEMIImg",
    "outputId": "96d1b7a2-d066-4b01-ca62-f3888c170af3"
   },
   "outputs": [
    {
     "data": {
      "text/plain": [
       "0       True\n",
       "1      False\n",
       "2      False\n",
       "3      False\n",
       "4      False\n",
       "       ...  \n",
       "108    False\n",
       "109    False\n",
       "110    False\n",
       "111    False\n",
       "112     True\n",
       "Name: is_animal, Length: 113, dtype: bool"
      ]
     },
     "execution_count": 69,
     "metadata": {},
     "output_type": "execute_result"
    }
   ],
   "source": [
    "emblems[\"is_animal\"] = emblems.iconclasses.apply(lambda tag_list: any([tag.startswith(\"25F\") for tag in tag_list]))\n",
    "emblems[\"is_animal\"]"
   ]
  },
  {
   "cell_type": "markdown",
   "metadata": {
    "id": "8RSBv2oQIImh"
   },
   "source": [
    "#### The dataframe can now be 'filtered' to show only those rows where \"is_animal\" is True (or False!)\n",
    "\n",
    "* Scroll to the far right in the following dataframe to see the Boolean column"
   ]
  },
  {
   "cell_type": "code",
   "execution_count": 71,
   "metadata": {
    "ExecuteTime": {
     "end_time": "2022-02-10T23:28:17.154254Z",
     "start_time": "2022-02-10T23:28:17.129750Z"
    },
    "colab": {
     "base_uri": "https://localhost:8080/",
     "height": 1000
    },
    "id": "RaQYQHx3IImh",
    "outputId": "4e611697-6933-4a53-9d2c-f763468e4bcc"
   },
   "outputs": [],
   "source": [
    "results = emblems[emblems.is_animal]"
   ]
  },
  {
   "cell_type": "code",
   "execution_count": 73,
   "metadata": {},
   "outputs": [],
   "source": [
    "results.to_csv(\"my_animals.csv\")"
   ]
  },
  {
   "cell_type": "markdown",
   "metadata": {
    "id": "_6LVfgjvIImh"
   },
   "source": [
    "___"
   ]
  },
  {
   "cell_type": "markdown",
   "metadata": {
    "id": "nCMWrCJqIImi"
   },
   "source": [
    "## E.  Combining, Joining, and Merging DataFrames\n",
    "\n",
    "### E.1 We can merge the emblem and book dataframes on the basis of some shared data\n",
    "\n",
    "* In this case the **Published_In** column in the emblems list corresponds to the **Book_Id**\n",
    "* In Pandas, the two frames to be joined are called \"left\" and \"right\"\n",
    "* The \"suffixes\" argument tells Pandas how to handle fields are otherwise named identically in the source files"
   ]
  },
  {
   "cell_type": "code",
   "execution_count": 110,
   "metadata": {
    "ExecuteTime": {
     "end_time": "2022-02-10T23:28:17.168374Z",
     "start_time": "2022-02-10T23:28:17.160461Z"
    },
    "colab": {
     "base_uri": "https://localhost:8080/",
     "height": 565
    },
    "id": "zyZ8DaF6IImi",
    "outputId": "32c5da50-9529-475e-d2e4-4353902ac201"
   },
   "outputs": [
    {
     "data": {
      "text/html": [
       "\n",
       "  <div id=\"df-b42a88f4-78d6-4064-8e1e-d7fc86f4a25f\">\n",
       "    <div class=\"colab-df-container\">\n",
       "      <div>\n",
       "<style scoped>\n",
       "    .dataframe tbody tr th:only-of-type {\n",
       "        vertical-align: middle;\n",
       "    }\n",
       "\n",
       "    .dataframe tbody tr th {\n",
       "        vertical-align: top;\n",
       "    }\n",
       "\n",
       "    .dataframe thead th {\n",
       "        text-align: right;\n",
       "    }\n",
       "</style>\n",
       "<table border=\"1\" class=\"dataframe\">\n",
       "  <thead>\n",
       "    <tr style=\"text-align: right;\">\n",
       "      <th></th>\n",
       "      <th>Emblem_ID</th>\n",
       "      <th>Emblem_Motto</th>\n",
       "      <th>Publication_Date_emblem</th>\n",
       "      <th>URL_for_Pictura</th>\n",
       "      <th>Iconclass_Heading_1</th>\n",
       "      <th>Iconclass_Heading_2</th>\n",
       "      <th>Iconclass_Heading_3</th>\n",
       "      <th>Iconclass_Heading_4</th>\n",
       "      <th>Iconclass_Heading_5</th>\n",
       "      <th>Iconclass_Heading_6</th>\n",
       "      <th>Iconclass_Heading_7</th>\n",
       "      <th>Published_In</th>\n",
       "      <th>URL_for_Book_Details_emblem</th>\n",
       "      <th>iconclasses</th>\n",
       "      <th>is_animal</th>\n",
       "      <th>Book_ID</th>\n",
       "      <th>URL_for_Book_Details_book</th>\n",
       "      <th>Book_Title</th>\n",
       "      <th>Publication_Date_book</th>\n",
       "      <th>Publisher</th>\n",
       "      <th>Place_of_Publication</th>\n",
       "      <th>Author_1</th>\n",
       "      <th>Author_2</th>\n",
       "      <th>Author_3</th>\n",
       "      <th>Author_4</th>\n",
       "      <th>Author_5</th>\n",
       "      <th>Contributor_1</th>\n",
       "      <th>Contributor_2</th>\n",
       "      <th>Contributor_3</th>\n",
       "    </tr>\n",
       "  </thead>\n",
       "  <tbody>\n",
       "    <tr>\n",
       "      <th>108</th>\n",
       "      <td>E050519</td>\n",
       "      <td>Wer dieses nimt in acht.</td>\n",
       "      <td>1643</td>\n",
       "      <td>http://emblemimages.library.illinois.edu/87251...</td>\n",
       "      <td>86(WER DIESES NIMT IN ACHT) proverbs, sayings,...</td>\n",
       "      <td>86(UND ALSO HELT DIE WACHT) proverbs, sayings,...</td>\n",
       "      <td>86(THUT ALLES MIT BEDACHT) proverbs, sayings, ...</td>\n",
       "      <td>41A711 table</td>\n",
       "      <td>49MM32 book - MM - book open</td>\n",
       "      <td>49M32 book</td>\n",
       "      <td>46B3311 scales</td>\n",
       "      <td>872516830</td>\n",
       "      <td>http://emblematica.library.illinois.edu/detail...</td>\n",
       "      <td>[86(WER DIESES NIMT IN ACHT) proverbs, sayings...</td>\n",
       "      <td>False</td>\n",
       "      <td>872516830</td>\n",
       "      <td>http://emblematica.library.illinois.edu/detail...</td>\n",
       "      <td>Dreiständige Sinnbilder: Zu Fruchtbringendem N...</td>\n",
       "      <td>1643</td>\n",
       "      <td>Buno</td>\n",
       "      <td>Braunschweig</td>\n",
       "      <td>Geheime, Der</td>\n",
       "      <td>NaN</td>\n",
       "      <td>NaN</td>\n",
       "      <td>NaN</td>\n",
       "      <td>NaN</td>\n",
       "      <td>Nährende, Der &lt;Anhalt-Köthen, Fürst&gt;</td>\n",
       "      <td>Unverdrossene, Der</td>\n",
       "      <td>Suchende, Der</td>\n",
       "    </tr>\n",
       "    <tr>\n",
       "      <th>109</th>\n",
       "      <td>E050525</td>\n",
       "      <td>Den mund schleus zu.</td>\n",
       "      <td>1643</td>\n",
       "      <td>http://emblemimages.library.illinois.edu/87251...</td>\n",
       "      <td>86(DEN MUND SCHLEUS ZU) proverbs, sayings, etc...</td>\n",
       "      <td>86(DIE ZUNG BIND DU) proverbs, sayings, etc. (...</td>\n",
       "      <td>86(KOMMT FRIED UND RUH) proverbs, sayings, etc...</td>\n",
       "      <td>31D14(+53) adult man (+ sitting)</td>\n",
       "      <td>31B623591 putting a finger to the lips, 'Silen...</td>\n",
       "      <td>52DD3 Taciturnity; 'Secretezza', 'Secretezza o...</td>\n",
       "      <td>54F14 Advantage</td>\n",
       "      <td>872516830</td>\n",
       "      <td>http://emblematica.library.illinois.edu/detail...</td>\n",
       "      <td>[86(DEN MUND SCHLEUS ZU) proverbs, sayings, et...</td>\n",
       "      <td>False</td>\n",
       "      <td>872516830</td>\n",
       "      <td>http://emblematica.library.illinois.edu/detail...</td>\n",
       "      <td>Dreiständige Sinnbilder: Zu Fruchtbringendem N...</td>\n",
       "      <td>1643</td>\n",
       "      <td>Buno</td>\n",
       "      <td>Braunschweig</td>\n",
       "      <td>Geheime, Der</td>\n",
       "      <td>NaN</td>\n",
       "      <td>NaN</td>\n",
       "      <td>NaN</td>\n",
       "      <td>NaN</td>\n",
       "      <td>Nährende, Der &lt;Anhalt-Köthen, Fürst&gt;</td>\n",
       "      <td>Unverdrossene, Der</td>\n",
       "      <td>Suchende, Der</td>\n",
       "    </tr>\n",
       "    <tr>\n",
       "      <th>110</th>\n",
       "      <td>E050539</td>\n",
       "      <td>Fried uns erhelt.</td>\n",
       "      <td>1643</td>\n",
       "      <td>http://emblemimages.library.illinois.edu/87251...</td>\n",
       "      <td>86(FRIED UNS ERHELT) proverbs, sayings, etc. (...</td>\n",
       "      <td>86(UNFRIED UNS STELLT) proverbs, sayings, etc....</td>\n",
       "      <td>86(BLEIB IM GEZELT) proverbs, sayings, etc. (B...</td>\n",
       "      <td>31A25431 three or more clasped hands, meaning ...</td>\n",
       "      <td>25H1121 mountain-top, peak</td>\n",
       "      <td>45A20 symbols, allegories of peace, 'Pax'; 'Pa...</td>\n",
       "      <td>57A62 Fidelity; 'Fedeltà' (Ripa)</td>\n",
       "      <td>872516830</td>\n",
       "      <td>http://emblematica.library.illinois.edu/detail...</td>\n",
       "      <td>[86(FRIED UNS ERHELT) proverbs, sayings, etc. ...</td>\n",
       "      <td>False</td>\n",
       "      <td>872516830</td>\n",
       "      <td>http://emblematica.library.illinois.edu/detail...</td>\n",
       "      <td>Dreiständige Sinnbilder: Zu Fruchtbringendem N...</td>\n",
       "      <td>1643</td>\n",
       "      <td>Buno</td>\n",
       "      <td>Braunschweig</td>\n",
       "      <td>Geheime, Der</td>\n",
       "      <td>NaN</td>\n",
       "      <td>NaN</td>\n",
       "      <td>NaN</td>\n",
       "      <td>NaN</td>\n",
       "      <td>Nährende, Der &lt;Anhalt-Köthen, Fürst&gt;</td>\n",
       "      <td>Unverdrossene, Der</td>\n",
       "      <td>Suchende, Der</td>\n",
       "    </tr>\n",
       "    <tr>\n",
       "      <th>111</th>\n",
       "      <td>E050541</td>\n",
       "      <td>So rüst' ich mich.</td>\n",
       "      <td>1643</td>\n",
       "      <td>http://emblemimages.library.illinois.edu/87251...</td>\n",
       "      <td>86(SO RÜST' ICH MICH) proverbs, sayings, etc. ...</td>\n",
       "      <td>86(MICH ALSO ICH) proverbs, sayings, etc. (MIC...</td>\n",
       "      <td>86(ICH RITTERLICH) proverbs, sayings, etc. (IC...</td>\n",
       "      <td>46A124 knight</td>\n",
       "      <td>45C11(SPEAR) casting weapons: spear</td>\n",
       "      <td>54D1 Preparation</td>\n",
       "      <td>45A10 symbols, allegories of war; 'Guerra' (Ripa)</td>\n",
       "      <td>872516830</td>\n",
       "      <td>http://emblematica.library.illinois.edu/detail...</td>\n",
       "      <td>[86(SO RÜST' ICH MICH) proverbs, sayings, etc....</td>\n",
       "      <td>False</td>\n",
       "      <td>872516830</td>\n",
       "      <td>http://emblematica.library.illinois.edu/detail...</td>\n",
       "      <td>Dreiständige Sinnbilder: Zu Fruchtbringendem N...</td>\n",
       "      <td>1643</td>\n",
       "      <td>Buno</td>\n",
       "      <td>Braunschweig</td>\n",
       "      <td>Geheime, Der</td>\n",
       "      <td>NaN</td>\n",
       "      <td>NaN</td>\n",
       "      <td>NaN</td>\n",
       "      <td>NaN</td>\n",
       "      <td>Nährende, Der &lt;Anhalt-Köthen, Fürst&gt;</td>\n",
       "      <td>Unverdrossene, Der</td>\n",
       "      <td>Suchende, Der</td>\n",
       "    </tr>\n",
       "    <tr>\n",
       "      <th>112</th>\n",
       "      <td>E051589</td>\n",
       "      <td>Der Dreyen Eines., Der Bedeutende.</td>\n",
       "      <td>1646</td>\n",
       "      <td>http://emblemimages.library.illinois.edu/53781...</td>\n",
       "      <td>86(DER DREYEN EINES., DER BEDEUTENDE) proverbs...</td>\n",
       "      <td>25I22 prospect of village, silhouette of village</td>\n",
       "      <td>25G3(OAK) trees: oak</td>\n",
       "      <td>25G21(OAK APPLE) fruits (OAK APPLE)</td>\n",
       "      <td>61B2(BERCHEN, Ernst von)3 historical person (B...</td>\n",
       "      <td>25F713(+1) spiders (+ animals used symbolically)</td>\n",
       "      <td>25F711(FLY)(+1) insects: fly (+ animals used s...</td>\n",
       "      <td>537816240</td>\n",
       "      <td>http://emblematica.library.illinois.edu/detail...</td>\n",
       "      <td>[86(DER DREYEN EINES., DER BEDEUTENDE) proverb...</td>\n",
       "      <td>True</td>\n",
       "      <td>537816240</td>\n",
       "      <td>http://emblematica.library.illinois.edu/detail...</td>\n",
       "      <td>Fruchtbringenden Geselschaft Nahmen/ Vorhaben/...</td>\n",
       "      <td>1646</td>\n",
       "      <td>Merian</td>\n",
       "      <td>Franckfurt am Mayn</td>\n",
       "      <td>Ludwig &lt;Anhalt-Köthen, Fürst&gt;</td>\n",
       "      <td>NaN</td>\n",
       "      <td>NaN</td>\n",
       "      <td>NaN</td>\n",
       "      <td>NaN</td>\n",
       "      <td>Merian, Matthäus &lt;der Ältere&gt;</td>\n",
       "      <td>Merian, Matthaeus &lt;der Ältere&gt;</td>\n",
       "      <td>NaN</td>\n",
       "    </tr>\n",
       "  </tbody>\n",
       "</table>\n",
       "</div>\n",
       "      <button class=\"colab-df-convert\" onclick=\"convertToInteractive('df-b42a88f4-78d6-4064-8e1e-d7fc86f4a25f')\"\n",
       "              title=\"Convert this dataframe to an interactive table.\"\n",
       "              style=\"display:none;\">\n",
       "        \n",
       "  <svg xmlns=\"http://www.w3.org/2000/svg\" height=\"24px\"viewBox=\"0 0 24 24\"\n",
       "       width=\"24px\">\n",
       "    <path d=\"M0 0h24v24H0V0z\" fill=\"none\"/>\n",
       "    <path d=\"M18.56 5.44l.94 2.06.94-2.06 2.06-.94-2.06-.94-.94-2.06-.94 2.06-2.06.94zm-11 1L8.5 8.5l.94-2.06 2.06-.94-2.06-.94L8.5 2.5l-.94 2.06-2.06.94zm10 10l.94 2.06.94-2.06 2.06-.94-2.06-.94-.94-2.06-.94 2.06-2.06.94z\"/><path d=\"M17.41 7.96l-1.37-1.37c-.4-.4-.92-.59-1.43-.59-.52 0-1.04.2-1.43.59L10.3 9.45l-7.72 7.72c-.78.78-.78 2.05 0 2.83L4 21.41c.39.39.9.59 1.41.59.51 0 1.02-.2 1.41-.59l7.78-7.78 2.81-2.81c.8-.78.8-2.07 0-2.86zM5.41 20L4 18.59l7.72-7.72 1.47 1.35L5.41 20z\"/>\n",
       "  </svg>\n",
       "      </button>\n",
       "      \n",
       "  <style>\n",
       "    .colab-df-container {\n",
       "      display:flex;\n",
       "      flex-wrap:wrap;\n",
       "      gap: 12px;\n",
       "    }\n",
       "\n",
       "    .colab-df-convert {\n",
       "      background-color: #E8F0FE;\n",
       "      border: none;\n",
       "      border-radius: 50%;\n",
       "      cursor: pointer;\n",
       "      display: none;\n",
       "      fill: #1967D2;\n",
       "      height: 32px;\n",
       "      padding: 0 0 0 0;\n",
       "      width: 32px;\n",
       "    }\n",
       "\n",
       "    .colab-df-convert:hover {\n",
       "      background-color: #E2EBFA;\n",
       "      box-shadow: 0px 1px 2px rgba(60, 64, 67, 0.3), 0px 1px 3px 1px rgba(60, 64, 67, 0.15);\n",
       "      fill: #174EA6;\n",
       "    }\n",
       "\n",
       "    [theme=dark] .colab-df-convert {\n",
       "      background-color: #3B4455;\n",
       "      fill: #D2E3FC;\n",
       "    }\n",
       "\n",
       "    [theme=dark] .colab-df-convert:hover {\n",
       "      background-color: #434B5C;\n",
       "      box-shadow: 0px 1px 3px 1px rgba(0, 0, 0, 0.15);\n",
       "      filter: drop-shadow(0px 1px 2px rgba(0, 0, 0, 0.3));\n",
       "      fill: #FFFFFF;\n",
       "    }\n",
       "  </style>\n",
       "\n",
       "      <script>\n",
       "        const buttonEl =\n",
       "          document.querySelector('#df-b42a88f4-78d6-4064-8e1e-d7fc86f4a25f button.colab-df-convert');\n",
       "        buttonEl.style.display =\n",
       "          google.colab.kernel.accessAllowed ? 'block' : 'none';\n",
       "\n",
       "        async function convertToInteractive(key) {\n",
       "          const element = document.querySelector('#df-b42a88f4-78d6-4064-8e1e-d7fc86f4a25f');\n",
       "          const dataTable =\n",
       "            await google.colab.kernel.invokeFunction('convertToInteractive',\n",
       "                                                     [key], {});\n",
       "          if (!dataTable) return;\n",
       "\n",
       "          const docLinkHtml = 'Like what you see? Visit the ' +\n",
       "            '<a target=\"_blank\" href=https://colab.research.google.com/notebooks/data_table.ipynb>data table notebook</a>'\n",
       "            + ' to learn more about interactive tables.';\n",
       "          element.innerHTML = '';\n",
       "          dataTable['output_type'] = 'display_data';\n",
       "          await google.colab.output.renderOutput(dataTable, element);\n",
       "          const docLink = document.createElement('div');\n",
       "          docLink.innerHTML = docLinkHtml;\n",
       "          element.appendChild(docLink);\n",
       "        }\n",
       "      </script>\n",
       "    </div>\n",
       "  </div>\n",
       "  "
      ],
      "text/plain": [
       "    Emblem_ID  ...  Contributor_3\n",
       "108   E050519  ...  Suchende, Der\n",
       "109   E050525  ...  Suchende, Der\n",
       "110   E050539  ...  Suchende, Der\n",
       "111   E050541  ...  Suchende, Der\n",
       "112   E051589  ...            NaN\n",
       "\n",
       "[5 rows x 29 columns]"
      ]
     },
     "execution_count": 110,
     "metadata": {},
     "output_type": "execute_result"
    }
   ],
   "source": [
    "emblems_combined = pd.merge(left=emblems, \n",
    "         right=books, \n",
    "         left_on=\"Published_In\", \n",
    "         right_on=\"Book_ID\", \n",
    "         how=\"left\", \n",
    "         suffixes=[\"_emblem\", \"_book\"])\n",
    "\n",
    "emblems_combined.tail()"
   ]
  },
  {
   "cell_type": "code",
   "execution_count": 111,
   "metadata": {
    "colab": {
     "base_uri": "https://localhost:8080/"
    },
    "id": "aEUD1afQVaAL",
    "outputId": "171c169c-d075-47e1-db75-9e0a40caff58"
   },
   "outputs": [
    {
     "data": {
      "text/plain": [
       "(113, 15)"
      ]
     },
     "execution_count": 111,
     "metadata": {},
     "output_type": "execute_result"
    }
   ],
   "source": [
    "emblems.shape\n"
   ]
  },
  {
   "cell_type": "code",
   "execution_count": 112,
   "metadata": {
    "colab": {
     "base_uri": "https://localhost:8080/"
    },
    "id": "eABiVgo5Vgp4",
    "outputId": "d0bddd74-c22f-4b35-bc12-6da47948495f"
   },
   "outputs": [
    {
     "data": {
      "text/plain": [
       "(113, 29)"
      ]
     },
     "execution_count": 112,
     "metadata": {},
     "output_type": "execute_result"
    }
   ],
   "source": [
    "emblems_combined.shape"
   ]
  },
  {
   "cell_type": "code",
   "execution_count": 113,
   "metadata": {
    "ExecuteTime": {
     "end_time": "2022-02-10T23:28:17.198385Z",
     "start_time": "2022-02-10T23:28:17.189548Z"
    },
    "colab": {
     "base_uri": "https://localhost:8080/"
    },
    "id": "dNqOC9gNIImj",
    "outputId": "0c3eeb30-d131-4ef9-d5a2-79b3fa0f9423"
   },
   "outputs": [
    {
     "data": {
      "text/plain": [
       "Index(['Emblem_ID', 'Emblem_Motto', 'Publication_Date_emblem',\n",
       "       'URL_for_Pictura', 'Iconclass_Heading_1', 'Iconclass_Heading_2',\n",
       "       'Iconclass_Heading_3', 'Iconclass_Heading_4', 'Iconclass_Heading_5',\n",
       "       'Iconclass_Heading_6', 'Iconclass_Heading_7', 'Published_In',\n",
       "       'URL_for_Book_Details_emblem', 'iconclasses', 'is_animal', 'Book_ID',\n",
       "       'URL_for_Book_Details_book', 'Book_Title', 'Publication_Date_book',\n",
       "       'Publisher', 'Place_of_Publication', 'Author_1', 'Author_2', 'Author_3',\n",
       "       'Author_4', 'Author_5', 'Contributor_1', 'Contributor_2',\n",
       "       'Contributor_3'],\n",
       "      dtype='object')"
      ]
     },
     "execution_count": 113,
     "metadata": {},
     "output_type": "execute_result"
    }
   ],
   "source": [
    "emblems_combined.columns"
   ]
  },
  {
   "cell_type": "markdown",
   "metadata": {
    "id": "jbO4ZZ3xIImh"
   },
   "source": [
    "#### Let's see where emblems with animals were published:"
   ]
  },
  {
   "cell_type": "code",
   "execution_count": 114,
   "metadata": {
    "ExecuteTime": {
     "end_time": "2022-02-10T23:28:17.208778Z",
     "start_time": "2022-02-10T23:28:17.200786Z"
    },
    "colab": {
     "base_uri": "https://localhost:8080/"
    },
    "id": "c9CmFG-bIImh",
    "outputId": "bce4c4bb-e410-4efe-c7d0-de7f5c1961aa"
   },
   "outputs": [
    {
     "data": {
      "text/plain": [
       "array(['A Cologny', 'A Lyon', 'Amsterdam', 'Augspurg', 'Bruxellae',\n",
       "       'Coloniae', 'En Lyon', 'Excvsvm Avgvstae Vindelicorum',\n",
       "       'Excvsvm Avgvstæ Vindelicorum', 'Franckfurt am Mayn',\n",
       "       'Gedruckt zu Franckfurt am Mayn', 'Heidelberg',\n",
       "       'Impresso en la ciudad de Najera', 'In Lione', 'London', 'Lugduni',\n",
       "       'Lvgd', 'Lvgdvni', 'Lvgdvni Batavorvm', 'Lyon', 'Nurembergµ',\n",
       "       'Nürnberg', 'On les uend à Paris', 'On les vend a Paris', 'Paris',\n",
       "       'Parisiis', 'Patauij'], dtype=object)"
      ]
     },
     "execution_count": 114,
     "metadata": {},
     "output_type": "execute_result"
    }
   ],
   "source": [
    "emblems_combined[emblems_combined.is_animal][\"Place_of_Publication\"].sort_values().unique()"
   ]
  },
  {
   "cell_type": "markdown",
   "metadata": {
    "id": "li7cXHOWIImj"
   },
   "source": [
    "___"
   ]
  },
  {
   "cell_type": "markdown",
   "metadata": {
    "id": "KlsgqLZCIImj"
   },
   "source": [
    "## F.  Decima Data\n",
    "\n",
    "* Let's load the Decima data"
   ]
  },
  {
   "cell_type": "code",
   "execution_count": 74,
   "metadata": {
    "ExecuteTime": {
     "end_time": "2022-02-10T23:28:17.220681Z",
     "start_time": "2022-02-10T23:28:17.212468Z"
    },
    "id": "Su8S40fpIImj"
   },
   "outputs": [],
   "source": [
    "decima = pd.read_csv(decima_data)"
   ]
  },
  {
   "cell_type": "markdown",
   "metadata": {
    "id": "rCdPtBqcIImj"
   },
   "source": [
    "#### Should we add something about renaming columns?"
   ]
  },
  {
   "cell_type": "code",
   "execution_count": 116,
   "metadata": {
    "ExecuteTime": {
     "end_time": "2022-02-10T23:28:17.246010Z",
     "start_time": "2022-02-10T23:28:17.222500Z"
    },
    "colab": {
     "base_uri": "https://localhost:8080/",
     "height": 652
    },
    "id": "hS7SFkI4IImk",
    "outputId": "8967c1c2-0543-4d33-b50c-7ed4d5a737ca"
   },
   "outputs": [
    {
     "data": {
      "text/html": [
       "\n",
       "  <div id=\"df-34c60f19-1b5e-45a6-84f2-b91d1685992e\">\n",
       "    <div class=\"colab-df-container\">\n",
       "      <div>\n",
       "<style scoped>\n",
       "    .dataframe tbody tr th:only-of-type {\n",
       "        vertical-align: middle;\n",
       "    }\n",
       "\n",
       "    .dataframe tbody tr th {\n",
       "        vertical-align: top;\n",
       "    }\n",
       "\n",
       "    .dataframe thead th {\n",
       "        text-align: right;\n",
       "    }\n",
       "</style>\n",
       "<table border=\"1\" class=\"dataframe\">\n",
       "  <thead>\n",
       "    <tr style=\"text-align: right;\">\n",
       "      <th></th>\n",
       "      <th>OBJECTID</th>\n",
       "      <th>Y</th>\n",
       "      <th>X</th>\n",
       "      <th>Folio</th>\n",
       "      <th>Entry Number</th>\n",
       "      <th>Entry Number.1</th>\n",
       "      <th>Owner in Source</th>\n",
       "      <th>Standardized Alternative</th>\n",
       "      <th>Source</th>\n",
       "      <th>Age of Confraternity (if estimate, *)</th>\n",
       "      <th>Type</th>\n",
       "      <th>Property Type</th>\n",
       "      <th>Rent - Lire</th>\n",
       "      <th>Rent - Scudi</th>\n",
       "      <th>Value</th>\n",
       "      <th>Male Tenants</th>\n",
       "      <th>Female Tenants</th>\n",
       "      <th>Total Residents</th>\n",
       "      <th>Contract Description</th>\n",
       "      <th>Contract</th>\n",
       "      <th>Owner Type</th>\n",
       "      <th>Other Owner Name</th>\n",
       "      <th>Tenant</th>\n",
       "      <th>Tenant Gender</th>\n",
       "      <th>Tenant Occupation</th>\n",
       "      <th>Resident 1 Name</th>\n",
       "      <th>Resident 1 Gender</th>\n",
       "      <th>Resident 1 Occupation</th>\n",
       "      <th>Resident 2 Name</th>\n",
       "      <th>Resident 2 Gender</th>\n",
       "      <th>Resident 2 Occupation</th>\n",
       "      <th>Resident 3 Name</th>\n",
       "      <th>Resident 3 Gender</th>\n",
       "      <th>Resident 3 Occupation</th>\n",
       "      <th>Building Description</th>\n",
       "      <th>Quartiere</th>\n",
       "      <th>Popolo</th>\n",
       "      <th>Street</th>\n",
       "      <th>Location Information</th>\n",
       "      <th>OBJECTID.1</th>\n",
       "      <th>Y.1</th>\n",
       "      <th>X.1</th>\n",
       "      <th>Folio.1</th>\n",
       "      <th>Entry Number.2</th>\n",
       "    </tr>\n",
       "  </thead>\n",
       "  <tbody>\n",
       "    <tr>\n",
       "      <th>0</th>\n",
       "      <td>2073</td>\n",
       "      <td>43.770558</td>\n",
       "      <td>11.270464</td>\n",
       "      <td>179v</td>\n",
       "      <td>2784</td>\n",
       "      <td>2784</td>\n",
       "      <td>Cappella, o vero, compagnia degl'Azzurri di S....</td>\n",
       "      <td>S. Maria della Neve</td>\n",
       "      <td>Henderson P&amp;C #114</td>\n",
       "      <td>1445*</td>\n",
       "      <td>Flagellant</td>\n",
       "      <td>Residential</td>\n",
       "      <td>NaN</td>\n",
       "      <td>4.0</td>\n",
       "      <td>4</td>\n",
       "      <td>3</td>\n",
       "      <td>3</td>\n",
       "      <td>6</td>\n",
       "      <td>a pigione</td>\n",
       "      <td>Rent</td>\n",
       "      <td>Institutional</td>\n",
       "      <td>NaN</td>\n",
       "      <td>Domenico di Francesco di Casantino</td>\n",
       "      <td>Male</td>\n",
       "      <td>NaN</td>\n",
       "      <td>Domenico di Francesco di Casantino</td>\n",
       "      <td>Male</td>\n",
       "      <td>NaN</td>\n",
       "      <td>Piero di Bartolomeo da Settignato</td>\n",
       "      <td>Male</td>\n",
       "      <td>NaN</td>\n",
       "      <td>NaN</td>\n",
       "      <td>NaN</td>\n",
       "      <td>NaN</td>\n",
       "      <td>casa</td>\n",
       "      <td>s. Giovanni</td>\n",
       "      <td>S. Piero</td>\n",
       "      <td>Borgo della Porta alla Croce</td>\n",
       "      <td>contigua alla suddetta et a una delle Monache ...</td>\n",
       "      <td>2073</td>\n",
       "      <td>43.770558</td>\n",
       "      <td>11.270464</td>\n",
       "      <td>179v</td>\n",
       "      <td>2784</td>\n",
       "    </tr>\n",
       "    <tr>\n",
       "      <th>1</th>\n",
       "      <td>3219</td>\n",
       "      <td>43.770336</td>\n",
       "      <td>11.264497</td>\n",
       "      <td>195r</td>\n",
       "      <td>3033</td>\n",
       "      <td>3033</td>\n",
       "      <td>Compagnia che sotto S. Piero Maggiore</td>\n",
       "      <td>S Pier Maggiore</td>\n",
       "      <td>Henderson P&amp;C #137</td>\n",
       "      <td>NaN</td>\n",
       "      <td>NaN</td>\n",
       "      <td>Residential</td>\n",
       "      <td>NaN</td>\n",
       "      <td>7.0</td>\n",
       "      <td>8</td>\n",
       "      <td>1</td>\n",
       "      <td>2</td>\n",
       "      <td>3</td>\n",
       "      <td>a pigione</td>\n",
       "      <td>Rent</td>\n",
       "      <td>Institutional</td>\n",
       "      <td>NaN</td>\n",
       "      <td>Marchonne di Giovannni Dazzi</td>\n",
       "      <td>Male</td>\n",
       "      <td>NaN</td>\n",
       "      <td>Marchonne di Giovannni Dazzi</td>\n",
       "      <td>Male</td>\n",
       "      <td>NaN</td>\n",
       "      <td>NaN</td>\n",
       "      <td>NaN</td>\n",
       "      <td>NaN</td>\n",
       "      <td>NaN</td>\n",
       "      <td>NaN</td>\n",
       "      <td>NaN</td>\n",
       "      <td>casa</td>\n",
       "      <td>s. Giovanni</td>\n",
       "      <td>S. Ambrogio</td>\n",
       "      <td>Via dell'Agnolo</td>\n",
       "      <td>contigua alla suddetta et a una di Francesco d...</td>\n",
       "      <td>3219</td>\n",
       "      <td>43.770336</td>\n",
       "      <td>11.264497</td>\n",
       "      <td>195r</td>\n",
       "      <td>3033</td>\n",
       "    </tr>\n",
       "    <tr>\n",
       "      <th>2</th>\n",
       "      <td>2203</td>\n",
       "      <td>43.771118</td>\n",
       "      <td>11.269190</td>\n",
       "      <td>157</td>\n",
       "      <td>2421</td>\n",
       "      <td>2421</td>\n",
       "      <td>Compagnia che sotto S. Piero Maggiore</td>\n",
       "      <td>S Pier Maggiore</td>\n",
       "      <td>Henderson P&amp;C #137</td>\n",
       "      <td>NaN</td>\n",
       "      <td>NaN</td>\n",
       "      <td>Residential</td>\n",
       "      <td>NaN</td>\n",
       "      <td>7.0</td>\n",
       "      <td>7</td>\n",
       "      <td>0</td>\n",
       "      <td>6</td>\n",
       "      <td>6</td>\n",
       "      <td>a pigione</td>\n",
       "      <td>Rent</td>\n",
       "      <td>Institutional</td>\n",
       "      <td>NaN</td>\n",
       "      <td>La Dianora, vedova, donna fu di Piero Bastachi</td>\n",
       "      <td>Male</td>\n",
       "      <td>NaN</td>\n",
       "      <td>La Dianora, vedova, donna fu di Piero Bastachi</td>\n",
       "      <td>Female</td>\n",
       "      <td>NaN</td>\n",
       "      <td>NaN</td>\n",
       "      <td>NaN</td>\n",
       "      <td>NaN</td>\n",
       "      <td>NaN</td>\n",
       "      <td>NaN</td>\n",
       "      <td>NaN</td>\n",
       "      <td>casa in cappella</td>\n",
       "      <td>s. Giovanni</td>\n",
       "      <td>S. Piero Maggiore</td>\n",
       "      <td>Borgo della Porta alla Croce</td>\n",
       "      <td>contigua alla portaccia di Borgo alla croce et...</td>\n",
       "      <td>2203</td>\n",
       "      <td>43.771118</td>\n",
       "      <td>11.269190</td>\n",
       "      <td>157</td>\n",
       "      <td>2421</td>\n",
       "    </tr>\n",
       "    <tr>\n",
       "      <th>3</th>\n",
       "      <td>147</td>\n",
       "      <td>43.775931</td>\n",
       "      <td>11.252323</td>\n",
       "      <td>44r</td>\n",
       "      <td>681</td>\n",
       "      <td>681</td>\n",
       "      <td>Compagnia de' Cieci</td>\n",
       "      <td>S Maria del Giglio detto de'ciechi [S Ma. de P...</td>\n",
       "      <td>Henderson P&amp;C 104</td>\n",
       "      <td>1324</td>\n",
       "      <td>Charitable</td>\n",
       "      <td>Residential</td>\n",
       "      <td>NaN</td>\n",
       "      <td>5.0</td>\n",
       "      <td>5</td>\n",
       "      <td>2</td>\n",
       "      <td>3</td>\n",
       "      <td>5</td>\n",
       "      <td>a pigione</td>\n",
       "      <td>Rent</td>\n",
       "      <td>Institutional</td>\n",
       "      <td>NaN</td>\n",
       "      <td>Benedetto di Monsacco</td>\n",
       "      <td>Male</td>\n",
       "      <td>NaN</td>\n",
       "      <td>Benedetto di Monsacco</td>\n",
       "      <td>Male</td>\n",
       "      <td>NaN</td>\n",
       "      <td>NaN</td>\n",
       "      <td>NaN</td>\n",
       "      <td>NaN</td>\n",
       "      <td>NaN</td>\n",
       "      <td>NaN</td>\n",
       "      <td>NaN</td>\n",
       "      <td>Casa</td>\n",
       "      <td>s. Giovanni</td>\n",
       "      <td>S. Lorenzo</td>\n",
       "      <td>Via S. Jacopo in Campo Corbolino - Cella di Ci...</td>\n",
       "      <td>contigua a la soprascritta suoltando al lato d...</td>\n",
       "      <td>147</td>\n",
       "      <td>43.775931</td>\n",
       "      <td>11.252323</td>\n",
       "      <td>44r</td>\n",
       "      <td>681</td>\n",
       "    </tr>\n",
       "    <tr>\n",
       "      <th>4</th>\n",
       "      <td>7343</td>\n",
       "      <td>43.765810</td>\n",
       "      <td>11.247119</td>\n",
       "      <td>62v</td>\n",
       "      <td>1035</td>\n",
       "      <td>1035</td>\n",
       "      <td>Compagnia degl'Innocenti</td>\n",
       "      <td>SS Innocenti</td>\n",
       "      <td>Henderson P&amp;C #78</td>\n",
       "      <td>NaN</td>\n",
       "      <td>Flagellant</td>\n",
       "      <td>Residential</td>\n",
       "      <td>NaN</td>\n",
       "      <td>6.0</td>\n",
       "      <td>8</td>\n",
       "      <td>2</td>\n",
       "      <td>2</td>\n",
       "      <td>4</td>\n",
       "      <td>a sua vita</td>\n",
       "      <td>Life Lease</td>\n",
       "      <td>Institutional</td>\n",
       "      <td>NaN</td>\n",
       "      <td>Giovannozzo di Raffaello Parenti</td>\n",
       "      <td>Male</td>\n",
       "      <td>NaN</td>\n",
       "      <td>Giovannozzo di Raffaello Parenti</td>\n",
       "      <td>Male</td>\n",
       "      <td>NaN</td>\n",
       "      <td>NaN</td>\n",
       "      <td>NaN</td>\n",
       "      <td>NaN</td>\n",
       "      <td>NaN</td>\n",
       "      <td>NaN</td>\n",
       "      <td>NaN</td>\n",
       "      <td>una casa</td>\n",
       "      <td>s. Spirito</td>\n",
       "      <td>S. Felice in piazza</td>\n",
       "      <td>Via Mazzetta</td>\n",
       "      <td>in via mazzetta a 1o Rede di Piero Dei a 2o An...</td>\n",
       "      <td>7343</td>\n",
       "      <td>43.765810</td>\n",
       "      <td>11.247119</td>\n",
       "      <td>62v</td>\n",
       "      <td>1035</td>\n",
       "    </tr>\n",
       "  </tbody>\n",
       "</table>\n",
       "</div>\n",
       "      <button class=\"colab-df-convert\" onclick=\"convertToInteractive('df-34c60f19-1b5e-45a6-84f2-b91d1685992e')\"\n",
       "              title=\"Convert this dataframe to an interactive table.\"\n",
       "              style=\"display:none;\">\n",
       "        \n",
       "  <svg xmlns=\"http://www.w3.org/2000/svg\" height=\"24px\"viewBox=\"0 0 24 24\"\n",
       "       width=\"24px\">\n",
       "    <path d=\"M0 0h24v24H0V0z\" fill=\"none\"/>\n",
       "    <path d=\"M18.56 5.44l.94 2.06.94-2.06 2.06-.94-2.06-.94-.94-2.06-.94 2.06-2.06.94zm-11 1L8.5 8.5l.94-2.06 2.06-.94-2.06-.94L8.5 2.5l-.94 2.06-2.06.94zm10 10l.94 2.06.94-2.06 2.06-.94-2.06-.94-.94-2.06-.94 2.06-2.06.94z\"/><path d=\"M17.41 7.96l-1.37-1.37c-.4-.4-.92-.59-1.43-.59-.52 0-1.04.2-1.43.59L10.3 9.45l-7.72 7.72c-.78.78-.78 2.05 0 2.83L4 21.41c.39.39.9.59 1.41.59.51 0 1.02-.2 1.41-.59l7.78-7.78 2.81-2.81c.8-.78.8-2.07 0-2.86zM5.41 20L4 18.59l7.72-7.72 1.47 1.35L5.41 20z\"/>\n",
       "  </svg>\n",
       "      </button>\n",
       "      \n",
       "  <style>\n",
       "    .colab-df-container {\n",
       "      display:flex;\n",
       "      flex-wrap:wrap;\n",
       "      gap: 12px;\n",
       "    }\n",
       "\n",
       "    .colab-df-convert {\n",
       "      background-color: #E8F0FE;\n",
       "      border: none;\n",
       "      border-radius: 50%;\n",
       "      cursor: pointer;\n",
       "      display: none;\n",
       "      fill: #1967D2;\n",
       "      height: 32px;\n",
       "      padding: 0 0 0 0;\n",
       "      width: 32px;\n",
       "    }\n",
       "\n",
       "    .colab-df-convert:hover {\n",
       "      background-color: #E2EBFA;\n",
       "      box-shadow: 0px 1px 2px rgba(60, 64, 67, 0.3), 0px 1px 3px 1px rgba(60, 64, 67, 0.15);\n",
       "      fill: #174EA6;\n",
       "    }\n",
       "\n",
       "    [theme=dark] .colab-df-convert {\n",
       "      background-color: #3B4455;\n",
       "      fill: #D2E3FC;\n",
       "    }\n",
       "\n",
       "    [theme=dark] .colab-df-convert:hover {\n",
       "      background-color: #434B5C;\n",
       "      box-shadow: 0px 1px 3px 1px rgba(0, 0, 0, 0.15);\n",
       "      filter: drop-shadow(0px 1px 2px rgba(0, 0, 0, 0.3));\n",
       "      fill: #FFFFFF;\n",
       "    }\n",
       "  </style>\n",
       "\n",
       "      <script>\n",
       "        const buttonEl =\n",
       "          document.querySelector('#df-34c60f19-1b5e-45a6-84f2-b91d1685992e button.colab-df-convert');\n",
       "        buttonEl.style.display =\n",
       "          google.colab.kernel.accessAllowed ? 'block' : 'none';\n",
       "\n",
       "        async function convertToInteractive(key) {\n",
       "          const element = document.querySelector('#df-34c60f19-1b5e-45a6-84f2-b91d1685992e');\n",
       "          const dataTable =\n",
       "            await google.colab.kernel.invokeFunction('convertToInteractive',\n",
       "                                                     [key], {});\n",
       "          if (!dataTable) return;\n",
       "\n",
       "          const docLinkHtml = 'Like what you see? Visit the ' +\n",
       "            '<a target=\"_blank\" href=https://colab.research.google.com/notebooks/data_table.ipynb>data table notebook</a>'\n",
       "            + ' to learn more about interactive tables.';\n",
       "          element.innerHTML = '';\n",
       "          dataTable['output_type'] = 'display_data';\n",
       "          await google.colab.output.renderOutput(dataTable, element);\n",
       "          const docLink = document.createElement('div');\n",
       "          docLink.innerHTML = docLinkHtml;\n",
       "          element.appendChild(docLink);\n",
       "        }\n",
       "      </script>\n",
       "    </div>\n",
       "  </div>\n",
       "  "
      ],
      "text/plain": [
       "   OBJECTID          Y          X  ...        X.1  Folio.1  Entry Number.2\n",
       "0      2073  43.770558  11.270464  ...  11.270464     179v            2784\n",
       "1      3219  43.770336  11.264497  ...  11.264497     195r            3033\n",
       "2      2203  43.771118  11.269190  ...  11.269190      157            2421\n",
       "3       147  43.775931  11.252323  ...  11.252323      44r             681\n",
       "4      7343  43.765810  11.247119  ...  11.247119      62v            1035\n",
       "\n",
       "[5 rows x 44 columns]"
      ]
     },
     "execution_count": 116,
     "metadata": {},
     "output_type": "execute_result"
    }
   ],
   "source": [
    "decima.head()"
   ]
  },
  {
   "cell_type": "markdown",
   "metadata": {
    "id": "d3Wu5zQqIImk"
   },
   "source": [
    "### F.1 Slicing DataFrames\n",
    "\n",
    "#### Another way to slice data:  selected rows"
   ]
  },
  {
   "cell_type": "code",
   "execution_count": 131,
   "metadata": {
    "ExecuteTime": {
     "end_time": "2022-02-10T23:28:17.277382Z",
     "start_time": "2022-02-10T23:28:17.248073Z"
    },
    "colab": {
     "base_uri": "https://localhost:8080/",
     "height": 1000
    },
    "id": "iuBMs-VaIImk",
    "outputId": "5521d3a9-cf47-4ad3-9f1b-94851145061a"
   },
   "outputs": [
    {
     "data": {
      "text/html": [
       "\n",
       "  <div id=\"df-b43a31ae-810f-4c8b-ac50-4ec89c278956\">\n",
       "    <div class=\"colab-df-container\">\n",
       "      <div>\n",
       "<style scoped>\n",
       "    .dataframe tbody tr th:only-of-type {\n",
       "        vertical-align: middle;\n",
       "    }\n",
       "\n",
       "    .dataframe tbody tr th {\n",
       "        vertical-align: top;\n",
       "    }\n",
       "\n",
       "    .dataframe thead th {\n",
       "        text-align: right;\n",
       "    }\n",
       "</style>\n",
       "<table border=\"1\" class=\"dataframe\">\n",
       "  <thead>\n",
       "    <tr style=\"text-align: right;\">\n",
       "      <th></th>\n",
       "      <th>OBJECTID</th>\n",
       "      <th>Y</th>\n",
       "      <th>X</th>\n",
       "      <th>Folio</th>\n",
       "      <th>Entry Number</th>\n",
       "      <th>Entry Number.1</th>\n",
       "      <th>Owner in Source</th>\n",
       "      <th>Standardized Alternative</th>\n",
       "      <th>Source</th>\n",
       "      <th>Age of Confraternity (if estimate, *)</th>\n",
       "      <th>Type</th>\n",
       "      <th>Property Type</th>\n",
       "      <th>Rent - Lire</th>\n",
       "      <th>Rent - Scudi</th>\n",
       "      <th>Value</th>\n",
       "      <th>Male Tenants</th>\n",
       "      <th>Female Tenants</th>\n",
       "      <th>Total Residents</th>\n",
       "      <th>Contract Description</th>\n",
       "      <th>Contract</th>\n",
       "      <th>Owner Type</th>\n",
       "      <th>Other Owner Name</th>\n",
       "      <th>Tenant</th>\n",
       "      <th>Tenant Gender</th>\n",
       "      <th>Tenant Occupation</th>\n",
       "      <th>Resident 1 Name</th>\n",
       "      <th>Resident 1 Gender</th>\n",
       "      <th>Resident 1 Occupation</th>\n",
       "      <th>Resident 2 Name</th>\n",
       "      <th>Resident 2 Gender</th>\n",
       "      <th>Resident 2 Occupation</th>\n",
       "      <th>Resident 3 Name</th>\n",
       "      <th>Resident 3 Gender</th>\n",
       "      <th>Resident 3 Occupation</th>\n",
       "      <th>Building Description</th>\n",
       "      <th>Quartiere</th>\n",
       "      <th>Popolo</th>\n",
       "      <th>Street</th>\n",
       "      <th>Location Information</th>\n",
       "      <th>OBJECTID.1</th>\n",
       "      <th>Y.1</th>\n",
       "      <th>X.1</th>\n",
       "      <th>Folio.1</th>\n",
       "      <th>Entry Number.2</th>\n",
       "      <th>popup_column</th>\n",
       "    </tr>\n",
       "  </thead>\n",
       "  <tbody>\n",
       "    <tr>\n",
       "      <th>0</th>\n",
       "      <td>2073</td>\n",
       "      <td>43.770558</td>\n",
       "      <td>11.270464</td>\n",
       "      <td>179v</td>\n",
       "      <td>2784</td>\n",
       "      <td>2784</td>\n",
       "      <td>Cappella, o vero, compagnia degl'Azzurri di S....</td>\n",
       "      <td>S. Maria della Neve</td>\n",
       "      <td>Henderson P&amp;C #114</td>\n",
       "      <td>1445*</td>\n",
       "      <td>Flagellant</td>\n",
       "      <td>Residential</td>\n",
       "      <td>NaN</td>\n",
       "      <td>4.0</td>\n",
       "      <td>4</td>\n",
       "      <td>3</td>\n",
       "      <td>3</td>\n",
       "      <td>6</td>\n",
       "      <td>a pigione</td>\n",
       "      <td>Rent</td>\n",
       "      <td>Institutional</td>\n",
       "      <td>NaN</td>\n",
       "      <td>Domenico di Francesco di Casantino</td>\n",
       "      <td>Male</td>\n",
       "      <td>NaN</td>\n",
       "      <td>Domenico di Francesco di Casantino</td>\n",
       "      <td>Male</td>\n",
       "      <td>NaN</td>\n",
       "      <td>Piero di Bartolomeo da Settignato</td>\n",
       "      <td>Male</td>\n",
       "      <td>NaN</td>\n",
       "      <td>NaN</td>\n",
       "      <td>NaN</td>\n",
       "      <td>NaN</td>\n",
       "      <td>casa</td>\n",
       "      <td>s. Giovanni</td>\n",
       "      <td>S. Piero</td>\n",
       "      <td>Borgo della Porta alla Croce</td>\n",
       "      <td>contigua alla suddetta et a una delle Monache ...</td>\n",
       "      <td>2073</td>\n",
       "      <td>43.770558</td>\n",
       "      <td>11.270464</td>\n",
       "      <td>179v</td>\n",
       "      <td>2784</td>\n",
       "      <td>\\n        &lt;ul&gt;\\n            &lt;li&gt;&lt;strong&gt;ID: &lt;/...</td>\n",
       "    </tr>\n",
       "    <tr>\n",
       "      <th>1</th>\n",
       "      <td>3219</td>\n",
       "      <td>43.770336</td>\n",
       "      <td>11.264497</td>\n",
       "      <td>195r</td>\n",
       "      <td>3033</td>\n",
       "      <td>3033</td>\n",
       "      <td>Compagnia che sotto S. Piero Maggiore</td>\n",
       "      <td>S Pier Maggiore</td>\n",
       "      <td>Henderson P&amp;C #137</td>\n",
       "      <td>NaN</td>\n",
       "      <td>NaN</td>\n",
       "      <td>Residential</td>\n",
       "      <td>NaN</td>\n",
       "      <td>7.0</td>\n",
       "      <td>8</td>\n",
       "      <td>1</td>\n",
       "      <td>2</td>\n",
       "      <td>3</td>\n",
       "      <td>a pigione</td>\n",
       "      <td>Rent</td>\n",
       "      <td>Institutional</td>\n",
       "      <td>NaN</td>\n",
       "      <td>Marchonne di Giovannni Dazzi</td>\n",
       "      <td>Male</td>\n",
       "      <td>NaN</td>\n",
       "      <td>Marchonne di Giovannni Dazzi</td>\n",
       "      <td>Male</td>\n",
       "      <td>NaN</td>\n",
       "      <td>NaN</td>\n",
       "      <td>NaN</td>\n",
       "      <td>NaN</td>\n",
       "      <td>NaN</td>\n",
       "      <td>NaN</td>\n",
       "      <td>NaN</td>\n",
       "      <td>casa</td>\n",
       "      <td>s. Giovanni</td>\n",
       "      <td>S. Ambrogio</td>\n",
       "      <td>Via dell'Agnolo</td>\n",
       "      <td>contigua alla suddetta et a una di Francesco d...</td>\n",
       "      <td>3219</td>\n",
       "      <td>43.770336</td>\n",
       "      <td>11.264497</td>\n",
       "      <td>195r</td>\n",
       "      <td>3033</td>\n",
       "      <td>\\n        &lt;ul&gt;\\n            &lt;li&gt;&lt;strong&gt;ID: &lt;/...</td>\n",
       "    </tr>\n",
       "    <tr>\n",
       "      <th>2</th>\n",
       "      <td>2203</td>\n",
       "      <td>43.771118</td>\n",
       "      <td>11.269190</td>\n",
       "      <td>157</td>\n",
       "      <td>2421</td>\n",
       "      <td>2421</td>\n",
       "      <td>Compagnia che sotto S. Piero Maggiore</td>\n",
       "      <td>S Pier Maggiore</td>\n",
       "      <td>Henderson P&amp;C #137</td>\n",
       "      <td>NaN</td>\n",
       "      <td>NaN</td>\n",
       "      <td>Residential</td>\n",
       "      <td>NaN</td>\n",
       "      <td>7.0</td>\n",
       "      <td>7</td>\n",
       "      <td>0</td>\n",
       "      <td>6</td>\n",
       "      <td>6</td>\n",
       "      <td>a pigione</td>\n",
       "      <td>Rent</td>\n",
       "      <td>Institutional</td>\n",
       "      <td>NaN</td>\n",
       "      <td>La Dianora, vedova, donna fu di Piero Bastachi</td>\n",
       "      <td>Male</td>\n",
       "      <td>NaN</td>\n",
       "      <td>La Dianora, vedova, donna fu di Piero Bastachi</td>\n",
       "      <td>Female</td>\n",
       "      <td>NaN</td>\n",
       "      <td>NaN</td>\n",
       "      <td>NaN</td>\n",
       "      <td>NaN</td>\n",
       "      <td>NaN</td>\n",
       "      <td>NaN</td>\n",
       "      <td>NaN</td>\n",
       "      <td>casa in cappella</td>\n",
       "      <td>s. Giovanni</td>\n",
       "      <td>S. Piero Maggiore</td>\n",
       "      <td>Borgo della Porta alla Croce</td>\n",
       "      <td>contigua alla portaccia di Borgo alla croce et...</td>\n",
       "      <td>2203</td>\n",
       "      <td>43.771118</td>\n",
       "      <td>11.269190</td>\n",
       "      <td>157</td>\n",
       "      <td>2421</td>\n",
       "      <td>\\n        &lt;ul&gt;\\n            &lt;li&gt;&lt;strong&gt;ID: &lt;/...</td>\n",
       "    </tr>\n",
       "    <tr>\n",
       "      <th>3</th>\n",
       "      <td>147</td>\n",
       "      <td>43.775931</td>\n",
       "      <td>11.252323</td>\n",
       "      <td>44r</td>\n",
       "      <td>681</td>\n",
       "      <td>681</td>\n",
       "      <td>Compagnia de' Cieci</td>\n",
       "      <td>S Maria del Giglio detto de'ciechi [S Ma. de P...</td>\n",
       "      <td>Henderson P&amp;C 104</td>\n",
       "      <td>1324</td>\n",
       "      <td>Charitable</td>\n",
       "      <td>Residential</td>\n",
       "      <td>NaN</td>\n",
       "      <td>5.0</td>\n",
       "      <td>5</td>\n",
       "      <td>2</td>\n",
       "      <td>3</td>\n",
       "      <td>5</td>\n",
       "      <td>a pigione</td>\n",
       "      <td>Rent</td>\n",
       "      <td>Institutional</td>\n",
       "      <td>NaN</td>\n",
       "      <td>Benedetto di Monsacco</td>\n",
       "      <td>Male</td>\n",
       "      <td>NaN</td>\n",
       "      <td>Benedetto di Monsacco</td>\n",
       "      <td>Male</td>\n",
       "      <td>NaN</td>\n",
       "      <td>NaN</td>\n",
       "      <td>NaN</td>\n",
       "      <td>NaN</td>\n",
       "      <td>NaN</td>\n",
       "      <td>NaN</td>\n",
       "      <td>NaN</td>\n",
       "      <td>Casa</td>\n",
       "      <td>s. Giovanni</td>\n",
       "      <td>S. Lorenzo</td>\n",
       "      <td>Via S. Jacopo in Campo Corbolino - Cella di Ci...</td>\n",
       "      <td>contigua a la soprascritta suoltando al lato d...</td>\n",
       "      <td>147</td>\n",
       "      <td>43.775931</td>\n",
       "      <td>11.252323</td>\n",
       "      <td>44r</td>\n",
       "      <td>681</td>\n",
       "      <td>\\n        &lt;ul&gt;\\n            &lt;li&gt;&lt;strong&gt;ID: &lt;/...</td>\n",
       "    </tr>\n",
       "    <tr>\n",
       "      <th>4</th>\n",
       "      <td>7343</td>\n",
       "      <td>43.765810</td>\n",
       "      <td>11.247119</td>\n",
       "      <td>62v</td>\n",
       "      <td>1035</td>\n",
       "      <td>1035</td>\n",
       "      <td>Compagnia degl'Innocenti</td>\n",
       "      <td>SS Innocenti</td>\n",
       "      <td>Henderson P&amp;C #78</td>\n",
       "      <td>NaN</td>\n",
       "      <td>Flagellant</td>\n",
       "      <td>Residential</td>\n",
       "      <td>NaN</td>\n",
       "      <td>6.0</td>\n",
       "      <td>8</td>\n",
       "      <td>2</td>\n",
       "      <td>2</td>\n",
       "      <td>4</td>\n",
       "      <td>a sua vita</td>\n",
       "      <td>Life Lease</td>\n",
       "      <td>Institutional</td>\n",
       "      <td>NaN</td>\n",
       "      <td>Giovannozzo di Raffaello Parenti</td>\n",
       "      <td>Male</td>\n",
       "      <td>NaN</td>\n",
       "      <td>Giovannozzo di Raffaello Parenti</td>\n",
       "      <td>Male</td>\n",
       "      <td>NaN</td>\n",
       "      <td>NaN</td>\n",
       "      <td>NaN</td>\n",
       "      <td>NaN</td>\n",
       "      <td>NaN</td>\n",
       "      <td>NaN</td>\n",
       "      <td>NaN</td>\n",
       "      <td>una casa</td>\n",
       "      <td>s. Spirito</td>\n",
       "      <td>S. Felice in piazza</td>\n",
       "      <td>Via Mazzetta</td>\n",
       "      <td>in via mazzetta a 1o Rede di Piero Dei a 2o An...</td>\n",
       "      <td>7343</td>\n",
       "      <td>43.765810</td>\n",
       "      <td>11.247119</td>\n",
       "      <td>62v</td>\n",
       "      <td>1035</td>\n",
       "      <td>\\n        &lt;ul&gt;\\n            &lt;li&gt;&lt;strong&gt;ID: &lt;/...</td>\n",
       "    </tr>\n",
       "    <tr>\n",
       "      <th>5</th>\n",
       "      <td>8476</td>\n",
       "      <td>43.767438</td>\n",
       "      <td>11.244969</td>\n",
       "      <td>120v</td>\n",
       "      <td>1874</td>\n",
       "      <td>1874</td>\n",
       "      <td>Compagnia degl'Innocenti di s. Maria Novella</td>\n",
       "      <td>SS Innocenti</td>\n",
       "      <td>Henderson P&amp;C #92</td>\n",
       "      <td>NaN</td>\n",
       "      <td>Flagellant</td>\n",
       "      <td>Residential</td>\n",
       "      <td>NaN</td>\n",
       "      <td>7.0</td>\n",
       "      <td>10</td>\n",
       "      <td>3</td>\n",
       "      <td>3</td>\n",
       "      <td>6</td>\n",
       "      <td>tenant a vita, resident a pigione</td>\n",
       "      <td>Life Lease</td>\n",
       "      <td>Institutional</td>\n",
       "      <td>NaN</td>\n",
       "      <td>Antonio di Pasquino d' Antonio</td>\n",
       "      <td>Male</td>\n",
       "      <td>NaN</td>\n",
       "      <td>un pigionale</td>\n",
       "      <td>Male</td>\n",
       "      <td>NaN</td>\n",
       "      <td>NaN</td>\n",
       "      <td>NaN</td>\n",
       "      <td>NaN</td>\n",
       "      <td>NaN</td>\n",
       "      <td>NaN</td>\n",
       "      <td>NaN</td>\n",
       "      <td>una casa</td>\n",
       "      <td>s. Spirito</td>\n",
       "      <td>S. Friano</td>\n",
       "      <td>Via d' Ardiglione</td>\n",
       "      <td>a primo Piero di Raffaello a secondo ser Alama...</td>\n",
       "      <td>8476</td>\n",
       "      <td>43.767438</td>\n",
       "      <td>11.244969</td>\n",
       "      <td>120v</td>\n",
       "      <td>1874</td>\n",
       "      <td>\\n        &lt;ul&gt;\\n            &lt;li&gt;&lt;strong&gt;ID: &lt;/...</td>\n",
       "    </tr>\n",
       "    <tr>\n",
       "      <th>6</th>\n",
       "      <td>5514</td>\n",
       "      <td>43.772942</td>\n",
       "      <td>11.247446</td>\n",
       "      <td>37v</td>\n",
       "      <td>642</td>\n",
       "      <td>642</td>\n",
       "      <td>Compagnia degl'Innocenti di s. Maria Novella</td>\n",
       "      <td>SS Innocenti</td>\n",
       "      <td>Henderson P&amp;C #92</td>\n",
       "      <td>NaN</td>\n",
       "      <td>Flagellant</td>\n",
       "      <td>Residential</td>\n",
       "      <td>NaN</td>\n",
       "      <td>NaN</td>\n",
       "      <td>12</td>\n",
       "      <td>4</td>\n",
       "      <td>4</td>\n",
       "      <td>8</td>\n",
       "      <td>a pigione</td>\n",
       "      <td>Rent</td>\n",
       "      <td>Institutional</td>\n",
       "      <td>NaN</td>\n",
       "      <td>Lorenzo di Niccolo</td>\n",
       "      <td>Male</td>\n",
       "      <td>NaN</td>\n",
       "      <td>Lorenzo di Niccolo</td>\n",
       "      <td>Male</td>\n",
       "      <td>NaN</td>\n",
       "      <td>Benedetto di Michelle</td>\n",
       "      <td>Male</td>\n",
       "      <td>NaN</td>\n",
       "      <td>NaN</td>\n",
       "      <td>NaN</td>\n",
       "      <td>NaN</td>\n",
       "      <td>Casa</td>\n",
       "      <td>s. Maria Novella</td>\n",
       "      <td>s. Paolo</td>\n",
       "      <td>Via nuova da s. Paulo</td>\n",
       "      <td>contigua a la suddetta et a una del capitolo d...</td>\n",
       "      <td>5514</td>\n",
       "      <td>43.772942</td>\n",
       "      <td>11.247446</td>\n",
       "      <td>37v</td>\n",
       "      <td>642</td>\n",
       "      <td>\\n        &lt;ul&gt;\\n            &lt;li&gt;&lt;strong&gt;ID: &lt;/...</td>\n",
       "    </tr>\n",
       "    <tr>\n",
       "      <th>7</th>\n",
       "      <td>8102</td>\n",
       "      <td>43.768004</td>\n",
       "      <td>11.240896</td>\n",
       "      <td>116v</td>\n",
       "      <td>1814</td>\n",
       "      <td>1814</td>\n",
       "      <td>Compagnia degli Genovesi nel Carmine</td>\n",
       "      <td>S Sebastiano de'Genovesi</td>\n",
       "      <td>Henderson P&amp;C #147</td>\n",
       "      <td>1474</td>\n",
       "      <td>Artisan</td>\n",
       "      <td>Residential</td>\n",
       "      <td>31.0</td>\n",
       "      <td>NaN</td>\n",
       "      <td>5</td>\n",
       "      <td>2</td>\n",
       "      <td>2</td>\n",
       "      <td>4</td>\n",
       "      <td>a pigione</td>\n",
       "      <td>Rent</td>\n",
       "      <td>Institutional</td>\n",
       "      <td>NaN</td>\n",
       "      <td>Francesco di Salvestro</td>\n",
       "      <td>Male</td>\n",
       "      <td>NaN</td>\n",
       "      <td>Francesco di Salvestro</td>\n",
       "      <td>Male</td>\n",
       "      <td>NaN</td>\n",
       "      <td>NaN</td>\n",
       "      <td>NaN</td>\n",
       "      <td>NaN</td>\n",
       "      <td>NaN</td>\n",
       "      <td>NaN</td>\n",
       "      <td>NaN</td>\n",
       "      <td>una casa</td>\n",
       "      <td>s. Spirito</td>\n",
       "      <td>S. Friano</td>\n",
       "      <td>Via s. Salvadore</td>\n",
       "      <td>nella via di s. Salvatore a 1o Bartolomeo di B...</td>\n",
       "      <td>8102</td>\n",
       "      <td>43.768004</td>\n",
       "      <td>11.240896</td>\n",
       "      <td>116v</td>\n",
       "      <td>1814</td>\n",
       "      <td>\\n        &lt;ul&gt;\\n            &lt;li&gt;&lt;strong&gt;ID: &lt;/...</td>\n",
       "    </tr>\n",
       "    <tr>\n",
       "      <th>8</th>\n",
       "      <td>2030</td>\n",
       "      <td>43.770728</td>\n",
       "      <td>11.270409</td>\n",
       "      <td>180r</td>\n",
       "      <td>2786</td>\n",
       "      <td>2786</td>\n",
       "      <td>Compagnia dei Bianchi di S. Ambrogio</td>\n",
       "      <td>S Maria delle Laude e di S Ambrogio</td>\n",
       "      <td>Henderson P&amp;C #105 [or 121]</td>\n",
       "      <td>1466</td>\n",
       "      <td>Laudesi</td>\n",
       "      <td>Residential</td>\n",
       "      <td>NaN</td>\n",
       "      <td>3.0</td>\n",
       "      <td>3</td>\n",
       "      <td>4</td>\n",
       "      <td>4</td>\n",
       "      <td>8</td>\n",
       "      <td>a linea</td>\n",
       "      <td>Lineal Lease</td>\n",
       "      <td>Institutional</td>\n",
       "      <td>NaN</td>\n",
       "      <td>Domenico di Jacopo Santini</td>\n",
       "      <td>Male</td>\n",
       "      <td>NaN</td>\n",
       "      <td>Domenico di Jacopo Santini</td>\n",
       "      <td>Male</td>\n",
       "      <td>NaN</td>\n",
       "      <td>NaN</td>\n",
       "      <td>NaN</td>\n",
       "      <td>NaN</td>\n",
       "      <td>NaN</td>\n",
       "      <td>NaN</td>\n",
       "      <td>NaN</td>\n",
       "      <td>casa con un poco di bottega</td>\n",
       "      <td>s. Giovanni</td>\n",
       "      <td>S. Piero</td>\n",
       "      <td>Borgo della Porta alla Croce</td>\n",
       "      <td>Contigua alla suddetta et al chiasso della, os...</td>\n",
       "      <td>2030</td>\n",
       "      <td>43.770728</td>\n",
       "      <td>11.270409</td>\n",
       "      <td>180r</td>\n",
       "      <td>2786</td>\n",
       "      <td>\\n        &lt;ul&gt;\\n            &lt;li&gt;&lt;strong&gt;ID: &lt;/...</td>\n",
       "    </tr>\n",
       "    <tr>\n",
       "      <th>9</th>\n",
       "      <td>400</td>\n",
       "      <td>43.777147</td>\n",
       "      <td>11.254293</td>\n",
       "      <td>35v</td>\n",
       "      <td>534</td>\n",
       "      <td>534</td>\n",
       "      <td>Compagnia dei Concordi</td>\n",
       "      <td>S Concordia [property on S Orsola = close to c...</td>\n",
       "      <td>Henderson P&amp;C #42</td>\n",
       "      <td>&lt;1429</td>\n",
       "      <td>Unknown</td>\n",
       "      <td>Residential</td>\n",
       "      <td>NaN</td>\n",
       "      <td>8.0</td>\n",
       "      <td>8</td>\n",
       "      <td>4</td>\n",
       "      <td>3</td>\n",
       "      <td>7</td>\n",
       "      <td>a pigione</td>\n",
       "      <td>Rent</td>\n",
       "      <td>Institutional</td>\n",
       "      <td>NaN</td>\n",
       "      <td>Giovanni di Raffaello, rivenditore</td>\n",
       "      <td>Male</td>\n",
       "      <td>rivenditore</td>\n",
       "      <td>Giovanni di Raffaello, rivenditore</td>\n",
       "      <td>Male</td>\n",
       "      <td>rivenditore</td>\n",
       "      <td>Domenico di Bandira, tessitore</td>\n",
       "      <td>Male</td>\n",
       "      <td>tessitore</td>\n",
       "      <td>Mona Maddalena del Modena, ciabattino</td>\n",
       "      <td>Female</td>\n",
       "      <td>ciabattino</td>\n",
       "      <td>Casa</td>\n",
       "      <td>s. Giovanni</td>\n",
       "      <td>S. Lorenzo</td>\n",
       "      <td>Via S. Orsola</td>\n",
       "      <td>contigua a la suddetta et a gioGualberto di Ra...</td>\n",
       "      <td>400</td>\n",
       "      <td>43.777147</td>\n",
       "      <td>11.254293</td>\n",
       "      <td>35v</td>\n",
       "      <td>534</td>\n",
       "      <td>\\n        &lt;ul&gt;\\n            &lt;li&gt;&lt;strong&gt;ID: &lt;/...</td>\n",
       "    </tr>\n",
       "  </tbody>\n",
       "</table>\n",
       "</div>\n",
       "      <button class=\"colab-df-convert\" onclick=\"convertToInteractive('df-b43a31ae-810f-4c8b-ac50-4ec89c278956')\"\n",
       "              title=\"Convert this dataframe to an interactive table.\"\n",
       "              style=\"display:none;\">\n",
       "        \n",
       "  <svg xmlns=\"http://www.w3.org/2000/svg\" height=\"24px\"viewBox=\"0 0 24 24\"\n",
       "       width=\"24px\">\n",
       "    <path d=\"M0 0h24v24H0V0z\" fill=\"none\"/>\n",
       "    <path d=\"M18.56 5.44l.94 2.06.94-2.06 2.06-.94-2.06-.94-.94-2.06-.94 2.06-2.06.94zm-11 1L8.5 8.5l.94-2.06 2.06-.94-2.06-.94L8.5 2.5l-.94 2.06-2.06.94zm10 10l.94 2.06.94-2.06 2.06-.94-2.06-.94-.94-2.06-.94 2.06-2.06.94z\"/><path d=\"M17.41 7.96l-1.37-1.37c-.4-.4-.92-.59-1.43-.59-.52 0-1.04.2-1.43.59L10.3 9.45l-7.72 7.72c-.78.78-.78 2.05 0 2.83L4 21.41c.39.39.9.59 1.41.59.51 0 1.02-.2 1.41-.59l7.78-7.78 2.81-2.81c.8-.78.8-2.07 0-2.86zM5.41 20L4 18.59l7.72-7.72 1.47 1.35L5.41 20z\"/>\n",
       "  </svg>\n",
       "      </button>\n",
       "      \n",
       "  <style>\n",
       "    .colab-df-container {\n",
       "      display:flex;\n",
       "      flex-wrap:wrap;\n",
       "      gap: 12px;\n",
       "    }\n",
       "\n",
       "    .colab-df-convert {\n",
       "      background-color: #E8F0FE;\n",
       "      border: none;\n",
       "      border-radius: 50%;\n",
       "      cursor: pointer;\n",
       "      display: none;\n",
       "      fill: #1967D2;\n",
       "      height: 32px;\n",
       "      padding: 0 0 0 0;\n",
       "      width: 32px;\n",
       "    }\n",
       "\n",
       "    .colab-df-convert:hover {\n",
       "      background-color: #E2EBFA;\n",
       "      box-shadow: 0px 1px 2px rgba(60, 64, 67, 0.3), 0px 1px 3px 1px rgba(60, 64, 67, 0.15);\n",
       "      fill: #174EA6;\n",
       "    }\n",
       "\n",
       "    [theme=dark] .colab-df-convert {\n",
       "      background-color: #3B4455;\n",
       "      fill: #D2E3FC;\n",
       "    }\n",
       "\n",
       "    [theme=dark] .colab-df-convert:hover {\n",
       "      background-color: #434B5C;\n",
       "      box-shadow: 0px 1px 3px 1px rgba(0, 0, 0, 0.15);\n",
       "      filter: drop-shadow(0px 1px 2px rgba(0, 0, 0, 0.3));\n",
       "      fill: #FFFFFF;\n",
       "    }\n",
       "  </style>\n",
       "\n",
       "      <script>\n",
       "        const buttonEl =\n",
       "          document.querySelector('#df-b43a31ae-810f-4c8b-ac50-4ec89c278956 button.colab-df-convert');\n",
       "        buttonEl.style.display =\n",
       "          google.colab.kernel.accessAllowed ? 'block' : 'none';\n",
       "\n",
       "        async function convertToInteractive(key) {\n",
       "          const element = document.querySelector('#df-b43a31ae-810f-4c8b-ac50-4ec89c278956');\n",
       "          const dataTable =\n",
       "            await google.colab.kernel.invokeFunction('convertToInteractive',\n",
       "                                                     [key], {});\n",
       "          if (!dataTable) return;\n",
       "\n",
       "          const docLinkHtml = 'Like what you see? Visit the ' +\n",
       "            '<a target=\"_blank\" href=https://colab.research.google.com/notebooks/data_table.ipynb>data table notebook</a>'\n",
       "            + ' to learn more about interactive tables.';\n",
       "          element.innerHTML = '';\n",
       "          dataTable['output_type'] = 'display_data';\n",
       "          await google.colab.output.renderOutput(dataTable, element);\n",
       "          const docLink = document.createElement('div');\n",
       "          docLink.innerHTML = docLinkHtml;\n",
       "          element.appendChild(docLink);\n",
       "        }\n",
       "      </script>\n",
       "    </div>\n",
       "  </div>\n",
       "  "
      ],
      "text/plain": [
       "   OBJECTID  ...                                       popup_column\n",
       "0      2073  ...  \\n        <ul>\\n            <li><strong>ID: </...\n",
       "1      3219  ...  \\n        <ul>\\n            <li><strong>ID: </...\n",
       "2      2203  ...  \\n        <ul>\\n            <li><strong>ID: </...\n",
       "3       147  ...  \\n        <ul>\\n            <li><strong>ID: </...\n",
       "4      7343  ...  \\n        <ul>\\n            <li><strong>ID: </...\n",
       "5      8476  ...  \\n        <ul>\\n            <li><strong>ID: </...\n",
       "6      5514  ...  \\n        <ul>\\n            <li><strong>ID: </...\n",
       "7      8102  ...  \\n        <ul>\\n            <li><strong>ID: </...\n",
       "8      2030  ...  \\n        <ul>\\n            <li><strong>ID: </...\n",
       "9       400  ...  \\n        <ul>\\n            <li><strong>ID: </...\n",
       "\n",
       "[10 rows x 45 columns]"
      ]
     },
     "execution_count": 131,
     "metadata": {},
     "output_type": "execute_result"
    }
   ],
   "source": [
    "decima.iloc[:10]"
   ]
  },
  {
   "cell_type": "code",
   "execution_count": 118,
   "metadata": {
    "ExecuteTime": {
     "end_time": "2022-02-10T23:28:17.299271Z",
     "start_time": "2022-02-10T23:28:17.294860Z"
    },
    "colab": {
     "base_uri": "https://localhost:8080/"
    },
    "id": "2B8VyEQ2IImk",
    "outputId": "aff4aa05-5066-49e7-ef18-b94f5e594dd6"
   },
   "outputs": [
    {
     "data": {
      "text/plain": [
       "(133, 44)"
      ]
     },
     "execution_count": 118,
     "metadata": {},
     "output_type": "execute_result"
    }
   ],
   "source": [
    "decima.shape"
   ]
  },
  {
   "cell_type": "markdown",
   "metadata": {
    "id": "erG016CAIImk"
   },
   "source": [
    "#### Check the column names"
   ]
  },
  {
   "cell_type": "code",
   "execution_count": 119,
   "metadata": {
    "ExecuteTime": {
     "end_time": "2022-02-10T23:28:17.290796Z",
     "start_time": "2022-02-10T23:28:17.285529Z"
    },
    "colab": {
     "base_uri": "https://localhost:8080/"
    },
    "id": "R8NvsK5NIIml",
    "outputId": "3566a28b-0dc6-4d8e-e3ec-4f08c148c0e8"
   },
   "outputs": [
    {
     "data": {
      "text/plain": [
       "Index(['OBJECTID', 'Y', 'X', 'Folio', 'Entry Number', 'Entry Number.1',\n",
       "       'Owner in Source', 'Standardized Alternative', 'Source',\n",
       "       'Age of Confraternity (if estimate, *)', 'Type', 'Property Type',\n",
       "       'Rent - Lire', 'Rent - Scudi', 'Value', 'Male Tenants',\n",
       "       'Female Tenants', 'Total Residents', 'Contract Description', 'Contract',\n",
       "       'Owner Type', 'Other Owner Name', 'Tenant', 'Tenant Gender',\n",
       "       'Tenant Occupation', 'Resident 1 Name', 'Resident 1 Gender',\n",
       "       'Resident 1 Occupation', 'Resident 2 Name', 'Resident 2 Gender',\n",
       "       'Resident 2 Occupation', 'Resident 3 Name', 'Resident 3 Gender',\n",
       "       'Resident 3 Occupation', 'Building Description', 'Quartiere', 'Popolo',\n",
       "       'Street', 'Location Information', 'OBJECTID.1', 'Y.1', 'X.1', 'Folio.1',\n",
       "       'Entry Number.2'],\n",
       "      dtype='object')"
      ]
     },
     "execution_count": 119,
     "metadata": {},
     "output_type": "execute_result"
    }
   ],
   "source": [
    "decima.columns"
   ]
  },
  {
   "cell_type": "markdown",
   "metadata": {
    "id": "NpOdPT8GIIml"
   },
   "source": [
    "### F.2 Groupby Functions\n",
    "\n",
    "* With **groupby** Pandas will let us find all the **neighborhoods** in members of particular **trades** lived"
   ]
  },
  {
   "cell_type": "code",
   "execution_count": 120,
   "metadata": {
    "ExecuteTime": {
     "end_time": "2022-02-10T23:28:17.316618Z",
     "start_time": "2022-02-10T23:28:17.301144Z"
    },
    "colab": {
     "base_uri": "https://localhost:8080/"
    },
    "id": "JqtHXVdxIIml",
    "outputId": "4daaa976-7ed4-4325-c792-7f6ca8d8d584"
   },
   "outputs": [
    {
     "data": {
      "text/plain": [
       "Tenant Occupation\n",
       "barbiere                                                      [s. Spirito]\n",
       "battilano                              [s. Giovanni, s. Croce, s. Spirito]\n",
       "beccaio                                            [s. Croce, s. Giovanni]\n",
       "calzolaio                                                    [s. Giovanni]\n",
       "cappellaio                                                   [s. Giovanni]\n",
       "cartolaio                                                       [s. Croce]\n",
       "ciabattino                                         [s. Giovanni, s. Croce]\n",
       "coltellinaio                                                    [s. Croce]\n",
       "contadino                                                       [s. Croce]\n",
       "curandaio                                                    [s. Giovanni]\n",
       "divettino                                                    [s. Giovanni]\n",
       "donzello                                                     [s. Giovanni]\n",
       "esattore                                                     [s. Giovanni]\n",
       "fattorino                                               [s. Maria Novella]\n",
       "fornaio                                     [s. Spirito, s. Maria Novella]\n",
       "funaiuolo                                                     [s. Spirito]\n",
       "guardia                                                      [s. Giovanni]\n",
       "legnaiuolo                                         [s. Croce, s. Giovanni]\n",
       "manouale                                                      [s. Spirito]\n",
       "merciaio                                                      [s. Spirito]\n",
       "minugiaio                                                     [s. Spirito]\n",
       "muratore                                            [s. Croce, s. Spirito]\n",
       "occhialaio                                                      [s. Croce]\n",
       "oste                                             [s. Giovanni, s. Spirito]\n",
       "pettinagnolo                                                  [s. Spirito]\n",
       "pinzocara                                               [s. Maria Novella]\n",
       "pizzicagnolo                                                 [s. Giovanni]\n",
       "pollaiuolo                                              [s. Maria Novella]\n",
       "portatore                                                       [s. Croce]\n",
       "prete e cappellano                                              [s. Croce]\n",
       "rigattiere                                                   [s. Giovanni]\n",
       "rivenditore                                      [s. Giovanni, s. Spirito]\n",
       "sarto                                                        [s. Giovanni]\n",
       "sellaio                                                      [s. Giovanni]\n",
       "servo                                                           [s. Croce]\n",
       "spedaliero                                                      [s. Croce]\n",
       "tessitore                [s. Giovanni, s. Maria Novella, s. Spirito, s....\n",
       "tessitore di broccati                                         [s. Spirito]\n",
       "tessitore di drappi                                 [s. Croce, s. Spirito]\n",
       "tintore                                                       [s. Spirito]\n",
       "torcitore                                                     [s. Spirito]\n",
       "votapozzi                                                       [s. Croce]\n",
       "Name: Quartiere, dtype: object"
      ]
     },
     "execution_count": 120,
     "metadata": {},
     "output_type": "execute_result"
    }
   ],
   "source": [
    "decima.groupby(\"Tenant Occupation\").Quartiere.unique()"
   ]
  },
  {
   "cell_type": "markdown",
   "metadata": {
    "id": "SQKu8pOpIIml"
   },
   "source": [
    "### F.3  Mapping with folium\n",
    "\n",
    "* Decima includes geographical data in the form of longitude and latitude"
   ]
  },
  {
   "cell_type": "markdown",
   "metadata": {
    "id": "d_3GQO0iIIml"
   },
   "source": [
    "#### Since the X and Y columns represent longitude and latitude, we can use the `mean` method to find the center!"
   ]
  },
  {
   "cell_type": "code",
   "execution_count": 75,
   "metadata": {
    "ExecuteTime": {
     "end_time": "2022-02-10T23:28:17.283775Z",
     "start_time": "2022-02-10T23:28:17.280056Z"
    },
    "colab": {
     "base_uri": "https://localhost:8080/"
    },
    "id": "XWqrm2qmIIml",
    "outputId": "1a244f51-ffb1-4448-8e76-0f75ab92a69a"
   },
   "outputs": [
    {
     "name": "stdout",
     "output_type": "stream",
     "text": [
      "11.255879475338345 43.77205156556393\n"
     ]
    }
   ],
   "source": [
    "X, Y = decima[\"X\"].mean(), decima[\"Y\"].mean()\n",
    "print(X, Y)"
   ]
  },
  {
   "cell_type": "markdown",
   "metadata": {
    "id": "UePVelFwIImm"
   },
   "source": [
    "#### The folium library will let us create maps directly in Jupyter NBs\n",
    "\n",
    "- Notice that the map is zoomable and interactive (linked back to the data in our frame)"
   ]
  },
  {
   "cell_type": "code",
   "execution_count": 76,
   "metadata": {
    "ExecuteTime": {
     "end_time": "2022-02-10T23:28:17.327072Z",
     "start_time": "2022-02-10T23:28:17.318722Z"
    },
    "id": "oqs6rHXVIImm"
   },
   "outputs": [],
   "source": [
    "our_map = folium.Map(location=[Y, X], zoom_start=15)"
   ]
  },
  {
   "cell_type": "code",
   "execution_count": 77,
   "metadata": {
    "ExecuteTime": {
     "end_time": "2022-02-10T23:28:17.334895Z",
     "start_time": "2022-02-10T23:28:17.328903Z"
    },
    "id": "b7Fu7DKhIImm"
   },
   "outputs": [],
   "source": [
    "decima[\"popup_column\"] = decima.apply(lambda row: f\"\"\"\n",
    "        <ul>\n",
    "            <li><strong>ID: </strong>{row[\"OBJECTID\"]}</li>\n",
    "            <li><strong>Source: </strong>{row[\"Source\"]}</li>\n",
    "            <li><strong>Name: </strong>{row[\"Resident 1 Name\"]}</li>\n",
    "        <ul>\n",
    "    \"\"\"\n",
    ", axis=\"columns\")"
   ]
  },
  {
   "cell_type": "code",
   "execution_count": 78,
   "metadata": {
    "ExecuteTime": {
     "end_time": "2022-02-10T23:28:17.355188Z",
     "start_time": "2022-02-10T23:28:17.336827Z"
    },
    "id": "TNweByPdIImm"
   },
   "outputs": [],
   "source": [
    "decima.apply(lambda row: folium.Marker(\n",
    "                                    location=(row[\"Y\"], row[\"X\"]),\n",
    "                                    popup=row[\"popup_column\"]\n",
    "                                    ).add_to(our_map), axis=1);"
   ]
  },
  {
   "cell_type": "code",
   "execution_count": 79,
   "metadata": {
    "ExecuteTime": {
     "end_time": "2022-02-10T23:28:17.532841Z",
     "start_time": "2022-02-10T23:28:17.357225Z"
    },
    "colab": {
     "base_uri": "https://localhost:8080/",
     "height": 1000
    },
    "id": "MoJ-0S9SIImn",
    "outputId": "14c7dd03-14aa-43d6-8450-383347f92399"
   },
   "outputs": [
    {
     "data": {
      "text/html": [
       "<div style=\"width:100%;\"><div style=\"position:relative;width:100%;height:0;padding-bottom:60%;\"><span style=\"color:#565656\">Make this Notebook Trusted to load map: File -> Trust Notebook</span><iframe src=\"about:blank\" style=\"position:absolute;width:100%;height:100%;left:0;top:0;border:none !important;\" data-html=%3C%21DOCTYPE%20html%3E%0A%3Chead%3E%20%20%20%20%0A%20%20%20%20%3Cmeta%20http-equiv%3D%22content-type%22%20content%3D%22text/html%3B%20charset%3DUTF-8%22%20/%3E%0A%20%20%20%20%0A%20%20%20%20%20%20%20%20%3Cscript%3E%0A%20%20%20%20%20%20%20%20%20%20%20%20L_NO_TOUCH%20%3D%20false%3B%0A%20%20%20%20%20%20%20%20%20%20%20%20L_DISABLE_3D%20%3D%20false%3B%0A%20%20%20%20%20%20%20%20%3C/script%3E%0A%20%20%20%20%0A%20%20%20%20%3Cstyle%3Ehtml%2C%20body%20%7Bwidth%3A%20100%25%3Bheight%3A%20100%25%3Bmargin%3A%200%3Bpadding%3A%200%3B%7D%3C/style%3E%0A%20%20%20%20%3Cstyle%3E%23map%20%7Bposition%3Aabsolute%3Btop%3A0%3Bbottom%3A0%3Bright%3A0%3Bleft%3A0%3B%7D%3C/style%3E%0A%20%20%20%20%3Cscript%20src%3D%22https%3A//cdn.jsdelivr.net/npm/leaflet%401.6.0/dist/leaflet.js%22%3E%3C/script%3E%0A%20%20%20%20%3Cscript%20src%3D%22https%3A//code.jquery.com/jquery-1.12.4.min.js%22%3E%3C/script%3E%0A%20%20%20%20%3Cscript%20src%3D%22https%3A//maxcdn.bootstrapcdn.com/bootstrap/3.2.0/js/bootstrap.min.js%22%3E%3C/script%3E%0A%20%20%20%20%3Cscript%20src%3D%22https%3A//cdnjs.cloudflare.com/ajax/libs/Leaflet.awesome-markers/2.0.2/leaflet.awesome-markers.js%22%3E%3C/script%3E%0A%20%20%20%20%3Clink%20rel%3D%22stylesheet%22%20href%3D%22https%3A//cdn.jsdelivr.net/npm/leaflet%401.6.0/dist/leaflet.css%22/%3E%0A%20%20%20%20%3Clink%20rel%3D%22stylesheet%22%20href%3D%22https%3A//maxcdn.bootstrapcdn.com/bootstrap/3.2.0/css/bootstrap.min.css%22/%3E%0A%20%20%20%20%3Clink%20rel%3D%22stylesheet%22%20href%3D%22https%3A//maxcdn.bootstrapcdn.com/bootstrap/3.2.0/css/bootstrap-theme.min.css%22/%3E%0A%20%20%20%20%3Clink%20rel%3D%22stylesheet%22%20href%3D%22https%3A//maxcdn.bootstrapcdn.com/font-awesome/4.6.3/css/font-awesome.min.css%22/%3E%0A%20%20%20%20%3Clink%20rel%3D%22stylesheet%22%20href%3D%22https%3A//cdnjs.cloudflare.com/ajax/libs/Leaflet.awesome-markers/2.0.2/leaflet.awesome-markers.css%22/%3E%0A%20%20%20%20%3Clink%20rel%3D%22stylesheet%22%20href%3D%22https%3A//cdn.jsdelivr.net/gh/python-visualization/folium/folium/templates/leaflet.awesome.rotate.min.css%22/%3E%0A%20%20%20%20%0A%20%20%20%20%20%20%20%20%20%20%20%20%3Cmeta%20name%3D%22viewport%22%20content%3D%22width%3Ddevice-width%2C%0A%20%20%20%20%20%20%20%20%20%20%20%20%20%20%20%20initial-scale%3D1.0%2C%20maximum-scale%3D1.0%2C%20user-scalable%3Dno%22%20/%3E%0A%20%20%20%20%20%20%20%20%20%20%20%20%3Cstyle%3E%0A%20%20%20%20%20%20%20%20%20%20%20%20%20%20%20%20%23map_b98b389f61064b299c4cde471c85a0fb%20%7B%0A%20%20%20%20%20%20%20%20%20%20%20%20%20%20%20%20%20%20%20%20position%3A%20relative%3B%0A%20%20%20%20%20%20%20%20%20%20%20%20%20%20%20%20%20%20%20%20width%3A%20100.0%25%3B%0A%20%20%20%20%20%20%20%20%20%20%20%20%20%20%20%20%20%20%20%20height%3A%20100.0%25%3B%0A%20%20%20%20%20%20%20%20%20%20%20%20%20%20%20%20%20%20%20%20left%3A%200.0%25%3B%0A%20%20%20%20%20%20%20%20%20%20%20%20%20%20%20%20%20%20%20%20top%3A%200.0%25%3B%0A%20%20%20%20%20%20%20%20%20%20%20%20%20%20%20%20%7D%0A%20%20%20%20%20%20%20%20%20%20%20%20%3C/style%3E%0A%20%20%20%20%20%20%20%20%0A%3C/head%3E%0A%3Cbody%3E%20%20%20%20%0A%20%20%20%20%0A%20%20%20%20%20%20%20%20%20%20%20%20%3Cdiv%20class%3D%22folium-map%22%20id%3D%22map_b98b389f61064b299c4cde471c85a0fb%22%20%3E%3C/div%3E%0A%20%20%20%20%20%20%20%20%0A%3C/body%3E%0A%3Cscript%3E%20%20%20%20%0A%20%20%20%20%0A%20%20%20%20%20%20%20%20%20%20%20%20var%20map_b98b389f61064b299c4cde471c85a0fb%20%3D%20L.map%28%0A%20%20%20%20%20%20%20%20%20%20%20%20%20%20%20%20%22map_b98b389f61064b299c4cde471c85a0fb%22%2C%0A%20%20%20%20%20%20%20%20%20%20%20%20%20%20%20%20%7B%0A%20%20%20%20%20%20%20%20%20%20%20%20%20%20%20%20%20%20%20%20center%3A%20%5B43.77205156556393%2C%2011.255879475338345%5D%2C%0A%20%20%20%20%20%20%20%20%20%20%20%20%20%20%20%20%20%20%20%20crs%3A%20L.CRS.EPSG3857%2C%0A%20%20%20%20%20%20%20%20%20%20%20%20%20%20%20%20%20%20%20%20zoom%3A%2015%2C%0A%20%20%20%20%20%20%20%20%20%20%20%20%20%20%20%20%20%20%20%20zoomControl%3A%20true%2C%0A%20%20%20%20%20%20%20%20%20%20%20%20%20%20%20%20%20%20%20%20preferCanvas%3A%20false%2C%0A%20%20%20%20%20%20%20%20%20%20%20%20%20%20%20%20%7D%0A%20%20%20%20%20%20%20%20%20%20%20%20%29%3B%0A%0A%20%20%20%20%20%20%20%20%20%20%20%20%0A%0A%20%20%20%20%20%20%20%20%0A%20%20%20%20%0A%20%20%20%20%20%20%20%20%20%20%20%20var%20tile_layer_6d82eaee72eb407bb6c11fe187b6aa70%20%3D%20L.tileLayer%28%0A%20%20%20%20%20%20%20%20%20%20%20%20%20%20%20%20%22https%3A//%7Bs%7D.tile.openstreetmap.org/%7Bz%7D/%7Bx%7D/%7By%7D.png%22%2C%0A%20%20%20%20%20%20%20%20%20%20%20%20%20%20%20%20%7B%22attribution%22%3A%20%22Data%20by%20%5Cu0026copy%3B%20%5Cu003ca%20href%3D%5C%22http%3A//openstreetmap.org%5C%22%5Cu003eOpenStreetMap%5Cu003c/a%5Cu003e%2C%20under%20%5Cu003ca%20href%3D%5C%22http%3A//www.openstreetmap.org/copyright%5C%22%5Cu003eODbL%5Cu003c/a%5Cu003e.%22%2C%20%22detectRetina%22%3A%20false%2C%20%22maxNativeZoom%22%3A%2018%2C%20%22maxZoom%22%3A%2018%2C%20%22minZoom%22%3A%200%2C%20%22noWrap%22%3A%20false%2C%20%22opacity%22%3A%201%2C%20%22subdomains%22%3A%20%22abc%22%2C%20%22tms%22%3A%20false%7D%0A%20%20%20%20%20%20%20%20%20%20%20%20%29.addTo%28map_b98b389f61064b299c4cde471c85a0fb%29%3B%0A%20%20%20%20%20%20%20%20%0A%20%20%20%20%0A%20%20%20%20%20%20%20%20%20%20%20%20var%20marker_f3760f24f806441594cc45f2fe3aeb91%20%3D%20L.marker%28%0A%20%20%20%20%20%20%20%20%20%20%20%20%20%20%20%20%5B43.77055767%2C%2011.27046367%5D%2C%0A%20%20%20%20%20%20%20%20%20%20%20%20%20%20%20%20%7B%7D%0A%20%20%20%20%20%20%20%20%20%20%20%20%29.addTo%28map_b98b389f61064b299c4cde471c85a0fb%29%3B%0A%20%20%20%20%20%20%20%20%0A%20%20%20%20%0A%20%20%20%20%20%20%20%20var%20popup_56dc065bbbe94ffbab35d9740984fd8c%20%3D%20L.popup%28%7B%22maxWidth%22%3A%20%22100%25%22%7D%29%3B%0A%0A%20%20%20%20%20%20%20%20%0A%20%20%20%20%20%20%20%20%20%20%20%20var%20html_c17d728bd73a4389ad2ceb6ca6702de6%20%3D%20%24%28%60%3Cdiv%20id%3D%22html_c17d728bd73a4389ad2ceb6ca6702de6%22%20style%3D%22width%3A%20100.0%25%3B%20height%3A%20100.0%25%3B%22%3E%20%20%20%20%20%20%20%20%20%3Cul%3E%20%20%20%20%20%20%20%20%20%20%20%20%20%3Cli%3E%3Cstrong%3EID%3A%20%3C/strong%3E2073%3C/li%3E%20%20%20%20%20%20%20%20%20%20%20%20%20%3Cli%3E%3Cstrong%3ESource%3A%20%3C/strong%3EHenderson%20P%26C%20%23114%3C/li%3E%20%20%20%20%20%20%20%20%20%20%20%20%20%3Cli%3E%3Cstrong%3EName%3A%20%3C/strong%3EDomenico%20di%20Francesco%20di%20Casantino%3C/li%3E%20%20%20%20%20%20%20%20%20%3Cul%3E%20%20%20%20%20%3C/div%3E%60%29%5B0%5D%3B%0A%20%20%20%20%20%20%20%20%20%20%20%20popup_56dc065bbbe94ffbab35d9740984fd8c.setContent%28html_c17d728bd73a4389ad2ceb6ca6702de6%29%3B%0A%20%20%20%20%20%20%20%20%0A%0A%20%20%20%20%20%20%20%20marker_f3760f24f806441594cc45f2fe3aeb91.bindPopup%28popup_56dc065bbbe94ffbab35d9740984fd8c%29%0A%20%20%20%20%20%20%20%20%3B%0A%0A%20%20%20%20%20%20%20%20%0A%20%20%20%20%0A%20%20%20%20%0A%20%20%20%20%20%20%20%20%20%20%20%20var%20marker_ab030f945acb4f83b458ab1efa93c7a2%20%3D%20L.marker%28%0A%20%20%20%20%20%20%20%20%20%20%20%20%20%20%20%20%5B43.770336%2C%2011.264497%5D%2C%0A%20%20%20%20%20%20%20%20%20%20%20%20%20%20%20%20%7B%7D%0A%20%20%20%20%20%20%20%20%20%20%20%20%29.addTo%28map_b98b389f61064b299c4cde471c85a0fb%29%3B%0A%20%20%20%20%20%20%20%20%0A%20%20%20%20%0A%20%20%20%20%20%20%20%20var%20popup_b33d0b15f51944e1a04499d70a599870%20%3D%20L.popup%28%7B%22maxWidth%22%3A%20%22100%25%22%7D%29%3B%0A%0A%20%20%20%20%20%20%20%20%0A%20%20%20%20%20%20%20%20%20%20%20%20var%20html_c7b27a345e0c4621a2344135010113df%20%3D%20%24%28%60%3Cdiv%20id%3D%22html_c7b27a345e0c4621a2344135010113df%22%20style%3D%22width%3A%20100.0%25%3B%20height%3A%20100.0%25%3B%22%3E%20%20%20%20%20%20%20%20%20%3Cul%3E%20%20%20%20%20%20%20%20%20%20%20%20%20%3Cli%3E%3Cstrong%3EID%3A%20%3C/strong%3E3219%3C/li%3E%20%20%20%20%20%20%20%20%20%20%20%20%20%3Cli%3E%3Cstrong%3ESource%3A%20%3C/strong%3EHenderson%20P%26C%20%23137%3C/li%3E%20%20%20%20%20%20%20%20%20%20%20%20%20%3Cli%3E%3Cstrong%3EName%3A%20%3C/strong%3EMarchonne%20di%20Giovannni%20Dazzi%3C/li%3E%20%20%20%20%20%20%20%20%20%3Cul%3E%20%20%20%20%20%3C/div%3E%60%29%5B0%5D%3B%0A%20%20%20%20%20%20%20%20%20%20%20%20popup_b33d0b15f51944e1a04499d70a599870.setContent%28html_c7b27a345e0c4621a2344135010113df%29%3B%0A%20%20%20%20%20%20%20%20%0A%0A%20%20%20%20%20%20%20%20marker_ab030f945acb4f83b458ab1efa93c7a2.bindPopup%28popup_b33d0b15f51944e1a04499d70a599870%29%0A%20%20%20%20%20%20%20%20%3B%0A%0A%20%20%20%20%20%20%20%20%0A%20%20%20%20%0A%20%20%20%20%0A%20%20%20%20%20%20%20%20%20%20%20%20var%20marker_9184d0ea1054481da55b6493f453ea80%20%3D%20L.marker%28%0A%20%20%20%20%20%20%20%20%20%20%20%20%20%20%20%20%5B43.77111764%2C%2011.26918979%5D%2C%0A%20%20%20%20%20%20%20%20%20%20%20%20%20%20%20%20%7B%7D%0A%20%20%20%20%20%20%20%20%20%20%20%20%29.addTo%28map_b98b389f61064b299c4cde471c85a0fb%29%3B%0A%20%20%20%20%20%20%20%20%0A%20%20%20%20%0A%20%20%20%20%20%20%20%20var%20popup_538a5a3d7ebe44ea8257f9e7bad3a15f%20%3D%20L.popup%28%7B%22maxWidth%22%3A%20%22100%25%22%7D%29%3B%0A%0A%20%20%20%20%20%20%20%20%0A%20%20%20%20%20%20%20%20%20%20%20%20var%20html_940204eb1ea44168983705c5324e7e6d%20%3D%20%24%28%60%3Cdiv%20id%3D%22html_940204eb1ea44168983705c5324e7e6d%22%20style%3D%22width%3A%20100.0%25%3B%20height%3A%20100.0%25%3B%22%3E%20%20%20%20%20%20%20%20%20%3Cul%3E%20%20%20%20%20%20%20%20%20%20%20%20%20%3Cli%3E%3Cstrong%3EID%3A%20%3C/strong%3E2203%3C/li%3E%20%20%20%20%20%20%20%20%20%20%20%20%20%3Cli%3E%3Cstrong%3ESource%3A%20%3C/strong%3EHenderson%20P%26C%20%23137%3C/li%3E%20%20%20%20%20%20%20%20%20%20%20%20%20%3Cli%3E%3Cstrong%3EName%3A%20%3C/strong%3ELa%20Dianora%2C%20vedova%2C%20donna%20fu%20di%20Piero%20Bastachi%3C/li%3E%20%20%20%20%20%20%20%20%20%3Cul%3E%20%20%20%20%20%3C/div%3E%60%29%5B0%5D%3B%0A%20%20%20%20%20%20%20%20%20%20%20%20popup_538a5a3d7ebe44ea8257f9e7bad3a15f.setContent%28html_940204eb1ea44168983705c5324e7e6d%29%3B%0A%20%20%20%20%20%20%20%20%0A%0A%20%20%20%20%20%20%20%20marker_9184d0ea1054481da55b6493f453ea80.bindPopup%28popup_538a5a3d7ebe44ea8257f9e7bad3a15f%29%0A%20%20%20%20%20%20%20%20%3B%0A%0A%20%20%20%20%20%20%20%20%0A%20%20%20%20%0A%20%20%20%20%0A%20%20%20%20%20%20%20%20%20%20%20%20var%20marker_87e2c52813274680b1d85ba2240fde87%20%3D%20L.marker%28%0A%20%20%20%20%20%20%20%20%20%20%20%20%20%20%20%20%5B43.775931%2C%2011.252323%5D%2C%0A%20%20%20%20%20%20%20%20%20%20%20%20%20%20%20%20%7B%7D%0A%20%20%20%20%20%20%20%20%20%20%20%20%29.addTo%28map_b98b389f61064b299c4cde471c85a0fb%29%3B%0A%20%20%20%20%20%20%20%20%0A%20%20%20%20%0A%20%20%20%20%20%20%20%20var%20popup_1d668dbdb361420b87a18c7dc12c2205%20%3D%20L.popup%28%7B%22maxWidth%22%3A%20%22100%25%22%7D%29%3B%0A%0A%20%20%20%20%20%20%20%20%0A%20%20%20%20%20%20%20%20%20%20%20%20var%20html_334fb2d59a7b4885b95ee73d580ac96e%20%3D%20%24%28%60%3Cdiv%20id%3D%22html_334fb2d59a7b4885b95ee73d580ac96e%22%20style%3D%22width%3A%20100.0%25%3B%20height%3A%20100.0%25%3B%22%3E%20%20%20%20%20%20%20%20%20%3Cul%3E%20%20%20%20%20%20%20%20%20%20%20%20%20%3Cli%3E%3Cstrong%3EID%3A%20%3C/strong%3E147%3C/li%3E%20%20%20%20%20%20%20%20%20%20%20%20%20%3Cli%3E%3Cstrong%3ESource%3A%20%3C/strong%3EHenderson%20P%26C%20104%3C/li%3E%20%20%20%20%20%20%20%20%20%20%20%20%20%3Cli%3E%3Cstrong%3EName%3A%20%3C/strong%3EBenedetto%20di%20Monsacco%3C/li%3E%20%20%20%20%20%20%20%20%20%3Cul%3E%20%20%20%20%20%3C/div%3E%60%29%5B0%5D%3B%0A%20%20%20%20%20%20%20%20%20%20%20%20popup_1d668dbdb361420b87a18c7dc12c2205.setContent%28html_334fb2d59a7b4885b95ee73d580ac96e%29%3B%0A%20%20%20%20%20%20%20%20%0A%0A%20%20%20%20%20%20%20%20marker_87e2c52813274680b1d85ba2240fde87.bindPopup%28popup_1d668dbdb361420b87a18c7dc12c2205%29%0A%20%20%20%20%20%20%20%20%3B%0A%0A%20%20%20%20%20%20%20%20%0A%20%20%20%20%0A%20%20%20%20%0A%20%20%20%20%20%20%20%20%20%20%20%20var%20marker_17dbb7af226246959f3b64e5b8679b55%20%3D%20L.marker%28%0A%20%20%20%20%20%20%20%20%20%20%20%20%20%20%20%20%5B43.76581%2C%2011.24711857%5D%2C%0A%20%20%20%20%20%20%20%20%20%20%20%20%20%20%20%20%7B%7D%0A%20%20%20%20%20%20%20%20%20%20%20%20%29.addTo%28map_b98b389f61064b299c4cde471c85a0fb%29%3B%0A%20%20%20%20%20%20%20%20%0A%20%20%20%20%0A%20%20%20%20%20%20%20%20var%20popup_e9aca0ab588b4c6b8a122eb9a40aad5b%20%3D%20L.popup%28%7B%22maxWidth%22%3A%20%22100%25%22%7D%29%3B%0A%0A%20%20%20%20%20%20%20%20%0A%20%20%20%20%20%20%20%20%20%20%20%20var%20html_44cfa8a1ddad4ee0bf09deb5345cef02%20%3D%20%24%28%60%3Cdiv%20id%3D%22html_44cfa8a1ddad4ee0bf09deb5345cef02%22%20style%3D%22width%3A%20100.0%25%3B%20height%3A%20100.0%25%3B%22%3E%20%20%20%20%20%20%20%20%20%3Cul%3E%20%20%20%20%20%20%20%20%20%20%20%20%20%3Cli%3E%3Cstrong%3EID%3A%20%3C/strong%3E7343%3C/li%3E%20%20%20%20%20%20%20%20%20%20%20%20%20%3Cli%3E%3Cstrong%3ESource%3A%20%3C/strong%3EHenderson%20P%26C%20%2378%3C/li%3E%20%20%20%20%20%20%20%20%20%20%20%20%20%3Cli%3E%3Cstrong%3EName%3A%20%3C/strong%3EGiovannozzo%20di%20Raffaello%20Parenti%3C/li%3E%20%20%20%20%20%20%20%20%20%3Cul%3E%20%20%20%20%20%3C/div%3E%60%29%5B0%5D%3B%0A%20%20%20%20%20%20%20%20%20%20%20%20popup_e9aca0ab588b4c6b8a122eb9a40aad5b.setContent%28html_44cfa8a1ddad4ee0bf09deb5345cef02%29%3B%0A%20%20%20%20%20%20%20%20%0A%0A%20%20%20%20%20%20%20%20marker_17dbb7af226246959f3b64e5b8679b55.bindPopup%28popup_e9aca0ab588b4c6b8a122eb9a40aad5b%29%0A%20%20%20%20%20%20%20%20%3B%0A%0A%20%20%20%20%20%20%20%20%0A%20%20%20%20%0A%20%20%20%20%0A%20%20%20%20%20%20%20%20%20%20%20%20var%20marker_0dd218995ade43938ba94359f986b852%20%3D%20L.marker%28%0A%20%20%20%20%20%20%20%20%20%20%20%20%20%20%20%20%5B43.7674384%2C%2011.244969%5D%2C%0A%20%20%20%20%20%20%20%20%20%20%20%20%20%20%20%20%7B%7D%0A%20%20%20%20%20%20%20%20%20%20%20%20%29.addTo%28map_b98b389f61064b299c4cde471c85a0fb%29%3B%0A%20%20%20%20%20%20%20%20%0A%20%20%20%20%0A%20%20%20%20%20%20%20%20var%20popup_a8bff6838e734bbaac1187ca89cf39e1%20%3D%20L.popup%28%7B%22maxWidth%22%3A%20%22100%25%22%7D%29%3B%0A%0A%20%20%20%20%20%20%20%20%0A%20%20%20%20%20%20%20%20%20%20%20%20var%20html_22e0a1e487464ee5b5d272eff42246d6%20%3D%20%24%28%60%3Cdiv%20id%3D%22html_22e0a1e487464ee5b5d272eff42246d6%22%20style%3D%22width%3A%20100.0%25%3B%20height%3A%20100.0%25%3B%22%3E%20%20%20%20%20%20%20%20%20%3Cul%3E%20%20%20%20%20%20%20%20%20%20%20%20%20%3Cli%3E%3Cstrong%3EID%3A%20%3C/strong%3E8476%3C/li%3E%20%20%20%20%20%20%20%20%20%20%20%20%20%3Cli%3E%3Cstrong%3ESource%3A%20%3C/strong%3EHenderson%20P%26C%20%2392%3C/li%3E%20%20%20%20%20%20%20%20%20%20%20%20%20%3Cli%3E%3Cstrong%3EName%3A%20%3C/strong%3Eun%20pigionale%3C/li%3E%20%20%20%20%20%20%20%20%20%3Cul%3E%20%20%20%20%20%3C/div%3E%60%29%5B0%5D%3B%0A%20%20%20%20%20%20%20%20%20%20%20%20popup_a8bff6838e734bbaac1187ca89cf39e1.setContent%28html_22e0a1e487464ee5b5d272eff42246d6%29%3B%0A%20%20%20%20%20%20%20%20%0A%0A%20%20%20%20%20%20%20%20marker_0dd218995ade43938ba94359f986b852.bindPopup%28popup_a8bff6838e734bbaac1187ca89cf39e1%29%0A%20%20%20%20%20%20%20%20%3B%0A%0A%20%20%20%20%20%20%20%20%0A%20%20%20%20%0A%20%20%20%20%0A%20%20%20%20%20%20%20%20%20%20%20%20var%20marker_8df2bb3c71cd4d9f84a0fbcb1f5e045b%20%3D%20L.marker%28%0A%20%20%20%20%20%20%20%20%20%20%20%20%20%20%20%20%5B43.77294222%2C%2011.24744556%5D%2C%0A%20%20%20%20%20%20%20%20%20%20%20%20%20%20%20%20%7B%7D%0A%20%20%20%20%20%20%20%20%20%20%20%20%29.addTo%28map_b98b389f61064b299c4cde471c85a0fb%29%3B%0A%20%20%20%20%20%20%20%20%0A%20%20%20%20%0A%20%20%20%20%20%20%20%20var%20popup_36da8c0b8019499d8004aa5dbe1e6acc%20%3D%20L.popup%28%7B%22maxWidth%22%3A%20%22100%25%22%7D%29%3B%0A%0A%20%20%20%20%20%20%20%20%0A%20%20%20%20%20%20%20%20%20%20%20%20var%20html_84639d04a2354f6bb0a1706a74130f6f%20%3D%20%24%28%60%3Cdiv%20id%3D%22html_84639d04a2354f6bb0a1706a74130f6f%22%20style%3D%22width%3A%20100.0%25%3B%20height%3A%20100.0%25%3B%22%3E%20%20%20%20%20%20%20%20%20%3Cul%3E%20%20%20%20%20%20%20%20%20%20%20%20%20%3Cli%3E%3Cstrong%3EID%3A%20%3C/strong%3E5514%3C/li%3E%20%20%20%20%20%20%20%20%20%20%20%20%20%3Cli%3E%3Cstrong%3ESource%3A%20%3C/strong%3EHenderson%20P%26C%20%2392%3C/li%3E%20%20%20%20%20%20%20%20%20%20%20%20%20%3Cli%3E%3Cstrong%3EName%3A%20%3C/strong%3ELorenzo%20di%20Niccolo%3C/li%3E%20%20%20%20%20%20%20%20%20%3Cul%3E%20%20%20%20%20%3C/div%3E%60%29%5B0%5D%3B%0A%20%20%20%20%20%20%20%20%20%20%20%20popup_36da8c0b8019499d8004aa5dbe1e6acc.setContent%28html_84639d04a2354f6bb0a1706a74130f6f%29%3B%0A%20%20%20%20%20%20%20%20%0A%0A%20%20%20%20%20%20%20%20marker_8df2bb3c71cd4d9f84a0fbcb1f5e045b.bindPopup%28popup_36da8c0b8019499d8004aa5dbe1e6acc%29%0A%20%20%20%20%20%20%20%20%3B%0A%0A%20%20%20%20%20%20%20%20%0A%20%20%20%20%0A%20%20%20%20%0A%20%20%20%20%20%20%20%20%20%20%20%20var%20marker_eb564f240fbb44e3a5ff2acb65fca5e4%20%3D%20L.marker%28%0A%20%20%20%20%20%20%20%20%20%20%20%20%20%20%20%20%5B43.76800359%2C%2011.24089635%5D%2C%0A%20%20%20%20%20%20%20%20%20%20%20%20%20%20%20%20%7B%7D%0A%20%20%20%20%20%20%20%20%20%20%20%20%29.addTo%28map_b98b389f61064b299c4cde471c85a0fb%29%3B%0A%20%20%20%20%20%20%20%20%0A%20%20%20%20%0A%20%20%20%20%20%20%20%20var%20popup_ca54bb0159da4d2aa7f10cd1fec60a41%20%3D%20L.popup%28%7B%22maxWidth%22%3A%20%22100%25%22%7D%29%3B%0A%0A%20%20%20%20%20%20%20%20%0A%20%20%20%20%20%20%20%20%20%20%20%20var%20html_67f3b2075fb24fddbe2c08530a8ca1fb%20%3D%20%24%28%60%3Cdiv%20id%3D%22html_67f3b2075fb24fddbe2c08530a8ca1fb%22%20style%3D%22width%3A%20100.0%25%3B%20height%3A%20100.0%25%3B%22%3E%20%20%20%20%20%20%20%20%20%3Cul%3E%20%20%20%20%20%20%20%20%20%20%20%20%20%3Cli%3E%3Cstrong%3EID%3A%20%3C/strong%3E8102%3C/li%3E%20%20%20%20%20%20%20%20%20%20%20%20%20%3Cli%3E%3Cstrong%3ESource%3A%20%3C/strong%3EHenderson%20P%26C%20%23147%3C/li%3E%20%20%20%20%20%20%20%20%20%20%20%20%20%3Cli%3E%3Cstrong%3EName%3A%20%3C/strong%3EFrancesco%20di%20Salvestro%3C/li%3E%20%20%20%20%20%20%20%20%20%3Cul%3E%20%20%20%20%20%3C/div%3E%60%29%5B0%5D%3B%0A%20%20%20%20%20%20%20%20%20%20%20%20popup_ca54bb0159da4d2aa7f10cd1fec60a41.setContent%28html_67f3b2075fb24fddbe2c08530a8ca1fb%29%3B%0A%20%20%20%20%20%20%20%20%0A%0A%20%20%20%20%20%20%20%20marker_eb564f240fbb44e3a5ff2acb65fca5e4.bindPopup%28popup_ca54bb0159da4d2aa7f10cd1fec60a41%29%0A%20%20%20%20%20%20%20%20%3B%0A%0A%20%20%20%20%20%20%20%20%0A%20%20%20%20%0A%20%20%20%20%0A%20%20%20%20%20%20%20%20%20%20%20%20var%20marker_25ef672e9c6c45f184989ce4d0507f74%20%3D%20L.marker%28%0A%20%20%20%20%20%20%20%20%20%20%20%20%20%20%20%20%5B43.770728%2C%2011.270409%5D%2C%0A%20%20%20%20%20%20%20%20%20%20%20%20%20%20%20%20%7B%7D%0A%20%20%20%20%20%20%20%20%20%20%20%20%29.addTo%28map_b98b389f61064b299c4cde471c85a0fb%29%3B%0A%20%20%20%20%20%20%20%20%0A%20%20%20%20%0A%20%20%20%20%20%20%20%20var%20popup_14dafcfa91314522bc40afafaae3fb8c%20%3D%20L.popup%28%7B%22maxWidth%22%3A%20%22100%25%22%7D%29%3B%0A%0A%20%20%20%20%20%20%20%20%0A%20%20%20%20%20%20%20%20%20%20%20%20var%20html_567d1a0d5294433bb4f6112f8007e6c7%20%3D%20%24%28%60%3Cdiv%20id%3D%22html_567d1a0d5294433bb4f6112f8007e6c7%22%20style%3D%22width%3A%20100.0%25%3B%20height%3A%20100.0%25%3B%22%3E%20%20%20%20%20%20%20%20%20%3Cul%3E%20%20%20%20%20%20%20%20%20%20%20%20%20%3Cli%3E%3Cstrong%3EID%3A%20%3C/strong%3E2030%3C/li%3E%20%20%20%20%20%20%20%20%20%20%20%20%20%3Cli%3E%3Cstrong%3ESource%3A%20%3C/strong%3EHenderson%20P%26C%20%23105%20%5Bor%20121%5D%3C/li%3E%20%20%20%20%20%20%20%20%20%20%20%20%20%3Cli%3E%3Cstrong%3EName%3A%20%3C/strong%3EDomenico%20di%20Jacopo%20Santini%3C/li%3E%20%20%20%20%20%20%20%20%20%3Cul%3E%20%20%20%20%20%3C/div%3E%60%29%5B0%5D%3B%0A%20%20%20%20%20%20%20%20%20%20%20%20popup_14dafcfa91314522bc40afafaae3fb8c.setContent%28html_567d1a0d5294433bb4f6112f8007e6c7%29%3B%0A%20%20%20%20%20%20%20%20%0A%0A%20%20%20%20%20%20%20%20marker_25ef672e9c6c45f184989ce4d0507f74.bindPopup%28popup_14dafcfa91314522bc40afafaae3fb8c%29%0A%20%20%20%20%20%20%20%20%3B%0A%0A%20%20%20%20%20%20%20%20%0A%20%20%20%20%0A%20%20%20%20%0A%20%20%20%20%20%20%20%20%20%20%20%20var%20marker_de8eeaa57f9943cbb49311056a6382d6%20%3D%20L.marker%28%0A%20%20%20%20%20%20%20%20%20%20%20%20%20%20%20%20%5B43.77714732%2C%2011.25429326%5D%2C%0A%20%20%20%20%20%20%20%20%20%20%20%20%20%20%20%20%7B%7D%0A%20%20%20%20%20%20%20%20%20%20%20%20%29.addTo%28map_b98b389f61064b299c4cde471c85a0fb%29%3B%0A%20%20%20%20%20%20%20%20%0A%20%20%20%20%0A%20%20%20%20%20%20%20%20var%20popup_7071fe25c10f4809913a5c498266a705%20%3D%20L.popup%28%7B%22maxWidth%22%3A%20%22100%25%22%7D%29%3B%0A%0A%20%20%20%20%20%20%20%20%0A%20%20%20%20%20%20%20%20%20%20%20%20var%20html_7949d4f7580b4ff298bf05ea5f191605%20%3D%20%24%28%60%3Cdiv%20id%3D%22html_7949d4f7580b4ff298bf05ea5f191605%22%20style%3D%22width%3A%20100.0%25%3B%20height%3A%20100.0%25%3B%22%3E%20%20%20%20%20%20%20%20%20%3Cul%3E%20%20%20%20%20%20%20%20%20%20%20%20%20%3Cli%3E%3Cstrong%3EID%3A%20%3C/strong%3E400%3C/li%3E%20%20%20%20%20%20%20%20%20%20%20%20%20%3Cli%3E%3Cstrong%3ESource%3A%20%3C/strong%3EHenderson%20P%26C%20%2342%3C/li%3E%20%20%20%20%20%20%20%20%20%20%20%20%20%3Cli%3E%3Cstrong%3EName%3A%20%3C/strong%3EGiovanni%20di%20Raffaello%2C%20rivenditore%3C/li%3E%20%20%20%20%20%20%20%20%20%3Cul%3E%20%20%20%20%20%3C/div%3E%60%29%5B0%5D%3B%0A%20%20%20%20%20%20%20%20%20%20%20%20popup_7071fe25c10f4809913a5c498266a705.setContent%28html_7949d4f7580b4ff298bf05ea5f191605%29%3B%0A%20%20%20%20%20%20%20%20%0A%0A%20%20%20%20%20%20%20%20marker_de8eeaa57f9943cbb49311056a6382d6.bindPopup%28popup_7071fe25c10f4809913a5c498266a705%29%0A%20%20%20%20%20%20%20%20%3B%0A%0A%20%20%20%20%20%20%20%20%0A%20%20%20%20%0A%20%20%20%20%0A%20%20%20%20%20%20%20%20%20%20%20%20var%20marker_d397e424de27449cb8d48f70655de91e%20%3D%20L.marker%28%0A%20%20%20%20%20%20%20%20%20%20%20%20%20%20%20%20%5B43.78140888%2C%2011.260031%5D%2C%0A%20%20%20%20%20%20%20%20%20%20%20%20%20%20%20%20%7B%7D%0A%20%20%20%20%20%20%20%20%20%20%20%20%29.addTo%28map_b98b389f61064b299c4cde471c85a0fb%29%3B%0A%20%20%20%20%20%20%20%20%0A%20%20%20%20%0A%20%20%20%20%20%20%20%20var%20popup_876d77af420749fa9044e535930690f6%20%3D%20L.popup%28%7B%22maxWidth%22%3A%20%22100%25%22%7D%29%3B%0A%0A%20%20%20%20%20%20%20%20%0A%20%20%20%20%20%20%20%20%20%20%20%20var%20html_5fb792519e81492d81e1853441cfbe3d%20%3D%20%24%28%60%3Cdiv%20id%3D%22html_5fb792519e81492d81e1853441cfbe3d%22%20style%3D%22width%3A%20100.0%25%3B%20height%3A%20100.0%25%3B%22%3E%20%20%20%20%20%20%20%20%20%3Cul%3E%20%20%20%20%20%20%20%20%20%20%20%20%20%3Cli%3E%3Cstrong%3EID%3A%20%3C/strong%3E1098%3C/li%3E%20%20%20%20%20%20%20%20%20%20%20%20%20%3Cli%3E%3Cstrong%3ESource%3A%20%3C/strong%3EHenderson%20P%26C%20%2353%3C/li%3E%20%20%20%20%20%20%20%20%20%20%20%20%20%3Cli%3E%3Cstrong%3EName%3A%20%3C/strong%3ELorenzo%20di%20%5BBastiano%5D%2C%20battilano%3C/li%3E%20%20%20%20%20%20%20%20%20%3Cul%3E%20%20%20%20%20%3C/div%3E%60%29%5B0%5D%3B%0A%20%20%20%20%20%20%20%20%20%20%20%20popup_876d77af420749fa9044e535930690f6.setContent%28html_5fb792519e81492d81e1853441cfbe3d%29%3B%0A%20%20%20%20%20%20%20%20%0A%0A%20%20%20%20%20%20%20%20marker_d397e424de27449cb8d48f70655de91e.bindPopup%28popup_876d77af420749fa9044e535930690f6%29%0A%20%20%20%20%20%20%20%20%3B%0A%0A%20%20%20%20%20%20%20%20%0A%20%20%20%20%0A%20%20%20%20%0A%20%20%20%20%20%20%20%20%20%20%20%20var%20marker_f5ed3a20e7fa4462ada4e8899d575dec%20%3D%20L.marker%28%0A%20%20%20%20%20%20%20%20%20%20%20%20%20%20%20%20%5B43.76968667%2C%2011.242858%5D%2C%0A%20%20%20%20%20%20%20%20%20%20%20%20%20%20%20%20%7B%7D%0A%20%20%20%20%20%20%20%20%20%20%20%20%29.addTo%28map_b98b389f61064b299c4cde471c85a0fb%29%3B%0A%20%20%20%20%20%20%20%20%0A%20%20%20%20%0A%20%20%20%20%20%20%20%20var%20popup_77b6439e46fc42e986cf01aa2e419809%20%3D%20L.popup%28%7B%22maxWidth%22%3A%20%22100%25%22%7D%29%3B%0A%0A%20%20%20%20%20%20%20%20%0A%20%20%20%20%20%20%20%20%20%20%20%20var%20html_4d9d226dee624aa6848f46781f96755e%20%3D%20%24%28%60%3Cdiv%20id%3D%22html_4d9d226dee624aa6848f46781f96755e%22%20style%3D%22width%3A%20100.0%25%3B%20height%3A%20100.0%25%3B%22%3E%20%20%20%20%20%20%20%20%20%3Cul%3E%20%20%20%20%20%20%20%20%20%20%20%20%20%3Cli%3E%3Cstrong%3EID%3A%20%3C/strong%3E8063%3C/li%3E%20%20%20%20%20%20%20%20%20%20%20%20%20%3Cli%3E%3Cstrong%3ESource%3A%20%3C/strong%3Enan%3C/li%3E%20%20%20%20%20%20%20%20%20%20%20%20%20%3Cli%3E%3Cstrong%3EName%3A%20%3C/strong%3EBartolomeo%20di%20Francesco%20d%27%20Arezzo%3C/li%3E%20%20%20%20%20%20%20%20%20%3Cul%3E%20%20%20%20%20%3C/div%3E%60%29%5B0%5D%3B%0A%20%20%20%20%20%20%20%20%20%20%20%20popup_77b6439e46fc42e986cf01aa2e419809.setContent%28html_4d9d226dee624aa6848f46781f96755e%29%3B%0A%20%20%20%20%20%20%20%20%0A%0A%20%20%20%20%20%20%20%20marker_f5ed3a20e7fa4462ada4e8899d575dec.bindPopup%28popup_77b6439e46fc42e986cf01aa2e419809%29%0A%20%20%20%20%20%20%20%20%3B%0A%0A%20%20%20%20%20%20%20%20%0A%20%20%20%20%0A%20%20%20%20%0A%20%20%20%20%20%20%20%20%20%20%20%20var%20marker_fe02c3596d7449be97291d7a6a2f1753%20%3D%20L.marker%28%0A%20%20%20%20%20%20%20%20%20%20%20%20%20%20%20%20%5B43.763872%2C%2011.245746%5D%2C%0A%20%20%20%20%20%20%20%20%20%20%20%20%20%20%20%20%7B%7D%0A%20%20%20%20%20%20%20%20%20%20%20%20%29.addTo%28map_b98b389f61064b299c4cde471c85a0fb%29%3B%0A%20%20%20%20%20%20%20%20%0A%20%20%20%20%0A%20%20%20%20%20%20%20%20var%20popup_1e135c484c3b47c798e0c6968186fff8%20%3D%20L.popup%28%7B%22maxWidth%22%3A%20%22100%25%22%7D%29%3B%0A%0A%20%20%20%20%20%20%20%20%0A%20%20%20%20%20%20%20%20%20%20%20%20var%20html_22c100288eff4d21a7e7b10b1d78dd5b%20%3D%20%24%28%60%3Cdiv%20id%3D%22html_22c100288eff4d21a7e7b10b1d78dd5b%22%20style%3D%22width%3A%20100.0%25%3B%20height%3A%20100.0%25%3B%22%3E%20%20%20%20%20%20%20%20%20%3Cul%3E%20%20%20%20%20%20%20%20%20%20%20%20%20%3Cli%3E%3Cstrong%3EID%3A%20%3C/strong%3E7160%3C/li%3E%20%20%20%20%20%20%20%20%20%20%20%20%20%3Cli%3E%3Cstrong%3ESource%3A%20%3C/strong%3EHenderson%20P%26C%20%2313%3C/li%3E%20%20%20%20%20%20%20%20%20%20%20%20%20%3Cli%3E%3Cstrong%3EName%3A%20%3C/strong%3EAgnolo%20d%27%20Andrea%20da%20Mantozia%3C/li%3E%20%20%20%20%20%20%20%20%20%3Cul%3E%20%20%20%20%20%3C/div%3E%60%29%5B0%5D%3B%0A%20%20%20%20%20%20%20%20%20%20%20%20popup_1e135c484c3b47c798e0c6968186fff8.setContent%28html_22c100288eff4d21a7e7b10b1d78dd5b%29%3B%0A%20%20%20%20%20%20%20%20%0A%0A%20%20%20%20%20%20%20%20marker_fe02c3596d7449be97291d7a6a2f1753.bindPopup%28popup_1e135c484c3b47c798e0c6968186fff8%29%0A%20%20%20%20%20%20%20%20%3B%0A%0A%20%20%20%20%20%20%20%20%0A%20%20%20%20%0A%20%20%20%20%0A%20%20%20%20%20%20%20%20%20%20%20%20var%20marker_98d876b527ac4a61b76824694733f6ae%20%3D%20L.marker%28%0A%20%20%20%20%20%20%20%20%20%20%20%20%20%20%20%20%5B43.76521889%2C%2011.24484333%5D%2C%0A%20%20%20%20%20%20%20%20%20%20%20%20%20%20%20%20%7B%7D%0A%20%20%20%20%20%20%20%20%20%20%20%20%29.addTo%28map_b98b389f61064b299c4cde471c85a0fb%29%3B%0A%20%20%20%20%20%20%20%20%0A%20%20%20%20%0A%20%20%20%20%20%20%20%20var%20popup_307eba8f0fc340c2916b662d1061d045%20%3D%20L.popup%28%7B%22maxWidth%22%3A%20%22100%25%22%7D%29%3B%0A%0A%20%20%20%20%20%20%20%20%0A%20%20%20%20%20%20%20%20%20%20%20%20var%20html_0168d0434c2342b1a364fc1bc08cf886%20%3D%20%24%28%60%3Cdiv%20id%3D%22html_0168d0434c2342b1a364fc1bc08cf886%22%20style%3D%22width%3A%20100.0%25%3B%20height%3A%20100.0%25%3B%22%3E%20%20%20%20%20%20%20%20%20%3Cul%3E%20%20%20%20%20%20%20%20%20%20%20%20%20%3Cli%3E%3Cstrong%3EID%3A%20%3C/strong%3E7322%3C/li%3E%20%20%20%20%20%20%20%20%20%20%20%20%20%3Cli%3E%3Cstrong%3ESource%3A%20%3C/strong%3EHenderson%20P%26C%20%2313%3C/li%3E%20%20%20%20%20%20%20%20%20%20%20%20%20%3Cli%3E%3Cstrong%3EName%3A%20%3C/strong%3EGiovanni%20Ormanni%20rividitore%3C/li%3E%20%20%20%20%20%20%20%20%20%3Cul%3E%20%20%20%20%20%3C/div%3E%60%29%5B0%5D%3B%0A%20%20%20%20%20%20%20%20%20%20%20%20popup_307eba8f0fc340c2916b662d1061d045.setContent%28html_0168d0434c2342b1a364fc1bc08cf886%29%3B%0A%20%20%20%20%20%20%20%20%0A%0A%20%20%20%20%20%20%20%20marker_98d876b527ac4a61b76824694733f6ae.bindPopup%28popup_307eba8f0fc340c2916b662d1061d045%29%0A%20%20%20%20%20%20%20%20%3B%0A%0A%20%20%20%20%20%20%20%20%0A%20%20%20%20%0A%20%20%20%20%0A%20%20%20%20%20%20%20%20%20%20%20%20var%20marker_9c0854efe7644e3395aef5486b2a141d%20%3D%20L.marker%28%0A%20%20%20%20%20%20%20%20%20%20%20%20%20%20%20%20%5B43.76386563%2C%2011.26206188%5D%2C%0A%20%20%20%20%20%20%20%20%20%20%20%20%20%20%20%20%7B%7D%0A%20%20%20%20%20%20%20%20%20%20%20%20%29.addTo%28map_b98b389f61064b299c4cde471c85a0fb%29%3B%0A%20%20%20%20%20%20%20%20%0A%20%20%20%20%0A%20%20%20%20%20%20%20%20var%20popup_0bcddac1f9db475690ef9efa203e165e%20%3D%20L.popup%28%7B%22maxWidth%22%3A%20%22100%25%22%7D%29%3B%0A%0A%20%20%20%20%20%20%20%20%0A%20%20%20%20%20%20%20%20%20%20%20%20var%20html_99cb59dee77f43168aa9c2e444b73783%20%3D%20%24%28%60%3Cdiv%20id%3D%22html_99cb59dee77f43168aa9c2e444b73783%22%20style%3D%22width%3A%20100.0%25%3B%20height%3A%20100.0%25%3B%22%3E%20%20%20%20%20%20%20%20%20%3Cul%3E%20%20%20%20%20%20%20%20%20%20%20%20%20%3Cli%3E%3Cstrong%3EID%3A%20%3C/strong%3E6161%3C/li%3E%20%20%20%20%20%20%20%20%20%20%20%20%20%3Cli%3E%3Cstrong%3ESource%3A%20%3C/strong%3EHenderson%20P%26C%20%2313%3C/li%3E%20%20%20%20%20%20%20%20%20%20%20%20%20%3Cli%3E%3Cstrong%3EName%3A%20%3C/strong%3EAntonio%20di%20Domenico%20Palanti%3C/li%3E%20%20%20%20%20%20%20%20%20%3Cul%3E%20%20%20%20%20%3C/div%3E%60%29%5B0%5D%3B%0A%20%20%20%20%20%20%20%20%20%20%20%20popup_0bcddac1f9db475690ef9efa203e165e.setContent%28html_99cb59dee77f43168aa9c2e444b73783%29%3B%0A%20%20%20%20%20%20%20%20%0A%0A%20%20%20%20%20%20%20%20marker_9c0854efe7644e3395aef5486b2a141d.bindPopup%28popup_0bcddac1f9db475690ef9efa203e165e%29%0A%20%20%20%20%20%20%20%20%3B%0A%0A%20%20%20%20%20%20%20%20%0A%20%20%20%20%0A%20%20%20%20%0A%20%20%20%20%20%20%20%20%20%20%20%20var%20marker_dc533eeecdcb4491a6738cddcc06e6ec%20%3D%20L.marker%28%0A%20%20%20%20%20%20%20%20%20%20%20%20%20%20%20%20%5B43.78036243%2C%2011.25901252%5D%2C%0A%20%20%20%20%20%20%20%20%20%20%20%20%20%20%20%20%7B%7D%0A%20%20%20%20%20%20%20%20%20%20%20%20%29.addTo%28map_b98b389f61064b299c4cde471c85a0fb%29%3B%0A%20%20%20%20%20%20%20%20%0A%20%20%20%20%0A%20%20%20%20%20%20%20%20var%20popup_4566fe8b86c04daaac9384a48558dbe3%20%3D%20L.popup%28%7B%22maxWidth%22%3A%20%22100%25%22%7D%29%3B%0A%0A%20%20%20%20%20%20%20%20%0A%20%20%20%20%20%20%20%20%20%20%20%20var%20html_9119f8b699da4f04b160fc248288c512%20%3D%20%24%28%60%3Cdiv%20id%3D%22html_9119f8b699da4f04b160fc248288c512%22%20style%3D%22width%3A%20100.0%25%3B%20height%3A%20100.0%25%3B%22%3E%20%20%20%20%20%20%20%20%20%3Cul%3E%20%20%20%20%20%20%20%20%20%20%20%20%20%3Cli%3E%3Cstrong%3EID%3A%20%3C/strong%3E1203%3C/li%3E%20%20%20%20%20%20%20%20%20%20%20%20%20%3Cli%3E%3Cstrong%3ESource%3A%20%3C/strong%3Enan%3C/li%3E%20%20%20%20%20%20%20%20%20%20%20%20%20%3Cli%3E%3Cstrong%3EName%3A%20%3C/strong%3ELucca%20di%20Stefano%20dal%20Borgo%20a%20S.%20Lorenzo%2C%20calzolaio%3C/li%3E%20%20%20%20%20%20%20%20%20%3Cul%3E%20%20%20%20%20%3C/div%3E%60%29%5B0%5D%3B%0A%20%20%20%20%20%20%20%20%20%20%20%20popup_4566fe8b86c04daaac9384a48558dbe3.setContent%28html_9119f8b699da4f04b160fc248288c512%29%3B%0A%20%20%20%20%20%20%20%20%0A%0A%20%20%20%20%20%20%20%20marker_dc533eeecdcb4491a6738cddcc06e6ec.bindPopup%28popup_4566fe8b86c04daaac9384a48558dbe3%29%0A%20%20%20%20%20%20%20%20%3B%0A%0A%20%20%20%20%20%20%20%20%0A%20%20%20%20%0A%20%20%20%20%0A%20%20%20%20%20%20%20%20%20%20%20%20var%20marker_d5306df2f38344d0b8888fa5f8226b3c%20%3D%20L.marker%28%0A%20%20%20%20%20%20%20%20%20%20%20%20%20%20%20%20%5B43.77592314%2C%2011.24932725%5D%2C%0A%20%20%20%20%20%20%20%20%20%20%20%20%20%20%20%20%7B%7D%0A%20%20%20%20%20%20%20%20%20%20%20%20%29.addTo%28map_b98b389f61064b299c4cde471c85a0fb%29%3B%0A%20%20%20%20%20%20%20%20%0A%20%20%20%20%0A%20%20%20%20%20%20%20%20var%20popup_0e7cccdcbcbe4cba84bb9302f25d8d7d%20%3D%20L.popup%28%7B%22maxWidth%22%3A%20%22100%25%22%7D%29%3B%0A%0A%20%20%20%20%20%20%20%20%0A%20%20%20%20%20%20%20%20%20%20%20%20var%20html_4eee89173b43468a81e5b195d0e64d03%20%3D%20%24%28%60%3Cdiv%20id%3D%22html_4eee89173b43468a81e5b195d0e64d03%22%20style%3D%22width%3A%20100.0%25%3B%20height%3A%20100.0%25%3B%22%3E%20%20%20%20%20%20%20%20%20%3Cul%3E%20%20%20%20%20%20%20%20%20%20%20%20%20%3Cli%3E%3Cstrong%3EID%3A%20%3C/strong%3E4441%3C/li%3E%20%20%20%20%20%20%20%20%20%20%20%20%20%3Cli%3E%3Cstrong%3ESource%3A%20%3C/strong%3Enan%3C/li%3E%20%20%20%20%20%20%20%20%20%20%20%20%20%3Cli%3E%3Cstrong%3EName%3A%20%3C/strong%3EGirolamo%20di%20Bencio%20Benci%3C/li%3E%20%20%20%20%20%20%20%20%20%3Cul%3E%20%20%20%20%20%3C/div%3E%60%29%5B0%5D%3B%0A%20%20%20%20%20%20%20%20%20%20%20%20popup_0e7cccdcbcbe4cba84bb9302f25d8d7d.setContent%28html_4eee89173b43468a81e5b195d0e64d03%29%3B%0A%20%20%20%20%20%20%20%20%0A%0A%20%20%20%20%20%20%20%20marker_d5306df2f38344d0b8888fa5f8226b3c.bindPopup%28popup_0e7cccdcbcbe4cba84bb9302f25d8d7d%29%0A%20%20%20%20%20%20%20%20%3B%0A%0A%20%20%20%20%20%20%20%20%0A%20%20%20%20%0A%20%20%20%20%0A%20%20%20%20%20%20%20%20%20%20%20%20var%20marker_8ced4be43a9642fb800de17a437c9429%20%3D%20L.marker%28%0A%20%20%20%20%20%20%20%20%20%20%20%20%20%20%20%20%5B43.77368155%2C%2011.26281945%5D%2C%0A%20%20%20%20%20%20%20%20%20%20%20%20%20%20%20%20%7B%7D%0A%20%20%20%20%20%20%20%20%20%20%20%20%29.addTo%28map_b98b389f61064b299c4cde471c85a0fb%29%3B%0A%20%20%20%20%20%20%20%20%0A%20%20%20%20%0A%20%20%20%20%20%20%20%20var%20popup_ace7f5af31274d0da26db0935005cb6e%20%3D%20L.popup%28%7B%22maxWidth%22%3A%20%22100%25%22%7D%29%3B%0A%0A%20%20%20%20%20%20%20%20%0A%20%20%20%20%20%20%20%20%20%20%20%20var%20html_f09799ffed5e44b8b3e8da43281edbe3%20%3D%20%24%28%60%3Cdiv%20id%3D%22html_f09799ffed5e44b8b3e8da43281edbe3%22%20style%3D%22width%3A%20100.0%25%3B%20height%3A%20100.0%25%3B%22%3E%20%20%20%20%20%20%20%20%20%3Cul%3E%20%20%20%20%20%20%20%20%20%20%20%20%20%3Cli%3E%3Cstrong%3EID%3A%20%3C/strong%3E2088%3C/li%3E%20%20%20%20%20%20%20%20%20%20%20%20%20%3Cli%3E%3Cstrong%3ESource%3A%20%3C/strong%3Enan%3C/li%3E%20%20%20%20%20%20%20%20%20%20%20%20%20%3Cli%3E%3Cstrong%3EName%3A%20%3C/strong%3EGiovangualberto%20di%20Jacopo%2C%20tessitore%3C/li%3E%20%20%20%20%20%20%20%20%20%3Cul%3E%20%20%20%20%20%3C/div%3E%60%29%5B0%5D%3B%0A%20%20%20%20%20%20%20%20%20%20%20%20popup_ace7f5af31274d0da26db0935005cb6e.setContent%28html_f09799ffed5e44b8b3e8da43281edbe3%29%3B%0A%20%20%20%20%20%20%20%20%0A%0A%20%20%20%20%20%20%20%20marker_8ced4be43a9642fb800de17a437c9429.bindPopup%28popup_ace7f5af31274d0da26db0935005cb6e%29%0A%20%20%20%20%20%20%20%20%3B%0A%0A%20%20%20%20%20%20%20%20%0A%20%20%20%20%0A%20%20%20%20%0A%20%20%20%20%20%20%20%20%20%20%20%20var%20marker_3767371524f1460dbacda0b59f9956ed%20%3D%20L.marker%28%0A%20%20%20%20%20%20%20%20%20%20%20%20%20%20%20%20%5B43.76489%2C%2011.244635%5D%2C%0A%20%20%20%20%20%20%20%20%20%20%20%20%20%20%20%20%7B%7D%0A%20%20%20%20%20%20%20%20%20%20%20%20%29.addTo%28map_b98b389f61064b299c4cde471c85a0fb%29%3B%0A%20%20%20%20%20%20%20%20%0A%20%20%20%20%0A%20%20%20%20%20%20%20%20var%20popup_b40dd5a1f6564986aa0a2e18e91f68cf%20%3D%20L.popup%28%7B%22maxWidth%22%3A%20%22100%25%22%7D%29%3B%0A%0A%20%20%20%20%20%20%20%20%0A%20%20%20%20%20%20%20%20%20%20%20%20var%20html_8840bc2770ea42049a1fdbdd986d17f5%20%3D%20%24%28%60%3Cdiv%20id%3D%22html_8840bc2770ea42049a1fdbdd986d17f5%22%20style%3D%22width%3A%20100.0%25%3B%20height%3A%20100.0%25%3B%22%3E%20%20%20%20%20%20%20%20%20%3Cul%3E%20%20%20%20%20%20%20%20%20%20%20%20%20%3Cli%3E%3Cstrong%3EID%3A%20%3C/strong%3E7389%3C/li%3E%20%20%20%20%20%20%20%20%20%20%20%20%20%3Cli%3E%3Cstrong%3ESource%3A%20%3C/strong%3EHenderson%20P%26C%20%23110%3C/li%3E%20%20%20%20%20%20%20%20%20%20%20%20%20%3Cli%3E%3Cstrong%3EName%3A%20%3C/strong%3EPiero%20di%20Bastiano%20pettinagnolo%3C/li%3E%20%20%20%20%20%20%20%20%20%3Cul%3E%20%20%20%20%20%3C/div%3E%60%29%5B0%5D%3B%0A%20%20%20%20%20%20%20%20%20%20%20%20popup_b40dd5a1f6564986aa0a2e18e91f68cf.setContent%28html_8840bc2770ea42049a1fdbdd986d17f5%29%3B%0A%20%20%20%20%20%20%20%20%0A%0A%20%20%20%20%20%20%20%20marker_3767371524f1460dbacda0b59f9956ed.bindPopup%28popup_b40dd5a1f6564986aa0a2e18e91f68cf%29%0A%20%20%20%20%20%20%20%20%3B%0A%0A%20%20%20%20%20%20%20%20%0A%20%20%20%20%0A%20%20%20%20%0A%20%20%20%20%20%20%20%20%20%20%20%20var%20marker_1a5eb7916c2c464cba86e54575c3a5b1%20%3D%20L.marker%28%0A%20%20%20%20%20%20%20%20%20%20%20%20%20%20%20%20%5B43.76512667%2C%2011.24469333%5D%2C%0A%20%20%20%20%20%20%20%20%20%20%20%20%20%20%20%20%7B%7D%0A%20%20%20%20%20%20%20%20%20%20%20%20%29.addTo%28map_b98b389f61064b299c4cde471c85a0fb%29%3B%0A%20%20%20%20%20%20%20%20%0A%20%20%20%20%0A%20%20%20%20%20%20%20%20var%20popup_d6ab6a3633464f66b18b9929e21bbf59%20%3D%20L.popup%28%7B%22maxWidth%22%3A%20%22100%25%22%7D%29%3B%0A%0A%20%20%20%20%20%20%20%20%0A%20%20%20%20%20%20%20%20%20%20%20%20var%20html_95840c9540b84a27a3a61d211e195e52%20%3D%20%24%28%60%3Cdiv%20id%3D%22html_95840c9540b84a27a3a61d211e195e52%22%20style%3D%22width%3A%20100.0%25%3B%20height%3A%20100.0%25%3B%22%3E%20%20%20%20%20%20%20%20%20%3Cul%3E%20%20%20%20%20%20%20%20%20%20%20%20%20%3Cli%3E%3Cstrong%3EID%3A%20%3C/strong%3E7447%3C/li%3E%20%20%20%20%20%20%20%20%20%20%20%20%20%3Cli%3E%3Cstrong%3ESource%3A%20%3C/strong%3EHenderson%20P%26C%20%23110%3C/li%3E%20%20%20%20%20%20%20%20%20%20%20%20%20%3Cli%3E%3Cstrong%3EName%3A%20%3C/strong%3E.%20.%20.%20%20tessitore%20de%20broccati%3C/li%3E%20%20%20%20%20%20%20%20%20%3Cul%3E%20%20%20%20%20%3C/div%3E%60%29%5B0%5D%3B%0A%20%20%20%20%20%20%20%20%20%20%20%20popup_d6ab6a3633464f66b18b9929e21bbf59.setContent%28html_95840c9540b84a27a3a61d211e195e52%29%3B%0A%20%20%20%20%20%20%20%20%0A%0A%20%20%20%20%20%20%20%20marker_1a5eb7916c2c464cba86e54575c3a5b1.bindPopup%28popup_d6ab6a3633464f66b18b9929e21bbf59%29%0A%20%20%20%20%20%20%20%20%3B%0A%0A%20%20%20%20%20%20%20%20%0A%20%20%20%20%0A%20%20%20%20%0A%20%20%20%20%20%20%20%20%20%20%20%20var%20marker_4ea2f87fe452434a9b85901cb80413cb%20%3D%20L.marker%28%0A%20%20%20%20%20%20%20%20%20%20%20%20%20%20%20%20%5B43.767224%2C%2011.2454736%5D%2C%0A%20%20%20%20%20%20%20%20%20%20%20%20%20%20%20%20%7B%7D%0A%20%20%20%20%20%20%20%20%20%20%20%20%29.addTo%28map_b98b389f61064b299c4cde471c85a0fb%29%3B%0A%20%20%20%20%20%20%20%20%0A%20%20%20%20%0A%20%20%20%20%20%20%20%20var%20popup_85a70043f9a94e7a8a91c784ac86c90f%20%3D%20L.popup%28%7B%22maxWidth%22%3A%20%22100%25%22%7D%29%3B%0A%0A%20%20%20%20%20%20%20%20%0A%20%20%20%20%20%20%20%20%20%20%20%20var%20html_49e9782cce294906ad18b2a1f834dded%20%3D%20%24%28%60%3Cdiv%20id%3D%22html_49e9782cce294906ad18b2a1f834dded%22%20style%3D%22width%3A%20100.0%25%3B%20height%3A%20100.0%25%3B%22%3E%20%20%20%20%20%20%20%20%20%3Cul%3E%20%20%20%20%20%20%20%20%20%20%20%20%20%3Cli%3E%3Cstrong%3EID%3A%20%3C/strong%3E7555%3C/li%3E%20%20%20%20%20%20%20%20%20%20%20%20%20%3Cli%3E%3Cstrong%3ESource%3A%20%3C/strong%3EHenderson%20P%26C%20%23110%3C/li%3E%20%20%20%20%20%20%20%20%20%20%20%20%20%3Cli%3E%3Cstrong%3EName%3A%20%3C/strong%3EBernardo%20d%27%20Antonio%20Mazzochi%3C/li%3E%20%20%20%20%20%20%20%20%20%3Cul%3E%20%20%20%20%20%3C/div%3E%60%29%5B0%5D%3B%0A%20%20%20%20%20%20%20%20%20%20%20%20popup_85a70043f9a94e7a8a91c784ac86c90f.setContent%28html_49e9782cce294906ad18b2a1f834dded%29%3B%0A%20%20%20%20%20%20%20%20%0A%0A%20%20%20%20%20%20%20%20marker_4ea2f87fe452434a9b85901cb80413cb.bindPopup%28popup_85a70043f9a94e7a8a91c784ac86c90f%29%0A%20%20%20%20%20%20%20%20%3B%0A%0A%20%20%20%20%20%20%20%20%0A%20%20%20%20%0A%20%20%20%20%0A%20%20%20%20%20%20%20%20%20%20%20%20var%20marker_94b9baffc15f46baa6940506810e2e4a%20%3D%20L.marker%28%0A%20%20%20%20%20%20%20%20%20%20%20%20%20%20%20%20%5B43.76836733%2C%2011.26484133%5D%2C%0A%20%20%20%20%20%20%20%20%20%20%20%20%20%20%20%20%7B%7D%0A%20%20%20%20%20%20%20%20%20%20%20%20%29.addTo%28map_b98b389f61064b299c4cde471c85a0fb%29%3B%0A%20%20%20%20%20%20%20%20%0A%20%20%20%20%0A%20%20%20%20%20%20%20%20var%20popup_dac79c718c6e4e01920db316e076eba1%20%3D%20L.popup%28%7B%22maxWidth%22%3A%20%22100%25%22%7D%29%3B%0A%0A%20%20%20%20%20%20%20%20%0A%20%20%20%20%20%20%20%20%20%20%20%20var%20html_c417c04e519b4c6ba6eab9bfb624d8c4%20%3D%20%24%28%60%3Cdiv%20id%3D%22html_c417c04e519b4c6ba6eab9bfb624d8c4%22%20style%3D%22width%3A%20100.0%25%3B%20height%3A%20100.0%25%3B%22%3E%20%20%20%20%20%20%20%20%20%3Cul%3E%20%20%20%20%20%20%20%20%20%20%20%20%20%3Cli%3E%3Cstrong%3EID%3A%20%3C/strong%3E3069%3C/li%3E%20%20%20%20%20%20%20%20%20%20%20%20%20%3Cli%3E%3Cstrong%3ESource%3A%20%3C/strong%3EHenderson%20P%26C%20%23102%3C/li%3E%20%20%20%20%20%20%20%20%20%20%20%20%20%3Cli%3E%3Cstrong%3EName%3A%20%3C/strong%3Enan%3C/li%3E%20%20%20%20%20%20%20%20%20%3Cul%3E%20%20%20%20%20%3C/div%3E%60%29%5B0%5D%3B%0A%20%20%20%20%20%20%20%20%20%20%20%20popup_dac79c718c6e4e01920db316e076eba1.setContent%28html_c417c04e519b4c6ba6eab9bfb624d8c4%29%3B%0A%20%20%20%20%20%20%20%20%0A%0A%20%20%20%20%20%20%20%20marker_94b9baffc15f46baa6940506810e2e4a.bindPopup%28popup_dac79c718c6e4e01920db316e076eba1%29%0A%20%20%20%20%20%20%20%20%3B%0A%0A%20%20%20%20%20%20%20%20%0A%20%20%20%20%0A%20%20%20%20%0A%20%20%20%20%20%20%20%20%20%20%20%20var%20marker_7ed77f9518cd43308f268c84f3329ec1%20%3D%20L.marker%28%0A%20%20%20%20%20%20%20%20%20%20%20%20%20%20%20%20%5B43.76945%2C%2011.26547%5D%2C%0A%20%20%20%20%20%20%20%20%20%20%20%20%20%20%20%20%7B%7D%0A%20%20%20%20%20%20%20%20%20%20%20%20%29.addTo%28map_b98b389f61064b299c4cde471c85a0fb%29%3B%0A%20%20%20%20%20%20%20%20%0A%20%20%20%20%0A%20%20%20%20%20%20%20%20var%20popup_0e956075ebc448eca0680881cf4320e8%20%3D%20L.popup%28%7B%22maxWidth%22%3A%20%22100%25%22%7D%29%3B%0A%0A%20%20%20%20%20%20%20%20%0A%20%20%20%20%20%20%20%20%20%20%20%20var%20html_b0466583239649a784905c2b76904abf%20%3D%20%24%28%60%3Cdiv%20id%3D%22html_b0466583239649a784905c2b76904abf%22%20style%3D%22width%3A%20100.0%25%3B%20height%3A%20100.0%25%3B%22%3E%20%20%20%20%20%20%20%20%20%3Cul%3E%20%20%20%20%20%20%20%20%20%20%20%20%20%3Cli%3E%3Cstrong%3EID%3A%20%3C/strong%3E3071%3C/li%3E%20%20%20%20%20%20%20%20%20%20%20%20%20%3Cli%3E%3Cstrong%3ESource%3A%20%3C/strong%3EHenderson%20P%26C%20%23102%3C/li%3E%20%20%20%20%20%20%20%20%20%20%20%20%20%3Cli%3E%3Cstrong%3EName%3A%20%3C/strong%3ERomulo%20di%20Giovanni%2C%20beccaio%3C/li%3E%20%20%20%20%20%20%20%20%20%3Cul%3E%20%20%20%20%20%3C/div%3E%60%29%5B0%5D%3B%0A%20%20%20%20%20%20%20%20%20%20%20%20popup_0e956075ebc448eca0680881cf4320e8.setContent%28html_b0466583239649a784905c2b76904abf%29%3B%0A%20%20%20%20%20%20%20%20%0A%0A%20%20%20%20%20%20%20%20marker_7ed77f9518cd43308f268c84f3329ec1.bindPopup%28popup_0e956075ebc448eca0680881cf4320e8%29%0A%20%20%20%20%20%20%20%20%3B%0A%0A%20%20%20%20%20%20%20%20%0A%20%20%20%20%0A%20%20%20%20%0A%20%20%20%20%20%20%20%20%20%20%20%20var%20marker_b91198857bbc435ba3fd6f10ed8e4c69%20%3D%20L.marker%28%0A%20%20%20%20%20%20%20%20%20%20%20%20%20%20%20%20%5B43.76851667%2C%2011.26492667%5D%2C%0A%20%20%20%20%20%20%20%20%20%20%20%20%20%20%20%20%7B%7D%0A%20%20%20%20%20%20%20%20%20%20%20%20%29.addTo%28map_b98b389f61064b299c4cde471c85a0fb%29%3B%0A%20%20%20%20%20%20%20%20%0A%20%20%20%20%0A%20%20%20%20%20%20%20%20var%20popup_0034e4c231964b37adc13bf31bf15ca5%20%3D%20L.popup%28%7B%22maxWidth%22%3A%20%22100%25%22%7D%29%3B%0A%0A%20%20%20%20%20%20%20%20%0A%20%20%20%20%20%20%20%20%20%20%20%20var%20html_930151795cbb4655a46794564407bc25%20%3D%20%24%28%60%3Cdiv%20id%3D%22html_930151795cbb4655a46794564407bc25%22%20style%3D%22width%3A%20100.0%25%3B%20height%3A%20100.0%25%3B%22%3E%20%20%20%20%20%20%20%20%20%3Cul%3E%20%20%20%20%20%20%20%20%20%20%20%20%20%3Cli%3E%3Cstrong%3EID%3A%20%3C/strong%3E3155%3C/li%3E%20%20%20%20%20%20%20%20%20%20%20%20%20%3Cli%3E%3Cstrong%3ESource%3A%20%3C/strong%3EHenderson%20P%26C%20%23102%3C/li%3E%20%20%20%20%20%20%20%20%20%20%20%20%20%3Cli%3E%3Cstrong%3EName%3A%20%3C/strong%3EBartolomeo%2C%20servo%20della%20compagnia%2C%20detta%20senza%20pigione%3C/li%3E%20%20%20%20%20%20%20%20%20%3Cul%3E%20%20%20%20%20%3C/div%3E%60%29%5B0%5D%3B%0A%20%20%20%20%20%20%20%20%20%20%20%20popup_0034e4c231964b37adc13bf31bf15ca5.setContent%28html_930151795cbb4655a46794564407bc25%29%3B%0A%20%20%20%20%20%20%20%20%0A%0A%20%20%20%20%20%20%20%20marker_b91198857bbc435ba3fd6f10ed8e4c69.bindPopup%28popup_0034e4c231964b37adc13bf31bf15ca5%29%0A%20%20%20%20%20%20%20%20%3B%0A%0A%20%20%20%20%20%20%20%20%0A%20%20%20%20%0A%20%20%20%20%0A%20%20%20%20%20%20%20%20%20%20%20%20var%20marker_5881828f683443418b53b836eddb85d5%20%3D%20L.marker%28%0A%20%20%20%20%20%20%20%20%20%20%20%20%20%20%20%20%5B43.768442%2C%2011.264884%5D%2C%0A%20%20%20%20%20%20%20%20%20%20%20%20%20%20%20%20%7B%7D%0A%20%20%20%20%20%20%20%20%20%20%20%20%29.addTo%28map_b98b389f61064b299c4cde471c85a0fb%29%3B%0A%20%20%20%20%20%20%20%20%0A%20%20%20%20%0A%20%20%20%20%20%20%20%20var%20popup_dadf363aef8843ffbe7944a1139025e1%20%3D%20L.popup%28%7B%22maxWidth%22%3A%20%22100%25%22%7D%29%3B%0A%0A%20%20%20%20%20%20%20%20%0A%20%20%20%20%20%20%20%20%20%20%20%20var%20html_8ceb384af3334e13bc133742b3a259b0%20%3D%20%24%28%60%3Cdiv%20id%3D%22html_8ceb384af3334e13bc133742b3a259b0%22%20style%3D%22width%3A%20100.0%25%3B%20height%3A%20100.0%25%3B%22%3E%20%20%20%20%20%20%20%20%20%3Cul%3E%20%20%20%20%20%20%20%20%20%20%20%20%20%3Cli%3E%3Cstrong%3EID%3A%20%3C/strong%3E3156%3C/li%3E%20%20%20%20%20%20%20%20%20%20%20%20%20%3Cli%3E%3Cstrong%3ESource%3A%20%3C/strong%3EHenderson%20P%26C%20%23102%3C/li%3E%20%20%20%20%20%20%20%20%20%20%20%20%20%3Cli%3E%3Cstrong%3EName%3A%20%3C/strong%3Enan%3C/li%3E%20%20%20%20%20%20%20%20%20%3Cul%3E%20%20%20%20%20%3C/div%3E%60%29%5B0%5D%3B%0A%20%20%20%20%20%20%20%20%20%20%20%20popup_dadf363aef8843ffbe7944a1139025e1.setContent%28html_8ceb384af3334e13bc133742b3a259b0%29%3B%0A%20%20%20%20%20%20%20%20%0A%0A%20%20%20%20%20%20%20%20marker_5881828f683443418b53b836eddb85d5.bindPopup%28popup_dadf363aef8843ffbe7944a1139025e1%29%0A%20%20%20%20%20%20%20%20%3B%0A%0A%20%20%20%20%20%20%20%20%0A%20%20%20%20%0A%20%20%20%20%0A%20%20%20%20%20%20%20%20%20%20%20%20var%20marker_124403c6aa3c46db8f2c03aefb1213d6%20%3D%20L.marker%28%0A%20%20%20%20%20%20%20%20%20%20%20%20%20%20%20%20%5B43.76833%2C%2011.26482%5D%2C%0A%20%20%20%20%20%20%20%20%20%20%20%20%20%20%20%20%7B%7D%0A%20%20%20%20%20%20%20%20%20%20%20%20%29.addTo%28map_b98b389f61064b299c4cde471c85a0fb%29%3B%0A%20%20%20%20%20%20%20%20%0A%20%20%20%20%0A%20%20%20%20%20%20%20%20var%20popup_56319df9795346c4be189ec0dae75786%20%3D%20L.popup%28%7B%22maxWidth%22%3A%20%22100%25%22%7D%29%3B%0A%0A%20%20%20%20%20%20%20%20%0A%20%20%20%20%20%20%20%20%20%20%20%20var%20html_f8a98c92efbb42a291be3ba74f45fead%20%3D%20%24%28%60%3Cdiv%20id%3D%22html_f8a98c92efbb42a291be3ba74f45fead%22%20style%3D%22width%3A%20100.0%25%3B%20height%3A%20100.0%25%3B%22%3E%20%20%20%20%20%20%20%20%20%3Cul%3E%20%20%20%20%20%20%20%20%20%20%20%20%20%3Cli%3E%3Cstrong%3EID%3A%20%3C/strong%3E3157%3C/li%3E%20%20%20%20%20%20%20%20%20%20%20%20%20%3Cli%3E%3Cstrong%3ESource%3A%20%3C/strong%3EHenderson%20P%26C%20%23102%3C/li%3E%20%20%20%20%20%20%20%20%20%20%20%20%20%3Cli%3E%3Cstrong%3EName%3A%20%3C/strong%3Enan%3C/li%3E%20%20%20%20%20%20%20%20%20%3Cul%3E%20%20%20%20%20%3C/div%3E%60%29%5B0%5D%3B%0A%20%20%20%20%20%20%20%20%20%20%20%20popup_56319df9795346c4be189ec0dae75786.setContent%28html_f8a98c92efbb42a291be3ba74f45fead%29%3B%0A%20%20%20%20%20%20%20%20%0A%0A%20%20%20%20%20%20%20%20marker_124403c6aa3c46db8f2c03aefb1213d6.bindPopup%28popup_56319df9795346c4be189ec0dae75786%29%0A%20%20%20%20%20%20%20%20%3B%0A%0A%20%20%20%20%20%20%20%20%0A%20%20%20%20%0A%20%20%20%20%0A%20%20%20%20%20%20%20%20%20%20%20%20var%20marker_510ae41f66a34cdc9d9ad8b72d1e7b8f%20%3D%20L.marker%28%0A%20%20%20%20%20%20%20%20%20%20%20%20%20%20%20%20%5B43.76821%2C%2011.26524%5D%2C%0A%20%20%20%20%20%20%20%20%20%20%20%20%20%20%20%20%7B%7D%0A%20%20%20%20%20%20%20%20%20%20%20%20%29.addTo%28map_b98b389f61064b299c4cde471c85a0fb%29%3B%0A%20%20%20%20%20%20%20%20%0A%20%20%20%20%0A%20%20%20%20%20%20%20%20var%20popup_1a1a607e7f454146a8948e1864bfc906%20%3D%20L.popup%28%7B%22maxWidth%22%3A%20%22100%25%22%7D%29%3B%0A%0A%20%20%20%20%20%20%20%20%0A%20%20%20%20%20%20%20%20%20%20%20%20var%20html_ec73a13841e742d9ba0db49c27d5ba5e%20%3D%20%24%28%60%3Cdiv%20id%3D%22html_ec73a13841e742d9ba0db49c27d5ba5e%22%20style%3D%22width%3A%20100.0%25%3B%20height%3A%20100.0%25%3B%22%3E%20%20%20%20%20%20%20%20%20%3Cul%3E%20%20%20%20%20%20%20%20%20%20%20%20%20%3Cli%3E%3Cstrong%3EID%3A%20%3C/strong%3E3158%3C/li%3E%20%20%20%20%20%20%20%20%20%20%20%20%20%3Cli%3E%3Cstrong%3ESource%3A%20%3C/strong%3EHenderson%20P%26C%20%23102%3C/li%3E%20%20%20%20%20%20%20%20%20%20%20%20%20%3Cli%3E%3Cstrong%3EName%3A%20%3C/strong%3Enan%3C/li%3E%20%20%20%20%20%20%20%20%20%3Cul%3E%20%20%20%20%20%3C/div%3E%60%29%5B0%5D%3B%0A%20%20%20%20%20%20%20%20%20%20%20%20popup_1a1a607e7f454146a8948e1864bfc906.setContent%28html_ec73a13841e742d9ba0db49c27d5ba5e%29%3B%0A%20%20%20%20%20%20%20%20%0A%0A%20%20%20%20%20%20%20%20marker_510ae41f66a34cdc9d9ad8b72d1e7b8f.bindPopup%28popup_1a1a607e7f454146a8948e1864bfc906%29%0A%20%20%20%20%20%20%20%20%3B%0A%0A%20%20%20%20%20%20%20%20%0A%20%20%20%20%0A%20%20%20%20%0A%20%20%20%20%20%20%20%20%20%20%20%20var%20marker_a8665ffc4f834653bdfaefa3dcdc64dc%20%3D%20L.marker%28%0A%20%20%20%20%20%20%20%20%20%20%20%20%20%20%20%20%5B43.77019%2C%2011.26441%5D%2C%0A%20%20%20%20%20%20%20%20%20%20%20%20%20%20%20%20%7B%7D%0A%20%20%20%20%20%20%20%20%20%20%20%20%29.addTo%28map_b98b389f61064b299c4cde471c85a0fb%29%3B%0A%20%20%20%20%20%20%20%20%0A%20%20%20%20%0A%20%20%20%20%20%20%20%20var%20popup_15680b2737774bb489eda5d03d8afa45%20%3D%20L.popup%28%7B%22maxWidth%22%3A%20%22100%25%22%7D%29%3B%0A%0A%20%20%20%20%20%20%20%20%0A%20%20%20%20%20%20%20%20%20%20%20%20var%20html_62cabb3b40ad47fd820e67574249959f%20%3D%20%24%28%60%3Cdiv%20id%3D%22html_62cabb3b40ad47fd820e67574249959f%22%20style%3D%22width%3A%20100.0%25%3B%20height%3A%20100.0%25%3B%22%3E%20%20%20%20%20%20%20%20%20%3Cul%3E%20%20%20%20%20%20%20%20%20%20%20%20%20%3Cli%3E%3Cstrong%3EID%3A%20%3C/strong%3E3177%3C/li%3E%20%20%20%20%20%20%20%20%20%20%20%20%20%3Cli%3E%3Cstrong%3ESource%3A%20%3C/strong%3EHenderson%20P%26C%20%23102%3C/li%3E%20%20%20%20%20%20%20%20%20%20%20%20%20%3Cli%3E%3Cstrong%3EName%3A%20%3C/strong%3EVincenzo%2C%20cartulaio%20Bolognese%3C/li%3E%20%20%20%20%20%20%20%20%20%3Cul%3E%20%20%20%20%20%3C/div%3E%60%29%5B0%5D%3B%0A%20%20%20%20%20%20%20%20%20%20%20%20popup_15680b2737774bb489eda5d03d8afa45.setContent%28html_62cabb3b40ad47fd820e67574249959f%29%3B%0A%20%20%20%20%20%20%20%20%0A%0A%20%20%20%20%20%20%20%20marker_a8665ffc4f834653bdfaefa3dcdc64dc.bindPopup%28popup_15680b2737774bb489eda5d03d8afa45%29%0A%20%20%20%20%20%20%20%20%3B%0A%0A%20%20%20%20%20%20%20%20%0A%20%20%20%20%0A%20%20%20%20%0A%20%20%20%20%20%20%20%20%20%20%20%20var%20marker_f1e22a1f66114103ac50ff3c3e7f06ac%20%3D%20L.marker%28%0A%20%20%20%20%20%20%20%20%20%20%20%20%20%20%20%20%5B43.76840467%2C%2011.26486267%5D%2C%0A%20%20%20%20%20%20%20%20%20%20%20%20%20%20%20%20%7B%7D%0A%20%20%20%20%20%20%20%20%20%20%20%20%29.addTo%28map_b98b389f61064b299c4cde471c85a0fb%29%3B%0A%20%20%20%20%20%20%20%20%0A%20%20%20%20%0A%20%20%20%20%20%20%20%20var%20popup_e3b579a451ec4aaa802e343325ca97bc%20%3D%20L.popup%28%7B%22maxWidth%22%3A%20%22100%25%22%7D%29%3B%0A%0A%20%20%20%20%20%20%20%20%0A%20%20%20%20%20%20%20%20%20%20%20%20var%20html_bd850af659464a8b8e508af7bf12bda8%20%3D%20%24%28%60%3Cdiv%20id%3D%22html_bd850af659464a8b8e508af7bf12bda8%22%20style%3D%22width%3A%20100.0%25%3B%20height%3A%20100.0%25%3B%22%3E%20%20%20%20%20%20%20%20%20%3Cul%3E%20%20%20%20%20%20%20%20%20%20%20%20%20%3Cli%3E%3Cstrong%3EID%3A%20%3C/strong%3E3194%3C/li%3E%20%20%20%20%20%20%20%20%20%20%20%20%20%3Cli%3E%3Cstrong%3ESource%3A%20%3C/strong%3EHenderson%20P%26C%20%23102%3C/li%3E%20%20%20%20%20%20%20%20%20%20%20%20%20%3Cli%3E%3Cstrong%3EName%3A%20%3C/strong%3EMona%20Lucia%20di%20Bastiano%20da%20%20Palazzuolo%3C/li%3E%20%20%20%20%20%20%20%20%20%3Cul%3E%20%20%20%20%20%3C/div%3E%60%29%5B0%5D%3B%0A%20%20%20%20%20%20%20%20%20%20%20%20popup_e3b579a451ec4aaa802e343325ca97bc.setContent%28html_bd850af659464a8b8e508af7bf12bda8%29%3B%0A%20%20%20%20%20%20%20%20%0A%0A%20%20%20%20%20%20%20%20marker_f1e22a1f66114103ac50ff3c3e7f06ac.bindPopup%28popup_e3b579a451ec4aaa802e343325ca97bc%29%0A%20%20%20%20%20%20%20%20%3B%0A%0A%20%20%20%20%20%20%20%20%0A%20%20%20%20%0A%20%20%20%20%0A%20%20%20%20%20%20%20%20%20%20%20%20var%20marker_abc6cd0e3d484295b0965bdf65cd2cca%20%3D%20L.marker%28%0A%20%20%20%20%20%20%20%20%20%20%20%20%20%20%20%20%5B43.76829%2C%2011.26496%5D%2C%0A%20%20%20%20%20%20%20%20%20%20%20%20%20%20%20%20%7B%7D%0A%20%20%20%20%20%20%20%20%20%20%20%20%29.addTo%28map_b98b389f61064b299c4cde471c85a0fb%29%3B%0A%20%20%20%20%20%20%20%20%0A%20%20%20%20%0A%20%20%20%20%20%20%20%20var%20popup_b0303e5f715f4273a5e0aada0aad2128%20%3D%20L.popup%28%7B%22maxWidth%22%3A%20%22100%25%22%7D%29%3B%0A%0A%20%20%20%20%20%20%20%20%0A%20%20%20%20%20%20%20%20%20%20%20%20var%20html_4a5aa37460b445529929229bf9bc8f47%20%3D%20%24%28%60%3Cdiv%20id%3D%22html_4a5aa37460b445529929229bf9bc8f47%22%20style%3D%22width%3A%20100.0%25%3B%20height%3A%20100.0%25%3B%22%3E%20%20%20%20%20%20%20%20%20%3Cul%3E%20%20%20%20%20%20%20%20%20%20%20%20%20%3Cli%3E%3Cstrong%3EID%3A%20%3C/strong%3E3195%3C/li%3E%20%20%20%20%20%20%20%20%20%20%20%20%20%3Cli%3E%3Cstrong%3ESource%3A%20%3C/strong%3EHenderson%20P%26C%20%23102%3C/li%3E%20%20%20%20%20%20%20%20%20%20%20%20%20%3Cli%3E%3Cstrong%3EName%3A%20%3C/strong%3EAndrea%20di%20Tommaso%20d%20%20Palazzuolo%3C/li%3E%20%20%20%20%20%20%20%20%20%3Cul%3E%20%20%20%20%20%3C/div%3E%60%29%5B0%5D%3B%0A%20%20%20%20%20%20%20%20%20%20%20%20popup_b0303e5f715f4273a5e0aada0aad2128.setContent%28html_4a5aa37460b445529929229bf9bc8f47%29%3B%0A%20%20%20%20%20%20%20%20%0A%0A%20%20%20%20%20%20%20%20marker_abc6cd0e3d484295b0965bdf65cd2cca.bindPopup%28popup_b0303e5f715f4273a5e0aada0aad2128%29%0A%20%20%20%20%20%20%20%20%3B%0A%0A%20%20%20%20%20%20%20%20%0A%20%20%20%20%0A%20%20%20%20%0A%20%20%20%20%20%20%20%20%20%20%20%20var%20marker_5d20a7b09bcf4dbbb805d5d9f6651c2a%20%3D%20L.marker%28%0A%20%20%20%20%20%20%20%20%20%20%20%20%20%20%20%20%5B43.76847933%2C%2011.26490533%5D%2C%0A%20%20%20%20%20%20%20%20%20%20%20%20%20%20%20%20%7B%7D%0A%20%20%20%20%20%20%20%20%20%20%20%20%29.addTo%28map_b98b389f61064b299c4cde471c85a0fb%29%3B%0A%20%20%20%20%20%20%20%20%0A%20%20%20%20%0A%20%20%20%20%20%20%20%20var%20popup_2e3ad7a97e5a4eb9adca17f97042c885%20%3D%20L.popup%28%7B%22maxWidth%22%3A%20%22100%25%22%7D%29%3B%0A%0A%20%20%20%20%20%20%20%20%0A%20%20%20%20%20%20%20%20%20%20%20%20var%20html_1ae36d1cec294ae382c875b9cb727bfd%20%3D%20%24%28%60%3Cdiv%20id%3D%22html_1ae36d1cec294ae382c875b9cb727bfd%22%20style%3D%22width%3A%20100.0%25%3B%20height%3A%20100.0%25%3B%22%3E%20%20%20%20%20%20%20%20%20%3Cul%3E%20%20%20%20%20%20%20%20%20%20%20%20%20%3Cli%3E%3Cstrong%3EID%3A%20%3C/strong%3E3274%3C/li%3E%20%20%20%20%20%20%20%20%20%20%20%20%20%3Cli%3E%3Cstrong%3ESource%3A%20%3C/strong%3EHenderson%20P%26C%20%23102%3C/li%3E%20%20%20%20%20%20%20%20%20%20%20%20%20%3Cli%3E%3Cstrong%3EName%3A%20%3C/strong%3ETonino%20di%20Domenico%2C%20battilano%3C/li%3E%20%20%20%20%20%20%20%20%20%3Cul%3E%20%20%20%20%20%3C/div%3E%60%29%5B0%5D%3B%0A%20%20%20%20%20%20%20%20%20%20%20%20popup_2e3ad7a97e5a4eb9adca17f97042c885.setContent%28html_1ae36d1cec294ae382c875b9cb727bfd%29%3B%0A%20%20%20%20%20%20%20%20%0A%0A%20%20%20%20%20%20%20%20marker_5d20a7b09bcf4dbbb805d5d9f6651c2a.bindPopup%28popup_2e3ad7a97e5a4eb9adca17f97042c885%29%0A%20%20%20%20%20%20%20%20%3B%0A%0A%20%20%20%20%20%20%20%20%0A%20%20%20%20%0A%20%20%20%20%0A%20%20%20%20%20%20%20%20%20%20%20%20var%20marker_36abf290968643f39607fa6c7145f293%20%3D%20L.marker%28%0A%20%20%20%20%20%20%20%20%20%20%20%20%20%20%20%20%5B43.76886%2C%2011.265%5D%2C%0A%20%20%20%20%20%20%20%20%20%20%20%20%20%20%20%20%7B%7D%0A%20%20%20%20%20%20%20%20%20%20%20%20%29.addTo%28map_b98b389f61064b299c4cde471c85a0fb%29%3B%0A%20%20%20%20%20%20%20%20%0A%20%20%20%20%0A%20%20%20%20%20%20%20%20var%20popup_fd5319bd0dc84079896229c515a285d4%20%3D%20L.popup%28%7B%22maxWidth%22%3A%20%22100%25%22%7D%29%3B%0A%0A%20%20%20%20%20%20%20%20%0A%20%20%20%20%20%20%20%20%20%20%20%20var%20html_67a992b765cd44f7bb5b914c2d340b27%20%3D%20%24%28%60%3Cdiv%20id%3D%22html_67a992b765cd44f7bb5b914c2d340b27%22%20style%3D%22width%3A%20100.0%25%3B%20height%3A%20100.0%25%3B%22%3E%20%20%20%20%20%20%20%20%20%3Cul%3E%20%20%20%20%20%20%20%20%20%20%20%20%20%3Cli%3E%3Cstrong%3EID%3A%20%3C/strong%3E3384%3C/li%3E%20%20%20%20%20%20%20%20%20%20%20%20%20%3Cli%3E%3Cstrong%3ESource%3A%20%3C/strong%3EHenderson%20P%26C%20%23102%3C/li%3E%20%20%20%20%20%20%20%20%20%20%20%20%20%3Cli%3E%3Cstrong%3EName%3A%20%3C/strong%3EAntonio%2C%20detto%20Rigogolo%2C%20votapozzi%3C/li%3E%20%20%20%20%20%20%20%20%20%3Cul%3E%20%20%20%20%20%3C/div%3E%60%29%5B0%5D%3B%0A%20%20%20%20%20%20%20%20%20%20%20%20popup_fd5319bd0dc84079896229c515a285d4.setContent%28html_67a992b765cd44f7bb5b914c2d340b27%29%3B%0A%20%20%20%20%20%20%20%20%0A%0A%20%20%20%20%20%20%20%20marker_36abf290968643f39607fa6c7145f293.bindPopup%28popup_fd5319bd0dc84079896229c515a285d4%29%0A%20%20%20%20%20%20%20%20%3B%0A%0A%20%20%20%20%20%20%20%20%0A%20%20%20%20%0A%20%20%20%20%0A%20%20%20%20%20%20%20%20%20%20%20%20var%20marker_3757341dafa14d5387965fb61174cd19%20%3D%20L.marker%28%0A%20%20%20%20%20%20%20%20%20%20%20%20%20%20%20%20%5B43.76825%2C%2011.2651%5D%2C%0A%20%20%20%20%20%20%20%20%20%20%20%20%20%20%20%20%7B%7D%0A%20%20%20%20%20%20%20%20%20%20%20%20%29.addTo%28map_b98b389f61064b299c4cde471c85a0fb%29%3B%0A%20%20%20%20%20%20%20%20%0A%20%20%20%20%0A%20%20%20%20%20%20%20%20var%20popup_1d41b6ec96e84c7ab7c832dbeeac987f%20%3D%20L.popup%28%7B%22maxWidth%22%3A%20%22100%25%22%7D%29%3B%0A%0A%20%20%20%20%20%20%20%20%0A%20%20%20%20%20%20%20%20%20%20%20%20var%20html_2fc55f665dd54c928285e66f4330b47a%20%3D%20%24%28%60%3Cdiv%20id%3D%22html_2fc55f665dd54c928285e66f4330b47a%22%20style%3D%22width%3A%20100.0%25%3B%20height%3A%20100.0%25%3B%22%3E%20%20%20%20%20%20%20%20%20%3Cul%3E%20%20%20%20%20%20%20%20%20%20%20%20%20%3Cli%3E%3Cstrong%3EID%3A%20%3C/strong%3E3385%3C/li%3E%20%20%20%20%20%20%20%20%20%20%20%20%20%3Cli%3E%3Cstrong%3ESource%3A%20%3C/strong%3EHenderson%20P%26C%20%23102%3C/li%3E%20%20%20%20%20%20%20%20%20%20%20%20%20%3Cli%3E%3Cstrong%3EName%3A%20%3C/strong%3Enan%3C/li%3E%20%20%20%20%20%20%20%20%20%3Cul%3E%20%20%20%20%20%3C/div%3E%60%29%5B0%5D%3B%0A%20%20%20%20%20%20%20%20%20%20%20%20popup_1d41b6ec96e84c7ab7c832dbeeac987f.setContent%28html_2fc55f665dd54c928285e66f4330b47a%29%3B%0A%20%20%20%20%20%20%20%20%0A%0A%20%20%20%20%20%20%20%20marker_3757341dafa14d5387965fb61174cd19.bindPopup%28popup_1d41b6ec96e84c7ab7c832dbeeac987f%29%0A%20%20%20%20%20%20%20%20%3B%0A%0A%20%20%20%20%20%20%20%20%0A%20%20%20%20%0A%20%20%20%20%0A%20%20%20%20%20%20%20%20%20%20%20%20var%20marker_483d2356e80b45d595f3f48f81cb3b93%20%3D%20L.marker%28%0A%20%20%20%20%20%20%20%20%20%20%20%20%20%20%20%20%5B43.7709685%2C%2011.2698875%5D%2C%0A%20%20%20%20%20%20%20%20%20%20%20%20%20%20%20%20%7B%7D%0A%20%20%20%20%20%20%20%20%20%20%20%20%29.addTo%28map_b98b389f61064b299c4cde471c85a0fb%29%3B%0A%20%20%20%20%20%20%20%20%0A%20%20%20%20%0A%20%20%20%20%20%20%20%20var%20popup_291f74a37f724bc8b288bd87996ada0e%20%3D%20L.popup%28%7B%22maxWidth%22%3A%20%22100%25%22%7D%29%3B%0A%0A%20%20%20%20%20%20%20%20%0A%20%20%20%20%20%20%20%20%20%20%20%20var%20html_3050fc224e8e437fa658bb40cd972693%20%3D%20%24%28%60%3Cdiv%20id%3D%22html_3050fc224e8e437fa658bb40cd972693%22%20style%3D%22width%3A%20100.0%25%3B%20height%3A%20100.0%25%3B%22%3E%20%20%20%20%20%20%20%20%20%3Cul%3E%20%20%20%20%20%20%20%20%20%20%20%20%20%3Cli%3E%3Cstrong%3EID%3A%20%3C/strong%3E2056%3C/li%3E%20%20%20%20%20%20%20%20%20%20%20%20%20%3Cli%3E%3Cstrong%3ESource%3A%20%3C/strong%3EHenderson%20P%26C%20%23102%3C/li%3E%20%20%20%20%20%20%20%20%20%20%20%20%20%3Cli%3E%3Cstrong%3EName%3A%20%3C/strong%3EAntonio%20di%20Piero%2C%20guardia%20della%20Compagnia%20del%20Tempio%3C/li%3E%20%20%20%20%20%20%20%20%20%3Cul%3E%20%20%20%20%20%3C/div%3E%60%29%5B0%5D%3B%0A%20%20%20%20%20%20%20%20%20%20%20%20popup_291f74a37f724bc8b288bd87996ada0e.setContent%28html_3050fc224e8e437fa658bb40cd972693%29%3B%0A%20%20%20%20%20%20%20%20%0A%0A%20%20%20%20%20%20%20%20marker_483d2356e80b45d595f3f48f81cb3b93.bindPopup%28popup_291f74a37f724bc8b288bd87996ada0e%29%0A%20%20%20%20%20%20%20%20%3B%0A%0A%20%20%20%20%20%20%20%20%0A%20%20%20%20%0A%20%20%20%20%0A%20%20%20%20%20%20%20%20%20%20%20%20var%20marker_960ffd7189a34c8eb2baf0856ffff8e7%20%3D%20L.marker%28%0A%20%20%20%20%20%20%20%20%20%20%20%20%20%20%20%20%5B43.77100579%2C%2011.26971307%5D%2C%0A%20%20%20%20%20%20%20%20%20%20%20%20%20%20%20%20%7B%7D%0A%20%20%20%20%20%20%20%20%20%20%20%20%29.addTo%28map_b98b389f61064b299c4cde471c85a0fb%29%3B%0A%20%20%20%20%20%20%20%20%0A%20%20%20%20%0A%20%20%20%20%20%20%20%20var%20popup_538c92b5f08e4df58b46f501fc28b921%20%3D%20L.popup%28%7B%22maxWidth%22%3A%20%22100%25%22%7D%29%3B%0A%0A%20%20%20%20%20%20%20%20%0A%20%20%20%20%20%20%20%20%20%20%20%20var%20html_a3358ed4500c4ef18d96aae6ddf0f823%20%3D%20%24%28%60%3Cdiv%20id%3D%22html_a3358ed4500c4ef18d96aae6ddf0f823%22%20style%3D%22width%3A%20100.0%25%3B%20height%3A%20100.0%25%3B%22%3E%20%20%20%20%20%20%20%20%20%3Cul%3E%20%20%20%20%20%20%20%20%20%20%20%20%20%3Cli%3E%3Cstrong%3EID%3A%20%3C/strong%3E2136%3C/li%3E%20%20%20%20%20%20%20%20%20%20%20%20%20%3Cli%3E%3Cstrong%3ESource%3A%20%3C/strong%3EHenderson%20P%26C%20%23102%3C/li%3E%20%20%20%20%20%20%20%20%20%20%20%20%20%3Cli%3E%3Cstrong%3EName%3A%20%3C/strong%3EBartolomeo%20d%27%20Antonio%20di%20Lapo%2C%20beccaio%3C/li%3E%20%20%20%20%20%20%20%20%20%3Cul%3E%20%20%20%20%20%3C/div%3E%60%29%5B0%5D%3B%0A%20%20%20%20%20%20%20%20%20%20%20%20popup_538c92b5f08e4df58b46f501fc28b921.setContent%28html_a3358ed4500c4ef18d96aae6ddf0f823%29%3B%0A%20%20%20%20%20%20%20%20%0A%0A%20%20%20%20%20%20%20%20marker_960ffd7189a34c8eb2baf0856ffff8e7.bindPopup%28popup_538c92b5f08e4df58b46f501fc28b921%29%0A%20%20%20%20%20%20%20%20%3B%0A%0A%20%20%20%20%20%20%20%20%0A%20%20%20%20%0A%20%20%20%20%0A%20%20%20%20%20%20%20%20%20%20%20%20var%20marker_4302be0c45e94fb29cdbd57321e3ecf7%20%3D%20L.marker%28%0A%20%20%20%20%20%20%20%20%20%20%20%20%20%20%20%20%5B43.7740713%2C%2011.26313274%5D%2C%0A%20%20%20%20%20%20%20%20%20%20%20%20%20%20%20%20%7B%7D%0A%20%20%20%20%20%20%20%20%20%20%20%20%29.addTo%28map_b98b389f61064b299c4cde471c85a0fb%29%3B%0A%20%20%20%20%20%20%20%20%0A%20%20%20%20%0A%20%20%20%20%20%20%20%20var%20popup_6340b6645ba14c86854bb0699010f041%20%3D%20L.popup%28%7B%22maxWidth%22%3A%20%22100%25%22%7D%29%3B%0A%0A%20%20%20%20%20%20%20%20%0A%20%20%20%20%20%20%20%20%20%20%20%20var%20html_a175d1ca990949618c15bf8f40688aef%20%3D%20%24%28%60%3Cdiv%20id%3D%22html_a175d1ca990949618c15bf8f40688aef%22%20style%3D%22width%3A%20100.0%25%3B%20height%3A%20100.0%25%3B%22%3E%20%20%20%20%20%20%20%20%20%3Cul%3E%20%20%20%20%20%20%20%20%20%20%20%20%20%3Cli%3E%3Cstrong%3EID%3A%20%3C/strong%3E2182%3C/li%3E%20%20%20%20%20%20%20%20%20%20%20%20%20%3Cli%3E%3Cstrong%3ESource%3A%20%3C/strong%3EHenderson%20P%26C%20%23102%3C/li%3E%20%20%20%20%20%20%20%20%20%20%20%20%20%3Cli%3E%3Cstrong%3EName%3A%20%3C/strong%3EMarco%20di%20Giovanni%2C%20tessitore%3C/li%3E%20%20%20%20%20%20%20%20%20%3Cul%3E%20%20%20%20%20%3C/div%3E%60%29%5B0%5D%3B%0A%20%20%20%20%20%20%20%20%20%20%20%20popup_6340b6645ba14c86854bb0699010f041.setContent%28html_a175d1ca990949618c15bf8f40688aef%29%3B%0A%20%20%20%20%20%20%20%20%0A%0A%20%20%20%20%20%20%20%20marker_4302be0c45e94fb29cdbd57321e3ecf7.bindPopup%28popup_6340b6645ba14c86854bb0699010f041%29%0A%20%20%20%20%20%20%20%20%3B%0A%0A%20%20%20%20%20%20%20%20%0A%20%20%20%20%0A%20%20%20%20%0A%20%20%20%20%20%20%20%20%20%20%20%20var%20marker_c48ea251b59641bd8fee1242066dcb25%20%3D%20L.marker%28%0A%20%20%20%20%20%20%20%20%20%20%20%20%20%20%20%20%5B43.77098714%2C%2011.26980029%5D%2C%0A%20%20%20%20%20%20%20%20%20%20%20%20%20%20%20%20%7B%7D%0A%20%20%20%20%20%20%20%20%20%20%20%20%29.addTo%28map_b98b389f61064b299c4cde471c85a0fb%29%3B%0A%20%20%20%20%20%20%20%20%0A%20%20%20%20%0A%20%20%20%20%20%20%20%20var%20popup_d2077c65b3444744a2df623a7c2b2d72%20%3D%20L.popup%28%7B%22maxWidth%22%3A%20%22100%25%22%7D%29%3B%0A%0A%20%20%20%20%20%20%20%20%0A%20%20%20%20%20%20%20%20%20%20%20%20var%20html_f7dd196b37b149029a91010a4fb23222%20%3D%20%24%28%60%3Cdiv%20id%3D%22html_f7dd196b37b149029a91010a4fb23222%22%20style%3D%22width%3A%20100.0%25%3B%20height%3A%20100.0%25%3B%22%3E%20%20%20%20%20%20%20%20%20%3Cul%3E%20%20%20%20%20%20%20%20%20%20%20%20%20%3Cli%3E%3Cstrong%3EID%3A%20%3C/strong%3E2413%3C/li%3E%20%20%20%20%20%20%20%20%20%20%20%20%20%3Cli%3E%3Cstrong%3ESource%3A%20%3C/strong%3EHenderson%20P%26C%20%23102%3C/li%3E%20%20%20%20%20%20%20%20%20%20%20%20%20%3Cli%3E%3Cstrong%3EName%3A%20%3C/strong%3Enan%3C/li%3E%20%20%20%20%20%20%20%20%20%3Cul%3E%20%20%20%20%20%3C/div%3E%60%29%5B0%5D%3B%0A%20%20%20%20%20%20%20%20%20%20%20%20popup_d2077c65b3444744a2df623a7c2b2d72.setContent%28html_f7dd196b37b149029a91010a4fb23222%29%3B%0A%20%20%20%20%20%20%20%20%0A%0A%20%20%20%20%20%20%20%20marker_c48ea251b59641bd8fee1242066dcb25.bindPopup%28popup_d2077c65b3444744a2df623a7c2b2d72%29%0A%20%20%20%20%20%20%20%20%3B%0A%0A%20%20%20%20%20%20%20%20%0A%20%20%20%20%0A%20%20%20%20%0A%20%20%20%20%20%20%20%20%20%20%20%20var%20marker_b33fca899fcb475f95acdf06a76568a7%20%3D%20L.marker%28%0A%20%20%20%20%20%20%20%20%20%20%20%20%20%20%20%20%5B43.771152%2C%2011.262448%5D%2C%0A%20%20%20%20%20%20%20%20%20%20%20%20%20%20%20%20%7B%7D%0A%20%20%20%20%20%20%20%20%20%20%20%20%29.addTo%28map_b98b389f61064b299c4cde471c85a0fb%29%3B%0A%20%20%20%20%20%20%20%20%0A%20%20%20%20%0A%20%20%20%20%20%20%20%20var%20popup_9ad759de5ea845b1982c2a5a6ce980b7%20%3D%20L.popup%28%7B%22maxWidth%22%3A%20%22100%25%22%7D%29%3B%0A%0A%20%20%20%20%20%20%20%20%0A%20%20%20%20%20%20%20%20%20%20%20%20var%20html_4eaf808c2afc4f2e953c131a574d8a9c%20%3D%20%24%28%60%3Cdiv%20id%3D%22html_4eaf808c2afc4f2e953c131a574d8a9c%22%20style%3D%22width%3A%20100.0%25%3B%20height%3A%20100.0%25%3B%22%3E%20%20%20%20%20%20%20%20%20%3Cul%3E%20%20%20%20%20%20%20%20%20%20%20%20%20%3Cli%3E%3Cstrong%3EID%3A%20%3C/strong%3E3628%3C/li%3E%20%20%20%20%20%20%20%20%20%20%20%20%20%3Cli%3E%3Cstrong%3ESource%3A%20%3C/strong%3EHenderson%20P%26C%20%23102%3C/li%3E%20%20%20%20%20%20%20%20%20%20%20%20%20%3Cli%3E%3Cstrong%3EName%3A%20%3C/strong%3ERaffaello%2C%20donzello%20della%20Parte%3C/li%3E%20%20%20%20%20%20%20%20%20%3Cul%3E%20%20%20%20%20%3C/div%3E%60%29%5B0%5D%3B%0A%20%20%20%20%20%20%20%20%20%20%20%20popup_9ad759de5ea845b1982c2a5a6ce980b7.setContent%28html_4eaf808c2afc4f2e953c131a574d8a9c%29%3B%0A%20%20%20%20%20%20%20%20%0A%0A%20%20%20%20%20%20%20%20marker_b33fca899fcb475f95acdf06a76568a7.bindPopup%28popup_9ad759de5ea845b1982c2a5a6ce980b7%29%0A%20%20%20%20%20%20%20%20%3B%0A%0A%20%20%20%20%20%20%20%20%0A%20%20%20%20%0A%20%20%20%20%0A%20%20%20%20%20%20%20%20%20%20%20%20var%20marker_3bb588ebc33c4ec697c970d7f7966607%20%3D%20L.marker%28%0A%20%20%20%20%20%20%20%20%20%20%20%20%20%20%20%20%5B43.76981%2C%2011.25724%5D%2C%0A%20%20%20%20%20%20%20%20%20%20%20%20%20%20%20%20%7B%7D%0A%20%20%20%20%20%20%20%20%20%20%20%20%29.addTo%28map_b98b389f61064b299c4cde471c85a0fb%29%3B%0A%20%20%20%20%20%20%20%20%0A%20%20%20%20%0A%20%20%20%20%20%20%20%20var%20popup_f02146c4275842de9042ebc3da4a563d%20%3D%20L.popup%28%7B%22maxWidth%22%3A%20%22100%25%22%7D%29%3B%0A%0A%20%20%20%20%20%20%20%20%0A%20%20%20%20%20%20%20%20%20%20%20%20var%20html_7386042eadb9476e8e4575b676dd1c9f%20%3D%20%24%28%60%3Cdiv%20id%3D%22html_7386042eadb9476e8e4575b676dd1c9f%22%20style%3D%22width%3A%20100.0%25%3B%20height%3A%20100.0%25%3B%22%3E%20%20%20%20%20%20%20%20%20%3Cul%3E%20%20%20%20%20%20%20%20%20%20%20%20%20%3Cli%3E%3Cstrong%3EID%3A%20%3C/strong%3E4275%3C/li%3E%20%20%20%20%20%20%20%20%20%20%20%20%20%3Cli%3E%3Cstrong%3ESource%3A%20%3C/strong%3EHenderson%20P%26C%20%23102%3C/li%3E%20%20%20%20%20%20%20%20%20%20%20%20%20%3Cli%3E%3Cstrong%3EName%3A%20%3C/strong%3ELionardo%20di%20Taddeo%2C%20coltellinaio%3C/li%3E%20%20%20%20%20%20%20%20%20%3Cul%3E%20%20%20%20%20%3C/div%3E%60%29%5B0%5D%3B%0A%20%20%20%20%20%20%20%20%20%20%20%20popup_f02146c4275842de9042ebc3da4a563d.setContent%28html_7386042eadb9476e8e4575b676dd1c9f%29%3B%0A%20%20%20%20%20%20%20%20%0A%0A%20%20%20%20%20%20%20%20marker_3bb588ebc33c4ec697c970d7f7966607.bindPopup%28popup_f02146c4275842de9042ebc3da4a563d%29%0A%20%20%20%20%20%20%20%20%3B%0A%0A%20%20%20%20%20%20%20%20%0A%20%20%20%20%0A%20%20%20%20%0A%20%20%20%20%20%20%20%20%20%20%20%20var%20marker_8fee8c4baf214b15ae4518b0abc2b69f%20%3D%20L.marker%28%0A%20%20%20%20%20%20%20%20%20%20%20%20%20%20%20%20%5B43.769925%2C%2011.256705%5D%2C%0A%20%20%20%20%20%20%20%20%20%20%20%20%20%20%20%20%7B%7D%0A%20%20%20%20%20%20%20%20%20%20%20%20%29.addTo%28map_b98b389f61064b299c4cde471c85a0fb%29%3B%0A%20%20%20%20%20%20%20%20%0A%20%20%20%20%0A%20%20%20%20%20%20%20%20var%20popup_d8fea1c286c34474b47cd0057175c67c%20%3D%20L.popup%28%7B%22maxWidth%22%3A%20%22100%25%22%7D%29%3B%0A%0A%20%20%20%20%20%20%20%20%0A%20%20%20%20%20%20%20%20%20%20%20%20var%20html_12093815fde646c19816517c0fc3e3d6%20%3D%20%24%28%60%3Cdiv%20id%3D%22html_12093815fde646c19816517c0fc3e3d6%22%20style%3D%22width%3A%20100.0%25%3B%20height%3A%20100.0%25%3B%22%3E%20%20%20%20%20%20%20%20%20%3Cul%3E%20%20%20%20%20%20%20%20%20%20%20%20%20%3Cli%3E%3Cstrong%3EID%3A%20%3C/strong%3E4276%3C/li%3E%20%20%20%20%20%20%20%20%20%20%20%20%20%3Cli%3E%3Cstrong%3ESource%3A%20%3C/strong%3EHenderson%20P%26C%20%23102%3C/li%3E%20%20%20%20%20%20%20%20%20%20%20%20%20%3Cli%3E%3Cstrong%3EName%3A%20%3C/strong%3EAntonio%20di%20Benedetto%2C%20detto%20il%20Boncio%2C%20occhialaio%3C/li%3E%20%20%20%20%20%20%20%20%20%3Cul%3E%20%20%20%20%20%3C/div%3E%60%29%5B0%5D%3B%0A%20%20%20%20%20%20%20%20%20%20%20%20popup_d8fea1c286c34474b47cd0057175c67c.setContent%28html_12093815fde646c19816517c0fc3e3d6%29%3B%0A%20%20%20%20%20%20%20%20%0A%0A%20%20%20%20%20%20%20%20marker_8fee8c4baf214b15ae4518b0abc2b69f.bindPopup%28popup_d8fea1c286c34474b47cd0057175c67c%29%0A%20%20%20%20%20%20%20%20%3B%0A%0A%20%20%20%20%20%20%20%20%0A%20%20%20%20%0A%20%20%20%20%0A%20%20%20%20%20%20%20%20%20%20%20%20var%20marker_f413b49e447c4698af2719d508eb386a%20%3D%20L.marker%28%0A%20%20%20%20%20%20%20%20%20%20%20%20%20%20%20%20%5B43.76582667%2C%2011.24658%5D%2C%0A%20%20%20%20%20%20%20%20%20%20%20%20%20%20%20%20%7B%7D%0A%20%20%20%20%20%20%20%20%20%20%20%20%29.addTo%28map_b98b389f61064b299c4cde471c85a0fb%29%3B%0A%20%20%20%20%20%20%20%20%0A%20%20%20%20%0A%20%20%20%20%20%20%20%20var%20popup_c63cf459bd2841cba41678cd58c14528%20%3D%20L.popup%28%7B%22maxWidth%22%3A%20%22100%25%22%7D%29%3B%0A%0A%20%20%20%20%20%20%20%20%0A%20%20%20%20%20%20%20%20%20%20%20%20var%20html_ad83bcfbb3aa43d3a3d0e0006c53ec68%20%3D%20%24%28%60%3Cdiv%20id%3D%22html_ad83bcfbb3aa43d3a3d0e0006c53ec68%22%20style%3D%22width%3A%20100.0%25%3B%20height%3A%20100.0%25%3B%22%3E%20%20%20%20%20%20%20%20%20%3Cul%3E%20%20%20%20%20%20%20%20%20%20%20%20%20%3Cli%3E%3Cstrong%3EID%3A%20%3C/strong%3E7630%3C/li%3E%20%20%20%20%20%20%20%20%20%20%20%20%20%3Cli%3E%3Cstrong%3ESource%3A%20%3C/strong%3EHenderson%20P%26C%20%23114%3C/li%3E%20%20%20%20%20%20%20%20%20%20%20%20%20%3Cli%3E%3Cstrong%3EName%3A%20%3C/strong%3EMona%20Thommasa%20di%20Giovanbatista%20da%20Verrazzano%3C/li%3E%20%20%20%20%20%20%20%20%20%3Cul%3E%20%20%20%20%20%3C/div%3E%60%29%5B0%5D%3B%0A%20%20%20%20%20%20%20%20%20%20%20%20popup_c63cf459bd2841cba41678cd58c14528.setContent%28html_ad83bcfbb3aa43d3a3d0e0006c53ec68%29%3B%0A%20%20%20%20%20%20%20%20%0A%0A%20%20%20%20%20%20%20%20marker_f413b49e447c4698af2719d508eb386a.bindPopup%28popup_c63cf459bd2841cba41678cd58c14528%29%0A%20%20%20%20%20%20%20%20%3B%0A%0A%20%20%20%20%20%20%20%20%0A%20%20%20%20%0A%20%20%20%20%0A%20%20%20%20%20%20%20%20%20%20%20%20var%20marker_e04951b3e5c64b0aad68da463b4cb7b3%20%3D%20L.marker%28%0A%20%20%20%20%20%20%20%20%20%20%20%20%20%20%20%20%5B43.768982%2C%2011.242736%5D%2C%0A%20%20%20%20%20%20%20%20%20%20%20%20%20%20%20%20%7B%7D%0A%20%20%20%20%20%20%20%20%20%20%20%20%29.addTo%28map_b98b389f61064b299c4cde471c85a0fb%29%3B%0A%20%20%20%20%20%20%20%20%0A%20%20%20%20%0A%20%20%20%20%20%20%20%20var%20popup_dd48eb49b0bc439aacb998ee8ad6c80e%20%3D%20L.popup%28%7B%22maxWidth%22%3A%20%22100%25%22%7D%29%3B%0A%0A%20%20%20%20%20%20%20%20%0A%20%20%20%20%20%20%20%20%20%20%20%20var%20html_b7dd300eb35b480bba6704997b758948%20%3D%20%24%28%60%3Cdiv%20id%3D%22html_b7dd300eb35b480bba6704997b758948%22%20style%3D%22width%3A%20100.0%25%3B%20height%3A%20100.0%25%3B%22%3E%20%20%20%20%20%20%20%20%20%3Cul%3E%20%20%20%20%20%20%20%20%20%20%20%20%20%3Cli%3E%3Cstrong%3EID%3A%20%3C/strong%3E8289%3C/li%3E%20%20%20%20%20%20%20%20%20%20%20%20%20%3Cli%3E%3Cstrong%3ESource%3A%20%3C/strong%3EHenderson%20P%26C%20%2358%3C/li%3E%20%20%20%20%20%20%20%20%20%20%20%20%20%3Cli%3E%3Cstrong%3EName%3A%20%3C/strong%3EAntonio%20battilano%3C/li%3E%20%20%20%20%20%20%20%20%20%3Cul%3E%20%20%20%20%20%3C/div%3E%60%29%5B0%5D%3B%0A%20%20%20%20%20%20%20%20%20%20%20%20popup_dd48eb49b0bc439aacb998ee8ad6c80e.setContent%28html_b7dd300eb35b480bba6704997b758948%29%3B%0A%20%20%20%20%20%20%20%20%0A%0A%20%20%20%20%20%20%20%20marker_e04951b3e5c64b0aad68da463b4cb7b3.bindPopup%28popup_dd48eb49b0bc439aacb998ee8ad6c80e%29%0A%20%20%20%20%20%20%20%20%3B%0A%0A%20%20%20%20%20%20%20%20%0A%20%20%20%20%0A%20%20%20%20%0A%20%20%20%20%20%20%20%20%20%20%20%20var%20marker_57266fe62c08492f9bc67f1d06978c2e%20%3D%20L.marker%28%0A%20%20%20%20%20%20%20%20%20%20%20%20%20%20%20%20%5B43.769388%2C%2011.244695%5D%2C%0A%20%20%20%20%20%20%20%20%20%20%20%20%20%20%20%20%7B%7D%0A%20%20%20%20%20%20%20%20%20%20%20%20%29.addTo%28map_b98b389f61064b299c4cde471c85a0fb%29%3B%0A%20%20%20%20%20%20%20%20%0A%20%20%20%20%0A%20%20%20%20%20%20%20%20var%20popup_c5064d1607d7465d8b0fa944417467b5%20%3D%20L.popup%28%7B%22maxWidth%22%3A%20%22100%25%22%7D%29%3B%0A%0A%20%20%20%20%20%20%20%20%0A%20%20%20%20%20%20%20%20%20%20%20%20var%20html_8fc270e1edd64f44849f2a844eb4ff31%20%3D%20%24%28%60%3Cdiv%20id%3D%22html_8fc270e1edd64f44849f2a844eb4ff31%22%20style%3D%22width%3A%20100.0%25%3B%20height%3A%20100.0%25%3B%22%3E%20%20%20%20%20%20%20%20%20%3Cul%3E%20%20%20%20%20%20%20%20%20%20%20%20%20%3Cli%3E%3Cstrong%3EID%3A%20%3C/strong%3E8486%3C/li%3E%20%20%20%20%20%20%20%20%20%20%20%20%20%3Cli%3E%3Cstrong%3ESource%3A%20%3C/strong%3EHenderson%20P%26C%20%2358%3C/li%3E%20%20%20%20%20%20%20%20%20%20%20%20%20%3Cli%3E%3Cstrong%3EName%3A%20%3C/strong%3EMona%20Simone%20di%20Bastiano%20manouale%3C/li%3E%20%20%20%20%20%20%20%20%20%3Cul%3E%20%20%20%20%20%3C/div%3E%60%29%5B0%5D%3B%0A%20%20%20%20%20%20%20%20%20%20%20%20popup_c5064d1607d7465d8b0fa944417467b5.setContent%28html_8fc270e1edd64f44849f2a844eb4ff31%29%3B%0A%20%20%20%20%20%20%20%20%0A%0A%20%20%20%20%20%20%20%20marker_57266fe62c08492f9bc67f1d06978c2e.bindPopup%28popup_c5064d1607d7465d8b0fa944417467b5%29%0A%20%20%20%20%20%20%20%20%3B%0A%0A%20%20%20%20%20%20%20%20%0A%20%20%20%20%0A%20%20%20%20%0A%20%20%20%20%20%20%20%20%20%20%20%20var%20marker_8766903781484f46aefab37593b9d742%20%3D%20L.marker%28%0A%20%20%20%20%20%20%20%20%20%20%20%20%20%20%20%20%5B43.77036985%2C%2011.24205892%5D%2C%0A%20%20%20%20%20%20%20%20%20%20%20%20%20%20%20%20%7B%7D%0A%20%20%20%20%20%20%20%20%20%20%20%20%29.addTo%28map_b98b389f61064b299c4cde471c85a0fb%29%3B%0A%20%20%20%20%20%20%20%20%0A%20%20%20%20%0A%20%20%20%20%20%20%20%20var%20popup_2a95fe202270459093d96238f6af8711%20%3D%20L.popup%28%7B%22maxWidth%22%3A%20%22100%25%22%7D%29%3B%0A%0A%20%20%20%20%20%20%20%20%0A%20%20%20%20%20%20%20%20%20%20%20%20var%20html_9b60651e805849649f2863719c6330b0%20%3D%20%24%28%60%3Cdiv%20id%3D%22html_9b60651e805849649f2863719c6330b0%22%20style%3D%22width%3A%20100.0%25%3B%20height%3A%20100.0%25%3B%22%3E%20%20%20%20%20%20%20%20%20%3Cul%3E%20%20%20%20%20%20%20%20%20%20%20%20%20%3Cli%3E%3Cstrong%3EID%3A%20%3C/strong%3E8315%3C/li%3E%20%20%20%20%20%20%20%20%20%20%20%20%20%3Cli%3E%3Cstrong%3ESource%3A%20%3C/strong%3EHenderson%20P%26C%20%2358%3C/li%3E%20%20%20%20%20%20%20%20%20%20%20%20%20%3Cli%3E%3Cstrong%3EName%3A%20%3C/strong%3ESalvestro%20di%20Matteo%20minugiaio%3C/li%3E%20%20%20%20%20%20%20%20%20%3Cul%3E%20%20%20%20%20%3C/div%3E%60%29%5B0%5D%3B%0A%20%20%20%20%20%20%20%20%20%20%20%20popup_2a95fe202270459093d96238f6af8711.setContent%28html_9b60651e805849649f2863719c6330b0%29%3B%0A%20%20%20%20%20%20%20%20%0A%0A%20%20%20%20%20%20%20%20marker_8766903781484f46aefab37593b9d742.bindPopup%28popup_2a95fe202270459093d96238f6af8711%29%0A%20%20%20%20%20%20%20%20%3B%0A%0A%20%20%20%20%20%20%20%20%0A%20%20%20%20%0A%20%20%20%20%0A%20%20%20%20%20%20%20%20%20%20%20%20var%20marker_53f0b28647754dd8aad41e24ab8c1d38%20%3D%20L.marker%28%0A%20%20%20%20%20%20%20%20%20%20%20%20%20%20%20%20%5B43.769331%2C%2011.24549767%5D%2C%0A%20%20%20%20%20%20%20%20%20%20%20%20%20%20%20%20%7B%7D%0A%20%20%20%20%20%20%20%20%20%20%20%20%29.addTo%28map_b98b389f61064b299c4cde471c85a0fb%29%3B%0A%20%20%20%20%20%20%20%20%0A%20%20%20%20%0A%20%20%20%20%20%20%20%20var%20popup_0f76a68003db488a83c67cbf54222bd1%20%3D%20L.popup%28%7B%22maxWidth%22%3A%20%22100%25%22%7D%29%3B%0A%0A%20%20%20%20%20%20%20%20%0A%20%20%20%20%20%20%20%20%20%20%20%20var%20html_57b3e1abad7143d095b39756fc2e2524%20%3D%20%24%28%60%3Cdiv%20id%3D%22html_57b3e1abad7143d095b39756fc2e2524%22%20style%3D%22width%3A%20100.0%25%3B%20height%3A%20100.0%25%3B%22%3E%20%20%20%20%20%20%20%20%20%3Cul%3E%20%20%20%20%20%20%20%20%20%20%20%20%20%3Cli%3E%3Cstrong%3EID%3A%20%3C/strong%3E8509%3C/li%3E%20%20%20%20%20%20%20%20%20%20%20%20%20%3Cli%3E%3Cstrong%3ESource%3A%20%3C/strong%3EHenderson%20P%26C%20%2358%3C/li%3E%20%20%20%20%20%20%20%20%20%20%20%20%20%3Cli%3E%3Cstrong%3EName%3A%20%3C/strong%3EFrancesco%20di%20Niccolo%20fornaio%3C/li%3E%20%20%20%20%20%20%20%20%20%3Cul%3E%20%20%20%20%20%3C/div%3E%60%29%5B0%5D%3B%0A%20%20%20%20%20%20%20%20%20%20%20%20popup_0f76a68003db488a83c67cbf54222bd1.setContent%28html_57b3e1abad7143d095b39756fc2e2524%29%3B%0A%20%20%20%20%20%20%20%20%0A%0A%20%20%20%20%20%20%20%20marker_53f0b28647754dd8aad41e24ab8c1d38.bindPopup%28popup_0f76a68003db488a83c67cbf54222bd1%29%0A%20%20%20%20%20%20%20%20%3B%0A%0A%20%20%20%20%20%20%20%20%0A%20%20%20%20%0A%20%20%20%20%0A%20%20%20%20%20%20%20%20%20%20%20%20var%20marker_4b818e253ddb48f289e92ea0f8b45d4b%20%3D%20L.marker%28%0A%20%20%20%20%20%20%20%20%20%20%20%20%20%20%20%20%5B43.77837788%2C%2011.254472%5D%2C%0A%20%20%20%20%20%20%20%20%20%20%20%20%20%20%20%20%7B%7D%0A%20%20%20%20%20%20%20%20%20%20%20%20%29.addTo%28map_b98b389f61064b299c4cde471c85a0fb%29%3B%0A%20%20%20%20%20%20%20%20%0A%20%20%20%20%0A%20%20%20%20%20%20%20%20var%20popup_af369c474159474d95ade81f5f126b7d%20%3D%20L.popup%28%7B%22maxWidth%22%3A%20%22100%25%22%7D%29%3B%0A%0A%20%20%20%20%20%20%20%20%0A%20%20%20%20%20%20%20%20%20%20%20%20var%20html_a8653962aca544b28293333f5d27e3cb%20%3D%20%24%28%60%3Cdiv%20id%3D%22html_a8653962aca544b28293333f5d27e3cb%22%20style%3D%22width%3A%20100.0%25%3B%20height%3A%20100.0%25%3B%22%3E%20%20%20%20%20%20%20%20%20%3Cul%3E%20%20%20%20%20%20%20%20%20%20%20%20%20%3Cli%3E%3Cstrong%3EID%3A%20%3C/strong%3E517%3C/li%3E%20%20%20%20%20%20%20%20%20%20%20%20%20%3Cli%3E%3Cstrong%3ESource%3A%20%3C/strong%3Enan%3C/li%3E%20%20%20%20%20%20%20%20%20%20%20%20%20%3Cli%3E%3Cstrong%3EName%3A%20%3C/strong%3ELorenzo%20di%20Bartolomeo%2C%20tessitore%3C/li%3E%20%20%20%20%20%20%20%20%20%3Cul%3E%20%20%20%20%20%3C/div%3E%60%29%5B0%5D%3B%0A%20%20%20%20%20%20%20%20%20%20%20%20popup_af369c474159474d95ade81f5f126b7d.setContent%28html_a8653962aca544b28293333f5d27e3cb%29%3B%0A%20%20%20%20%20%20%20%20%0A%0A%20%20%20%20%20%20%20%20marker_4b818e253ddb48f289e92ea0f8b45d4b.bindPopup%28popup_af369c474159474d95ade81f5f126b7d%29%0A%20%20%20%20%20%20%20%20%3B%0A%0A%20%20%20%20%20%20%20%20%0A%20%20%20%20%0A%20%20%20%20%0A%20%20%20%20%20%20%20%20%20%20%20%20var%20marker_2e3e2055038f4e219e4add60f505f608%20%3D%20L.marker%28%0A%20%20%20%20%20%20%20%20%20%20%20%20%20%20%20%20%5B43.77051125%2C%2011.262585%5D%2C%0A%20%20%20%20%20%20%20%20%20%20%20%20%20%20%20%20%7B%7D%0A%20%20%20%20%20%20%20%20%20%20%20%20%29.addTo%28map_b98b389f61064b299c4cde471c85a0fb%29%3B%0A%20%20%20%20%20%20%20%20%0A%20%20%20%20%0A%20%20%20%20%20%20%20%20var%20popup_b60218021fae4c048c7283959e5687f4%20%3D%20L.popup%28%7B%22maxWidth%22%3A%20%22100%25%22%7D%29%3B%0A%0A%20%20%20%20%20%20%20%20%0A%20%20%20%20%20%20%20%20%20%20%20%20var%20html_f75ed263889a4148bf686841bf2bd8e0%20%3D%20%24%28%60%3Cdiv%20id%3D%22html_f75ed263889a4148bf686841bf2bd8e0%22%20style%3D%22width%3A%20100.0%25%3B%20height%3A%20100.0%25%3B%22%3E%20%20%20%20%20%20%20%20%20%3Cul%3E%20%20%20%20%20%20%20%20%20%20%20%20%20%3Cli%3E%3Cstrong%3EID%3A%20%3C/strong%3E4784%3C/li%3E%20%20%20%20%20%20%20%20%20%20%20%20%20%3Cli%3E%3Cstrong%3ESource%3A%20%3C/strong%3Enan%3C/li%3E%20%20%20%20%20%20%20%20%20%20%20%20%20%3Cli%3E%3Cstrong%3EName%3A%20%3C/strong%3Enan%3C/li%3E%20%20%20%20%20%20%20%20%20%3Cul%3E%20%20%20%20%20%3C/div%3E%60%29%5B0%5D%3B%0A%20%20%20%20%20%20%20%20%20%20%20%20popup_b60218021fae4c048c7283959e5687f4.setContent%28html_f75ed263889a4148bf686841bf2bd8e0%29%3B%0A%20%20%20%20%20%20%20%20%0A%0A%20%20%20%20%20%20%20%20marker_2e3e2055038f4e219e4add60f505f608.bindPopup%28popup_b60218021fae4c048c7283959e5687f4%29%0A%20%20%20%20%20%20%20%20%3B%0A%0A%20%20%20%20%20%20%20%20%0A%20%20%20%20%0A%20%20%20%20%0A%20%20%20%20%20%20%20%20%20%20%20%20var%20marker_d9e9fcdae4d74d339aead7499b11a99b%20%3D%20L.marker%28%0A%20%20%20%20%20%20%20%20%20%20%20%20%20%20%20%20%5B43.772431%2C%2011.253561%5D%2C%0A%20%20%20%20%20%20%20%20%20%20%20%20%20%20%20%20%7B%7D%0A%20%20%20%20%20%20%20%20%20%20%20%20%29.addTo%28map_b98b389f61064b299c4cde471c85a0fb%29%3B%0A%20%20%20%20%20%20%20%20%0A%20%20%20%20%0A%20%20%20%20%20%20%20%20var%20popup_d272c790c2414e8ab6fa79009f6a0385%20%3D%20L.popup%28%7B%22maxWidth%22%3A%20%22100%25%22%7D%29%3B%0A%0A%20%20%20%20%20%20%20%20%0A%20%20%20%20%20%20%20%20%20%20%20%20var%20html_e0554995d25d42d492afd63b5a1da701%20%3D%20%24%28%60%3Cdiv%20id%3D%22html_e0554995d25d42d492afd63b5a1da701%22%20style%3D%22width%3A%20100.0%25%3B%20height%3A%20100.0%25%3B%22%3E%20%20%20%20%20%20%20%20%20%3Cul%3E%20%20%20%20%20%20%20%20%20%20%20%20%20%3Cli%3E%3Cstrong%3EID%3A%20%3C/strong%3E1004%3C/li%3E%20%20%20%20%20%20%20%20%20%20%20%20%20%3Cli%3E%3Cstrong%3ESource%3A%20%3C/strong%3Enan%3C/li%3E%20%20%20%20%20%20%20%20%20%20%20%20%20%3Cli%3E%3Cstrong%3EName%3A%20%3C/strong%3Enan%3C/li%3E%20%20%20%20%20%20%20%20%20%3Cul%3E%20%20%20%20%20%3C/div%3E%60%29%5B0%5D%3B%0A%20%20%20%20%20%20%20%20%20%20%20%20popup_d272c790c2414e8ab6fa79009f6a0385.setContent%28html_e0554995d25d42d492afd63b5a1da701%29%3B%0A%20%20%20%20%20%20%20%20%0A%0A%20%20%20%20%20%20%20%20marker_d9e9fcdae4d74d339aead7499b11a99b.bindPopup%28popup_d272c790c2414e8ab6fa79009f6a0385%29%0A%20%20%20%20%20%20%20%20%3B%0A%0A%20%20%20%20%20%20%20%20%0A%20%20%20%20%0A%20%20%20%20%0A%20%20%20%20%20%20%20%20%20%20%20%20var%20marker_d864173625d241ad9aa7805d88d80e46%20%3D%20L.marker%28%0A%20%20%20%20%20%20%20%20%20%20%20%20%20%20%20%20%5B43.77422106%2C%2011.25488759%5D%2C%0A%20%20%20%20%20%20%20%20%20%20%20%20%20%20%20%20%7B%7D%0A%20%20%20%20%20%20%20%20%20%20%20%20%29.addTo%28map_b98b389f61064b299c4cde471c85a0fb%29%3B%0A%20%20%20%20%20%20%20%20%0A%20%20%20%20%0A%20%20%20%20%20%20%20%20var%20popup_11d6b3b06dc74f0289826ba06c1a67eb%20%3D%20L.popup%28%7B%22maxWidth%22%3A%20%22100%25%22%7D%29%3B%0A%0A%20%20%20%20%20%20%20%20%0A%20%20%20%20%20%20%20%20%20%20%20%20var%20html_802034e54e384bba8266c55910019f2c%20%3D%20%24%28%60%3Cdiv%20id%3D%22html_802034e54e384bba8266c55910019f2c%22%20style%3D%22width%3A%20100.0%25%3B%20height%3A%20100.0%25%3B%22%3E%20%20%20%20%20%20%20%20%20%3Cul%3E%20%20%20%20%20%20%20%20%20%20%20%20%20%3Cli%3E%3Cstrong%3EID%3A%20%3C/strong%3E1214%3C/li%3E%20%20%20%20%20%20%20%20%20%20%20%20%20%3Cli%3E%3Cstrong%3ESource%3A%20%3C/strong%3Enan%3C/li%3E%20%20%20%20%20%20%20%20%20%20%20%20%20%3Cli%3E%3Cstrong%3EName%3A%20%3C/strong%3ELorenzo%20di%20Biagio%2C%20sarto%3C/li%3E%20%20%20%20%20%20%20%20%20%3Cul%3E%20%20%20%20%20%3C/div%3E%60%29%5B0%5D%3B%0A%20%20%20%20%20%20%20%20%20%20%20%20popup_11d6b3b06dc74f0289826ba06c1a67eb.setContent%28html_802034e54e384bba8266c55910019f2c%29%3B%0A%20%20%20%20%20%20%20%20%0A%0A%20%20%20%20%20%20%20%20marker_d864173625d241ad9aa7805d88d80e46.bindPopup%28popup_11d6b3b06dc74f0289826ba06c1a67eb%29%0A%20%20%20%20%20%20%20%20%3B%0A%0A%20%20%20%20%20%20%20%20%0A%20%20%20%20%0A%20%20%20%20%0A%20%20%20%20%20%20%20%20%20%20%20%20var%20marker_4ef340899a354a74becfcac64ada3d6d%20%3D%20L.marker%28%0A%20%20%20%20%20%20%20%20%20%20%20%20%20%20%20%20%5B43.77251823%2C%2011.26522828%5D%2C%0A%20%20%20%20%20%20%20%20%20%20%20%20%20%20%20%20%7B%7D%0A%20%20%20%20%20%20%20%20%20%20%20%20%29.addTo%28map_b98b389f61064b299c4cde471c85a0fb%29%3B%0A%20%20%20%20%20%20%20%20%0A%20%20%20%20%0A%20%20%20%20%20%20%20%20var%20popup_6c4787068bda41b0a5fbc446cf368741%20%3D%20L.popup%28%7B%22maxWidth%22%3A%20%22100%25%22%7D%29%3B%0A%0A%20%20%20%20%20%20%20%20%0A%20%20%20%20%20%20%20%20%20%20%20%20var%20html_29151cdd93884e11aeb9d4135acba05d%20%3D%20%24%28%60%3Cdiv%20id%3D%22html_29151cdd93884e11aeb9d4135acba05d%22%20style%3D%22width%3A%20100.0%25%3B%20height%3A%20100.0%25%3B%22%3E%20%20%20%20%20%20%20%20%20%3Cul%3E%20%20%20%20%20%20%20%20%20%20%20%20%20%3Cli%3E%3Cstrong%3EID%3A%20%3C/strong%3E2776%3C/li%3E%20%20%20%20%20%20%20%20%20%20%20%20%20%3Cli%3E%3Cstrong%3ESource%3A%20%3C/strong%3EHenderson%20P%26C%20%2341%3C/li%3E%20%20%20%20%20%20%20%20%20%20%20%20%20%3Cli%3E%3Cstrong%3EName%3A%20%3C/strong%3EMona%20Lexandra%2C%20donna%20fu%20di%20Ruberto%20Rinieri%3C/li%3E%20%20%20%20%20%20%20%20%20%3Cul%3E%20%20%20%20%20%3C/div%3E%60%29%5B0%5D%3B%0A%20%20%20%20%20%20%20%20%20%20%20%20popup_6c4787068bda41b0a5fbc446cf368741.setContent%28html_29151cdd93884e11aeb9d4135acba05d%29%3B%0A%20%20%20%20%20%20%20%20%0A%0A%20%20%20%20%20%20%20%20marker_4ef340899a354a74becfcac64ada3d6d.bindPopup%28popup_6c4787068bda41b0a5fbc446cf368741%29%0A%20%20%20%20%20%20%20%20%3B%0A%0A%20%20%20%20%20%20%20%20%0A%20%20%20%20%0A%20%20%20%20%0A%20%20%20%20%20%20%20%20%20%20%20%20var%20marker_c5b80d77b68a427aa557a4b5ce57f229%20%3D%20L.marker%28%0A%20%20%20%20%20%20%20%20%20%20%20%20%20%20%20%20%5B43.777438%2C%2011.253398%5D%2C%0A%20%20%20%20%20%20%20%20%20%20%20%20%20%20%20%20%7B%7D%0A%20%20%20%20%20%20%20%20%20%20%20%20%29.addTo%28map_b98b389f61064b299c4cde471c85a0fb%29%3B%0A%20%20%20%20%20%20%20%20%0A%20%20%20%20%0A%20%20%20%20%20%20%20%20var%20popup_f00f70cbbd37434e99271fe601aad827%20%3D%20L.popup%28%7B%22maxWidth%22%3A%20%22100%25%22%7D%29%3B%0A%0A%20%20%20%20%20%20%20%20%0A%20%20%20%20%20%20%20%20%20%20%20%20var%20html_d7d84cec31ff42a6be32a4330486c3d9%20%3D%20%24%28%60%3Cdiv%20id%3D%22html_d7d84cec31ff42a6be32a4330486c3d9%22%20style%3D%22width%3A%20100.0%25%3B%20height%3A%20100.0%25%3B%22%3E%20%20%20%20%20%20%20%20%20%3Cul%3E%20%20%20%20%20%20%20%20%20%20%20%20%20%3Cli%3E%3Cstrong%3EID%3A%20%3C/strong%3E47%3C/li%3E%20%20%20%20%20%20%20%20%20%20%20%20%20%3Cli%3E%3Cstrong%3ESource%3A%20%3C/strong%3EHenderson%20P%26C%20%2361%3C/li%3E%20%20%20%20%20%20%20%20%20%20%20%20%20%3Cli%3E%3Cstrong%3EName%3A%20%3C/strong%3EAntonio%20di%20Francesco%2C%20ciabattino%3C/li%3E%20%20%20%20%20%20%20%20%20%3Cul%3E%20%20%20%20%20%3C/div%3E%60%29%5B0%5D%3B%0A%20%20%20%20%20%20%20%20%20%20%20%20popup_f00f70cbbd37434e99271fe601aad827.setContent%28html_d7d84cec31ff42a6be32a4330486c3d9%29%3B%0A%20%20%20%20%20%20%20%20%0A%0A%20%20%20%20%20%20%20%20marker_c5b80d77b68a427aa557a4b5ce57f229.bindPopup%28popup_f00f70cbbd37434e99271fe601aad827%29%0A%20%20%20%20%20%20%20%20%3B%0A%0A%20%20%20%20%20%20%20%20%0A%20%20%20%20%0A%20%20%20%20%0A%20%20%20%20%20%20%20%20%20%20%20%20var%20marker_a6b17e5a93244a5e8d4f6e1821b431ce%20%3D%20L.marker%28%0A%20%20%20%20%20%20%20%20%20%20%20%20%20%20%20%20%5B43.77206267%2C%2011.26117733%5D%2C%0A%20%20%20%20%20%20%20%20%20%20%20%20%20%20%20%20%7B%7D%0A%20%20%20%20%20%20%20%20%20%20%20%20%29.addTo%28map_b98b389f61064b299c4cde471c85a0fb%29%3B%0A%20%20%20%20%20%20%20%20%0A%20%20%20%20%0A%20%20%20%20%20%20%20%20var%20popup_ceb02442ae58419685855f55c1fbd63d%20%3D%20L.popup%28%7B%22maxWidth%22%3A%20%22100%25%22%7D%29%3B%0A%0A%20%20%20%20%20%20%20%20%0A%20%20%20%20%20%20%20%20%20%20%20%20var%20html_33d76e56435a4bcc80eb8dc5b7dde37f%20%3D%20%24%28%60%3Cdiv%20id%3D%22html_33d76e56435a4bcc80eb8dc5b7dde37f%22%20style%3D%22width%3A%20100.0%25%3B%20height%3A%20100.0%25%3B%22%3E%20%20%20%20%20%20%20%20%20%3Cul%3E%20%20%20%20%20%20%20%20%20%20%20%20%20%3Cli%3E%3Cstrong%3EID%3A%20%3C/strong%3E2122%3C/li%3E%20%20%20%20%20%20%20%20%20%20%20%20%20%3Cli%3E%3Cstrong%3ESource%3A%20%3C/strong%3EHenderson%20P%26C%20%2361%3C/li%3E%20%20%20%20%20%20%20%20%20%20%20%20%20%3Cli%3E%3Cstrong%3EName%3A%20%3C/strong%3EConte%2C%20divettino%3C/li%3E%20%20%20%20%20%20%20%20%20%3Cul%3E%20%20%20%20%20%3C/div%3E%60%29%5B0%5D%3B%0A%20%20%20%20%20%20%20%20%20%20%20%20popup_ceb02442ae58419685855f55c1fbd63d.setContent%28html_33d76e56435a4bcc80eb8dc5b7dde37f%29%3B%0A%20%20%20%20%20%20%20%20%0A%0A%20%20%20%20%20%20%20%20marker_a6b17e5a93244a5e8d4f6e1821b431ce.bindPopup%28popup_ceb02442ae58419685855f55c1fbd63d%29%0A%20%20%20%20%20%20%20%20%3B%0A%0A%20%20%20%20%20%20%20%20%0A%20%20%20%20%0A%20%20%20%20%0A%20%20%20%20%20%20%20%20%20%20%20%20var%20marker_239a00faf17045468d26388f25d77b1d%20%3D%20L.marker%28%0A%20%20%20%20%20%20%20%20%20%20%20%20%20%20%20%20%5B43.77092867%2C%2011.26371433%5D%2C%0A%20%20%20%20%20%20%20%20%20%20%20%20%20%20%20%20%7B%7D%0A%20%20%20%20%20%20%20%20%20%20%20%20%29.addTo%28map_b98b389f61064b299c4cde471c85a0fb%29%3B%0A%20%20%20%20%20%20%20%20%0A%20%20%20%20%0A%20%20%20%20%20%20%20%20var%20popup_4b8fdf8efd92483ca467b68d449a3948%20%3D%20L.popup%28%7B%22maxWidth%22%3A%20%22100%25%22%7D%29%3B%0A%0A%20%20%20%20%20%20%20%20%0A%20%20%20%20%20%20%20%20%20%20%20%20var%20html_10d188e629bf4e41871e32f09107c6cc%20%3D%20%24%28%60%3Cdiv%20id%3D%22html_10d188e629bf4e41871e32f09107c6cc%22%20style%3D%22width%3A%20100.0%25%3B%20height%3A%20100.0%25%3B%22%3E%20%20%20%20%20%20%20%20%20%3Cul%3E%20%20%20%20%20%20%20%20%20%20%20%20%20%3Cli%3E%3Cstrong%3EID%3A%20%3C/strong%3E3124%3C/li%3E%20%20%20%20%20%20%20%20%20%20%20%20%20%3Cli%3E%3Cstrong%3ESource%3A%20%3C/strong%3EHenderson%20P%26C%20%2361%3C/li%3E%20%20%20%20%20%20%20%20%20%20%20%20%20%3Cli%3E%3Cstrong%3EName%3A%20%3C/strong%3EAndrea%20di%20Jacopo%20Romagnuolo%3C/li%3E%20%20%20%20%20%20%20%20%20%3Cul%3E%20%20%20%20%20%3C/div%3E%60%29%5B0%5D%3B%0A%20%20%20%20%20%20%20%20%20%20%20%20popup_4b8fdf8efd92483ca467b68d449a3948.setContent%28html_10d188e629bf4e41871e32f09107c6cc%29%3B%0A%20%20%20%20%20%20%20%20%0A%0A%20%20%20%20%20%20%20%20marker_239a00faf17045468d26388f25d77b1d.bindPopup%28popup_4b8fdf8efd92483ca467b68d449a3948%29%0A%20%20%20%20%20%20%20%20%3B%0A%0A%20%20%20%20%20%20%20%20%0A%20%20%20%20%0A%20%20%20%20%0A%20%20%20%20%20%20%20%20%20%20%20%20var%20marker_a02a47233c7243c7a6a9a83a3641f669%20%3D%20L.marker%28%0A%20%20%20%20%20%20%20%20%20%20%20%20%20%20%20%20%5B43.77706373%2C%2011.24898549%5D%2C%0A%20%20%20%20%20%20%20%20%20%20%20%20%20%20%20%20%7B%7D%0A%20%20%20%20%20%20%20%20%20%20%20%20%29.addTo%28map_b98b389f61064b299c4cde471c85a0fb%29%3B%0A%20%20%20%20%20%20%20%20%0A%20%20%20%20%0A%20%20%20%20%20%20%20%20var%20popup_e3186bd3e8f64f3aaa4e00653f442fd4%20%3D%20L.popup%28%7B%22maxWidth%22%3A%20%22100%25%22%7D%29%3B%0A%0A%20%20%20%20%20%20%20%20%0A%20%20%20%20%20%20%20%20%20%20%20%20var%20html_5a8539f30b654fbc95bc4a948b272289%20%3D%20%24%28%60%3Cdiv%20id%3D%22html_5a8539f30b654fbc95bc4a948b272289%22%20style%3D%22width%3A%20100.0%25%3B%20height%3A%20100.0%25%3B%22%3E%20%20%20%20%20%20%20%20%20%3Cul%3E%20%20%20%20%20%20%20%20%20%20%20%20%20%3Cli%3E%3Cstrong%3EID%3A%20%3C/strong%3E4501%3C/li%3E%20%20%20%20%20%20%20%20%20%20%20%20%20%3Cli%3E%3Cstrong%3ESource%3A%20%3C/strong%3EHenderson%20P%26C%20%236%3C/li%3E%20%20%20%20%20%20%20%20%20%20%20%20%20%3Cli%3E%3Cstrong%3EName%3A%20%3C/strong%3EGuiliano%20d%27%20Antonio%2C%20fattorino%3C/li%3E%20%20%20%20%20%20%20%20%20%3Cul%3E%20%20%20%20%20%3C/div%3E%60%29%5B0%5D%3B%0A%20%20%20%20%20%20%20%20%20%20%20%20popup_e3186bd3e8f64f3aaa4e00653f442fd4.setContent%28html_5a8539f30b654fbc95bc4a948b272289%29%3B%0A%20%20%20%20%20%20%20%20%0A%0A%20%20%20%20%20%20%20%20marker_a02a47233c7243c7a6a9a83a3641f669.bindPopup%28popup_e3186bd3e8f64f3aaa4e00653f442fd4%29%0A%20%20%20%20%20%20%20%20%3B%0A%0A%20%20%20%20%20%20%20%20%0A%20%20%20%20%0A%20%20%20%20%0A%20%20%20%20%20%20%20%20%20%20%20%20var%20marker_89cf1ad27f9f452191b70cc4d2f02f20%20%3D%20L.marker%28%0A%20%20%20%20%20%20%20%20%20%20%20%20%20%20%20%20%5B43.771575%2C%2011.265926%5D%2C%0A%20%20%20%20%20%20%20%20%20%20%20%20%20%20%20%20%7B%7D%0A%20%20%20%20%20%20%20%20%20%20%20%20%29.addTo%28map_b98b389f61064b299c4cde471c85a0fb%29%3B%0A%20%20%20%20%20%20%20%20%0A%20%20%20%20%0A%20%20%20%20%20%20%20%20var%20popup_b20b4b4a669c419a8f21cc9e707e478f%20%3D%20L.popup%28%7B%22maxWidth%22%3A%20%22100%25%22%7D%29%3B%0A%0A%20%20%20%20%20%20%20%20%0A%20%20%20%20%20%20%20%20%20%20%20%20var%20html_848b6d2cd8ac4babbbd62abe33f6aa87%20%3D%20%24%28%60%3Cdiv%20id%3D%22html_848b6d2cd8ac4babbbd62abe33f6aa87%22%20style%3D%22width%3A%20100.0%25%3B%20height%3A%20100.0%25%3B%22%3E%20%20%20%20%20%20%20%20%20%3Cul%3E%20%20%20%20%20%20%20%20%20%20%20%20%20%3Cli%3E%3Cstrong%3EID%3A%20%3C/strong%3E2873%3C/li%3E%20%20%20%20%20%20%20%20%20%20%20%20%20%3Cli%3E%3Cstrong%3ESource%3A%20%3C/strong%3Enan%3C/li%3E%20%20%20%20%20%20%20%20%20%20%20%20%20%3Cli%3E%3Cstrong%3EName%3A%20%3C/strong%3EAndrea%20di%20Lexandro%20del%20Fede%3C/li%3E%20%20%20%20%20%20%20%20%20%3Cul%3E%20%20%20%20%20%3C/div%3E%60%29%5B0%5D%3B%0A%20%20%20%20%20%20%20%20%20%20%20%20popup_b20b4b4a669c419a8f21cc9e707e478f.setContent%28html_848b6d2cd8ac4babbbd62abe33f6aa87%29%3B%0A%20%20%20%20%20%20%20%20%0A%0A%20%20%20%20%20%20%20%20marker_89cf1ad27f9f452191b70cc4d2f02f20.bindPopup%28popup_b20b4b4a669c419a8f21cc9e707e478f%29%0A%20%20%20%20%20%20%20%20%3B%0A%0A%20%20%20%20%20%20%20%20%0A%20%20%20%20%0A%20%20%20%20%0A%20%20%20%20%20%20%20%20%20%20%20%20var%20marker_b329766b52ac4c05aad43a61c48e9fea%20%3D%20L.marker%28%0A%20%20%20%20%20%20%20%20%20%20%20%20%20%20%20%20%5B43.768454%2C%2011.257542%5D%2C%0A%20%20%20%20%20%20%20%20%20%20%20%20%20%20%20%20%7B%7D%0A%20%20%20%20%20%20%20%20%20%20%20%20%29.addTo%28map_b98b389f61064b299c4cde471c85a0fb%29%3B%0A%20%20%20%20%20%20%20%20%0A%20%20%20%20%0A%20%20%20%20%20%20%20%20var%20popup_6c17f18216a24c20a2786bb8c8935cbc%20%3D%20L.popup%28%7B%22maxWidth%22%3A%20%22100%25%22%7D%29%3B%0A%0A%20%20%20%20%20%20%20%20%0A%20%20%20%20%20%20%20%20%20%20%20%20var%20html_0ef13bcdb86b4e60a8c9ada7a79d1393%20%3D%20%24%28%60%3Cdiv%20id%3D%22html_0ef13bcdb86b4e60a8c9ada7a79d1393%22%20style%3D%22width%3A%20100.0%25%3B%20height%3A%20100.0%25%3B%22%3E%20%20%20%20%20%20%20%20%20%3Cul%3E%20%20%20%20%20%20%20%20%20%20%20%20%20%3Cli%3E%3Cstrong%3EID%3A%20%3C/strong%3E4758%3C/li%3E%20%20%20%20%20%20%20%20%20%20%20%20%20%3Cli%3E%3Cstrong%3ESource%3A%20%3C/strong%3Enan%3C/li%3E%20%20%20%20%20%20%20%20%20%20%20%20%20%3Cli%3E%3Cstrong%3EName%3A%20%3C/strong%3EVincenzo%20di%20Tommaso%20Bandini%3C/li%3E%20%20%20%20%20%20%20%20%20%3Cul%3E%20%20%20%20%20%3C/div%3E%60%29%5B0%5D%3B%0A%20%20%20%20%20%20%20%20%20%20%20%20popup_6c17f18216a24c20a2786bb8c8935cbc.setContent%28html_0ef13bcdb86b4e60a8c9ada7a79d1393%29%3B%0A%20%20%20%20%20%20%20%20%0A%0A%20%20%20%20%20%20%20%20marker_b329766b52ac4c05aad43a61c48e9fea.bindPopup%28popup_6c17f18216a24c20a2786bb8c8935cbc%29%0A%20%20%20%20%20%20%20%20%3B%0A%0A%20%20%20%20%20%20%20%20%0A%20%20%20%20%0A%20%20%20%20%0A%20%20%20%20%20%20%20%20%20%20%20%20var%20marker_634dbc0dccf64a6690e1dd65030554b7%20%3D%20L.marker%28%0A%20%20%20%20%20%20%20%20%20%20%20%20%20%20%20%20%5B43.77538%2C%2011.24949%5D%2C%0A%20%20%20%20%20%20%20%20%20%20%20%20%20%20%20%20%7B%7D%0A%20%20%20%20%20%20%20%20%20%20%20%20%29.addTo%28map_b98b389f61064b299c4cde471c85a0fb%29%3B%0A%20%20%20%20%20%20%20%20%0A%20%20%20%20%0A%20%20%20%20%20%20%20%20var%20popup_b80247d403bb472e8caa09c275e56619%20%3D%20L.popup%28%7B%22maxWidth%22%3A%20%22100%25%22%7D%29%3B%0A%0A%20%20%20%20%20%20%20%20%0A%20%20%20%20%20%20%20%20%20%20%20%20var%20html_91c6070ebdd54585867191d07adb2539%20%3D%20%24%28%60%3Cdiv%20id%3D%22html_91c6070ebdd54585867191d07adb2539%22%20style%3D%22width%3A%20100.0%25%3B%20height%3A%20100.0%25%3B%22%3E%20%20%20%20%20%20%20%20%20%3Cul%3E%20%20%20%20%20%20%20%20%20%20%20%20%20%3Cli%3E%3Cstrong%3EID%3A%20%3C/strong%3E4024%3C/li%3E%20%20%20%20%20%20%20%20%20%20%20%20%20%3Cli%3E%3Cstrong%3ESource%3A%20%3C/strong%3Enan%3C/li%3E%20%20%20%20%20%20%20%20%20%20%20%20%20%3Cli%3E%3Cstrong%3EName%3A%20%3C/strong%3EVincenzo%20di%20Francesco%20Becchino%3C/li%3E%20%20%20%20%20%20%20%20%20%3Cul%3E%20%20%20%20%20%3C/div%3E%60%29%5B0%5D%3B%0A%20%20%20%20%20%20%20%20%20%20%20%20popup_b80247d403bb472e8caa09c275e56619.setContent%28html_91c6070ebdd54585867191d07adb2539%29%3B%0A%20%20%20%20%20%20%20%20%0A%0A%20%20%20%20%20%20%20%20marker_634dbc0dccf64a6690e1dd65030554b7.bindPopup%28popup_b80247d403bb472e8caa09c275e56619%29%0A%20%20%20%20%20%20%20%20%3B%0A%0A%20%20%20%20%20%20%20%20%0A%20%20%20%20%0A%20%20%20%20%0A%20%20%20%20%20%20%20%20%20%20%20%20var%20marker_7d3611b35ce44085ac70e2c658ec9008%20%3D%20L.marker%28%0A%20%20%20%20%20%20%20%20%20%20%20%20%20%20%20%20%5B43.77695321%2C%2011.25422064%5D%2C%0A%20%20%20%20%20%20%20%20%20%20%20%20%20%20%20%20%7B%7D%0A%20%20%20%20%20%20%20%20%20%20%20%20%29.addTo%28map_b98b389f61064b299c4cde471c85a0fb%29%3B%0A%20%20%20%20%20%20%20%20%0A%20%20%20%20%0A%20%20%20%20%20%20%20%20var%20popup_cfbde4f48f6d42919c952ccedc7bfc85%20%3D%20L.popup%28%7B%22maxWidth%22%3A%20%22100%25%22%7D%29%3B%0A%0A%20%20%20%20%20%20%20%20%0A%20%20%20%20%20%20%20%20%20%20%20%20var%20html_f4e143149b704745bec53581701bab24%20%3D%20%24%28%60%3Cdiv%20id%3D%22html_f4e143149b704745bec53581701bab24%22%20style%3D%22width%3A%20100.0%25%3B%20height%3A%20100.0%25%3B%22%3E%20%20%20%20%20%20%20%20%20%3Cul%3E%20%20%20%20%20%20%20%20%20%20%20%20%20%3Cli%3E%3Cstrong%3EID%3A%20%3C/strong%3E283%3C/li%3E%20%20%20%20%20%20%20%20%20%20%20%20%20%3Cli%3E%3Cstrong%3ESource%3A%20%3C/strong%3EHenderson%20P%26C%20%23156%3C/li%3E%20%20%20%20%20%20%20%20%20%20%20%20%20%3Cli%3E%3Cstrong%3EName%3A%20%3C/strong%3EDaniello%20di%20Piero%20MAnnaii%2C%20tessitore%3C/li%3E%20%20%20%20%20%20%20%20%20%3Cul%3E%20%20%20%20%20%3C/div%3E%60%29%5B0%5D%3B%0A%20%20%20%20%20%20%20%20%20%20%20%20popup_cfbde4f48f6d42919c952ccedc7bfc85.setContent%28html_f4e143149b704745bec53581701bab24%29%3B%0A%20%20%20%20%20%20%20%20%0A%0A%20%20%20%20%20%20%20%20marker_7d3611b35ce44085ac70e2c658ec9008.bindPopup%28popup_cfbde4f48f6d42919c952ccedc7bfc85%29%0A%20%20%20%20%20%20%20%20%3B%0A%0A%20%20%20%20%20%20%20%20%0A%20%20%20%20%0A%20%20%20%20%0A%20%20%20%20%20%20%20%20%20%20%20%20var%20marker_799d90a4c40b4301a6bbe2f131d2bd69%20%3D%20L.marker%28%0A%20%20%20%20%20%20%20%20%20%20%20%20%20%20%20%20%5B43.77731413%2C%2011.25176996%5D%2C%0A%20%20%20%20%20%20%20%20%20%20%20%20%20%20%20%20%7B%7D%0A%20%20%20%20%20%20%20%20%20%20%20%20%29.addTo%28map_b98b389f61064b299c4cde471c85a0fb%29%3B%0A%20%20%20%20%20%20%20%20%0A%20%20%20%20%0A%20%20%20%20%20%20%20%20var%20popup_d4925dd13b81429d8a4e635b0edbfed2%20%3D%20L.popup%28%7B%22maxWidth%22%3A%20%22100%25%22%7D%29%3B%0A%0A%20%20%20%20%20%20%20%20%0A%20%20%20%20%20%20%20%20%20%20%20%20var%20html_c782e2982d284c41bef15bc33dc68757%20%3D%20%24%28%60%3Cdiv%20id%3D%22html_c782e2982d284c41bef15bc33dc68757%22%20style%3D%22width%3A%20100.0%25%3B%20height%3A%20100.0%25%3B%22%3E%20%20%20%20%20%20%20%20%20%3Cul%3E%20%20%20%20%20%20%20%20%20%20%20%20%20%3Cli%3E%3Cstrong%3EID%3A%20%3C/strong%3E41%3C/li%3E%20%20%20%20%20%20%20%20%20%20%20%20%20%3Cli%3E%3Cstrong%3ESource%3A%20%3C/strong%3Enan%3C/li%3E%20%20%20%20%20%20%20%20%20%20%20%20%20%3Cli%3E%3Cstrong%3EName%3A%20%3C/strong%3Eser%20Giovanni%20d%27%20Agnolo%20dalla%20Pieve%20a%20Presciano%3C/li%3E%20%20%20%20%20%20%20%20%20%3Cul%3E%20%20%20%20%20%3C/div%3E%60%29%5B0%5D%3B%0A%20%20%20%20%20%20%20%20%20%20%20%20popup_d4925dd13b81429d8a4e635b0edbfed2.setContent%28html_c782e2982d284c41bef15bc33dc68757%29%3B%0A%20%20%20%20%20%20%20%20%0A%0A%20%20%20%20%20%20%20%20marker_799d90a4c40b4301a6bbe2f131d2bd69.bindPopup%28popup_d4925dd13b81429d8a4e635b0edbfed2%29%0A%20%20%20%20%20%20%20%20%3B%0A%0A%20%20%20%20%20%20%20%20%0A%20%20%20%20%0A%20%20%20%20%0A%20%20%20%20%20%20%20%20%20%20%20%20var%20marker_ad9cb5cbf3bb4eeea8b4188cab1982a9%20%3D%20L.marker%28%0A%20%20%20%20%20%20%20%20%20%20%20%20%20%20%20%20%5B43.77295667%2C%2011.25918333%5D%2C%0A%20%20%20%20%20%20%20%20%20%20%20%20%20%20%20%20%7B%7D%0A%20%20%20%20%20%20%20%20%20%20%20%20%29.addTo%28map_b98b389f61064b299c4cde471c85a0fb%29%3B%0A%20%20%20%20%20%20%20%20%0A%20%20%20%20%0A%20%20%20%20%20%20%20%20var%20popup_bd09c3bd026f4142a6e52a89b8e22344%20%3D%20L.popup%28%7B%22maxWidth%22%3A%20%22100%25%22%7D%29%3B%0A%0A%20%20%20%20%20%20%20%20%0A%20%20%20%20%20%20%20%20%20%20%20%20var%20html_1c4a3990ba1344be8221ea1ca60878b9%20%3D%20%24%28%60%3Cdiv%20id%3D%22html_1c4a3990ba1344be8221ea1ca60878b9%22%20style%3D%22width%3A%20100.0%25%3B%20height%3A%20100.0%25%3B%22%3E%20%20%20%20%20%20%20%20%20%3Cul%3E%20%20%20%20%20%20%20%20%20%20%20%20%20%3Cli%3E%3Cstrong%3EID%3A%20%3C/strong%3E2002%3C/li%3E%20%20%20%20%20%20%20%20%20%20%20%20%20%3Cli%3E%3Cstrong%3ESource%3A%20%3C/strong%3Enan%3C/li%3E%20%20%20%20%20%20%20%20%20%20%20%20%20%3Cli%3E%3Cstrong%3EName%3A%20%3C/strong%3EBastiano%20di%20Chimenti%20Renzini%3C/li%3E%20%20%20%20%20%20%20%20%20%3Cul%3E%20%20%20%20%20%3C/div%3E%60%29%5B0%5D%3B%0A%20%20%20%20%20%20%20%20%20%20%20%20popup_bd09c3bd026f4142a6e52a89b8e22344.setContent%28html_1c4a3990ba1344be8221ea1ca60878b9%29%3B%0A%20%20%20%20%20%20%20%20%0A%0A%20%20%20%20%20%20%20%20marker_ad9cb5cbf3bb4eeea8b4188cab1982a9.bindPopup%28popup_bd09c3bd026f4142a6e52a89b8e22344%29%0A%20%20%20%20%20%20%20%20%3B%0A%0A%20%20%20%20%20%20%20%20%0A%20%20%20%20%0A%20%20%20%20%0A%20%20%20%20%20%20%20%20%20%20%20%20var%20marker_d825df4674b1485cb90c8a6a3811950f%20%3D%20L.marker%28%0A%20%20%20%20%20%20%20%20%20%20%20%20%20%20%20%20%5B43.772025%2C%2011.24917%5D%2C%0A%20%20%20%20%20%20%20%20%20%20%20%20%20%20%20%20%7B%7D%0A%20%20%20%20%20%20%20%20%20%20%20%20%29.addTo%28map_b98b389f61064b299c4cde471c85a0fb%29%3B%0A%20%20%20%20%20%20%20%20%0A%20%20%20%20%0A%20%20%20%20%20%20%20%20var%20popup_4601d0d63bcf413481efb5ca4575576e%20%3D%20L.popup%28%7B%22maxWidth%22%3A%20%22100%25%22%7D%29%3B%0A%0A%20%20%20%20%20%20%20%20%0A%20%20%20%20%20%20%20%20%20%20%20%20var%20html_ccb6db7ecdc54e22bd3e422806013439%20%3D%20%24%28%60%3Cdiv%20id%3D%22html_ccb6db7ecdc54e22bd3e422806013439%22%20style%3D%22width%3A%20100.0%25%3B%20height%3A%20100.0%25%3B%22%3E%20%20%20%20%20%20%20%20%20%3Cul%3E%20%20%20%20%20%20%20%20%20%20%20%20%20%3Cli%3E%3Cstrong%3EID%3A%20%3C/strong%3E5222%3C/li%3E%20%20%20%20%20%20%20%20%20%20%20%20%20%3Cli%3E%3Cstrong%3ESource%3A%20%3C/strong%3EHenderson%20P%26C%20%232%3C/li%3E%20%20%20%20%20%20%20%20%20%20%20%20%20%3Cli%3E%3Cstrong%3EName%3A%20%3C/strong%3EMona%20Maddalena%2C%20moglie%20gia%20di%20Lorenzo%2C%20oste%3C/li%3E%20%20%20%20%20%20%20%20%20%3Cul%3E%20%20%20%20%20%3C/div%3E%60%29%5B0%5D%3B%0A%20%20%20%20%20%20%20%20%20%20%20%20popup_4601d0d63bcf413481efb5ca4575576e.setContent%28html_ccb6db7ecdc54e22bd3e422806013439%29%3B%0A%20%20%20%20%20%20%20%20%0A%0A%20%20%20%20%20%20%20%20marker_d825df4674b1485cb90c8a6a3811950f.bindPopup%28popup_4601d0d63bcf413481efb5ca4575576e%29%0A%20%20%20%20%20%20%20%20%3B%0A%0A%20%20%20%20%20%20%20%20%0A%20%20%20%20%0A%20%20%20%20%0A%20%20%20%20%20%20%20%20%20%20%20%20var%20marker_3101f998f46a4b41a1d85dafa4286f79%20%3D%20L.marker%28%0A%20%20%20%20%20%20%20%20%20%20%20%20%20%20%20%20%5B43.76572779%2C%2011.24389164%5D%2C%0A%20%20%20%20%20%20%20%20%20%20%20%20%20%20%20%20%7B%7D%0A%20%20%20%20%20%20%20%20%20%20%20%20%29.addTo%28map_b98b389f61064b299c4cde471c85a0fb%29%3B%0A%20%20%20%20%20%20%20%20%0A%20%20%20%20%0A%20%20%20%20%20%20%20%20var%20popup_6ede8e96e4d44556b17e61faaf44ff3a%20%3D%20L.popup%28%7B%22maxWidth%22%3A%20%22100%25%22%7D%29%3B%0A%0A%20%20%20%20%20%20%20%20%0A%20%20%20%20%20%20%20%20%20%20%20%20var%20html_695495870b52499db9b1fd5845b99fe8%20%3D%20%24%28%60%3Cdiv%20id%3D%22html_695495870b52499db9b1fd5845b99fe8%22%20style%3D%22width%3A%20100.0%25%3B%20height%3A%20100.0%25%3B%22%3E%20%20%20%20%20%20%20%20%20%3Cul%3E%20%20%20%20%20%20%20%20%20%20%20%20%20%3Cli%3E%3Cstrong%3EID%3A%20%3C/strong%3E7374%3C/li%3E%20%20%20%20%20%20%20%20%20%20%20%20%20%3Cli%3E%3Cstrong%3ESource%3A%20%3C/strong%3EHenderson%20P%26C%20%232%3C/li%3E%20%20%20%20%20%20%20%20%20%20%20%20%20%3Cli%3E%3Cstrong%3EName%3A%20%3C/strong%3EBatista%20di%20Bartolomeo%20di%20Batista%20tessitore%20di%20drappi%3C/li%3E%20%20%20%20%20%20%20%20%20%3Cul%3E%20%20%20%20%20%3C/div%3E%60%29%5B0%5D%3B%0A%20%20%20%20%20%20%20%20%20%20%20%20popup_6ede8e96e4d44556b17e61faaf44ff3a.setContent%28html_695495870b52499db9b1fd5845b99fe8%29%3B%0A%20%20%20%20%20%20%20%20%0A%0A%20%20%20%20%20%20%20%20marker_3101f998f46a4b41a1d85dafa4286f79.bindPopup%28popup_6ede8e96e4d44556b17e61faaf44ff3a%29%0A%20%20%20%20%20%20%20%20%3B%0A%0A%20%20%20%20%20%20%20%20%0A%20%20%20%20%0A%20%20%20%20%0A%20%20%20%20%20%20%20%20%20%20%20%20var%20marker_edc9ad595d33455689f7e0377aa8c83e%20%3D%20L.marker%28%0A%20%20%20%20%20%20%20%20%20%20%20%20%20%20%20%20%5B43.76868867%2C%2011.24354133%5D%2C%0A%20%20%20%20%20%20%20%20%20%20%20%20%20%20%20%20%7B%7D%0A%20%20%20%20%20%20%20%20%20%20%20%20%29.addTo%28map_b98b389f61064b299c4cde471c85a0fb%29%3B%0A%20%20%20%20%20%20%20%20%0A%20%20%20%20%0A%20%20%20%20%20%20%20%20var%20popup_2e3b669a796d4d16aca7b6cdd8ab89c3%20%3D%20L.popup%28%7B%22maxWidth%22%3A%20%22100%25%22%7D%29%3B%0A%0A%20%20%20%20%20%20%20%20%0A%20%20%20%20%20%20%20%20%20%20%20%20var%20html_5ca5caf350a8494c82ea055d31360386%20%3D%20%24%28%60%3Cdiv%20id%3D%22html_5ca5caf350a8494c82ea055d31360386%22%20style%3D%22width%3A%20100.0%25%3B%20height%3A%20100.0%25%3B%22%3E%20%20%20%20%20%20%20%20%20%3Cul%3E%20%20%20%20%20%20%20%20%20%20%20%20%20%3Cli%3E%3Cstrong%3EID%3A%20%3C/strong%3E8490%3C/li%3E%20%20%20%20%20%20%20%20%20%20%20%20%20%3Cli%3E%3Cstrong%3ESource%3A%20%3C/strong%3EHenderson%20P%26C%20%232%3C/li%3E%20%20%20%20%20%20%20%20%20%20%20%20%20%3Cli%3E%3Cstrong%3EName%3A%20%3C/strong%3E6%20donne%20vedove%3C/li%3E%20%20%20%20%20%20%20%20%20%3Cul%3E%20%20%20%20%20%3C/div%3E%60%29%5B0%5D%3B%0A%20%20%20%20%20%20%20%20%20%20%20%20popup_2e3b669a796d4d16aca7b6cdd8ab89c3.setContent%28html_5ca5caf350a8494c82ea055d31360386%29%3B%0A%20%20%20%20%20%20%20%20%0A%0A%20%20%20%20%20%20%20%20marker_edc9ad595d33455689f7e0377aa8c83e.bindPopup%28popup_2e3b669a796d4d16aca7b6cdd8ab89c3%29%0A%20%20%20%20%20%20%20%20%3B%0A%0A%20%20%20%20%20%20%20%20%0A%20%20%20%20%0A%20%20%20%20%0A%20%20%20%20%20%20%20%20%20%20%20%20var%20marker_c9136613c29f46e280c31f8f75b7c767%20%3D%20L.marker%28%0A%20%20%20%20%20%20%20%20%20%20%20%20%20%20%20%20%5B43.76966957%2C%2011.24372429%5D%2C%0A%20%20%20%20%20%20%20%20%20%20%20%20%20%20%20%20%7B%7D%0A%20%20%20%20%20%20%20%20%20%20%20%20%29.addTo%28map_b98b389f61064b299c4cde471c85a0fb%29%3B%0A%20%20%20%20%20%20%20%20%0A%20%20%20%20%0A%20%20%20%20%20%20%20%20var%20popup_463dc8f03e614c8ebb7dae363bf68f80%20%3D%20L.popup%28%7B%22maxWidth%22%3A%20%22100%25%22%7D%29%3B%0A%0A%20%20%20%20%20%20%20%20%0A%20%20%20%20%20%20%20%20%20%20%20%20var%20html_43560409ff6d48dbba422f89c8603eed%20%3D%20%24%28%60%3Cdiv%20id%3D%22html_43560409ff6d48dbba422f89c8603eed%22%20style%3D%22width%3A%20100.0%25%3B%20height%3A%20100.0%25%3B%22%3E%20%20%20%20%20%20%20%20%20%3Cul%3E%20%20%20%20%20%20%20%20%20%20%20%20%20%3Cli%3E%3Cstrong%3EID%3A%20%3C/strong%3E8531%3C/li%3E%20%20%20%20%20%20%20%20%20%20%20%20%20%3Cli%3E%3Cstrong%3ESource%3A%20%3C/strong%3EHenderson%20P%26C%20%232%3C/li%3E%20%20%20%20%20%20%20%20%20%20%20%20%20%3Cli%3E%3Cstrong%3EName%3A%20%3C/strong%3EPandolfo%20di%20Giuliano%20da%20Brucianese%3C/li%3E%20%20%20%20%20%20%20%20%20%3Cul%3E%20%20%20%20%20%3C/div%3E%60%29%5B0%5D%3B%0A%20%20%20%20%20%20%20%20%20%20%20%20popup_463dc8f03e614c8ebb7dae363bf68f80.setContent%28html_43560409ff6d48dbba422f89c8603eed%29%3B%0A%20%20%20%20%20%20%20%20%0A%0A%20%20%20%20%20%20%20%20marker_c9136613c29f46e280c31f8f75b7c767.bindPopup%28popup_463dc8f03e614c8ebb7dae363bf68f80%29%0A%20%20%20%20%20%20%20%20%3B%0A%0A%20%20%20%20%20%20%20%20%0A%20%20%20%20%0A%20%20%20%20%0A%20%20%20%20%20%20%20%20%20%20%20%20var%20marker_a72aafd3e9814b8e90faf3db6babccfb%20%3D%20L.marker%28%0A%20%20%20%20%20%20%20%20%20%20%20%20%20%20%20%20%5B43.771942%2C%2011.252478%5D%2C%0A%20%20%20%20%20%20%20%20%20%20%20%20%20%20%20%20%7B%7D%0A%20%20%20%20%20%20%20%20%20%20%20%20%29.addTo%28map_b98b389f61064b299c4cde471c85a0fb%29%3B%0A%20%20%20%20%20%20%20%20%0A%20%20%20%20%0A%20%20%20%20%20%20%20%20var%20popup_f2d4bb1734bb4e99ad57fa382e9cf8fb%20%3D%20L.popup%28%7B%22maxWidth%22%3A%20%22100%25%22%7D%29%3B%0A%0A%20%20%20%20%20%20%20%20%0A%20%20%20%20%20%20%20%20%20%20%20%20var%20html_8f51fbfad0704cc898ad513ccc132903%20%3D%20%24%28%60%3Cdiv%20id%3D%22html_8f51fbfad0704cc898ad513ccc132903%22%20style%3D%22width%3A%20100.0%25%3B%20height%3A%20100.0%25%3B%22%3E%20%20%20%20%20%20%20%20%20%3Cul%3E%20%20%20%20%20%20%20%20%20%20%20%20%20%3Cli%3E%3Cstrong%3EID%3A%20%3C/strong%3E6044%3C/li%3E%20%20%20%20%20%20%20%20%20%20%20%20%20%3Cli%3E%3Cstrong%3ESource%3A%20%3C/strong%3EHenderson%20P%26C%20%2350%3C/li%3E%20%20%20%20%20%20%20%20%20%20%20%20%20%3Cli%3E%3Cstrong%3EName%3A%20%3C/strong%3EMona%20Catarina%2C%20moglie%20gia%20di%20Domenico%2C%20pollaiuolo%3C/li%3E%20%20%20%20%20%20%20%20%20%3Cul%3E%20%20%20%20%20%3C/div%3E%60%29%5B0%5D%3B%0A%20%20%20%20%20%20%20%20%20%20%20%20popup_f2d4bb1734bb4e99ad57fa382e9cf8fb.setContent%28html_8f51fbfad0704cc898ad513ccc132903%29%3B%0A%20%20%20%20%20%20%20%20%0A%0A%20%20%20%20%20%20%20%20marker_a72aafd3e9814b8e90faf3db6babccfb.bindPopup%28popup_f2d4bb1734bb4e99ad57fa382e9cf8fb%29%0A%20%20%20%20%20%20%20%20%3B%0A%0A%20%20%20%20%20%20%20%20%0A%20%20%20%20%0A%20%20%20%20%0A%20%20%20%20%20%20%20%20%20%20%20%20var%20marker_4200cbf010cb453c96020330305ef47d%20%3D%20L.marker%28%0A%20%20%20%20%20%20%20%20%20%20%20%20%20%20%20%20%5B43.76976343%2C%2011.24340071%5D%2C%0A%20%20%20%20%20%20%20%20%20%20%20%20%20%20%20%20%7B%7D%0A%20%20%20%20%20%20%20%20%20%20%20%20%29.addTo%28map_b98b389f61064b299c4cde471c85a0fb%29%3B%0A%20%20%20%20%20%20%20%20%0A%20%20%20%20%0A%20%20%20%20%20%20%20%20var%20popup_a6b7529aa94146849951d6e214266bdf%20%3D%20L.popup%28%7B%22maxWidth%22%3A%20%22100%25%22%7D%29%3B%0A%0A%20%20%20%20%20%20%20%20%0A%20%20%20%20%20%20%20%20%20%20%20%20var%20html_a568515114bd407582617a8bfc07e5fc%20%3D%20%24%28%60%3Cdiv%20id%3D%22html_a568515114bd407582617a8bfc07e5fc%22%20style%3D%22width%3A%20100.0%25%3B%20height%3A%20100.0%25%3B%22%3E%20%20%20%20%20%20%20%20%20%3Cul%3E%20%20%20%20%20%20%20%20%20%20%20%20%20%3Cli%3E%3Cstrong%3EID%3A%20%3C/strong%3E8431%3C/li%3E%20%20%20%20%20%20%20%20%20%20%20%20%20%3Cli%3E%3Cstrong%3ESource%3A%20%3C/strong%3EHenderson%20P%26C%20105%3C/li%3E%20%20%20%20%20%20%20%20%20%20%20%20%20%3Cli%3E%3Cstrong%3EName%3A%20%3C/strong%3ELionardo%20d%27%20Andrea%20oste%3C/li%3E%20%20%20%20%20%20%20%20%20%3Cul%3E%20%20%20%20%20%3C/div%3E%60%29%5B0%5D%3B%0A%20%20%20%20%20%20%20%20%20%20%20%20popup_a6b7529aa94146849951d6e214266bdf.setContent%28html_a568515114bd407582617a8bfc07e5fc%29%3B%0A%20%20%20%20%20%20%20%20%0A%0A%20%20%20%20%20%20%20%20marker_4200cbf010cb453c96020330305ef47d.bindPopup%28popup_a6b7529aa94146849951d6e214266bdf%29%0A%20%20%20%20%20%20%20%20%3B%0A%0A%20%20%20%20%20%20%20%20%0A%20%20%20%20%0A%20%20%20%20%0A%20%20%20%20%20%20%20%20%20%20%20%20var%20marker_0e47a9578da64b6d802f055d4b99085a%20%3D%20L.marker%28%0A%20%20%20%20%20%20%20%20%20%20%20%20%20%20%20%20%5B43.76669727%2C%2011.25292636%5D%2C%0A%20%20%20%20%20%20%20%20%20%20%20%20%20%20%20%20%7B%7D%0A%20%20%20%20%20%20%20%20%20%20%20%20%29.addTo%28map_b98b389f61064b299c4cde471c85a0fb%29%3B%0A%20%20%20%20%20%20%20%20%0A%20%20%20%20%0A%20%20%20%20%20%20%20%20var%20popup_d1d34fd664434cba8f0f40b89146490e%20%3D%20L.popup%28%7B%22maxWidth%22%3A%20%22100%25%22%7D%29%3B%0A%0A%20%20%20%20%20%20%20%20%0A%20%20%20%20%20%20%20%20%20%20%20%20var%20html_f11838a270694a9ab1ea69ed726490c8%20%3D%20%24%28%60%3Cdiv%20id%3D%22html_f11838a270694a9ab1ea69ed726490c8%22%20style%3D%22width%3A%20100.0%25%3B%20height%3A%20100.0%25%3B%22%3E%20%20%20%20%20%20%20%20%20%3Cul%3E%20%20%20%20%20%20%20%20%20%20%20%20%20%3Cli%3E%3Cstrong%3EID%3A%20%3C/strong%3E6016%3C/li%3E%20%20%20%20%20%20%20%20%20%20%20%20%20%3Cli%3E%3Cstrong%3ESource%3A%20%3C/strong%3EHenderson%20P%26C%20%239%3C/li%3E%20%20%20%20%20%20%20%20%20%20%20%20%20%3Cli%3E%3Cstrong%3EName%3A%20%3C/strong%3ENo%20resident%3C/li%3E%20%20%20%20%20%20%20%20%20%3Cul%3E%20%20%20%20%20%3C/div%3E%60%29%5B0%5D%3B%0A%20%20%20%20%20%20%20%20%20%20%20%20popup_d1d34fd664434cba8f0f40b89146490e.setContent%28html_f11838a270694a9ab1ea69ed726490c8%29%3B%0A%20%20%20%20%20%20%20%20%0A%0A%20%20%20%20%20%20%20%20marker_0e47a9578da64b6d802f055d4b99085a.bindPopup%28popup_d1d34fd664434cba8f0f40b89146490e%29%0A%20%20%20%20%20%20%20%20%3B%0A%0A%20%20%20%20%20%20%20%20%0A%20%20%20%20%0A%20%20%20%20%0A%20%20%20%20%20%20%20%20%20%20%20%20var%20marker_08edd6b5c2e84f588af8347192f81a3e%20%3D%20L.marker%28%0A%20%20%20%20%20%20%20%20%20%20%20%20%20%20%20%20%5B43.772855%2C%2011.244225%5D%2C%0A%20%20%20%20%20%20%20%20%20%20%20%20%20%20%20%20%7B%7D%0A%20%20%20%20%20%20%20%20%20%20%20%20%29.addTo%28map_b98b389f61064b299c4cde471c85a0fb%29%3B%0A%20%20%20%20%20%20%20%20%0A%20%20%20%20%0A%20%20%20%20%20%20%20%20var%20popup_58a2aafa7ffc49b6b217f6305d6796d3%20%3D%20L.popup%28%7B%22maxWidth%22%3A%20%22100%25%22%7D%29%3B%0A%0A%20%20%20%20%20%20%20%20%0A%20%20%20%20%20%20%20%20%20%20%20%20var%20html_ceca11339cd94eb4a8b3ad06de84b23f%20%3D%20%24%28%60%3Cdiv%20id%3D%22html_ceca11339cd94eb4a8b3ad06de84b23f%22%20style%3D%22width%3A%20100.0%25%3B%20height%3A%20100.0%25%3B%22%3E%20%20%20%20%20%20%20%20%20%3Cul%3E%20%20%20%20%20%20%20%20%20%20%20%20%20%3Cli%3E%3Cstrong%3EID%3A%20%3C/strong%3E5045%3C/li%3E%20%20%20%20%20%20%20%20%20%20%20%20%20%3Cli%3E%3Cstrong%3ESource%3A%20%3C/strong%3EHenderson%20P%26C%20%2322%3C/li%3E%20%20%20%20%20%20%20%20%20%20%20%20%20%3Cli%3E%3Cstrong%3EName%3A%20%3C/strong%3EDomenico%20d%27%20Antonio%2C%20tessitore%3C/li%3E%20%20%20%20%20%20%20%20%20%3Cul%3E%20%20%20%20%20%3C/div%3E%60%29%5B0%5D%3B%0A%20%20%20%20%20%20%20%20%20%20%20%20popup_58a2aafa7ffc49b6b217f6305d6796d3.setContent%28html_ceca11339cd94eb4a8b3ad06de84b23f%29%3B%0A%20%20%20%20%20%20%20%20%0A%0A%20%20%20%20%20%20%20%20marker_08edd6b5c2e84f588af8347192f81a3e.bindPopup%28popup_58a2aafa7ffc49b6b217f6305d6796d3%29%0A%20%20%20%20%20%20%20%20%3B%0A%0A%20%20%20%20%20%20%20%20%0A%20%20%20%20%0A%20%20%20%20%0A%20%20%20%20%20%20%20%20%20%20%20%20var%20marker_e323dcccc0474f75a57ad8b6e2b798d1%20%3D%20L.marker%28%0A%20%20%20%20%20%20%20%20%20%20%20%20%20%20%20%20%5B43.7727865%2C%2011.2443315%5D%2C%0A%20%20%20%20%20%20%20%20%20%20%20%20%20%20%20%20%7B%7D%0A%20%20%20%20%20%20%20%20%20%20%20%20%29.addTo%28map_b98b389f61064b299c4cde471c85a0fb%29%3B%0A%20%20%20%20%20%20%20%20%0A%20%20%20%20%0A%20%20%20%20%20%20%20%20var%20popup_8ef034b6071b4112bb6d6c11e35012cb%20%3D%20L.popup%28%7B%22maxWidth%22%3A%20%22100%25%22%7D%29%3B%0A%0A%20%20%20%20%20%20%20%20%0A%20%20%20%20%20%20%20%20%20%20%20%20var%20html_2414b8aa33e34e2fbb1413945dbfa4ce%20%3D%20%24%28%60%3Cdiv%20id%3D%22html_2414b8aa33e34e2fbb1413945dbfa4ce%22%20style%3D%22width%3A%20100.0%25%3B%20height%3A%20100.0%25%3B%22%3E%20%20%20%20%20%20%20%20%20%3Cul%3E%20%20%20%20%20%20%20%20%20%20%20%20%20%3Cli%3E%3Cstrong%3EID%3A%20%3C/strong%3E5071%3C/li%3E%20%20%20%20%20%20%20%20%20%20%20%20%20%3Cli%3E%3Cstrong%3ESource%3A%20%3C/strong%3EHenderson%20P%26C%20%2322%3C/li%3E%20%20%20%20%20%20%20%20%20%20%20%20%20%3Cli%3E%3Cstrong%3EName%3A%20%3C/strong%3EVincenzo%20di%20Francesco%3C/li%3E%20%20%20%20%20%20%20%20%20%3Cul%3E%20%20%20%20%20%3C/div%3E%60%29%5B0%5D%3B%0A%20%20%20%20%20%20%20%20%20%20%20%20popup_8ef034b6071b4112bb6d6c11e35012cb.setContent%28html_2414b8aa33e34e2fbb1413945dbfa4ce%29%3B%0A%20%20%20%20%20%20%20%20%0A%0A%20%20%20%20%20%20%20%20marker_e323dcccc0474f75a57ad8b6e2b798d1.bindPopup%28popup_8ef034b6071b4112bb6d6c11e35012cb%29%0A%20%20%20%20%20%20%20%20%3B%0A%0A%20%20%20%20%20%20%20%20%0A%20%20%20%20%0A%20%20%20%20%0A%20%20%20%20%20%20%20%20%20%20%20%20var%20marker_f79756be0e714f74bcf80a17d23da9d7%20%3D%20L.marker%28%0A%20%20%20%20%20%20%20%20%20%20%20%20%20%20%20%20%5B43.772718%2C%2011.244438%5D%2C%0A%20%20%20%20%20%20%20%20%20%20%20%20%20%20%20%20%7B%7D%0A%20%20%20%20%20%20%20%20%20%20%20%20%29.addTo%28map_b98b389f61064b299c4cde471c85a0fb%29%3B%0A%20%20%20%20%20%20%20%20%0A%20%20%20%20%0A%20%20%20%20%20%20%20%20var%20popup_5b203272eba745a2bb07b75951614497%20%3D%20L.popup%28%7B%22maxWidth%22%3A%20%22100%25%22%7D%29%3B%0A%0A%20%20%20%20%20%20%20%20%0A%20%20%20%20%20%20%20%20%20%20%20%20var%20html_01daa08944d244c9a6c2d97beef7127c%20%3D%20%24%28%60%3Cdiv%20id%3D%22html_01daa08944d244c9a6c2d97beef7127c%22%20style%3D%22width%3A%20100.0%25%3B%20height%3A%20100.0%25%3B%22%3E%20%20%20%20%20%20%20%20%20%3Cul%3E%20%20%20%20%20%20%20%20%20%20%20%20%20%3Cli%3E%3Cstrong%3EID%3A%20%3C/strong%3E5264%3C/li%3E%20%20%20%20%20%20%20%20%20%20%20%20%20%3Cli%3E%3Cstrong%3ESource%3A%20%3C/strong%3EHenderson%20P%26C%20%2322%3C/li%3E%20%20%20%20%20%20%20%20%20%20%20%20%20%3Cli%3E%3Cstrong%3EName%3A%20%3C/strong%3EMona%20Maria%2C%20moglie%20gia%20di%20Piero%20Bettini%3C/li%3E%20%20%20%20%20%20%20%20%20%3Cul%3E%20%20%20%20%20%3C/div%3E%60%29%5B0%5D%3B%0A%20%20%20%20%20%20%20%20%20%20%20%20popup_5b203272eba745a2bb07b75951614497.setContent%28html_01daa08944d244c9a6c2d97beef7127c%29%3B%0A%20%20%20%20%20%20%20%20%0A%0A%20%20%20%20%20%20%20%20marker_f79756be0e714f74bcf80a17d23da9d7.bindPopup%28popup_5b203272eba745a2bb07b75951614497%29%0A%20%20%20%20%20%20%20%20%3B%0A%0A%20%20%20%20%20%20%20%20%0A%20%20%20%20%0A%20%20%20%20%0A%20%20%20%20%20%20%20%20%20%20%20%20var%20marker_6d508f6077134021af04a28b23b015f2%20%3D%20L.marker%28%0A%20%20%20%20%20%20%20%20%20%20%20%20%20%20%20%20%5B43.77717333%2C%2011.26219133%5D%2C%0A%20%20%20%20%20%20%20%20%20%20%20%20%20%20%20%20%7B%7D%0A%20%20%20%20%20%20%20%20%20%20%20%20%29.addTo%28map_b98b389f61064b299c4cde471c85a0fb%29%3B%0A%20%20%20%20%20%20%20%20%0A%20%20%20%20%0A%20%20%20%20%20%20%20%20var%20popup_699da7fca74446d28029c6e9428c493c%20%3D%20L.popup%28%7B%22maxWidth%22%3A%20%22100%25%22%7D%29%3B%0A%0A%20%20%20%20%20%20%20%20%0A%20%20%20%20%20%20%20%20%20%20%20%20var%20html_5cbe4df5e3764b96b5849691e86e8ba5%20%3D%20%24%28%60%3Cdiv%20id%3D%22html_5cbe4df5e3764b96b5849691e86e8ba5%22%20style%3D%22width%3A%20100.0%25%3B%20height%3A%20100.0%25%3B%22%3E%20%20%20%20%20%20%20%20%20%3Cul%3E%20%20%20%20%20%20%20%20%20%20%20%20%20%3Cli%3E%3Cstrong%3EID%3A%20%3C/strong%3E1667%3C/li%3E%20%20%20%20%20%20%20%20%20%20%20%20%20%3Cli%3E%3Cstrong%3ESource%3A%20%3C/strong%3Enan%3C/li%3E%20%20%20%20%20%20%20%20%20%20%20%20%20%3Cli%3E%3Cstrong%3EName%3A%20%3C/strong%3ESimone%20di%20Filippo%20Rondinelli%3C/li%3E%20%20%20%20%20%20%20%20%20%3Cul%3E%20%20%20%20%20%3C/div%3E%60%29%5B0%5D%3B%0A%20%20%20%20%20%20%20%20%20%20%20%20popup_699da7fca74446d28029c6e9428c493c.setContent%28html_5cbe4df5e3764b96b5849691e86e8ba5%29%3B%0A%20%20%20%20%20%20%20%20%0A%0A%20%20%20%20%20%20%20%20marker_6d508f6077134021af04a28b23b015f2.bindPopup%28popup_699da7fca74446d28029c6e9428c493c%29%0A%20%20%20%20%20%20%20%20%3B%0A%0A%20%20%20%20%20%20%20%20%0A%20%20%20%20%0A%20%20%20%20%0A%20%20%20%20%20%20%20%20%20%20%20%20var%20marker_cea21a0400d94bec817367b3caa629c6%20%3D%20L.marker%28%0A%20%20%20%20%20%20%20%20%20%20%20%20%20%20%20%20%5B43.77779886%2C%2011.253971%5D%2C%0A%20%20%20%20%20%20%20%20%20%20%20%20%20%20%20%20%7B%7D%0A%20%20%20%20%20%20%20%20%20%20%20%20%29.addTo%28map_b98b389f61064b299c4cde471c85a0fb%29%3B%0A%20%20%20%20%20%20%20%20%0A%20%20%20%20%0A%20%20%20%20%20%20%20%20var%20popup_0f7273384d844d35b170829fdcda9621%20%3D%20L.popup%28%7B%22maxWidth%22%3A%20%22100%25%22%7D%29%3B%0A%0A%20%20%20%20%20%20%20%20%0A%20%20%20%20%20%20%20%20%20%20%20%20var%20html_30dc7ad571234904a0e3af04b1d8b0ef%20%3D%20%24%28%60%3Cdiv%20id%3D%22html_30dc7ad571234904a0e3af04b1d8b0ef%22%20style%3D%22width%3A%20100.0%25%3B%20height%3A%20100.0%25%3B%22%3E%20%20%20%20%20%20%20%20%20%3Cul%3E%20%20%20%20%20%20%20%20%20%20%20%20%20%3Cli%3E%3Cstrong%3EID%3A%20%3C/strong%3E131%3C/li%3E%20%20%20%20%20%20%20%20%20%20%20%20%20%3Cli%3E%3Cstrong%3ESource%3A%20%3C/strong%3EHenderson%20P%26C%20%2342%3C/li%3E%20%20%20%20%20%20%20%20%20%20%20%20%20%3Cli%3E%3Cstrong%3EName%3A%20%3C/strong%3ELorenzo%20di%20Francesco%20Romagnolo%3C/li%3E%20%20%20%20%20%20%20%20%20%3Cul%3E%20%20%20%20%20%3C/div%3E%60%29%5B0%5D%3B%0A%20%20%20%20%20%20%20%20%20%20%20%20popup_0f7273384d844d35b170829fdcda9621.setContent%28html_30dc7ad571234904a0e3af04b1d8b0ef%29%3B%0A%20%20%20%20%20%20%20%20%0A%0A%20%20%20%20%20%20%20%20marker_cea21a0400d94bec817367b3caa629c6.bindPopup%28popup_0f7273384d844d35b170829fdcda9621%29%0A%20%20%20%20%20%20%20%20%3B%0A%0A%20%20%20%20%20%20%20%20%0A%20%20%20%20%0A%20%20%20%20%0A%20%20%20%20%20%20%20%20%20%20%20%20var%20marker_3425210d9bc64385ba00f9fe14343142%20%3D%20L.marker%28%0A%20%20%20%20%20%20%20%20%20%20%20%20%20%20%20%20%5B43.77775557%2C%2011.2539%5D%2C%0A%20%20%20%20%20%20%20%20%20%20%20%20%20%20%20%20%7B%7D%0A%20%20%20%20%20%20%20%20%20%20%20%20%29.addTo%28map_b98b389f61064b299c4cde471c85a0fb%29%3B%0A%20%20%20%20%20%20%20%20%0A%20%20%20%20%0A%20%20%20%20%20%20%20%20var%20popup_97d24e966bf44ab6830d94918afe278e%20%3D%20L.popup%28%7B%22maxWidth%22%3A%20%22100%25%22%7D%29%3B%0A%0A%20%20%20%20%20%20%20%20%0A%20%20%20%20%20%20%20%20%20%20%20%20var%20html_106c98ea1bc8482985404b9c874b0a95%20%3D%20%24%28%60%3Cdiv%20id%3D%22html_106c98ea1bc8482985404b9c874b0a95%22%20style%3D%22width%3A%20100.0%25%3B%20height%3A%20100.0%25%3B%22%3E%20%20%20%20%20%20%20%20%20%3Cul%3E%20%20%20%20%20%20%20%20%20%20%20%20%20%3Cli%3E%3Cstrong%3EID%3A%20%3C/strong%3E554%3C/li%3E%20%20%20%20%20%20%20%20%20%20%20%20%20%3Cli%3E%3Cstrong%3ESource%3A%20%3C/strong%3EHenderson%20P%26C%20%2342%3C/li%3E%20%20%20%20%20%20%20%20%20%20%20%20%20%3Cli%3E%3Cstrong%3EName%3A%20%3C/strong%3ESanti%20di%20Giovanni%2C%20esattore%20a%20Capitani%20di%20Parte%3C/li%3E%20%20%20%20%20%20%20%20%20%3Cul%3E%20%20%20%20%20%3C/div%3E%60%29%5B0%5D%3B%0A%20%20%20%20%20%20%20%20%20%20%20%20popup_97d24e966bf44ab6830d94918afe278e.setContent%28html_106c98ea1bc8482985404b9c874b0a95%29%3B%0A%20%20%20%20%20%20%20%20%0A%0A%20%20%20%20%20%20%20%20marker_3425210d9bc64385ba00f9fe14343142.bindPopup%28popup_97d24e966bf44ab6830d94918afe278e%29%0A%20%20%20%20%20%20%20%20%3B%0A%0A%20%20%20%20%20%20%20%20%0A%20%20%20%20%0A%20%20%20%20%0A%20%20%20%20%20%20%20%20%20%20%20%20var%20marker_805616267a7f4f609b0bfd9f01a9952f%20%3D%20L.marker%28%0A%20%20%20%20%20%20%20%20%20%20%20%20%20%20%20%20%5B43.776641%2C%2011.25262992%5D%2C%0A%20%20%20%20%20%20%20%20%20%20%20%20%20%20%20%20%7B%7D%0A%20%20%20%20%20%20%20%20%20%20%20%20%29.addTo%28map_b98b389f61064b299c4cde471c85a0fb%29%3B%0A%20%20%20%20%20%20%20%20%0A%20%20%20%20%0A%20%20%20%20%20%20%20%20var%20popup_fd37221fe60845708d9d200b867de9d3%20%3D%20L.popup%28%7B%22maxWidth%22%3A%20%22100%25%22%7D%29%3B%0A%0A%20%20%20%20%20%20%20%20%0A%20%20%20%20%20%20%20%20%20%20%20%20var%20html_c687bfe2a26f46b48f6313e13f8b3af3%20%3D%20%24%28%60%3Cdiv%20id%3D%22html_c687bfe2a26f46b48f6313e13f8b3af3%22%20style%3D%22width%3A%20100.0%25%3B%20height%3A%20100.0%25%3B%22%3E%20%20%20%20%20%20%20%20%20%3Cul%3E%20%20%20%20%20%20%20%20%20%20%20%20%20%3Cli%3E%3Cstrong%3EID%3A%20%3C/strong%3E582%3C/li%3E%20%20%20%20%20%20%20%20%20%20%20%20%20%3Cli%3E%3Cstrong%3ESource%3A%20%3C/strong%3EHenderson%20P%26C%20%2342%3C/li%3E%20%20%20%20%20%20%20%20%20%20%20%20%20%3Cli%3E%3Cstrong%3EName%3A%20%3C/strong%3EAntonio%20di%20Batista%20da%20Bologna%2C%20tessitore%3C/li%3E%20%20%20%20%20%20%20%20%20%3Cul%3E%20%20%20%20%20%3C/div%3E%60%29%5B0%5D%3B%0A%20%20%20%20%20%20%20%20%20%20%20%20popup_fd37221fe60845708d9d200b867de9d3.setContent%28html_c687bfe2a26f46b48f6313e13f8b3af3%29%3B%0A%20%20%20%20%20%20%20%20%0A%0A%20%20%20%20%20%20%20%20marker_805616267a7f4f609b0bfd9f01a9952f.bindPopup%28popup_fd37221fe60845708d9d200b867de9d3%29%0A%20%20%20%20%20%20%20%20%3B%0A%0A%20%20%20%20%20%20%20%20%0A%20%20%20%20%0A%20%20%20%20%0A%20%20%20%20%20%20%20%20%20%20%20%20var%20marker_ba32cf45d7fb494691f47af6bdf9ab23%20%3D%20L.marker%28%0A%20%20%20%20%20%20%20%20%20%20%20%20%20%20%20%20%5B43.76835491%2C%2011.24107655%5D%2C%0A%20%20%20%20%20%20%20%20%20%20%20%20%20%20%20%20%7B%7D%0A%20%20%20%20%20%20%20%20%20%20%20%20%29.addTo%28map_b98b389f61064b299c4cde471c85a0fb%29%3B%0A%20%20%20%20%20%20%20%20%0A%20%20%20%20%0A%20%20%20%20%20%20%20%20var%20popup_012b00a04f7f4aa19998b0b7c572e7a0%20%3D%20L.popup%28%7B%22maxWidth%22%3A%20%22100%25%22%7D%29%3B%0A%0A%20%20%20%20%20%20%20%20%0A%20%20%20%20%20%20%20%20%20%20%20%20var%20html_3864329c53af48ce9dc8b318e41af1f3%20%3D%20%24%28%60%3Cdiv%20id%3D%22html_3864329c53af48ce9dc8b318e41af1f3%22%20style%3D%22width%3A%20100.0%25%3B%20height%3A%20100.0%25%3B%22%3E%20%20%20%20%20%20%20%20%20%3Cul%3E%20%20%20%20%20%20%20%20%20%20%20%20%20%3Cli%3E%3Cstrong%3EID%3A%20%3C/strong%3E8351%3C/li%3E%20%20%20%20%20%20%20%20%20%20%20%20%20%3Cli%3E%3Cstrong%3ESource%3A%20%3C/strong%3Enan%3C/li%3E%20%20%20%20%20%20%20%20%20%20%20%20%20%3Cli%3E%3Cstrong%3EName%3A%20%3C/strong%3ELuca%20di%20Batista%20Tossi%20torcitore%3C/li%3E%20%20%20%20%20%20%20%20%20%3Cul%3E%20%20%20%20%20%3C/div%3E%60%29%5B0%5D%3B%0A%20%20%20%20%20%20%20%20%20%20%20%20popup_012b00a04f7f4aa19998b0b7c572e7a0.setContent%28html_3864329c53af48ce9dc8b318e41af1f3%29%3B%0A%20%20%20%20%20%20%20%20%0A%0A%20%20%20%20%20%20%20%20marker_ba32cf45d7fb494691f47af6bdf9ab23.bindPopup%28popup_012b00a04f7f4aa19998b0b7c572e7a0%29%0A%20%20%20%20%20%20%20%20%3B%0A%0A%20%20%20%20%20%20%20%20%0A%20%20%20%20%0A%20%20%20%20%0A%20%20%20%20%20%20%20%20%20%20%20%20var%20marker_0b098cab4cac43bc864023b23a819e0d%20%3D%20L.marker%28%0A%20%20%20%20%20%20%20%20%20%20%20%20%20%20%20%20%5B43.77713761%2C%2011.26215561%5D%2C%0A%20%20%20%20%20%20%20%20%20%20%20%20%20%20%20%20%7B%7D%0A%20%20%20%20%20%20%20%20%20%20%20%20%29.addTo%28map_b98b389f61064b299c4cde471c85a0fb%29%3B%0A%20%20%20%20%20%20%20%20%0A%20%20%20%20%0A%20%20%20%20%20%20%20%20var%20popup_14abbdafa32a49d4971704d2dbe80e0f%20%3D%20L.popup%28%7B%22maxWidth%22%3A%20%22100%25%22%7D%29%3B%0A%0A%20%20%20%20%20%20%20%20%0A%20%20%20%20%20%20%20%20%20%20%20%20var%20html_bd65a16797e3454d9737b778ee0e3ea7%20%3D%20%24%28%60%3Cdiv%20id%3D%22html_bd65a16797e3454d9737b778ee0e3ea7%22%20style%3D%22width%3A%20100.0%25%3B%20height%3A%20100.0%25%3B%22%3E%20%20%20%20%20%20%20%20%20%3Cul%3E%20%20%20%20%20%20%20%20%20%20%20%20%20%3Cli%3E%3Cstrong%3EID%3A%20%3C/strong%3E1443%3C/li%3E%20%20%20%20%20%20%20%20%20%20%20%20%20%3Cli%3E%3Cstrong%3ESource%3A%20%3C/strong%3E2006%20AMF%20Confraternity%20Itinerary%3C/li%3E%20%20%20%20%20%20%20%20%20%20%20%20%20%3Cli%3E%3Cstrong%3EName%3A%20%3C/strong%3ERedi%20di%20Filippo%20Lasagnini%3C/li%3E%20%20%20%20%20%20%20%20%20%3Cul%3E%20%20%20%20%20%3C/div%3E%60%29%5B0%5D%3B%0A%20%20%20%20%20%20%20%20%20%20%20%20popup_14abbdafa32a49d4971704d2dbe80e0f.setContent%28html_bd65a16797e3454d9737b778ee0e3ea7%29%3B%0A%20%20%20%20%20%20%20%20%0A%0A%20%20%20%20%20%20%20%20marker_0b098cab4cac43bc864023b23a819e0d.bindPopup%28popup_14abbdafa32a49d4971704d2dbe80e0f%29%0A%20%20%20%20%20%20%20%20%3B%0A%0A%20%20%20%20%20%20%20%20%0A%20%20%20%20%0A%20%20%20%20%0A%20%20%20%20%20%20%20%20%20%20%20%20var%20marker_145d0b302a4247f6a2c3484156ff6fc1%20%3D%20L.marker%28%0A%20%20%20%20%20%20%20%20%20%20%20%20%20%20%20%20%5B43.764344%2C%2011.25503%5D%2C%0A%20%20%20%20%20%20%20%20%20%20%20%20%20%20%20%20%7B%7D%0A%20%20%20%20%20%20%20%20%20%20%20%20%29.addTo%28map_b98b389f61064b299c4cde471c85a0fb%29%3B%0A%20%20%20%20%20%20%20%20%0A%20%20%20%20%0A%20%20%20%20%20%20%20%20var%20popup_9ff4391f1ac04f0d9e7e8092a8304f47%20%3D%20L.popup%28%7B%22maxWidth%22%3A%20%22100%25%22%7D%29%3B%0A%0A%20%20%20%20%20%20%20%20%0A%20%20%20%20%20%20%20%20%20%20%20%20var%20html_93e2531294d343efaca40927872a600f%20%3D%20%24%28%60%3Cdiv%20id%3D%22html_93e2531294d343efaca40927872a600f%22%20style%3D%22width%3A%20100.0%25%3B%20height%3A%20100.0%25%3B%22%3E%20%20%20%20%20%20%20%20%20%3Cul%3E%20%20%20%20%20%20%20%20%20%20%20%20%20%3Cli%3E%3Cstrong%3EID%3A%20%3C/strong%3E6027%3C/li%3E%20%20%20%20%20%20%20%20%20%20%20%20%20%3Cli%3E%3Cstrong%3ESource%3A%20%3C/strong%3Enan%3C/li%3E%20%20%20%20%20%20%20%20%20%20%20%20%20%3Cli%3E%3Cstrong%3EName%3A%20%3C/strong%3EBartolomeo%20di%20.%20.%20.%20tessitore%3C/li%3E%20%20%20%20%20%20%20%20%20%3Cul%3E%20%20%20%20%20%3C/div%3E%60%29%5B0%5D%3B%0A%20%20%20%20%20%20%20%20%20%20%20%20popup_9ff4391f1ac04f0d9e7e8092a8304f47.setContent%28html_93e2531294d343efaca40927872a600f%29%3B%0A%20%20%20%20%20%20%20%20%0A%0A%20%20%20%20%20%20%20%20marker_145d0b302a4247f6a2c3484156ff6fc1.bindPopup%28popup_9ff4391f1ac04f0d9e7e8092a8304f47%29%0A%20%20%20%20%20%20%20%20%3B%0A%0A%20%20%20%20%20%20%20%20%0A%20%20%20%20%0A%20%20%20%20%0A%20%20%20%20%20%20%20%20%20%20%20%20var%20marker_62755e87a913455b98d05501dbf72d32%20%3D%20L.marker%28%0A%20%20%20%20%20%20%20%20%20%20%20%20%20%20%20%20%5B43.76656545%2C%2011.25341727%5D%2C%0A%20%20%20%20%20%20%20%20%20%20%20%20%20%20%20%20%7B%7D%0A%20%20%20%20%20%20%20%20%20%20%20%20%29.addTo%28map_b98b389f61064b299c4cde471c85a0fb%29%3B%0A%20%20%20%20%20%20%20%20%0A%20%20%20%20%0A%20%20%20%20%20%20%20%20var%20popup_cf2fcab7a348486791e9f91c11831000%20%3D%20L.popup%28%7B%22maxWidth%22%3A%20%22100%25%22%7D%29%3B%0A%0A%20%20%20%20%20%20%20%20%0A%20%20%20%20%20%20%20%20%20%20%20%20var%20html_35f53ba9a41f400386f7498d6dec9dbb%20%3D%20%24%28%60%3Cdiv%20id%3D%22html_35f53ba9a41f400386f7498d6dec9dbb%22%20style%3D%22width%3A%20100.0%25%3B%20height%3A%20100.0%25%3B%22%3E%20%20%20%20%20%20%20%20%20%3Cul%3E%20%20%20%20%20%20%20%20%20%20%20%20%20%3Cli%3E%3Cstrong%3EID%3A%20%3C/strong%3E6324%3C/li%3E%20%20%20%20%20%20%20%20%20%20%20%20%20%3Cli%3E%3Cstrong%3ESource%3A%20%3C/strong%3Enan%3C/li%3E%20%20%20%20%20%20%20%20%20%20%20%20%20%3Cli%3E%3Cstrong%3EName%3A%20%3C/strong%3EMona%20Lexandra%20di%20Domenico%20barbiere%3C/li%3E%20%20%20%20%20%20%20%20%20%3Cul%3E%20%20%20%20%20%3C/div%3E%60%29%5B0%5D%3B%0A%20%20%20%20%20%20%20%20%20%20%20%20popup_cf2fcab7a348486791e9f91c11831000.setContent%28html_35f53ba9a41f400386f7498d6dec9dbb%29%3B%0A%20%20%20%20%20%20%20%20%0A%0A%20%20%20%20%20%20%20%20marker_62755e87a913455b98d05501dbf72d32.bindPopup%28popup_cf2fcab7a348486791e9f91c11831000%29%0A%20%20%20%20%20%20%20%20%3B%0A%0A%20%20%20%20%20%20%20%20%0A%20%20%20%20%0A%20%20%20%20%0A%20%20%20%20%20%20%20%20%20%20%20%20var%20marker_9234badce2e942babba7fb67d31f03b2%20%3D%20L.marker%28%0A%20%20%20%20%20%20%20%20%20%20%20%20%20%20%20%20%5B43.76648625%2C%2011.254495%5D%2C%0A%20%20%20%20%20%20%20%20%20%20%20%20%20%20%20%20%7B%7D%0A%20%20%20%20%20%20%20%20%20%20%20%20%29.addTo%28map_b98b389f61064b299c4cde471c85a0fb%29%3B%0A%20%20%20%20%20%20%20%20%0A%20%20%20%20%0A%20%20%20%20%20%20%20%20var%20popup_79633b2372044b92ad13593b39fefeae%20%3D%20L.popup%28%7B%22maxWidth%22%3A%20%22100%25%22%7D%29%3B%0A%0A%20%20%20%20%20%20%20%20%0A%20%20%20%20%20%20%20%20%20%20%20%20var%20html_0da5387cb50540b29740ee75684ef995%20%3D%20%24%28%60%3Cdiv%20id%3D%22html_0da5387cb50540b29740ee75684ef995%22%20style%3D%22width%3A%20100.0%25%3B%20height%3A%20100.0%25%3B%22%3E%20%20%20%20%20%20%20%20%20%3Cul%3E%20%20%20%20%20%20%20%20%20%20%20%20%20%3Cli%3E%3Cstrong%3EID%3A%20%3C/strong%3E6180%3C/li%3E%20%20%20%20%20%20%20%20%20%20%20%20%20%3Cli%3E%3Cstrong%3ESource%3A%20%3C/strong%3Enan%3C/li%3E%20%20%20%20%20%20%20%20%20%20%20%20%20%3Cli%3E%3Cstrong%3EName%3A%20%3C/strong%3ETre%20pigionali%3C/li%3E%20%20%20%20%20%20%20%20%20%3Cul%3E%20%20%20%20%20%3C/div%3E%60%29%5B0%5D%3B%0A%20%20%20%20%20%20%20%20%20%20%20%20popup_79633b2372044b92ad13593b39fefeae.setContent%28html_0da5387cb50540b29740ee75684ef995%29%3B%0A%20%20%20%20%20%20%20%20%0A%0A%20%20%20%20%20%20%20%20marker_9234badce2e942babba7fb67d31f03b2.bindPopup%28popup_79633b2372044b92ad13593b39fefeae%29%0A%20%20%20%20%20%20%20%20%3B%0A%0A%20%20%20%20%20%20%20%20%0A%20%20%20%20%0A%20%20%20%20%0A%20%20%20%20%20%20%20%20%20%20%20%20var%20marker_e287c84cbc414660bf208e00f3863745%20%3D%20L.marker%28%0A%20%20%20%20%20%20%20%20%20%20%20%20%20%20%20%20%5B43.773077%2C%2011.263158%5D%2C%0A%20%20%20%20%20%20%20%20%20%20%20%20%20%20%20%20%7B%7D%0A%20%20%20%20%20%20%20%20%20%20%20%20%29.addTo%28map_b98b389f61064b299c4cde471c85a0fb%29%3B%0A%20%20%20%20%20%20%20%20%0A%20%20%20%20%0A%20%20%20%20%20%20%20%20var%20popup_35ee913f9c5f418a93cff21f00b169de%20%3D%20L.popup%28%7B%22maxWidth%22%3A%20%22100%25%22%7D%29%3B%0A%0A%20%20%20%20%20%20%20%20%0A%20%20%20%20%20%20%20%20%20%20%20%20var%20html_c9e0c5a0ec764f6b96749e9797909512%20%3D%20%24%28%60%3Cdiv%20id%3D%22html_c9e0c5a0ec764f6b96749e9797909512%22%20style%3D%22width%3A%20100.0%25%3B%20height%3A%20100.0%25%3B%22%3E%20%20%20%20%20%20%20%20%20%3Cul%3E%20%20%20%20%20%20%20%20%20%20%20%20%20%3Cli%3E%3Cstrong%3EID%3A%20%3C/strong%3E2300%3C/li%3E%20%20%20%20%20%20%20%20%20%20%20%20%20%3Cli%3E%3Cstrong%3ESource%3A%20%3C/strong%3EHenderson%20P%26C%20%2366%3C/li%3E%20%20%20%20%20%20%20%20%20%20%20%20%20%3Cli%3E%3Cstrong%3EName%3A%20%3C/strong%3ENo%20resident%3C/li%3E%20%20%20%20%20%20%20%20%20%3Cul%3E%20%20%20%20%20%3C/div%3E%60%29%5B0%5D%3B%0A%20%20%20%20%20%20%20%20%20%20%20%20popup_35ee913f9c5f418a93cff21f00b169de.setContent%28html_c9e0c5a0ec764f6b96749e9797909512%29%3B%0A%20%20%20%20%20%20%20%20%0A%0A%20%20%20%20%20%20%20%20marker_e287c84cbc414660bf208e00f3863745.bindPopup%28popup_35ee913f9c5f418a93cff21f00b169de%29%0A%20%20%20%20%20%20%20%20%3B%0A%0A%20%20%20%20%20%20%20%20%0A%20%20%20%20%0A%20%20%20%20%0A%20%20%20%20%20%20%20%20%20%20%20%20var%20marker_0068e6deb9da4a12a93592590b3139e9%20%3D%20L.marker%28%0A%20%20%20%20%20%20%20%20%20%20%20%20%20%20%20%20%5B43.77289553%2C%2011.26334247%5D%2C%0A%20%20%20%20%20%20%20%20%20%20%20%20%20%20%20%20%7B%7D%0A%20%20%20%20%20%20%20%20%20%20%20%20%29.addTo%28map_b98b389f61064b299c4cde471c85a0fb%29%3B%0A%20%20%20%20%20%20%20%20%0A%20%20%20%20%0A%20%20%20%20%20%20%20%20var%20popup_138d019d82cf48a1a9d8c065aaca816d%20%3D%20L.popup%28%7B%22maxWidth%22%3A%20%22100%25%22%7D%29%3B%0A%0A%20%20%20%20%20%20%20%20%0A%20%20%20%20%20%20%20%20%20%20%20%20var%20html_34deff2ac8914e4399599e35108dd8fa%20%3D%20%24%28%60%3Cdiv%20id%3D%22html_34deff2ac8914e4399599e35108dd8fa%22%20style%3D%22width%3A%20100.0%25%3B%20height%3A%20100.0%25%3B%22%3E%20%20%20%20%20%20%20%20%20%3Cul%3E%20%20%20%20%20%20%20%20%20%20%20%20%20%3Cli%3E%3Cstrong%3EID%3A%20%3C/strong%3E2673%3C/li%3E%20%20%20%20%20%20%20%20%20%20%20%20%20%3Cli%3E%3Cstrong%3ESource%3A%20%3C/strong%3EHenderson%20P%26C%20%2366%3C/li%3E%20%20%20%20%20%20%20%20%20%20%20%20%20%3Cli%3E%3Cstrong%3EName%3A%20%3C/strong%3Eser%20%20Lorenzo%20di%20Francesco%20Lorenzi%3C/li%3E%20%20%20%20%20%20%20%20%20%3Cul%3E%20%20%20%20%20%3C/div%3E%60%29%5B0%5D%3B%0A%20%20%20%20%20%20%20%20%20%20%20%20popup_138d019d82cf48a1a9d8c065aaca816d.setContent%28html_34deff2ac8914e4399599e35108dd8fa%29%3B%0A%20%20%20%20%20%20%20%20%0A%0A%20%20%20%20%20%20%20%20marker_0068e6deb9da4a12a93592590b3139e9.bindPopup%28popup_138d019d82cf48a1a9d8c065aaca816d%29%0A%20%20%20%20%20%20%20%20%3B%0A%0A%20%20%20%20%20%20%20%20%0A%20%20%20%20%0A%20%20%20%20%0A%20%20%20%20%20%20%20%20%20%20%20%20var%20marker_abd11509ed11462495b79d7b01488b10%20%3D%20L.marker%28%0A%20%20%20%20%20%20%20%20%20%20%20%20%20%20%20%20%5B43.77034154%2C%2011.24215077%5D%2C%0A%20%20%20%20%20%20%20%20%20%20%20%20%20%20%20%20%7B%7D%0A%20%20%20%20%20%20%20%20%20%20%20%20%29.addTo%28map_b98b389f61064b299c4cde471c85a0fb%29%3B%0A%20%20%20%20%20%20%20%20%0A%20%20%20%20%0A%20%20%20%20%20%20%20%20var%20popup_29d097eaefb8457a828ef8bb3d92bf8e%20%3D%20L.popup%28%7B%22maxWidth%22%3A%20%22100%25%22%7D%29%3B%0A%0A%20%20%20%20%20%20%20%20%0A%20%20%20%20%20%20%20%20%20%20%20%20var%20html_e98a7b93c0554022845bed6694907491%20%3D%20%24%28%60%3Cdiv%20id%3D%22html_e98a7b93c0554022845bed6694907491%22%20style%3D%22width%3A%20100.0%25%3B%20height%3A%20100.0%25%3B%22%3E%20%20%20%20%20%20%20%20%20%3Cul%3E%20%20%20%20%20%20%20%20%20%20%20%20%20%3Cli%3E%3Cstrong%3EID%3A%20%3C/strong%3E8024%3C/li%3E%20%20%20%20%20%20%20%20%20%20%20%20%20%3Cli%3E%3Cstrong%3ESource%3A%20%3C/strong%3EHenderson%20P%26C%20%2366%3C/li%3E%20%20%20%20%20%20%20%20%20%20%20%20%20%3Cli%3E%3Cstrong%3EName%3A%20%3C/strong%3EBatista%20di%20Francesco%20funaiuolo%3C/li%3E%20%20%20%20%20%20%20%20%20%3Cul%3E%20%20%20%20%20%3C/div%3E%60%29%5B0%5D%3B%0A%20%20%20%20%20%20%20%20%20%20%20%20popup_29d097eaefb8457a828ef8bb3d92bf8e.setContent%28html_e98a7b93c0554022845bed6694907491%29%3B%0A%20%20%20%20%20%20%20%20%0A%0A%20%20%20%20%20%20%20%20marker_abd11509ed11462495b79d7b01488b10.bindPopup%28popup_29d097eaefb8457a828ef8bb3d92bf8e%29%0A%20%20%20%20%20%20%20%20%3B%0A%0A%20%20%20%20%20%20%20%20%0A%20%20%20%20%0A%20%20%20%20%0A%20%20%20%20%20%20%20%20%20%20%20%20var%20marker_ef6de72bef694212b60064948a4033a3%20%3D%20L.marker%28%0A%20%20%20%20%20%20%20%20%20%20%20%20%20%20%20%20%5B43.77198%2C%2011.252595%5D%2C%0A%20%20%20%20%20%20%20%20%20%20%20%20%20%20%20%20%7B%7D%0A%20%20%20%20%20%20%20%20%20%20%20%20%29.addTo%28map_b98b389f61064b299c4cde471c85a0fb%29%3B%0A%20%20%20%20%20%20%20%20%0A%20%20%20%20%0A%20%20%20%20%20%20%20%20var%20popup_90ddbdcf1b7645388d87798cee6dae58%20%3D%20L.popup%28%7B%22maxWidth%22%3A%20%22100%25%22%7D%29%3B%0A%0A%20%20%20%20%20%20%20%20%0A%20%20%20%20%20%20%20%20%20%20%20%20var%20html_a7b11c4cd2b04fdbab2e82972439ba8d%20%3D%20%24%28%60%3Cdiv%20id%3D%22html_a7b11c4cd2b04fdbab2e82972439ba8d%22%20style%3D%22width%3A%20100.0%25%3B%20height%3A%20100.0%25%3B%22%3E%20%20%20%20%20%20%20%20%20%3Cul%3E%20%20%20%20%20%20%20%20%20%20%20%20%20%3Cli%3E%3Cstrong%3EID%3A%20%3C/strong%3E6233%3C/li%3E%20%20%20%20%20%20%20%20%20%20%20%20%20%3Cli%3E%3Cstrong%3ESource%3A%20%3C/strong%3EHenderson%20P%26C%20%2366%3C/li%3E%20%20%20%20%20%20%20%20%20%20%20%20%20%3Cli%3E%3Cstrong%3EName%3A%20%3C/strong%3EGirolamo%20di%20Bartolomeo%2C%20fornaio%3C/li%3E%20%20%20%20%20%20%20%20%20%3Cul%3E%20%20%20%20%20%3C/div%3E%60%29%5B0%5D%3B%0A%20%20%20%20%20%20%20%20%20%20%20%20popup_90ddbdcf1b7645388d87798cee6dae58.setContent%28html_a7b11c4cd2b04fdbab2e82972439ba8d%29%3B%0A%20%20%20%20%20%20%20%20%0A%0A%20%20%20%20%20%20%20%20marker_ef6de72bef694212b60064948a4033a3.bindPopup%28popup_90ddbdcf1b7645388d87798cee6dae58%29%0A%20%20%20%20%20%20%20%20%3B%0A%0A%20%20%20%20%20%20%20%20%0A%20%20%20%20%0A%20%20%20%20%0A%20%20%20%20%20%20%20%20%20%20%20%20var%20marker_725f07441e55462c910775defa08456f%20%3D%20L.marker%28%0A%20%20%20%20%20%20%20%20%20%20%20%20%20%20%20%20%5B43.77497133%2C%2011.26411667%5D%2C%0A%20%20%20%20%20%20%20%20%20%20%20%20%20%20%20%20%7B%7D%0A%20%20%20%20%20%20%20%20%20%20%20%20%29.addTo%28map_b98b389f61064b299c4cde471c85a0fb%29%3B%0A%20%20%20%20%20%20%20%20%0A%20%20%20%20%0A%20%20%20%20%20%20%20%20var%20popup_169a34d673854d2bacdc319455f6a8ae%20%3D%20L.popup%28%7B%22maxWidth%22%3A%20%22100%25%22%7D%29%3B%0A%0A%20%20%20%20%20%20%20%20%0A%20%20%20%20%20%20%20%20%20%20%20%20var%20html_bd1449968fb244968b27769af2d96893%20%3D%20%24%28%60%3Cdiv%20id%3D%22html_bd1449968fb244968b27769af2d96893%22%20style%3D%22width%3A%20100.0%25%3B%20height%3A%20100.0%25%3B%22%3E%20%20%20%20%20%20%20%20%20%3Cul%3E%20%20%20%20%20%20%20%20%20%20%20%20%20%3Cli%3E%3Cstrong%3EID%3A%20%3C/strong%3E1588%3C/li%3E%20%20%20%20%20%20%20%20%20%20%20%20%20%3Cli%3E%3Cstrong%3ESource%3A%20%3C/strong%3EHenderson%20P%26C%20%2366%3C/li%3E%20%20%20%20%20%20%20%20%20%20%20%20%20%3Cli%3E%3Cstrong%3EName%3A%20%3C/strong%3EMona%20Piera%2C%20donna%20fu%20di%20Frosino%20Faciulli%3C/li%3E%20%20%20%20%20%20%20%20%20%3Cul%3E%20%20%20%20%20%3C/div%3E%60%29%5B0%5D%3B%0A%20%20%20%20%20%20%20%20%20%20%20%20popup_169a34d673854d2bacdc319455f6a8ae.setContent%28html_bd1449968fb244968b27769af2d96893%29%3B%0A%20%20%20%20%20%20%20%20%0A%0A%20%20%20%20%20%20%20%20marker_725f07441e55462c910775defa08456f.bindPopup%28popup_169a34d673854d2bacdc319455f6a8ae%29%0A%20%20%20%20%20%20%20%20%3B%0A%0A%20%20%20%20%20%20%20%20%0A%20%20%20%20%0A%20%20%20%20%0A%20%20%20%20%20%20%20%20%20%20%20%20var%20marker_3a967dcb696d44eea572ee500fcf79c4%20%3D%20L.marker%28%0A%20%20%20%20%20%20%20%20%20%20%20%20%20%20%20%20%5B43.767332%2C%2011.24068%5D%2C%0A%20%20%20%20%20%20%20%20%20%20%20%20%20%20%20%20%7B%7D%0A%20%20%20%20%20%20%20%20%20%20%20%20%29.addTo%28map_b98b389f61064b299c4cde471c85a0fb%29%3B%0A%20%20%20%20%20%20%20%20%0A%20%20%20%20%0A%20%20%20%20%20%20%20%20var%20popup_e570791ee26342dca0cf76695575c807%20%3D%20L.popup%28%7B%22maxWidth%22%3A%20%22100%25%22%7D%29%3B%0A%0A%20%20%20%20%20%20%20%20%0A%20%20%20%20%20%20%20%20%20%20%20%20var%20html_dce396f000e44b9fb0b0d5d29451208b%20%3D%20%24%28%60%3Cdiv%20id%3D%22html_dce396f000e44b9fb0b0d5d29451208b%22%20style%3D%22width%3A%20100.0%25%3B%20height%3A%20100.0%25%3B%22%3E%20%20%20%20%20%20%20%20%20%3Cul%3E%20%20%20%20%20%20%20%20%20%20%20%20%20%3Cli%3E%3Cstrong%3EID%3A%20%3C/strong%3E8038%3C/li%3E%20%20%20%20%20%20%20%20%20%20%20%20%20%3Cli%3E%3Cstrong%3ESource%3A%20%3C/strong%3EHenderson%20P%26C%20%23103%3C/li%3E%20%20%20%20%20%20%20%20%20%20%20%20%20%3Cli%3E%3Cstrong%3EName%3A%20%3C/strong%3EAndrea%20di%20Francesco%20dalla%20Mirandola%3C/li%3E%20%20%20%20%20%20%20%20%20%3Cul%3E%20%20%20%20%20%3C/div%3E%60%29%5B0%5D%3B%0A%20%20%20%20%20%20%20%20%20%20%20%20popup_e570791ee26342dca0cf76695575c807.setContent%28html_dce396f000e44b9fb0b0d5d29451208b%29%3B%0A%20%20%20%20%20%20%20%20%0A%0A%20%20%20%20%20%20%20%20marker_3a967dcb696d44eea572ee500fcf79c4.bindPopup%28popup_e570791ee26342dca0cf76695575c807%29%0A%20%20%20%20%20%20%20%20%3B%0A%0A%20%20%20%20%20%20%20%20%0A%20%20%20%20%0A%20%20%20%20%0A%20%20%20%20%20%20%20%20%20%20%20%20var%20marker_12fbeeed46e44831b6cb157511a4e497%20%3D%20L.marker%28%0A%20%20%20%20%20%20%20%20%20%20%20%20%20%20%20%20%5B43.76856%2C%2011.26649%5D%2C%0A%20%20%20%20%20%20%20%20%20%20%20%20%20%20%20%20%7B%7D%0A%20%20%20%20%20%20%20%20%20%20%20%20%29.addTo%28map_b98b389f61064b299c4cde471c85a0fb%29%3B%0A%20%20%20%20%20%20%20%20%0A%20%20%20%20%0A%20%20%20%20%20%20%20%20var%20popup_90b2d9160a0e45859deb339b8dc66252%20%3D%20L.popup%28%7B%22maxWidth%22%3A%20%22100%25%22%7D%29%3B%0A%0A%20%20%20%20%20%20%20%20%0A%20%20%20%20%20%20%20%20%20%20%20%20var%20html_ca44f9f318194929a6bba0142eaa2ca2%20%3D%20%24%28%60%3Cdiv%20id%3D%22html_ca44f9f318194929a6bba0142eaa2ca2%22%20style%3D%22width%3A%20100.0%25%3B%20height%3A%20100.0%25%3B%22%3E%20%20%20%20%20%20%20%20%20%3Cul%3E%20%20%20%20%20%20%20%20%20%20%20%20%20%3Cli%3E%3Cstrong%3EID%3A%20%3C/strong%3E3072%3C/li%3E%20%20%20%20%20%20%20%20%20%20%20%20%20%3Cli%3E%3Cstrong%3ESource%3A%20%3C/strong%3EHenderson%20P%26C%20%23103%3C/li%3E%20%20%20%20%20%20%20%20%20%20%20%20%20%3Cli%3E%3Cstrong%3EName%3A%20%3C/strong%3Enan%3C/li%3E%20%20%20%20%20%20%20%20%20%3Cul%3E%20%20%20%20%20%3C/div%3E%60%29%5B0%5D%3B%0A%20%20%20%20%20%20%20%20%20%20%20%20popup_90b2d9160a0e45859deb339b8dc66252.setContent%28html_ca44f9f318194929a6bba0142eaa2ca2%29%3B%0A%20%20%20%20%20%20%20%20%0A%0A%20%20%20%20%20%20%20%20marker_12fbeeed46e44831b6cb157511a4e497.bindPopup%28popup_90b2d9160a0e45859deb339b8dc66252%29%0A%20%20%20%20%20%20%20%20%3B%0A%0A%20%20%20%20%20%20%20%20%0A%20%20%20%20%0A%20%20%20%20%0A%20%20%20%20%20%20%20%20%20%20%20%20var%20marker_c680f29c2aa546babb39db3a310e2174%20%3D%20L.marker%28%0A%20%20%20%20%20%20%20%20%20%20%20%20%20%20%20%20%5B43.76807%2C%2011.2658%5D%2C%0A%20%20%20%20%20%20%20%20%20%20%20%20%20%20%20%20%7B%7D%0A%20%20%20%20%20%20%20%20%20%20%20%20%29.addTo%28map_b98b389f61064b299c4cde471c85a0fb%29%3B%0A%20%20%20%20%20%20%20%20%0A%20%20%20%20%0A%20%20%20%20%20%20%20%20var%20popup_7ad8cd1dd48342da9b384b060ced7d06%20%3D%20L.popup%28%7B%22maxWidth%22%3A%20%22100%25%22%7D%29%3B%0A%0A%20%20%20%20%20%20%20%20%0A%20%20%20%20%20%20%20%20%20%20%20%20var%20html_8c9e19bfe46b4b689859b2ee85f193de%20%3D%20%24%28%60%3Cdiv%20id%3D%22html_8c9e19bfe46b4b689859b2ee85f193de%22%20style%3D%22width%3A%20100.0%25%3B%20height%3A%20100.0%25%3B%22%3E%20%20%20%20%20%20%20%20%20%3Cul%3E%20%20%20%20%20%20%20%20%20%20%20%20%20%3Cli%3E%3Cstrong%3EID%3A%20%3C/strong%3E3203%3C/li%3E%20%20%20%20%20%20%20%20%20%20%20%20%20%3Cli%3E%3Cstrong%3ESource%3A%20%3C/strong%3EHenderson%20P%26C%20%23103%3C/li%3E%20%20%20%20%20%20%20%20%20%20%20%20%20%3Cli%3E%3Cstrong%3EName%3A%20%3C/strong%3Enan%3C/li%3E%20%20%20%20%20%20%20%20%20%3Cul%3E%20%20%20%20%20%3C/div%3E%60%29%5B0%5D%3B%0A%20%20%20%20%20%20%20%20%20%20%20%20popup_7ad8cd1dd48342da9b384b060ced7d06.setContent%28html_8c9e19bfe46b4b689859b2ee85f193de%29%3B%0A%20%20%20%20%20%20%20%20%0A%0A%20%20%20%20%20%20%20%20marker_c680f29c2aa546babb39db3a310e2174.bindPopup%28popup_7ad8cd1dd48342da9b384b060ced7d06%29%0A%20%20%20%20%20%20%20%20%3B%0A%0A%20%20%20%20%20%20%20%20%0A%20%20%20%20%0A%20%20%20%20%0A%20%20%20%20%20%20%20%20%20%20%20%20var%20marker_2412ef74a49540c6860572b0fba9bdf9%20%3D%20L.marker%28%0A%20%20%20%20%20%20%20%20%20%20%20%20%20%20%20%20%5B43.772771%2C%2011.253926%5D%2C%0A%20%20%20%20%20%20%20%20%20%20%20%20%20%20%20%20%7B%7D%0A%20%20%20%20%20%20%20%20%20%20%20%20%29.addTo%28map_b98b389f61064b299c4cde471c85a0fb%29%3B%0A%20%20%20%20%20%20%20%20%0A%20%20%20%20%0A%20%20%20%20%20%20%20%20var%20popup_0e747a33754141f9ba47d13561f884fd%20%3D%20L.popup%28%7B%22maxWidth%22%3A%20%22100%25%22%7D%29%3B%0A%0A%20%20%20%20%20%20%20%20%0A%20%20%20%20%20%20%20%20%20%20%20%20var%20html_ee807fb992b84d24a4a473e9a7e87b32%20%3D%20%24%28%60%3Cdiv%20id%3D%22html_ee807fb992b84d24a4a473e9a7e87b32%22%20style%3D%22width%3A%20100.0%25%3B%20height%3A%20100.0%25%3B%22%3E%20%20%20%20%20%20%20%20%20%3Cul%3E%20%20%20%20%20%20%20%20%20%20%20%20%20%3Cli%3E%3Cstrong%3EID%3A%20%3C/strong%3E1612%3C/li%3E%20%20%20%20%20%20%20%20%20%20%20%20%20%3Cli%3E%3Cstrong%3ESource%3A%20%3C/strong%3EHenderson%20P%26C%20%23103%3C/li%3E%20%20%20%20%20%20%20%20%20%20%20%20%20%3Cli%3E%3Cstrong%3EName%3A%20%3C/strong%3EBernardo%20di%20Salvestro%2C%20rigattiere%3C/li%3E%20%20%20%20%20%20%20%20%20%3Cul%3E%20%20%20%20%20%3C/div%3E%60%29%5B0%5D%3B%0A%20%20%20%20%20%20%20%20%20%20%20%20popup_0e747a33754141f9ba47d13561f884fd.setContent%28html_ee807fb992b84d24a4a473e9a7e87b32%29%3B%0A%20%20%20%20%20%20%20%20%0A%0A%20%20%20%20%20%20%20%20marker_2412ef74a49540c6860572b0fba9bdf9.bindPopup%28popup_0e747a33754141f9ba47d13561f884fd%29%0A%20%20%20%20%20%20%20%20%3B%0A%0A%20%20%20%20%20%20%20%20%0A%20%20%20%20%0A%20%20%20%20%0A%20%20%20%20%20%20%20%20%20%20%20%20var%20marker_f9adbeb0c61c4286b050203d3a4f045f%20%3D%20L.marker%28%0A%20%20%20%20%20%20%20%20%20%20%20%20%20%20%20%20%5B43.76871188%2C%2011.24295313%5D%2C%0A%20%20%20%20%20%20%20%20%20%20%20%20%20%20%20%20%7B%7D%0A%20%20%20%20%20%20%20%20%20%20%20%20%29.addTo%28map_b98b389f61064b299c4cde471c85a0fb%29%3B%0A%20%20%20%20%20%20%20%20%0A%20%20%20%20%0A%20%20%20%20%20%20%20%20var%20popup_bece0de39d234b13bd38231b4751f31a%20%3D%20L.popup%28%7B%22maxWidth%22%3A%20%22100%25%22%7D%29%3B%0A%0A%20%20%20%20%20%20%20%20%0A%20%20%20%20%20%20%20%20%20%20%20%20var%20html_7b29812cddd74990bbe084fba1225fcd%20%3D%20%24%28%60%3Cdiv%20id%3D%22html_7b29812cddd74990bbe084fba1225fcd%22%20style%3D%22width%3A%20100.0%25%3B%20height%3A%20100.0%25%3B%22%3E%20%20%20%20%20%20%20%20%20%3Cul%3E%20%20%20%20%20%20%20%20%20%20%20%20%20%3Cli%3E%3Cstrong%3EID%3A%20%3C/strong%3E8432%3C/li%3E%20%20%20%20%20%20%20%20%20%20%20%20%20%3Cli%3E%3Cstrong%3ESource%3A%20%3C/strong%3EHenderson%20P%26C%20%23103%3C/li%3E%20%20%20%20%20%20%20%20%20%20%20%20%20%3Cli%3E%3Cstrong%3EName%3A%20%3C/strong%3EGuglielmo%20di%20Gherardo%20merciaio%3C/li%3E%20%20%20%20%20%20%20%20%20%3Cul%3E%20%20%20%20%20%3C/div%3E%60%29%5B0%5D%3B%0A%20%20%20%20%20%20%20%20%20%20%20%20popup_bece0de39d234b13bd38231b4751f31a.setContent%28html_7b29812cddd74990bbe084fba1225fcd%29%3B%0A%20%20%20%20%20%20%20%20%0A%0A%20%20%20%20%20%20%20%20marker_f9adbeb0c61c4286b050203d3a4f045f.bindPopup%28popup_bece0de39d234b13bd38231b4751f31a%29%0A%20%20%20%20%20%20%20%20%3B%0A%0A%20%20%20%20%20%20%20%20%0A%20%20%20%20%0A%20%20%20%20%0A%20%20%20%20%20%20%20%20%20%20%20%20var%20marker_6832f004c18449db9ce82c3756470387%20%3D%20L.marker%28%0A%20%20%20%20%20%20%20%20%20%20%20%20%20%20%20%20%5B43.780074%2C%2011.258457%5D%2C%0A%20%20%20%20%20%20%20%20%20%20%20%20%20%20%20%20%7B%7D%0A%20%20%20%20%20%20%20%20%20%20%20%20%29.addTo%28map_b98b389f61064b299c4cde471c85a0fb%29%3B%0A%20%20%20%20%20%20%20%20%0A%20%20%20%20%0A%20%20%20%20%20%20%20%20var%20popup_3622391a56b44b2185b395944a4ed05d%20%3D%20L.popup%28%7B%22maxWidth%22%3A%20%22100%25%22%7D%29%3B%0A%0A%20%20%20%20%20%20%20%20%0A%20%20%20%20%20%20%20%20%20%20%20%20var%20html_601f8b5919c34675af1359d52410da1d%20%3D%20%24%28%60%3Cdiv%20id%3D%22html_601f8b5919c34675af1359d52410da1d%22%20style%3D%22width%3A%20100.0%25%3B%20height%3A%20100.0%25%3B%22%3E%20%20%20%20%20%20%20%20%20%3Cul%3E%20%20%20%20%20%20%20%20%20%20%20%20%20%3Cli%3E%3Cstrong%3EID%3A%20%3C/strong%3E68%3C/li%3E%20%20%20%20%20%20%20%20%20%20%20%20%20%3Cli%3E%3Cstrong%3ESource%3A%20%3C/strong%3EHenderson%20P%26C%20%2387%20%5Bfemale%20tenants%3B%20see%20location%5D%3C/li%3E%20%20%20%20%20%20%20%20%20%20%20%20%20%3Cli%3E%3Cstrong%3EName%3A%20%3C/strong%3EMona%20Lisabetta%2C%20moglie%20gia%20di%20Benedetto%2C%20detto%20il%20Pecchia%3C/li%3E%20%20%20%20%20%20%20%20%20%3Cul%3E%20%20%20%20%20%3C/div%3E%60%29%5B0%5D%3B%0A%20%20%20%20%20%20%20%20%20%20%20%20popup_3622391a56b44b2185b395944a4ed05d.setContent%28html_601f8b5919c34675af1359d52410da1d%29%3B%0A%20%20%20%20%20%20%20%20%0A%0A%20%20%20%20%20%20%20%20marker_6832f004c18449db9ce82c3756470387.bindPopup%28popup_3622391a56b44b2185b395944a4ed05d%29%0A%20%20%20%20%20%20%20%20%3B%0A%0A%20%20%20%20%20%20%20%20%0A%20%20%20%20%0A%20%20%20%20%0A%20%20%20%20%20%20%20%20%20%20%20%20var%20marker_e652c4e383c54d51acc9b28c19140afa%20%3D%20L.marker%28%0A%20%20%20%20%20%20%20%20%20%20%20%20%20%20%20%20%5B43.78001%2C%2011.258343%5D%2C%0A%20%20%20%20%20%20%20%20%20%20%20%20%20%20%20%20%7B%7D%0A%20%20%20%20%20%20%20%20%20%20%20%20%29.addTo%28map_b98b389f61064b299c4cde471c85a0fb%29%3B%0A%20%20%20%20%20%20%20%20%0A%20%20%20%20%0A%20%20%20%20%20%20%20%20var%20popup_3bfe80dcee4b4fbfae6b15737c537c47%20%3D%20L.popup%28%7B%22maxWidth%22%3A%20%22100%25%22%7D%29%3B%0A%0A%20%20%20%20%20%20%20%20%0A%20%20%20%20%20%20%20%20%20%20%20%20var%20html_31c2d1adad9347fe9c31520f902b1786%20%3D%20%24%28%60%3Cdiv%20id%3D%22html_31c2d1adad9347fe9c31520f902b1786%22%20style%3D%22width%3A%20100.0%25%3B%20height%3A%20100.0%25%3B%22%3E%20%20%20%20%20%20%20%20%20%3Cul%3E%20%20%20%20%20%20%20%20%20%20%20%20%20%3Cli%3E%3Cstrong%3EID%3A%20%3C/strong%3E248%3C/li%3E%20%20%20%20%20%20%20%20%20%20%20%20%20%3Cli%3E%3Cstrong%3ESource%3A%20%3C/strong%3EHenderson%20P%26C%20%2387%3C/li%3E%20%20%20%20%20%20%20%20%20%20%20%20%20%3Cli%3E%3Cstrong%3EName%3A%20%3C/strong%3EMona%20Agnoletta%20di%20Fede%3C/li%3E%20%20%20%20%20%20%20%20%20%3Cul%3E%20%20%20%20%20%3C/div%3E%60%29%5B0%5D%3B%0A%20%20%20%20%20%20%20%20%20%20%20%20popup_3bfe80dcee4b4fbfae6b15737c537c47.setContent%28html_31c2d1adad9347fe9c31520f902b1786%29%3B%0A%20%20%20%20%20%20%20%20%0A%0A%20%20%20%20%20%20%20%20marker_e652c4e383c54d51acc9b28c19140afa.bindPopup%28popup_3bfe80dcee4b4fbfae6b15737c537c47%29%0A%20%20%20%20%20%20%20%20%3B%0A%0A%20%20%20%20%20%20%20%20%0A%20%20%20%20%0A%20%20%20%20%0A%20%20%20%20%20%20%20%20%20%20%20%20var%20marker_54e2402b4ce4447f8dddf532685e5502%20%3D%20L.marker%28%0A%20%20%20%20%20%20%20%20%20%20%20%20%20%20%20%20%5B43.78006019%2C%2011.25829352%5D%2C%0A%20%20%20%20%20%20%20%20%20%20%20%20%20%20%20%20%7B%7D%0A%20%20%20%20%20%20%20%20%20%20%20%20%29.addTo%28map_b98b389f61064b299c4cde471c85a0fb%29%3B%0A%20%20%20%20%20%20%20%20%0A%20%20%20%20%0A%20%20%20%20%20%20%20%20var%20popup_fb091011debf43e4a9c3522c1d54858b%20%3D%20L.popup%28%7B%22maxWidth%22%3A%20%22100%25%22%7D%29%3B%0A%0A%20%20%20%20%20%20%20%20%0A%20%20%20%20%20%20%20%20%20%20%20%20var%20html_ae27ded5269f490abb13851beeda52c7%20%3D%20%24%28%60%3Cdiv%20id%3D%22html_ae27ded5269f490abb13851beeda52c7%22%20style%3D%22width%3A%20100.0%25%3B%20height%3A%20100.0%25%3B%22%3E%20%20%20%20%20%20%20%20%20%3Cul%3E%20%20%20%20%20%20%20%20%20%20%20%20%20%3Cli%3E%3Cstrong%3EID%3A%20%3C/strong%3E717%3C/li%3E%20%20%20%20%20%20%20%20%20%20%20%20%20%3Cli%3E%3Cstrong%3ESource%3A%20%3C/strong%3EHenderson%20P%26C%20%2387%3C/li%3E%20%20%20%20%20%20%20%20%20%20%20%20%20%3Cli%3E%3Cstrong%3EName%3A%20%3C/strong%3EMona%20Catarina%2C%20moglie%20gia%20di%20ser%20Giovanni%20Simoni%3C/li%3E%20%20%20%20%20%20%20%20%20%3Cul%3E%20%20%20%20%20%3C/div%3E%60%29%5B0%5D%3B%0A%20%20%20%20%20%20%20%20%20%20%20%20popup_fb091011debf43e4a9c3522c1d54858b.setContent%28html_ae27ded5269f490abb13851beeda52c7%29%3B%0A%20%20%20%20%20%20%20%20%0A%0A%20%20%20%20%20%20%20%20marker_54e2402b4ce4447f8dddf532685e5502.bindPopup%28popup_fb091011debf43e4a9c3522c1d54858b%29%0A%20%20%20%20%20%20%20%20%3B%0A%0A%20%20%20%20%20%20%20%20%0A%20%20%20%20%0A%20%20%20%20%0A%20%20%20%20%20%20%20%20%20%20%20%20var%20marker_da9faa597cb740c29ba3c09c511da940%20%3D%20L.marker%28%0A%20%20%20%20%20%20%20%20%20%20%20%20%20%20%20%20%5B43.775658%2C%2011.25233071%5D%2C%0A%20%20%20%20%20%20%20%20%20%20%20%20%20%20%20%20%7B%7D%0A%20%20%20%20%20%20%20%20%20%20%20%20%29.addTo%28map_b98b389f61064b299c4cde471c85a0fb%29%3B%0A%20%20%20%20%20%20%20%20%0A%20%20%20%20%0A%20%20%20%20%20%20%20%20var%20popup_5cb1acbe6d174055ba1ae42f6f736a11%20%3D%20L.popup%28%7B%22maxWidth%22%3A%20%22100%25%22%7D%29%3B%0A%0A%20%20%20%20%20%20%20%20%0A%20%20%20%20%20%20%20%20%20%20%20%20var%20html_705256b95e10478b903010c8772682c6%20%3D%20%24%28%60%3Cdiv%20id%3D%22html_705256b95e10478b903010c8772682c6%22%20style%3D%22width%3A%20100.0%25%3B%20height%3A%20100.0%25%3B%22%3E%20%20%20%20%20%20%20%20%20%3Cul%3E%20%20%20%20%20%20%20%20%20%20%20%20%20%3Cli%3E%3Cstrong%3EID%3A%20%3C/strong%3E245%3C/li%3E%20%20%20%20%20%20%20%20%20%20%20%20%20%3Cli%3E%3Cstrong%3ESource%3A%20%3C/strong%3EHenderson%20P%26C%20104%20%5Bvia%20S%20Jacopo%20in%20Campo%20Corbelino%5D%3C/li%3E%20%20%20%20%20%20%20%20%20%20%20%20%20%3Cli%3E%3Cstrong%3EName%3A%20%3C/strong%3EGirolamo%20di%20Domenico%20da%20Mantova%3C/li%3E%20%20%20%20%20%20%20%20%20%3Cul%3E%20%20%20%20%20%3C/div%3E%60%29%5B0%5D%3B%0A%20%20%20%20%20%20%20%20%20%20%20%20popup_5cb1acbe6d174055ba1ae42f6f736a11.setContent%28html_705256b95e10478b903010c8772682c6%29%3B%0A%20%20%20%20%20%20%20%20%0A%0A%20%20%20%20%20%20%20%20marker_da9faa597cb740c29ba3c09c511da940.bindPopup%28popup_5cb1acbe6d174055ba1ae42f6f736a11%29%0A%20%20%20%20%20%20%20%20%3B%0A%0A%20%20%20%20%20%20%20%20%0A%20%20%20%20%0A%20%20%20%20%0A%20%20%20%20%20%20%20%20%20%20%20%20var%20marker_7f9590b17e784a9c9826d2af813e5a03%20%3D%20L.marker%28%0A%20%20%20%20%20%20%20%20%20%20%20%20%20%20%20%20%5B43.76999571%2C%2011.26450286%5D%2C%0A%20%20%20%20%20%20%20%20%20%20%20%20%20%20%20%20%7B%7D%0A%20%20%20%20%20%20%20%20%20%20%20%20%29.addTo%28map_b98b389f61064b299c4cde471c85a0fb%29%3B%0A%20%20%20%20%20%20%20%20%0A%20%20%20%20%0A%20%20%20%20%20%20%20%20var%20popup_0c9c5f17ed4a416cb6e118564b1c0d97%20%3D%20L.popup%28%7B%22maxWidth%22%3A%20%22100%25%22%7D%29%3B%0A%0A%20%20%20%20%20%20%20%20%0A%20%20%20%20%20%20%20%20%20%20%20%20var%20html_64b7be0bac034c3989eda1496109c863%20%3D%20%24%28%60%3Cdiv%20id%3D%22html_64b7be0bac034c3989eda1496109c863%22%20style%3D%22width%3A%20100.0%25%3B%20height%3A%20100.0%25%3B%22%3E%20%20%20%20%20%20%20%20%20%3Cul%3E%20%20%20%20%20%20%20%20%20%20%20%20%20%3Cli%3E%3Cstrong%3EID%3A%20%3C/strong%3E3291%3C/li%3E%20%20%20%20%20%20%20%20%20%20%20%20%20%3Cli%3E%3Cstrong%3ESource%3A%20%3C/strong%3EHenderson%20P%26C%20%23113%20%5Baddress%5D%3C/li%3E%20%20%20%20%20%20%20%20%20%20%20%20%20%3Cli%3E%3Cstrong%3EName%3A%20%3C/strong%3EMona%20Gentile%2C%20donna%20gia%20di%20Francesco%20da%20Gobbio%3C/li%3E%20%20%20%20%20%20%20%20%20%3Cul%3E%20%20%20%20%20%3C/div%3E%60%29%5B0%5D%3B%0A%20%20%20%20%20%20%20%20%20%20%20%20popup_0c9c5f17ed4a416cb6e118564b1c0d97.setContent%28html_64b7be0bac034c3989eda1496109c863%29%3B%0A%20%20%20%20%20%20%20%20%0A%0A%20%20%20%20%20%20%20%20marker_7f9590b17e784a9c9826d2af813e5a03.bindPopup%28popup_0c9c5f17ed4a416cb6e118564b1c0d97%29%0A%20%20%20%20%20%20%20%20%3B%0A%0A%20%20%20%20%20%20%20%20%0A%20%20%20%20%0A%20%20%20%20%0A%20%20%20%20%20%20%20%20%20%20%20%20var%20marker_0d35e44571ee4ea19a479c2ab24d374e%20%3D%20L.marker%28%0A%20%20%20%20%20%20%20%20%20%20%20%20%20%20%20%20%5B43.777678%2C%2011.25840717%5D%2C%0A%20%20%20%20%20%20%20%20%20%20%20%20%20%20%20%20%7B%7D%0A%20%20%20%20%20%20%20%20%20%20%20%20%29.addTo%28map_b98b389f61064b299c4cde471c85a0fb%29%3B%0A%20%20%20%20%20%20%20%20%0A%20%20%20%20%0A%20%20%20%20%20%20%20%20var%20popup_36747671b18e4943866fa3b43b029926%20%3D%20L.popup%28%7B%22maxWidth%22%3A%20%22100%25%22%7D%29%3B%0A%0A%20%20%20%20%20%20%20%20%0A%20%20%20%20%20%20%20%20%20%20%20%20var%20html_4f7b13990d594002993f93d9e4cac4d7%20%3D%20%24%28%60%3Cdiv%20id%3D%22html_4f7b13990d594002993f93d9e4cac4d7%22%20style%3D%22width%3A%20100.0%25%3B%20height%3A%20100.0%25%3B%22%3E%20%20%20%20%20%20%20%20%20%3Cul%3E%20%20%20%20%20%20%20%20%20%20%20%20%20%3Cli%3E%3Cstrong%3EID%3A%20%3C/strong%3E1429%3C/li%3E%20%20%20%20%20%20%20%20%20%20%20%20%20%3Cli%3E%3Cstrong%3ESource%3A%20%3C/strong%3EHenderson%20P%26C%20%23113%20%5Baddress%5D%3C/li%3E%20%20%20%20%20%20%20%20%20%20%20%20%20%3Cli%3E%3Cstrong%3EName%3A%20%3C/strong%3ERaffaello%20di%20Pellegrino%20Bartoli%3C/li%3E%20%20%20%20%20%20%20%20%20%3Cul%3E%20%20%20%20%20%3C/div%3E%60%29%5B0%5D%3B%0A%20%20%20%20%20%20%20%20%20%20%20%20popup_36747671b18e4943866fa3b43b029926.setContent%28html_4f7b13990d594002993f93d9e4cac4d7%29%3B%0A%20%20%20%20%20%20%20%20%0A%0A%20%20%20%20%20%20%20%20marker_0d35e44571ee4ea19a479c2ab24d374e.bindPopup%28popup_36747671b18e4943866fa3b43b029926%29%0A%20%20%20%20%20%20%20%20%3B%0A%0A%20%20%20%20%20%20%20%20%0A%20%20%20%20%0A%20%20%20%20%0A%20%20%20%20%20%20%20%20%20%20%20%20var%20marker_280af7e1440749219b3ea81abb5d62e7%20%3D%20L.marker%28%0A%20%20%20%20%20%20%20%20%20%20%20%20%20%20%20%20%5B43.76985%2C%2011.2661425%5D%2C%0A%20%20%20%20%20%20%20%20%20%20%20%20%20%20%20%20%7B%7D%0A%20%20%20%20%20%20%20%20%20%20%20%20%29.addTo%28map_b98b389f61064b299c4cde471c85a0fb%29%3B%0A%20%20%20%20%20%20%20%20%0A%20%20%20%20%0A%20%20%20%20%20%20%20%20var%20popup_45e2464dbaf24dd29538a2119a208ded%20%3D%20L.popup%28%7B%22maxWidth%22%3A%20%22100%25%22%7D%29%3B%0A%0A%20%20%20%20%20%20%20%20%0A%20%20%20%20%20%20%20%20%20%20%20%20var%20html_548fe573ab3849608e953018c38e5d79%20%3D%20%24%28%60%3Cdiv%20id%3D%22html_548fe573ab3849608e953018c38e5d79%22%20style%3D%22width%3A%20100.0%25%3B%20height%3A%20100.0%25%3B%22%3E%20%20%20%20%20%20%20%20%20%3Cul%3E%20%20%20%20%20%20%20%20%20%20%20%20%20%3Cli%3E%3Cstrong%3EID%3A%20%3C/strong%3E3025%3C/li%3E%20%20%20%20%20%20%20%20%20%20%20%20%20%3Cli%3E%3Cstrong%3ESource%3A%20%3C/strong%3EHenderson%20P%26C%20%23121%3F%20%20All%205%20these%20contiguous%20-%20by%20modern%20S.%20Ambrogio%20market%20on%20Via%20Visdomini%20where%20there%20was%20a%20ruined%20casolare%3C/li%3E%20%20%20%20%20%20%20%20%20%20%20%20%20%3Cli%3E%3Cstrong%3EName%3A%20%3C/strong%3EMona%20Maria%20Francesca%20di%20Batista%3C/li%3E%20%20%20%20%20%20%20%20%20%3Cul%3E%20%20%20%20%20%3C/div%3E%60%29%5B0%5D%3B%0A%20%20%20%20%20%20%20%20%20%20%20%20popup_45e2464dbaf24dd29538a2119a208ded.setContent%28html_548fe573ab3849608e953018c38e5d79%29%3B%0A%20%20%20%20%20%20%20%20%0A%0A%20%20%20%20%20%20%20%20marker_280af7e1440749219b3ea81abb5d62e7.bindPopup%28popup_45e2464dbaf24dd29538a2119a208ded%29%0A%20%20%20%20%20%20%20%20%3B%0A%0A%20%20%20%20%20%20%20%20%0A%20%20%20%20%0A%20%20%20%20%0A%20%20%20%20%20%20%20%20%20%20%20%20var%20marker_7f860b1ea1bc4927b9b7493b52e89c57%20%3D%20L.marker%28%0A%20%20%20%20%20%20%20%20%20%20%20%20%20%20%20%20%5B43.76976%2C%2011.266095%5D%2C%0A%20%20%20%20%20%20%20%20%20%20%20%20%20%20%20%20%7B%7D%0A%20%20%20%20%20%20%20%20%20%20%20%20%29.addTo%28map_b98b389f61064b299c4cde471c85a0fb%29%3B%0A%20%20%20%20%20%20%20%20%0A%20%20%20%20%0A%20%20%20%20%20%20%20%20var%20popup_77f265f5a02e41e0ba3d83de95ee5dd0%20%3D%20L.popup%28%7B%22maxWidth%22%3A%20%22100%25%22%7D%29%3B%0A%0A%20%20%20%20%20%20%20%20%0A%20%20%20%20%20%20%20%20%20%20%20%20var%20html_a5d27c87b408459da0156c736cbd7c73%20%3D%20%24%28%60%3Cdiv%20id%3D%22html_a5d27c87b408459da0156c736cbd7c73%22%20style%3D%22width%3A%20100.0%25%3B%20height%3A%20100.0%25%3B%22%3E%20%20%20%20%20%20%20%20%20%3Cul%3E%20%20%20%20%20%20%20%20%20%20%20%20%20%3Cli%3E%3Cstrong%3EID%3A%20%3C/strong%3E3044%3C/li%3E%20%20%20%20%20%20%20%20%20%20%20%20%20%3Cli%3E%3Cstrong%3ESource%3A%20%3C/strong%3EHenderson%20P%26C%20%23121%3F%20-%20All%205%20these%20contiguous%20-%20by%20modern%20S.%20Ambrogio%20market%20on%20Via%20Visdomini%20where%20there%20was%20a%20ruined%20casolare%3C/li%3E%20%20%20%20%20%20%20%20%20%20%20%20%20%3Cli%3E%3Cstrong%3EName%3A%20%3C/strong%3EMona%20Lucretia%20di%20Bolognese%3C/li%3E%20%20%20%20%20%20%20%20%20%3Cul%3E%20%20%20%20%20%3C/div%3E%60%29%5B0%5D%3B%0A%20%20%20%20%20%20%20%20%20%20%20%20popup_77f265f5a02e41e0ba3d83de95ee5dd0.setContent%28html_a5d27c87b408459da0156c736cbd7c73%29%3B%0A%20%20%20%20%20%20%20%20%0A%0A%20%20%20%20%20%20%20%20marker_7f860b1ea1bc4927b9b7493b52e89c57.bindPopup%28popup_77f265f5a02e41e0ba3d83de95ee5dd0%29%0A%20%20%20%20%20%20%20%20%3B%0A%0A%20%20%20%20%20%20%20%20%0A%20%20%20%20%0A%20%20%20%20%0A%20%20%20%20%20%20%20%20%20%20%20%20var%20marker_0064dbb68476447484eb72adfa169e8c%20%3D%20L.marker%28%0A%20%20%20%20%20%20%20%20%20%20%20%20%20%20%20%20%5B43.76967%2C%2011.2660475%5D%2C%0A%20%20%20%20%20%20%20%20%20%20%20%20%20%20%20%20%7B%7D%0A%20%20%20%20%20%20%20%20%20%20%20%20%29.addTo%28map_b98b389f61064b299c4cde471c85a0fb%29%3B%0A%20%20%20%20%20%20%20%20%0A%20%20%20%20%0A%20%20%20%20%20%20%20%20var%20popup_07c4d71cffa74ee184679e6373f9e99c%20%3D%20L.popup%28%7B%22maxWidth%22%3A%20%22100%25%22%7D%29%3B%0A%0A%20%20%20%20%20%20%20%20%0A%20%20%20%20%20%20%20%20%20%20%20%20var%20html_c94efe9c2a3d41c98410bedcdb4916a1%20%3D%20%24%28%60%3Cdiv%20id%3D%22html_c94efe9c2a3d41c98410bedcdb4916a1%22%20style%3D%22width%3A%20100.0%25%3B%20height%3A%20100.0%25%3B%22%3E%20%20%20%20%20%20%20%20%20%3Cul%3E%20%20%20%20%20%20%20%20%20%20%20%20%20%3Cli%3E%3Cstrong%3EID%3A%20%3C/strong%3E3082%3C/li%3E%20%20%20%20%20%20%20%20%20%20%20%20%20%3Cli%3E%3Cstrong%3ESource%3A%20%3C/strong%3EHenderson%20P%26C%20%23121%3F%20-%20All%205%20these%20contiguous%20-%20by%20modern%20S.%20Ambrogio%20market%20on%20Via%20Visdomini%20where%20there%20was%20a%20ruined%20casolare%3C/li%3E%20%20%20%20%20%20%20%20%20%20%20%20%20%3Cli%3E%3Cstrong%3EName%3A%20%3C/strong%3EMona%20Bridia%20di%20Fiorentino%3C/li%3E%20%20%20%20%20%20%20%20%20%3Cul%3E%20%20%20%20%20%3C/div%3E%60%29%5B0%5D%3B%0A%20%20%20%20%20%20%20%20%20%20%20%20popup_07c4d71cffa74ee184679e6373f9e99c.setContent%28html_c94efe9c2a3d41c98410bedcdb4916a1%29%3B%0A%20%20%20%20%20%20%20%20%0A%0A%20%20%20%20%20%20%20%20marker_0064dbb68476447484eb72adfa169e8c.bindPopup%28popup_07c4d71cffa74ee184679e6373f9e99c%29%0A%20%20%20%20%20%20%20%20%3B%0A%0A%20%20%20%20%20%20%20%20%0A%20%20%20%20%0A%20%20%20%20%0A%20%20%20%20%20%20%20%20%20%20%20%20var%20marker_75dcaaa3349b48e4a9a057e12e84d3d1%20%3D%20L.marker%28%0A%20%20%20%20%20%20%20%20%20%20%20%20%20%20%20%20%5B43.76958%2C%2011.266%5D%2C%0A%20%20%20%20%20%20%20%20%20%20%20%20%20%20%20%20%7B%7D%0A%20%20%20%20%20%20%20%20%20%20%20%20%29.addTo%28map_b98b389f61064b299c4cde471c85a0fb%29%3B%0A%20%20%20%20%20%20%20%20%0A%20%20%20%20%0A%20%20%20%20%20%20%20%20var%20popup_3cbfd248f78d4efd82fbbdc17ce389fb%20%3D%20L.popup%28%7B%22maxWidth%22%3A%20%22100%25%22%7D%29%3B%0A%0A%20%20%20%20%20%20%20%20%0A%20%20%20%20%20%20%20%20%20%20%20%20var%20html_be17e310ba404122bc00670a1222f690%20%3D%20%24%28%60%3Cdiv%20id%3D%22html_be17e310ba404122bc00670a1222f690%22%20style%3D%22width%3A%20100.0%25%3B%20height%3A%20100.0%25%3B%22%3E%20%20%20%20%20%20%20%20%20%3Cul%3E%20%20%20%20%20%20%20%20%20%20%20%20%20%3Cli%3E%3Cstrong%3EID%3A%20%3C/strong%3E3083%3C/li%3E%20%20%20%20%20%20%20%20%20%20%20%20%20%3Cli%3E%3Cstrong%3ESource%3A%20%3C/strong%3EHenderson%20P%26C%20%23121%3F%20-%20All%205%20these%20contiguous%20-%20by%20modern%20S.%20Ambrogio%20market%20on%20Via%20Visdomini%20where%20there%20was%20a%20ruined%20casolare%3C/li%3E%20%20%20%20%20%20%20%20%20%20%20%20%20%3Cli%3E%3Cstrong%3EName%3A%20%3C/strong%3EBaccino%20di%20messer%20Jacopo%2C%20muratore%3C/li%3E%20%20%20%20%20%20%20%20%20%3Cul%3E%20%20%20%20%20%3C/div%3E%60%29%5B0%5D%3B%0A%20%20%20%20%20%20%20%20%20%20%20%20popup_3cbfd248f78d4efd82fbbdc17ce389fb.setContent%28html_be17e310ba404122bc00670a1222f690%29%3B%0A%20%20%20%20%20%20%20%20%0A%0A%20%20%20%20%20%20%20%20marker_75dcaaa3349b48e4a9a057e12e84d3d1.bindPopup%28popup_3cbfd248f78d4efd82fbbdc17ce389fb%29%0A%20%20%20%20%20%20%20%20%3B%0A%0A%20%20%20%20%20%20%20%20%0A%20%20%20%20%0A%20%20%20%20%0A%20%20%20%20%20%20%20%20%20%20%20%20var%20marker_a30c8f64065146c89d686282f4b8fa15%20%3D%20L.marker%28%0A%20%20%20%20%20%20%20%20%20%20%20%20%20%20%20%20%5B43.76994%2C%2011.26619%5D%2C%0A%20%20%20%20%20%20%20%20%20%20%20%20%20%20%20%20%7B%7D%0A%20%20%20%20%20%20%20%20%20%20%20%20%29.addTo%28map_b98b389f61064b299c4cde471c85a0fb%29%3B%0A%20%20%20%20%20%20%20%20%0A%20%20%20%20%0A%20%20%20%20%20%20%20%20var%20popup_3e38aa366a454c879ef5dc71ef332836%20%3D%20L.popup%28%7B%22maxWidth%22%3A%20%22100%25%22%7D%29%3B%0A%0A%20%20%20%20%20%20%20%20%0A%20%20%20%20%20%20%20%20%20%20%20%20var%20html_2320e910b4a4424b878e48954fe50d32%20%3D%20%24%28%60%3Cdiv%20id%3D%22html_2320e910b4a4424b878e48954fe50d32%22%20style%3D%22width%3A%20100.0%25%3B%20height%3A%20100.0%25%3B%22%3E%20%20%20%20%20%20%20%20%20%3Cul%3E%20%20%20%20%20%20%20%20%20%20%20%20%20%3Cli%3E%3Cstrong%3EID%3A%20%3C/strong%3E3116%3C/li%3E%20%20%20%20%20%20%20%20%20%20%20%20%20%3Cli%3E%3Cstrong%3ESource%3A%20%3C/strong%3EHenderson%20P%26C%20%23121%3F%20-%20All%205%20these%20contiguous%20-%20by%20modern%20S.%20Ambrogio%20market%20on%20Via%20Visdomini%20where%20there%20was%20a%20ruined%20casolare%3C/li%3E%20%20%20%20%20%20%20%20%20%20%20%20%20%3Cli%3E%3Cstrong%3EName%3A%20%3C/strong%3Enan%3C/li%3E%20%20%20%20%20%20%20%20%20%3Cul%3E%20%20%20%20%20%3C/div%3E%60%29%5B0%5D%3B%0A%20%20%20%20%20%20%20%20%20%20%20%20popup_3e38aa366a454c879ef5dc71ef332836.setContent%28html_2320e910b4a4424b878e48954fe50d32%29%3B%0A%20%20%20%20%20%20%20%20%0A%0A%20%20%20%20%20%20%20%20marker_a30c8f64065146c89d686282f4b8fa15.bindPopup%28popup_3e38aa366a454c879ef5dc71ef332836%29%0A%20%20%20%20%20%20%20%20%3B%0A%0A%20%20%20%20%20%20%20%20%0A%20%20%20%20%0A%20%20%20%20%0A%20%20%20%20%20%20%20%20%20%20%20%20var%20marker_10a5bf6e4dc74c91be417657f1e1cf60%20%3D%20L.marker%28%0A%20%20%20%20%20%20%20%20%20%20%20%20%20%20%20%20%5B43.7731525%2C%2011.24989%5D%2C%0A%20%20%20%20%20%20%20%20%20%20%20%20%20%20%20%20%7B%7D%0A%20%20%20%20%20%20%20%20%20%20%20%20%29.addTo%28map_b98b389f61064b299c4cde471c85a0fb%29%3B%0A%20%20%20%20%20%20%20%20%0A%20%20%20%20%0A%20%20%20%20%20%20%20%20var%20popup_bd7aa839e88d431e987c09733b4c98f2%20%3D%20L.popup%28%7B%22maxWidth%22%3A%20%22100%25%22%7D%29%3B%0A%0A%20%20%20%20%20%20%20%20%0A%20%20%20%20%20%20%20%20%20%20%20%20var%20html_1ed1cb7cfb854bdb9916927aa5b4fcd7%20%3D%20%24%28%60%3Cdiv%20id%3D%22html_1ed1cb7cfb854bdb9916927aa5b4fcd7%22%20style%3D%22width%3A%20100.0%25%3B%20height%3A%20100.0%25%3B%22%3E%20%20%20%20%20%20%20%20%20%3Cul%3E%20%20%20%20%20%20%20%20%20%20%20%20%20%3Cli%3E%3Cstrong%3EID%3A%20%3C/strong%3E5751%3C/li%3E%20%20%20%20%20%20%20%20%20%20%20%20%20%3Cli%3E%3Cstrong%3ESource%3A%20%3C/strong%3EIn%20Piazza%20S%20Maria%20Novella%3B%20near%20one%20of%20S.%20Paolo%20Martire%3C/li%3E%20%20%20%20%20%20%20%20%20%20%20%20%20%3Cli%3E%3Cstrong%3EName%3A%20%3C/strong%3Enan%3C/li%3E%20%20%20%20%20%20%20%20%20%3Cul%3E%20%20%20%20%20%3C/div%3E%60%29%5B0%5D%3B%0A%20%20%20%20%20%20%20%20%20%20%20%20popup_bd7aa839e88d431e987c09733b4c98f2.setContent%28html_1ed1cb7cfb854bdb9916927aa5b4fcd7%29%3B%0A%20%20%20%20%20%20%20%20%0A%0A%20%20%20%20%20%20%20%20marker_10a5bf6e4dc74c91be417657f1e1cf60.bindPopup%28popup_bd7aa839e88d431e987c09733b4c98f2%29%0A%20%20%20%20%20%20%20%20%3B%0A%0A%20%20%20%20%20%20%20%20%0A%20%20%20%20%0A%20%20%20%20%0A%20%20%20%20%20%20%20%20%20%20%20%20var%20marker_f5ba85c0c4b04868b6d8615626dbb269%20%3D%20L.marker%28%0A%20%20%20%20%20%20%20%20%20%20%20%20%20%20%20%20%5B43.777146%2C%2011.253746%5D%2C%0A%20%20%20%20%20%20%20%20%20%20%20%20%20%20%20%20%7B%7D%0A%20%20%20%20%20%20%20%20%20%20%20%20%29.addTo%28map_b98b389f61064b299c4cde471c85a0fb%29%3B%0A%20%20%20%20%20%20%20%20%0A%20%20%20%20%0A%20%20%20%20%20%20%20%20var%20popup_fb50d83143c3428bbd7afba9f6a16fb1%20%3D%20L.popup%28%7B%22maxWidth%22%3A%20%22100%25%22%7D%29%3B%0A%0A%20%20%20%20%20%20%20%20%0A%20%20%20%20%20%20%20%20%20%20%20%20var%20html_9683274afba04663a644e5533b40e991%20%3D%20%24%28%60%3Cdiv%20id%3D%22html_9683274afba04663a644e5533b40e991%22%20style%3D%22width%3A%20100.0%25%3B%20height%3A%20100.0%25%3B%22%3E%20%20%20%20%20%20%20%20%20%3Cul%3E%20%20%20%20%20%20%20%20%20%20%20%20%20%3Cli%3E%3Cstrong%3EID%3A%20%3C/strong%3E437%3C/li%3E%20%20%20%20%20%20%20%20%20%20%20%20%20%3Cli%3E%3Cstrong%3ESource%3A%20%3C/strong%3EHenderson%20P%26C%20%23138%3C/li%3E%20%20%20%20%20%20%20%20%20%20%20%20%20%3Cli%3E%3Cstrong%3EName%3A%20%3C/strong%3EAntonio%20di%20Lazzero%20di%20d%27%20Antonio%3C/li%3E%20%20%20%20%20%20%20%20%20%3Cul%3E%20%20%20%20%20%3C/div%3E%60%29%5B0%5D%3B%0A%20%20%20%20%20%20%20%20%20%20%20%20popup_fb50d83143c3428bbd7afba9f6a16fb1.setContent%28html_9683274afba04663a644e5533b40e991%29%3B%0A%20%20%20%20%20%20%20%20%0A%0A%20%20%20%20%20%20%20%20marker_f5ba85c0c4b04868b6d8615626dbb269.bindPopup%28popup_fb50d83143c3428bbd7afba9f6a16fb1%29%0A%20%20%20%20%20%20%20%20%3B%0A%0A%20%20%20%20%20%20%20%20%0A%20%20%20%20%0A%20%20%20%20%0A%20%20%20%20%20%20%20%20%20%20%20%20var%20marker_aa7f66eb19c54444975cd1f8d4039f25%20%3D%20L.marker%28%0A%20%20%20%20%20%20%20%20%20%20%20%20%20%20%20%20%5B43.775512%2C%2011.2525135%5D%2C%0A%20%20%20%20%20%20%20%20%20%20%20%20%20%20%20%20%7B%7D%0A%20%20%20%20%20%20%20%20%20%20%20%20%29.addTo%28map_b98b389f61064b299c4cde471c85a0fb%29%3B%0A%20%20%20%20%20%20%20%20%0A%20%20%20%20%0A%20%20%20%20%20%20%20%20var%20popup_d08fa3853f254dc7912956b94799cf04%20%3D%20L.popup%28%7B%22maxWidth%22%3A%20%22100%25%22%7D%29%3B%0A%0A%20%20%20%20%20%20%20%20%0A%20%20%20%20%20%20%20%20%20%20%20%20var%20html_6bfc0acbaa314df69659b5c7ed2db4a6%20%3D%20%24%28%60%3Cdiv%20id%3D%22html_6bfc0acbaa314df69659b5c7ed2db4a6%22%20style%3D%22width%3A%20100.0%25%3B%20height%3A%20100.0%25%3B%22%3E%20%20%20%20%20%20%20%20%20%3Cul%3E%20%20%20%20%20%20%20%20%20%20%20%20%20%3Cli%3E%3Cstrong%3EID%3A%20%3C/strong%3E753%3C/li%3E%20%20%20%20%20%20%20%20%20%20%20%20%20%3Cli%3E%3Cstrong%3ESource%3A%20%3C/strong%3EHenderson%20P%26C%20%23138%3C/li%3E%20%20%20%20%20%20%20%20%20%20%20%20%20%3Cli%3E%3Cstrong%3EName%3A%20%3C/strong%3EUlivieri%20de%20Guarana%2C%20cappellaio%3C/li%3E%20%20%20%20%20%20%20%20%20%3Cul%3E%20%20%20%20%20%3C/div%3E%60%29%5B0%5D%3B%0A%20%20%20%20%20%20%20%20%20%20%20%20popup_d08fa3853f254dc7912956b94799cf04.setContent%28html_6bfc0acbaa314df69659b5c7ed2db4a6%29%3B%0A%20%20%20%20%20%20%20%20%0A%0A%20%20%20%20%20%20%20%20marker_aa7f66eb19c54444975cd1f8d4039f25.bindPopup%28popup_d08fa3853f254dc7912956b94799cf04%29%0A%20%20%20%20%20%20%20%20%3B%0A%0A%20%20%20%20%20%20%20%20%0A%20%20%20%20%0A%20%20%20%20%0A%20%20%20%20%20%20%20%20%20%20%20%20var%20marker_e98b06030f4345fcbd4efa2e4f594d34%20%3D%20L.marker%28%0A%20%20%20%20%20%20%20%20%20%20%20%20%20%20%20%20%5B43.77555867%2C%2011.25144467%5D%2C%0A%20%20%20%20%20%20%20%20%20%20%20%20%20%20%20%20%7B%7D%0A%20%20%20%20%20%20%20%20%20%20%20%20%29.addTo%28map_b98b389f61064b299c4cde471c85a0fb%29%3B%0A%20%20%20%20%20%20%20%20%0A%20%20%20%20%0A%20%20%20%20%20%20%20%20var%20popup_905a5b94afa54a85ac4a99b5c5e0ea14%20%3D%20L.popup%28%7B%22maxWidth%22%3A%20%22100%25%22%7D%29%3B%0A%0A%20%20%20%20%20%20%20%20%0A%20%20%20%20%20%20%20%20%20%20%20%20var%20html_99c8657fc2714c9a93c0d5d21e3d2f15%20%3D%20%24%28%60%3Cdiv%20id%3D%22html_99c8657fc2714c9a93c0d5d21e3d2f15%22%20style%3D%22width%3A%20100.0%25%3B%20height%3A%20100.0%25%3B%22%3E%20%20%20%20%20%20%20%20%20%3Cul%3E%20%20%20%20%20%20%20%20%20%20%20%20%20%3Cli%3E%3Cstrong%3EID%3A%20%3C/strong%3E5701%3C/li%3E%20%20%20%20%20%20%20%20%20%20%20%20%20%3Cli%3E%3Cstrong%3ESource%3A%20%3C/strong%3EHenderson%20P%26C%20%23138%3C/li%3E%20%20%20%20%20%20%20%20%20%20%20%20%20%3Cli%3E%3Cstrong%3EName%3A%20%3C/strong%3ERaffaello%20di%20Niccolo%20Ben%27intendi%3C/li%3E%20%20%20%20%20%20%20%20%20%3Cul%3E%20%20%20%20%20%3C/div%3E%60%29%5B0%5D%3B%0A%20%20%20%20%20%20%20%20%20%20%20%20popup_905a5b94afa54a85ac4a99b5c5e0ea14.setContent%28html_99c8657fc2714c9a93c0d5d21e3d2f15%29%3B%0A%20%20%20%20%20%20%20%20%0A%0A%20%20%20%20%20%20%20%20marker_e98b06030f4345fcbd4efa2e4f594d34.bindPopup%28popup_905a5b94afa54a85ac4a99b5c5e0ea14%29%0A%20%20%20%20%20%20%20%20%3B%0A%0A%20%20%20%20%20%20%20%20%0A%20%20%20%20%0A%20%20%20%20%0A%20%20%20%20%20%20%20%20%20%20%20%20var%20marker_b9c5b112dfd44f7dbf0050de4c27f67b%20%3D%20L.marker%28%0A%20%20%20%20%20%20%20%20%20%20%20%20%20%20%20%20%5B43.77542875%2C%2011.2513375%5D%2C%0A%20%20%20%20%20%20%20%20%20%20%20%20%20%20%20%20%7B%7D%0A%20%20%20%20%20%20%20%20%20%20%20%20%29.addTo%28map_b98b389f61064b299c4cde471c85a0fb%29%3B%0A%20%20%20%20%20%20%20%20%0A%20%20%20%20%0A%20%20%20%20%20%20%20%20var%20popup_038758e6d0fe4ff78e8a239678dcc32b%20%3D%20L.popup%28%7B%22maxWidth%22%3A%20%22100%25%22%7D%29%3B%0A%0A%20%20%20%20%20%20%20%20%0A%20%20%20%20%20%20%20%20%20%20%20%20var%20html_a3a13141cfeb4f67aa33096c269eafe6%20%3D%20%24%28%60%3Cdiv%20id%3D%22html_a3a13141cfeb4f67aa33096c269eafe6%22%20style%3D%22width%3A%20100.0%25%3B%20height%3A%20100.0%25%3B%22%3E%20%20%20%20%20%20%20%20%20%3Cul%3E%20%20%20%20%20%20%20%20%20%20%20%20%20%3Cli%3E%3Cstrong%3EID%3A%20%3C/strong%3E5817%3C/li%3E%20%20%20%20%20%20%20%20%20%20%20%20%20%3Cli%3E%3Cstrong%3ESource%3A%20%3C/strong%3EHenderson%20P%26C%20%23138%3C/li%3E%20%20%20%20%20%20%20%20%20%20%20%20%20%3Cli%3E%3Cstrong%3EName%3A%20%3C/strong%3EBernardo%20Gualberti%3C/li%3E%20%20%20%20%20%20%20%20%20%3Cul%3E%20%20%20%20%20%3C/div%3E%60%29%5B0%5D%3B%0A%20%20%20%20%20%20%20%20%20%20%20%20popup_038758e6d0fe4ff78e8a239678dcc32b.setContent%28html_a3a13141cfeb4f67aa33096c269eafe6%29%3B%0A%20%20%20%20%20%20%20%20%0A%0A%20%20%20%20%20%20%20%20marker_b9c5b112dfd44f7dbf0050de4c27f67b.bindPopup%28popup_038758e6d0fe4ff78e8a239678dcc32b%29%0A%20%20%20%20%20%20%20%20%3B%0A%0A%20%20%20%20%20%20%20%20%0A%20%20%20%20%0A%20%20%20%20%0A%20%20%20%20%20%20%20%20%20%20%20%20var%20marker_f34a5b9a3d664785a21182d9b77ce313%20%3D%20L.marker%28%0A%20%20%20%20%20%20%20%20%20%20%20%20%20%20%20%20%5B43.77470667%2C%2011.25044667%5D%2C%0A%20%20%20%20%20%20%20%20%20%20%20%20%20%20%20%20%7B%7D%0A%20%20%20%20%20%20%20%20%20%20%20%20%29.addTo%28map_b98b389f61064b299c4cde471c85a0fb%29%3B%0A%20%20%20%20%20%20%20%20%0A%20%20%20%20%0A%20%20%20%20%20%20%20%20var%20popup_9e2222b116bc43e5a100bf70ad90a77c%20%3D%20L.popup%28%7B%22maxWidth%22%3A%20%22100%25%22%7D%29%3B%0A%0A%20%20%20%20%20%20%20%20%0A%20%20%20%20%20%20%20%20%20%20%20%20var%20html_2d495ce4279243bc9932f2cfc2840e89%20%3D%20%24%28%60%3Cdiv%20id%3D%22html_2d495ce4279243bc9932f2cfc2840e89%22%20style%3D%22width%3A%20100.0%25%3B%20height%3A%20100.0%25%3B%22%3E%20%20%20%20%20%20%20%20%20%3Cul%3E%20%20%20%20%20%20%20%20%20%20%20%20%20%3Cli%3E%3Cstrong%3EID%3A%20%3C/strong%3E5150%3C/li%3E%20%20%20%20%20%20%20%20%20%20%20%20%20%3Cli%3E%3Cstrong%3ESource%3A%20%3C/strong%3EHenderson%20P%26C%20%23138%3C/li%3E%20%20%20%20%20%20%20%20%20%20%20%20%20%3Cli%3E%3Cstrong%3EName%3A%20%3C/strong%3EVettorio%20di%20Carlo%2C%20detto%20il%20capitano%20Becchino%3C/li%3E%20%20%20%20%20%20%20%20%20%3Cul%3E%20%20%20%20%20%3C/div%3E%60%29%5B0%5D%3B%0A%20%20%20%20%20%20%20%20%20%20%20%20popup_9e2222b116bc43e5a100bf70ad90a77c.setContent%28html_2d495ce4279243bc9932f2cfc2840e89%29%3B%0A%20%20%20%20%20%20%20%20%0A%0A%20%20%20%20%20%20%20%20marker_f34a5b9a3d664785a21182d9b77ce313.bindPopup%28popup_9e2222b116bc43e5a100bf70ad90a77c%29%0A%20%20%20%20%20%20%20%20%3B%0A%0A%20%20%20%20%20%20%20%20%0A%20%20%20%20%0A%20%20%20%20%0A%20%20%20%20%20%20%20%20%20%20%20%20var%20marker_5dce604e187e4d86812937dbe5662ae5%20%3D%20L.marker%28%0A%20%20%20%20%20%20%20%20%20%20%20%20%20%20%20%20%5B43.77730956%2C%2011.24912756%5D%2C%0A%20%20%20%20%20%20%20%20%20%20%20%20%20%20%20%20%7B%7D%0A%20%20%20%20%20%20%20%20%20%20%20%20%29.addTo%28map_b98b389f61064b299c4cde471c85a0fb%29%3B%0A%20%20%20%20%20%20%20%20%0A%20%20%20%20%0A%20%20%20%20%20%20%20%20var%20popup_f6572b32e6e34a4ca43f257a08770edf%20%3D%20L.popup%28%7B%22maxWidth%22%3A%20%22100%25%22%7D%29%3B%0A%0A%20%20%20%20%20%20%20%20%0A%20%20%20%20%20%20%20%20%20%20%20%20var%20html_702792d4277a4dc582fa5611d876e9fe%20%3D%20%24%28%60%3Cdiv%20id%3D%22html_702792d4277a4dc582fa5611d876e9fe%22%20style%3D%22width%3A%20100.0%25%3B%20height%3A%20100.0%25%3B%22%3E%20%20%20%20%20%20%20%20%20%3Cul%3E%20%20%20%20%20%20%20%20%20%20%20%20%20%3Cli%3E%3Cstrong%3EID%3A%20%3C/strong%3E5287%3C/li%3E%20%20%20%20%20%20%20%20%20%20%20%20%20%3Cli%3E%3Cstrong%3ESource%3A%20%3C/strong%3EHenderson%20P%26C%20%23138%3C/li%3E%20%20%20%20%20%20%20%20%20%20%20%20%20%3Cli%3E%3Cstrong%3EName%3A%20%3C/strong%3EMona%20Maddalena%2C%20pinzocara%20di%20Paulo%20Corso%3C/li%3E%20%20%20%20%20%20%20%20%20%3Cul%3E%20%20%20%20%20%3C/div%3E%60%29%5B0%5D%3B%0A%20%20%20%20%20%20%20%20%20%20%20%20popup_f6572b32e6e34a4ca43f257a08770edf.setContent%28html_702792d4277a4dc582fa5611d876e9fe%29%3B%0A%20%20%20%20%20%20%20%20%0A%0A%20%20%20%20%20%20%20%20marker_5dce604e187e4d86812937dbe5662ae5.bindPopup%28popup_f6572b32e6e34a4ca43f257a08770edf%29%0A%20%20%20%20%20%20%20%20%3B%0A%0A%20%20%20%20%20%20%20%20%0A%20%20%20%20%0A%20%20%20%20%0A%20%20%20%20%20%20%20%20%20%20%20%20var%20marker_d16559b90d764e52802ff0b0957c5eef%20%3D%20L.marker%28%0A%20%20%20%20%20%20%20%20%20%20%20%20%20%20%20%20%5B43.76874225%2C%2011.24285775%5D%2C%0A%20%20%20%20%20%20%20%20%20%20%20%20%20%20%20%20%7B%7D%0A%20%20%20%20%20%20%20%20%20%20%20%20%29.addTo%28map_b98b389f61064b299c4cde471c85a0fb%29%3B%0A%20%20%20%20%20%20%20%20%0A%20%20%20%20%0A%20%20%20%20%20%20%20%20var%20popup_84a18a30ad744e599a2109077ff2cdbd%20%3D%20L.popup%28%7B%22maxWidth%22%3A%20%22100%25%22%7D%29%3B%0A%0A%20%20%20%20%20%20%20%20%0A%20%20%20%20%20%20%20%20%20%20%20%20var%20html_34232b2c5dd941ce892914d458875cfa%20%3D%20%24%28%60%3Cdiv%20id%3D%22html_34232b2c5dd941ce892914d458875cfa%22%20style%3D%22width%3A%20100.0%25%3B%20height%3A%20100.0%25%3B%22%3E%20%20%20%20%20%20%20%20%20%3Cul%3E%20%20%20%20%20%20%20%20%20%20%20%20%20%3Cli%3E%3Cstrong%3EID%3A%20%3C/strong%3E8290%3C/li%3E%20%20%20%20%20%20%20%20%20%20%20%20%20%3Cli%3E%3Cstrong%3ESource%3A%20%3C/strong%3Enan%3C/li%3E%20%20%20%20%20%20%20%20%20%20%20%20%20%3Cli%3E%3Cstrong%3EName%3A%20%3C/strong%3ESimone%20di%20Lorenzo%20tintore%3C/li%3E%20%20%20%20%20%20%20%20%20%3Cul%3E%20%20%20%20%20%3C/div%3E%60%29%5B0%5D%3B%0A%20%20%20%20%20%20%20%20%20%20%20%20popup_84a18a30ad744e599a2109077ff2cdbd.setContent%28html_34232b2c5dd941ce892914d458875cfa%29%3B%0A%20%20%20%20%20%20%20%20%0A%0A%20%20%20%20%20%20%20%20marker_d16559b90d764e52802ff0b0957c5eef.bindPopup%28popup_84a18a30ad744e599a2109077ff2cdbd%29%0A%20%20%20%20%20%20%20%20%3B%0A%0A%20%20%20%20%20%20%20%20%0A%20%20%20%20%0A%20%20%20%20%0A%20%20%20%20%20%20%20%20%20%20%20%20var%20marker_037ba006e6114b8289c5f4b44303f5fe%20%3D%20L.marker%28%0A%20%20%20%20%20%20%20%20%20%20%20%20%20%20%20%20%5B43.7699925%2C%2011.26581375%5D%2C%0A%20%20%20%20%20%20%20%20%20%20%20%20%20%20%20%20%7B%7D%0A%20%20%20%20%20%20%20%20%20%20%20%20%29.addTo%28map_b98b389f61064b299c4cde471c85a0fb%29%3B%0A%20%20%20%20%20%20%20%20%0A%20%20%20%20%0A%20%20%20%20%20%20%20%20var%20popup_b23124ac23404c02a2a16793cca9be8d%20%3D%20L.popup%28%7B%22maxWidth%22%3A%20%22100%25%22%7D%29%3B%0A%0A%20%20%20%20%20%20%20%20%0A%20%20%20%20%20%20%20%20%20%20%20%20var%20html_4c07fa7776ea4534a15a7a6b50e0d11a%20%3D%20%24%28%60%3Cdiv%20id%3D%22html_4c07fa7776ea4534a15a7a6b50e0d11a%22%20style%3D%22width%3A%20100.0%25%3B%20height%3A%20100.0%25%3B%22%3E%20%20%20%20%20%20%20%20%20%3Cul%3E%20%20%20%20%20%20%20%20%20%20%20%20%20%3Cli%3E%3Cstrong%3EID%3A%20%3C/strong%3E3314%3C/li%3E%20%20%20%20%20%20%20%20%20%20%20%20%20%3Cli%3E%3Cstrong%3ESource%3A%20%3C/strong%3Enan%3C/li%3E%20%20%20%20%20%20%20%20%20%20%20%20%20%3Cli%3E%3Cstrong%3EName%3A%20%3C/strong%3Enan%3C/li%3E%20%20%20%20%20%20%20%20%20%3Cul%3E%20%20%20%20%20%3C/div%3E%60%29%5B0%5D%3B%0A%20%20%20%20%20%20%20%20%20%20%20%20popup_b23124ac23404c02a2a16793cca9be8d.setContent%28html_4c07fa7776ea4534a15a7a6b50e0d11a%29%3B%0A%20%20%20%20%20%20%20%20%0A%0A%20%20%20%20%20%20%20%20marker_037ba006e6114b8289c5f4b44303f5fe.bindPopup%28popup_b23124ac23404c02a2a16793cca9be8d%29%0A%20%20%20%20%20%20%20%20%3B%0A%0A%20%20%20%20%20%20%20%20%0A%20%20%20%20%0A%20%20%20%20%0A%20%20%20%20%20%20%20%20%20%20%20%20var%20marker_8d96418055db45ee87de00c765e5024c%20%3D%20L.marker%28%0A%20%20%20%20%20%20%20%20%20%20%20%20%20%20%20%20%5B43.77437253%2C%2011.25571973%5D%2C%0A%20%20%20%20%20%20%20%20%20%20%20%20%20%20%20%20%7B%7D%0A%20%20%20%20%20%20%20%20%20%20%20%20%29.addTo%28map_b98b389f61064b299c4cde471c85a0fb%29%3B%0A%20%20%20%20%20%20%20%20%0A%20%20%20%20%0A%20%20%20%20%20%20%20%20var%20popup_7a646e94e2944b3f9b6b011dd9f4aad6%20%3D%20L.popup%28%7B%22maxWidth%22%3A%20%22100%25%22%7D%29%3B%0A%0A%20%20%20%20%20%20%20%20%0A%20%20%20%20%20%20%20%20%20%20%20%20var%20html_3fbb3a28cfd74e5bb94628666cea99cb%20%3D%20%24%28%60%3Cdiv%20id%3D%22html_3fbb3a28cfd74e5bb94628666cea99cb%22%20style%3D%22width%3A%20100.0%25%3B%20height%3A%20100.0%25%3B%22%3E%20%20%20%20%20%20%20%20%20%3Cul%3E%20%20%20%20%20%20%20%20%20%20%20%20%20%3Cli%3E%3Cstrong%3EID%3A%20%3C/strong%3E1379%3C/li%3E%20%20%20%20%20%20%20%20%20%20%20%20%20%3Cli%3E%3Cstrong%3ESource%3A%20%3C/strong%3EHenderson%20P%26C%20%23162%3C/li%3E%20%20%20%20%20%20%20%20%20%20%20%20%20%3Cli%3E%3Cstrong%3EName%3A%20%3C/strong%3EMona%20Lisabetta%2C%20donna%20fu%20di%20Amadore%20di%20Guelfo%3C/li%3E%20%20%20%20%20%20%20%20%20%3Cul%3E%20%20%20%20%20%3C/div%3E%60%29%5B0%5D%3B%0A%20%20%20%20%20%20%20%20%20%20%20%20popup_7a646e94e2944b3f9b6b011dd9f4aad6.setContent%28html_3fbb3a28cfd74e5bb94628666cea99cb%29%3B%0A%20%20%20%20%20%20%20%20%0A%0A%20%20%20%20%20%20%20%20marker_8d96418055db45ee87de00c765e5024c.bindPopup%28popup_7a646e94e2944b3f9b6b011dd9f4aad6%29%0A%20%20%20%20%20%20%20%20%3B%0A%0A%20%20%20%20%20%20%20%20%0A%20%20%20%20%0A%20%20%20%20%0A%20%20%20%20%20%20%20%20%20%20%20%20var%20marker_33b9d37805d2470493355f8c93241530%20%3D%20L.marker%28%0A%20%20%20%20%20%20%20%20%20%20%20%20%20%20%20%20%5B43.772334%2C%2011.254363%5D%2C%0A%20%20%20%20%20%20%20%20%20%20%20%20%20%20%20%20%7B%7D%0A%20%20%20%20%20%20%20%20%20%20%20%20%29.addTo%28map_b98b389f61064b299c4cde471c85a0fb%29%3B%0A%20%20%20%20%20%20%20%20%0A%20%20%20%20%0A%20%20%20%20%20%20%20%20var%20popup_9b48bd9bcfe6475a940aa9b72ac607c4%20%3D%20L.popup%28%7B%22maxWidth%22%3A%20%22100%25%22%7D%29%3B%0A%0A%20%20%20%20%20%20%20%20%0A%20%20%20%20%20%20%20%20%20%20%20%20var%20html_9cf636d697024aa5a41339f0e4e06117%20%3D%20%24%28%60%3Cdiv%20id%3D%22html_9cf636d697024aa5a41339f0e4e06117%22%20style%3D%22width%3A%20100.0%25%3B%20height%3A%20100.0%25%3B%22%3E%20%20%20%20%20%20%20%20%20%3Cul%3E%20%20%20%20%20%20%20%20%20%20%20%20%20%3Cli%3E%3Cstrong%3EID%3A%20%3C/strong%3E1123%3C/li%3E%20%20%20%20%20%20%20%20%20%20%20%20%20%3Cli%3E%3Cstrong%3ESource%3A%20%3C/strong%3Enan%3C/li%3E%20%20%20%20%20%20%20%20%20%20%20%20%20%3Cli%3E%3Cstrong%3EName%3A%20%3C/strong%3Enan%3C/li%3E%20%20%20%20%20%20%20%20%20%3Cul%3E%20%20%20%20%20%3C/div%3E%60%29%5B0%5D%3B%0A%20%20%20%20%20%20%20%20%20%20%20%20popup_9b48bd9bcfe6475a940aa9b72ac607c4.setContent%28html_9cf636d697024aa5a41339f0e4e06117%29%3B%0A%20%20%20%20%20%20%20%20%0A%0A%20%20%20%20%20%20%20%20marker_33b9d37805d2470493355f8c93241530.bindPopup%28popup_9b48bd9bcfe6475a940aa9b72ac607c4%29%0A%20%20%20%20%20%20%20%20%3B%0A%0A%20%20%20%20%20%20%20%20%0A%20%20%20%20%0A%20%20%20%20%0A%20%20%20%20%20%20%20%20%20%20%20%20var%20marker_879540e246474919b100983c7d4f1f54%20%3D%20L.marker%28%0A%20%20%20%20%20%20%20%20%20%20%20%20%20%20%20%20%5B43.76938971%2C%2011.24530752%5D%2C%0A%20%20%20%20%20%20%20%20%20%20%20%20%20%20%20%20%7B%7D%0A%20%20%20%20%20%20%20%20%20%20%20%20%29.addTo%28map_b98b389f61064b299c4cde471c85a0fb%29%3B%0A%20%20%20%20%20%20%20%20%0A%20%20%20%20%0A%20%20%20%20%20%20%20%20var%20popup_ec838fb830fe47ed8ed10525b790d5b6%20%3D%20L.popup%28%7B%22maxWidth%22%3A%20%22100%25%22%7D%29%3B%0A%0A%20%20%20%20%20%20%20%20%0A%20%20%20%20%20%20%20%20%20%20%20%20var%20html_bedb1666433549a0a96a8b36ef313cba%20%3D%20%24%28%60%3Cdiv%20id%3D%22html_bedb1666433549a0a96a8b36ef313cba%22%20style%3D%22width%3A%20100.0%25%3B%20height%3A%20100.0%25%3B%22%3E%20%20%20%20%20%20%20%20%20%3Cul%3E%20%20%20%20%20%20%20%20%20%20%20%20%20%3Cli%3E%3Cstrong%3EID%3A%20%3C/strong%3E8155%3C/li%3E%20%20%20%20%20%20%20%20%20%20%20%20%20%3Cli%3E%3Cstrong%3ESource%3A%20%3C/strong%3EHenderson%20P%26C%20%232%3C/li%3E%20%20%20%20%20%20%20%20%20%20%20%20%20%3Cli%3E%3Cstrong%3EName%3A%20%3C/strong%3EBartolomeo%20di%20Biagio%20muratore%3C/li%3E%20%20%20%20%20%20%20%20%20%3Cul%3E%20%20%20%20%20%3C/div%3E%60%29%5B0%5D%3B%0A%20%20%20%20%20%20%20%20%20%20%20%20popup_ec838fb830fe47ed8ed10525b790d5b6.setContent%28html_bedb1666433549a0a96a8b36ef313cba%29%3B%0A%20%20%20%20%20%20%20%20%0A%0A%20%20%20%20%20%20%20%20marker_879540e246474919b100983c7d4f1f54.bindPopup%28popup_ec838fb830fe47ed8ed10525b790d5b6%29%0A%20%20%20%20%20%20%20%20%3B%0A%0A%20%20%20%20%20%20%20%20%0A%20%20%20%20%0A%20%20%20%20%0A%20%20%20%20%20%20%20%20%20%20%20%20var%20marker_02144b48086641d884269c3d9d1532de%20%3D%20L.marker%28%0A%20%20%20%20%20%20%20%20%20%20%20%20%20%20%20%20%5B43.7712402%2C%2011.26521564%5D%2C%0A%20%20%20%20%20%20%20%20%20%20%20%20%20%20%20%20%7B%7D%0A%20%20%20%20%20%20%20%20%20%20%20%20%29.addTo%28map_b98b389f61064b299c4cde471c85a0fb%29%3B%0A%20%20%20%20%20%20%20%20%0A%20%20%20%20%0A%20%20%20%20%20%20%20%20var%20popup_5d7d0bfbc7c84766aa4e2a539b518a26%20%3D%20L.popup%28%7B%22maxWidth%22%3A%20%22100%25%22%7D%29%3B%0A%0A%20%20%20%20%20%20%20%20%0A%20%20%20%20%20%20%20%20%20%20%20%20var%20html_e15bd88222ca4a41b300708153413081%20%3D%20%24%28%60%3Cdiv%20id%3D%22html_e15bd88222ca4a41b300708153413081%22%20style%3D%22width%3A%20100.0%25%3B%20height%3A%20100.0%25%3B%22%3E%20%20%20%20%20%20%20%20%20%3Cul%3E%20%20%20%20%20%20%20%20%20%20%20%20%20%3Cli%3E%3Cstrong%3EID%3A%20%3C/strong%3E2085%3C/li%3E%20%20%20%20%20%20%20%20%20%20%20%20%20%3Cli%3E%3Cstrong%3ESource%3A%20%3C/strong%3EHenderson%20P%26C%20%23124%3C/li%3E%20%20%20%20%20%20%20%20%20%20%20%20%20%3Cli%3E%3Cstrong%3EName%3A%20%3C/strong%3EMona%20Gineuva%2C%20donna%20fu%20di%20Lorenzo%20di%20Deno%2C%20legnaiuolo%3C/li%3E%20%20%20%20%20%20%20%20%20%3Cul%3E%20%20%20%20%20%3C/div%3E%60%29%5B0%5D%3B%0A%20%20%20%20%20%20%20%20%20%20%20%20popup_5d7d0bfbc7c84766aa4e2a539b518a26.setContent%28html_e15bd88222ca4a41b300708153413081%29%3B%0A%20%20%20%20%20%20%20%20%0A%0A%20%20%20%20%20%20%20%20marker_02144b48086641d884269c3d9d1532de.bindPopup%28popup_5d7d0bfbc7c84766aa4e2a539b518a26%29%0A%20%20%20%20%20%20%20%20%3B%0A%0A%20%20%20%20%20%20%20%20%0A%20%20%20%20%0A%20%20%20%20%0A%20%20%20%20%20%20%20%20%20%20%20%20var%20marker_a05d7ec3cf5e4a1b90197f1616a63136%20%3D%20L.marker%28%0A%20%20%20%20%20%20%20%20%20%20%20%20%20%20%20%20%5B43.776473%2C%2011.25275408%5D%2C%0A%20%20%20%20%20%20%20%20%20%20%20%20%20%20%20%20%7B%7D%0A%20%20%20%20%20%20%20%20%20%20%20%20%29.addTo%28map_b98b389f61064b299c4cde471c85a0fb%29%3B%0A%20%20%20%20%20%20%20%20%0A%20%20%20%20%0A%20%20%20%20%20%20%20%20var%20popup_0fbbf076abcf4efdb6c621d80c21de5d%20%3D%20L.popup%28%7B%22maxWidth%22%3A%20%22100%25%22%7D%29%3B%0A%0A%20%20%20%20%20%20%20%20%0A%20%20%20%20%20%20%20%20%20%20%20%20var%20html_f85727ceb713453ba58b55be9f4ecf33%20%3D%20%24%28%60%3Cdiv%20id%3D%22html_f85727ceb713453ba58b55be9f4ecf33%22%20style%3D%22width%3A%20100.0%25%3B%20height%3A%20100.0%25%3B%22%3E%20%20%20%20%20%20%20%20%20%3Cul%3E%20%20%20%20%20%20%20%20%20%20%20%20%20%3Cli%3E%3Cstrong%3EID%3A%20%3C/strong%3E493%3C/li%3E%20%20%20%20%20%20%20%20%20%20%20%20%20%3Cli%3E%3Cstrong%3ESource%3A%20%3C/strong%3EHenderson%20P%26C%20%23124%3C/li%3E%20%20%20%20%20%20%20%20%20%20%20%20%20%3Cli%3E%3Cstrong%3EName%3A%20%3C/strong%3EBatista%20di%20Niccolaio%20da%20Montopoli%2C%20tessitore%3C/li%3E%20%20%20%20%20%20%20%20%20%3Cul%3E%20%20%20%20%20%3C/div%3E%60%29%5B0%5D%3B%0A%20%20%20%20%20%20%20%20%20%20%20%20popup_0fbbf076abcf4efdb6c621d80c21de5d.setContent%28html_f85727ceb713453ba58b55be9f4ecf33%29%3B%0A%20%20%20%20%20%20%20%20%0A%0A%20%20%20%20%20%20%20%20marker_a05d7ec3cf5e4a1b90197f1616a63136.bindPopup%28popup_0fbbf076abcf4efdb6c621d80c21de5d%29%0A%20%20%20%20%20%20%20%20%3B%0A%0A%20%20%20%20%20%20%20%20%0A%20%20%20%20%0A%20%20%20%20%0A%20%20%20%20%20%20%20%20%20%20%20%20var%20marker_88bdc051cf174379b215339e4d25c7ac%20%3D%20L.marker%28%0A%20%20%20%20%20%20%20%20%20%20%20%20%20%20%20%20%5B43.76977667%2C%2011.26017667%5D%2C%0A%20%20%20%20%20%20%20%20%20%20%20%20%20%20%20%20%7B%7D%0A%20%20%20%20%20%20%20%20%20%20%20%20%29.addTo%28map_b98b389f61064b299c4cde471c85a0fb%29%3B%0A%20%20%20%20%20%20%20%20%0A%20%20%20%20%0A%20%20%20%20%20%20%20%20var%20popup_467a2aa0c7564dc78bd70bc1ce090aa8%20%3D%20L.popup%28%7B%22maxWidth%22%3A%20%22100%25%22%7D%29%3B%0A%0A%20%20%20%20%20%20%20%20%0A%20%20%20%20%20%20%20%20%20%20%20%20var%20html_8c69d3f6d9c84149adf0e04df9a8b256%20%3D%20%24%28%60%3Cdiv%20id%3D%22html_8c69d3f6d9c84149adf0e04df9a8b256%22%20style%3D%22width%3A%20100.0%25%3B%20height%3A%20100.0%25%3B%22%3E%20%20%20%20%20%20%20%20%20%3Cul%3E%20%20%20%20%20%20%20%20%20%20%20%20%20%3Cli%3E%3Cstrong%3EID%3A%20%3C/strong%3E4186%3C/li%3E%20%20%20%20%20%20%20%20%20%20%20%20%20%3Cli%3E%3Cstrong%3ESource%3A%20%3C/strong%3EHenderson%20P%26C%20%23124%3C/li%3E%20%20%20%20%20%20%20%20%20%20%20%20%20%3Cli%3E%3Cstrong%3EName%3A%20%3C/strong%3EMona%20Piera%20di%20Girolamo%20Orlandi%3C/li%3E%20%20%20%20%20%20%20%20%20%3Cul%3E%20%20%20%20%20%3C/div%3E%60%29%5B0%5D%3B%0A%20%20%20%20%20%20%20%20%20%20%20%20popup_467a2aa0c7564dc78bd70bc1ce090aa8.setContent%28html_8c69d3f6d9c84149adf0e04df9a8b256%29%3B%0A%20%20%20%20%20%20%20%20%0A%0A%20%20%20%20%20%20%20%20marker_88bdc051cf174379b215339e4d25c7ac.bindPopup%28popup_467a2aa0c7564dc78bd70bc1ce090aa8%29%0A%20%20%20%20%20%20%20%20%3B%0A%0A%20%20%20%20%20%20%20%20%0A%20%20%20%20%0A%20%20%20%20%0A%20%20%20%20%20%20%20%20%20%20%20%20var%20marker_ef3a3507404a46118f1fe630bb73570d%20%3D%20L.marker%28%0A%20%20%20%20%20%20%20%20%20%20%20%20%20%20%20%20%5B43.7701726%2C%2011.24204413%5D%2C%0A%20%20%20%20%20%20%20%20%20%20%20%20%20%20%20%20%7B%7D%0A%20%20%20%20%20%20%20%20%20%20%20%20%29.addTo%28map_b98b389f61064b299c4cde471c85a0fb%29%3B%0A%20%20%20%20%20%20%20%20%0A%20%20%20%20%0A%20%20%20%20%20%20%20%20var%20popup_1ec19b1487e44defa63abf4d68280c97%20%3D%20L.popup%28%7B%22maxWidth%22%3A%20%22100%25%22%7D%29%3B%0A%0A%20%20%20%20%20%20%20%20%0A%20%20%20%20%20%20%20%20%20%20%20%20var%20html_544b3138bb25440486503df37973d797%20%3D%20%24%28%60%3Cdiv%20id%3D%22html_544b3138bb25440486503df37973d797%22%20style%3D%22width%3A%20100.0%25%3B%20height%3A%20100.0%25%3B%22%3E%20%20%20%20%20%20%20%20%20%3Cul%3E%20%20%20%20%20%20%20%20%20%20%20%20%20%3Cli%3E%3Cstrong%3EID%3A%20%3C/strong%3E8122%3C/li%3E%20%20%20%20%20%20%20%20%20%20%20%20%20%3Cli%3E%3Cstrong%3ESource%3A%20%3C/strong%3Enan%3C/li%3E%20%20%20%20%20%20%20%20%20%20%20%20%20%3Cli%3E%3Cstrong%3EName%3A%20%3C/strong%3EMona%20Catarina%20la%20sua%20meta%3C/li%3E%20%20%20%20%20%20%20%20%20%3Cul%3E%20%20%20%20%20%3C/div%3E%60%29%5B0%5D%3B%0A%20%20%20%20%20%20%20%20%20%20%20%20popup_1ec19b1487e44defa63abf4d68280c97.setContent%28html_544b3138bb25440486503df37973d797%29%3B%0A%20%20%20%20%20%20%20%20%0A%0A%20%20%20%20%20%20%20%20marker_ef3a3507404a46118f1fe630bb73570d.bindPopup%28popup_1ec19b1487e44defa63abf4d68280c97%29%0A%20%20%20%20%20%20%20%20%3B%0A%0A%20%20%20%20%20%20%20%20%0A%20%20%20%20%0A%20%20%20%20%0A%20%20%20%20%20%20%20%20%20%20%20%20var%20marker_9187e9746aa447cd99c33b8d0da5b2d7%20%3D%20L.marker%28%0A%20%20%20%20%20%20%20%20%20%20%20%20%20%20%20%20%5B43.77084%2C%2011.254306%5D%2C%0A%20%20%20%20%20%20%20%20%20%20%20%20%20%20%20%20%7B%7D%0A%20%20%20%20%20%20%20%20%20%20%20%20%29.addTo%28map_b98b389f61064b299c4cde471c85a0fb%29%3B%0A%20%20%20%20%20%20%20%20%0A%20%20%20%20%0A%20%20%20%20%20%20%20%20var%20popup_06c99b7cc7b341378b635034aa024de4%20%3D%20L.popup%28%7B%22maxWidth%22%3A%20%22100%25%22%7D%29%3B%0A%0A%20%20%20%20%20%20%20%20%0A%20%20%20%20%20%20%20%20%20%20%20%20var%20html_bac8583e68514e3d9128e0202dd3e996%20%3D%20%24%28%60%3Cdiv%20id%3D%22html_bac8583e68514e3d9128e0202dd3e996%22%20style%3D%22width%3A%20100.0%25%3B%20height%3A%20100.0%25%3B%22%3E%20%20%20%20%20%20%20%20%20%3Cul%3E%20%20%20%20%20%20%20%20%20%20%20%20%20%3Cli%3E%3Cstrong%3EID%3A%20%3C/strong%3E6721%3C/li%3E%20%20%20%20%20%20%20%20%20%20%20%20%20%3Cli%3E%3Cstrong%3ESource%3A%20%3C/strong%3EHenderson%20P%26C%20%2392%3C/li%3E%20%20%20%20%20%20%20%20%20%20%20%20%20%3Cli%3E%3Cstrong%3EName%3A%20%3C/strong%3ESancti%20di%20Luca%20di%20Mazzeranga%3C/li%3E%20%20%20%20%20%20%20%20%20%3Cul%3E%20%20%20%20%20%3C/div%3E%60%29%5B0%5D%3B%0A%20%20%20%20%20%20%20%20%20%20%20%20popup_06c99b7cc7b341378b635034aa024de4.setContent%28html_bac8583e68514e3d9128e0202dd3e996%29%3B%0A%20%20%20%20%20%20%20%20%0A%0A%20%20%20%20%20%20%20%20marker_9187e9746aa447cd99c33b8d0da5b2d7.bindPopup%28popup_06c99b7cc7b341378b635034aa024de4%29%0A%20%20%20%20%20%20%20%20%3B%0A%0A%20%20%20%20%20%20%20%20%0A%20%20%20%20%0A%20%20%20%20%0A%20%20%20%20%20%20%20%20%20%20%20%20var%20marker_f01e6fac5d53435790000e9a83c0a95a%20%3D%20L.marker%28%0A%20%20%20%20%20%20%20%20%20%20%20%20%20%20%20%20%5B43.7757045%2C%2011.25230736%5D%2C%0A%20%20%20%20%20%20%20%20%20%20%20%20%20%20%20%20%7B%7D%0A%20%20%20%20%20%20%20%20%20%20%20%20%29.addTo%28map_b98b389f61064b299c4cde471c85a0fb%29%3B%0A%20%20%20%20%20%20%20%20%0A%20%20%20%20%0A%20%20%20%20%20%20%20%20var%20popup_812cdd37c2cd43ea81ec6be6ecef0d1b%20%3D%20L.popup%28%7B%22maxWidth%22%3A%20%22100%25%22%7D%29%3B%0A%0A%20%20%20%20%20%20%20%20%0A%20%20%20%20%20%20%20%20%20%20%20%20var%20html_b93a028e3bfc488b8b5c5c4b7ac27412%20%3D%20%24%28%60%3Cdiv%20id%3D%22html_b93a028e3bfc488b8b5c5c4b7ac27412%22%20style%3D%22width%3A%20100.0%25%3B%20height%3A%20100.0%25%3B%22%3E%20%20%20%20%20%20%20%20%20%3Cul%3E%20%20%20%20%20%20%20%20%20%20%20%20%20%3Cli%3E%3Cstrong%3EID%3A%20%3C/strong%3E452%3C/li%3E%20%20%20%20%20%20%20%20%20%20%20%20%20%3Cli%3E%3Cstrong%3ESource%3A%20%3C/strong%3EHenderson%20P%26C%20%2392%3C/li%3E%20%20%20%20%20%20%20%20%20%20%20%20%20%3Cli%3E%3Cstrong%3EName%3A%20%3C/strong%3EMona%20Magdalena%2C%20vedova%2C%20donna%20gia%20di%20Domenico%20di%20Piero%2C%20pizzicagnolo%3C/li%3E%20%20%20%20%20%20%20%20%20%3Cul%3E%20%20%20%20%20%3C/div%3E%60%29%5B0%5D%3B%0A%20%20%20%20%20%20%20%20%20%20%20%20popup_812cdd37c2cd43ea81ec6be6ecef0d1b.setContent%28html_b93a028e3bfc488b8b5c5c4b7ac27412%29%3B%0A%20%20%20%20%20%20%20%20%0A%0A%20%20%20%20%20%20%20%20marker_f01e6fac5d53435790000e9a83c0a95a.bindPopup%28popup_812cdd37c2cd43ea81ec6be6ecef0d1b%29%0A%20%20%20%20%20%20%20%20%3B%0A%0A%20%20%20%20%20%20%20%20%0A%20%20%20%20%0A%20%20%20%20%0A%20%20%20%20%20%20%20%20%20%20%20%20var%20marker_70de42d6a13e4b9e96e334c3b0d5b10c%20%3D%20L.marker%28%0A%20%20%20%20%20%20%20%20%20%20%20%20%20%20%20%20%5B43.78056204%2C%2011.2577987%5D%2C%0A%20%20%20%20%20%20%20%20%20%20%20%20%20%20%20%20%7B%7D%0A%20%20%20%20%20%20%20%20%20%20%20%20%29.addTo%28map_b98b389f61064b299c4cde471c85a0fb%29%3B%0A%20%20%20%20%20%20%20%20%0A%20%20%20%20%0A%20%20%20%20%20%20%20%20var%20popup_354b21b1413d4293881c68c4ee5f5130%20%3D%20L.popup%28%7B%22maxWidth%22%3A%20%22100%25%22%7D%29%3B%0A%0A%20%20%20%20%20%20%20%20%0A%20%20%20%20%20%20%20%20%20%20%20%20var%20html_ea5f5e1bd66142c59a24624792bd0aa9%20%3D%20%24%28%60%3Cdiv%20id%3D%22html_ea5f5e1bd66142c59a24624792bd0aa9%22%20style%3D%22width%3A%20100.0%25%3B%20height%3A%20100.0%25%3B%22%3E%20%20%20%20%20%20%20%20%20%3Cul%3E%20%20%20%20%20%20%20%20%20%20%20%20%20%3Cli%3E%3Cstrong%3EID%3A%20%3C/strong%3E623%3C/li%3E%20%20%20%20%20%20%20%20%20%20%20%20%20%3Cli%3E%3Cstrong%3ESource%3A%20%3C/strong%3EHenderson%20P%26C%20%2392%3C/li%3E%20%20%20%20%20%20%20%20%20%20%20%20%20%3Cli%3E%3Cstrong%3EName%3A%20%3C/strong%3EGiovanbatista%20d%27%20Andrea%20Laurentini%3C/li%3E%20%20%20%20%20%20%20%20%20%3Cul%3E%20%20%20%20%20%3C/div%3E%60%29%5B0%5D%3B%0A%20%20%20%20%20%20%20%20%20%20%20%20popup_354b21b1413d4293881c68c4ee5f5130.setContent%28html_ea5f5e1bd66142c59a24624792bd0aa9%29%3B%0A%20%20%20%20%20%20%20%20%0A%0A%20%20%20%20%20%20%20%20marker_70de42d6a13e4b9e96e334c3b0d5b10c.bindPopup%28popup_354b21b1413d4293881c68c4ee5f5130%29%0A%20%20%20%20%20%20%20%20%3B%0A%0A%20%20%20%20%20%20%20%20%0A%20%20%20%20%0A%20%20%20%20%0A%20%20%20%20%20%20%20%20%20%20%20%20var%20marker_73df35de87814fdd882366f132d631ab%20%3D%20L.marker%28%0A%20%20%20%20%20%20%20%20%20%20%20%20%20%20%20%20%5B43.78061222%2C%2011.25774922%5D%2C%0A%20%20%20%20%20%20%20%20%20%20%20%20%20%20%20%20%7B%7D%0A%20%20%20%20%20%20%20%20%20%20%20%20%29.addTo%28map_b98b389f61064b299c4cde471c85a0fb%29%3B%0A%20%20%20%20%20%20%20%20%0A%20%20%20%20%0A%20%20%20%20%20%20%20%20var%20popup_8e0b97027ac4430689aa562303053362%20%3D%20L.popup%28%7B%22maxWidth%22%3A%20%22100%25%22%7D%29%3B%0A%0A%20%20%20%20%20%20%20%20%0A%20%20%20%20%20%20%20%20%20%20%20%20var%20html_0cd91c00cafd4ac5b84616845ea6de90%20%3D%20%24%28%60%3Cdiv%20id%3D%22html_0cd91c00cafd4ac5b84616845ea6de90%22%20style%3D%22width%3A%20100.0%25%3B%20height%3A%20100.0%25%3B%22%3E%20%20%20%20%20%20%20%20%20%3Cul%3E%20%20%20%20%20%20%20%20%20%20%20%20%20%3Cli%3E%3Cstrong%3EID%3A%20%3C/strong%3E624%3C/li%3E%20%20%20%20%20%20%20%20%20%20%20%20%20%3Cli%3E%3Cstrong%3ESource%3A%20%3C/strong%3EHenderson%20P%26C%20%2392%3C/li%3E%20%20%20%20%20%20%20%20%20%20%20%20%20%3Cli%3E%3Cstrong%3EName%3A%20%3C/strong%3Eser%20Domenico%20Sannini%2C%20prete%3C/li%3E%20%20%20%20%20%20%20%20%20%3Cul%3E%20%20%20%20%20%3C/div%3E%60%29%5B0%5D%3B%0A%20%20%20%20%20%20%20%20%20%20%20%20popup_8e0b97027ac4430689aa562303053362.setContent%28html_0cd91c00cafd4ac5b84616845ea6de90%29%3B%0A%20%20%20%20%20%20%20%20%0A%0A%20%20%20%20%20%20%20%20marker_73df35de87814fdd882366f132d631ab.bindPopup%28popup_8e0b97027ac4430689aa562303053362%29%0A%20%20%20%20%20%20%20%20%3B%0A%0A%20%20%20%20%20%20%20%20%0A%20%20%20%20%0A%20%20%20%20%0A%20%20%20%20%20%20%20%20%20%20%20%20var%20marker_b9bd35efa6d248339efdfe116b71d823%20%3D%20L.marker%28%0A%20%20%20%20%20%20%20%20%20%20%20%20%20%20%20%20%5B43.78066241%2C%2011.25769974%5D%2C%0A%20%20%20%20%20%20%20%20%20%20%20%20%20%20%20%20%7B%7D%0A%20%20%20%20%20%20%20%20%20%20%20%20%29.addTo%28map_b98b389f61064b299c4cde471c85a0fb%29%3B%0A%20%20%20%20%20%20%20%20%0A%20%20%20%20%0A%20%20%20%20%20%20%20%20var%20popup_1325d0fd47be444cafe90238c8ef8fa1%20%3D%20L.popup%28%7B%22maxWidth%22%3A%20%22100%25%22%7D%29%3B%0A%0A%20%20%20%20%20%20%20%20%0A%20%20%20%20%20%20%20%20%20%20%20%20var%20html_6d2acaec774b445cbb8f8ed94935c5ff%20%3D%20%24%28%60%3Cdiv%20id%3D%22html_6d2acaec774b445cbb8f8ed94935c5ff%22%20style%3D%22width%3A%20100.0%25%3B%20height%3A%20100.0%25%3B%22%3E%20%20%20%20%20%20%20%20%20%3Cul%3E%20%20%20%20%20%20%20%20%20%20%20%20%20%3Cli%3E%3Cstrong%3EID%3A%20%3C/strong%3E625%3C/li%3E%20%20%20%20%20%20%20%20%20%20%20%20%20%3Cli%3E%3Cstrong%3ESource%3A%20%3C/strong%3EHenderson%20P%26C%20%2392%3C/li%3E%20%20%20%20%20%20%20%20%20%20%20%20%20%3Cli%3E%3Cstrong%3EName%3A%20%3C/strong%3EGiuliano%20da%20le%20Pozze%3C/li%3E%20%20%20%20%20%20%20%20%20%3Cul%3E%20%20%20%20%20%3C/div%3E%60%29%5B0%5D%3B%0A%20%20%20%20%20%20%20%20%20%20%20%20popup_1325d0fd47be444cafe90238c8ef8fa1.setContent%28html_6d2acaec774b445cbb8f8ed94935c5ff%29%3B%0A%20%20%20%20%20%20%20%20%0A%0A%20%20%20%20%20%20%20%20marker_b9bd35efa6d248339efdfe116b71d823.bindPopup%28popup_1325d0fd47be444cafe90238c8ef8fa1%29%0A%20%20%20%20%20%20%20%20%3B%0A%0A%20%20%20%20%20%20%20%20%0A%20%20%20%20%0A%20%20%20%20%0A%20%20%20%20%20%20%20%20%20%20%20%20var%20marker_20bac49afc3649bc908fa034f212cee8%20%3D%20L.marker%28%0A%20%20%20%20%20%20%20%20%20%20%20%20%20%20%20%20%5B43.78051185%2C%2011.25784819%5D%2C%0A%20%20%20%20%20%20%20%20%20%20%20%20%20%20%20%20%7B%7D%0A%20%20%20%20%20%20%20%20%20%20%20%20%29.addTo%28map_b98b389f61064b299c4cde471c85a0fb%29%3B%0A%20%20%20%20%20%20%20%20%0A%20%20%20%20%0A%20%20%20%20%20%20%20%20var%20popup_571b583f17ee440bb8b20b48d0af2a6d%20%3D%20L.popup%28%7B%22maxWidth%22%3A%20%22100%25%22%7D%29%3B%0A%0A%20%20%20%20%20%20%20%20%0A%20%20%20%20%20%20%20%20%20%20%20%20var%20html_6e31444b251e431a8dfce35233490b0b%20%3D%20%24%28%60%3Cdiv%20id%3D%22html_6e31444b251e431a8dfce35233490b0b%22%20style%3D%22width%3A%20100.0%25%3B%20height%3A%20100.0%25%3B%22%3E%20%20%20%20%20%20%20%20%20%3Cul%3E%20%20%20%20%20%20%20%20%20%20%20%20%20%3Cli%3E%3Cstrong%3EID%3A%20%3C/strong%3E767%3C/li%3E%20%20%20%20%20%20%20%20%20%20%20%20%20%3Cli%3E%3Cstrong%3ESource%3A%20%3C/strong%3EHenderson%20P%26C%20%2392%3C/li%3E%20%20%20%20%20%20%20%20%20%20%20%20%20%3Cli%3E%3Cstrong%3EName%3A%20%3C/strong%3EAlessandro%20di%20Raffaello%2C%20calderaio%3C/li%3E%20%20%20%20%20%20%20%20%20%3Cul%3E%20%20%20%20%20%3C/div%3E%60%29%5B0%5D%3B%0A%20%20%20%20%20%20%20%20%20%20%20%20popup_571b583f17ee440bb8b20b48d0af2a6d.setContent%28html_6e31444b251e431a8dfce35233490b0b%29%3B%0A%20%20%20%20%20%20%20%20%0A%0A%20%20%20%20%20%20%20%20marker_20bac49afc3649bc908fa034f212cee8.bindPopup%28popup_571b583f17ee440bb8b20b48d0af2a6d%29%0A%20%20%20%20%20%20%20%20%3B%0A%0A%20%20%20%20%20%20%20%20%0A%20%20%20%20%0A%20%20%20%20%0A%20%20%20%20%20%20%20%20%20%20%20%20var%20marker_aaa8641f93034b23901a569f1486c5b2%20%3D%20L.marker%28%0A%20%20%20%20%20%20%20%20%20%20%20%20%20%20%20%20%5B43.775751%2C%2011.252284%5D%2C%0A%20%20%20%20%20%20%20%20%20%20%20%20%20%20%20%20%7B%7D%0A%20%20%20%20%20%20%20%20%20%20%20%20%29.addTo%28map_b98b389f61064b299c4cde471c85a0fb%29%3B%0A%20%20%20%20%20%20%20%20%0A%20%20%20%20%0A%20%20%20%20%20%20%20%20var%20popup_1c7c98a7a8ed4a71896b10b6c58f2ddb%20%3D%20L.popup%28%7B%22maxWidth%22%3A%20%22100%25%22%7D%29%3B%0A%0A%20%20%20%20%20%20%20%20%0A%20%20%20%20%20%20%20%20%20%20%20%20var%20html_daf5e3835e394f0bb9f44804f515674d%20%3D%20%24%28%60%3Cdiv%20id%3D%22html_daf5e3835e394f0bb9f44804f515674d%22%20style%3D%22width%3A%20100.0%25%3B%20height%3A%20100.0%25%3B%22%3E%20%20%20%20%20%20%20%20%20%3Cul%3E%20%20%20%20%20%20%20%20%20%20%20%20%20%3Cli%3E%3Cstrong%3EID%3A%20%3C/strong%3E834%3C/li%3E%20%20%20%20%20%20%20%20%20%20%20%20%20%3Cli%3E%3Cstrong%3ESource%3A%20%3C/strong%3EHenderson%20P%26C%20%2392%3C/li%3E%20%20%20%20%20%20%20%20%20%20%20%20%20%3Cli%3E%3Cstrong%3EName%3A%20%3C/strong%3Ele%20Margarita%20di%20Guasparre%20di%20castro%3C/li%3E%20%20%20%20%20%20%20%20%20%3Cul%3E%20%20%20%20%20%3C/div%3E%60%29%5B0%5D%3B%0A%20%20%20%20%20%20%20%20%20%20%20%20popup_1c7c98a7a8ed4a71896b10b6c58f2ddb.setContent%28html_daf5e3835e394f0bb9f44804f515674d%29%3B%0A%20%20%20%20%20%20%20%20%0A%0A%20%20%20%20%20%20%20%20marker_aaa8641f93034b23901a569f1486c5b2.bindPopup%28popup_1c7c98a7a8ed4a71896b10b6c58f2ddb%29%0A%20%20%20%20%20%20%20%20%3B%0A%0A%20%20%20%20%20%20%20%20%0A%20%20%20%20%0A%20%20%20%20%0A%20%20%20%20%20%20%20%20%20%20%20%20var%20marker_592ccf23a96f44ecacec04d05e253bb8%20%3D%20L.marker%28%0A%20%20%20%20%20%20%20%20%20%20%20%20%20%20%20%20%5B43.775553%2C%2011.251728%5D%2C%0A%20%20%20%20%20%20%20%20%20%20%20%20%20%20%20%20%7B%7D%0A%20%20%20%20%20%20%20%20%20%20%20%20%29.addTo%28map_b98b389f61064b299c4cde471c85a0fb%29%3B%0A%20%20%20%20%20%20%20%20%0A%20%20%20%20%0A%20%20%20%20%20%20%20%20var%20popup_499c7fd6f87a471f8bc9d18297bf4350%20%3D%20L.popup%28%7B%22maxWidth%22%3A%20%22100%25%22%7D%29%3B%0A%0A%20%20%20%20%20%20%20%20%0A%20%20%20%20%20%20%20%20%20%20%20%20var%20html_65950fbc391342b19473168094c9f1df%20%3D%20%24%28%60%3Cdiv%20id%3D%22html_65950fbc391342b19473168094c9f1df%22%20style%3D%22width%3A%20100.0%25%3B%20height%3A%20100.0%25%3B%22%3E%20%20%20%20%20%20%20%20%20%3Cul%3E%20%20%20%20%20%20%20%20%20%20%20%20%20%3Cli%3E%3Cstrong%3EID%3A%20%3C/strong%3E908%3C/li%3E%20%20%20%20%20%20%20%20%20%20%20%20%20%3Cli%3E%3Cstrong%3ESource%3A%20%3C/strong%3EHenderson%20P%26C%20%2392%3C/li%3E%20%20%20%20%20%20%20%20%20%20%20%20%20%3Cli%3E%3Cstrong%3EName%3A%20%3C/strong%3EPiero%20di%20Jacopo%20Trenetti%3C/li%3E%20%20%20%20%20%20%20%20%20%3Cul%3E%20%20%20%20%20%3C/div%3E%60%29%5B0%5D%3B%0A%20%20%20%20%20%20%20%20%20%20%20%20popup_499c7fd6f87a471f8bc9d18297bf4350.setContent%28html_65950fbc391342b19473168094c9f1df%29%3B%0A%20%20%20%20%20%20%20%20%0A%0A%20%20%20%20%20%20%20%20marker_592ccf23a96f44ecacec04d05e253bb8.bindPopup%28popup_499c7fd6f87a471f8bc9d18297bf4350%29%0A%20%20%20%20%20%20%20%20%3B%0A%0A%20%20%20%20%20%20%20%20%0A%20%20%20%20%0A%20%20%20%20%0A%20%20%20%20%20%20%20%20%20%20%20%20var%20marker_70d6cdb278b14748bbdf0b4fa81ba013%20%3D%20L.marker%28%0A%20%20%20%20%20%20%20%20%20%20%20%20%20%20%20%20%5B43.77719444%2C%2011.24916444%5D%2C%0A%20%20%20%20%20%20%20%20%20%20%20%20%20%20%20%20%7B%7D%0A%20%20%20%20%20%20%20%20%20%20%20%20%29.addTo%28map_b98b389f61064b299c4cde471c85a0fb%29%3B%0A%20%20%20%20%20%20%20%20%0A%20%20%20%20%0A%20%20%20%20%20%20%20%20var%20popup_548f326b1219400ba52a74a7a8aa7670%20%3D%20L.popup%28%7B%22maxWidth%22%3A%20%22100%25%22%7D%29%3B%0A%0A%20%20%20%20%20%20%20%20%0A%20%20%20%20%20%20%20%20%20%20%20%20var%20html_2cbffe8b1d7642c29f0351b6ee3339a9%20%3D%20%24%28%60%3Cdiv%20id%3D%22html_2cbffe8b1d7642c29f0351b6ee3339a9%22%20style%3D%22width%3A%20100.0%25%3B%20height%3A%20100.0%25%3B%22%3E%20%20%20%20%20%20%20%20%20%3Cul%3E%20%20%20%20%20%20%20%20%20%20%20%20%20%3Cli%3E%3Cstrong%3EID%3A%20%3C/strong%3E5357%3C/li%3E%20%20%20%20%20%20%20%20%20%20%20%20%20%3Cli%3E%3Cstrong%3ESource%3A%20%3C/strong%3EHenderson%20P%26C%20%2392%3C/li%3E%20%20%20%20%20%20%20%20%20%20%20%20%20%3Cli%3E%3Cstrong%3EName%3A%20%3C/strong%3ELodovico%20di%20Giovanni%20Guiducci%3C/li%3E%20%20%20%20%20%20%20%20%20%3Cul%3E%20%20%20%20%20%3C/div%3E%60%29%5B0%5D%3B%0A%20%20%20%20%20%20%20%20%20%20%20%20popup_548f326b1219400ba52a74a7a8aa7670.setContent%28html_2cbffe8b1d7642c29f0351b6ee3339a9%29%3B%0A%20%20%20%20%20%20%20%20%0A%0A%20%20%20%20%20%20%20%20marker_70d6cdb278b14748bbdf0b4fa81ba013.bindPopup%28popup_548f326b1219400ba52a74a7a8aa7670%29%0A%20%20%20%20%20%20%20%20%3B%0A%0A%20%20%20%20%20%20%20%20%0A%20%20%20%20%0A%20%20%20%20%0A%20%20%20%20%20%20%20%20%20%20%20%20var%20marker_6f5155fa11d2428a8e6de2644b0500c0%20%3D%20L.marker%28%0A%20%20%20%20%20%20%20%20%20%20%20%20%20%20%20%20%5B43.77600143%2C%2011.26026457%5D%2C%0A%20%20%20%20%20%20%20%20%20%20%20%20%20%20%20%20%7B%7D%0A%20%20%20%20%20%20%20%20%20%20%20%20%29.addTo%28map_b98b389f61064b299c4cde471c85a0fb%29%3B%0A%20%20%20%20%20%20%20%20%0A%20%20%20%20%0A%20%20%20%20%20%20%20%20var%20popup_ac3f8cfedd50492094c655c6ae5460f2%20%3D%20L.popup%28%7B%22maxWidth%22%3A%20%22100%25%22%7D%29%3B%0A%0A%20%20%20%20%20%20%20%20%0A%20%20%20%20%20%20%20%20%20%20%20%20var%20html_36381e271c6e42179750b15b111f7788%20%3D%20%24%28%60%3Cdiv%20id%3D%22html_36381e271c6e42179750b15b111f7788%22%20style%3D%22width%3A%20100.0%25%3B%20height%3A%20100.0%25%3B%22%3E%20%20%20%20%20%20%20%20%20%3Cul%3E%20%20%20%20%20%20%20%20%20%20%20%20%20%3Cli%3E%3Cstrong%3EID%3A%20%3C/strong%3E2945%3C/li%3E%20%20%20%20%20%20%20%20%20%20%20%20%20%3Cli%3E%3Cstrong%3ESource%3A%20%3C/strong%3EHenderson%20P%26C%20%2392%3C/li%3E%20%20%20%20%20%20%20%20%20%20%20%20%20%3Cli%3E%3Cstrong%3EName%3A%20%3C/strong%3Emesser%20Vincenzo%20di%20Jacopo%20Cancellieri%3C/li%3E%20%20%20%20%20%20%20%20%20%3Cul%3E%20%20%20%20%20%3C/div%3E%60%29%5B0%5D%3B%0A%20%20%20%20%20%20%20%20%20%20%20%20popup_ac3f8cfedd50492094c655c6ae5460f2.setContent%28html_36381e271c6e42179750b15b111f7788%29%3B%0A%20%20%20%20%20%20%20%20%0A%0A%20%20%20%20%20%20%20%20marker_6f5155fa11d2428a8e6de2644b0500c0.bindPopup%28popup_ac3f8cfedd50492094c655c6ae5460f2%29%0A%20%20%20%20%20%20%20%20%3B%0A%0A%20%20%20%20%20%20%20%20%0A%20%20%20%20%0A%20%20%20%20%0A%20%20%20%20%20%20%20%20%20%20%20%20var%20marker_e586863d236c47619dc26f34a4d8656a%20%3D%20L.marker%28%0A%20%20%20%20%20%20%20%20%20%20%20%20%20%20%20%20%5B43.77594286%2C%2011.26019514%5D%2C%0A%20%20%20%20%20%20%20%20%20%20%20%20%20%20%20%20%7B%7D%0A%20%20%20%20%20%20%20%20%20%20%20%20%29.addTo%28map_b98b389f61064b299c4cde471c85a0fb%29%3B%0A%20%20%20%20%20%20%20%20%0A%20%20%20%20%0A%20%20%20%20%20%20%20%20var%20popup_40a04e1114184e86a09355772ad1f321%20%3D%20L.popup%28%7B%22maxWidth%22%3A%20%22100%25%22%7D%29%3B%0A%0A%20%20%20%20%20%20%20%20%0A%20%20%20%20%20%20%20%20%20%20%20%20var%20html_68210aa0f45840a598907d95f98611b2%20%3D%20%24%28%60%3Cdiv%20id%3D%22html_68210aa0f45840a598907d95f98611b2%22%20style%3D%22width%3A%20100.0%25%3B%20height%3A%20100.0%25%3B%22%3E%20%20%20%20%20%20%20%20%20%3Cul%3E%20%20%20%20%20%20%20%20%20%20%20%20%20%3Cli%3E%3Cstrong%3EID%3A%20%3C/strong%3E2946%3C/li%3E%20%20%20%20%20%20%20%20%20%20%20%20%20%3Cli%3E%3Cstrong%3ESource%3A%20%3C/strong%3EHenderson%20P%26C%20%2392%3C/li%3E%20%20%20%20%20%20%20%20%20%20%20%20%20%3Cli%3E%3Cstrong%3EName%3A%20%3C/strong%3EGiovanfrancesco%20Filippo%3C/li%3E%20%20%20%20%20%20%20%20%20%3Cul%3E%20%20%20%20%20%3C/div%3E%60%29%5B0%5D%3B%0A%20%20%20%20%20%20%20%20%20%20%20%20popup_40a04e1114184e86a09355772ad1f321.setContent%28html_68210aa0f45840a598907d95f98611b2%29%3B%0A%20%20%20%20%20%20%20%20%0A%0A%20%20%20%20%20%20%20%20marker_e586863d236c47619dc26f34a4d8656a.bindPopup%28popup_40a04e1114184e86a09355772ad1f321%29%0A%20%20%20%20%20%20%20%20%3B%0A%0A%20%20%20%20%20%20%20%20%0A%20%20%20%20%0A%20%20%20%20%0A%20%20%20%20%20%20%20%20%20%20%20%20var%20marker_dc7d080cb3984fcb9f45c1d6874c636d%20%3D%20L.marker%28%0A%20%20%20%20%20%20%20%20%20%20%20%20%20%20%20%20%5B43.77588429%2C%2011.26012571%5D%2C%0A%20%20%20%20%20%20%20%20%20%20%20%20%20%20%20%20%7B%7D%0A%20%20%20%20%20%20%20%20%20%20%20%20%29.addTo%28map_b98b389f61064b299c4cde471c85a0fb%29%3B%0A%20%20%20%20%20%20%20%20%0A%20%20%20%20%0A%20%20%20%20%20%20%20%20var%20popup_49923c88657b423fba58e42622418d8f%20%3D%20L.popup%28%7B%22maxWidth%22%3A%20%22100%25%22%7D%29%3B%0A%0A%20%20%20%20%20%20%20%20%0A%20%20%20%20%20%20%20%20%20%20%20%20var%20html_d536359261344056938663bdba365fea%20%3D%20%24%28%60%3Cdiv%20id%3D%22html_d536359261344056938663bdba365fea%22%20style%3D%22width%3A%20100.0%25%3B%20height%3A%20100.0%25%3B%22%3E%20%20%20%20%20%20%20%20%20%3Cul%3E%20%20%20%20%20%20%20%20%20%20%20%20%20%3Cli%3E%3Cstrong%3EID%3A%20%3C/strong%3E2947%3C/li%3E%20%20%20%20%20%20%20%20%20%20%20%20%20%3Cli%3E%3Cstrong%3ESource%3A%20%3C/strong%3EHenderson%20P%26C%20%2392%3C/li%3E%20%20%20%20%20%20%20%20%20%20%20%20%20%3Cli%3E%3Cstrong%3EName%3A%20%3C/strong%3Eser%20Lorenzo%20di%20Francesco%20Carboli%3C/li%3E%20%20%20%20%20%20%20%20%20%3Cul%3E%20%20%20%20%20%3C/div%3E%60%29%5B0%5D%3B%0A%20%20%20%20%20%20%20%20%20%20%20%20popup_49923c88657b423fba58e42622418d8f.setContent%28html_d536359261344056938663bdba365fea%29%3B%0A%20%20%20%20%20%20%20%20%0A%0A%20%20%20%20%20%20%20%20marker_dc7d080cb3984fcb9f45c1d6874c636d.bindPopup%28popup_49923c88657b423fba58e42622418d8f%29%0A%20%20%20%20%20%20%20%20%3B%0A%0A%20%20%20%20%20%20%20%20%0A%20%20%20%20%0A%20%20%20%20%0A%20%20%20%20%20%20%20%20%20%20%20%20var%20marker_9cd345fca8f645bd8151ce68632d73e9%20%3D%20L.marker%28%0A%20%20%20%20%20%20%20%20%20%20%20%20%20%20%20%20%5B43.77606%2C%2011.260334%5D%2C%0A%20%20%20%20%20%20%20%20%20%20%20%20%20%20%20%20%7B%7D%0A%20%20%20%20%20%20%20%20%20%20%20%20%29.addTo%28map_b98b389f61064b299c4cde471c85a0fb%29%3B%0A%20%20%20%20%20%20%20%20%0A%20%20%20%20%0A%20%20%20%20%20%20%20%20var%20popup_461d5ceb8ce9409782900a6ed462e798%20%3D%20L.popup%28%7B%22maxWidth%22%3A%20%22100%25%22%7D%29%3B%0A%0A%20%20%20%20%20%20%20%20%0A%20%20%20%20%20%20%20%20%20%20%20%20var%20html_79061bb45dc7434593b0ea33fa746981%20%3D%20%24%28%60%3Cdiv%20id%3D%22html_79061bb45dc7434593b0ea33fa746981%22%20style%3D%22width%3A%20100.0%25%3B%20height%3A%20100.0%25%3B%22%3E%20%20%20%20%20%20%20%20%20%3Cul%3E%20%20%20%20%20%20%20%20%20%20%20%20%20%3Cli%3E%3Cstrong%3EID%3A%20%3C/strong%3E2963%3C/li%3E%20%20%20%20%20%20%20%20%20%20%20%20%20%3Cli%3E%3Cstrong%3ESource%3A%20%3C/strong%3EHenderson%20P%26C%20%2392%3C/li%3E%20%20%20%20%20%20%20%20%20%20%20%20%20%3Cli%3E%3Cstrong%3EName%3A%20%3C/strong%3EPierfilippo%20di%20Gramiozzo%20Pandolfini%3C/li%3E%20%20%20%20%20%20%20%20%20%3Cul%3E%20%20%20%20%20%3C/div%3E%60%29%5B0%5D%3B%0A%20%20%20%20%20%20%20%20%20%20%20%20popup_461d5ceb8ce9409782900a6ed462e798.setContent%28html_79061bb45dc7434593b0ea33fa746981%29%3B%0A%20%20%20%20%20%20%20%20%0A%0A%20%20%20%20%20%20%20%20marker_9cd345fca8f645bd8151ce68632d73e9.bindPopup%28popup_461d5ceb8ce9409782900a6ed462e798%29%0A%20%20%20%20%20%20%20%20%3B%0A%0A%20%20%20%20%20%20%20%20%0A%20%20%20%20%0A%20%20%20%20%0A%20%20%20%20%20%20%20%20%20%20%20%20var%20marker_1ec8b1b8d06c41749b595209381749e0%20%3D%20L.marker%28%0A%20%20%20%20%20%20%20%20%20%20%20%20%20%20%20%20%5B43.7713504%2C%2011.2626168%5D%2C%0A%20%20%20%20%20%20%20%20%20%20%20%20%20%20%20%20%7B%7D%0A%20%20%20%20%20%20%20%20%20%20%20%20%29.addTo%28map_b98b389f61064b299c4cde471c85a0fb%29%3B%0A%20%20%20%20%20%20%20%20%0A%20%20%20%20%0A%20%20%20%20%20%20%20%20var%20popup_c2205a2ee0f3454ab55ec778ac86f05b%20%3D%20L.popup%28%7B%22maxWidth%22%3A%20%22100%25%22%7D%29%3B%0A%0A%20%20%20%20%20%20%20%20%0A%20%20%20%20%20%20%20%20%20%20%20%20var%20html_34f86f4b67694a78b3990658be5ebe9c%20%3D%20%24%28%60%3Cdiv%20id%3D%22html_34f86f4b67694a78b3990658be5ebe9c%22%20style%3D%22width%3A%20100.0%25%3B%20height%3A%20100.0%25%3B%22%3E%20%20%20%20%20%20%20%20%20%3Cul%3E%20%20%20%20%20%20%20%20%20%20%20%20%20%3Cli%3E%3Cstrong%3EID%3A%20%3C/strong%3E3296%3C/li%3E%20%20%20%20%20%20%20%20%20%20%20%20%20%3Cli%3E%3Cstrong%3ESource%3A%20%3C/strong%3EHenderson%20P%26C%20%2392%3C/li%3E%20%20%20%20%20%20%20%20%20%20%20%20%20%3Cli%3E%3Cstrong%3EName%3A%20%3C/strong%3EPiero%20di%20Simone%20Querei%20da%20Sesto%2C%20cieco%3C/li%3E%20%20%20%20%20%20%20%20%20%3Cul%3E%20%20%20%20%20%3C/div%3E%60%29%5B0%5D%3B%0A%20%20%20%20%20%20%20%20%20%20%20%20popup_c2205a2ee0f3454ab55ec778ac86f05b.setContent%28html_34f86f4b67694a78b3990658be5ebe9c%29%3B%0A%20%20%20%20%20%20%20%20%0A%0A%20%20%20%20%20%20%20%20marker_1ec8b1b8d06c41749b595209381749e0.bindPopup%28popup_c2205a2ee0f3454ab55ec778ac86f05b%29%0A%20%20%20%20%20%20%20%20%3B%0A%0A%20%20%20%20%20%20%20%20%0A%20%20%20%20%0A%20%20%20%20%0A%20%20%20%20%20%20%20%20%20%20%20%20var%20marker_4af5eea1a5a343a08e4c10ccbe0f56a0%20%3D%20L.marker%28%0A%20%20%20%20%20%20%20%20%20%20%20%20%20%20%20%20%5B43.77074933%2C%2011.26244367%5D%2C%0A%20%20%20%20%20%20%20%20%20%20%20%20%20%20%20%20%7B%7D%0A%20%20%20%20%20%20%20%20%20%20%20%20%29.addTo%28map_b98b389f61064b299c4cde471c85a0fb%29%3B%0A%20%20%20%20%20%20%20%20%0A%20%20%20%20%0A%20%20%20%20%20%20%20%20var%20popup_f84702b4ec3e4eceb1a3a41465ebc0e3%20%3D%20L.popup%28%7B%22maxWidth%22%3A%20%22100%25%22%7D%29%3B%0A%0A%20%20%20%20%20%20%20%20%0A%20%20%20%20%20%20%20%20%20%20%20%20var%20html_a7bffe4260a64847bbc6de3b1a6640b5%20%3D%20%24%28%60%3Cdiv%20id%3D%22html_a7bffe4260a64847bbc6de3b1a6640b5%22%20style%3D%22width%3A%20100.0%25%3B%20height%3A%20100.0%25%3B%22%3E%20%20%20%20%20%20%20%20%20%3Cul%3E%20%20%20%20%20%20%20%20%20%20%20%20%20%3Cli%3E%3Cstrong%3EID%3A%20%3C/strong%3E3455%3C/li%3E%20%20%20%20%20%20%20%20%20%20%20%20%20%3Cli%3E%3Cstrong%3ESource%3A%20%3C/strong%3EHenderson%20P%26C%20%2392%3C/li%3E%20%20%20%20%20%20%20%20%20%20%20%20%20%3Cli%3E%3Cstrong%3EName%3A%20%3C/strong%3EDomenico%20di%20Benedetto%20da%20Castello%2C%20tessitore%3C/li%3E%20%20%20%20%20%20%20%20%20%3Cul%3E%20%20%20%20%20%3C/div%3E%60%29%5B0%5D%3B%0A%20%20%20%20%20%20%20%20%20%20%20%20popup_f84702b4ec3e4eceb1a3a41465ebc0e3.setContent%28html_a7bffe4260a64847bbc6de3b1a6640b5%29%3B%0A%20%20%20%20%20%20%20%20%0A%0A%20%20%20%20%20%20%20%20marker_4af5eea1a5a343a08e4c10ccbe0f56a0.bindPopup%28popup_f84702b4ec3e4eceb1a3a41465ebc0e3%29%0A%20%20%20%20%20%20%20%20%3B%0A%0A%20%20%20%20%20%20%20%20%0A%20%20%20%20%0A%20%20%20%20%0A%20%20%20%20%20%20%20%20%20%20%20%20var%20marker_c11240eb0fd6444984fd80a82ade3a02%20%3D%20L.marker%28%0A%20%20%20%20%20%20%20%20%20%20%20%20%20%20%20%20%5B43.76905%2C%2011.26039%5D%2C%0A%20%20%20%20%20%20%20%20%20%20%20%20%20%20%20%20%7B%7D%0A%20%20%20%20%20%20%20%20%20%20%20%20%29.addTo%28map_b98b389f61064b299c4cde471c85a0fb%29%3B%0A%20%20%20%20%20%20%20%20%0A%20%20%20%20%0A%20%20%20%20%20%20%20%20var%20popup_f8643e8f9cce4d72945bde5bf0bf4751%20%3D%20L.popup%28%7B%22maxWidth%22%3A%20%22100%25%22%7D%29%3B%0A%0A%20%20%20%20%20%20%20%20%0A%20%20%20%20%20%20%20%20%20%20%20%20var%20html_aec368f6f5ea4dbfb505c5a4e58464fb%20%3D%20%24%28%60%3Cdiv%20id%3D%22html_aec368f6f5ea4dbfb505c5a4e58464fb%22%20style%3D%22width%3A%20100.0%25%3B%20height%3A%20100.0%25%3B%22%3E%20%20%20%20%20%20%20%20%20%3Cul%3E%20%20%20%20%20%20%20%20%20%20%20%20%20%3Cli%3E%3Cstrong%3EID%3A%20%3C/strong%3E4120%3C/li%3E%20%20%20%20%20%20%20%20%20%20%20%20%20%3Cli%3E%3Cstrong%3ESource%3A%20%3C/strong%3EHenderson%20P%26C%20%2392%3C/li%3E%20%20%20%20%20%20%20%20%20%20%20%20%20%3Cli%3E%3Cstrong%3EName%3A%20%3C/strong%3EMagistro%20Giovanni%20di%20Bartolomeo%20di%20Giovanni%2C%20ciabattino%3C/li%3E%20%20%20%20%20%20%20%20%20%3Cul%3E%20%20%20%20%20%3C/div%3E%60%29%5B0%5D%3B%0A%20%20%20%20%20%20%20%20%20%20%20%20popup_f8643e8f9cce4d72945bde5bf0bf4751.setContent%28html_aec368f6f5ea4dbfb505c5a4e58464fb%29%3B%0A%20%20%20%20%20%20%20%20%0A%0A%20%20%20%20%20%20%20%20marker_c11240eb0fd6444984fd80a82ade3a02.bindPopup%28popup_f8643e8f9cce4d72945bde5bf0bf4751%29%0A%20%20%20%20%20%20%20%20%3B%0A%0A%20%20%20%20%20%20%20%20%0A%20%20%20%20%0A%20%20%20%20%0A%20%20%20%20%20%20%20%20%20%20%20%20var%20marker_8fe4f58e7c6341cd936bc3d6ce4b053b%20%3D%20L.marker%28%0A%20%20%20%20%20%20%20%20%20%20%20%20%20%20%20%20%5B43.76794%2C%2011.25578%5D%2C%0A%20%20%20%20%20%20%20%20%20%20%20%20%20%20%20%20%7B%7D%0A%20%20%20%20%20%20%20%20%20%20%20%20%29.addTo%28map_b98b389f61064b299c4cde471c85a0fb%29%3B%0A%20%20%20%20%20%20%20%20%0A%20%20%20%20%0A%20%20%20%20%20%20%20%20var%20popup_276c84ec4a9943e7b860324a9376bcc0%20%3D%20L.popup%28%7B%22maxWidth%22%3A%20%22100%25%22%7D%29%3B%0A%0A%20%20%20%20%20%20%20%20%0A%20%20%20%20%20%20%20%20%20%20%20%20var%20html_6908602d9ebc42708f4a75fdbfd1f543%20%3D%20%24%28%60%3Cdiv%20id%3D%22html_6908602d9ebc42708f4a75fdbfd1f543%22%20style%3D%22width%3A%20100.0%25%3B%20height%3A%20100.0%25%3B%22%3E%20%20%20%20%20%20%20%20%20%3Cul%3E%20%20%20%20%20%20%20%20%20%20%20%20%20%3Cli%3E%3Cstrong%3EID%3A%20%3C/strong%3E4651%3C/li%3E%20%20%20%20%20%20%20%20%20%20%20%20%20%3Cli%3E%3Cstrong%3ESource%3A%20%3C/strong%3EHenderson%20P%26C%20%2392%3C/li%3E%20%20%20%20%20%20%20%20%20%20%20%20%20%3Cli%3E%3Cstrong%3EName%3A%20%3C/strong%3ETaddeo%2C%20sarto%3C/li%3E%20%20%20%20%20%20%20%20%20%3Cul%3E%20%20%20%20%20%3C/div%3E%60%29%5B0%5D%3B%0A%20%20%20%20%20%20%20%20%20%20%20%20popup_276c84ec4a9943e7b860324a9376bcc0.setContent%28html_6908602d9ebc42708f4a75fdbfd1f543%29%3B%0A%20%20%20%20%20%20%20%20%0A%0A%20%20%20%20%20%20%20%20marker_8fe4f58e7c6341cd936bc3d6ce4b053b.bindPopup%28popup_276c84ec4a9943e7b860324a9376bcc0%29%0A%20%20%20%20%20%20%20%20%3B%0A%0A%20%20%20%20%20%20%20%20%0A%20%20%20%20%0A%3C/script%3E onload=\"this.contentDocument.open();this.contentDocument.write(    decodeURIComponent(this.getAttribute('data-html')));this.contentDocument.close();\" allowfullscreen webkitallowfullscreen mozallowfullscreen></iframe></div></div>"
      ],
      "text/plain": [
       "<folium.folium.Map at 0x7fc47fb80370>"
      ]
     },
     "execution_count": 79,
     "metadata": {},
     "output_type": "execute_result"
    }
   ],
   "source": [
    "our_map"
   ]
  },
  {
   "cell_type": "markdown",
   "metadata": {
    "id": "2Y3RLqLSIImn"
   },
   "source": [
    "## G. Bartoli Letters"
   ]
  },
  {
   "cell_type": "code",
   "execution_count": 3,
   "metadata": {},
   "outputs": [],
   "source": [
    "bartoli = pd.read_csv(bartoli_letters)"
   ]
  },
  {
   "cell_type": "code",
   "execution_count": 4,
   "metadata": {},
   "outputs": [
    {
     "data": {
      "text/html": [
       "<div>\n",
       "<style scoped>\n",
       "    .dataframe tbody tr th:only-of-type {\n",
       "        vertical-align: middle;\n",
       "    }\n",
       "\n",
       "    .dataframe tbody tr th {\n",
       "        vertical-align: top;\n",
       "    }\n",
       "\n",
       "    .dataframe thead th {\n",
       "        text-align: right;\n",
       "    }\n",
       "</style>\n",
       "<table border=\"1\" class=\"dataframe\">\n",
       "  <thead>\n",
       "    <tr style=\"text-align: right;\">\n",
       "      <th></th>\n",
       "      <th>Volume</th>\n",
       "      <th>Folios</th>\n",
       "      <th>Order</th>\n",
       "      <th>Date written on the document</th>\n",
       "      <th>Modern Date</th>\n",
       "      <th>Sender</th>\n",
       "      <th>Sender Place</th>\n",
       "      <th>Recipient</th>\n",
       "      <th>Notes</th>\n",
       "    </tr>\n",
       "  </thead>\n",
       "  <tbody>\n",
       "    <tr>\n",
       "      <th>0</th>\n",
       "      <td>2976</td>\n",
       "      <td>1.2</td>\n",
       "      <td>NaN</td>\n",
       "      <td>07/01/1562</td>\n",
       "      <td>07/01/1563</td>\n",
       "      <td>Bartoli Cosimo</td>\n",
       "      <td>Venezia</td>\n",
       "      <td>Cosimo I de' Medici</td>\n",
       "      <td>NaN</td>\n",
       "    </tr>\n",
       "    <tr>\n",
       "      <th>1</th>\n",
       "      <td>2976</td>\n",
       "      <td>3.4</td>\n",
       "      <td>NaN</td>\n",
       "      <td>13/01/1562</td>\n",
       "      <td>13/01/1563</td>\n",
       "      <td>Bartoli Cosimo</td>\n",
       "      <td>Venezia</td>\n",
       "      <td>Cosimo I de' Medici</td>\n",
       "      <td>NaN</td>\n",
       "    </tr>\n",
       "    <tr>\n",
       "      <th>2</th>\n",
       "      <td>2976</td>\n",
       "      <td>5.14 6.13 7.12</td>\n",
       "      <td>5,7,12,14,6,13</td>\n",
       "      <td>19/01/1563</td>\n",
       "      <td>19/01/1564</td>\n",
       "      <td>Bartoli Cosimo</td>\n",
       "      <td>Venezia</td>\n",
       "      <td>Cosimo I de' Medici</td>\n",
       "      <td>NaN</td>\n",
       "    </tr>\n",
       "    <tr>\n",
       "      <th>3</th>\n",
       "      <td>2976</td>\n",
       "      <td>8.11</td>\n",
       "      <td>NaN</td>\n",
       "      <td>20/01/1562</td>\n",
       "      <td>20/01/1563</td>\n",
       "      <td>Bartoli Cosimo</td>\n",
       "      <td>Venezia</td>\n",
       "      <td>Concino Bartolomeo</td>\n",
       "      <td>NaN</td>\n",
       "    </tr>\n",
       "    <tr>\n",
       "      <th>4</th>\n",
       "      <td>2976</td>\n",
       "      <td>9.10</td>\n",
       "      <td>NaN</td>\n",
       "      <td>21/01/1562</td>\n",
       "      <td>21/01/1563</td>\n",
       "      <td>Bartoli Cosimo</td>\n",
       "      <td>Venezia</td>\n",
       "      <td>[Cosimo I de' Medici]</td>\n",
       "      <td>Manca la carta più esterna con scritto il dest...</td>\n",
       "    </tr>\n",
       "  </tbody>\n",
       "</table>\n",
       "</div>"
      ],
      "text/plain": [
       "   Volume           Folios           Order Date written on the document  \\\n",
       "0    2976              1.2             NaN                   07/01/1562   \n",
       "1    2976              3.4             NaN                   13/01/1562   \n",
       "2    2976  5.14 6.13 7.12   5,7,12,14,6,13                   19/01/1563   \n",
       "3    2976             8.11             NaN                   20/01/1562   \n",
       "4    2976             9.10             NaN                   21/01/1562   \n",
       "\n",
       "  Modern Date          Sender Sender Place              Recipient  \\\n",
       "0  07/01/1563  Bartoli Cosimo      Venezia    Cosimo I de' Medici   \n",
       "1  13/01/1563  Bartoli Cosimo      Venezia    Cosimo I de' Medici   \n",
       "2  19/01/1564  Bartoli Cosimo      Venezia    Cosimo I de' Medici   \n",
       "3  20/01/1563  Bartoli Cosimo      Venezia     Concino Bartolomeo   \n",
       "4  21/01/1563  Bartoli Cosimo      Venezia  [Cosimo I de' Medici]   \n",
       "\n",
       "                                               Notes  \n",
       "0                                                NaN  \n",
       "1                                                NaN  \n",
       "2                                                NaN  \n",
       "3                                                NaN  \n",
       "4  Manca la carta più esterna con scritto il dest...  "
      ]
     },
     "execution_count": 4,
     "metadata": {},
     "output_type": "execute_result"
    }
   ],
   "source": [
    "bartoli.head()"
   ]
  },
  {
   "cell_type": "code",
   "execution_count": 13,
   "metadata": {},
   "outputs": [],
   "source": [
    "def parse_date(date_string):\n",
    "    try:\n",
    "        return datetime.strptime(date_string, \"%d/%m/%Y\").date()\n",
    "    except ValueError as e:\n",
    "        print(e)\n",
    "        return np.nan"
   ]
  },
  {
   "cell_type": "code",
   "execution_count": 14,
   "metadata": {},
   "outputs": [
    {
     "name": "stdout",
     "output_type": "stream",
     "text": [
      "time data '11/' does not match format '%d/%m/%Y'\n",
      "day is out of range for month\n",
      "time data '18/' does not match format '%d/%m/%Y'\n"
     ]
    }
   ],
   "source": [
    "bartoli[\"parsed_date\"] = bartoli[\"Modern Date\"].dropna().apply(parse_date)\n",
    "bart"
   ]
  },
  {
   "cell_type": "code",
   "execution_count": 15,
   "metadata": {},
   "outputs": [
    {
     "data": {
      "text/html": [
       "<div>\n",
       "<style scoped>\n",
       "    .dataframe tbody tr th:only-of-type {\n",
       "        vertical-align: middle;\n",
       "    }\n",
       "\n",
       "    .dataframe tbody tr th {\n",
       "        vertical-align: top;\n",
       "    }\n",
       "\n",
       "    .dataframe thead th {\n",
       "        text-align: right;\n",
       "    }\n",
       "</style>\n",
       "<table border=\"1\" class=\"dataframe\">\n",
       "  <thead>\n",
       "    <tr style=\"text-align: right;\">\n",
       "      <th></th>\n",
       "      <th>Volume</th>\n",
       "      <th>Folios</th>\n",
       "      <th>Order</th>\n",
       "      <th>Date written on the document</th>\n",
       "      <th>Modern Date</th>\n",
       "      <th>Sender</th>\n",
       "      <th>Sender Place</th>\n",
       "      <th>Recipient</th>\n",
       "      <th>Notes</th>\n",
       "      <th>parsed_date</th>\n",
       "    </tr>\n",
       "  </thead>\n",
       "  <tbody>\n",
       "    <tr>\n",
       "      <th>18</th>\n",
       "      <td>2976</td>\n",
       "      <td>42.45</td>\n",
       "      <td>NaN</td>\n",
       "      <td>27/06/1562</td>\n",
       "      <td>27/06/1562</td>\n",
       "      <td>Bartoli Cosimo</td>\n",
       "      <td>Venezia</td>\n",
       "      <td>Orlandi Francesco</td>\n",
       "      <td>NaN</td>\n",
       "      <td>1562-06-27</td>\n",
       "    </tr>\n",
       "    <tr>\n",
       "      <th>19</th>\n",
       "      <td>2976</td>\n",
       "      <td>43.44</td>\n",
       "      <td>NaN</td>\n",
       "      <td>27/06/1562</td>\n",
       "      <td>27/06/1562</td>\n",
       "      <td>Bartoli Cosimo</td>\n",
       "      <td>Venezia</td>\n",
       "      <td>[Cosimo I de' Medici]</td>\n",
       "      <td>Forse inviata con la lettera di Orlandi France...</td>\n",
       "      <td>1562-06-27</td>\n",
       "    </tr>\n",
       "    <tr>\n",
       "      <th>20</th>\n",
       "      <td>2976</td>\n",
       "      <td>49.62</td>\n",
       "      <td>NaN</td>\n",
       "      <td>30/07/1562</td>\n",
       "      <td>30/07/1562</td>\n",
       "      <td>Bartoli Cosimo</td>\n",
       "      <td>Venezia</td>\n",
       "      <td>Concino Bartolomeo</td>\n",
       "      <td>NaN</td>\n",
       "      <td>1562-07-30</td>\n",
       "    </tr>\n",
       "    <tr>\n",
       "      <th>21</th>\n",
       "      <td>2976</td>\n",
       "      <td>50.61</td>\n",
       "      <td>NaN</td>\n",
       "      <td>15/08/1562</td>\n",
       "      <td>15/08/1562</td>\n",
       "      <td>Bartoli Cosimo</td>\n",
       "      <td>Venezia</td>\n",
       "      <td>Concino Bartolomeo</td>\n",
       "      <td>NaN</td>\n",
       "      <td>1562-08-15</td>\n",
       "    </tr>\n",
       "    <tr>\n",
       "      <th>22</th>\n",
       "      <td>2976</td>\n",
       "      <td>51.60</td>\n",
       "      <td>NaN</td>\n",
       "      <td>03/10/1562</td>\n",
       "      <td>03/10/1562</td>\n",
       "      <td>Bartoli Cosimo</td>\n",
       "      <td>Venezia</td>\n",
       "      <td>Concino Bartolomeo</td>\n",
       "      <td>NaN</td>\n",
       "      <td>1562-10-03</td>\n",
       "    </tr>\n",
       "    <tr>\n",
       "      <th>24</th>\n",
       "      <td>2976</td>\n",
       "      <td>53.58 54.57</td>\n",
       "      <td>53,54,57,58</td>\n",
       "      <td>11/10/1562</td>\n",
       "      <td>11/10/1562</td>\n",
       "      <td>Bartoli Cosimo</td>\n",
       "      <td>Venezia</td>\n",
       "      <td>Cosimo I de' Medici</td>\n",
       "      <td>NaN</td>\n",
       "      <td>1562-10-11</td>\n",
       "    </tr>\n",
       "    <tr>\n",
       "      <th>25</th>\n",
       "      <td>2976</td>\n",
       "      <td>55.56</td>\n",
       "      <td>NaN</td>\n",
       "      <td>24/10/1562</td>\n",
       "      <td>24/10/1562</td>\n",
       "      <td>Bartoli Cosimo</td>\n",
       "      <td>Venezia</td>\n",
       "      <td>[Cosimo I de' Medici]</td>\n",
       "      <td>Manca la carta più esterna con scritto il dest...</td>\n",
       "      <td>1562-10-24</td>\n",
       "    </tr>\n",
       "    <tr>\n",
       "      <th>26</th>\n",
       "      <td>2976</td>\n",
       "      <td>63.82</td>\n",
       "      <td>NaN</td>\n",
       "      <td>27/10/1562</td>\n",
       "      <td>27/10/1562</td>\n",
       "      <td>Bartoli Cosimo</td>\n",
       "      <td>Venezia</td>\n",
       "      <td>Cosimo I de' Medici</td>\n",
       "      <td>NaN</td>\n",
       "      <td>1562-10-27</td>\n",
       "    </tr>\n",
       "    <tr>\n",
       "      <th>27</th>\n",
       "      <td>2976</td>\n",
       "      <td>64.81</td>\n",
       "      <td>NaN</td>\n",
       "      <td>31/10/1562</td>\n",
       "      <td>31/10/1562</td>\n",
       "      <td>Bartoli Cosimo</td>\n",
       "      <td>Venezia</td>\n",
       "      <td>Cosimo I de' Medici</td>\n",
       "      <td>NaN</td>\n",
       "      <td>1562-10-31</td>\n",
       "    </tr>\n",
       "    <tr>\n",
       "      <th>28</th>\n",
       "      <td>2976</td>\n",
       "      <td>65.80</td>\n",
       "      <td>NaN</td>\n",
       "      <td>01/11/1562</td>\n",
       "      <td>01/11/1562</td>\n",
       "      <td>Bartoli Cosimo</td>\n",
       "      <td>Venezia</td>\n",
       "      <td>Cosimo I de' Medici</td>\n",
       "      <td>NaN</td>\n",
       "      <td>1562-11-01</td>\n",
       "    </tr>\n",
       "    <tr>\n",
       "      <th>30</th>\n",
       "      <td>2976</td>\n",
       "      <td>68.77</td>\n",
       "      <td>NaN</td>\n",
       "      <td>11/11/1562</td>\n",
       "      <td>11/11/1562</td>\n",
       "      <td>Bartoli Cosimo</td>\n",
       "      <td>Venezia</td>\n",
       "      <td>Cosimo I de' Medici</td>\n",
       "      <td>NaN</td>\n",
       "      <td>1562-11-11</td>\n",
       "    </tr>\n",
       "    <tr>\n",
       "      <th>31</th>\n",
       "      <td>2976</td>\n",
       "      <td>69.70</td>\n",
       "      <td>NaN</td>\n",
       "      <td>18/11/1562</td>\n",
       "      <td>18/11/1562</td>\n",
       "      <td>Bartoli Cosimo</td>\n",
       "      <td>Venezia</td>\n",
       "      <td>[Cosimo I de' Medici]</td>\n",
       "      <td>Manca la carta più esterna con scritto il dest...</td>\n",
       "      <td>1562-11-18</td>\n",
       "    </tr>\n",
       "    <tr>\n",
       "      <th>32</th>\n",
       "      <td>2976</td>\n",
       "      <td>71.76</td>\n",
       "      <td>NaN</td>\n",
       "      <td>25/11/1562</td>\n",
       "      <td>25/11/1562</td>\n",
       "      <td>Bartoli Cosimo</td>\n",
       "      <td>Venezia</td>\n",
       "      <td>Cosimo I de' Medici</td>\n",
       "      <td>NaN</td>\n",
       "      <td>1562-11-25</td>\n",
       "    </tr>\n",
       "    <tr>\n",
       "      <th>33</th>\n",
       "      <td>2976</td>\n",
       "      <td>72.75</td>\n",
       "      <td>NaN</td>\n",
       "      <td>02/12/1562</td>\n",
       "      <td>02/12/1562</td>\n",
       "      <td>Bartoli Cosimo</td>\n",
       "      <td>Venezia</td>\n",
       "      <td>Cosimo I de' Medici</td>\n",
       "      <td>NaN</td>\n",
       "      <td>1562-12-02</td>\n",
       "    </tr>\n",
       "    <tr>\n",
       "      <th>34</th>\n",
       "      <td>2976</td>\n",
       "      <td>73.74</td>\n",
       "      <td>NaN</td>\n",
       "      <td>09/12/1562</td>\n",
       "      <td>09/12/1562</td>\n",
       "      <td>Bartoli Cosimo</td>\n",
       "      <td>Venezia</td>\n",
       "      <td>[Cosimo I de' Medici]</td>\n",
       "      <td>Manca la carta più esterna con scritto il dest...</td>\n",
       "      <td>1562-12-09</td>\n",
       "    </tr>\n",
       "    <tr>\n",
       "      <th>36</th>\n",
       "      <td>2976</td>\n",
       "      <td>84.85</td>\n",
       "      <td>NaN</td>\n",
       "      <td>16/12/1562</td>\n",
       "      <td>16/12/1562</td>\n",
       "      <td>Bartoli Cosimo</td>\n",
       "      <td>Venezia</td>\n",
       "      <td>[Cosimo I de' Medici]</td>\n",
       "      <td>Manca la carta più esterna con scritto il dest...</td>\n",
       "      <td>1562-12-16</td>\n",
       "    </tr>\n",
       "    <tr>\n",
       "      <th>37</th>\n",
       "      <td>2976</td>\n",
       "      <td>86.93</td>\n",
       "      <td>NaN</td>\n",
       "      <td>23/12/1562</td>\n",
       "      <td>23/12/1562</td>\n",
       "      <td>Bartoli Cosimo</td>\n",
       "      <td>Venezia</td>\n",
       "      <td>Cosimo I de' Medici</td>\n",
       "      <td>NaN</td>\n",
       "      <td>1562-12-23</td>\n",
       "    </tr>\n",
       "    <tr>\n",
       "      <th>0</th>\n",
       "      <td>2976</td>\n",
       "      <td>1.2</td>\n",
       "      <td>NaN</td>\n",
       "      <td>07/01/1562</td>\n",
       "      <td>07/01/1563</td>\n",
       "      <td>Bartoli Cosimo</td>\n",
       "      <td>Venezia</td>\n",
       "      <td>Cosimo I de' Medici</td>\n",
       "      <td>NaN</td>\n",
       "      <td>1563-01-07</td>\n",
       "    </tr>\n",
       "    <tr>\n",
       "      <th>1</th>\n",
       "      <td>2976</td>\n",
       "      <td>3.4</td>\n",
       "      <td>NaN</td>\n",
       "      <td>13/01/1562</td>\n",
       "      <td>13/01/1563</td>\n",
       "      <td>Bartoli Cosimo</td>\n",
       "      <td>Venezia</td>\n",
       "      <td>Cosimo I de' Medici</td>\n",
       "      <td>NaN</td>\n",
       "      <td>1563-01-13</td>\n",
       "    </tr>\n",
       "    <tr>\n",
       "      <th>3</th>\n",
       "      <td>2976</td>\n",
       "      <td>8.11</td>\n",
       "      <td>NaN</td>\n",
       "      <td>20/01/1562</td>\n",
       "      <td>20/01/1563</td>\n",
       "      <td>Bartoli Cosimo</td>\n",
       "      <td>Venezia</td>\n",
       "      <td>Concino Bartolomeo</td>\n",
       "      <td>NaN</td>\n",
       "      <td>1563-01-20</td>\n",
       "    </tr>\n",
       "  </tbody>\n",
       "</table>\n",
       "</div>"
      ],
      "text/plain": [
       "    Volume       Folios        Order Date written on the document Modern Date  \\\n",
       "18    2976        42.45          NaN                   27/06/1562  27/06/1562   \n",
       "19    2976        43.44          NaN                   27/06/1562  27/06/1562   \n",
       "20    2976        49.62          NaN                   30/07/1562  30/07/1562   \n",
       "21    2976        50.61          NaN                   15/08/1562  15/08/1562   \n",
       "22    2976        51.60          NaN                   03/10/1562  03/10/1562   \n",
       "24    2976  53.58 54.57  53,54,57,58                   11/10/1562  11/10/1562   \n",
       "25    2976        55.56          NaN                   24/10/1562  24/10/1562   \n",
       "26    2976        63.82          NaN                   27/10/1562  27/10/1562   \n",
       "27    2976        64.81          NaN                   31/10/1562  31/10/1562   \n",
       "28    2976        65.80          NaN                   01/11/1562  01/11/1562   \n",
       "30    2976        68.77          NaN                   11/11/1562  11/11/1562   \n",
       "31    2976        69.70          NaN                   18/11/1562  18/11/1562   \n",
       "32    2976        71.76          NaN                   25/11/1562  25/11/1562   \n",
       "33    2976        72.75          NaN                   02/12/1562  02/12/1562   \n",
       "34    2976        73.74          NaN                   09/12/1562  09/12/1562   \n",
       "36    2976        84.85          NaN                   16/12/1562  16/12/1562   \n",
       "37    2976        86.93          NaN                   23/12/1562  23/12/1562   \n",
       "0     2976          1.2          NaN                   07/01/1562  07/01/1563   \n",
       "1     2976          3.4          NaN                   13/01/1562  13/01/1563   \n",
       "3     2976         8.11          NaN                   20/01/1562  20/01/1563   \n",
       "\n",
       "            Sender Sender Place              Recipient  \\\n",
       "18  Bartoli Cosimo      Venezia      Orlandi Francesco   \n",
       "19  Bartoli Cosimo      Venezia  [Cosimo I de' Medici]   \n",
       "20  Bartoli Cosimo      Venezia     Concino Bartolomeo   \n",
       "21  Bartoli Cosimo      Venezia     Concino Bartolomeo   \n",
       "22  Bartoli Cosimo      Venezia     Concino Bartolomeo   \n",
       "24  Bartoli Cosimo      Venezia    Cosimo I de' Medici   \n",
       "25  Bartoli Cosimo      Venezia  [Cosimo I de' Medici]   \n",
       "26  Bartoli Cosimo      Venezia    Cosimo I de' Medici   \n",
       "27  Bartoli Cosimo      Venezia    Cosimo I de' Medici   \n",
       "28  Bartoli Cosimo      Venezia    Cosimo I de' Medici   \n",
       "30  Bartoli Cosimo      Venezia    Cosimo I de' Medici   \n",
       "31  Bartoli Cosimo      Venezia  [Cosimo I de' Medici]   \n",
       "32  Bartoli Cosimo      Venezia    Cosimo I de' Medici   \n",
       "33  Bartoli Cosimo      Venezia    Cosimo I de' Medici   \n",
       "34  Bartoli Cosimo      Venezia  [Cosimo I de' Medici]   \n",
       "36  Bartoli Cosimo      Venezia  [Cosimo I de' Medici]   \n",
       "37  Bartoli Cosimo      Venezia    Cosimo I de' Medici   \n",
       "0   Bartoli Cosimo      Venezia    Cosimo I de' Medici   \n",
       "1   Bartoli Cosimo      Venezia    Cosimo I de' Medici   \n",
       "3   Bartoli Cosimo      Venezia     Concino Bartolomeo   \n",
       "\n",
       "                                                Notes parsed_date  \n",
       "18                                                NaN  1562-06-27  \n",
       "19  Forse inviata con la lettera di Orlandi France...  1562-06-27  \n",
       "20                                                NaN  1562-07-30  \n",
       "21                                                NaN  1562-08-15  \n",
       "22                                                NaN  1562-10-03  \n",
       "24                                                NaN  1562-10-11  \n",
       "25  Manca la carta più esterna con scritto il dest...  1562-10-24  \n",
       "26                                                NaN  1562-10-27  \n",
       "27                                                NaN  1562-10-31  \n",
       "28                                                NaN  1562-11-01  \n",
       "30                                                NaN  1562-11-11  \n",
       "31  Manca la carta più esterna con scritto il dest...  1562-11-18  \n",
       "32                                                NaN  1562-11-25  \n",
       "33                                                NaN  1562-12-02  \n",
       "34  Manca la carta più esterna con scritto il dest...  1562-12-09  \n",
       "36  Manca la carta più esterna con scritto il dest...  1562-12-16  \n",
       "37                                                NaN  1562-12-23  \n",
       "0                                                 NaN  1563-01-07  \n",
       "1                                                 NaN  1563-01-13  \n",
       "3                                                 NaN  1563-01-20  "
      ]
     },
     "execution_count": 15,
     "metadata": {},
     "output_type": "execute_result"
    }
   ],
   "source": [
    "bartoli.sort_values(\"parsed_date\").head(20)"
   ]
  },
  {
   "cell_type": "code",
   "execution_count": 32,
   "metadata": {},
   "outputs": [],
   "source": [
    "_filter_Bartoli = bartoli[\"Sender\"].str.contains(\"Bartoli\")\n"
   ]
  },
  {
   "cell_type": "code",
   "execution_count": 16,
   "metadata": {},
   "outputs": [
    {
     "data": {
      "text/plain": [
       "0      1563\n",
       "1      1563\n",
       "2      1564\n",
       "3      1563\n",
       "4      1563\n",
       "       ... \n",
       "135    1565\n",
       "136    1565\n",
       "137    1565\n",
       "138    1565\n",
       "141    1565\n",
       "Name: parsed_date, Length: 112, dtype: int64"
      ]
     },
     "execution_count": 16,
     "metadata": {},
     "output_type": "execute_result"
    }
   ],
   "source": [
    "bartoli.parsed_date.dropna().apply(lambda x: x.year)"
   ]
  },
  {
   "cell_type": "code",
   "execution_count": 17,
   "metadata": {},
   "outputs": [
    {
     "data": {
      "text/plain": [
       "1563    55\n",
       "1564    30\n",
       "1562    17\n",
       "1565    10\n",
       "Name: parsed_date, dtype: int64"
      ]
     },
     "execution_count": 17,
     "metadata": {},
     "output_type": "execute_result"
    }
   ],
   "source": [
    "bartoli.parsed_date.dropna().apply(lambda x: x.year).value_counts()"
   ]
  },
  {
   "cell_type": "markdown",
   "metadata": {},
   "source": [
    "#### Find Documents of Type 'Avviso'"
   ]
  },
  {
   "cell_type": "code",
   "execution_count": null,
   "metadata": {},
   "outputs": [],
   "source": []
  },
  {
   "cell_type": "code",
   "execution_count": 33,
   "metadata": {},
   "outputs": [
    {
     "data": {
      "text/plain": [
       "0      False\n",
       "1      False\n",
       "2      False\n",
       "3      False\n",
       "4      False\n",
       "       ...  \n",
       "138    False\n",
       "139     True\n",
       "140     True\n",
       "141    False\n",
       "142     True\n",
       "Name: Sender, Length: 143, dtype: bool"
      ]
     },
     "execution_count": 33,
     "metadata": {},
     "output_type": "execute_result"
    }
   ],
   "source": [
    "bartoli[\"Sender\"].str.contains(\"Avviso\")"
   ]
  },
  {
   "cell_type": "code",
   "execution_count": 34,
   "metadata": {},
   "outputs": [
    {
     "data": {
      "text/plain": [
       "0      False\n",
       "1      False\n",
       "2      False\n",
       "3      False\n",
       "4      False\n",
       "       ...  \n",
       "138    False\n",
       "139     True\n",
       "140     True\n",
       "141    False\n",
       "142     True\n",
       "Name: Sender, Length: 143, dtype: bool"
      ]
     },
     "execution_count": 34,
     "metadata": {},
     "output_type": "execute_result"
    }
   ],
   "source": [
    "_filter_out_Avviso = bartoli[\"Sender\"].str.contains(\"Avviso\")\n",
    "_filter_out_Avviso"
   ]
  },
  {
   "cell_type": "markdown",
   "metadata": {},
   "source": [
    "####  Now reverse the Boolean series (so that Avviso documents are false)"
   ]
  },
  {
   "cell_type": "code",
   "execution_count": 35,
   "metadata": {},
   "outputs": [
    {
     "data": {
      "text/plain": [
       "0       True\n",
       "1       True\n",
       "2       True\n",
       "3       True\n",
       "4       True\n",
       "       ...  \n",
       "138     True\n",
       "139    False\n",
       "140    False\n",
       "141     True\n",
       "142    False\n",
       "Name: Sender, Length: 143, dtype: bool"
      ]
     },
     "execution_count": 35,
     "metadata": {},
     "output_type": "execute_result"
    }
   ],
   "source": [
    "~_filter_out_Avviso"
   ]
  },
  {
   "cell_type": "code",
   "execution_count": 29,
   "metadata": {},
   "outputs": [
    {
     "data": {
      "text/html": [
       "<div>\n",
       "<style scoped>\n",
       "    .dataframe tbody tr th:only-of-type {\n",
       "        vertical-align: middle;\n",
       "    }\n",
       "\n",
       "    .dataframe tbody tr th {\n",
       "        vertical-align: top;\n",
       "    }\n",
       "\n",
       "    .dataframe thead th {\n",
       "        text-align: right;\n",
       "    }\n",
       "</style>\n",
       "<table border=\"1\" class=\"dataframe\">\n",
       "  <thead>\n",
       "    <tr style=\"text-align: right;\">\n",
       "      <th></th>\n",
       "      <th>Volume</th>\n",
       "      <th>Folios</th>\n",
       "      <th>Order</th>\n",
       "      <th>Date written on the document</th>\n",
       "      <th>Modern Date</th>\n",
       "      <th>Sender</th>\n",
       "      <th>Sender Place</th>\n",
       "      <th>Recipient</th>\n",
       "      <th>Notes</th>\n",
       "    </tr>\n",
       "  </thead>\n",
       "  <tbody>\n",
       "    <tr>\n",
       "      <th>0</th>\n",
       "      <td>2976</td>\n",
       "      <td>1.2</td>\n",
       "      <td>NaN</td>\n",
       "      <td>07/01/1562</td>\n",
       "      <td>07/01/1563</td>\n",
       "      <td>Bartoli Cosimo</td>\n",
       "      <td>Venezia</td>\n",
       "      <td>Cosimo I de' Medici</td>\n",
       "      <td>NaN</td>\n",
       "    </tr>\n",
       "    <tr>\n",
       "      <th>1</th>\n",
       "      <td>2976</td>\n",
       "      <td>3.4</td>\n",
       "      <td>NaN</td>\n",
       "      <td>13/01/1562</td>\n",
       "      <td>13/01/1563</td>\n",
       "      <td>Bartoli Cosimo</td>\n",
       "      <td>Venezia</td>\n",
       "      <td>Cosimo I de' Medici</td>\n",
       "      <td>NaN</td>\n",
       "    </tr>\n",
       "    <tr>\n",
       "      <th>2</th>\n",
       "      <td>2976</td>\n",
       "      <td>5.14 6.13 7.12</td>\n",
       "      <td>5,7,12,14,6,13</td>\n",
       "      <td>19/01/1563</td>\n",
       "      <td>19/01/1564</td>\n",
       "      <td>Bartoli Cosimo</td>\n",
       "      <td>Venezia</td>\n",
       "      <td>Cosimo I de' Medici</td>\n",
       "      <td>NaN</td>\n",
       "    </tr>\n",
       "    <tr>\n",
       "      <th>3</th>\n",
       "      <td>2976</td>\n",
       "      <td>8.11</td>\n",
       "      <td>NaN</td>\n",
       "      <td>20/01/1562</td>\n",
       "      <td>20/01/1563</td>\n",
       "      <td>Bartoli Cosimo</td>\n",
       "      <td>Venezia</td>\n",
       "      <td>Concino Bartolomeo</td>\n",
       "      <td>NaN</td>\n",
       "    </tr>\n",
       "    <tr>\n",
       "      <th>4</th>\n",
       "      <td>2976</td>\n",
       "      <td>9.10</td>\n",
       "      <td>NaN</td>\n",
       "      <td>21/01/1562</td>\n",
       "      <td>21/01/1563</td>\n",
       "      <td>Bartoli Cosimo</td>\n",
       "      <td>Venezia</td>\n",
       "      <td>[Cosimo I de' Medici]</td>\n",
       "      <td>Manca la carta più esterna con scritto il dest...</td>\n",
       "    </tr>\n",
       "    <tr>\n",
       "      <th>...</th>\n",
       "      <td>...</td>\n",
       "      <td>...</td>\n",
       "      <td>...</td>\n",
       "      <td>...</td>\n",
       "      <td>...</td>\n",
       "      <td>...</td>\n",
       "      <td>...</td>\n",
       "      <td>...</td>\n",
       "      <td>...</td>\n",
       "    </tr>\n",
       "    <tr>\n",
       "      <th>135</th>\n",
       "      <td>2976</td>\n",
       "      <td>340,341</td>\n",
       "      <td>NaN</td>\n",
       "      <td>27/10/1565</td>\n",
       "      <td>27/10/1565</td>\n",
       "      <td>Bartoli Cosimo</td>\n",
       "      <td>Venezia</td>\n",
       "      <td>NaN</td>\n",
       "      <td>Manca la carta più esterna con scritto il dest...</td>\n",
       "    </tr>\n",
       "    <tr>\n",
       "      <th>136</th>\n",
       "      <td>2976</td>\n",
       "      <td>342,355</td>\n",
       "      <td>NaN</td>\n",
       "      <td>03/11/1565</td>\n",
       "      <td>03/11/1565</td>\n",
       "      <td>Bartoli Cosimo</td>\n",
       "      <td>Venezia</td>\n",
       "      <td>Cosimo I de' Medici</td>\n",
       "      <td>NaN</td>\n",
       "    </tr>\n",
       "    <tr>\n",
       "      <th>137</th>\n",
       "      <td>2976</td>\n",
       "      <td>343,350</td>\n",
       "      <td>NaN</td>\n",
       "      <td>10/11/1565</td>\n",
       "      <td>10/11/1565</td>\n",
       "      <td>Bartoli Cosimo</td>\n",
       "      <td>Venezia</td>\n",
       "      <td>Cosimo I de' Medici</td>\n",
       "      <td>NaN</td>\n",
       "    </tr>\n",
       "    <tr>\n",
       "      <th>138</th>\n",
       "      <td>2976</td>\n",
       "      <td>344,349</td>\n",
       "      <td>NaN</td>\n",
       "      <td>24/11/1565</td>\n",
       "      <td>24/11/1565</td>\n",
       "      <td>Bartoli Cosimo</td>\n",
       "      <td>Venezia</td>\n",
       "      <td>Cosimo I de' Medici</td>\n",
       "      <td>NaN</td>\n",
       "    </tr>\n",
       "    <tr>\n",
       "      <th>141</th>\n",
       "      <td>2976</td>\n",
       "      <td>351,354</td>\n",
       "      <td>NaN</td>\n",
       "      <td>07/12/1565</td>\n",
       "      <td>07/12/1565</td>\n",
       "      <td>Bartoli Cosimo</td>\n",
       "      <td>Venezia</td>\n",
       "      <td>Francesco I de' Medici</td>\n",
       "      <td>NaN</td>\n",
       "    </tr>\n",
       "  </tbody>\n",
       "</table>\n",
       "<p>122 rows × 9 columns</p>\n",
       "</div>"
      ],
      "text/plain": [
       "     Volume           Folios           Order Date written on the document  \\\n",
       "0      2976              1.2             NaN                   07/01/1562   \n",
       "1      2976              3.4             NaN                   13/01/1562   \n",
       "2      2976  5.14 6.13 7.12   5,7,12,14,6,13                   19/01/1563   \n",
       "3      2976             8.11             NaN                   20/01/1562   \n",
       "4      2976             9.10             NaN                   21/01/1562   \n",
       "..      ...              ...             ...                          ...   \n",
       "135    2976          340,341             NaN                   27/10/1565   \n",
       "136    2976          342,355             NaN                   03/11/1565   \n",
       "137    2976          343,350             NaN                   10/11/1565   \n",
       "138    2976          344,349             NaN                   24/11/1565   \n",
       "141    2976          351,354             NaN                   07/12/1565   \n",
       "\n",
       "    Modern Date          Sender Sender Place               Recipient  \\\n",
       "0    07/01/1563  Bartoli Cosimo      Venezia     Cosimo I de' Medici   \n",
       "1    13/01/1563  Bartoli Cosimo      Venezia     Cosimo I de' Medici   \n",
       "2    19/01/1564  Bartoli Cosimo      Venezia     Cosimo I de' Medici   \n",
       "3    20/01/1563  Bartoli Cosimo      Venezia      Concino Bartolomeo   \n",
       "4    21/01/1563  Bartoli Cosimo      Venezia   [Cosimo I de' Medici]   \n",
       "..          ...             ...          ...                     ...   \n",
       "135  27/10/1565  Bartoli Cosimo      Venezia                     NaN   \n",
       "136  03/11/1565  Bartoli Cosimo      Venezia     Cosimo I de' Medici   \n",
       "137  10/11/1565  Bartoli Cosimo      Venezia     Cosimo I de' Medici   \n",
       "138  24/11/1565  Bartoli Cosimo      Venezia     Cosimo I de' Medici   \n",
       "141  07/12/1565  Bartoli Cosimo      Venezia  Francesco I de' Medici   \n",
       "\n",
       "                                                 Notes  \n",
       "0                                                  NaN  \n",
       "1                                                  NaN  \n",
       "2                                                  NaN  \n",
       "3                                                  NaN  \n",
       "4    Manca la carta più esterna con scritto il dest...  \n",
       "..                                                 ...  \n",
       "135  Manca la carta più esterna con scritto il dest...  \n",
       "136                                                NaN  \n",
       "137                                                NaN  \n",
       "138                                                NaN  \n",
       "141                                                NaN  \n",
       "\n",
       "[122 rows x 9 columns]"
      ]
     },
     "execution_count": 29,
     "metadata": {},
     "output_type": "execute_result"
    }
   ],
   "source": [
    "bartoli[~_filter_out_Avviso]"
   ]
  },
  {
   "cell_type": "code",
   "execution_count": 23,
   "metadata": {},
   "outputs": [
    {
     "data": {
      "text/html": [
       "<div>\n",
       "<style scoped>\n",
       "    .dataframe tbody tr th:only-of-type {\n",
       "        vertical-align: middle;\n",
       "    }\n",
       "\n",
       "    .dataframe tbody tr th {\n",
       "        vertical-align: top;\n",
       "    }\n",
       "\n",
       "    .dataframe thead th {\n",
       "        text-align: right;\n",
       "    }\n",
       "</style>\n",
       "<table border=\"1\" class=\"dataframe\">\n",
       "  <thead>\n",
       "    <tr style=\"text-align: right;\">\n",
       "      <th></th>\n",
       "      <th>Volume</th>\n",
       "      <th>Folios</th>\n",
       "      <th>Order</th>\n",
       "      <th>Date written on the document</th>\n",
       "      <th>Modern Date</th>\n",
       "      <th>Sender</th>\n",
       "      <th>Sender Place</th>\n",
       "      <th>Recipient</th>\n",
       "      <th>Notes</th>\n",
       "    </tr>\n",
       "  </thead>\n",
       "  <tbody>\n",
       "    <tr>\n",
       "      <th>110</th>\n",
       "      <td>2976</td>\n",
       "      <td>282,287</td>\n",
       "      <td>NaN</td>\n",
       "      <td>13/05/1564</td>\n",
       "      <td>13/05/1564</td>\n",
       "      <td>Bartoli Cosimo</td>\n",
       "      <td>Venezia</td>\n",
       "      <td>Concino Bartolomeo</td>\n",
       "      <td>NaN</td>\n",
       "    </tr>\n",
       "    <tr>\n",
       "      <th>111</th>\n",
       "      <td>2976</td>\n",
       "      <td>283.286 284.285</td>\n",
       "      <td>283,284,285,286</td>\n",
       "      <td>13/05/1564</td>\n",
       "      <td>13/05/1564</td>\n",
       "      <td>Bartoli Cosimo</td>\n",
       "      <td>Venezia</td>\n",
       "      <td>Francesco I de' Medici</td>\n",
       "      <td>NaN</td>\n",
       "    </tr>\n",
       "    <tr>\n",
       "      <th>114</th>\n",
       "      <td>2976</td>\n",
       "      <td>293,294</td>\n",
       "      <td>NaN</td>\n",
       "      <td>20/05/1564</td>\n",
       "      <td>20/05/1564</td>\n",
       "      <td>Bartoli Cosimo</td>\n",
       "      <td>Venezia</td>\n",
       "      <td>Cosimo I de' Medici</td>\n",
       "      <td>NaN</td>\n",
       "    </tr>\n",
       "    <tr>\n",
       "      <th>115</th>\n",
       "      <td>2976</td>\n",
       "      <td>295,307</td>\n",
       "      <td>NaN</td>\n",
       "      <td>27/05/1564</td>\n",
       "      <td>27/05/1564</td>\n",
       "      <td>Bartoli Cosimo</td>\n",
       "      <td>Venezia</td>\n",
       "      <td>Cosimo I de' Medici</td>\n",
       "      <td>NaN</td>\n",
       "    </tr>\n",
       "    <tr>\n",
       "      <th>116</th>\n",
       "      <td>2976</td>\n",
       "      <td>296.306 297.305</td>\n",
       "      <td>NaN</td>\n",
       "      <td>27/05/1564</td>\n",
       "      <td>27/05/1564</td>\n",
       "      <td>Bartoli Cosimo</td>\n",
       "      <td>Venezia</td>\n",
       "      <td>Francesco I de' Medici</td>\n",
       "      <td>NaN</td>\n",
       "    </tr>\n",
       "    <tr>\n",
       "      <th>117</th>\n",
       "      <td>2976</td>\n",
       "      <td>298,299</td>\n",
       "      <td>NaN</td>\n",
       "      <td>03/06/1564</td>\n",
       "      <td>03/06/1564</td>\n",
       "      <td>Bartoli Cosimo</td>\n",
       "      <td>Venezia</td>\n",
       "      <td>NaN</td>\n",
       "      <td>Manca la carta più esterna con scritto il dest...</td>\n",
       "    </tr>\n",
       "    <tr>\n",
       "      <th>119</th>\n",
       "      <td>2976</td>\n",
       "      <td>301,304</td>\n",
       "      <td>NaN</td>\n",
       "      <td>30/09/1564</td>\n",
       "      <td>30/09/1564</td>\n",
       "      <td>Bartoli Cosimo</td>\n",
       "      <td>Venezia</td>\n",
       "      <td>Cosimo I de' Medici</td>\n",
       "      <td>NaN</td>\n",
       "    </tr>\n",
       "    <tr>\n",
       "      <th>120</th>\n",
       "      <td>2976</td>\n",
       "      <td>302,303</td>\n",
       "      <td>NaN</td>\n",
       "      <td>14/10/1564</td>\n",
       "      <td>14/10/1564</td>\n",
       "      <td>Bartoli Cosimo</td>\n",
       "      <td>Venezia</td>\n",
       "      <td>NaN</td>\n",
       "      <td>Manca la carta più esterna con scritto il dest...</td>\n",
       "    </tr>\n",
       "    <tr>\n",
       "      <th>121</th>\n",
       "      <td>2976</td>\n",
       "      <td>311,316</td>\n",
       "      <td>NaN</td>\n",
       "      <td>29/11/1564</td>\n",
       "      <td>29/11/1564</td>\n",
       "      <td>Bartoli Cosimo</td>\n",
       "      <td>Venezia</td>\n",
       "      <td>Cosimo I de' Medici</td>\n",
       "      <td>NaN</td>\n",
       "    </tr>\n",
       "    <tr>\n",
       "      <th>122</th>\n",
       "      <td>2976</td>\n",
       "      <td>312,315</td>\n",
       "      <td>NaN</td>\n",
       "      <td>04/12/1564</td>\n",
       "      <td>04/12/1564</td>\n",
       "      <td>Bartoli Cosimo</td>\n",
       "      <td>Venezia</td>\n",
       "      <td>Cosimo I de' Medici</td>\n",
       "      <td>NaN</td>\n",
       "    </tr>\n",
       "    <tr>\n",
       "      <th>123</th>\n",
       "      <td>2976</td>\n",
       "      <td>313,314</td>\n",
       "      <td>NaN</td>\n",
       "      <td>06/12/1564</td>\n",
       "      <td>06/12/1564</td>\n",
       "      <td>Bartoli Cosimo</td>\n",
       "      <td>Venezia</td>\n",
       "      <td>Francesco I de' Medici</td>\n",
       "      <td>Manca la carta più esterna con il destinatario...</td>\n",
       "    </tr>\n",
       "    <tr>\n",
       "      <th>124</th>\n",
       "      <td>2976</td>\n",
       "      <td>317,318</td>\n",
       "      <td>NaN</td>\n",
       "      <td>13/12/1564</td>\n",
       "      <td>13/12/1564</td>\n",
       "      <td>Bartoli Cosimo</td>\n",
       "      <td>[Venezia]</td>\n",
       "      <td>Francesco I de' Medici</td>\n",
       "      <td>Non è scritto il luogo da cui scrive Bartoli, ...</td>\n",
       "    </tr>\n",
       "    <tr>\n",
       "      <th>127</th>\n",
       "      <td>2976</td>\n",
       "      <td>323,332</td>\n",
       "      <td>NaN</td>\n",
       "      <td>22/09/1565</td>\n",
       "      <td>22/09/1565</td>\n",
       "      <td>Bartoli Cosimo</td>\n",
       "      <td>Venezia</td>\n",
       "      <td>Cosimo I de' Medici</td>\n",
       "      <td>NaN</td>\n",
       "    </tr>\n",
       "    <tr>\n",
       "      <th>129</th>\n",
       "      <td>2976</td>\n",
       "      <td>326,329</td>\n",
       "      <td>NaN</td>\n",
       "      <td>13/10/1565</td>\n",
       "      <td>13/10/1565</td>\n",
       "      <td>Bartoli Cosimo</td>\n",
       "      <td>Venezia</td>\n",
       "      <td>Cosimo I de' Medici</td>\n",
       "      <td>NaN</td>\n",
       "    </tr>\n",
       "    <tr>\n",
       "      <th>131</th>\n",
       "      <td>2976</td>\n",
       "      <td>333,357</td>\n",
       "      <td>NaN</td>\n",
       "      <td>20/10/1565</td>\n",
       "      <td>20/10/1565</td>\n",
       "      <td>Bartoli Cosimo</td>\n",
       "      <td>Venezia</td>\n",
       "      <td>Cosimo I de' Medici</td>\n",
       "      <td>NaN</td>\n",
       "    </tr>\n",
       "    <tr>\n",
       "      <th>135</th>\n",
       "      <td>2976</td>\n",
       "      <td>340,341</td>\n",
       "      <td>NaN</td>\n",
       "      <td>27/10/1565</td>\n",
       "      <td>27/10/1565</td>\n",
       "      <td>Bartoli Cosimo</td>\n",
       "      <td>Venezia</td>\n",
       "      <td>NaN</td>\n",
       "      <td>Manca la carta più esterna con scritto il dest...</td>\n",
       "    </tr>\n",
       "    <tr>\n",
       "      <th>136</th>\n",
       "      <td>2976</td>\n",
       "      <td>342,355</td>\n",
       "      <td>NaN</td>\n",
       "      <td>03/11/1565</td>\n",
       "      <td>03/11/1565</td>\n",
       "      <td>Bartoli Cosimo</td>\n",
       "      <td>Venezia</td>\n",
       "      <td>Cosimo I de' Medici</td>\n",
       "      <td>NaN</td>\n",
       "    </tr>\n",
       "    <tr>\n",
       "      <th>137</th>\n",
       "      <td>2976</td>\n",
       "      <td>343,350</td>\n",
       "      <td>NaN</td>\n",
       "      <td>10/11/1565</td>\n",
       "      <td>10/11/1565</td>\n",
       "      <td>Bartoli Cosimo</td>\n",
       "      <td>Venezia</td>\n",
       "      <td>Cosimo I de' Medici</td>\n",
       "      <td>NaN</td>\n",
       "    </tr>\n",
       "    <tr>\n",
       "      <th>138</th>\n",
       "      <td>2976</td>\n",
       "      <td>344,349</td>\n",
       "      <td>NaN</td>\n",
       "      <td>24/11/1565</td>\n",
       "      <td>24/11/1565</td>\n",
       "      <td>Bartoli Cosimo</td>\n",
       "      <td>Venezia</td>\n",
       "      <td>Cosimo I de' Medici</td>\n",
       "      <td>NaN</td>\n",
       "    </tr>\n",
       "    <tr>\n",
       "      <th>141</th>\n",
       "      <td>2976</td>\n",
       "      <td>351,354</td>\n",
       "      <td>NaN</td>\n",
       "      <td>07/12/1565</td>\n",
       "      <td>07/12/1565</td>\n",
       "      <td>Bartoli Cosimo</td>\n",
       "      <td>Venezia</td>\n",
       "      <td>Francesco I de' Medici</td>\n",
       "      <td>NaN</td>\n",
       "    </tr>\n",
       "  </tbody>\n",
       "</table>\n",
       "</div>"
      ],
      "text/plain": [
       "     Volume           Folios            Order Date written on the document  \\\n",
       "110    2976          282,287              NaN                   13/05/1564   \n",
       "111    2976  283.286 284.285  283,284,285,286                   13/05/1564   \n",
       "114    2976          293,294              NaN                   20/05/1564   \n",
       "115    2976          295,307              NaN                   27/05/1564   \n",
       "116    2976  296.306 297.305              NaN                   27/05/1564   \n",
       "117    2976          298,299              NaN                   03/06/1564   \n",
       "119    2976          301,304              NaN                   30/09/1564   \n",
       "120    2976          302,303              NaN                   14/10/1564   \n",
       "121    2976          311,316              NaN                   29/11/1564   \n",
       "122    2976          312,315              NaN                   04/12/1564   \n",
       "123    2976          313,314              NaN                   06/12/1564   \n",
       "124    2976          317,318              NaN                   13/12/1564   \n",
       "127    2976          323,332              NaN                   22/09/1565   \n",
       "129    2976          326,329              NaN                   13/10/1565   \n",
       "131    2976          333,357              NaN                   20/10/1565   \n",
       "135    2976          340,341              NaN                   27/10/1565   \n",
       "136    2976          342,355              NaN                   03/11/1565   \n",
       "137    2976          343,350              NaN                   10/11/1565   \n",
       "138    2976          344,349              NaN                   24/11/1565   \n",
       "141    2976          351,354              NaN                   07/12/1565   \n",
       "\n",
       "    Modern Date          Sender Sender Place               Recipient  \\\n",
       "110  13/05/1564  Bartoli Cosimo      Venezia      Concino Bartolomeo   \n",
       "111  13/05/1564  Bartoli Cosimo      Venezia  Francesco I de' Medici   \n",
       "114  20/05/1564  Bartoli Cosimo      Venezia     Cosimo I de' Medici   \n",
       "115  27/05/1564  Bartoli Cosimo      Venezia     Cosimo I de' Medici   \n",
       "116  27/05/1564  Bartoli Cosimo      Venezia  Francesco I de' Medici   \n",
       "117  03/06/1564  Bartoli Cosimo      Venezia                     NaN   \n",
       "119  30/09/1564  Bartoli Cosimo      Venezia     Cosimo I de' Medici   \n",
       "120  14/10/1564  Bartoli Cosimo      Venezia                     NaN   \n",
       "121  29/11/1564  Bartoli Cosimo      Venezia     Cosimo I de' Medici   \n",
       "122  04/12/1564  Bartoli Cosimo      Venezia     Cosimo I de' Medici   \n",
       "123  06/12/1564  Bartoli Cosimo      Venezia  Francesco I de' Medici   \n",
       "124  13/12/1564  Bartoli Cosimo    [Venezia]  Francesco I de' Medici   \n",
       "127  22/09/1565  Bartoli Cosimo      Venezia     Cosimo I de' Medici   \n",
       "129  13/10/1565  Bartoli Cosimo      Venezia     Cosimo I de' Medici   \n",
       "131  20/10/1565  Bartoli Cosimo      Venezia     Cosimo I de' Medici   \n",
       "135  27/10/1565  Bartoli Cosimo      Venezia                     NaN   \n",
       "136  03/11/1565  Bartoli Cosimo      Venezia     Cosimo I de' Medici   \n",
       "137  10/11/1565  Bartoli Cosimo      Venezia     Cosimo I de' Medici   \n",
       "138  24/11/1565  Bartoli Cosimo      Venezia     Cosimo I de' Medici   \n",
       "141  07/12/1565  Bartoli Cosimo      Venezia  Francesco I de' Medici   \n",
       "\n",
       "                                                 Notes  \n",
       "110                                                NaN  \n",
       "111                                                NaN  \n",
       "114                                                NaN  \n",
       "115                                                NaN  \n",
       "116                                                NaN  \n",
       "117  Manca la carta più esterna con scritto il dest...  \n",
       "119                                                NaN  \n",
       "120  Manca la carta più esterna con scritto il dest...  \n",
       "121                                                NaN  \n",
       "122                                                NaN  \n",
       "123  Manca la carta più esterna con il destinatario...  \n",
       "124  Non è scritto il luogo da cui scrive Bartoli, ...  \n",
       "127                                                NaN  \n",
       "129                                                NaN  \n",
       "131                                                NaN  \n",
       "135  Manca la carta più esterna con scritto il dest...  \n",
       "136                                                NaN  \n",
       "137                                                NaN  \n",
       "138                                                NaN  \n",
       "141                                                NaN  "
      ]
     },
     "execution_count": 23,
     "metadata": {},
     "output_type": "execute_result"
    }
   ],
   "source": [
    "bartoli[_filter_Bartoli].tail(20)\n"
   ]
  },
  {
   "cell_type": "code",
   "execution_count": 25,
   "metadata": {},
   "outputs": [
    {
     "ename": "OutOfBoundsDatetime",
     "evalue": "Out of bounds nanosecond timestamp: 1563-01-07 00:00:00",
     "output_type": "error",
     "traceback": [
      "\u001b[0;31m---------------------------------------------------------------------------\u001b[0m",
      "\u001b[0;31mTypeError\u001b[0m                                 Traceback (most recent call last)",
      "\u001b[0;32m~/opt/anaconda3/envs/intervals_dev/lib/python3.8/site-packages/pandas/core/tools/datetimes.py\u001b[0m in \u001b[0;36m_convert_listlike_datetimes\u001b[0;34m(arg, format, name, tz, unit, errors, infer_datetime_format, dayfirst, yearfirst, exact)\u001b[0m\n\u001b[1;32m    455\u001b[0m             \u001b[0;32mtry\u001b[0m\u001b[0;34m:\u001b[0m\u001b[0;34m\u001b[0m\u001b[0;34m\u001b[0m\u001b[0m\n\u001b[0;32m--> 456\u001b[0;31m                 \u001b[0mvalues\u001b[0m\u001b[0;34m,\u001b[0m \u001b[0mtz\u001b[0m \u001b[0;34m=\u001b[0m \u001b[0mconversion\u001b[0m\u001b[0;34m.\u001b[0m\u001b[0mdatetime_to_datetime64\u001b[0m\u001b[0;34m(\u001b[0m\u001b[0marg\u001b[0m\u001b[0;34m)\u001b[0m\u001b[0;34m\u001b[0m\u001b[0;34m\u001b[0m\u001b[0m\n\u001b[0m\u001b[1;32m    457\u001b[0m                 \u001b[0mdta\u001b[0m \u001b[0;34m=\u001b[0m \u001b[0mDatetimeArray\u001b[0m\u001b[0;34m(\u001b[0m\u001b[0mvalues\u001b[0m\u001b[0;34m,\u001b[0m \u001b[0mdtype\u001b[0m\u001b[0;34m=\u001b[0m\u001b[0mtz_to_dtype\u001b[0m\u001b[0;34m(\u001b[0m\u001b[0mtz\u001b[0m\u001b[0;34m)\u001b[0m\u001b[0;34m)\u001b[0m\u001b[0;34m\u001b[0m\u001b[0;34m\u001b[0m\u001b[0m\n",
      "\u001b[0;32mpandas/_libs/tslibs/conversion.pyx\u001b[0m in \u001b[0;36mpandas._libs.tslibs.conversion.datetime_to_datetime64\u001b[0;34m()\u001b[0m\n",
      "\u001b[0;31mTypeError\u001b[0m: Unrecognized value type: <class 'str'>",
      "\nDuring handling of the above exception, another exception occurred:\n",
      "\u001b[0;31mOutOfBoundsDatetime\u001b[0m                       Traceback (most recent call last)",
      "\u001b[0;32m/var/folders/k5/k4j_550s2yq5776vgmw6r_xr0000gp/T/ipykernel_18988/3881395470.py\u001b[0m in \u001b[0;36m<module>\u001b[0;34m\u001b[0m\n\u001b[0;32m----> 1\u001b[0;31m \u001b[0mpd\u001b[0m\u001b[0;34m.\u001b[0m\u001b[0mto_datetime\u001b[0m\u001b[0;34m(\u001b[0m\u001b[0mbartoli\u001b[0m\u001b[0;34m[\u001b[0m\u001b[0;34m'Modern Date'\u001b[0m\u001b[0;34m]\u001b[0m\u001b[0;34m,\u001b[0m \u001b[0mformat\u001b[0m\u001b[0;34m=\u001b[0m\u001b[0;34m'%d/%m/%Y'\u001b[0m\u001b[0;34m)\u001b[0m\u001b[0;34m\u001b[0m\u001b[0;34m\u001b[0m\u001b[0m\n\u001b[0m",
      "\u001b[0;32m~/opt/anaconda3/envs/intervals_dev/lib/python3.8/site-packages/pandas/core/tools/datetimes.py\u001b[0m in \u001b[0;36mto_datetime\u001b[0;34m(arg, errors, dayfirst, yearfirst, utc, format, exact, unit, infer_datetime_format, origin, cache)\u001b[0m\n\u001b[1;32m    803\u001b[0m             \u001b[0mresult\u001b[0m \u001b[0;34m=\u001b[0m \u001b[0marg\u001b[0m\u001b[0;34m.\u001b[0m\u001b[0mmap\u001b[0m\u001b[0;34m(\u001b[0m\u001b[0mcache_array\u001b[0m\u001b[0;34m)\u001b[0m\u001b[0;34m\u001b[0m\u001b[0;34m\u001b[0m\u001b[0m\n\u001b[1;32m    804\u001b[0m         \u001b[0;32melse\u001b[0m\u001b[0;34m:\u001b[0m\u001b[0;34m\u001b[0m\u001b[0;34m\u001b[0m\u001b[0m\n\u001b[0;32m--> 805\u001b[0;31m             \u001b[0mvalues\u001b[0m \u001b[0;34m=\u001b[0m \u001b[0mconvert_listlike\u001b[0m\u001b[0;34m(\u001b[0m\u001b[0marg\u001b[0m\u001b[0;34m.\u001b[0m\u001b[0m_values\u001b[0m\u001b[0;34m,\u001b[0m \u001b[0mformat\u001b[0m\u001b[0;34m)\u001b[0m\u001b[0;34m\u001b[0m\u001b[0;34m\u001b[0m\u001b[0m\n\u001b[0m\u001b[1;32m    806\u001b[0m             \u001b[0mresult\u001b[0m \u001b[0;34m=\u001b[0m \u001b[0marg\u001b[0m\u001b[0;34m.\u001b[0m\u001b[0m_constructor\u001b[0m\u001b[0;34m(\u001b[0m\u001b[0mvalues\u001b[0m\u001b[0;34m,\u001b[0m \u001b[0mindex\u001b[0m\u001b[0;34m=\u001b[0m\u001b[0marg\u001b[0m\u001b[0;34m.\u001b[0m\u001b[0mindex\u001b[0m\u001b[0;34m,\u001b[0m \u001b[0mname\u001b[0m\u001b[0;34m=\u001b[0m\u001b[0marg\u001b[0m\u001b[0;34m.\u001b[0m\u001b[0mname\u001b[0m\u001b[0;34m)\u001b[0m\u001b[0;34m\u001b[0m\u001b[0;34m\u001b[0m\u001b[0m\n\u001b[1;32m    807\u001b[0m     \u001b[0;32melif\u001b[0m \u001b[0misinstance\u001b[0m\u001b[0;34m(\u001b[0m\u001b[0marg\u001b[0m\u001b[0;34m,\u001b[0m \u001b[0;34m(\u001b[0m\u001b[0mABCDataFrame\u001b[0m\u001b[0;34m,\u001b[0m \u001b[0mabc\u001b[0m\u001b[0;34m.\u001b[0m\u001b[0mMutableMapping\u001b[0m\u001b[0;34m)\u001b[0m\u001b[0;34m)\u001b[0m\u001b[0;34m:\u001b[0m\u001b[0;34m\u001b[0m\u001b[0;34m\u001b[0m\u001b[0m\n",
      "\u001b[0;32m~/opt/anaconda3/envs/intervals_dev/lib/python3.8/site-packages/pandas/core/tools/datetimes.py\u001b[0m in \u001b[0;36m_convert_listlike_datetimes\u001b[0;34m(arg, format, name, tz, unit, errors, infer_datetime_format, dayfirst, yearfirst, exact)\u001b[0m\n\u001b[1;32m    458\u001b[0m                 \u001b[0;32mreturn\u001b[0m \u001b[0mDatetimeIndex\u001b[0m\u001b[0;34m.\u001b[0m\u001b[0m_simple_new\u001b[0m\u001b[0;34m(\u001b[0m\u001b[0mdta\u001b[0m\u001b[0;34m,\u001b[0m \u001b[0mname\u001b[0m\u001b[0;34m=\u001b[0m\u001b[0mname\u001b[0m\u001b[0;34m)\u001b[0m\u001b[0;34m\u001b[0m\u001b[0;34m\u001b[0m\u001b[0m\n\u001b[1;32m    459\u001b[0m             \u001b[0;32mexcept\u001b[0m \u001b[0;34m(\u001b[0m\u001b[0mValueError\u001b[0m\u001b[0;34m,\u001b[0m \u001b[0mTypeError\u001b[0m\u001b[0;34m)\u001b[0m\u001b[0;34m:\u001b[0m\u001b[0;34m\u001b[0m\u001b[0;34m\u001b[0m\u001b[0m\n\u001b[0;32m--> 460\u001b[0;31m                 \u001b[0;32mraise\u001b[0m \u001b[0me\u001b[0m\u001b[0;34m\u001b[0m\u001b[0;34m\u001b[0m\u001b[0m\n\u001b[0m\u001b[1;32m    461\u001b[0m \u001b[0;34m\u001b[0m\u001b[0m\n\u001b[1;32m    462\u001b[0m     \u001b[0;32mif\u001b[0m \u001b[0mresult\u001b[0m \u001b[0;32mis\u001b[0m \u001b[0;32mNone\u001b[0m\u001b[0;34m:\u001b[0m\u001b[0;34m\u001b[0m\u001b[0;34m\u001b[0m\u001b[0m\n",
      "\u001b[0;32m~/opt/anaconda3/envs/intervals_dev/lib/python3.8/site-packages/pandas/core/tools/datetimes.py\u001b[0m in \u001b[0;36m_convert_listlike_datetimes\u001b[0;34m(arg, format, name, tz, unit, errors, infer_datetime_format, dayfirst, yearfirst, exact)\u001b[0m\n\u001b[1;32m    421\u001b[0m             \u001b[0;32mif\u001b[0m \u001b[0mresult\u001b[0m \u001b[0;32mis\u001b[0m \u001b[0;32mNone\u001b[0m\u001b[0;34m:\u001b[0m\u001b[0;34m\u001b[0m\u001b[0;34m\u001b[0m\u001b[0m\n\u001b[1;32m    422\u001b[0m                 \u001b[0;32mtry\u001b[0m\u001b[0;34m:\u001b[0m\u001b[0;34m\u001b[0m\u001b[0;34m\u001b[0m\u001b[0m\n\u001b[0;32m--> 423\u001b[0;31m                     result, timezones = array_strptime(\n\u001b[0m\u001b[1;32m    424\u001b[0m                         \u001b[0marg\u001b[0m\u001b[0;34m,\u001b[0m \u001b[0mformat\u001b[0m\u001b[0;34m,\u001b[0m \u001b[0mexact\u001b[0m\u001b[0;34m=\u001b[0m\u001b[0mexact\u001b[0m\u001b[0;34m,\u001b[0m \u001b[0merrors\u001b[0m\u001b[0;34m=\u001b[0m\u001b[0merrors\u001b[0m\u001b[0;34m\u001b[0m\u001b[0;34m\u001b[0m\u001b[0m\n\u001b[1;32m    425\u001b[0m                     )\n",
      "\u001b[0;32mpandas/_libs/tslibs/strptime.pyx\u001b[0m in \u001b[0;36mpandas._libs.tslibs.strptime.array_strptime\u001b[0;34m()\u001b[0m\n",
      "\u001b[0;32mpandas/_libs/tslibs/strptime.pyx\u001b[0m in \u001b[0;36mpandas._libs.tslibs.strptime.array_strptime\u001b[0;34m()\u001b[0m\n",
      "\u001b[0;32mpandas/_libs/tslibs/np_datetime.pyx\u001b[0m in \u001b[0;36mpandas._libs.tslibs.np_datetime.check_dts_bounds\u001b[0;34m()\u001b[0m\n",
      "\u001b[0;31mOutOfBoundsDatetime\u001b[0m: Out of bounds nanosecond timestamp: 1563-01-07 00:00:00"
     ]
    }
   ],
   "source": [
    "pd.to_datetime(bartoli['Modern Date'], format='%d/%m/%Y')"
   ]
  },
  {
   "cell_type": "code",
   "execution_count": 41,
   "metadata": {},
   "outputs": [
    {
     "data": {
      "text/plain": [
       "array([\"Cosimo I de' Medici\", 'Concino Bartolomeo',\n",
       "       \"[Cosimo I de' Medici]\", 'Orlandi Francesco',\n",
       "       \"Francesco I de' Medici\", nan], dtype=object)"
      ]
     },
     "execution_count": 41,
     "metadata": {},
     "output_type": "execute_result"
    }
   ],
   "source": [
    "bartoli['Recipient'].unique()"
   ]
  },
  {
   "cell_type": "code",
   "execution_count": 46,
   "metadata": {},
   "outputs": [],
   "source": [
    "bartoli['clean_recipients'] = bartoli['Recipient'].str.strip('[]')"
   ]
  },
  {
   "cell_type": "code",
   "execution_count": 48,
   "metadata": {},
   "outputs": [
    {
     "data": {
      "text/plain": [
       "Cosimo I de' Medici       97\n",
       "Francesco I de' Medici    14\n",
       "Concino Bartolomeo         8\n",
       "Orlandi Francesco          1\n",
       "Name: clean_recipients, dtype: int64"
      ]
     },
     "execution_count": 48,
     "metadata": {},
     "output_type": "execute_result"
    }
   ],
   "source": [
    "bartoli['clean_recipients'].value_counts()"
   ]
  },
  {
   "cell_type": "markdown",
   "metadata": {},
   "source": [
    "## H.  Itineraries Data and Network"
   ]
  },
  {
   "cell_type": "code",
   "execution_count": 4,
   "metadata": {},
   "outputs": [],
   "source": [
    "itineraries = pd.read_csv('https://raw.githubusercontent.com/rmidura/emdigit/main/Edge_Table.tsv', sep='\\t')"
   ]
  },
  {
   "cell_type": "code",
   "execution_count": 6,
   "metadata": {},
   "outputs": [
    {
     "data": {
      "text/html": [
       "<div>\n",
       "<style scoped>\n",
       "    .dataframe tbody tr th:only-of-type {\n",
       "        vertical-align: middle;\n",
       "    }\n",
       "\n",
       "    .dataframe tbody tr th {\n",
       "        vertical-align: top;\n",
       "    }\n",
       "\n",
       "    .dataframe thead th {\n",
       "        text-align: right;\n",
       "    }\n",
       "</style>\n",
       "<table border=\"1\" class=\"dataframe\">\n",
       "  <thead>\n",
       "    <tr style=\"text-align: right;\">\n",
       "      <th></th>\n",
       "      <th>Edge_ID</th>\n",
       "      <th>Route_ID</th>\n",
       "      <th>Source</th>\n",
       "      <th>Target</th>\n",
       "      <th>Seq_Idx</th>\n",
       "      <th>Comb_Route</th>\n",
       "      <th>Edge_Type_Last_Date</th>\n",
       "      <th>Edge_Type_First_Date</th>\n",
       "      <th>Duration</th>\n",
       "    </tr>\n",
       "  </thead>\n",
       "  <tbody>\n",
       "    <tr>\n",
       "      <th>0</th>\n",
       "      <td>1</td>\n",
       "      <td>1</td>\n",
       "      <td>1</td>\n",
       "      <td>234</td>\n",
       "      <td>0</td>\n",
       "      <td>1;234</td>\n",
       "      <td>1545</td>\n",
       "      <td>1545</td>\n",
       "      <td>0</td>\n",
       "    </tr>\n",
       "    <tr>\n",
       "      <th>1</th>\n",
       "      <td>3</td>\n",
       "      <td>2</td>\n",
       "      <td>3</td>\n",
       "      <td>984</td>\n",
       "      <td>0</td>\n",
       "      <td>3;1035;70;162;984</td>\n",
       "      <td>1720</td>\n",
       "      <td>1720</td>\n",
       "      <td>0</td>\n",
       "    </tr>\n",
       "    <tr>\n",
       "      <th>2</th>\n",
       "      <td>4</td>\n",
       "      <td>2</td>\n",
       "      <td>3</td>\n",
       "      <td>1035</td>\n",
       "      <td>1</td>\n",
       "      <td>3;1035;70;162;984</td>\n",
       "      <td>1720</td>\n",
       "      <td>1720</td>\n",
       "      <td>0</td>\n",
       "    </tr>\n",
       "    <tr>\n",
       "      <th>3</th>\n",
       "      <td>5</td>\n",
       "      <td>2</td>\n",
       "      <td>1035</td>\n",
       "      <td>70</td>\n",
       "      <td>2</td>\n",
       "      <td>3;1035;70;162;984</td>\n",
       "      <td>1720</td>\n",
       "      <td>1720</td>\n",
       "      <td>0</td>\n",
       "    </tr>\n",
       "    <tr>\n",
       "      <th>4</th>\n",
       "      <td>6</td>\n",
       "      <td>2</td>\n",
       "      <td>70</td>\n",
       "      <td>162</td>\n",
       "      <td>3</td>\n",
       "      <td>3;1035;70;162;984</td>\n",
       "      <td>1720</td>\n",
       "      <td>1720</td>\n",
       "      <td>0</td>\n",
       "    </tr>\n",
       "  </tbody>\n",
       "</table>\n",
       "</div>"
      ],
      "text/plain": [
       "   Edge_ID  Route_ID  Source  Target  Seq_Idx         Comb_Route  \\\n",
       "0        1         1       1     234        0              1;234   \n",
       "1        3         2       3     984        0  3;1035;70;162;984   \n",
       "2        4         2       3    1035        1  3;1035;70;162;984   \n",
       "3        5         2    1035      70        2  3;1035;70;162;984   \n",
       "4        6         2      70     162        3  3;1035;70;162;984   \n",
       "\n",
       "   Edge_Type_Last_Date  Edge_Type_First_Date  Duration  \n",
       "0                 1545                  1545         0  \n",
       "1                 1720                  1720         0  \n",
       "2                 1720                  1720         0  \n",
       "3                 1720                  1720         0  \n",
       "4                 1720                  1720         0  "
      ]
     },
     "execution_count": 6,
     "metadata": {},
     "output_type": "execute_result"
    }
   ],
   "source": [
    "itineraries.head['Edge_Type_Last_Date']"
   ]
  },
  {
   "cell_type": "markdown",
   "metadata": {},
   "source": [
    "### use tab for autocomplete"
   ]
  },
  {
   "cell_type": "code",
   "execution_count": 8,
   "metadata": {},
   "outputs": [],
   "source": [
    "edges = list(zip(itineraries['Source'],itineraries['Target']))"
   ]
  },
  {
   "cell_type": "code",
   "execution_count": 9,
   "metadata": {},
   "outputs": [],
   "source": [
    "G = nx.Graph()"
   ]
  },
  {
   "cell_type": "code",
   "execution_count": 10,
   "metadata": {},
   "outputs": [],
   "source": [
    "G.add_edges_from(edges)"
   ]
  },
  {
   "cell_type": "code",
   "execution_count": 12,
   "metadata": {},
   "outputs": [],
   "source": [
    "import pyvis"
   ]
  },
  {
   "cell_type": "code",
   "execution_count": 13,
   "metadata": {},
   "outputs": [],
   "source": [
    "pyvis_graph = pyvis.network.Network(notebook=True, height='900px', width='900px')"
   ]
  },
  {
   "cell_type": "code",
   "execution_count": 14,
   "metadata": {},
   "outputs": [],
   "source": [
    "pyvis_graph.from_nx(G)"
   ]
  },
  {
   "cell_type": "code",
   "execution_count": 16,
   "metadata": {},
   "outputs": [
    {
     "data": {
      "text/html": [
       "\n",
       "        <iframe\n",
       "            width=\"500px\"\n",
       "            height=\"500px\"\n",
       "            src=\"our_graph.html\"\n",
       "            frameborder=\"0\"\n",
       "            allowfullscreen\n",
       "        ></iframe>\n",
       "        "
      ],
      "text/plain": [
       "<IPython.lib.display.IFrame at 0x7f93ee99cca0>"
      ]
     },
     "execution_count": 16,
     "metadata": {},
     "output_type": "execute_result"
    }
   ],
   "source": [
    "pyvis_graph.show('our_graph.html')"
   ]
  },
  {
   "cell_type": "markdown",
   "metadata": {},
   "source": [
    "## I. Compagnie Data From Laura Blom"
   ]
  },
  {
   "cell_type": "code",
   "execution_count": 9,
   "metadata": {},
   "outputs": [],
   "source": [
    "compagnie = pd.read_csv(compagnie_data)\n"
   ]
  },
  {
   "cell_type": "code",
   "execution_count": 12,
   "metadata": {},
   "outputs": [
    {
     "data": {
      "text/plain": [
       "(24, 7)"
      ]
     },
     "execution_count": 12,
     "metadata": {},
     "output_type": "execute_result"
    }
   ],
   "source": [
    "compagnie.shape"
   ]
  },
  {
   "cell_type": "code",
   "execution_count": null,
   "metadata": {},
   "outputs": [],
   "source": []
  }
 ],
 "metadata": {
  "colab": {
   "name": "DDL_2022_Pandas_Jupyter.ipynb",
   "provenance": []
  },
  "kernelspec": {
   "display_name": "Python 3",
   "language": "python",
   "name": "python3"
  },
  "language_info": {
   "codemirror_mode": {
    "name": "ipython",
    "version": 3
   },
   "file_extension": ".py",
   "mimetype": "text/x-python",
   "name": "python",
   "nbconvert_exporter": "python",
   "pygments_lexer": "ipython3",
   "version": "3.8.5"
  },
  "toc": {
   "base_numbering": 1,
   "nav_menu": {},
   "number_sections": true,
   "sideBar": true,
   "skip_h1_title": false,
   "title_cell": "Table of Contents",
   "title_sidebar": "Contents",
   "toc_cell": false,
   "toc_position": {},
   "toc_section_display": true,
   "toc_window_display": false
  }
 },
 "nbformat": 4,
 "nbformat_minor": 4
}
